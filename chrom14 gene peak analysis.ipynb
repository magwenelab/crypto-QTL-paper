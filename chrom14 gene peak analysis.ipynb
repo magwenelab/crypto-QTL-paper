{
 "cells": [
  {
   "cell_type": "code",
   "execution_count": 1,
   "metadata": {},
   "outputs": [],
   "source": [
    "## bring in needed mods\n",
    "import pandas as pd, numpy as np, os, subprocess\n",
    "from Bio.Seq import Seq\n",
    "from Bio import SeqIO"
   ]
  },
  {
   "cell_type": "code",
   "execution_count": 2,
   "metadata": {},
   "outputs": [],
   "source": [
    "## Set chromosome of interest\n",
    "chrom = 'Chr14'\n",
    "peak = (355325,421543)"
   ]
  },
  {
   "cell_type": "code",
   "execution_count": 3,
   "metadata": {},
   "outputs": [],
   "source": [
    "chromint = str(int(chrom[-2:]))"
   ]
  },
  {
   "cell_type": "code",
   "execution_count": 4,
   "metadata": {},
   "outputs": [],
   "source": [
    "contigpath = '/Users/croth/Desktop/CRYPTO_QTL/FILES/%s/%s.fasta'%(chrom,chrom)\n",
    "contigrec = [rec for rec in SeqIO.parse(contigpath,contigpath.split('.')[-1])][0]"
   ]
  },
  {
   "cell_type": "code",
   "execution_count": 5,
   "metadata": {},
   "outputs": [
    {
     "data": {
      "text/html": [
       "<div>\n",
       "<style scoped>\n",
       "    .dataframe tbody tr th:only-of-type {\n",
       "        vertical-align: middle;\n",
       "    }\n",
       "\n",
       "    .dataframe tbody tr th {\n",
       "        vertical-align: top;\n",
       "    }\n",
       "\n",
       "    .dataframe thead th {\n",
       "        text-align: right;\n",
       "    }\n",
       "</style>\n",
       "<table border=\"1\" class=\"dataframe\">\n",
       "  <thead>\n",
       "    <tr style=\"text-align: right;\">\n",
       "      <th></th>\n",
       "      <th>Pos</th>\n",
       "      <th>Ref</th>\n",
       "      <th>Alt</th>\n",
       "      <th>Start</th>\n",
       "      <th>End</th>\n",
       "      <th>aStart</th>\n",
       "      <th>aEnd</th>\n",
       "      <th>Subtype</th>\n",
       "      <th>status</th>\n",
       "      <th>invcf</th>\n",
       "      <th>...</th>\n",
       "      <th>SS-B598</th>\n",
       "      <th>SS-B565</th>\n",
       "      <th>SS-B600</th>\n",
       "      <th>SS-B574</th>\n",
       "      <th>SS-B872_Correction</th>\n",
       "      <th>SS-B873_Correction</th>\n",
       "      <th>SS-B360</th>\n",
       "      <th>SS-B397</th>\n",
       "      <th>SS-B564</th>\n",
       "      <th>SS-B382</th>\n",
       "    </tr>\n",
       "  </thead>\n",
       "  <tbody>\n",
       "    <tr>\n",
       "      <th>0</th>\n",
       "      <td>6648</td>\n",
       "      <td>T</td>\n",
       "      <td>G</td>\n",
       "      <td>6647</td>\n",
       "      <td>6648</td>\n",
       "      <td>6647</td>\n",
       "      <td>6648</td>\n",
       "      <td>tv</td>\n",
       "      <td>LOW</td>\n",
       "      <td>CNN00020</td>\n",
       "      <td>...</td>\n",
       "      <td>1.0</td>\n",
       "      <td>0.0</td>\n",
       "      <td>0.0</td>\n",
       "      <td>1.0</td>\n",
       "      <td>1.0</td>\n",
       "      <td>1.0</td>\n",
       "      <td>0.0</td>\n",
       "      <td>0.0</td>\n",
       "      <td>1.0</td>\n",
       "      <td>1.0</td>\n",
       "    </tr>\n",
       "    <tr>\n",
       "      <th>1</th>\n",
       "      <td>24175</td>\n",
       "      <td>C</td>\n",
       "      <td>T</td>\n",
       "      <td>24174</td>\n",
       "      <td>24175</td>\n",
       "      <td>24174</td>\n",
       "      <td>24175</td>\n",
       "      <td>ts</td>\n",
       "      <td>LOW</td>\n",
       "      <td>CNN00070</td>\n",
       "      <td>...</td>\n",
       "      <td>1.0</td>\n",
       "      <td>0.0</td>\n",
       "      <td>0.0</td>\n",
       "      <td>1.0</td>\n",
       "      <td>1.0</td>\n",
       "      <td>1.0</td>\n",
       "      <td>0.0</td>\n",
       "      <td>0.0</td>\n",
       "      <td>1.0</td>\n",
       "      <td>1.0</td>\n",
       "    </tr>\n",
       "    <tr>\n",
       "      <th>2</th>\n",
       "      <td>28073</td>\n",
       "      <td>CA</td>\n",
       "      <td>CG</td>\n",
       "      <td>28072</td>\n",
       "      <td>28074</td>\n",
       "      <td>28073</td>\n",
       "      <td>28074</td>\n",
       "      <td>ins</td>\n",
       "      <td>LOW</td>\n",
       "      <td>CNN00080</td>\n",
       "      <td>...</td>\n",
       "      <td>1.0</td>\n",
       "      <td>0.0</td>\n",
       "      <td>0.0</td>\n",
       "      <td>1.0</td>\n",
       "      <td>1.0</td>\n",
       "      <td>1.0</td>\n",
       "      <td>0.0</td>\n",
       "      <td>0.0</td>\n",
       "      <td>1.0</td>\n",
       "      <td>1.0</td>\n",
       "    </tr>\n",
       "    <tr>\n",
       "      <th>3</th>\n",
       "      <td>28198</td>\n",
       "      <td>TTACA</td>\n",
       "      <td>TTACG</td>\n",
       "      <td>28197</td>\n",
       "      <td>28202</td>\n",
       "      <td>28198</td>\n",
       "      <td>28202</td>\n",
       "      <td>ins</td>\n",
       "      <td>MODIFIER</td>\n",
       "      <td>CNN00070</td>\n",
       "      <td>...</td>\n",
       "      <td>1.0</td>\n",
       "      <td>0.0</td>\n",
       "      <td>0.0</td>\n",
       "      <td>1.0</td>\n",
       "      <td>1.0</td>\n",
       "      <td>1.0</td>\n",
       "      <td>0.0</td>\n",
       "      <td>0.0</td>\n",
       "      <td>1.0</td>\n",
       "      <td>1.0</td>\n",
       "    </tr>\n",
       "    <tr>\n",
       "      <th>4</th>\n",
       "      <td>31161</td>\n",
       "      <td>T</td>\n",
       "      <td>A</td>\n",
       "      <td>31160</td>\n",
       "      <td>31161</td>\n",
       "      <td>31160</td>\n",
       "      <td>31161</td>\n",
       "      <td>tv</td>\n",
       "      <td>MODIFIER</td>\n",
       "      <td>CNN00085</td>\n",
       "      <td>...</td>\n",
       "      <td>1.0</td>\n",
       "      <td>0.0</td>\n",
       "      <td>0.0</td>\n",
       "      <td>1.0</td>\n",
       "      <td>1.0</td>\n",
       "      <td>1.0</td>\n",
       "      <td>0.0</td>\n",
       "      <td>0.0</td>\n",
       "      <td>1.0</td>\n",
       "      <td>1.0</td>\n",
       "    </tr>\n",
       "  </tbody>\n",
       "</table>\n",
       "<p>5 rows × 116 columns</p>\n",
       "</div>"
      ],
      "text/plain": [
       "     Pos    Ref    Alt  Start    End  aStart   aEnd Subtype    status  \\\n",
       "0   6648      T      G   6647   6648    6647   6648      tv       LOW   \n",
       "1  24175      C      T  24174  24175   24174  24175      ts       LOW   \n",
       "2  28073     CA     CG  28072  28074   28073  28074     ins       LOW   \n",
       "3  28198  TTACA  TTACG  28197  28202   28198  28202     ins  MODIFIER   \n",
       "4  31161      T      A  31160  31161   31160  31161      tv  MODIFIER   \n",
       "\n",
       "      invcf   ...    SS-B598 SS-B565  SS-B600  SS-B574  SS-B872_Correction  \\\n",
       "0  CNN00020   ...        1.0     0.0      0.0      1.0                 1.0   \n",
       "1  CNN00070   ...        1.0     0.0      0.0      1.0                 1.0   \n",
       "2  CNN00080   ...        1.0     0.0      0.0      1.0                 1.0   \n",
       "3  CNN00070   ...        1.0     0.0      0.0      1.0                 1.0   \n",
       "4  CNN00085   ...        1.0     0.0      0.0      1.0                 1.0   \n",
       "\n",
       "   SS-B873_Correction  SS-B360  SS-B397  SS-B564  SS-B382  \n",
       "0                 1.0      0.0      0.0      1.0      1.0  \n",
       "1                 1.0      0.0      0.0      1.0      1.0  \n",
       "2                 1.0      0.0      0.0      1.0      1.0  \n",
       "3                 1.0      0.0      0.0      1.0      1.0  \n",
       "4                 1.0      0.0      0.0      1.0      1.0  \n",
       "\n",
       "[5 rows x 116 columns]"
      ]
     },
     "execution_count": 5,
     "metadata": {},
     "output_type": "execute_result"
    }
   ],
   "source": [
    "vardf = pd.read_csv('../FILES/OLD/OCT2018/CDx-ill-SNP-INDEL-CHR%s-df-104.csv'%(chromint),\n",
    "                    index_col=0)\n",
    "vardf.head()"
   ]
  },
  {
   "cell_type": "code",
   "execution_count": 6,
   "metadata": {},
   "outputs": [],
   "source": [
    "#ch_gff_path  ='../FILES/%s/%s_xl280_gff.csv'%(chrom,chrom)\n",
    "gff_path = '../FILES/xl280genome.gff.csv'\n",
    "gff = pd.read_csv(gff_path,index_col=0,header=0)"
   ]
  },
  {
   "cell_type": "code",
   "execution_count": 7,
   "metadata": {},
   "outputs": [
    {
     "data": {
      "text/html": [
       "<div>\n",
       "<style scoped>\n",
       "    .dataframe tbody tr th:only-of-type {\n",
       "        vertical-align: middle;\n",
       "    }\n",
       "\n",
       "    .dataframe tbody tr th {\n",
       "        vertical-align: top;\n",
       "    }\n",
       "\n",
       "    .dataframe thead th {\n",
       "        text-align: right;\n",
       "    }\n",
       "</style>\n",
       "<table border=\"1\" class=\"dataframe\">\n",
       "  <thead>\n",
       "    <tr style=\"text-align: right;\">\n",
       "      <th></th>\n",
       "      <th>type</th>\n",
       "      <th>strand</th>\n",
       "      <th>phase</th>\n",
       "      <th>attribute</th>\n",
       "      <th>gene</th>\n",
       "      <th>start</th>\n",
       "      <th>end</th>\n",
       "      <th>chrom</th>\n",
       "    </tr>\n",
       "  </thead>\n",
       "  <tbody>\n",
       "    <tr>\n",
       "      <th>95304</th>\n",
       "      <td>gene</td>\n",
       "      <td>+</td>\n",
       "      <td>.</td>\n",
       "      <td>ID=CNN00010;description=unspecified product</td>\n",
       "      <td>CNN00010</td>\n",
       "      <td>2481</td>\n",
       "      <td>4297</td>\n",
       "      <td>Chr14</td>\n",
       "    </tr>\n",
       "    <tr>\n",
       "      <th>95305</th>\n",
       "      <td>mRNA</td>\n",
       "      <td>+</td>\n",
       "      <td>.</td>\n",
       "      <td>ID=CNN00010.mRNA;Parent=CNN00010;description=u...</td>\n",
       "      <td>CNN00010</td>\n",
       "      <td>2481</td>\n",
       "      <td>4297</td>\n",
       "      <td>Chr14</td>\n",
       "    </tr>\n",
       "    <tr>\n",
       "      <th>95306</th>\n",
       "      <td>exon</td>\n",
       "      <td>+</td>\n",
       "      <td>.</td>\n",
       "      <td>ID=exon_CNN00010-E1;Parent=CNN00010.mRNA</td>\n",
       "      <td>CNN00010</td>\n",
       "      <td>2481</td>\n",
       "      <td>4297</td>\n",
       "      <td>Chr14</td>\n",
       "    </tr>\n",
       "    <tr>\n",
       "      <th>95307</th>\n",
       "      <td>CDS</td>\n",
       "      <td>+</td>\n",
       "      <td>0</td>\n",
       "      <td>ID=CNN00010.mRNA-p1-CDS1;Parent=CNN00010.mRNA;...</td>\n",
       "      <td>CNN00010</td>\n",
       "      <td>2481</td>\n",
       "      <td>4297</td>\n",
       "      <td>Chr14</td>\n",
       "    </tr>\n",
       "    <tr>\n",
       "      <th>100166</th>\n",
       "      <td>three_prime_UTR</td>\n",
       "      <td>-</td>\n",
       "      <td>.</td>\n",
       "      <td>ID=utr_CNN00020-t26_1_1;Parent=CNN00020-t26_1</td>\n",
       "      <td>CNN00020</td>\n",
       "      <td>5071</td>\n",
       "      <td>5096</td>\n",
       "      <td>Chr14</td>\n",
       "    </tr>\n",
       "  </tbody>\n",
       "</table>\n",
       "</div>"
      ],
      "text/plain": [
       "                   type strand phase  \\\n",
       "95304              gene      +     .   \n",
       "95305              mRNA      +     .   \n",
       "95306              exon      +     .   \n",
       "95307               CDS      +     0   \n",
       "100166  three_prime_UTR      -     .   \n",
       "\n",
       "                                                attribute      gene  start  \\\n",
       "95304         ID=CNN00010;description=unspecified product  CNN00010   2481   \n",
       "95305   ID=CNN00010.mRNA;Parent=CNN00010;description=u...  CNN00010   2481   \n",
       "95306            ID=exon_CNN00010-E1;Parent=CNN00010.mRNA  CNN00010   2481   \n",
       "95307   ID=CNN00010.mRNA-p1-CDS1;Parent=CNN00010.mRNA;...  CNN00010   2481   \n",
       "100166      ID=utr_CNN00020-t26_1_1;Parent=CNN00020-t26_1  CNN00020   5071   \n",
       "\n",
       "         end  chrom  \n",
       "95304   4297  Chr14  \n",
       "95305   4297  Chr14  \n",
       "95306   4297  Chr14  \n",
       "95307   4297  Chr14  \n",
       "100166  5096  Chr14  "
      ]
     },
     "execution_count": 7,
     "metadata": {},
     "output_type": "execute_result"
    }
   ],
   "source": [
    "ch_gff = gff[(gff.xl280_chrom==chrom)].sort_values(by='start')\n",
    "ch_gff.drop(['chrom','start','end'],inplace=True,axis=1)\n",
    "ch_gff.columns = ['type','strand','phase','attribute','gene','start','end','chrom']\n",
    "ch_gff.head()"
   ]
  },
  {
   "cell_type": "code",
   "execution_count": 8,
   "metadata": {},
   "outputs": [],
   "source": [
    "def gff_gene(gene,vardf,gff,sequen,savepath=None,verbose=False):\n",
    "    ggff = gff[(gff.gene==gene)].sort_values(by='start')\n",
    "    gvdf = vardf[(vardf.Pos >= ggff.start.min()) & \n",
    "             (vardf.Pos <= ggff.end.max())][[\n",
    "            'Start','End','Ref','Alt']].copy()\n",
    "    if gvdf.shape[0] == 0:\n",
    "        if verbose:\n",
    "            print(gvdf.shape)\n",
    "            print('No genetic variants in %s'%(gene))\n",
    "        return []\n",
    "    gvdf['Var'] = 1\n",
    "    variant_positions = np.concatenate([np.arange(*a[1][['Start','End']]) \n",
    "                                    for a in gvdf.iterrows()])\n",
    "    non_variant_positions = [a for a in np.arange(ggff.start.min(),ggff.end.max()) \n",
    "                         if a not in variant_positions]\n",
    "    non_variants = [str(sequen[p:p+1]) for p in non_variant_positions]\n",
    "    gnvdf = pd.DataFrame([non_variant_positions,non_variant_positions,\n",
    "                      non_variants,non_variants,\n",
    "                      list(np.zeros(len(non_variant_positions)))],\n",
    "                     index=['Start','End','Ref','Alt','Var']).T\n",
    "    gdf = pd.concat([gvdf,gnvdf]).sort_values(by=['Start','End']).reset_index(drop=True)\n",
    "    gdf['Strand'] = [1 if ggff.strand.unique()[0] == '+' else -1][0]\n",
    "    gdf['Seq'] = 0\n",
    "    gdf['Gene'] = gene\n",
    "    for g in ggff[(ggff.type=='CDS')].iterrows():\n",
    "        fpos = np.arange(g[1].start,g[1].end)\n",
    "        gdf.at[gdf.Start.isin(fpos),'Seq'] = 1\n",
    "    for g in ggff[(ggff.type=='three_prime_UTR')].iterrows():\n",
    "        fpos = np.arange(g[1].start,g[1].end)\n",
    "        gdf.at[gdf.Start.isin(fpos),'Seq'] = 3\n",
    "    for g in ggff[(ggff.type=='five_prime_UTR')].iterrows():\n",
    "        fpos = np.arange(g[1].start,g[1].end)\n",
    "        gdf.at[gdf.Start.isin(fpos),'Seq'] = 5\n",
    "    if savepath is not None:\n",
    "        gdf.to_csv(savepath)\n",
    "    return gdf\n",
    "\n",
    "def gene_protien(gdf,a='Ref',tostop=True):\n",
    "    strand = gdf.Strand.unique()[0]\n",
    "    if strand > 0:\n",
    "        aa = Seq(''.join(gdf[(gdf.Seq==1)][a].tolist())).translate(to_stop=tostop)\n",
    "    else:\n",
    "        assert strand < 0\n",
    "        aa = Seq(''.join(gdf[(gdf.Seq==1)][a].tolist())).reverse_complement().translate(to_stop=tostop)\n",
    "    return aa\n",
    "\n",
    "def protien_compare(a,b):\n",
    "    if len(a) != len(b):\n",
    "        flag = 'Modified:%s'%(str(len(a)-len(b)))\n",
    "    else:\n",
    "        flag = []\n",
    "        for i, k in enumerate(a):\n",
    "            if k != b[i]:\n",
    "                flag.append(i)\n",
    "        if len(flag) == 0:\n",
    "            assert len(a) == len(b)\n",
    "            flag = 'Synonymous'\n",
    "        else:\n",
    "            flag = ','.join([str(a) for a in flag])\n",
    "    return flag   "
   ]
  },
  {
   "cell_type": "code",
   "execution_count": 9,
   "metadata": {},
   "outputs": [],
   "source": [
    "peak_genes = ch_gff[(ch_gff.start>=peak[0]) & (ch_gff.end<=peak[-1])].gene.unique()"
   ]
  },
  {
   "cell_type": "code",
   "execution_count": 10,
   "metadata": {},
   "outputs": [
    {
     "data": {
      "text/plain": [
       "30"
      ]
     },
     "execution_count": 10,
     "metadata": {},
     "output_type": "execute_result"
    }
   ],
   "source": [
    "len(peak_genes)"
   ]
  },
  {
   "cell_type": "code",
   "execution_count": 11,
   "metadata": {},
   "outputs": [],
   "source": [
    "peak_gene_res = []\n",
    "for gene in peak_genes:\n",
    "    genegdf = gff_gene(gene,vardf,ch_gff,contigrec.seq)\n",
    "    if len(genegdf) == 0:\n",
    "        peak_gene_res.append('Nonvariant')\n",
    "        continue\n",
    "    gene_r_aa = gene_protien(genegdf,a='Ref')\n",
    "    gene_a_aa = gene_protien(genegdf,a='Alt')\n",
    "    peak_gene_res.append(protien_compare(gene_r_aa,gene_a_aa))"
   ]
  },
  {
   "cell_type": "code",
   "execution_count": 12,
   "metadata": {},
   "outputs": [],
   "source": [
    "peak_gene_res_df = pd.DataFrame([peak_genes,peak_gene_res],index=['Name','Result']).T"
   ]
  },
  {
   "cell_type": "code",
   "execution_count": 13,
   "metadata": {},
   "outputs": [
    {
     "data": {
      "text/plain": [
       "1368"
      ]
     },
     "execution_count": 13,
     "metadata": {},
     "output_type": "execute_result"
    }
   ],
   "source": [
    "cnn01270 = gff_gene('CNN01270',vardf,ch_gff,contigrec.seq)\n",
    "cnn01270_r_aa = gene_protien(cnn01270,a='Ref',tostop=True)\n",
    "len(cnn01270_r_aa)*3"
   ]
  },
  {
   "cell_type": "code",
   "execution_count": 14,
   "metadata": {},
   "outputs": [],
   "source": [
    "Ref_seq = ''.join(cnn01270[(cnn01270.Seq==1)].sort_values('Start').Ref.tolist())"
   ]
  },
  {
   "cell_type": "code",
   "execution_count": 15,
   "metadata": {},
   "outputs": [
    {
     "data": {
      "text/plain": [
       "2076"
      ]
     },
     "execution_count": 15,
     "metadata": {},
     "output_type": "execute_result"
    }
   ],
   "source": [
    "len(Ref_seq)"
   ]
  },
  {
   "cell_type": "code",
   "execution_count": 16,
   "metadata": {},
   "outputs": [],
   "source": [
    "temp = Seq(Ref_seq).translate()"
   ]
  },
  {
   "cell_type": "code",
   "execution_count": 17,
   "metadata": {},
   "outputs": [
    {
     "data": {
      "text/plain": [
       "692"
      ]
     },
     "execution_count": 17,
     "metadata": {},
     "output_type": "execute_result"
    }
   ],
   "source": [
    "len(temp)"
   ]
  },
  {
   "cell_type": "code",
   "execution_count": 18,
   "metadata": {},
   "outputs": [
    {
     "name": "stdout",
     "output_type": "stream",
     "text": [
      "456\n",
      "691\n"
     ]
    }
   ],
   "source": [
    "for i, k in enumerate(temp):\n",
    "    if k == '*':\n",
    "        print(i)"
   ]
  },
  {
   "cell_type": "code",
   "execution_count": 19,
   "metadata": {},
   "outputs": [],
   "source": [
    "cnn01270gff = gff[(gff.xl280_chrom=='Chr14') & (gff.gene=='CNN01270') & \n",
    "                  (gff.type.isin(['gene','CDS','three_prime_UTR','five_prime_UTR']))]"
   ]
  },
  {
   "cell_type": "code",
   "execution_count": 21,
   "metadata": {},
   "outputs": [
    {
     "data": {
      "text/html": [
       "<div>\n",
       "<style scoped>\n",
       "    .dataframe tbody tr th:only-of-type {\n",
       "        vertical-align: middle;\n",
       "    }\n",
       "\n",
       "    .dataframe tbody tr th {\n",
       "        vertical-align: top;\n",
       "    }\n",
       "\n",
       "    .dataframe thead th {\n",
       "        text-align: right;\n",
       "    }\n",
       "</style>\n",
       "<table border=\"1\" class=\"dataframe\">\n",
       "  <thead>\n",
       "    <tr style=\"text-align: right;\">\n",
       "      <th></th>\n",
       "      <th>chrom</th>\n",
       "      <th>type</th>\n",
       "      <th>start</th>\n",
       "      <th>end</th>\n",
       "      <th>strand</th>\n",
       "      <th>phase</th>\n",
       "      <th>attribute</th>\n",
       "      <th>gene</th>\n",
       "      <th>xl280_start</th>\n",
       "      <th>xl280_end</th>\n",
       "      <th>xl280_chrom</th>\n",
       "    </tr>\n",
       "  </thead>\n",
       "  <tbody>\n",
       "    <tr>\n",
       "      <th>64388</th>\n",
       "      <td>AE017356.1</td>\n",
       "      <td>gene</td>\n",
       "      <td>386822</td>\n",
       "      <td>389688</td>\n",
       "      <td>+</td>\n",
       "      <td>.</td>\n",
       "      <td>ID=CNN01270;description=hypothetical protein</td>\n",
       "      <td>CNN01270</td>\n",
       "      <td>386833</td>\n",
       "      <td>389699</td>\n",
       "      <td>Chr14</td>\n",
       "    </tr>\n",
       "    <tr>\n",
       "      <th>64398</th>\n",
       "      <td>AE017356.1</td>\n",
       "      <td>CDS</td>\n",
       "      <td>387145</td>\n",
       "      <td>387245</td>\n",
       "      <td>+</td>\n",
       "      <td>0</td>\n",
       "      <td>ID=CNN01270-t26_1-p1-CDS1;Parent=CNN01270-t26_...</td>\n",
       "      <td>CNN01270</td>\n",
       "      <td>387156</td>\n",
       "      <td>387256</td>\n",
       "      <td>Chr14</td>\n",
       "    </tr>\n",
       "    <tr>\n",
       "      <th>64399</th>\n",
       "      <td>AE017356.1</td>\n",
       "      <td>CDS</td>\n",
       "      <td>387309</td>\n",
       "      <td>387417</td>\n",
       "      <td>+</td>\n",
       "      <td>2</td>\n",
       "      <td>ID=CNN01270-t26_1-p1-CDS2;Parent=CNN01270-t26_...</td>\n",
       "      <td>CNN01270</td>\n",
       "      <td>387320</td>\n",
       "      <td>387428</td>\n",
       "      <td>Chr14</td>\n",
       "    </tr>\n",
       "    <tr>\n",
       "      <th>64400</th>\n",
       "      <td>AE017356.1</td>\n",
       "      <td>CDS</td>\n",
       "      <td>387473</td>\n",
       "      <td>387895</td>\n",
       "      <td>+</td>\n",
       "      <td>2</td>\n",
       "      <td>ID=CNN01270-t26_1-p1-CDS3;Parent=CNN01270-t26_...</td>\n",
       "      <td>CNN01270</td>\n",
       "      <td>387484</td>\n",
       "      <td>387906</td>\n",
       "      <td>Chr14</td>\n",
       "    </tr>\n",
       "    <tr>\n",
       "      <th>64401</th>\n",
       "      <td>AE017356.1</td>\n",
       "      <td>CDS</td>\n",
       "      <td>387940</td>\n",
       "      <td>388089</td>\n",
       "      <td>+</td>\n",
       "      <td>0</td>\n",
       "      <td>ID=CNN01270-t26_1-p1-CDS4;Parent=CNN01270-t26_...</td>\n",
       "      <td>CNN01270</td>\n",
       "      <td>387951</td>\n",
       "      <td>388100</td>\n",
       "      <td>Chr14</td>\n",
       "    </tr>\n",
       "    <tr>\n",
       "      <th>64402</th>\n",
       "      <td>AE017356.1</td>\n",
       "      <td>CDS</td>\n",
       "      <td>388135</td>\n",
       "      <td>388711</td>\n",
       "      <td>+</td>\n",
       "      <td>1</td>\n",
       "      <td>ID=CNN01270-t26_1-p1-CDS5;Parent=CNN01270-t26_...</td>\n",
       "      <td>CNN01270</td>\n",
       "      <td>388146</td>\n",
       "      <td>388722</td>\n",
       "      <td>Chr14</td>\n",
       "    </tr>\n",
       "    <tr>\n",
       "      <th>64403</th>\n",
       "      <td>AE017356.1</td>\n",
       "      <td>CDS</td>\n",
       "      <td>388766</td>\n",
       "      <td>388906</td>\n",
       "      <td>+</td>\n",
       "      <td>1</td>\n",
       "      <td>ID=CNN01270-t26_1-p1-CDS6;Parent=CNN01270-t26_...</td>\n",
       "      <td>CNN01270</td>\n",
       "      <td>388777</td>\n",
       "      <td>388917</td>\n",
       "      <td>Chr14</td>\n",
       "    </tr>\n",
       "    <tr>\n",
       "      <th>64404</th>\n",
       "      <td>AE017356.1</td>\n",
       "      <td>CDS</td>\n",
       "      <td>388959</td>\n",
       "      <td>389540</td>\n",
       "      <td>+</td>\n",
       "      <td>2</td>\n",
       "      <td>ID=CNN01270-t26_1-p1-CDS7;Parent=CNN01270-t26_...</td>\n",
       "      <td>CNN01270</td>\n",
       "      <td>388970</td>\n",
       "      <td>389551</td>\n",
       "      <td>Chr14</td>\n",
       "    </tr>\n",
       "    <tr>\n",
       "      <th>64405</th>\n",
       "      <td>AE017356.1</td>\n",
       "      <td>five_prime_UTR</td>\n",
       "      <td>386822</td>\n",
       "      <td>387025</td>\n",
       "      <td>+</td>\n",
       "      <td>.</td>\n",
       "      <td>ID=utr_CNN01270-t26_1_1;Parent=CNN01270-t26_1</td>\n",
       "      <td>CNN01270</td>\n",
       "      <td>386833</td>\n",
       "      <td>387036</td>\n",
       "      <td>Chr14</td>\n",
       "    </tr>\n",
       "    <tr>\n",
       "      <th>64406</th>\n",
       "      <td>AE017356.1</td>\n",
       "      <td>five_prime_UTR</td>\n",
       "      <td>387075</td>\n",
       "      <td>387145</td>\n",
       "      <td>+</td>\n",
       "      <td>.</td>\n",
       "      <td>ID=utr_CNN01270-t26_1_2;Parent=CNN01270-t26_1</td>\n",
       "      <td>CNN01270</td>\n",
       "      <td>387086</td>\n",
       "      <td>387156</td>\n",
       "      <td>Chr14</td>\n",
       "    </tr>\n",
       "    <tr>\n",
       "      <th>64407</th>\n",
       "      <td>AE017356.1</td>\n",
       "      <td>three_prime_UTR</td>\n",
       "      <td>389540</td>\n",
       "      <td>389688</td>\n",
       "      <td>+</td>\n",
       "      <td>.</td>\n",
       "      <td>ID=utr_CNN01270-t26_1_3;Parent=CNN01270-t26_1</td>\n",
       "      <td>CNN01270</td>\n",
       "      <td>389551</td>\n",
       "      <td>389699</td>\n",
       "      <td>Chr14</td>\n",
       "    </tr>\n",
       "  </tbody>\n",
       "</table>\n",
       "</div>"
      ],
      "text/plain": [
       "            chrom             type   start     end strand phase  \\\n",
       "64388  AE017356.1             gene  386822  389688      +     .   \n",
       "64398  AE017356.1              CDS  387145  387245      +     0   \n",
       "64399  AE017356.1              CDS  387309  387417      +     2   \n",
       "64400  AE017356.1              CDS  387473  387895      +     2   \n",
       "64401  AE017356.1              CDS  387940  388089      +     0   \n",
       "64402  AE017356.1              CDS  388135  388711      +     1   \n",
       "64403  AE017356.1              CDS  388766  388906      +     1   \n",
       "64404  AE017356.1              CDS  388959  389540      +     2   \n",
       "64405  AE017356.1   five_prime_UTR  386822  387025      +     .   \n",
       "64406  AE017356.1   five_prime_UTR  387075  387145      +     .   \n",
       "64407  AE017356.1  three_prime_UTR  389540  389688      +     .   \n",
       "\n",
       "                                               attribute      gene  \\\n",
       "64388       ID=CNN01270;description=hypothetical protein  CNN01270   \n",
       "64398  ID=CNN01270-t26_1-p1-CDS1;Parent=CNN01270-t26_...  CNN01270   \n",
       "64399  ID=CNN01270-t26_1-p1-CDS2;Parent=CNN01270-t26_...  CNN01270   \n",
       "64400  ID=CNN01270-t26_1-p1-CDS3;Parent=CNN01270-t26_...  CNN01270   \n",
       "64401  ID=CNN01270-t26_1-p1-CDS4;Parent=CNN01270-t26_...  CNN01270   \n",
       "64402  ID=CNN01270-t26_1-p1-CDS5;Parent=CNN01270-t26_...  CNN01270   \n",
       "64403  ID=CNN01270-t26_1-p1-CDS6;Parent=CNN01270-t26_...  CNN01270   \n",
       "64404  ID=CNN01270-t26_1-p1-CDS7;Parent=CNN01270-t26_...  CNN01270   \n",
       "64405      ID=utr_CNN01270-t26_1_1;Parent=CNN01270-t26_1  CNN01270   \n",
       "64406      ID=utr_CNN01270-t26_1_2;Parent=CNN01270-t26_1  CNN01270   \n",
       "64407      ID=utr_CNN01270-t26_1_3;Parent=CNN01270-t26_1  CNN01270   \n",
       "\n",
       "       xl280_start  xl280_end xl280_chrom  \n",
       "64388       386833     389699       Chr14  \n",
       "64398       387156     387256       Chr14  \n",
       "64399       387320     387428       Chr14  \n",
       "64400       387484     387906       Chr14  \n",
       "64401       387951     388100       Chr14  \n",
       "64402       388146     388722       Chr14  \n",
       "64403       388777     388917       Chr14  \n",
       "64404       388970     389551       Chr14  \n",
       "64405       386833     387036       Chr14  \n",
       "64406       387086     387156       Chr14  \n",
       "64407       389551     389699       Chr14  "
      ]
     },
     "execution_count": 21,
     "metadata": {},
     "output_type": "execute_result"
    }
   ],
   "source": [
    "cnn01270gff"
   ]
  },
  {
   "cell_type": "code",
   "execution_count": 22,
   "metadata": {},
   "outputs": [],
   "source": [
    "#cnn01270[(cnn01270.Start>=388777) & (cnn01270.End<388917)]"
   ]
  },
  {
   "cell_type": "code",
   "execution_count": 23,
   "metadata": {},
   "outputs": [],
   "source": [
    "jecchrom = cnn01270gff.chrom.tolist()[0]"
   ]
  },
  {
   "cell_type": "code",
   "execution_count": 24,
   "metadata": {},
   "outputs": [],
   "source": [
    "jeccontigpath = '/Users/croth/Desktop/CRYPTO_QTL/FILES/%s/%s.fasta'%(jecchrom,jecchrom)\n",
    "jeccontigrec = [rec for rec in SeqIO.parse(jeccontigpath,jeccontigpath.split('.')[-1])][0]"
   ]
  },
  {
   "cell_type": "code",
   "execution_count": 25,
   "metadata": {},
   "outputs": [],
   "source": [
    "xl280cnn01270 = contigrec.seq[cnn01270gff.xl280_start.min():cnn01270gff.xl280_end.max()]\n",
    "jeccnn01270 = jeccontigrec.seq[cnn01270gff.start.min():cnn01270gff.end.max()]"
   ]
  },
  {
   "cell_type": "code",
   "execution_count": 26,
   "metadata": {},
   "outputs": [],
   "source": [
    "xl280cnn01270_ref = Seq(''.join(cnn01270.Ref.tolist()))\n",
    "xl280cnn01270_alt = Seq(''.join(cnn01270.Alt.tolist()))"
   ]
  },
  {
   "cell_type": "code",
   "execution_count": 27,
   "metadata": {},
   "outputs": [
    {
     "name": "stdout",
     "output_type": "stream",
     "text": [
      "1957\n"
     ]
    }
   ],
   "source": [
    "for i, s in enumerate(xl280cnn01270):\n",
    "    if s != jeccnn01270[i]:\n",
    "        print(i)"
   ]
  },
  {
   "cell_type": "code",
   "execution_count": 28,
   "metadata": {},
   "outputs": [],
   "source": [
    "jeccnn01270_ref = Seq('caagtatcgccccatcacttccgactttccgctccctttggtcgatcatccctcacattcccaggtcgcagactcccagctcccccgcagcagatcgggtggacaccttatatctcaaaatcctcgtggcatccatccgacgccgtccgccagcaacaacttctcgagcggacccggatacgagagagctcatcgtacgccaagttagtataatatattaccgcgtagccagtccgtaattcataacctctagcaaatagcaagcgagttaatccaattgtgtactcggcattgagggcctcagacgctgaaacgaagtcataATGTCCGTCAAGAGCCTATTAGCTTCGAGCTACGGCTCTATTGAGAACCGACGATACTCTTTAGATAGAATACGAGGGGAACTGAATGCTGTAGTAGAAGgtaagtaatcaccgtacccccgtaatgaccattcgttcacttgtctgctgcactgctgttatagCTCTCCCGACGCAAGTGCATCCAGCTGAAAGAGAGATTTACCTGAACGACATTCTATCCGACCTGCATCCGAAAGAAGAAGCAATATGGAGGGATTGGCCAAGCGATGgtaagctcatcttgtgcctagagaatatcagaataccgcgtttatcaagagcgtagTCTACCTACTTGCCCTCACGGCTGTCAAATGCCTCGGACGAAACCCCATTGGATCAGAAACCCTGCTCTCAAGCCATCACATTTCCACTCTCATGTTTCATTCAACATTACTATCAGATGATTCTGCGACGTTTCCGACCGTCGTTGCCCAGTCATCAACGTCACCACAGGCTCGTGAAGCCTTGAAGATCTTGGCCAACATGCTAGTTCTTCACACCGCCGGACGTATCGAATTCTTCAAAGCCCGCGGAGCTATAGCGGTTGCTCGCGCTTTGTCCGAAAGTTCTACACAAGACGAGAATGATGCAGCGCATGCGGAAAAGCTGTTTTTACTGGGGAGACTTGGATTTTTGGTCACTGTGGAAAGGGCTGAAGCGGCGAAGCAGATGGTAGATAACGAGGTGGTGGATGCCCTCGTGCAGgtgagactgtccatctcgtccaagacagaactaacgaaggagcagATTTTCATGTCGGCCTCTGTCTTACCCGCTTCTTTCTTGTATCTGAGCGAATTGCTCAAACTGACGAACGCATTACTTCAATTCTATCCTTATAAACAGCCCTCTGATGCTACAACTGGTGTTGATCCTTGGGACGAAAAGTTTGATTAgtgagtaattgttgttaaacagttcagttctgatcttatctctaagCCTTCTTTACCCTCTTTTGCGCCTTTTTTACGCTACTCCAACGGTCGATCTTAGCCCGCCACTTACCCACATCATGAATACTCTGCTTTTGATACCGTTCAAAACACGTTTGTTACCAACATGGGCTTCGGTCCCTGAAAGTCCCGGTTCCCTACAAGTCAACAGTCCCTCGAGCCCTTCGTCCACAATGAGAAATATTCTCACCAAGCTGGGAAACATAGCTTCACCATCCAGCCCTCGCAAGTCTTCGGCCGGCTCACTTGCCCCGCCTGGTTCTAGGCCGCCAGCAGGTGGTCAGAGATCCGCACCAAATTCACCGCGAGGTAGTTTCTCGTCTTCGAGGCCTGGCTTTGGTGCGACATCCGATCATTTCGCGCTATCGTCAAGGCTTCTGAAGATCCTTGACCGGTTCTTTGAGGCATATCTACCATACCCTAAACGGCCGGATGACGATCTGCCTCATTCACTTGTACTGGATGAAATACTTCCTCCGTTATTACTCTTAATGACACGAGCCACATGGGGTTTGGAAAACGTGCGGTTATCGATCAAAGAAATTTTATTACCTTCCTCTCTgtaggtctgctctctggtggattttatcaaattcaattgacgttttatgctgcagAGACCGCTCATCAGAAGCAGGGCCGCTTGAATCCCGCAAGGGTTTACTAGGCAACATTCTGCGTTTAATGGCTTGTGCAGGTCATACTCAAACAAGAAATGCTGCCGGAGAGTTGATGTGGGCAATCTGCAATGGTAATGgtatgtttagattctcccatattttacaagcaactttgctgagcttcggacagCTTCCGATCTCTGCGTAGAAATCGGCTATGGCAACGCAGCTGGCATACTGTTCCAAAAAGGGCTCACTGGTCCACCATCGGCAAAGGTCGAAGAGATTGACCAGCCTAATCCTTCGCAGACCGTGATGCAAATAGCCAAGTCATCTAATCGCCGATCAGACGTCCGGTCGCCTGTAACAACTGTCCAGCCGGCTACGCCTTCTTCTACGTCGACATTCAGCGCCGAAACTTTGAGGAATCCAATCACAGGTATTGAGAACGGTAATCAAGCGACAGGTGACCTGGACGAAATGACTCAGGAAGAGAAGGAGCGCGAAGCAGAAAGGTTGTTTATTTTGTTTGATAGGATGGAGAAGAATCCTGTGATTAGCATGAAGTCAGGGGATGACCAAGACGGACAAAAGAGTAAGGCTCAAGGGCTGAAGGATATAATGAGAGAAAAGTTAGAGAGTGGGGATATGGAGAGATGGGATCGCAAGGATGAGCAAGAGGAGAGACAGAGATTGGAGGAGGAGGCGCAAAAAGACGAAGAGGAAGCTTTCCGGGAGCTTGCGGCCTATAAACGACGCACTGGAAGGTAGtaaccttacagatataatctatcaatcagagacattggggcccaaatcgttttcgactgtgatatttggttatatcttgtgccttgcgtaaaagttgtcatgctatatgtgacatatccgtactatacaatgatgtctactccttcat')"
   ]
  },
  {
   "cell_type": "code",
   "execution_count": 29,
   "metadata": {},
   "outputs": [],
   "source": [
    "cnn01270_seqs = [jeccnn01270_ref,jeccnn01270,xl280cnn01270,xl280cnn01270_ref,xl280cnn01270_alt]"
   ]
  },
  {
   "cell_type": "code",
   "execution_count": 30,
   "metadata": {},
   "outputs": [
    {
     "data": {
      "text/html": [
       "<div>\n",
       "<style scoped>\n",
       "    .dataframe tbody tr th:only-of-type {\n",
       "        vertical-align: middle;\n",
       "    }\n",
       "\n",
       "    .dataframe tbody tr th {\n",
       "        vertical-align: top;\n",
       "    }\n",
       "\n",
       "    .dataframe thead th {\n",
       "        text-align: right;\n",
       "    }\n",
       "</style>\n",
       "<table border=\"1\" class=\"dataframe\">\n",
       "  <thead>\n",
       "    <tr style=\"text-align: right;\">\n",
       "      <th></th>\n",
       "      <th>chrom</th>\n",
       "      <th>type</th>\n",
       "      <th>start</th>\n",
       "      <th>end</th>\n",
       "      <th>strand</th>\n",
       "      <th>phase</th>\n",
       "      <th>attribute</th>\n",
       "      <th>gene</th>\n",
       "      <th>xl280_start</th>\n",
       "      <th>xl280_end</th>\n",
       "      <th>xl280_chrom</th>\n",
       "    </tr>\n",
       "  </thead>\n",
       "  <tbody>\n",
       "    <tr>\n",
       "      <th>64388</th>\n",
       "      <td>AE017356.1</td>\n",
       "      <td>gene</td>\n",
       "      <td>386822</td>\n",
       "      <td>389688</td>\n",
       "      <td>+</td>\n",
       "      <td>.</td>\n",
       "      <td>ID=CNN01270;description=hypothetical protein</td>\n",
       "      <td>CNN01270</td>\n",
       "      <td>386833</td>\n",
       "      <td>389699</td>\n",
       "      <td>Chr14</td>\n",
       "    </tr>\n",
       "    <tr>\n",
       "      <th>64398</th>\n",
       "      <td>AE017356.1</td>\n",
       "      <td>CDS</td>\n",
       "      <td>387145</td>\n",
       "      <td>387245</td>\n",
       "      <td>+</td>\n",
       "      <td>0</td>\n",
       "      <td>ID=CNN01270-t26_1-p1-CDS1;Parent=CNN01270-t26_...</td>\n",
       "      <td>CNN01270</td>\n",
       "      <td>387156</td>\n",
       "      <td>387256</td>\n",
       "      <td>Chr14</td>\n",
       "    </tr>\n",
       "    <tr>\n",
       "      <th>64399</th>\n",
       "      <td>AE017356.1</td>\n",
       "      <td>CDS</td>\n",
       "      <td>387309</td>\n",
       "      <td>387417</td>\n",
       "      <td>+</td>\n",
       "      <td>2</td>\n",
       "      <td>ID=CNN01270-t26_1-p1-CDS2;Parent=CNN01270-t26_...</td>\n",
       "      <td>CNN01270</td>\n",
       "      <td>387320</td>\n",
       "      <td>387428</td>\n",
       "      <td>Chr14</td>\n",
       "    </tr>\n",
       "    <tr>\n",
       "      <th>64400</th>\n",
       "      <td>AE017356.1</td>\n",
       "      <td>CDS</td>\n",
       "      <td>387473</td>\n",
       "      <td>387895</td>\n",
       "      <td>+</td>\n",
       "      <td>2</td>\n",
       "      <td>ID=CNN01270-t26_1-p1-CDS3;Parent=CNN01270-t26_...</td>\n",
       "      <td>CNN01270</td>\n",
       "      <td>387484</td>\n",
       "      <td>387906</td>\n",
       "      <td>Chr14</td>\n",
       "    </tr>\n",
       "    <tr>\n",
       "      <th>64401</th>\n",
       "      <td>AE017356.1</td>\n",
       "      <td>CDS</td>\n",
       "      <td>387940</td>\n",
       "      <td>388089</td>\n",
       "      <td>+</td>\n",
       "      <td>0</td>\n",
       "      <td>ID=CNN01270-t26_1-p1-CDS4;Parent=CNN01270-t26_...</td>\n",
       "      <td>CNN01270</td>\n",
       "      <td>387951</td>\n",
       "      <td>388100</td>\n",
       "      <td>Chr14</td>\n",
       "    </tr>\n",
       "    <tr>\n",
       "      <th>64402</th>\n",
       "      <td>AE017356.1</td>\n",
       "      <td>CDS</td>\n",
       "      <td>388135</td>\n",
       "      <td>388711</td>\n",
       "      <td>+</td>\n",
       "      <td>1</td>\n",
       "      <td>ID=CNN01270-t26_1-p1-CDS5;Parent=CNN01270-t26_...</td>\n",
       "      <td>CNN01270</td>\n",
       "      <td>388146</td>\n",
       "      <td>388722</td>\n",
       "      <td>Chr14</td>\n",
       "    </tr>\n",
       "    <tr>\n",
       "      <th>64403</th>\n",
       "      <td>AE017356.1</td>\n",
       "      <td>CDS</td>\n",
       "      <td>388766</td>\n",
       "      <td>388906</td>\n",
       "      <td>+</td>\n",
       "      <td>1</td>\n",
       "      <td>ID=CNN01270-t26_1-p1-CDS6;Parent=CNN01270-t26_...</td>\n",
       "      <td>CNN01270</td>\n",
       "      <td>388777</td>\n",
       "      <td>388917</td>\n",
       "      <td>Chr14</td>\n",
       "    </tr>\n",
       "    <tr>\n",
       "      <th>64404</th>\n",
       "      <td>AE017356.1</td>\n",
       "      <td>CDS</td>\n",
       "      <td>388959</td>\n",
       "      <td>389540</td>\n",
       "      <td>+</td>\n",
       "      <td>2</td>\n",
       "      <td>ID=CNN01270-t26_1-p1-CDS7;Parent=CNN01270-t26_...</td>\n",
       "      <td>CNN01270</td>\n",
       "      <td>388970</td>\n",
       "      <td>389551</td>\n",
       "      <td>Chr14</td>\n",
       "    </tr>\n",
       "    <tr>\n",
       "      <th>64405</th>\n",
       "      <td>AE017356.1</td>\n",
       "      <td>five_prime_UTR</td>\n",
       "      <td>386822</td>\n",
       "      <td>387025</td>\n",
       "      <td>+</td>\n",
       "      <td>.</td>\n",
       "      <td>ID=utr_CNN01270-t26_1_1;Parent=CNN01270-t26_1</td>\n",
       "      <td>CNN01270</td>\n",
       "      <td>386833</td>\n",
       "      <td>387036</td>\n",
       "      <td>Chr14</td>\n",
       "    </tr>\n",
       "    <tr>\n",
       "      <th>64406</th>\n",
       "      <td>AE017356.1</td>\n",
       "      <td>five_prime_UTR</td>\n",
       "      <td>387075</td>\n",
       "      <td>387145</td>\n",
       "      <td>+</td>\n",
       "      <td>.</td>\n",
       "      <td>ID=utr_CNN01270-t26_1_2;Parent=CNN01270-t26_1</td>\n",
       "      <td>CNN01270</td>\n",
       "      <td>387086</td>\n",
       "      <td>387156</td>\n",
       "      <td>Chr14</td>\n",
       "    </tr>\n",
       "    <tr>\n",
       "      <th>64407</th>\n",
       "      <td>AE017356.1</td>\n",
       "      <td>three_prime_UTR</td>\n",
       "      <td>389540</td>\n",
       "      <td>389688</td>\n",
       "      <td>+</td>\n",
       "      <td>.</td>\n",
       "      <td>ID=utr_CNN01270-t26_1_3;Parent=CNN01270-t26_1</td>\n",
       "      <td>CNN01270</td>\n",
       "      <td>389551</td>\n",
       "      <td>389699</td>\n",
       "      <td>Chr14</td>\n",
       "    </tr>\n",
       "  </tbody>\n",
       "</table>\n",
       "</div>"
      ],
      "text/plain": [
       "            chrom             type   start     end strand phase  \\\n",
       "64388  AE017356.1             gene  386822  389688      +     .   \n",
       "64398  AE017356.1              CDS  387145  387245      +     0   \n",
       "64399  AE017356.1              CDS  387309  387417      +     2   \n",
       "64400  AE017356.1              CDS  387473  387895      +     2   \n",
       "64401  AE017356.1              CDS  387940  388089      +     0   \n",
       "64402  AE017356.1              CDS  388135  388711      +     1   \n",
       "64403  AE017356.1              CDS  388766  388906      +     1   \n",
       "64404  AE017356.1              CDS  388959  389540      +     2   \n",
       "64405  AE017356.1   five_prime_UTR  386822  387025      +     .   \n",
       "64406  AE017356.1   five_prime_UTR  387075  387145      +     .   \n",
       "64407  AE017356.1  three_prime_UTR  389540  389688      +     .   \n",
       "\n",
       "                                               attribute      gene  \\\n",
       "64388       ID=CNN01270;description=hypothetical protein  CNN01270   \n",
       "64398  ID=CNN01270-t26_1-p1-CDS1;Parent=CNN01270-t26_...  CNN01270   \n",
       "64399  ID=CNN01270-t26_1-p1-CDS2;Parent=CNN01270-t26_...  CNN01270   \n",
       "64400  ID=CNN01270-t26_1-p1-CDS3;Parent=CNN01270-t26_...  CNN01270   \n",
       "64401  ID=CNN01270-t26_1-p1-CDS4;Parent=CNN01270-t26_...  CNN01270   \n",
       "64402  ID=CNN01270-t26_1-p1-CDS5;Parent=CNN01270-t26_...  CNN01270   \n",
       "64403  ID=CNN01270-t26_1-p1-CDS6;Parent=CNN01270-t26_...  CNN01270   \n",
       "64404  ID=CNN01270-t26_1-p1-CDS7;Parent=CNN01270-t26_...  CNN01270   \n",
       "64405      ID=utr_CNN01270-t26_1_1;Parent=CNN01270-t26_1  CNN01270   \n",
       "64406      ID=utr_CNN01270-t26_1_2;Parent=CNN01270-t26_1  CNN01270   \n",
       "64407      ID=utr_CNN01270-t26_1_3;Parent=CNN01270-t26_1  CNN01270   \n",
       "\n",
       "       xl280_start  xl280_end xl280_chrom  \n",
       "64388       386833     389699       Chr14  \n",
       "64398       387156     387256       Chr14  \n",
       "64399       387320     387428       Chr14  \n",
       "64400       387484     387906       Chr14  \n",
       "64401       387951     388100       Chr14  \n",
       "64402       388146     388722       Chr14  \n",
       "64403       388777     388917       Chr14  \n",
       "64404       388970     389551       Chr14  \n",
       "64405       386833     387036       Chr14  \n",
       "64406       387086     387156       Chr14  \n",
       "64407       389551     389699       Chr14  "
      ]
     },
     "execution_count": 30,
     "metadata": {},
     "output_type": "execute_result"
    }
   ],
   "source": [
    "cnn01270gff"
   ]
  },
  {
   "cell_type": "code",
   "execution_count": 31,
   "metadata": {},
   "outputs": [
    {
     "data": {
      "text/html": [
       "<div>\n",
       "<style scoped>\n",
       "    .dataframe tbody tr th:only-of-type {\n",
       "        vertical-align: middle;\n",
       "    }\n",
       "\n",
       "    .dataframe tbody tr th {\n",
       "        vertical-align: top;\n",
       "    }\n",
       "\n",
       "    .dataframe thead th {\n",
       "        text-align: right;\n",
       "    }\n",
       "</style>\n",
       "<table border=\"1\" class=\"dataframe\">\n",
       "  <thead>\n",
       "    <tr style=\"text-align: right;\">\n",
       "      <th></th>\n",
       "      <th>Start</th>\n",
       "      <th>End</th>\n",
       "      <th>Ref</th>\n",
       "      <th>Alt</th>\n",
       "      <th>Var</th>\n",
       "      <th>Strand</th>\n",
       "      <th>Seq</th>\n",
       "      <th>Gene</th>\n",
       "    </tr>\n",
       "  </thead>\n",
       "  <tbody>\n",
       "    <tr>\n",
       "      <th>377</th>\n",
       "      <td>387210</td>\n",
       "      <td>387211</td>\n",
       "      <td>T</td>\n",
       "      <td>G</td>\n",
       "      <td>1</td>\n",
       "      <td>1</td>\n",
       "      <td>1</td>\n",
       "      <td>CNN01270</td>\n",
       "    </tr>\n",
       "    <tr>\n",
       "      <th>534</th>\n",
       "      <td>387367</td>\n",
       "      <td>387368</td>\n",
       "      <td>G</td>\n",
       "      <td>T</td>\n",
       "      <td>1</td>\n",
       "      <td>1</td>\n",
       "      <td>1</td>\n",
       "      <td>CNN01270</td>\n",
       "    </tr>\n",
       "    <tr>\n",
       "      <th>781</th>\n",
       "      <td>387614</td>\n",
       "      <td>387615</td>\n",
       "      <td>G</td>\n",
       "      <td>A</td>\n",
       "      <td>1</td>\n",
       "      <td>1</td>\n",
       "      <td>1</td>\n",
       "      <td>CNN01270</td>\n",
       "    </tr>\n",
       "    <tr>\n",
       "      <th>1048</th>\n",
       "      <td>387881</td>\n",
       "      <td>387886</td>\n",
       "      <td>CGAGG</td>\n",
       "      <td>CG</td>\n",
       "      <td>1</td>\n",
       "      <td>1</td>\n",
       "      <td>1</td>\n",
       "      <td>CNN01270</td>\n",
       "    </tr>\n",
       "    <tr>\n",
       "      <th>1350</th>\n",
       "      <td>388187</td>\n",
       "      <td>388189</td>\n",
       "      <td>CG</td>\n",
       "      <td>CA</td>\n",
       "      <td>1</td>\n",
       "      <td>1</td>\n",
       "      <td>1</td>\n",
       "      <td>CNN01270</td>\n",
       "    </tr>\n",
       "  </tbody>\n",
       "</table>\n",
       "</div>"
      ],
      "text/plain": [
       "       Start     End    Ref Alt Var  Strand  Seq      Gene\n",
       "377   387210  387211      T   G   1       1    1  CNN01270\n",
       "534   387367  387368      G   T   1       1    1  CNN01270\n",
       "781   387614  387615      G   A   1       1    1  CNN01270\n",
       "1048  387881  387886  CGAGG  CG   1       1    1  CNN01270\n",
       "1350  388187  388189     CG  CA   1       1    1  CNN01270"
      ]
     },
     "execution_count": 31,
     "metadata": {},
     "output_type": "execute_result"
    }
   ],
   "source": [
    "cnn01270[(cnn01270.Seq==1) & (cnn01270.Var==1)].head()"
   ]
  },
  {
   "cell_type": "code",
   "execution_count": 32,
   "metadata": {},
   "outputs": [
    {
     "data": {
      "text/plain": [
       "[2866, 2866, 2866, 2866, 2863]"
      ]
     },
     "execution_count": 32,
     "metadata": {},
     "output_type": "execute_result"
    }
   ],
   "source": [
    "[len(a) for a in cnn01270_seqs]"
   ]
  },
  {
   "cell_type": "code",
   "execution_count": 33,
   "metadata": {},
   "outputs": [],
   "source": [
    "from Bio.SeqRecord import SeqRecord"
   ]
  },
  {
   "cell_type": "code",
   "execution_count": 40,
   "metadata": {},
   "outputs": [],
   "source": [
    "cnn01270_ids = ['fungidb_jec21 ','fasta_jec21','fasta_xl280','xl280','431']\n",
    "fileout = '/Users/croth/Desktop/xl280_cnn01270.fasta'\n",
    "with open(fileout, 'w') as f_out:\n",
    "        for i,seq in enumerate(cnn01270_seqs):\n",
    "            seq_record = SeqRecord(seq=seq,id=cnn01270_ids[i])\n",
    "            r = SeqIO.write(seq_record, f_out,'fasta')\n",
    "            f_out.write('\\n')\n",
    "            if r != 1: print('Error while writing sequence: ' + seq_record.id)"
   ]
  },
  {
   "cell_type": "code",
   "execution_count": 36,
   "metadata": {},
   "outputs": [
    {
     "data": {
      "text/plain": [
       "2866"
      ]
     },
     "execution_count": 36,
     "metadata": {},
     "output_type": "execute_result"
    }
   ],
   "source": [
    "len(jeccnn01270)"
   ]
  },
  {
   "cell_type": "code",
   "execution_count": 37,
   "metadata": {},
   "outputs": [
    {
     "name": "stdout",
     "output_type": "stream",
     "text": [
      "1957\n"
     ]
    }
   ],
   "source": [
    "for i, s in enumerate(xl280cnn01270):\n",
    "    if s != jeccnn01270[i]:\n",
    "        print(i)"
   ]
  },
  {
   "cell_type": "code",
   "execution_count": 38,
   "metadata": {},
   "outputs": [
    {
     "data": {
      "text/plain": [
       "Seq('CTCATCATAA', SingleLetterAlphabet())"
      ]
     },
     "execution_count": 38,
     "metadata": {},
     "output_type": "execute_result"
    }
   ],
   "source": [
    "xl280cnn01270[1950:1960]"
   ]
  },
  {
   "cell_type": "code",
   "execution_count": 39,
   "metadata": {},
   "outputs": [
    {
     "data": {
      "text/plain": [
       "Seq('CTCATCAGAA', SingleLetterAlphabet())"
      ]
     },
     "execution_count": 39,
     "metadata": {},
     "output_type": "execute_result"
    }
   ],
   "source": [
    "jeccnn01270[1950:1960]"
   ]
  },
  {
   "cell_type": "code",
   "execution_count": 53,
   "metadata": {},
   "outputs": [
    {
     "name": "stdout",
     "output_type": "stream",
     "text": [
      "16\n"
     ]
    }
   ],
   "source": [
    "peak_gene_nonsyn =  peak_gene_res_df[(peak_gene_res_df.Result!='Synonymous') & \n",
    "                 (peak_gene_res_df.Result!='Nonvariant')]\n",
    "print(peak_gene_nonsyn.shape[0])"
   ]
  },
  {
   "cell_type": "code",
   "execution_count": 54,
   "metadata": {},
   "outputs": [],
   "source": [
    "h99_names = ['CNAG_06390','CNAG_06393','CNAG_06394','CNAG_06396','CNAG_07936',\n",
    "             'CNAG_06401','CNAG_06405','CNAG_06406','CNAG_06408','CNAG_06409',\n",
    "             'CNAG_06411','CNAG_06412','Missing','CNAG_06415',\n",
    "             'CNAG_06416','CNAG_06418'] #CNAG_06413"
   ]
  },
  {
   "cell_type": "code",
   "execution_count": 55,
   "metadata": {},
   "outputs": [
    {
     "name": "stderr",
     "output_type": "stream",
     "text": [
      "/Users/croth/anaconda3/lib/python3.7/site-packages/ipykernel_launcher.py:1: SettingWithCopyWarning: \n",
      "A value is trying to be set on a copy of a slice from a DataFrame.\n",
      "Try using .loc[row_indexer,col_indexer] = value instead\n",
      "\n",
      "See the caveats in the documentation: http://pandas.pydata.org/pandas-docs/stable/indexing.html#indexing-view-versus-copy\n",
      "  \"\"\"Entry point for launching an IPython kernel.\n"
     ]
    }
   ],
   "source": [
    "peak_gene_nonsyn['H99_name'] = h99_names\n",
    "peak_gene_nonsyn.to_csv('../FILES/%s/%s_peak_genes.csv'%(chrom,chrom),index=False)"
   ]
  },
  {
   "cell_type": "code",
   "execution_count": 56,
   "metadata": {},
   "outputs": [
    {
     "data": {
      "text/html": [
       "<div>\n",
       "<style scoped>\n",
       "    .dataframe tbody tr th:only-of-type {\n",
       "        vertical-align: middle;\n",
       "    }\n",
       "\n",
       "    .dataframe tbody tr th {\n",
       "        vertical-align: top;\n",
       "    }\n",
       "\n",
       "    .dataframe thead th {\n",
       "        text-align: right;\n",
       "    }\n",
       "</style>\n",
       "<table border=\"1\" class=\"dataframe\">\n",
       "  <thead>\n",
       "    <tr style=\"text-align: right;\">\n",
       "      <th></th>\n",
       "      <th>Name</th>\n",
       "      <th>Result</th>\n",
       "      <th>H99_name</th>\n",
       "    </tr>\n",
       "  </thead>\n",
       "  <tbody>\n",
       "    <tr>\n",
       "      <th>0</th>\n",
       "      <td>CNN01170</td>\n",
       "      <td>Modified:2</td>\n",
       "      <td>CNAG_06390</td>\n",
       "    </tr>\n",
       "    <tr>\n",
       "      <th>3</th>\n",
       "      <td>CNN01190</td>\n",
       "      <td>450</td>\n",
       "      <td>CNAG_06393</td>\n",
       "    </tr>\n",
       "    <tr>\n",
       "      <th>4</th>\n",
       "      <td>CNN01195</td>\n",
       "      <td>1,2,6,39,87,100</td>\n",
       "      <td>CNAG_06394</td>\n",
       "    </tr>\n",
       "    <tr>\n",
       "      <th>6</th>\n",
       "      <td>CNN01210</td>\n",
       "      <td>89,179</td>\n",
       "      <td>CNAG_06396</td>\n",
       "    </tr>\n",
       "    <tr>\n",
       "      <th>7</th>\n",
       "      <td>CNN01220</td>\n",
       "      <td>13,44,73,107,118,162,201,269,292,302,303,306,4...</td>\n",
       "      <td>CNAG_07936</td>\n",
       "    </tr>\n",
       "    <tr>\n",
       "      <th>11</th>\n",
       "      <td>CNN01270</td>\n",
       "      <td>Modified:-235</td>\n",
       "      <td>CNAG_06401</td>\n",
       "    </tr>\n",
       "    <tr>\n",
       "      <th>15</th>\n",
       "      <td>CNN01310</td>\n",
       "      <td>120,274,308,477</td>\n",
       "      <td>CNAG_06405</td>\n",
       "    </tr>\n",
       "    <tr>\n",
       "      <th>16</th>\n",
       "      <td>CNN01320</td>\n",
       "      <td>86</td>\n",
       "      <td>CNAG_06406</td>\n",
       "    </tr>\n",
       "    <tr>\n",
       "      <th>18</th>\n",
       "      <td>CNN01340</td>\n",
       "      <td>52,137,223,234</td>\n",
       "      <td>CNAG_06408</td>\n",
       "    </tr>\n",
       "    <tr>\n",
       "      <th>19</th>\n",
       "      <td>CNN01345</td>\n",
       "      <td>131</td>\n",
       "      <td>CNAG_06409</td>\n",
       "    </tr>\n",
       "    <tr>\n",
       "      <th>21</th>\n",
       "      <td>CNN01360</td>\n",
       "      <td>84,91,130,204,297,304,424,455,509</td>\n",
       "      <td>CNAG_06411</td>\n",
       "    </tr>\n",
       "    <tr>\n",
       "      <th>22</th>\n",
       "      <td>CNN01370</td>\n",
       "      <td>193</td>\n",
       "      <td>CNAG_06412</td>\n",
       "    </tr>\n",
       "    <tr>\n",
       "      <th>24</th>\n",
       "      <td>CNN01385</td>\n",
       "      <td>13,29,95,112,121</td>\n",
       "      <td>Missing</td>\n",
       "    </tr>\n",
       "    <tr>\n",
       "      <th>26</th>\n",
       "      <td>CNN01400</td>\n",
       "      <td>44</td>\n",
       "      <td>CNAG_06415</td>\n",
       "    </tr>\n",
       "    <tr>\n",
       "      <th>27</th>\n",
       "      <td>CNN01410</td>\n",
       "      <td>35,374</td>\n",
       "      <td>CNAG_06416</td>\n",
       "    </tr>\n",
       "    <tr>\n",
       "      <th>29</th>\n",
       "      <td>CNN01430</td>\n",
       "      <td>126,181</td>\n",
       "      <td>CNAG_06418</td>\n",
       "    </tr>\n",
       "  </tbody>\n",
       "</table>\n",
       "</div>"
      ],
      "text/plain": [
       "        Name                                             Result    H99_name\n",
       "0   CNN01170                                         Modified:2  CNAG_06390\n",
       "3   CNN01190                                                450  CNAG_06393\n",
       "4   CNN01195                                    1,2,6,39,87,100  CNAG_06394\n",
       "6   CNN01210                                             89,179  CNAG_06396\n",
       "7   CNN01220  13,44,73,107,118,162,201,269,292,302,303,306,4...  CNAG_07936\n",
       "11  CNN01270                                      Modified:-235  CNAG_06401\n",
       "15  CNN01310                                    120,274,308,477  CNAG_06405\n",
       "16  CNN01320                                                 86  CNAG_06406\n",
       "18  CNN01340                                     52,137,223,234  CNAG_06408\n",
       "19  CNN01345                                                131  CNAG_06409\n",
       "21  CNN01360                  84,91,130,204,297,304,424,455,509  CNAG_06411\n",
       "22  CNN01370                                                193  CNAG_06412\n",
       "24  CNN01385                                   13,29,95,112,121     Missing\n",
       "26  CNN01400                                                 44  CNAG_06415\n",
       "27  CNN01410                                             35,374  CNAG_06416\n",
       "29  CNN01430                                            126,181  CNAG_06418"
      ]
     },
     "execution_count": 56,
     "metadata": {},
     "output_type": "execute_result"
    }
   ],
   "source": [
    "peak_gene_nonsyn"
   ]
  },
  {
   "cell_type": "code",
   "execution_count": 41,
   "metadata": {},
   "outputs": [],
   "source": [
    "cnn01385 = gff_gene('CNN01385',vardf,ch_gff,contigrec.seq)\n",
    "cnn01385_r_aa = gene_protien(cnn01270,a='Ref',tostop=True)"
   ]
  },
  {
   "cell_type": "code",
   "execution_count": 62,
   "metadata": {},
   "outputs": [
    {
     "data": {
      "text/html": [
       "<div>\n",
       "<style scoped>\n",
       "    .dataframe tbody tr th:only-of-type {\n",
       "        vertical-align: middle;\n",
       "    }\n",
       "\n",
       "    .dataframe tbody tr th {\n",
       "        vertical-align: top;\n",
       "    }\n",
       "\n",
       "    .dataframe thead th {\n",
       "        text-align: right;\n",
       "    }\n",
       "</style>\n",
       "<table border=\"1\" class=\"dataframe\">\n",
       "  <thead>\n",
       "    <tr style=\"text-align: right;\">\n",
       "      <th></th>\n",
       "      <th>chrom</th>\n",
       "      <th>type</th>\n",
       "      <th>start</th>\n",
       "      <th>end</th>\n",
       "      <th>strand</th>\n",
       "      <th>phase</th>\n",
       "      <th>attribute</th>\n",
       "      <th>gene</th>\n",
       "      <th>xl280_start</th>\n",
       "      <th>xl280_end</th>\n",
       "      <th>xl280_chrom</th>\n",
       "    </tr>\n",
       "  </thead>\n",
       "  <tbody>\n",
       "    <tr>\n",
       "      <th>35171</th>\n",
       "      <td>AE017356.1</td>\n",
       "      <td>gene</td>\n",
       "      <td>408804</td>\n",
       "      <td>409768</td>\n",
       "      <td>-</td>\n",
       "      <td>.</td>\n",
       "      <td>ID=CNN01385;description=hypothetical protein</td>\n",
       "      <td>CNN01385</td>\n",
       "      <td>408815</td>\n",
       "      <td>409779</td>\n",
       "      <td>Chr14</td>\n",
       "    </tr>\n",
       "    <tr>\n",
       "      <th>35172</th>\n",
       "      <td>AE017356.1</td>\n",
       "      <td>mRNA</td>\n",
       "      <td>408804</td>\n",
       "      <td>409768</td>\n",
       "      <td>-</td>\n",
       "      <td>.</td>\n",
       "      <td>ID=CNN01385-t26_1;Parent=CNN01385;description=...</td>\n",
       "      <td>CNN01385</td>\n",
       "      <td>408815</td>\n",
       "      <td>409779</td>\n",
       "      <td>Chr14</td>\n",
       "    </tr>\n",
       "    <tr>\n",
       "      <th>35173</th>\n",
       "      <td>AE017356.1</td>\n",
       "      <td>exon</td>\n",
       "      <td>408804</td>\n",
       "      <td>409346</td>\n",
       "      <td>-</td>\n",
       "      <td>.</td>\n",
       "      <td>ID=exon_CNN01385-E3;Parent=CNN01385-t26_1</td>\n",
       "      <td>CNN01385</td>\n",
       "      <td>408815</td>\n",
       "      <td>409357</td>\n",
       "      <td>Chr14</td>\n",
       "    </tr>\n",
       "    <tr>\n",
       "      <th>35174</th>\n",
       "      <td>AE017356.1</td>\n",
       "      <td>exon</td>\n",
       "      <td>409410</td>\n",
       "      <td>409582</td>\n",
       "      <td>-</td>\n",
       "      <td>.</td>\n",
       "      <td>ID=exon_CNN01385-E2;Parent=CNN01385-t26_1</td>\n",
       "      <td>CNN01385</td>\n",
       "      <td>409421</td>\n",
       "      <td>409593</td>\n",
       "      <td>Chr14</td>\n",
       "    </tr>\n",
       "    <tr>\n",
       "      <th>35175</th>\n",
       "      <td>AE017356.1</td>\n",
       "      <td>exon</td>\n",
       "      <td>409627</td>\n",
       "      <td>409768</td>\n",
       "      <td>-</td>\n",
       "      <td>.</td>\n",
       "      <td>ID=exon_CNN01385-E1;Parent=CNN01385-t26_1</td>\n",
       "      <td>CNN01385</td>\n",
       "      <td>409638</td>\n",
       "      <td>409779</td>\n",
       "      <td>Chr14</td>\n",
       "    </tr>\n",
       "    <tr>\n",
       "      <th>35176</th>\n",
       "      <td>AE017356.1</td>\n",
       "      <td>CDS</td>\n",
       "      <td>409043</td>\n",
       "      <td>409346</td>\n",
       "      <td>-</td>\n",
       "      <td>0</td>\n",
       "      <td>ID=CNN01385-t26_1-p1-CDS2;Parent=CNN01385-t26_...</td>\n",
       "      <td>CNN01385</td>\n",
       "      <td>409054</td>\n",
       "      <td>409357</td>\n",
       "      <td>Chr14</td>\n",
       "    </tr>\n",
       "    <tr>\n",
       "      <th>35177</th>\n",
       "      <td>AE017356.1</td>\n",
       "      <td>CDS</td>\n",
       "      <td>409410</td>\n",
       "      <td>409578</td>\n",
       "      <td>-</td>\n",
       "      <td>0</td>\n",
       "      <td>ID=CNN01385-t26_1-p1-CDS1;Parent=CNN01385-t26_...</td>\n",
       "      <td>CNN01385</td>\n",
       "      <td>409421</td>\n",
       "      <td>409589</td>\n",
       "      <td>Chr14</td>\n",
       "    </tr>\n",
       "    <tr>\n",
       "      <th>35178</th>\n",
       "      <td>AE017356.1</td>\n",
       "      <td>three_prime_UTR</td>\n",
       "      <td>408804</td>\n",
       "      <td>409043</td>\n",
       "      <td>-</td>\n",
       "      <td>.</td>\n",
       "      <td>ID=utr_CNN01385-t26_1_1;Parent=CNN01385-t26_1</td>\n",
       "      <td>CNN01385</td>\n",
       "      <td>408815</td>\n",
       "      <td>409054</td>\n",
       "      <td>Chr14</td>\n",
       "    </tr>\n",
       "    <tr>\n",
       "      <th>35179</th>\n",
       "      <td>AE017356.1</td>\n",
       "      <td>five_prime_UTR</td>\n",
       "      <td>409578</td>\n",
       "      <td>409582</td>\n",
       "      <td>-</td>\n",
       "      <td>.</td>\n",
       "      <td>ID=utr_CNN01385-t26_1_2;Parent=CNN01385-t26_1</td>\n",
       "      <td>CNN01385</td>\n",
       "      <td>409589</td>\n",
       "      <td>409593</td>\n",
       "      <td>Chr14</td>\n",
       "    </tr>\n",
       "    <tr>\n",
       "      <th>35180</th>\n",
       "      <td>AE017356.1</td>\n",
       "      <td>five_prime_UTR</td>\n",
       "      <td>409627</td>\n",
       "      <td>409768</td>\n",
       "      <td>-</td>\n",
       "      <td>.</td>\n",
       "      <td>ID=utr_CNN01385-t26_1_3;Parent=CNN01385-t26_1</td>\n",
       "      <td>CNN01385</td>\n",
       "      <td>409638</td>\n",
       "      <td>409779</td>\n",
       "      <td>Chr14</td>\n",
       "    </tr>\n",
       "  </tbody>\n",
       "</table>\n",
       "</div>"
      ],
      "text/plain": [
       "            chrom             type   start     end strand phase  \\\n",
       "35171  AE017356.1             gene  408804  409768      -     .   \n",
       "35172  AE017356.1             mRNA  408804  409768      -     .   \n",
       "35173  AE017356.1             exon  408804  409346      -     .   \n",
       "35174  AE017356.1             exon  409410  409582      -     .   \n",
       "35175  AE017356.1             exon  409627  409768      -     .   \n",
       "35176  AE017356.1              CDS  409043  409346      -     0   \n",
       "35177  AE017356.1              CDS  409410  409578      -     0   \n",
       "35178  AE017356.1  three_prime_UTR  408804  409043      -     .   \n",
       "35179  AE017356.1   five_prime_UTR  409578  409582      -     .   \n",
       "35180  AE017356.1   five_prime_UTR  409627  409768      -     .   \n",
       "\n",
       "                                               attribute      gene  \\\n",
       "35171       ID=CNN01385;description=hypothetical protein  CNN01385   \n",
       "35172  ID=CNN01385-t26_1;Parent=CNN01385;description=...  CNN01385   \n",
       "35173          ID=exon_CNN01385-E3;Parent=CNN01385-t26_1  CNN01385   \n",
       "35174          ID=exon_CNN01385-E2;Parent=CNN01385-t26_1  CNN01385   \n",
       "35175          ID=exon_CNN01385-E1;Parent=CNN01385-t26_1  CNN01385   \n",
       "35176  ID=CNN01385-t26_1-p1-CDS2;Parent=CNN01385-t26_...  CNN01385   \n",
       "35177  ID=CNN01385-t26_1-p1-CDS1;Parent=CNN01385-t26_...  CNN01385   \n",
       "35178      ID=utr_CNN01385-t26_1_1;Parent=CNN01385-t26_1  CNN01385   \n",
       "35179      ID=utr_CNN01385-t26_1_2;Parent=CNN01385-t26_1  CNN01385   \n",
       "35180      ID=utr_CNN01385-t26_1_3;Parent=CNN01385-t26_1  CNN01385   \n",
       "\n",
       "       xl280_start  xl280_end xl280_chrom  \n",
       "35171       408815     409779       Chr14  \n",
       "35172       408815     409779       Chr14  \n",
       "35173       408815     409357       Chr14  \n",
       "35174       409421     409593       Chr14  \n",
       "35175       409638     409779       Chr14  \n",
       "35176       409054     409357       Chr14  \n",
       "35177       409421     409589       Chr14  \n",
       "35178       408815     409054       Chr14  \n",
       "35179       409589     409593       Chr14  \n",
       "35180       409638     409779       Chr14  "
      ]
     },
     "execution_count": 62,
     "metadata": {},
     "output_type": "execute_result"
    }
   ],
   "source": [
    "gff[(gff.gene=='CNN01385')]"
   ]
  },
  {
   "cell_type": "code",
   "execution_count": 58,
   "metadata": {},
   "outputs": [],
   "source": [
    "cnn01385_seq = Seq(''.join(cnn01385.Ref.tolist())).reverse_complement()"
   ]
  },
  {
   "cell_type": "code",
   "execution_count": 59,
   "metadata": {},
   "outputs": [
    {
     "data": {
      "text/plain": [
       "964"
      ]
     },
     "execution_count": 59,
     "metadata": {},
     "output_type": "execute_result"
    }
   ],
   "source": [
    "len(cnn01385_seq)"
   ]
  },
  {
   "cell_type": "code",
   "execution_count": 60,
   "metadata": {},
   "outputs": [
    {
     "name": "stdout",
     "output_type": "stream",
     "text": [
      "GTTCGGCATCACCAACCAGTGGATTGCCAGCTGCAAAGTTTTCCAGCGCGAGCACTCGCGGCGTGGGAGAGGAAGAGTCAGCAAAGAAGGCAAAGGTGGCAGAGGAGGGTGGCAAACGGAGGCCATCACGCTCGAGAAGCCGTGAGTATGCGTCGTTATGGTACCCTGTGCTAAAAGAAGGGATAGACCGATGAAAGCGATGTGGTGGCGGCACCTGCAAAAAAAACAAAGAAAGCGGCTGGCGCAAAGGAGCAGTACCTACATAACCCTTTCGACATTCCTTCCCAGGTACTCGCGGTCGAAAATTTTGCAGCTGGCAATCCATTGGTTGGTGATGCCGAACACGATACTCTGGCCAGTGAGTAACAATATCCCCTTATTGTGAGGTTTGAAACGTCTCTGACATGAAACACATTGACCAGGCTGACAGGCGTCTCAGGCATGACGCCTACCCCCTCCTTTGCGCGGCCGCAAGTGCCCGCTCGAATGTGGCCGCTGTGCTGCAAACGAACGAGCACAAGCGCCACTGGGGAAAGCCCATGTCAGCTGGGGATGCCGAAATCCTTAACTGGACGAGGTCTCAGCTGCACAAGGCCAGCCAAGATCTGGACATCGTTTGCAATTTCGCGAGAGAGGCTGCTGGCTATCCAAATATGACCAACGCAAGGTCATTATATATACGCATTGGACAAACCTCATCTGGCCCTGCAGATGTACCTAGCTAGGGTAGGAATTTTCTCTTCGGCCTTACATGGCAGCCTCACCATGGAAGAGCGCGAGCGGGTGGTACTAAGAGTTTCAACGCGACGATGACCATCCATGTACCCGATTGGCTGAATTCTTGGGTACATTCATGTACGTGATAAAAATACGTGATTATAACACCACCTCTATTGCTTGGTTGGAGAGTTAAACATAAAAACAAAAACAAAAAAGAATCCTGCCCCGGAGAGACTCGAACTCT\n"
     ]
    }
   ],
   "source": [
    "print(cnn01385_seq)"
   ]
  },
  {
   "cell_type": "code",
   "execution_count": 63,
   "metadata": {},
   "outputs": [],
   "source": [
    "assert ch_gff[(ch_gff.gene=='CNN01220') & (ch_gff.type=='CDS')].shape[0] == 28"
   ]
  },
  {
   "cell_type": "code",
   "execution_count": 64,
   "metadata": {},
   "outputs": [
    {
     "data": {
      "text/plain": [
       "17"
      ]
     },
     "execution_count": 64,
     "metadata": {},
     "output_type": "execute_result"
    }
   ],
   "source": [
    "len(peak_gene_nonsyn[(peak_gene_nonsyn.Name=='CNN01220')].Result.values[0].split(','))"
   ]
  },
  {
   "cell_type": "code",
   "execution_count": 67,
   "metadata": {},
   "outputs": [],
   "source": [
    "modifiedix = [i[0] for i in peak_gene_nonsyn.iterrows()\n",
    "              if i[1]['Result'].split(':')[0] == 'Modified']"
   ]
  },
  {
   "cell_type": "code",
   "execution_count": 68,
   "metadata": {},
   "outputs": [
    {
     "data": {
      "text/plain": [
       "[0, 11]"
      ]
     },
     "execution_count": 68,
     "metadata": {},
     "output_type": "execute_result"
    }
   ],
   "source": [
    "modifiedix"
   ]
  },
  {
   "cell_type": "code",
   "execution_count": 70,
   "metadata": {},
   "outputs": [
    {
     "data": {
      "text/plain": [
       "array(['CNN01170', 'CNN01270'], dtype=object)"
      ]
     },
     "execution_count": 70,
     "metadata": {},
     "output_type": "execute_result"
    }
   ],
   "source": [
    "agene_name = peak_gene_res_df['Name'][modifiedix].values\n",
    "agene_name"
   ]
  },
  {
   "cell_type": "code",
   "execution_count": 42,
   "metadata": {},
   "outputs": [
    {
     "name": "stdout",
     "output_type": "stream",
     "text": [
      "(2859, 8)\n"
     ]
    }
   ],
   "source": [
    "gene_gdf = gff_gene('CNN01270',vardf,ch_gff,contigrec.seq)\n",
    "print(gene_gdf.shape)"
   ]
  },
  {
   "cell_type": "code",
   "execution_count": 55,
   "metadata": {},
   "outputs": [
    {
     "name": "stdout",
     "output_type": "stream",
     "text": [
      "Modified:-235\n"
     ]
    }
   ],
   "source": [
    "gene_ref_aa = gene_protien(gene_gdf,a='Ref',tostop=True)\n",
    "gene_alt_aa = gene_protien(gene_gdf,a='Alt',tostop=True)\n",
    "print(protien_compare(gene_ref_aa,gene_alt_aa))"
   ]
  },
  {
   "cell_type": "code",
   "execution_count": 56,
   "metadata": {},
   "outputs": [],
   "source": [
    "gene_gdf_zb = gene_gdf.copy()"
   ]
  },
  {
   "cell_type": "code",
   "execution_count": 57,
   "metadata": {},
   "outputs": [
    {
     "data": {
      "text/plain": [
       "1368"
      ]
     },
     "execution_count": 57,
     "metadata": {},
     "output_type": "execute_result"
    }
   ],
   "source": [
    "456*3 "
   ]
  },
  {
   "cell_type": "code",
   "execution_count": 58,
   "metadata": {},
   "outputs": [
    {
     "data": {
      "text/plain": [
       "456"
      ]
     },
     "execution_count": 58,
     "metadata": {},
     "output_type": "execute_result"
    }
   ],
   "source": [
    "len(gene_ref_aa)"
   ]
  },
  {
   "cell_type": "code",
   "execution_count": 68,
   "metadata": {},
   "outputs": [
    {
     "data": {
      "text/plain": [
       "691"
      ]
     },
     "execution_count": 68,
     "metadata": {},
     "output_type": "execute_result"
    }
   ],
   "source": [
    "len(gene_alt_aa)"
   ]
  },
  {
   "cell_type": "code",
   "execution_count": 64,
   "metadata": {},
   "outputs": [
    {
     "data": {
      "text/plain": [
       "2494"
      ]
     },
     "execution_count": 64,
     "metadata": {},
     "output_type": "execute_result"
    }
   ],
   "source": [
    "len(''.join(gene_gdf[gene_gdf.Seq!=0].Alt.tolist()))"
   ]
  },
  {
   "cell_type": "code",
   "execution_count": 66,
   "metadata": {},
   "outputs": [
    {
     "data": {
      "text/html": [
       "<div>\n",
       "<style scoped>\n",
       "    .dataframe tbody tr th:only-of-type {\n",
       "        vertical-align: middle;\n",
       "    }\n",
       "\n",
       "    .dataframe tbody tr th {\n",
       "        vertical-align: top;\n",
       "    }\n",
       "\n",
       "    .dataframe thead th {\n",
       "        text-align: right;\n",
       "    }\n",
       "</style>\n",
       "<table border=\"1\" class=\"dataframe\">\n",
       "  <thead>\n",
       "    <tr style=\"text-align: right;\">\n",
       "      <th></th>\n",
       "      <th>Start</th>\n",
       "      <th>End</th>\n",
       "      <th>Ref</th>\n",
       "      <th>Alt</th>\n",
       "      <th>Var</th>\n",
       "      <th>Strand</th>\n",
       "      <th>Seq</th>\n",
       "      <th>Gene</th>\n",
       "    </tr>\n",
       "  </thead>\n",
       "  <tbody>\n",
       "    <tr>\n",
       "      <th>64</th>\n",
       "      <td>386897</td>\n",
       "      <td>386898</td>\n",
       "      <td>G</td>\n",
       "      <td>A</td>\n",
       "      <td>1</td>\n",
       "      <td>1</td>\n",
       "      <td>5</td>\n",
       "      <td>CNN01270</td>\n",
       "    </tr>\n",
       "    <tr>\n",
       "      <th>161</th>\n",
       "      <td>386994</td>\n",
       "      <td>386995</td>\n",
       "      <td>T</td>\n",
       "      <td>A</td>\n",
       "      <td>1</td>\n",
       "      <td>1</td>\n",
       "      <td>5</td>\n",
       "      <td>CNN01270</td>\n",
       "    </tr>\n",
       "    <tr>\n",
       "      <th>377</th>\n",
       "      <td>387210</td>\n",
       "      <td>387211</td>\n",
       "      <td>T</td>\n",
       "      <td>G</td>\n",
       "      <td>1</td>\n",
       "      <td>1</td>\n",
       "      <td>1</td>\n",
       "      <td>CNN01270</td>\n",
       "    </tr>\n",
       "    <tr>\n",
       "      <th>534</th>\n",
       "      <td>387367</td>\n",
       "      <td>387368</td>\n",
       "      <td>G</td>\n",
       "      <td>T</td>\n",
       "      <td>1</td>\n",
       "      <td>1</td>\n",
       "      <td>1</td>\n",
       "      <td>CNN01270</td>\n",
       "    </tr>\n",
       "    <tr>\n",
       "      <th>781</th>\n",
       "      <td>387614</td>\n",
       "      <td>387615</td>\n",
       "      <td>G</td>\n",
       "      <td>A</td>\n",
       "      <td>1</td>\n",
       "      <td>1</td>\n",
       "      <td>1</td>\n",
       "      <td>CNN01270</td>\n",
       "    </tr>\n",
       "    <tr>\n",
       "      <th>1048</th>\n",
       "      <td>387881</td>\n",
       "      <td>387886</td>\n",
       "      <td>CGAGG</td>\n",
       "      <td>CG</td>\n",
       "      <td>1</td>\n",
       "      <td>1</td>\n",
       "      <td>1</td>\n",
       "      <td>CNN01270</td>\n",
       "    </tr>\n",
       "    <tr>\n",
       "      <th>1350</th>\n",
       "      <td>388187</td>\n",
       "      <td>388189</td>\n",
       "      <td>CG</td>\n",
       "      <td>CA</td>\n",
       "      <td>1</td>\n",
       "      <td>1</td>\n",
       "      <td>1</td>\n",
       "      <td>CNN01270</td>\n",
       "    </tr>\n",
       "    <tr>\n",
       "      <th>1357</th>\n",
       "      <td>388195</td>\n",
       "      <td>388198</td>\n",
       "      <td>CTT</td>\n",
       "      <td>CTC</td>\n",
       "      <td>1</td>\n",
       "      <td>1</td>\n",
       "      <td>1</td>\n",
       "      <td>CNN01270</td>\n",
       "    </tr>\n",
       "    <tr>\n",
       "      <th>1381</th>\n",
       "      <td>388221</td>\n",
       "      <td>388222</td>\n",
       "      <td>G</td>\n",
       "      <td>A</td>\n",
       "      <td>1</td>\n",
       "      <td>1</td>\n",
       "      <td>1</td>\n",
       "      <td>CNN01270</td>\n",
       "    </tr>\n",
       "    <tr>\n",
       "      <th>1408</th>\n",
       "      <td>388248</td>\n",
       "      <td>388249</td>\n",
       "      <td>A</td>\n",
       "      <td>C</td>\n",
       "      <td>1</td>\n",
       "      <td>1</td>\n",
       "      <td>1</td>\n",
       "      <td>CNN01270</td>\n",
       "    </tr>\n",
       "    <tr>\n",
       "      <th>1612</th>\n",
       "      <td>388452</td>\n",
       "      <td>388453</td>\n",
       "      <td>A</td>\n",
       "      <td>G</td>\n",
       "      <td>1</td>\n",
       "      <td>1</td>\n",
       "      <td>1</td>\n",
       "      <td>CNN01270</td>\n",
       "    </tr>\n",
       "    <tr>\n",
       "      <th>1724</th>\n",
       "      <td>388564</td>\n",
       "      <td>388565</td>\n",
       "      <td>G</td>\n",
       "      <td>A</td>\n",
       "      <td>1</td>\n",
       "      <td>1</td>\n",
       "      <td>1</td>\n",
       "      <td>CNN01270</td>\n",
       "    </tr>\n",
       "    <tr>\n",
       "      <th>1950</th>\n",
       "      <td>388790</td>\n",
       "      <td>388791</td>\n",
       "      <td>T</td>\n",
       "      <td>G</td>\n",
       "      <td>1</td>\n",
       "      <td>1</td>\n",
       "      <td>1</td>\n",
       "      <td>CNN01270</td>\n",
       "    </tr>\n",
       "    <tr>\n",
       "      <th>2000</th>\n",
       "      <td>388840</td>\n",
       "      <td>388841</td>\n",
       "      <td>T</td>\n",
       "      <td>C</td>\n",
       "      <td>1</td>\n",
       "      <td>1</td>\n",
       "      <td>1</td>\n",
       "      <td>CNN01270</td>\n",
       "    </tr>\n",
       "    <tr>\n",
       "      <th>2230</th>\n",
       "      <td>389070</td>\n",
       "      <td>389071</td>\n",
       "      <td>C</td>\n",
       "      <td>A</td>\n",
       "      <td>1</td>\n",
       "      <td>1</td>\n",
       "      <td>1</td>\n",
       "      <td>CNN01270</td>\n",
       "    </tr>\n",
       "    <tr>\n",
       "      <th>2515</th>\n",
       "      <td>389355</td>\n",
       "      <td>389356</td>\n",
       "      <td>T</td>\n",
       "      <td>G</td>\n",
       "      <td>1</td>\n",
       "      <td>1</td>\n",
       "      <td>1</td>\n",
       "      <td>CNN01270</td>\n",
       "    </tr>\n",
       "    <tr>\n",
       "      <th>2635</th>\n",
       "      <td>389475</td>\n",
       "      <td>389476</td>\n",
       "      <td>G</td>\n",
       "      <td>C</td>\n",
       "      <td>1</td>\n",
       "      <td>1</td>\n",
       "      <td>1</td>\n",
       "      <td>CNN01270</td>\n",
       "    </tr>\n",
       "    <tr>\n",
       "      <th>2708</th>\n",
       "      <td>389548</td>\n",
       "      <td>389549</td>\n",
       "      <td>T</td>\n",
       "      <td>C</td>\n",
       "      <td>1</td>\n",
       "      <td>1</td>\n",
       "      <td>1</td>\n",
       "      <td>CNN01270</td>\n",
       "    </tr>\n",
       "    <tr>\n",
       "      <th>2756</th>\n",
       "      <td>389596</td>\n",
       "      <td>389597</td>\n",
       "      <td>A</td>\n",
       "      <td>G</td>\n",
       "      <td>1</td>\n",
       "      <td>1</td>\n",
       "      <td>3</td>\n",
       "      <td>CNN01270</td>\n",
       "    </tr>\n",
       "  </tbody>\n",
       "</table>\n",
       "</div>"
      ],
      "text/plain": [
       "       Start     End    Ref  Alt Var  Strand  Seq      Gene\n",
       "64    386897  386898      G    A   1       1    5  CNN01270\n",
       "161   386994  386995      T    A   1       1    5  CNN01270\n",
       "377   387210  387211      T    G   1       1    1  CNN01270\n",
       "534   387367  387368      G    T   1       1    1  CNN01270\n",
       "781   387614  387615      G    A   1       1    1  CNN01270\n",
       "1048  387881  387886  CGAGG   CG   1       1    1  CNN01270\n",
       "1350  388187  388189     CG   CA   1       1    1  CNN01270\n",
       "1357  388195  388198    CTT  CTC   1       1    1  CNN01270\n",
       "1381  388221  388222      G    A   1       1    1  CNN01270\n",
       "1408  388248  388249      A    C   1       1    1  CNN01270\n",
       "1612  388452  388453      A    G   1       1    1  CNN01270\n",
       "1724  388564  388565      G    A   1       1    1  CNN01270\n",
       "1950  388790  388791      T    G   1       1    1  CNN01270\n",
       "2000  388840  388841      T    C   1       1    1  CNN01270\n",
       "2230  389070  389071      C    A   1       1    1  CNN01270\n",
       "2515  389355  389356      T    G   1       1    1  CNN01270\n",
       "2635  389475  389476      G    C   1       1    1  CNN01270\n",
       "2708  389548  389549      T    C   1       1    1  CNN01270\n",
       "2756  389596  389597      A    G   1       1    3  CNN01270"
      ]
     },
     "execution_count": 66,
     "metadata": {},
     "output_type": "execute_result"
    }
   ],
   "source": [
    "gene_gdf[(gene_gdf.Seq!=0) & (gene_gdf.Var==1)]"
   ]
  },
  {
   "cell_type": "code",
   "execution_count": null,
   "metadata": {},
   "outputs": [],
   "source": [
    "gene_gdf[(gene_gdf.Seq==1) & (gene_gdf.Var==1)]"
   ]
  },
  {
   "cell_type": "code",
   "execution_count": null,
   "metadata": {},
   "outputs": [],
   "source": [
    "len('AGGCATGGGCATGGGCATGG')"
   ]
  },
  {
   "cell_type": "code",
   "execution_count": null,
   "metadata": {},
   "outputs": [],
   "source": [
    "len('AGGCATGGGCATGG')"
   ]
  },
  {
   "cell_type": "code",
   "execution_count": null,
   "metadata": {},
   "outputs": [],
   "source": [
    "print(len(gene_ref_aa))\n",
    "gene_ref_aa"
   ]
  },
  {
   "cell_type": "code",
   "execution_count": null,
   "metadata": {},
   "outputs": [],
   "source": [
    "print(len(gene_alt_aa))\n",
    "gene_alt_aa"
   ]
  }
 ],
 "metadata": {
  "kernelspec": {
   "display_name": "Python 3",
   "language": "python",
   "name": "python3"
  },
  "language_info": {
   "codemirror_mode": {
    "name": "ipython",
    "version": 3
   },
   "file_extension": ".py",
   "mimetype": "text/x-python",
   "name": "python",
   "nbconvert_exporter": "python",
   "pygments_lexer": "ipython3",
   "version": "3.7.3"
  }
 },
 "nbformat": 4,
 "nbformat_minor": 2
}
