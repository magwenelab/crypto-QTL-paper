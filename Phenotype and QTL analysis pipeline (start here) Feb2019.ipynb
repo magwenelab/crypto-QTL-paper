{
 "cells": [
  {
   "cell_type": "code",
   "execution_count": 1,
   "metadata": {},
   "outputs": [],
   "source": [
    "## This pipline was generated using: \n",
    "## Python 3.7.0\n",
    "## Presented and prepared by:\n",
    "## Cullen Jon Navarre Roth | Magwene lab\n",
    "rothmail = 'cullen.roth@duke.edu'"
   ]
  },
  {
   "cell_type": "code",
   "execution_count": 1,
   "metadata": {},
   "outputs": [],
   "source": [
    "## Set date of phenotype filename for use in analysis below: \n",
    "## as of November, this is Nov302018. \n",
    "## Here we will need to copy this variable and \n",
    "## paste into each notebook in the pipeline (below). \n",
    "filedate = 'Jan162019'"
   ]
  },
  {
   "cell_type": "code",
   "execution_count": 3,
   "metadata": {},
   "outputs": [],
   "source": [
    "## Hopefully, you have this pipeline saved \n",
    "## in some folder, cleverly named SCRIPTS.\n",
    "## Below, we will make two folders in the same level \n",
    "## as this current directory called FILES and FIGURES"
   ]
  },
  {
   "cell_type": "code",
   "execution_count": 4,
   "metadata": {},
   "outputs": [],
   "source": [
    "## make path variables for directories we will save in. \n",
    "FIL_path = '../FILES'\n",
    "FIG_path = '../FIGURES'"
   ]
  },
  {
   "cell_type": "code",
   "execution_count": 5,
   "metadata": {},
   "outputs": [],
   "source": [
    "## Analysis path generation, bring in needed mod. \n",
    "import os"
   ]
  },
  {
   "cell_type": "code",
   "execution_count": 6,
   "metadata": {},
   "outputs": [],
   "source": [
    "## check if paths exist and if not make them. \n",
    "for p in [FIL_path,FIG_path]:\n",
    "    if not os.path.exists(p):\n",
    "        os.mkdir(p)\n",
    "    else:\n",
    "        pass"
   ]
  },
  {
   "cell_type": "code",
   "execution_count": 7,
   "metadata": {},
   "outputs": [],
   "source": [
    "## Genotype and phenotype data is need for the analysis \n",
    "## descirbed below and in Roth et al (coming soon):\n",
    "genotype_file_name = '/CDx-ill-SNP-INDEL-df-104-blocked.csv'\n",
    "phenotype_file_name = '/Tecan_qtlruns_%s.csv'%(filedate)"
   ]
  },
  {
   "cell_type": "code",
   "execution_count": 8,
   "metadata": {},
   "outputs": [],
   "source": [
    "## We will check here if these files exist and are in your files directory.\n",
    "for p in [genotype_file_name,phenotype_file_name]:\n",
    "    if os.path.isfile(FIL_path+p):\n",
    "        pass\n",
    "    else:\n",
    "        print('The file: %s does not exist.\\nContact Cullen Roth (%s) for details\\n'%(\n",
    "            FIL_path+p,rothmail))"
   ]
  },
  {
   "cell_type": "code",
   "execution_count": 9,
   "metadata": {},
   "outputs": [],
   "source": [
    "## A list and discription of the phenotype/QTL analysis pipeline, \n",
    "## includes QTL mapping. "
   ]
  },
  {
   "cell_type": "markdown",
   "metadata": {},
   "source": [
    "<a href=\"./Data curation 0 Oct2018.ipynb\">Data curation</a>:\n",
    "Basic filtering and pruning of tecan liquid growth curve data. "
   ]
  },
  {
   "cell_type": "markdown",
   "metadata": {},
   "source": [
    "<a href=\"./Baselining 1 Oct2018.ipynb\">Baselining</a>:\n",
    "Filtering of gorwth curve samples. Includes setting first 30 minutes of data (first two time points) to zero, averaging of the next 1.25 hours of data (5 sample points, above zero only) as baseline OD, subtraction of baseline from sample curve, and zero correction (setting all OD values below zero after baselining to zero). "
   ]
  },
  {
   "cell_type": "markdown",
   "metadata": {},
   "source": [
    "<a href=\"./Median filtering 2 Oct2018.ipynb\">Median filtering</a>:\n",
    "Median filter each growth curve within tecan liquid dataset. Currently, we are utilizing a kernel size of 21 sample points in the median filter. This is a window around a given time point of 1.5 hours on each side of the that timepoint. "
   ]
  },
  {
   "cell_type": "markdown",
   "metadata": {},
   "source": [
    "<a href=\"./Plot growth Oct2018.ipynb\">Growth curves visulization</a>:\n",
    "Plots the growth curve data after baselining and filtering across the experimental conditions."
   ]
  },
  {
   "cell_type": "markdown",
   "metadata": {},
   "source": [
    "<a href=\"./AUC estimation 3 Oct2018.ipynb\">Area under the curve estimation</a>:\n",
    "Approximates the area under the curve (AUC) by summing across the timepoints and multiplying by the change in time (.25 hours). "
   ]
  },
  {
   "cell_type": "markdown",
   "metadata": {},
   "source": [
    "<a href=\"./QTL analysis 4 Feb2019.ipynb\">Conduct QTL analysis</a>:\n",
    "On the AUC, across amphotericin B concentrations and temperatures, conduct our quantitative trait loci (QTL) analysis. Here we utilize the [Kruskal-Wallis H-test](https://docs.scipy.org/doc/scipy/reference/generated/scipy.stats.kruskal.html) to examine differences in median AUCs as a function of genotype. "
   ]
  },
  {
   "cell_type": "markdown",
   "metadata": {},
   "source": [
    "<a href=\"./Permute data 5 Oct2018.ipynb\">Permutation tests</a>:\n",
    "This notebook, which is saved and ran as a [python script](./Permute-data-5-Oct2018.py) elsewhere, is utlized to permute the data in permutation tests for establishing significance thresholds. Again, a Kruskal-Wallis test is used to associate genotypes to phenotypes. NOTE: Be sure to change the variables within the first cell for a given drug concentration, temperature, and number of permutations. We conduct 1,000 permutations for the AUC data. This was chosen after observing no significant change in threshold value for 1,000, 5,000, and 10,000 permutations. "
   ]
  },
  {
   "cell_type": "markdown",
   "metadata": {},
   "source": [
    "<a href=\"./Threshold QTL 6 Oct2018.ipynb\">QTL significance thresholding</a>:\n",
    "From our 1,000 permutation tests above, for an alpha of 0.05, we calculate for each experimental condition a QTL significance threshold. "
   ]
  },
  {
   "cell_type": "markdown",
   "metadata": {},
   "source": [
    "<a href=\"./Phenotype correlation Oct2018.ipynb\">Correlations of phenotypes</a>:\n",
    "Plot and calculate the corrilation of the AUC across the experimental conditions."
   ]
  },
  {
   "cell_type": "markdown",
   "metadata": {},
   "source": [
    "<a href=\"./Combine QTL 7 Oct2018.ipynb\">Combining QTL across experiments</a>:\n",
    "Using the empirical browns method and <a href=\"./EmpiricalBrownsMethod.py\">software</a> described [here](https://academic.oup.com/bioinformatics/article/32/17/i430/2450768), combines QTL evidence across experiments. "
   ]
  },
  {
   "cell_type": "markdown",
   "metadata": {},
   "source": [
    "<a href=\"./Draw QTL 8 Feb2019.ipynb\">QTL figure generation</a>:\n",
    "Draws manhattan plots from QTL analyses above. "
   ]
  },
  {
   "cell_type": "markdown",
   "metadata": {},
   "source": [
    "<a href=\"./QTL phenotypes 9 Oct2018.ipynb\">Distributions of phenotypes at QTLs</a>:\n",
    "For the QTL on chromosome 2, plots the distribution of the AUC as a function of genotype at 37°C and 0.125 ug/ml of amphotercin B. "
   ]
  },
  {
   "cell_type": "code",
   "execution_count": 10,
   "metadata": {},
   "outputs": [
    {
     "name": "stdout",
     "output_type": "stream",
     "text": [
      "/CDx-ill-SNP-INDEL-df-104-blocked.csv\n"
     ]
    }
   ],
   "source": [
    "## A list and discription of the variant calling \n",
    "## and genotype data analysis pipeline.\n",
    "## This section is currently under construction. \n",
    "## The genotype data needed for the analysis above is called:\n",
    "print(genotype_file_name)"
   ]
  },
  {
   "cell_type": "code",
   "execution_count": 11,
   "metadata": {},
   "outputs": [],
   "source": [
    "## Last updated Feb 15th 2019 - CR"
   ]
  }
 ],
 "metadata": {
  "kernelspec": {
   "display_name": "Python 3",
   "language": "python",
   "name": "python3"
  },
  "language_info": {
   "codemirror_mode": {
    "name": "ipython",
    "version": 3
   },
   "file_extension": ".py",
   "mimetype": "text/x-python",
   "name": "python",
   "nbconvert_exporter": "python",
   "pygments_lexer": "ipython3",
   "version": "3.7.3"
  }
 },
 "nbformat": 4,
 "nbformat_minor": 2
}
