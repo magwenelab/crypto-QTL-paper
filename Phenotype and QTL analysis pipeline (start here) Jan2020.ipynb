{
 "cells": [
  {
   "cell_type": "code",
   "execution_count": 9,
   "metadata": {},
   "outputs": [],
   "source": [
    "## This pipline was generated using: \n",
    "## Python 3.7.3\n",
    "## Presented and prepared by:\n",
    "## Cullen Jon Navarre Roth | Magwene lab\n",
    "rothmail = 'cullen.roth@duke.edu'"
   ]
  },
  {
   "cell_type": "code",
   "execution_count": 10,
   "metadata": {},
   "outputs": [],
   "source": [
    "## Set date of phenotype filename for use in analysis below: \n",
    "## Here we will need to copy this variable and \n",
    "## paste into each notebook in the pipeline (below). \n",
    "filedate = 'Jan162019'"
   ]
  },
  {
   "cell_type": "code",
   "execution_count": 11,
   "metadata": {},
   "outputs": [],
   "source": [
    "## Hopefully, you have this pipeline saved \n",
    "## in some folder, cleverly named SCRIPTS.\n",
    "## Below, we will make two folders in the same level \n",
    "## as this current directory called FILES and FIGURES"
   ]
  },
  {
   "cell_type": "code",
   "execution_count": 12,
   "metadata": {},
   "outputs": [],
   "source": [
    "## make path variables for directories we will save in. \n",
    "FIL_path = '../FILES/'\n",
    "FIG_path = '../FIGURES/'"
   ]
  },
  {
   "cell_type": "code",
   "execution_count": 13,
   "metadata": {},
   "outputs": [],
   "source": [
    "## Analysis path generation, bring in needed mod. \n",
    "import os"
   ]
  },
  {
   "cell_type": "code",
   "execution_count": 14,
   "metadata": {},
   "outputs": [],
   "source": [
    "## check if paths exist and if not make them. \n",
    "for p in [FIL_path,FIG_path]:\n",
    "    if not os.path.exists(p):\n",
    "        os.mkdir(p)\n",
    "    else:\n",
    "        pass"
   ]
  },
  {
   "cell_type": "code",
   "execution_count": 15,
   "metadata": {},
   "outputs": [],
   "source": [
    "## Genotype, phenotype, and genomic features data is need for the analysis \n",
    "## descirbed below and in Roth et al (coming soon):\n",
    "genotype_file_name = 'CDx-ill-SNP-INDEL-df-104-blocked.csv' ## genotype data\n",
    "phenotype_file_name = 'Tecan_qtlruns_%s.csv'%(filedate) ## raw phenotype data\n",
    "\n",
    "## Genomic feature file and analysis of XL280 and 431 genes\n",
    "gff_file_name = 'xl280genome.gff3.csv.gz' ## Gff file for the XL280 strain\n",
    "genes_file_name = 'XL280_431_gene_analysis.csv.gz' ## Analysis of genes between XL280 and 431"
   ]
  },
  {
   "cell_type": "code",
   "execution_count": 16,
   "metadata": {},
   "outputs": [],
   "source": [
    "## We will check here if these files exist and are in your files directory.\n",
    "for p in [genotype_file_name,phenotype_file_name,gff_file_name,genes_file_name]:\n",
    "    if os.path.isfile(FIL_path+p):\n",
    "        pass\n",
    "    else:\n",
    "        print('The file: %s does not exist.\\nContact Cullen Roth (%s) for details\\n'%(\n",
    "            FIL_path+p,rothmail))"
   ]
  },
  {
   "cell_type": "code",
   "execution_count": 17,
   "metadata": {},
   "outputs": [],
   "source": [
    "## A list and discription of the phenotype/QTL analysis pipeline, \n",
    "## includes QTL mapping. "
   ]
  },
  {
   "cell_type": "code",
   "execution_count": 2,
   "metadata": {},
   "outputs": [],
   "source": [
    "## Using BWA, run the command bwa index xl280genome.fasta"
   ]
  },
  {
   "cell_type": "markdown",
   "metadata": {},
   "source": [
    "<a href=\"./Crypto-DNX-Illumina-align-sam.txt\">Paired read alignment</a>: List of BWA commands used to align paired fastq files for _Cryptococcus deneoformans_ progeny between _C. deneoformans_ parental strains _431_ and _XL280_ to an Illumina, _XL280_ reference genome. "
   ]
  },
  {
   "cell_type": "markdown",
   "metadata": {},
   "source": [
    "<a href=\"./Crypto-DNX-Illumina-sam-to-sorted-bam.txt\">Sam to bam conversion</a>: List of samtools commands used to convert and sort sam files of aligend paired reads."
   ]
  },
  {
   "cell_type": "markdown",
   "metadata": {},
   "source": [
    "<a href=\"./Crypto-DNX-Illumina-bamaddrg.txt\">Add read group information</a>: List of bamaddrg commands used to add read group information to sorted bam files."
   ]
  },
  {
   "cell_type": "markdown",
   "metadata": {},
   "source": [
    "<a href=\"./Crypto-DNX-Illum-Bam-Index.txt\">Index bam files</a>: List of samtool commands used to index sorted bam files with added read groups."
   ]
  },
  {
   "cell_type": "markdown",
   "metadata": {},
   "source": [
    "<a href=\"./Crypto-DNX-Illumina-freebayes.txt\">Make VCFs</a>: List of freebays commands used to generat variant call files (VCF) across 14 chromosomes and progeny samples. Imputes include, XL280 illumina reference genome and list of sorted bam files. "
   ]
  },
  {
   "cell_type": "markdown",
   "metadata": {},
   "source": [
    "<a href=\"./VCF to dataframes.ipynb\">VCF to python dataframes</a>: Parsing of variant call files (VCF) for the 14 chromosomes in the _C. deneoformans_ genome. Extract genotype calls and read depth information. "
   ]
  },
  {
   "cell_type": "markdown",
   "metadata": {},
   "source": [
    "<a href=\"./Aggeregate and collect dataframes.ipynb\">Combine dataframes</a>: Collect genotype calls and read depth information across chomosomes. "
   ]
  },
  {
   "cell_type": "markdown",
   "metadata": {},
   "source": [
    "Analysis of read depth acorss genetic variants for clones and progeny with aneuploidy"
   ]
  },
  {
   "cell_type": "markdown",
   "metadata": {},
   "source": [
    "<a href=\"./Filter genetic variants.ipynb\">Filter genetic variants</a>: Filter genetic variants - removing samples with aneuploidy and clones - based on read depth, allelic read depth ratio, centromeric and telomeric locations, allele frequencies, and quality scores. "
   ]
  },
  {
   "cell_type": "markdown",
   "metadata": {},
   "source": [
    "<a href=\"./EXPERIMENTS/Liftover and BLAT JEC21 to XL280 Jan2020.ipynb\">Lift over genes</a>: BLAT and vairaint analysis of genes between 431 and XL280"
   ]
  },
  {
   "cell_type": "markdown",
   "metadata": {},
   "source": [
    "<a href=\"./Data curation 0 Oct2018.ipynb\">Data curation</a>:\n",
    "Basic filtering and pruning of tecan liquid growth curve data. "
   ]
  },
  {
   "cell_type": "markdown",
   "metadata": {},
   "source": [
    "<a href=\"./Baselining 1 Oct2018.ipynb\">Baselining</a>:\n",
    "Filtering of gorwth curve samples. Includes setting first 30 minutes of data (first two time points) to zero, averaging of the next 1.25 hours of data (5 sample points, above zero only) as baseline OD, subtraction of baseline from sample curve, and zero correction (setting all OD values below zero after baselining to zero). "
   ]
  },
  {
   "cell_type": "markdown",
   "metadata": {},
   "source": [
    "<a href=\"./Median filtering 2 Oct2018.ipynb\">Median filtering</a>:\n",
    "Median filter each growth curve within tecan liquid dataset. Currently, we are utilizing a kernel size of 21 sample points in the median filter. This is a window around a given time point of 6.25 hours on each side of the that timepoint. "
   ]
  },
  {
   "cell_type": "markdown",
   "metadata": {},
   "source": [
    "<a href=\"./EXPERIMENTS/Cdx-aucxtime-assign-permutation-Jan2020.ipynb\">Assign permutations</a>: Pre-calculate and save permutations."
   ]
  },
  {
   "cell_type": "markdown",
   "metadata": {},
   "source": [
    "<a href=\"./EXPERIMENTS/Cdx-aucxt-permutation-Jan2020.ipynb\">Permutation script</a>:\n",
    "Run permutations"
   ]
  },
  {
   "cell_type": "markdown",
   "metadata": {},
   "source": [
    "<a href=\"./EXPERIMENTS/Permutation thresholds Jan2020.ipynb\">Calculate Thresholds</a>: From permutations, calculate signifance thresholds. "
   ]
  },
  {
   "cell_type": "markdown",
   "metadata": {},
   "source": [
    "<a href=\"./Temporal QTL mapping of AUC.ipynb\">Temporal QTL mapping</a>:\n",
    "Median filter each growth curve within tecan liquid dataset. Currently, we are utilizing a kernel size of 21 sample points in the median filter. This is a window around a given time point of 6.25 hours on each side of the that timepoint. "
   ]
  },
  {
   "cell_type": "markdown",
   "metadata": {},
   "source": [
    "Mapping viariation in melanization."
   ]
  },
  {
   "cell_type": "markdown",
   "metadata": {},
   "source": [
    "knockout analysis and visulization"
   ]
  },
  {
   "cell_type": "markdown",
   "metadata": {},
   "source": [
    "Fludioxonil analysis and visulization"
   ]
  },
  {
   "cell_type": "markdown",
   "metadata": {},
   "source": [
    "<a href=\"./EXPERIMENTS/cdx-kwak-QTL-gene-analysis-Jan2020.ipynb\">Identify QTG</a>:\n",
    "Identifying QTG"
   ]
  },
  {
   "cell_type": "markdown",
   "metadata": {},
   "source": [
    "<a href=\"./EXPERIMENTS/SSK1_SSK2_RIC8_visulization_Jan2020.ipynb\">QTG visulization</a>:\n",
    "SSK1, SSK2, and RIC8 visualization "
   ]
  },
  {
   "cell_type": "markdown",
   "metadata": {},
   "source": [
    "cAMP visulization"
   ]
  },
  {
   "cell_type": "code",
   "execution_count": null,
   "metadata": {},
   "outputs": [],
   "source": []
  }
 ],
 "metadata": {
  "kernelspec": {
   "display_name": "Python 3",
   "language": "python",
   "name": "python3"
  },
  "language_info": {
   "codemirror_mode": {
    "name": "ipython",
    "version": 3
   },
   "file_extension": ".py",
   "mimetype": "text/x-python",
   "name": "python",
   "nbconvert_exporter": "python",
   "pygments_lexer": "ipython3",
   "version": "3.7.3"
  }
 },
 "nbformat": 4,
 "nbformat_minor": 2
}
