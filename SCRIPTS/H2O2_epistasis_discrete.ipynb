{
 "cells": [
  {
   "cell_type": "code",
   "execution_count": 1,
   "metadata": {},
   "outputs": [],
   "source": [
    "%matplotlib inline\n",
    "from matplotlib import pyplot as plt"
   ]
  },
  {
   "cell_type": "code",
   "execution_count": 2,
   "metadata": {},
   "outputs": [],
   "source": [
    "import numpy as np\n",
    "import scipy as sp\n",
    "import pandas as pd\n",
    "import sklearn\n",
    "from sklearn import feature_selection as fs"
   ]
  },
  {
   "cell_type": "code",
   "execution_count": 5,
   "metadata": {},
   "outputs": [
    {
     "data": {
      "text/html": [
       "<div>\n",
       "<style scoped>\n",
       "    .dataframe tbody tr th:only-of-type {\n",
       "        vertical-align: middle;\n",
       "    }\n",
       "\n",
       "    .dataframe tbody tr th {\n",
       "        vertical-align: top;\n",
       "    }\n",
       "\n",
       "    .dataframe thead th {\n",
       "        text-align: right;\n",
       "    }\n",
       "</style>\n",
       "<table border=\"1\" class=\"dataframe\">\n",
       "  <thead>\n",
       "    <tr style=\"text-align: right;\">\n",
       "      <th></th>\n",
       "      <th>H2O2</th>\n",
       "      <th>NaCl_1M</th>\n",
       "      <th>SSK1</th>\n",
       "      <th>SSK2</th>\n",
       "      <th>RIC8</th>\n",
       "    </tr>\n",
       "  </thead>\n",
       "  <tbody>\n",
       "    <tr>\n",
       "      <th>SS-A837</th>\n",
       "      <td>2.00</td>\n",
       "      <td>53562.110760</td>\n",
       "      <td>1.0</td>\n",
       "      <td>1.0</td>\n",
       "      <td>1.0</td>\n",
       "    </tr>\n",
       "    <tr>\n",
       "      <th>SS-B307</th>\n",
       "      <td>0.75</td>\n",
       "      <td>54714.692487</td>\n",
       "      <td>0.0</td>\n",
       "      <td>0.0</td>\n",
       "      <td>1.0</td>\n",
       "    </tr>\n",
       "    <tr>\n",
       "      <th>SS-B310</th>\n",
       "      <td>0.00</td>\n",
       "      <td>54388.154963</td>\n",
       "      <td>1.0</td>\n",
       "      <td>0.0</td>\n",
       "      <td>1.0</td>\n",
       "    </tr>\n",
       "    <tr>\n",
       "      <th>SS-B311</th>\n",
       "      <td>4.00</td>\n",
       "      <td>54540.799743</td>\n",
       "      <td>0.0</td>\n",
       "      <td>1.0</td>\n",
       "      <td>1.0</td>\n",
       "    </tr>\n",
       "    <tr>\n",
       "      <th>SS-B312</th>\n",
       "      <td>5.00</td>\n",
       "      <td>51646.800177</td>\n",
       "      <td>0.0</td>\n",
       "      <td>1.0</td>\n",
       "      <td>0.0</td>\n",
       "    </tr>\n",
       "  </tbody>\n",
       "</table>\n",
       "</div>"
      ],
      "text/plain": [
       "         H2O2       NaCl_1M  SSK1  SSK2  RIC8\n",
       "SS-A837  2.00  53562.110760   1.0   1.0   1.0\n",
       "SS-B307  0.75  54714.692487   0.0   0.0   1.0\n",
       "SS-B310  0.00  54388.154963   1.0   0.0   1.0\n",
       "SS-B311  4.00  54540.799743   0.0   1.0   1.0\n",
       "SS-B312  5.00  51646.800177   0.0   1.0   0.0"
      ]
     },
     "execution_count": 5,
     "metadata": {},
     "output_type": "execute_result"
    }
   ],
   "source": [
    "file_path = '/home/croth/Desktop/H2O2_data.csv' ## Set path\n",
    "data = pd.read_csv(file_path,index_col=0)\n",
    "\n",
    "file_path2 = '/home/croth/Desktop/H2O2_phenotypes.csv'\n",
    "data2 = pd.read_csv(file_path2,index_col=0)\n",
    "data['H2O2'] = data2.Score\n",
    "data.head()"
   ]
  },
  {
   "cell_type": "code",
   "execution_count": 6,
   "metadata": {},
   "outputs": [
    {
     "data": {
      "image/png": "[encoded data removed]",
      "text/plain": [
       "<Figure size 432x288 with 1 Axes>"
      ]
     },
     "metadata": {
      "needs_background": "light"
     },
     "output_type": "display_data"
    }
   ],
   "source": [
    "vals, cts = np.unique(data.H2O2, return_counts=True)\n",
    "plt.plot(vals, cts, 'o')\n",
    "plt.vlines(vals, ymin=0, ymax=cts)\n",
    "pass"
   ]
  },
  {
   "cell_type": "code",
   "execution_count": 5,
   "metadata": {},
   "outputs": [],
   "source": [
    "data.SSK1 = data.SSK1.astype(int)\n",
    "data.SSK2 = data.SSK2.astype(int)\n",
    "data.RIC8 = data.RIC8.astype(int)"
   ]
  },
  {
   "cell_type": "code",
   "execution_count": 6,
   "metadata": {},
   "outputs": [],
   "source": [
    "ssk1 = data.SSK1.to_numpy().reshape(-1,1)\n",
    "ssk2 = data.SSK2.to_numpy().reshape(-1,1)\n",
    "ric8 = data.RIC8.to_numpy().reshape(-1,1)\n",
    "h2o2 = data.H2O2.to_numpy().reshape(-1,1)"
   ]
  },
  {
   "cell_type": "code",
   "execution_count": 7,
   "metadata": {},
   "outputs": [],
   "source": [
    "# encode two- and three-locus genotypes\n",
    "ssk1ssk2 = ssk1 + 2 * ssk2\n",
    "ssk1ric8 = ssk1 + 2 * ric8\n",
    "ssk2ric8 = ssk2 + 2 * ric8\n",
    "ssk1ssk2ric8 = ssk1 + 2*ssk2 + 4*ric8"
   ]
  },
  {
   "cell_type": "markdown",
   "metadata": {},
   "source": [
    "## Analysis based on binary H2O2 (sensitive, resistant)"
   ]
  },
  {
   "cell_type": "code",
   "execution_count": 8,
   "metadata": {},
   "outputs": [],
   "source": [
    "threshold = 2.5\n",
    "\n",
    "H2O2 = h2o2 >= threshold\n",
    "H2O2 = H2O2.astype(int)\n",
    "H2O2.reshape(-1,1)\n",
    "\n",
    "MIobs = fs.mutual_info_classif(np.hstack((H2O2,\n",
    "                                  ssk1,ssk2,ric8,\n",
    "                                  ssk1ssk2, ssk1ric8, ssk2ric8,\n",
    "                                  ssk1ssk2ric8)), H2O2.ravel(),\n",
    "                      discrete_features=True)\n",
    "\n",
    "# label MIs\n",
    "MI_ssk1 = MIobs[1]\n",
    "MI_ssk2 = MIobs[2]\n",
    "MI_ric8 = MIobs[3]\n",
    "MI_ssk1ssk2 = MIobs[4]\n",
    "MI_ssk1ric8 = MIobs[5]\n",
    "MI_ssk2ric8 = MIobs[6]\n",
    "MI_ssk1ssk2ric8 = MIobs[7]\n",
    "\n",
    "entropy_H2O2 = MIobs[0]\n",
    "\n",
    "# IGstrict of Hu et al\n",
    "IG_ssk1ssk2 = MI_ssk1ssk2 - MI_ssk1 - MI_ssk2\n",
    "IG_ssk1ric8 = MI_ssk1ric8 - MI_ssk1 - MI_ric8\n",
    "IG_ssk2ric8 = MI_ssk2ric8 - MI_ssk2 - MI_ric8\n",
    "IG_ssk1ssk2ric8 =  MI_ssk1ssk2ric8 - np.maximum(IG_ssk1ssk2, 0) \\\n",
    "    - np.maximum(IG_ssk1ric8,0) \\\n",
    "    - np.maximum(IG_ssk2ric8, 0) \\\n",
    "    - MI_ssk1 - MI_ssk2 - MI_ric8\n",
    "\n"
   ]
  },
  {
   "cell_type": "code",
   "execution_count": 9,
   "metadata": {},
   "outputs": [],
   "source": [
    "MIperm = []\n",
    "\n",
    "for i in range(1000):\n",
    "    origgenos = np.hstack((ssk1,ssk2,ric8))\n",
    "    permgenos = np.random.permutation(origgenos)\n",
    "    pssk1 = permgenos[:,0]\n",
    "    pssk2 = permgenos[:,1]\n",
    "    pric8 = permgenos[:,2]\n",
    "    pssk1 = pssk1.reshape(-1,1)\n",
    "    pssk2 = pssk2.reshape(-1,1)\n",
    "    pric8 = pric8.reshape(-1,1)\n",
    "    pssk1ssk2 = pssk1 + 2*pssk2\n",
    "    pssk1ric8 = pssk1 + 2*pric8\n",
    "    pssk2ric8 = pssk2 + 2*pric8\n",
    "    pssk1ssk2ric8 = pssk1 + 2*pssk2 + 4*pric8    \n",
    "    \n",
    "    miperm = fs.mutual_info_classif(np.hstack((H2O2,\n",
    "                                  pssk1,pssk2,pric8,\n",
    "                                  pssk1ssk2, pssk1ric8, pssk2ric8,\n",
    "                                  pssk1ssk2ric8)), H2O2.ravel(),\n",
    "                      discrete_features=True)\n",
    "    MIperm.append(miperm)\n",
    "    \n",
    "MIperm = np.array(MIperm)\n",
    "    \n",
    "MI_pssk1 = MIperm[:,1]\n",
    "MI_pssk2 = MIperm[:,2]\n",
    "MI_pric8 = MIperm[:,3]\n",
    "MI_pssk1ssk2 = MIperm[:,4]\n",
    "MI_pssk1ric8 = MIperm[:,5]\n",
    "MI_pssk2ric8 = MIperm[:,6]\n",
    "MI_pssk1ssk2ric8 = MIperm[:,7]\n",
    "\n",
    "zeros = np.zeros_like(MI_pssk1)\n",
    "\n",
    "# IGstrict for permuted data\n",
    "IG_pssk1ssk2 = MI_pssk1ssk2 - MI_pssk1 - MI_pssk2\n",
    "IG_pssk1ric8 = MI_pssk1ric8 - MI_pssk1 - MI_pric8\n",
    "IG_pssk2ric8 = MI_pssk2ric8 - MI_pssk2 - MI_pric8\n",
    "IG_pssk1ssk2ric8 =  MI_pssk1ssk2ric8 - np.maximum(IG_pssk1ssk2, zeros) \\\n",
    "    - np.maximum(IG_pssk1ric8, zeros) \\\n",
    "    - np.maximum(IG_pssk2ric8, zeros) \\\n",
    "    - MI_pssk1 - MI_pssk2 - MI_pric8\n",
    "\n"
   ]
  },
  {
   "cell_type": "markdown",
   "metadata": {},
   "source": [
    "### 3-way IG"
   ]
  },
  {
   "cell_type": "code",
   "execution_count": 10,
   "metadata": {},
   "outputs": [
    {
     "name": "stdout",
     "output_type": "stream",
     "text": [
      "0.069663141543891\n",
      "p-value:  0.0\n"
     ]
    },
    {
     "data": {
      "image/png": "[encoded data removed]",
      "text/plain": [
       "<Figure size 432x288 with 1 Axes>"
      ]
     },
     "metadata": {
      "needs_background": "light"
     },
     "output_type": "display_data"
    }
   ],
   "source": [
    "plt.hist(IG_pssk1ssk2ric8)\n",
    "plt.vlines(IG_ssk1ssk2ric8, ymin=0, ymax=200, color='r')\n",
    "print(IG_ssk1ssk2ric8)\n",
    "print(\"p-value: \", np.sum(IG_pssk1ssk2ric8 > IG_ssk1ssk2ric8)/float(len(IG_pssk1ssk2ric8)))"
   ]
  },
  {
   "cell_type": "markdown",
   "metadata": {},
   "source": [
    "### 2-way IGs"
   ]
  },
  {
   "cell_type": "code",
   "execution_count": 11,
   "metadata": {},
   "outputs": [
    {
     "name": "stdout",
     "output_type": "stream",
     "text": [
      "-0.002284528610448436\n",
      "p-value:  0.999\n"
     ]
    },
    {
     "data": {
      "image/png": "[encoded data removed]",
      "text/plain": [
       "<Figure size 432x288 with 1 Axes>"
      ]
     },
     "metadata": {
      "needs_background": "light"
     },
     "output_type": "display_data"
    }
   ],
   "source": [
    "plt.hist(IG_pssk1ssk2)\n",
    "plt.vlines(IG_ssk1ssk2, ymin=0, ymax=200, color='r')\n",
    "print(IG_ssk1ssk2)\n",
    "print(\"p-value: \", np.sum(IG_pssk1ssk2 > IG_ssk1ssk2)/float(len(IG_pssk1ssk2)))"
   ]
  },
  {
   "cell_type": "code",
   "execution_count": 12,
   "metadata": {},
   "outputs": [
    {
     "name": "stdout",
     "output_type": "stream",
     "text": [
      "0.005425108846932231\n",
      "p-value:  0.308\n"
     ]
    },
    {
     "data": {
      "image/png": "[encoded data removed]",
      "text/plain": [
       "<Figure size 432x288 with 1 Axes>"
      ]
     },
     "metadata": {
      "needs_background": "light"
     },
     "output_type": "display_data"
    }
   ],
   "source": [
    "plt.hist(IG_pssk1ric8)\n",
    "plt.vlines(IG_ssk1ric8, ymin=0, ymax=200, color='r')\n",
    "print(IG_ssk1ric8)\n",
    "print(\"p-value: \", np.sum(IG_pssk1ric8 > IG_ssk1ric8)/float(len(IG_pssk1ric8)))"
   ]
  },
  {
   "cell_type": "code",
   "execution_count": 13,
   "metadata": {},
   "outputs": [
    {
     "name": "stdout",
     "output_type": "stream",
     "text": [
      "-0.003168727159707438\n",
      "p-value:  0.96\n"
     ]
    },
    {
     "data": {
      "image/png": "[encoded data removed]",
      "text/plain": [
       "<Figure size 432x288 with 1 Axes>"
      ]
     },
     "metadata": {
      "needs_background": "light"
     },
     "output_type": "display_data"
    }
   ],
   "source": [
    "plt.hist(IG_pssk2ric8)\n",
    "plt.vlines(IG_ssk2ric8, ymin=0, ymax=200, color='r')\n",
    "print(IG_ssk2ric8)\n",
    "print(\"p-value: \", np.sum(IG_pssk2ric8 > IG_ssk2ric8)/float(len(IG_pssk2ric8)))"
   ]
  },
  {
   "cell_type": "markdown",
   "metadata": {},
   "source": [
    "### Main effect MIs"
   ]
  },
  {
   "cell_type": "code",
   "execution_count": 14,
   "metadata": {},
   "outputs": [
    {
     "name": "stdout",
     "output_type": "stream",
     "text": [
      "0.02302366543761969\n",
      "p-value:  0.025\n"
     ]
    },
    {
     "data": {
      "image/png": "[encoded data removed]",
      "text/plain": [
       "<Figure size 432x288 with 1 Axes>"
      ]
     },
     "metadata": {
      "needs_background": "light"
     },
     "output_type": "display_data"
    }
   ],
   "source": [
    "plt.hist(MI_pssk1)\n",
    "plt.vlines(MI_ssk1, ymin=0, ymax=200, color='r')\n",
    "print(MI_ssk1)\n",
    "print(\"p-value: \", np.sum(MI_pssk1 > MI_ssk1)/float(len(MI_pssk1)))"
   ]
  },
  {
   "cell_type": "code",
   "execution_count": 15,
   "metadata": {},
   "outputs": [
    {
     "name": "stdout",
     "output_type": "stream",
     "text": [
      "0.04086430238860317\n",
      "p-value: 0.001\n"
     ]
    },
    {
     "data": {
      "image/png": "[encoded data removed]",
      "text/plain": [
       "<Figure size 432x288 with 1 Axes>"
      ]
     },
     "metadata": {
      "needs_background": "light"
     },
     "output_type": "display_data"
    }
   ],
   "source": [
    "plt.hist(MI_pssk2)\n",
    "plt.vlines(MI_ssk2, ymin=0, ymax=200, color='r')\n",
    "print(MI_ssk2)\n",
    "print(\"p-value:\", np.sum(MI_pssk2 > MI_ssk2)/float(len(MI_pssk2)))"
   ]
  },
  {
   "cell_type": "code",
   "execution_count": 16,
   "metadata": {},
   "outputs": [
    {
     "name": "stdout",
     "output_type": "stream",
     "text": [
      "0.0486879974589684\n",
      "p-value: 0.002\n"
     ]
    },
    {
     "data": {
      "image/png": "[encoded data removed]",
      "text/plain": [
       "<Figure size 432x288 with 1 Axes>"
      ]
     },
     "metadata": {
      "needs_background": "light"
     },
     "output_type": "display_data"
    }
   ],
   "source": [
    "plt.hist(MI_pric8)\n",
    "plt.vlines(MI_ric8, ymin=0, ymax=200, color='r')\n",
    "print(MI_ric8)\n",
    "print(\"p-value:\", np.sum(MI_pric8 > MI_ric8)/float(len(MI_pric8)))"
   ]
  },
  {
   "cell_type": "markdown",
   "metadata": {},
   "source": [
    "## Analysis based on ternary H2O2 (sensitive, intermediate, resistant)"
   ]
  },
  {
   "cell_type": "code",
   "execution_count": 17,
   "metadata": {},
   "outputs": [],
   "source": [
    "lowthreshold = 2\n",
    "hithreshold = 4\n",
    "\n",
    "low = h2o2 < lowthreshold\n",
    "low = low.astype(int) * -1\n",
    "\n",
    "middle = np.logical_and(h2o2 >= lowthreshold, h2o2 < hithreshold)\n",
    "middle = middle.astype(int) * 1\n",
    "\n",
    "high = h2o2 >= hithreshold\n",
    "high = high.astype(int) * 2\n",
    "\n",
    "H2O2 = low + middle + high\n",
    "H2O2 = np.where(H2O2 >= 0, H2O2, 0)\n",
    "H2O2.reshape(-1,1)\n",
    "pass"
   ]
  },
  {
   "cell_type": "code",
   "execution_count": 18,
   "metadata": {},
   "outputs": [
    {
     "data": {
      "text/plain": [
       "45"
      ]
     },
     "execution_count": 18,
     "metadata": {},
     "output_type": "execute_result"
    }
   ],
   "source": [
    "np.sum(high != 0)"
   ]
  },
  {
   "cell_type": "code",
   "execution_count": 19,
   "metadata": {},
   "outputs": [
    {
     "data": {
      "text/plain": [
       "27"
      ]
     },
     "execution_count": 19,
     "metadata": {},
     "output_type": "execute_result"
    }
   ],
   "source": [
    "np.sum(middle!=0)"
   ]
  },
  {
   "cell_type": "code",
   "execution_count": 20,
   "metadata": {},
   "outputs": [
    {
     "data": {
      "text/plain": [
       "32"
      ]
     },
     "execution_count": 20,
     "metadata": {},
     "output_type": "execute_result"
    }
   ],
   "source": [
    "np.sum(low!=0)"
   ]
  },
  {
   "cell_type": "code",
   "execution_count": 21,
   "metadata": {},
   "outputs": [
    {
     "data": {
      "text/plain": [
       "104"
      ]
     },
     "execution_count": 21,
     "metadata": {},
     "output_type": "execute_result"
    }
   ],
   "source": [
    "34 + 34 + 36"
   ]
  },
  {
   "cell_type": "code",
   "execution_count": 22,
   "metadata": {},
   "outputs": [
    {
     "data": {
      "text/plain": [
       "104"
      ]
     },
     "execution_count": 22,
     "metadata": {},
     "output_type": "execute_result"
    }
   ],
   "source": [
    "len(middle)"
   ]
  },
  {
   "cell_type": "code",
   "execution_count": 23,
   "metadata": {},
   "outputs": [],
   "source": [
    "\n",
    "MIobs = fs.mutual_info_classif(np.hstack((H2O2,\n",
    "                                  ssk1,ssk2,ric8,\n",
    "                                  ssk1ssk2, ssk1ric8, ssk2ric8,\n",
    "                                  ssk1ssk2ric8)), H2O2.ravel(),\n",
    "                      discrete_features=True)\n",
    "\n",
    "# label MIs\n",
    "MI_ssk1 = MIobs[1]\n",
    "MI_ssk2 = MIobs[2]\n",
    "MI_ric8 = MIobs[3]\n",
    "MI_ssk1ssk2 = MIobs[4]\n",
    "MI_ssk1ric8 = MIobs[5]\n",
    "MI_ssk2ric8 = MIobs[6]\n",
    "MI_ssk1ssk2ric8 = MIobs[7]\n",
    "\n",
    "entropy_H2O2 = MIobs[0]\n",
    "\n",
    "# IGstrict of Hu et al\n",
    "IG_ssk1ssk2 = MI_ssk1ssk2 - MI_ssk1 - MI_ssk2\n",
    "IG_ssk1ric8 = MI_ssk1ric8 - MI_ssk1 - MI_ric8\n",
    "IG_ssk2ric8 = MI_ssk2ric8 - MI_ssk2 - MI_ric8\n",
    "IG_ssk1ssk2ric8 =  MI_ssk1ssk2ric8 - np.maximum(IG_ssk1ssk2, 0) \\\n",
    "    - np.maximum(IG_ssk1ric8,0) \\\n",
    "    - np.maximum(IG_ssk2ric8, 0) \\\n",
    "    - MI_ssk1 - MI_ssk2 - MI_ric8\n"
   ]
  },
  {
   "cell_type": "code",
   "execution_count": 24,
   "metadata": {},
   "outputs": [],
   "source": [
    "MIperm = []\n",
    "\n",
    "for i in range(1000):\n",
    "    origgenos = np.hstack((ssk1,ssk2,ric8))\n",
    "    permgenos = np.random.permutation(origgenos)\n",
    "    pssk1 = permgenos[:,0]\n",
    "    pssk2 = permgenos[:,1]\n",
    "    pric8 = permgenos[:,2]\n",
    "    pssk1 = pssk1.reshape(-1,1)\n",
    "    pssk2 = pssk2.reshape(-1,1)\n",
    "    pric8 = pric8.reshape(-1,1)\n",
    "    pssk1ssk2 = pssk1 + 2*pssk2\n",
    "    pssk1ric8 = pssk1 + 2*pric8\n",
    "    pssk2ric8 = pssk2 + 2*pric8\n",
    "    pssk1ssk2ric8 = pssk1 + 2*pssk2 + 4*pric8    \n",
    "    \n",
    "    miperm = fs.mutual_info_classif(np.hstack((H2O2,\n",
    "                                  pssk1,pssk2,pric8,\n",
    "                                  pssk1ssk2, pssk1ric8, pssk2ric8,\n",
    "                                  pssk1ssk2ric8)), H2O2.ravel(),\n",
    "                      discrete_features=True)\n",
    "    MIperm.append(miperm)\n",
    "    \n",
    "MIperm = np.array(MIperm)\n",
    "    \n",
    "MI_pssk1 = MIperm[:,1]\n",
    "MI_pssk2 = MIperm[:,2]\n",
    "MI_pric8 = MIperm[:,3]\n",
    "MI_pssk1ssk2 = MIperm[:,4]\n",
    "MI_pssk1ric8 = MIperm[:,5]\n",
    "MI_pssk2ric8 = MIperm[:,6]\n",
    "MI_pssk1ssk2ric8 = MIperm[:,7]\n",
    "\n",
    "zeros = np.zeros_like(MI_pssk1)\n",
    "\n",
    "# IGstrict for permuted data\n",
    "IG_pssk1ssk2 = MI_pssk1ssk2 - MI_pssk1 - MI_pssk2\n",
    "IG_pssk1ric8 = MI_pssk1ric8 - MI_pssk1 - MI_pric8\n",
    "IG_pssk2ric8 = MI_pssk2ric8 - MI_pssk2 - MI_pric8\n",
    "IG_pssk1ssk2ric8 =  MI_pssk1ssk2ric8 - np.maximum(IG_pssk1ssk2, zeros) \\\n",
    "    - np.maximum(IG_pssk1ric8, zeros) \\\n",
    "    - np.maximum(IG_pssk2ric8, zeros) \\\n",
    "    - MI_pssk1 - MI_pssk2 - MI_pric8"
   ]
  },
  {
   "cell_type": "code",
   "execution_count": 25,
   "metadata": {},
   "outputs": [
    {
     "name": "stdout",
     "output_type": "stream",
     "text": [
      "0.30468433657968064\n",
      "p-value:  0.0\n"
     ]
    },
    {
     "data": {
      "image/png": "[encoded data removed]",
      "text/plain": [
       "<Figure size 432x288 with 1 Axes>"
      ]
     },
     "metadata": {
      "needs_background": "light"
     },
     "output_type": "display_data"
    }
   ],
   "source": [
    "plt.hist(MI_pssk1ssk2ric8)\n",
    "plt.vlines(MI_ssk1ssk2ric8,0,200,color='r');\n",
    "print(MI_ssk1ssk2ric8)\n",
    "print(\"p-value: \", np.sum(MI_pssk1ssk2ric8 > MI_ssk1ssk2ric8)/float(len(MI_pssk1ssk2ric8)))"
   ]
  },
  {
   "cell_type": "markdown",
   "metadata": {},
   "source": [
    "### 3-way IG"
   ]
  },
  {
   "cell_type": "code",
   "execution_count": 33,
   "metadata": {},
   "outputs": [
    {
     "data": {
      "text/plain": [
       "'/home/croth/crypto-QTL-paper/SCRIPTS'"
      ]
     },
     "execution_count": 33,
     "metadata": {},
     "output_type": "execute_result"
    }
   ],
   "source": [
    "pwd"
   ]
  },
  {
   "cell_type": "code",
   "execution_count": 26,
   "metadata": {},
   "outputs": [
    {
     "name": "stdout",
     "output_type": "stream",
     "text": [
      "0.10216925752788591\n",
      "p-value:  0.0\n"
     ]
    },
    {
     "data": {
      "image/png": "[encoded data removed]",
      "text/plain": [
       "<Figure size 432x288 with 1 Axes>"
      ]
     },
     "metadata": {
      "needs_background": "light"
     },
     "output_type": "display_data"
    }
   ],
   "source": [
    "plt.hist(IG_pssk1ssk2ric8)\n",
    "plt.vlines(IG_ssk1ssk2ric8, ymin=0, ymax=200, color='r')\n",
    "print(IG_ssk1ssk2ric8)\n",
    "print(\"p-value: \", np.sum(IG_pssk1ssk2ric8 > IG_ssk1ssk2ric8)/float(len(IG_pssk1ssk2ric8)))"
   ]
  },
  {
   "cell_type": "markdown",
   "metadata": {},
   "source": [
    "### 2-way IGs"
   ]
  },
  {
   "cell_type": "code",
   "execution_count": 27,
   "metadata": {},
   "outputs": [
    {
     "name": "stdout",
     "output_type": "stream",
     "text": [
      "p-value:  1.0\n"
     ]
    },
    {
     "data": {
      "image/png": "[encoded data removed]",
      "text/plain": [
       "<Figure size 432x288 with 1 Axes>"
      ]
     },
     "metadata": {
      "needs_background": "light"
     },
     "output_type": "display_data"
    }
   ],
   "source": [
    "plt.hist(IG_pssk1ssk2)\n",
    "plt.vlines(IG_ssk1ssk2, ymin=0, ymax=200, color='r')\n",
    "print(\"p-value: \", np.sum(IG_pssk1ssk2 > IG_ssk1ssk2)/float(len(IG_pssk1ssk2)))"
   ]
  },
  {
   "cell_type": "code",
   "execution_count": 28,
   "metadata": {},
   "outputs": [
    {
     "name": "stdout",
     "output_type": "stream",
     "text": [
      "p-value:  0.282\n"
     ]
    },
    {
     "data": {
      "image/png": "[encoded data removed]",
      "text/plain": [
       "<Figure size 432x288 with 1 Axes>"
      ]
     },
     "metadata": {
      "needs_background": "light"
     },
     "output_type": "display_data"
    }
   ],
   "source": [
    "plt.hist(IG_pssk1ric8)\n",
    "plt.vlines(IG_ssk1ric8, ymin=0, ymax=200, color='r')\n",
    "print(\"p-value: \", np.sum(IG_pssk1ric8 > IG_ssk1ric8)/float(len(IG_pssk1ric8)))"
   ]
  },
  {
   "cell_type": "code",
   "execution_count": 29,
   "metadata": {},
   "outputs": [
    {
     "name": "stdout",
     "output_type": "stream",
     "text": [
      "p-value:  0.935\n"
     ]
    },
    {
     "data": {
      "image/png": "[encoded data removed]",
      "text/plain": [
       "<Figure size 432x288 with 1 Axes>"
      ]
     },
     "metadata": {
      "needs_background": "light"
     },
     "output_type": "display_data"
    }
   ],
   "source": [
    "plt.hist(IG_pssk2ric8)\n",
    "plt.vlines(IG_ssk2ric8, ymin=0, ymax=200, color='r')\n",
    "print(\"p-value: \", np.sum(IG_pssk2ric8 > IG_ssk2ric8)/float(len(IG_pssk2ric8)))"
   ]
  },
  {
   "cell_type": "markdown",
   "metadata": {},
   "source": [
    "### Main effect MIs"
   ]
  },
  {
   "cell_type": "code",
   "execution_count": 30,
   "metadata": {},
   "outputs": [
    {
     "name": "stdout",
     "output_type": "stream",
     "text": [
      "0.033376886611484025\n",
      "p-value:  0.033\n"
     ]
    },
    {
     "data": {
      "image/png": "[encoded data removed]",
      "text/plain": [
       "<Figure size 432x288 with 1 Axes>"
      ]
     },
     "metadata": {
      "needs_background": "light"
     },
     "output_type": "display_data"
    }
   ],
   "source": [
    "plt.hist(MI_pssk1)\n",
    "plt.vlines(MI_ssk1, ymin=0, ymax=200, color='r')\n",
    "print(MI_ssk1)\n",
    "print(\"p-value: \", np.sum(MI_pssk1 > MI_ssk1)/float(len(MI_pssk1)))"
   ]
  },
  {
   "cell_type": "code",
   "execution_count": 31,
   "metadata": {},
   "outputs": [
    {
     "name": "stdout",
     "output_type": "stream",
     "text": [
      "0.0884298936544215\n",
      "p-value:  0.0\n"
     ]
    },
    {
     "data": {
      "image/png": "[encoded data removed]",
      "text/plain": [
       "<Figure size 432x288 with 1 Axes>"
      ]
     },
     "metadata": {
      "needs_background": "light"
     },
     "output_type": "display_data"
    }
   ],
   "source": [
    "plt.hist(MI_pssk2)\n",
    "plt.vlines(MI_ssk2, ymin=0, ymax=200, color='r')\n",
    "print(MI_ssk2)\n",
    "print(\"p-value: \", np.sum(MI_pssk2 > MI_ssk2)/float(len(MI_pssk2)))"
   ]
  },
  {
   "cell_type": "code",
   "execution_count": 32,
   "metadata": {},
   "outputs": [
    {
     "name": "stdout",
     "output_type": "stream",
     "text": [
      "0.06756676623970553\n",
      "p-value:  0.0\n"
     ]
    },
    {
     "data": {
      "image/png": "[encoded data removed]",
      "text/plain": [
       "<Figure size 432x288 with 1 Axes>"
      ]
     },
     "metadata": {
      "needs_background": "light"
     },
     "output_type": "display_data"
    }
   ],
   "source": [
    "plt.hist(MI_pric8)\n",
    "plt.vlines(MI_ric8, ymin=0, ymax=200, color='r')\n",
    "print(MI_ric8)\n",
    "print(\"p-value: \", np.sum(MI_pric8 > MI_ric8)/float(len(MI_pric8)))"
   ]
  },
  {
   "cell_type": "code",
   "execution_count": null,
   "metadata": {},
   "outputs": [],
   "source": []
  }
 ],
 "metadata": {
  "kernelspec": {
   "display_name": "Python 3",
   "language": "python",
   "name": "python3"
  },
  "language_info": {
   "codemirror_mode": {
    "name": "ipython",
    "version": 3
   },
   "file_extension": ".py",
   "mimetype": "text/x-python",
   "name": "python",
   "nbconvert_exporter": "python",
   "pygments_lexer": "ipython3",
   "version": "3.8.5"
  }
 },
 "nbformat": 4,
 "nbformat_minor": 4
}
