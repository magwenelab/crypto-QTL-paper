{
 "cells": [
  {
   "cell_type": "code",
   "execution_count": 1,
   "metadata": {},
   "outputs": [],
   "source": [
    "## Bring in needed mods\n",
    "import numpy as np, pandas as pd, vcfpy as vcf, os"
   ]
  },
  {
   "cell_type": "code",
   "execution_count": 2,
   "metadata": {},
   "outputs": [],
   "source": [
    "## Set variables \n",
    "## Change the target VCF_FILE to run on other chormosomes\n",
    "VCF_FILE = '../DATA/GENOTYPE/CDX_illumina_vcf/DNX-Chr01-xl280genome-127.vcf.gz'\n",
    "fspl = '.vcf.gz'\n",
    "fear = '-ar-df.csv.gz'\n",
    "fegt = '-gt-df.csv.gz'\n",
    "\n",
    "## Set genotype and allelic read depth ratio save paths\n",
    "gtsavepath = 'DFRAME/DNX'.join(VCF_FILE.split('DNX')\n",
    "                              ).split(fspl)[0]+fegt\n",
    "\n",
    "arsavepath = 'DFRAME/DNX'.join(VCF_FILE.split('DNX')\n",
    "                              ).split(fspl)[0]+fear"
   ]
  },
  {
   "cell_type": "code",
   "execution_count": 3,
   "metadata": {},
   "outputs": [
    {
     "data": {
      "text/plain": [
       "67298"
      ]
     },
     "execution_count": 3,
     "metadata": {},
     "output_type": "execute_result"
    }
   ],
   "source": [
    "## Use the vcf.Reader to bring the file into python\n",
    "rdr = vcf.Reader.from_path(VCF_FILE)\n",
    "\n",
    "## For the records in the VCF file\n",
    "recs = np.array([rec for rec in rdr])\n",
    "len(recs)"
   ]
  },
  {
   "cell_type": "code",
   "execution_count": 20,
   "metadata": {},
   "outputs": [],
   "source": [
    "## Gather info on recs\n",
    "chrom = [rec.CHROM for rec in recs]\n",
    "pos = [rec.POS for rec in recs]\n",
    "qual = [rec.QUAL for rec in recs]\n",
    "callrate = [rec.INFO['AN']/len(rec.calls) \n",
    "            for rec in recs]\n",
    "ref = [rec.REF for rec in recs]\n",
    "alt = [rec.ALT for rec in recs]\n",
    "len_alt = [len(a) for a in alt]\n",
    "dps = [rec.INFO['DP'] for rec in recs]\n",
    "typegv = [rec.INFO['TYPE'][0] for rec in recs]"
   ]
  },
  {
   "cell_type": "code",
   "execution_count": 6,
   "metadata": {},
   "outputs": [],
   "source": [
    "## Gather the allelic read depths\n",
    "ads = [[seg.data[‘AD’] if seg.data[‘GT’]!=None else None\n",
    "        for seg in rec] for rec in recs]\n",
    "\n",
    "## Gather called genotypes\n",
    "gts = [[seg.data[‘GT’] for seg in rec]\n",
    "       for rec in recs]"
   ]
  },
  {
   "cell_type": "code",
   "execution_count": null,
   "metadata": {},
   "outputs": [],
   "source": [
    "## Gather sample names\n",
    "sample_names = [seg.sample for seg in recs[0]]"
   ]
  },
  {
   "cell_type": "code",
   "execution_count": 21,
   "metadata": {},
   "outputs": [
    {
     "data": {
      "text/html": [
       "<div>\n",
       "<style scoped>\n",
       "    .dataframe tbody tr th:only-of-type {\n",
       "        vertical-align: middle;\n",
       "    }\n",
       "\n",
       "    .dataframe tbody tr th {\n",
       "        vertical-align: top;\n",
       "    }\n",
       "\n",
       "    .dataframe thead th {\n",
       "        text-align: right;\n",
       "    }\n",
       "</style>\n",
       "<table border=\"1\" class=\"dataframe\">\n",
       "  <thead>\n",
       "    <tr style=\"text-align: right;\">\n",
       "      <th></th>\n",
       "      <th>Chrom</th>\n",
       "      <th>Pos</th>\n",
       "      <th>Qual</th>\n",
       "      <th>Callrate</th>\n",
       "      <th>Ref</th>\n",
       "      <th>Altlen</th>\n",
       "      <th>Dp</th>\n",
       "      <th>Type</th>\n",
       "      <th>Alt</th>\n",
       "    </tr>\n",
       "  </thead>\n",
       "  <tbody>\n",
       "    <tr>\n",
       "      <th>0</th>\n",
       "      <td>Chr01</td>\n",
       "      <td>1</td>\n",
       "      <td>1532.58</td>\n",
       "      <td>0.299213</td>\n",
       "      <td>C</td>\n",
       "      <td>1</td>\n",
       "      <td>61</td>\n",
       "      <td>SNV</td>\n",
       "      <td>G</td>\n",
       "    </tr>\n",
       "    <tr>\n",
       "      <th>1</th>\n",
       "      <td>Chr01</td>\n",
       "      <td>6</td>\n",
       "      <td>7720.89</td>\n",
       "      <td>0.440945</td>\n",
       "      <td>C</td>\n",
       "      <td>1</td>\n",
       "      <td>273</td>\n",
       "      <td>SNV</td>\n",
       "      <td>T</td>\n",
       "    </tr>\n",
       "    <tr>\n",
       "      <th>2</th>\n",
       "      <td>Chr01</td>\n",
       "      <td>14</td>\n",
       "      <td>84027.3</td>\n",
       "      <td>0.527559</td>\n",
       "      <td>C</td>\n",
       "      <td>1</td>\n",
       "      <td>2905</td>\n",
       "      <td>SNV</td>\n",
       "      <td>T</td>\n",
       "    </tr>\n",
       "    <tr>\n",
       "      <th>3</th>\n",
       "      <td>Chr01</td>\n",
       "      <td>28</td>\n",
       "      <td>0</td>\n",
       "      <td>0.527559</td>\n",
       "      <td>A</td>\n",
       "      <td>1</td>\n",
       "      <td>3600</td>\n",
       "      <td>SNV</td>\n",
       "      <td>T</td>\n",
       "    </tr>\n",
       "    <tr>\n",
       "      <th>4</th>\n",
       "      <td>Chr01</td>\n",
       "      <td>152</td>\n",
       "      <td>33410</td>\n",
       "      <td>0.480315</td>\n",
       "      <td>ATAGCCGAATGGATGAGTCGAGTGTGACGGGCT</td>\n",
       "      <td>1</td>\n",
       "      <td>1486</td>\n",
       "      <td>MNV</td>\n",
       "      <td>CTAGCCTAGTGGATCAGTCGGGCGTGATGGGAT</td>\n",
       "    </tr>\n",
       "  </tbody>\n",
       "</table>\n",
       "</div>"
      ],
      "text/plain": [
       "   Chrom  Pos     Qual  Callrate                                Ref Altlen  \\\n",
       "0  Chr01    1  1532.58  0.299213                                  C      1   \n",
       "1  Chr01    6  7720.89  0.440945                                  C      1   \n",
       "2  Chr01   14  84027.3  0.527559                                  C      1   \n",
       "3  Chr01   28        0  0.527559                                  A      1   \n",
       "4  Chr01  152    33410  0.480315  ATAGCCGAATGGATGAGTCGAGTGTGACGGGCT      1   \n",
       "\n",
       "     Dp Type                                Alt  \n",
       "0    61  SNV                                  G  \n",
       "1   273  SNV                                  T  \n",
       "2  2905  SNV                                  T  \n",
       "3  3600  SNV                                  T  \n",
       "4  1486  MNV  CTAGCCTAGTGGATCAGTCGGGCGTGATGGGAT  "
      ]
     },
     "execution_count": 21,
     "metadata": {},
     "output_type": "execute_result"
    }
   ],
   "source": [
    "## Make dataframe with info and allelic info\n",
    "data_df = pd.DataFrame([chrom,pos,qual,callrate,ref,\n",
    "                        alt,len_alt,dps,typegv]).T\n",
    "\n",
    "## Set columns\n",
    "data_df.columns = ['Chrom','Pos','Qual','Callrate',\n",
    "                   'Ref','Altall','Altlen','Dp','Type']\n",
    "\n",
    "data_df['Alt'] = ['.'.join([a.value for a in s]) \n",
    "                   for s in data_df.Altall]\n",
    "\n",
    "data_df['Type'] = ['.'.join([a.type for a in s]) \n",
    "                   for s in data_df.Altall]\n",
    "\n",
    "data_df.drop('Altall',axis=1,inplace=True)\n",
    "\n",
    "data_df.head()"
   ]
  },
  {
   "cell_type": "code",
   "execution_count": 8,
   "metadata": {},
   "outputs": [],
   "source": [
    "## Make temp dataframe with allelic read depth info\n",
    "tempads = pd.DataFrame(ads,columns=sample_names)\n",
    "data_ad = pd.concat([data_df,tempads],axis=1)\n",
    "data_ad.fillna(value=np.nan, inplace=True)"
   ]
  },
  {
   "cell_type": "code",
   "execution_count": 9,
   "metadata": {},
   "outputs": [],
   "source": [
    "## Round the allelic ratio values\n",
    "data_ad[sample_names]=data_ad[sample_names].apply(\n",
    "                        np.round,args=[3],axis=1)"
   ]
  },
  {
   "cell_type": "code",
   "execution_count": 10,
   "metadata": {},
   "outputs": [],
   "source": [
    "## Save alellic read depth dataframe\n",
    "data_ad.to_csv(arsavepath)"
   ]
  },
  {
   "cell_type": "code",
   "execution_count": 11,
   "metadata": {},
   "outputs": [],
   "source": [
    "## Make and edit dataframe with genotype data\n",
    "tempgt = pd.DataFrame(gts,columns=sample_names)\n",
    "tempgt.replace('.',np.nan,inplace=True)"
   ]
  },
  {
   "cell_type": "code",
   "execution_count": 12,
   "metadata": {},
   "outputs": [],
   "source": [
    "## Find all the unique non-nan genotypes\n",
    "unique_genotypes = np.unique(\n",
    "                    np.concatenate(\n",
    "                        tempgt.dropna().values))"
   ]
  },
  {
   "cell_type": "code",
   "execution_count": 13,
   "metadata": {},
   "outputs": [],
   "source": [
    "## Replace them with float verzions\n",
    "for ug in unique_genotypes:\n",
    "    tempgt.replace(ug,\n",
    "                   float(int(ug)),\n",
    "                   inplace=True)"
   ]
  },
  {
   "cell_type": "code",
   "execution_count": 14,
   "metadata": {},
   "outputs": [],
   "source": [
    "## Concat the genotype dataframe to the info df\n",
    "data_gt = pd.concat([data_df,tempgt],axis=1)\n",
    "data_gt.replace('.',np.nan,inplace=True)"
   ]
  },
  {
   "cell_type": "code",
   "execution_count": 15,
   "metadata": {},
   "outputs": [
    {
     "data": {
      "text/plain": [
       "(67298, 136)"
      ]
     },
     "execution_count": 15,
     "metadata": {},
     "output_type": "execute_result"
    }
   ],
   "source": [
    "## Check shape of data\n",
    "data_gt.shape"
   ]
  },
  {
   "cell_type": "code",
   "execution_count": 16,
   "metadata": {},
   "outputs": [],
   "source": [
    "## Save the genotype dataframe\n",
    "data_gt.to_csv(gtsavepath)"
   ]
  }
 ],
 "metadata": {
  "kernelspec": {
   "display_name": "Python 3",
   "language": "python",
   "name": "python3"
  },
  "language_info": {
   "codemirror_mode": {
    "name": "ipython",
    "version": 3
   },
   "file_extension": ".py",
   "mimetype": "text/x-python",
   "name": "python",
   "nbconvert_exporter": "python",
   "pygments_lexer": "ipython3",
   "version": "3.7.3"
  }
 },
 "nbformat": 4,
 "nbformat_minor": 4
}
