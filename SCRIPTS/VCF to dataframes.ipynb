{
 "cells": [
  {
   "cell_type": "code",
   "execution_count": 1,
   "metadata": {},
   "outputs": [],
   "source": [
    "## Bring in needed mods\n",
    "import numpy as np, pandas as pd, vcfpy as vcf, os"
   ]
  },
  {
   "cell_type": "code",
   "execution_count": 2,
   "metadata": {},
   "outputs": [],
   "source": [
    "## Set variables \n",
    "## Change the target VCF_FILE to run on other chormosomes\n",
    "VCF_FILE = '../DATA/GENOTYPE/CDX_illumina_vcf/DNX-Chr14-xl280genome-127.vcf.gz'\n",
    "fspl = '.vcf.gz'\n",
    "fear = '-ar-df.csv.gz'\n",
    "fegt = '-gt-df.csv.gz'\n",
    "\n",
    "## Set genotype and allelic read depth ratio save paths\n",
    "gtsavepath = 'DFRAME/DNX'.join(VCF_FILE.split('DNX')\n",
    "                              ).split(fspl)[0]+fegt\n",
    "\n",
    "arsavepath = 'DFRAME/DNX'.join(VCF_FILE.split('DNX')\n",
    "                              ).split(fspl)[0]+fear"
   ]
  },
  {
   "cell_type": "code",
   "execution_count": 3,
   "metadata": {},
   "outputs": [
    {
     "data": {
      "text/plain": [
       "25665"
      ]
     },
     "execution_count": 3,
     "metadata": {},
     "output_type": "execute_result"
    }
   ],
   "source": [
    "## Use the vcf.Reader to bring the file into python\n",
    "rdr = vcf.Reader.from_path(VCF_FILE)\n",
    "\n",
    "## For the records in the VCF file\n",
    "recs = np.array([rec for rec in rdr])\n",
    "len(recs)"
   ]
  },
  {
   "cell_type": "code",
   "execution_count": 4,
   "metadata": {},
   "outputs": [],
   "source": [
    "## Gather info on recs\n",
    "chrom = [rec.CHROM for rec in recs]\n",
    "pos = [rec.POS for rec in recs]\n",
    "qual = [rec.QUAL for rec in recs]\n",
    "callrate = [rec.INFO['AN']/len(rec.calls) for rec in recs]\n",
    "ref = [rec.REF for rec in recs]\n",
    "alt = [rec.ALT for rec in recs]\n",
    "len_alt = [len(a) for a in alt]\n",
    "dp = [rec.INFO['DP'] for rec in recs]\n",
    "typegv = [rec.INFO['TYPE'][0] for rec in recs]"
   ]
  },
  {
   "cell_type": "code",
   "execution_count": 5,
   "metadata": {},
   "outputs": [],
   "source": [
    "DP = []\n",
    "AR = []\n",
    "GT = []\n",
    "for rec in recs:\n",
    "    dp = []\n",
    "    ar = []\n",
    "    gt = []\n",
    "    \n",
    "    for s in rec:\n",
    "        \n",
    "        if s.data['GT'] is None:\n",
    "            dp.append(np.nan)\n",
    "            ar.append(np.nan)\n",
    "            gt.append(np.nan)\n",
    "            \n",
    "        else:\n",
    "            dp.append(np.sum(s.data['AD']))\n",
    "            ar.append(int(s.data['AD'][int(s.data['GT'])])/(\n",
    "                        np.sum(s.data['AD'])+1))\n",
    "            gt.append(int(s.data['GT']))\n",
    "            \n",
    "    DP.append(dp)\n",
    "    AR.append(ar)\n",
    "    GT.append(gt)"
   ]
  },
  {
   "cell_type": "code",
   "execution_count": 6,
   "metadata": {},
   "outputs": [],
   "source": [
    "## Gather the allelic read depths\n",
    "ads = AR\n",
    "\n",
    "## Gather called genotypes\n",
    "gts = GT\n",
    "\n",
    "## Gather sample names\n",
    "sample_names = [seg.sample for seg in rec]"
   ]
  },
  {
   "cell_type": "code",
   "execution_count": 7,
   "metadata": {},
   "outputs": [],
   "source": [
    "## Make dataframe with info and allelic info\n",
    "data_df = pd.DataFrame([chrom,pos,qual,callrate,ref,\n",
    "                        alt,len_alt,dp,typegv]).T\n",
    "\n",
    "## Set columns\n",
    "data_df.columns = ['Chrom','Pos','Qual','Callrate',\n",
    "                   'Ref','Alt','Altlen','Dp','Type']"
   ]
  },
  {
   "cell_type": "code",
   "execution_count": 8,
   "metadata": {},
   "outputs": [],
   "source": [
    "## Make temp dataframe with allelic read depth info\n",
    "tempads = pd.DataFrame(ads,columns=sample_names)\n",
    "data_ad = pd.concat([data_df,tempads],axis=1)\n",
    "data_ad.fillna(value=np.nan, inplace=True)"
   ]
  },
  {
   "cell_type": "code",
   "execution_count": 9,
   "metadata": {},
   "outputs": [],
   "source": [
    "## Save alellic read depth dataframe\n",
    "data_ad.to_csv(arsavepath)"
   ]
  },
  {
   "cell_type": "code",
   "execution_count": 10,
   "metadata": {},
   "outputs": [],
   "source": [
    "## Make and edit dataframe with genotype data\n",
    "tempgt = pd.DataFrame(gts,columns=sample_names)\n",
    "tempgt.replace('.',np.nan,inplace=True)"
   ]
  },
  {
   "cell_type": "code",
   "execution_count": 11,
   "metadata": {},
   "outputs": [],
   "source": [
    "## Find all the unique non-nan genotypes\n",
    "unique_genotypes = np.unique(np.concatenate(tempgt.dropna().values))"
   ]
  },
  {
   "cell_type": "code",
   "execution_count": 12,
   "metadata": {},
   "outputs": [],
   "source": [
    "## Replace them with float verzions\n",
    "for ug in unique_genotypes:\n",
    "    tempgt.replace(ug,float(int(ug)),inplace=True)"
   ]
  },
  {
   "cell_type": "code",
   "execution_count": 13,
   "metadata": {},
   "outputs": [],
   "source": [
    "## Concat the genotype dataframe to the info df\n",
    "data_gt = pd.concat([data_df,tempgt],axis=1)\n",
    "data_gt.replace('.',np.nan,inplace=True)"
   ]
  },
  {
   "cell_type": "code",
   "execution_count": 14,
   "metadata": {},
   "outputs": [],
   "source": [
    "## Save the genotype dataframe\n",
    "data_gt.to_csv(gtsavepath)"
   ]
  },
  {
   "cell_type": "code",
   "execution_count": null,
   "metadata": {},
   "outputs": [],
   "source": []
  }
 ],
 "metadata": {
  "kernelspec": {
   "display_name": "Python 3",
   "language": "python",
   "name": "python3"
  },
  "language_info": {
   "codemirror_mode": {
    "name": "ipython",
    "version": 3
   },
   "file_extension": ".py",
   "mimetype": "text/x-python",
   "name": "python",
   "nbconvert_exporter": "python",
   "pygments_lexer": "ipython3",
   "version": "3.7.3"
  }
 },
 "nbformat": 4,
 "nbformat_minor": 4
}
