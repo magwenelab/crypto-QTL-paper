{
 "cells": [
  {
   "cell_type": "code",
   "execution_count": 1,
   "metadata": {
    "collapsed": true,
    "jupyter": {
     "outputs_hidden": true
    }
   },
   "outputs": [],
   "source": [
    "## Bring in needed mods\n",
    "import pandas as pd, numpy as np, glob"
   ]
  },
  {
   "cell_type": "code",
   "execution_count": 2,
   "metadata": {
    "collapsed": true,
    "jupyter": {
     "outputs_hidden": true
    }
   },
   "outputs": [],
   "source": [
    "## Set date of phenotype data to use\n",
    "filedate = 'Oct152018'"
   ]
  },
  {
   "cell_type": "code",
   "execution_count": 3,
   "metadata": {
    "collapsed": true,
    "jupyter": {
     "outputs_hidden": true
    }
   },
   "outputs": [],
   "source": [
    "## Give example path to permutated\n",
    "perms_path = '../FILES/PERMUT/Tecan_qtlruns_%s_curated_baselined_median21_AUC_Xstrain_*C_*_permu.csv.gz'%(filedate)"
   ]
  },
  {
   "cell_type": "code",
   "execution_count": null,
   "metadata": {
    "collapsed": true,
    "jupyter": {
     "outputs_hidden": true
    }
   },
   "outputs": [],
   "source": [
    "## set df save path\n",
    "savepath = '../FILES/Tecan_qtlruns_%s_curated_baselined_median21_AUC_Xstrain_QTL_Thresholds.csv'%(filedate)"
   ]
  },
  {
   "cell_type": "code",
   "execution_count": 4,
   "metadata": {
    "collapsed": true,
    "jupyter": {
     "outputs_hidden": true
    }
   },
   "outputs": [],
   "source": [
    "## Set index to columns in permutation pvalue dfs\n",
    "tc = 10"
   ]
  },
  {
   "cell_type": "code",
   "execution_count": 5,
   "metadata": {
    "collapsed": true,
    "jupyter": {
     "outputs_hidden": true
    }
   },
   "outputs": [],
   "source": [
    "## Write needed ftn for analysis\n",
    "def pval_cutoff(p,alpha=0.05):\n",
    "    return np.round(np.sort(p)[int((1-alpha)*len(p))],3)"
   ]
  },
  {
   "cell_type": "code",
   "execution_count": 6,
   "metadata": {
    "collapsed": true,
    "jupyter": {
     "outputs_hidden": true
    }
   },
   "outputs": [],
   "source": [
    "## Glob togehter the permutation files \n",
    "perms = glob.glob(perms_path)"
   ]
  },
  {
   "cell_type": "code",
   "execution_count": 7,
   "metadata": {},
   "outputs": [
    {
     "data": {
      "text/plain": [
       "9"
      ]
     },
     "execution_count": 7,
     "metadata": {},
     "output_type": "execute_result"
    }
   ],
   "source": [
    "## How many files do we have\n",
    "len(perms)"
   ]
  },
  {
   "cell_type": "code",
   "execution_count": 8,
   "metadata": {},
   "outputs": [
    {
     "data": {
      "text/plain": [
       "['../FILES/PERMUT/Tecan_qtlruns_Oct152018_curated_baselined_median21_AUC_Xstrain_30C_0.075_permu.csv.gz',\n",
       " '../FILES/PERMUT/Tecan_qtlruns_Oct152018_curated_baselined_median21_AUC_Xstrain_30C_0.0_permu.csv.gz',\n",
       " '../FILES/PERMUT/Tecan_qtlruns_Oct152018_curated_baselined_median21_AUC_Xstrain_30C_0.125_permu.csv.gz',\n",
       " '../FILES/PERMUT/Tecan_qtlruns_Oct152018_curated_baselined_median21_AUC_Xstrain_30C_0.175_permu.csv.gz',\n",
       " '../FILES/PERMUT/Tecan_qtlruns_Oct152018_curated_baselined_median21_AUC_Xstrain_37C_0.075_permu.csv.gz',\n",
       " '../FILES/PERMUT/Tecan_qtlruns_Oct152018_curated_baselined_median21_AUC_Xstrain_37C_0.0_permu.csv.gz',\n",
       " '../FILES/PERMUT/Tecan_qtlruns_Oct152018_curated_baselined_median21_AUC_Xstrain_37C_0.125_permu.csv.gz',\n",
       " '../FILES/PERMUT/Tecan_qtlruns_Oct152018_curated_baselined_median21_AUC_Xstrain_37C_0.175_permu.csv.gz',\n",
       " '../FILES/PERMUT/Tecan_qtlruns_Oct152018_curated_baselined_median21_AUC_Xstrain_39C_0.0_permu.csv.gz']"
      ]
     },
     "execution_count": 8,
     "metadata": {},
     "output_type": "execute_result"
    }
   ],
   "source": [
    "## What do the paths look like?\n",
    "perms"
   ]
  },
  {
   "cell_type": "code",
   "execution_count": 9,
   "metadata": {
    "collapsed": true,
    "jupyter": {
     "outputs_hidden": true
    }
   },
   "outputs": [],
   "source": [
    "## Gather the column info\n",
    "co_index = [pd.read_csv(f,compression='gzip',\n",
    "                                   index_col=0).columns.tolist(\n",
    ")[tc].split('_p')[0].split('_')[-2:] for f in perms]"
   ]
  },
  {
   "cell_type": "code",
   "execution_count": 10,
   "metadata": {},
   "outputs": [
    {
     "data": {
      "text/plain": [
       "[['30C', '0.075'],\n",
       " ['30C', '0.0'],\n",
       " ['30C', '0.125'],\n",
       " ['30C', '0.175'],\n",
       " ['37C', '0.075'],\n",
       " ['37C', '0.0'],\n",
       " ['37C', '0.125'],\n",
       " ['37C', '0.175'],\n",
       " ['39C', '0.0']]"
      ]
     },
     "execution_count": 10,
     "metadata": {},
     "output_type": "execute_result"
    }
   ],
   "source": [
    "## Check our work\n",
    "co_index"
   ]
  },
  {
   "cell_type": "code",
   "execution_count": 11,
   "metadata": {
    "collapsed": true,
    "jupyter": {
     "outputs_hidden": true
    }
   },
   "outputs": [],
   "source": [
    "## Calculate cutoffs\n",
    "cutoffs = [pval_cutoff(pd.read_csv(f,compression='gzip',\n",
    "                                   index_col=0).max(\n",
    "    axis=0).iloc[tc:].values) \n",
    "for f in perms]"
   ]
  },
  {
   "cell_type": "code",
   "execution_count": 12,
   "metadata": {
    "collapsed": true,
    "jupyter": {
     "outputs_hidden": true
    }
   },
   "outputs": [],
   "source": [
    "## Append to experiment index and modify it. \n",
    "for i,c in enumerate(co_index):\n",
    "    c[0] = int(c[0][:-1])\n",
    "    c[1] = float(c[1])\n",
    "    c.append(cutoffs[i])"
   ]
  },
  {
   "cell_type": "code",
   "execution_count": 13,
   "metadata": {
    "collapsed": true,
    "jupyter": {
     "outputs_hidden": true
    }
   },
   "outputs": [],
   "source": [
    "## Check work\n",
    "assert [len(a) == 3 for a in co_index]"
   ]
  },
  {
   "cell_type": "code",
   "execution_count": 14,
   "metadata": {
    "collapsed": true,
    "jupyter": {
     "outputs_hidden": true
    }
   },
   "outputs": [],
   "source": [
    "## Make dataframe\n",
    "cutoff_df = pd.DataFrame(co_index,columns=['temp','amphB','cutoff'])"
   ]
  },
  {
   "cell_type": "code",
   "execution_count": 15,
   "metadata": {
    "collapsed": true,
    "jupyter": {
     "outputs_hidden": true
    }
   },
   "outputs": [],
   "source": [
    "## Sort by temp and drug con\n",
    "cutoff_df.sort_values(by=['temp','amphB'],inplace=True)"
   ]
  },
  {
   "cell_type": "code",
   "execution_count": 16,
   "metadata": {},
   "outputs": [
    {
     "data": {
      "text/html": [
       "<div>\n",
       "<style scoped>\n",
       "    .dataframe tbody tr th:only-of-type {\n",
       "        vertical-align: middle;\n",
       "    }\n",
       "\n",
       "    .dataframe tbody tr th {\n",
       "        vertical-align: top;\n",
       "    }\n",
       "\n",
       "    .dataframe thead th {\n",
       "        text-align: right;\n",
       "    }\n",
       "</style>\n",
       "<table border=\"1\" class=\"dataframe\">\n",
       "  <thead>\n",
       "    <tr style=\"text-align: right;\">\n",
       "      <th></th>\n",
       "      <th>temp</th>\n",
       "      <th>amphB</th>\n",
       "      <th>cutoff</th>\n",
       "    </tr>\n",
       "  </thead>\n",
       "  <tbody>\n",
       "    <tr>\n",
       "      <th>1</th>\n",
       "      <td>30</td>\n",
       "      <td>0.000</td>\n",
       "      <td>4.139</td>\n",
       "    </tr>\n",
       "    <tr>\n",
       "      <th>0</th>\n",
       "      <td>30</td>\n",
       "      <td>0.075</td>\n",
       "      <td>4.033</td>\n",
       "    </tr>\n",
       "    <tr>\n",
       "      <th>2</th>\n",
       "      <td>30</td>\n",
       "      <td>0.125</td>\n",
       "      <td>4.074</td>\n",
       "    </tr>\n",
       "    <tr>\n",
       "      <th>3</th>\n",
       "      <td>30</td>\n",
       "      <td>0.175</td>\n",
       "      <td>4.130</td>\n",
       "    </tr>\n",
       "    <tr>\n",
       "      <th>5</th>\n",
       "      <td>37</td>\n",
       "      <td>0.000</td>\n",
       "      <td>4.098</td>\n",
       "    </tr>\n",
       "    <tr>\n",
       "      <th>4</th>\n",
       "      <td>37</td>\n",
       "      <td>0.075</td>\n",
       "      <td>4.160</td>\n",
       "    </tr>\n",
       "    <tr>\n",
       "      <th>6</th>\n",
       "      <td>37</td>\n",
       "      <td>0.125</td>\n",
       "      <td>4.069</td>\n",
       "    </tr>\n",
       "    <tr>\n",
       "      <th>7</th>\n",
       "      <td>37</td>\n",
       "      <td>0.175</td>\n",
       "      <td>4.080</td>\n",
       "    </tr>\n",
       "    <tr>\n",
       "      <th>8</th>\n",
       "      <td>39</td>\n",
       "      <td>0.000</td>\n",
       "      <td>3.944</td>\n",
       "    </tr>\n",
       "  </tbody>\n",
       "</table>\n",
       "</div>"
      ],
      "text/plain": [
       "   temp  amphB  cutoff\n",
       "1    30  0.000   4.139\n",
       "0    30  0.075   4.033\n",
       "2    30  0.125   4.074\n",
       "3    30  0.175   4.130\n",
       "5    37  0.000   4.098\n",
       "4    37  0.075   4.160\n",
       "6    37  0.125   4.069\n",
       "7    37  0.175   4.080\n",
       "8    39  0.000   3.944"
      ]
     },
     "execution_count": 16,
     "metadata": {},
     "output_type": "execute_result"
    }
   ],
   "source": [
    "## view dataframe\n",
    "cutoff_df"
   ]
  },
  {
   "cell_type": "code",
   "execution_count": 18,
   "metadata": {
    "collapsed": true,
    "jupyter": {
     "outputs_hidden": true
    }
   },
   "outputs": [],
   "source": [
    "## Save dataframe\n",
    "cutoff_df.to_csv(savepath)"
   ]
  }
 ],
 "metadata": {
  "kernelspec": {
   "display_name": "Python 3",
   "language": "python",
   "name": "python3"
  },
  "language_info": {
   "codemirror_mode": {
    "name": "ipython",
    "version": 3
   },
   "file_extension": ".py",
   "mimetype": "text/x-python",
   "name": "python",
   "nbconvert_exporter": "python",
   "pygments_lexer": "ipython3",
   "version": "3.8.5"
  }
 },
 "nbformat": 4,
 "nbformat_minor": 4
}
