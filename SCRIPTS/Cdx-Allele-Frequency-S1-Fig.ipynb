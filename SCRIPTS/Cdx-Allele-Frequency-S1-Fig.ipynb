{
 "cells": [
  {
   "cell_type": "code",
   "execution_count": 1,
   "metadata": {},
   "outputs": [],
   "source": [
    "## bring in needed mods\n",
    "import pandas as pd, numpy as np\n",
    "from matplotlib import pyplot as plt, rc\n",
    "%matplotlib inline"
   ]
  },
  {
   "cell_type": "code",
   "execution_count": 2,
   "metadata": {},
   "outputs": [],
   "source": [
    "## Set genotype path and bring in data\n",
    "gpath = '../DATA/GENOTYPE/CDx-ill-SNP-INDEL-df-104-blocked.csv.gz'\n",
    "gv = pd.read_csv(gpath)"
   ]
  },
  {
   "cell_type": "code",
   "execution_count": 3,
   "metadata": {},
   "outputs": [
    {
     "data": {
      "text/plain": [
       "6.084904500369855"
      ]
     },
     "execution_count": 3,
     "metadata": {},
     "output_type": "execute_result"
    }
   ],
   "source": [
    "## What is the log base 2 read depth?\n",
    "np.log2(np.mean(gv.Dp/127))"
   ]
  },
  {
   "cell_type": "markdown",
   "metadata": {},
   "source": [
    "## Gather the unique blocks\n",
    "#blocks = gv.Block.drop_duplicates().tolist()"
   ]
  },
  {
   "cell_type": "code",
   "execution_count": 4,
   "metadata": {},
   "outputs": [
    {
     "data": {
      "text/plain": [
       "3108"
      ]
     },
     "execution_count": 4,
     "metadata": {},
     "output_type": "execute_result"
    }
   ],
   "source": [
    "## Group the genotype by block; how many are there?\n",
    "blocked = [a for a in gv.groupby(['Chrom','Block'])]\n",
    "len(blocked)"
   ]
  },
  {
   "cell_type": "code",
   "execution_count": 5,
   "metadata": {},
   "outputs": [
    {
     "name": "stdout",
     "output_type": "stream",
     "text": [
      "['Chr01' 'Chr02' 'Chr03' 'Chr04' 'Chr05' 'Chr06' 'Chr07' 'Chr08' 'Chr09'\n",
      " 'Chr10' 'Chr11' 'Chr12' 'Chr13' 'Chr14']\n"
     ]
    }
   ],
   "source": [
    "## Print the list of chromosomes\n",
    "chrlist = gv.Chrom.unique()\n",
    "print(chrlist)"
   ]
  },
  {
   "cell_type": "code",
   "execution_count": 6,
   "metadata": {},
   "outputs": [
    {
     "name": "stderr",
     "output_type": "stream",
     "text": [
      "/home/croth/anaconda3/lib/python3.7/site-packages/ipykernel_launcher.py:4: VisibleDeprecationWarning: Creating an ndarray from ragged nested sequences (which is a list-or-tuple of lists-or-tuples-or ndarrays with different lengths or shapes) is deprecated. If you meant to do this, you must specify 'dtype=object' when creating the ndarray\n",
      "  after removing the cwd from sys.path.\n"
     ]
    }
   ],
   "source": [
    "## Calculcate the bin sizes\n",
    "bsizes = np.array([np.array([b[1].Pos.max() - b[1].Pos.min() \n",
    "                             for b in gv[(gv.Chrom==c)].groupby('Block')])\n",
    "                   for c in chrlist])"
   ]
  },
  {
   "cell_type": "code",
   "execution_count": 7,
   "metadata": {},
   "outputs": [
    {
     "data": {
      "text/plain": [
       "(6342.359223300971, 4384.811881188119)"
      ]
     },
     "execution_count": 7,
     "metadata": {},
     "output_type": "execute_result"
    }
   ],
   "source": [
    "## What is the max and min kb/cM across the chromosomes\n",
    "np.max([np.mean(b) for b in bsizes]),np.min([np.mean(b) for b in bsizes])"
   ]
  },
  {
   "cell_type": "code",
   "execution_count": 8,
   "metadata": {},
   "outputs": [
    {
     "data": {
      "text/plain": [
       "5.367804054054054"
      ]
     },
     "execution_count": 8,
     "metadata": {},
     "output_type": "execute_result"
    }
   ],
   "source": [
    "## From our 2018 paper, \n",
    "## We predicted an average 5.4 kb/cM, \n",
    "## with a max and min of 6.3 and 4.4 kb/cM, \n",
    "## respectively, across the 14 chromosomes.\n",
    "## Here lets check in these we have an average:\n",
    "np.mean(np.concatenate(bsizes))/1000"
   ]
  },
  {
   "cell_type": "code",
   "execution_count": 9,
   "metadata": {},
   "outputs": [
    {
     "data": {
      "image/png": "[encoded data removed]",
      "text/plain": [
       "<Figure size 432x288 with 1 Axes>"
      ]
     },
     "metadata": {
      "needs_background": "light"
     },
     "output_type": "display_data"
    }
   ],
   "source": [
    "## Plot a histograam of hte log10 bin sizes\n",
    "plt.hist(np.log10(np.concatenate(bsizes)+1));"
   ]
  },
  {
   "cell_type": "code",
   "execution_count": 10,
   "metadata": {},
   "outputs": [
    {
     "data": {
      "image/png": "[encoded data removed]",
      "text/plain": [
       "<Figure size 432x288 with 1 Axes>"
      ]
     },
     "metadata": {
      "needs_background": "light"
     },
     "output_type": "display_data"
    }
   ],
   "source": [
    "## Show histogram just bin sizes\n",
    "plt.hist(np.concatenate(bsizes));"
   ]
  },
  {
   "cell_type": "code",
   "execution_count": 11,
   "metadata": {},
   "outputs": [
    {
     "data": {
      "text/plain": [
       "20"
      ]
     },
     "execution_count": 11,
     "metadata": {},
     "output_type": "execute_result"
    }
   ],
   "source": [
    "## Where is the block column in the list of columns?\n",
    "block_ix = gv.columns.tolist().index('Block')\n",
    "block_ix"
   ]
  },
  {
   "cell_type": "code",
   "execution_count": 12,
   "metadata": {},
   "outputs": [],
   "source": [
    "## Calculate the allele frequencies\n",
    "## Do this for the segregants, set the number of parental strains\n",
    "nparents = 3\n",
    "gv['AF'] = (gv[gv.columns.tolist()[block_ix+1:]].sum(axis=1)-1)/(len(gv.columns.tolist()[block_ix+1:])-nparents)"
   ]
  },
  {
   "cell_type": "code",
   "execution_count": 13,
   "metadata": {},
   "outputs": [
    {
     "data": {
      "text/plain": [
       "0    0.445545\n",
       "1    0.445545\n",
       "2    0.445545\n",
       "3    0.445545\n",
       "4    0.445545\n",
       "Name: AF, dtype: float64"
      ]
     },
     "execution_count": 13,
     "metadata": {},
     "output_type": "execute_result"
    }
   ],
   "source": [
    "## View the head\n",
    "gv['AF'].head()"
   ]
  },
  {
   "cell_type": "code",
   "execution_count": 14,
   "metadata": {},
   "outputs": [
    {
     "data": {
      "text/html": [
       "<div>\n",
       "<style scoped>\n",
       "    .dataframe tbody tr th:only-of-type {\n",
       "        vertical-align: middle;\n",
       "    }\n",
       "\n",
       "    .dataframe tbody tr th {\n",
       "        vertical-align: top;\n",
       "    }\n",
       "\n",
       "    .dataframe thead th {\n",
       "        text-align: right;\n",
       "    }\n",
       "</style>\n",
       "<table border=\"1\" class=\"dataframe\">\n",
       "  <thead>\n",
       "    <tr style=\"text-align: right;\">\n",
       "      <th></th>\n",
       "      <th>v</th>\n",
       "      <th>w</th>\n",
       "    </tr>\n",
       "  </thead>\n",
       "  <tbody>\n",
       "    <tr>\n",
       "      <th>Chr01</th>\n",
       "      <td>937505</td>\n",
       "      <td>998062</td>\n",
       "    </tr>\n",
       "    <tr>\n",
       "      <th>Chr02</th>\n",
       "      <td>855280</td>\n",
       "      <td>905374</td>\n",
       "    </tr>\n",
       "    <tr>\n",
       "      <th>Chr03</th>\n",
       "      <td>801551</td>\n",
       "      <td>911882</td>\n",
       "    </tr>\n",
       "    <tr>\n",
       "      <th>Chr04</th>\n",
       "      <td>217000</td>\n",
       "      <td>278992</td>\n",
       "    </tr>\n",
       "    <tr>\n",
       "      <th>Chr05</th>\n",
       "      <td>777789</td>\n",
       "      <td>854398</td>\n",
       "    </tr>\n",
       "    <tr>\n",
       "      <th>Chr06</th>\n",
       "      <td>864013</td>\n",
       "      <td>938913</td>\n",
       "    </tr>\n",
       "    <tr>\n",
       "      <th>Chr07</th>\n",
       "      <td>882637</td>\n",
       "      <td>911994</td>\n",
       "    </tr>\n",
       "    <tr>\n",
       "      <th>Chr08</th>\n",
       "      <td>706110</td>\n",
       "      <td>761065</td>\n",
       "    </tr>\n",
       "    <tr>\n",
       "      <th>Chr09</th>\n",
       "      <td>323968</td>\n",
       "      <td>388527</td>\n",
       "    </tr>\n",
       "    <tr>\n",
       "      <th>Chr10</th>\n",
       "      <td>802373</td>\n",
       "      <td>882178</td>\n",
       "    </tr>\n",
       "    <tr>\n",
       "      <th>Chr11</th>\n",
       "      <td>139615</td>\n",
       "      <td>178627</td>\n",
       "    </tr>\n",
       "    <tr>\n",
       "      <th>Chr12</th>\n",
       "      <td>129462</td>\n",
       "      <td>176276</td>\n",
       "    </tr>\n",
       "    <tr>\n",
       "      <th>Chr13</th>\n",
       "      <td>122411</td>\n",
       "      <td>182012</td>\n",
       "    </tr>\n",
       "    <tr>\n",
       "      <th>Chr14</th>\n",
       "      <td>568029</td>\n",
       "      <td>644419</td>\n",
       "    </tr>\n",
       "  </tbody>\n",
       "</table>\n",
       "</div>"
      ],
      "text/plain": [
       "            v       w\n",
       "Chr01  937505  998062\n",
       "Chr02  855280  905374\n",
       "Chr03  801551  911882\n",
       "Chr04  217000  278992\n",
       "Chr05  777789  854398\n",
       "Chr06  864013  938913\n",
       "Chr07  882637  911994\n",
       "Chr08  706110  761065\n",
       "Chr09  323968  388527\n",
       "Chr10  802373  882178\n",
       "Chr11  139615  178627\n",
       "Chr12  129462  176276\n",
       "Chr13  122411  182012\n",
       "Chr14  568029  644419"
      ]
     },
     "execution_count": 14,
     "metadata": {},
     "output_type": "execute_result"
    }
   ],
   "source": [
    "## Bring in the centromere locations\n",
    "centlocs = pd.read_csv('../DATA/XL280-centromere-locs.csv',\n",
    "                       index_col=0)\n",
    "centlocs.columns = ['v','w']\n",
    "centlocs"
   ]
  },
  {
   "cell_type": "code",
   "execution_count": 15,
   "metadata": {},
   "outputs": [
    {
     "data": {
      "image/png": "[encoded data removed]",
      "text/plain": [
       "<Figure size 1080x360 with 14 Axes>"
      ]
     },
     "metadata": {
      "needs_background": "light"
     },
     "output_type": "display_data"
    }
   ],
   "source": [
    "## Make supplementary figure 1\n",
    "fig,ax = plt.subplots(2,7,figsize=(15,5),sharey=True);\n",
    "for chrom in chrlist:\n",
    "    i = int(chrom[-2:])-1\n",
    "    plt.sca(ax.ravel()[i])\n",
    "    temp = gv[(gv.Chrom==chrom)]\n",
    "    plt.hlines(0.5,0,temp.Pos.max()/1000,\n",
    "               linestyle='--',color='grey',alpha=0.5)\n",
    "    plt.plot(temp.Pos/1000,temp.AF,'.',alpha=0.25,ms=2);\n",
    "    \n",
    "    plt.title(str(i+1),y=0.85,x=0.5);\n",
    "    plt.hlines(0.5,*centlocs.T[chrom].T[['v','w']].values/1000,\n",
    "               'k',linewidth=10)\n",
    "plt.ylim(0,1);\n",
    "plt.sca(ax[0,0]);\n",
    "plt.ylabel('Allele Frequency\\n'+r'$\\leftarrow$' + r'XL280$\\bf{a}$ - 431'  + r'$\\alpha\\rightarrow$',\n",
    "                            fontsize=14,y=-0.1);\n",
    "plt.sca(ax[-1,3]);\n",
    "plt.xlabel('Chromosome Coordinates (kb)',fontsize=14);\n",
    "plt.savefig('../FIGURES/SUPP/PDFs/S1_Fig.pdf',\n",
    "            dpi=300,bbox_inches='tight');"
   ]
  },
  {
   "cell_type": "code",
   "execution_count": 16,
   "metadata": {},
   "outputs": [
    {
     "data": {
      "text/plain": [
       "(0.26732673267326734, 0.2277227722772277)"
      ]
     },
     "execution_count": 16,
     "metadata": {},
     "output_type": "execute_result"
    }
   ],
   "source": [
    "## What are the minor allele frequencies?\n",
    "gv.AF.min(),1-gv.AF.max()"
   ]
  }
 ],
 "metadata": {
  "kernelspec": {
   "display_name": "Python 3",
   "language": "python",
   "name": "python3"
  },
  "language_info": {
   "codemirror_mode": {
    "name": "ipython",
    "version": 3
   },
   "file_extension": ".py",
   "mimetype": "text/x-python",
   "name": "python",
   "nbconvert_exporter": "python",
   "pygments_lexer": "ipython3",
   "version": "3.7.3"
  }
 },
 "nbformat": 4,
 "nbformat_minor": 4
}
