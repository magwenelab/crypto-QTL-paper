{
 "cells": [
  {
   "cell_type": "code",
   "execution_count": null,
   "metadata": {
    "collapsed": true
   },
   "outputs": [],
   "source": [
    "## Set file date for use. As of October, this is Oct152018\n",
    "filedate = 'Oct152018'"
   ]
  },
  {
   "cell_type": "code",
   "execution_count": 1,
   "metadata": {
    "collapsed": true
   },
   "outputs": [],
   "source": [
    "## bring in needed mods\n",
    "import pandas as pd"
   ]
  },
  {
   "cell_type": "code",
   "execution_count": 2,
   "metadata": {
    "collapsed": true
   },
   "outputs": [],
   "source": [
    "## set path to phenotype data, should in in the words, \"curation_baselined_median21_AUC_Xstrain.csv'\n",
    "data_path = '../FILES/Tecan_qtlruns_%s_curated_baselined_median21_AUC_Xstrain_noclone.csv'%(filedate)"
   ]
  },
  {
   "cell_type": "code",
   "execution_count": 3,
   "metadata": {
    "collapsed": true
   },
   "outputs": [],
   "source": [
    "## Bring in phenotype data\n",
    "phenodf = pd.read_csv(data_path,index_col=0)"
   ]
  },
  {
   "cell_type": "code",
   "execution_count": 4,
   "metadata": {},
   "outputs": [
    {
     "data": {
      "text/html": [
       "<div>\n",
       "<style scoped>\n",
       "    .dataframe tbody tr th:only-of-type {\n",
       "        vertical-align: middle;\n",
       "    }\n",
       "\n",
       "    .dataframe tbody tr th {\n",
       "        vertical-align: top;\n",
       "    }\n",
       "\n",
       "    .dataframe thead th {\n",
       "        text-align: right;\n",
       "    }\n",
       "</style>\n",
       "<table border=\"1\" class=\"dataframe\">\n",
       "  <thead>\n",
       "    <tr style=\"text-align: right;\">\n",
       "      <th></th>\n",
       "      <th>temp</th>\n",
       "      <th>amphB</th>\n",
       "      <th>median_AUC</th>\n",
       "    </tr>\n",
       "    <tr>\n",
       "      <th>strain</th>\n",
       "      <th></th>\n",
       "      <th></th>\n",
       "      <th></th>\n",
       "    </tr>\n",
       "  </thead>\n",
       "  <tbody>\n",
       "    <tr>\n",
       "      <th>SS-A837</th>\n",
       "      <td>30</td>\n",
       "      <td>0.0</td>\n",
       "      <td>72.846625</td>\n",
       "    </tr>\n",
       "    <tr>\n",
       "      <th>SS-B307</th>\n",
       "      <td>30</td>\n",
       "      <td>0.0</td>\n",
       "      <td>41.784875</td>\n",
       "    </tr>\n",
       "    <tr>\n",
       "      <th>SS-B310</th>\n",
       "      <td>30</td>\n",
       "      <td>0.0</td>\n",
       "      <td>42.578175</td>\n",
       "    </tr>\n",
       "    <tr>\n",
       "      <th>SS-B311</th>\n",
       "      <td>30</td>\n",
       "      <td>0.0</td>\n",
       "      <td>51.629500</td>\n",
       "    </tr>\n",
       "    <tr>\n",
       "      <th>SS-B312</th>\n",
       "      <td>30</td>\n",
       "      <td>0.0</td>\n",
       "      <td>34.049937</td>\n",
       "    </tr>\n",
       "  </tbody>\n",
       "</table>\n",
       "</div>"
      ],
      "text/plain": [
       "         temp  amphB  median_AUC\n",
       "strain                          \n",
       "SS-A837    30    0.0   72.846625\n",
       "SS-B307    30    0.0   41.784875\n",
       "SS-B310    30    0.0   42.578175\n",
       "SS-B311    30    0.0   51.629500\n",
       "SS-B312    30    0.0   34.049937"
      ]
     },
     "execution_count": 4,
     "metadata": {},
     "output_type": "execute_result"
    }
   ],
   "source": [
    "## View the first few rows\n",
    "phenodf.head()"
   ]
  },
  {
   "cell_type": "code",
   "execution_count": 5,
   "metadata": {
    "collapsed": true
   },
   "outputs": [],
   "source": [
    "## Set genotype path\n",
    "geno_path = '../FILES/CDx-ill-SNP-df-104-blocked.csv'"
   ]
  },
  {
   "cell_type": "code",
   "execution_count": 6,
   "metadata": {
    "collapsed": true
   },
   "outputs": [],
   "source": [
    "## Bring in genotype data\n",
    "bgeno = pd.read_csv(geno_path,index_col=0)"
   ]
  },
  {
   "cell_type": "code",
   "execution_count": 7,
   "metadata": {},
   "outputs": [
    {
     "data": {
      "text/plain": [
       "(2777, 114)"
      ]
     },
     "execution_count": 7,
     "metadata": {},
     "output_type": "execute_result"
    }
   ],
   "source": [
    "## Check shape\n",
    "bgeno.shape"
   ]
  },
  {
   "cell_type": "code",
   "execution_count": 8,
   "metadata": {
    "collapsed": true
   },
   "outputs": [],
   "source": [
    "## set path to file, should in in the words, \"curation_baselined_median21_AUC_Xstrain_pvalues_combinded.csv'\n",
    "file_path = '../FILES/Tecan_qtlruns_%s_curated_baselined_median21_AUC_Xstrain_pvalues_combined.csv'%(filedate)"
   ]
  },
  {
   "cell_type": "code",
   "execution_count": 9,
   "metadata": {
    "collapsed": true
   },
   "outputs": [],
   "source": [
    "## Bring in pvalue data\n",
    "pvaldf = pd.read_csv(file_path,index_col=0)"
   ]
  },
  {
   "cell_type": "code",
   "execution_count": 10,
   "metadata": {},
   "outputs": [
    {
     "data": {
      "text/plain": [
       "(2777, 20)"
      ]
     },
     "execution_count": 10,
     "metadata": {},
     "output_type": "execute_result"
    }
   ],
   "source": [
    "## Check shape\n",
    "pvaldf.shape"
   ]
  },
  {
   "cell_type": "code",
   "execution_count": 11,
   "metadata": {},
   "outputs": [
    {
     "data": {
      "text/html": [
       "<div>\n",
       "<style scoped>\n",
       "    .dataframe tbody tr th:only-of-type {\n",
       "        vertical-align: middle;\n",
       "    }\n",
       "\n",
       "    .dataframe tbody tr th {\n",
       "        vertical-align: top;\n",
       "    }\n",
       "\n",
       "    .dataframe thead th {\n",
       "        text-align: right;\n",
       "    }\n",
       "</style>\n",
       "<table border=\"1\" class=\"dataframe\">\n",
       "  <thead>\n",
       "    <tr style=\"text-align: right;\">\n",
       "      <th></th>\n",
       "      <th>Oldix</th>\n",
       "      <th>Vcfix_v</th>\n",
       "      <th>Pos_v</th>\n",
       "      <th>Cumpos_v</th>\n",
       "      <th>Vcfix_w</th>\n",
       "      <th>Pos_w</th>\n",
       "      <th>Cum_pos_w</th>\n",
       "      <th>AF</th>\n",
       "      <th>is_ref</th>\n",
       "      <th>Chrom</th>\n",
       "      <th>30C_0.0</th>\n",
       "      <th>30C_0.075</th>\n",
       "      <th>30C_0.125</th>\n",
       "      <th>30C_0.175</th>\n",
       "      <th>37C_0.0</th>\n",
       "      <th>37C_0.075</th>\n",
       "      <th>37C_0.125</th>\n",
       "      <th>37C_0.175</th>\n",
       "      <th>39C_0.0</th>\n",
       "      <th>EBM</th>\n",
       "    </tr>\n",
       "  </thead>\n",
       "  <tbody>\n",
       "    <tr>\n",
       "      <th>0</th>\n",
       "      <td>289</td>\n",
       "      <td>289</td>\n",
       "      <td>5016</td>\n",
       "      <td>5016</td>\n",
       "      <td>1396</td>\n",
       "      <td>35290</td>\n",
       "      <td>35290</td>\n",
       "      <td>0.442308</td>\n",
       "      <td>0</td>\n",
       "      <td>Chr01</td>\n",
       "      <td>1.518794</td>\n",
       "      <td>0.482190</td>\n",
       "      <td>0.928990</td>\n",
       "      <td>0.655625</td>\n",
       "      <td>0.170498</td>\n",
       "      <td>0.084123</td>\n",
       "      <td>0.521301</td>\n",
       "      <td>0.050278</td>\n",
       "      <td>0.004560</td>\n",
       "      <td>0.467247</td>\n",
       "    </tr>\n",
       "    <tr>\n",
       "      <th>1</th>\n",
       "      <td>1398</td>\n",
       "      <td>1398</td>\n",
       "      <td>35512</td>\n",
       "      <td>35512</td>\n",
       "      <td>1426</td>\n",
       "      <td>36280</td>\n",
       "      <td>36280</td>\n",
       "      <td>0.432692</td>\n",
       "      <td>0</td>\n",
       "      <td>Chr01</td>\n",
       "      <td>1.022419</td>\n",
       "      <td>0.447783</td>\n",
       "      <td>1.346480</td>\n",
       "      <td>1.182307</td>\n",
       "      <td>0.024533</td>\n",
       "      <td>0.034230</td>\n",
       "      <td>0.406838</td>\n",
       "      <td>0.026939</td>\n",
       "      <td>0.200904</td>\n",
       "      <td>0.511887</td>\n",
       "    </tr>\n",
       "    <tr>\n",
       "      <th>2</th>\n",
       "      <td>1429</td>\n",
       "      <td>1429</td>\n",
       "      <td>36364</td>\n",
       "      <td>36364</td>\n",
       "      <td>1432</td>\n",
       "      <td>36427</td>\n",
       "      <td>36427</td>\n",
       "      <td>0.471154</td>\n",
       "      <td>0</td>\n",
       "      <td>Chr01</td>\n",
       "      <td>0.587465</td>\n",
       "      <td>0.472639</td>\n",
       "      <td>1.284711</td>\n",
       "      <td>1.175340</td>\n",
       "      <td>0.258632</td>\n",
       "      <td>0.228339</td>\n",
       "      <td>0.727523</td>\n",
       "      <td>0.161910</td>\n",
       "      <td>0.329956</td>\n",
       "      <td>0.600684</td>\n",
       "    </tr>\n",
       "    <tr>\n",
       "      <th>3</th>\n",
       "      <td>1438</td>\n",
       "      <td>1438</td>\n",
       "      <td>36573</td>\n",
       "      <td>36573</td>\n",
       "      <td>1440</td>\n",
       "      <td>36618</td>\n",
       "      <td>36618</td>\n",
       "      <td>0.451923</td>\n",
       "      <td>0</td>\n",
       "      <td>Chr01</td>\n",
       "      <td>0.361419</td>\n",
       "      <td>0.627389</td>\n",
       "      <td>1.604478</td>\n",
       "      <td>1.371012</td>\n",
       "      <td>0.372991</td>\n",
       "      <td>0.252712</td>\n",
       "      <td>0.761305</td>\n",
       "      <td>0.144492</td>\n",
       "      <td>0.369120</td>\n",
       "      <td>0.710508</td>\n",
       "    </tr>\n",
       "    <tr>\n",
       "      <th>4</th>\n",
       "      <td>1447</td>\n",
       "      <td>1447</td>\n",
       "      <td>36769</td>\n",
       "      <td>36769</td>\n",
       "      <td>1457</td>\n",
       "      <td>36882</td>\n",
       "      <td>36882</td>\n",
       "      <td>0.461538</td>\n",
       "      <td>0</td>\n",
       "      <td>Chr01</td>\n",
       "      <td>0.324940</td>\n",
       "      <td>0.647430</td>\n",
       "      <td>1.517092</td>\n",
       "      <td>1.343837</td>\n",
       "      <td>0.509959</td>\n",
       "      <td>0.484078</td>\n",
       "      <td>0.884918</td>\n",
       "      <td>0.233675</td>\n",
       "      <td>0.600102</td>\n",
       "      <td>0.831435</td>\n",
       "    </tr>\n",
       "  </tbody>\n",
       "</table>\n",
       "</div>"
      ],
      "text/plain": [
       "   Oldix  Vcfix_v  Pos_v  Cumpos_v  Vcfix_w  Pos_w  Cum_pos_w        AF  \\\n",
       "0    289      289   5016      5016     1396  35290      35290  0.442308   \n",
       "1   1398     1398  35512     35512     1426  36280      36280  0.432692   \n",
       "2   1429     1429  36364     36364     1432  36427      36427  0.471154   \n",
       "3   1438     1438  36573     36573     1440  36618      36618  0.451923   \n",
       "4   1447     1447  36769     36769     1457  36882      36882  0.461538   \n",
       "\n",
       "   is_ref  Chrom   30C_0.0  30C_0.075  30C_0.125  30C_0.175   37C_0.0  \\\n",
       "0       0  Chr01  1.518794   0.482190   0.928990   0.655625  0.170498   \n",
       "1       0  Chr01  1.022419   0.447783   1.346480   1.182307  0.024533   \n",
       "2       0  Chr01  0.587465   0.472639   1.284711   1.175340  0.258632   \n",
       "3       0  Chr01  0.361419   0.627389   1.604478   1.371012  0.372991   \n",
       "4       0  Chr01  0.324940   0.647430   1.517092   1.343837  0.509959   \n",
       "\n",
       "   37C_0.075  37C_0.125  37C_0.175   39C_0.0       EBM  \n",
       "0   0.084123   0.521301   0.050278  0.004560  0.467247  \n",
       "1   0.034230   0.406838   0.026939  0.200904  0.511887  \n",
       "2   0.228339   0.727523   0.161910  0.329956  0.600684  \n",
       "3   0.252712   0.761305   0.144492  0.369120  0.710508  \n",
       "4   0.484078   0.884918   0.233675  0.600102  0.831435  "
      ]
     },
     "execution_count": 11,
     "metadata": {},
     "output_type": "execute_result"
    }
   ],
   "source": [
    "## View the first few ros\n",
    "pvaldf.head()"
   ]
  },
  {
   "cell_type": "code",
   "execution_count": 12,
   "metadata": {
    "collapsed": true
   },
   "outputs": [],
   "source": [
    "## Combine data for easy of searching\n",
    "combdf = pd.concat([pvaldf,bgeno],axis=1)"
   ]
  },
  {
   "cell_type": "code",
   "execution_count": 13,
   "metadata": {},
   "outputs": [
    {
     "data": {
      "text/plain": [
       "(2777, 134)"
      ]
     },
     "execution_count": 13,
     "metadata": {},
     "output_type": "execute_result"
    }
   ],
   "source": [
    "## Check its shape\n",
    "combdf.shape"
   ]
  },
  {
   "cell_type": "code",
   "execution_count": 14,
   "metadata": {
    "collapsed": true
   },
   "outputs": [],
   "source": [
    "## Take unique columns\n",
    "uniq_cols = combdf.columns.unique().tolist()"
   ]
  },
  {
   "cell_type": "code",
   "execution_count": 15,
   "metadata": {},
   "outputs": [
    {
     "data": {
      "text/plain": [
       "124"
      ]
     },
     "execution_count": 15,
     "metadata": {},
     "output_type": "execute_result"
    }
   ],
   "source": [
    "## Check length\n",
    "len(uniq_cols)"
   ]
  },
  {
   "cell_type": "code",
   "execution_count": 16,
   "metadata": {
    "collapsed": true
   },
   "outputs": [],
   "source": [
    "## Drop the duplicate columns\n",
    "cdf = combdf.T.drop_duplicates().T"
   ]
  },
  {
   "cell_type": "code",
   "execution_count": 17,
   "metadata": {},
   "outputs": [
    {
     "data": {
      "text/plain": [
       "(2777, 123)"
      ]
     },
     "execution_count": 17,
     "metadata": {},
     "output_type": "execute_result"
    }
   ],
   "source": [
    "## check shape\n",
    "cdf.shape"
   ]
  },
  {
   "cell_type": "code",
   "execution_count": 18,
   "metadata": {
    "collapsed": true
   },
   "outputs": [],
   "source": [
    "## Gather the sample names\n",
    "segs = [a for a in cdf.columns.tolist() if len(a.split('S-'))==2]"
   ]
  },
  {
   "cell_type": "code",
   "execution_count": 19,
   "metadata": {},
   "outputs": [
    {
     "data": {
      "text/plain": [
       "102"
      ]
     },
     "execution_count": 19,
     "metadata": {},
     "output_type": "execute_result"
    }
   ],
   "source": [
    "## CHeck how many\n",
    "len(segs)"
   ]
  },
  {
   "cell_type": "code",
   "execution_count": 20,
   "metadata": {
    "collapsed": true
   },
   "outputs": [],
   "source": [
    "## Looks like the XL280s where dropped\n",
    "for a in ['SS-B830','SS-A853']:\n",
    "    if a in segs:\n",
    "        print 'yes'"
   ]
  },
  {
   "cell_type": "code",
   "execution_count": 21,
   "metadata": {
    "collapsed": true
   },
   "outputs": [],
   "source": [
    "## Add them back \n",
    "cdf[['SS-B830','SS-A853']] = bgeno[['SS-B830','SS-A853']]"
   ]
  },
  {
   "cell_type": "code",
   "execution_count": 22,
   "metadata": {},
   "outputs": [
    {
     "data": {
      "text/plain": [
       "(2777, 125)"
      ]
     },
     "execution_count": 22,
     "metadata": {},
     "output_type": "execute_result"
    }
   ],
   "source": [
    "## check df shape\n",
    "cdf.shape"
   ]
  },
  {
   "cell_type": "code",
   "execution_count": 23,
   "metadata": {
    "collapsed": true
   },
   "outputs": [],
   "source": [
    "## Rename the strains here to match those phenotyped by DM\n",
    "cdf_ncols = []\n",
    "for s in cdf.columns.tolist():\n",
    "    if len(s.split('S-')) == 2:\n",
    "        if len(s.split('_Cor')) > 1:\n",
    "            cdf_ncols.append(s.split('_Cor')[0]+'_cor')\n",
    "        elif s in ['SS-A853']:\n",
    "            cdf_ncols.append('XL280alpha')\n",
    "        elif s in ['SS-B830']:\n",
    "            cdf_ncols.append('XL280a')\n",
    "        else:\n",
    "            cdf_ncols.append(s)\n",
    "    else:\n",
    "        cdf_ncols.append(s)"
   ]
  },
  {
   "cell_type": "code",
   "execution_count": 24,
   "metadata": {
    "collapsed": true
   },
   "outputs": [],
   "source": [
    "## Attach new names\n",
    "cdf.columns = cdf_ncols"
   ]
  },
  {
   "cell_type": "code",
   "execution_count": 25,
   "metadata": {},
   "outputs": [
    {
     "data": {
      "text/html": [
       "<div>\n",
       "<style scoped>\n",
       "    .dataframe tbody tr th:only-of-type {\n",
       "        vertical-align: middle;\n",
       "    }\n",
       "\n",
       "    .dataframe tbody tr th {\n",
       "        vertical-align: top;\n",
       "    }\n",
       "\n",
       "    .dataframe thead th {\n",
       "        text-align: right;\n",
       "    }\n",
       "</style>\n",
       "<table border=\"1\" class=\"dataframe\">\n",
       "  <thead>\n",
       "    <tr style=\"text-align: right;\">\n",
       "      <th></th>\n",
       "      <th>Oldix</th>\n",
       "      <th>Vcfix_v</th>\n",
       "      <th>Pos_v</th>\n",
       "      <th>Cumpos_v</th>\n",
       "      <th>Vcfix_w</th>\n",
       "      <th>Pos_w</th>\n",
       "      <th>Cum_pos_w</th>\n",
       "      <th>AF</th>\n",
       "      <th>is_ref</th>\n",
       "      <th>Chrom</th>\n",
       "      <th>...</th>\n",
       "      <th>SS-C033</th>\n",
       "      <th>SS-C036</th>\n",
       "      <th>SS-C039</th>\n",
       "      <th>SS-C242</th>\n",
       "      <th>SS-C271</th>\n",
       "      <th>SS-C272</th>\n",
       "      <th>SS-C290</th>\n",
       "      <th>SS-C291</th>\n",
       "      <th>XL280a</th>\n",
       "      <th>XL280alpha</th>\n",
       "    </tr>\n",
       "  </thead>\n",
       "  <tbody>\n",
       "    <tr>\n",
       "      <th>0</th>\n",
       "      <td>289</td>\n",
       "      <td>289</td>\n",
       "      <td>5016</td>\n",
       "      <td>5016</td>\n",
       "      <td>1396</td>\n",
       "      <td>35290</td>\n",
       "      <td>35290</td>\n",
       "      <td>0.442308</td>\n",
       "      <td>0</td>\n",
       "      <td>Chr01</td>\n",
       "      <td>...</td>\n",
       "      <td>1</td>\n",
       "      <td>0</td>\n",
       "      <td>1</td>\n",
       "      <td>0</td>\n",
       "      <td>0</td>\n",
       "      <td>0</td>\n",
       "      <td>1</td>\n",
       "      <td>0</td>\n",
       "      <td>0.0</td>\n",
       "      <td>0.0</td>\n",
       "    </tr>\n",
       "    <tr>\n",
       "      <th>1</th>\n",
       "      <td>1398</td>\n",
       "      <td>1398</td>\n",
       "      <td>35512</td>\n",
       "      <td>35512</td>\n",
       "      <td>1426</td>\n",
       "      <td>36280</td>\n",
       "      <td>36280</td>\n",
       "      <td>0.432692</td>\n",
       "      <td>0</td>\n",
       "      <td>Chr01</td>\n",
       "      <td>...</td>\n",
       "      <td>1</td>\n",
       "      <td>0</td>\n",
       "      <td>1</td>\n",
       "      <td>0</td>\n",
       "      <td>0</td>\n",
       "      <td>0</td>\n",
       "      <td>1</td>\n",
       "      <td>0</td>\n",
       "      <td>0.0</td>\n",
       "      <td>0.0</td>\n",
       "    </tr>\n",
       "    <tr>\n",
       "      <th>2</th>\n",
       "      <td>1429</td>\n",
       "      <td>1429</td>\n",
       "      <td>36364</td>\n",
       "      <td>36364</td>\n",
       "      <td>1432</td>\n",
       "      <td>36427</td>\n",
       "      <td>36427</td>\n",
       "      <td>0.471154</td>\n",
       "      <td>0</td>\n",
       "      <td>Chr01</td>\n",
       "      <td>...</td>\n",
       "      <td>1</td>\n",
       "      <td>0</td>\n",
       "      <td>1</td>\n",
       "      <td>0</td>\n",
       "      <td>0</td>\n",
       "      <td>0</td>\n",
       "      <td>1</td>\n",
       "      <td>0</td>\n",
       "      <td>0.0</td>\n",
       "      <td>0.0</td>\n",
       "    </tr>\n",
       "    <tr>\n",
       "      <th>3</th>\n",
       "      <td>1438</td>\n",
       "      <td>1438</td>\n",
       "      <td>36573</td>\n",
       "      <td>36573</td>\n",
       "      <td>1440</td>\n",
       "      <td>36618</td>\n",
       "      <td>36618</td>\n",
       "      <td>0.451923</td>\n",
       "      <td>0</td>\n",
       "      <td>Chr01</td>\n",
       "      <td>...</td>\n",
       "      <td>0</td>\n",
       "      <td>0</td>\n",
       "      <td>0</td>\n",
       "      <td>0</td>\n",
       "      <td>0</td>\n",
       "      <td>0</td>\n",
       "      <td>1</td>\n",
       "      <td>0</td>\n",
       "      <td>0.0</td>\n",
       "      <td>0.0</td>\n",
       "    </tr>\n",
       "    <tr>\n",
       "      <th>4</th>\n",
       "      <td>1447</td>\n",
       "      <td>1447</td>\n",
       "      <td>36769</td>\n",
       "      <td>36769</td>\n",
       "      <td>1457</td>\n",
       "      <td>36882</td>\n",
       "      <td>36882</td>\n",
       "      <td>0.461538</td>\n",
       "      <td>0</td>\n",
       "      <td>Chr01</td>\n",
       "      <td>...</td>\n",
       "      <td>0</td>\n",
       "      <td>0</td>\n",
       "      <td>0</td>\n",
       "      <td>0</td>\n",
       "      <td>0</td>\n",
       "      <td>0</td>\n",
       "      <td>1</td>\n",
       "      <td>0</td>\n",
       "      <td>0.0</td>\n",
       "      <td>0.0</td>\n",
       "    </tr>\n",
       "  </tbody>\n",
       "</table>\n",
       "<p>5 rows × 125 columns</p>\n",
       "</div>"
      ],
      "text/plain": [
       "  Oldix Vcfix_v  Pos_v Cumpos_v Vcfix_w  Pos_w Cum_pos_w        AF is_ref  \\\n",
       "0   289     289   5016     5016    1396  35290     35290  0.442308      0   \n",
       "1  1398    1398  35512    35512    1426  36280     36280  0.432692      0   \n",
       "2  1429    1429  36364    36364    1432  36427     36427  0.471154      0   \n",
       "3  1438    1438  36573    36573    1440  36618     36618  0.451923      0   \n",
       "4  1447    1447  36769    36769    1457  36882     36882  0.461538      0   \n",
       "\n",
       "   Chrom    ...     SS-C033 SS-C036 SS-C039 SS-C242 SS-C271 SS-C272 SS-C290  \\\n",
       "0  Chr01    ...           1       0       1       0       0       0       1   \n",
       "1  Chr01    ...           1       0       1       0       0       0       1   \n",
       "2  Chr01    ...           1       0       1       0       0       0       1   \n",
       "3  Chr01    ...           0       0       0       0       0       0       1   \n",
       "4  Chr01    ...           0       0       0       0       0       0       1   \n",
       "\n",
       "  SS-C291 XL280a XL280alpha  \n",
       "0       0    0.0        0.0  \n",
       "1       0    0.0        0.0  \n",
       "2       0    0.0        0.0  \n",
       "3       0    0.0        0.0  \n",
       "4       0    0.0        0.0  \n",
       "\n",
       "[5 rows x 125 columns]"
      ]
     },
     "execution_count": 25,
     "metadata": {},
     "output_type": "execute_result"
    }
   ],
   "source": [
    "## CHeck first few rows.\n",
    "cdf.head()"
   ]
  },
  {
   "cell_type": "code",
   "execution_count": 26,
   "metadata": {
    "collapsed": true
   },
   "outputs": [],
   "source": [
    "## Set save path for this combined dataframe\n",
    "to_save_cdf = file_path.split('.csv')[0] + '_haplotypes.csv'"
   ]
  },
  {
   "cell_type": "code",
   "execution_count": 27,
   "metadata": {
    "collapsed": true
   },
   "outputs": [],
   "source": [
    "## Save dataframe\n",
    "cdf.to_csv(to_save_cdf)"
   ]
  },
  {
   "cell_type": "code",
   "execution_count": 28,
   "metadata": {},
   "outputs": [
    {
     "data": {
      "text/html": [
       "<div>\n",
       "<style scoped>\n",
       "    .dataframe tbody tr th:only-of-type {\n",
       "        vertical-align: middle;\n",
       "    }\n",
       "\n",
       "    .dataframe tbody tr th {\n",
       "        vertical-align: top;\n",
       "    }\n",
       "\n",
       "    .dataframe thead th {\n",
       "        text-align: right;\n",
       "    }\n",
       "</style>\n",
       "<table border=\"1\" class=\"dataframe\">\n",
       "  <thead>\n",
       "    <tr style=\"text-align: right;\">\n",
       "      <th></th>\n",
       "      <th>temp</th>\n",
       "      <th>amphB</th>\n",
       "      <th>median_AUC</th>\n",
       "    </tr>\n",
       "    <tr>\n",
       "      <th>strain</th>\n",
       "      <th></th>\n",
       "      <th></th>\n",
       "      <th></th>\n",
       "    </tr>\n",
       "  </thead>\n",
       "  <tbody>\n",
       "    <tr>\n",
       "      <th>SS-A837</th>\n",
       "      <td>30</td>\n",
       "      <td>0.000</td>\n",
       "      <td>72.846625</td>\n",
       "    </tr>\n",
       "    <tr>\n",
       "      <th>SS-A837</th>\n",
       "      <td>30</td>\n",
       "      <td>0.075</td>\n",
       "      <td>6.400875</td>\n",
       "    </tr>\n",
       "    <tr>\n",
       "      <th>SS-A837</th>\n",
       "      <td>30</td>\n",
       "      <td>0.125</td>\n",
       "      <td>1.578125</td>\n",
       "    </tr>\n",
       "    <tr>\n",
       "      <th>SS-A837</th>\n",
       "      <td>30</td>\n",
       "      <td>0.175</td>\n",
       "      <td>2.056125</td>\n",
       "    </tr>\n",
       "    <tr>\n",
       "      <th>SS-A837</th>\n",
       "      <td>37</td>\n",
       "      <td>0.000</td>\n",
       "      <td>60.492750</td>\n",
       "    </tr>\n",
       "    <tr>\n",
       "      <th>SS-A837</th>\n",
       "      <td>37</td>\n",
       "      <td>0.075</td>\n",
       "      <td>39.584125</td>\n",
       "    </tr>\n",
       "    <tr>\n",
       "      <th>SS-A837</th>\n",
       "      <td>37</td>\n",
       "      <td>0.125</td>\n",
       "      <td>8.387125</td>\n",
       "    </tr>\n",
       "    <tr>\n",
       "      <th>SS-A837</th>\n",
       "      <td>37</td>\n",
       "      <td>0.175</td>\n",
       "      <td>0.469125</td>\n",
       "    </tr>\n",
       "    <tr>\n",
       "      <th>SS-A837</th>\n",
       "      <td>39</td>\n",
       "      <td>0.000</td>\n",
       "      <td>18.756750</td>\n",
       "    </tr>\n",
       "  </tbody>\n",
       "</table>\n",
       "</div>"
      ],
      "text/plain": [
       "         temp  amphB  median_AUC\n",
       "strain                          \n",
       "SS-A837    30  0.000   72.846625\n",
       "SS-A837    30  0.075    6.400875\n",
       "SS-A837    30  0.125    1.578125\n",
       "SS-A837    30  0.175    2.056125\n",
       "SS-A837    37  0.000   60.492750\n",
       "SS-A837    37  0.075   39.584125\n",
       "SS-A837    37  0.125    8.387125\n",
       "SS-A837    37  0.175    0.469125\n",
       "SS-A837    39  0.000   18.756750"
      ]
     },
     "execution_count": 28,
     "metadata": {},
     "output_type": "execute_result"
    }
   ],
   "source": [
    "## Check pheontype data of parental strain SS-A837\n",
    "phenodf.loc['SS-A837']"
   ]
  },
  {
   "cell_type": "code",
   "execution_count": 29,
   "metadata": {
    "collapsed": true
   },
   "outputs": [],
   "source": [
    "## Gather strains from phenotype data\n",
    "pheno_strains = phenodf.index.unique()"
   ]
  },
  {
   "cell_type": "code",
   "execution_count": 30,
   "metadata": {},
   "outputs": [
    {
     "data": {
      "text/plain": [
       "104"
      ]
     },
     "execution_count": 30,
     "metadata": {},
     "output_type": "execute_result"
    }
   ],
   "source": [
    "## Check the lenght of these strains\n",
    "len(pheno_strains)"
   ]
  },
  {
   "cell_type": "code",
   "execution_count": 31,
   "metadata": {
    "collapsed": true
   },
   "outputs": [],
   "source": [
    "## Check they map to genotype data\n",
    "assert cdf[pheno_strains].shape[1] == len(pheno_strains)"
   ]
  },
  {
   "cell_type": "code",
   "execution_count": 32,
   "metadata": {
    "collapsed": true
   },
   "outputs": [],
   "source": [
    "## Analysis of chromosome 2 qtl, take the max\n",
    "maxQTLc2y = cdf[(cdf.Chrom=='Chr02')]['EBM'].max()"
   ]
  },
  {
   "cell_type": "code",
   "execution_count": 33,
   "metadata": {
    "collapsed": true
   },
   "outputs": [],
   "source": [
    "## analysis of chrom 2 qtl, find the max\n",
    "maxQTLc2ix = cdf[(cdf.Chrom=='Chr02')]['EBM'].sort_values().index.tolist()[-1]"
   ]
  },
  {
   "cell_type": "code",
   "execution_count": 34,
   "metadata": {
    "collapsed": true
   },
   "outputs": [],
   "source": [
    "## analysis of chrom 2 qtl, check work\n",
    "assert maxQTLc2y == cdf.loc[maxQTLc2ix,'EBM']"
   ]
  },
  {
   "cell_type": "code",
   "execution_count": 35,
   "metadata": {
    "collapsed": true
   },
   "outputs": [],
   "source": [
    "## Gather unique pheontype names from our combined dataframe\n",
    "phenos = [ a for a in cdf.columns.tolist() if len(a.split('C_0.')) == 2]"
   ]
  },
  {
   "cell_type": "code",
   "execution_count": 36,
   "metadata": {
    "collapsed": true
   },
   "outputs": [],
   "source": [
    "## Check work\n",
    "assert len(phenos) == phenodf[['temp','amphB']].drop_duplicates().shape[0]"
   ]
  },
  {
   "cell_type": "code",
   "execution_count": 37,
   "metadata": {},
   "outputs": [
    {
     "data": {
      "text/plain": [
       "['30C_0.0',\n",
       " '30C_0.075',\n",
       " '30C_0.125',\n",
       " '30C_0.175',\n",
       " '37C_0.0',\n",
       " '37C_0.075',\n",
       " '37C_0.125',\n",
       " '37C_0.175',\n",
       " '39C_0.0']"
      ]
     },
     "execution_count": 37,
     "metadata": {},
     "output_type": "execute_result"
    }
   ],
   "source": [
    "## Examine phenotypes\n",
    "phenos"
   ]
  },
  {
   "cell_type": "code",
   "execution_count": 38,
   "metadata": {
    "collapsed": true
   },
   "outputs": [],
   "source": [
    "## Gather the genotypes at the max QTL on chrome 2\n",
    "maxQTLc2g = cdf.loc[maxQTLc2ix,pheno_strains]"
   ]
  },
  {
   "cell_type": "code",
   "execution_count": 39,
   "metadata": {
    "collapsed": true
   },
   "outputs": [],
   "source": [
    "## Bring in needed mods\n",
    "%matplotlib inline\n",
    "from matplotlib import pyplot as plt\n",
    "plt.style.use('tableau-colorblind10')"
   ]
  },
  {
   "cell_type": "code",
   "execution_count": 40,
   "metadata": {
    "collapsed": true
   },
   "outputs": [],
   "source": [
    "## Make a dataframe with the genotypes at the max QTL on chrom 2 and phenotype data at 37C, 0.125 ug\n",
    "maxQTLc2df = pd.DataFrame([maxQTLc2g,phenodf[(phenodf.temp==37)\n",
    "                                             &(phenodf.amphB==0.125)]['median_AUC']]).T"
   ]
  },
  {
   "cell_type": "code",
   "execution_count": 41,
   "metadata": {
    "collapsed": true
   },
   "outputs": [],
   "source": [
    "## Bring in needed mod\n",
    "import numpy as np"
   ]
  },
  {
   "cell_type": "code",
   "execution_count": 42,
   "metadata": {
    "collapsed": true
   },
   "outputs": [],
   "source": [
    "## Make a set point to plot with seaborn\n",
    "maxQTLc2df['Set'] = np.ones(maxQTLc2df.shape[0])"
   ]
  },
  {
   "cell_type": "code",
   "execution_count": 43,
   "metadata": {
    "collapsed": true
   },
   "outputs": [],
   "source": [
    "## Make allele map, recall zero == xl280, 1 == SS-A837\n",
    "alleles = ['XL280','431'] "
   ]
  },
  {
   "cell_type": "code",
   "execution_count": 44,
   "metadata": {
    "collapsed": true
   },
   "outputs": [],
   "source": [
    "## Map the integer allele values to strings\n",
    "maxQTLc2df['Allele'] = [ alleles[int(a)] for a in maxQTLc2df[maxQTLc2ix].tolist() ]"
   ]
  },
  {
   "cell_type": "code",
   "execution_count": 45,
   "metadata": {
    "collapsed": true
   },
   "outputs": [],
   "source": [
    "## Bring in needed mods\n",
    "import seaborn as sns\n",
    "sns.set(font_scale=1)"
   ]
  },
  {
   "cell_type": "code",
   "execution_count": 46,
   "metadata": {},
   "outputs": [
    {
     "data": {
      "text/html": [
       "<div>\n",
       "<style scoped>\n",
       "    .dataframe tbody tr th:only-of-type {\n",
       "        vertical-align: middle;\n",
       "    }\n",
       "\n",
       "    .dataframe tbody tr th {\n",
       "        vertical-align: top;\n",
       "    }\n",
       "\n",
       "    .dataframe thead th {\n",
       "        text-align: right;\n",
       "    }\n",
       "</style>\n",
       "<table border=\"1\" class=\"dataframe\">\n",
       "  <thead>\n",
       "    <tr style=\"text-align: right;\">\n",
       "      <th></th>\n",
       "      <th>471</th>\n",
       "      <th>median_AUC</th>\n",
       "      <th>Set</th>\n",
       "      <th>Allele</th>\n",
       "    </tr>\n",
       "    <tr>\n",
       "      <th>strain</th>\n",
       "      <th></th>\n",
       "      <th></th>\n",
       "      <th></th>\n",
       "      <th></th>\n",
       "    </tr>\n",
       "  </thead>\n",
       "  <tbody>\n",
       "    <tr>\n",
       "      <th>SS-A837</th>\n",
       "      <td>1.0</td>\n",
       "      <td>8.387125</td>\n",
       "      <td>1.0</td>\n",
       "      <td>431</td>\n",
       "    </tr>\n",
       "    <tr>\n",
       "      <th>SS-B307</th>\n",
       "      <td>0.0</td>\n",
       "      <td>2.398550</td>\n",
       "      <td>1.0</td>\n",
       "      <td>XL280</td>\n",
       "    </tr>\n",
       "    <tr>\n",
       "      <th>SS-B310</th>\n",
       "      <td>1.0</td>\n",
       "      <td>0.650000</td>\n",
       "      <td>1.0</td>\n",
       "      <td>431</td>\n",
       "    </tr>\n",
       "    <tr>\n",
       "      <th>SS-B311</th>\n",
       "      <td>0.0</td>\n",
       "      <td>18.933625</td>\n",
       "      <td>1.0</td>\n",
       "      <td>XL280</td>\n",
       "    </tr>\n",
       "    <tr>\n",
       "      <th>SS-B312</th>\n",
       "      <td>0.0</td>\n",
       "      <td>5.445300</td>\n",
       "      <td>1.0</td>\n",
       "      <td>XL280</td>\n",
       "    </tr>\n",
       "  </tbody>\n",
       "</table>\n",
       "</div>"
      ],
      "text/plain": [
       "         471  median_AUC  Set Allele\n",
       "strain                              \n",
       "SS-A837  1.0    8.387125  1.0    431\n",
       "SS-B307  0.0    2.398550  1.0  XL280\n",
       "SS-B310  1.0    0.650000  1.0    431\n",
       "SS-B311  0.0   18.933625  1.0  XL280\n",
       "SS-B312  0.0    5.445300  1.0  XL280"
      ]
     },
     "execution_count": 46,
     "metadata": {},
     "output_type": "execute_result"
    }
   ],
   "source": [
    "maxQTLc2df.head()"
   ]
  },
  {
   "cell_type": "code",
   "execution_count": 47,
   "metadata": {
    "collapsed": true
   },
   "outputs": [],
   "source": [
    "## Set save path and save var\n",
    "figsave_switch = False\n",
    "figsavepath = '../FIGURES'+data_path.split('FILES')[-1].split('.csv')[0]+'_AUC_QTL_2.png'"
   ]
  },
  {
   "cell_type": "code",
   "execution_count": 49,
   "metadata": {
    "collapsed": true
   },
   "outputs": [],
   "source": [
    "## Set random seed\n",
    "np.random.seed(71191)"
   ]
  },
  {
   "cell_type": "code",
   "execution_count": 50,
   "metadata": {},
   "outputs": [
    {
     "data": {
      "image/png": "[encoded data removed]",
      "text/plain": [
       "<Figure size 720x504 with 1 Axes>"
      ]
     },
     "metadata": {},
     "output_type": "display_data"
    }
   ],
   "source": [
    "fig, ax = plt.subplots(1,1,figsize=(10,7));\n",
    "## Plot AUC distributions by allele\n",
    "sns.violinplot(x='Set',y = 'median_AUC',\n",
    "               data=maxQTLc2df,orient='vertical',hue='Allele',\n",
    "               split=True,cut=0,palette=\"Set3\",ax=ax);\n",
    "plt.xticks([1],' ');\n",
    "plt.xlabel('Allele',fontsize=16);\n",
    "plt.ylabel('Area Under the Curve',fontsize=16);\n",
    "\n",
    "## Plot parental strains\n",
    "plt.hlines(maxQTLc2df.loc['SS-A837','median_AUC'],\n",
    "           -0.06,0,linestyles='--',linewidth=1);\n",
    "plt.hlines(maxQTLc2df.loc['XL280alpha','median_AUC'],\n",
    "           0,0.06,linestyles='--',linewidth=1);\n",
    "plt.hlines(maxQTLc2df.loc['XL280a','median_AUC'],\n",
    "           0,0.06,linestyles='--',linewidth=1);\n",
    "\n",
    "## Plot segregants\n",
    "allele_a = maxQTLc2df[(maxQTLc2df.Allele=='431')]['median_AUC'].values\n",
    "allele_b = maxQTLc2df[(maxQTLc2df.Allele=='XL280')]['median_AUC'].values\n",
    "plt.plot(-0.03+np.random.normal(0,0.008,len(allele_a)),allele_a,'ko',ms=4,alpha=0.4)\n",
    "plt.plot(0.03+np.random.normal(0,0.008,len(allele_b)),allele_b,'ko',\n",
    "         ms=4,label='Segregant',alpha=0.4);\n",
    "\n",
    "## add labels and legend\n",
    "plt.text(-0.07,maxQTLc2df.loc['SS-A837','median_AUC'],'431',va='center',ha='right')\n",
    "plt.text(0.07,maxQTLc2df.loc['XL280a','median_AUC'],\n",
    "         'XL280a',va='center',ha='left')\n",
    "plt.text(0.07,maxQTLc2df.loc['XL280alpha','median_AUC'],\n",
    "         'XL280',va='center',ha='left');\n",
    "plt.legend(loc='upper left',fontsize=14);\n",
    "plt.title(u'Phenotype Distributions: 37°C & 0.125 ug/ml of Amph. B.',fontsize=16)\n",
    "\n",
    "## Save\n",
    "if figsave_switch:\n",
    "    fig.savefig(figsavepath,dpi=150,bbox_inches='tight')"
   ]
  }
 ],
 "metadata": {
  "kernelspec": {
   "display_name": "Python 3",
   "language": "python",
   "name": "python3"
  },
  "language_info": {
   "codemirror_mode": {
    "name": "ipython",
    "version": 3
   },
   "file_extension": ".py",
   "mimetype": "text/x-python",
   "name": "python",
   "nbconvert_exporter": "python",
   "pygments_lexer": "ipython3",
   "version": "3.7.0"
  }
 },
 "nbformat": 4,
 "nbformat_minor": 2
}
