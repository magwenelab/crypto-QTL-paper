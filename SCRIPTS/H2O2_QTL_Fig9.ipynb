{
 "cells": [
  {
   "cell_type": "code",
   "execution_count": 1,
   "metadata": {},
   "outputs": [],
   "source": [
    "## import needed mods\n",
    "import pandas as pd, numpy as np, scipy.stats as ss, seaborn as sns\n",
    "from sklearn.linear_model import LinearRegression\n",
    "from sklearn.decomposition import PCA\n",
    "\n",
    "from PIL import Image\n",
    "from matplotlib import pyplot as plt \n",
    "plt.style.use(['tableau-colorblind10'])\n",
    "\n",
    "%matplotlib inline"
   ]
  },
  {
   "cell_type": "code",
   "execution_count": 2,
   "metadata": {},
   "outputs": [],
   "source": [
    "## Write needed ftns for analysis\n",
    "def allelic_ANOVA(site, pheno):\n",
    "    \"\"\"This regression is equivalent to one-way ANOVA with 2 groups. Return F-statistic.\n",
    "\n",
    "    Assumes site is coded as -1, 1\n",
    "    \"\"\"\n",
    "    coding = np.array(site,np.float)\n",
    "    pheno = np.array(pheno,np.float)\n",
    "\n",
    "    meany = np.mean(pheno)\n",
    "    meandummy = np.mean(coding)\n",
    "    ctry = pheno - meany\n",
    "    ctrdummy = coding - meandummy\n",
    "    \n",
    "    b = np.dot(ctry, ctrdummy)/np.dot(ctrdummy, ctrdummy)\n",
    "    intercept = meany - b * meandummy\n",
    "    \n",
    "    yhat = b * ctrdummy\n",
    "    len_yhat = np.sqrt(np.dot(yhat,yhat))\n",
    "    len_y = np.sqrt(np.dot(ctry,ctry))\n",
    "    df_yhat = 1\n",
    "    \n",
    "    error = ctry  - yhat\n",
    "    len_error = np.sqrt(np.dot(error,error))\n",
    "    if abs(len_error**2) < 1e-5:\n",
    "        raise Exception(\"Zero length error in ANOVA\")\n",
    "    df_error = len(pheno) - 2\n",
    "    \n",
    "    F = (len_yhat**2/df_yhat) / (len_error**2/df_error)\n",
    "    return F\n",
    "\n",
    "\n",
    "def association_logPval(site, pheno):\n",
    "    F = allelic_ANOVA(site, pheno)\n",
    "    logP = np.log10(ss.f.sf(F, 1, len(pheno)-2))\n",
    "    return -logP"
   ]
  },
  {
   "cell_type": "code",
   "execution_count": 3,
   "metadata": {},
   "outputs": [],
   "source": [
    "## set path and bring in genotype data\n",
    "geno_path = '../DATA/GENOTYPE/CDx-ill-SNP-INDEL-df-104-blocked.csv.gz'\n",
    "geno_df = pd.read_csv(geno_path)\n",
    "loci = geno_df.Block.drop_duplicates().index"
   ]
  },
  {
   "cell_type": "code",
   "execution_count": 4,
   "metadata": {},
   "outputs": [
    {
     "data": {
      "text/html": [
       "<div>\n",
       "<style scoped>\n",
       "    .dataframe tbody tr th:only-of-type {\n",
       "        vertical-align: middle;\n",
       "    }\n",
       "\n",
       "    .dataframe tbody tr th {\n",
       "        vertical-align: top;\n",
       "    }\n",
       "\n",
       "    .dataframe thead th {\n",
       "        text-align: right;\n",
       "    }\n",
       "</style>\n",
       "<table border=\"1\" class=\"dataframe\">\n",
       "  <thead>\n",
       "    <tr style=\"text-align: right;\">\n",
       "      <th></th>\n",
       "      <th>Chrom</th>\n",
       "      <th>Pos</th>\n",
       "      <th>Qual</th>\n",
       "      <th>Callrate</th>\n",
       "      <th>Ref</th>\n",
       "      <th>Alt</th>\n",
       "      <th>Altlen</th>\n",
       "      <th>Dp</th>\n",
       "      <th>Type</th>\n",
       "      <th>Vcfix</th>\n",
       "      <th>...</th>\n",
       "      <th>SS-B598</th>\n",
       "      <th>SS-B565</th>\n",
       "      <th>SS-B600</th>\n",
       "      <th>SS-B574</th>\n",
       "      <th>SS-B872_cor</th>\n",
       "      <th>SS-B873_cor</th>\n",
       "      <th>SS-B360</th>\n",
       "      <th>SS-B397</th>\n",
       "      <th>SS-B564</th>\n",
       "      <th>SS-B382</th>\n",
       "    </tr>\n",
       "  </thead>\n",
       "  <tbody>\n",
       "    <tr>\n",
       "      <th>88605</th>\n",
       "      <td>Chr14</td>\n",
       "      <td>6648</td>\n",
       "      <td>146846.0</td>\n",
       "      <td>1.0</td>\n",
       "      <td>T</td>\n",
       "      <td>G</td>\n",
       "      <td>1</td>\n",
       "      <td>8809</td>\n",
       "      <td>snp</td>\n",
       "      <td>230</td>\n",
       "      <td>...</td>\n",
       "      <td>1.0</td>\n",
       "      <td>0.0</td>\n",
       "      <td>0.0</td>\n",
       "      <td>1.0</td>\n",
       "      <td>1.0</td>\n",
       "      <td>1.0</td>\n",
       "      <td>0.0</td>\n",
       "      <td>0.0</td>\n",
       "      <td>1.0</td>\n",
       "      <td>1.0</td>\n",
       "    </tr>\n",
       "    <tr>\n",
       "      <th>88606</th>\n",
       "      <td>Chr14</td>\n",
       "      <td>15301</td>\n",
       "      <td>89905.0</td>\n",
       "      <td>1.0</td>\n",
       "      <td>CTTTTTTTTTTTAAAAAAAAGGT</td>\n",
       "      <td>CTTTTTTTTTTAAAAAAAAAGGT</td>\n",
       "      <td>1</td>\n",
       "      <td>6238</td>\n",
       "      <td>indel</td>\n",
       "      <td>348</td>\n",
       "      <td>...</td>\n",
       "      <td>1.0</td>\n",
       "      <td>0.0</td>\n",
       "      <td>0.0</td>\n",
       "      <td>1.0</td>\n",
       "      <td>1.0</td>\n",
       "      <td>1.0</td>\n",
       "      <td>0.0</td>\n",
       "      <td>0.0</td>\n",
       "      <td>1.0</td>\n",
       "      <td>1.0</td>\n",
       "    </tr>\n",
       "    <tr>\n",
       "      <th>88607</th>\n",
       "      <td>Chr14</td>\n",
       "      <td>24175</td>\n",
       "      <td>156761.0</td>\n",
       "      <td>1.0</td>\n",
       "      <td>C</td>\n",
       "      <td>T</td>\n",
       "      <td>1</td>\n",
       "      <td>9515</td>\n",
       "      <td>snp</td>\n",
       "      <td>531</td>\n",
       "      <td>...</td>\n",
       "      <td>1.0</td>\n",
       "      <td>0.0</td>\n",
       "      <td>0.0</td>\n",
       "      <td>1.0</td>\n",
       "      <td>1.0</td>\n",
       "      <td>1.0</td>\n",
       "      <td>0.0</td>\n",
       "      <td>0.0</td>\n",
       "      <td>1.0</td>\n",
       "      <td>1.0</td>\n",
       "    </tr>\n",
       "    <tr>\n",
       "      <th>88608</th>\n",
       "      <td>Chr14</td>\n",
       "      <td>28073</td>\n",
       "      <td>139655.0</td>\n",
       "      <td>1.0</td>\n",
       "      <td>CA</td>\n",
       "      <td>CG</td>\n",
       "      <td>1</td>\n",
       "      <td>8586</td>\n",
       "      <td>indel</td>\n",
       "      <td>619</td>\n",
       "      <td>...</td>\n",
       "      <td>1.0</td>\n",
       "      <td>0.0</td>\n",
       "      <td>0.0</td>\n",
       "      <td>1.0</td>\n",
       "      <td>1.0</td>\n",
       "      <td>1.0</td>\n",
       "      <td>0.0</td>\n",
       "      <td>0.0</td>\n",
       "      <td>1.0</td>\n",
       "      <td>1.0</td>\n",
       "    </tr>\n",
       "    <tr>\n",
       "      <th>88609</th>\n",
       "      <td>Chr14</td>\n",
       "      <td>28198</td>\n",
       "      <td>139875.0</td>\n",
       "      <td>1.0</td>\n",
       "      <td>TTACA</td>\n",
       "      <td>TTACG</td>\n",
       "      <td>1</td>\n",
       "      <td>8498</td>\n",
       "      <td>indel</td>\n",
       "      <td>624</td>\n",
       "      <td>...</td>\n",
       "      <td>1.0</td>\n",
       "      <td>0.0</td>\n",
       "      <td>0.0</td>\n",
       "      <td>1.0</td>\n",
       "      <td>1.0</td>\n",
       "      <td>1.0</td>\n",
       "      <td>0.0</td>\n",
       "      <td>0.0</td>\n",
       "      <td>1.0</td>\n",
       "      <td>1.0</td>\n",
       "    </tr>\n",
       "  </tbody>\n",
       "</table>\n",
       "<p>5 rows × 125 columns</p>\n",
       "</div>"
      ],
      "text/plain": [
       "       Chrom    Pos      Qual  Callrate                      Ref  \\\n",
       "88605  Chr14   6648  146846.0       1.0                        T   \n",
       "88606  Chr14  15301   89905.0       1.0  CTTTTTTTTTTTAAAAAAAAGGT   \n",
       "88607  Chr14  24175  156761.0       1.0                        C   \n",
       "88608  Chr14  28073  139655.0       1.0                       CA   \n",
       "88609  Chr14  28198  139875.0       1.0                    TTACA   \n",
       "\n",
       "                           Alt  Altlen    Dp   Type  Vcfix  ...  SS-B598  \\\n",
       "88605                        G       1  8809    snp    230  ...      1.0   \n",
       "88606  CTTTTTTTTTTAAAAAAAAAGGT       1  6238  indel    348  ...      1.0   \n",
       "88607                        T       1  9515    snp    531  ...      1.0   \n",
       "88608                       CG       1  8586  indel    619  ...      1.0   \n",
       "88609                    TTACG       1  8498  indel    624  ...      1.0   \n",
       "\n",
       "       SS-B565  SS-B600  SS-B574  SS-B872_cor  SS-B873_cor  SS-B360  SS-B397  \\\n",
       "88605      0.0      0.0      1.0          1.0          1.0      0.0      0.0   \n",
       "88606      0.0      0.0      1.0          1.0          1.0      0.0      0.0   \n",
       "88607      0.0      0.0      1.0          1.0          1.0      0.0      0.0   \n",
       "88608      0.0      0.0      1.0          1.0          1.0      0.0      0.0   \n",
       "88609      0.0      0.0      1.0          1.0          1.0      0.0      0.0   \n",
       "\n",
       "       SS-B564  SS-B382  \n",
       "88605      1.0      1.0  \n",
       "88606      1.0      1.0  \n",
       "88607      1.0      1.0  \n",
       "88608      1.0      1.0  \n",
       "88609      1.0      1.0  \n",
       "\n",
       "[5 rows x 125 columns]"
      ]
     },
     "execution_count": 4,
     "metadata": {},
     "output_type": "execute_result"
    }
   ],
   "source": [
    "## View frist 5 rows of chromosome 14 data\n",
    "geno_df[(geno_df.Chrom=='Chr14')].head()"
   ]
  },
  {
   "cell_type": "code",
   "execution_count": 5,
   "metadata": {},
   "outputs": [
    {
     "data": {
      "text/html": [
       "<div>\n",
       "<style scoped>\n",
       "    .dataframe tbody tr th:only-of-type {\n",
       "        vertical-align: middle;\n",
       "    }\n",
       "\n",
       "    .dataframe tbody tr th {\n",
       "        vertical-align: top;\n",
       "    }\n",
       "\n",
       "    .dataframe thead th {\n",
       "        text-align: right;\n",
       "    }\n",
       "</style>\n",
       "<table border=\"1\" class=\"dataframe\">\n",
       "  <thead>\n",
       "    <tr style=\"text-align: right;\">\n",
       "      <th></th>\n",
       "      <th>type</th>\n",
       "      <th>gene</th>\n",
       "      <th>start</th>\n",
       "      <th>end</th>\n",
       "      <th>strand</th>\n",
       "      <th>contig</th>\n",
       "      <th>phase</th>\n",
       "      <th>attribute</th>\n",
       "      <th>description</th>\n",
       "      <th>id</th>\n",
       "    </tr>\n",
       "  </thead>\n",
       "  <tbody>\n",
       "    <tr>\n",
       "      <th>53405</th>\n",
       "      <td>gene</td>\n",
       "      <td>CNN01270</td>\n",
       "      <td>386833</td>\n",
       "      <td>389699</td>\n",
       "      <td>+</td>\n",
       "      <td>Chr14</td>\n",
       "      <td>.</td>\n",
       "      <td>ID=CNN01270;description=hypothetical protein</td>\n",
       "      <td>hypothetical protein</td>\n",
       "      <td>CNN01270</td>\n",
       "    </tr>\n",
       "  </tbody>\n",
       "</table>\n",
       "</div>"
      ],
      "text/plain": [
       "       type      gene   start     end strand contig phase  \\\n",
       "53405  gene  CNN01270  386833  389699      +  Chr14     .   \n",
       "\n",
       "                                          attribute           description  \\\n",
       "53405  ID=CNN01270;description=hypothetical protein  hypothetical protein   \n",
       "\n",
       "             id  \n",
       "53405  CNN01270  "
      ]
     },
     "execution_count": 5,
     "metadata": {},
     "output_type": "execute_result"
    }
   ],
   "source": [
    "## Set gff path and bring in data\n",
    "gff_path = '../DATA/xl280genome.gff3.csv.gz'\n",
    "gff = pd.read_csv(gff_path,index_col=0)\n",
    "\n",
    "## Check data for gene CNN01270 ie RIC8\n",
    "gff[(gff.id == 'CNN01270')]"
   ]
  },
  {
   "cell_type": "code",
   "execution_count": 6,
   "metadata": {},
   "outputs": [
    {
     "data": {
      "text/html": [
       "<div>\n",
       "<style scoped>\n",
       "    .dataframe tbody tr th:only-of-type {\n",
       "        vertical-align: middle;\n",
       "    }\n",
       "\n",
       "    .dataframe tbody tr th {\n",
       "        vertical-align: top;\n",
       "    }\n",
       "\n",
       "    .dataframe thead th {\n",
       "        text-align: right;\n",
       "    }\n",
       "</style>\n",
       "<table border=\"1\" class=\"dataframe\">\n",
       "  <thead>\n",
       "    <tr style=\"text-align: right;\">\n",
       "      <th></th>\n",
       "      <th>Chrom</th>\n",
       "      <th>Pos</th>\n",
       "      <th>Qual</th>\n",
       "      <th>Callrate</th>\n",
       "      <th>Ref</th>\n",
       "      <th>Alt</th>\n",
       "      <th>Altlen</th>\n",
       "      <th>Dp</th>\n",
       "      <th>Type</th>\n",
       "      <th>Vcfix</th>\n",
       "      <th>...</th>\n",
       "      <th>SS-B598</th>\n",
       "      <th>SS-B565</th>\n",
       "      <th>SS-B600</th>\n",
       "      <th>SS-B574</th>\n",
       "      <th>SS-B872_cor</th>\n",
       "      <th>SS-B873_cor</th>\n",
       "      <th>SS-B360</th>\n",
       "      <th>SS-B397</th>\n",
       "      <th>SS-B564</th>\n",
       "      <th>SS-B382</th>\n",
       "    </tr>\n",
       "  </thead>\n",
       "  <tbody>\n",
       "    <tr>\n",
       "      <th>90523</th>\n",
       "      <td>Chr14</td>\n",
       "      <td>386898</td>\n",
       "      <td>117375.0</td>\n",
       "      <td>1.0</td>\n",
       "      <td>G</td>\n",
       "      <td>A</td>\n",
       "      <td>1</td>\n",
       "      <td>7300</td>\n",
       "      <td>snp</td>\n",
       "      <td>10980</td>\n",
       "      <td>...</td>\n",
       "      <td>0.0</td>\n",
       "      <td>0.0</td>\n",
       "      <td>0.0</td>\n",
       "      <td>1.0</td>\n",
       "      <td>0.0</td>\n",
       "      <td>1.0</td>\n",
       "      <td>1.0</td>\n",
       "      <td>0.0</td>\n",
       "      <td>1.0</td>\n",
       "      <td>1.0</td>\n",
       "    </tr>\n",
       "    <tr>\n",
       "      <th>90524</th>\n",
       "      <td>Chr14</td>\n",
       "      <td>386995</td>\n",
       "      <td>131484.0</td>\n",
       "      <td>1.0</td>\n",
       "      <td>T</td>\n",
       "      <td>A</td>\n",
       "      <td>1</td>\n",
       "      <td>8331</td>\n",
       "      <td>snp</td>\n",
       "      <td>10984</td>\n",
       "      <td>...</td>\n",
       "      <td>0.0</td>\n",
       "      <td>0.0</td>\n",
       "      <td>0.0</td>\n",
       "      <td>1.0</td>\n",
       "      <td>0.0</td>\n",
       "      <td>1.0</td>\n",
       "      <td>1.0</td>\n",
       "      <td>0.0</td>\n",
       "      <td>1.0</td>\n",
       "      <td>1.0</td>\n",
       "    </tr>\n",
       "    <tr>\n",
       "      <th>90525</th>\n",
       "      <td>Chr14</td>\n",
       "      <td>387211</td>\n",
       "      <td>157752.0</td>\n",
       "      <td>1.0</td>\n",
       "      <td>T</td>\n",
       "      <td>G</td>\n",
       "      <td>1</td>\n",
       "      <td>9574</td>\n",
       "      <td>snp</td>\n",
       "      <td>10990</td>\n",
       "      <td>...</td>\n",
       "      <td>0.0</td>\n",
       "      <td>0.0</td>\n",
       "      <td>0.0</td>\n",
       "      <td>1.0</td>\n",
       "      <td>0.0</td>\n",
       "      <td>1.0</td>\n",
       "      <td>1.0</td>\n",
       "      <td>0.0</td>\n",
       "      <td>1.0</td>\n",
       "      <td>1.0</td>\n",
       "    </tr>\n",
       "    <tr>\n",
       "      <th>90526</th>\n",
       "      <td>Chr14</td>\n",
       "      <td>387317</td>\n",
       "      <td>163742.0</td>\n",
       "      <td>1.0</td>\n",
       "      <td>A</td>\n",
       "      <td>G</td>\n",
       "      <td>1</td>\n",
       "      <td>9883</td>\n",
       "      <td>snp</td>\n",
       "      <td>10991</td>\n",
       "      <td>...</td>\n",
       "      <td>0.0</td>\n",
       "      <td>0.0</td>\n",
       "      <td>0.0</td>\n",
       "      <td>1.0</td>\n",
       "      <td>0.0</td>\n",
       "      <td>1.0</td>\n",
       "      <td>1.0</td>\n",
       "      <td>0.0</td>\n",
       "      <td>1.0</td>\n",
       "      <td>1.0</td>\n",
       "    </tr>\n",
       "    <tr>\n",
       "      <th>90527</th>\n",
       "      <td>Chr14</td>\n",
       "      <td>387368</td>\n",
       "      <td>166211.0</td>\n",
       "      <td>1.0</td>\n",
       "      <td>G</td>\n",
       "      <td>T</td>\n",
       "      <td>1</td>\n",
       "      <td>9840</td>\n",
       "      <td>snp</td>\n",
       "      <td>10992</td>\n",
       "      <td>...</td>\n",
       "      <td>0.0</td>\n",
       "      <td>0.0</td>\n",
       "      <td>0.0</td>\n",
       "      <td>1.0</td>\n",
       "      <td>0.0</td>\n",
       "      <td>1.0</td>\n",
       "      <td>1.0</td>\n",
       "      <td>0.0</td>\n",
       "      <td>1.0</td>\n",
       "      <td>1.0</td>\n",
       "    </tr>\n",
       "  </tbody>\n",
       "</table>\n",
       "<p>5 rows × 125 columns</p>\n",
       "</div>"
      ],
      "text/plain": [
       "       Chrom     Pos      Qual  Callrate Ref Alt  Altlen    Dp Type  Vcfix  \\\n",
       "90523  Chr14  386898  117375.0       1.0   G   A       1  7300  snp  10980   \n",
       "90524  Chr14  386995  131484.0       1.0   T   A       1  8331  snp  10984   \n",
       "90525  Chr14  387211  157752.0       1.0   T   G       1  9574  snp  10990   \n",
       "90526  Chr14  387317  163742.0       1.0   A   G       1  9883  snp  10991   \n",
       "90527  Chr14  387368  166211.0       1.0   G   T       1  9840  snp  10992   \n",
       "\n",
       "       ...  SS-B598  SS-B565  SS-B600  SS-B574  SS-B872_cor  SS-B873_cor  \\\n",
       "90523  ...      0.0      0.0      0.0      1.0          0.0          1.0   \n",
       "90524  ...      0.0      0.0      0.0      1.0          0.0          1.0   \n",
       "90525  ...      0.0      0.0      0.0      1.0          0.0          1.0   \n",
       "90526  ...      0.0      0.0      0.0      1.0          0.0          1.0   \n",
       "90527  ...      0.0      0.0      0.0      1.0          0.0          1.0   \n",
       "\n",
       "       SS-B360  SS-B397  SS-B564  SS-B382  \n",
       "90523      1.0      0.0      1.0      1.0  \n",
       "90524      1.0      0.0      1.0      1.0  \n",
       "90525      1.0      0.0      1.0      1.0  \n",
       "90526      1.0      0.0      1.0      1.0  \n",
       "90527      1.0      0.0      1.0      1.0  \n",
       "\n",
       "[5 rows x 125 columns]"
      ]
     },
     "execution_count": 6,
     "metadata": {},
     "output_type": "execute_result"
    }
   ],
   "source": [
    "## View variants within RIC8\n",
    "geno_df[(geno_df.Chrom=='Chr14') & \n",
    "        (geno_df.Pos>=386833) & \n",
    "        (geno_df.Pos<=389699)].head()"
   ]
  },
  {
   "cell_type": "code",
   "execution_count": 7,
   "metadata": {},
   "outputs": [
    {
     "data": {
      "text/plain": [
       "14"
      ]
     },
     "execution_count": 7,
     "metadata": {},
     "output_type": "execute_result"
    }
   ],
   "source": [
    "## Define chromosomes\n",
    "chrlist = sorted(geno_df.Chrom.unique())\n",
    "len(chrlist)"
   ]
  },
  {
   "cell_type": "code",
   "execution_count": 8,
   "metadata": {},
   "outputs": [],
   "source": [
    "## Gather the length of each chromosome\n",
    "clens = [geno_df[(geno_df.Chrom==chrom)]['Pos'].max() \n",
    "         for chrom in chrlist]"
   ]
  },
  {
   "cell_type": "code",
   "execution_count": 9,
   "metadata": {},
   "outputs": [],
   "source": [
    "## Set mid points\n",
    "chrom_midpts = 0.5 * np.sum(np.array([a \n",
    "                    for a in zip([0]+list(np.cumsum(clens)),\n",
    "                            np.cumsum(clens))]),axis=1)\n",
    "cumpos = [0] + list(np.cumsum(clens))[:-1]"
   ]
  },
  {
   "cell_type": "code",
   "execution_count": 10,
   "metadata": {},
   "outputs": [],
   "source": [
    "## Set path for phenotype data\n",
    "file_path = '../DATA/PHENOTYPE/H2O2/H2O2_scores.csv.gz'"
   ]
  },
  {
   "cell_type": "code",
   "execution_count": 11,
   "metadata": {},
   "outputs": [
    {
     "data": {
      "text/plain": [
       "(480, 9)"
      ]
     },
     "execution_count": 11,
     "metadata": {},
     "output_type": "execute_result"
    }
   ],
   "source": [
    "## Bring in H2O2 data check shape\n",
    "h2O2 = pd.read_csv(file_path)\n",
    "h2O2.shape"
   ]
  },
  {
   "cell_type": "code",
   "execution_count": 12,
   "metadata": {},
   "outputs": [
    {
     "data": {
      "text/plain": [
       "[1, 2]"
      ]
     },
     "execution_count": 12,
     "metadata": {},
     "output_type": "execute_result"
    }
   ],
   "source": [
    "## Check plate names\n",
    "sorted(h2O2.Plate.unique())"
   ]
  },
  {
   "cell_type": "code",
   "execution_count": 13,
   "metadata": {},
   "outputs": [
    {
     "data": {
      "text/html": [
       "<div>\n",
       "<style scoped>\n",
       "    .dataframe tbody tr th:only-of-type {\n",
       "        vertical-align: middle;\n",
       "    }\n",
       "\n",
       "    .dataframe tbody tr th {\n",
       "        vertical-align: top;\n",
       "    }\n",
       "\n",
       "    .dataframe thead th {\n",
       "        text-align: right;\n",
       "    }\n",
       "</style>\n",
       "<table border=\"1\" class=\"dataframe\">\n",
       "  <thead>\n",
       "    <tr style=\"text-align: right;\">\n",
       "      <th></th>\n",
       "      <th>Row</th>\n",
       "      <th>Column</th>\n",
       "      <th>Plate</th>\n",
       "      <th>Strain</th>\n",
       "      <th>Scoredm</th>\n",
       "      <th>Scorelh</th>\n",
       "      <th>Plate_name</th>\n",
       "      <th>Replicate_name</th>\n",
       "      <th>Replicate</th>\n",
       "    </tr>\n",
       "  </thead>\n",
       "  <tbody>\n",
       "    <tr>\n",
       "      <th>0</th>\n",
       "      <td>e</td>\n",
       "      <td>7</td>\n",
       "      <td>2</td>\n",
       "      <td>SS-A837</td>\n",
       "      <td>3.0</td>\n",
       "      <td>3.0</td>\n",
       "      <td>qtl2a</td>\n",
       "      <td>a</td>\n",
       "      <td>0</td>\n",
       "    </tr>\n",
       "    <tr>\n",
       "      <th>1</th>\n",
       "      <td>e</td>\n",
       "      <td>7</td>\n",
       "      <td>2</td>\n",
       "      <td>SS-A837</td>\n",
       "      <td>2.0</td>\n",
       "      <td>2.0</td>\n",
       "      <td>qtl2b</td>\n",
       "      <td>b</td>\n",
       "      <td>1</td>\n",
       "    </tr>\n",
       "    <tr>\n",
       "      <th>2</th>\n",
       "      <td>e</td>\n",
       "      <td>7</td>\n",
       "      <td>2</td>\n",
       "      <td>SS-A837</td>\n",
       "      <td>2.0</td>\n",
       "      <td>2.0</td>\n",
       "      <td>qtl2c</td>\n",
       "      <td>c</td>\n",
       "      <td>2</td>\n",
       "    </tr>\n",
       "    <tr>\n",
       "      <th>3</th>\n",
       "      <td>e</td>\n",
       "      <td>7</td>\n",
       "      <td>2</td>\n",
       "      <td>SS-A837</td>\n",
       "      <td>2.0</td>\n",
       "      <td>2.0</td>\n",
       "      <td>qtl2d</td>\n",
       "      <td>d</td>\n",
       "      <td>3</td>\n",
       "    </tr>\n",
       "    <tr>\n",
       "      <th>4</th>\n",
       "      <td>b</td>\n",
       "      <td>2</td>\n",
       "      <td>2</td>\n",
       "      <td>SS-B307</td>\n",
       "      <td>2.0</td>\n",
       "      <td>2.0</td>\n",
       "      <td>qtl2a</td>\n",
       "      <td>a</td>\n",
       "      <td>0</td>\n",
       "    </tr>\n",
       "  </tbody>\n",
       "</table>\n",
       "</div>"
      ],
      "text/plain": [
       "  Row  Column  Plate   Strain  Scoredm  Scorelh Plate_name Replicate_name  \\\n",
       "0   e       7      2  SS-A837      3.0      3.0      qtl2a              a   \n",
       "1   e       7      2  SS-A837      2.0      2.0      qtl2b              b   \n",
       "2   e       7      2  SS-A837      2.0      2.0      qtl2c              c   \n",
       "3   e       7      2  SS-A837      2.0      2.0      qtl2d              d   \n",
       "4   b       2      2  SS-B307      2.0      2.0      qtl2a              a   \n",
       "\n",
       "   Replicate  \n",
       "0          0  \n",
       "1          1  \n",
       "2          2  \n",
       "3          3  \n",
       "4          0  "
      ]
     },
     "execution_count": 13,
     "metadata": {},
     "output_type": "execute_result"
    }
   ],
   "source": [
    "## view first few rows\n",
    "h2O2.head()"
   ]
  },
  {
   "cell_type": "code",
   "execution_count": 14,
   "metadata": {},
   "outputs": [],
   "source": [
    "h2O2lh = h2O2[['Row','Column','Plate','Scorelh','Strain','Replicate']].copy()\n",
    "h2O2lh['Score'] = h2O2lh.Scorelh\n",
    "h2O2lh.drop('Scorelh',axis=1,inplace=True)\n",
    "h2O2lh['Marker'] = 'LH'"
   ]
  },
  {
   "cell_type": "code",
   "execution_count": 15,
   "metadata": {},
   "outputs": [],
   "source": [
    "h2O2dm = h2O2[['Row','Column','Plate','Scoredm','Strain','Replicate']].copy()\n",
    "h2O2dm['Score'] = h2O2dm.Scoredm\n",
    "h2O2dm.drop('Scoredm',axis=1,inplace=True)\n",
    "h2O2dm['Marker'] = 'DM'"
   ]
  },
  {
   "cell_type": "code",
   "execution_count": 16,
   "metadata": {},
   "outputs": [],
   "source": [
    "dmm = h2O2dm.dropna().groupby('Strain').agg(np.median).Score\n",
    "lhm = h2O2lh.dropna().groupby('Strain').agg(np.median).Score"
   ]
  },
  {
   "cell_type": "code",
   "execution_count": 17,
   "metadata": {},
   "outputs": [
    {
     "data": {
      "image/png": "[encoded data removed]",
      "text/plain": [
       "<Figure size 360x216 with 1 Axes>"
      ]
     },
     "metadata": {
      "needs_background": "light"
     },
     "output_type": "display_data"
    }
   ],
   "source": [
    "## Compare old plates and scorer H2O2 phenotypes\n",
    "fig,ax = plt.subplots(1,1,figsize=(5,3),sharex=True,sharey=True)\n",
    "plt.plot(dmm.values,\n",
    "         lhm.values,'ko',alpha=0.25);\n",
    "plt.xlabel('Debra Median Score',fontsize=14);\n",
    "plt.ylabel('Lydia Median Score',fontsize=14);\n",
    "\n",
    "#plt.savefig('/home/croth/Desktop/H2O2_median_growth_Debra_vs_Lydia_old_new.png',\n",
    "#           dpi=100,bbox_inches='tight');"
   ]
  },
  {
   "cell_type": "code",
   "execution_count": 18,
   "metadata": {},
   "outputs": [
    {
     "data": {
      "text/plain": [
       "SpearmanrResult(correlation=0.9803019694515043, pvalue=2.870340990903693e-84)"
      ]
     },
     "execution_count": 18,
     "metadata": {},
     "output_type": "execute_result"
    }
   ],
   "source": [
    "## Check rank corr with older plates\n",
    "ss.spearmanr(dmm.values,lhm.values)\n",
    "## B/c the old plates seem to introduce more variation\n",
    "## we will droped these from analysis"
   ]
  },
  {
   "cell_type": "code",
   "execution_count": 19,
   "metadata": {},
   "outputs": [
    {
     "name": "stdout",
     "output_type": "stream",
     "text": [
      "1 0 SpearmanrResult(correlation=0.8824224754673616, pvalue=1.8872215723743576e-40)\n",
      "2 0 SpearmanrResult(correlation=0.8382735261831195, pvalue=7.218697086829466e-33)\n",
      "2 1 SpearmanrResult(correlation=0.8798313289699106, pvalue=6.31434020507341e-40)\n",
      "3 0 SpearmanrResult(correlation=0.8395813615484946, pvalue=4.655534474536432e-33)\n",
      "3 1 SpearmanrResult(correlation=0.9150979272055131, pvalue=2.2822274367867583e-48)\n",
      "3 2 SpearmanrResult(correlation=0.8775230954417405, pvalue=1.8091561277997454e-39)\n"
     ]
    },
    {
     "data": {
      "text/plain": [
       "0.8721216191360234"
      ]
     },
     "execution_count": 19,
     "metadata": {},
     "output_type": "execute_result"
    }
   ],
   "source": [
    "dm_scores = [a[1].Score.values \n",
    "              for a in h2O2dm.sort_values('Strain').groupby('Replicate')]\n",
    "dm_ranks = []\n",
    "for i, h in enumerate(dm_scores):\n",
    "    for j, k in enumerate(dm_scores):\n",
    "        if i != j and i >= j:\n",
    "            sr = ss.spearmanr(h,k)\n",
    "            print(i,j,sr);\n",
    "            dm_ranks.append((i,j,sr[0]))\n",
    "            \n",
    "dm_ranks = pd.DataFrame(dm_ranks,columns = ['Rep1','Rep2','Rank'])\n",
    "dm_ranks.Rank.mean()"
   ]
  },
  {
   "cell_type": "code",
   "execution_count": 20,
   "metadata": {},
   "outputs": [
    {
     "name": "stdout",
     "output_type": "stream",
     "text": [
      "1 0 SpearmanrResult(correlation=0.8673541006750937, pvalue=1.4689560887082027e-37)\n",
      "2 0 SpearmanrResult(correlation=0.7916624375240877, pvalue=5.1738200224357864e-27)\n",
      "2 1 SpearmanrResult(correlation=0.8516224589697897, pvalue=6.757519002247173e-35)\n",
      "3 0 SpearmanrResult(correlation=0.8637936056338018, pvalue=6.288826185844876e-37)\n",
      "3 1 SpearmanrResult(correlation=0.9065864091874128, pvalue=4.968393213371251e-46)\n",
      "3 2 SpearmanrResult(correlation=0.8692193662509846, pvalue=6.74225361688571e-38)\n"
     ]
    },
    {
     "data": {
      "text/plain": [
       "0.858373063040195"
      ]
     },
     "execution_count": 20,
     "metadata": {},
     "output_type": "execute_result"
    }
   ],
   "source": [
    "lh_scores = [a[1].Score.values \n",
    "              for a in h2O2lh.sort_values('Strain').groupby('Replicate')]\n",
    "lh_ranks = []\n",
    "for i, h in enumerate(lh_scores):\n",
    "    for j, k in enumerate(lh_scores):\n",
    "        if i != j and i >= j:\n",
    "            sr = ss.spearmanr(h,k)\n",
    "            print(i,j,sr);\n",
    "            lh_ranks.append((i,j,sr[0]))\n",
    "            \n",
    "lh_ranks = pd.DataFrame(lh_ranks,columns = ['Rep1','Rep2','Rank'])\n",
    "lh_ranks.Rank.mean()"
   ]
  },
  {
   "cell_type": "code",
   "execution_count": 21,
   "metadata": {},
   "outputs": [
    {
     "data": {
      "text/html": [
       "<div>\n",
       "<style scoped>\n",
       "    .dataframe tbody tr th:only-of-type {\n",
       "        vertical-align: middle;\n",
       "    }\n",
       "\n",
       "    .dataframe tbody tr th {\n",
       "        vertical-align: top;\n",
       "    }\n",
       "\n",
       "    .dataframe thead th {\n",
       "        text-align: right;\n",
       "    }\n",
       "</style>\n",
       "<table border=\"1\" class=\"dataframe\">\n",
       "  <thead>\n",
       "    <tr style=\"text-align: right;\">\n",
       "      <th></th>\n",
       "      <th>Column</th>\n",
       "      <th>Marker</th>\n",
       "      <th>Plate</th>\n",
       "      <th>Replicate</th>\n",
       "      <th>Row</th>\n",
       "      <th>Score</th>\n",
       "      <th>Strain</th>\n",
       "    </tr>\n",
       "  </thead>\n",
       "  <tbody>\n",
       "    <tr>\n",
       "      <th>475</th>\n",
       "      <td>6</td>\n",
       "      <td>LH</td>\n",
       "      <td>2</td>\n",
       "      <td>3</td>\n",
       "      <td>e</td>\n",
       "      <td>4.0</td>\n",
       "      <td>XL280a</td>\n",
       "    </tr>\n",
       "    <tr>\n",
       "      <th>476</th>\n",
       "      <td>5</td>\n",
       "      <td>LH</td>\n",
       "      <td>2</td>\n",
       "      <td>0</td>\n",
       "      <td>e</td>\n",
       "      <td>5.0</td>\n",
       "      <td>XL280alpha</td>\n",
       "    </tr>\n",
       "    <tr>\n",
       "      <th>477</th>\n",
       "      <td>5</td>\n",
       "      <td>LH</td>\n",
       "      <td>2</td>\n",
       "      <td>1</td>\n",
       "      <td>e</td>\n",
       "      <td>4.0</td>\n",
       "      <td>XL280alpha</td>\n",
       "    </tr>\n",
       "    <tr>\n",
       "      <th>478</th>\n",
       "      <td>5</td>\n",
       "      <td>LH</td>\n",
       "      <td>2</td>\n",
       "      <td>2</td>\n",
       "      <td>e</td>\n",
       "      <td>4.0</td>\n",
       "      <td>XL280alpha</td>\n",
       "    </tr>\n",
       "    <tr>\n",
       "      <th>479</th>\n",
       "      <td>5</td>\n",
       "      <td>LH</td>\n",
       "      <td>2</td>\n",
       "      <td>3</td>\n",
       "      <td>e</td>\n",
       "      <td>3.0</td>\n",
       "      <td>XL280alpha</td>\n",
       "    </tr>\n",
       "  </tbody>\n",
       "</table>\n",
       "</div>"
      ],
      "text/plain": [
       "     Column Marker  Plate  Replicate Row  Score      Strain\n",
       "475       6     LH      2          3   e    4.0      XL280a\n",
       "476       5     LH      2          0   e    5.0  XL280alpha\n",
       "477       5     LH      2          1   e    4.0  XL280alpha\n",
       "478       5     LH      2          2   e    4.0  XL280alpha\n",
       "479       5     LH      2          3   e    3.0  XL280alpha"
      ]
     },
     "execution_count": 21,
     "metadata": {},
     "output_type": "execute_result"
    }
   ],
   "source": [
    "## Gather H2O2 scores across scores \n",
    "## Do not use older plates\n",
    "h2O2L = pd.concat([h2O2dm,\n",
    "                   h2O2lh],\n",
    "                  axis=0,sort=True)\n",
    "\n",
    "## Drop missing data (shouldn't be any)\n",
    "h2O2L.dropna(inplace=True)\n",
    "\n",
    "## Check tail of df\n",
    "h2O2L.tail()"
   ]
  },
  {
   "cell_type": "code",
   "execution_count": 22,
   "metadata": {},
   "outputs": [
    {
     "data": {
      "text/plain": [
       "(104,)"
      ]
     },
     "execution_count": 22,
     "metadata": {},
     "output_type": "execute_result"
    }
   ],
   "source": [
    "## Take data for which we have genotype data for\n",
    "h2O2Ls = h2O2L[(h2O2L.Strain.isin(geno_df.columns))]\n",
    "\n",
    "## Check shape should be 104\n",
    "h2O2Ls.Strain.unique().shape"
   ]
  },
  {
   "cell_type": "code",
   "execution_count": 23,
   "metadata": {},
   "outputs": [],
   "source": [
    "## Gather unique segregants\n",
    "segs = [a[0] for a in h2O2Ls.groupby('Strain')]"
   ]
  },
  {
   "cell_type": "code",
   "execution_count": 24,
   "metadata": {},
   "outputs": [
    {
     "data": {
      "image/png": "[encoded data removed]",
      "text/plain": [
       "<Figure size 1080x216 with 1 Axes>"
      ]
     },
     "metadata": {
      "needs_background": "light"
     },
     "output_type": "display_data"
    }
   ],
   "source": [
    "## View scores across segregants\n",
    "fig,ax = plt.subplots(1,1,figsize=(15,3))\n",
    "plt.boxplot([a[1]['Score'].values \n",
    "             for a in h2O2Ls.groupby('Strain')]);\n",
    "\n",
    "plt.xticks(np.arange(len(segs))+1,segs\n",
    "           ,rotation=90,fontsize=8);\n",
    "plt.xlabel('Strain');plt.ylabel('Score');"
   ]
  },
  {
   "cell_type": "code",
   "execution_count": 25,
   "metadata": {},
   "outputs": [
    {
     "data": {
      "text/html": [
       "<div>\n",
       "<style scoped>\n",
       "    .dataframe tbody tr th:only-of-type {\n",
       "        vertical-align: middle;\n",
       "    }\n",
       "\n",
       "    .dataframe tbody tr th {\n",
       "        vertical-align: top;\n",
       "    }\n",
       "\n",
       "    .dataframe thead th {\n",
       "        text-align: right;\n",
       "    }\n",
       "</style>\n",
       "<table border=\"1\" class=\"dataframe\">\n",
       "  <thead>\n",
       "    <tr style=\"text-align: right;\">\n",
       "      <th></th>\n",
       "      <th>Column</th>\n",
       "      <th>Plate</th>\n",
       "      <th>Replicate</th>\n",
       "      <th>Score</th>\n",
       "    </tr>\n",
       "    <tr>\n",
       "      <th>Strain</th>\n",
       "      <th></th>\n",
       "      <th></th>\n",
       "      <th></th>\n",
       "      <th></th>\n",
       "    </tr>\n",
       "  </thead>\n",
       "  <tbody>\n",
       "    <tr>\n",
       "      <th>SS-A837</th>\n",
       "      <td>7.0</td>\n",
       "      <td>2.0</td>\n",
       "      <td>1.5</td>\n",
       "      <td>2.0</td>\n",
       "    </tr>\n",
       "    <tr>\n",
       "      <th>SS-B307</th>\n",
       "      <td>2.0</td>\n",
       "      <td>2.0</td>\n",
       "      <td>1.5</td>\n",
       "      <td>0.5</td>\n",
       "    </tr>\n",
       "    <tr>\n",
       "      <th>SS-B310</th>\n",
       "      <td>4.0</td>\n",
       "      <td>2.0</td>\n",
       "      <td>1.5</td>\n",
       "      <td>0.0</td>\n",
       "    </tr>\n",
       "    <tr>\n",
       "      <th>SS-B311</th>\n",
       "      <td>5.0</td>\n",
       "      <td>2.0</td>\n",
       "      <td>1.5</td>\n",
       "      <td>4.0</td>\n",
       "    </tr>\n",
       "    <tr>\n",
       "      <th>SS-B312</th>\n",
       "      <td>6.0</td>\n",
       "      <td>2.0</td>\n",
       "      <td>1.5</td>\n",
       "      <td>5.0</td>\n",
       "    </tr>\n",
       "  </tbody>\n",
       "</table>\n",
       "</div>"
      ],
      "text/plain": [
       "         Column  Plate  Replicate  Score\n",
       "Strain                                  \n",
       "SS-A837     7.0    2.0        1.5    2.0\n",
       "SS-B307     2.0    2.0        1.5    0.5\n",
       "SS-B310     4.0    2.0        1.5    0.0\n",
       "SS-B311     5.0    2.0        1.5    4.0\n",
       "SS-B312     6.0    2.0        1.5    5.0"
      ]
     },
     "execution_count": 25,
     "metadata": {},
     "output_type": "execute_result"
    }
   ],
   "source": [
    "## Take median H2O2 growth scores\n",
    "medh2o2 = h2O2Ls.groupby('Strain').agg(np.median)\n",
    "medh2o2.head()"
   ]
  },
  {
   "cell_type": "code",
   "execution_count": 26,
   "metadata": {},
   "outputs": [],
   "source": [
    "## Write labels\n",
    "_431label = r'$431\\mathrm{\\alpha}$'\n",
    "_xl280alabel='XL280'+r'$\\bf{a}$'\n",
    "_xl280alphlabel = r'XL280$\\mathrm{\\alpha}$'\n",
    "alpha_label = r'$\\mathrm{\\alpha}$ = 0.05'"
   ]
  },
  {
   "cell_type": "code",
   "execution_count": 27,
   "metadata": {},
   "outputs": [
    {
     "data": {
      "image/png": "[encoded data removed]",
      "text/plain": [
       "<Figure size 576x288 with 1 Axes>"
      ]
     },
     "metadata": {
      "needs_background": "light"
     },
     "output_type": "display_data"
    }
   ],
   "source": [
    "fig,ax=plt.subplots(1,1,figsize=(8,4))\n",
    "plt.hist(medh2o2.Score.values,color='grey',alpha=0.5,\n",
    "         bins=np.arange(7)-0.5);\n",
    "plt.xlabel('Median $H_{2}O_{2}$ Growth Score',fontsize=14);\n",
    "plt.ylabel('Number of Segregants',fontsize=14);\n",
    "plt.vlines(medh2o2.T['SS-A837'].T.Score,0,len(segs)/10,\n",
    "           alpha=0.75,color='tab:orange',label=_431label);\n",
    "plt.vlines(medh2o2.T['XL280alpha'].T.Score,0,len(segs)/10,\n",
    "           alpha=0.75,linestyle='-',\n",
    "           color='tab:blue',label=_xl280alphlabel);\n",
    "plt.vlines(medh2o2.T['XL280a'].T.Score,0,len(segs)/10,\n",
    "           alpha=0.75,linestyle='--',\n",
    "           color='tab:blue',label=_xl280alabel);\n",
    "plt.legend(title='Parental Strain',fontsize=14);"
   ]
  },
  {
   "cell_type": "code",
   "execution_count": 28,
   "metadata": {},
   "outputs": [
    {
     "data": {
      "text/plain": [
       "104"
      ]
     },
     "execution_count": 28,
     "metadata": {},
     "output_type": "execute_result"
    }
   ],
   "source": [
    "len(segs)"
   ]
  },
  {
   "cell_type": "code",
   "execution_count": 29,
   "metadata": {},
   "outputs": [
    {
     "data": {
      "text/plain": [
       "(2777, 104)"
      ]
     },
     "execution_count": 29,
     "metadata": {},
     "output_type": "execute_result"
    }
   ],
   "source": [
    "test = geno_df[segs].drop_duplicates()\n",
    "test.shape"
   ]
  },
  {
   "cell_type": "code",
   "execution_count": 30,
   "metadata": {},
   "outputs": [],
   "source": [
    "test['Pval'] = test.apply(association_logPval,\n",
    "                          args=[medh2o2.T[segs].T.Score],axis=1)\n",
    "pvaldf = geno_df.merge(test)"
   ]
  },
  {
   "cell_type": "code",
   "execution_count": 31,
   "metadata": {},
   "outputs": [
    {
     "data": {
      "text/plain": [
       "4.518186729935608"
      ]
     },
     "execution_count": 31,
     "metadata": {},
     "output_type": "execute_result"
    }
   ],
   "source": [
    "pvaldf[(pvaldf.Chrom=='Chr12')].Pval.max()"
   ]
  },
  {
   "cell_type": "code",
   "execution_count": 32,
   "metadata": {},
   "outputs": [
    {
     "data": {
      "image/png": "[encoded data removed]",
      "text/plain": [
       "<Figure size 864x216 with 1 Axes>"
      ]
     },
     "metadata": {
      "needs_background": "light"
     },
     "output_type": "display_data"
    }
   ],
   "source": [
    "fig,ax = plt.subplots(1,1,figsize=(12,3))\n",
    "for c,chrom in enumerate(chrlist):\n",
    "    tpd = pvaldf[(pvaldf.Chrom==chrom)]\n",
    "    plt.plot(tpd.Pos+cumpos[c],tpd.Pval.values,'.',alpha=0.5);\n",
    "\n",
    "plt.hlines(4.2589,0,19*(10**6),\n",
    "           linestyle='--',alpha=0.7,\n",
    "           linewidth=1,label=alpha_label,color='k')\n",
    "\n",
    "\n",
    "plt.xticks(chrom_midpts,labels=np.arange(len(chrlist))+1);\n",
    "plt.xlabel('Chromosome',fontsize=14);\n",
    "plt.ylabel('-$log_{10}$(p-value)',fontsize=14);"
   ]
  },
  {
   "cell_type": "code",
   "execution_count": 33,
   "metadata": {},
   "outputs": [],
   "source": [
    "ch02ix = pvaldf[(pvaldf.Chrom=='Chr02')].Pval.idxmax()"
   ]
  },
  {
   "cell_type": "code",
   "execution_count": 34,
   "metadata": {},
   "outputs": [],
   "source": [
    "ch12ix = pvaldf[(pvaldf.Chrom=='Chr12')].Pval.idxmax()\n",
    "ch14ix = pvaldf[(pvaldf.Chrom=='Chr14')].Pval.idxmax()"
   ]
  },
  {
   "cell_type": "code",
   "execution_count": 35,
   "metadata": {},
   "outputs": [],
   "source": [
    "medh2o2['Chr02'] = np.array(pvaldf.T[ch02ix][segs],dtype=float)\n",
    "medh2o2['Chr12'] = np.array(pvaldf.T[ch12ix][segs],dtype=float)\n",
    "medh2o2['Chr14'] = np.array(pvaldf.T[ch14ix][segs],dtype=float)"
   ]
  },
  {
   "cell_type": "code",
   "execution_count": 36,
   "metadata": {},
   "outputs": [],
   "source": [
    "ssk2 = pd.read_csv('../DATA/GENOTYPE/CNL05560.csv.gz',index_col=0)\n",
    "ssk1 = pd.read_csv('../DATA/GENOTYPE/CNB03090.csv.gz',index_col=0)\n",
    "ric8 = pd.read_csv('../DATA/GENOTYPE/CNN01270.csv.gz',index_col=0)"
   ]
  },
  {
   "cell_type": "code",
   "execution_count": 37,
   "metadata": {},
   "outputs": [],
   "source": [
    "medh2o2['SSK2'] = pvaldf[(pvaldf.Chrom=='Chr12') & \n",
    "                   (pvaldf.Pos>=ssk2.Start.min()) & \n",
    "                       (pvaldf.Pos<=ssk2.End.max())][medh2o2.index].min()"
   ]
  },
  {
   "cell_type": "code",
   "execution_count": 38,
   "metadata": {},
   "outputs": [],
   "source": [
    "medh2o2['RIC8'] = pvaldf[(pvaldf.Chrom=='Chr14') & \n",
    "       (pvaldf.Pos>=ric8.Start.min()) & \n",
    "       (pvaldf.Pos<=ric8.End.max())][medh2o2.index].min()"
   ]
  },
  {
   "cell_type": "code",
   "execution_count": 39,
   "metadata": {},
   "outputs": [
    {
     "data": {
      "text/html": [
       "<div>\n",
       "<style scoped>\n",
       "    .dataframe tbody tr th:only-of-type {\n",
       "        vertical-align: middle;\n",
       "    }\n",
       "\n",
       "    .dataframe tbody tr th {\n",
       "        vertical-align: top;\n",
       "    }\n",
       "\n",
       "    .dataframe thead th {\n",
       "        text-align: right;\n",
       "    }\n",
       "</style>\n",
       "<table border=\"1\" class=\"dataframe\">\n",
       "  <thead>\n",
       "    <tr style=\"text-align: right;\">\n",
       "      <th></th>\n",
       "      <th>Column</th>\n",
       "      <th>Plate</th>\n",
       "      <th>Replicate</th>\n",
       "      <th>Score</th>\n",
       "      <th>Chr02</th>\n",
       "      <th>Chr12</th>\n",
       "      <th>Chr14</th>\n",
       "      <th>SSK2</th>\n",
       "      <th>RIC8</th>\n",
       "    </tr>\n",
       "    <tr>\n",
       "      <th>Strain</th>\n",
       "      <th></th>\n",
       "      <th></th>\n",
       "      <th></th>\n",
       "      <th></th>\n",
       "      <th></th>\n",
       "      <th></th>\n",
       "      <th></th>\n",
       "      <th></th>\n",
       "      <th></th>\n",
       "    </tr>\n",
       "  </thead>\n",
       "  <tbody>\n",
       "    <tr>\n",
       "      <th>SS-A837</th>\n",
       "      <td>7.0</td>\n",
       "      <td>2.0</td>\n",
       "      <td>1.5</td>\n",
       "      <td>2.0</td>\n",
       "      <td>1.0</td>\n",
       "      <td>1.0</td>\n",
       "      <td>1.0</td>\n",
       "      <td>1.0</td>\n",
       "      <td>1.0</td>\n",
       "    </tr>\n",
       "    <tr>\n",
       "      <th>SS-B307</th>\n",
       "      <td>2.0</td>\n",
       "      <td>2.0</td>\n",
       "      <td>1.5</td>\n",
       "      <td>0.5</td>\n",
       "      <td>0.0</td>\n",
       "      <td>0.0</td>\n",
       "      <td>1.0</td>\n",
       "      <td>0.0</td>\n",
       "      <td>1.0</td>\n",
       "    </tr>\n",
       "    <tr>\n",
       "      <th>SS-B310</th>\n",
       "      <td>4.0</td>\n",
       "      <td>2.0</td>\n",
       "      <td>1.5</td>\n",
       "      <td>0.0</td>\n",
       "      <td>1.0</td>\n",
       "      <td>0.0</td>\n",
       "      <td>1.0</td>\n",
       "      <td>0.0</td>\n",
       "      <td>1.0</td>\n",
       "    </tr>\n",
       "    <tr>\n",
       "      <th>SS-B311</th>\n",
       "      <td>5.0</td>\n",
       "      <td>2.0</td>\n",
       "      <td>1.5</td>\n",
       "      <td>4.0</td>\n",
       "      <td>0.0</td>\n",
       "      <td>1.0</td>\n",
       "      <td>1.0</td>\n",
       "      <td>1.0</td>\n",
       "      <td>1.0</td>\n",
       "    </tr>\n",
       "    <tr>\n",
       "      <th>SS-B312</th>\n",
       "      <td>6.0</td>\n",
       "      <td>2.0</td>\n",
       "      <td>1.5</td>\n",
       "      <td>5.0</td>\n",
       "      <td>0.0</td>\n",
       "      <td>1.0</td>\n",
       "      <td>0.0</td>\n",
       "      <td>1.0</td>\n",
       "      <td>0.0</td>\n",
       "    </tr>\n",
       "  </tbody>\n",
       "</table>\n",
       "</div>"
      ],
      "text/plain": [
       "         Column  Plate  Replicate  Score  Chr02  Chr12  Chr14  SSK2  RIC8\n",
       "Strain                                                                   \n",
       "SS-A837     7.0    2.0        1.5    2.0    1.0    1.0    1.0   1.0   1.0\n",
       "SS-B307     2.0    2.0        1.5    0.5    0.0    0.0    1.0   0.0   1.0\n",
       "SS-B310     4.0    2.0        1.5    0.0    1.0    0.0    1.0   0.0   1.0\n",
       "SS-B311     5.0    2.0        1.5    4.0    0.0    1.0    1.0   1.0   1.0\n",
       "SS-B312     6.0    2.0        1.5    5.0    0.0    1.0    0.0   1.0   0.0"
      ]
     },
     "execution_count": 39,
     "metadata": {},
     "output_type": "execute_result"
    }
   ],
   "source": [
    "medh2o2.head()"
   ]
  },
  {
   "cell_type": "code",
   "execution_count": 40,
   "metadata": {},
   "outputs": [
    {
     "data": {
      "text/plain": [
       "(104, 9)"
      ]
     },
     "execution_count": 40,
     "metadata": {},
     "output_type": "execute_result"
    }
   ],
   "source": [
    "medh2o2.shape"
   ]
  },
  {
   "cell_type": "code",
   "execution_count": 41,
   "metadata": {},
   "outputs": [],
   "source": [
    "## Save data out for later use / analysis\n",
    "medh2o2.to_csv('../DATA/PHENOTYPE/H2O2/H2O2_average_phenotypes.csv.gz',\n",
    "               index=True)"
   ]
  },
  {
   "cell_type": "code",
   "execution_count": 42,
   "metadata": {},
   "outputs": [
    {
     "data": {
      "text/html": [
       "<div>\n",
       "<style scoped>\n",
       "    .dataframe tbody tr th:only-of-type {\n",
       "        vertical-align: middle;\n",
       "    }\n",
       "\n",
       "    .dataframe tbody tr th {\n",
       "        vertical-align: top;\n",
       "    }\n",
       "\n",
       "    .dataframe thead th {\n",
       "        text-align: right;\n",
       "    }\n",
       "</style>\n",
       "<table border=\"1\" class=\"dataframe\">\n",
       "  <thead>\n",
       "    <tr style=\"text-align: right;\">\n",
       "      <th></th>\n",
       "      <th></th>\n",
       "      <th>Column</th>\n",
       "      <th>Plate</th>\n",
       "      <th>Replicate</th>\n",
       "      <th>Score</th>\n",
       "      <th>Chr02</th>\n",
       "      <th>SSK2</th>\n",
       "      <th>RIC8</th>\n",
       "    </tr>\n",
       "    <tr>\n",
       "      <th>Chr12</th>\n",
       "      <th>Chr14</th>\n",
       "      <th></th>\n",
       "      <th></th>\n",
       "      <th></th>\n",
       "      <th></th>\n",
       "      <th></th>\n",
       "      <th></th>\n",
       "      <th></th>\n",
       "    </tr>\n",
       "  </thead>\n",
       "  <tbody>\n",
       "    <tr>\n",
       "      <th rowspan=\"2\" valign=\"top\">0.0</th>\n",
       "      <th>0.0</th>\n",
       "      <td>24</td>\n",
       "      <td>24</td>\n",
       "      <td>24</td>\n",
       "      <td>24</td>\n",
       "      <td>24</td>\n",
       "      <td>24</td>\n",
       "      <td>24</td>\n",
       "    </tr>\n",
       "    <tr>\n",
       "      <th>1.0</th>\n",
       "      <td>41</td>\n",
       "      <td>41</td>\n",
       "      <td>41</td>\n",
       "      <td>41</td>\n",
       "      <td>41</td>\n",
       "      <td>41</td>\n",
       "      <td>41</td>\n",
       "    </tr>\n",
       "    <tr>\n",
       "      <th rowspan=\"2\" valign=\"top\">1.0</th>\n",
       "      <th>0.0</th>\n",
       "      <td>26</td>\n",
       "      <td>26</td>\n",
       "      <td>26</td>\n",
       "      <td>26</td>\n",
       "      <td>26</td>\n",
       "      <td>26</td>\n",
       "      <td>26</td>\n",
       "    </tr>\n",
       "    <tr>\n",
       "      <th>1.0</th>\n",
       "      <td>13</td>\n",
       "      <td>13</td>\n",
       "      <td>13</td>\n",
       "      <td>13</td>\n",
       "      <td>13</td>\n",
       "      <td>13</td>\n",
       "      <td>13</td>\n",
       "    </tr>\n",
       "  </tbody>\n",
       "</table>\n",
       "</div>"
      ],
      "text/plain": [
       "             Column  Plate  Replicate  Score  Chr02  SSK2  RIC8\n",
       "Chr12 Chr14                                                    \n",
       "0.0   0.0        24     24         24     24     24    24    24\n",
       "      1.0        41     41         41     41     41    41    41\n",
       "1.0   0.0        26     26         26     26     26    26    26\n",
       "      1.0        13     13         13     13     13    13    13"
      ]
     },
     "execution_count": 42,
     "metadata": {},
     "output_type": "execute_result"
    }
   ],
   "source": [
    "## Check counds by allele combinations\n",
    "medh2o2.groupby(['Chr12','Chr14']).count()"
   ]
  },
  {
   "cell_type": "code",
   "execution_count": 43,
   "metadata": {},
   "outputs": [],
   "source": [
    "## Gather parental data\n",
    "parents = medh2o2.T[['SS-A837','XL280a']].T[['Score','Chr02']]"
   ]
  },
  {
   "cell_type": "code",
   "execution_count": 44,
   "metadata": {},
   "outputs": [],
   "source": [
    "## Bring in other needed mods\n",
    "import statsmodels.formula.api as smf\n",
    "\n",
    "from matplotlib.gridspec import GridSpec\n",
    "from PIL import Image\n",
    "\n",
    "\n",
    "import matplotlib.image as mpimg\n",
    "plt.style.use(['tableau-colorblind10'])"
   ]
  },
  {
   "cell_type": "code",
   "execution_count": 45,
   "metadata": {},
   "outputs": [
    {
     "data": {
      "text/html": [
       "<table class=\"simpletable\">\n",
       "<caption>OLS Regression Results</caption>\n",
       "<tr>\n",
       "  <th>Dep. Variable:</th>          <td>Score</td>      <th>  R-squared:         </th> <td>   0.158</td>\n",
       "</tr>\n",
       "<tr>\n",
       "  <th>Model:</th>                   <td>OLS</td>       <th>  Adj. R-squared:    </th> <td>   0.149</td>\n",
       "</tr>\n",
       "<tr>\n",
       "  <th>Method:</th>             <td>Least Squares</td>  <th>  F-statistic:       </th> <td>   19.07</td>\n",
       "</tr>\n",
       "<tr>\n",
       "  <th>Date:</th>             <td>Tue, 10 Nov 2020</td> <th>  Prob (F-statistic):</th> <td>3.03e-05</td>\n",
       "</tr>\n",
       "<tr>\n",
       "  <th>Time:</th>                 <td>13:10:24</td>     <th>  Log-Likelihood:    </th> <td> -202.56</td>\n",
       "</tr>\n",
       "<tr>\n",
       "  <th>No. Observations:</th>      <td>   104</td>      <th>  AIC:               </th> <td>   409.1</td>\n",
       "</tr>\n",
       "<tr>\n",
       "  <th>Df Residuals:</th>          <td>   102</td>      <th>  BIC:               </th> <td>   414.4</td>\n",
       "</tr>\n",
       "<tr>\n",
       "  <th>Df Model:</th>              <td>     1</td>      <th>                     </th>     <td> </td>   \n",
       "</tr>\n",
       "<tr>\n",
       "  <th>Covariance Type:</th>      <td>nonrobust</td>    <th>                     </th>     <td> </td>   \n",
       "</tr>\n",
       "</table>\n",
       "<table class=\"simpletable\">\n",
       "<tr>\n",
       "      <td></td>         <th>coef</th>     <th>std err</th>      <th>t</th>      <th>P>|t|</th>  <th>[0.025</th>    <th>0.975]</th>  \n",
       "</tr>\n",
       "<tr>\n",
       "  <th>Intercept</th> <td>    2.0231</td> <td>    0.213</td> <td>    9.520</td> <td> 0.000</td> <td>    1.602</td> <td>    2.445</td>\n",
       "</tr>\n",
       "<tr>\n",
       "  <th>Chr12</th>     <td>    1.5154</td> <td>    0.347</td> <td>    4.367</td> <td> 0.000</td> <td>    0.827</td> <td>    2.204</td>\n",
       "</tr>\n",
       "</table>\n",
       "<table class=\"simpletable\">\n",
       "<tr>\n",
       "  <th>Omnibus:</th>       <td>17.698</td> <th>  Durbin-Watson:     </th> <td>   1.543</td>\n",
       "</tr>\n",
       "<tr>\n",
       "  <th>Prob(Omnibus):</th> <td> 0.000</td> <th>  Jarque-Bera (JB):  </th> <td>   4.718</td>\n",
       "</tr>\n",
       "<tr>\n",
       "  <th>Skew:</th>          <td>-0.013</td> <th>  Prob(JB):          </th> <td>  0.0945</td>\n",
       "</tr>\n",
       "<tr>\n",
       "  <th>Kurtosis:</th>      <td> 1.957</td> <th>  Cond. No.          </th> <td>    2.43</td>\n",
       "</tr>\n",
       "</table><br/><br/>Warnings:<br/>[1] Standard Errors assume that the covariance matrix of the errors is correctly specified."
      ],
      "text/plain": [
       "<class 'statsmodels.iolib.summary.Summary'>\n",
       "\"\"\"\n",
       "                            OLS Regression Results                            \n",
       "==============================================================================\n",
       "Dep. Variable:                  Score   R-squared:                       0.158\n",
       "Model:                            OLS   Adj. R-squared:                  0.149\n",
       "Method:                 Least Squares   F-statistic:                     19.07\n",
       "Date:                Tue, 10 Nov 2020   Prob (F-statistic):           3.03e-05\n",
       "Time:                        13:10:24   Log-Likelihood:                -202.56\n",
       "No. Observations:                 104   AIC:                             409.1\n",
       "Df Residuals:                     102   BIC:                             414.4\n",
       "Df Model:                           1                                         \n",
       "Covariance Type:            nonrobust                                         \n",
       "==============================================================================\n",
       "                 coef    std err          t      P>|t|      [0.025      0.975]\n",
       "------------------------------------------------------------------------------\n",
       "Intercept      2.0231      0.213      9.520      0.000       1.602       2.445\n",
       "Chr12          1.5154      0.347      4.367      0.000       0.827       2.204\n",
       "==============================================================================\n",
       "Omnibus:                       17.698   Durbin-Watson:                   1.543\n",
       "Prob(Omnibus):                  0.000   Jarque-Bera (JB):                4.718\n",
       "Skew:                          -0.013   Prob(JB):                       0.0945\n",
       "Kurtosis:                       1.957   Cond. No.                         2.43\n",
       "==============================================================================\n",
       "\n",
       "Warnings:\n",
       "[1] Standard Errors assume that the covariance matrix of the errors is correctly specified.\n",
       "\"\"\""
      ]
     },
     "execution_count": 45,
     "metadata": {},
     "output_type": "execute_result"
    }
   ],
   "source": [
    "## Conduct regression analysis on chromosome 12 QTL\n",
    "qtl12_res = smf.ols('Score~Chr12',data=medh2o2).fit()\n",
    "qtl12_res.summary()"
   ]
  },
  {
   "cell_type": "code",
   "execution_count": 46,
   "metadata": {},
   "outputs": [
    {
     "data": {
      "text/html": [
       "<table class=\"simpletable\">\n",
       "<caption>OLS Regression Results</caption>\n",
       "<tr>\n",
       "  <th>Dep. Variable:</th>          <td>Score</td>      <th>  R-squared:         </th> <td>   0.152</td>\n",
       "</tr>\n",
       "<tr>\n",
       "  <th>Model:</th>                   <td>OLS</td>       <th>  Adj. R-squared:    </th> <td>   0.144</td>\n",
       "</tr>\n",
       "<tr>\n",
       "  <th>Method:</th>             <td>Least Squares</td>  <th>  F-statistic:       </th> <td>   18.26</td>\n",
       "</tr>\n",
       "<tr>\n",
       "  <th>Date:</th>             <td>Tue, 10 Nov 2020</td> <th>  Prob (F-statistic):</th> <td>4.33e-05</td>\n",
       "</tr>\n",
       "<tr>\n",
       "  <th>Time:</th>                 <td>13:10:24</td>     <th>  Log-Likelihood:    </th> <td> -202.90</td>\n",
       "</tr>\n",
       "<tr>\n",
       "  <th>No. Observations:</th>      <td>   104</td>      <th>  AIC:               </th> <td>   409.8</td>\n",
       "</tr>\n",
       "<tr>\n",
       "  <th>Df Residuals:</th>          <td>   102</td>      <th>  BIC:               </th> <td>   415.1</td>\n",
       "</tr>\n",
       "<tr>\n",
       "  <th>Df Model:</th>              <td>     1</td>      <th>                     </th>     <td> </td>   \n",
       "</tr>\n",
       "<tr>\n",
       "  <th>Covariance Type:</th>      <td>nonrobust</td>    <th>                     </th>     <td> </td>   \n",
       "</tr>\n",
       "</table>\n",
       "<table class=\"simpletable\">\n",
       "<tr>\n",
       "      <td></td>         <th>coef</th>     <th>std err</th>      <th>t</th>      <th>P>|t|</th>  <th>[0.025</th>    <th>0.975]</th>  \n",
       "</tr>\n",
       "<tr>\n",
       "  <th>Intercept</th> <td>    3.3400</td> <td>    0.243</td> <td>   13.739</td> <td> 0.000</td> <td>    2.858</td> <td>    3.822</td>\n",
       "</tr>\n",
       "<tr>\n",
       "  <th>Chr14</th>     <td>   -1.4419</td> <td>    0.337</td> <td>   -4.274</td> <td> 0.000</td> <td>   -2.111</td> <td>   -0.773</td>\n",
       "</tr>\n",
       "</table>\n",
       "<table class=\"simpletable\">\n",
       "<tr>\n",
       "  <th>Omnibus:</th>       <td>18.236</td> <th>  Durbin-Watson:     </th> <td>   1.598</td>\n",
       "</tr>\n",
       "<tr>\n",
       "  <th>Prob(Omnibus):</th> <td> 0.000</td> <th>  Jarque-Bera (JB):  </th> <td>   5.694</td>\n",
       "</tr>\n",
       "<tr>\n",
       "  <th>Skew:</th>          <td>-0.246</td> <th>  Prob(JB):          </th> <td>  0.0580</td>\n",
       "</tr>\n",
       "<tr>\n",
       "  <th>Kurtosis:</th>      <td> 1.965</td> <th>  Cond. No.          </th> <td>    2.67</td>\n",
       "</tr>\n",
       "</table><br/><br/>Warnings:<br/>[1] Standard Errors assume that the covariance matrix of the errors is correctly specified."
      ],
      "text/plain": [
       "<class 'statsmodels.iolib.summary.Summary'>\n",
       "\"\"\"\n",
       "                            OLS Regression Results                            \n",
       "==============================================================================\n",
       "Dep. Variable:                  Score   R-squared:                       0.152\n",
       "Model:                            OLS   Adj. R-squared:                  0.144\n",
       "Method:                 Least Squares   F-statistic:                     18.26\n",
       "Date:                Tue, 10 Nov 2020   Prob (F-statistic):           4.33e-05\n",
       "Time:                        13:10:24   Log-Likelihood:                -202.90\n",
       "No. Observations:                 104   AIC:                             409.8\n",
       "Df Residuals:                     102   BIC:                             415.1\n",
       "Df Model:                           1                                         \n",
       "Covariance Type:            nonrobust                                         \n",
       "==============================================================================\n",
       "                 coef    std err          t      P>|t|      [0.025      0.975]\n",
       "------------------------------------------------------------------------------\n",
       "Intercept      3.3400      0.243     13.739      0.000       2.858       3.822\n",
       "Chr14         -1.4419      0.337     -4.274      0.000      -2.111      -0.773\n",
       "==============================================================================\n",
       "Omnibus:                       18.236   Durbin-Watson:                   1.598\n",
       "Prob(Omnibus):                  0.000   Jarque-Bera (JB):                5.694\n",
       "Skew:                          -0.246   Prob(JB):                       0.0580\n",
       "Kurtosis:                       1.965   Cond. No.                         2.67\n",
       "==============================================================================\n",
       "\n",
       "Warnings:\n",
       "[1] Standard Errors assume that the covariance matrix of the errors is correctly specified.\n",
       "\"\"\""
      ]
     },
     "execution_count": 46,
     "metadata": {},
     "output_type": "execute_result"
    }
   ],
   "source": [
    "## Conduct regression on chromosome 14 QTL\n",
    "qtl14_res = smf.ols('Score~Chr14',data=medh2o2).fit()\n",
    "qtl14_res.summary()"
   ]
  },
  {
   "cell_type": "code",
   "execution_count": 47,
   "metadata": {},
   "outputs": [
    {
     "data": {
      "text/html": [
       "<table class=\"simpletable\">\n",
       "<caption>OLS Regression Results</caption>\n",
       "<tr>\n",
       "  <th>Dep. Variable:</th>          <td>Score</td>      <th>  R-squared:         </th> <td>   0.278</td>\n",
       "</tr>\n",
       "<tr>\n",
       "  <th>Model:</th>                   <td>OLS</td>       <th>  Adj. R-squared:    </th> <td>   0.257</td>\n",
       "</tr>\n",
       "<tr>\n",
       "  <th>Method:</th>             <td>Least Squares</td>  <th>  F-statistic:       </th> <td>   12.85</td>\n",
       "</tr>\n",
       "<tr>\n",
       "  <th>Date:</th>             <td>Tue, 10 Nov 2020</td> <th>  Prob (F-statistic):</th> <td>3.62e-07</td>\n",
       "</tr>\n",
       "<tr>\n",
       "  <th>Time:</th>                 <td>13:10:24</td>     <th>  Log-Likelihood:    </th> <td> -194.52</td>\n",
       "</tr>\n",
       "<tr>\n",
       "  <th>No. Observations:</th>      <td>   104</td>      <th>  AIC:               </th> <td>   397.0</td>\n",
       "</tr>\n",
       "<tr>\n",
       "  <th>Df Residuals:</th>          <td>   100</td>      <th>  BIC:               </th> <td>   407.6</td>\n",
       "</tr>\n",
       "<tr>\n",
       "  <th>Df Model:</th>              <td>     3</td>      <th>                     </th>     <td> </td>   \n",
       "</tr>\n",
       "<tr>\n",
       "  <th>Covariance Type:</th>      <td>nonrobust</td>    <th>                     </th>     <td> </td>   \n",
       "</tr>\n",
       "</table>\n",
       "<table class=\"simpletable\">\n",
       "<tr>\n",
       "       <td></td>          <th>coef</th>     <th>std err</th>      <th>t</th>      <th>P>|t|</th>  <th>[0.025</th>    <th>0.975]</th>  \n",
       "</tr>\n",
       "<tr>\n",
       "  <th>Intercept</th>   <td>    3.0833</td> <td>    0.327</td> <td>    9.431</td> <td> 0.000</td> <td>    2.435</td> <td>    3.732</td>\n",
       "</tr>\n",
       "<tr>\n",
       "  <th>Chr12</th>       <td>    0.4936</td> <td>    0.453</td> <td>    1.089</td> <td> 0.279</td> <td>   -0.406</td> <td>    1.393</td>\n",
       "</tr>\n",
       "<tr>\n",
       "  <th>Chr14</th>       <td>   -1.6809</td> <td>    0.412</td> <td>   -4.083</td> <td> 0.000</td> <td>   -2.498</td> <td>   -0.864</td>\n",
       "</tr>\n",
       "<tr>\n",
       "  <th>Chr12:Chr14</th> <td>    1.5655</td> <td>    0.682</td> <td>    2.295</td> <td> 0.024</td> <td>    0.212</td> <td>    2.919</td>\n",
       "</tr>\n",
       "</table>\n",
       "<table class=\"simpletable\">\n",
       "<tr>\n",
       "  <th>Omnibus:</th>       <td> 5.771</td> <th>  Durbin-Watson:     </th> <td>   1.616</td>\n",
       "</tr>\n",
       "<tr>\n",
       "  <th>Prob(Omnibus):</th> <td> 0.056</td> <th>  Jarque-Bera (JB):  </th> <td>   3.512</td>\n",
       "</tr>\n",
       "<tr>\n",
       "  <th>Skew:</th>          <td>-0.262</td> <th>  Prob(JB):          </th> <td>   0.173</td>\n",
       "</tr>\n",
       "<tr>\n",
       "  <th>Kurtosis:</th>      <td> 2.269</td> <th>  Cond. No.          </th> <td>    6.57</td>\n",
       "</tr>\n",
       "</table><br/><br/>Warnings:<br/>[1] Standard Errors assume that the covariance matrix of the errors is correctly specified."
      ],
      "text/plain": [
       "<class 'statsmodels.iolib.summary.Summary'>\n",
       "\"\"\"\n",
       "                            OLS Regression Results                            \n",
       "==============================================================================\n",
       "Dep. Variable:                  Score   R-squared:                       0.278\n",
       "Model:                            OLS   Adj. R-squared:                  0.257\n",
       "Method:                 Least Squares   F-statistic:                     12.85\n",
       "Date:                Tue, 10 Nov 2020   Prob (F-statistic):           3.62e-07\n",
       "Time:                        13:10:24   Log-Likelihood:                -194.52\n",
       "No. Observations:                 104   AIC:                             397.0\n",
       "Df Residuals:                     100   BIC:                             407.6\n",
       "Df Model:                           3                                         \n",
       "Covariance Type:            nonrobust                                         \n",
       "===============================================================================\n",
       "                  coef    std err          t      P>|t|      [0.025      0.975]\n",
       "-------------------------------------------------------------------------------\n",
       "Intercept       3.0833      0.327      9.431      0.000       2.435       3.732\n",
       "Chr12           0.4936      0.453      1.089      0.279      -0.406       1.393\n",
       "Chr14          -1.6809      0.412     -4.083      0.000      -2.498      -0.864\n",
       "Chr12:Chr14     1.5655      0.682      2.295      0.024       0.212       2.919\n",
       "==============================================================================\n",
       "Omnibus:                        5.771   Durbin-Watson:                   1.616\n",
       "Prob(Omnibus):                  0.056   Jarque-Bera (JB):                3.512\n",
       "Skew:                          -0.262   Prob(JB):                        0.173\n",
       "Kurtosis:                       2.269   Cond. No.                         6.57\n",
       "==============================================================================\n",
       "\n",
       "Warnings:\n",
       "[1] Standard Errors assume that the covariance matrix of the errors is correctly specified.\n",
       "\"\"\""
      ]
     },
     "execution_count": 47,
     "metadata": {},
     "output_type": "execute_result"
    }
   ],
   "source": [
    "## Test interactive modle\n",
    "qtl12_14_res = smf.ols('Score~Chr12*Chr14',data=medh2o2).fit()\n",
    "qtl12_14_res.summary()"
   ]
  },
  {
   "cell_type": "code",
   "execution_count": 48,
   "metadata": {},
   "outputs": [],
   "source": [
    "## Set chromosome colors\n",
    "chrom_colors = ['tab:grey','tab:brown','lightgrey','salmon','tan']"
   ]
  },
  {
   "cell_type": "code",
   "execution_count": 49,
   "metadata": {},
   "outputs": [
    {
     "data": {
      "text/plain": [
       "4.258910961495085"
      ]
     },
     "execution_count": 49,
     "metadata": {},
     "output_type": "execute_result"
    }
   ],
   "source": [
    "## Conduct permutations\n",
    "import os\n",
    "kps = 10000\n",
    "perms = []\n",
    "perm_path = '../DATA/PERMUTATIONS/Cden_H2O2_permutations_null.csv.gz'\n",
    "if not os.path.exists(perm_path):\n",
    "    while len(perms)<kps:\n",
    "    \n",
    "        ran_pval = test[segs].apply(association_logPval,\n",
    "                                args=[medh2o2.T[np.random.permutation(segs)].T.Score],\n",
    "                                axis=1).max()\n",
    "        perms.append(ran_pval)\n",
    "    pd.DataFrame(perms,columns=['H2O2']).to_csv(perm_path,index=False)\n",
    "else:\n",
    "    perms = pd.read_csv(perm_path)['H2O2'].values\n",
    "    \n",
    "threshold_95 = np.percentile(perms,95)\n",
    "threshold_95"
   ]
  },
  {
   "cell_type": "code",
   "execution_count": 50,
   "metadata": {},
   "outputs": [],
   "source": [
    "## gather progeny\n",
    "F_1 = [s for s in segs if s not in ['XL80a','XL280alpha','SS-A837']]"
   ]
  },
  {
   "cell_type": "code",
   "execution_count": 51,
   "metadata": {},
   "outputs": [
    {
     "name": "stderr",
     "output_type": "stream",
     "text": [
      "/home/croth/anaconda3/lib/python3.8/site-packages/seaborn/categorical.py:1296: UserWarning: 7.7% of the points cannot be placed; you may want to decrease the size of the markers or use stripplot.\n",
      "  warnings.warn(msg, UserWarning)\n"
     ]
    },
    {
     "data": {
      "image/png": "[encoded data removed]",
      "text/plain": [
       "<Figure size 576x576 with 11 Axes>"
      ]
     },
     "metadata": {
      "needs_background": "light"
     },
     "output_type": "display_data"
    }
   ],
   "source": [
    "## Make figure 9\n",
    "fig = plt.figure(figsize=(8,8))\n",
    "gs = GridSpec(12,4,figure=fig)\n",
    "ax_fake = fig.add_subplot(gs[:2,:2])\n",
    "plt.sca(ax_fake)\n",
    "[ax_fake.spines[s].set_visible(False) for s in ['top','right']]\n",
    "\n",
    "plt.title(x=-0.125,y=1,label='A',\n",
    "          fontsize=14,fontweight='bold')\n",
    "plt.xticks([]);plt.yticks([])\n",
    "\n",
    "[ax_fake.spines[j].set_visible(False) for j in ['top','bottom','left','right']]\n",
    "\n",
    "ax_hist = fig.add_subplot(gs[:3,2:])\n",
    "\n",
    "[ax_hist.spines[s].set_visible(False) for s in ['top','right']]\n",
    "\n",
    "\n",
    "plt.hist(medh2o2.Score.values,color='grey',alpha=0.65,\n",
    "         bins=np.arange(7)-0.5);\n",
    "\n",
    "plt.xlabel('H$_{2}$O$_{2}$ Score',fontsize=14);\n",
    "plt.xticks([0,1,2,3,4,5])\n",
    "plt.ylabel('Number of\\nProgeny',fontsize=14);\n",
    "plt.yticks(np.arange(0,35,5))\n",
    "\n",
    "plt.vlines(medh2o2.T['XL280a'].T.Score,0,3.5,\n",
    "           alpha=0.75,linestyle='-',\n",
    "           color='tab:blue')#,label=_xl280alabel);\n",
    "plt.text(medh2o2.T['XL280a'].T.Score,4,\n",
    "         _xl280alabel,fontsize=12,\n",
    "         color='tab:blue',ha='center')\n",
    "\n",
    "plt.vlines(medh2o2.T['SS-A837'].T.Score,0,3.5,\n",
    "           alpha=0.75,color='tab:orange')#,label=_431label);\n",
    "plt.text(medh2o2.T['SS-A837'].T.Score,4,\n",
    "         _431label,fontsize=12,\n",
    "         color='tab:orange',ha='center')\n",
    "\n",
    "plt.title(x=-0.2,y=1,label='B',\n",
    "          fontsize=14,fontweight='bold')\n",
    "\n",
    "##### ----------------------------------------------------------###\n",
    "ax_qtl1 = fig.add_subplot(gs[9:,:2])\n",
    "[ax_qtl1.spines[s].set_visible(False) for s in ['top','right']]\n",
    "\n",
    "sns.swarmplot(x='Chr12',y='Score',\n",
    "              data=medh2o2,alpha=0.5)\n",
    "\n",
    "\n",
    "plt.plot( [-0.3,1.2] , medh2o2.groupby('Chr12').mean()['Score'].values,\n",
    "         #medh2o2.T[['SS-A837','XL280a']].T['Score'].values[::-1],\n",
    "         'k^',alpha=0.5)\n",
    "\n",
    "plt.ylabel(r'H$_{2}$O$_{2}$ Score',fontsize=14)\n",
    "plt.yticks(np.arange(6))\n",
    "plt.xticks([0,1],labels=[_xl280alabel,_431label])\n",
    "plt.xlabel('Chromosome 12\\nQTL Allele',fontsize=14)\n",
    "plt.title(x=-0.135,y=1,label='D',\n",
    "          fontsize=14,fontweight='bold')\n",
    "plt.text(0.5,5.5,'R$^2$ = %s'%np.round(qtl12_res.rsquared,2),\n",
    "        ha='center')\n",
    "### -------------------------------------------------------------- ###\n",
    "ax_qtl2 = fig.add_subplot(gs[9:,2:])\n",
    "[ax_qtl2.spines[s].set_visible(False) for s in ['top','right']]\n",
    "\n",
    "sns.swarmplot(x='Chr14',y='Score',\n",
    "              data=medh2o2,alpha=0.5)\n",
    "\n",
    "plt.plot( [-0.2,1.25] , medh2o2.groupby('Chr14').mean()['Score'].values,\n",
    "         #medh2o2.T[['SS-A837','XL280a']].T['Score'].values[::-1],\n",
    "         'k^',alpha=0.5)\n",
    "\n",
    "plt.yticks(np.arange(6))\n",
    "plt.ylabel('')\n",
    "plt.xticks([0,1],labels=[_xl280alabel,_431label])\n",
    "plt.xlabel('Chromosome 14\\nQTL Allele',fontsize=14)\n",
    "plt.text(0.5,5.5,'R$^2$ = %s'%np.round(qtl14_res.rsquared,2),\n",
    "        ha='center')\n",
    "### --------------------------- QTL MAPPING --------------------- ###\n",
    "\n",
    "ax_qtl = fig.add_subplot(gs[4:8,:])\n",
    "\n",
    "plt.sca(ax_qtl)\n",
    "plt.title(x=-0.065,y=1,label='C',\n",
    "          fontsize=14,fontweight='bold')\n",
    "\n",
    "for c,chrom in enumerate(chrlist):\n",
    "    tpd = pvaldf[(pvaldf.Chrom==chrom)]\n",
    "    \n",
    "    if chrom == 'Chr12':\n",
    "        cc = 'tab:orange'\n",
    "    elif chrom == 'Chr14':\n",
    "        cc = 'tab:blue'\n",
    "    else:\n",
    "        cc = chrom_colors[c%len(chrom_colors)]\n",
    "\n",
    "    plt.plot(tpd.Pos+cumpos[c],tpd.Pval.values,'.',alpha=0.5,color=cc,markersize=3);\n",
    "\n",
    "\n",
    "plt.hlines(threshold_95,chrom_midpts[1],19*(10**6),\n",
    "           linestyle='--',alpha=0.7,\n",
    "           linewidth=1,label=alpha_label,color='k')\n",
    "\n",
    "plt.xticks(chrom_midpts,labels=np.arange(len(chrlist))+1);\n",
    "plt.xlabel('Chromosome',fontsize=14);\n",
    "plt.ylabel('$-\\log_{10}\\,(p-value)$',fontsize=14);\n",
    "\n",
    "plt.ylim(-0.5,5.5)\n",
    "plt.yticks([0,1,2,3,4,5])\n",
    "##### ------------------------------------------------------ #####\n",
    "plt.sca(ax_hist)\n",
    "yw = 0.07\n",
    "yh = 0.82\n",
    "yh2 = 0.72\n",
    "ax0 = fig.add_axes([0.13,yh,yw,yw])\n",
    "pheno0 = '/home/croth/H2O2_0_crop.png'\n",
    "pheno0_obj = Image.open(pheno0)\n",
    "plt.imshow(pheno0_obj, \n",
    "           cmap='gray', vmin=0, vmax=255);\n",
    "plt.text(0.5,-0.25,'0',va='center',ha='center',\n",
    "         transform=ax0.transAxes,fontsize=14)\n",
    "plt.axis('off')\n",
    "#plt.title(x=-2,y=2.35,label='A',\n",
    "#          fontsize=14,fontweight='bold')\n",
    "\n",
    "ax1 = fig.add_axes([0.23,yh,yw,yw])\n",
    "pheno1 = '/home/croth/H2O2_1_crop.png'\n",
    "pheno1_obj = Image.open(pheno1)\n",
    "plt.imshow(pheno1_obj, \n",
    "           cmap='gray', vmin=0, vmax=255);\n",
    "plt.text(0.5,-0.25,'1',va='center',ha='center',\n",
    "         transform=ax1.transAxes,fontsize=14)\n",
    "plt.axis('off')\n",
    "plt.title(x=0.5,y=-2.4,\n",
    "          label=r'H$_{2}$O$_{2}$'+' Phenotypes & Scores',\n",
    "         fontsize=14)\n",
    "#plt.xlabel(r'H$_{2}$O$_{2}$'+' Phenotypes & Scores',fontsize=14)\n",
    "\n",
    "\n",
    "ax2 = fig.add_axes([0.33,yh,yw,yw])\n",
    "pheno2 = '/home/croth/H2O2_2_crop.png'\n",
    "pheno2_obj = Image.open(pheno2)\n",
    "plt.imshow(pheno2_obj, \n",
    "           cmap='gray', vmin=0, vmax=255);\n",
    "plt.text(0.5,-0.25,'2',va='center',ha='center',\n",
    "         transform=ax2.transAxes,fontsize=14)\n",
    "plt.axis('off')\n",
    "\n",
    "\n",
    "#ax3 = fig.add_axes([0.25,.7,0.09,0.09])\n",
    "ax3 = fig.add_axes([0.13,yh2,yw,yw])\n",
    "plt.sca(ax3)\n",
    "\n",
    "pheno3 = '/home/croth/H2O2_3_crop.png'\n",
    "pheno3_obj = Image.open(pheno3)\n",
    "plt.imshow(pheno3_obj, \n",
    "           cmap='gray', vmin=0, vmax=255);\n",
    "plt.text(0.5,-0.25,'3',va='center',ha='center',\n",
    "         transform=ax3.transAxes,fontsize=14)\n",
    "plt.axis('off')\n",
    "\n",
    "\n",
    "ax4 = fig.add_axes([0.23,yh2,yw,yw])\n",
    "pheno4 = '/home/croth/H2O2_4_crop.png'\n",
    "pheno4_obj = Image.open(pheno4)\n",
    "plt.imshow(pheno4_obj, \n",
    "           cmap='gray', vmin=0, vmax=255);\n",
    "plt.text(0.5,-0.25,'4',va='center',ha='center',\n",
    "         transform=ax4.transAxes,fontsize=14)\n",
    "plt.axis('off')\n",
    "\n",
    "\n",
    "n = 5\n",
    "ax5 = fig.add_axes([0.33,yh2,yw,yw])\n",
    "pheno5 = '/home/croth/H2O2_%s_crop.png'%n\n",
    "pheno5_obj = Image.open(pheno5)\n",
    "plt.imshow(pheno5_obj, \n",
    "           cmap='gray', vmin=0, vmax=255);\n",
    "plt.text(0.5,-0.25,'%s'%n,va='center',ha='center',\n",
    "         transform=ax5.transAxes,fontsize=14)\n",
    "plt.axis('off');\n",
    "\n",
    "\n",
    "plt.sca(ax_qtl)\n",
    "[ax_qtl.spines[s].set_visible(False) for s in ['top','right']]\n",
    "\n",
    "plt.text(s = r'$\\alpha$ = 0.05', x = chrom_midpts[0],y= threshold_95, \n",
    "         horizontalalignment='center',\n",
    "         verticalalignment='center', \n",
    "         fontsize=14 )\n",
    "        ## transform=ax_qtl.transAxes, \n",
    "\n",
    "plt.subplots_adjust(hspace=2,wspace=.6)\n",
    "mydpi=600\n",
    "plos_path = '../FIGURES/MAIN/TIFF/Fig9.tiff'\n",
    "plt.savefig(plos_path,dpi=mydpi,bbox_inches='tight')\n",
    "plt.savefig('../FIGURES/MAIN/PDFs/Fig9.pdf',\n",
    "            dpi=mydpi,bbox_inches='tight',pad_inches=1)\n",
    "\n",
    "im = Image.open(plos_path)\n",
    "w,h = im.size\n",
    "assert w/mydpi < 7.5\n",
    "assert h/mydpi < 8\n",
    "\n",
    "im.save(plos_path,compression='tiff_lzw');"
   ]
  },
  {
   "cell_type": "code",
   "execution_count": null,
   "metadata": {},
   "outputs": [],
   "source": []
  }
 ],
 "metadata": {
  "kernelspec": {
   "display_name": "Python 3",
   "language": "python",
   "name": "python3"
  },
  "language_info": {
   "codemirror_mode": {
    "name": "ipython",
    "version": 3
   },
   "file_extension": ".py",
   "mimetype": "text/x-python",
   "name": "python",
   "nbconvert_exporter": "python",
   "pygments_lexer": "ipython3",
   "version": "3.8.5"
  }
 },
 "nbformat": 4,
 "nbformat_minor": 4
}
