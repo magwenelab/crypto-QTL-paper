{
 "cells": [
  {
   "cell_type": "code",
   "execution_count": 1,
   "metadata": {},
   "outputs": [],
   "source": [
    "## import mods\n",
    "import pandas as pd, numpy as np, scipy.stats as ss, seaborn as sns\n",
    "from sklearn.linear_model import LinearRegression\n",
    "from sklearn.decomposition import PCA\n",
    "from matplotlib import pyplot as plt \n",
    "%matplotlib inline"
   ]
  },
  {
   "cell_type": "code",
   "execution_count": 2,
   "metadata": {},
   "outputs": [],
   "source": [
    "from PIL import Image"
   ]
  },
  {
   "cell_type": "code",
   "execution_count": 3,
   "metadata": {},
   "outputs": [],
   "source": [
    "plt.style.use(['tableau-colorblind10'])"
   ]
  },
  {
   "cell_type": "code",
   "execution_count": 4,
   "metadata": {},
   "outputs": [],
   "source": [
    "def allelic_ANOVA(site, pheno):\n",
    "    \"\"\"This regression is equivalent to one-way ANOVA with 2 groups. Return F-statistic.\n",
    "\n",
    "    Assumes site is coded as -1, 1\n",
    "    \"\"\"\n",
    "    coding = np.array(site,np.float)\n",
    "    pheno = np.array(pheno,np.float)\n",
    "\n",
    "    meany = np.mean(pheno)\n",
    "    meandummy = np.mean(coding)\n",
    "    ctry = pheno - meany\n",
    "    ctrdummy = coding - meandummy\n",
    "    \n",
    "    b = np.dot(ctry, ctrdummy)/np.dot(ctrdummy, ctrdummy)\n",
    "    intercept = meany - b * meandummy\n",
    "    \n",
    "    yhat = b * ctrdummy\n",
    "    len_yhat = np.sqrt(np.dot(yhat,yhat))\n",
    "    len_y = np.sqrt(np.dot(ctry,ctry))\n",
    "    df_yhat = 1\n",
    "    \n",
    "    error = ctry  - yhat\n",
    "    len_error = np.sqrt(np.dot(error,error))\n",
    "    if abs(len_error**2) < 1e-5:\n",
    "        raise Exception(\"Zero length error in ANOVA\")\n",
    "    df_error = len(pheno) - 2\n",
    "    \n",
    "    F = (len_yhat**2/df_yhat) / (len_error**2/df_error)\n",
    "    return F\n",
    "\n",
    "\n",
    "def association_logPval(site, pheno):\n",
    "    F = allelic_ANOVA(site, pheno)\n",
    "    logP = np.log10(ss.f.sf(F, 1, len(pheno)-2))\n",
    "    return -logP"
   ]
  },
  {
   "cell_type": "code",
   "execution_count": 5,
   "metadata": {},
   "outputs": [],
   "source": [
    "## Bring in genotype data\n",
    "geno_path = './CDx-ill-SNP-INDEL-df-104-blocked.csv.gz'\n",
    "geno_df = pd.read_csv(geno_path)\n",
    "loci = geno_df.Block.drop_duplicates().index"
   ]
  },
  {
   "cell_type": "code",
   "execution_count": 6,
   "metadata": {},
   "outputs": [
    {
     "data": {
      "text/html": [
       "<div>\n",
       "<style scoped>\n",
       "    .dataframe tbody tr th:only-of-type {\n",
       "        vertical-align: middle;\n",
       "    }\n",
       "\n",
       "    .dataframe tbody tr th {\n",
       "        vertical-align: top;\n",
       "    }\n",
       "\n",
       "    .dataframe thead th {\n",
       "        text-align: right;\n",
       "    }\n",
       "</style>\n",
       "<table border=\"1\" class=\"dataframe\">\n",
       "  <thead>\n",
       "    <tr style=\"text-align: right;\">\n",
       "      <th></th>\n",
       "      <th>Chrom</th>\n",
       "      <th>Pos</th>\n",
       "      <th>Qual</th>\n",
       "      <th>Callrate</th>\n",
       "      <th>Ref</th>\n",
       "      <th>Alt</th>\n",
       "      <th>Altlen</th>\n",
       "      <th>Dp</th>\n",
       "      <th>Type</th>\n",
       "      <th>Vcfix</th>\n",
       "      <th>...</th>\n",
       "      <th>SS-B598</th>\n",
       "      <th>SS-B565</th>\n",
       "      <th>SS-B600</th>\n",
       "      <th>SS-B574</th>\n",
       "      <th>SS-B872_cor</th>\n",
       "      <th>SS-B873_cor</th>\n",
       "      <th>SS-B360</th>\n",
       "      <th>SS-B397</th>\n",
       "      <th>SS-B564</th>\n",
       "      <th>SS-B382</th>\n",
       "    </tr>\n",
       "  </thead>\n",
       "  <tbody>\n",
       "    <tr>\n",
       "      <th>88605</th>\n",
       "      <td>Chr14</td>\n",
       "      <td>6648</td>\n",
       "      <td>146846.0</td>\n",
       "      <td>1.0</td>\n",
       "      <td>T</td>\n",
       "      <td>G</td>\n",
       "      <td>1</td>\n",
       "      <td>8809</td>\n",
       "      <td>snp</td>\n",
       "      <td>230</td>\n",
       "      <td>...</td>\n",
       "      <td>1.0</td>\n",
       "      <td>0.0</td>\n",
       "      <td>0.0</td>\n",
       "      <td>1.0</td>\n",
       "      <td>1.0</td>\n",
       "      <td>1.0</td>\n",
       "      <td>0.0</td>\n",
       "      <td>0.0</td>\n",
       "      <td>1.0</td>\n",
       "      <td>1.0</td>\n",
       "    </tr>\n",
       "    <tr>\n",
       "      <th>88606</th>\n",
       "      <td>Chr14</td>\n",
       "      <td>15301</td>\n",
       "      <td>89905.0</td>\n",
       "      <td>1.0</td>\n",
       "      <td>CTTTTTTTTTTTAAAAAAAAGGT</td>\n",
       "      <td>CTTTTTTTTTTAAAAAAAAAGGT</td>\n",
       "      <td>1</td>\n",
       "      <td>6238</td>\n",
       "      <td>indel</td>\n",
       "      <td>348</td>\n",
       "      <td>...</td>\n",
       "      <td>1.0</td>\n",
       "      <td>0.0</td>\n",
       "      <td>0.0</td>\n",
       "      <td>1.0</td>\n",
       "      <td>1.0</td>\n",
       "      <td>1.0</td>\n",
       "      <td>0.0</td>\n",
       "      <td>0.0</td>\n",
       "      <td>1.0</td>\n",
       "      <td>1.0</td>\n",
       "    </tr>\n",
       "    <tr>\n",
       "      <th>88607</th>\n",
       "      <td>Chr14</td>\n",
       "      <td>24175</td>\n",
       "      <td>156761.0</td>\n",
       "      <td>1.0</td>\n",
       "      <td>C</td>\n",
       "      <td>T</td>\n",
       "      <td>1</td>\n",
       "      <td>9515</td>\n",
       "      <td>snp</td>\n",
       "      <td>531</td>\n",
       "      <td>...</td>\n",
       "      <td>1.0</td>\n",
       "      <td>0.0</td>\n",
       "      <td>0.0</td>\n",
       "      <td>1.0</td>\n",
       "      <td>1.0</td>\n",
       "      <td>1.0</td>\n",
       "      <td>0.0</td>\n",
       "      <td>0.0</td>\n",
       "      <td>1.0</td>\n",
       "      <td>1.0</td>\n",
       "    </tr>\n",
       "    <tr>\n",
       "      <th>88608</th>\n",
       "      <td>Chr14</td>\n",
       "      <td>28073</td>\n",
       "      <td>139655.0</td>\n",
       "      <td>1.0</td>\n",
       "      <td>CA</td>\n",
       "      <td>CG</td>\n",
       "      <td>1</td>\n",
       "      <td>8586</td>\n",
       "      <td>indel</td>\n",
       "      <td>619</td>\n",
       "      <td>...</td>\n",
       "      <td>1.0</td>\n",
       "      <td>0.0</td>\n",
       "      <td>0.0</td>\n",
       "      <td>1.0</td>\n",
       "      <td>1.0</td>\n",
       "      <td>1.0</td>\n",
       "      <td>0.0</td>\n",
       "      <td>0.0</td>\n",
       "      <td>1.0</td>\n",
       "      <td>1.0</td>\n",
       "    </tr>\n",
       "    <tr>\n",
       "      <th>88609</th>\n",
       "      <td>Chr14</td>\n",
       "      <td>28198</td>\n",
       "      <td>139875.0</td>\n",
       "      <td>1.0</td>\n",
       "      <td>TTACA</td>\n",
       "      <td>TTACG</td>\n",
       "      <td>1</td>\n",
       "      <td>8498</td>\n",
       "      <td>indel</td>\n",
       "      <td>624</td>\n",
       "      <td>...</td>\n",
       "      <td>1.0</td>\n",
       "      <td>0.0</td>\n",
       "      <td>0.0</td>\n",
       "      <td>1.0</td>\n",
       "      <td>1.0</td>\n",
       "      <td>1.0</td>\n",
       "      <td>0.0</td>\n",
       "      <td>0.0</td>\n",
       "      <td>1.0</td>\n",
       "      <td>1.0</td>\n",
       "    </tr>\n",
       "    <tr>\n",
       "      <th>...</th>\n",
       "      <td>...</td>\n",
       "      <td>...</td>\n",
       "      <td>...</td>\n",
       "      <td>...</td>\n",
       "      <td>...</td>\n",
       "      <td>...</td>\n",
       "      <td>...</td>\n",
       "      <td>...</td>\n",
       "      <td>...</td>\n",
       "      <td>...</td>\n",
       "      <td>...</td>\n",
       "      <td>...</td>\n",
       "      <td>...</td>\n",
       "      <td>...</td>\n",
       "      <td>...</td>\n",
       "      <td>...</td>\n",
       "      <td>...</td>\n",
       "      <td>...</td>\n",
       "      <td>...</td>\n",
       "      <td>...</td>\n",
       "      <td>...</td>\n",
       "    </tr>\n",
       "    <tr>\n",
       "      <th>92098</th>\n",
       "      <td>Chr14</td>\n",
       "      <td>726789</td>\n",
       "      <td>117457.0</td>\n",
       "      <td>1.0</td>\n",
       "      <td>C</td>\n",
       "      <td>T</td>\n",
       "      <td>1</td>\n",
       "      <td>7112</td>\n",
       "      <td>snp</td>\n",
       "      <td>24495</td>\n",
       "      <td>...</td>\n",
       "      <td>1.0</td>\n",
       "      <td>1.0</td>\n",
       "      <td>1.0</td>\n",
       "      <td>1.0</td>\n",
       "      <td>0.0</td>\n",
       "      <td>0.0</td>\n",
       "      <td>1.0</td>\n",
       "      <td>1.0</td>\n",
       "      <td>0.0</td>\n",
       "      <td>1.0</td>\n",
       "    </tr>\n",
       "    <tr>\n",
       "      <th>92099</th>\n",
       "      <td>Chr14</td>\n",
       "      <td>727291</td>\n",
       "      <td>148245.0</td>\n",
       "      <td>1.0</td>\n",
       "      <td>G</td>\n",
       "      <td>A</td>\n",
       "      <td>1</td>\n",
       "      <td>8089</td>\n",
       "      <td>snp</td>\n",
       "      <td>24520</td>\n",
       "      <td>...</td>\n",
       "      <td>1.0</td>\n",
       "      <td>1.0</td>\n",
       "      <td>1.0</td>\n",
       "      <td>1.0</td>\n",
       "      <td>0.0</td>\n",
       "      <td>0.0</td>\n",
       "      <td>1.0</td>\n",
       "      <td>1.0</td>\n",
       "      <td>0.0</td>\n",
       "      <td>1.0</td>\n",
       "    </tr>\n",
       "    <tr>\n",
       "      <th>92100</th>\n",
       "      <td>Chr14</td>\n",
       "      <td>731761</td>\n",
       "      <td>144813.0</td>\n",
       "      <td>1.0</td>\n",
       "      <td>C</td>\n",
       "      <td>T</td>\n",
       "      <td>1</td>\n",
       "      <td>7635</td>\n",
       "      <td>snp</td>\n",
       "      <td>24696</td>\n",
       "      <td>...</td>\n",
       "      <td>1.0</td>\n",
       "      <td>1.0</td>\n",
       "      <td>1.0</td>\n",
       "      <td>1.0</td>\n",
       "      <td>0.0</td>\n",
       "      <td>0.0</td>\n",
       "      <td>1.0</td>\n",
       "      <td>1.0</td>\n",
       "      <td>0.0</td>\n",
       "      <td>1.0</td>\n",
       "    </tr>\n",
       "    <tr>\n",
       "      <th>92101</th>\n",
       "      <td>Chr14</td>\n",
       "      <td>735057</td>\n",
       "      <td>139770.0</td>\n",
       "      <td>1.0</td>\n",
       "      <td>A</td>\n",
       "      <td>G</td>\n",
       "      <td>1</td>\n",
       "      <td>7777</td>\n",
       "      <td>snp</td>\n",
       "      <td>24762</td>\n",
       "      <td>...</td>\n",
       "      <td>1.0</td>\n",
       "      <td>1.0</td>\n",
       "      <td>1.0</td>\n",
       "      <td>1.0</td>\n",
       "      <td>0.0</td>\n",
       "      <td>0.0</td>\n",
       "      <td>1.0</td>\n",
       "      <td>1.0</td>\n",
       "      <td>0.0</td>\n",
       "      <td>1.0</td>\n",
       "    </tr>\n",
       "    <tr>\n",
       "      <th>92102</th>\n",
       "      <td>Chr14</td>\n",
       "      <td>745415</td>\n",
       "      <td>155353.0</td>\n",
       "      <td>1.0</td>\n",
       "      <td>T</td>\n",
       "      <td>C</td>\n",
       "      <td>1</td>\n",
       "      <td>8520</td>\n",
       "      <td>snp</td>\n",
       "      <td>24961</td>\n",
       "      <td>...</td>\n",
       "      <td>1.0</td>\n",
       "      <td>1.0</td>\n",
       "      <td>1.0</td>\n",
       "      <td>1.0</td>\n",
       "      <td>0.0</td>\n",
       "      <td>0.0</td>\n",
       "      <td>1.0</td>\n",
       "      <td>1.0</td>\n",
       "      <td>0.0</td>\n",
       "      <td>1.0</td>\n",
       "    </tr>\n",
       "  </tbody>\n",
       "</table>\n",
       "<p>3498 rows × 125 columns</p>\n",
       "</div>"
      ],
      "text/plain": [
       "       Chrom     Pos      Qual  Callrate                      Ref  \\\n",
       "88605  Chr14    6648  146846.0       1.0                        T   \n",
       "88606  Chr14   15301   89905.0       1.0  CTTTTTTTTTTTAAAAAAAAGGT   \n",
       "88607  Chr14   24175  156761.0       1.0                        C   \n",
       "88608  Chr14   28073  139655.0       1.0                       CA   \n",
       "88609  Chr14   28198  139875.0       1.0                    TTACA   \n",
       "...      ...     ...       ...       ...                      ...   \n",
       "92098  Chr14  726789  117457.0       1.0                        C   \n",
       "92099  Chr14  727291  148245.0       1.0                        G   \n",
       "92100  Chr14  731761  144813.0       1.0                        C   \n",
       "92101  Chr14  735057  139770.0       1.0                        A   \n",
       "92102  Chr14  745415  155353.0       1.0                        T   \n",
       "\n",
       "                           Alt  Altlen    Dp   Type  Vcfix  ...  SS-B598  \\\n",
       "88605                        G       1  8809    snp    230  ...      1.0   \n",
       "88606  CTTTTTTTTTTAAAAAAAAAGGT       1  6238  indel    348  ...      1.0   \n",
       "88607                        T       1  9515    snp    531  ...      1.0   \n",
       "88608                       CG       1  8586  indel    619  ...      1.0   \n",
       "88609                    TTACG       1  8498  indel    624  ...      1.0   \n",
       "...                        ...     ...   ...    ...    ...  ...      ...   \n",
       "92098                        T       1  7112    snp  24495  ...      1.0   \n",
       "92099                        A       1  8089    snp  24520  ...      1.0   \n",
       "92100                        T       1  7635    snp  24696  ...      1.0   \n",
       "92101                        G       1  7777    snp  24762  ...      1.0   \n",
       "92102                        C       1  8520    snp  24961  ...      1.0   \n",
       "\n",
       "       SS-B565  SS-B600  SS-B574  SS-B872_cor  SS-B873_cor  SS-B360  SS-B397  \\\n",
       "88605      0.0      0.0      1.0          1.0          1.0      0.0      0.0   \n",
       "88606      0.0      0.0      1.0          1.0          1.0      0.0      0.0   \n",
       "88607      0.0      0.0      1.0          1.0          1.0      0.0      0.0   \n",
       "88608      0.0      0.0      1.0          1.0          1.0      0.0      0.0   \n",
       "88609      0.0      0.0      1.0          1.0          1.0      0.0      0.0   \n",
       "...        ...      ...      ...          ...          ...      ...      ...   \n",
       "92098      1.0      1.0      1.0          0.0          0.0      1.0      1.0   \n",
       "92099      1.0      1.0      1.0          0.0          0.0      1.0      1.0   \n",
       "92100      1.0      1.0      1.0          0.0          0.0      1.0      1.0   \n",
       "92101      1.0      1.0      1.0          0.0          0.0      1.0      1.0   \n",
       "92102      1.0      1.0      1.0          0.0          0.0      1.0      1.0   \n",
       "\n",
       "       SS-B564  SS-B382  \n",
       "88605      1.0      1.0  \n",
       "88606      1.0      1.0  \n",
       "88607      1.0      1.0  \n",
       "88608      1.0      1.0  \n",
       "88609      1.0      1.0  \n",
       "...        ...      ...  \n",
       "92098      0.0      1.0  \n",
       "92099      0.0      1.0  \n",
       "92100      0.0      1.0  \n",
       "92101      0.0      1.0  \n",
       "92102      0.0      1.0  \n",
       "\n",
       "[3498 rows x 125 columns]"
      ]
     },
     "execution_count": 6,
     "metadata": {},
     "output_type": "execute_result"
    }
   ],
   "source": [
    "geno_df[(geno_df.Chrom=='Chr14')]"
   ]
  },
  {
   "cell_type": "code",
   "execution_count": 7,
   "metadata": {},
   "outputs": [],
   "source": [
    "gff_path = '/home/croth/xl280genome.gff3.csv'\n",
    "gff = pd.read_csv(gff_path,index_col=0)"
   ]
  },
  {
   "cell_type": "code",
   "execution_count": 8,
   "metadata": {},
   "outputs": [
    {
     "data": {
      "text/html": [
       "<div>\n",
       "<style scoped>\n",
       "    .dataframe tbody tr th:only-of-type {\n",
       "        vertical-align: middle;\n",
       "    }\n",
       "\n",
       "    .dataframe tbody tr th {\n",
       "        vertical-align: top;\n",
       "    }\n",
       "\n",
       "    .dataframe thead th {\n",
       "        text-align: right;\n",
       "    }\n",
       "</style>\n",
       "<table border=\"1\" class=\"dataframe\">\n",
       "  <thead>\n",
       "    <tr style=\"text-align: right;\">\n",
       "      <th></th>\n",
       "      <th>type</th>\n",
       "      <th>gene</th>\n",
       "      <th>start</th>\n",
       "      <th>end</th>\n",
       "      <th>strand</th>\n",
       "      <th>contig</th>\n",
       "      <th>phase</th>\n",
       "      <th>attribute</th>\n",
       "      <th>description</th>\n",
       "      <th>id</th>\n",
       "    </tr>\n",
       "  </thead>\n",
       "  <tbody>\n",
       "    <tr>\n",
       "      <th>53405</th>\n",
       "      <td>gene</td>\n",
       "      <td>CNN01270</td>\n",
       "      <td>386833</td>\n",
       "      <td>389699</td>\n",
       "      <td>+</td>\n",
       "      <td>Chr14</td>\n",
       "      <td>.</td>\n",
       "      <td>ID=CNN01270;description=hypothetical protein</td>\n",
       "      <td>hypothetical protein</td>\n",
       "      <td>CNN01270</td>\n",
       "    </tr>\n",
       "  </tbody>\n",
       "</table>\n",
       "</div>"
      ],
      "text/plain": [
       "       type      gene   start     end strand contig phase  \\\n",
       "53405  gene  CNN01270  386833  389699      +  Chr14     .   \n",
       "\n",
       "                                          attribute           description  \\\n",
       "53405  ID=CNN01270;description=hypothetical protein  hypothetical protein   \n",
       "\n",
       "             id  \n",
       "53405  CNN01270  "
      ]
     },
     "execution_count": 8,
     "metadata": {},
     "output_type": "execute_result"
    }
   ],
   "source": [
    "gff[(gff.id == 'CNN01270')]"
   ]
  },
  {
   "cell_type": "code",
   "execution_count": 9,
   "metadata": {},
   "outputs": [
    {
     "data": {
      "text/html": [
       "<div>\n",
       "<style scoped>\n",
       "    .dataframe tbody tr th:only-of-type {\n",
       "        vertical-align: middle;\n",
       "    }\n",
       "\n",
       "    .dataframe tbody tr th {\n",
       "        vertical-align: top;\n",
       "    }\n",
       "\n",
       "    .dataframe thead th {\n",
       "        text-align: right;\n",
       "    }\n",
       "</style>\n",
       "<table border=\"1\" class=\"dataframe\">\n",
       "  <thead>\n",
       "    <tr style=\"text-align: right;\">\n",
       "      <th></th>\n",
       "      <th>Chrom</th>\n",
       "      <th>Pos</th>\n",
       "      <th>Qual</th>\n",
       "      <th>Callrate</th>\n",
       "      <th>Ref</th>\n",
       "      <th>Alt</th>\n",
       "      <th>Altlen</th>\n",
       "      <th>Dp</th>\n",
       "      <th>Type</th>\n",
       "      <th>Vcfix</th>\n",
       "      <th>...</th>\n",
       "      <th>SS-B598</th>\n",
       "      <th>SS-B565</th>\n",
       "      <th>SS-B600</th>\n",
       "      <th>SS-B574</th>\n",
       "      <th>SS-B872_cor</th>\n",
       "      <th>SS-B873_cor</th>\n",
       "      <th>SS-B360</th>\n",
       "      <th>SS-B397</th>\n",
       "      <th>SS-B564</th>\n",
       "      <th>SS-B382</th>\n",
       "    </tr>\n",
       "  </thead>\n",
       "  <tbody>\n",
       "    <tr>\n",
       "      <th>90523</th>\n",
       "      <td>Chr14</td>\n",
       "      <td>386898</td>\n",
       "      <td>117375.0</td>\n",
       "      <td>1.0</td>\n",
       "      <td>G</td>\n",
       "      <td>A</td>\n",
       "      <td>1</td>\n",
       "      <td>7300</td>\n",
       "      <td>snp</td>\n",
       "      <td>10980</td>\n",
       "      <td>...</td>\n",
       "      <td>0.0</td>\n",
       "      <td>0.0</td>\n",
       "      <td>0.0</td>\n",
       "      <td>1.0</td>\n",
       "      <td>0.0</td>\n",
       "      <td>1.0</td>\n",
       "      <td>1.0</td>\n",
       "      <td>0.0</td>\n",
       "      <td>1.0</td>\n",
       "      <td>1.0</td>\n",
       "    </tr>\n",
       "    <tr>\n",
       "      <th>90524</th>\n",
       "      <td>Chr14</td>\n",
       "      <td>386995</td>\n",
       "      <td>131484.0</td>\n",
       "      <td>1.0</td>\n",
       "      <td>T</td>\n",
       "      <td>A</td>\n",
       "      <td>1</td>\n",
       "      <td>8331</td>\n",
       "      <td>snp</td>\n",
       "      <td>10984</td>\n",
       "      <td>...</td>\n",
       "      <td>0.0</td>\n",
       "      <td>0.0</td>\n",
       "      <td>0.0</td>\n",
       "      <td>1.0</td>\n",
       "      <td>0.0</td>\n",
       "      <td>1.0</td>\n",
       "      <td>1.0</td>\n",
       "      <td>0.0</td>\n",
       "      <td>1.0</td>\n",
       "      <td>1.0</td>\n",
       "    </tr>\n",
       "    <tr>\n",
       "      <th>90525</th>\n",
       "      <td>Chr14</td>\n",
       "      <td>387211</td>\n",
       "      <td>157752.0</td>\n",
       "      <td>1.0</td>\n",
       "      <td>T</td>\n",
       "      <td>G</td>\n",
       "      <td>1</td>\n",
       "      <td>9574</td>\n",
       "      <td>snp</td>\n",
       "      <td>10990</td>\n",
       "      <td>...</td>\n",
       "      <td>0.0</td>\n",
       "      <td>0.0</td>\n",
       "      <td>0.0</td>\n",
       "      <td>1.0</td>\n",
       "      <td>0.0</td>\n",
       "      <td>1.0</td>\n",
       "      <td>1.0</td>\n",
       "      <td>0.0</td>\n",
       "      <td>1.0</td>\n",
       "      <td>1.0</td>\n",
       "    </tr>\n",
       "    <tr>\n",
       "      <th>90526</th>\n",
       "      <td>Chr14</td>\n",
       "      <td>387317</td>\n",
       "      <td>163742.0</td>\n",
       "      <td>1.0</td>\n",
       "      <td>A</td>\n",
       "      <td>G</td>\n",
       "      <td>1</td>\n",
       "      <td>9883</td>\n",
       "      <td>snp</td>\n",
       "      <td>10991</td>\n",
       "      <td>...</td>\n",
       "      <td>0.0</td>\n",
       "      <td>0.0</td>\n",
       "      <td>0.0</td>\n",
       "      <td>1.0</td>\n",
       "      <td>0.0</td>\n",
       "      <td>1.0</td>\n",
       "      <td>1.0</td>\n",
       "      <td>0.0</td>\n",
       "      <td>1.0</td>\n",
       "      <td>1.0</td>\n",
       "    </tr>\n",
       "    <tr>\n",
       "      <th>90527</th>\n",
       "      <td>Chr14</td>\n",
       "      <td>387368</td>\n",
       "      <td>166211.0</td>\n",
       "      <td>1.0</td>\n",
       "      <td>G</td>\n",
       "      <td>T</td>\n",
       "      <td>1</td>\n",
       "      <td>9840</td>\n",
       "      <td>snp</td>\n",
       "      <td>10992</td>\n",
       "      <td>...</td>\n",
       "      <td>0.0</td>\n",
       "      <td>0.0</td>\n",
       "      <td>0.0</td>\n",
       "      <td>1.0</td>\n",
       "      <td>0.0</td>\n",
       "      <td>1.0</td>\n",
       "      <td>1.0</td>\n",
       "      <td>0.0</td>\n",
       "      <td>1.0</td>\n",
       "      <td>1.0</td>\n",
       "    </tr>\n",
       "    <tr>\n",
       "      <th>90528</th>\n",
       "      <td>Chr14</td>\n",
       "      <td>387615</td>\n",
       "      <td>157121.0</td>\n",
       "      <td>1.0</td>\n",
       "      <td>G</td>\n",
       "      <td>A</td>\n",
       "      <td>1</td>\n",
       "      <td>9242</td>\n",
       "      <td>snp</td>\n",
       "      <td>10994</td>\n",
       "      <td>...</td>\n",
       "      <td>0.0</td>\n",
       "      <td>0.0</td>\n",
       "      <td>0.0</td>\n",
       "      <td>1.0</td>\n",
       "      <td>0.0</td>\n",
       "      <td>1.0</td>\n",
       "      <td>1.0</td>\n",
       "      <td>0.0</td>\n",
       "      <td>1.0</td>\n",
       "      <td>1.0</td>\n",
       "    </tr>\n",
       "    <tr>\n",
       "      <th>90529</th>\n",
       "      <td>Chr14</td>\n",
       "      <td>387882</td>\n",
       "      <td>132840.0</td>\n",
       "      <td>1.0</td>\n",
       "      <td>CGAGG</td>\n",
       "      <td>CG</td>\n",
       "      <td>1</td>\n",
       "      <td>8978</td>\n",
       "      <td>indel</td>\n",
       "      <td>10999</td>\n",
       "      <td>...</td>\n",
       "      <td>0.0</td>\n",
       "      <td>0.0</td>\n",
       "      <td>0.0</td>\n",
       "      <td>1.0</td>\n",
       "      <td>0.0</td>\n",
       "      <td>1.0</td>\n",
       "      <td>1.0</td>\n",
       "      <td>0.0</td>\n",
       "      <td>1.0</td>\n",
       "      <td>1.0</td>\n",
       "    </tr>\n",
       "    <tr>\n",
       "      <th>90530</th>\n",
       "      <td>Chr14</td>\n",
       "      <td>388188</td>\n",
       "      <td>145280.0</td>\n",
       "      <td>1.0</td>\n",
       "      <td>CG</td>\n",
       "      <td>CA</td>\n",
       "      <td>1</td>\n",
       "      <td>9379</td>\n",
       "      <td>indel</td>\n",
       "      <td>11011</td>\n",
       "      <td>...</td>\n",
       "      <td>0.0</td>\n",
       "      <td>0.0</td>\n",
       "      <td>0.0</td>\n",
       "      <td>1.0</td>\n",
       "      <td>0.0</td>\n",
       "      <td>1.0</td>\n",
       "      <td>1.0</td>\n",
       "      <td>0.0</td>\n",
       "      <td>1.0</td>\n",
       "      <td>1.0</td>\n",
       "    </tr>\n",
       "    <tr>\n",
       "      <th>90531</th>\n",
       "      <td>Chr14</td>\n",
       "      <td>388196</td>\n",
       "      <td>140176.0</td>\n",
       "      <td>1.0</td>\n",
       "      <td>CTT</td>\n",
       "      <td>CTC</td>\n",
       "      <td>1</td>\n",
       "      <td>9284</td>\n",
       "      <td>indel</td>\n",
       "      <td>11016</td>\n",
       "      <td>...</td>\n",
       "      <td>0.0</td>\n",
       "      <td>0.0</td>\n",
       "      <td>0.0</td>\n",
       "      <td>1.0</td>\n",
       "      <td>0.0</td>\n",
       "      <td>1.0</td>\n",
       "      <td>1.0</td>\n",
       "      <td>0.0</td>\n",
       "      <td>1.0</td>\n",
       "      <td>1.0</td>\n",
       "    </tr>\n",
       "    <tr>\n",
       "      <th>90532</th>\n",
       "      <td>Chr14</td>\n",
       "      <td>388222</td>\n",
       "      <td>155212.0</td>\n",
       "      <td>1.0</td>\n",
       "      <td>G</td>\n",
       "      <td>A</td>\n",
       "      <td>1</td>\n",
       "      <td>9198</td>\n",
       "      <td>snp</td>\n",
       "      <td>11019</td>\n",
       "      <td>...</td>\n",
       "      <td>0.0</td>\n",
       "      <td>0.0</td>\n",
       "      <td>0.0</td>\n",
       "      <td>1.0</td>\n",
       "      <td>0.0</td>\n",
       "      <td>1.0</td>\n",
       "      <td>1.0</td>\n",
       "      <td>0.0</td>\n",
       "      <td>1.0</td>\n",
       "      <td>1.0</td>\n",
       "    </tr>\n",
       "    <tr>\n",
       "      <th>90533</th>\n",
       "      <td>Chr14</td>\n",
       "      <td>388249</td>\n",
       "      <td>154893.0</td>\n",
       "      <td>1.0</td>\n",
       "      <td>A</td>\n",
       "      <td>C</td>\n",
       "      <td>1</td>\n",
       "      <td>9140</td>\n",
       "      <td>snp</td>\n",
       "      <td>11020</td>\n",
       "      <td>...</td>\n",
       "      <td>0.0</td>\n",
       "      <td>0.0</td>\n",
       "      <td>0.0</td>\n",
       "      <td>1.0</td>\n",
       "      <td>0.0</td>\n",
       "      <td>1.0</td>\n",
       "      <td>1.0</td>\n",
       "      <td>0.0</td>\n",
       "      <td>1.0</td>\n",
       "      <td>1.0</td>\n",
       "    </tr>\n",
       "    <tr>\n",
       "      <th>90534</th>\n",
       "      <td>Chr14</td>\n",
       "      <td>388453</td>\n",
       "      <td>146758.0</td>\n",
       "      <td>1.0</td>\n",
       "      <td>A</td>\n",
       "      <td>G</td>\n",
       "      <td>1</td>\n",
       "      <td>9111</td>\n",
       "      <td>snp</td>\n",
       "      <td>11036</td>\n",
       "      <td>...</td>\n",
       "      <td>0.0</td>\n",
       "      <td>0.0</td>\n",
       "      <td>0.0</td>\n",
       "      <td>1.0</td>\n",
       "      <td>0.0</td>\n",
       "      <td>1.0</td>\n",
       "      <td>1.0</td>\n",
       "      <td>0.0</td>\n",
       "      <td>1.0</td>\n",
       "      <td>1.0</td>\n",
       "    </tr>\n",
       "    <tr>\n",
       "      <th>90535</th>\n",
       "      <td>Chr14</td>\n",
       "      <td>388565</td>\n",
       "      <td>162717.0</td>\n",
       "      <td>1.0</td>\n",
       "      <td>G</td>\n",
       "      <td>A</td>\n",
       "      <td>1</td>\n",
       "      <td>9635</td>\n",
       "      <td>snp</td>\n",
       "      <td>11038</td>\n",
       "      <td>...</td>\n",
       "      <td>0.0</td>\n",
       "      <td>0.0</td>\n",
       "      <td>0.0</td>\n",
       "      <td>1.0</td>\n",
       "      <td>0.0</td>\n",
       "      <td>1.0</td>\n",
       "      <td>1.0</td>\n",
       "      <td>0.0</td>\n",
       "      <td>1.0</td>\n",
       "      <td>1.0</td>\n",
       "    </tr>\n",
       "    <tr>\n",
       "      <th>90536</th>\n",
       "      <td>Chr14</td>\n",
       "      <td>388791</td>\n",
       "      <td>151471.0</td>\n",
       "      <td>1.0</td>\n",
       "      <td>T</td>\n",
       "      <td>G</td>\n",
       "      <td>1</td>\n",
       "      <td>9146</td>\n",
       "      <td>snp</td>\n",
       "      <td>11045</td>\n",
       "      <td>...</td>\n",
       "      <td>0.0</td>\n",
       "      <td>0.0</td>\n",
       "      <td>0.0</td>\n",
       "      <td>1.0</td>\n",
       "      <td>0.0</td>\n",
       "      <td>1.0</td>\n",
       "      <td>1.0</td>\n",
       "      <td>0.0</td>\n",
       "      <td>1.0</td>\n",
       "      <td>1.0</td>\n",
       "    </tr>\n",
       "    <tr>\n",
       "      <th>90537</th>\n",
       "      <td>Chr14</td>\n",
       "      <td>388841</td>\n",
       "      <td>156556.0</td>\n",
       "      <td>1.0</td>\n",
       "      <td>T</td>\n",
       "      <td>C</td>\n",
       "      <td>1</td>\n",
       "      <td>9479</td>\n",
       "      <td>snp</td>\n",
       "      <td>11047</td>\n",
       "      <td>...</td>\n",
       "      <td>0.0</td>\n",
       "      <td>0.0</td>\n",
       "      <td>0.0</td>\n",
       "      <td>1.0</td>\n",
       "      <td>0.0</td>\n",
       "      <td>1.0</td>\n",
       "      <td>1.0</td>\n",
       "      <td>0.0</td>\n",
       "      <td>1.0</td>\n",
       "      <td>1.0</td>\n",
       "    </tr>\n",
       "    <tr>\n",
       "      <th>90538</th>\n",
       "      <td>Chr14</td>\n",
       "      <td>388924</td>\n",
       "      <td>163894.0</td>\n",
       "      <td>1.0</td>\n",
       "      <td>T</td>\n",
       "      <td>C</td>\n",
       "      <td>1</td>\n",
       "      <td>9690</td>\n",
       "      <td>snp</td>\n",
       "      <td>11062</td>\n",
       "      <td>...</td>\n",
       "      <td>0.0</td>\n",
       "      <td>0.0</td>\n",
       "      <td>0.0</td>\n",
       "      <td>1.0</td>\n",
       "      <td>0.0</td>\n",
       "      <td>1.0</td>\n",
       "      <td>1.0</td>\n",
       "      <td>0.0</td>\n",
       "      <td>1.0</td>\n",
       "      <td>1.0</td>\n",
       "    </tr>\n",
       "    <tr>\n",
       "      <th>90539</th>\n",
       "      <td>Chr14</td>\n",
       "      <td>389071</td>\n",
       "      <td>155565.0</td>\n",
       "      <td>1.0</td>\n",
       "      <td>C</td>\n",
       "      <td>A</td>\n",
       "      <td>1</td>\n",
       "      <td>9188</td>\n",
       "      <td>snp</td>\n",
       "      <td>11066</td>\n",
       "      <td>...</td>\n",
       "      <td>0.0</td>\n",
       "      <td>0.0</td>\n",
       "      <td>0.0</td>\n",
       "      <td>1.0</td>\n",
       "      <td>0.0</td>\n",
       "      <td>1.0</td>\n",
       "      <td>1.0</td>\n",
       "      <td>0.0</td>\n",
       "      <td>1.0</td>\n",
       "      <td>1.0</td>\n",
       "    </tr>\n",
       "    <tr>\n",
       "      <th>90540</th>\n",
       "      <td>Chr14</td>\n",
       "      <td>389356</td>\n",
       "      <td>167680.0</td>\n",
       "      <td>1.0</td>\n",
       "      <td>T</td>\n",
       "      <td>G</td>\n",
       "      <td>1</td>\n",
       "      <td>10059</td>\n",
       "      <td>snp</td>\n",
       "      <td>11071</td>\n",
       "      <td>...</td>\n",
       "      <td>0.0</td>\n",
       "      <td>0.0</td>\n",
       "      <td>0.0</td>\n",
       "      <td>1.0</td>\n",
       "      <td>0.0</td>\n",
       "      <td>1.0</td>\n",
       "      <td>1.0</td>\n",
       "      <td>0.0</td>\n",
       "      <td>1.0</td>\n",
       "      <td>1.0</td>\n",
       "    </tr>\n",
       "    <tr>\n",
       "      <th>90541</th>\n",
       "      <td>Chr14</td>\n",
       "      <td>389476</td>\n",
       "      <td>165736.0</td>\n",
       "      <td>1.0</td>\n",
       "      <td>G</td>\n",
       "      <td>C</td>\n",
       "      <td>1</td>\n",
       "      <td>10284</td>\n",
       "      <td>snp</td>\n",
       "      <td>11074</td>\n",
       "      <td>...</td>\n",
       "      <td>0.0</td>\n",
       "      <td>0.0</td>\n",
       "      <td>0.0</td>\n",
       "      <td>1.0</td>\n",
       "      <td>0.0</td>\n",
       "      <td>1.0</td>\n",
       "      <td>1.0</td>\n",
       "      <td>0.0</td>\n",
       "      <td>1.0</td>\n",
       "      <td>1.0</td>\n",
       "    </tr>\n",
       "    <tr>\n",
       "      <th>90542</th>\n",
       "      <td>Chr14</td>\n",
       "      <td>389549</td>\n",
       "      <td>169655.0</td>\n",
       "      <td>1.0</td>\n",
       "      <td>T</td>\n",
       "      <td>C</td>\n",
       "      <td>1</td>\n",
       "      <td>10086</td>\n",
       "      <td>snp</td>\n",
       "      <td>11075</td>\n",
       "      <td>...</td>\n",
       "      <td>0.0</td>\n",
       "      <td>0.0</td>\n",
       "      <td>0.0</td>\n",
       "      <td>1.0</td>\n",
       "      <td>0.0</td>\n",
       "      <td>1.0</td>\n",
       "      <td>1.0</td>\n",
       "      <td>0.0</td>\n",
       "      <td>1.0</td>\n",
       "      <td>1.0</td>\n",
       "    </tr>\n",
       "    <tr>\n",
       "      <th>90543</th>\n",
       "      <td>Chr14</td>\n",
       "      <td>389597</td>\n",
       "      <td>182687.0</td>\n",
       "      <td>1.0</td>\n",
       "      <td>A</td>\n",
       "      <td>G</td>\n",
       "      <td>1</td>\n",
       "      <td>10790</td>\n",
       "      <td>snp</td>\n",
       "      <td>11076</td>\n",
       "      <td>...</td>\n",
       "      <td>0.0</td>\n",
       "      <td>0.0</td>\n",
       "      <td>0.0</td>\n",
       "      <td>1.0</td>\n",
       "      <td>0.0</td>\n",
       "      <td>1.0</td>\n",
       "      <td>1.0</td>\n",
       "      <td>0.0</td>\n",
       "      <td>1.0</td>\n",
       "      <td>1.0</td>\n",
       "    </tr>\n",
       "  </tbody>\n",
       "</table>\n",
       "<p>21 rows × 125 columns</p>\n",
       "</div>"
      ],
      "text/plain": [
       "       Chrom     Pos      Qual  Callrate    Ref  Alt  Altlen     Dp   Type  \\\n",
       "90523  Chr14  386898  117375.0       1.0      G    A       1   7300    snp   \n",
       "90524  Chr14  386995  131484.0       1.0      T    A       1   8331    snp   \n",
       "90525  Chr14  387211  157752.0       1.0      T    G       1   9574    snp   \n",
       "90526  Chr14  387317  163742.0       1.0      A    G       1   9883    snp   \n",
       "90527  Chr14  387368  166211.0       1.0      G    T       1   9840    snp   \n",
       "90528  Chr14  387615  157121.0       1.0      G    A       1   9242    snp   \n",
       "90529  Chr14  387882  132840.0       1.0  CGAGG   CG       1   8978  indel   \n",
       "90530  Chr14  388188  145280.0       1.0     CG   CA       1   9379  indel   \n",
       "90531  Chr14  388196  140176.0       1.0    CTT  CTC       1   9284  indel   \n",
       "90532  Chr14  388222  155212.0       1.0      G    A       1   9198    snp   \n",
       "90533  Chr14  388249  154893.0       1.0      A    C       1   9140    snp   \n",
       "90534  Chr14  388453  146758.0       1.0      A    G       1   9111    snp   \n",
       "90535  Chr14  388565  162717.0       1.0      G    A       1   9635    snp   \n",
       "90536  Chr14  388791  151471.0       1.0      T    G       1   9146    snp   \n",
       "90537  Chr14  388841  156556.0       1.0      T    C       1   9479    snp   \n",
       "90538  Chr14  388924  163894.0       1.0      T    C       1   9690    snp   \n",
       "90539  Chr14  389071  155565.0       1.0      C    A       1   9188    snp   \n",
       "90540  Chr14  389356  167680.0       1.0      T    G       1  10059    snp   \n",
       "90541  Chr14  389476  165736.0       1.0      G    C       1  10284    snp   \n",
       "90542  Chr14  389549  169655.0       1.0      T    C       1  10086    snp   \n",
       "90543  Chr14  389597  182687.0       1.0      A    G       1  10790    snp   \n",
       "\n",
       "       Vcfix  ...  SS-B598  SS-B565  SS-B600  SS-B574  SS-B872_cor  \\\n",
       "90523  10980  ...      0.0      0.0      0.0      1.0          0.0   \n",
       "90524  10984  ...      0.0      0.0      0.0      1.0          0.0   \n",
       "90525  10990  ...      0.0      0.0      0.0      1.0          0.0   \n",
       "90526  10991  ...      0.0      0.0      0.0      1.0          0.0   \n",
       "90527  10992  ...      0.0      0.0      0.0      1.0          0.0   \n",
       "90528  10994  ...      0.0      0.0      0.0      1.0          0.0   \n",
       "90529  10999  ...      0.0      0.0      0.0      1.0          0.0   \n",
       "90530  11011  ...      0.0      0.0      0.0      1.0          0.0   \n",
       "90531  11016  ...      0.0      0.0      0.0      1.0          0.0   \n",
       "90532  11019  ...      0.0      0.0      0.0      1.0          0.0   \n",
       "90533  11020  ...      0.0      0.0      0.0      1.0          0.0   \n",
       "90534  11036  ...      0.0      0.0      0.0      1.0          0.0   \n",
       "90535  11038  ...      0.0      0.0      0.0      1.0          0.0   \n",
       "90536  11045  ...      0.0      0.0      0.0      1.0          0.0   \n",
       "90537  11047  ...      0.0      0.0      0.0      1.0          0.0   \n",
       "90538  11062  ...      0.0      0.0      0.0      1.0          0.0   \n",
       "90539  11066  ...      0.0      0.0      0.0      1.0          0.0   \n",
       "90540  11071  ...      0.0      0.0      0.0      1.0          0.0   \n",
       "90541  11074  ...      0.0      0.0      0.0      1.0          0.0   \n",
       "90542  11075  ...      0.0      0.0      0.0      1.0          0.0   \n",
       "90543  11076  ...      0.0      0.0      0.0      1.0          0.0   \n",
       "\n",
       "       SS-B873_cor  SS-B360  SS-B397  SS-B564  SS-B382  \n",
       "90523          1.0      1.0      0.0      1.0      1.0  \n",
       "90524          1.0      1.0      0.0      1.0      1.0  \n",
       "90525          1.0      1.0      0.0      1.0      1.0  \n",
       "90526          1.0      1.0      0.0      1.0      1.0  \n",
       "90527          1.0      1.0      0.0      1.0      1.0  \n",
       "90528          1.0      1.0      0.0      1.0      1.0  \n",
       "90529          1.0      1.0      0.0      1.0      1.0  \n",
       "90530          1.0      1.0      0.0      1.0      1.0  \n",
       "90531          1.0      1.0      0.0      1.0      1.0  \n",
       "90532          1.0      1.0      0.0      1.0      1.0  \n",
       "90533          1.0      1.0      0.0      1.0      1.0  \n",
       "90534          1.0      1.0      0.0      1.0      1.0  \n",
       "90535          1.0      1.0      0.0      1.0      1.0  \n",
       "90536          1.0      1.0      0.0      1.0      1.0  \n",
       "90537          1.0      1.0      0.0      1.0      1.0  \n",
       "90538          1.0      1.0      0.0      1.0      1.0  \n",
       "90539          1.0      1.0      0.0      1.0      1.0  \n",
       "90540          1.0      1.0      0.0      1.0      1.0  \n",
       "90541          1.0      1.0      0.0      1.0      1.0  \n",
       "90542          1.0      1.0      0.0      1.0      1.0  \n",
       "90543          1.0      1.0      0.0      1.0      1.0  \n",
       "\n",
       "[21 rows x 125 columns]"
      ]
     },
     "execution_count": 9,
     "metadata": {},
     "output_type": "execute_result"
    }
   ],
   "source": [
    "geno_df[(geno_df.Chrom=='Chr14') & (geno_df.Pos>=386833) & (geno_df.Pos<=389699)]"
   ]
  },
  {
   "cell_type": "code",
   "execution_count": 10,
   "metadata": {},
   "outputs": [
    {
     "name": "stdout",
     "output_type": "stream",
     "text": [
      "['Chr01', 'Chr02', 'Chr03', 'Chr04', 'Chr05', 'Chr06', 'Chr07', 'Chr08', 'Chr09', 'Chr10', 'Chr11', 'Chr12', 'Chr13', 'Chr14']\n"
     ]
    }
   ],
   "source": [
    "## Define chromosomes\n",
    "chrlist = sorted(geno_df.Chrom.unique())\n",
    "print(chrlist)"
   ]
  },
  {
   "cell_type": "code",
   "execution_count": 11,
   "metadata": {},
   "outputs": [],
   "source": [
    "## Gather the length of each chromosome\n",
    "clens = [geno_df[(geno_df.Chrom==chrom)]['Pos'].max() \n",
    "         for chrom in chrlist]"
   ]
  },
  {
   "cell_type": "code",
   "execution_count": 12,
   "metadata": {},
   "outputs": [],
   "source": [
    "## Set mid points\n",
    "chrom_midpts = 0.5 * np.sum(np.array([a \n",
    "                    for a in zip([0]+list(np.cumsum(clens)),\n",
    "                            np.cumsum(clens))]),axis=1)\n",
    "cumpos = [0] + list(np.cumsum(clens))[:-1]"
   ]
  },
  {
   "cell_type": "code",
   "execution_count": 13,
   "metadata": {},
   "outputs": [],
   "source": [
    "file_path = '/home/croth/Downloads/scores.csv'\n",
    "file_path_tecan ='/home/croth/Desktop/Tecan_qtlruns_Jan162019_curated_baselined_median51.csv'"
   ]
  },
  {
   "cell_type": "code",
   "execution_count": 14,
   "metadata": {},
   "outputs": [],
   "source": [
    "tecan  = pd.read_csv(file_path_tecan,index_col=0)"
   ]
  },
  {
   "cell_type": "code",
   "execution_count": 15,
   "metadata": {},
   "outputs": [],
   "source": [
    "name_df = tecan[['row','column','plate','strain']].drop_duplicates().copy()"
   ]
  },
  {
   "cell_type": "code",
   "execution_count": 16,
   "metadata": {},
   "outputs": [
    {
     "data": {
      "text/html": [
       "<div>\n",
       "<style scoped>\n",
       "    .dataframe tbody tr th:only-of-type {\n",
       "        vertical-align: middle;\n",
       "    }\n",
       "\n",
       "    .dataframe tbody tr th {\n",
       "        vertical-align: top;\n",
       "    }\n",
       "\n",
       "    .dataframe thead th {\n",
       "        text-align: right;\n",
       "    }\n",
       "</style>\n",
       "<table border=\"1\" class=\"dataframe\">\n",
       "  <thead>\n",
       "    <tr style=\"text-align: right;\">\n",
       "      <th></th>\n",
       "      <th>row</th>\n",
       "      <th>column</th>\n",
       "      <th>plate</th>\n",
       "      <th>strain</th>\n",
       "    </tr>\n",
       "  </thead>\n",
       "  <tbody>\n",
       "    <tr>\n",
       "      <th>0</th>\n",
       "      <td>e</td>\n",
       "      <td>7</td>\n",
       "      <td>2</td>\n",
       "      <td>SS-A837</td>\n",
       "    </tr>\n",
       "    <tr>\n",
       "      <th>4</th>\n",
       "      <td>b</td>\n",
       "      <td>2</td>\n",
       "      <td>2</td>\n",
       "      <td>SS-B307</td>\n",
       "    </tr>\n",
       "    <tr>\n",
       "      <th>8</th>\n",
       "      <td>b</td>\n",
       "      <td>3</td>\n",
       "      <td>2</td>\n",
       "      <td>SS-B308</td>\n",
       "    </tr>\n",
       "    <tr>\n",
       "      <th>12</th>\n",
       "      <td>b</td>\n",
       "      <td>4</td>\n",
       "      <td>2</td>\n",
       "      <td>SS-B310</td>\n",
       "    </tr>\n",
       "    <tr>\n",
       "      <th>16</th>\n",
       "      <td>b</td>\n",
       "      <td>5</td>\n",
       "      <td>2</td>\n",
       "      <td>SS-B311</td>\n",
       "    </tr>\n",
       "  </tbody>\n",
       "</table>\n",
       "</div>"
      ],
      "text/plain": [
       "   row  column  plate   strain\n",
       "0    e       7      2  SS-A837\n",
       "4    b       2      2  SS-B307\n",
       "8    b       3      2  SS-B308\n",
       "12   b       4      2  SS-B310\n",
       "16   b       5      2  SS-B311"
      ]
     },
     "execution_count": 16,
     "metadata": {},
     "output_type": "execute_result"
    }
   ],
   "source": [
    "name_df.head()"
   ]
  },
  {
   "cell_type": "code",
   "execution_count": 17,
   "metadata": {},
   "outputs": [],
   "source": [
    "df = pd.read_csv(file_path)\n",
    "#df.drop(df[(df.strain=='blank')].index,axis=0,inplace=True)"
   ]
  },
  {
   "cell_type": "code",
   "execution_count": 18,
   "metadata": {},
   "outputs": [],
   "source": [
    "df.dropna(axis=1,how='all',inplace=True)"
   ]
  },
  {
   "cell_type": "code",
   "execution_count": 19,
   "metadata": {},
   "outputs": [
    {
     "data": {
      "text/plain": [
       "(1152, 5)"
      ]
     },
     "execution_count": 19,
     "metadata": {},
     "output_type": "execute_result"
    }
   ],
   "source": [
    "df.shape"
   ]
  },
  {
   "cell_type": "code",
   "execution_count": 20,
   "metadata": {},
   "outputs": [
    {
     "data": {
      "text/plain": [
       "array(['qtl1a', 'qtl1b', 'qtl1c', 'qtl1d', 'qtl2a', 'qtl2b', 'qtl2c',\n",
       "       'qtl2d', 'qtl1a old', 'qtl1b old', 'qtl2a old', 'qtl2b old'],\n",
       "      dtype=object)"
      ]
     },
     "execution_count": 20,
     "metadata": {},
     "output_type": "execute_result"
    }
   ],
   "source": [
    "df.Plate.unique()"
   ]
  },
  {
   "cell_type": "code",
   "execution_count": 21,
   "metadata": {},
   "outputs": [],
   "source": [
    "df['row'] = df['Row']\n",
    "df['column'] = df['Column']\n",
    "df['plate'] = [ int(a.split('qtl')[-1][0]) for a in df.Plate]"
   ]
  },
  {
   "cell_type": "code",
   "execution_count": 22,
   "metadata": {},
   "outputs": [],
   "source": [
    "df['Isold'] = [1 if 'old' in a else 0 for a in df.Plate.tolist()]"
   ]
  },
  {
   "cell_type": "code",
   "execution_count": 23,
   "metadata": {},
   "outputs": [],
   "source": [
    "h2O2 = name_df.merge(df)"
   ]
  },
  {
   "cell_type": "code",
   "execution_count": 24,
   "metadata": {},
   "outputs": [],
   "source": [
    "h2O2lh = h2O2[['Row','Column','Plate','ScoreLH','strain','Isold']].copy()\n",
    "h2O2lh.columns = ['Row','Col','Plate','Score','Strain','Isold']\n",
    "h2O2lh['Marker'] = 'LH'"
   ]
  },
  {
   "cell_type": "code",
   "execution_count": 25,
   "metadata": {},
   "outputs": [],
   "source": [
    "h2O2dm = h2O2[['Row','Column','Plate','ScoreDM','strain','Isold']].copy()\n",
    "h2O2dm.columns = ['Row','Col','Plate','Score','Strain','Isold']\n",
    "h2O2dm['Marker'] = 'DM'"
   ]
  },
  {
   "cell_type": "code",
   "execution_count": 26,
   "metadata": {},
   "outputs": [],
   "source": [
    "dmm = h2O2dm.dropna().groupby('Strain').agg(np.median).Score\n",
    "lhm = h2O2lh.dropna().groupby('Strain').agg(np.median).Score"
   ]
  },
  {
   "cell_type": "code",
   "execution_count": 27,
   "metadata": {},
   "outputs": [],
   "source": [
    "dmm_no = h2O2dm[(h2O2dm.Isold==0)].dropna().groupby('Strain').agg(np.median).Score\n",
    "lhm_no = h2O2lh[(h2O2lh.Isold==0)].dropna().groupby('Strain').agg(np.median).Score"
   ]
  },
  {
   "cell_type": "code",
   "execution_count": 28,
   "metadata": {},
   "outputs": [],
   "source": [
    "jitter = np.random.normal(0,0.1,len(dmm))"
   ]
  },
  {
   "cell_type": "code",
   "execution_count": 29,
   "metadata": {},
   "outputs": [
    {
     "data": {
      "image/png": "[encoded data removed]",
      "text/plain": [
       "<Figure size 864x216 with 2 Axes>"
      ]
     },
     "metadata": {
      "needs_background": "light"
     },
     "output_type": "display_data"
    }
   ],
   "source": [
    "fig,ax = plt.subplots(1,2,figsize=(12,3),sharex=True,sharey=True)\n",
    "plt.sca(ax[0])\n",
    "plt.plot(dmm.values,\n",
    "         lhm.values,'ko',alpha=0.25);\n",
    "plt.xlabel('Debra Median Score',fontsize=14);\n",
    "plt.ylabel('Lydia Median Score',fontsize=14);\n",
    "plt.title('With Old Plates')\n",
    "\n",
    "plt.sca(ax[1])\n",
    "plt.title('Without Old Plates')\n",
    "plt.plot(dmm_no.values,\n",
    "         lhm_no.values,'ko',alpha=0.25);\n",
    "plt.xlabel('Debra Median Score',fontsize=14);\n",
    "plt.ylabel('Lydia Median Score',fontsize=14);\n",
    "plt.savefig('/home/croth/Desktop/H2O2_median_growth_Debra_vs_Lydia_old_new.png',\n",
    "           dpi=100,bbox_inches='tight');"
   ]
  },
  {
   "cell_type": "code",
   "execution_count": 30,
   "metadata": {},
   "outputs": [
    {
     "data": {
      "text/plain": [
       "0.9554070913767132"
      ]
     },
     "execution_count": 30,
     "metadata": {},
     "output_type": "execute_result"
    }
   ],
   "source": [
    "np.corrcoef(dmm.values,lhm.values)[0][-1]"
   ]
  },
  {
   "cell_type": "code",
   "execution_count": 31,
   "metadata": {},
   "outputs": [
    {
     "data": {
      "text/plain": [
       "0.9843668610042586"
      ]
     },
     "execution_count": 31,
     "metadata": {},
     "output_type": "execute_result"
    }
   ],
   "source": [
    "np.corrcoef(dmm_no.values,lhm_no.values)[0][-1]"
   ]
  },
  {
   "cell_type": "code",
   "execution_count": 32,
   "metadata": {},
   "outputs": [],
   "source": [
    "#h2O2L = pd.concat([h2O2dm,h2O2lh],axis=0,sort=True)\n",
    "h2O2L = pd.concat([h2O2dm[(h2O2dm.Isold==0)],\n",
    "                   h2O2lh[(h2O2lh.Isold==0)]],axis=0,sort=True)"
   ]
  },
  {
   "cell_type": "code",
   "execution_count": 33,
   "metadata": {},
   "outputs": [],
   "source": [
    "h2O2L.dropna(inplace=True)"
   ]
  },
  {
   "cell_type": "code",
   "execution_count": 34,
   "metadata": {},
   "outputs": [],
   "source": [
    "h2O2Ls = h2O2L[(h2O2L.Strain.isin(geno_df.columns))]"
   ]
  },
  {
   "cell_type": "raw",
   "metadata": {},
   "source": [
    "h2O2Ls.Strain.unique().shape"
   ]
  },
  {
   "cell_type": "code",
   "execution_count": 35,
   "metadata": {},
   "outputs": [],
   "source": [
    "segs = [a[0] for a in h2O2Ls.groupby('Strain')]"
   ]
  },
  {
   "cell_type": "code",
   "execution_count": 36,
   "metadata": {},
   "outputs": [
    {
     "data": {
      "image/png": "[encoded data removed]",
      "text/plain": [
       "<Figure size 1080x216 with 1 Axes>"
      ]
     },
     "metadata": {
      "needs_background": "light"
     },
     "output_type": "display_data"
    }
   ],
   "source": [
    "fig,ax = plt.subplots(1,1,figsize=(15,3))\n",
    "plt.boxplot([a[1]['Score'].values \n",
    "             for a in h2O2Ls.groupby('Strain')]);\n",
    "\n",
    "plt.xticks(np.arange(len(segs))+1,segs\n",
    "           ,rotation=90,fontsize=8);\n",
    "plt.xlabel('Strain');plt.ylabel('Score');"
   ]
  },
  {
   "cell_type": "code",
   "execution_count": 37,
   "metadata": {},
   "outputs": [],
   "source": [
    "medh2o2 = h2O2Ls.groupby('Strain').agg(np.median)"
   ]
  },
  {
   "cell_type": "code",
   "execution_count": 38,
   "metadata": {},
   "outputs": [
    {
     "data": {
      "text/html": [
       "<div>\n",
       "<style scoped>\n",
       "    .dataframe tbody tr th:only-of-type {\n",
       "        vertical-align: middle;\n",
       "    }\n",
       "\n",
       "    .dataframe tbody tr th {\n",
       "        vertical-align: top;\n",
       "    }\n",
       "\n",
       "    .dataframe thead th {\n",
       "        text-align: right;\n",
       "    }\n",
       "</style>\n",
       "<table border=\"1\" class=\"dataframe\">\n",
       "  <thead>\n",
       "    <tr style=\"text-align: right;\">\n",
       "      <th></th>\n",
       "      <th>Col</th>\n",
       "      <th>Isold</th>\n",
       "      <th>Score</th>\n",
       "    </tr>\n",
       "    <tr>\n",
       "      <th>Strain</th>\n",
       "      <th></th>\n",
       "      <th></th>\n",
       "      <th></th>\n",
       "    </tr>\n",
       "  </thead>\n",
       "  <tbody>\n",
       "    <tr>\n",
       "      <th>SS-A837</th>\n",
       "      <td>7</td>\n",
       "      <td>0</td>\n",
       "      <td>2.0</td>\n",
       "    </tr>\n",
       "    <tr>\n",
       "      <th>SS-B307</th>\n",
       "      <td>2</td>\n",
       "      <td>0</td>\n",
       "      <td>0.5</td>\n",
       "    </tr>\n",
       "    <tr>\n",
       "      <th>SS-B310</th>\n",
       "      <td>4</td>\n",
       "      <td>0</td>\n",
       "      <td>0.0</td>\n",
       "    </tr>\n",
       "    <tr>\n",
       "      <th>SS-B311</th>\n",
       "      <td>5</td>\n",
       "      <td>0</td>\n",
       "      <td>4.0</td>\n",
       "    </tr>\n",
       "    <tr>\n",
       "      <th>SS-B312</th>\n",
       "      <td>6</td>\n",
       "      <td>0</td>\n",
       "      <td>5.0</td>\n",
       "    </tr>\n",
       "  </tbody>\n",
       "</table>\n",
       "</div>"
      ],
      "text/plain": [
       "         Col  Isold  Score\n",
       "Strain                    \n",
       "SS-A837    7      0    2.0\n",
       "SS-B307    2      0    0.5\n",
       "SS-B310    4      0    0.0\n",
       "SS-B311    5      0    4.0\n",
       "SS-B312    6      0    5.0"
      ]
     },
     "execution_count": 38,
     "metadata": {},
     "output_type": "execute_result"
    }
   ],
   "source": [
    "medh2o2.head()"
   ]
  },
  {
   "cell_type": "code",
   "execution_count": 39,
   "metadata": {},
   "outputs": [
    {
     "data": {
      "text/plain": [
       "Col      7.0\n",
       "Isold    0.0\n",
       "Score    2.0\n",
       "Name: SS-A837, dtype: float64"
      ]
     },
     "execution_count": 39,
     "metadata": {},
     "output_type": "execute_result"
    }
   ],
   "source": [
    "medh2o2.T['SS-A837']"
   ]
  },
  {
   "cell_type": "code",
   "execution_count": 40,
   "metadata": {},
   "outputs": [],
   "source": [
    "_431label = r'$431\\mathrm{\\alpha}$'\n",
    "_xl280alabel='XL280'+r'$\\bf{a}$'\n",
    "_xl280alphlabel = r'XL280$\\mathrm{\\alpha}$'\n",
    "alpha_label = r'$\\mathrm{\\alpha}$ = 0.05'"
   ]
  },
  {
   "cell_type": "code",
   "execution_count": 41,
   "metadata": {},
   "outputs": [
    {
     "data": {
      "image/png": "[encoded data removed]",
      "text/plain": [
       "<Figure size 576x288 with 1 Axes>"
      ]
     },
     "metadata": {
      "needs_background": "light"
     },
     "output_type": "display_data"
    }
   ],
   "source": [
    "fig,ax=plt.subplots(1,1,figsize=(8,4))\n",
    "plt.hist(medh2o2.Score.values,color='grey',alpha=0.5,\n",
    "         bins=np.arange(7)-0.5);\n",
    "plt.xlabel('Median $H_{2}O_{2}$ Growth Score',fontsize=14);\n",
    "plt.ylabel('Number of Segregants',fontsize=14);\n",
    "plt.vlines(medh2o2.T['SS-A837'].T.Score,0,len(segs)/10,\n",
    "           alpha=0.75,color='tab:orange',label=_431label);\n",
    "plt.vlines(medh2o2.T['XL280alpha'].T.Score,0,len(segs)/10,\n",
    "           alpha=0.75,linestyle='-',\n",
    "           color='tab:blue',label=_xl280alphlabel);\n",
    "plt.vlines(medh2o2.T['XL280a'].T.Score,0,len(segs)/10,\n",
    "           alpha=0.75,linestyle='--',\n",
    "           color='tab:blue',label=_xl280alabel);\n",
    "plt.legend(title='Parental Strain',fontsize=14);\n",
    "plt.savefig('/home/croth/Desktop/H2O2_median_growth_hist.png',\n",
    "           dpi=100,bbox_inches='tight');"
   ]
  },
  {
   "cell_type": "markdown",
   "metadata": {},
   "source": [
    "medh2o2p = medh2o2[['Score']].copy()\n",
    "max_pvals = []\n",
    "\n",
    "for i in range(1000):\n",
    "    medh2o2p.index = np.random.permutation(medh2o2.index)\n",
    "    \n",
    "    maxpval = geno_df[segs].T[loci].T.apply(\n",
    "        association_logPval,\n",
    "        args=[medh2o2p.T[segs].T.Score],\n",
    "        axis=1).max()\n",
    "    \n",
    "    max_pvals.append(maxpval)"
   ]
  },
  {
   "cell_type": "markdown",
   "metadata": {},
   "source": [
    "threshold_95 = np.percentile(np.array(max_pvals),95)\n",
    "threshold_99 = np.percentile(np.array(max_pvals),99)"
   ]
  },
  {
   "cell_type": "code",
   "execution_count": 42,
   "metadata": {},
   "outputs": [],
   "source": [
    "medh2o2['Score_down'] = np.floor(medh2o2.Score.values)"
   ]
  },
  {
   "cell_type": "code",
   "execution_count": 43,
   "metadata": {},
   "outputs": [
    {
     "data": {
      "image/png": "[encoded data removed]",
      "text/plain": [
       "<Figure size 432x288 with 1 Axes>"
      ]
     },
     "metadata": {
      "needs_background": "light"
     },
     "output_type": "display_data"
    }
   ],
   "source": [
    "medh2o2.Score_down.hist();"
   ]
  },
  {
   "cell_type": "code",
   "execution_count": 44,
   "metadata": {},
   "outputs": [
    {
     "data": {
      "text/plain": [
       "104"
      ]
     },
     "execution_count": 44,
     "metadata": {},
     "output_type": "execute_result"
    }
   ],
   "source": [
    "len(segs)"
   ]
  },
  {
   "cell_type": "code",
   "execution_count": 45,
   "metadata": {},
   "outputs": [
    {
     "data": {
      "text/plain": [
       "(2777, 104)"
      ]
     },
     "execution_count": 45,
     "metadata": {},
     "output_type": "execute_result"
    }
   ],
   "source": [
    "test = geno_df[segs].drop_duplicates()\n",
    "test.shape"
   ]
  },
  {
   "cell_type": "code",
   "execution_count": 46,
   "metadata": {},
   "outputs": [],
   "source": [
    "test['Pval'] = test.apply(association_logPval,\n",
    "                          args=[medh2o2.T[segs].T.Score],axis=1)\n",
    "pvaldf = geno_df.merge(test)"
   ]
  },
  {
   "cell_type": "code",
   "execution_count": 47,
   "metadata": {},
   "outputs": [
    {
     "data": {
      "text/plain": [
       "1.6155697532051163"
      ]
     },
     "execution_count": 47,
     "metadata": {},
     "output_type": "execute_result"
    }
   ],
   "source": [
    "pvaldf[(pvaldf.Chrom=='Chr09')].Pval.max()"
   ]
  },
  {
   "cell_type": "code",
   "execution_count": 48,
   "metadata": {},
   "outputs": [
    {
     "data": {
      "text/plain": [
       "4.518186729935608"
      ]
     },
     "execution_count": 48,
     "metadata": {},
     "output_type": "execute_result"
    }
   ],
   "source": [
    "pvaldf[(pvaldf.Chrom=='Chr12')].Pval.max()"
   ]
  },
  {
   "cell_type": "code",
   "execution_count": 49,
   "metadata": {},
   "outputs": [
    {
     "data": {
      "text/plain": [
       "['Chr01',\n",
       " 'Chr02',\n",
       " 'Chr03',\n",
       " 'Chr04',\n",
       " 'Chr05',\n",
       " 'Chr06',\n",
       " 'Chr07',\n",
       " 'Chr08',\n",
       " 'Chr09',\n",
       " 'Chr10',\n",
       " 'Chr11',\n",
       " 'Chr12',\n",
       " 'Chr13',\n",
       " 'Chr14']"
      ]
     },
     "execution_count": 49,
     "metadata": {},
     "output_type": "execute_result"
    }
   ],
   "source": [
    "sorted(pvaldf.Chrom.unique())"
   ]
  },
  {
   "cell_type": "code",
   "execution_count": 50,
   "metadata": {},
   "outputs": [
    {
     "data": {
      "text/plain": [
       "[0,\n",
       " 2295469,\n",
       " 3918491,\n",
       " 6018867,\n",
       " 7796806,\n",
       " 9248631,\n",
       " 10676347,\n",
       " 12014832,\n",
       " 13203967,\n",
       " 14377580,\n",
       " 15448500,\n",
       " 16463227,\n",
       " 17364860,\n",
       " 18143261]"
      ]
     },
     "execution_count": 50,
     "metadata": {},
     "output_type": "execute_result"
    }
   ],
   "source": [
    "cumpos"
   ]
  },
  {
   "cell_type": "code",
   "execution_count": 51,
   "metadata": {},
   "outputs": [
    {
     "data": {
      "image/png": "[encoded data removed]",
      "text/plain": [
       "<Figure size 864x216 with 1 Axes>"
      ]
     },
     "metadata": {
      "needs_background": "light"
     },
     "output_type": "display_data"
    }
   ],
   "source": [
    "fig,ax = plt.subplots(1,1,figsize=(12,3))\n",
    "for c,chrom in enumerate(chrlist):\n",
    "    #print(c,chrom)\n",
    "    tpd = pvaldf[(pvaldf.Chrom==chrom)]\n",
    "    plt.plot(tpd.Pos+cumpos[c],tpd.Pval.values,'.',alpha=0.5);\n",
    "\n",
    "#plt.hlines(threshold_95,chrom_midpts[1],19*(10**6),\n",
    "#           linestyle='--',alpha=0.7,\n",
    "#           linewidth=1,label=alpha_label)\n",
    "\n",
    "#plt.hlines(threshold_99,0,19*(10**6),\n",
    "#           linestyle='-.',alpha=0.7,linewidth=1)\n",
    "\n",
    "#plt.legend(bbox_to_anchor=(0.2,1.042),fontsize=14,frameon=False)\n",
    "plt.xticks(chrom_midpts,labels=np.arange(len(chrlist))+1);\n",
    "plt.xlabel('Chromosome',fontsize=14);\n",
    "plt.ylabel('-$log_{10}$(p-value)',fontsize=14);\n",
    "#plt.ylim(-0.1,5);\n",
    "#plt.savefig('/home/croth/Desktop/H2O2_QTL_wnp.png',\n",
    "#            bbox_inches='tight',dpi=150);"
   ]
  },
  {
   "cell_type": "code",
   "execution_count": 52,
   "metadata": {},
   "outputs": [],
   "source": [
    "ch02ix = pvaldf[(pvaldf.Chrom=='Chr02')].Pval.idxmax()"
   ]
  },
  {
   "cell_type": "code",
   "execution_count": 53,
   "metadata": {},
   "outputs": [],
   "source": [
    "ch12ix = pvaldf[(pvaldf.Chrom=='Chr12')].Pval.idxmax()\n",
    "ch14ix = pvaldf[(pvaldf.Chrom=='Chr14')].Pval.idxmax()"
   ]
  },
  {
   "cell_type": "code",
   "execution_count": 54,
   "metadata": {},
   "outputs": [],
   "source": [
    "medh2o2['Chr02'] = np.array(pvaldf.T[ch02ix][segs],dtype=float)\n",
    "medh2o2['Chr12'] = np.array(pvaldf.T[ch12ix][segs],dtype=float)\n",
    "medh2o2['Chr14'] = np.array(pvaldf.T[ch14ix][segs],dtype=float)"
   ]
  },
  {
   "cell_type": "code",
   "execution_count": 55,
   "metadata": {},
   "outputs": [],
   "source": [
    "ssk2 = pd.read_csv('/home/croth/Desktop/Parametric/CNL05560.csv',index_col=0)\n",
    "ssk1 = pd.read_csv('/home/croth/Desktop/Parametric/CNB03090.csv',index_col=0)\n",
    "ric8 = pd.read_csv('/home/croth/Desktop/Parametric/CNN01270.csv',index_col=0)"
   ]
  },
  {
   "cell_type": "code",
   "execution_count": 56,
   "metadata": {},
   "outputs": [
    {
     "data": {
      "text/plain": [
       "array([[1., 0., 0., 1., 1., 1., 1., 1., 0., 1., 0., 0., 1., 1., 0., 0.,\n",
       "        0., 1., 1., 1., 1., 0., 1., 1., 0., 0., 1., 1., 1., 1., 1., 0.,\n",
       "        1., 1., 0., 1., 0., 1., 0., 0., 1., 1., 1., 0., 0., 1., 0., 1.,\n",
       "        1., 0., 1., 1., 0., 1., 1., 0., 0., 0., 0., 0., 0., 0., 1., 0.,\n",
       "        0., 0., 0., 0., 0., 0., 0., 0., 0., 0., 0., 0., 0., 0., 0., 0.,\n",
       "        0., 0., 0., 0., 1., 0., 0., 0., 0., 0., 0., 0., 0., 0., 0., 0.,\n",
       "        0., 0., 0., 0., 1., 1., 0., 0.]])"
      ]
     },
     "execution_count": 56,
     "metadata": {},
     "output_type": "execute_result"
    }
   ],
   "source": [
    "pvaldf[(pvaldf.Chrom=='Chr12') & \n",
    "       (pvaldf.Pos>=ssk2.Start.min()) & \n",
    "       (pvaldf.Pos<=ssk2.End.max())][medh2o2.index].mode().dropna().values"
   ]
  },
  {
   "cell_type": "code",
   "execution_count": 57,
   "metadata": {},
   "outputs": [],
   "source": [
    "#medh2o2['SSK2'] = pvaldf[(pvaldf.Chrom=='Chr12') & \n",
    "#       (pvaldf.Pos>=ssk2.Start.min()) & \n",
    "#       (pvaldf.Pos<=ssk2.End.max())][medh2o2.index].max().dropna().T.values\n",
    "\n",
    "medh2o2['SSK2'] = pvaldf[(pvaldf.Chrom=='Chr12') & \n",
    "                   (pvaldf.Pos>=ssk2.Start.min()) & \n",
    "                       (pvaldf.Pos<=ssk2.End.max())][medh2o2.index].min()"
   ]
  },
  {
   "cell_type": "code",
   "execution_count": 58,
   "metadata": {},
   "outputs": [],
   "source": [
    "medh2o2['RIC8'] = pvaldf[(pvaldf.Chrom=='Chr14') & \n",
    "       (pvaldf.Pos>=ric8.Start.min()) & \n",
    "       (pvaldf.Pos<=ric8.End.max())][medh2o2.index].min()"
   ]
  },
  {
   "cell_type": "code",
   "execution_count": 59,
   "metadata": {},
   "outputs": [
    {
     "data": {
      "text/html": [
       "<div>\n",
       "<style scoped>\n",
       "    .dataframe tbody tr th:only-of-type {\n",
       "        vertical-align: middle;\n",
       "    }\n",
       "\n",
       "    .dataframe tbody tr th {\n",
       "        vertical-align: top;\n",
       "    }\n",
       "\n",
       "    .dataframe thead th {\n",
       "        text-align: right;\n",
       "    }\n",
       "</style>\n",
       "<table border=\"1\" class=\"dataframe\">\n",
       "  <thead>\n",
       "    <tr style=\"text-align: right;\">\n",
       "      <th></th>\n",
       "      <th>Col</th>\n",
       "      <th>Isold</th>\n",
       "      <th>Score</th>\n",
       "      <th>Score_down</th>\n",
       "      <th>Chr02</th>\n",
       "      <th>Chr12</th>\n",
       "      <th>Chr14</th>\n",
       "      <th>SSK2</th>\n",
       "      <th>RIC8</th>\n",
       "    </tr>\n",
       "    <tr>\n",
       "      <th>Strain</th>\n",
       "      <th></th>\n",
       "      <th></th>\n",
       "      <th></th>\n",
       "      <th></th>\n",
       "      <th></th>\n",
       "      <th></th>\n",
       "      <th></th>\n",
       "      <th></th>\n",
       "      <th></th>\n",
       "    </tr>\n",
       "  </thead>\n",
       "  <tbody>\n",
       "    <tr>\n",
       "      <th>SS-A837</th>\n",
       "      <td>7</td>\n",
       "      <td>0</td>\n",
       "      <td>2.0</td>\n",
       "      <td>2.0</td>\n",
       "      <td>1.0</td>\n",
       "      <td>1.0</td>\n",
       "      <td>1.0</td>\n",
       "      <td>1.0</td>\n",
       "      <td>1.0</td>\n",
       "    </tr>\n",
       "    <tr>\n",
       "      <th>SS-B307</th>\n",
       "      <td>2</td>\n",
       "      <td>0</td>\n",
       "      <td>0.5</td>\n",
       "      <td>0.0</td>\n",
       "      <td>0.0</td>\n",
       "      <td>0.0</td>\n",
       "      <td>1.0</td>\n",
       "      <td>0.0</td>\n",
       "      <td>1.0</td>\n",
       "    </tr>\n",
       "    <tr>\n",
       "      <th>SS-B310</th>\n",
       "      <td>4</td>\n",
       "      <td>0</td>\n",
       "      <td>0.0</td>\n",
       "      <td>0.0</td>\n",
       "      <td>1.0</td>\n",
       "      <td>0.0</td>\n",
       "      <td>1.0</td>\n",
       "      <td>0.0</td>\n",
       "      <td>1.0</td>\n",
       "    </tr>\n",
       "    <tr>\n",
       "      <th>SS-B311</th>\n",
       "      <td>5</td>\n",
       "      <td>0</td>\n",
       "      <td>4.0</td>\n",
       "      <td>4.0</td>\n",
       "      <td>0.0</td>\n",
       "      <td>1.0</td>\n",
       "      <td>1.0</td>\n",
       "      <td>1.0</td>\n",
       "      <td>1.0</td>\n",
       "    </tr>\n",
       "    <tr>\n",
       "      <th>SS-B312</th>\n",
       "      <td>6</td>\n",
       "      <td>0</td>\n",
       "      <td>5.0</td>\n",
       "      <td>5.0</td>\n",
       "      <td>0.0</td>\n",
       "      <td>1.0</td>\n",
       "      <td>0.0</td>\n",
       "      <td>1.0</td>\n",
       "      <td>0.0</td>\n",
       "    </tr>\n",
       "  </tbody>\n",
       "</table>\n",
       "</div>"
      ],
      "text/plain": [
       "         Col  Isold  Score  Score_down  Chr02  Chr12  Chr14  SSK2  RIC8\n",
       "Strain                                                                 \n",
       "SS-A837    7      0    2.0         2.0    1.0    1.0    1.0   1.0   1.0\n",
       "SS-B307    2      0    0.5         0.0    0.0    0.0    1.0   0.0   1.0\n",
       "SS-B310    4      0    0.0         0.0    1.0    0.0    1.0   0.0   1.0\n",
       "SS-B311    5      0    4.0         4.0    0.0    1.0    1.0   1.0   1.0\n",
       "SS-B312    6      0    5.0         5.0    0.0    1.0    0.0   1.0   0.0"
      ]
     },
     "execution_count": 59,
     "metadata": {},
     "output_type": "execute_result"
    }
   ],
   "source": [
    "medh2o2.head()"
   ]
  },
  {
   "cell_type": "code",
   "execution_count": 60,
   "metadata": {},
   "outputs": [
    {
     "data": {
      "text/plain": [
       "(104, 9)"
      ]
     },
     "execution_count": 60,
     "metadata": {},
     "output_type": "execute_result"
    }
   ],
   "source": [
    "medh2o2.shape"
   ]
  },
  {
   "cell_type": "code",
   "execution_count": 61,
   "metadata": {},
   "outputs": [],
   "source": [
    "medh2o2.to_csv('/home/croth/H2O2_phenotypes.csv',index=True)"
   ]
  },
  {
   "cell_type": "code",
   "execution_count": 62,
   "metadata": {},
   "outputs": [
    {
     "data": {
      "image/png": "[encoded data removed]",
      "text/plain": [
       "<Figure size 360x360 with 1 Axes>"
      ]
     },
     "metadata": {
      "needs_background": "light"
     },
     "output_type": "display_data"
    }
   ],
   "source": [
    "x = '12'\n",
    "y = '02'\n",
    "sns.lmplot(y='Score',x='Chr%s'%x,data=medh2o2,\n",
    "           hue='Chr%s'%y, x_jitter=0.2,y_jitter=0.05,\n",
    "           scatter_kws={'alpha':0.5},legend_out=False);\n",
    "plt.xticks([0,1],labels=['XL280','431'],fontsize=14)\n",
    "plt.xlabel('Chromosome %s Allele'%x,\n",
    "           fontsize=14);\n",
    "plt.ylabel('$H_{2}O_{2}$ Growth Score',\n",
    "           fontsize=14);\n",
    "\n",
    "L=plt.legend(bbox_to_anchor=(1,1),\n",
    "             title='Chromosome %s Allele'%y,\n",
    "             fontsize=14)\n",
    "L.get_texts()[0].set_text('XL280')\n",
    "L.get_texts()[1].set_text('431')"
   ]
  },
  {
   "cell_type": "code",
   "execution_count": 63,
   "metadata": {},
   "outputs": [
    {
     "data": {
      "image/png": "[encoded data removed]",
      "text/plain": [
       "<Figure size 360x360 with 1 Axes>"
      ]
     },
     "metadata": {
      "needs_background": "light"
     },
     "output_type": "display_data"
    }
   ],
   "source": [
    "y = '12'\n",
    "x = '14'\n",
    "sns.lmplot(y='Score',x='Chr%s'%x,data=medh2o2,\n",
    "          # hue='Chr%s'%y, \n",
    "           x_jitter=0.2,\n",
    "           scatter_kws={'alpha':0.5},legend_out=False);\n",
    "plt.xticks([0,1],labels=['XL280','431'],fontsize=14)\n",
    "plt.xlabel('Chromosome %s Allele'%x,\n",
    "           fontsize=14);\n",
    "plt.ylabel('$H_{2}O_{2}$ Growth Score',\n",
    "           fontsize=14);\n",
    "\n",
    "#L=plt.legend(bbox_to_anchor=(1,1),\n",
    "      #       title='Chromosome %s Allele'%y,\n",
    "      #       fontsize=14)\n",
    "#L.get_texts()[0].set_text('XL280')\n",
    "#L.get_texts()[1].set_text('431')"
   ]
  },
  {
   "cell_type": "code",
   "execution_count": 64,
   "metadata": {},
   "outputs": [
    {
     "data": {
      "text/html": [
       "<div>\n",
       "<style scoped>\n",
       "    .dataframe tbody tr th:only-of-type {\n",
       "        vertical-align: middle;\n",
       "    }\n",
       "\n",
       "    .dataframe tbody tr th {\n",
       "        vertical-align: top;\n",
       "    }\n",
       "\n",
       "    .dataframe thead th {\n",
       "        text-align: right;\n",
       "    }\n",
       "</style>\n",
       "<table border=\"1\" class=\"dataframe\">\n",
       "  <thead>\n",
       "    <tr style=\"text-align: right;\">\n",
       "      <th></th>\n",
       "      <th></th>\n",
       "      <th>Col</th>\n",
       "      <th>Isold</th>\n",
       "      <th>Score</th>\n",
       "      <th>Score_down</th>\n",
       "      <th>Chr02</th>\n",
       "      <th>SSK2</th>\n",
       "      <th>RIC8</th>\n",
       "    </tr>\n",
       "    <tr>\n",
       "      <th>Chr12</th>\n",
       "      <th>Chr14</th>\n",
       "      <th></th>\n",
       "      <th></th>\n",
       "      <th></th>\n",
       "      <th></th>\n",
       "      <th></th>\n",
       "      <th></th>\n",
       "      <th></th>\n",
       "    </tr>\n",
       "  </thead>\n",
       "  <tbody>\n",
       "    <tr>\n",
       "      <th rowspan=\"2\" valign=\"top\">0.0</th>\n",
       "      <th>0.0</th>\n",
       "      <td>24</td>\n",
       "      <td>24</td>\n",
       "      <td>24</td>\n",
       "      <td>24</td>\n",
       "      <td>24</td>\n",
       "      <td>24</td>\n",
       "      <td>24</td>\n",
       "    </tr>\n",
       "    <tr>\n",
       "      <th>1.0</th>\n",
       "      <td>41</td>\n",
       "      <td>41</td>\n",
       "      <td>41</td>\n",
       "      <td>41</td>\n",
       "      <td>41</td>\n",
       "      <td>41</td>\n",
       "      <td>41</td>\n",
       "    </tr>\n",
       "    <tr>\n",
       "      <th rowspan=\"2\" valign=\"top\">1.0</th>\n",
       "      <th>0.0</th>\n",
       "      <td>26</td>\n",
       "      <td>26</td>\n",
       "      <td>26</td>\n",
       "      <td>26</td>\n",
       "      <td>26</td>\n",
       "      <td>26</td>\n",
       "      <td>26</td>\n",
       "    </tr>\n",
       "    <tr>\n",
       "      <th>1.0</th>\n",
       "      <td>13</td>\n",
       "      <td>13</td>\n",
       "      <td>13</td>\n",
       "      <td>13</td>\n",
       "      <td>13</td>\n",
       "      <td>13</td>\n",
       "      <td>13</td>\n",
       "    </tr>\n",
       "  </tbody>\n",
       "</table>\n",
       "</div>"
      ],
      "text/plain": [
       "             Col  Isold  Score  Score_down  Chr02  SSK2  RIC8\n",
       "Chr12 Chr14                                                  \n",
       "0.0   0.0     24     24     24          24     24    24    24\n",
       "      1.0     41     41     41          41     41    41    41\n",
       "1.0   0.0     26     26     26          26     26    26    26\n",
       "      1.0     13     13     13          13     13    13    13"
      ]
     },
     "execution_count": 64,
     "metadata": {},
     "output_type": "execute_result"
    }
   ],
   "source": [
    "medh2o2.groupby(['Chr12','Chr14']).count()"
   ]
  },
  {
   "cell_type": "code",
   "execution_count": 65,
   "metadata": {},
   "outputs": [
    {
     "data": {
      "image/png": "[encoded data removed]",
      "text/plain": [
       "<Figure size 360x360 with 1 Axes>"
      ]
     },
     "metadata": {
      "needs_background": "light"
     },
     "output_type": "display_data"
    }
   ],
   "source": [
    "x = '12'\n",
    "y = '14'\n",
    "sns.lmplot(y='Score_down',x='Chr%s'%x,data=medh2o2,\n",
    "           hue='Chr%s'%y,x_jitter=.3,\n",
    "           scatter_kws={'alpha':0.30},\n",
    "           legend_out=False);\n",
    "\n",
    "\n",
    "#sns.swarmplot(y='Score',x='Chr%s'%x,data=medh2o2,\n",
    "#           hue='Chr%s'%y,dodge=True)\n",
    "\n",
    "L=plt.legend(bbox_to_anchor=(1,1),\n",
    "             title='Chromosome %s Allele'%y,\n",
    "             fontsize=14)\n",
    "\n",
    "L.get_texts()[0].set_text('XL280')\n",
    "L.get_texts()[1].set_text('431')\n",
    "\n",
    "plt.xticks([0,1],labels=['XL280','431'],fontsize=14)\n",
    "plt.xlabel('Chromosome %s Allele'%x,\n",
    "           fontsize=14);\n",
    "plt.ylabel('$H_{2}O_{2}$ Growth Score',\n",
    "           fontsize=14);\n",
    "#plt.savefig('/home/croth/Desktop/H2O2_Pheno_reg.png',\n",
    "#            dpi=150,bbox_inches='tight');"
   ]
  },
  {
   "cell_type": "code",
   "execution_count": 66,
   "metadata": {},
   "outputs": [],
   "source": [
    "parents = medh2o2.T[['SS-A837','XL280a']].T[['Score','Chr02']]"
   ]
  },
  {
   "cell_type": "code",
   "execution_count": 67,
   "metadata": {},
   "outputs": [],
   "source": [
    "from matplotlib.gridspec import GridSpec"
   ]
  },
  {
   "cell_type": "code",
   "execution_count": 68,
   "metadata": {},
   "outputs": [],
   "source": [
    "from PIL import Image\n",
    "plt.style.use(['tableau-colorblind10'])"
   ]
  },
  {
   "cell_type": "code",
   "execution_count": 69,
   "metadata": {},
   "outputs": [],
   "source": [
    "import matplotlib.image as mpimg"
   ]
  },
  {
   "cell_type": "code",
   "execution_count": 70,
   "metadata": {},
   "outputs": [
    {
     "data": {
      "text/html": [
       "<div>\n",
       "<style scoped>\n",
       "    .dataframe tbody tr th:only-of-type {\n",
       "        vertical-align: middle;\n",
       "    }\n",
       "\n",
       "    .dataframe tbody tr th {\n",
       "        vertical-align: top;\n",
       "    }\n",
       "\n",
       "    .dataframe thead th {\n",
       "        text-align: right;\n",
       "    }\n",
       "</style>\n",
       "<table border=\"1\" class=\"dataframe\">\n",
       "  <thead>\n",
       "    <tr style=\"text-align: right;\">\n",
       "      <th></th>\n",
       "      <th>Col</th>\n",
       "      <th>Isold</th>\n",
       "      <th>Score</th>\n",
       "      <th>Score_down</th>\n",
       "      <th>Chr02</th>\n",
       "      <th>Chr12</th>\n",
       "      <th>Chr14</th>\n",
       "      <th>SSK2</th>\n",
       "      <th>RIC8</th>\n",
       "    </tr>\n",
       "    <tr>\n",
       "      <th>Strain</th>\n",
       "      <th></th>\n",
       "      <th></th>\n",
       "      <th></th>\n",
       "      <th></th>\n",
       "      <th></th>\n",
       "      <th></th>\n",
       "      <th></th>\n",
       "      <th></th>\n",
       "      <th></th>\n",
       "    </tr>\n",
       "  </thead>\n",
       "  <tbody>\n",
       "    <tr>\n",
       "      <th>SS-A837</th>\n",
       "      <td>7</td>\n",
       "      <td>0</td>\n",
       "      <td>2.0</td>\n",
       "      <td>2.0</td>\n",
       "      <td>1.0</td>\n",
       "      <td>1.0</td>\n",
       "      <td>1.0</td>\n",
       "      <td>1.0</td>\n",
       "      <td>1.0</td>\n",
       "    </tr>\n",
       "    <tr>\n",
       "      <th>SS-B307</th>\n",
       "      <td>2</td>\n",
       "      <td>0</td>\n",
       "      <td>0.5</td>\n",
       "      <td>0.0</td>\n",
       "      <td>0.0</td>\n",
       "      <td>0.0</td>\n",
       "      <td>1.0</td>\n",
       "      <td>0.0</td>\n",
       "      <td>1.0</td>\n",
       "    </tr>\n",
       "    <tr>\n",
       "      <th>SS-B310</th>\n",
       "      <td>4</td>\n",
       "      <td>0</td>\n",
       "      <td>0.0</td>\n",
       "      <td>0.0</td>\n",
       "      <td>1.0</td>\n",
       "      <td>0.0</td>\n",
       "      <td>1.0</td>\n",
       "      <td>0.0</td>\n",
       "      <td>1.0</td>\n",
       "    </tr>\n",
       "    <tr>\n",
       "      <th>SS-B311</th>\n",
       "      <td>5</td>\n",
       "      <td>0</td>\n",
       "      <td>4.0</td>\n",
       "      <td>4.0</td>\n",
       "      <td>0.0</td>\n",
       "      <td>1.0</td>\n",
       "      <td>1.0</td>\n",
       "      <td>1.0</td>\n",
       "      <td>1.0</td>\n",
       "    </tr>\n",
       "    <tr>\n",
       "      <th>SS-B312</th>\n",
       "      <td>6</td>\n",
       "      <td>0</td>\n",
       "      <td>5.0</td>\n",
       "      <td>5.0</td>\n",
       "      <td>0.0</td>\n",
       "      <td>1.0</td>\n",
       "      <td>0.0</td>\n",
       "      <td>1.0</td>\n",
       "      <td>0.0</td>\n",
       "    </tr>\n",
       "  </tbody>\n",
       "</table>\n",
       "</div>"
      ],
      "text/plain": [
       "         Col  Isold  Score  Score_down  Chr02  Chr12  Chr14  SSK2  RIC8\n",
       "Strain                                                                 \n",
       "SS-A837    7      0    2.0         2.0    1.0    1.0    1.0   1.0   1.0\n",
       "SS-B307    2      0    0.5         0.0    0.0    0.0    1.0   0.0   1.0\n",
       "SS-B310    4      0    0.0         0.0    1.0    0.0    1.0   0.0   1.0\n",
       "SS-B311    5      0    4.0         4.0    0.0    1.0    1.0   1.0   1.0\n",
       "SS-B312    6      0    5.0         5.0    0.0    1.0    0.0   1.0   0.0"
      ]
     },
     "execution_count": 70,
     "metadata": {},
     "output_type": "execute_result"
    }
   ],
   "source": [
    "medh2o2.head()"
   ]
  },
  {
   "cell_type": "code",
   "execution_count": 71,
   "metadata": {},
   "outputs": [],
   "source": [
    "import statsmodels.formula.api as smf"
   ]
  },
  {
   "cell_type": "code",
   "execution_count": 72,
   "metadata": {},
   "outputs": [
    {
     "name": "stdout",
     "output_type": "stream",
     "text": [
      "(0.9355438351631165, 7.547019049525261e-05)\n"
     ]
    },
    {
     "data": {
      "image/png": "[encoded data removed]",
      "text/plain": [
       "<Figure size 432x288 with 1 Axes>"
      ]
     },
     "metadata": {
      "needs_background": "light"
     },
     "output_type": "display_data"
    }
   ],
   "source": [
    "qtl12_res = smf.ols('Score~Chr12',data=medh2o2).fit()\n",
    "print(ss.shapiro(qtl12_res.resid.values))\n",
    "plt.hist(qtl12_res.resid.values);"
   ]
  },
  {
   "cell_type": "code",
   "execution_count": 73,
   "metadata": {},
   "outputs": [
    {
     "name": "stdout",
     "output_type": "stream",
     "text": [
      "(0.9372780919075012, 9.616556053515524e-05)\n"
     ]
    },
    {
     "data": {
      "image/png": "[encoded data removed]",
      "text/plain": [
       "<Figure size 432x288 with 1 Axes>"
      ]
     },
     "metadata": {
      "needs_background": "light"
     },
     "output_type": "display_data"
    }
   ],
   "source": [
    "qtl14_res = smf.ols('Score~Chr14',data=medh2o2).fit()\n",
    "print(ss.shapiro(qtl14_res.resid.values))\n",
    "plt.hist(qtl14_res.resid.values);"
   ]
  },
  {
   "cell_type": "code",
   "execution_count": 74,
   "metadata": {},
   "outputs": [
    {
     "name": "stdout",
     "output_type": "stream",
     "text": [
      "                            OLS Regression Results                            \n",
      "==============================================================================\n",
      "Dep. Variable:                  Score   R-squared:                       0.278\n",
      "Model:                            OLS   Adj. R-squared:                  0.257\n",
      "Method:                 Least Squares   F-statistic:                     12.85\n",
      "Date:                Wed, 02 Sep 2020   Prob (F-statistic):           3.62e-07\n",
      "Time:                        08:55:09   Log-Likelihood:                -194.52\n",
      "No. Observations:                 104   AIC:                             397.0\n",
      "Df Residuals:                     100   BIC:                             407.6\n",
      "Df Model:                           3                                         \n",
      "Covariance Type:            nonrobust                                         \n",
      "===============================================================================\n",
      "                  coef    std err          t      P>|t|      [0.025      0.975]\n",
      "-------------------------------------------------------------------------------\n",
      "Intercept       3.0833      0.327      9.431      0.000       2.435       3.732\n",
      "Chr12           0.4936      0.453      1.089      0.279      -0.406       1.393\n",
      "Chr14          -1.6809      0.412     -4.083      0.000      -2.498      -0.864\n",
      "Chr12:Chr14     1.5655      0.682      2.295      0.024       0.212       2.919\n",
      "==============================================================================\n",
      "Omnibus:                        5.771   Durbin-Watson:                   1.616\n",
      "Prob(Omnibus):                  0.056   Jarque-Bera (JB):                3.512\n",
      "Skew:                          -0.262   Prob(JB):                        0.173\n",
      "Kurtosis:                       2.269   Cond. No.                         6.57\n",
      "==============================================================================\n",
      "\n",
      "Warnings:\n",
      "[1] Standard Errors assume that the covariance matrix of the errors is correctly specified.\n"
     ]
    },
    {
     "data": {
      "image/png": "[encoded data removed]",
      "text/plain": [
       "<Figure size 432x288 with 1 Axes>"
      ]
     },
     "metadata": {
      "needs_background": "light"
     },
     "output_type": "display_data"
    }
   ],
   "source": [
    "qtl12_14_res = smf.ols('Score~Chr12*Chr14',data=medh2o2).fit()\n",
    "#print(ss.shapiro(qtl12_14_res.resid.values))\n",
    "plt.hist(qtl12_14_res.resid.values);\n",
    "print(qtl12_14_res.summary())"
   ]
  },
  {
   "cell_type": "code",
   "execution_count": 75,
   "metadata": {},
   "outputs": [],
   "source": [
    "chrom_colors = ['tab:grey','tab:brown','lightgrey','salmon','tan']"
   ]
  },
  {
   "cell_type": "code",
   "execution_count": 76,
   "metadata": {},
   "outputs": [],
   "source": [
    "import os\n",
    "kps = 10000\n",
    "perms = []\n",
    "perm_path = '/home/croth/Cden_H2O2_permutations.csv'\n",
    "if not os.path.exists(perm_path):\n",
    "    while len(perms)<kps:\n",
    "    \n",
    "        ran_pval = test[segs].apply(association_logPval,\n",
    "                                args=[medh2o2.T[np.random.permutation(segs)].T.Score],\n",
    "                                axis=1).max()\n",
    "        perms.append(ran_pval)\n",
    "    pd.DataFrame(perms,columns=['H2O2']).to_csv(perm_path,index=False)\n",
    "else:\n",
    "    perms = pd.read_csv(perm_path)['H2O2'].values\n",
    "    \n",
    "threshold_95 = np.percentile(perms,95)"
   ]
  },
  {
   "cell_type": "code",
   "execution_count": 77,
   "metadata": {},
   "outputs": [],
   "source": [
    "F_1 = [s for s in segs if s not in ['XL80a','XL280alpha','SS-A837']]"
   ]
  },
  {
   "cell_type": "code",
   "execution_count": 78,
   "metadata": {
    "scrolled": false
   },
   "outputs": [
    {
     "data": {
      "image/png": "[encoded data removed]",
      "text/plain": [
       "<Figure size 576x576 with 11 Axes>"
      ]
     },
     "metadata": {
      "needs_background": "light"
     },
     "output_type": "display_data"
    }
   ],
   "source": [
    "fig = plt.figure(figsize=(8,8))\n",
    "gs = GridSpec(12,4,figure=fig)\n",
    "ax_fake = fig.add_subplot(gs[:2,:2])\n",
    "plt.sca(ax_fake)\n",
    "[ax_fake.spines[s].set_visible(False) for s in ['top','right']]\n",
    "\n",
    "plt.title(x=-0.125,y=1,label='A',\n",
    "          fontsize=14,fontweight='bold')\n",
    "plt.xticks([]);plt.yticks([])\n",
    "\n",
    "[ax_fake.spines[j].set_visible(False) for j in ['top','bottom','left','right']]\n",
    "\n",
    "ax_hist = fig.add_subplot(gs[:3,2:])\n",
    "\n",
    "[ax_hist.spines[s].set_visible(False) for s in ['top','right']]\n",
    "\n",
    "\n",
    "plt.hist(medh2o2.Score.values,color='grey',alpha=0.65,\n",
    "         bins=np.arange(7)-0.5);\n",
    "\n",
    "plt.xlabel('H$_{2}$O$_{2}$ Score',fontsize=14);\n",
    "plt.xticks([0,1,2,3,4,5])\n",
    "plt.ylabel('Number of\\nProgeny',fontsize=14);\n",
    "plt.yticks(np.arange(0,35,5))\n",
    "\n",
    "plt.vlines(medh2o2.T['XL280a'].T.Score,0,3.5,\n",
    "           alpha=0.75,linestyle='-',\n",
    "           color='tab:blue')#,label=_xl280alabel);\n",
    "plt.text(medh2o2.T['XL280a'].T.Score,4,\n",
    "         _xl280alabel,fontsize=12,\n",
    "         color='tab:blue',ha='center')\n",
    "\n",
    "plt.vlines(medh2o2.T['SS-A837'].T.Score,0,3.5,\n",
    "           alpha=0.75,color='tab:orange')#,label=_431label);\n",
    "plt.text(medh2o2.T['SS-A837'].T.Score,4,\n",
    "         _431label,fontsize=12,\n",
    "         color='tab:orange',ha='center')\n",
    "\n",
    "plt.title(x=-0.2,y=1,label='B',\n",
    "          fontsize=14,fontweight='bold')\n",
    "\n",
    "##### ----------------------------------------------------------###\n",
    "ax_qtl1 = fig.add_subplot(gs[9:,:2])\n",
    "[ax_qtl1.spines[s].set_visible(False) for s in ['top','right']]\n",
    "\n",
    "sns.swarmplot(x='Chr12',y='Score',\n",
    "              data=medh2o2,alpha=0.5)\n",
    "\n",
    "\n",
    "plt.plot( [-0.3,1.2] , medh2o2.groupby('Chr12').mean()['Score'].values,\n",
    "         #medh2o2.T[['SS-A837','XL280a']].T['Score'].values[::-1],\n",
    "         'k^',alpha=0.5)\n",
    "\n",
    "plt.ylabel(r'H$_{2}$O$_{2}$ Score',fontsize=14)\n",
    "plt.yticks(np.arange(6))\n",
    "plt.xticks([0,1],labels=[_xl280alabel,_431label])\n",
    "plt.xlabel('Chromosome 12\\nQTL Allele',fontsize=14)\n",
    "plt.title(x=-0.135,y=1,label='D',\n",
    "          fontsize=14,fontweight='bold')\n",
    "plt.text(0.5,5.5,'R$^2$ = %s'%np.round(qtl12_res.rsquared,2),\n",
    "        ha='center')\n",
    "### -------------------------------------------------------------- ###\n",
    "ax_qtl2 = fig.add_subplot(gs[9:,2:])\n",
    "[ax_qtl2.spines[s].set_visible(False) for s in ['top','right']]\n",
    "\n",
    "sns.swarmplot(x='Chr14',y='Score',\n",
    "              data=medh2o2,alpha=0.5)\n",
    "\n",
    "plt.plot( [-0.2,1.25] , medh2o2.groupby('Chr14').mean()['Score'].values,\n",
    "         #medh2o2.T[['SS-A837','XL280a']].T['Score'].values[::-1],\n",
    "         'k^',alpha=0.5)\n",
    "\n",
    "plt.yticks(np.arange(6))\n",
    "plt.ylabel('')\n",
    "plt.xticks([0,1],labels=[_xl280alabel,_431label])\n",
    "plt.xlabel('Chromosome 14\\nQTL Allele',fontsize=14)\n",
    "plt.text(0.5,5.5,'R$^2$ = %s'%np.round(qtl14_res.rsquared,2),\n",
    "        ha='center')\n",
    "### --------------------------- QTL MAPPING --------------------- ###\n",
    "\n",
    "ax_qtl = fig.add_subplot(gs[4:8,:])\n",
    "\n",
    "plt.sca(ax_qtl)\n",
    "plt.title(x=-0.065,y=1,label='C',\n",
    "          fontsize=14,fontweight='bold')\n",
    "\n",
    "for c,chrom in enumerate(chrlist):\n",
    "    tpd = pvaldf[(pvaldf.Chrom==chrom)]\n",
    "    \n",
    "    if chrom == 'Chr12':\n",
    "        cc = 'tab:orange'\n",
    "    elif chrom == 'Chr14':\n",
    "        cc = 'tab:blue'\n",
    "    else:\n",
    "        cc = chrom_colors[c%len(chrom_colors)]\n",
    "\n",
    "    plt.plot(tpd.Pos+cumpos[c],tpd.Pval.values,'.',alpha=0.5,color=cc,markersize=3);\n",
    "\n",
    "\n",
    "plt.hlines(threshold_95,chrom_midpts[1],19*(10**6),\n",
    "           linestyle='--',alpha=0.7,\n",
    "           linewidth=1,label=alpha_label)\n",
    "\n",
    "plt.xticks(chrom_midpts,labels=np.arange(len(chrlist))+1);\n",
    "plt.xlabel('Chromosome',fontsize=14);\n",
    "plt.ylabel('$-\\log_{10}\\,(p-value)$',fontsize=14);\n",
    "\n",
    "plt.ylim(-0.5,5.5)\n",
    "plt.yticks([0,1,2,3,4,5])\n",
    "##### ------------------------------------------------------ #####\n",
    "plt.sca(ax_hist)\n",
    "yw = 0.07\n",
    "yh = 0.82\n",
    "yh2 = 0.72\n",
    "ax0 = fig.add_axes([0.13,yh,yw,yw])\n",
    "pheno0 = '/home/croth/H2O2_0_crop.png'\n",
    "pheno0_obj = Image.open(pheno0)\n",
    "plt.imshow(pheno0_obj, \n",
    "           cmap='gray', vmin=0, vmax=255);\n",
    "plt.text(0.5,-0.25,'0',va='center',ha='center',\n",
    "         transform=ax0.transAxes,fontsize=14)\n",
    "plt.axis('off')\n",
    "#plt.title(x=-2,y=2.35,label='A',\n",
    "#          fontsize=14,fontweight='bold')\n",
    "\n",
    "ax1 = fig.add_axes([0.23,yh,yw,yw])\n",
    "pheno1 = '/home/croth/H2O2_1_crop.png'\n",
    "pheno1_obj = Image.open(pheno1)\n",
    "plt.imshow(pheno1_obj, \n",
    "           cmap='gray', vmin=0, vmax=255);\n",
    "plt.text(0.5,-0.25,'1',va='center',ha='center',\n",
    "         transform=ax1.transAxes,fontsize=14)\n",
    "plt.axis('off')\n",
    "plt.title(x=0.5,y=-2.4,\n",
    "          label=r'H$_{2}$O$_{2}$'+' Phenotypes & Scores',\n",
    "         fontsize=14)\n",
    "#plt.xlabel(r'H$_{2}$O$_{2}$'+' Phenotypes & Scores',fontsize=14)\n",
    "\n",
    "\n",
    "ax2 = fig.add_axes([0.33,yh,yw,yw])\n",
    "pheno2 = '/home/croth/H2O2_2_crop.png'\n",
    "pheno2_obj = Image.open(pheno2)\n",
    "plt.imshow(pheno2_obj, \n",
    "           cmap='gray', vmin=0, vmax=255);\n",
    "plt.text(0.5,-0.25,'2',va='center',ha='center',\n",
    "         transform=ax2.transAxes,fontsize=14)\n",
    "plt.axis('off')\n",
    "\n",
    "\n",
    "#ax3 = fig.add_axes([0.25,.7,0.09,0.09])\n",
    "ax3 = fig.add_axes([0.13,yh2,yw,yw])\n",
    "plt.sca(ax3)\n",
    "\n",
    "pheno3 = '/home/croth/H2O2_3_crop.png'\n",
    "pheno3_obj = Image.open(pheno3)\n",
    "plt.imshow(pheno3_obj, \n",
    "           cmap='gray', vmin=0, vmax=255);\n",
    "plt.text(0.5,-0.25,'3',va='center',ha='center',\n",
    "         transform=ax3.transAxes,fontsize=14)\n",
    "plt.axis('off')\n",
    "\n",
    "\n",
    "ax4 = fig.add_axes([0.23,yh2,yw,yw])\n",
    "pheno4 = '/home/croth/H2O2_4_crop.png'\n",
    "pheno4_obj = Image.open(pheno4)\n",
    "plt.imshow(pheno4_obj, \n",
    "           cmap='gray', vmin=0, vmax=255);\n",
    "plt.text(0.5,-0.25,'4',va='center',ha='center',\n",
    "         transform=ax4.transAxes,fontsize=14)\n",
    "plt.axis('off')\n",
    "\n",
    "\n",
    "n = 5\n",
    "ax5 = fig.add_axes([0.33,yh2,yw,yw])\n",
    "pheno5 = '/home/croth/H2O2_%s_crop.png'%n\n",
    "pheno5_obj = Image.open(pheno5)\n",
    "plt.imshow(pheno5_obj, \n",
    "           cmap='gray', vmin=0, vmax=255);\n",
    "plt.text(0.5,-0.25,'%s'%n,va='center',ha='center',\n",
    "         transform=ax5.transAxes,fontsize=14)\n",
    "plt.axis('off');\n",
    "\n",
    "\n",
    "plt.sca(ax_qtl)\n",
    "[ax_qtl.spines[s].set_visible(False) for s in ['top','right']]\n",
    "\n",
    "plt.text(s = r'$\\alpha$ = 0.05', x = chrom_midpts[0],y= threshold_95, \n",
    "         horizontalalignment='center',\n",
    "         verticalalignment='center', \n",
    "         fontsize=14 )\n",
    "        ## transform=ax_qtl.transAxes, \n",
    "\n",
    "plt.subplots_adjust(hspace=2,wspace=.6)\n",
    "#plt.savefig('./C_deneoformans_H2O2_QTL.png',dpi=200,bbox_inches='tight');\n",
    "mydpi=600\n",
    "plos_path = '/home/croth/QTL_FIGS/MAIN/Fig9.tiff'\n",
    "plt.savefig(plos_path,dpi=mydpi,bbox_inches='tight')\n",
    "plt.savefig('/home/croth/QTL_FIGS/MAIN/PDFs/Fig9.pdf',\n",
    "            dpi=mydpi,bbox_inches='tight',pad_inches=1)\n",
    "\n",
    "im = Image.open(plos_path)\n",
    "w,h = im.size\n",
    "assert w/mydpi < 7.5\n",
    "assert h/mydpi < 8\n",
    "\n",
    "im.save(plos_path,compression='tiff_lzw');"
   ]
  },
  {
   "cell_type": "code",
   "execution_count": 79,
   "metadata": {},
   "outputs": [
    {
     "ename": "AssertionError",
     "evalue": "",
     "output_type": "error",
     "traceback": [
      "\u001b[0;31m---------------------------------------------------------------------------\u001b[0m",
      "\u001b[0;31mAssertionError\u001b[0m                            Traceback (most recent call last)",
      "\u001b[0;32m<ipython-input-79-e99f91a18d62>\u001b[0m in \u001b[0;36m<module>\u001b[0;34m\u001b[0m\n\u001b[0;32m----> 1\u001b[0;31m \u001b[0;32massert\u001b[0m \u001b[0;36m1\u001b[0m \u001b[0;34m==\u001b[0m \u001b[0;36m0\u001b[0m\u001b[0;34m\u001b[0m\u001b[0;34m\u001b[0m\u001b[0m\n\u001b[0m",
      "\u001b[0;31mAssertionError\u001b[0m: "
     ]
    }
   ],
   "source": [
    "assert 1 == 0"
   ]
  },
  {
   "cell_type": "code",
   "execution_count": null,
   "metadata": {},
   "outputs": [],
   "source": [
    "ssk1_ssk2_label = '$SSK2$:%s\\n$RIC8$:%s'\n",
    "new_x_labels = [ssk1_ssk2_label%(_431label,_431label),\n",
    "                ssk1_ssk2_label%(_xl280alabel,_xl280alabel),\n",
    "                ssk1_ssk2_label%(_431label,_xl280alabel),\n",
    "                ssk1_ssk2_label%(_xl280alabel,_431label)]"
   ]
  },
  {
   "cell_type": "code",
   "execution_count": null,
   "metadata": {},
   "outputs": [],
   "source": [
    "pd.crosstab(medh2o2.Chr12,medh2o2.Chr14,margins=True)"
   ]
  },
  {
   "cell_type": "code",
   "execution_count": null,
   "metadata": {},
   "outputs": [],
   "source": [
    "ss.chi2_contingency(pd.crosstab(medh2o2.SSK2,medh2o2.RIC8))"
   ]
  },
  {
   "cell_type": "code",
   "execution_count": null,
   "metadata": {},
   "outputs": [],
   "source": [
    "pd.crosstab(medh2o2.RIC8,medh2o2.SSK2,margins=True)"
   ]
  },
  {
   "cell_type": "code",
   "execution_count": null,
   "metadata": {},
   "outputs": [],
   "source": [
    "qtlloci = pd.read_csv('./Desktop/Cdx_QTL_SNPs.csv',index_col=0)"
   ]
  },
  {
   "cell_type": "code",
   "execution_count": null,
   "metadata": {},
   "outputs": [],
   "source": [
    "for i,j in enumerate(['SSK1','SSK2','RIC8']):\n",
    "    \n",
    "    medh2o2[j] = qtlloci[medh2o2.index].values[i]"
   ]
  },
  {
   "cell_type": "code",
   "execution_count": null,
   "metadata": {},
   "outputs": [],
   "source": [
    "pd.crosstab(medh2o2.SSK2,medh2o2.RIC8,margins=True)"
   ]
  },
  {
   "cell_type": "code",
   "execution_count": null,
   "metadata": {},
   "outputs": [],
   "source": [
    "medh2o2['Mosaic'] = -1\n",
    "medh2o2.loc[(medh2o2.SSK2==1) & (medh2o2.RIC8==1),'Mosaic'] = 1\n",
    "medh2o2.loc[(medh2o2.SSK2==0) & (medh2o2.RIC8==0),'Mosaic'] = 2\n",
    "medh2o2.loc[(medh2o2.SSK2==1) & (medh2o2.RIC8==0),'Mosaic'] = 3\n",
    "medh2o2.loc[(medh2o2.SSK2==0) & (medh2o2.RIC8==1),'Mosaic'] = 4"
   ]
  },
  {
   "cell_type": "code",
   "execution_count": null,
   "metadata": {},
   "outputs": [],
   "source": [
    "ss.chi2_contingency(pd.crosstab(medh2o2.RIC8,medh2o2.SSK2))"
   ]
  },
  {
   "cell_type": "code",
   "execution_count": null,
   "metadata": {},
   "outputs": [],
   "source": [
    "fig,ax = plt.subplots(1,1,figsize=(8,4))\n",
    "#plt.plot(np.arange(0,4),medh2o2.groupby('Mosaic').median().Score.values,\n",
    "#         'r^',alpha=0.5,ms=10)\n",
    "\n",
    "#sns.swarmplot(x='Mosaic',y='Score', data=medh2o2,hue='SSK1',alpha=0.5);\n",
    "sns.boxplot(x='Mosaic',y='Score',data=medh2o2,color='w')\n",
    "sns.swarmplot(x='Mosaic',y='Score',data=medh2o2,alpha=0.5,color='k')\n",
    "\n",
    "plt.ylabel('H$_{2}$O$_{2}$ Growth Score',\n",
    "           fontsize=14);\n",
    "plt.yticks(np.arange(6),fontsize=14)\n",
    "plt.xlabel('\\n$SSK2$ and $RIC8$ genotypes',fontsize=14)\n",
    "\n",
    "plt.xticks(np.arange(0,4),new_x_labels,fontsize=14)\n",
    "plt.savefig('/home/croth/Desktop/H2O2_Pheno_swarm.png',\n",
    "            dpi=150,bbox_inches='tight');"
   ]
  },
  {
   "cell_type": "code",
   "execution_count": null,
   "metadata": {},
   "outputs": [],
   "source": [
    "pwd"
   ]
  },
  {
   "cell_type": "code",
   "execution_count": null,
   "metadata": {},
   "outputs": [],
   "source": [
    "medh2o2.to_csv('./Median_H2O2_byQTL.csv',index=True)"
   ]
  },
  {
   "cell_type": "code",
   "execution_count": null,
   "metadata": {},
   "outputs": [],
   "source": [
    "smf.ols('Score~RIC8*SSK2',data=medh2o2).fit().summary()"
   ]
  },
  {
   "cell_type": "code",
   "execution_count": null,
   "metadata": {},
   "outputs": [],
   "source": [
    "medh2o2.groupby('Mosaic').median()"
   ]
  },
  {
   "cell_type": "code",
   "execution_count": null,
   "metadata": {},
   "outputs": [],
   "source": [
    "medh2o2.groupby(['Chr12','Chr14']).mean()"
   ]
  },
  {
   "cell_type": "code",
   "execution_count": null,
   "metadata": {},
   "outputs": [],
   "source": [
    "for i in [0,1]:\n",
    "    for j in [0,1]:\n",
    "        print(i,j,medh2o2[(medh2o2.Chr12==i) & (medh2o2.Chr14==j)].shape[0]/104)"
   ]
  },
  {
   "cell_type": "code",
   "execution_count": null,
   "metadata": {},
   "outputs": [],
   "source": []
  },
  {
   "cell_type": "code",
   "execution_count": null,
   "metadata": {},
   "outputs": [],
   "source": [
    "medh2o2.groupby('Chr14').mean()['Score'].values"
   ]
  },
  {
   "cell_type": "code",
   "execution_count": null,
   "metadata": {},
   "outputs": [],
   "source": [
    "medh2o2.groupby('Chr12').mean()['Score'].values"
   ]
  },
  {
   "cell_type": "code",
   "execution_count": null,
   "metadata": {},
   "outputs": [],
   "source": [
    "pwd"
   ]
  },
  {
   "cell_type": "code",
   "execution_count": null,
   "metadata": {},
   "outputs": [],
   "source": [
    "fig,ax = plt.subplots(1,2,figsize=(10,4),sharey=True)\n",
    "plt.sca(ax[0])\n",
    "sns.swarmplot(x='Chr12',y='Score',\n",
    "              data=medh2o2,alpha=0.5)\n",
    "plt.plot([0,1],medh2o2.groupby('Chr12').mean()['Score'].values,'r^');\n",
    "\n",
    "plt.sca(ax[1])\n",
    "sns.swarmplot(x='Chr14',y='Score',\n",
    "              data=medh2o2,alpha=0.5)\n",
    "plt.plot([0,1],medh2o2.groupby('Chr14').mean()['Score'].values,'r^');\n",
    "plt.savefig('./H2O2_with_means.png',dpi=100,bbox_inches='tight');"
   ]
  },
  {
   "cell_type": "code",
   "execution_count": null,
   "metadata": {},
   "outputs": [],
   "source": [
    "medh2o2.to_csv('~/H2O2_median_phenotypes.csv')"
   ]
  },
  {
   "cell_type": "code",
   "execution_count": null,
   "metadata": {},
   "outputs": [],
   "source": [
    "x = '12'\n",
    "y = '14'\n",
    "\n",
    "sns.swarmplot(y='Score',x='Chr%s'%x,\n",
    "              data=medh2o2.T[F_1].T,\n",
    "           hue='Chr%s'%y,dodge=True,alpha=0.5)\n",
    "\n",
    "L=plt.legend(bbox_to_anchor=(1,1),\n",
    "             title='Chromosome %s Allele'%y,\n",
    "             fontsize=14)\n",
    "\n",
    "L.get_texts()[0].set_text(_xl280alabel)\n",
    "L.get_texts()[1].set_text(_431label)\n",
    "\n",
    "plt.xticks([0,1],labels=[_xl280alabel,_431label],fontsize=14)\n",
    "plt.xlabel('Chromosome %s Allele'%x,\n",
    "           fontsize=14);\n",
    "\n",
    "plt.plot(*parents.T.values[::-1],'k^')\n",
    "\n",
    "plt.ylabel('Median H$_{2}$O$_{2}$\\nGrowth Score',\n",
    "           fontsize=14);\n",
    "plt.savefig('/home/croth/Desktop/H2O2_Pheno_swarm.png',\n",
    "            dpi=150,bbox_inches='tight');"
   ]
  },
  {
   "cell_type": "code",
   "execution_count": null,
   "metadata": {},
   "outputs": [],
   "source": [
    "threshold_95"
   ]
  },
  {
   "cell_type": "code",
   "execution_count": null,
   "metadata": {},
   "outputs": [],
   "source": [
    "ric8 = np.array([386833, 389698])"
   ]
  },
  {
   "cell_type": "code",
   "execution_count": null,
   "metadata": {},
   "outputs": [],
   "source": [
    "pvaldf[(pvaldf.Chrom=='Chr14') & \n",
    "       (pvaldf.Pval>=threshold_95)].Pos.min(),pvaldf[(pvaldf.Chrom=='Chr14') & \n",
    "                                                    (pvaldf.Pval>=threshold_95)].Pos.max()"
   ]
  },
  {
   "cell_type": "markdown",
   "metadata": {},
   "source": [
    "C. deneoformans hydrogen peroxide (A) phenotypes and growth scores, (B) distribution of scores, (C) associated Manhattan plot, and (D) genotype by phenotype plots for detected QTLs on chromosome 2 and 14. "
   ]
  },
  {
   "cell_type": "code",
   "execution_count": null,
   "metadata": {},
   "outputs": [],
   "source": [
    "pvaldf.to_csv('/home/croth/H2O2_pvalues.csv',index=True)"
   ]
  },
  {
   "cell_type": "code",
   "execution_count": null,
   "metadata": {},
   "outputs": [],
   "source": [
    "test.shape"
   ]
  },
  {
   "cell_type": "code",
   "execution_count": null,
   "metadata": {},
   "outputs": [],
   "source": [
    "medh2o2.Score.mean()"
   ]
  },
  {
   "cell_type": "code",
   "execution_count": null,
   "metadata": {},
   "outputs": [],
   "source": [
    "medh2o2.Score.var()"
   ]
  },
  {
   "cell_type": "code",
   "execution_count": null,
   "metadata": {},
   "outputs": [],
   "source": [
    "sns.swarmplot(x='SSK1',y='Score',data=medh2o2)"
   ]
  },
  {
   "cell_type": "code",
   "execution_count": null,
   "metadata": {},
   "outputs": [],
   "source": [
    "mod = smf.ols('Score ~ Chr12',data=medh2o2).fit()\n",
    "mod.pvalues"
   ]
  },
  {
   "cell_type": "code",
   "execution_count": null,
   "metadata": {},
   "outputs": [],
   "source": [
    "medh2o2[['Chr12','Chr14']].corr(method='spearman')"
   ]
  },
  {
   "cell_type": "code",
   "execution_count": null,
   "metadata": {},
   "outputs": [],
   "source": [
    "ss.spearmanr(medh2o2.Chr12.values,medh2o2.Chr14.values)"
   ]
  },
  {
   "cell_type": "code",
   "execution_count": null,
   "metadata": {},
   "outputs": [],
   "source": [
    "medh2o2.mean(axis=0)"
   ]
  },
  {
   "cell_type": "code",
   "execution_count": null,
   "metadata": {},
   "outputs": [],
   "source": [
    "41/104"
   ]
  },
  {
   "cell_type": "code",
   "execution_count": null,
   "metadata": {
    "scrolled": true
   },
   "outputs": [],
   "source": [
    "tc = medh2o2.copy()\n",
    "tc['Chr12'].replace(0,'XL280',inplace=True)\n",
    "tc['Chr12'].replace(1,'431',inplace=True)\n",
    "tc['Chr14'].replace(0,'XL280',inplace=True)\n",
    "tc['Chr14'].replace(1,'431',inplace=True)\n",
    "\n",
    "print(pd.crosstab(tc.Chr12,tc.Chr14,margins=True))"
   ]
  },
  {
   "cell_type": "code",
   "execution_count": null,
   "metadata": {},
   "outputs": [],
   "source": [
    "?ss.chi2_contingency"
   ]
  },
  {
   "cell_type": "code",
   "execution_count": null,
   "metadata": {},
   "outputs": [],
   "source": [
    "ss.chi2_contingency(pd.crosstab(tc.Chr12,tc.Chr14,margins=False))"
   ]
  },
  {
   "cell_type": "code",
   "execution_count": null,
   "metadata": {},
   "outputs": [],
   "source": [
    "ss.chi2_contingency(pd.crosstab(tc.Chr12,tc.Chr14))"
   ]
  },
  {
   "cell_type": "code",
   "execution_count": null,
   "metadata": {},
   "outputs": [],
   "source": [
    "medh2o2.groupby(['Chr12','Chr14']).count()['Col']/medh2o2.shape[0]"
   ]
  },
  {
   "cell_type": "code",
   "execution_count": null,
   "metadata": {},
   "outputs": [],
   "source": [
    "medh2o2[(medh2o2.Chr12==1)]"
   ]
  },
  {
   "cell_type": "code",
   "execution_count": null,
   "metadata": {},
   "outputs": [],
   "source": [
    "assert 1 == 0"
   ]
  },
  {
   "cell_type": "code",
   "execution_count": null,
   "metadata": {},
   "outputs": [],
   "source": []
  },
  {
   "cell_type": "code",
   "execution_count": null,
   "metadata": {},
   "outputs": [],
   "source": []
  },
  {
   "cell_type": "code",
   "execution_count": null,
   "metadata": {},
   "outputs": [],
   "source": []
  },
  {
   "cell_type": "code",
   "execution_count": null,
   "metadata": {},
   "outputs": [],
   "source": [
    "x = '12'\n",
    "x = '14'\n",
    "sns.lmplot(y='Score',x='Chr%s'%x,data=medh2o2,\n",
    "           x_jitter=0.2,y_jitter=0.05,\n",
    "           scatter_kws={'alpha':0.5},legend_out=False);\n",
    "plt.xticks([0,1],labels=['XL280','431'],fontsize=14)\n",
    "plt.xlabel('Chromosome %s Allele'%x,\n",
    "           fontsize=14);\n",
    "plt.ylabel('$H_{2}O_{2}$ Growth Score',\n",
    "           fontsize=14);\n",
    "\n",
    "#L=plt.legend(bbox_to_anchor=(1,1),\n",
    "#             title='Chromosome %s Allele'%y,\n",
    "#             fontsize=14)\n",
    "#L.get_texts()[0].set_text('XL280')\n",
    "#L.get_texts()[1].set_text('431')"
   ]
  },
  {
   "cell_type": "code",
   "execution_count": null,
   "metadata": {},
   "outputs": [],
   "source": [
    "x = '12'\n",
    "sns.lmplot(y='Score',x='Chr%s'%x,data=medh2o2,\n",
    "           x_jitter=0.2,y_jitter=0.05,\n",
    "           scatter_kws={'alpha':0.5},legend_out=False);\n",
    "plt.xticks([0,1],labels=['XL280','431'],fontsize=14)\n",
    "plt.xlabel('Chromosome %s Allele'%x,\n",
    "           fontsize=14);\n",
    "plt.ylabel('$H_{2}O_{2}$ Growth Score',\n",
    "           fontsize=14);"
   ]
  },
  {
   "cell_type": "code",
   "execution_count": null,
   "metadata": {},
   "outputs": [],
   "source": []
  },
  {
   "cell_type": "code",
   "execution_count": null,
   "metadata": {},
   "outputs": [],
   "source": []
  },
  {
   "cell_type": "code",
   "execution_count": null,
   "metadata": {},
   "outputs": [],
   "source": []
  },
  {
   "cell_type": "code",
   "execution_count": null,
   "metadata": {},
   "outputs": [],
   "source": []
  },
  {
   "cell_type": "code",
   "execution_count": null,
   "metadata": {},
   "outputs": [],
   "source": []
  },
  {
   "cell_type": "code",
   "execution_count": null,
   "metadata": {},
   "outputs": [],
   "source": []
  },
  {
   "cell_type": "code",
   "execution_count": null,
   "metadata": {},
   "outputs": [],
   "source": [
    "assert 1 == 0"
   ]
  },
  {
   "cell_type": "code",
   "execution_count": null,
   "metadata": {},
   "outputs": [],
   "source": []
  },
  {
   "cell_type": "code",
   "execution_count": null,
   "metadata": {},
   "outputs": [],
   "source": []
  },
  {
   "cell_type": "code",
   "execution_count": null,
   "metadata": {},
   "outputs": [],
   "source": [
    "## Bring in phenotype data\n",
    "df = pd.read_csv(file_path,index_col=0)\n",
    "dfcol = df.columns.tolist()\n",
    "time_ix = dfcol.index('6300s')\n",
    "times_ixs = dfcol[time_ix:]\n",
    "#df.index = df.strain\n",
    "df = df[(df.strain.isin(geno_df.columns)) & (df.temp!=38)]\n",
    "timex = [np.round(int(a[:-1])/(60**2),3) for a in times_ixs]\n",
    "dx = np.max(np.diff(timex))\n",
    "df.head()"
   ]
  },
  {
   "cell_type": "code",
   "execution_count": null,
   "metadata": {},
   "outputs": [],
   "source": [
    "nreps = df.groupby(['temp','amphB','strain']).count().reset_index()[\n",
    "    ['temp','amphB','date']].groupby(['temp','amphB']).agg(np.median)\n",
    "nreps"
   ]
  },
  {
   "cell_type": "code",
   "execution_count": null,
   "metadata": {},
   "outputs": [],
   "source": [
    "segs = np.unique([s for s in df.strain if s in geno_df.columns])\n",
    "strain_ix = geno_df.columns.tolist().index('Block') + 1\n",
    "geno_strains = np.array(geno_df.columns.tolist()[strain_ix:])\n",
    "X = geno_df.T[loci].T[segs].astype(float)"
   ]
  },
  {
   "cell_type": "code",
   "execution_count": null,
   "metadata": {},
   "outputs": [],
   "source": [
    "strains_temp = pd.DataFrame(geno_strains).replace(dict(zip(['XL280a','XL280alpha'],['SS-B830','SS-A853'])))"
   ]
  },
  {
   "cell_type": "markdown",
   "metadata": {},
   "source": [
    "cross_info = pd.read_csv('../../FILES/OLD/OCT2018/CDx_PB_Ill_Sample_Info.csv')"
   ]
  },
  {
   "cell_type": "markdown",
   "metadata": {},
   "source": [
    "strain_out = cross_info[(cross_info.Strain.isin(strains_temp[0].tolist()))].copy()\n",
    "sex = []\n",
    "for i in strain_out.Code.tolist():\n",
    "    if i == 1:\n",
    "        sex.append('bi')\n",
    "    elif i == 2:\n",
    "        sex.append('un')\n",
    "    else:\n",
    "        sex.append('parent')\n",
    "        pass\n",
    "strain_out['Fasta'] = [a.split('-CR_')[0] for a in strain_out['PB-name']]\n",
    "strain_out['Crosstype'] = sex\n",
    "strain_out = strain_out[['Strain','Crosstype','Fasta']]\n",
    "strain_out[(strain_out.Crosstype=='parent')]\n",
    "strain_out.sort_values(['Strain']).to_csv('../../C_deneoformans_strain_info.csv',index=False);"
   ]
  },
  {
   "cell_type": "code",
   "execution_count": null,
   "metadata": {},
   "outputs": [],
   "source": [
    "## Set precent of variance to explain\n",
    "ps = .99"
   ]
  },
  {
   "cell_type": "code",
   "execution_count": null,
   "metadata": {},
   "outputs": [],
   "source": [
    "## Gather unique temp and drug conditions\n",
    "temps = df.temp.unique();print(temps)\n",
    "drugs = df.amphB.unique();print(drugs)"
   ]
  },
  {
   "cell_type": "code",
   "execution_count": null,
   "metadata": {},
   "outputs": [],
   "source": [
    "dfma = df[(df.strain.isin(segs)) & \n",
    "          (df.temp!=38)].groupby(['temp','amphB','strain'])[times_ixs].agg(np.median)"
   ]
  },
  {
   "cell_type": "code",
   "execution_count": null,
   "metadata": {},
   "outputs": [],
   "source": [
    "assert dfma.shape[0] == len(segs) * len(temps) *len(drugs) - (len(segs))"
   ]
  },
  {
   "cell_type": "code",
   "execution_count": null,
   "metadata": {},
   "outputs": [],
   "source": [
    "dfma.values.shape"
   ]
  },
  {
   "cell_type": "code",
   "execution_count": null,
   "metadata": {},
   "outputs": [],
   "source": [
    "pca = PCA(ps)\n",
    "principalComponents = pca.fit_transform(dfma)"
   ]
  },
  {
   "cell_type": "code",
   "execution_count": null,
   "metadata": {},
   "outputs": [],
   "source": [
    "principalComponents.shape"
   ]
  },
  {
   "cell_type": "code",
   "execution_count": null,
   "metadata": {},
   "outputs": [],
   "source": [
    "pca.components_.shape"
   ]
  },
  {
   "cell_type": "code",
   "execution_count": null,
   "metadata": {},
   "outputs": [],
   "source": [
    "mc = dfma - dfma.mean()"
   ]
  },
  {
   "cell_type": "code",
   "execution_count": null,
   "metadata": {},
   "outputs": [],
   "source": [
    "fig,ax = plt.subplots(1,pca.components_.shape[0],figsize=(10,3),sharex=True,sharey=True)\n",
    "for i,c in enumerate(pca.components_):\n",
    "    plt.sca(ax[i])\n",
    "    plt.title(np.round(pca.explained_variance_ratio_[i],3)*100 )\n",
    "    #if i == 0:\n",
    "        #plt.plot(timex,c*15.0,'r')\n",
    "    plt.plot(timex,dfma.mean(),'r')\n",
    "    plt.plot(timex,dfma.mean()+c,'k')\n",
    "    plt.plot(timex,dfma.mean()-c,'k--');"
   ]
  },
  {
   "cell_type": "code",
   "execution_count": null,
   "metadata": {},
   "outputs": [],
   "source": [
    "pca_conditions = dfma.reset_index()[['temp','amphB','strain']]"
   ]
  },
  {
   "cell_type": "code",
   "execution_count": null,
   "metadata": {},
   "outputs": [],
   "source": [
    "pca_temp = pd.DataFrame(principalComponents,columns=['PC1','PC2','PC3'])"
   ]
  },
  {
   "cell_type": "code",
   "execution_count": null,
   "metadata": {},
   "outputs": [],
   "source": [
    "pca_by_con = pd.concat([pca_conditions,pca_temp],axis=1)"
   ]
  },
  {
   "cell_type": "code",
   "execution_count": null,
   "metadata": {},
   "outputs": [],
   "source": [
    "pca_by_con.head()"
   ]
  },
  {
   "cell_type": "code",
   "execution_count": null,
   "metadata": {},
   "outputs": [],
   "source": [
    "dfma.reset_index(inplace=True)"
   ]
  },
  {
   "cell_type": "code",
   "execution_count": null,
   "metadata": {},
   "outputs": [],
   "source": [
    "dfma.head()"
   ]
  },
  {
   "cell_type": "code",
   "execution_count": null,
   "metadata": {},
   "outputs": [],
   "source": [
    "fig,ax = plt.subplots(3,4,figsize=(10,5),sharex=True,sharey=True);\n",
    "for i,t in enumerate(temps):\n",
    "    for j,d in enumerate(drugs):\n",
    "        plt.sca(ax[i,j])\n",
    "        plt.plot(pca_by_con[(pca_by_con.temp==t) & (pca_by_con.amphB==d)]['PC1'].values,\n",
    "                 dfma[(dfma.temp==t) & (dfma.amphB==d)][times_ixs].sum(axis=1).values*dx,\n",
    "                 'k.',alpha=0.5);\n",
    "plt.sca(ax[0,0]);plt.ylabel('$AUC_{72}$',fontsize=14);\n",
    "plt.sca(ax[-1,0]);plt.xlabel('PC1',fontsize=14);"
   ]
  },
  {
   "cell_type": "code",
   "execution_count": null,
   "metadata": {},
   "outputs": [],
   "source": [
    "import seaborn as sns"
   ]
  },
  {
   "cell_type": "code",
   "execution_count": null,
   "metadata": {},
   "outputs": [],
   "source": [
    "pca_by_con.temp.unique()"
   ]
  },
  {
   "cell_type": "code",
   "execution_count": null,
   "metadata": {},
   "outputs": [],
   "source": [
    "pca_by_con['temp'] = pca_by_con['temp'].apply(int)"
   ]
  },
  {
   "cell_type": "code",
   "execution_count": null,
   "metadata": {},
   "outputs": [],
   "source": [
    "my_colors= ['tab:blue','tab:red','tab:orange','tab:grey']"
   ]
  },
  {
   "cell_type": "code",
   "execution_count": null,
   "metadata": {},
   "outputs": [],
   "source": [
    "var_explained = [np.round(a,1) for a in np.round(pca.explained_variance_ratio_,3)*100]"
   ]
  },
  {
   "cell_type": "code",
   "execution_count": null,
   "metadata": {},
   "outputs": [],
   "source": [
    "np.sum(var_explained)"
   ]
  },
  {
   "cell_type": "code",
   "execution_count": null,
   "metadata": {},
   "outputs": [],
   "source": [
    "var_explained"
   ]
  },
  {
   "cell_type": "code",
   "execution_count": null,
   "metadata": {},
   "outputs": [],
   "source": [
    "fig,ax = plt.subplots(1,2,figsize=(9,3),sharey=True,sharex=True)\n",
    "plt.sca(ax[0])\n",
    "plt.title(\"By Temperature\\n\")\n",
    "means_temps = []\n",
    "for i,t in enumerate(temps):\n",
    "    temp = pca_by_con[(pca_by_con.temp==t)]\n",
    "    plt.plot(temp.PC1,temp.PC2,'o',label=t,color=my_colors[i],alpha=0.35)\n",
    "    means_temps.append((temp.PC1.mean(),temp.PC2.mean()))\n",
    "plt.plot(*np.array(means_temps).T,'x--',ms=10,color='k',alpha=0.95);\n",
    "plt.xlabel('PC1\\n%s%s Variance Explained'%(var_explained[0],'%'),fontsize=14);\n",
    "plt.ylabel('PC2\\n%s%s Variance Explained'%(var_explained[1],'%'),fontsize=14);\n",
    "plt.legend(title=u'°C',fontsize=14,bbox_to_anchor=(1,1.1))\n",
    "plt.sca(ax[1])\n",
    "plt.title('By Amphotericin B\\nConcentration')\n",
    "means_drugs = []\n",
    "for i,d in enumerate(drugs):\n",
    "    temp = pca_by_con[(pca_by_con.amphB==d)]\n",
    "    plt.plot(temp.PC1,temp.PC2,'o',label=d,color=my_colors[i],alpha=0.35)\n",
    "    means_drugs.append((temp.PC1.mean(),temp.PC2.mean()))\n",
    "plt.plot(*np.array(means_drugs).T,'x--',ms=10,color='k',alpha=0.95);\n",
    "\n",
    "\n",
    "plt.legend(title='\\u03BCg / ml',fontsize=14,bbox_to_anchor=(.7,1.1))\n",
    "for i in [0,1]:\n",
    "    ax[i].spines['right'].set_visible(False)\n",
    "    ax[i].spines['top'].set_visible(False)\n",
    "plt.xlim(principalComponents.T[0].min()-.5,principalComponents.T[0].max()+.5)\n",
    "plt.ylim(principalComponents.T[0].min()-.5,principalComponents.T[0].max()+.5);\n",
    "#plt.xlabel('PC1\\n%s%s Variance Explained'%(var_explained[0],'%'),fontsize=14);\n",
    "plt.xlabel('PC1',fontsize=14);\n",
    "plt.subplots_adjust(wspace=0.08)\n",
    "plt.savefig('./Cdx_functional_pca_tempxdurg.png',dpi=150,bbox_inches='tight');"
   ]
  },
  {
   "cell_type": "code",
   "execution_count": null,
   "metadata": {},
   "outputs": [],
   "source": [
    "from statsmodels.multivariate.manova import MANOVA"
   ]
  },
  {
   "cell_type": "code",
   "execution_count": null,
   "metadata": {},
   "outputs": [],
   "source": [
    "pca_by_con = pca_by_con.sort_values(['temp','amphB','strain'])"
   ]
  },
  {
   "cell_type": "code",
   "execution_count": null,
   "metadata": {},
   "outputs": [],
   "source": [
    "pca_by_con.head()"
   ]
  },
  {
   "cell_type": "code",
   "execution_count": null,
   "metadata": {},
   "outputs": [],
   "source": [
    "X.shape"
   ]
  },
  {
   "cell_type": "code",
   "execution_count": null,
   "metadata": {},
   "outputs": [],
   "source": [
    "pctemp = pca_by_con[(pca_by_con.temp==37) & (pca_by_con.amphB==0.075)].copy()\n",
    "pctemp.index= pctemp.strain"
   ]
  },
  {
   "cell_type": "code",
   "execution_count": null,
   "metadata": {},
   "outputs": [],
   "source": [
    "pctemp.shape"
   ]
  },
  {
   "cell_type": "code",
   "execution_count": null,
   "metadata": {},
   "outputs": [],
   "source": [
    "pc1_mw = []\n",
    "pc = pctemp['PC3'].values\n",
    "for i,j in X[pctemp.strain].iterrows():\n",
    "    p0 = pc[(j.values==0)]\n",
    "    p1 = pc[(j.values==1)]\n",
    "    mann_pvalue = ss.mannwhitneyu(p0,p1).pvalue\n",
    "    pc1_mw.append(-np.log10(mann_pvalue))"
   ]
  },
  {
   "cell_type": "code",
   "execution_count": null,
   "metadata": {},
   "outputs": [],
   "source": [
    "pvaldf = geno_df.T[loci].T[['Pos','Chrom']]"
   ]
  },
  {
   "cell_type": "code",
   "execution_count": null,
   "metadata": {},
   "outputs": [],
   "source": [
    "pvaldf['PC1_pval'] = pc1_mw"
   ]
  },
  {
   "cell_type": "code",
   "execution_count": null,
   "metadata": {},
   "outputs": [],
   "source": [
    "fig, ax = plt.subplots(1,3,figsize=(15,3),sharey=True)\n",
    "for k, i in enumerate(pvaldf.columns[2:]):\n",
    "    plt.sca(ax[k])\n",
    "    for j, c in enumerate(chrlist):\n",
    "        \n",
    "        pt = pvaldf[(pvaldf.Chrom==c)]\n",
    "        plt.plot( pt.Pos.values+cumpos[j], pt[i].values,'.',ms=2)"
   ]
  },
  {
   "cell_type": "code",
   "execution_count": null,
   "metadata": {},
   "outputs": [],
   "source": []
  },
  {
   "cell_type": "code",
   "execution_count": null,
   "metadata": {},
   "outputs": [],
   "source": []
  },
  {
   "cell_type": "code",
   "execution_count": null,
   "metadata": {},
   "outputs": [],
   "source": [
    "def crypto_mann(x,y):\n",
    "    \n",
    "    p0 = y[(x==0)].values\n",
    "    p1 = y[(x==1)].values\n",
    "    ss.mannwhitneyu(p0,p1)"
   ]
  },
  {
   "cell_type": "code",
   "execution_count": null,
   "metadata": {},
   "outputs": [],
   "source": []
  },
  {
   "cell_type": "code",
   "execution_count": null,
   "metadata": {},
   "outputs": [],
   "source": []
  },
  {
   "cell_type": "code",
   "execution_count": null,
   "metadata": {},
   "outputs": [],
   "source": []
  },
  {
   "cell_type": "code",
   "execution_count": null,
   "metadata": {},
   "outputs": [],
   "source": []
  },
  {
   "cell_type": "code",
   "execution_count": null,
   "metadata": {},
   "outputs": [],
   "source": [
    "xs = X.T.reset_index().copy()\n",
    "xs.columns = ['strain'] + xs.columns[1:].tolist()"
   ]
  },
  {
   "cell_type": "code",
   "execution_count": null,
   "metadata": {},
   "outputs": [],
   "source": [
    "pca_merg = pca_by_con.merge(xs)"
   ]
  },
  {
   "cell_type": "code",
   "execution_count": null,
   "metadata": {},
   "outputs": [],
   "source": [
    "pca_merg[(pca_merg.strain=='SS-A837')][X.index].drop_duplicates().T.drop_duplicates().shape[0] == 1"
   ]
  },
  {
   "cell_type": "code",
   "execution_count": null,
   "metadata": {},
   "outputs": [],
   "source": [
    "pca_col6 = pca_merg.columns.tolist()[:6]\n",
    "pca_col7 = ['L%s'%c for c in pca_merg.columns.tolist()[6:]]\n",
    "pca_merg.columns = pca_col6 + pca_col7"
   ]
  },
  {
   "cell_type": "code",
   "execution_count": null,
   "metadata": {},
   "outputs": [],
   "source": [
    "pca_merg.head()"
   ]
  },
  {
   "cell_type": "code",
   "execution_count": null,
   "metadata": {},
   "outputs": [],
   "source": [
    "geno_df[(geno_df.Block==533)].index[0]"
   ]
  },
  {
   "cell_type": "code",
   "execution_count": null,
   "metadata": {},
   "outputs": [],
   "source": [
    "condf = pca_merg[['temp','amphB']].drop_duplicates()"
   ]
  },
  {
   "cell_type": "code",
   "execution_count": null,
   "metadata": {},
   "outputs": [],
   "source": [
    "condf"
   ]
  },
  {
   "cell_type": "code",
   "execution_count": null,
   "metadata": {},
   "outputs": [],
   "source": [
    "pvalues = [[MANOVA.from_formula('PC1 + PC2 + PC3 ~  %s'%k, data=pca_merg[(pca_merg.temp==j.temp) &\n",
    "            (pca_merg.amphB==j.amphB)]).mv_test().results[k]['stat']['Pr > F'].values[0] \n",
    "         for k in pca_col7] \n",
    "        for i,j in condf.iterrows()]"
   ]
  },
  {
   "cell_type": "markdown",
   "metadata": {},
   "source": [
    "pval_test = X.apply(association_logPval,args = [test_df.T[X.columns].T['PC1']],axis=1)"
   ]
  },
  {
   "cell_type": "code",
   "execution_count": null,
   "metadata": {},
   "outputs": [],
   "source": [
    "len(pvalues)"
   ]
  },
  {
   "cell_type": "code",
   "execution_count": null,
   "metadata": {},
   "outputs": [],
   "source": [
    "pvaldf = pd.DataFrame(-np.log10(np.array(pvalues))).T"
   ]
  },
  {
   "cell_type": "code",
   "execution_count": null,
   "metadata": {},
   "outputs": [],
   "source": [
    "pvaldf.index = X.index"
   ]
  },
  {
   "cell_type": "code",
   "execution_count": null,
   "metadata": {},
   "outputs": [],
   "source": [
    "pvaldf.head()"
   ]
  },
  {
   "cell_type": "code",
   "execution_count": null,
   "metadata": {},
   "outputs": [],
   "source": [
    "pvaldf[['Pos','Chrom']] = geno_df[['Pos','Chrom']].T[X.index].T"
   ]
  },
  {
   "cell_type": "code",
   "execution_count": null,
   "metadata": {},
   "outputs": [],
   "source": [
    "pvaldf.head()"
   ]
  },
  {
   "cell_type": "code",
   "execution_count": null,
   "metadata": {},
   "outputs": [],
   "source": [
    "fig, ax= plt.subplots(3,4,figsize=(15,6),sharey=True)\n",
    "\n",
    "for i, td in condf.iterrows():\n",
    "    \n",
    "    plt.sca(ax.ravel()[i])\n",
    "    \n",
    "    pval = pvaldf[[i]+['Pos','Chrom']]\n",
    "    plt.xticks(chrom_midpts,np.arange(len(chrlist))+1,fontsize=6)\n",
    "    for j, c in enumerate(chrlist):\n",
    "        \n",
    "        pt = pval[(pval.Chrom==c)]\n",
    "        plt.plot( pt.Pos.values+cumpos[j], pt[i].values,'.',ms=2)\n",
    "plt.subplots_adjust(wspace=0.091);\n",
    "#plt.sca(ax[1,0]);plt.ylabel('$-log_{10} ( p-value )$',fontsize=14)\n",
    "plt.sca(ax[-1,-1]);plt.axis('off');\n",
    "\n",
    "for i,d in enumerate(drugs):\n",
    "    plt.sca(ax[0,i])\n",
    "    plt.title(u'Amphotericin B\\n%s \\u03BCg/ml'%(d) if i == 0 else u'%s \\u03BCg/ml'%(d),fontsize=14)\n",
    "    \n",
    "for i,t in enumerate(temps):\n",
    "    plt.sca(ax[i,0])\n",
    "    plt.ylabel(u'Temperature\\n%s \\u00B0C\\n\\n$-log_{10} ( p-value )$'%(t) \n",
    "               if i == 1 else '\\n%s \\u00B0C\\n\\n'%(t),fontsize=14);\n",
    "plt.subplots_adjust(wspace=0.05)\n",
    "plt.sca(ax[-1,1]);plt.xlabel('Chromosomes',fontsize=14)\n",
    "plt.savefig('/home/croth/Desktop/Cdx_PCA_QTL.png',dpi=100,bbox_inches='tight')"
   ]
  },
  {
   "cell_type": "code",
   "execution_count": null,
   "metadata": {},
   "outputs": [],
   "source": [
    "8 /20"
   ]
  },
  {
   "cell_type": "code",
   "execution_count": null,
   "metadata": {},
   "outputs": [],
   "source": []
  },
  {
   "cell_type": "code",
   "execution_count": null,
   "metadata": {},
   "outputs": [],
   "source": []
  },
  {
   "cell_type": "code",
   "execution_count": null,
   "metadata": {},
   "outputs": [],
   "source": [
    "temp_pca = pca_merg[(pca_merg.temp==30) & (pca_merg.amphB==0.0)].copy()"
   ]
  },
  {
   "cell_type": "code",
   "execution_count": null,
   "metadata": {},
   "outputs": [],
   "source": [
    "strains = temp_pca.strain.tolist()"
   ]
  },
  {
   "cell_type": "code",
   "execution_count": null,
   "metadata": {},
   "outputs": [],
   "source": [
    "temp_pca.head()"
   ]
  },
  {
   "cell_type": "code",
   "execution_count": null,
   "metadata": {},
   "outputs": [],
   "source": [
    "#assert np.sum([temp_pca[['PC1','PC2','PC3','strain']].sample(n=104).strain.unique().shape[0] == 104 \n",
    "#        for i in range(1000)]) == 1000"
   ]
  },
  {
   "cell_type": "code",
   "execution_count": null,
   "metadata": {},
   "outputs": [],
   "source": []
  },
  {
   "cell_type": "code",
   "execution_count": null,
   "metadata": {},
   "outputs": [],
   "source": []
  },
  {
   "cell_type": "code",
   "execution_count": null,
   "metadata": {},
   "outputs": [],
   "source": [
    "perms"
   ]
  },
  {
   "cell_type": "code",
   "execution_count": null,
   "metadata": {},
   "outputs": [],
   "source": [
    "pca_merg[(pca_merg.temp==37) & (pca_merg.amphB==0.125)].head()"
   ]
  },
  {
   "cell_type": "code",
   "execution_count": null,
   "metadata": {},
   "outputs": [],
   "source": [
    "tpca = temp_pca[['PC1','PC2','PC3']].sample(n=104)"
   ]
  },
  {
   "cell_type": "code",
   "execution_count": null,
   "metadata": {},
   "outputs": [],
   "source": [
    "fails"
   ]
  },
  {
   "cell_type": "code",
   "execution_count": null,
   "metadata": {},
   "outputs": [],
   "source": [
    "perms"
   ]
  },
  {
   "cell_type": "code",
   "execution_count": null,
   "metadata": {},
   "outputs": [],
   "source": [
    "pmax = []\n",
    "perms  = 0\n",
    "fails = 0\n",
    "temp_pca = pca_merg[(pca_merg.temp==37) & (pca_merg.amphB==0.125)].copy()\n",
    "while perms < 1000:\n",
    "    \n",
    "    \n",
    "    shuf_pca = temp_pca[['PC1','PC2','PC3']].sample(n=104).copy()\n",
    "    shuf_pca[pca_col7] = temp_pca[pca_col7]\n",
    "    \n",
    "    \n",
    "    try:\n",
    "        mp = np.min([MANOVA.from_formula('PC1 + PC2 + PC3 ~ %s'%k, \n",
    "            data=shuf_pca ).mv_test().results[k]['stat']['Pr > F'].values[0] \n",
    "                 for k in pca_col7])\n",
    "        pmax.append(mp)\n",
    "        perms = perms + 1\n",
    "        \n",
    "    except np.linalg.LinAlgError as err:\n",
    "        fails = fails + 1\n",
    "    #print(perms)"
   ]
  },
  {
   "cell_type": "code",
   "execution_count": null,
   "metadata": {},
   "outputs": [],
   "source": [
    "np.percentile(-np.log10(np.array(pmax)),95)"
   ]
  },
  {
   "cell_type": "code",
   "execution_count": null,
   "metadata": {},
   "outputs": [],
   "source": []
  },
  {
   "cell_type": "code",
   "execution_count": null,
   "metadata": {},
   "outputs": [],
   "source": [
    "pvalues = [[MANOVA.from_formula('PC1 + PC2 + PC3 ~  %s'%k, data=pca_merg[(pca_merg.temp==j.temp) &\n",
    "            (pca_merg.amphB==j.amphB)]).mv_test().results[k]['stat']['Pr > F'].values[0] \n",
    "         for k in pca_col7] \n",
    "        for i,j in condf.iterrows()]"
   ]
  },
  {
   "cell_type": "code",
   "execution_count": null,
   "metadata": {},
   "outputs": [],
   "source": []
  },
  {
   "cell_type": "code",
   "execution_count": null,
   "metadata": {},
   "outputs": [],
   "source": []
  },
  {
   "cell_type": "code",
   "execution_count": null,
   "metadata": {},
   "outputs": [],
   "source": []
  },
  {
   "cell_type": "code",
   "execution_count": null,
   "metadata": {},
   "outputs": [],
   "source": [
    "temp = X.apply()"
   ]
  },
  {
   "cell_type": "code",
   "execution_count": null,
   "metadata": {},
   "outputs": [],
   "source": [
    "temp = MANOVA.from_formula('PC1 + PC2 ~ L15560',data=test_for_mv).mv_test()"
   ]
  },
  {
   "cell_type": "code",
   "execution_count": null,
   "metadata": {},
   "outputs": [],
   "source": [
    "print(temp)"
   ]
  },
  {
   "cell_type": "code",
   "execution_count": null,
   "metadata": {},
   "outputs": [],
   "source": [
    "maov = [MANOVA.from_formula('PC1 + PC2 ~ %s'%k,\n",
    "                            data=test_for_mv).mv_test().results[k]['stat']['Pr > F'].values[0] \n",
    "            for k in xl.index]"
   ]
  },
  {
   "cell_type": "code",
   "execution_count": null,
   "metadata": {},
   "outputs": [],
   "source": [
    "    "
   ]
  },
  {
   "cell_type": "code",
   "execution_count": null,
   "metadata": {},
   "outputs": [],
   "source": [
    "test.head()"
   ]
  },
  {
   "cell_type": "code",
   "execution_count": null,
   "metadata": {},
   "outputs": [],
   "source": []
  },
  {
   "cell_type": "code",
   "execution_count": null,
   "metadata": {},
   "outputs": [],
   "source": []
  },
  {
   "cell_type": "code",
   "execution_count": null,
   "metadata": {},
   "outputs": [],
   "source": []
  },
  {
   "cell_type": "code",
   "execution_count": null,
   "metadata": {},
   "outputs": [],
   "source": []
  },
  {
   "cell_type": "code",
   "execution_count": null,
   "metadata": {},
   "outputs": [],
   "source": [
    "pc1_txd = pd.DataFrame([a[1]['PC1'].T.values for a in \n",
    "              pca_by_con.sort_values(['strain','temp','amphB']).groupby('strain')])\n",
    "pc1_txd.index = [a[0] for a in pca_by_con.sort_values(['strain','temp','amphB']).groupby('strain')]"
   ]
  },
  {
   "cell_type": "code",
   "execution_count": null,
   "metadata": {},
   "outputs": [],
   "source": [
    "pca_by_con[(pca_by_con.strain=='SS-A837')\n",
    "                    ].sort_values(['strain','temp','amphB'])[['temp','amphB']]"
   ]
  },
  {
   "cell_type": "code",
   "execution_count": null,
   "metadata": {},
   "outputs": [],
   "source": [
    "pc1_txd.columns = ['k%s'%s for s in pc1_txd.columns]"
   ]
  },
  {
   "cell_type": "code",
   "execution_count": null,
   "metadata": {},
   "outputs": [],
   "source": [
    "pc1_txd.head()"
   ]
  },
  {
   "cell_type": "code",
   "execution_count": null,
   "metadata": {},
   "outputs": [],
   "source": [
    "X.head()"
   ]
  },
  {
   "cell_type": "code",
   "execution_count": null,
   "metadata": {},
   "outputs": [],
   "source": [
    "X.index = ['L%s'%(s) for s in X.index]"
   ]
  },
  {
   "cell_type": "code",
   "execution_count": null,
   "metadata": {},
   "outputs": [],
   "source": [
    "pc1_txd_man = pd.concat([pc1_txd,X[pc1_txd.index].T],axis=1)"
   ]
  },
  {
   "cell_type": "code",
   "execution_count": null,
   "metadata": {},
   "outputs": [],
   "source": [
    "pc1_txd_man.head()"
   ]
  },
  {
   "cell_type": "code",
   "execution_count": null,
   "metadata": {},
   "outputs": [],
   "source": [
    "X.head()"
   ]
  },
  {
   "cell_type": "code",
   "execution_count": null,
   "metadata": {},
   "outputs": [],
   "source": [
    "np.random.permutation(X.columns)"
   ]
  },
  {
   "cell_type": "code",
   "execution_count": null,
   "metadata": {},
   "outputs": [],
   "source": [
    "pval_max_null = []\n",
    "for i in range(1000):\n",
    "    \n",
    "    Y = X.T.copy()\n",
    "    newix = np.random.permutation(Y.index.values)\n",
    "    Y.index = newix\n",
    "    \n",
    "    pc1_txd_man = pd.concat([pc1_txd,Y.T[pc1_txd.index].T],axis=1)\n",
    "    \n",
    "    maov = [MANOVA.from_formula('k0 + k1 + k2 + k3 + k4 + k5 + k6 + k7 + k8 + k9 + k10 ~ %s'%k,\n",
    "                            data=pc1_txd_man).mv_test().results[k]['stat']['Pr > F'].values[0] \n",
    "            for k in X.index]\n",
    "    \n",
    "    pval_max_null.append(np.max(maov))"
   ]
  },
  {
   "cell_type": "code",
   "execution_count": null,
   "metadata": {},
   "outputs": [],
   "source": [
    "pwd"
   ]
  },
  {
   "cell_type": "code",
   "execution_count": null,
   "metadata": {},
   "outputs": [],
   "source": [
    "maov = [MANOVA.from_formula('k0 + k1 + k2 + k3 + k4 + k5 + k6 + k7 + k8 + k9 + k10 ~ %s'%k,\n",
    "                            data=pc1_txd_man).mv_test().results[k]['stat']['Pr > F'].values[0] \n",
    "        for k in X.index]"
   ]
  },
  {
   "cell_type": "code",
   "execution_count": null,
   "metadata": {},
   "outputs": [],
   "source": [
    "qtl_test = - np.log10(np.array(maov))"
   ]
  },
  {
   "cell_type": "code",
   "execution_count": null,
   "metadata": {},
   "outputs": [],
   "source": [
    "qtl_test.max()"
   ]
  },
  {
   "cell_type": "code",
   "execution_count": null,
   "metadata": {},
   "outputs": [],
   "source": [
    "pvaldf = geno_df.T[loci].T[['Chrom','Pos']].copy()"
   ]
  },
  {
   "cell_type": "code",
   "execution_count": null,
   "metadata": {},
   "outputs": [],
   "source": [
    "pvaldf['Pval'] = qtl_test"
   ]
  },
  {
   "cell_type": "code",
   "execution_count": null,
   "metadata": {},
   "outputs": [],
   "source": [
    "pvaldf.head()"
   ]
  },
  {
   "cell_type": "code",
   "execution_count": null,
   "metadata": {},
   "outputs": [],
   "source": [
    "tpd = pvaldf[(pvaldf.Chrom=='Chr12')]\n",
    "plt.plot(tpd.Pos.values,tpd.Pval.values,'-.');"
   ]
  },
  {
   "cell_type": "code",
   "execution_count": null,
   "metadata": {},
   "outputs": [],
   "source": [
    "fig,ax = plt.subplots(1,1,figsize=(12,3))\n",
    "for c,chrom in enumerate(pvaldf.Chrom.unique()):\n",
    "    tpd = pvaldf[(pvaldf.Chrom==chrom)]\n",
    "    plt.plot(tpd.Pos+cumpos[c],tpd.Pval.values,'.');"
   ]
  },
  {
   "cell_type": "code",
   "execution_count": null,
   "metadata": {},
   "outputs": [],
   "source": [
    "fig,ax = plt.subplots(1,1,figsize=(12,3))\n",
    "for c,chrom in enumerate(pvaldf.Chrom.unique()):\n",
    "    tpd = pvaldf[(pvaldf.Chrom==chrom)]\n",
    "    plt.plot(tpd.Pos+cumpos[c],tpd.Pval.values,'.');"
   ]
  },
  {
   "cell_type": "code",
   "execution_count": null,
   "metadata": {},
   "outputs": [],
   "source": [
    "print(maov.mv_test())"
   ]
  },
  {
   "cell_type": "code",
   "execution_count": null,
   "metadata": {},
   "outputs": [],
   "source": [
    "maov"
   ]
  },
  {
   "cell_type": "code",
   "execution_count": null,
   "metadata": {},
   "outputs": [],
   "source": [
    "maov.mv_test().results['LL0']['stat']['Hotelling-Lawley trace',4]"
   ]
  },
  {
   "cell_type": "code",
   "execution_count": null,
   "metadata": {},
   "outputs": [],
   "source": [
    "mult_test = []\n",
    "for i,j in X.iterrows():\n",
    "    \n",
    "    "
   ]
  },
  {
   "cell_type": "code",
   "execution_count": null,
   "metadata": {},
   "outputs": [],
   "source": []
  },
  {
   "cell_type": "code",
   "execution_count": null,
   "metadata": {},
   "outputs": [],
   "source": []
  },
  {
   "cell_type": "code",
   "execution_count": null,
   "metadata": {},
   "outputs": [],
   "source": []
  },
  {
   "cell_type": "code",
   "execution_count": null,
   "metadata": {},
   "outputs": [],
   "source": []
  },
  {
   "cell_type": "code",
   "execution_count": null,
   "metadata": {},
   "outputs": [],
   "source": []
  },
  {
   "cell_type": "code",
   "execution_count": null,
   "metadata": {},
   "outputs": [],
   "source": []
  },
  {
   "cell_type": "code",
   "execution_count": null,
   "metadata": {},
   "outputs": [],
   "source": [
    "ch14b = qtlmax_info[(qtlmax_info.Chrom=='Chr14')]['Block'].min()\n",
    "ch14QTL = geno_df[(geno_df.Block==ch14b)][segs][segs].drop_duplicates().T.reset_index()\n",
    "ch14QTL.columns = ['strain','Chr14']"
   ]
  },
  {
   "cell_type": "code",
   "execution_count": null,
   "metadata": {},
   "outputs": [],
   "source": [
    "pca_by_con = pca_by_con.merge(ch14QTL)"
   ]
  },
  {
   "cell_type": "code",
   "execution_count": null,
   "metadata": {},
   "outputs": [],
   "source": [
    "np.round(pca.explained_variance_ratio_[1]*100,3)"
   ]
  },
  {
   "cell_type": "code",
   "execution_count": null,
   "metadata": {},
   "outputs": [],
   "source": [
    "fig,ax = plt.subplots(3,4,figsize=(8,5),\n",
    "                      sharey=True,sharex=True);\n",
    "for i,t in enumerate(temps):\n",
    "    for j,d in enumerate(drugs):\n",
    "        plt.sca(ax[i,j])\n",
    "        if i == 0:\n",
    "            plt.title(u'%s \\u03BCg/ml'%(d))\n",
    "        k = pca_by_con[(pca_by_con.amphB==d) & \n",
    "                       (pca_by_con.temp==t)]\n",
    "        if k.shape[0] == 0:\n",
    "            continue\n",
    "        plt.plot(k.PC1,k.PC2,'.',color='grey',alpha=0.2,\n",
    "                 label='Segregant' if i == 2 and j == 2 else None)\n",
    "        plt.plot(k[(k.strain=='SS-A837')].PC1,\n",
    "                 k[(k.strain=='SS-A837')].PC2,\n",
    "                 '^',color='tab:orange',alpha=0.5,\n",
    "                 label='431'+u'\\u03B1' if i == 2 and j == 2 else None)\n",
    "        plt.plot(k[(k.strain=='XL280a')].PC1,\n",
    "                 k[(k.strain=='XL280a')].PC2,\n",
    "                 '^',color='tab:blue',alpha=0.5,\n",
    "                 label='XL280' if i == 2 and j == 2 else None)\n",
    "pad = 1\n",
    "plt.xlim(pca_by_con.PC1.min()-pad,pca_by_con.PC1.max()+pad)\n",
    "plt.ylim(pca_by_con.PC1.min()-pad,pca_by_con.PC1.max()+pad)\n",
    "plt.sca(ax[-1,1]);\n",
    "plt.xlabel('PC1 (%s %s Variation Explained)'%(\n",
    "    np.round(pca.explained_variance_ratio_[0]*100,1),'%'))\n",
    "plt.sca(ax[1,0])\n",
    "plt.ylabel('PC2 (%s %s Variation Explained)'%(\n",
    "    np.round(pca.explained_variance_ratio_[1]*100,1),'%'))\n",
    "plt.sca(ax[-1,-1]);plt.axis('off');\n",
    "for i,t in enumerate(temps):\n",
    "    fig.text(-0.01,.75-(.25*i),'%s °C'%(t))\n",
    "plt.subplots_adjust(wspace=0.1,hspace=0.1);"
   ]
  },
  {
   "cell_type": "code",
   "execution_count": null,
   "metadata": {},
   "outputs": [],
   "source": [
    "fig,ax = plt.subplots(3,4,figsize=(8,5),\n",
    "                      sharey=True);\n",
    "for i,t in enumerate(temps):\n",
    "    for j,d in enumerate(drugs):\n",
    "        plt.sca(ax[i,j])\n",
    "        if i == 0:\n",
    "            plt.title(u'%s \\u03BCg/ml'%(d))\n",
    "        k = pca_by_con[(pca_by_con.amphB==d) & \n",
    "                       (pca_by_con.temp==t)]\n",
    "        if k.shape[0] == 0:\n",
    "            continue\n",
    "        plt.hist(k.PC1,color='k',alpha=0.2,\n",
    "                 label='Segregant' if i == 2 and j == 2 else None)\n",
    "        plt.vlines(k[(k.strain=='SS-A837')].PC1,0,25,color='tab:orange',alpha=0.5,\n",
    "                 label='431'+u'\\u03B1' if i == 2 and j == 2 else None)\n",
    "        plt.vlines(k[(k.strain=='XL280a')].PC1,0,25,color='tab:blue',alpha=0.5,\n",
    "                 label='XL280' if i == 2 and j == 2 else None)\n",
    "        \n",
    "plt.sca(ax[-1,1]);\n",
    "plt.xlabel('PC1 (%s %s Variation Explained)'%(\n",
    "    np.round(pca.explained_variance_ratio_[0]*100,1),'%'))\n",
    "plt.sca(ax[1,0])\n",
    "plt.ylabel('Number of Segregants')\n",
    "plt.sca(ax[-1,-1]);plt.axis('off');\n",
    "for i,t in enumerate(temps):\n",
    "    fig.text(-0.01,.75-(.25*i),'%s °C'%(t))\n",
    "plt.subplots_adjust(wspace=0.1,hspace=0.25);"
   ]
  },
  {
   "cell_type": "code",
   "execution_count": null,
   "metadata": {},
   "outputs": [],
   "source": [
    "pvals = []\n",
    "colnames = []\n",
    "for i,t in enumerate(temps):\n",
    "    for j,d in enumerate(drugs):\n",
    "       \n",
    "        k = pca_by_con[(pca_by_con.amphB==d) & \n",
    "                       (pca_by_con.temp==t)]\n",
    "        if k.shape[0] == 0:\n",
    "            continue\n",
    "        k.index = k.strain\n",
    "        pval = X.apply(association_logPval,axis=1,args=[k['PC1']])\n",
    "        pvals.append(pval)\n",
    "        colnames.append('%s_%s'%(t,d))"
   ]
  },
  {
   "cell_type": "code",
   "execution_count": null,
   "metadata": {},
   "outputs": [],
   "source": [
    "len(pvals)"
   ]
  },
  {
   "cell_type": "code",
   "execution_count": null,
   "metadata": {},
   "outputs": [],
   "source": [
    "pvals_df = pd.DataFrame(pvals).T\n",
    "pvals_df.columns = colnames\n",
    "pvals_df[['Chrom','Pos']] = geno_df.T[loci].T[['Chrom','Pos']]"
   ]
  },
  {
   "cell_type": "code",
   "execution_count": null,
   "metadata": {},
   "outputs": [],
   "source": [
    "plt.style.use(['tableau-colorblind10'])"
   ]
  },
  {
   "cell_type": "code",
   "execution_count": null,
   "metadata": {},
   "outputs": [],
   "source": [
    "fig,ax = plt.subplots(3,4,figsize=(15,7),sharey=True);\n",
    "for i,t in enumerate(temps):\n",
    "    for j,d in enumerate(drugs):\n",
    "        plt.sca(ax[i,j])\n",
    "        if t == 39 and d == 0.175:\n",
    "            continue\n",
    "        if i == 0:\n",
    "            plt.title(u'%s \\u03BCg/ml'%(d))\n",
    "        for c, chrom in enumerate(chrlist):\n",
    "            temp = pvals_df[(pvals_df.Chrom == chrom)]\n",
    "            plt.plot(temp.Pos.values+cumpos[c],temp['%s_%s'%(t,d)].values,'.')\n",
    "        \n",
    "        \n",
    "                         \n",
    "        ax[i,j].set_xticks(chrom_midpts);\n",
    "        plt.xticks(chrom_midpts,np.arange(1,len(chrlist)+1),fontsize=6)\n",
    "plt.sca(ax[-1,-1]);plt.axis('off');\n",
    "for i,t in enumerate(temps):\n",
    "    fig.text(0.03,.75-(.25*i),'%s °C'%(t))\n",
    "plt.sca(ax[-1,1]);plt.xlabel('Chromosome')\n",
    "plt.subplots_adjust(wspace=0.1,hspace=0.25);"
   ]
  },
  {
   "cell_type": "code",
   "execution_count": null,
   "metadata": {},
   "outputs": [],
   "source": [
    "fig,ax = plt.subplots(1,1,figsize=(10,3))\n",
    "d = 0\n",
    "temp = pca_by_con[(pca_by_con.amphB==d) & (pca_by_con.temp==39)]\n",
    "for i in [0,1]:\n",
    "    tem = temp[(temp.Chr14==i)]\n",
    "    plt.plot(tem.PC1,tem.PC2,'.',label=d,color=my_colors[i],alpha=0.5)\n",
    "plt.plot(temp[(temp.strain=='SS-A837')].PC1,temp[(temp.strain=='SS-A837')].PC2,'r^')\n",
    "plt.plot(temp[(temp.strain=='XL280a')].PC1,temp[(temp.strain=='XL280a')].PC2,'b^');\n",
    "#plt.xlim(principalComponents.T[0].min(),principalComponents.T[0].max())\n",
    "#plt.ylim(principalComponents.T[0].min(),principalComponents.T[0].max());"
   ]
  },
  {
   "cell_type": "code",
   "execution_count": null,
   "metadata": {},
   "outputs": [],
   "source": [
    "fig,ax = plt.subplots(4,2,figsize=(10,10),sharey=True,sharex=True)\n",
    "for i,t in enumerate(temps):\n",
    "    plt.sca(ax[i,0])\n",
    "    for j,d in enumerate(drugs):\n",
    "        temp = pca_by_con[(pca_by_con.temp==t) & (pca_by_con.amphB==d)]\n",
    "        plt.plot(temp.PC1,temp.PC2,'.',label=d,color=my_colors[j],alpha=0.5)\n",
    "        plt.plot(temp.PC1.mean(),temp.PC2.mean(),'kx',ms=10)#,color=my_colors[i])\n",
    "        plt.legend(title=u'Amph B (ug/ml)')\n",
    "        plt.title('%s °C'%(t),y=.8)\n",
    "    plt.xlim(principalComponents.T[0].min(),principalComponents.T[0].max())\n",
    "    plt.ylim(principalComponents.T[0].min(),principalComponents.T[0].max());\n",
    "#plt.xlabel('PC1');plt.ylabel('PC2');\n",
    "#plt.legend(title=u'°C')\n",
    "for i,d in enumerate(drugs):\n",
    "    plt.sca(ax[i,1])\n",
    "    for j,t in enumerate(temps):\n",
    "        temp = pca_by_con[(pca_by_con.amphB==d) & (pca_by_con.temp==t) ]\n",
    "        if temp.shape[0] == 0:\n",
    "            continue\n",
    "        plt.plot(temp.PC1,temp.PC2,'.',label=t,color=my_colors[j],alpha=0.5)\n",
    "        plt.legend(title=u'°C')\n",
    "        plt.title('%s ug/ml'%(d),y=.8)\n",
    "        plt.plot(temp.PC1.mean(),temp.PC2.mean(),'kx',ms=10)#,color=my_colors[i])\n",
    "    plt.xlim(principalComponents.T[0].min(),principalComponents.T[0].max())\n",
    "    plt.ylim(principalComponents.T[0].min(),principalComponents.T[0].max());\n",
    "plt.sca(ax[0,0]);plt.ylabel('PC2');plt.sca(ax[-1,-1]);plt.xlabel('PC1')\n",
    "plt.sca(ax[-1,0]);plt.axis('off');\n",
    "plt.subplots_adjust(wspace=.1)"
   ]
  },
  {
   "cell_type": "code",
   "execution_count": null,
   "metadata": {},
   "outputs": [],
   "source": [
    "_431"
   ]
  },
  {
   "cell_type": "code",
   "execution_count": null,
   "metadata": {},
   "outputs": [],
   "source": [
    "fig, ax = plt.subplots(2,4,figsize=(15,10),sharex=True,sharey=True)\n",
    "plt.sca(ax[0,0])\n",
    "plt.plot(pca_by_con.PC1.values,pca_by_con.PC2.values,'.',color='tab:grey',alpha=.15);\n",
    "for i, t in enumerate(temps):\n",
    "    #for j, d in enumerate(drugs):\n",
    "    _431 = pca_by_con[(pca_by_con.temp==t) &\n",
    "                      (pca_by_con.strain=='SS-A837')]\n",
    "    plt.plot(_431.PC1.values,_431.PC2.values,'x-',color=my_colors[i],label=t);\n",
    "plt.legend(title='°C');\n",
    "plt.sca(ax[1,0])\n",
    "plt.plot(pca_by_con.PC1.values,pca_by_con.PC2.values,'.',color='tab:grey',alpha=.15);\n",
    "for i, t in enumerate(drugs):\n",
    "    #for j, d in enumerate(drugs):\n",
    "    _431 = pca_by_con[(pca_by_con.amphB==t) &\n",
    "                      (pca_by_con.strain=='SS-A837')]\n",
    "    plt.plot(_431.PC1.values,_431.PC2.values,'x-',color=my_colors[i],label=t);\n",
    "plt.legend(title='ug/ml');\n",
    "\n",
    "plt.sca(ax[0,1])\n",
    "plt.plot(pca_by_con.PC1.values,pca_by_con.PC2.values,'.',color='tab:grey',alpha=.15);\n",
    "for i, t in enumerate(temps):\n",
    "    #for j, d in enumerate(drugs):\n",
    "    _431 = pca_by_con[(pca_by_con.temp==t) &\n",
    "                      (pca_by_con.strain=='XL280a')]\n",
    "    plt.plot(_431.PC1.values,_431.PC2.values,'x-',color=my_colors[i],label=t);\n",
    "plt.legend(title='°C');\n",
    "plt.sca(ax[1,1])\n",
    "plt.plot(pca_by_con.PC1.values,pca_by_con.PC2.values,'.',color='tab:grey',alpha=.15);\n",
    "\n",
    "for i, t in enumerate(drugs):\n",
    "    #for j, d in enumerate(drugs):\n",
    "    _431 = pca_by_con[(pca_by_con.amphB==t) &\n",
    "                      (pca_by_con.strain=='XL280a')]\n",
    "    plt.plot(_431.PC1.values,_431.PC2.values,'x-',color=my_colors[i],label=t);\n",
    "plt.legend(title='ug/ml');\n",
    "\n",
    "\n",
    "\n",
    "\n",
    "s = 'SS-B354'\n",
    "plt.sca(ax[0,2])\n",
    "plt.plot(pca_by_con.PC1.values,pca_by_con.PC2.values,'.',color='tab:grey',alpha=.15);\n",
    "for i, t in enumerate(temps):\n",
    "    #for j, d in enumerate(drugs):\n",
    "    _431 = pca_by_con[(pca_by_con.temp==t) &\n",
    "                      (pca_by_con.strain==s)]\n",
    "    plt.plot(_431.PC1.values,_431.PC2.values,'x-',color=my_colors[i],label=t);\n",
    "plt.legend(title='°C');\n",
    "plt.sca(ax[1,2])\n",
    "plt.plot(pca_by_con.PC1.values,pca_by_con.PC2.values,'.',color='tab:grey',alpha=.15);\n",
    "\n",
    "for i, t in enumerate(drugs):\n",
    "    #for j, d in enumerate(drugs):\n",
    "    _431 = pca_by_con[(pca_by_con.amphB==t) &\n",
    "                      (pca_by_con.strain==s)]\n",
    "    plt.plot(_431.PC1.values,_431.PC2.values,'x-',color=my_colors[i],label=t);\n",
    "plt.legend(title='ug/ml');\n",
    "\n",
    "\n",
    "s = 'SS-B315'\n",
    "plt.sca(ax[0,3])\n",
    "plt.plot(pca_by_con.PC1.values,pca_by_con.PC2.values,'.',color='tab:grey',alpha=.15);\n",
    "for i, t in enumerate(temps):\n",
    "    #for j, d in enumerate(drugs):\n",
    "    _431 = pca_by_con[(pca_by_con.temp==t) &\n",
    "                      (pca_by_con.strain==s)]\n",
    "    plt.plot(_431.PC1.values,_431.PC2.values,'x-',color=my_colors[i],label=t);\n",
    "plt.legend(title='°C');\n",
    "plt.sca(ax[1,3])\n",
    "plt.plot(pca_by_con.PC1.values,pca_by_con.PC2.values,'.',color='tab:grey',alpha=.15);\n",
    "\n",
    "for i, t in enumerate(drugs):\n",
    "    #for j, d in enumerate(drugs):\n",
    "    _431 = pca_by_con[(pca_by_con.amphB==t) &\n",
    "                      (pca_by_con.strain==s)]\n",
    "    plt.plot(_431.PC1.values,_431.PC2.values,'x-',color=my_colors[i],label=t);\n",
    "plt.legend(title='ug/ml');\n",
    "#plt.plot(xl280.PC1,xl280.PC2,'-.',color='tab:blue');\n",
    "plt.xlim(principalComponents.T[0].min(),principalComponents.T[0].max())\n",
    "plt.ylim(principalComponents.T[0].min(),principalComponents.T[0].max());"
   ]
  },
  {
   "cell_type": "code",
   "execution_count": null,
   "metadata": {},
   "outputs": [],
   "source": [
    "import math\n",
    "def calculateDistance(x1,x2,y1,y2):\n",
    "    dist = math.sqrt((x2 - x1)**2 + (y2 - y1)**2)\n",
    "    return dist"
   ]
  },
  {
   "cell_type": "code",
   "execution_count": null,
   "metadata": {},
   "outputs": [],
   "source": [
    "test"
   ]
  },
  {
   "cell_type": "code",
   "execution_count": null,
   "metadata": {},
   "outputs": [],
   "source": [
    "drug_dist = []\n",
    "for s in segs:\n",
    "    test = pca_by_con[  (pca_by_con.strain==s) & \n",
    "                      #(pca_by_con.amphB==0.0) & \n",
    "                      (pca_by_con.temp== 39)\n",
    "          ][['PC1','PC2']]\n",
    "    k = test.PC1.max() - test.PC1.min()\n",
    "    drug_dist.append(k)"
   ]
  },
  {
   "cell_type": "markdown",
   "metadata": {},
   "source": [
    "drug_dist = []\n",
    "for s in segs:\n",
    "    test = pca_by_con[(pca_by_con.amphB==0.075) & \n",
    "           (pca_by_con.strain==s)][['PC1','PC2']]\n",
    "    k = 0\n",
    "    ix = test.index.tolist()\n",
    "    for i,j in enumerate(ix[:-1]):\n",
    "        x = test.T[[j,ix[i+1]]].T['PC1'].values\n",
    "        y = test.T[[j,ix[i+1]]].T['PC2'].values\n",
    "        dist = calculateDistance(x[0],x[1],y[0],y[1])\n",
    "        k = k + dist\n",
    "    drug_dist.append(k)"
   ]
  },
  {
   "cell_type": "code",
   "execution_count": null,
   "metadata": {},
   "outputs": [],
   "source": [
    "drug_dist_df = pd.DataFrame(drug_dist,index=segs)\n",
    "plt.hist(drug_dist,color='grey');\n",
    "plt.vlines(drug_dist_df[(drug_dist_df.index=='SS-A837')],0,12,\n",
    "           color='tab:orange');\n",
    "plt.vlines(drug_dist_df[(drug_dist_df.index=='XL280a')],0,12,\n",
    "           color='tab:blue');"
   ]
  },
  {
   "cell_type": "code",
   "execution_count": null,
   "metadata": {},
   "outputs": [],
   "source": [
    "dist_pval = pd.DataFrame(X.apply(association_logPval,axis=1,args=[drug_dist_df[0]]))\n",
    "dist_pval[['Chrom','Pos']] = geno_df.T[loci].T[['Chrom','Pos']]\n",
    "dist_pval.columns = ['Dist','Chrom','Pos']"
   ]
  },
  {
   "cell_type": "code",
   "execution_count": null,
   "metadata": {},
   "outputs": [],
   "source": [
    "fig, ax = plt.subplots(1,1,figsize=(12,3))\n",
    "for c,chrom in enumerate(chrlist):\n",
    "    pval = dist_pval[(dist_pval.Chrom==chrom)]\n",
    "    plt.plot(pval.Pos.values + cumpos[c], pval['Dist'].values,\n",
    "                 '.',ms=5,alpha=0.7);\n",
    "plt.xticks(chrom_midpts,np.arange(1,15));"
   ]
  },
  {
   "cell_type": "code",
   "execution_count": null,
   "metadata": {},
   "outputs": [],
   "source": []
  },
  {
   "cell_type": "code",
   "execution_count": null,
   "metadata": {},
   "outputs": [],
   "source": []
  },
  {
   "cell_type": "code",
   "execution_count": null,
   "metadata": {},
   "outputs": [],
   "source": [
    "pc1_39_0 = pca_by_con[(pca_by_con.amphB==0.125) & (pca_by_con.temp==37)][['strain','PC3']]\n",
    "pc1_39_0.index = pc1_39_0.strain\n",
    "pc1_39_0.head()"
   ]
  },
  {
   "cell_type": "code",
   "execution_count": null,
   "metadata": {},
   "outputs": [],
   "source": [
    "pc1_pval = pd.DataFrame(X.apply(association_logPval,axis=1,args=[pc1_39_0['PC3']]))"
   ]
  },
  {
   "cell_type": "code",
   "execution_count": null,
   "metadata": {},
   "outputs": [],
   "source": [
    "pc1_pval[['Chrom','Pos']] = geno_df.T[loci].T[['Chrom','Pos']]\n",
    "pc1_pval.columns = ['PC1','Chrom','Pos']"
   ]
  },
  {
   "cell_type": "code",
   "execution_count": null,
   "metadata": {},
   "outputs": [],
   "source": [
    "fig, ax = plt.subplots(1,1,figsize=(12,3))\n",
    "for c,chrom in enumerate(chrlist):\n",
    "    pval = pc1_pval[(pc1_pval.Chrom==chrom)]\n",
    "    plt.plot(pval.Pos.values + cumpos[c], pval['PC1'].values,\n",
    "                 '.',ms=5,alpha=0.7);\n",
    "plt.xticks(chrom_midpts,np.arange(1,15));"
   ]
  },
  {
   "cell_type": "code",
   "execution_count": null,
   "metadata": {},
   "outputs": [],
   "source": [
    "T = 30\n",
    "D = 0\n",
    "temp = df[(df.strain.isin(geno_strains)) & (df.temp==T) & (df.amphB==D) ]\n",
    "dfm = temp.groupby(temp.index).agg(np.median)[times_ixs]\n",
    "mc = dfm - dfm.mean()\n",
    "\n"
   ]
  },
  {
   "cell_type": "code",
   "execution_count": null,
   "metadata": {},
   "outputs": [],
   "source": [
    "pca.components_.shape"
   ]
  },
  {
   "cell_type": "code",
   "execution_count": null,
   "metadata": {},
   "outputs": [],
   "source": [
    "pca.explained_variance_"
   ]
  },
  {
   "cell_type": "code",
   "execution_count": null,
   "metadata": {},
   "outputs": [],
   "source": [
    "ran_segs = np.random.choice(dfm.index,50)"
   ]
  },
  {
   "cell_type": "code",
   "execution_count": null,
   "metadata": {},
   "outputs": [],
   "source": [
    "plt.plot(timex,dfm.T[ran_segs].values,color='grey',alpha=0.25);\n",
    "plt.plot(timex,dfm.mean(),'r--',alpha=0.7);\n",
    "plt.xlabel('Hours');plt.ylabel('OD');"
   ]
  },
  {
   "cell_type": "code",
   "execution_count": null,
   "metadata": {},
   "outputs": [],
   "source": [
    "fig,ax = plt.subplots(22,len(pca.explained_variance_),\n",
    "                      figsize=(15,5),sharey='row',sharex=True)\n",
    "plt.subplots_adjust(wspace=0.2,hspace=0.2)\n",
    "k = 1\n",
    "for i,c in enumerate(pca.components_):\n",
    "    plt.sca(ax[0,i])\n",
    "    plt.title('PC %s ( %s %s)'%(i+1,\n",
    "                                np.round(pca.explained_variance_ratio_[i],3)*100,'%'))\n",
    "    if i == 0:\n",
    "        plt.ylabel('Value of PC',fontsize=14)\n",
    "    plt.plot(timex,c,'k');\n",
    "    plt.sca(ax[1,i])\n",
    "    plt.plot(timex, dfm.mean() + (k*c),'k--')\n",
    "    plt.plot(timex, dfm.mean() - (k*c),'k-')\n",
    "    plt.plot(timex, dfm.mean(),'r');\n",
    "    if i == 0:\n",
    "        plt.ylabel('OD',fontsize=14)\n",
    "        plt.xlabel('Hours',fontsize=14)"
   ]
  },
  {
   "cell_type": "code",
   "execution_count": null,
   "metadata": {},
   "outputs": [],
   "source": [
    "from matplotlib import gridspec"
   ]
  },
  {
   "cell_type": "code",
   "execution_count": null,
   "metadata": {},
   "outputs": [],
   "source": [
    "TxD = df[(df.temp!=38)][['temp','amphB']].drop_duplicates().reset_index(drop=True)"
   ]
  },
  {
   "cell_type": "code",
   "execution_count": null,
   "metadata": {},
   "outputs": [],
   "source": [
    "TxD.head()"
   ]
  },
  {
   "cell_type": "code",
   "execution_count": null,
   "metadata": {},
   "outputs": [],
   "source": [
    "pca.components_.shape"
   ]
  },
  {
   "cell_type": "code",
   "execution_count": null,
   "metadata": {},
   "outputs": [],
   "source": [
    "fig = plt.figure(figsize=(30,12))\n",
    "outer = gridspec.GridSpec(3,4,wspace=.2,hspace=.5)\n",
    "k = 1\n",
    "for i in range(12):\n",
    "    if i == 11:\n",
    "        continue\n",
    "    txd = TxD.T[i].T\n",
    "    T = txd.temp.min()\n",
    "    D = txd.amphB.min()\n",
    "    temp = df[(df.strain.isin(geno_strains)) & (df.temp==T) & (df.amphB==D) ]\n",
    "    dfm = temp.groupby(temp.index).agg(np.median)[times_ixs]\n",
    "    mc = dfm - dfm.mean()\n",
    "    pca = PCA(ps)\n",
    "    principalComponents = pca.fit_transform(mc)\n",
    "    npcs = pca.components_.shape[0]\n",
    "    inner = gridspec.GridSpecFromSubplotSpec(2,npcs,\n",
    "                        subplot_spec=outer[i],wspace=0.05,hspace=0.05)\n",
    "    \n",
    "    for j in range(npcs):\n",
    "        ax = plt.Subplot(fig,inner[0,j])\n",
    "        fig.add_subplot(ax)\n",
    "        plt.plot(timex, pca.components_[j],label='PC' if i == 10 and j > 0 else None)\n",
    "        plt.ylim(pca.components_.min()+(.25*pca.components_.min()),\n",
    "                 pca.components_.max()+(.25*pca.components_.max()))\n",
    "        plt.title('PC %s\\n( %s %s)'%(j+1,\n",
    "                    str(np.round(pca.explained_variance_ratio_[j],3)*100)[:5],'%'))\n",
    "        if j > 0:\n",
    "            ax.set_yticks([],[])\n",
    "        if j == 0:\n",
    "            plt.ylabel('Value of\\nPC')\n",
    "        ax.set_xticks([],[])\n",
    "        if i == 10 and j > 0:\n",
    "            plt.legend(bbox_to_anchor=(1.2,.71),fontsize=14,frameon=False)\n",
    "\n",
    "    for j in range(npcs):\n",
    "        ax = plt.Subplot(fig,inner[1,j])\n",
    "        fig.add_subplot(ax)\n",
    "        c = pca.components_[j]\n",
    "        plt.plot(timex, dfm.mean(),'r',label='Mean' if i == 10 and j > 0 else None);\n",
    "        plt.plot(timex, dfm.mean() + (k*c),'k--',label = 'Mean + PC' if i == 10 and j > 0 else None)\n",
    "        plt.plot(timex, dfm.mean() - (k*c),'k-',label = 'Mean - PC' if i == 10 and j > 0 else None)\n",
    "        if j == 0:\n",
    "            plt.xlabel('Hours')\n",
    "            plt.ylabel('OD')\n",
    "        if j > 0:\n",
    "            ax.set_yticks([],[])\n",
    "        ax.set_xticks([0,24,48])\n",
    "        if i == 10 and j > 0:\n",
    "            plt.legend(bbox_to_anchor=(1.2,1.5),fontsize=14,frameon=False)\n",
    "for i,t in enumerate(temps):\n",
    "    fig.text(0.07,.8 - (.3*i), u'%s \\u00B0C'%(t),fontsize=14)\n",
    "for j,d in enumerate(drugs):\n",
    "    fig.text(.2+(.2*j),.95, u'%s \\u03BCg/ml'%(d),fontsize=14)\n",
    "#plt.savefig('/home/croth/Desktop/Cdx_functional_PCA.pdf',dpi=200,\n",
    "#            bbox_inches='tight')"
   ]
  },
  {
   "cell_type": "code",
   "execution_count": null,
   "metadata": {},
   "outputs": [],
   "source": [
    "pca.components_.max()"
   ]
  },
  {
   "cell_type": "code",
   "execution_count": null,
   "metadata": {},
   "outputs": [],
   "source": []
  },
  {
   "cell_type": "code",
   "execution_count": null,
   "metadata": {},
   "outputs": [],
   "source": [
    "np.floor(pca.components_.min())"
   ]
  },
  {
   "cell_type": "code",
   "execution_count": null,
   "metadata": {},
   "outputs": [],
   "source": []
  },
  {
   "cell_type": "code",
   "execution_count": null,
   "metadata": {},
   "outputs": [],
   "source": [
    "## For each pca gather the variance explained\n",
    "pca_explained = []\n",
    "for T in temps:\n",
    "    for D in drugs:\n",
    "        temp = df[(df.strain.isin(geno_strains)) & (df.temp==T) & (df.amphB==D) ]\n",
    "        if temp.shape[0] == 0:\n",
    "            continue\n",
    "        dfm = temp.groupby(temp.index).agg(np.median)[times_ixs]\n",
    "        pca = PCA(ps)\n",
    "        principalComponents = pca.fit_transform(dfm)\n",
    "        pca_explained.append((T,D,pca.explained_variance_ratio_))"
   ]
  },
  {
   "cell_type": "code",
   "execution_count": null,
   "metadata": {},
   "outputs": [],
   "source": [
    "## For each pca plot the variance explained\n",
    "fig,ax = plt.subplots(3,4,figsize=(12,5),sharey=True,sharex=True)\n",
    "for i,j in enumerate(pca_explained):\n",
    "    plt.sca(ax.ravel()[i])\n",
    "    pc = j[-1]\n",
    "    plt.bar(np.arange(len(pc))+1,\n",
    "        pc*100);\n",
    "    plt.plot(np.arange(len(pc))+1,\n",
    "         np.cumsum(pc)*100,\n",
    "         'ro-',label='Cumulative');\n",
    "    plt.text(1,50,str(int(np.round(pc[0]*100,0))),\n",
    "             color='w',va='center',ha='center',fontweight='bold')\n",
    "    plt.text(3,70,'%s °C\\n%s ug/ml'%(j[0],j[1]),va='center',ha='left')\n",
    "    plt.xticks(np.arange(1,6),fontsize=14)\n",
    "plt.sca(ax[-1,0]);plt.xlabel('PC',fontsize=14);\n",
    "plt.sca(ax[1,0]);plt.ylabel('Variance Explained',fontsize=14);\n",
    "plt.sca(ax[-1,-1]);plt.axis('off');\n",
    "#plt.savefig('../../FIGURES/Cdx_PCA_variance_explained.png',\n",
    "#            dpi=100,bbox_inches='tight');"
   ]
  },
  {
   "cell_type": "code",
   "execution_count": null,
   "metadata": {},
   "outputs": [],
   "source": [
    "seg_ixs = []\n",
    "for T in temps:\n",
    "    for D in drugs:\n",
    "        tdf = df[(df.strain.isin(geno_strains)) & (df.temp==T) & (df.amphB==D)]\n",
    "        if tdf.shape[0] == 0:\n",
    "            continue\n",
    "        dfm = tdf.groupby(tdf.index).agg(np.median)[times_ixs]\n",
    "        seg_ixs.append(dfm.index)\n",
    "assert pd.DataFrame(seg_ixs).drop_duplicates().shape[0]==1"
   ]
  },
  {
   "cell_type": "code",
   "execution_count": null,
   "metadata": {},
   "outputs": [],
   "source": [
    "pca_pheno = []\n",
    "for T in temps:\n",
    "    for D in drugs:\n",
    "        tdf = df[(df.strain.isin(geno_strains)) & (df.temp==T) & (df.amphB==D) ]\n",
    "        if tdf.shape[0] == 0:\n",
    "            break\n",
    "        dfm = tdf.groupby(tdf.index).agg(np.median)[times_ixs]\n",
    "        pca = PCA(ps)\n",
    "        principalComponents = pca.fit_transform(dfm)\n",
    "        pca_pheno.append((T,D,principalComponents))"
   ]
  },
  {
   "cell_type": "code",
   "execution_count": null,
   "metadata": {},
   "outputs": [],
   "source": [
    "len(pca_pheno)"
   ]
  },
  {
   "cell_type": "code",
   "execution_count": null,
   "metadata": {},
   "outputs": [],
   "source": [
    "X = geno_df.T[loci].T[dfm.index].astype(float)"
   ]
  },
  {
   "cell_type": "code",
   "execution_count": null,
   "metadata": {},
   "outputs": [],
   "source": [
    "pca_pheno[0][-1].shape"
   ]
  },
  {
   "cell_type": "code",
   "execution_count": null,
   "metadata": {},
   "outputs": [],
   "source": [
    "nsegs = np.arange(0,len(dfm.index))"
   ]
  },
  {
   "cell_type": "code",
   "execution_count": null,
   "metadata": {},
   "outputs": [],
   "source": [
    "perms = 1000\n",
    "pnsegs = np.array([np.random.permutation(nsegs) for p in range(perms)])"
   ]
  },
  {
   "cell_type": "code",
   "execution_count": null,
   "metadata": {},
   "outputs": [],
   "source": [
    "hk_lods_max = []\n",
    "for p in pnsegs:\n",
    "    hk_maxs =  [X.apply(hklod,axis=1,args=[Y[-1][p]]).max() for Y in pca_pheno]\n",
    "    hk_lods_max.append(hk_maxs)"
   ]
  },
  {
   "cell_type": "code",
   "execution_count": null,
   "metadata": {},
   "outputs": [],
   "source": [
    "max_hklods = pd.DataFrame(hk_lods_max)"
   ]
  },
  {
   "cell_type": "code",
   "execution_count": null,
   "metadata": {},
   "outputs": [],
   "source": [
    "max_hklods.shape"
   ]
  },
  {
   "cell_type": "code",
   "execution_count": null,
   "metadata": {},
   "outputs": [],
   "source": [
    "thres_temp = pd.DataFrame(max_hklods.apply(np.percentile,args=[95]))"
   ]
  },
  {
   "cell_type": "code",
   "execution_count": null,
   "metadata": {},
   "outputs": [],
   "source": [
    "thres_temp['temp'] = [a[0] for a in pca_pheno]"
   ]
  },
  {
   "cell_type": "code",
   "execution_count": null,
   "metadata": {},
   "outputs": [],
   "source": [
    "thres_temp['amphb'] = [a[1] for a in pca_pheno]"
   ]
  },
  {
   "cell_type": "code",
   "execution_count": null,
   "metadata": {},
   "outputs": [],
   "source": [
    "thres_temp.columns = ['0.05','Temp','AmphB']"
   ]
  },
  {
   "cell_type": "code",
   "execution_count": null,
   "metadata": {},
   "outputs": [],
   "source": [
    "thres_temp.to_csv('/home/croth/Desktop/Cdx_PCA_HK_thresholds.csv')"
   ]
  },
  {
   "cell_type": "code",
   "execution_count": null,
   "metadata": {},
   "outputs": [],
   "source": [
    "hk_lods =  [X.apply(hklod,axis=1,args=[Y[-1]]) for Y in pca_pheno]"
   ]
  },
  {
   "cell_type": "code",
   "execution_count": null,
   "metadata": {},
   "outputs": [],
   "source": [
    "hk_dfs = pd.DataFrame(hk_lods,index=['%s_%s'%(Y[0],Y[1]) for Y in pca_pheno]).T\n",
    "hk_dfs[['Chrom','Pos']] = geno_df.T[hk_dfs.index].T[['Chrom','Pos']]"
   ]
  },
  {
   "cell_type": "code",
   "execution_count": null,
   "metadata": {},
   "outputs": [],
   "source": [
    "hk_dfs.head()"
   ]
  },
  {
   "cell_type": "code",
   "execution_count": null,
   "metadata": {},
   "outputs": [],
   "source": [
    "thres_temp"
   ]
  },
  {
   "cell_type": "code",
   "execution_count": null,
   "metadata": {},
   "outputs": [],
   "source": [
    "j"
   ]
  },
  {
   "cell_type": "code",
   "execution_count": null,
   "metadata": {},
   "outputs": [],
   "source": [
    "plt.style.use(['tableau-colorblind10'])\n",
    "fig,ax = plt.subplots(len(temps),len(drugs),\n",
    "                      sharey=True,figsize=(20,6))\n",
    "for i,j in enumerate(hk_dfs.columns[:-2]):\n",
    "    plt.sca(ax.ravel()[i])\n",
    "    t = int(j.split('_')[0])\n",
    "    d = float(j.split('_')[-1])\n",
    "    h = thres_temp[(thres_temp.Temp==t) & (thres_temp.AmphB==d)]['0.05'].min()\n",
    "    plt.hlines(h,0,geno_df[(geno_df.Chrom=='Chr14')].Pos.max()+np.max(cumpos),\n",
    "              linestyles='--',alpha=0.5)\n",
    "    plt.title(u'%s°C %s ug/ml'%(j.split('_')[0],j.split('_')[1]),y=0.8)\n",
    "    for c,chrom in enumerate(chrlist):\n",
    "        pval = hk_dfs[(hk_dfs.Chrom==chrom)]\n",
    "        plt.plot(pval.Pos.values + cumpos[c], pval[j].values,\n",
    "                 '.',ms=5,alpha=0.7);\n",
    "    ax.ravel()[i].set_xticks(chrom_midpts);\n",
    "    if i > 6:\n",
    "        plt.xticks(chrom_midpts,np.arange(1,len(chrlist)+1),fontsize=8);\n",
    "    else:\n",
    "        plt.xticks(chrom_midpts,' ');\n",
    "    if i == 4:\n",
    "        plt.ylabel('LOD',fontsize=14)\n",
    "plt.sca(ax[-1,0])\n",
    "plt.xlabel('Chromosomes',fontsize=14);\n",
    "plt.sca(ax[-1,-1]);plt.axis('off');plt.subplots_adjust(wspace=0.05)\n",
    "#plt.savefig('/home/croth/Desktop/Cdx_HK_PCA_QTL.png',dpi=150,bbox_inches='tight');"
   ]
  },
  {
   "cell_type": "code",
   "execution_count": null,
   "metadata": {},
   "outputs": [],
   "source": [
    "lods =  [[X.apply(hklod,axis=1,args=[y.reshape(-1,1)]) for y in Y[-1].T] for Y in pca_pheno]"
   ]
  },
  {
   "cell_type": "code",
   "execution_count": null,
   "metadata": {},
   "outputs": [],
   "source": [
    "max_lod = pd.DataFrame([pd.DataFrame(l).T.max(axis=1) for l in lods]).T\n",
    "max_lod[['Chrom','Pos']] = hk_dfs[['Chrom','Pos']]\n",
    "max_lod.columns = hk_dfs.columns\n",
    "max_lod.head()"
   ]
  },
  {
   "cell_type": "code",
   "execution_count": null,
   "metadata": {},
   "outputs": [],
   "source": [
    "fig,ax = plt.subplots(len(temps),len(drugs),\n",
    "                      sharey=True,figsize=(20,6))\n",
    "for i,j in enumerate(hk_dfs.columns[:-2]):\n",
    "    plt.sca(ax.ravel()[i]);\n",
    "    plt.title(u'%s°C %s ug/ml'%(j.split('_')[0],j.split('_')[1]),y=0.8);\n",
    "    for c,chrom in enumerate(chrlist):\n",
    "        pval = max_lod[(max_lod.Chrom==chrom)]\n",
    "        plt.plot(pval.Pos.values + cumpos[c], pval[j].values,\n",
    "                 '.',ms=5,alpha=0.7);\n",
    "    ax.ravel()[i].set_xticks(chrom_midpts);\n",
    "    if i > 6:\n",
    "        plt.xticks(chrom_midpts,np.arange(1,len(chrlist)+1),fontsize=8);\n",
    "    else:\n",
    "        plt.xticks(chrom_midpts,' ');\n",
    "    if i == 4:\n",
    "        plt.ylabel('Max LOD',fontsize=14)\n",
    "plt.sca(ax[-1,0])\n",
    "plt.xlabel('Chromosomes',fontsize=14);\n",
    "plt.sca(ax[-1,-1]);plt.axis('off');plt.subplots_adjust(wspace=0.05)\n",
    "#plt.savefig('../../FIGURES/Cdx_Max_PCA_QTL.png',dpi=150,bbox_inches='tight');"
   ]
  },
  {
   "cell_type": "code",
   "execution_count": null,
   "metadata": {},
   "outputs": [],
   "source": [
    "mean_lod = pd.DataFrame([pd.DataFrame(l).T.mean(axis=1) for l in lods]).T\n",
    "mean_lod[['Chrom','Pos']] = hk_dfs[['Chrom','Pos']]\n",
    "mean_lod.columns = hk_dfs.columns\n",
    "mean_lod.head()"
   ]
  },
  {
   "cell_type": "code",
   "execution_count": null,
   "metadata": {},
   "outputs": [],
   "source": [
    "fig,ax = plt.subplots(len(temps),len(drugs),\n",
    "                      sharey=True,figsize=(20,6))\n",
    "for i,j in enumerate(hk_dfs.columns[:-2]):\n",
    "    plt.sca(ax.ravel()[i]);\n",
    "    plt.title(u'%s°C %s ug/ml'%(j.split('_')[0],j.split('_')[1]),y=0.8)\n",
    "    for c,chrom in enumerate(chrlist):\n",
    "        pval = mean_lod[(mean_lod.Chrom==chrom)]\n",
    "        plt.plot(pval.Pos.values + cumpos[c], pval[j].values,\n",
    "                 '.',ms=5,alpha=0.7);\n",
    "    ax.ravel()[i].set_xticks(chrom_midpts);\n",
    "    if i > 6:\n",
    "        plt.xticks(chrom_midpts,np.arange(1,len(chrlist)+1),fontsize=8);\n",
    "    else:\n",
    "        plt.xticks(chrom_midpts,' ');\n",
    "    if i == 4:\n",
    "        plt.ylabel('Max LOD',fontsize=14)\n",
    "plt.sca(ax[-1,0])\n",
    "plt.xlabel('Chromosomes',fontsize=14);\n",
    "plt.sca(ax[-1,-1]);plt.axis('off');plt.subplots_adjust(wspace=0.05)\n",
    "#plt.savefig('../../FIGURES/Cdx_Mean_PCA_QTL.png',dpi=150,bbox_inches='tight');"
   ]
  },
  {
   "cell_type": "code",
   "execution_count": null,
   "metadata": {},
   "outputs": [],
   "source": [
    "assert 1 == 0"
   ]
  },
  {
   "cell_type": "code",
   "execution_count": null,
   "metadata": {},
   "outputs": [],
   "source": []
  },
  {
   "cell_type": "code",
   "execution_count": null,
   "metadata": {},
   "outputs": [],
   "source": []
  },
  {
   "cell_type": "code",
   "execution_count": null,
   "metadata": {},
   "outputs": [],
   "source": [
    "first_pc = []\n",
    "second_pc = []\n",
    "for T in temps:\n",
    "    for D in drugs:\n",
    "        temp = df[(df.strain.isin(geno_strains)) & (df.temp==T) & (df.amphB==D) ]\n",
    "        if temp.shape[0] == 0:\n",
    "            continue\n",
    "        dfm = temp.groupby(temp.index).agg(np.median)[times_ixs]\n",
    "        pca = PCA(ps)\n",
    "        principalComponents = pca.fit_transform(dfm)\n",
    "        first_pc.append((T,D,principalComponents.T[0]))\n",
    "        second_pc.append((T,D,principalComponents.T[1]))"
   ]
  },
  {
   "cell_type": "code",
   "execution_count": null,
   "metadata": {},
   "outputs": [],
   "source": []
  },
  {
   "cell_type": "code",
   "execution_count": null,
   "metadata": {},
   "outputs": [],
   "source": [
    "pc1_df = pd.DataFrame([p[-1] for p in first_pc],\n",
    "         columns=dfm.index,index=['%s_%s'%(p[0],p[1]) for p in first_pc]).T"
   ]
  },
  {
   "cell_type": "code",
   "execution_count": null,
   "metadata": {},
   "outputs": [],
   "source": [
    "pc2_df = pd.DataFrame([p[-1] for p in second_pc],\n",
    "         columns=dfm.index,index=['%s_%s'%(p[0],p[1]) for p in second_pc]).T"
   ]
  },
  {
   "cell_type": "code",
   "execution_count": null,
   "metadata": {},
   "outputs": [],
   "source": [
    "pc2_df.head().T.head().T"
   ]
  },
  {
   "cell_type": "code",
   "execution_count": null,
   "metadata": {},
   "outputs": [],
   "source": [
    "loci = geno_df.Block.drop_duplicates().index.tolist()\n",
    "len(loci)"
   ]
  },
  {
   "cell_type": "code",
   "execution_count": null,
   "metadata": {},
   "outputs": [],
   "source": [
    "pc1_pvals = [geno_df.T[loci].T[pc1_df.index].apply(association_logPval,\n",
    "                                      args=[pc1_df[i]],axis=1) \n",
    "             for i in pc1_df.columns]\n",
    "pc1_pvaldf = pd.DataFrame(pc1_pvals,index=pc1_df.columns,columns=loci).T\n",
    "pc1_pvaldf[['Chrom','Pos']] = geno_df.T[loci].T[['Chrom','Pos']]\n",
    "pc1_pvaldf.head().T.head().T"
   ]
  },
  {
   "cell_type": "code",
   "execution_count": null,
   "metadata": {},
   "outputs": [],
   "source": []
  },
  {
   "cell_type": "code",
   "execution_count": null,
   "metadata": {},
   "outputs": [],
   "source": [
    "plt.style.use(['tableau-colorblind10'])\n",
    "fig,ax = plt.subplots(len(temps),len(drugs),\n",
    "                      sharey=True,figsize=(20,6))\n",
    "for i,j in enumerate(pc1_df.columns):\n",
    "    plt.sca(ax.ravel()[i])\n",
    "    for c,chrom in enumerate(chrlist):\n",
    "        pval = pc1_pvaldf[(pc1_pvaldf.Chrom==chrom)]\n",
    "        plt.plot(pval.Pos.values + cumpos[c], pval[j].values,\n",
    "                 '.',ms=5,alpha=0.7);\n",
    "    ax.ravel()[i].set_xticks(chrom_midpts);\n",
    "    if i > 6:\n",
    "        plt.xticks(chrom_midpts,np.arange(1,len(chrlist)+1),fontsize=8);\n",
    "    else:\n",
    "        plt.xticks(chrom_midpts,' ');\n",
    "    if i == 4:\n",
    "        plt.ylabel('$-\\log_{10}\\,(p-value)$',fontsize=14)\n",
    "plt.sca(ax[-1,0])\n",
    "plt.xlabel('Chromosomes',fontsize=14);\n",
    "plt.sca(ax[-1,-1]);plt.axis('off');\n",
    "plt.subplots_adjust(wspace=0.05)"
   ]
  },
  {
   "cell_type": "code",
   "execution_count": null,
   "metadata": {},
   "outputs": [],
   "source": [
    "pc2_pvals = [geno_df.T[loci].T[pc2_df.index].apply(association_logPval,\n",
    "                                      args=[pc2_df[i]],axis=1) \n",
    "             for i in pc2_df.columns]\n",
    "pc2_pvaldf = pd.DataFrame(pc2_pvals,index=pc1_df.columns,columns=loci).T\n",
    "pc2_pvaldf[['Chrom','Pos']] = geno_df.T[loci].T[['Chrom','Pos']]\n",
    "pc2_pvaldf.head().T.head().T"
   ]
  },
  {
   "cell_type": "code",
   "execution_count": null,
   "metadata": {},
   "outputs": [],
   "source": [
    "fig,ax = plt.subplots(len(temps),len(drugs),\n",
    "                      sharey=True,figsize=(20,6))\n",
    "for i,j in enumerate(pc1_df.columns):\n",
    "    plt.sca(ax.ravel()[i])\n",
    "    for c,chrom in enumerate(chrlist):\n",
    "        pval = pc2_pvaldf[(pc2_pvaldf.Chrom==chrom)]\n",
    "        plt.plot(pval.Pos.values + cumpos[c], pval[j].values,\n",
    "                 '.',ms=5,alpha=0.7);\n",
    "    ax.ravel()[i].set_xticks(chrom_midpts);\n",
    "    if i > 6:\n",
    "        plt.xticks(chrom_midpts,np.arange(1,len(chrlist)+1),fontsize=8);\n",
    "    else:\n",
    "        plt.xticks(chrom_midpts,' ');\n",
    "    if i == 4:\n",
    "        plt.ylabel('$-\\log_{10}\\,(p-value)$',fontsize=14)\n",
    "plt.sca(ax[-1,0])\n",
    "plt.xlabel('Chromosomes',fontsize=14);\n",
    "plt.sca(ax[-1,-1]);plt.axis('off');\n",
    "plt.subplots_adjust(wspace=0.05)"
   ]
  },
  {
   "cell_type": "code",
   "execution_count": null,
   "metadata": {},
   "outputs": [],
   "source": []
  },
  {
   "cell_type": "code",
   "execution_count": null,
   "metadata": {},
   "outputs": [],
   "source": []
  },
  {
   "cell_type": "code",
   "execution_count": null,
   "metadata": {},
   "outputs": [],
   "source": [
    "p = 'SS-A837'\n",
    "plt.plot(timex,df[(df.temp==T) & \n",
    "                  (df.amphB==D)].T[p].T[times_ixs].T.values,\n",
    "         'k.',alpha=0.4);\n",
    "plt.plot(timex,dfm.T[p],'r');\n",
    "plt.ylabel('OD');plt.xlabel('Hours');"
   ]
  },
  {
   "cell_type": "code",
   "execution_count": null,
   "metadata": {},
   "outputs": [],
   "source": [
    "x = dfm.copy()\n",
    "x.columns = timex;"
   ]
  },
  {
   "cell_type": "code",
   "execution_count": null,
   "metadata": {},
   "outputs": [],
   "source": [
    "x.head().T.tail()"
   ]
  },
  {
   "cell_type": "code",
   "execution_count": null,
   "metadata": {},
   "outputs": [],
   "source": []
  },
  {
   "cell_type": "code",
   "execution_count": null,
   "metadata": {},
   "outputs": [],
   "source": [
    "principalDf = pd.DataFrame(principalComponents)"
   ]
  },
  {
   "cell_type": "code",
   "execution_count": null,
   "metadata": {},
   "outputs": [],
   "source": []
  },
  {
   "cell_type": "code",
   "execution_count": null,
   "metadata": {},
   "outputs": [],
   "source": []
  },
  {
   "cell_type": "code",
   "execution_count": null,
   "metadata": {},
   "outputs": [],
   "source": [
    "plt.scatter(principalDf[0],principalDf[1],\n",
    "         alpha=0.5,facecolor='None', edgecolor='k');\n",
    "plt.xlim(np.min(principalDf[0])-s,\n",
    "         np.max(principalDf[0])+s)\n",
    "plt.ylim(np.min(principalDf[0])-s,\n",
    "         np.max(principalDf[0])+s);"
   ]
  },
  {
   "cell_type": "code",
   "execution_count": null,
   "metadata": {},
   "outputs": [],
   "source": [
    "loci = geno_df.Block.drop_duplicates().index.tolist()\n",
    "len(loci)"
   ]
  },
  {
   "cell_type": "code",
   "execution_count": null,
   "metadata": {},
   "outputs": [],
   "source": [
    "principalDf.index = x.index"
   ]
  },
  {
   "cell_type": "code",
   "execution_count": null,
   "metadata": {},
   "outputs": [],
   "source": [
    "pca_pvals = [geno_df.T[loci].T[principalDf.index].apply(association_logPval,\n",
    "                                      args=[principalDf[i]],\n",
    "                                         axis=1) for i in principalDf.columns]"
   ]
  },
  {
   "cell_type": "code",
   "execution_count": null,
   "metadata": {},
   "outputs": [],
   "source": [
    "len(pca_pvals)"
   ]
  },
  {
   "cell_type": "code",
   "execution_count": null,
   "metadata": {},
   "outputs": [],
   "source": [
    "pca_pvaldf = pd.DataFrame(pca_pvals).T\n",
    "pca_pvaldf.index = loci\n",
    "pca_pvaldf[['Chrom','Pos']] = geno_df.T[loci].T[['Chrom','Pos']]\n",
    "pca_pvaldf.shape"
   ]
  },
  {
   "cell_type": "code",
   "execution_count": null,
   "metadata": {},
   "outputs": [],
   "source": [
    "pca_pvaldf.max()"
   ]
  },
  {
   "cell_type": "code",
   "execution_count": null,
   "metadata": {},
   "outputs": [],
   "source": []
  },
  {
   "cell_type": "code",
   "execution_count": null,
   "metadata": {},
   "outputs": [],
   "source": [
    "pca_pvaldf.head()"
   ]
  },
  {
   "cell_type": "code",
   "execution_count": null,
   "metadata": {},
   "outputs": [],
   "source": [
    "fig,ax = plt.subplots(principalDf.columns.shape[0],1,\n",
    "                      sharex=True,sharey=True,figsize=(10,5))\n",
    "for i in principalDf.columns:\n",
    "    plt.sca(ax[i])\n",
    "    for c,chrom in enumerate(chrlist):\n",
    "        pval = pca_pvaldf[(pca_pvaldf.Chrom==chrom)]\n",
    "        plt.plot(pval.Pos.values + cumpos[c], pval[i].values,\n",
    "                 '.',ms=5,alpha=0.7);\n",
    "    ax[i].set_xticks(chrom_midpts);\n",
    "    if i == 0:\n",
    "        plt.ylabel('$-\\log_{10}\\,(p-value)$',fontsize=14)\n",
    "plt.xticks(chrom_midpts,np.arange(1,len(chrlist)+1));\n",
    "plt.xlabel('Chromosomes',fontsize=14);"
   ]
  },
  {
   "cell_type": "code",
   "execution_count": null,
   "metadata": {},
   "outputs": [],
   "source": [
    "QTLidx = pca_pvaldf[0].idxmax()"
   ]
  },
  {
   "cell_type": "code",
   "execution_count": null,
   "metadata": {},
   "outputs": [],
   "source": [
    "QTL = geno_df.T[QTLidx]"
   ]
  },
  {
   "cell_type": "code",
   "execution_count": null,
   "metadata": {},
   "outputs": [],
   "source": [
    "principalDf[QTL.Chrom] = [int(a) for a in QTL.T[principalDf.index]]"
   ]
  },
  {
   "cell_type": "code",
   "execution_count": null,
   "metadata": {},
   "outputs": [],
   "source": [
    "import seaborn as sns"
   ]
  },
  {
   "cell_type": "code",
   "execution_count": null,
   "metadata": {},
   "outputs": [],
   "source": [
    "principalDf.columns = ['PC0','PC1',QTL.Chrom]"
   ]
  },
  {
   "cell_type": "code",
   "execution_count": null,
   "metadata": {},
   "outputs": [],
   "source": [
    "principalDf.head()"
   ]
  },
  {
   "cell_type": "code",
   "execution_count": null,
   "metadata": {},
   "outputs": [],
   "source": [
    "sns.regplot(x= QTL.Chrom , y='PC0' ,data=principalDf,x_jitter=0.2);"
   ]
  },
  {
   "cell_type": "code",
   "execution_count": null,
   "metadata": {},
   "outputs": [],
   "source": [
    "sns.scatterplot(x='PC0',y='PC1',\n",
    "    data = principalDf,hue=QTL.Chrom);"
   ]
  },
  {
   "cell_type": "code",
   "execution_count": null,
   "metadata": {},
   "outputs": [],
   "source": [
    "idfm = dfm.cumsum(axis=1)"
   ]
  },
  {
   "cell_type": "code",
   "execution_count": null,
   "metadata": {},
   "outputs": [],
   "source": [
    "idfm.shape"
   ]
  },
  {
   "cell_type": "code",
   "execution_count": null,
   "metadata": {},
   "outputs": [],
   "source": [
    "idfm.head()"
   ]
  },
  {
   "cell_type": "code",
   "execution_count": null,
   "metadata": {},
   "outputs": [],
   "source": [
    "import statsmodels.formula.api as smf"
   ]
  },
  {
   "cell_type": "code",
   "execution_count": null,
   "metadata": {},
   "outputs": [],
   "source": [
    "qtlmax_info = pd.read_csv('../../FILES/Cdx-max-QTL-info.csv',index_col=0)\n",
    "qtlmax_info.head()"
   ]
  },
  {
   "cell_type": "code",
   "execution_count": null,
   "metadata": {},
   "outputs": [],
   "source": [
    "C = 'Chr14'\n",
    "T = qtlmax_info[(qtlmax_info.Chrom==C)].Temp.min()\n",
    "D = qtlmax_info[(qtlmax_info.Chrom==C)].AmphB.min()\n",
    "temp = df[(df.strain.isin(geno_strains)) & (df.temp==T) & (df.amphB==D) ]\n",
    "idfm = temp.groupby(temp.index).agg(np.median)[times_ixs].cumsum(axis=1)"
   ]
  },
  {
   "cell_type": "code",
   "execution_count": null,
   "metadata": {},
   "outputs": [],
   "source": [
    "k = times_ixs.index(qtlmax_info[(qtlmax_info.Chrom==C)].Maxtime.min());"
   ]
  },
  {
   "cell_type": "code",
   "execution_count": null,
   "metadata": {},
   "outputs": [],
   "source": [
    "mdf = pd.DataFrame([idfm[times_ixs[:k-1]].mean(axis=1),\n",
    "                    idfm[times_ixs[k]]]).T\n",
    "mdf.columns = ['TB','TN'];"
   ]
  },
  {
   "cell_type": "code",
   "execution_count": null,
   "metadata": {},
   "outputs": [],
   "source": [
    "mdf['qtl'] = geno_df[(geno_df.Chrom==C) & \n",
    "         (geno_df.Block==qtlmax_info[(qtlmax_info.Chrom==C)][\n",
    "             'Block'].min())][mdf.index].drop_duplicates()[mdf.index].T.values"
   ]
  },
  {
   "cell_type": "code",
   "execution_count": null,
   "metadata": {},
   "outputs": [],
   "source": [
    "from sklearn.linear_model import LinearRegression"
   ]
  },
  {
   "cell_type": "code",
   "execution_count": null,
   "metadata": {},
   "outputs": [],
   "source": [
    "idfm.values.shape"
   ]
  },
  {
   "cell_type": "code",
   "execution_count": null,
   "metadata": {},
   "outputs": [],
   "source": [
    "mdf['qtl'].values"
   ]
  },
  {
   "cell_type": "code",
   "execution_count": null,
   "metadata": {},
   "outputs": [],
   "source": [
    "idfm.shape"
   ]
  },
  {
   "cell_type": "code",
   "execution_count": null,
   "metadata": {},
   "outputs": [],
   "source": [
    "mdf['qtl'].values.reshape([-1,1]).shape"
   ]
  },
  {
   "cell_type": "code",
   "execution_count": null,
   "metadata": {},
   "outputs": [],
   "source": [
    "res = LinearRegression().fit(mdf['qtl'].values.reshape([-1,1]),idfm.values)"
   ]
  },
  {
   "cell_type": "code",
   "execution_count": null,
   "metadata": {},
   "outputs": [],
   "source": [
    "res.intercept_.shape"
   ]
  },
  {
   "cell_type": "code",
   "execution_count": null,
   "metadata": {},
   "outputs": [],
   "source": [
    "res.coef_.shape"
   ]
  },
  {
   "cell_type": "code",
   "execution_count": null,
   "metadata": {},
   "outputs": [],
   "source": [
    "k"
   ]
  },
  {
   "cell_type": "code",
   "execution_count": null,
   "metadata": {},
   "outputs": [],
   "source": [
    "plt.plot(res.coef_,'.');"
   ]
  },
  {
   "cell_type": "code",
   "execution_count": null,
   "metadata": {},
   "outputs": [],
   "source": [
    "res.coef_[k]"
   ]
  },
  {
   "cell_type": "code",
   "execution_count": null,
   "metadata": {},
   "outputs": [],
   "source": [
    "res = smf.ols(formula='TN ~ TB + qtl', data=mdf).fit()\n",
    "res.summary()"
   ]
  },
  {
   "cell_type": "code",
   "execution_count": null,
   "metadata": {},
   "outputs": [],
   "source": [
    "fig,ax = plt.subplots(1,2,figsize=(10,4));\n",
    "plt.sca(ax[0])\n",
    "sns.regplot(x='qtl',y='TN', data=mdf,x_jitter=0.2);\n",
    "plt.sca(ax[1])\n",
    "sns.scatterplot(x='TB',y='TN',data=mdf,hue='qtl');"
   ]
  },
  {
   "cell_type": "code",
   "execution_count": null,
   "metadata": {},
   "outputs": [],
   "source": []
  },
  {
   "cell_type": "code",
   "execution_count": null,
   "metadata": {},
   "outputs": [],
   "source": [
    "mdf"
   ]
  },
  {
   "cell_type": "code",
   "execution_count": null,
   "metadata": {},
   "outputs": [],
   "source": []
  },
  {
   "cell_type": "code",
   "execution_count": null,
   "metadata": {},
   "outputs": [],
   "source": [
    "knots = np.array(timex[::(int(len(timex)/6)+1)])"
   ]
  },
  {
   "cell_type": "code",
   "execution_count": null,
   "metadata": {},
   "outputs": [],
   "source": [
    "knots"
   ]
  },
  {
   "cell_type": "code",
   "execution_count": null,
   "metadata": {},
   "outputs": [],
   "source": [
    "train_y = dfm.T[train_s].T"
   ]
  },
  {
   "cell_type": "code",
   "execution_count": null,
   "metadata": {},
   "outputs": [],
   "source": [
    "train_y.shape"
   ]
  },
  {
   "cell_type": "code",
   "execution_count": null,
   "metadata": {},
   "outputs": [],
   "source": [
    "len(timex)"
   ]
  },
  {
   "cell_type": "code",
   "execution_count": null,
   "metadata": {},
   "outputs": [],
   "source": []
  },
  {
   "cell_type": "code",
   "execution_count": null,
   "metadata": {},
   "outputs": [],
   "source": [
    "# Generating cubic spline with 4 knots\n",
    "transformed_x = dmatrix(\"bs(train, knots = mk , degree =3, include_intercept=False)\", \n",
    "                         {\"train\": train_x, \"mk\": knots}, return_type='dataframe')"
   ]
  },
  {
   "cell_type": "code",
   "execution_count": null,
   "metadata": {},
   "outputs": [],
   "source": [
    "len(train_y)"
   ]
  },
  {
   "cell_type": "code",
   "execution_count": null,
   "metadata": {},
   "outputs": [],
   "source": [
    "# Fitting Generalised linear model on transformed dataset\n",
    "fit2 = sm.GLM(train_y, transformed_x2).fit()"
   ]
  },
  {
   "cell_type": "code",
   "execution_count": null,
   "metadata": {},
   "outputs": [],
   "source": []
  },
  {
   "cell_type": "code",
   "execution_count": null,
   "metadata": {},
   "outputs": [],
   "source": []
  },
  {
   "cell_type": "code",
   "execution_count": null,
   "metadata": {},
   "outputs": [],
   "source": []
  },
  {
   "cell_type": "code",
   "execution_count": null,
   "metadata": {},
   "outputs": [],
   "source": [
    "mypred = fit2.predict(dmatrix(\"bs(xp, knots=(25,40,50,65),degree =3, include_intercept=False)\", \n",
    "                             {\"xp\": xp}, return_type='dataframe'))"
   ]
  },
  {
   "cell_type": "code",
   "execution_count": null,
   "metadata": {},
   "outputs": [],
   "source": [
    "# Generating cubic spline with 3 knots at 25, 40 and 60\n",
    "transformed_x = dmatrix(\"bs(train, knots=(25,40,60), degree=3, include_intercept=False)\", \n",
    "                        {\"train\": train_x},return_type='dataframe')\n",
    "# Fitting Generalised linear model on transformed dataset\n",
    "fit1 = sm.GLM(train_y, transformed_x).fit()"
   ]
  },
  {
   "cell_type": "code",
   "execution_count": null,
   "metadata": {},
   "outputs": [],
   "source": [
    "# Generating cubic spline with 4 knots\n",
    "transformed_x2 = dmatrix(\"bs(train, knots=(25,40,50,65),degree =3, include_intercept=False)\", \n",
    "                         {\"train\": train_x}, return_type='dataframe')\n",
    "# Fitting Generalised linear model on transformed dataset\n",
    "fit2 = sm.GLM(train_y, transformed_x2).fit()"
   ]
  },
  {
   "cell_type": "code",
   "execution_count": null,
   "metadata": {},
   "outputs": [],
   "source": [
    "# Predictions on both splines\n",
    "pred1 = fit1.predict(dmatrix(\"bs(valid, knots=(25,40,60), include_intercept=False)\", \n",
    "                             {\"valid\": valid_x}, return_type='dataframe'))\n",
    "\n",
    "pred2 = fit2.predict(dmatrix(\"bs(valid, knots=(25,40,50,65),degree =3, include_intercept=False)\", \n",
    "                             {\"valid\": valid_x}, return_type='dataframe'))"
   ]
  },
  {
   "cell_type": "code",
   "execution_count": null,
   "metadata": {},
   "outputs": [],
   "source": [
    "# Calculating RMSE values\n",
    "rms1 = sqrt(mean_squared_error(valid_y, pred1))\n",
    "print(rms1)\n",
    "\n",
    "rms2 = sqrt(mean_squared_error(valid_y, pred2))\n",
    "print(rms2)"
   ]
  },
  {
   "cell_type": "code",
   "execution_count": null,
   "metadata": {},
   "outputs": [],
   "source": [
    "# We will plot the graph for 70 observations only\n",
    "xp = np.linspace(valid_x.min(),valid_x.max(),70)"
   ]
  },
  {
   "cell_type": "code",
   "execution_count": null,
   "metadata": {},
   "outputs": [],
   "source": [
    "len(times_ixs)"
   ]
  },
  {
   "cell_type": "code",
   "execution_count": null,
   "metadata": {},
   "outputs": [],
   "source": []
  },
  {
   "cell_type": "code",
   "execution_count": null,
   "metadata": {},
   "outputs": [],
   "source": [
    "# Make some predictions\n",
    "pred1 = fit1.predict(dmatrix(\"bs(xp, knots=(25,40,60), include_intercept=False)\", \n",
    "                             {\"xp\": xp}, return_type='dataframe'))\n",
    "pred2 = fit2.predict(dmatrix(\"bs(xp, knots=(25,40,50,65),degree =3, include_intercept=False)\", \n",
    "                             {\"xp\": xp}, return_type='dataframe'))"
   ]
  },
  {
   "cell_type": "code",
   "execution_count": null,
   "metadata": {},
   "outputs": [],
   "source": [
    "transformed_x.shape"
   ]
  },
  {
   "cell_type": "code",
   "execution_count": null,
   "metadata": {},
   "outputs": [],
   "source": [
    "transformed_x2.shape"
   ]
  },
  {
   "cell_type": "code",
   "execution_count": null,
   "metadata": {},
   "outputs": [],
   "source": [
    "# Plot the splines and error bands\n",
    "plt.scatter(data.age, data.wage, facecolor='None', edgecolor='k', alpha=0.1)\n",
    "plt.plot(xp, pred1, label='Specifying degree =3 with 3 knots')\n",
    "plt.plot(xp, pred2, color='r', label='Specifying degree =3 with 4 knots')\n",
    "plt.legend()\n",
    "plt.xlim(15,85)\n",
    "plt.ylim(0,350)\n",
    "plt.xlabel('age')\n",
    "plt.ylabel('wage');"
   ]
  },
  {
   "cell_type": "code",
   "execution_count": null,
   "metadata": {},
   "outputs": [],
   "source": [
    "# Generating natural cubic spline\n",
    "transformed_x3 = dmatrix(\"cr(train,df = 3)\", {\"train\": train_x}, return_type='dataframe')\n",
    "fit3 = sm.GLM(train_y, transformed_x3).fit()\n",
    "\n",
    "# Prediction on validation set\n",
    "pred3 = fit3.predict(dmatrix(\"cr(valid, df=3)\", {\"valid\": valid_x}, return_type='dataframe'))\n",
    "# Calculating RMSE value\n",
    "rms = sqrt(mean_squared_error(valid_y, pred3))\n",
    "print(rms)\n",
    "\n",
    "# We will plot the graph for 70 observations only\n",
    "xp = np.linspace(valid_x.min(),valid_x.max(),70)\n",
    "pred3 = fit3.predict(dmatrix(\"cr(xp, df=3)\", {\"xp\": xp}, return_type='dataframe'))"
   ]
  },
  {
   "cell_type": "code",
   "execution_count": null,
   "metadata": {},
   "outputs": [],
   "source": [
    "# Plot the spline\n",
    "plt.scatter(data.age, data.wage, facecolor='None', edgecolor='k', alpha=0.1)\n",
    "plt.plot(xp, pred3,color='g', label='Natural spline')\n",
    "plt.legend()\n",
    "plt.xlim(15,85)\n",
    "plt.ylim(0,350)\n",
    "plt.xlabel('age')\n",
    "plt.ylabel('wage');"
   ]
  },
  {
   "cell_type": "code",
   "execution_count": null,
   "metadata": {},
   "outputs": [],
   "source": []
  }
 ],
 "metadata": {
  "kernelspec": {
   "display_name": "Python 3",
   "language": "python",
   "name": "python3"
  },
  "language_info": {
   "codemirror_mode": {
    "name": "ipython",
    "version": 3
   },
   "file_extension": ".py",
   "mimetype": "text/x-python",
   "name": "python",
   "nbconvert_exporter": "python",
   "pygments_lexer": "ipython3",
   "version": "3.7.3"
  }
 },
 "nbformat": 4,
 "nbformat_minor": 2
}
