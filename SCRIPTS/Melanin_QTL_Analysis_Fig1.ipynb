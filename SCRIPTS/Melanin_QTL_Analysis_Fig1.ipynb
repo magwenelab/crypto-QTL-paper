{
 "cells": [
  {
   "cell_type": "code",
   "execution_count": 1,
   "metadata": {},
   "outputs": [],
   "source": [
    "## Bring in needed mods\n",
    "import numpy as np, pandas as pd, scipy.stats as ss\n",
    "import seaborn as sns, os\n",
    "from PIL import Image\n",
    "from matplotlib import pyplot as plt\n",
    "%matplotlib inline"
   ]
  },
  {
   "cell_type": "code",
   "execution_count": 2,
   "metadata": {},
   "outputs": [],
   "source": [
    "## Set random seed\n",
    "np.random.seed(71191)"
   ]
  },
  {
   "cell_type": "code",
   "execution_count": 3,
   "metadata": {},
   "outputs": [],
   "source": [
    "## Define functions\n",
    "def allelic_ANOVA(site, pheno):\n",
    "    \"\"\"\n",
    "    This regression is equivalent to one-way ANOVA with 2 groups. \n",
    "    Return F-statistic.\n",
    "    Assumes site is coded as -1, 1\n",
    "    \"\"\"\n",
    "    coding = np.array(site, np.float)\n",
    "    pheno = np.array(pheno, np.float)\n",
    "    \n",
    "    meany = np.mean(pheno)\n",
    "    meandummy = np.mean(coding)\n",
    "    ctry = pheno - meany\n",
    "    ctrdummy = coding - meandummy\n",
    "    \n",
    "    # regression coefficient and intercept\n",
    "    b = np.dot(ctry, ctrdummy)/np.dot(ctrdummy, ctrdummy)\n",
    "    intercept = meany - b * meandummy\n",
    "    \n",
    "    yhat = b * ctrdummy\n",
    "    len_yhat = np.sqrt(np.dot(yhat,yhat))\n",
    "    len_y = np.sqrt(np.dot(ctry,ctry))\n",
    "    df_yhat = 1\n",
    "    \n",
    "    error = ctry  - yhat\n",
    "    len_error = np.sqrt(np.dot(error,error))\n",
    "    if abs(len_error**2) < 1e-5:\n",
    "        raise Exception(\"Zero length error in ANOVA\")\n",
    "    df_error = len(pheno) - 2\n",
    "    \n",
    "    # coefficient of determination is R**2\n",
    "    ##R = len_yhat/len_y\n",
    "    \n",
    "    # F-statistic\n",
    "    F = (len_yhat**2/df_yhat) / (len_error**2/df_error)\n",
    "    return F\n",
    "\n",
    "def association_logPval(site, pheno):\n",
    "    F = allelic_ANOVA(site, pheno)\n",
    "    logP = np.log10(ss.f.sf(F, 1, len(pheno)-2))\n",
    "    return -logP"
   ]
  },
  {
   "cell_type": "code",
   "execution_count": 4,
   "metadata": {},
   "outputs": [],
   "source": [
    "## Define labels\n",
    "from matplotlib import rc\n",
    "xl280al = 'XL280'+r'$\\alpha$'#+'SS'\n",
    "xl280_label = 'XL280' +r'$\\bf{a}$'\n",
    "_431_label = '431'+r'$\\mathrm{\\alpha}$'"
   ]
  },
  {
   "cell_type": "code",
   "execution_count": 5,
   "metadata": {},
   "outputs": [],
   "source": [
    "## Bring in genotype data\n",
    "genopath = '../DATA/GENOTYPE/CDx-ill-SNP-INDEL-df-104-blocked.csv.gz'\n",
    "gv = pd.read_csv(genopath)"
   ]
  },
  {
   "cell_type": "code",
   "execution_count": 6,
   "metadata": {},
   "outputs": [],
   "source": [
    "## Bring in phenotype data (Melanin)\n",
    "datapath = '../DATA/PHENOTYPE/MELANIN/L-DOPA-July32020.csv.gz'\n",
    "mean_intensity = pd.read_csv(datapath)"
   ]
  },
  {
   "cell_type": "code",
   "execution_count": 7,
   "metadata": {},
   "outputs": [
    {
     "data": {
      "text/plain": [
       "(104,)"
      ]
     },
     "execution_count": 7,
     "metadata": {},
     "output_type": "execute_result"
    }
   ],
   "source": [
    "## Gather segregants\n",
    "segs = np.array([s \n",
    "                 for s in mean_intensity.Strain.unique() \n",
    "                 if s in gv.columns])\n",
    "segs.shape"
   ]
  },
  {
   "cell_type": "code",
   "execution_count": 8,
   "metadata": {},
   "outputs": [
    {
     "data": {
      "text/html": [
       "<div>\n",
       "<style scoped>\n",
       "    .dataframe tbody tr th:only-of-type {\n",
       "        vertical-align: middle;\n",
       "    }\n",
       "\n",
       "    .dataframe tbody tr th {\n",
       "        vertical-align: top;\n",
       "    }\n",
       "\n",
       "    .dataframe thead th {\n",
       "        text-align: right;\n",
       "    }\n",
       "</style>\n",
       "<table border=\"1\" class=\"dataframe\">\n",
       "  <thead>\n",
       "    <tr style=\"text-align: right;\">\n",
       "      <th></th>\n",
       "      <th>Replicate</th>\n",
       "      <th>Column</th>\n",
       "      <th>Measurement</th>\n",
       "      <th>Mean_intensity</th>\n",
       "    </tr>\n",
       "    <tr>\n",
       "      <th>Strain</th>\n",
       "      <th></th>\n",
       "      <th></th>\n",
       "      <th></th>\n",
       "      <th></th>\n",
       "    </tr>\n",
       "  </thead>\n",
       "  <tbody>\n",
       "    <tr>\n",
       "      <th>SS-B307</th>\n",
       "      <td>1</td>\n",
       "      <td>2.0</td>\n",
       "      <td>1</td>\n",
       "      <td>12310.311000</td>\n",
       "    </tr>\n",
       "    <tr>\n",
       "      <th>SS-B310</th>\n",
       "      <td>1</td>\n",
       "      <td>4.0</td>\n",
       "      <td>1</td>\n",
       "      <td>12255.142667</td>\n",
       "    </tr>\n",
       "    <tr>\n",
       "      <th>SS-B311</th>\n",
       "      <td>1</td>\n",
       "      <td>5.0</td>\n",
       "      <td>1</td>\n",
       "      <td>14045.272333</td>\n",
       "    </tr>\n",
       "    <tr>\n",
       "      <th>SS-B312</th>\n",
       "      <td>1</td>\n",
       "      <td>6.0</td>\n",
       "      <td>1</td>\n",
       "      <td>18635.336333</td>\n",
       "    </tr>\n",
       "    <tr>\n",
       "      <th>SS-B313</th>\n",
       "      <td>1</td>\n",
       "      <td>7.0</td>\n",
       "      <td>1</td>\n",
       "      <td>16597.829333</td>\n",
       "    </tr>\n",
       "  </tbody>\n",
       "</table>\n",
       "</div>"
      ],
      "text/plain": [
       "         Replicate  Column  Measurement  Mean_intensity\n",
       "Strain                                                 \n",
       "SS-B307          1     2.0            1    12310.311000\n",
       "SS-B310          1     4.0            1    12255.142667\n",
       "SS-B311          1     5.0            1    14045.272333\n",
       "SS-B312          1     6.0            1    18635.336333\n",
       "SS-B313          1     7.0            1    16597.829333"
      ]
     },
     "execution_count": 8,
     "metadata": {},
     "output_type": "execute_result"
    }
   ],
   "source": [
    "## Take the average mean intensity across replicates \n",
    "## of the median measurment per strain\n",
    "melanin = mean_intensity.groupby(['Strain','Replicate']\n",
    "            ).aggregate('median').reset_index().groupby(\n",
    "    'Strain').aggregate('mean')\n",
    "melanin = melanin.loc[segs,:]\n",
    "melanin.head()"
   ]
  },
  {
   "cell_type": "code",
   "execution_count": 9,
   "metadata": {},
   "outputs": [],
   "source": [
    "## Conduct QTL mapping on mean intensity phenotype\n",
    "pheno = 'Mean_intensity'\n",
    "\n",
    "## Gather unique loci (haplo groups)\n",
    "test = gv[segs].drop_duplicates()\n",
    "\n",
    "## Associate QTL\n",
    "test[pheno] = test.apply(association_logPval,\n",
    "                         args=[melanin[pheno][segs]],\n",
    "                         axis=1)\n",
    "\n",
    "## Merge data\n",
    "pval_df = gv.merge(test)"
   ]
  },
  {
   "cell_type": "code",
   "execution_count": 41,
   "metadata": {},
   "outputs": [
    {
     "data": {
      "text/plain": [
       "(10000,)"
      ]
     },
     "execution_count": 41,
     "metadata": {},
     "output_type": "execute_result"
    }
   ],
   "source": [
    "## Conduct permutation tests\n",
    "nperms = 10000\n",
    "perm_path = '../DATA/PERMUTATIONS/Melanin_MI_QTL_perms_%s_null.csv.gz'%(\n",
    "    nperms)\n",
    "\n",
    "if os.path.exists(perm_path):\n",
    "    perms = np.concatenate(\n",
    "        pd.read_csv(perm_path,header=None).values)\n",
    "else:\n",
    "    perms = []\n",
    "    for i in range(nperms):\n",
    "        phenotype = pd.Series(np.random.permutation(melanin[pheno][segs]),\n",
    "                          index=segs)\n",
    "        \n",
    "        maxpval = np.max(gv.loc[loci][segs].apply(\n",
    "                    association_logPval,args=[phenotype[segs]],axis=1))\n",
    "        \n",
    "        perms.append(maxpval)\n",
    "        \n",
    "    open(perm_path,'w'\n",
    "        ).writelines('\\n'.join(np.array(perms,dtype='str')))\n",
    "    perms = np.array(perms)\n",
    "perms.shape"
   ]
  },
  {
   "cell_type": "code",
   "execution_count": 11,
   "metadata": {},
   "outputs": [
    {
     "data": {
      "image/png": "[encoded data removed]",
      "text/plain": [
       "<Figure size 432x288 with 1 Axes>"
      ]
     },
     "metadata": {
      "needs_background": "light"
     },
     "output_type": "display_data"
    }
   ],
   "source": [
    "## Plot null distribution\n",
    "plt.hist(perms,alpha=0.2);\n",
    "plt.vlines(np.percentile(perms,99),\n",
    "           0,len(perms)/10,linestyle='--',color='k');\n",
    "##plt.vlines(pval_df[pheno].max(),0,500,color='r');"
   ]
  },
  {
   "cell_type": "code",
   "execution_count": 12,
   "metadata": {},
   "outputs": [],
   "source": [
    "## Gather chromosome information and lenghts\n",
    "chrlist = sorted(pval_df.Chrom.unique())\n",
    "chrlens = np.array([pval_df[(pval_df.Chrom==c)].Pos.max() \n",
    "           for c in chrlist])\n",
    "cumpos = np.array([0] + list(np.cumsum(chrlens[:-1])))\n",
    "cummax = cumpos[-1] + pval_df[(pval_df.Chrom=='Chr14')].Pos.max()\n",
    "chrmid = (chrlens/2) + cumpos"
   ]
  },
  {
   "cell_type": "code",
   "execution_count": 13,
   "metadata": {},
   "outputs": [
    {
     "data": {
      "image/png": "[encoded data removed]",
      "text/plain": [
       "<Figure size 720x216 with 1 Axes>"
      ]
     },
     "metadata": {
      "needs_background": "light"
     },
     "output_type": "display_data"
    }
   ],
   "source": [
    "## Plot initial QTL map\n",
    "fig,ax = plt.subplots(1,1,figsize=(10,3));\n",
    "for c in chrlist:\n",
    "    i = int(c[3:])-1\n",
    "    temp = pval_df[(pval_df.Chrom==c)]\n",
    "    plt.plot(temp.Pos+cumpos[i],temp[pheno],'.',\n",
    "             color='k' if i%2==0 else 'grey',\n",
    "             alpha = 0.5)\n",
    "plt.xticks(chrmid,np.arange(len(chrlist))+1);\n",
    "plt.ylabel(\"$-log_{10}(p-value)$\",fontsize=14);\n",
    "plt.xlabel('Chromosomes',fontsize=14);\n",
    "plt.hlines(4.93,0,temp.Pos.max()+np.max(cumpos),\n",
    "           linestyles='--',color='r');"
   ]
  },
  {
   "cell_type": "code",
   "execution_count": 14,
   "metadata": {},
   "outputs": [
    {
     "data": {
      "text/html": [
       "<div>\n",
       "<style scoped>\n",
       "    .dataframe tbody tr th:only-of-type {\n",
       "        vertical-align: middle;\n",
       "    }\n",
       "\n",
       "    .dataframe tbody tr th {\n",
       "        vertical-align: top;\n",
       "    }\n",
       "\n",
       "    .dataframe thead th {\n",
       "        text-align: right;\n",
       "    }\n",
       "</style>\n",
       "<table border=\"1\" class=\"dataframe\">\n",
       "  <thead>\n",
       "    <tr style=\"text-align: right;\">\n",
       "      <th></th>\n",
       "      <th>Chrom</th>\n",
       "      <th>Pos</th>\n",
       "      <th>Qual</th>\n",
       "      <th>Callrate</th>\n",
       "      <th>Ref</th>\n",
       "      <th>Alt</th>\n",
       "      <th>Altlen</th>\n",
       "      <th>Dp</th>\n",
       "      <th>Type</th>\n",
       "      <th>Vcfix</th>\n",
       "      <th>...</th>\n",
       "      <th>SS-B565</th>\n",
       "      <th>SS-B600</th>\n",
       "      <th>SS-B574</th>\n",
       "      <th>SS-B872_cor</th>\n",
       "      <th>SS-B873_cor</th>\n",
       "      <th>SS-B360</th>\n",
       "      <th>SS-B397</th>\n",
       "      <th>SS-B564</th>\n",
       "      <th>SS-B382</th>\n",
       "      <th>Mean_intensity</th>\n",
       "    </tr>\n",
       "  </thead>\n",
       "  <tbody>\n",
       "    <tr>\n",
       "      <th>92098</th>\n",
       "      <td>Chr14</td>\n",
       "      <td>726789</td>\n",
       "      <td>117457.0</td>\n",
       "      <td>1.0</td>\n",
       "      <td>C</td>\n",
       "      <td>T</td>\n",
       "      <td>1</td>\n",
       "      <td>7112</td>\n",
       "      <td>snp</td>\n",
       "      <td>24495</td>\n",
       "      <td>...</td>\n",
       "      <td>1.0</td>\n",
       "      <td>1.0</td>\n",
       "      <td>1.0</td>\n",
       "      <td>0.0</td>\n",
       "      <td>0.0</td>\n",
       "      <td>1.0</td>\n",
       "      <td>1.0</td>\n",
       "      <td>0.0</td>\n",
       "      <td>1.0</td>\n",
       "      <td>0.677653</td>\n",
       "    </tr>\n",
       "    <tr>\n",
       "      <th>92099</th>\n",
       "      <td>Chr14</td>\n",
       "      <td>727291</td>\n",
       "      <td>148245.0</td>\n",
       "      <td>1.0</td>\n",
       "      <td>G</td>\n",
       "      <td>A</td>\n",
       "      <td>1</td>\n",
       "      <td>8089</td>\n",
       "      <td>snp</td>\n",
       "      <td>24520</td>\n",
       "      <td>...</td>\n",
       "      <td>1.0</td>\n",
       "      <td>1.0</td>\n",
       "      <td>1.0</td>\n",
       "      <td>0.0</td>\n",
       "      <td>0.0</td>\n",
       "      <td>1.0</td>\n",
       "      <td>1.0</td>\n",
       "      <td>0.0</td>\n",
       "      <td>1.0</td>\n",
       "      <td>0.677653</td>\n",
       "    </tr>\n",
       "    <tr>\n",
       "      <th>92100</th>\n",
       "      <td>Chr14</td>\n",
       "      <td>731761</td>\n",
       "      <td>144813.0</td>\n",
       "      <td>1.0</td>\n",
       "      <td>C</td>\n",
       "      <td>T</td>\n",
       "      <td>1</td>\n",
       "      <td>7635</td>\n",
       "      <td>snp</td>\n",
       "      <td>24696</td>\n",
       "      <td>...</td>\n",
       "      <td>1.0</td>\n",
       "      <td>1.0</td>\n",
       "      <td>1.0</td>\n",
       "      <td>0.0</td>\n",
       "      <td>0.0</td>\n",
       "      <td>1.0</td>\n",
       "      <td>1.0</td>\n",
       "      <td>0.0</td>\n",
       "      <td>1.0</td>\n",
       "      <td>0.677653</td>\n",
       "    </tr>\n",
       "    <tr>\n",
       "      <th>92101</th>\n",
       "      <td>Chr14</td>\n",
       "      <td>735057</td>\n",
       "      <td>139770.0</td>\n",
       "      <td>1.0</td>\n",
       "      <td>A</td>\n",
       "      <td>G</td>\n",
       "      <td>1</td>\n",
       "      <td>7777</td>\n",
       "      <td>snp</td>\n",
       "      <td>24762</td>\n",
       "      <td>...</td>\n",
       "      <td>1.0</td>\n",
       "      <td>1.0</td>\n",
       "      <td>1.0</td>\n",
       "      <td>0.0</td>\n",
       "      <td>0.0</td>\n",
       "      <td>1.0</td>\n",
       "      <td>1.0</td>\n",
       "      <td>0.0</td>\n",
       "      <td>1.0</td>\n",
       "      <td>0.677653</td>\n",
       "    </tr>\n",
       "    <tr>\n",
       "      <th>92102</th>\n",
       "      <td>Chr14</td>\n",
       "      <td>745415</td>\n",
       "      <td>155353.0</td>\n",
       "      <td>1.0</td>\n",
       "      <td>T</td>\n",
       "      <td>C</td>\n",
       "      <td>1</td>\n",
       "      <td>8520</td>\n",
       "      <td>snp</td>\n",
       "      <td>24961</td>\n",
       "      <td>...</td>\n",
       "      <td>1.0</td>\n",
       "      <td>1.0</td>\n",
       "      <td>1.0</td>\n",
       "      <td>0.0</td>\n",
       "      <td>0.0</td>\n",
       "      <td>1.0</td>\n",
       "      <td>1.0</td>\n",
       "      <td>0.0</td>\n",
       "      <td>1.0</td>\n",
       "      <td>0.677653</td>\n",
       "    </tr>\n",
       "  </tbody>\n",
       "</table>\n",
       "<p>5 rows × 126 columns</p>\n",
       "</div>"
      ],
      "text/plain": [
       "       Chrom     Pos      Qual  Callrate Ref Alt  Altlen    Dp Type  Vcfix  \\\n",
       "92098  Chr14  726789  117457.0       1.0   C   T       1  7112  snp  24495   \n",
       "92099  Chr14  727291  148245.0       1.0   G   A       1  8089  snp  24520   \n",
       "92100  Chr14  731761  144813.0       1.0   C   T       1  7635  snp  24696   \n",
       "92101  Chr14  735057  139770.0       1.0   A   G       1  7777  snp  24762   \n",
       "92102  Chr14  745415  155353.0       1.0   T   C       1  8520  snp  24961   \n",
       "\n",
       "       ...  SS-B565  SS-B600  SS-B574  SS-B872_cor  SS-B873_cor  SS-B360  \\\n",
       "92098  ...      1.0      1.0      1.0          0.0          0.0      1.0   \n",
       "92099  ...      1.0      1.0      1.0          0.0          0.0      1.0   \n",
       "92100  ...      1.0      1.0      1.0          0.0          0.0      1.0   \n",
       "92101  ...      1.0      1.0      1.0          0.0          0.0      1.0   \n",
       "92102  ...      1.0      1.0      1.0          0.0          0.0      1.0   \n",
       "\n",
       "       SS-B397  SS-B564  SS-B382  Mean_intensity  \n",
       "92098      1.0      0.0      1.0        0.677653  \n",
       "92099      1.0      0.0      1.0        0.677653  \n",
       "92100      1.0      0.0      1.0        0.677653  \n",
       "92101      1.0      0.0      1.0        0.677653  \n",
       "92102      1.0      0.0      1.0        0.677653  \n",
       "\n",
       "[5 rows x 126 columns]"
      ]
     },
     "execution_count": 14,
     "metadata": {},
     "output_type": "execute_result"
    }
   ],
   "source": [
    "## Save out QTL data for later use\n",
    "pval_df.to_csv('../DATA/PHENOTYPE/MELANIN/Melanin_QTL_pvalues.csv.gz',index=True)\n",
    "pval_df.tail()"
   ]
  },
  {
   "cell_type": "code",
   "execution_count": 15,
   "metadata": {},
   "outputs": [
    {
     "data": {
      "text/plain": [
       "90495"
      ]
     },
     "execution_count": 15,
     "metadata": {},
     "output_type": "execute_result"
    }
   ],
   "source": [
    "## Gather dataframe index of QTL peak\n",
    "qtlix = pval_df[(pval_df.Chrom=='Chr14')][pheno].idxmax()\n",
    "qtlix"
   ]
  },
  {
   "cell_type": "code",
   "execution_count": 16,
   "metadata": {},
   "outputs": [],
   "source": [
    "## Bring in more needed mods\n",
    "from matplotlib.gridspec import GridSpec\n",
    "import statsmodels.formula.api as smf"
   ]
  },
  {
   "cell_type": "code",
   "execution_count": 17,
   "metadata": {},
   "outputs": [],
   "source": [
    "## And even more\n",
    "from PIL import Image\n",
    "plt.style.use(['tableau-colorblind10'])"
   ]
  },
  {
   "cell_type": "code",
   "execution_count": 18,
   "metadata": {},
   "outputs": [],
   "source": [
    "## Gather chromosome 14 resutls\n",
    "ch14 = pval_df[(pval_df.Chrom=='Chr14')]"
   ]
  },
  {
   "cell_type": "code",
   "execution_count": 19,
   "metadata": {},
   "outputs": [],
   "source": [
    "## Drop missing values if any\n",
    "if melanin.shape[0] != melanin.dropna().shape[0]:\n",
    "    melanin.dropna(inplace=true)"
   ]
  },
  {
   "cell_type": "code",
   "execution_count": 20,
   "metadata": {},
   "outputs": [],
   "source": [
    "## Gather peak QTL genotype\n",
    "melanin['QTL14'] = ch14.T[ch14[pheno].idxmax()].T[melanin.index].apply(int)"
   ]
  },
  {
   "cell_type": "code",
   "execution_count": 21,
   "metadata": {},
   "outputs": [],
   "source": [
    "## Set variables for plotting\n",
    "kb = 1000\n",
    "chrom_colors = ['tab:grey','tab:brown','lightgrey','salmon','tan']"
   ]
  },
  {
   "cell_type": "code",
   "execution_count": 22,
   "metadata": {},
   "outputs": [
    {
     "data": {
      "text/html": [
       "<table class=\"simpletable\">\n",
       "<caption>OLS Regression Results</caption>\n",
       "<tr>\n",
       "  <th>Dep. Variable:</th>     <td>Mean_intensity</td>  <th>  R-squared:         </th> <td>   0.395</td>\n",
       "</tr>\n",
       "<tr>\n",
       "  <th>Model:</th>                   <td>OLS</td>       <th>  Adj. R-squared:    </th> <td>   0.389</td>\n",
       "</tr>\n",
       "<tr>\n",
       "  <th>Method:</th>             <td>Least Squares</td>  <th>  F-statistic:       </th> <td>   66.59</td>\n",
       "</tr>\n",
       "<tr>\n",
       "  <th>Date:</th>             <td>Mon, 09 Nov 2020</td> <th>  Prob (F-statistic):</th> <td>9.17e-13</td>\n",
       "</tr>\n",
       "<tr>\n",
       "  <th>Time:</th>                 <td>08:33:43</td>     <th>  Log-Likelihood:    </th> <td> -957.41</td>\n",
       "</tr>\n",
       "<tr>\n",
       "  <th>No. Observations:</th>      <td>   104</td>      <th>  AIC:               </th> <td>   1919.</td>\n",
       "</tr>\n",
       "<tr>\n",
       "  <th>Df Residuals:</th>          <td>   102</td>      <th>  BIC:               </th> <td>   1924.</td>\n",
       "</tr>\n",
       "<tr>\n",
       "  <th>Df Model:</th>              <td>     1</td>      <th>                     </th>     <td> </td>   \n",
       "</tr>\n",
       "<tr>\n",
       "  <th>Covariance Type:</th>      <td>nonrobust</td>    <th>                     </th>     <td> </td>   \n",
       "</tr>\n",
       "</table>\n",
       "<table class=\"simpletable\">\n",
       "<tr>\n",
       "      <td></td>         <th>coef</th>     <th>std err</th>      <th>t</th>      <th>P>|t|</th>  <th>[0.025</th>    <th>0.975]</th>  \n",
       "</tr>\n",
       "<tr>\n",
       "  <th>Intercept</th> <td> 1.705e+04</td> <td>  347.488</td> <td>   49.076</td> <td> 0.000</td> <td> 1.64e+04</td> <td> 1.77e+04</td>\n",
       "</tr>\n",
       "<tr>\n",
       "  <th>QTL14</th>     <td>-3899.2723</td> <td>  477.832</td> <td>   -8.160</td> <td> 0.000</td> <td>-4847.051</td> <td>-2951.494</td>\n",
       "</tr>\n",
       "</table>\n",
       "<table class=\"simpletable\">\n",
       "<tr>\n",
       "  <th>Omnibus:</th>       <td>27.801</td> <th>  Durbin-Watson:     </th> <td>   1.900</td>\n",
       "</tr>\n",
       "<tr>\n",
       "  <th>Prob(Omnibus):</th> <td> 0.000</td> <th>  Jarque-Bera (JB):  </th> <td>  75.415</td>\n",
       "</tr>\n",
       "<tr>\n",
       "  <th>Skew:</th>          <td>-0.914</td> <th>  Prob(JB):          </th> <td>4.20e-17</td>\n",
       "</tr>\n",
       "<tr>\n",
       "  <th>Kurtosis:</th>      <td> 6.750</td> <th>  Cond. No.          </th> <td>    2.69</td>\n",
       "</tr>\n",
       "</table><br/><br/>Warnings:<br/>[1] Standard Errors assume that the covariance matrix of the errors is correctly specified."
      ],
      "text/plain": [
       "<class 'statsmodels.iolib.summary.Summary'>\n",
       "\"\"\"\n",
       "                            OLS Regression Results                            \n",
       "==============================================================================\n",
       "Dep. Variable:         Mean_intensity   R-squared:                       0.395\n",
       "Model:                            OLS   Adj. R-squared:                  0.389\n",
       "Method:                 Least Squares   F-statistic:                     66.59\n",
       "Date:                Mon, 09 Nov 2020   Prob (F-statistic):           9.17e-13\n",
       "Time:                        08:33:43   Log-Likelihood:                -957.41\n",
       "No. Observations:                 104   AIC:                             1919.\n",
       "Df Residuals:                     102   BIC:                             1924.\n",
       "Df Model:                           1                                         \n",
       "Covariance Type:            nonrobust                                         \n",
       "==============================================================================\n",
       "                 coef    std err          t      P>|t|      [0.025      0.975]\n",
       "------------------------------------------------------------------------------\n",
       "Intercept   1.705e+04    347.488     49.076      0.000    1.64e+04    1.77e+04\n",
       "QTL14      -3899.2723    477.832     -8.160      0.000   -4847.051   -2951.494\n",
       "==============================================================================\n",
       "Omnibus:                       27.801   Durbin-Watson:                   1.900\n",
       "Prob(Omnibus):                  0.000   Jarque-Bera (JB):               75.415\n",
       "Skew:                          -0.914   Prob(JB):                     4.20e-17\n",
       "Kurtosis:                       6.750   Cond. No.                         2.69\n",
       "==============================================================================\n",
       "\n",
       "Warnings:\n",
       "[1] Standard Errors assume that the covariance matrix of the errors is correctly specified.\n",
       "\"\"\""
      ]
     },
     "execution_count": 22,
     "metadata": {},
     "output_type": "execute_result"
    }
   ],
   "source": [
    "## Conduct a linear regression to calcualte R2\n",
    "results = smf.ols('Mean_intensity~QTL14',data=melanin).fit()\n",
    "results.summary()"
   ]
  },
  {
   "cell_type": "code",
   "execution_count": 23,
   "metadata": {},
   "outputs": [
    {
     "data": {
      "text/plain": [
       "0.39"
      ]
     },
     "execution_count": 23,
     "metadata": {},
     "output_type": "execute_result"
    }
   ],
   "source": [
    "## Name the heritability\n",
    "mel_r_sq = np.round(results.rsquared,2)\n",
    "mel_r_sq"
   ]
  },
  {
   "cell_type": "code",
   "execution_count": 24,
   "metadata": {},
   "outputs": [
    {
     "name": "stderr",
     "output_type": "stream",
     "text": [
      "/home/croth/anaconda3/lib/python3.8/site-packages/seaborn/categorical.py:1296: UserWarning: 12.2% of the points cannot be placed; you may want to decrease the size of the markers or use stripplot.\n",
      "  warnings.warn(msg, UserWarning)\n",
      "/home/croth/anaconda3/lib/python3.8/site-packages/seaborn/categorical.py:1296: UserWarning: 9.1% of the points cannot be placed; you may want to decrease the size of the markers or use stripplot.\n",
      "  warnings.warn(msg, UserWarning)\n",
      "<ipython-input-24-7aa6f2433d73>:250: MatplotlibDeprecationWarning: savefig() got unexpected keyword argument \"compression\" which is no longer supported as of 3.3 and will become an error two minor releases later\n",
      "  plt.savefig(qtlpaper_save,\n"
     ]
    },
    {
     "data": {
      "image/png": "[encoded data removed]",
      "text/plain": [
       "<Figure size 496.8x108 with 19 Axes>"
      ]
     },
     "metadata": {
      "needs_background": "light"
     },
     "output_type": "display_data"
    }
   ],
   "source": [
    "## Generate Figure 1 of Roth et al 2020\n",
    "width = 6.9\n",
    "height = 1.5\n",
    "fig = plt.figure(figsize=(width,height))\n",
    "gs = GridSpec(1, 4, figure=fig)\n",
    "ax0 = fig.add_subplot(gs[0, :-1])\n",
    "\n",
    "fs = 10\n",
    "plt.sca(ax0)\n",
    "ax0.spines['right'].set_visible(False)\n",
    "ax0.spines['top'].set_visible(False)\n",
    "for c in chrlist:\n",
    "    i = int(c[3:])-1\n",
    "    if c == 'Chr14':\n",
    "        cc = 'tab:blue'\n",
    "    else:\n",
    "        cc = chrom_colors[i%len(chrom_colors)]\n",
    "   \n",
    "    temp = pval_df[(pval_df.Chrom==c)]\n",
    "    plt.plot(temp.Pos+cumpos[i],temp[pheno].values,'.',\n",
    "             alpha = 0.25,markersize=1,color=cc,rasterized=True)\n",
    "    \n",
    "plt.xticks(chrmid,np.arange(len(chrlist))+1,fontsize=fs-2);\n",
    "plt.ylabel('$-\\log_{10}\\,(p-value)$',fontsize=fs);\n",
    "\n",
    "plt.xlabel('Chromosomes',fontsize=fs);\n",
    "plt.yticks(np.arange(0,16,2),fontsize=fs-2)\n",
    "plt.hlines(4.93,chrlens[0],19.1*(10**6),\n",
    "           linestyles='dashed',color='k',\n",
    "           alpha=0.9,linewidth=.8,rasterized=True);\n",
    "\n",
    "plt.text(s = r'$\\alpha$ = 0.01', x = 0.085,y= .42, \n",
    "         horizontalalignment='center',\n",
    "         verticalalignment='center', \n",
    "         transform=ax0.transAxes, fontsize=fs-2)\n",
    "\n",
    "plt.subplots_adjust(wspace=0.05)\n",
    "\n",
    "plt.sca(ax0)\n",
    "axs = fig.add_axes([0.305,1.50,.35,.1])\n",
    "plt.xticks([0.5],labels=['Representative F$_1$ Progeny'],fontsize=fs)\n",
    "plt.yticks([ ],labels=None)\n",
    "axs.spines['top'].set_visible(False) \n",
    "\n",
    "\n",
    "## Plot xl280a\n",
    "plt.sca(ax0)\n",
    "axm = fig.add_axes([0.09,1.52,0.15,.3])\n",
    "xl280a_path = '../IMAGES/XL280a_LDOPA_day3_middle.png'\n",
    "xl280a_obj = Image.open(xl280a_path)\n",
    "plt.imshow(xl280a_obj,rasterized=True),# aspect='auto')\n",
    "plt.xticks([40],labels=['XL280'+ r'$\\bf{a}$'],fontsize=fs)\n",
    "plt.yticks([]);\n",
    "[axm.spines[a].set_visible(False) \n",
    " for a in ['top','bottom','left','right']]\n",
    "\n",
    "## Plot 431\n",
    "plt.sca(ax0)\n",
    "axm = fig.add_axes([0.16,1.52,0.15,.3])\n",
    "plt.yticks([]);\n",
    "A837_path = '../IMAGES/SSA837_LDOPA_day3_middle.png'\n",
    "A837_obj = Image.open(A837_path)\n",
    "plt.imshow(A837_obj,rasterized=True),# aspect='auto')\n",
    "plt.xticks([40],labels=['431'+'$\\mathrm{\\u03B1}$'],fontsize=fs)\n",
    "[axm.spines[a].set_visible(False) \n",
    " for a in ['top','bottom','left','right']]\n",
    "\n",
    "\n",
    "plt.sca(ax0)\n",
    "## Plot S1\n",
    "axm = fig.add_axes([0.23,1.52,0.15,.3])\n",
    "plt.yticks([]);\n",
    "spath = '../IMAGES/S2_LDOPA_day3_middle.png'\n",
    "sobj = Image.open(spath)\n",
    "plt.imshow(sobj,rasterized=True),# aspect='auto')\n",
    "plt.xticks([],labels=[])\n",
    "plt.axis('off')\n",
    "\n",
    "\n",
    "plt.sca(ax0)\n",
    "## Plot S1\n",
    "axm = fig.add_axes([0.30,1.52,0.15,.3])\n",
    "plt.yticks([]);\n",
    "spath = '../IMAGES/S6_LDOPA_day3_middle.png' #'./S1_LDOPA_day3_middle.png'\n",
    "sobj = Image.open(spath)\n",
    "plt.imshow(sobj,rasterized=True),# aspect='auto')\n",
    "plt.xticks([],labels=[])\n",
    "plt.axis('off')\n",
    "\n",
    "\n",
    "plt.sca(ax0)\n",
    "## Plot S1\n",
    "axm = fig.add_axes([0.37,1.52,0.15,.3])\n",
    "plt.yticks([]);\n",
    "spath = '../IMAGES/S1_LDOPA_day3_middle.png'#'./S3_LDOPA_day3_middle.png'\n",
    "sobj = Image.open(spath)\n",
    "plt.imshow(sobj,rasterized=True),# aspect='auto')\n",
    "plt.xticks([],labels=[])\n",
    "plt.axis('off')\n",
    "\n",
    "\n",
    "plt.sca(ax0)\n",
    "## Plot S4\n",
    "axm = fig.add_axes([0.44,1.52,0.15,.3])\n",
    "plt.yticks([]);\n",
    "spath = '../IMAGES/S3_LDOPA_day3_middle.png'#'./S4_LDOPA_day3_middle.png'\n",
    "sobj = Image.open(spath)\n",
    "plt.imshow(sobj,rasterized=True),# aspect='auto')\n",
    "plt.xticks([],labels=[])\n",
    "plt.axis('off')\n",
    "\n",
    "\n",
    "plt.sca(ax0)\n",
    "## Plot S4\n",
    "axm = fig.add_axes([0.51,1.52,0.15,.3])\n",
    "plt.yticks([]);\n",
    "spath = '../IMAGES/S5_LDOPA_day3_middle.png'\n",
    "sobj = Image.open(spath)\n",
    "plt.imshow(sobj,rasterized=True),# aspect='auto')\n",
    "plt.xticks([],labels=[])\n",
    "plt.axis('off')\n",
    "\n",
    "\n",
    "plt.sca(ax0)\n",
    "## Plot S4\n",
    "axm = fig.add_axes([0.58,1.52,0.15,.3])\n",
    "plt.yticks([]);\n",
    "spath = '../IMAGES/S4_LDOPA_day3_middle.png'\n",
    "sobj = Image.open(spath)\n",
    "plt.imshow(sobj,rasterized=True),# aspect='auto')\n",
    "plt.xticks([],labels=[])\n",
    "plt.axis('off')\n",
    "\n",
    "\n",
    "\n",
    "#### ------------------------------------------------------------ #####\n",
    "\n",
    "plt.sca(ax0)\n",
    "axl =  fig.add_axes([0.13,-1.15, 0.2,.6])\n",
    "plt.sca(axl)\n",
    "\n",
    "axl.spines['right'].set_visible(False)\n",
    "axl.spines['top'].set_visible(False)\n",
    "\n",
    "sns.swarmplot(x='QTL14',y=pheno,\n",
    "              data=melanin,alpha=0.25,ax=axl,\n",
    "              size=3,edgecolor='k',linewidth=0.5,rasterized=True)\n",
    "\n",
    "ymax = 25000\n",
    "ymin = 5000\n",
    "plt.ylim(ymin,ymax)\n",
    "plt.yticks([5000,10000,15000,20000,25000],fontsize=fs-2)\n",
    "xl280_name = 'XL280'+r'$\\bf{a}$'\n",
    "_431_name = '431'+u'$\\mathrm{\\u03B1}$'\n",
    "plt.text(0.5,25000,'$R^2$ = %s'%mel_r_sq,fontsize=fs-2,ha='center',va='center')\n",
    "plt.xticks([0,1],[xl280_name,_431_name],fontsize=fs-2)\n",
    "plt.xlabel('Chromosome 14\\nQTL Allele',fontsize=fs)\n",
    "\n",
    "\n",
    "xl280strains = melanin[(melanin.QTL14==0)\n",
    "                      ].sort_values(pheno).index.tolist()\n",
    "_431strains = melanin[(melanin.QTL14==1)\n",
    "                     ].sort_values(pheno).index.tolist()\n",
    "\n",
    "lightest = xl280strains[-1]\n",
    "darkest = _431strains[0]\n",
    "xlmid = xl280strains[:(int(len(xl280a_path)/2))][-1]\n",
    "_431mid = _431strains[:(int(len(_431strains)/2))][-1]\n",
    "plt.ylabel('Mean Intensity\\n$\\longleftarrow$Dark - Light$\\longrightarrow$',\n",
    "           fontsize=fs);\n",
    "\n",
    "plt.sca(axl)\n",
    "\n",
    "\n",
    "axr =  fig.add_axes([0.37,-1.1, 0.32,.6])\n",
    "to_plot = melanin.T[[lightest,darkest,xlmid,_431mid]\n",
    "                   ].T.sort_values(pheno)[::-1]\n",
    "\n",
    "[plt.text(0.1+(0.29*i),1.1,s=k, transform=axr.transAxes,\n",
    "          fontsize=fs-1,va='center',ha='center') \n",
    " for i,k in enumerate(['F$_1$ Strain','QTL\\nAllele',\n",
    "                       'Mean\\nIntensity','Melanin\\nProduction'])]\n",
    "\n",
    "[plt.text(0.1,0.01+(0.25*i),s=''.join(k.split('-')), \n",
    "          transform=axr.transAxes,fontsize=fs-1,va='center',ha='center') \n",
    " for i,k in enumerate(to_plot.index.tolist()[::-1])]\n",
    "\n",
    "[plt.text(0.1+(.29),0.01+(0.25*i),s= xl280_name if k == 0 else _431_name, \n",
    "          transform=axr.transAxes,fontsize=fs-1,va='center',ha='center') \n",
    " for i,k in enumerate(to_plot.QTL14.tolist()[::-1])]\n",
    "\n",
    "[plt.text(0.1+(.29)+(.29),0.01+(0.25*i),s= np.round(k,1), \n",
    "          transform=axr.transAxes,fontsize=fs-1,va='center',ha='center') \n",
    " for i,k in enumerate(to_plot[pheno].tolist()[::-1])]\n",
    "\n",
    "plt.axis('off')\n",
    "plt.sca(axl)\n",
    "\n",
    "axm = fig.add_axes([0.628,-1.13 +.45,0.1,0.1])\n",
    "plt.yticks([]);\n",
    "k = 'SSB908'\n",
    "spath = '../IMAGES/%s_LDOPA_day3_middle.png'%k\n",
    "sobj = Image.open(spath)\n",
    "plt.imshow(sobj,rasterized=True)\n",
    "plt.xticks([],labels=[])\n",
    "plt.axis('off')\n",
    "\n",
    "axm = fig.add_axes([0.628,-1.13 +.30,0.1,0.1])\n",
    "plt.yticks([]);\n",
    "k = 'SSC242'\n",
    "spath = '../IMAGES/%s_LDOPA_day3_middle.png'%k\n",
    "sobj = Image.open(spath)\n",
    "plt.imshow(sobj,rasterized=True)\n",
    "plt.xticks([],labels=[])\n",
    "plt.axis('off')\n",
    "\n",
    "axm = fig.add_axes([0.628,-1.13 +.15,0.1,0.1])\n",
    "plt.yticks([]);\n",
    "k = 'SSB887'\n",
    "spath = '../IMAGES/%s_LDOPA_day3_middle.png'%k\n",
    "sobj = Image.open(spath)\n",
    "plt.imshow(sobj,rasterized=True)\n",
    "plt.xticks([],labels=[])\n",
    "plt.axis('off')\n",
    "\n",
    "axm = fig.add_axes([0.628,-1.13,0.1,0.1])\n",
    "plt.yticks([]);\n",
    "k = 'SSB621'\n",
    "spath = '../IMAGES/%s_LDOPA_day3_middle.png'%k\n",
    "sobj = Image.open(spath)\n",
    "plt.imshow(sobj,rasterized=True)\n",
    "plt.xticks([],labels=[])\n",
    "plt.axis('off')\n",
    "\n",
    "fig.text(0.07,1.85,'A',fontsize=fs,fontweight='bold')\n",
    "fig.text(0.07,1.1,'B',fontsize=fs,fontweight='bold')\n",
    "fig.text(0.07,-0.3,'C',fontsize=fs,fontweight='bold')\n",
    "fig.text(0.34,-0.3,'D',fontsize=fs,fontweight='bold')\n",
    "\n",
    "plt.sca(axr)\n",
    "\n",
    "fig.add_axes([0.367,-1.15,0.356,.0006]);plt.xticks([],[]);plt.yticks([],[])\n",
    "fig.add_axes([0.367,-.3, 0.356,.00000001]);plt.xticks([],[]);plt.yticks([],[])\n",
    "fig.add_axes([0.367,-.56, 0.356,.0006]);plt.xticks([],[]);plt.yticks([],[])\n",
    "\n",
    "mydpi = 600\n",
    "qtlpaper_save = '../FIGURES/MAIN/TIFF/Fig1.tiff'\n",
    "pdf_save = '../FIGURES/MAIN/PDFs/Fig1.pdf'\n",
    "\n",
    "plt.savefig(qtlpaper_save,\n",
    "           dpi=mydpi,bbox_inches='tight',\n",
    "            compression='tiff_lzw');\n",
    "\n",
    "plt.savefig(pdf_save,\n",
    "           dpi = mydpi,bbox_inches='tight',\n",
    "            pad_inches=1);\n",
    "\n",
    "im = Image.open(qtlpaper_save)\n",
    "w,h = im.size\n",
    "\n",
    "assert w/mydpi > 2.63\n",
    "assert w/mydpi < 7.5\n",
    "assert h/mydpi < 8.5\n",
    "    \n",
    "im.save(qtlpaper_save,compression='tiff_lzw');"
   ]
  },
  {
   "cell_type": "code",
   "execution_count": 25,
   "metadata": {},
   "outputs": [
    {
     "data": {
      "text/plain": [
       "(49, 55)"
      ]
     },
     "execution_count": 25,
     "metadata": {},
     "output_type": "execute_result"
    }
   ],
   "source": [
    "## Fix the QTL genotype on chromosome 14\n",
    "seg_x = melanin[(melanin.QTL14==0)].index.tolist()\n",
    "seg_4 = melanin[(melanin.QTL14==1)].index.tolist()\n",
    "\n",
    "## How many segregants do we have in each group\n",
    "## should be around 50:50\n",
    "len(seg_x),len(seg_4)"
   ]
  },
  {
   "cell_type": "code",
   "execution_count": 26,
   "metadata": {},
   "outputs": [
    {
     "name": "stderr",
     "output_type": "stream",
     "text": [
      "<ipython-input-3-6acc37fe0ce6>:17: RuntimeWarning: invalid value encountered in double_scalars\n",
      "  b = np.dot(ctry, ctrdummy)/np.dot(ctrdummy, ctrdummy)\n"
     ]
    }
   ],
   "source": [
    "## Conduct QTL mapping on mean intensity phenotype\n",
    "pheno = 'Mean_intensity'\n",
    "\n",
    "## Gather unique loci (haplo groups)\n",
    "test_x = gv[seg_x].drop_duplicates()\n",
    "\n",
    "## Associate QTL\n",
    "test_x[pheno] = test_x.apply(association_logPval,\n",
    "                         args=[melanin[pheno][seg_x]],\n",
    "                         axis=1)\n",
    "\n",
    "## Merge data\n",
    "pval_df['QTL_x'] = gv.merge(test_x)['Mean_intensity']"
   ]
  },
  {
   "cell_type": "code",
   "execution_count": 27,
   "metadata": {},
   "outputs": [
    {
     "name": "stderr",
     "output_type": "stream",
     "text": [
      "<ipython-input-3-6acc37fe0ce6>:17: RuntimeWarning: invalid value encountered in double_scalars\n",
      "  b = np.dot(ctry, ctrdummy)/np.dot(ctrdummy, ctrdummy)\n"
     ]
    }
   ],
   "source": [
    "## Conduct QTL mapping on mean intensity phenotype\n",
    "pheno = 'Mean_intensity'\n",
    "\n",
    "## Gather unique loci (haplo groups)\n",
    "test_4 = gv[seg_4].drop_duplicates()\n",
    "\n",
    "## Associate QTL\n",
    "test_4[pheno] = test_4.apply(association_logPval,\n",
    "                         args=[melanin[pheno][seg_4]],\n",
    "                         axis=1)\n",
    "\n",
    "## Merge data\n",
    "pval_df['QTL_4'] = gv.merge(test_4)['Mean_intensity']"
   ]
  },
  {
   "cell_type": "code",
   "execution_count": 62,
   "metadata": {},
   "outputs": [],
   "source": [
    "## These thresholds were already calculated\n",
    "## set to zero to re run permutation below\n",
    "thres_4 = 3.972\n",
    "thres_x = 4.273"
   ]
  },
  {
   "cell_type": "code",
   "execution_count": 85,
   "metadata": {},
   "outputs": [
    {
     "data": {
      "text/plain": [
       "[4.273, 3.972]"
      ]
     },
     "execution_count": 85,
     "metadata": {},
     "output_type": "execute_result"
    }
   ],
   "source": [
    "## Conduct permutaitons for test of additional QTL\n",
    "perm_x = []\n",
    "perm_4 = []\n",
    "\n",
    "pheno = 'Mean_intensity'\n",
    "perms_temp = 1000\n",
    "\n",
    "if thres_4 + thres_x == 0:\n",
    "    for i in range(perms_temp):\n",
    "    \n",
    "        ## Permute phenotypes, for segregants with 431 QTL allele\n",
    "        temp4 = pd.Series(np.random.permutation(\n",
    "            melanin[pheno][seg_4]),index=seg_4)\n",
    "    \n",
    "        ## For the progeny with XL280 QTL allele\n",
    "        tempx = pd.Series(np.random.permutation(\n",
    "            melanin[pheno][seg_x]),index=seg_x)\n",
    "    \n",
    "        ## Gather genotype information\n",
    "        test_4 = gv[temp4.index].drop_duplicates()\n",
    "        test_x = gv[tempx.index].drop_duplicates()\n",
    "\n",
    "        ## Take max association for both sets of progeny\n",
    "        test_4_max = test_4.apply(association_logPval,\n",
    "                         args=[temp4.values],\n",
    "                         axis=1).max()\n",
    "        test_x_max = test_x.apply(association_logPval,\n",
    "                         args=[tempx.values],\n",
    "                         axis=1).max()\n",
    "    \n",
    "        ## Append genome-wide max value\n",
    "        perm_4.append(test_4_max)\n",
    "        perm_x.append(test_x_max)\n",
    "    \n",
    "    ## Calculate thresholds\n",
    "    thres_4 = np.percentile(perm_4,95)\n",
    "    thres_x = np.percentile(perm_x,95)\n",
    "    \n",
    "thresholds = [thres_x,thres_4]\n",
    "thresholds"
   ]
  },
  {
   "cell_type": "code",
   "execution_count": 87,
   "metadata": {},
   "outputs": [
    {
     "data": {
      "image/png": "[encoded data removed]",
      "text/plain": [
       "<Figure size 864x288 with 2 Axes>"
      ]
     },
     "metadata": {
      "needs_background": "light"
     },
     "output_type": "display_data"
    }
   ],
   "source": [
    "## Plot split QTL\n",
    "fig, ax = plt.subplots(2,1,figsize=(12,4),sharey=True,sharex=True)\n",
    "\n",
    "title = 'Progeny with %s\\nChromosome 14 QTL allele'\n",
    "\n",
    "for ri, q in enumerate(['QTL_x','QTL_4']):\n",
    "    \n",
    "    plt.sca(ax[ri])\n",
    "    plt.hlines(thresholds[ri],0,np.max(cumpos[:-2])+np.max(chrlens),\n",
    "               linestyle='-.',color='k')\n",
    "    \n",
    "    plt.title(title%xl280_label if ri ==0 else title%_431_label,\n",
    "              x = .15,y=.5,fontsize=10)\n",
    "    for c in chrlist:\n",
    "        ci = int(c[3:])-1\n",
    "        \n",
    "        tempdf = pval_df[(pval_df.Chrom==c)].sort_values('Pos')\n",
    "        \n",
    "        plt.plot(tempdf.Pos.values+cumpos[ci],tempdf[q],'-.',ms=2)\n",
    "        \n",
    "plt.xticks(chrmid,np.arange(1,15));\n",
    "plt.xlabel('Chromosome',fontsize=14)\n",
    "fig.text(x=0.091,y=0.5,s='$-\\log_{10}\\,(p-value)$',\n",
    "         rotation=90,fontsize=14,va='center',ha='center');\n",
    "plt.savefig('/home/croth/Melanin_QTL_split_analysis.png',dpi=100,bbox_inches='tight');"
   ]
  },
  {
   "cell_type": "code",
   "execution_count": null,
   "metadata": {},
   "outputs": [],
   "source": []
  }
 ],
 "metadata": {
  "kernelspec": {
   "display_name": "Python 3",
   "language": "python",
   "name": "python3"
  },
  "language_info": {
   "codemirror_mode": {
    "name": "ipython",
    "version": 3
   },
   "file_extension": ".py",
   "mimetype": "text/x-python",
   "name": "python",
   "nbconvert_exporter": "python",
   "pygments_lexer": "ipython3",
   "version": "3.8.5"
  }
 },
 "nbformat": 4,
 "nbformat_minor": 4
}
