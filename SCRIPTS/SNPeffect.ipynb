{
 "cells": [
  {
   "cell_type": "code",
   "execution_count": 1,
   "metadata": {},
   "outputs": [],
   "source": [
    "## Set strain for analysis and write ftns\n",
    "SI = 1\n",
    "\n",
    "import pandas as pd, numpy as np, os, glob\n",
    "from Bio import SeqIO\n",
    "\n",
    "def dotfill(r,a,fill='.'):\n",
    "    return ''.join([fill for i in range(abs(len(a)-len(r)))])\n",
    "\n",
    "def scorealign(r,a,fill='.',verbose=True):\n",
    "    score = 0\n",
    "    ns = []\n",
    "    for i in range(len(r))[1:-1]:\n",
    "        temp = r[:i] + dotfill(r,a) + r[i:]\n",
    "        c = 0\n",
    "        for j,n in enumerate(a):\n",
    "            if n == temp[j]:\n",
    "                c = c + 1\n",
    "        if c > score:\n",
    "            ns = temp\n",
    "            score = c\n",
    "            if verbose:\n",
    "                print(ns,c)\n",
    "    if len(ns) == 0:\n",
    "        #print('Error empty sequence\\n%s\\n%s'%(r,a))\n",
    "        ns = r[0]+dotfill(r,a)+r[-1]\n",
    "    return ns\n",
    "\n",
    "def calcpos(seq,start,end,pad=0,fill='.'):\n",
    "    c = 0;\n",
    "    pos = np.arange(start,end+pad)\n",
    "    poss= []\n",
    "    if fill in seq:\n",
    "        for n in seq:\n",
    "            if n != fill:\n",
    "                poss.append(pos[c])\n",
    "                c = c + 1\n",
    "            else:\n",
    "                poss.append(pos[c])\n",
    "    else:\n",
    "        poss = pos\n",
    "    return poss\n",
    "\n",
    "def realign(ref,alt,verbose=False):\n",
    "    if len(alt) > len(ref):\n",
    "        newref = scorealign(ref,alt,verbose=verbose)\n",
    "        newalt = alt\n",
    "    elif len(ref) > len(alt):\n",
    "        newalt = scorealign(alt,ref,verbose=verbose)\n",
    "        newref = ref\n",
    "    else:\n",
    "        assert len(alt) == len(ref)\n",
    "        newref = ref\n",
    "        newalt = alt\n",
    "    return newref,newalt\n",
    "\n",
    "rdict = dict(zip(['three_prime_UTR',\n",
    "                  'five_prime_UTR',\n",
    "                  'CDS'],\n",
    "                 [3,5,0]))\n",
    "\n",
    "def gvtodf(gv,refseqdf,gffdf,rs='REF',fill='.',rdict=rdict):\n",
    "\n",
    "    refs = []\n",
    "    alts = []\n",
    "    poss = []\n",
    "    for i,j in gv.iterrows():\n",
    "    \n",
    "        ref = j.Ref\n",
    "        alt = j.Alt.split('.')[int(j.Sample)]\n",
    "        start = j.Pos\n",
    "        end = start + len(ref)\n",
    "    \n",
    "        newref,newalt = realign(ref,alt)\n",
    "        newpos = calcpos(newref,start,end)\n",
    "    \n",
    "        refs.append(newref)\n",
    "        alts.append(newalt)\n",
    "        poss.append(newpos)\n",
    "    \n",
    "    pos = np.concatenate(poss)\n",
    "    ref = [n for n in ''.join(refs)]\n",
    "    alt = [n for n in ''.join(alts)]\n",
    "\n",
    "    df = pd.DataFrame([pos,ref,alt],\n",
    "                      index=['Pos','Ref','Alt']).T\n",
    "    df['Isvar'] = 1\n",
    "\n",
    "    check = refseqdf[(refseqdf.Pos.isin(df.Pos))]\n",
    "    failed = []\n",
    "    for i,j in check.iterrows():\n",
    "        \n",
    "        tocheck = [s for s in \n",
    "                   df[(df.Pos==j.Pos)].Ref.tolist() \n",
    "                   if (s != fill)]\n",
    "        if len(tocheck) > 1: ## Should be one base\n",
    "            failed.append(j.Pos)\n",
    "        elif not tocheck[0] == j[rs]:\n",
    "            failed.append(j.Pos)\n",
    "            \n",
    "    if len(failed) > 0:\n",
    "        print('Reference alignment failed')\n",
    "    \n",
    "    dfadd = refseqdf[~(refseqdf.Pos.isin(df.Pos))].copy()\n",
    "    dfadd['Ref'] = dfadd[rs]\n",
    "    dfadd['Alt'] = dfadd[rs]\n",
    "    dfadd['Isvar'] = 0\n",
    "    dfadd.drop(rs,axis=1,inplace=True)\n",
    "\n",
    "    res = pd.concat([dfadd,df]).sort_values('Pos')\n",
    "    #res['Strand'] = -1 if gffdf.Strand.min() == '-' else 1\n",
    "    res['Strand'] = gffdf.Strand.min()\n",
    "    res['Type'] = -1\n",
    "    res['Phase'] = -1\n",
    "\n",
    "    for i,j in gffdf[(gffdf.Type!='gene')].iterrows():\n",
    "    \n",
    "        nb = np.arange(j.Start,j.End+1)\n",
    "        res.loc[(res.Pos.isin(nb)),'Type'] = j.Type\n",
    "    \n",
    "        if j.Type == 'CDS':\n",
    "            res.loc[(res.Pos.isin(nb)),'Phase'] = int(j.Phase)\n",
    "    \n",
    "    assert -1 not in res[(res.Type=='CDS')].Phase.tolist()\n",
    "    \n",
    "    res.Type.replace(rdict,inplace=True)\n",
    "\n",
    "    return res,failed"
   ]
  },
  {
   "cell_type": "code",
   "execution_count": 2,
   "metadata": {},
   "outputs": [
    {
     "data": {
      "text/html": [
       "<div>\n",
       "<style scoped>\n",
       "    .dataframe tbody tr th:only-of-type {\n",
       "        vertical-align: middle;\n",
       "    }\n",
       "\n",
       "    .dataframe tbody tr th {\n",
       "        vertical-align: top;\n",
       "    }\n",
       "\n",
       "    .dataframe thead th {\n",
       "        text-align: right;\n",
       "    }\n",
       "</style>\n",
       "<table border=\"1\" class=\"dataframe\">\n",
       "  <thead>\n",
       "    <tr style=\"text-align: right;\">\n",
       "      <th></th>\n",
       "      <th>Chrom</th>\n",
       "      <th>Pos</th>\n",
       "      <th>Qual</th>\n",
       "      <th>Callrate</th>\n",
       "      <th>Ref</th>\n",
       "      <th>Alt</th>\n",
       "      <th>Altlen</th>\n",
       "      <th>Dp</th>\n",
       "      <th>Type</th>\n",
       "      <th>Vcfix</th>\n",
       "      <th>...</th>\n",
       "      <th>SS-B565</th>\n",
       "      <th>SS-B600</th>\n",
       "      <th>SS-B574</th>\n",
       "      <th>SS-B872_cor</th>\n",
       "      <th>SS-B873_cor</th>\n",
       "      <th>SS-B360</th>\n",
       "      <th>SS-B397</th>\n",
       "      <th>SS-B564</th>\n",
       "      <th>SS-B382</th>\n",
       "      <th>Chromosome</th>\n",
       "    </tr>\n",
       "  </thead>\n",
       "  <tbody>\n",
       "    <tr>\n",
       "      <th>0</th>\n",
       "      <td>Chr01</td>\n",
       "      <td>5016</td>\n",
       "      <td>104492.0</td>\n",
       "      <td>1.0</td>\n",
       "      <td>C</td>\n",
       "      <td>C.A</td>\n",
       "      <td>1</td>\n",
       "      <td>6510</td>\n",
       "      <td>snp</td>\n",
       "      <td>289</td>\n",
       "      <td>...</td>\n",
       "      <td>0.0</td>\n",
       "      <td>1.0</td>\n",
       "      <td>1.0</td>\n",
       "      <td>0.0</td>\n",
       "      <td>0.0</td>\n",
       "      <td>1.0</td>\n",
       "      <td>0.0</td>\n",
       "      <td>1.0</td>\n",
       "      <td>0.0</td>\n",
       "      <td>1</td>\n",
       "    </tr>\n",
       "    <tr>\n",
       "      <th>1</th>\n",
       "      <td>Chr01</td>\n",
       "      <td>5299</td>\n",
       "      <td>112647.0</td>\n",
       "      <td>1.0</td>\n",
       "      <td>T</td>\n",
       "      <td>T.C</td>\n",
       "      <td>1</td>\n",
       "      <td>9711</td>\n",
       "      <td>snp</td>\n",
       "      <td>293</td>\n",
       "      <td>...</td>\n",
       "      <td>0.0</td>\n",
       "      <td>1.0</td>\n",
       "      <td>1.0</td>\n",
       "      <td>0.0</td>\n",
       "      <td>0.0</td>\n",
       "      <td>1.0</td>\n",
       "      <td>0.0</td>\n",
       "      <td>1.0</td>\n",
       "      <td>0.0</td>\n",
       "      <td>1</td>\n",
       "    </tr>\n",
       "    <tr>\n",
       "      <th>2</th>\n",
       "      <td>Chr01</td>\n",
       "      <td>5464</td>\n",
       "      <td>112658.0</td>\n",
       "      <td>1.0</td>\n",
       "      <td>T</td>\n",
       "      <td>T.C</td>\n",
       "      <td>1</td>\n",
       "      <td>9375</td>\n",
       "      <td>snp</td>\n",
       "      <td>294</td>\n",
       "      <td>...</td>\n",
       "      <td>0.0</td>\n",
       "      <td>1.0</td>\n",
       "      <td>1.0</td>\n",
       "      <td>0.0</td>\n",
       "      <td>0.0</td>\n",
       "      <td>1.0</td>\n",
       "      <td>0.0</td>\n",
       "      <td>1.0</td>\n",
       "      <td>0.0</td>\n",
       "      <td>1</td>\n",
       "    </tr>\n",
       "    <tr>\n",
       "      <th>3</th>\n",
       "      <td>Chr01</td>\n",
       "      <td>6120</td>\n",
       "      <td>109003.0</td>\n",
       "      <td>1.0</td>\n",
       "      <td>T</td>\n",
       "      <td>T.C</td>\n",
       "      <td>1</td>\n",
       "      <td>9311</td>\n",
       "      <td>snp</td>\n",
       "      <td>311</td>\n",
       "      <td>...</td>\n",
       "      <td>0.0</td>\n",
       "      <td>1.0</td>\n",
       "      <td>1.0</td>\n",
       "      <td>0.0</td>\n",
       "      <td>0.0</td>\n",
       "      <td>1.0</td>\n",
       "      <td>0.0</td>\n",
       "      <td>1.0</td>\n",
       "      <td>0.0</td>\n",
       "      <td>1</td>\n",
       "    </tr>\n",
       "    <tr>\n",
       "      <th>4</th>\n",
       "      <td>Chr01</td>\n",
       "      <td>6166</td>\n",
       "      <td>114638.0</td>\n",
       "      <td>1.0</td>\n",
       "      <td>G</td>\n",
       "      <td>G.A</td>\n",
       "      <td>1</td>\n",
       "      <td>9269</td>\n",
       "      <td>snp</td>\n",
       "      <td>312</td>\n",
       "      <td>...</td>\n",
       "      <td>0.0</td>\n",
       "      <td>1.0</td>\n",
       "      <td>1.0</td>\n",
       "      <td>0.0</td>\n",
       "      <td>0.0</td>\n",
       "      <td>1.0</td>\n",
       "      <td>0.0</td>\n",
       "      <td>1.0</td>\n",
       "      <td>0.0</td>\n",
       "      <td>1</td>\n",
       "    </tr>\n",
       "  </tbody>\n",
       "</table>\n",
       "<p>5 rows × 126 columns</p>\n",
       "</div>"
      ],
      "text/plain": [
       "   Chrom   Pos      Qual  Callrate Ref  Alt  Altlen    Dp Type  Vcfix  ...  \\\n",
       "0  Chr01  5016  104492.0       1.0   C  C.A       1  6510  snp    289  ...   \n",
       "1  Chr01  5299  112647.0       1.0   T  T.C       1  9711  snp    293  ...   \n",
       "2  Chr01  5464  112658.0       1.0   T  T.C       1  9375  snp    294  ...   \n",
       "3  Chr01  6120  109003.0       1.0   T  T.C       1  9311  snp    311  ...   \n",
       "4  Chr01  6166  114638.0       1.0   G  G.A       1  9269  snp    312  ...   \n",
       "\n",
       "   SS-B565  SS-B600  SS-B574  SS-B872_cor  SS-B873_cor  SS-B360  SS-B397  \\\n",
       "0      0.0      1.0      1.0          0.0          0.0      1.0      0.0   \n",
       "1      0.0      1.0      1.0          0.0          0.0      1.0      0.0   \n",
       "2      0.0      1.0      1.0          0.0          0.0      1.0      0.0   \n",
       "3      0.0      1.0      1.0          0.0          0.0      1.0      0.0   \n",
       "4      0.0      1.0      1.0          0.0          0.0      1.0      0.0   \n",
       "\n",
       "   SS-B564  SS-B382  Chromosome  \n",
       "0      1.0      0.0           1  \n",
       "1      1.0      0.0           1  \n",
       "2      1.0      0.0           1  \n",
       "3      1.0      0.0           1  \n",
       "4      1.0      0.0           1  \n",
       "\n",
       "[5 rows x 126 columns]"
      ]
     },
     "execution_count": 2,
     "metadata": {},
     "output_type": "execute_result"
    }
   ],
   "source": [
    "geno_path = '../DATA/GENOTYPE/CDx-ill-SNP-INDEL-df-104-blocked.csv.gz'\n",
    "genos = pd.read_csv(geno_path)\n",
    "\n",
    "genos['Alt'] = genos[['Ref','Alt']].apply('.'.join,axis=1)\n",
    "\n",
    "genos['Chromosome'] = [int(c[-2:]) for c in genos.Chrom]\n",
    "\n",
    "genos.head()"
   ]
  },
  {
   "cell_type": "code",
   "execution_count": 3,
   "metadata": {},
   "outputs": [
    {
     "data": {
      "text/html": [
       "<div>\n",
       "<style scoped>\n",
       "    .dataframe tbody tr th:only-of-type {\n",
       "        vertical-align: middle;\n",
       "    }\n",
       "\n",
       "    .dataframe tbody tr th {\n",
       "        vertical-align: top;\n",
       "    }\n",
       "\n",
       "    .dataframe thead th {\n",
       "        text-align: right;\n",
       "    }\n",
       "</style>\n",
       "<table border=\"1\" class=\"dataframe\">\n",
       "  <thead>\n",
       "    <tr style=\"text-align: right;\">\n",
       "      <th></th>\n",
       "      <th>Type</th>\n",
       "      <th>Gene</th>\n",
       "      <th>Start</th>\n",
       "      <th>End</th>\n",
       "      <th>Strand</th>\n",
       "      <th>Contig</th>\n",
       "      <th>Phase</th>\n",
       "      <th>Attribute</th>\n",
       "      <th>Description</th>\n",
       "      <th>Id</th>\n",
       "      <th>Seqid</th>\n",
       "      <th>Parent</th>\n",
       "    </tr>\n",
       "  </thead>\n",
       "  <tbody>\n",
       "    <tr>\n",
       "      <th>4012</th>\n",
       "      <td>gene</td>\n",
       "      <td>CNE00010</td>\n",
       "      <td>38</td>\n",
       "      <td>910</td>\n",
       "      <td>-1</td>\n",
       "      <td>Chr05</td>\n",
       "      <td>.</td>\n",
       "      <td>ID=CNE00010;description=hypothetical protein</td>\n",
       "      <td>hypothetical protein</td>\n",
       "      <td>CNE00010</td>\n",
       "      <td>Chr05</td>\n",
       "      <td>CNE00010</td>\n",
       "    </tr>\n",
       "    <tr>\n",
       "      <th>67409</th>\n",
       "      <td>gene</td>\n",
       "      <td>CNH03875</td>\n",
       "      <td>76</td>\n",
       "      <td>2412</td>\n",
       "      <td>-1</td>\n",
       "      <td>Chr08</td>\n",
       "      <td>.</td>\n",
       "      <td>ID=CNH03875;description=hypothetical protein</td>\n",
       "      <td>hypothetical protein</td>\n",
       "      <td>CNH03875</td>\n",
       "      <td>Chr08</td>\n",
       "      <td>CNH03875</td>\n",
       "    </tr>\n",
       "    <tr>\n",
       "      <th>34312</th>\n",
       "      <td>gene</td>\n",
       "      <td>CNJ00010</td>\n",
       "      <td>171</td>\n",
       "      <td>4804</td>\n",
       "      <td>1</td>\n",
       "      <td>Chr10</td>\n",
       "      <td>.</td>\n",
       "      <td>ID=CNJ00010;description=conserved hypothetical...</td>\n",
       "      <td>conserved hypothetical protein</td>\n",
       "      <td>CNJ00010</td>\n",
       "      <td>Chr10</td>\n",
       "      <td>CNJ00010</td>\n",
       "    </tr>\n",
       "    <tr>\n",
       "      <th>70098</th>\n",
       "      <td>gene</td>\n",
       "      <td>CNG00010</td>\n",
       "      <td>196</td>\n",
       "      <td>1723</td>\n",
       "      <td>1</td>\n",
       "      <td>Chr07</td>\n",
       "      <td>.</td>\n",
       "      <td>ID=CNG00010;description=hypothetical protein</td>\n",
       "      <td>hypothetical protein</td>\n",
       "      <td>CNG00010</td>\n",
       "      <td>Chr07</td>\n",
       "      <td>CNG00010</td>\n",
       "    </tr>\n",
       "    <tr>\n",
       "      <th>70249</th>\n",
       "      <td>gene</td>\n",
       "      <td>CNH03660</td>\n",
       "      <td>211</td>\n",
       "      <td>2748</td>\n",
       "      <td>-1</td>\n",
       "      <td>Chr12</td>\n",
       "      <td>.</td>\n",
       "      <td>ID=CNH03660;description=alpha-amylase AmyA%2C ...</td>\n",
       "      <td>alpha-amylase AmyA</td>\n",
       "      <td>CNH03660</td>\n",
       "      <td>Chr12</td>\n",
       "      <td>CNH03660</td>\n",
       "    </tr>\n",
       "  </tbody>\n",
       "</table>\n",
       "</div>"
      ],
      "text/plain": [
       "       Type      Gene  Start   End  Strand Contig Phase  \\\n",
       "4012   gene  CNE00010     38   910      -1  Chr05     .   \n",
       "67409  gene  CNH03875     76  2412      -1  Chr08     .   \n",
       "34312  gene  CNJ00010    171  4804       1  Chr10     .   \n",
       "70098  gene  CNG00010    196  1723       1  Chr07     .   \n",
       "70249  gene  CNH03660    211  2748      -1  Chr12     .   \n",
       "\n",
       "                                               Attribute  \\\n",
       "4012        ID=CNE00010;description=hypothetical protein   \n",
       "67409       ID=CNH03875;description=hypothetical protein   \n",
       "34312  ID=CNJ00010;description=conserved hypothetical...   \n",
       "70098       ID=CNG00010;description=hypothetical protein   \n",
       "70249  ID=CNH03660;description=alpha-amylase AmyA%2C ...   \n",
       "\n",
       "                          Description        Id  Seqid    Parent  \n",
       "4012             hypothetical protein  CNE00010  Chr05  CNE00010  \n",
       "67409            hypothetical protein  CNH03875  Chr08  CNH03875  \n",
       "34312  conserved hypothetical protein  CNJ00010  Chr10  CNJ00010  \n",
       "70098            hypothetical protein  CNG00010  Chr07  CNG00010  \n",
       "70249              alpha-amylase AmyA  CNH03660  Chr12  CNH03660  "
      ]
     },
     "execution_count": 3,
     "metadata": {},
     "output_type": "execute_result"
    }
   ],
   "source": [
    "## Bring in GFF file\n",
    "gffpath = '../DATA/xl280genome.gff3.csv.gz'\n",
    "gff = pd.read_csv(gffpath,index_col=0)\n",
    "\n",
    "descriptions = ['hypothetical protein',\n",
    "                'unspecified product',\n",
    "                'conserved hypothetical protein']\n",
    "foi = ['gene','three_prime_UTR','five_prime_UTR','CDS']\n",
    "\n",
    "\n",
    "gff.columns = [c.capitalize() for c in gff.columns]\n",
    "\n",
    "gff['Seqid'] = gff['Contig']\n",
    "gff['Strand'] = gff['Strand'].replace(dict(zip(['-','+'],[-1,1])))\n",
    "gff['Parent'] = [a.split('Parent=')[-1].split(';')[0].split('ID=')[-1] \n",
    "                 for a in gff.Attribute ]\n",
    "\n",
    "genes = gff[(gff.Type=='gene')].sort_values('Start').copy()\n",
    "\n",
    "genes['Description'] = [a.split('description=')[-1].split('%2C')[0] \n",
    "                        for a in genes.Attribute]\n",
    "\n",
    "genes.head()"
   ]
  },
  {
   "cell_type": "code",
   "execution_count": 4,
   "metadata": {},
   "outputs": [
    {
     "data": {
      "text/plain": [
       "14"
      ]
     },
     "execution_count": 4,
     "metadata": {},
     "output_type": "execute_result"
    }
   ],
   "source": [
    "## Bring in reference file\n",
    "refpath = '/home/croth/xl280genome.fasta'\n",
    "\n",
    "REF = [s for s in SeqIO.parse(refpath,format='fasta')]\n",
    "len(REF)"
   ]
  },
  {
   "cell_type": "code",
   "execution_count": 5,
   "metadata": {},
   "outputs": [
    {
     "data": {
      "text/plain": [
       "(18, 12)"
      ]
     },
     "execution_count": 5,
     "metadata": {},
     "output_type": "execute_result"
    }
   ],
   "source": [
    "## How many are in ric 8\n",
    "ric8_name = 'CNN01270-t26_1'\n",
    "gff[(gff.Parent==ric8_name)].shape"
   ]
  },
  {
   "cell_type": "code",
   "execution_count": 6,
   "metadata": {},
   "outputs": [
    {
     "data": {
      "text/plain": [
       "(3423, 12)"
      ]
     },
     "execution_count": 6,
     "metadata": {},
     "output_type": "execute_result"
    }
   ],
   "source": [
    "## Collect known genes\n",
    "known = genes[~(genes.Description.isin(descriptions))]\n",
    "known_genes = known.Gene.tolist()\n",
    "known.shape"
   ]
  },
  {
   "cell_type": "code",
   "execution_count": 7,
   "metadata": {},
   "outputs": [
    {
     "data": {
      "text/plain": [
       "(2577, 12)"
      ]
     },
     "execution_count": 7,
     "metadata": {},
     "output_type": "execute_result"
    }
   ],
   "source": [
    "## Collect unknown genes\n",
    "unknown = genes[(genes.Description.isin(descriptions))]\n",
    "unknown_genes = unknown.Gene.tolist()\n",
    "unknown.shape"
   ]
  },
  {
   "cell_type": "code",
   "execution_count": 32,
   "metadata": {},
   "outputs": [
    {
     "data": {
      "text/html": [
       "<div>\n",
       "<style scoped>\n",
       "    .dataframe tbody tr th:only-of-type {\n",
       "        vertical-align: middle;\n",
       "    }\n",
       "\n",
       "    .dataframe tbody tr th {\n",
       "        vertical-align: top;\n",
       "    }\n",
       "\n",
       "    .dataframe thead th {\n",
       "        text-align: right;\n",
       "    }\n",
       "</style>\n",
       "<table border=\"1\" class=\"dataframe\">\n",
       "  <thead>\n",
       "    <tr style=\"text-align: right;\">\n",
       "      <th></th>\n",
       "      <th>Cumpos</th>\n",
       "      <th>Chrom</th>\n",
       "      <th>Max</th>\n",
       "      <th>Pos</th>\n",
       "    </tr>\n",
       "  </thead>\n",
       "  <tbody>\n",
       "    <tr>\n",
       "      <th>522</th>\n",
       "      <td>3142153</td>\n",
       "      <td>Chr02</td>\n",
       "      <td>5.958631</td>\n",
       "      <td>847396</td>\n",
       "    </tr>\n",
       "    <tr>\n",
       "      <th>523</th>\n",
       "      <td>3143506</td>\n",
       "      <td>Chr02</td>\n",
       "      <td>6.297631</td>\n",
       "      <td>848749</td>\n",
       "    </tr>\n",
       "    <tr>\n",
       "      <th>524</th>\n",
       "      <td>3144731</td>\n",
       "      <td>Chr02</td>\n",
       "      <td>6.466895</td>\n",
       "      <td>849974</td>\n",
       "    </tr>\n",
       "    <tr>\n",
       "      <th>525</th>\n",
       "      <td>3205392</td>\n",
       "      <td>Chr02</td>\n",
       "      <td>5.130648</td>\n",
       "      <td>910635</td>\n",
       "    </tr>\n",
       "    <tr>\n",
       "      <th>527</th>\n",
       "      <td>3209641</td>\n",
       "      <td>Chr02</td>\n",
       "      <td>5.192451</td>\n",
       "      <td>914884</td>\n",
       "    </tr>\n",
       "  </tbody>\n",
       "</table>\n",
       "</div>"
      ],
      "text/plain": [
       "      Cumpos  Chrom       Max     Pos\n",
       "522  3142153  Chr02  5.958631  847396\n",
       "523  3143506  Chr02  6.297631  848749\n",
       "524  3144731  Chr02  6.466895  849974\n",
       "525  3205392  Chr02  5.130648  910635\n",
       "527  3209641  Chr02  5.192451  914884"
      ]
     },
     "execution_count": 32,
     "metadata": {},
     "output_type": "execute_result"
    }
   ],
   "source": [
    "maxqtl_info = pd.read_csv('../DATA/Max_QTL_bounds.csv',index_col=0)\n",
    "maxqtl_info.head()"
   ]
  },
  {
   "cell_type": "code",
   "execution_count": 33,
   "metadata": {},
   "outputs": [],
   "source": [
    "maxqtl_info['Genoix'] = [genos[(genos.Chrom==mr.Chrom) & \n",
    "                               (genos.Pos==mr.Pos)].index.max() \n",
    "                                 for i,mr in maxqtl_info.iterrows()]"
   ]
  },
  {
   "cell_type": "code",
   "execution_count": 37,
   "metadata": {},
   "outputs": [
    {
     "data": {
      "text/html": [
       "<div>\n",
       "<style scoped>\n",
       "    .dataframe tbody tr th:only-of-type {\n",
       "        vertical-align: middle;\n",
       "    }\n",
       "\n",
       "    .dataframe tbody tr th {\n",
       "        vertical-align: top;\n",
       "    }\n",
       "\n",
       "    .dataframe thead th {\n",
       "        text-align: right;\n",
       "    }\n",
       "</style>\n",
       "<table border=\"1\" class=\"dataframe\">\n",
       "  <thead>\n",
       "    <tr style=\"text-align: right;\">\n",
       "      <th></th>\n",
       "      <th>Chrom</th>\n",
       "      <th>Left</th>\n",
       "      <th>Right</th>\n",
       "    </tr>\n",
       "  </thead>\n",
       "  <tbody>\n",
       "    <tr>\n",
       "      <th>0</th>\n",
       "      <td>Chr02</td>\n",
       "      <td>847396</td>\n",
       "      <td>1001789</td>\n",
       "    </tr>\n",
       "    <tr>\n",
       "      <th>1</th>\n",
       "      <td>Chr11</td>\n",
       "      <td>37942</td>\n",
       "      <td>98737</td>\n",
       "    </tr>\n",
       "    <tr>\n",
       "      <th>2</th>\n",
       "      <td>Chr12</td>\n",
       "      <td>552849</td>\n",
       "      <td>616400</td>\n",
       "    </tr>\n",
       "    <tr>\n",
       "      <th>3</th>\n",
       "      <td>Chr14</td>\n",
       "      <td>353726</td>\n",
       "      <td>423207</td>\n",
       "    </tr>\n",
       "  </tbody>\n",
       "</table>\n",
       "</div>"
      ],
      "text/plain": [
       "   Chrom    Left    Right\n",
       "0  Chr02  847396  1001789\n",
       "1  Chr11   37942    98737\n",
       "2  Chr12  552849   616400\n",
       "3  Chr14  353726   423207"
      ]
     },
     "execution_count": 37,
     "metadata": {},
     "output_type": "execute_result"
    }
   ],
   "source": [
    "qtl_bounds = []\n",
    "for i,cb in maxqtl_info.groupby('Chrom'):\n",
    "    \n",
    "    l = genos[(genos.Block == genos.loc[cb.Genoix.min(),'Block'])].Pos.min()\n",
    "    r = genos[(genos.Block == genos.loc[cb.Genoix.max(),'Block'])].Pos.max()\n",
    "    \n",
    "    qtlb = (i,l,r)\n",
    "    qtl_bounds.append(qtlb)\n",
    "    \n",
    "qtl_bounds = pd.DataFrame(qtl_bounds,columns=['Chrom','Left','Right'])\n",
    "qtl_bounds"
   ]
  },
  {
   "cell_type": "code",
   "execution_count": 38,
   "metadata": {},
   "outputs": [],
   "source": [
    "ekb = 0"
   ]
  },
  {
   "cell_type": "code",
   "execution_count": 39,
   "metadata": {},
   "outputs": [
    {
     "data": {
      "text/plain": [
       "136"
      ]
     },
     "execution_count": 39,
     "metadata": {},
     "output_type": "execute_result"
    }
   ],
   "source": [
    "qtlgenes = np.concatenate([genes[(genes.Contig ==c.Chrom) & \n",
    "              (genes.Start>=c.Left-ekb) & \n",
    "              (genes.End <= c.Right+ekb)].Parent.tolist() \n",
    "            for i,c in qtl_bounds.iterrows()])\n",
    "len(qtlgenes)"
   ]
  },
  {
   "cell_type": "code",
   "execution_count": 40,
   "metadata": {},
   "outputs": [
    {
     "data": {
      "text/html": [
       "<div>\n",
       "<style scoped>\n",
       "    .dataframe tbody tr th:only-of-type {\n",
       "        vertical-align: middle;\n",
       "    }\n",
       "\n",
       "    .dataframe tbody tr th {\n",
       "        vertical-align: top;\n",
       "    }\n",
       "\n",
       "    .dataframe thead th {\n",
       "        text-align: right;\n",
       "    }\n",
       "</style>\n",
       "<table border=\"1\" class=\"dataframe\">\n",
       "  <thead>\n",
       "    <tr style=\"text-align: right;\">\n",
       "      <th></th>\n",
       "      <th>Gene</th>\n",
       "      <th>Parent</th>\n",
       "    </tr>\n",
       "  </thead>\n",
       "  <tbody>\n",
       "    <tr>\n",
       "      <th>819</th>\n",
       "      <td>CNK00300</td>\n",
       "      <td>CNK00300-t26_1</td>\n",
       "    </tr>\n",
       "    <tr>\n",
       "      <th>1588</th>\n",
       "      <td>CNN01300</td>\n",
       "      <td>CNN01300-t26_1</td>\n",
       "    </tr>\n",
       "    <tr>\n",
       "      <th>1777</th>\n",
       "      <td>CNB03090</td>\n",
       "      <td>CNB03090-t26_1</td>\n",
       "    </tr>\n",
       "    <tr>\n",
       "      <th>2361</th>\n",
       "      <td>CNK00280</td>\n",
       "      <td>CNK00280-t26_1</td>\n",
       "    </tr>\n",
       "    <tr>\n",
       "      <th>3560</th>\n",
       "      <td>CNL05630</td>\n",
       "      <td>CNL05630-t26_1</td>\n",
       "    </tr>\n",
       "  </tbody>\n",
       "</table>\n",
       "</div>"
      ],
      "text/plain": [
       "          Gene          Parent\n",
       "819   CNK00300  CNK00300-t26_1\n",
       "1588  CNN01300  CNN01300-t26_1\n",
       "1777  CNB03090  CNB03090-t26_1\n",
       "2361  CNK00280  CNK00280-t26_1\n",
       "3560  CNL05630  CNL05630-t26_1"
      ]
     },
     "execution_count": 40,
     "metadata": {},
     "output_type": "execute_result"
    }
   ],
   "source": [
    "## Gather parents\n",
    "parents = gff[(gff.Type.isin(foi)) & \n",
    "              (gff.Type!='gene') & \n",
    "              (gff.Gene.isin(qtlgenes))\n",
    "             ][['Gene','Parent']\n",
    "              ].drop_duplicates()\n",
    "parents.head()"
   ]
  },
  {
   "cell_type": "code",
   "execution_count": 41,
   "metadata": {},
   "outputs": [
    {
     "data": {
      "text/plain": [
       "16"
      ]
     },
     "execution_count": 41,
     "metadata": {},
     "output_type": "execute_result"
    }
   ],
   "source": [
    "salt_QTL = (952008, 994759)\n",
    "saltgenes = genes[(genes.Contig =='Chr10') & \n",
    "              (genes.Start>= np.min(salt_QTL) - ekb) & \n",
    "              (genes.End <= np.max(salt_QTL) + ekb)].Parent.tolist() \n",
    "len(saltgenes)"
   ]
  },
  {
   "cell_type": "code",
   "execution_count": 42,
   "metadata": {},
   "outputs": [
    {
     "data": {
      "text/html": [
       "<div>\n",
       "<style scoped>\n",
       "    .dataframe tbody tr th:only-of-type {\n",
       "        vertical-align: middle;\n",
       "    }\n",
       "\n",
       "    .dataframe tbody tr th {\n",
       "        vertical-align: top;\n",
       "    }\n",
       "\n",
       "    .dataframe thead th {\n",
       "        text-align: right;\n",
       "    }\n",
       "</style>\n",
       "<table border=\"1\" class=\"dataframe\">\n",
       "  <thead>\n",
       "    <tr style=\"text-align: right;\">\n",
       "      <th></th>\n",
       "      <th>Gene</th>\n",
       "      <th>Parent</th>\n",
       "    </tr>\n",
       "  </thead>\n",
       "  <tbody>\n",
       "    <tr>\n",
       "      <th>5046</th>\n",
       "      <td>CNJ03153</td>\n",
       "      <td>CNJ03153-t26_1</td>\n",
       "    </tr>\n",
       "    <tr>\n",
       "      <th>15762</th>\n",
       "      <td>CNJ03173</td>\n",
       "      <td>CNJ03173-t26_1</td>\n",
       "    </tr>\n",
       "    <tr>\n",
       "      <th>34951</th>\n",
       "      <td>CNJ03090</td>\n",
       "      <td>CNJ03090-t26_1</td>\n",
       "    </tr>\n",
       "    <tr>\n",
       "      <th>36240</th>\n",
       "      <td>CNJ03120</td>\n",
       "      <td>CNJ03120-t26_1</td>\n",
       "    </tr>\n",
       "    <tr>\n",
       "      <th>38621</th>\n",
       "      <td>CNJ03175</td>\n",
       "      <td>CNJ03175-t26_1</td>\n",
       "    </tr>\n",
       "  </tbody>\n",
       "</table>\n",
       "</div>"
      ],
      "text/plain": [
       "           Gene          Parent\n",
       "5046   CNJ03153  CNJ03153-t26_1\n",
       "15762  CNJ03173  CNJ03173-t26_1\n",
       "34951  CNJ03090  CNJ03090-t26_1\n",
       "36240  CNJ03120  CNJ03120-t26_1\n",
       "38621  CNJ03175  CNJ03175-t26_1"
      ]
     },
     "execution_count": 42,
     "metadata": {},
     "output_type": "execute_result"
    }
   ],
   "source": [
    "saltparents  = gff[(gff.Type.isin(foi)) & \n",
    "              (gff.Type!='gene') & \n",
    "              (gff.Gene.isin(saltgenes))\n",
    "             ][['Gene','Parent']\n",
    "              ].drop_duplicates()\n",
    "saltparents.head()"
   ]
  },
  {
   "cell_type": "code",
   "execution_count": 43,
   "metadata": {},
   "outputs": [],
   "source": [
    "verbos = False"
   ]
  },
  {
   "cell_type": "code",
   "execution_count": 44,
   "metadata": {},
   "outputs": [
    {
     "data": {
      "text/plain": [
       "True"
      ]
     },
     "execution_count": 44,
     "metadata": {},
     "output_type": "execute_result"
    }
   ],
   "source": [
    "ric8_name in parents.Parent.tolist()"
   ]
  },
  {
   "cell_type": "code",
   "execution_count": 45,
   "metadata": {},
   "outputs": [],
   "source": [
    "known_parents = parents.Parent.tolist()"
   ]
  },
  {
   "cell_type": "code",
   "execution_count": 46,
   "metadata": {},
   "outputs": [
    {
     "data": {
      "text/html": [
       "<div>\n",
       "<style scoped>\n",
       "    .dataframe tbody tr th:only-of-type {\n",
       "        vertical-align: middle;\n",
       "    }\n",
       "\n",
       "    .dataframe tbody tr th {\n",
       "        vertical-align: top;\n",
       "    }\n",
       "\n",
       "    .dataframe thead th {\n",
       "        text-align: right;\n",
       "    }\n",
       "</style>\n",
       "<table border=\"1\" class=\"dataframe\">\n",
       "  <thead>\n",
       "    <tr style=\"text-align: right;\">\n",
       "      <th></th>\n",
       "      <th>SS-A837</th>\n",
       "      <th>XL280a</th>\n",
       "      <th>XL280alpha</th>\n",
       "    </tr>\n",
       "  </thead>\n",
       "  <tbody>\n",
       "    <tr>\n",
       "      <th>0</th>\n",
       "      <td>1.0</td>\n",
       "      <td>0.0</td>\n",
       "      <td>0.0</td>\n",
       "    </tr>\n",
       "    <tr>\n",
       "      <th>1</th>\n",
       "      <td>1.0</td>\n",
       "      <td>0.0</td>\n",
       "      <td>0.0</td>\n",
       "    </tr>\n",
       "    <tr>\n",
       "      <th>2</th>\n",
       "      <td>1.0</td>\n",
       "      <td>0.0</td>\n",
       "      <td>0.0</td>\n",
       "    </tr>\n",
       "    <tr>\n",
       "      <th>3</th>\n",
       "      <td>1.0</td>\n",
       "      <td>0.0</td>\n",
       "      <td>0.0</td>\n",
       "    </tr>\n",
       "    <tr>\n",
       "      <th>4</th>\n",
       "      <td>1.0</td>\n",
       "      <td>0.0</td>\n",
       "      <td>0.0</td>\n",
       "    </tr>\n",
       "  </tbody>\n",
       "</table>\n",
       "</div>"
      ],
      "text/plain": [
       "   SS-A837  XL280a  XL280alpha\n",
       "0      1.0     0.0         0.0\n",
       "1      1.0     0.0         0.0\n",
       "2      1.0     0.0         0.0\n",
       "3      1.0     0.0         0.0\n",
       "4      1.0     0.0         0.0"
      ]
     },
     "execution_count": 46,
     "metadata": {},
     "output_type": "execute_result"
    }
   ],
   "source": [
    "Fo = ['SS-A837','XL280a','XL280alpha']\n",
    "genos[Fo].head()"
   ]
  },
  {
   "cell_type": "code",
   "execution_count": 47,
   "metadata": {},
   "outputs": [],
   "source": [
    "samplename = 'SS-A837'"
   ]
  },
  {
   "cell_type": "code",
   "execution_count": 48,
   "metadata": {},
   "outputs": [
    {
     "data": {
      "text/plain": [
       "'../DATA/GENOTYPE/GENES/SS-A837/'"
      ]
     },
     "execution_count": 48,
     "metadata": {},
     "output_type": "execute_result"
    }
   ],
   "source": [
    "savepath = '../DATA/GENOTYPE/GENES/%s/'%samplename\n",
    "if not os.path.exists(savepath):\n",
    "    os.mkdir(savepath)\n",
    "savepath"
   ]
  },
  {
   "cell_type": "code",
   "execution_count": 49,
   "metadata": {},
   "outputs": [
    {
     "data": {
      "text/plain": [
       "22"
      ]
     },
     "execution_count": 49,
     "metadata": {},
     "output_type": "execute_result"
    }
   ],
   "source": [
    "info_cols = [c for c in genos.columns if c[:2]!='SS' and c not in Fo]\n",
    "len(info_cols)"
   ]
  },
  {
   "cell_type": "code",
   "execution_count": 50,
   "metadata": {},
   "outputs": [],
   "source": [
    "run_parents = parents.Parent.tolist() + saltparents.Parent.tolist()"
   ]
  },
  {
   "cell_type": "code",
   "execution_count": 51,
   "metadata": {},
   "outputs": [],
   "source": [
    "## Is the GFF zero based?\n",
    "zb = True"
   ]
  },
  {
   "cell_type": "code",
   "execution_count": 52,
   "metadata": {},
   "outputs": [],
   "source": [
    "novars = []\n",
    "notype = []\n",
    "for ssk1name in run_parents:\n",
    "#for ssk1name in known_genes:\n",
    "    genesave = savepath+ssk1name+'.csv.gz'\n",
    "    #if os.path.exists(genesave):\n",
    "    #    continue\n",
    "    ## Take gene info from gff file\n",
    "    ssk1df = gff[(gff.Type.isin(foi)) & \n",
    "                 (gff.Parent==ssk1name)\n",
    "                ].sort_values('Start').copy()\n",
    "    ssk1df['Start'] = ssk1df['Start'] + (1 if zb else 0)\n",
    "    \n",
    "    assert len(ssk1df.Strand.unique())==1\n",
    "    if len(ssk1df.Type.unique())!=3:\n",
    "        notype.append(ssk1name+'\\n')\n",
    "        continue\n",
    "    ## For a sample of interest bring in data\n",
    "    ##sample = pd.read_csv(samplepath,index_col=0)\n",
    "    sample = genos.loc[genos[samplename].dropna().index,\n",
    "                       info_cols+[samplename]]\n",
    "    \n",
    "    sample['Sample'] = sample[samplename]\n",
    "    ## Locate genetic variants within a gene\n",
    "    gv = sample[(sample.Chrom==ssk1df.Seqid.min()) & \n",
    "            (sample.Pos>=ssk1df.Start.min()) & \n",
    "            (sample.Pos<=ssk1df.End.max())]\n",
    "    if gv.shape[0] == 0:\n",
    "        novars.append(ssk1name+'\\n')\n",
    "        if verbos:\n",
    "            print('No variants within %s for strain %s\\n'%(\n",
    "            ssk1name,samplename))\n",
    "        continue\n",
    "    ## From the referecne take the sequence of interest\n",
    "    gene_seq = [s.seq[ssk1df.Start.min()-(0 if zb else 1):ssk1df.End.max()] \n",
    "            for s in REF if s.id == ssk1df.Seqid.min()][0]\n",
    "    ## Make a dataframe from these sequences\n",
    "    refseqdf = pd.DataFrame([np.arange(ssk1df.Start.min()+(1 if zb else 0),\n",
    "                                       ssk1df.End.max()+1),\n",
    "                     [n for n in str(gene_seq)]],\n",
    "                            index=['Pos','REF']).T;\n",
    "    ## Make gene variant dataframe\n",
    "    res,failed  = gvtodf(gv,refseqdf,ssk1df)\n",
    "    res['Gene'] = ssk1name\n",
    "    res['Sample'] = samplename\n",
    "    ## Save and print results\n",
    "    res.to_csv(genesave)\n",
    "    if verbos:\n",
    "        print('%s\\n-------------\\n%s\\n%s\\n-------------\\n%s\\n'%(\n",
    "            ssk1name,res.Pos.unique().shape[0],res.shape[0],\n",
    "            res[(res.Isvar==1)].shape[0]))"
   ]
  },
  {
   "cell_type": "code",
   "execution_count": 53,
   "metadata": {},
   "outputs": [],
   "source": [
    "novars_path = savepath+'NOVARS.csv'\n",
    "if os.path.exists(novars_path):\n",
    "    os.remove(novars_path)\n",
    "    \n",
    "notype_path = savepath+'NOTYPE.csv'\n",
    "if os.path.exists(notype_path):\n",
    "    os.remove(notype_path)"
   ]
  },
  {
   "cell_type": "code",
   "execution_count": 54,
   "metadata": {},
   "outputs": [],
   "source": [
    "open(novars_path,'w').writelines(novars)\n",
    "open(notype_path,'w').writelines(notype)"
   ]
  },
  {
   "cell_type": "code",
   "execution_count": 55,
   "metadata": {},
   "outputs": [
    {
     "data": {
      "text/plain": [
       "10"
      ]
     },
     "execution_count": 55,
     "metadata": {},
     "output_type": "execute_result"
    }
   ],
   "source": [
    "len(novars)"
   ]
  },
  {
   "cell_type": "code",
   "execution_count": 56,
   "metadata": {},
   "outputs": [
    {
     "data": {
      "text/plain": [
       "12"
      ]
     },
     "execution_count": 56,
     "metadata": {},
     "output_type": "execute_result"
    }
   ],
   "source": [
    "len(notype)"
   ]
  },
  {
   "cell_type": "code",
   "execution_count": 57,
   "metadata": {},
   "outputs": [
    {
     "data": {
      "text/plain": [
       "123"
      ]
     },
     "execution_count": 57,
     "metadata": {},
     "output_type": "execute_result"
    }
   ],
   "source": [
    "len(run_parents) - (len(novars) + len(notype))"
   ]
  },
  {
   "cell_type": "code",
   "execution_count": 58,
   "metadata": {},
   "outputs": [
    {
     "name": "stdout",
     "output_type": "stream",
     "text": [
      "123\n"
     ]
    }
   ],
   "source": [
    "%%bash\n",
    "cd ../DATA/GENOTYPE/GENES/SS-A837/\n",
    "ls -l *csv.gz | wc -l"
   ]
  },
  {
   "cell_type": "code",
   "execution_count": null,
   "metadata": {},
   "outputs": [],
   "source": []
  }
 ],
 "metadata": {
  "kernelspec": {
   "display_name": "Python 3",
   "language": "python",
   "name": "python3"
  },
  "language_info": {
   "codemirror_mode": {
    "name": "ipython",
    "version": 3
   },
   "file_extension": ".py",
   "mimetype": "text/x-python",
   "name": "python",
   "nbconvert_exporter": "python",
   "pygments_lexer": "ipython3",
   "version": "3.7.3"
  }
 },
 "nbformat": 4,
 "nbformat_minor": 4
}
