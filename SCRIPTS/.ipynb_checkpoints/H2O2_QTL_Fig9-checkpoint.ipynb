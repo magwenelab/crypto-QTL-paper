{
 "cells": [
  {
   "cell_type": "code",
   "execution_count": 1,
   "metadata": {},
   "outputs": [],
   "source": [
    "## import mods\n",
    "import pandas as pd, numpy as np, scipy.stats as ss, seaborn as sns\n",
    "from sklearn.linear_model import LinearRegression\n",
    "from sklearn.decomposition import PCA\n",
    "from matplotlib import pyplot as plt \n",
    "%matplotlib inline"
   ]
  },
  {
   "cell_type": "code",
   "execution_count": 2,
   "metadata": {},
   "outputs": [],
   "source": [
    "from PIL import Image"
   ]
  },
  {
   "cell_type": "code",
   "execution_count": 3,
   "metadata": {},
   "outputs": [],
   "source": [
    "plt.style.use(['tableau-colorblind10'])"
   ]
  },
  {
   "cell_type": "code",
   "execution_count": 4,
   "metadata": {},
   "outputs": [],
   "source": [
    "def allelic_ANOVA(site, pheno):\n",
    "    \"\"\"This regression is equivalent to one-way ANOVA with 2 groups. Return F-statistic.\n",
    "\n",
    "    Assumes site is coded as -1, 1\n",
    "    \"\"\"\n",
    "    coding = np.array(site,np.float)\n",
    "    pheno = np.array(pheno,np.float)\n",
    "\n",
    "    meany = np.mean(pheno)\n",
    "    meandummy = np.mean(coding)\n",
    "    ctry = pheno - meany\n",
    "    ctrdummy = coding - meandummy\n",
    "    \n",
    "    b = np.dot(ctry, ctrdummy)/np.dot(ctrdummy, ctrdummy)\n",
    "    intercept = meany - b * meandummy\n",
    "    \n",
    "    yhat = b * ctrdummy\n",
    "    len_yhat = np.sqrt(np.dot(yhat,yhat))\n",
    "    len_y = np.sqrt(np.dot(ctry,ctry))\n",
    "    df_yhat = 1\n",
    "    \n",
    "    error = ctry  - yhat\n",
    "    len_error = np.sqrt(np.dot(error,error))\n",
    "    if abs(len_error**2) < 1e-5:\n",
    "        raise Exception(\"Zero length error in ANOVA\")\n",
    "    df_error = len(pheno) - 2\n",
    "    \n",
    "    F = (len_yhat**2/df_yhat) / (len_error**2/df_error)\n",
    "    return F\n",
    "\n",
    "\n",
    "def association_logPval(site, pheno):\n",
    "    F = allelic_ANOVA(site, pheno)\n",
    "    logP = np.log10(ss.f.sf(F, 1, len(pheno)-2))\n",
    "    return -logP"
   ]
  },
  {
   "cell_type": "code",
   "execution_count": 5,
   "metadata": {},
   "outputs": [],
   "source": [
    "## Bring in genotype data\n",
    "geno_path = '../DATA/CDx-ill-SNP-INDEL-df-104-blocked.csv.gz'\n",
    "geno_df = pd.read_csv(geno_path)\n",
    "loci = geno_df.Block.drop_duplicates().index"
   ]
  },
  {
   "cell_type": "code",
   "execution_count": 6,
   "metadata": {},
   "outputs": [
    {
     "data": {
      "text/html": [
       "<div>\n",
       "<style scoped>\n",
       "    .dataframe tbody tr th:only-of-type {\n",
       "        vertical-align: middle;\n",
       "    }\n",
       "\n",
       "    .dataframe tbody tr th {\n",
       "        vertical-align: top;\n",
       "    }\n",
       "\n",
       "    .dataframe thead th {\n",
       "        text-align: right;\n",
       "    }\n",
       "</style>\n",
       "<table border=\"1\" class=\"dataframe\">\n",
       "  <thead>\n",
       "    <tr style=\"text-align: right;\">\n",
       "      <th></th>\n",
       "      <th>Chrom</th>\n",
       "      <th>Pos</th>\n",
       "      <th>Qual</th>\n",
       "      <th>Callrate</th>\n",
       "      <th>Ref</th>\n",
       "      <th>Alt</th>\n",
       "      <th>Altlen</th>\n",
       "      <th>Dp</th>\n",
       "      <th>Type</th>\n",
       "      <th>Vcfix</th>\n",
       "      <th>...</th>\n",
       "      <th>SS-B598</th>\n",
       "      <th>SS-B565</th>\n",
       "      <th>SS-B600</th>\n",
       "      <th>SS-B574</th>\n",
       "      <th>SS-B872_cor</th>\n",
       "      <th>SS-B873_cor</th>\n",
       "      <th>SS-B360</th>\n",
       "      <th>SS-B397</th>\n",
       "      <th>SS-B564</th>\n",
       "      <th>SS-B382</th>\n",
       "    </tr>\n",
       "  </thead>\n",
       "  <tbody>\n",
       "    <tr>\n",
       "      <th>88605</th>\n",
       "      <td>Chr14</td>\n",
       "      <td>6648</td>\n",
       "      <td>146846.0</td>\n",
       "      <td>1.0</td>\n",
       "      <td>T</td>\n",
       "      <td>G</td>\n",
       "      <td>1</td>\n",
       "      <td>8809</td>\n",
       "      <td>snp</td>\n",
       "      <td>230</td>\n",
       "      <td>...</td>\n",
       "      <td>1.0</td>\n",
       "      <td>0.0</td>\n",
       "      <td>0.0</td>\n",
       "      <td>1.0</td>\n",
       "      <td>1.0</td>\n",
       "      <td>1.0</td>\n",
       "      <td>0.0</td>\n",
       "      <td>0.0</td>\n",
       "      <td>1.0</td>\n",
       "      <td>1.0</td>\n",
       "    </tr>\n",
       "    <tr>\n",
       "      <th>88606</th>\n",
       "      <td>Chr14</td>\n",
       "      <td>15301</td>\n",
       "      <td>89905.0</td>\n",
       "      <td>1.0</td>\n",
       "      <td>CTTTTTTTTTTTAAAAAAAAGGT</td>\n",
       "      <td>CTTTTTTTTTTAAAAAAAAAGGT</td>\n",
       "      <td>1</td>\n",
       "      <td>6238</td>\n",
       "      <td>indel</td>\n",
       "      <td>348</td>\n",
       "      <td>...</td>\n",
       "      <td>1.0</td>\n",
       "      <td>0.0</td>\n",
       "      <td>0.0</td>\n",
       "      <td>1.0</td>\n",
       "      <td>1.0</td>\n",
       "      <td>1.0</td>\n",
       "      <td>0.0</td>\n",
       "      <td>0.0</td>\n",
       "      <td>1.0</td>\n",
       "      <td>1.0</td>\n",
       "    </tr>\n",
       "    <tr>\n",
       "      <th>88607</th>\n",
       "      <td>Chr14</td>\n",
       "      <td>24175</td>\n",
       "      <td>156761.0</td>\n",
       "      <td>1.0</td>\n",
       "      <td>C</td>\n",
       "      <td>T</td>\n",
       "      <td>1</td>\n",
       "      <td>9515</td>\n",
       "      <td>snp</td>\n",
       "      <td>531</td>\n",
       "      <td>...</td>\n",
       "      <td>1.0</td>\n",
       "      <td>0.0</td>\n",
       "      <td>0.0</td>\n",
       "      <td>1.0</td>\n",
       "      <td>1.0</td>\n",
       "      <td>1.0</td>\n",
       "      <td>0.0</td>\n",
       "      <td>0.0</td>\n",
       "      <td>1.0</td>\n",
       "      <td>1.0</td>\n",
       "    </tr>\n",
       "    <tr>\n",
       "      <th>88608</th>\n",
       "      <td>Chr14</td>\n",
       "      <td>28073</td>\n",
       "      <td>139655.0</td>\n",
       "      <td>1.0</td>\n",
       "      <td>CA</td>\n",
       "      <td>CG</td>\n",
       "      <td>1</td>\n",
       "      <td>8586</td>\n",
       "      <td>indel</td>\n",
       "      <td>619</td>\n",
       "      <td>...</td>\n",
       "      <td>1.0</td>\n",
       "      <td>0.0</td>\n",
       "      <td>0.0</td>\n",
       "      <td>1.0</td>\n",
       "      <td>1.0</td>\n",
       "      <td>1.0</td>\n",
       "      <td>0.0</td>\n",
       "      <td>0.0</td>\n",
       "      <td>1.0</td>\n",
       "      <td>1.0</td>\n",
       "    </tr>\n",
       "    <tr>\n",
       "      <th>88609</th>\n",
       "      <td>Chr14</td>\n",
       "      <td>28198</td>\n",
       "      <td>139875.0</td>\n",
       "      <td>1.0</td>\n",
       "      <td>TTACA</td>\n",
       "      <td>TTACG</td>\n",
       "      <td>1</td>\n",
       "      <td>8498</td>\n",
       "      <td>indel</td>\n",
       "      <td>624</td>\n",
       "      <td>...</td>\n",
       "      <td>1.0</td>\n",
       "      <td>0.0</td>\n",
       "      <td>0.0</td>\n",
       "      <td>1.0</td>\n",
       "      <td>1.0</td>\n",
       "      <td>1.0</td>\n",
       "      <td>0.0</td>\n",
       "      <td>0.0</td>\n",
       "      <td>1.0</td>\n",
       "      <td>1.0</td>\n",
       "    </tr>\n",
       "  </tbody>\n",
       "</table>\n",
       "<p>5 rows × 125 columns</p>\n",
       "</div>"
      ],
      "text/plain": [
       "       Chrom    Pos      Qual  Callrate                      Ref  \\\n",
       "88605  Chr14   6648  146846.0       1.0                        T   \n",
       "88606  Chr14  15301   89905.0       1.0  CTTTTTTTTTTTAAAAAAAAGGT   \n",
       "88607  Chr14  24175  156761.0       1.0                        C   \n",
       "88608  Chr14  28073  139655.0       1.0                       CA   \n",
       "88609  Chr14  28198  139875.0       1.0                    TTACA   \n",
       "\n",
       "                           Alt  Altlen    Dp   Type  Vcfix  ...  SS-B598  \\\n",
       "88605                        G       1  8809    snp    230  ...      1.0   \n",
       "88606  CTTTTTTTTTTAAAAAAAAAGGT       1  6238  indel    348  ...      1.0   \n",
       "88607                        T       1  9515    snp    531  ...      1.0   \n",
       "88608                       CG       1  8586  indel    619  ...      1.0   \n",
       "88609                    TTACG       1  8498  indel    624  ...      1.0   \n",
       "\n",
       "       SS-B565  SS-B600  SS-B574  SS-B872_cor  SS-B873_cor  SS-B360  SS-B397  \\\n",
       "88605      0.0      0.0      1.0          1.0          1.0      0.0      0.0   \n",
       "88606      0.0      0.0      1.0          1.0          1.0      0.0      0.0   \n",
       "88607      0.0      0.0      1.0          1.0          1.0      0.0      0.0   \n",
       "88608      0.0      0.0      1.0          1.0          1.0      0.0      0.0   \n",
       "88609      0.0      0.0      1.0          1.0          1.0      0.0      0.0   \n",
       "\n",
       "       SS-B564  SS-B382  \n",
       "88605      1.0      1.0  \n",
       "88606      1.0      1.0  \n",
       "88607      1.0      1.0  \n",
       "88608      1.0      1.0  \n",
       "88609      1.0      1.0  \n",
       "\n",
       "[5 rows x 125 columns]"
      ]
     },
     "execution_count": 6,
     "metadata": {},
     "output_type": "execute_result"
    }
   ],
   "source": [
    "geno_df[(geno_df.Chrom=='Chr14')].head()"
   ]
  },
  {
   "cell_type": "code",
   "execution_count": 7,
   "metadata": {},
   "outputs": [],
   "source": [
    "gff_path = '../DATA/xl280genome.gff3.csv.gz'\n",
    "gff = pd.read_csv(gff_path,index_col=0)"
   ]
  },
  {
   "cell_type": "code",
   "execution_count": 8,
   "metadata": {},
   "outputs": [
    {
     "data": {
      "text/html": [
       "<div>\n",
       "<style scoped>\n",
       "    .dataframe tbody tr th:only-of-type {\n",
       "        vertical-align: middle;\n",
       "    }\n",
       "\n",
       "    .dataframe tbody tr th {\n",
       "        vertical-align: top;\n",
       "    }\n",
       "\n",
       "    .dataframe thead th {\n",
       "        text-align: right;\n",
       "    }\n",
       "</style>\n",
       "<table border=\"1\" class=\"dataframe\">\n",
       "  <thead>\n",
       "    <tr style=\"text-align: right;\">\n",
       "      <th></th>\n",
       "      <th>type</th>\n",
       "      <th>gene</th>\n",
       "      <th>start</th>\n",
       "      <th>end</th>\n",
       "      <th>strand</th>\n",
       "      <th>contig</th>\n",
       "      <th>phase</th>\n",
       "      <th>attribute</th>\n",
       "      <th>description</th>\n",
       "      <th>id</th>\n",
       "    </tr>\n",
       "  </thead>\n",
       "  <tbody>\n",
       "    <tr>\n",
       "      <th>53405</th>\n",
       "      <td>gene</td>\n",
       "      <td>CNN01270</td>\n",
       "      <td>386833</td>\n",
       "      <td>389699</td>\n",
       "      <td>+</td>\n",
       "      <td>Chr14</td>\n",
       "      <td>.</td>\n",
       "      <td>ID=CNN01270;description=hypothetical protein</td>\n",
       "      <td>hypothetical protein</td>\n",
       "      <td>CNN01270</td>\n",
       "    </tr>\n",
       "  </tbody>\n",
       "</table>\n",
       "</div>"
      ],
      "text/plain": [
       "       type      gene   start     end strand contig phase  \\\n",
       "53405  gene  CNN01270  386833  389699      +  Chr14     .   \n",
       "\n",
       "                                          attribute           description  \\\n",
       "53405  ID=CNN01270;description=hypothetical protein  hypothetical protein   \n",
       "\n",
       "             id  \n",
       "53405  CNN01270  "
      ]
     },
     "execution_count": 8,
     "metadata": {},
     "output_type": "execute_result"
    }
   ],
   "source": [
    "gff[(gff.id == 'CNN01270')]"
   ]
  },
  {
   "cell_type": "code",
   "execution_count": 9,
   "metadata": {},
   "outputs": [
    {
     "data": {
      "text/html": [
       "<div>\n",
       "<style scoped>\n",
       "    .dataframe tbody tr th:only-of-type {\n",
       "        vertical-align: middle;\n",
       "    }\n",
       "\n",
       "    .dataframe tbody tr th {\n",
       "        vertical-align: top;\n",
       "    }\n",
       "\n",
       "    .dataframe thead th {\n",
       "        text-align: right;\n",
       "    }\n",
       "</style>\n",
       "<table border=\"1\" class=\"dataframe\">\n",
       "  <thead>\n",
       "    <tr style=\"text-align: right;\">\n",
       "      <th></th>\n",
       "      <th>Chrom</th>\n",
       "      <th>Pos</th>\n",
       "      <th>Qual</th>\n",
       "      <th>Callrate</th>\n",
       "      <th>Ref</th>\n",
       "      <th>Alt</th>\n",
       "      <th>Altlen</th>\n",
       "      <th>Dp</th>\n",
       "      <th>Type</th>\n",
       "      <th>Vcfix</th>\n",
       "      <th>...</th>\n",
       "      <th>SS-B598</th>\n",
       "      <th>SS-B565</th>\n",
       "      <th>SS-B600</th>\n",
       "      <th>SS-B574</th>\n",
       "      <th>SS-B872_cor</th>\n",
       "      <th>SS-B873_cor</th>\n",
       "      <th>SS-B360</th>\n",
       "      <th>SS-B397</th>\n",
       "      <th>SS-B564</th>\n",
       "      <th>SS-B382</th>\n",
       "    </tr>\n",
       "  </thead>\n",
       "  <tbody>\n",
       "    <tr>\n",
       "      <th>90523</th>\n",
       "      <td>Chr14</td>\n",
       "      <td>386898</td>\n",
       "      <td>117375.0</td>\n",
       "      <td>1.0</td>\n",
       "      <td>G</td>\n",
       "      <td>A</td>\n",
       "      <td>1</td>\n",
       "      <td>7300</td>\n",
       "      <td>snp</td>\n",
       "      <td>10980</td>\n",
       "      <td>...</td>\n",
       "      <td>0.0</td>\n",
       "      <td>0.0</td>\n",
       "      <td>0.0</td>\n",
       "      <td>1.0</td>\n",
       "      <td>0.0</td>\n",
       "      <td>1.0</td>\n",
       "      <td>1.0</td>\n",
       "      <td>0.0</td>\n",
       "      <td>1.0</td>\n",
       "      <td>1.0</td>\n",
       "    </tr>\n",
       "    <tr>\n",
       "      <th>90524</th>\n",
       "      <td>Chr14</td>\n",
       "      <td>386995</td>\n",
       "      <td>131484.0</td>\n",
       "      <td>1.0</td>\n",
       "      <td>T</td>\n",
       "      <td>A</td>\n",
       "      <td>1</td>\n",
       "      <td>8331</td>\n",
       "      <td>snp</td>\n",
       "      <td>10984</td>\n",
       "      <td>...</td>\n",
       "      <td>0.0</td>\n",
       "      <td>0.0</td>\n",
       "      <td>0.0</td>\n",
       "      <td>1.0</td>\n",
       "      <td>0.0</td>\n",
       "      <td>1.0</td>\n",
       "      <td>1.0</td>\n",
       "      <td>0.0</td>\n",
       "      <td>1.0</td>\n",
       "      <td>1.0</td>\n",
       "    </tr>\n",
       "    <tr>\n",
       "      <th>90525</th>\n",
       "      <td>Chr14</td>\n",
       "      <td>387211</td>\n",
       "      <td>157752.0</td>\n",
       "      <td>1.0</td>\n",
       "      <td>T</td>\n",
       "      <td>G</td>\n",
       "      <td>1</td>\n",
       "      <td>9574</td>\n",
       "      <td>snp</td>\n",
       "      <td>10990</td>\n",
       "      <td>...</td>\n",
       "      <td>0.0</td>\n",
       "      <td>0.0</td>\n",
       "      <td>0.0</td>\n",
       "      <td>1.0</td>\n",
       "      <td>0.0</td>\n",
       "      <td>1.0</td>\n",
       "      <td>1.0</td>\n",
       "      <td>0.0</td>\n",
       "      <td>1.0</td>\n",
       "      <td>1.0</td>\n",
       "    </tr>\n",
       "    <tr>\n",
       "      <th>90526</th>\n",
       "      <td>Chr14</td>\n",
       "      <td>387317</td>\n",
       "      <td>163742.0</td>\n",
       "      <td>1.0</td>\n",
       "      <td>A</td>\n",
       "      <td>G</td>\n",
       "      <td>1</td>\n",
       "      <td>9883</td>\n",
       "      <td>snp</td>\n",
       "      <td>10991</td>\n",
       "      <td>...</td>\n",
       "      <td>0.0</td>\n",
       "      <td>0.0</td>\n",
       "      <td>0.0</td>\n",
       "      <td>1.0</td>\n",
       "      <td>0.0</td>\n",
       "      <td>1.0</td>\n",
       "      <td>1.0</td>\n",
       "      <td>0.0</td>\n",
       "      <td>1.0</td>\n",
       "      <td>1.0</td>\n",
       "    </tr>\n",
       "    <tr>\n",
       "      <th>90527</th>\n",
       "      <td>Chr14</td>\n",
       "      <td>387368</td>\n",
       "      <td>166211.0</td>\n",
       "      <td>1.0</td>\n",
       "      <td>G</td>\n",
       "      <td>T</td>\n",
       "      <td>1</td>\n",
       "      <td>9840</td>\n",
       "      <td>snp</td>\n",
       "      <td>10992</td>\n",
       "      <td>...</td>\n",
       "      <td>0.0</td>\n",
       "      <td>0.0</td>\n",
       "      <td>0.0</td>\n",
       "      <td>1.0</td>\n",
       "      <td>0.0</td>\n",
       "      <td>1.0</td>\n",
       "      <td>1.0</td>\n",
       "      <td>0.0</td>\n",
       "      <td>1.0</td>\n",
       "      <td>1.0</td>\n",
       "    </tr>\n",
       "  </tbody>\n",
       "</table>\n",
       "<p>5 rows × 125 columns</p>\n",
       "</div>"
      ],
      "text/plain": [
       "       Chrom     Pos      Qual  Callrate Ref Alt  Altlen    Dp Type  Vcfix  \\\n",
       "90523  Chr14  386898  117375.0       1.0   G   A       1  7300  snp  10980   \n",
       "90524  Chr14  386995  131484.0       1.0   T   A       1  8331  snp  10984   \n",
       "90525  Chr14  387211  157752.0       1.0   T   G       1  9574  snp  10990   \n",
       "90526  Chr14  387317  163742.0       1.0   A   G       1  9883  snp  10991   \n",
       "90527  Chr14  387368  166211.0       1.0   G   T       1  9840  snp  10992   \n",
       "\n",
       "       ...  SS-B598  SS-B565  SS-B600  SS-B574  SS-B872_cor  SS-B873_cor  \\\n",
       "90523  ...      0.0      0.0      0.0      1.0          0.0          1.0   \n",
       "90524  ...      0.0      0.0      0.0      1.0          0.0          1.0   \n",
       "90525  ...      0.0      0.0      0.0      1.0          0.0          1.0   \n",
       "90526  ...      0.0      0.0      0.0      1.0          0.0          1.0   \n",
       "90527  ...      0.0      0.0      0.0      1.0          0.0          1.0   \n",
       "\n",
       "       SS-B360  SS-B397  SS-B564  SS-B382  \n",
       "90523      1.0      0.0      1.0      1.0  \n",
       "90524      1.0      0.0      1.0      1.0  \n",
       "90525      1.0      0.0      1.0      1.0  \n",
       "90526      1.0      0.0      1.0      1.0  \n",
       "90527      1.0      0.0      1.0      1.0  \n",
       "\n",
       "[5 rows x 125 columns]"
      ]
     },
     "execution_count": 9,
     "metadata": {},
     "output_type": "execute_result"
    }
   ],
   "source": [
    "geno_df[(geno_df.Chrom=='Chr14') & \n",
    "        (geno_df.Pos>=386833) & (geno_df.Pos<=389699)].head()"
   ]
  },
  {
   "cell_type": "code",
   "execution_count": 10,
   "metadata": {},
   "outputs": [
    {
     "name": "stdout",
     "output_type": "stream",
     "text": [
      "['Chr01', 'Chr02', 'Chr03', 'Chr04', 'Chr05', 'Chr06', 'Chr07', 'Chr08', 'Chr09', 'Chr10', 'Chr11', 'Chr12', 'Chr13', 'Chr14']\n"
     ]
    }
   ],
   "source": [
    "## Define chromosomes\n",
    "chrlist = sorted(geno_df.Chrom.unique())\n",
    "print(chrlist)"
   ]
  },
  {
   "cell_type": "code",
   "execution_count": 11,
   "metadata": {},
   "outputs": [],
   "source": [
    "## Gather the length of each chromosome\n",
    "clens = [geno_df[(geno_df.Chrom==chrom)]['Pos'].max() \n",
    "         for chrom in chrlist]"
   ]
  },
  {
   "cell_type": "code",
   "execution_count": 12,
   "metadata": {},
   "outputs": [],
   "source": [
    "## Set mid points\n",
    "chrom_midpts = 0.5 * np.sum(np.array([a \n",
    "                    for a in zip([0]+list(np.cumsum(clens)),\n",
    "                            np.cumsum(clens))]),axis=1)\n",
    "cumpos = [0] + list(np.cumsum(clens))[:-1]"
   ]
  },
  {
   "cell_type": "code",
   "execution_count": 13,
   "metadata": {},
   "outputs": [],
   "source": [
    "file_path = '../DATA/H2O2_scores.csv.gz'\n",
    "file_path_tecan ='../DATA/Tecan_qtlruns_Jan162019_curated_baselined_median51.csv.gz'"
   ]
  },
  {
   "cell_type": "code",
   "execution_count": 14,
   "metadata": {},
   "outputs": [],
   "source": [
    "tecan  = pd.read_csv(file_path_tecan,index_col=0)"
   ]
  },
  {
   "cell_type": "code",
   "execution_count": 15,
   "metadata": {},
   "outputs": [
    {
     "data": {
      "text/html": [
       "<div>\n",
       "<style scoped>\n",
       "    .dataframe tbody tr th:only-of-type {\n",
       "        vertical-align: middle;\n",
       "    }\n",
       "\n",
       "    .dataframe tbody tr th {\n",
       "        vertical-align: top;\n",
       "    }\n",
       "\n",
       "    .dataframe thead th {\n",
       "        text-align: right;\n",
       "    }\n",
       "</style>\n",
       "<table border=\"1\" class=\"dataframe\">\n",
       "  <thead>\n",
       "    <tr style=\"text-align: right;\">\n",
       "      <th></th>\n",
       "      <th>row</th>\n",
       "      <th>column</th>\n",
       "      <th>plate</th>\n",
       "      <th>strain</th>\n",
       "    </tr>\n",
       "  </thead>\n",
       "  <tbody>\n",
       "    <tr>\n",
       "      <th>0</th>\n",
       "      <td>e</td>\n",
       "      <td>7</td>\n",
       "      <td>2</td>\n",
       "      <td>SS-A837</td>\n",
       "    </tr>\n",
       "    <tr>\n",
       "      <th>4</th>\n",
       "      <td>b</td>\n",
       "      <td>2</td>\n",
       "      <td>2</td>\n",
       "      <td>SS-B307</td>\n",
       "    </tr>\n",
       "    <tr>\n",
       "      <th>8</th>\n",
       "      <td>b</td>\n",
       "      <td>3</td>\n",
       "      <td>2</td>\n",
       "      <td>SS-B308</td>\n",
       "    </tr>\n",
       "    <tr>\n",
       "      <th>12</th>\n",
       "      <td>b</td>\n",
       "      <td>4</td>\n",
       "      <td>2</td>\n",
       "      <td>SS-B310</td>\n",
       "    </tr>\n",
       "    <tr>\n",
       "      <th>16</th>\n",
       "      <td>b</td>\n",
       "      <td>5</td>\n",
       "      <td>2</td>\n",
       "      <td>SS-B311</td>\n",
       "    </tr>\n",
       "  </tbody>\n",
       "</table>\n",
       "</div>"
      ],
      "text/plain": [
       "   row  column  plate   strain\n",
       "0    e       7      2  SS-A837\n",
       "4    b       2      2  SS-B307\n",
       "8    b       3      2  SS-B308\n",
       "12   b       4      2  SS-B310\n",
       "16   b       5      2  SS-B311"
      ]
     },
     "execution_count": 15,
     "metadata": {},
     "output_type": "execute_result"
    }
   ],
   "source": [
    "name_df = tecan[['row','column','plate','strain']].drop_duplicates().copy()\n",
    "name_df.head()"
   ]
  },
  {
   "cell_type": "code",
   "execution_count": 16,
   "metadata": {},
   "outputs": [
    {
     "data": {
      "text/plain": [
       "(1152, 5)"
      ]
     },
     "execution_count": 16,
     "metadata": {},
     "output_type": "execute_result"
    }
   ],
   "source": [
    "df = pd.read_csv(file_path)\n",
    "#df.drop(df[(df.strain=='blank')].index,axis=0,inplace=True)\n",
    "df.dropna(axis=1,how='all',inplace=True)\n",
    "df.shape"
   ]
  },
  {
   "cell_type": "code",
   "execution_count": 17,
   "metadata": {},
   "outputs": [
    {
     "data": {
      "text/plain": [
       "array(['qtl1a', 'qtl1b', 'qtl1c', 'qtl1d', 'qtl2a', 'qtl2b', 'qtl2c',\n",
       "       'qtl2d', 'qtl1a old', 'qtl1b old', 'qtl2a old', 'qtl2b old'],\n",
       "      dtype=object)"
      ]
     },
     "execution_count": 17,
     "metadata": {},
     "output_type": "execute_result"
    }
   ],
   "source": [
    "df.Plate.unique()"
   ]
  },
  {
   "cell_type": "code",
   "execution_count": 18,
   "metadata": {},
   "outputs": [],
   "source": [
    "df['row'] = df['Row']\n",
    "df['column'] = df['Column']\n",
    "df['plate'] = [ int(a.split('qtl')[-1][0]) for a in df.Plate]\n",
    "df['Isold'] = [1 if 'old' in a else 0 for a in df.Plate.tolist()]"
   ]
  },
  {
   "cell_type": "code",
   "execution_count": 19,
   "metadata": {},
   "outputs": [],
   "source": [
    "h2O2 = name_df.merge(df)"
   ]
  },
  {
   "cell_type": "code",
   "execution_count": 20,
   "metadata": {},
   "outputs": [],
   "source": [
    "h2O2lh = h2O2[['Row','Column','Plate','ScoreLH','strain','Isold']].copy()\n",
    "h2O2lh.columns = ['Row','Col','Plate','Score','Strain','Isold']\n",
    "h2O2lh['Marker'] = 'LH'"
   ]
  },
  {
   "cell_type": "code",
   "execution_count": 21,
   "metadata": {},
   "outputs": [],
   "source": [
    "h2O2dm = h2O2[['Row','Column','Plate','ScoreDM','strain','Isold']].copy()\n",
    "h2O2dm.columns = ['Row','Col','Plate','Score','Strain','Isold']\n",
    "h2O2dm['Marker'] = 'DM'"
   ]
  },
  {
   "cell_type": "code",
   "execution_count": 22,
   "metadata": {},
   "outputs": [],
   "source": [
    "dmm = h2O2dm.dropna().groupby('Strain').agg(np.median).Score\n",
    "lhm = h2O2lh.dropna().groupby('Strain').agg(np.median).Score"
   ]
  },
  {
   "cell_type": "code",
   "execution_count": 23,
   "metadata": {},
   "outputs": [],
   "source": [
    "dmm_no = h2O2dm[(h2O2dm.Isold==0)].dropna().groupby('Strain').agg(np.median).Score\n",
    "lhm_no = h2O2lh[(h2O2lh.Isold==0)].dropna().groupby('Strain').agg(np.median).Score"
   ]
  },
  {
   "cell_type": "code",
   "execution_count": 24,
   "metadata": {},
   "outputs": [],
   "source": [
    "jitter = np.random.normal(0,0.1,len(dmm))"
   ]
  },
  {
   "cell_type": "code",
   "execution_count": 25,
   "metadata": {},
   "outputs": [
    {
     "data": {
      "image/png": "[encoded data removed]",
      "text/plain": [
       "<Figure size 864x216 with 2 Axes>"
      ]
     },
     "metadata": {
      "needs_background": "light"
     },
     "output_type": "display_data"
    }
   ],
   "source": [
    "fig,ax = plt.subplots(1,2,figsize=(12,3),sharex=True,sharey=True)\n",
    "plt.sca(ax[0])\n",
    "plt.plot(dmm.values,\n",
    "         lhm.values,'ko',alpha=0.25);\n",
    "plt.xlabel('Debra Median Score',fontsize=14);\n",
    "plt.ylabel('Lydia Median Score',fontsize=14);\n",
    "plt.title('With Old Plates')\n",
    "\n",
    "plt.sca(ax[1])\n",
    "plt.title('Without Old Plates')\n",
    "plt.plot(dmm_no.values,\n",
    "         lhm_no.values,'ko',alpha=0.25);\n",
    "plt.xlabel('Debra Median Score',fontsize=14);\n",
    "plt.ylabel('Lydia Median Score',fontsize=14);\n",
    "#plt.savefig('/home/croth/Desktop/H2O2_median_growth_Debra_vs_Lydia_old_new.png',\n",
    "#           dpi=100,bbox_inches='tight');"
   ]
  },
  {
   "cell_type": "code",
   "execution_count": 26,
   "metadata": {},
   "outputs": [
    {
     "data": {
      "text/plain": [
       "SpearmanrResult(correlation=0.9803019694515043, pvalue=2.870340990903693e-84)"
      ]
     },
     "execution_count": 26,
     "metadata": {},
     "output_type": "execute_result"
    }
   ],
   "source": [
    "ss.spearmanr(dmm_no.values,lhm_no.values)"
   ]
  },
  {
   "cell_type": "code",
   "execution_count": 27,
   "metadata": {},
   "outputs": [
    {
     "data": {
      "text/plain": [
       "SpearmanrResult(correlation=0.951789343565653, pvalue=6.953369550475549e-62)"
      ]
     },
     "execution_count": 27,
     "metadata": {},
     "output_type": "execute_result"
    }
   ],
   "source": [
    "ss.spearmanr(dmm.values,lhm.values)\n",
    "## B/c the old plates seem to introduce more variation\n",
    "## we will drop these from analysis"
   ]
  },
  {
   "cell_type": "code",
   "execution_count": 28,
   "metadata": {},
   "outputs": [],
   "source": [
    "h2O2dm['Replicate'] = [a[-1] for a in h2O2dm.Plate.tolist()]\n",
    "h2O2lh['Replicate'] = [a[-1] for a in h2O2lh.Plate.tolist()]"
   ]
  },
  {
   "cell_type": "code",
   "execution_count": 29,
   "metadata": {},
   "outputs": [
    {
     "name": "stdout",
     "output_type": "stream",
     "text": [
      "1 0 SpearmanrResult(correlation=0.8824224754673616, pvalue=1.8872215723743576e-40)\n",
      "2 0 SpearmanrResult(correlation=0.8382735261831195, pvalue=7.218697086829466e-33)\n",
      "2 1 SpearmanrResult(correlation=0.8798313289699106, pvalue=6.31434020507341e-40)\n",
      "3 0 SpearmanrResult(correlation=0.8395813615484946, pvalue=4.655534474536432e-33)\n",
      "3 1 SpearmanrResult(correlation=0.9150979272055131, pvalue=2.2822274367867583e-48)\n",
      "3 2 SpearmanrResult(correlation=0.8775230954417405, pvalue=1.8091561277997454e-39)\n"
     ]
    },
    {
     "data": {
      "text/plain": [
       "0.8721216191360234"
      ]
     },
     "execution_count": 29,
     "metadata": {},
     "output_type": "execute_result"
    }
   ],
   "source": [
    "dm_scores = [a[1].Score.values \n",
    "              for a in h2O2dm[(h2O2dm.Isold==0)\n",
    "                             ].sort_values('Strain').groupby('Replicate')]\n",
    "dm_ranks = []\n",
    "for i, h in enumerate(dm_scores):\n",
    "    for j, k in enumerate(dm_scores):\n",
    "        if i != j and i >= j:\n",
    "            sr = ss.spearmanr(h,k)\n",
    "            print(i,j,sr);\n",
    "            dm_ranks.append((i,j,sr[0]))\n",
    "            \n",
    "dm_ranks = pd.DataFrame(dm_ranks,columns = ['Rep1','Rep2','Rank'])\n",
    "dm_ranks.Rank.mean()"
   ]
  },
  {
   "cell_type": "code",
   "execution_count": 30,
   "metadata": {},
   "outputs": [
    {
     "name": "stdout",
     "output_type": "stream",
     "text": [
      "1 0 SpearmanrResult(correlation=0.8673541006750937, pvalue=1.4689560887082027e-37)\n",
      "2 0 SpearmanrResult(correlation=0.7916624375240877, pvalue=5.1738200224357864e-27)\n",
      "2 1 SpearmanrResult(correlation=0.8516224589697897, pvalue=6.757519002247173e-35)\n",
      "3 0 SpearmanrResult(correlation=0.8637936056338018, pvalue=6.288826185844876e-37)\n",
      "3 1 SpearmanrResult(correlation=0.9065864091874128, pvalue=4.968393213371251e-46)\n",
      "3 2 SpearmanrResult(correlation=0.8692193662509846, pvalue=6.74225361688571e-38)\n"
     ]
    },
    {
     "data": {
      "text/plain": [
       "0.858373063040195"
      ]
     },
     "execution_count": 30,
     "metadata": {},
     "output_type": "execute_result"
    }
   ],
   "source": [
    "lh_scores = [a[1].Score.values \n",
    "              for a in h2O2lh[(h2O2lh.Isold==0)\n",
    "                             ].sort_values('Strain').groupby('Replicate')]\n",
    "lh_ranks = []\n",
    "for i, h in enumerate(lh_scores):\n",
    "    for j, k in enumerate(lh_scores):\n",
    "        if i != j and i >= j:\n",
    "            sr = ss.spearmanr(h,k)\n",
    "            print(i,j,sr);\n",
    "            lh_ranks.append((i,j,sr[0]))\n",
    "            \n",
    "lh_ranks = pd.DataFrame(lh_ranks,columns = ['Rep1','Rep2','Rank'])\n",
    "lh_ranks.Rank.mean()"
   ]
  },
  {
   "cell_type": "code",
   "execution_count": 31,
   "metadata": {},
   "outputs": [],
   "source": [
    "#h2O2L = pd.concat([h2O2dm,h2O2lh],axis=0,sort=True)\n",
    "h2O2L = pd.concat([h2O2dm[(h2O2dm.Isold==0)],\n",
    "                   h2O2lh[(h2O2lh.Isold==0)]],axis=0,sort=True)"
   ]
  },
  {
   "cell_type": "code",
   "execution_count": 32,
   "metadata": {},
   "outputs": [],
   "source": [
    "h2O2L.dropna(inplace=True)"
   ]
  },
  {
   "cell_type": "code",
   "execution_count": 33,
   "metadata": {},
   "outputs": [],
   "source": [
    "h2O2Ls = h2O2L[(h2O2L.Strain.isin(geno_df.columns))]"
   ]
  },
  {
   "cell_type": "raw",
   "metadata": {},
   "source": [
    "h2O2Ls.Strain.unique().shape"
   ]
  },
  {
   "cell_type": "code",
   "execution_count": 34,
   "metadata": {},
   "outputs": [],
   "source": [
    "segs = [a[0] for a in h2O2Ls.groupby('Strain')]"
   ]
  },
  {
   "cell_type": "code",
   "execution_count": 35,
   "metadata": {},
   "outputs": [
    {
     "data": {
      "image/png": "[encoded data removed]",
      "text/plain": [
       "<Figure size 1080x216 with 1 Axes>"
      ]
     },
     "metadata": {
      "needs_background": "light"
     },
     "output_type": "display_data"
    }
   ],
   "source": [
    "fig,ax = plt.subplots(1,1,figsize=(15,3))\n",
    "plt.boxplot([a[1]['Score'].values \n",
    "             for a in h2O2Ls.groupby('Strain')]);\n",
    "\n",
    "plt.xticks(np.arange(len(segs))+1,segs\n",
    "           ,rotation=90,fontsize=8);\n",
    "plt.xlabel('Strain');plt.ylabel('Score');"
   ]
  },
  {
   "cell_type": "code",
   "execution_count": 36,
   "metadata": {},
   "outputs": [],
   "source": [
    "medh2o2 = h2O2Ls.groupby('Strain').agg(np.median)"
   ]
  },
  {
   "cell_type": "code",
   "execution_count": 37,
   "metadata": {},
   "outputs": [
    {
     "data": {
      "text/html": [
       "<div>\n",
       "<style scoped>\n",
       "    .dataframe tbody tr th:only-of-type {\n",
       "        vertical-align: middle;\n",
       "    }\n",
       "\n",
       "    .dataframe tbody tr th {\n",
       "        vertical-align: top;\n",
       "    }\n",
       "\n",
       "    .dataframe thead th {\n",
       "        text-align: right;\n",
       "    }\n",
       "</style>\n",
       "<table border=\"1\" class=\"dataframe\">\n",
       "  <thead>\n",
       "    <tr style=\"text-align: right;\">\n",
       "      <th></th>\n",
       "      <th>Col</th>\n",
       "      <th>Isold</th>\n",
       "      <th>Score</th>\n",
       "    </tr>\n",
       "    <tr>\n",
       "      <th>Strain</th>\n",
       "      <th></th>\n",
       "      <th></th>\n",
       "      <th></th>\n",
       "    </tr>\n",
       "  </thead>\n",
       "  <tbody>\n",
       "    <tr>\n",
       "      <th>SS-A837</th>\n",
       "      <td>7</td>\n",
       "      <td>0</td>\n",
       "      <td>2.0</td>\n",
       "    </tr>\n",
       "    <tr>\n",
       "      <th>SS-B307</th>\n",
       "      <td>2</td>\n",
       "      <td>0</td>\n",
       "      <td>0.5</td>\n",
       "    </tr>\n",
       "    <tr>\n",
       "      <th>SS-B310</th>\n",
       "      <td>4</td>\n",
       "      <td>0</td>\n",
       "      <td>0.0</td>\n",
       "    </tr>\n",
       "    <tr>\n",
       "      <th>SS-B311</th>\n",
       "      <td>5</td>\n",
       "      <td>0</td>\n",
       "      <td>4.0</td>\n",
       "    </tr>\n",
       "    <tr>\n",
       "      <th>SS-B312</th>\n",
       "      <td>6</td>\n",
       "      <td>0</td>\n",
       "      <td>5.0</td>\n",
       "    </tr>\n",
       "  </tbody>\n",
       "</table>\n",
       "</div>"
      ],
      "text/plain": [
       "         Col  Isold  Score\n",
       "Strain                    \n",
       "SS-A837    7      0    2.0\n",
       "SS-B307    2      0    0.5\n",
       "SS-B310    4      0    0.0\n",
       "SS-B311    5      0    4.0\n",
       "SS-B312    6      0    5.0"
      ]
     },
     "execution_count": 37,
     "metadata": {},
     "output_type": "execute_result"
    }
   ],
   "source": [
    "medh2o2.head()"
   ]
  },
  {
   "cell_type": "code",
   "execution_count": 38,
   "metadata": {},
   "outputs": [
    {
     "data": {
      "text/plain": [
       "Col      7.0\n",
       "Isold    0.0\n",
       "Score    2.0\n",
       "Name: SS-A837, dtype: float64"
      ]
     },
     "execution_count": 38,
     "metadata": {},
     "output_type": "execute_result"
    }
   ],
   "source": [
    "medh2o2.T['SS-A837']"
   ]
  },
  {
   "cell_type": "code",
   "execution_count": 39,
   "metadata": {},
   "outputs": [],
   "source": [
    "_431label = r'$431\\mathrm{\\alpha}$'\n",
    "_xl280alabel='XL280'+r'$\\bf{a}$'\n",
    "_xl280alphlabel = r'XL280$\\mathrm{\\alpha}$'\n",
    "alpha_label = r'$\\mathrm{\\alpha}$ = 0.05'"
   ]
  },
  {
   "cell_type": "code",
   "execution_count": 40,
   "metadata": {},
   "outputs": [
    {
     "data": {
      "image/png": "[encoded data removed]",
      "text/plain": [
       "<Figure size 576x288 with 1 Axes>"
      ]
     },
     "metadata": {
      "needs_background": "light"
     },
     "output_type": "display_data"
    }
   ],
   "source": [
    "fig,ax=plt.subplots(1,1,figsize=(8,4))\n",
    "plt.hist(medh2o2.Score.values,color='grey',alpha=0.5,\n",
    "         bins=np.arange(7)-0.5);\n",
    "plt.xlabel('Median $H_{2}O_{2}$ Growth Score',fontsize=14);\n",
    "plt.ylabel('Number of Segregants',fontsize=14);\n",
    "plt.vlines(medh2o2.T['SS-A837'].T.Score,0,len(segs)/10,\n",
    "           alpha=0.75,color='tab:orange',label=_431label);\n",
    "plt.vlines(medh2o2.T['XL280alpha'].T.Score,0,len(segs)/10,\n",
    "           alpha=0.75,linestyle='-',\n",
    "           color='tab:blue',label=_xl280alphlabel);\n",
    "plt.vlines(medh2o2.T['XL280a'].T.Score,0,len(segs)/10,\n",
    "           alpha=0.75,linestyle='--',\n",
    "           color='tab:blue',label=_xl280alabel);\n",
    "plt.legend(title='Parental Strain',fontsize=14);\n",
    "#plt.savefig('/home/croth/Desktop/H2O2_median_growth_hist.png',\n",
    "#           dpi=100,bbox_inches='tight');"
   ]
  },
  {
   "cell_type": "markdown",
   "metadata": {},
   "source": [
    "medh2o2p = medh2o2[['Score']].copy()\n",
    "max_pvals = []\n",
    "\n",
    "for i in range(1000):\n",
    "    medh2o2p.index = np.random.permutation(medh2o2.index)\n",
    "    \n",
    "    maxpval = geno_df[segs].T[loci].T.apply(\n",
    "        association_logPval,\n",
    "        args=[medh2o2p.T[segs].T.Score],\n",
    "        axis=1).max()\n",
    "    \n",
    "    max_pvals.append(maxpval)"
   ]
  },
  {
   "cell_type": "markdown",
   "metadata": {},
   "source": [
    "threshold_95 = np.percentile(np.array(max_pvals),95)\n",
    "threshold_99 = np.percentile(np.array(max_pvals),99)"
   ]
  },
  {
   "cell_type": "code",
   "execution_count": 41,
   "metadata": {},
   "outputs": [],
   "source": [
    "medh2o2['Score_down'] = np.floor(medh2o2.Score.values)"
   ]
  },
  {
   "cell_type": "code",
   "execution_count": 42,
   "metadata": {},
   "outputs": [
    {
     "data": {
      "image/png": "[encoded data removed]",
      "text/plain": [
       "<Figure size 432x288 with 1 Axes>"
      ]
     },
     "metadata": {
      "needs_background": "light"
     },
     "output_type": "display_data"
    }
   ],
   "source": [
    "medh2o2.Score_down.hist();"
   ]
  },
  {
   "cell_type": "code",
   "execution_count": 43,
   "metadata": {},
   "outputs": [
    {
     "data": {
      "text/plain": [
       "104"
      ]
     },
     "execution_count": 43,
     "metadata": {},
     "output_type": "execute_result"
    }
   ],
   "source": [
    "len(segs)"
   ]
  },
  {
   "cell_type": "code",
   "execution_count": 44,
   "metadata": {},
   "outputs": [
    {
     "data": {
      "text/plain": [
       "(2777, 104)"
      ]
     },
     "execution_count": 44,
     "metadata": {},
     "output_type": "execute_result"
    }
   ],
   "source": [
    "test = geno_df[segs].drop_duplicates()\n",
    "test.shape"
   ]
  },
  {
   "cell_type": "code",
   "execution_count": 45,
   "metadata": {},
   "outputs": [],
   "source": [
    "test['Pval'] = test.apply(association_logPval,\n",
    "                          args=[medh2o2.T[segs].T.Score],axis=1)\n",
    "pvaldf = geno_df.merge(test)"
   ]
  },
  {
   "cell_type": "code",
   "execution_count": 46,
   "metadata": {},
   "outputs": [
    {
     "data": {
      "text/plain": [
       "1.6155697532051163"
      ]
     },
     "execution_count": 46,
     "metadata": {},
     "output_type": "execute_result"
    }
   ],
   "source": [
    "pvaldf[(pvaldf.Chrom=='Chr09')].Pval.max()"
   ]
  },
  {
   "cell_type": "code",
   "execution_count": 47,
   "metadata": {},
   "outputs": [
    {
     "data": {
      "text/plain": [
       "4.518186729935608"
      ]
     },
     "execution_count": 47,
     "metadata": {},
     "output_type": "execute_result"
    }
   ],
   "source": [
    "pvaldf[(pvaldf.Chrom=='Chr12')].Pval.max()"
   ]
  },
  {
   "cell_type": "code",
   "execution_count": 48,
   "metadata": {},
   "outputs": [
    {
     "data": {
      "image/png": "[encoded data removed]",
      "text/plain": [
       "<Figure size 864x216 with 1 Axes>"
      ]
     },
     "metadata": {
      "needs_background": "light"
     },
     "output_type": "display_data"
    }
   ],
   "source": [
    "fig,ax = plt.subplots(1,1,figsize=(12,3))\n",
    "for c,chrom in enumerate(chrlist):\n",
    "    #print(c,chrom)\n",
    "    tpd = pvaldf[(pvaldf.Chrom==chrom)]\n",
    "    plt.plot(tpd.Pos+cumpos[c],tpd.Pval.values,'.',alpha=0.5);\n",
    "\n",
    "#plt.hlines(threshold_95,chrom_midpts[1],19*(10**6),\n",
    "#           linestyle='--',alpha=0.7,\n",
    "#           linewidth=1,label=alpha_label)\n",
    "\n",
    "#plt.hlines(threshold_99,0,19*(10**6),\n",
    "#           linestyle='-.',alpha=0.7,linewidth=1)\n",
    "\n",
    "#plt.legend(bbox_to_anchor=(0.2,1.042),fontsize=14,frameon=False)\n",
    "plt.xticks(chrom_midpts,labels=np.arange(len(chrlist))+1);\n",
    "plt.xlabel('Chromosome',fontsize=14);\n",
    "plt.ylabel('-$log_{10}$(p-value)',fontsize=14);\n",
    "#plt.ylim(-0.1,5);\n",
    "#plt.savefig('/home/croth/Desktop/H2O2_QTL_wnp.png',\n",
    "#            bbox_inches='tight',dpi=150);"
   ]
  },
  {
   "cell_type": "code",
   "execution_count": 49,
   "metadata": {},
   "outputs": [],
   "source": [
    "ch02ix = pvaldf[(pvaldf.Chrom=='Chr02')].Pval.idxmax()"
   ]
  },
  {
   "cell_type": "code",
   "execution_count": 50,
   "metadata": {},
   "outputs": [],
   "source": [
    "ch12ix = pvaldf[(pvaldf.Chrom=='Chr12')].Pval.idxmax()\n",
    "ch14ix = pvaldf[(pvaldf.Chrom=='Chr14')].Pval.idxmax()"
   ]
  },
  {
   "cell_type": "code",
   "execution_count": 51,
   "metadata": {},
   "outputs": [],
   "source": [
    "medh2o2['Chr02'] = np.array(pvaldf.T[ch02ix][segs],dtype=float)\n",
    "medh2o2['Chr12'] = np.array(pvaldf.T[ch12ix][segs],dtype=float)\n",
    "medh2o2['Chr14'] = np.array(pvaldf.T[ch14ix][segs],dtype=float)"
   ]
  },
  {
   "cell_type": "code",
   "execution_count": 52,
   "metadata": {},
   "outputs": [],
   "source": [
    "ssk2 = pd.read_csv('../DATA/CNL05560.csv.gz',index_col=0)\n",
    "ssk1 = pd.read_csv('../DATA/CNB03090.csv.gz',index_col=0)\n",
    "ric8 = pd.read_csv('../DATA/CNN01270.csv.gz',index_col=0)"
   ]
  },
  {
   "cell_type": "code",
   "execution_count": 53,
   "metadata": {},
   "outputs": [],
   "source": [
    "#pvaldf[(pvaldf.Chrom=='Chr12') & \n",
    "#       (pvaldf.Pos>=ssk2.Start.min()) & \n",
    "#       (pvaldf.Pos<=ssk2.End.max())][medh2o2.index].mode().dropna().values"
   ]
  },
  {
   "cell_type": "code",
   "execution_count": 54,
   "metadata": {},
   "outputs": [],
   "source": [
    "#medh2o2['SSK2'] = pvaldf[(pvaldf.Chrom=='Chr12') & \n",
    "#       (pvaldf.Pos>=ssk2.Start.min()) & \n",
    "#       (pvaldf.Pos<=ssk2.End.max())][medh2o2.index].max().dropna().T.values\n",
    "\n",
    "medh2o2['SSK2'] = pvaldf[(pvaldf.Chrom=='Chr12') & \n",
    "                   (pvaldf.Pos>=ssk2.Start.min()) & \n",
    "                       (pvaldf.Pos<=ssk2.End.max())][medh2o2.index].min()"
   ]
  },
  {
   "cell_type": "code",
   "execution_count": 55,
   "metadata": {},
   "outputs": [],
   "source": [
    "medh2o2['RIC8'] = pvaldf[(pvaldf.Chrom=='Chr14') & \n",
    "       (pvaldf.Pos>=ric8.Start.min()) & \n",
    "       (pvaldf.Pos<=ric8.End.max())][medh2o2.index].min()"
   ]
  },
  {
   "cell_type": "code",
   "execution_count": 56,
   "metadata": {},
   "outputs": [
    {
     "data": {
      "text/html": [
       "<div>\n",
       "<style scoped>\n",
       "    .dataframe tbody tr th:only-of-type {\n",
       "        vertical-align: middle;\n",
       "    }\n",
       "\n",
       "    .dataframe tbody tr th {\n",
       "        vertical-align: top;\n",
       "    }\n",
       "\n",
       "    .dataframe thead th {\n",
       "        text-align: right;\n",
       "    }\n",
       "</style>\n",
       "<table border=\"1\" class=\"dataframe\">\n",
       "  <thead>\n",
       "    <tr style=\"text-align: right;\">\n",
       "      <th></th>\n",
       "      <th>Col</th>\n",
       "      <th>Isold</th>\n",
       "      <th>Score</th>\n",
       "      <th>Score_down</th>\n",
       "      <th>Chr02</th>\n",
       "      <th>Chr12</th>\n",
       "      <th>Chr14</th>\n",
       "      <th>SSK2</th>\n",
       "      <th>RIC8</th>\n",
       "    </tr>\n",
       "    <tr>\n",
       "      <th>Strain</th>\n",
       "      <th></th>\n",
       "      <th></th>\n",
       "      <th></th>\n",
       "      <th></th>\n",
       "      <th></th>\n",
       "      <th></th>\n",
       "      <th></th>\n",
       "      <th></th>\n",
       "      <th></th>\n",
       "    </tr>\n",
       "  </thead>\n",
       "  <tbody>\n",
       "    <tr>\n",
       "      <th>SS-A837</th>\n",
       "      <td>7</td>\n",
       "      <td>0</td>\n",
       "      <td>2.0</td>\n",
       "      <td>2.0</td>\n",
       "      <td>1.0</td>\n",
       "      <td>1.0</td>\n",
       "      <td>1.0</td>\n",
       "      <td>1.0</td>\n",
       "      <td>1.0</td>\n",
       "    </tr>\n",
       "    <tr>\n",
       "      <th>SS-B307</th>\n",
       "      <td>2</td>\n",
       "      <td>0</td>\n",
       "      <td>0.5</td>\n",
       "      <td>0.0</td>\n",
       "      <td>0.0</td>\n",
       "      <td>0.0</td>\n",
       "      <td>1.0</td>\n",
       "      <td>0.0</td>\n",
       "      <td>1.0</td>\n",
       "    </tr>\n",
       "    <tr>\n",
       "      <th>SS-B310</th>\n",
       "      <td>4</td>\n",
       "      <td>0</td>\n",
       "      <td>0.0</td>\n",
       "      <td>0.0</td>\n",
       "      <td>1.0</td>\n",
       "      <td>0.0</td>\n",
       "      <td>1.0</td>\n",
       "      <td>0.0</td>\n",
       "      <td>1.0</td>\n",
       "    </tr>\n",
       "    <tr>\n",
       "      <th>SS-B311</th>\n",
       "      <td>5</td>\n",
       "      <td>0</td>\n",
       "      <td>4.0</td>\n",
       "      <td>4.0</td>\n",
       "      <td>0.0</td>\n",
       "      <td>1.0</td>\n",
       "      <td>1.0</td>\n",
       "      <td>1.0</td>\n",
       "      <td>1.0</td>\n",
       "    </tr>\n",
       "    <tr>\n",
       "      <th>SS-B312</th>\n",
       "      <td>6</td>\n",
       "      <td>0</td>\n",
       "      <td>5.0</td>\n",
       "      <td>5.0</td>\n",
       "      <td>0.0</td>\n",
       "      <td>1.0</td>\n",
       "      <td>0.0</td>\n",
       "      <td>1.0</td>\n",
       "      <td>0.0</td>\n",
       "    </tr>\n",
       "  </tbody>\n",
       "</table>\n",
       "</div>"
      ],
      "text/plain": [
       "         Col  Isold  Score  Score_down  Chr02  Chr12  Chr14  SSK2  RIC8\n",
       "Strain                                                                 \n",
       "SS-A837    7      0    2.0         2.0    1.0    1.0    1.0   1.0   1.0\n",
       "SS-B307    2      0    0.5         0.0    0.0    0.0    1.0   0.0   1.0\n",
       "SS-B310    4      0    0.0         0.0    1.0    0.0    1.0   0.0   1.0\n",
       "SS-B311    5      0    4.0         4.0    0.0    1.0    1.0   1.0   1.0\n",
       "SS-B312    6      0    5.0         5.0    0.0    1.0    0.0   1.0   0.0"
      ]
     },
     "execution_count": 56,
     "metadata": {},
     "output_type": "execute_result"
    }
   ],
   "source": [
    "medh2o2.head()"
   ]
  },
  {
   "cell_type": "code",
   "execution_count": 57,
   "metadata": {},
   "outputs": [
    {
     "data": {
      "text/plain": [
       "(104, 9)"
      ]
     },
     "execution_count": 57,
     "metadata": {},
     "output_type": "execute_result"
    }
   ],
   "source": [
    "medh2o2.shape"
   ]
  },
  {
   "cell_type": "code",
   "execution_count": 58,
   "metadata": {},
   "outputs": [],
   "source": [
    "medh2o2.to_csv('../DATA/H2O2_phenotypes.csv',index=True)"
   ]
  },
  {
   "cell_type": "code",
   "execution_count": 59,
   "metadata": {},
   "outputs": [
    {
     "data": {
      "image/png": "[encoded data removed]",
      "text/plain": [
       "<Figure size 360x360 with 1 Axes>"
      ]
     },
     "metadata": {
      "needs_background": "light"
     },
     "output_type": "display_data"
    }
   ],
   "source": [
    "x = '12'\n",
    "y = '02'\n",
    "sns.lmplot(y='Score',x='Chr%s'%x,data=medh2o2,\n",
    "           hue='Chr%s'%y, x_jitter=0.2,y_jitter=0.05,\n",
    "           scatter_kws={'alpha':0.5},legend_out=False);\n",
    "plt.xticks([0,1],labels=['XL280','431'],fontsize=14)\n",
    "plt.xlabel('Chromosome %s Allele'%x,\n",
    "           fontsize=14);\n",
    "plt.ylabel('$H_{2}O_{2}$ Growth Score',\n",
    "           fontsize=14);\n",
    "\n",
    "L=plt.legend(bbox_to_anchor=(1,1),\n",
    "             title='Chromosome %s Allele'%y,\n",
    "             fontsize=14)\n",
    "L.get_texts()[0].set_text('XL280')\n",
    "L.get_texts()[1].set_text('431')"
   ]
  },
  {
   "cell_type": "code",
   "execution_count": 60,
   "metadata": {},
   "outputs": [
    {
     "data": {
      "image/png": "[encoded data removed]",
      "text/plain": [
       "<Figure size 360x360 with 1 Axes>"
      ]
     },
     "metadata": {
      "needs_background": "light"
     },
     "output_type": "display_data"
    }
   ],
   "source": [
    "y = '12'\n",
    "x = '14'\n",
    "sns.lmplot(y='Score',x='Chr%s'%x,data=medh2o2,\n",
    "          # hue='Chr%s'%y, \n",
    "           x_jitter=0.2,\n",
    "           scatter_kws={'alpha':0.5},legend_out=False);\n",
    "plt.xticks([0,1],labels=['XL280','431'],fontsize=14)\n",
    "plt.xlabel('Chromosome %s Allele'%x,\n",
    "           fontsize=14);\n",
    "plt.ylabel('$H_{2}O_{2}$ Growth Score',\n",
    "           fontsize=14);\n",
    "\n",
    "#L=plt.legend(bbox_to_anchor=(1,1),\n",
    "      #       title='Chromosome %s Allele'%y,\n",
    "      #       fontsize=14)\n",
    "#L.get_texts()[0].set_text('XL280')\n",
    "#L.get_texts()[1].set_text('431')"
   ]
  },
  {
   "cell_type": "code",
   "execution_count": 61,
   "metadata": {},
   "outputs": [
    {
     "data": {
      "text/html": [
       "<div>\n",
       "<style scoped>\n",
       "    .dataframe tbody tr th:only-of-type {\n",
       "        vertical-align: middle;\n",
       "    }\n",
       "\n",
       "    .dataframe tbody tr th {\n",
       "        vertical-align: top;\n",
       "    }\n",
       "\n",
       "    .dataframe thead th {\n",
       "        text-align: right;\n",
       "    }\n",
       "</style>\n",
       "<table border=\"1\" class=\"dataframe\">\n",
       "  <thead>\n",
       "    <tr style=\"text-align: right;\">\n",
       "      <th></th>\n",
       "      <th></th>\n",
       "      <th>Col</th>\n",
       "      <th>Isold</th>\n",
       "      <th>Score</th>\n",
       "      <th>Score_down</th>\n",
       "      <th>Chr02</th>\n",
       "      <th>SSK2</th>\n",
       "      <th>RIC8</th>\n",
       "    </tr>\n",
       "    <tr>\n",
       "      <th>Chr12</th>\n",
       "      <th>Chr14</th>\n",
       "      <th></th>\n",
       "      <th></th>\n",
       "      <th></th>\n",
       "      <th></th>\n",
       "      <th></th>\n",
       "      <th></th>\n",
       "      <th></th>\n",
       "    </tr>\n",
       "  </thead>\n",
       "  <tbody>\n",
       "    <tr>\n",
       "      <th rowspan=\"2\" valign=\"top\">0.0</th>\n",
       "      <th>0.0</th>\n",
       "      <td>24</td>\n",
       "      <td>24</td>\n",
       "      <td>24</td>\n",
       "      <td>24</td>\n",
       "      <td>24</td>\n",
       "      <td>24</td>\n",
       "      <td>24</td>\n",
       "    </tr>\n",
       "    <tr>\n",
       "      <th>1.0</th>\n",
       "      <td>41</td>\n",
       "      <td>41</td>\n",
       "      <td>41</td>\n",
       "      <td>41</td>\n",
       "      <td>41</td>\n",
       "      <td>41</td>\n",
       "      <td>41</td>\n",
       "    </tr>\n",
       "    <tr>\n",
       "      <th rowspan=\"2\" valign=\"top\">1.0</th>\n",
       "      <th>0.0</th>\n",
       "      <td>26</td>\n",
       "      <td>26</td>\n",
       "      <td>26</td>\n",
       "      <td>26</td>\n",
       "      <td>26</td>\n",
       "      <td>26</td>\n",
       "      <td>26</td>\n",
       "    </tr>\n",
       "    <tr>\n",
       "      <th>1.0</th>\n",
       "      <td>13</td>\n",
       "      <td>13</td>\n",
       "      <td>13</td>\n",
       "      <td>13</td>\n",
       "      <td>13</td>\n",
       "      <td>13</td>\n",
       "      <td>13</td>\n",
       "    </tr>\n",
       "  </tbody>\n",
       "</table>\n",
       "</div>"
      ],
      "text/plain": [
       "             Col  Isold  Score  Score_down  Chr02  SSK2  RIC8\n",
       "Chr12 Chr14                                                  \n",
       "0.0   0.0     24     24     24          24     24    24    24\n",
       "      1.0     41     41     41          41     41    41    41\n",
       "1.0   0.0     26     26     26          26     26    26    26\n",
       "      1.0     13     13     13          13     13    13    13"
      ]
     },
     "execution_count": 61,
     "metadata": {},
     "output_type": "execute_result"
    }
   ],
   "source": [
    "medh2o2.groupby(['Chr12','Chr14']).count()"
   ]
  },
  {
   "cell_type": "code",
   "execution_count": 62,
   "metadata": {},
   "outputs": [
    {
     "data": {
      "image/png": "[encoded data removed]",
      "text/plain": [
       "<Figure size 360x360 with 1 Axes>"
      ]
     },
     "metadata": {
      "needs_background": "light"
     },
     "output_type": "display_data"
    }
   ],
   "source": [
    "x = '12'\n",
    "y = '14'\n",
    "sns.lmplot(y='Score_down',x='Chr%s'%x,data=medh2o2,\n",
    "           hue='Chr%s'%y,x_jitter=.3,\n",
    "           scatter_kws={'alpha':0.30},\n",
    "           legend_out=False);\n",
    "\n",
    "\n",
    "#sns.swarmplot(y='Score',x='Chr%s'%x,data=medh2o2,\n",
    "#           hue='Chr%s'%y,dodge=True)\n",
    "\n",
    "L=plt.legend(bbox_to_anchor=(1,1),\n",
    "             title='Chromosome %s Allele'%y,\n",
    "             fontsize=14)\n",
    "\n",
    "L.get_texts()[0].set_text('XL280')\n",
    "L.get_texts()[1].set_text('431')\n",
    "\n",
    "plt.xticks([0,1],labels=['XL280','431'],fontsize=14)\n",
    "plt.xlabel('Chromosome %s Allele'%x,\n",
    "           fontsize=14);\n",
    "plt.ylabel('$H_{2}O_{2}$ Growth Score',\n",
    "           fontsize=14);\n",
    "#plt.savefig('/home/croth/Desktop/H2O2_Pheno_reg.png',\n",
    "#            dpi=150,bbox_inches='tight');"
   ]
  },
  {
   "cell_type": "code",
   "execution_count": 63,
   "metadata": {},
   "outputs": [],
   "source": [
    "parents = medh2o2.T[['SS-A837','XL280a']].T[['Score','Chr02']]"
   ]
  },
  {
   "cell_type": "code",
   "execution_count": 64,
   "metadata": {},
   "outputs": [],
   "source": [
    "from matplotlib.gridspec import GridSpec"
   ]
  },
  {
   "cell_type": "code",
   "execution_count": 65,
   "metadata": {},
   "outputs": [],
   "source": [
    "from PIL import Image\n",
    "plt.style.use(['tableau-colorblind10'])"
   ]
  },
  {
   "cell_type": "code",
   "execution_count": 66,
   "metadata": {},
   "outputs": [],
   "source": [
    "import matplotlib.image as mpimg"
   ]
  },
  {
   "cell_type": "code",
   "execution_count": 67,
   "metadata": {},
   "outputs": [
    {
     "data": {
      "text/html": [
       "<div>\n",
       "<style scoped>\n",
       "    .dataframe tbody tr th:only-of-type {\n",
       "        vertical-align: middle;\n",
       "    }\n",
       "\n",
       "    .dataframe tbody tr th {\n",
       "        vertical-align: top;\n",
       "    }\n",
       "\n",
       "    .dataframe thead th {\n",
       "        text-align: right;\n",
       "    }\n",
       "</style>\n",
       "<table border=\"1\" class=\"dataframe\">\n",
       "  <thead>\n",
       "    <tr style=\"text-align: right;\">\n",
       "      <th></th>\n",
       "      <th>Col</th>\n",
       "      <th>Isold</th>\n",
       "      <th>Score</th>\n",
       "      <th>Score_down</th>\n",
       "      <th>Chr02</th>\n",
       "      <th>Chr12</th>\n",
       "      <th>Chr14</th>\n",
       "      <th>SSK2</th>\n",
       "      <th>RIC8</th>\n",
       "    </tr>\n",
       "    <tr>\n",
       "      <th>Strain</th>\n",
       "      <th></th>\n",
       "      <th></th>\n",
       "      <th></th>\n",
       "      <th></th>\n",
       "      <th></th>\n",
       "      <th></th>\n",
       "      <th></th>\n",
       "      <th></th>\n",
       "      <th></th>\n",
       "    </tr>\n",
       "  </thead>\n",
       "  <tbody>\n",
       "    <tr>\n",
       "      <th>SS-A837</th>\n",
       "      <td>7</td>\n",
       "      <td>0</td>\n",
       "      <td>2.0</td>\n",
       "      <td>2.0</td>\n",
       "      <td>1.0</td>\n",
       "      <td>1.0</td>\n",
       "      <td>1.0</td>\n",
       "      <td>1.0</td>\n",
       "      <td>1.0</td>\n",
       "    </tr>\n",
       "    <tr>\n",
       "      <th>SS-B307</th>\n",
       "      <td>2</td>\n",
       "      <td>0</td>\n",
       "      <td>0.5</td>\n",
       "      <td>0.0</td>\n",
       "      <td>0.0</td>\n",
       "      <td>0.0</td>\n",
       "      <td>1.0</td>\n",
       "      <td>0.0</td>\n",
       "      <td>1.0</td>\n",
       "    </tr>\n",
       "    <tr>\n",
       "      <th>SS-B310</th>\n",
       "      <td>4</td>\n",
       "      <td>0</td>\n",
       "      <td>0.0</td>\n",
       "      <td>0.0</td>\n",
       "      <td>1.0</td>\n",
       "      <td>0.0</td>\n",
       "      <td>1.0</td>\n",
       "      <td>0.0</td>\n",
       "      <td>1.0</td>\n",
       "    </tr>\n",
       "    <tr>\n",
       "      <th>SS-B311</th>\n",
       "      <td>5</td>\n",
       "      <td>0</td>\n",
       "      <td>4.0</td>\n",
       "      <td>4.0</td>\n",
       "      <td>0.0</td>\n",
       "      <td>1.0</td>\n",
       "      <td>1.0</td>\n",
       "      <td>1.0</td>\n",
       "      <td>1.0</td>\n",
       "    </tr>\n",
       "    <tr>\n",
       "      <th>SS-B312</th>\n",
       "      <td>6</td>\n",
       "      <td>0</td>\n",
       "      <td>5.0</td>\n",
       "      <td>5.0</td>\n",
       "      <td>0.0</td>\n",
       "      <td>1.0</td>\n",
       "      <td>0.0</td>\n",
       "      <td>1.0</td>\n",
       "      <td>0.0</td>\n",
       "    </tr>\n",
       "  </tbody>\n",
       "</table>\n",
       "</div>"
      ],
      "text/plain": [
       "         Col  Isold  Score  Score_down  Chr02  Chr12  Chr14  SSK2  RIC8\n",
       "Strain                                                                 \n",
       "SS-A837    7      0    2.0         2.0    1.0    1.0    1.0   1.0   1.0\n",
       "SS-B307    2      0    0.5         0.0    0.0    0.0    1.0   0.0   1.0\n",
       "SS-B310    4      0    0.0         0.0    1.0    0.0    1.0   0.0   1.0\n",
       "SS-B311    5      0    4.0         4.0    0.0    1.0    1.0   1.0   1.0\n",
       "SS-B312    6      0    5.0         5.0    0.0    1.0    0.0   1.0   0.0"
      ]
     },
     "execution_count": 67,
     "metadata": {},
     "output_type": "execute_result"
    }
   ],
   "source": [
    "medh2o2.head()"
   ]
  },
  {
   "cell_type": "code",
   "execution_count": 68,
   "metadata": {},
   "outputs": [],
   "source": [
    "import statsmodels.formula.api as smf"
   ]
  },
  {
   "cell_type": "code",
   "execution_count": 69,
   "metadata": {},
   "outputs": [
    {
     "name": "stdout",
     "output_type": "stream",
     "text": [
      "ShapiroResult(statistic=0.9355438351631165, pvalue=7.547019049525261e-05)\n"
     ]
    },
    {
     "data": {
      "image/png": "[encoded data removed]",
      "text/plain": [
       "<Figure size 432x288 with 1 Axes>"
      ]
     },
     "metadata": {
      "needs_background": "light"
     },
     "output_type": "display_data"
    }
   ],
   "source": [
    "qtl12_res = smf.ols('Score~Chr12',data=medh2o2).fit()\n",
    "print(ss.shapiro(qtl12_res.resid.values))\n",
    "plt.hist(qtl12_res.resid.values);"
   ]
  },
  {
   "cell_type": "code",
   "execution_count": 70,
   "metadata": {},
   "outputs": [
    {
     "name": "stdout",
     "output_type": "stream",
     "text": [
      "ShapiroResult(statistic=0.9372780919075012, pvalue=9.616556053515524e-05)\n"
     ]
    },
    {
     "data": {
      "image/png": "[encoded data removed]",
      "text/plain": [
       "<Figure size 432x288 with 1 Axes>"
      ]
     },
     "metadata": {
      "needs_background": "light"
     },
     "output_type": "display_data"
    }
   ],
   "source": [
    "qtl14_res = smf.ols('Score~Chr14',data=medh2o2).fit()\n",
    "print(ss.shapiro(qtl14_res.resid.values))\n",
    "plt.hist(qtl14_res.resid.values);"
   ]
  },
  {
   "cell_type": "code",
   "execution_count": 71,
   "metadata": {},
   "outputs": [
    {
     "name": "stdout",
     "output_type": "stream",
     "text": [
      "                            OLS Regression Results                            \n",
      "==============================================================================\n",
      "Dep. Variable:                  Score   R-squared:                       0.278\n",
      "Model:                            OLS   Adj. R-squared:                  0.257\n",
      "Method:                 Least Squares   F-statistic:                     12.85\n",
      "Date:                Mon, 02 Nov 2020   Prob (F-statistic):           3.62e-07\n",
      "Time:                        10:48:05   Log-Likelihood:                -194.52\n",
      "No. Observations:                 104   AIC:                             397.0\n",
      "Df Residuals:                     100   BIC:                             407.6\n",
      "Df Model:                           3                                         \n",
      "Covariance Type:            nonrobust                                         \n",
      "===============================================================================\n",
      "                  coef    std err          t      P>|t|      [0.025      0.975]\n",
      "-------------------------------------------------------------------------------\n",
      "Intercept       3.0833      0.327      9.431      0.000       2.435       3.732\n",
      "Chr12           0.4936      0.453      1.089      0.279      -0.406       1.393\n",
      "Chr14          -1.6809      0.412     -4.083      0.000      -2.498      -0.864\n",
      "Chr12:Chr14     1.5655      0.682      2.295      0.024       0.212       2.919\n",
      "==============================================================================\n",
      "Omnibus:                        5.771   Durbin-Watson:                   1.616\n",
      "Prob(Omnibus):                  0.056   Jarque-Bera (JB):                3.512\n",
      "Skew:                          -0.262   Prob(JB):                        0.173\n",
      "Kurtosis:                       2.269   Cond. No.                         6.57\n",
      "==============================================================================\n",
      "\n",
      "Warnings:\n",
      "[1] Standard Errors assume that the covariance matrix of the errors is correctly specified.\n"
     ]
    },
    {
     "data": {
      "image/png": "[encoded data removed]",
      "text/plain": [
       "<Figure size 432x288 with 1 Axes>"
      ]
     },
     "metadata": {
      "needs_background": "light"
     },
     "output_type": "display_data"
    }
   ],
   "source": [
    "qtl12_14_res = smf.ols('Score~Chr12*Chr14',data=medh2o2).fit()\n",
    "#print(ss.shapiro(qtl12_14_res.resid.values))\n",
    "plt.hist(qtl12_14_res.resid.values);\n",
    "print(qtl12_14_res.summary())"
   ]
  },
  {
   "cell_type": "code",
   "execution_count": 72,
   "metadata": {},
   "outputs": [],
   "source": [
    "chrom_colors = ['tab:grey','tab:brown','lightgrey','salmon','tan']"
   ]
  },
  {
   "cell_type": "code",
   "execution_count": 73,
   "metadata": {},
   "outputs": [
    {
     "data": {
      "text/plain": [
       "4.258910961495085"
      ]
     },
     "execution_count": 73,
     "metadata": {},
     "output_type": "execute_result"
    }
   ],
   "source": [
    "import os\n",
    "kps = 10000\n",
    "perms = []\n",
    "perm_path = '../DATA/Cden_H2O2_permutations.csv'\n",
    "if not os.path.exists(perm_path):\n",
    "    while len(perms)<kps:\n",
    "    \n",
    "        ran_pval = test[segs].apply(association_logPval,\n",
    "                                args=[medh2o2.T[np.random.permutation(segs)].T.Score],\n",
    "                                axis=1).max()\n",
    "        perms.append(ran_pval)\n",
    "    pd.DataFrame(perms,columns=['H2O2']).to_csv(perm_path,index=False)\n",
    "else:\n",
    "    perms = pd.read_csv(perm_path)['H2O2'].values\n",
    "    \n",
    "threshold_95 = np.percentile(perms,95)\n",
    "threshold_95"
   ]
  },
  {
   "cell_type": "code",
   "execution_count": 74,
   "metadata": {},
   "outputs": [],
   "source": [
    "F_1 = [s for s in segs if s not in ['XL80a','XL280alpha','SS-A837']]"
   ]
  },
  {
   "cell_type": "code",
   "execution_count": 76,
   "metadata": {},
   "outputs": [
    {
     "name": "stderr",
     "output_type": "stream",
     "text": [
      "/home/croth/anaconda3/lib/python3.8/site-packages/seaborn/categorical.py:1296: UserWarning: 7.7% of the points cannot be placed; you may want to decrease the size of the markers or use stripplot.\n",
      "  warnings.warn(msg, UserWarning)\n"
     ]
    },
    {
     "data": {
      "image/png": "[encoded data removed]",
      "text/plain": [
       "<Figure size 576x576 with 11 Axes>"
      ]
     },
     "metadata": {
      "needs_background": "light"
     },
     "output_type": "display_data"
    }
   ],
   "source": [
    "fig = plt.figure(figsize=(8,8))\n",
    "gs = GridSpec(12,4,figure=fig)\n",
    "ax_fake = fig.add_subplot(gs[:2,:2])\n",
    "plt.sca(ax_fake)\n",
    "[ax_fake.spines[s].set_visible(False) for s in ['top','right']]\n",
    "\n",
    "plt.title(x=-0.125,y=1,label='A',\n",
    "          fontsize=14,fontweight='bold')\n",
    "plt.xticks([]);plt.yticks([])\n",
    "\n",
    "[ax_fake.spines[j].set_visible(False) for j in ['top','bottom','left','right']]\n",
    "\n",
    "ax_hist = fig.add_subplot(gs[:3,2:])\n",
    "\n",
    "[ax_hist.spines[s].set_visible(False) for s in ['top','right']]\n",
    "\n",
    "\n",
    "plt.hist(medh2o2.Score.values,color='grey',alpha=0.65,\n",
    "         bins=np.arange(7)-0.5);\n",
    "\n",
    "plt.xlabel('H$_{2}$O$_{2}$ Score',fontsize=14);\n",
    "plt.xticks([0,1,2,3,4,5])\n",
    "plt.ylabel('Number of\\nProgeny',fontsize=14);\n",
    "plt.yticks(np.arange(0,35,5))\n",
    "\n",
    "plt.vlines(medh2o2.T['XL280a'].T.Score,0,3.5,\n",
    "           alpha=0.75,linestyle='-',\n",
    "           color='tab:blue')#,label=_xl280alabel);\n",
    "plt.text(medh2o2.T['XL280a'].T.Score,4,\n",
    "         _xl280alabel,fontsize=12,\n",
    "         color='tab:blue',ha='center')\n",
    "\n",
    "plt.vlines(medh2o2.T['SS-A837'].T.Score,0,3.5,\n",
    "           alpha=0.75,color='tab:orange')#,label=_431label);\n",
    "plt.text(medh2o2.T['SS-A837'].T.Score,4,\n",
    "         _431label,fontsize=12,\n",
    "         color='tab:orange',ha='center')\n",
    "\n",
    "plt.title(x=-0.2,y=1,label='B',\n",
    "          fontsize=14,fontweight='bold')\n",
    "\n",
    "##### ----------------------------------------------------------###\n",
    "ax_qtl1 = fig.add_subplot(gs[9:,:2])\n",
    "[ax_qtl1.spines[s].set_visible(False) for s in ['top','right']]\n",
    "\n",
    "sns.swarmplot(x='Chr12',y='Score',\n",
    "              data=medh2o2,alpha=0.5)\n",
    "\n",
    "\n",
    "plt.plot( [-0.3,1.2] , medh2o2.groupby('Chr12').mean()['Score'].values,\n",
    "         #medh2o2.T[['SS-A837','XL280a']].T['Score'].values[::-1],\n",
    "         'k^',alpha=0.5)\n",
    "\n",
    "plt.ylabel(r'H$_{2}$O$_{2}$ Score',fontsize=14)\n",
    "plt.yticks(np.arange(6))\n",
    "plt.xticks([0,1],labels=[_xl280alabel,_431label])\n",
    "plt.xlabel('Chromosome 12\\nQTL Allele',fontsize=14)\n",
    "plt.title(x=-0.135,y=1,label='D',\n",
    "          fontsize=14,fontweight='bold')\n",
    "plt.text(0.5,5.5,'R$^2$ = %s'%np.round(qtl12_res.rsquared,2),\n",
    "        ha='center')\n",
    "### -------------------------------------------------------------- ###\n",
    "ax_qtl2 = fig.add_subplot(gs[9:,2:])\n",
    "[ax_qtl2.spines[s].set_visible(False) for s in ['top','right']]\n",
    "\n",
    "sns.swarmplot(x='Chr14',y='Score',\n",
    "              data=medh2o2,alpha=0.5)\n",
    "\n",
    "plt.plot( [-0.2,1.25] , medh2o2.groupby('Chr14').mean()['Score'].values,\n",
    "         #medh2o2.T[['SS-A837','XL280a']].T['Score'].values[::-1],\n",
    "         'k^',alpha=0.5)\n",
    "\n",
    "plt.yticks(np.arange(6))\n",
    "plt.ylabel('')\n",
    "plt.xticks([0,1],labels=[_xl280alabel,_431label])\n",
    "plt.xlabel('Chromosome 14\\nQTL Allele',fontsize=14)\n",
    "plt.text(0.5,5.5,'R$^2$ = %s'%np.round(qtl14_res.rsquared,2),\n",
    "        ha='center')\n",
    "### --------------------------- QTL MAPPING --------------------- ###\n",
    "\n",
    "ax_qtl = fig.add_subplot(gs[4:8,:])\n",
    "\n",
    "plt.sca(ax_qtl)\n",
    "plt.title(x=-0.065,y=1,label='C',\n",
    "          fontsize=14,fontweight='bold')\n",
    "\n",
    "for c,chrom in enumerate(chrlist):\n",
    "    tpd = pvaldf[(pvaldf.Chrom==chrom)]\n",
    "    \n",
    "    if chrom == 'Chr12':\n",
    "        cc = 'tab:orange'\n",
    "    elif chrom == 'Chr14':\n",
    "        cc = 'tab:blue'\n",
    "    else:\n",
    "        cc = chrom_colors[c%len(chrom_colors)]\n",
    "\n",
    "    plt.plot(tpd.Pos+cumpos[c],tpd.Pval.values,'.',alpha=0.5,color=cc,markersize=3);\n",
    "\n",
    "\n",
    "plt.hlines(threshold_95,chrom_midpts[1],19*(10**6),\n",
    "           linestyle='--',alpha=0.7,\n",
    "           linewidth=1,label=alpha_label,color='k')\n",
    "\n",
    "plt.xticks(chrom_midpts,labels=np.arange(len(chrlist))+1);\n",
    "plt.xlabel('Chromosome',fontsize=14);\n",
    "plt.ylabel('$-\\log_{10}\\,(p-value)$',fontsize=14);\n",
    "\n",
    "plt.ylim(-0.5,5.5)\n",
    "plt.yticks([0,1,2,3,4,5])\n",
    "##### ------------------------------------------------------ #####\n",
    "plt.sca(ax_hist)\n",
    "yw = 0.07\n",
    "yh = 0.82\n",
    "yh2 = 0.72\n",
    "ax0 = fig.add_axes([0.13,yh,yw,yw])\n",
    "pheno0 = '/home/croth/H2O2_0_crop.png'\n",
    "pheno0_obj = Image.open(pheno0)\n",
    "plt.imshow(pheno0_obj, \n",
    "           cmap='gray', vmin=0, vmax=255);\n",
    "plt.text(0.5,-0.25,'0',va='center',ha='center',\n",
    "         transform=ax0.transAxes,fontsize=14)\n",
    "plt.axis('off')\n",
    "#plt.title(x=-2,y=2.35,label='A',\n",
    "#          fontsize=14,fontweight='bold')\n",
    "\n",
    "ax1 = fig.add_axes([0.23,yh,yw,yw])\n",
    "pheno1 = '/home/croth/H2O2_1_crop.png'\n",
    "pheno1_obj = Image.open(pheno1)\n",
    "plt.imshow(pheno1_obj, \n",
    "           cmap='gray', vmin=0, vmax=255);\n",
    "plt.text(0.5,-0.25,'1',va='center',ha='center',\n",
    "         transform=ax1.transAxes,fontsize=14)\n",
    "plt.axis('off')\n",
    "plt.title(x=0.5,y=-2.4,\n",
    "          label=r'H$_{2}$O$_{2}$'+' Phenotypes & Scores',\n",
    "         fontsize=14)\n",
    "#plt.xlabel(r'H$_{2}$O$_{2}$'+' Phenotypes & Scores',fontsize=14)\n",
    "\n",
    "\n",
    "ax2 = fig.add_axes([0.33,yh,yw,yw])\n",
    "pheno2 = '/home/croth/H2O2_2_crop.png'\n",
    "pheno2_obj = Image.open(pheno2)\n",
    "plt.imshow(pheno2_obj, \n",
    "           cmap='gray', vmin=0, vmax=255);\n",
    "plt.text(0.5,-0.25,'2',va='center',ha='center',\n",
    "         transform=ax2.transAxes,fontsize=14)\n",
    "plt.axis('off')\n",
    "\n",
    "\n",
    "#ax3 = fig.add_axes([0.25,.7,0.09,0.09])\n",
    "ax3 = fig.add_axes([0.13,yh2,yw,yw])\n",
    "plt.sca(ax3)\n",
    "\n",
    "pheno3 = '/home/croth/H2O2_3_crop.png'\n",
    "pheno3_obj = Image.open(pheno3)\n",
    "plt.imshow(pheno3_obj, \n",
    "           cmap='gray', vmin=0, vmax=255);\n",
    "plt.text(0.5,-0.25,'3',va='center',ha='center',\n",
    "         transform=ax3.transAxes,fontsize=14)\n",
    "plt.axis('off')\n",
    "\n",
    "\n",
    "ax4 = fig.add_axes([0.23,yh2,yw,yw])\n",
    "pheno4 = '/home/croth/H2O2_4_crop.png'\n",
    "pheno4_obj = Image.open(pheno4)\n",
    "plt.imshow(pheno4_obj, \n",
    "           cmap='gray', vmin=0, vmax=255);\n",
    "plt.text(0.5,-0.25,'4',va='center',ha='center',\n",
    "         transform=ax4.transAxes,fontsize=14)\n",
    "plt.axis('off')\n",
    "\n",
    "\n",
    "n = 5\n",
    "ax5 = fig.add_axes([0.33,yh2,yw,yw])\n",
    "pheno5 = '/home/croth/H2O2_%s_crop.png'%n\n",
    "pheno5_obj = Image.open(pheno5)\n",
    "plt.imshow(pheno5_obj, \n",
    "           cmap='gray', vmin=0, vmax=255);\n",
    "plt.text(0.5,-0.25,'%s'%n,va='center',ha='center',\n",
    "         transform=ax5.transAxes,fontsize=14)\n",
    "plt.axis('off');\n",
    "\n",
    "\n",
    "plt.sca(ax_qtl)\n",
    "[ax_qtl.spines[s].set_visible(False) for s in ['top','right']]\n",
    "\n",
    "plt.text(s = r'$\\alpha$ = 0.05', x = chrom_midpts[0],y= threshold_95, \n",
    "         horizontalalignment='center',\n",
    "         verticalalignment='center', \n",
    "         fontsize=14 )\n",
    "        ## transform=ax_qtl.transAxes, \n",
    "\n",
    "plt.subplots_adjust(hspace=2,wspace=.6)\n",
    "mydpi=600\n",
    "plos_path = '../FIGURES/MAIN/TIFF/Fig9.tiff'\n",
    "plt.savefig(plos_path,dpi=mydpi,bbox_inches='tight')\n",
    "plt.savefig('../FIGURES/MAIN/PDFs/Fig9.pdf',\n",
    "            dpi=mydpi,bbox_inches='tight',pad_inches=1)\n",
    "\n",
    "im = Image.open(plos_path)\n",
    "w,h = im.size\n",
    "assert w/mydpi < 7.5\n",
    "assert h/mydpi < 8\n",
    "\n",
    "im.save(plos_path,compression='tiff_lzw');"
   ]
  },
  {
   "cell_type": "code",
   "execution_count": null,
   "metadata": {},
   "outputs": [],
   "source": []
  }
 ],
 "metadata": {
  "kernelspec": {
   "display_name": "Python 3",
   "language": "python",
   "name": "python3"
  },
  "language_info": {
   "codemirror_mode": {
    "name": "ipython",
    "version": 3
   },
   "file_extension": ".py",
   "mimetype": "text/x-python",
   "name": "python",
   "nbconvert_exporter": "python",
   "pygments_lexer": "ipython3",
   "version": "3.8.5"
  }
 },
 "nbformat": 4,
 "nbformat_minor": 4
}
