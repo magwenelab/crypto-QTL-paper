{
 "cells": [
  {
   "cell_type": "code",
   "execution_count": 31,
   "metadata": {},
   "outputs": [],
   "source": [
    "import numpy as np, pandas as pd, scipy.stats as ss, seaborn as sns, os\n",
    "from matplotlib import pyplot as plt\n",
    "%matplotlib inline\n",
    "np.random.seed(71191)\n",
    "\n",
    "def allelic_ANOVA(site, pheno):\n",
    "    \"\"\"\n",
    "    This regression is equivalent to one-way ANOVA with 2 groups. \n",
    "    Return F-statistic.\n",
    "    Assumes site is coded as -1, 1\n",
    "    \"\"\"\n",
    "    coding = np.array(site, np.float)\n",
    "    pheno = np.array(pheno, np.float)\n",
    "    \n",
    "    meany = np.mean(pheno)\n",
    "    meandummy = np.mean(coding)\n",
    "    ctry = pheno - meany\n",
    "    ctrdummy = coding - meandummy\n",
    "    \n",
    "    # regression coefficient and intercept\n",
    "    b = np.dot(ctry, ctrdummy)/np.dot(ctrdummy, ctrdummy)\n",
    "    intercept = meany - b * meandummy\n",
    "    \n",
    "    yhat = b * ctrdummy\n",
    "    len_yhat = np.sqrt(np.dot(yhat,yhat))\n",
    "    len_y = np.sqrt(np.dot(ctry,ctry))\n",
    "    df_yhat = 1\n",
    "    \n",
    "    error = ctry  - yhat\n",
    "    len_error = np.sqrt(np.dot(error,error))\n",
    "    if abs(len_error**2) < 1e-5:\n",
    "        raise Exception(\"Zero length error in ANOVA\")\n",
    "    df_error = len(pheno) - 2\n",
    "    \n",
    "    # coefficient of determination is R**2\n",
    "    #R = len_yhat/len_y\n",
    "    \n",
    "    # F-statistic\n",
    "    F = (len_yhat**2/df_yhat) / (len_error**2/df_error)\n",
    "    return F\n",
    "\n",
    "\n",
    "def association_logPval(site, pheno):\n",
    "    F = allelic_ANOVA(site, pheno)\n",
    "    logP = np.log10(ss.f.sf(F, 1, len(pheno)-2))\n",
    "    return -logP"
   ]
  },
  {
   "cell_type": "code",
   "execution_count": 32,
   "metadata": {},
   "outputs": [
    {
     "name": "stdout",
     "output_type": "stream",
     "text": [
      "(92103, 125)\n"
     ]
    }
   ],
   "source": [
    "gv = pd.read_csv('../DATA/GENOTYPE/CDx-ill-SNP-INDEL-df-104-blocked.csv.gz')\n",
    "print(gv.shape)\n",
    "gv.head()\n",
    "loci = gv.Block.drop_duplicates().index"
   ]
  },
  {
   "cell_type": "code",
   "execution_count": 33,
   "metadata": {},
   "outputs": [],
   "source": [
    "paul = pd.read_csv('/home/croth/Downloads/melanin_measurements_paul.csv')\n",
    "paul = paul[(paul.strain!='H99')&(paul.replicate==1 )]\n",
    "paul['plate'] = [int(a[-1]) for a in paul.plate]"
   ]
  },
  {
   "cell_type": "code",
   "execution_count": 34,
   "metadata": {},
   "outputs": [],
   "source": [
    "data = pd.read_csv('/home/croth/Downloads/osmotic-stress-Jun262019.csv')\n",
    "data = data[(data.strain!='H99')]"
   ]
  },
  {
   "cell_type": "code",
   "execution_count": 35,
   "metadata": {},
   "outputs": [
    {
     "data": {
      "text/html": [
       "<div>\n",
       "<style scoped>\n",
       "    .dataframe tbody tr th:only-of-type {\n",
       "        vertical-align: middle;\n",
       "    }\n",
       "\n",
       "    .dataframe tbody tr th {\n",
       "        vertical-align: top;\n",
       "    }\n",
       "\n",
       "    .dataframe thead th {\n",
       "        text-align: right;\n",
       "    }\n",
       "</style>\n",
       "<table border=\"1\" class=\"dataframe\">\n",
       "  <thead>\n",
       "    <tr style=\"text-align: right;\">\n",
       "      <th></th>\n",
       "      <th>Date</th>\n",
       "      <th>label</th>\n",
       "      <th>row</th>\n",
       "      <th>column</th>\n",
       "      <th>plate</th>\n",
       "      <th>rep</th>\n",
       "      <th>strain</th>\n",
       "      <th>type</th>\n",
       "      <th>NaCl</th>\n",
       "      <th>media</th>\n",
       "      <th>...</th>\n",
       "      <th>minor_axis_length</th>\n",
       "      <th>eccentricity</th>\n",
       "      <th>equiv_diameter</th>\n",
       "      <th>mean_intensity</th>\n",
       "      <th>solidity</th>\n",
       "      <th>convex_area</th>\n",
       "      <th>bbox_minr</th>\n",
       "      <th>bbox_minc</th>\n",
       "      <th>bbox_maxr</th>\n",
       "      <th>bbox_maxc</th>\n",
       "    </tr>\n",
       "  </thead>\n",
       "  <tbody>\n",
       "    <tr>\n",
       "      <th>13</th>\n",
       "      <td>Jun142019</td>\n",
       "      <td>14</td>\n",
       "      <td>b</td>\n",
       "      <td>11</td>\n",
       "      <td>qtl1</td>\n",
       "      <td>qtl1a</td>\n",
       "      <td>SS-B379</td>\n",
       "      <td>segregant</td>\n",
       "      <td>0.5M</td>\n",
       "      <td>YP+NaCl</td>\n",
       "      <td>...</td>\n",
       "      <td>32.464492</td>\n",
       "      <td>0.318409</td>\n",
       "      <td>33.339738</td>\n",
       "      <td>37166.26346</td>\n",
       "      <td>0.974330</td>\n",
       "      <td>896.0</td>\n",
       "      <td>209.0</td>\n",
       "      <td>204.0</td>\n",
       "      <td>242.0</td>\n",
       "      <td>239.0</td>\n",
       "    </tr>\n",
       "    <tr>\n",
       "      <th>14</th>\n",
       "      <td>Jun142019</td>\n",
       "      <td>15</td>\n",
       "      <td>b</td>\n",
       "      <td>10</td>\n",
       "      <td>qtl1</td>\n",
       "      <td>qtl1a</td>\n",
       "      <td>SS-B378</td>\n",
       "      <td>segregant</td>\n",
       "      <td>0.5M</td>\n",
       "      <td>YP+NaCl</td>\n",
       "      <td>...</td>\n",
       "      <td>35.253624</td>\n",
       "      <td>0.268520</td>\n",
       "      <td>35.913670</td>\n",
       "      <td>31320.35933</td>\n",
       "      <td>0.976856</td>\n",
       "      <td>1037.0</td>\n",
       "      <td>209.0</td>\n",
       "      <td>313.0</td>\n",
       "      <td>245.0</td>\n",
       "      <td>350.0</td>\n",
       "    </tr>\n",
       "    <tr>\n",
       "      <th>15</th>\n",
       "      <td>Jun142019</td>\n",
       "      <td>16</td>\n",
       "      <td>b</td>\n",
       "      <td>9</td>\n",
       "      <td>qtl1</td>\n",
       "      <td>qtl1a</td>\n",
       "      <td>SS-B374</td>\n",
       "      <td>segregant</td>\n",
       "      <td>0.5M</td>\n",
       "      <td>YP+NaCl</td>\n",
       "      <td>...</td>\n",
       "      <td>32.830699</td>\n",
       "      <td>0.291240</td>\n",
       "      <td>33.530143</td>\n",
       "      <td>34853.27973</td>\n",
       "      <td>0.967141</td>\n",
       "      <td>913.0</td>\n",
       "      <td>208.0</td>\n",
       "      <td>418.0</td>\n",
       "      <td>242.0</td>\n",
       "      <td>453.0</td>\n",
       "    </tr>\n",
       "    <tr>\n",
       "      <th>16</th>\n",
       "      <td>Jun142019</td>\n",
       "      <td>17</td>\n",
       "      <td>b</td>\n",
       "      <td>8</td>\n",
       "      <td>qtl1</td>\n",
       "      <td>qtl1a</td>\n",
       "      <td>SS-B373</td>\n",
       "      <td>segregant</td>\n",
       "      <td>0.5M</td>\n",
       "      <td>YP+NaCl</td>\n",
       "      <td>...</td>\n",
       "      <td>34.815168</td>\n",
       "      <td>0.093679</td>\n",
       "      <td>34.888637</td>\n",
       "      <td>32537.17469</td>\n",
       "      <td>0.983539</td>\n",
       "      <td>972.0</td>\n",
       "      <td>209.0</td>\n",
       "      <td>526.0</td>\n",
       "      <td>244.0</td>\n",
       "      <td>561.0</td>\n",
       "    </tr>\n",
       "    <tr>\n",
       "      <th>17</th>\n",
       "      <td>Jun142019</td>\n",
       "      <td>18</td>\n",
       "      <td>b</td>\n",
       "      <td>7</td>\n",
       "      <td>qtl1</td>\n",
       "      <td>qtl1a</td>\n",
       "      <td>SS-B369</td>\n",
       "      <td>segregant</td>\n",
       "      <td>0.5M</td>\n",
       "      <td>YP+NaCl</td>\n",
       "      <td>...</td>\n",
       "      <td>34.246340</td>\n",
       "      <td>0.409141</td>\n",
       "      <td>35.842694</td>\n",
       "      <td>32353.35976</td>\n",
       "      <td>0.987280</td>\n",
       "      <td>1022.0</td>\n",
       "      <td>207.0</td>\n",
       "      <td>628.0</td>\n",
       "      <td>242.0</td>\n",
       "      <td>665.0</td>\n",
       "    </tr>\n",
       "  </tbody>\n",
       "</table>\n",
       "<p>5 rows × 25 columns</p>\n",
       "</div>"
      ],
      "text/plain": [
       "         Date  label row  column plate    rep   strain       type  NaCl  \\\n",
       "13  Jun142019     14   b      11  qtl1  qtl1a  SS-B379  segregant  0.5M   \n",
       "14  Jun142019     15   b      10  qtl1  qtl1a  SS-B378  segregant  0.5M   \n",
       "15  Jun142019     16   b       9  qtl1  qtl1a  SS-B374  segregant  0.5M   \n",
       "16  Jun142019     17   b       8  qtl1  qtl1a  SS-B373  segregant  0.5M   \n",
       "17  Jun142019     18   b       7  qtl1  qtl1a  SS-B369  segregant  0.5M   \n",
       "\n",
       "      media  ...  minor_axis_length  eccentricity  equiv_diameter  \\\n",
       "13  YP+NaCl  ...          32.464492      0.318409       33.339738   \n",
       "14  YP+NaCl  ...          35.253624      0.268520       35.913670   \n",
       "15  YP+NaCl  ...          32.830699      0.291240       33.530143   \n",
       "16  YP+NaCl  ...          34.815168      0.093679       34.888637   \n",
       "17  YP+NaCl  ...          34.246340      0.409141       35.842694   \n",
       "\n",
       "    mean_intensity  solidity  convex_area  bbox_minr  bbox_minc  bbox_maxr  \\\n",
       "13     37166.26346  0.974330        896.0      209.0      204.0      242.0   \n",
       "14     31320.35933  0.976856       1037.0      209.0      313.0      245.0   \n",
       "15     34853.27973  0.967141        913.0      208.0      418.0      242.0   \n",
       "16     32537.17469  0.983539        972.0      209.0      526.0      244.0   \n",
       "17     32353.35976  0.987280       1022.0      207.0      628.0      242.0   \n",
       "\n",
       "    bbox_maxc  \n",
       "13      239.0  \n",
       "14      350.0  \n",
       "15      453.0  \n",
       "16      561.0  \n",
       "17      665.0  \n",
       "\n",
       "[5 rows x 25 columns]"
      ]
     },
     "execution_count": 35,
     "metadata": {},
     "output_type": "execute_result"
    }
   ],
   "source": [
    "data.head()"
   ]
  },
  {
   "cell_type": "code",
   "execution_count": 36,
   "metadata": {},
   "outputs": [],
   "source": [
    "data.drop(['Date','label','media','strain','type'],axis=1,inplace=True)\n",
    "data['plate'] = [abs(int(a[-1])-3) for a in data.plate]\n",
    "data['rep'] = [a[-1] for a in data.rep]\n",
    "data['rep'].replace(dict(zip(['a','b','c'],[0,1,2])),\n",
    "                    inplace=True)\n",
    "data = data.merge(paul[['row','column','plate','strain']])\n",
    "data['NaCl'] = [float(a[:-1]) for a in data.NaCl]"
   ]
  },
  {
   "cell_type": "code",
   "execution_count": 38,
   "metadata": {},
   "outputs": [],
   "source": [
    "data.to_csv('../DATA/PHENOTYPE/osmotic-stress-Jun262020.csv',index=None)"
   ]
  },
  {
   "cell_type": "code",
   "execution_count": 7,
   "metadata": {},
   "outputs": [],
   "source": [
    "chrom_colors = ['tab:grey','tab:brown','lightgrey','salmon','tan']"
   ]
  },
  {
   "cell_type": "code",
   "execution_count": 8,
   "metadata": {},
   "outputs": [],
   "source": [
    "data['mean_intensity'] = data['mean_intensity'].fillna(56000.0)"
   ]
  },
  {
   "cell_type": "code",
   "execution_count": 9,
   "metadata": {},
   "outputs": [
    {
     "data": {
      "text/html": [
       "<div>\n",
       "<style scoped>\n",
       "    .dataframe tbody tr th:only-of-type {\n",
       "        vertical-align: middle;\n",
       "    }\n",
       "\n",
       "    .dataframe tbody tr th {\n",
       "        vertical-align: top;\n",
       "    }\n",
       "\n",
       "    .dataframe thead th {\n",
       "        text-align: right;\n",
       "    }\n",
       "</style>\n",
       "<table border=\"1\" class=\"dataframe\">\n",
       "  <thead>\n",
       "    <tr style=\"text-align: right;\">\n",
       "      <th></th>\n",
       "      <th>row</th>\n",
       "      <th>column</th>\n",
       "      <th>plate</th>\n",
       "      <th>strain</th>\n",
       "    </tr>\n",
       "  </thead>\n",
       "  <tbody>\n",
       "    <tr>\n",
       "      <th>153</th>\n",
       "      <td>e</td>\n",
       "      <td>5</td>\n",
       "      <td>2</td>\n",
       "      <td>XL280alpha</td>\n",
       "    </tr>\n",
       "    <tr>\n",
       "      <th>154</th>\n",
       "      <td>e</td>\n",
       "      <td>6</td>\n",
       "      <td>2</td>\n",
       "      <td>XL280a</td>\n",
       "    </tr>\n",
       "    <tr>\n",
       "      <th>155</th>\n",
       "      <td>e</td>\n",
       "      <td>7</td>\n",
       "      <td>2</td>\n",
       "      <td>SS-A837</td>\n",
       "    </tr>\n",
       "  </tbody>\n",
       "</table>\n",
       "</div>"
      ],
      "text/plain": [
       "    row  column  plate      strain\n",
       "153   e       5      2  XL280alpha\n",
       "154   e       6      2      XL280a\n",
       "155   e       7      2     SS-A837"
      ]
     },
     "execution_count": 9,
     "metadata": {},
     "output_type": "execute_result"
    }
   ],
   "source": [
    "paul[(paul.strain.isin(\n",
    "    ['XL280a','XL280alpha','SS-A837']))][['row','column','plate','strain']].drop_duplicates()"
   ]
  },
  {
   "cell_type": "code",
   "execution_count": 10,
   "metadata": {},
   "outputs": [
    {
     "data": {
      "text/html": [
       "<div>\n",
       "<style scoped>\n",
       "    .dataframe tbody tr th:only-of-type {\n",
       "        vertical-align: middle;\n",
       "    }\n",
       "\n",
       "    .dataframe tbody tr th {\n",
       "        vertical-align: top;\n",
       "    }\n",
       "\n",
       "    .dataframe thead th {\n",
       "        text-align: right;\n",
       "    }\n",
       "</style>\n",
       "<table border=\"1\" class=\"dataframe\">\n",
       "  <thead>\n",
       "    <tr style=\"text-align: right;\">\n",
       "      <th></th>\n",
       "      <th>row</th>\n",
       "      <th>column</th>\n",
       "      <th>plate</th>\n",
       "      <th>strain</th>\n",
       "      <th>replicate</th>\n",
       "      <th>day</th>\n",
       "      <th>mean_grey</th>\n",
       "      <th>background_grey</th>\n",
       "      <th>melanin_binary</th>\n",
       "    </tr>\n",
       "  </thead>\n",
       "  <tbody>\n",
       "    <tr>\n",
       "      <th>155</th>\n",
       "      <td>e</td>\n",
       "      <td>7</td>\n",
       "      <td>2</td>\n",
       "      <td>SS-A837</td>\n",
       "      <td>1</td>\n",
       "      <td>3</td>\n",
       "      <td>62.436</td>\n",
       "      <td>110.928</td>\n",
       "      <td>1.0</td>\n",
       "    </tr>\n",
       "  </tbody>\n",
       "</table>\n",
       "</div>"
      ],
      "text/plain": [
       "    row  column  plate   strain  replicate  day  mean_grey  background_grey  \\\n",
       "155   e       7      2  SS-A837          1    3     62.436          110.928   \n",
       "\n",
       "     melanin_binary  \n",
       "155             1.0  "
      ]
     },
     "execution_count": 10,
     "metadata": {},
     "output_type": "execute_result"
    }
   ],
   "source": [
    "paul[(paul.strain=='SS-A837')]"
   ]
  },
  {
   "cell_type": "code",
   "execution_count": 11,
   "metadata": {},
   "outputs": [
    {
     "data": {
      "text/plain": [
       "array([0, 1, 2])"
      ]
     },
     "execution_count": 11,
     "metadata": {},
     "output_type": "execute_result"
    }
   ],
   "source": [
    "data[(data.NaCl==1)].rep.unique()"
   ]
  },
  {
   "cell_type": "code",
   "execution_count": 12,
   "metadata": {},
   "outputs": [],
   "source": [
    "osmorep = data.groupby(['NaCl','strain','rep']).agg(np.nanmean)\n",
    "osmorep.reset_index(inplace=True)\n",
    "osmo = osmorep.groupby(['NaCl','strain']).agg(np.nanmean)\n",
    "osmo.reset_index(inplace=True)"
   ]
  },
  {
   "cell_type": "code",
   "execution_count": 13,
   "metadata": {},
   "outputs": [
    {
     "data": {
      "image/png": "[encoded data removed]",
      "text/plain": [
       "<Figure size 432x432 with 2 Axes>"
      ]
     },
     "metadata": {
      "needs_background": "light"
     },
     "output_type": "display_data"
    }
   ],
   "source": [
    "fig,ax = plt.subplots(2,1,figsize=(6,6),\n",
    "                      sharex=True,sharey=True)\n",
    "plt.sca(ax[0])\n",
    "plt.hist(osmo[(osmo.NaCl==0.5)]['mean_intensity'],alpha=0.5);\n",
    "plt.title('NaCl 0.5M',x=0.5,y=0.8);\n",
    "plt.ylabel('Number of Segregants')\n",
    "plt.sca(ax[1])\n",
    "plt.title('NaCl 1M',x=0.5,y=0.8)\n",
    "plt.hist(osmo[(osmo.NaCl==1)]['mean_intensity'],color='grey',alpha=0.5);\n",
    "plt.vlines(osmo[(osmo.NaCl==1.0) & \n",
    "                (osmo.strain=='SS-A837')]['mean_intensity'],\n",
    "           0,50,linestyles='-',color='tab:orange')\n",
    "plt.vlines(osmo[(osmo.NaCl==1.0) & \n",
    "                (osmo.strain=='XL280a')]['mean_intensity'],\n",
    "           0,50,linestyles='--',color='tab:blue')\n",
    "\n",
    "plt.xlabel('Intensity');\n",
    "plt.subplots_adjust(hspace=0.1);"
   ]
  },
  {
   "cell_type": "code",
   "execution_count": 14,
   "metadata": {},
   "outputs": [
    {
     "data": {
      "text/plain": [
       "104"
      ]
     },
     "execution_count": 14,
     "metadata": {},
     "output_type": "execute_result"
    }
   ],
   "source": [
    "segs = np.array([s \n",
    "                 for s in osmo.strain.unique() \n",
    "                 if s in gv.columns])\n",
    "len(segs)"
   ]
  },
  {
   "cell_type": "code",
   "execution_count": 15,
   "metadata": {},
   "outputs": [],
   "source": [
    "osmo.index = osmo.strain"
   ]
  },
  {
   "cell_type": "code",
   "execution_count": 16,
   "metadata": {},
   "outputs": [],
   "source": [
    "pheno = osmo[(osmo.NaCl==1)]"
   ]
  },
  {
   "cell_type": "code",
   "execution_count": 17,
   "metadata": {},
   "outputs": [],
   "source": [
    "test = gv[segs].drop_duplicates()\n",
    "\n",
    "test['1M'] = test.apply(association_logPval,args=[pheno.T[segs].T['mean_intensity']],axis=1)\n",
    "\n",
    "pval_df = gv.merge(test)"
   ]
  },
  {
   "cell_type": "code",
   "execution_count": 18,
   "metadata": {},
   "outputs": [
    {
     "data": {
      "text/html": [
       "<div>\n",
       "<style scoped>\n",
       "    .dataframe tbody tr th:only-of-type {\n",
       "        vertical-align: middle;\n",
       "    }\n",
       "\n",
       "    .dataframe tbody tr th {\n",
       "        vertical-align: top;\n",
       "    }\n",
       "\n",
       "    .dataframe thead th {\n",
       "        text-align: right;\n",
       "    }\n",
       "</style>\n",
       "<table border=\"1\" class=\"dataframe\">\n",
       "  <thead>\n",
       "    <tr style=\"text-align: right;\">\n",
       "      <th></th>\n",
       "      <th>Chrom</th>\n",
       "      <th>Pos</th>\n",
       "      <th>Qual</th>\n",
       "      <th>Callrate</th>\n",
       "      <th>Ref</th>\n",
       "      <th>Alt</th>\n",
       "      <th>Altlen</th>\n",
       "      <th>Dp</th>\n",
       "      <th>Type</th>\n",
       "      <th>Vcfix</th>\n",
       "      <th>...</th>\n",
       "      <th>SS-B565</th>\n",
       "      <th>SS-B600</th>\n",
       "      <th>SS-B574</th>\n",
       "      <th>SS-B872_cor</th>\n",
       "      <th>SS-B873_cor</th>\n",
       "      <th>SS-B360</th>\n",
       "      <th>SS-B397</th>\n",
       "      <th>SS-B564</th>\n",
       "      <th>SS-B382</th>\n",
       "      <th>1M</th>\n",
       "    </tr>\n",
       "  </thead>\n",
       "  <tbody>\n",
       "    <tr>\n",
       "      <th>0</th>\n",
       "      <td>Chr01</td>\n",
       "      <td>5016</td>\n",
       "      <td>104492.0</td>\n",
       "      <td>1.0</td>\n",
       "      <td>C</td>\n",
       "      <td>A</td>\n",
       "      <td>1</td>\n",
       "      <td>6510</td>\n",
       "      <td>snp</td>\n",
       "      <td>289</td>\n",
       "      <td>...</td>\n",
       "      <td>0.0</td>\n",
       "      <td>1.0</td>\n",
       "      <td>1.0</td>\n",
       "      <td>0.0</td>\n",
       "      <td>0.0</td>\n",
       "      <td>1.0</td>\n",
       "      <td>0.0</td>\n",
       "      <td>1.0</td>\n",
       "      <td>0.0</td>\n",
       "      <td>0.058998</td>\n",
       "    </tr>\n",
       "    <tr>\n",
       "      <th>1</th>\n",
       "      <td>Chr01</td>\n",
       "      <td>5299</td>\n",
       "      <td>112647.0</td>\n",
       "      <td>1.0</td>\n",
       "      <td>T</td>\n",
       "      <td>C</td>\n",
       "      <td>1</td>\n",
       "      <td>9711</td>\n",
       "      <td>snp</td>\n",
       "      <td>293</td>\n",
       "      <td>...</td>\n",
       "      <td>0.0</td>\n",
       "      <td>1.0</td>\n",
       "      <td>1.0</td>\n",
       "      <td>0.0</td>\n",
       "      <td>0.0</td>\n",
       "      <td>1.0</td>\n",
       "      <td>0.0</td>\n",
       "      <td>1.0</td>\n",
       "      <td>0.0</td>\n",
       "      <td>0.058998</td>\n",
       "    </tr>\n",
       "    <tr>\n",
       "      <th>2</th>\n",
       "      <td>Chr01</td>\n",
       "      <td>5464</td>\n",
       "      <td>112658.0</td>\n",
       "      <td>1.0</td>\n",
       "      <td>T</td>\n",
       "      <td>C</td>\n",
       "      <td>1</td>\n",
       "      <td>9375</td>\n",
       "      <td>snp</td>\n",
       "      <td>294</td>\n",
       "      <td>...</td>\n",
       "      <td>0.0</td>\n",
       "      <td>1.0</td>\n",
       "      <td>1.0</td>\n",
       "      <td>0.0</td>\n",
       "      <td>0.0</td>\n",
       "      <td>1.0</td>\n",
       "      <td>0.0</td>\n",
       "      <td>1.0</td>\n",
       "      <td>0.0</td>\n",
       "      <td>0.058998</td>\n",
       "    </tr>\n",
       "    <tr>\n",
       "      <th>3</th>\n",
       "      <td>Chr01</td>\n",
       "      <td>6120</td>\n",
       "      <td>109003.0</td>\n",
       "      <td>1.0</td>\n",
       "      <td>T</td>\n",
       "      <td>C</td>\n",
       "      <td>1</td>\n",
       "      <td>9311</td>\n",
       "      <td>snp</td>\n",
       "      <td>311</td>\n",
       "      <td>...</td>\n",
       "      <td>0.0</td>\n",
       "      <td>1.0</td>\n",
       "      <td>1.0</td>\n",
       "      <td>0.0</td>\n",
       "      <td>0.0</td>\n",
       "      <td>1.0</td>\n",
       "      <td>0.0</td>\n",
       "      <td>1.0</td>\n",
       "      <td>0.0</td>\n",
       "      <td>0.058998</td>\n",
       "    </tr>\n",
       "    <tr>\n",
       "      <th>4</th>\n",
       "      <td>Chr01</td>\n",
       "      <td>6166</td>\n",
       "      <td>114638.0</td>\n",
       "      <td>1.0</td>\n",
       "      <td>G</td>\n",
       "      <td>A</td>\n",
       "      <td>1</td>\n",
       "      <td>9269</td>\n",
       "      <td>snp</td>\n",
       "      <td>312</td>\n",
       "      <td>...</td>\n",
       "      <td>0.0</td>\n",
       "      <td>1.0</td>\n",
       "      <td>1.0</td>\n",
       "      <td>0.0</td>\n",
       "      <td>0.0</td>\n",
       "      <td>1.0</td>\n",
       "      <td>0.0</td>\n",
       "      <td>1.0</td>\n",
       "      <td>0.0</td>\n",
       "      <td>0.058998</td>\n",
       "    </tr>\n",
       "  </tbody>\n",
       "</table>\n",
       "<p>5 rows × 126 columns</p>\n",
       "</div>"
      ],
      "text/plain": [
       "   Chrom   Pos      Qual  Callrate Ref Alt  Altlen    Dp Type  Vcfix  ...  \\\n",
       "0  Chr01  5016  104492.0       1.0   C   A       1  6510  snp    289  ...   \n",
       "1  Chr01  5299  112647.0       1.0   T   C       1  9711  snp    293  ...   \n",
       "2  Chr01  5464  112658.0       1.0   T   C       1  9375  snp    294  ...   \n",
       "3  Chr01  6120  109003.0       1.0   T   C       1  9311  snp    311  ...   \n",
       "4  Chr01  6166  114638.0       1.0   G   A       1  9269  snp    312  ...   \n",
       "\n",
       "   SS-B565  SS-B600  SS-B574  SS-B872_cor  SS-B873_cor  SS-B360  SS-B397  \\\n",
       "0      0.0      1.0      1.0          0.0          0.0      1.0      0.0   \n",
       "1      0.0      1.0      1.0          0.0          0.0      1.0      0.0   \n",
       "2      0.0      1.0      1.0          0.0          0.0      1.0      0.0   \n",
       "3      0.0      1.0      1.0          0.0          0.0      1.0      0.0   \n",
       "4      0.0      1.0      1.0          0.0          0.0      1.0      0.0   \n",
       "\n",
       "   SS-B564  SS-B382        1M  \n",
       "0      1.0      0.0  0.058998  \n",
       "1      1.0      0.0  0.058998  \n",
       "2      1.0      0.0  0.058998  \n",
       "3      1.0      0.0  0.058998  \n",
       "4      1.0      0.0  0.058998  \n",
       "\n",
       "[5 rows x 126 columns]"
      ]
     },
     "execution_count": 18,
     "metadata": {},
     "output_type": "execute_result"
    }
   ],
   "source": [
    "pval_df.head()"
   ]
  },
  {
   "cell_type": "code",
   "execution_count": 19,
   "metadata": {},
   "outputs": [],
   "source": [
    "pval_df.to_csv('../DATA/PHENOTYPE/Cdx_osmotic_1M_pvalues.csv',index=True)"
   ]
  },
  {
   "cell_type": "code",
   "execution_count": 20,
   "metadata": {},
   "outputs": [],
   "source": [
    "chrlist = sorted(pval_df.Chrom.unique())\n",
    "chrlens = np.array([pval_df[(pval_df.Chrom==c)].Pos.max() \n",
    "           for c in chrlist])\n",
    "cumpos = np.array([0] + list(np.cumsum(chrlens[:-1])))\n",
    "cummax = cumpos[-1] + pval_df[(pval_df.Chrom=='Chr14')].Pos.max()\n",
    "chrmid = (chrlens/2) + cumpos"
   ]
  },
  {
   "cell_type": "code",
   "execution_count": 21,
   "metadata": {},
   "outputs": [],
   "source": [
    "from PIL import Image\n",
    "from matplotlib import rc\n",
    "plt.style.use(['tableau-colorblind10'])"
   ]
  },
  {
   "cell_type": "code",
   "execution_count": 22,
   "metadata": {},
   "outputs": [],
   "source": [
    "perms = pd.read_csv('~/Cdx_osmo_NaCl_1M_perms_10000.csv',index_col=0)"
   ]
  },
  {
   "cell_type": "code",
   "execution_count": 23,
   "metadata": {},
   "outputs": [],
   "source": [
    "alpha005 = np.percentile(perms.Pval.values,95)\n",
    "alpha001 = np.percentile(perms.Pval.values,99)"
   ]
  },
  {
   "cell_type": "code",
   "execution_count": 24,
   "metadata": {},
   "outputs": [
    {
     "name": "stdout",
     "output_type": "stream",
     "text": [
      "(nan, nan)\n",
      "nan\n"
     ]
    }
   ],
   "source": [
    "qtl10_ix = pval_df[(pval_df['1M']>alpha005) & (pval_df.Chrom=='Chr10')].index\n",
    "qtl10_block = gv.T[qtl10_ix].T['Block']\n",
    "qtl10_gv = gv[(gv.Block.isin(qtl10_block))]\n",
    "qtl10_bounds = (qtl10_gv.Pos.min(),qtl10_gv.Pos.max())\n",
    "print(qtl10_bounds)\n",
    "print(np.diff(qtl10_bounds)[0])"
   ]
  },
  {
   "cell_type": "code",
   "execution_count": null,
   "metadata": {},
   "outputs": [],
   "source": []
  },
  {
   "cell_type": "code",
   "execution_count": 25,
   "metadata": {},
   "outputs": [
    {
     "data": {
      "text/plain": [
       "(104, 2)"
      ]
     },
     "execution_count": 25,
     "metadata": {},
     "output_type": "execute_result"
    }
   ],
   "source": [
    "qtl10_ix = pval_df[(pval_df.Chrom=='Chr10')]['1M'].idxmax()\n",
    "pxg = osmo[(osmo.NaCl==1)][['mean_intensity']].copy()\n",
    "pxg['qtl10'] = gv.T[qtl10_ix][[s for s in pheno.index if s in gv.columns]]\n",
    "pxg['qtl10'] = pxg.qtl10.apply(float)\n",
    "pxg.dropna(inplace=True)\n",
    "pxg.shape"
   ]
  },
  {
   "cell_type": "code",
   "execution_count": 26,
   "metadata": {},
   "outputs": [
    {
     "data": {
      "text/html": [
       "<table class=\"simpletable\">\n",
       "<caption>OLS Regression Results</caption>\n",
       "<tr>\n",
       "  <th>Dep. Variable:</th>     <td>mean_intensity</td>  <th>  R-squared:         </th> <td>   0.037</td>\n",
       "</tr>\n",
       "<tr>\n",
       "  <th>Model:</th>                   <td>OLS</td>       <th>  Adj. R-squared:    </th> <td>   0.028</td>\n",
       "</tr>\n",
       "<tr>\n",
       "  <th>Method:</th>             <td>Least Squares</td>  <th>  F-statistic:       </th> <td>   3.935</td>\n",
       "</tr>\n",
       "<tr>\n",
       "  <th>Date:</th>             <td>Fri, 06 Nov 2020</td> <th>  Prob (F-statistic):</th>  <td>0.0500</td> \n",
       "</tr>\n",
       "<tr>\n",
       "  <th>Time:</th>                 <td>11:55:12</td>     <th>  Log-Likelihood:    </th> <td> -1065.5</td>\n",
       "</tr>\n",
       "<tr>\n",
       "  <th>No. Observations:</th>      <td>   104</td>      <th>  AIC:               </th> <td>   2135.</td>\n",
       "</tr>\n",
       "<tr>\n",
       "  <th>Df Residuals:</th>          <td>   102</td>      <th>  BIC:               </th> <td>   2140.</td>\n",
       "</tr>\n",
       "<tr>\n",
       "  <th>Df Model:</th>              <td>     1</td>      <th>                     </th>     <td> </td>   \n",
       "</tr>\n",
       "<tr>\n",
       "  <th>Covariance Type:</th>      <td>nonrobust</td>    <th>                     </th>     <td> </td>   \n",
       "</tr>\n",
       "</table>\n",
       "<table class=\"simpletable\">\n",
       "<tr>\n",
       "      <td></td>         <th>coef</th>     <th>std err</th>      <th>t</th>      <th>P>|t|</th>  <th>[0.025</th>    <th>0.975]</th>  \n",
       "</tr>\n",
       "<tr>\n",
       "  <th>Intercept</th> <td>  4.93e+04</td> <td>  926.929</td> <td>   53.183</td> <td> 0.000</td> <td> 4.75e+04</td> <td> 5.11e+04</td>\n",
       "</tr>\n",
       "<tr>\n",
       "  <th>qtl10</th>     <td> 2678.9049</td> <td> 1350.409</td> <td>    1.984</td> <td> 0.050</td> <td>    0.375</td> <td> 5357.435</td>\n",
       "</tr>\n",
       "</table>\n",
       "<table class=\"simpletable\">\n",
       "<tr>\n",
       "  <th>Omnibus:</th>       <td>23.951</td> <th>  Durbin-Watson:     </th> <td>   1.859</td>\n",
       "</tr>\n",
       "<tr>\n",
       "  <th>Prob(Omnibus):</th> <td> 0.000</td> <th>  Jarque-Bera (JB):  </th> <td>  31.781</td>\n",
       "</tr>\n",
       "<tr>\n",
       "  <th>Skew:</th>          <td>-1.319</td> <th>  Prob(JB):          </th> <td>1.26e-07</td>\n",
       "</tr>\n",
       "<tr>\n",
       "  <th>Kurtosis:</th>      <td> 3.609</td> <th>  Cond. No.          </th> <td>    2.56</td>\n",
       "</tr>\n",
       "</table><br/><br/>Warnings:<br/>[1] Standard Errors assume that the covariance matrix of the errors is correctly specified."
      ],
      "text/plain": [
       "<class 'statsmodels.iolib.summary.Summary'>\n",
       "\"\"\"\n",
       "                            OLS Regression Results                            \n",
       "==============================================================================\n",
       "Dep. Variable:         mean_intensity   R-squared:                       0.037\n",
       "Model:                            OLS   Adj. R-squared:                  0.028\n",
       "Method:                 Least Squares   F-statistic:                     3.935\n",
       "Date:                Fri, 06 Nov 2020   Prob (F-statistic):             0.0500\n",
       "Time:                        11:55:12   Log-Likelihood:                -1065.5\n",
       "No. Observations:                 104   AIC:                             2135.\n",
       "Df Residuals:                     102   BIC:                             2140.\n",
       "Df Model:                           1                                         \n",
       "Covariance Type:            nonrobust                                         \n",
       "==============================================================================\n",
       "                 coef    std err          t      P>|t|      [0.025      0.975]\n",
       "------------------------------------------------------------------------------\n",
       "Intercept    4.93e+04    926.929     53.183      0.000    4.75e+04    5.11e+04\n",
       "qtl10       2678.9049   1350.409      1.984      0.050       0.375    5357.435\n",
       "==============================================================================\n",
       "Omnibus:                       23.951   Durbin-Watson:                   1.859\n",
       "Prob(Omnibus):                  0.000   Jarque-Bera (JB):               31.781\n",
       "Skew:                          -1.319   Prob(JB):                     1.26e-07\n",
       "Kurtosis:                       3.609   Cond. No.                         2.56\n",
       "==============================================================================\n",
       "\n",
       "Warnings:\n",
       "[1] Standard Errors assume that the covariance matrix of the errors is correctly specified.\n",
       "\"\"\""
      ]
     },
     "execution_count": 26,
     "metadata": {},
     "output_type": "execute_result"
    }
   ],
   "source": [
    "import statsmodels.formula.api as smf\n",
    "mod = smf.ols(formula='mean_intensity~qtl10', data=pxg)\n",
    "res = mod.fit()\n",
    "res.summary()"
   ]
  },
  {
   "cell_type": "code",
   "execution_count": 27,
   "metadata": {},
   "outputs": [
    {
     "name": "stderr",
     "output_type": "stream",
     "text": [
      "/home/croth/anaconda3/lib/python3.8/site-packages/seaborn/categorical.py:1296: UserWarning: 6.1% of the points cannot be placed; you may want to decrease the size of the markers or use stripplot.\n",
      "  warnings.warn(msg, UserWarning)\n"
     ]
    },
    {
     "data": {
      "text/plain": [
       "[None, None]"
      ]
     },
     "execution_count": 27,
     "metadata": {},
     "output_type": "execute_result"
    },
    {
     "data": {
      "image/png": "[encoded data removed]",
      "text/plain": [
       "<Figure size 648x216 with 13 Axes>"
      ]
     },
     "metadata": {
      "needs_background": "light"
     },
     "output_type": "display_data"
    }
   ],
   "source": [
    "fig,ax = plt.subplots(1,1,figsize=(9,3),sharex=True,sharey=True)\n",
    "\n",
    "for c in chrlist:\n",
    "    i = int(c[3:])-1\n",
    "    \n",
    "    if c == 'Chr10':\n",
    "        cc = 'tab:blue'\n",
    "    else:\n",
    "        cc = chrom_colors[i%len(chrom_colors)]\n",
    "    temp = pval_df[(pval_df.Chrom==c)]\n",
    "    plt.plot(temp.Pos.values+cumpos[i],temp['1M'].values,'.',color=cc,ms=3);\n",
    "    \n",
    "plt.xticks(chrmid,np.arange(len(chrlist))+1);\n",
    "plt.ylabel('$-\\log_{10}\\,(p-value)$',fontsize=14);\n",
    "plt.xlabel('Chromosomes',fontsize=14);\n",
    "plt.hlines(alpha001,chrlens[0],19*(10**6),color='k',alpha=0.7,\n",
    "           linestyles='dotted')\n",
    "\n",
    "\n",
    "plt.yticks(np.arange(7))\n",
    "[ax.spines[s].set_visible(False) for s in ['top','right']]\n",
    "\n",
    "#plt.hlines(alpha005,chrlens[0],19*(10**6),color='k',alpha=0.7,\n",
    "#           linestyles='dashed')\n",
    "\n",
    "plt.title('B',x=0,y=1.1,fontweight='bold',fontsize=16)\n",
    "#plt.legend(bbox_to_anchor=(.3,1),frameon=True,fontsize=12)\n",
    "plt.text(s = r'$\\alpha$ = 0.01', x = (2/3)*chrmid[0],y= alpha001,\n",
    "         horizontalalignment='center',\n",
    "         verticalalignment='center', fontsize=12)\n",
    "         #transform=ax.transAxes, fontsize=14 )\n",
    "\n",
    "#plt.text(s = r'$\\alpha$ = 0.05', x = 0.08,y= .775, \n",
    "#         horizontalalignment='center',\n",
    "#         verticalalignment='center', \n",
    "#         transform=ax.transAxes, fontsize=14 )\n",
    "\n",
    "plt.sca(ax)\n",
    "axs = fig.add_axes([0.29,1.27,.49,.1])\n",
    "plt.xticks([0.5],labels=['Representative F$_{1}$ Progeny'],fontsize=12)\n",
    "plt.yticks([ ],labels=None)\n",
    "axs.spines['top'].set_visible(False) \n",
    "\n",
    "\n",
    "## Plot xl280a\n",
    "plt.sca(ax)\n",
    "axm = fig.add_axes([0.1,1.3,0.1,.15])\n",
    "xl280a_path = '/home/croth/Downloads/osmo_crop_segs/xl280a.png'\n",
    "xl280a_obj = Image.open(xl280a_path)\n",
    "plt.imshow(xl280a_obj),# aspect='auto')\n",
    "plt.xticks([np.array(xl280a_obj).shape[0]/2],labels=['XL280'+ r'$\\bf{a}$'],fontsize=12)\n",
    "plt.yticks([]);\n",
    "plt.title('A',fontsize=16,fontweight='bold',x=0,y=1.54);\n",
    "[axm.spines[a].set_visible(False) for a in ['top','bottom','left','right']]\n",
    "\n",
    "## Plot 431\n",
    "plt.sca(ax)\n",
    "axm = fig.add_axes([0.17,1.3,0.1,.15])\n",
    "plt.yticks([]);\n",
    "A837_path = '/home/croth/Downloads/osmo_crop_segs/431alpha.png'\n",
    "A837_obj = Image.open(A837_path)\n",
    "plt.imshow(A837_obj),# aspect='auto')\n",
    "plt.xticks([np.array(A837_obj).shape[0]/2],labels=['431'+'$\\mathrm{\\u03B1}$'],fontsize=12)\n",
    "[axm.spines[a].set_visible(False) for a in ['top','bottom','left','right']]\n",
    "\n",
    "\n",
    "plt.sca(ax)\n",
    "## Plot S1\n",
    "axm = fig.add_axes([0.24,1.3,0.1,.15])\n",
    "plt.yticks([]);\n",
    "spath = '/home/croth/Downloads/osmo_crop_segs/d11.png'\n",
    "sobj = Image.open(spath)\n",
    "plt.imshow(sobj),# aspect='auto')\n",
    "plt.xticks([],labels=[])\n",
    "plt.axis('off')\n",
    "\n",
    "\n",
    "plt.sca(ax)\n",
    "## Plot S1\n",
    "axm = fig.add_axes([0.31,1.3,0.1,.15])\n",
    "plt.yticks([]);\n",
    "spath = '/home/croth/Downloads/osmo_crop_segs/c4.png'\n",
    "sobj = Image.open(spath)\n",
    "plt.imshow(sobj),# aspect='auto')\n",
    "plt.xticks([],labels=[])\n",
    "plt.axis('off')\n",
    "\n",
    "\n",
    "plt.sca(ax)\n",
    "## Plot S1\n",
    "axm = fig.add_axes([0.38,1.3,0.1,.15])\n",
    "plt.yticks([]);\n",
    "spath = '/home/croth/Downloads/osmo_crop_segs/f3.png'\n",
    "sobj = Image.open(spath)\n",
    "plt.imshow(sobj),# aspect='auto')\n",
    "plt.xticks([],labels=[])\n",
    "plt.axis('off')\n",
    "\n",
    "\n",
    "plt.sca(ax)\n",
    "## Plot S4\n",
    "axm = fig.add_axes([0.45,1.3,0.1,.15])\n",
    "plt.yticks([]);\n",
    "spath = '/home/croth/Downloads/osmo_crop_segs/d10.png' \n",
    "sobj = Image.open(spath)\n",
    "plt.imshow(sobj),# aspect='auto')\n",
    "plt.xticks([],labels=[])\n",
    "plt.axis('off')\n",
    "\n",
    "\n",
    "plt.sca(ax)\n",
    "## Plot S4\n",
    "axm = fig.add_axes([0.52,1.3,0.1,.15])\n",
    "plt.yticks([]);\n",
    "spath = '/home/croth/Downloads/osmo_crop_segs/b5.png'\n",
    "sobj = Image.open(spath)\n",
    "plt.imshow(sobj),# aspect='auto')\n",
    "plt.xticks([],labels=[])\n",
    "plt.axis('off')\n",
    "\n",
    "\n",
    "plt.sca(ax)\n",
    "## Plot S4\n",
    "axm = fig.add_axes([0.59,1.3,0.1,.15])\n",
    "plt.yticks([]);\n",
    "spath = '/home/croth/Downloads/osmo_crop_segs/f5.png'\n",
    "sobj = Image.open(spath)\n",
    "plt.imshow(sobj),# aspect='auto')\n",
    "plt.xticks([],labels=[])\n",
    "plt.axis('off')\n",
    "\n",
    "plt.sca(ax)\n",
    "## Plot S4\n",
    "axm = fig.add_axes([0.66,1.3,0.1,.15])\n",
    "plt.yticks([]);\n",
    "spath = '/home/croth/Downloads/osmo_crop_segs/d4.png'\n",
    "sobj = Image.open(spath)\n",
    "plt.imshow(sobj),# aspect='auto')\n",
    "plt.xticks([],labels=[])\n",
    "plt.axis('off')\n",
    "\n",
    "plt.sca(ax)\n",
    "## Plot S4\n",
    "axm = fig.add_axes([0.73,1.3,0.1,.15])\n",
    "plt.yticks([]);\n",
    "spath = '/home/croth/Downloads/osmo_crop_segs/e3.png'\n",
    "sobj = Image.open(spath)\n",
    "plt.imshow(sobj),# aspect='auto')\n",
    "plt.xticks([],labels=[])\n",
    "plt.axis('off')\n",
    "\n",
    "axr = fig.add_axes([0.12,-.8,0.25,0.6])\n",
    "sns.regplot(x='qtl10',y='mean_intensity',ci=False,\n",
    "           data=pxg,scatter_kws={'alpha':0.0},\n",
    "            line_kws={'color':'red','alpha':0.5})\n",
    "sns.swarmplot(x='qtl10',y='mean_intensity',\n",
    "              data=pxg,color='grey',alpha=0.5);\n",
    "plt.plot(*pxg.T['XL280a'].T[['qtl10','mean_intensity']].values,\n",
    "         '^',color='tab:blue')\n",
    "plt.plot(*pxg.T['SS-A837'].T[['qtl10','mean_intensity']].values,\n",
    "         '^',color='tab:orange')\n",
    "plt.title('C',fontsize=16,fontweight='bold',x=0,y=1.1)\n",
    "plt.ylabel('Mean Intensity',fontsize=14);\n",
    "plt.xlabel('Chromosome 10\\nQTL Allele',fontsize=14)\n",
    "plt.xticks([0,1],['XL280'+ r'$\\bf{a}$',\n",
    "                  '431'+'$\\mathrm{\\u03B1}$'],fontsize=14)\n",
    "plt.text(y= pxg.mean_intensity.min() ,\n",
    "         x= np.abs(pxg.T[pxg.mean_intensity.idxmin()].T['qtl10'] - 1) ,\n",
    "         s='$R^2 = %s$'%(np.round(res.rsquared,2)),\n",
    "         va='center',ha='center',color='tab:red',alpha=0.8)\n",
    "plt.yticks(np.arange(pxg.mean_intensity.max(),pxg.mean_intensity.min(),-4000))\n",
    "[axr.spines[s].set_visible(False) for s in ['top','right']]\n",
    "\n",
    "#plt.savefig('./NaCl_1_M_mean_intensity_Manhattan.png',\n",
    "#            dpi=150,bbox_inches='tight');"
   ]
  },
  {
   "cell_type": "code",
   "execution_count": 28,
   "metadata": {},
   "outputs": [
    {
     "data": {
      "text/plain": [
       "'/home/croth/crypto-QTL-paper/SCRIPTS'"
      ]
     },
     "execution_count": 28,
     "metadata": {},
     "output_type": "execute_result"
    }
   ],
   "source": [
    "pwd"
   ]
  },
  {
   "cell_type": "code",
   "execution_count": 29,
   "metadata": {},
   "outputs": [],
   "source": [
    "pheno.to_csv('./Cdx_osmo_NaCl_1M.csv',index=False);"
   ]
  },
  {
   "cell_type": "code",
   "execution_count": 30,
   "metadata": {},
   "outputs": [
    {
     "ename": "AssertionError",
     "evalue": "",
     "output_type": "error",
     "traceback": [
      "\u001b[0;31m---------------------------------------------------------------------------\u001b[0m",
      "\u001b[0;31mAssertionError\u001b[0m                            Traceback (most recent call last)",
      "\u001b[0;32m<ipython-input-30-e99f91a18d62>\u001b[0m in \u001b[0;36m<module>\u001b[0;34m\u001b[0m\n\u001b[0;32m----> 1\u001b[0;31m \u001b[0;32massert\u001b[0m \u001b[0;36m1\u001b[0m \u001b[0;34m==\u001b[0m \u001b[0;36m0\u001b[0m\u001b[0;34m\u001b[0m\u001b[0;34m\u001b[0m\u001b[0m\n\u001b[0m",
      "\u001b[0;31mAssertionError\u001b[0m: "
     ]
    }
   ],
   "source": [
    "assert 1 == 0"
   ]
  },
  {
   "cell_type": "markdown",
   "metadata": {},
   "source": [
    "fig,ax = plt.subplots(1,1,figsize=(9,3),sharex=True,sharey=True)\n",
    "\n",
    "for c in chrlist[::-1]:\n",
    "    i = int(c[3:])-1\n",
    "    temp = pval_df[(pval_df.Chrom==c)]\n",
    "    plt.plot(temp.Pos.values+cumpos[i],temp['1M'].values,'.');\n",
    "plt.xticks(chrmid,np.arange(len(chrlist))+1);\n",
    "plt.ylabel(\"$-log_{10}(p-value)$\",fontsize=14);\n",
    "plt.xlabel('Chromosomes',fontsize=14);\n",
    "plt.hlines(alpha001,chrlens[0],19*(10**6),color='k',alpha=0.7,\n",
    "           linestyles='dotted')\n",
    "plt.hlines(alpha005,chrlens[0],19*(10**6),color='k',alpha=0.7,\n",
    "           linestyles='dashed')\n",
    "\n",
    "plt.title('B',x=0,y=1.1,fontweight='bold',fontsize=16)\n",
    "#plt.legend(bbox_to_anchor=(.3,1),frameon=True,fontsize=12)\n",
    "plt.text(s = r'$\\alpha$ = 0.01', x = 0.08,y= .91, \n",
    "         horizontalalignment='center',\n",
    "         verticalalignment='center', \n",
    "         transform=ax.transAxes, fontsize=14 )\n",
    "\n",
    "plt.text(s = r'$\\alpha$ = 0.05', x = 0.08,y= .775, \n",
    "         horizontalalignment='center',\n",
    "         verticalalignment='center', \n",
    "         transform=ax.transAxes, fontsize=14 )\n",
    "\n",
    "plt.sca(ax)\n",
    "axs = fig.add_axes([0.29,1.27,.49,.1])\n",
    "plt.xticks([0.5],labels=['Representative F$_{1}$ Progeny'],fontsize=12)\n",
    "plt.yticks([ ],labels=None)\n",
    "axs.spines['top'].set_visible(False) \n",
    "\n",
    "\n",
    "## Plot xl280a\n",
    "plt.sca(ax)\n",
    "axm = fig.add_axes([0.1,1.3,0.1,.15])\n",
    "xl280a_path = '/home/croth/Downloads/osmo_crop_segs/xl280a.png'\n",
    "xl280a_obj = Image.open(xl280a_path)\n",
    "plt.imshow(xl280a_obj),# aspect='auto')\n",
    "plt.xticks([np.array(xl280a_obj).shape[0]/2],labels=['XL280'+ r'$\\bf{a}$'],fontsize=12)\n",
    "plt.yticks([]);\n",
    "plt.title('A',fontsize=16,fontweight='bold',x=0,y=1.54);\n",
    "[axm.spines[a].set_visible(False) for a in ['top','bottom','left','right']]\n",
    "\n",
    "## Plot 431\n",
    "plt.sca(ax)\n",
    "axm = fig.add_axes([0.17,1.3,0.1,.15])\n",
    "plt.yticks([]);\n",
    "A837_path = '/home/croth/Downloads/osmo_crop_segs/431alpha.png'\n",
    "A837_obj = Image.open(A837_path)\n",
    "plt.imshow(A837_obj),# aspect='auto')\n",
    "plt.xticks([np.array(A837_obj).shape[0]/2],labels=['431'+'$\\mathrm{\\u03B1}$'],fontsize=12)\n",
    "[axm.spines[a].set_visible(False) for a in ['top','bottom','left','right']]\n",
    "\n",
    "\n",
    "plt.sca(ax)\n",
    "## Plot S1\n",
    "axm = fig.add_axes([0.24,1.3,0.1,.15])\n",
    "plt.yticks([]);\n",
    "spath = '/home/croth/Downloads/osmo_crop_segs/d11.png'\n",
    "sobj = Image.open(spath)\n",
    "plt.imshow(sobj),# aspect='auto')\n",
    "plt.xticks([],labels=[])\n",
    "plt.axis('off')\n",
    "\n",
    "\n",
    "plt.sca(ax)\n",
    "## Plot S1\n",
    "axm = fig.add_axes([0.31,1.3,0.1,.15])\n",
    "plt.yticks([]);\n",
    "spath = '/home/croth/Downloads/osmo_crop_segs/c4.png'\n",
    "sobj = Image.open(spath)\n",
    "plt.imshow(sobj),# aspect='auto')\n",
    "plt.xticks([],labels=[])\n",
    "plt.axis('off')\n",
    "\n",
    "\n",
    "plt.sca(ax)\n",
    "## Plot S1\n",
    "axm = fig.add_axes([0.38,1.3,0.1,.15])\n",
    "plt.yticks([]);\n",
    "spath = '/home/croth/Downloads/osmo_crop_segs/f3.png'\n",
    "sobj = Image.open(spath)\n",
    "plt.imshow(sobj),# aspect='auto')\n",
    "plt.xticks([],labels=[])\n",
    "plt.axis('off')\n",
    "\n",
    "\n",
    "plt.sca(ax)\n",
    "## Plot S4\n",
    "axm = fig.add_axes([0.45,1.3,0.1,.15])\n",
    "plt.yticks([]);\n",
    "spath = '/home/croth/Downloads/osmo_crop_segs/d10.png' \n",
    "sobj = Image.open(spath)\n",
    "plt.imshow(sobj),# aspect='auto')\n",
    "plt.xticks([],labels=[])\n",
    "plt.axis('off')\n",
    "\n",
    "\n",
    "plt.sca(ax)\n",
    "## Plot S4\n",
    "axm = fig.add_axes([0.52,1.3,0.1,.15])\n",
    "plt.yticks([]);\n",
    "spath = '/home/croth/Downloads/osmo_crop_segs/b5.png'\n",
    "sobj = Image.open(spath)\n",
    "plt.imshow(sobj),# aspect='auto')\n",
    "plt.xticks([],labels=[])\n",
    "plt.axis('off')\n",
    "\n",
    "\n",
    "plt.sca(ax)\n",
    "## Plot S4\n",
    "axm = fig.add_axes([0.59,1.3,0.1,.15])\n",
    "plt.yticks([]);\n",
    "spath = '/home/croth/Downloads/osmo_crop_segs/f5.png'\n",
    "sobj = Image.open(spath)\n",
    "plt.imshow(sobj),# aspect='auto')\n",
    "plt.xticks([],labels=[])\n",
    "plt.axis('off')\n",
    "\n",
    "plt.sca(ax)\n",
    "## Plot S4\n",
    "axm = fig.add_axes([0.66,1.3,0.1,.15])\n",
    "plt.yticks([]);\n",
    "spath = '/home/croth/Downloads/osmo_crop_segs/d4.png'\n",
    "sobj = Image.open(spath)\n",
    "plt.imshow(sobj),# aspect='auto')\n",
    "plt.xticks([],labels=[])\n",
    "plt.axis('off')\n",
    "\n",
    "plt.sca(ax)\n",
    "## Plot S4\n",
    "axm = fig.add_axes([0.73,1.3,0.1,.15])\n",
    "plt.yticks([]);\n",
    "spath = '/home/croth/Downloads/osmo_crop_segs/e3.png'\n",
    "sobj = Image.open(spath)\n",
    "plt.imshow(sobj),# aspect='auto')\n",
    "plt.xticks([],labels=[])\n",
    "plt.axis('off')\n",
    "\n",
    "axr = fig.add_axes([1.03,0.13,0.25,0.75])\n",
    "sns.regplot(x='qtl10',y='mean_intensity',ci=False,\n",
    "           data=pxg,scatter_kws={'alpha':0.0},\n",
    "            line_kws={'color':'red','alpha':0.5})\n",
    "sns.swarmplot(x='qtl10',y='mean_intensity',\n",
    "              data=pxg,color='grey',alpha=0.5);\n",
    "plt.plot(*pxg.T['XL280a'].T[['qtl10','mean_intensity']].values,\n",
    "         '^',color='tab:blue')\n",
    "plt.plot(*pxg.T['SS-A837'].T[['qtl10','mean_intensity']].values,\n",
    "         '^',color='tab:orange')\n",
    "plt.title('C',fontsize=16,fontweight='bold',x=0,y=1.1)\n",
    "plt.ylabel('Mean Intensity',fontsize=14);\n",
    "plt.xlabel('Chromosome 10\\nQTL Allele',fontsize=14)\n",
    "plt.xticks([0,1],['XL280'+ r'$\\bf{a}$',\n",
    "                  '431'+'$\\mathrm{\\u03B1}$'],fontsize=14)\n",
    "plt.text(x=0.5,y=32500,s='$R^2 = %s$'%(np.round(res.rsquared,2)),\n",
    "         va='center',ha='center',color='tab:red',alpha=0.8)\n",
    "\n",
    "#plt.savefig('./NaCl_1_M_mean_intensity_Manhattan.png',\n",
    "#            dpi=150,bbox_inches='tight');"
   ]
  },
  {
   "cell_type": "markdown",
   "metadata": {},
   "source": [
    "perms = pd.read_csv('/home/croth/Cdx_assigned_permutations.csv')\n",
    "perms.shape"
   ]
  },
  {
   "cell_type": "markdown",
   "metadata": {},
   "source": [
    "file = open('./Cdx_osmo_NaCl_1M_perms_10000.csv','w+')\n",
    "file.writelines('Perm,Pval\\n')\n",
    "file.close()"
   ]
  },
  {
   "cell_type": "markdown",
   "metadata": {},
   "source": [
    "for i, p in perms.iterrows():\n",
    "    osmo_p = osmo[(osmo.NaCl==1)& (osmo.strain.isin(segs))].copy()\n",
    "    osmo_p.index = p\n",
    "    pvalmax = np.max(gv.T[loci].T[osmo_p.index].apply(\n",
    "                association_logPval,\n",
    "                args=[\n",
    "            osmo_p.T[osmo_p.index].T['mean_intensity']],\n",
    "            axis=1))\n",
    "    osmo_perms = open('./Cdx_osmo_NaCl_1M_perms_10000.csv','a')\n",
    "    osmo_perms.writelines('%s,%s\\n'%(i,pvalmax))\n",
    "    osmo_perms.close()"
   ]
  },
  {
   "cell_type": "code",
   "execution_count": null,
   "metadata": {},
   "outputs": [],
   "source": [
    "gff3 = pd.read_csv('/home/croth/Downloads/xl280genome.gff3.csv.gz',index_col=0)\n",
    "genes = pd.read_csv('/home/croth/Downloads/XL280_431_gene_analysis.csv.gz')"
   ]
  },
  {
   "cell_type": "code",
   "execution_count": null,
   "metadata": {},
   "outputs": [],
   "source": [
    "qtl10_gene = gff3[(gff3.contig=='Chr10') & \n",
    "                    (gff3.start>=qtl10_bounds[0]) & \n",
    "                    (gff3.end<=qtl10_bounds[-1])].sort_values('gene').gene.unique()"
   ]
  },
  {
   "cell_type": "code",
   "execution_count": null,
   "metadata": {},
   "outputs": [],
   "source": [
    "qtl10_gene_pos = gff3[(gff3.gene.isin(qtl10_gene)) & \n",
    "                     (gff3.type=='gene')\n",
    "                    ][['gene','start','end','strand','description']]\n",
    "\n",
    "qtl10_gene_pos['description'] = [' '.join(a.split('%2C')) for a in qtl10_gene_pos.description]"
   ]
  },
  {
   "cell_type": "code",
   "execution_count": null,
   "metadata": {},
   "outputs": [],
   "source": [
    "osmo_genes = genes[(genes.gene.isin(qtl10_gene))].merge(qtl10_gene_pos).sort_values('gene')\n",
    "aach = []\n",
    "for i,j in osmo_genes[['nonsense','missense']].iterrows():\n",
    "    if j.nonsense == 1:\n",
    "        aach.append('SG')\n",
    "    elif j.nonsense == 2:\n",
    "        aach.append('SL')\n",
    "    else:\n",
    "        aach.append(j.missense)\n",
    "osmo_genes['Amino Acid Changes'] = aach\n",
    "osmo_genes.drop(['mod_three','length_check','chrom','nonsense','missense'],\n",
    "                axis=1,inplace=True)"
   ]
  },
  {
   "cell_type": "code",
   "execution_count": null,
   "metadata": {},
   "outputs": [],
   "source": [
    "osmo_genes.shape"
   ]
  },
  {
   "cell_type": "code",
   "execution_count": null,
   "metadata": {},
   "outputs": [],
   "source": [
    "osmo_genes.columns = [a.capitalize() for a in osmo_genes.columns]"
   ]
  },
  {
   "cell_type": "code",
   "execution_count": null,
   "metadata": {},
   "outputs": [],
   "source": [
    "osmo_genes['Position (bp)'] = [':'.join(j[['Start','End']].apply(str).tolist())\n",
    "                               for i,j in osmo_genes.iterrows()]"
   ]
  },
  {
   "cell_type": "code",
   "execution_count": null,
   "metadata": {},
   "outputs": [],
   "source": [
    "osmo_genes = osmo_genes[['Gene','Position (bp)','Strand','Description','Amino acid changes']]"
   ]
  },
  {
   "cell_type": "code",
   "execution_count": null,
   "metadata": {},
   "outputs": [],
   "source": [
    "osmo_genes.columns = osmo_genes.columns.tolist()[:-1] + ['Amino Acid Change']"
   ]
  },
  {
   "cell_type": "code",
   "execution_count": null,
   "metadata": {},
   "outputs": [],
   "source": [
    "osmo_genes.head()"
   ]
  },
  {
   "cell_type": "code",
   "execution_count": null,
   "metadata": {},
   "outputs": [],
   "source": [
    "osmo_genes.loc[4,'Description'] = 'FZC1'"
   ]
  },
  {
   "cell_type": "code",
   "execution_count": null,
   "metadata": {},
   "outputs": [],
   "source": [
    "osmo_genes"
   ]
  },
  {
   "cell_type": "code",
   "execution_count": null,
   "metadata": {},
   "outputs": [],
   "source": [
    "osmo_genes.to_csv('./Osmo_QTL_genes.csv',index=False)"
   ]
  },
  {
   "cell_type": "code",
   "execution_count": null,
   "metadata": {},
   "outputs": [],
   "source": []
  }
 ],
 "metadata": {
  "kernelspec": {
   "display_name": "Python 3",
   "language": "python",
   "name": "python3"
  },
  "language_info": {
   "codemirror_mode": {
    "name": "ipython",
    "version": 3
   },
   "file_extension": ".py",
   "mimetype": "text/x-python",
   "name": "python",
   "nbconvert_exporter": "python",
   "pygments_lexer": "ipython3",
   "version": "3.8.5"
  }
 },
 "nbformat": 4,
 "nbformat_minor": 4
}
