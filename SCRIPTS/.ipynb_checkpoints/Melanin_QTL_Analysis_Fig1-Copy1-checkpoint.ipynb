{
 "cells": [
  {
   "cell_type": "code",
   "execution_count": 1,
   "metadata": {},
   "outputs": [],
   "source": [
    "import numpy as np, pandas as pd, scipy.stats as ss\n",
    "import seaborn as sns, os\n",
    "from PIL import Image\n",
    "from matplotlib import pyplot as plt\n",
    "%matplotlib inline"
   ]
  },
  {
   "cell_type": "code",
   "execution_count": 2,
   "metadata": {},
   "outputs": [],
   "source": [
    "np.random.seed(71191)\n",
    "\n",
    "def allelic_ANOVA(site, pheno):\n",
    "    \"\"\"\n",
    "    This regression is equivalent to one-way ANOVA with 2 groups. \n",
    "    Return F-statistic.\n",
    "    Assumes site is coded as -1, 1\n",
    "    \"\"\"\n",
    "    coding = np.array(site, np.float)\n",
    "    pheno = np.array(pheno, np.float)\n",
    "    \n",
    "    meany = np.mean(pheno)\n",
    "    meandummy = np.mean(coding)\n",
    "    ctry = pheno - meany\n",
    "    ctrdummy = coding - meandummy\n",
    "    \n",
    "    # regression coefficient and intercept\n",
    "    b = np.dot(ctry, ctrdummy)/np.dot(ctrdummy, ctrdummy)\n",
    "    intercept = meany - b * meandummy\n",
    "    \n",
    "    yhat = b * ctrdummy\n",
    "    len_yhat = np.sqrt(np.dot(yhat,yhat))\n",
    "    len_y = np.sqrt(np.dot(ctry,ctry))\n",
    "    df_yhat = 1\n",
    "    \n",
    "    error = ctry  - yhat\n",
    "    len_error = np.sqrt(np.dot(error,error))\n",
    "    if abs(len_error**2) < 1e-5:\n",
    "        raise Exception(\"Zero length error in ANOVA\")\n",
    "    df_error = len(pheno) - 2\n",
    "    \n",
    "    # coefficient of determination is R**2\n",
    "    #R = len_yhat/len_y\n",
    "    \n",
    "    # F-statistic\n",
    "    F = (len_yhat**2/df_yhat) / (len_error**2/df_error)\n",
    "    return F\n",
    "\n",
    "\n",
    "def association_logPval(site, pheno):\n",
    "    F = allelic_ANOVA(site, pheno)\n",
    "    logP = np.log10(ss.f.sf(F, 1, len(pheno)-2))\n",
    "    return -logP"
   ]
  },
  {
   "cell_type": "code",
   "execution_count": 3,
   "metadata": {},
   "outputs": [],
   "source": [
    "from matplotlib import rc\n",
    "xl280al = 'XL280'+r'$\\alpha$'#+'SS'\n",
    "xl280_label = 'XL280' +r'$\\bf{a}$'\n",
    "_431_label = '431'+r'$\\mathrm{\\alpha}$'"
   ]
  },
  {
   "cell_type": "code",
   "execution_count": 4,
   "metadata": {},
   "outputs": [],
   "source": [
    "paul = pd.read_csv('/home/croth/Downloads/melanin_measurements_paul.csv')\n",
    "paul = paul[(paul.strain!='H99')]"
   ]
  },
  {
   "cell_type": "code",
   "execution_count": 5,
   "metadata": {},
   "outputs": [
    {
     "data": {
      "text/html": [
       "<div>\n",
       "<style scoped>\n",
       "    .dataframe tbody tr th:only-of-type {\n",
       "        vertical-align: middle;\n",
       "    }\n",
       "\n",
       "    .dataframe tbody tr th {\n",
       "        vertical-align: top;\n",
       "    }\n",
       "\n",
       "    .dataframe thead th {\n",
       "        text-align: right;\n",
       "    }\n",
       "</style>\n",
       "<table border=\"1\" class=\"dataframe\">\n",
       "  <thead>\n",
       "    <tr style=\"text-align: right;\">\n",
       "      <th></th>\n",
       "      <th>row</th>\n",
       "      <th>column</th>\n",
       "      <th>plate</th>\n",
       "      <th>strain</th>\n",
       "      <th>replicate</th>\n",
       "      <th>day</th>\n",
       "      <th>mean_grey</th>\n",
       "      <th>background_grey</th>\n",
       "      <th>melanin_binary</th>\n",
       "    </tr>\n",
       "  </thead>\n",
       "  <tbody>\n",
       "    <tr>\n",
       "      <th>155</th>\n",
       "      <td>e</td>\n",
       "      <td>7</td>\n",
       "      <td>qtl2</td>\n",
       "      <td>SS-A837</td>\n",
       "      <td>1</td>\n",
       "      <td>3</td>\n",
       "      <td>62.436</td>\n",
       "      <td>110.928</td>\n",
       "      <td>1.0</td>\n",
       "    </tr>\n",
       "    <tr>\n",
       "      <th>215</th>\n",
       "      <td>e</td>\n",
       "      <td>7</td>\n",
       "      <td>qtl2</td>\n",
       "      <td>SS-A837</td>\n",
       "      <td>2</td>\n",
       "      <td>3</td>\n",
       "      <td>108.336</td>\n",
       "      <td>97.312</td>\n",
       "      <td>1.0</td>\n",
       "    </tr>\n",
       "  </tbody>\n",
       "</table>\n",
       "</div>"
      ],
      "text/plain": [
       "    row  column plate   strain  replicate  day  mean_grey  background_grey  \\\n",
       "155   e       7  qtl2  SS-A837          1    3     62.436          110.928   \n",
       "215   e       7  qtl2  SS-A837          2    3    108.336           97.312   \n",
       "\n",
       "     melanin_binary  \n",
       "155             1.0  \n",
       "215             1.0  "
      ]
     },
     "execution_count": 5,
     "metadata": {},
     "output_type": "execute_result"
    }
   ],
   "source": [
    "paul[(paul.strain=='SS-A837')]"
   ]
  },
  {
   "cell_type": "code",
   "execution_count": 6,
   "metadata": {},
   "outputs": [
    {
     "data": {
      "text/plain": [
       "'/home/croth/crypto-QTL-paper/SCRIPTS'"
      ]
     },
     "execution_count": 6,
     "metadata": {},
     "output_type": "execute_result"
    }
   ],
   "source": [
    "pwd"
   ]
  },
  {
   "cell_type": "code",
   "execution_count": 7,
   "metadata": {},
   "outputs": [
    {
     "name": "stdout",
     "output_type": "stream",
     "text": [
      "(104,)\n",
      "(3108,)\n"
     ]
    }
   ],
   "source": [
    "gv = pd.read_csv('../DATA/CDx-ill-SNP-INDEL-df-104-blocked.csv.gz')\n",
    "segs = np.array([s \n",
    "                 for s in paul.strain.unique() \n",
    "                 if s in gv.columns])\n",
    "print(segs.shape)\n",
    "\n",
    "loci = gv.Block.drop_duplicates().index\n",
    "print(loci.shape)"
   ]
  },
  {
   "cell_type": "code",
   "execution_count": 8,
   "metadata": {},
   "outputs": [],
   "source": [
    "dopa_path = '../DATA/L-DOPA-July32019.csv.gz'"
   ]
  },
  {
   "cell_type": "code",
   "execution_count": 9,
   "metadata": {},
   "outputs": [],
   "source": [
    "debra =pd.read_csv(dopa_path)"
   ]
  },
  {
   "cell_type": "code",
   "execution_count": 10,
   "metadata": {},
   "outputs": [],
   "source": [
    "debra = debra[(debra.strain!='H99')]\n",
    "debra.dropna(inplace=True,axis=0,how='any')\n",
    "debra['Mean'] = debra['Mean'].astype(float)"
   ]
  },
  {
   "cell_type": "code",
   "execution_count": 11,
   "metadata": {},
   "outputs": [
    {
     "data": {
      "text/plain": [
       "(1080, 17)"
      ]
     },
     "execution_count": 11,
     "metadata": {},
     "output_type": "execute_result"
    }
   ],
   "source": [
    "debra.shape"
   ]
  },
  {
   "cell_type": "code",
   "execution_count": 12,
   "metadata": {},
   "outputs": [],
   "source": [
    "dm_mean = pd.DataFrame([list(a[0])+list(\n",
    "    [a[1]['row'].unique()[0],a[1]['column'].unique()[0],\n",
    "     a[1]['Mean'].mean()]) \n",
    " for a in debra.groupby(['plate','strain'])],\n",
    "                       columns=['plate','strain',\n",
    "                                'row','column','Mean'])"
   ]
  },
  {
   "cell_type": "code",
   "execution_count": 13,
   "metadata": {},
   "outputs": [],
   "source": [
    "pm_dm = paul[(paul.replicate==1)][[\n",
    "    'plate','strain','mean_grey']].merge(dm_mean)"
   ]
  },
  {
   "cell_type": "code",
   "execution_count": 14,
   "metadata": {},
   "outputs": [],
   "source": [
    "pm1_dm2 = dm_mean[(dm_mean.plate=='qtl2')].merge(\n",
    "    paul[(paul.replicate==1) & (paul.plate=='qtl1')][\n",
    "        ['row','column','mean_grey']]);\n",
    "pm2_dm1 = dm_mean[(dm_mean.plate=='qtl1')].merge(\n",
    "    paul[(paul.replicate==1) & (paul.plate=='qtl2')][\n",
    "        ['row','column','mean_grey']]);"
   ]
  },
  {
   "cell_type": "code",
   "execution_count": 15,
   "metadata": {},
   "outputs": [
    {
     "data": {
      "image/png": "[encoded data removed]",
      "text/plain": [
       "<Figure size 432x288 with 1 Axes>"
      ]
     },
     "metadata": {
      "needs_background": "light"
     },
     "output_type": "display_data"
    }
   ],
   "source": [
    "plt.plot(pm1_dm2.mean_grey,pm1_dm2.Mean.values,'.');\n",
    "plt.plot(pm2_dm1.mean_grey,pm2_dm1.Mean.values,'r.');"
   ]
  },
  {
   "cell_type": "code",
   "execution_count": 16,
   "metadata": {},
   "outputs": [
    {
     "data": {
      "image/png": "[encoded data removed]",
      "text/plain": [
       "<Figure size 432x288 with 1 Axes>"
      ]
     },
     "metadata": {
      "needs_background": "light"
     },
     "output_type": "display_data"
    }
   ],
   "source": [
    "[plt.plot(pm_dm[(pm_dm.plate==p)].mean_grey.values,\n",
    "          pm_dm[(pm_dm.plate==p)].Mean.values,'.',label=p) \n",
    " for p in ['qtl1','qtl2']];\n",
    "plt.legend(fontsize=14,markerscale=2,\n",
    "           bbox_to_anchor=(1,0.5));\n",
    "plt.xlabel('Old measurment');\n",
    "plt.ylabel('New Data');"
   ]
  },
  {
   "cell_type": "code",
   "execution_count": 17,
   "metadata": {},
   "outputs": [],
   "source": [
    "debra['Rep'] = [a[-1] for a in debra['rep'].tolist()]"
   ]
  },
  {
   "cell_type": "code",
   "execution_count": 18,
   "metadata": {},
   "outputs": [],
   "source": [
    "debra['Nrep']= debra['Rep'].replace(dict(zip(['a','b','c'],np.arange(3))))"
   ]
  },
  {
   "cell_type": "code",
   "execution_count": 19,
   "metadata": {},
   "outputs": [
    {
     "data": {
      "text/plain": [
       "array([0, 1, 2])"
      ]
     },
     "execution_count": 19,
     "metadata": {},
     "output_type": "execute_result"
    }
   ],
   "source": [
    "debra['Nrep'].unique()"
   ]
  },
  {
   "cell_type": "code",
   "execution_count": 20,
   "metadata": {},
   "outputs": [],
   "source": [
    "debra['Nmea'] = [int(a[-1])-1 for a in debra['measurement']]"
   ]
  },
  {
   "cell_type": "code",
   "execution_count": 21,
   "metadata": {},
   "outputs": [
    {
     "data": {
      "text/plain": [
       "array([0, 1, 2])"
      ]
     },
     "execution_count": 21,
     "metadata": {},
     "output_type": "execute_result"
    }
   ],
   "source": [
    "debra.Nmea.unique()"
   ]
  },
  {
   "cell_type": "code",
   "execution_count": 22,
   "metadata": {},
   "outputs": [],
   "source": [
    "titles = np.concatenate(np.array([('Matched','Switched') \n",
    "                         for i in range(3)]))"
   ]
  },
  {
   "cell_type": "code",
   "execution_count": 23,
   "metadata": {},
   "outputs": [
    {
     "data": {
      "image/png": "[encoded data removed]",
      "text/plain": [
       "<Figure size 1440x720 with 18 Axes>"
      ]
     },
     "metadata": {
      "needs_background": "light"
     },
     "output_type": "display_data"
    }
   ],
   "source": [
    "R = 1\n",
    "pm_r1p1 = paul[(paul.plate=='qtl1') & (paul.replicate==R)]\n",
    "pm_r1p2 = paul[(paul.plate=='qtl2') & (paul.replicate==R)]\n",
    "fig,ax= plt.subplots(3,6,figsize=(20,10),sharey=True,sharex=True)\n",
    "for r in debra.Nrep.unique():\n",
    "    for m in debra.Nmea.unique():\n",
    "        if m == 0:\n",
    "            plt.sca(ax[r,m])\n",
    "            plt.ylabel('Replicate %s'%(r+1),fontsize=12)\n",
    "        \n",
    "        dm_q1 = debra[(debra.plate=='qtl1') & \n",
    "                (debra.Nrep==r) & \n",
    "                (debra.Nmea==m)]\n",
    "\n",
    "        dm_q2 = debra[(debra.plate=='qtl2') & \n",
    "                (debra.Nrep==r) & \n",
    "                (debra.Nmea==m)]\n",
    "        ## H0 no switch\n",
    "        test_p1 = pm_r1p1.merge(dm_q1,on=['row','column'])\n",
    "        test_p2 = pm_r1p2.merge(dm_q2,on=['row','column'])\n",
    "        ## H1 there is a switch\n",
    "        switch_p1 = pm_r1p1.merge(dm_q2,on=['row','column'])\n",
    "        switch_p2 = pm_r1p2.merge(dm_q1,on=['row','column'])\n",
    "\n",
    "        plt.sca(ax[r,2*m])\n",
    "        plt.plot(test_p1.mean_grey.values,\n",
    "                 test_p1.Mean.values,'.',\n",
    "                label = 'plate 1' if (r+m == 0) else None);\n",
    "        plt.plot(test_p2.mean_grey.values,\n",
    "                 test_p2.Mean.values,'r.',\n",
    "                label = 'plate 2' if (r+m == 0) else None);\n",
    "        plt.sca(ax[r,(1+(2*m))])\n",
    "        plt.plot(switch_p1.mean_grey.values,\n",
    "                 switch_p1.Mean.values,'.',);\n",
    "        plt.plot(switch_p2.mean_grey,switch_p2.Mean,'r.');\n",
    "fig.text(0.5,0.07,'Re-measurement (old data), Replicate %s'%(R),\n",
    "         fontsize=16,ha='center');\n",
    "fig.text(0.07,0.5,'New measurement',\n",
    "         rotation=90,va='center',fontsize=16);\n",
    "for i in range(6):\n",
    "    plt.sca(ax[0,i])\n",
    "    plt.title(titles[i],fontsize=16);\n",
    "    \n",
    "for i in range(3):\n",
    "    fig.text(0.25+(0.26*i),.95,'Measurment %s'%(i+1),\n",
    "             fontsize=16,va='center',ha='center');\n",
    "plt.sca(ax[0,0])\n",
    "plt.legend(bbox_to_anchor=(-0.4,1.4),\n",
    "           frameon=False,fontsize=20,markerscale=6);\n",
    "#plt.savefig('Melanin_Reanalysis_oldrep_%s.png'%(R),\n",
    "#            bbox_inches='tight',dpi=100);"
   ]
  },
  {
   "cell_type": "code",
   "execution_count": 24,
   "metadata": {},
   "outputs": [
    {
     "data": {
      "text/html": [
       "<div>\n",
       "<style scoped>\n",
       "    .dataframe tbody tr th:only-of-type {\n",
       "        vertical-align: middle;\n",
       "    }\n",
       "\n",
       "    .dataframe tbody tr th {\n",
       "        vertical-align: top;\n",
       "    }\n",
       "\n",
       "    .dataframe thead th {\n",
       "        text-align: right;\n",
       "    }\n",
       "</style>\n",
       "<table border=\"1\" class=\"dataframe\">\n",
       "  <thead>\n",
       "    <tr style=\"text-align: right;\">\n",
       "      <th></th>\n",
       "      <th>number</th>\n",
       "      <th>date</th>\n",
       "      <th>type</th>\n",
       "      <th>measurement</th>\n",
       "      <th>row</th>\n",
       "      <th>column</th>\n",
       "      <th>plate</th>\n",
       "      <th>rep</th>\n",
       "      <th>strain</th>\n",
       "      <th>type.1</th>\n",
       "      <th>day</th>\n",
       "      <th>score</th>\n",
       "      <th>Area</th>\n",
       "      <th>Mean</th>\n",
       "      <th>Mode</th>\n",
       "      <th>Min</th>\n",
       "      <th>Max</th>\n",
       "      <th>Rep</th>\n",
       "      <th>Nrep</th>\n",
       "      <th>Nmea</th>\n",
       "    </tr>\n",
       "  </thead>\n",
       "  <tbody>\n",
       "    <tr>\n",
       "      <th>971</th>\n",
       "      <td>54</td>\n",
       "      <td>Jun172019</td>\n",
       "      <td>sample</td>\n",
       "      <td>measure1</td>\n",
       "      <td>e</td>\n",
       "      <td>6.0</td>\n",
       "      <td>qtl2</td>\n",
       "      <td>qtl2a</td>\n",
       "      <td>XL280a</td>\n",
       "      <td>parent</td>\n",
       "      <td>3</td>\n",
       "      <td>DM</td>\n",
       "      <td>9.33E-04</td>\n",
       "      <td>4204.655</td>\n",
       "      <td>4677</td>\n",
       "      <td>2389</td>\n",
       "      <td>6013</td>\n",
       "      <td>a</td>\n",
       "      <td>0</td>\n",
       "      <td>0</td>\n",
       "    </tr>\n",
       "    <tr>\n",
       "      <th>1073</th>\n",
       "      <td>54</td>\n",
       "      <td>Jun172019</td>\n",
       "      <td>sample</td>\n",
       "      <td>measure2</td>\n",
       "      <td>e</td>\n",
       "      <td>6.0</td>\n",
       "      <td>qtl2</td>\n",
       "      <td>qtl2a</td>\n",
       "      <td>XL280a</td>\n",
       "      <td>parent</td>\n",
       "      <td>3</td>\n",
       "      <td>DM</td>\n",
       "      <td>0.002</td>\n",
       "      <td>4872.913</td>\n",
       "      <td>4677</td>\n",
       "      <td>2389</td>\n",
       "      <td>21822</td>\n",
       "      <td>a</td>\n",
       "      <td>0</td>\n",
       "      <td>1</td>\n",
       "    </tr>\n",
       "    <tr>\n",
       "      <th>1175</th>\n",
       "      <td>54</td>\n",
       "      <td>Jun172019</td>\n",
       "      <td>sample</td>\n",
       "      <td>measure3</td>\n",
       "      <td>e</td>\n",
       "      <td>6.0</td>\n",
       "      <td>qtl2</td>\n",
       "      <td>qtl2a</td>\n",
       "      <td>XL280a</td>\n",
       "      <td>parent</td>\n",
       "      <td>3</td>\n",
       "      <td>DM</td>\n",
       "      <td>0.002</td>\n",
       "      <td>6348.425</td>\n",
       "      <td>4677</td>\n",
       "      <td>2389</td>\n",
       "      <td>29033</td>\n",
       "      <td>a</td>\n",
       "      <td>0</td>\n",
       "      <td>2</td>\n",
       "    </tr>\n",
       "    <tr>\n",
       "      <th>1277</th>\n",
       "      <td>54</td>\n",
       "      <td>Jun172019</td>\n",
       "      <td>sample</td>\n",
       "      <td>measure1</td>\n",
       "      <td>e</td>\n",
       "      <td>6.0</td>\n",
       "      <td>qtl2</td>\n",
       "      <td>qtl2b</td>\n",
       "      <td>XL280a</td>\n",
       "      <td>parent</td>\n",
       "      <td>3</td>\n",
       "      <td>DM</td>\n",
       "      <td>0.002</td>\n",
       "      <td>8742.472</td>\n",
       "      <td>6332</td>\n",
       "      <td>4647</td>\n",
       "      <td>29556</td>\n",
       "      <td>b</td>\n",
       "      <td>1</td>\n",
       "      <td>0</td>\n",
       "    </tr>\n",
       "    <tr>\n",
       "      <th>1379</th>\n",
       "      <td>54</td>\n",
       "      <td>Jun172019</td>\n",
       "      <td>sample</td>\n",
       "      <td>measure2</td>\n",
       "      <td>e</td>\n",
       "      <td>6.0</td>\n",
       "      <td>qtl2</td>\n",
       "      <td>qtl2b</td>\n",
       "      <td>XL280a</td>\n",
       "      <td>parent</td>\n",
       "      <td>3</td>\n",
       "      <td>DM</td>\n",
       "      <td>0.002</td>\n",
       "      <td>6405.857</td>\n",
       "      <td>6332</td>\n",
       "      <td>5154</td>\n",
       "      <td>7610</td>\n",
       "      <td>b</td>\n",
       "      <td>1</td>\n",
       "      <td>1</td>\n",
       "    </tr>\n",
       "    <tr>\n",
       "      <th>1481</th>\n",
       "      <td>54</td>\n",
       "      <td>Jun172019</td>\n",
       "      <td>sample</td>\n",
       "      <td>measure3</td>\n",
       "      <td>e</td>\n",
       "      <td>6.0</td>\n",
       "      <td>qtl2</td>\n",
       "      <td>qtl2b</td>\n",
       "      <td>XL280a</td>\n",
       "      <td>parent</td>\n",
       "      <td>3</td>\n",
       "      <td>DM</td>\n",
       "      <td>0.001</td>\n",
       "      <td>6400.523</td>\n",
       "      <td>6496</td>\n",
       "      <td>5154</td>\n",
       "      <td>7915</td>\n",
       "      <td>b</td>\n",
       "      <td>1</td>\n",
       "      <td>2</td>\n",
       "    </tr>\n",
       "    <tr>\n",
       "      <th>1583</th>\n",
       "      <td>54</td>\n",
       "      <td>Jun172019</td>\n",
       "      <td>sample</td>\n",
       "      <td>measure1</td>\n",
       "      <td>e</td>\n",
       "      <td>6.0</td>\n",
       "      <td>qtl2</td>\n",
       "      <td>qtl2c</td>\n",
       "      <td>XL280a</td>\n",
       "      <td>parent</td>\n",
       "      <td>3</td>\n",
       "      <td>DM</td>\n",
       "      <td>0.001</td>\n",
       "      <td>7283.629</td>\n",
       "      <td>5188</td>\n",
       "      <td>3586</td>\n",
       "      <td>24438</td>\n",
       "      <td>c</td>\n",
       "      <td>2</td>\n",
       "      <td>0</td>\n",
       "    </tr>\n",
       "    <tr>\n",
       "      <th>1685</th>\n",
       "      <td>54</td>\n",
       "      <td>Jun172019</td>\n",
       "      <td>sample</td>\n",
       "      <td>measure2</td>\n",
       "      <td>e</td>\n",
       "      <td>6.0</td>\n",
       "      <td>qtl2</td>\n",
       "      <td>qtl2c</td>\n",
       "      <td>XL280a</td>\n",
       "      <td>parent</td>\n",
       "      <td>3</td>\n",
       "      <td>DM</td>\n",
       "      <td>0.003</td>\n",
       "      <td>10247.281</td>\n",
       "      <td>5836</td>\n",
       "      <td>3586</td>\n",
       "      <td>30039</td>\n",
       "      <td>c</td>\n",
       "      <td>2</td>\n",
       "      <td>1</td>\n",
       "    </tr>\n",
       "    <tr>\n",
       "      <th>1787</th>\n",
       "      <td>54</td>\n",
       "      <td>Jun172019</td>\n",
       "      <td>sample</td>\n",
       "      <td>measure3</td>\n",
       "      <td>e</td>\n",
       "      <td>6.0</td>\n",
       "      <td>qtl2</td>\n",
       "      <td>qtl2c</td>\n",
       "      <td>XL280a</td>\n",
       "      <td>parent</td>\n",
       "      <td>3</td>\n",
       "      <td>DM</td>\n",
       "      <td>0.002</td>\n",
       "      <td>9509.913</td>\n",
       "      <td>5184</td>\n",
       "      <td>5184</td>\n",
       "      <td>27247</td>\n",
       "      <td>c</td>\n",
       "      <td>2</td>\n",
       "      <td>2</td>\n",
       "    </tr>\n",
       "  </tbody>\n",
       "</table>\n",
       "</div>"
      ],
      "text/plain": [
       "      number       date    type measurement row  column plate    rep  strain  \\\n",
       "971       54  Jun172019  sample    measure1   e     6.0  qtl2  qtl2a  XL280a   \n",
       "1073      54  Jun172019  sample    measure2   e     6.0  qtl2  qtl2a  XL280a   \n",
       "1175      54  Jun172019  sample    measure3   e     6.0  qtl2  qtl2a  XL280a   \n",
       "1277      54  Jun172019  sample    measure1   e     6.0  qtl2  qtl2b  XL280a   \n",
       "1379      54  Jun172019  sample    measure2   e     6.0  qtl2  qtl2b  XL280a   \n",
       "1481      54  Jun172019  sample    measure3   e     6.0  qtl2  qtl2b  XL280a   \n",
       "1583      54  Jun172019  sample    measure1   e     6.0  qtl2  qtl2c  XL280a   \n",
       "1685      54  Jun172019  sample    measure2   e     6.0  qtl2  qtl2c  XL280a   \n",
       "1787      54  Jun172019  sample    measure3   e     6.0  qtl2  qtl2c  XL280a   \n",
       "\n",
       "      type.1  day score      Area       Mean  Mode   Min    Max Rep  Nrep  \\\n",
       "971   parent    3    DM  9.33E-04   4204.655  4677  2389   6013   a     0   \n",
       "1073  parent    3    DM     0.002   4872.913  4677  2389  21822   a     0   \n",
       "1175  parent    3    DM     0.002   6348.425  4677  2389  29033   a     0   \n",
       "1277  parent    3    DM     0.002   8742.472  6332  4647  29556   b     1   \n",
       "1379  parent    3    DM     0.002   6405.857  6332  5154   7610   b     1   \n",
       "1481  parent    3    DM     0.001   6400.523  6496  5154   7915   b     1   \n",
       "1583  parent    3    DM     0.001   7283.629  5188  3586  24438   c     2   \n",
       "1685  parent    3    DM     0.003  10247.281  5836  3586  30039   c     2   \n",
       "1787  parent    3    DM     0.002   9509.913  5184  5184  27247   c     2   \n",
       "\n",
       "      Nmea  \n",
       "971      0  \n",
       "1073     1  \n",
       "1175     2  \n",
       "1277     0  \n",
       "1379     1  \n",
       "1481     2  \n",
       "1583     0  \n",
       "1685     1  \n",
       "1787     2  "
      ]
     },
     "execution_count": 24,
     "metadata": {},
     "output_type": "execute_result"
    }
   ],
   "source": [
    "debra[(debra.strain=='XL280a')]"
   ]
  },
  {
   "cell_type": "code",
   "execution_count": 52,
   "metadata": {},
   "outputs": [],
   "source": [
    "ps1_to_expand = pd.DataFrame([(s[0],s[1]['row'].unique()[0],\n",
    "                     s[1]['column'].unique()[0],\n",
    "                     [r[1]['Mean'].values\n",
    "                 for r in s[1].groupby('rep')]) \n",
    "        for s in debra[(debra.plate=='qtl1')].groupby(['strain'])],\n",
    "                  columns=['oldstrain','row','column','Melanin'])\n",
    "ps1_to_expand['plate'] = 1"
   ]
  },
  {
   "cell_type": "code",
   "execution_count": 122,
   "metadata": {},
   "outputs": [],
   "source": [
    "ps1 = pd.DataFrame([(s[0],s[1]['row'].unique()[0],\n",
    "                     s[1]['column'].unique()[0],\n",
    "                     np.mean([r[1]['Mean'].median() \n",
    "                 for  r in s[1].groupby('rep')])) \n",
    "        for s in \n",
    "        debra[(debra.plate=='qtl1')].groupby(['strain'])],\n",
    "                  columns=['oldstrain','row','column','Melanin'])\n",
    "ps1['plate'] = 1\n",
    "ps2 = pd.DataFrame([(s[0],s[1]['row'].unique()[0],\n",
    "                     s[1]['column'].unique()[0],\n",
    "                     np.mean([r[1]['Mean'].median() \n",
    "                 for  r in s[1].groupby('rep')])) \n",
    "        for s in \n",
    "        debra[(debra.plate=='qtl2')].groupby(['strain'])],\n",
    "                  columns=['oldstrain','row','column','Melanin'])\n",
    "ps2['plate'] = 2"
   ]
  },
  {
   "cell_type": "code",
   "execution_count": 123,
   "metadata": {},
   "outputs": [
    {
     "data": {
      "text/html": [
       "<div>\n",
       "<style scoped>\n",
       "    .dataframe tbody tr th:only-of-type {\n",
       "        vertical-align: middle;\n",
       "    }\n",
       "\n",
       "    .dataframe tbody tr th {\n",
       "        vertical-align: top;\n",
       "    }\n",
       "\n",
       "    .dataframe thead th {\n",
       "        text-align: right;\n",
       "    }\n",
       "</style>\n",
       "<table border=\"1\" class=\"dataframe\">\n",
       "  <thead>\n",
       "    <tr style=\"text-align: right;\">\n",
       "      <th></th>\n",
       "      <th>Row</th>\n",
       "      <th>Column</th>\n",
       "      <th>Plate</th>\n",
       "      <th>Nrep</th>\n",
       "      <th>Nmea</th>\n",
       "      <th>Mean</th>\n",
       "      <th>Oldstrain</th>\n",
       "    </tr>\n",
       "  </thead>\n",
       "  <tbody>\n",
       "    <tr>\n",
       "      <th>1378</th>\n",
       "      <td>e</td>\n",
       "      <td>5.0</td>\n",
       "      <td>qtl2</td>\n",
       "      <td>1</td>\n",
       "      <td>1</td>\n",
       "      <td>18406.408</td>\n",
       "      <td>XL280alpha</td>\n",
       "    </tr>\n",
       "    <tr>\n",
       "      <th>1480</th>\n",
       "      <td>e</td>\n",
       "      <td>5.0</td>\n",
       "      <td>qtl2</td>\n",
       "      <td>1</td>\n",
       "      <td>2</td>\n",
       "      <td>18348.560</td>\n",
       "      <td>XL280alpha</td>\n",
       "    </tr>\n",
       "    <tr>\n",
       "      <th>1582</th>\n",
       "      <td>e</td>\n",
       "      <td>5.0</td>\n",
       "      <td>qtl2</td>\n",
       "      <td>2</td>\n",
       "      <td>0</td>\n",
       "      <td>18688.913</td>\n",
       "      <td>XL280alpha</td>\n",
       "    </tr>\n",
       "    <tr>\n",
       "      <th>1684</th>\n",
       "      <td>e</td>\n",
       "      <td>5.0</td>\n",
       "      <td>qtl2</td>\n",
       "      <td>2</td>\n",
       "      <td>1</td>\n",
       "      <td>17991.749</td>\n",
       "      <td>XL280alpha</td>\n",
       "    </tr>\n",
       "    <tr>\n",
       "      <th>1786</th>\n",
       "      <td>e</td>\n",
       "      <td>5.0</td>\n",
       "      <td>qtl2</td>\n",
       "      <td>2</td>\n",
       "      <td>2</td>\n",
       "      <td>18976.483</td>\n",
       "      <td>XL280alpha</td>\n",
       "    </tr>\n",
       "  </tbody>\n",
       "</table>\n",
       "</div>"
      ],
      "text/plain": [
       "     Row  Column Plate  Nrep  Nmea       Mean   Oldstrain\n",
       "1378   e     5.0  qtl2     1     1  18406.408  XL280alpha\n",
       "1480   e     5.0  qtl2     1     2  18348.560  XL280alpha\n",
       "1582   e     5.0  qtl2     2     0  18688.913  XL280alpha\n",
       "1684   e     5.0  qtl2     2     1  17991.749  XL280alpha\n",
       "1786   e     5.0  qtl2     2     2  18976.483  XL280alpha"
      ]
     },
     "execution_count": 123,
     "metadata": {},
     "output_type": "execute_result"
    }
   ],
   "source": [
    "temp = debra[['row','column','plate','Nrep',\n",
    "              'Nmea','Mean','strain']].sort_values(['strain','Nrep','Nmea']).copy()\n",
    "temp.columns = [c.capitalize() for c in temp.columns[:-1]]+['Oldstrain']\n",
    "temp.tail()"
   ]
  },
  {
   "cell_type": "code",
   "execution_count": 124,
   "metadata": {},
   "outputs": [],
   "source": [
    "paul_qtl2_rep1 = paul[(paul.plate=='qtl2') & \n",
    "                 (paul.replicate==1)\n",
    "                     ].sort_values('strain')[\n",
    "               ['row','column','strain']]\n",
    "paul_qtl2_rep1.columns = [c.capitalize() for c in paul_qtl2_rep1.columns]\n",
    "g\n",
    "\n",
    "paul_qtl1_rep1 = paul[(paul.plate=='qtl1') & \n",
    "                 (paul.replicate==1)\n",
    "                     ].sort_values('strain')[\n",
    "               ['row','column','strain']]\n",
    "paul_qtl1_rep1.columns = [c.capitalize() for c in paul_qtl1_rep1.columns]"
   ]
  },
  {
   "cell_type": "code",
   "execution_count": 125,
   "metadata": {},
   "outputs": [],
   "source": [
    "test = temp[(temp.Plate=='qtl1')].merge(paul_qtl2_rep1)"
   ]
  },
  {
   "cell_type": "code",
   "execution_count": 126,
   "metadata": {},
   "outputs": [
    {
     "data": {
      "text/html": [
       "<div>\n",
       "<style scoped>\n",
       "    .dataframe tbody tr th:only-of-type {\n",
       "        vertical-align: middle;\n",
       "    }\n",
       "\n",
       "    .dataframe tbody tr th {\n",
       "        vertical-align: top;\n",
       "    }\n",
       "\n",
       "    .dataframe thead th {\n",
       "        text-align: right;\n",
       "    }\n",
       "</style>\n",
       "<table border=\"1\" class=\"dataframe\">\n",
       "  <thead>\n",
       "    <tr style=\"text-align: right;\">\n",
       "      <th></th>\n",
       "      <th>Nrep</th>\n",
       "      <th>Column</th>\n",
       "      <th>Nmea</th>\n",
       "      <th>Mean</th>\n",
       "    </tr>\n",
       "    <tr>\n",
       "      <th>Strain</th>\n",
       "      <th></th>\n",
       "      <th></th>\n",
       "      <th></th>\n",
       "      <th></th>\n",
       "    </tr>\n",
       "  </thead>\n",
       "  <tbody>\n",
       "    <tr>\n",
       "      <th>SS-A837</th>\n",
       "      <td>1</td>\n",
       "      <td>7.0</td>\n",
       "      <td>1</td>\n",
       "      <td>11169.802000</td>\n",
       "    </tr>\n",
       "    <tr>\n",
       "      <th>SS-B307</th>\n",
       "      <td>1</td>\n",
       "      <td>2.0</td>\n",
       "      <td>1</td>\n",
       "      <td>12310.311000</td>\n",
       "    </tr>\n",
       "    <tr>\n",
       "      <th>SS-B308</th>\n",
       "      <td>1</td>\n",
       "      <td>3.0</td>\n",
       "      <td>1</td>\n",
       "      <td>15060.323333</td>\n",
       "    </tr>\n",
       "    <tr>\n",
       "      <th>SS-B310</th>\n",
       "      <td>1</td>\n",
       "      <td>4.0</td>\n",
       "      <td>1</td>\n",
       "      <td>12255.142667</td>\n",
       "    </tr>\n",
       "    <tr>\n",
       "      <th>SS-B311</th>\n",
       "      <td>1</td>\n",
       "      <td>5.0</td>\n",
       "      <td>1</td>\n",
       "      <td>14045.272333</td>\n",
       "    </tr>\n",
       "  </tbody>\n",
       "</table>\n",
       "</div>"
      ],
      "text/plain": [
       "         Nrep  Column  Nmea          Mean\n",
       "Strain                                   \n",
       "SS-A837     1     7.0     1  11169.802000\n",
       "SS-B307     1     2.0     1  12310.311000\n",
       "SS-B308     1     3.0     1  15060.323333\n",
       "SS-B310     1     4.0     1  12255.142667\n",
       "SS-B311     1     5.0     1  14045.272333"
      ]
     },
     "execution_count": 126,
     "metadata": {},
     "output_type": "execute_result"
    }
   ],
   "source": [
    "test.groupby(['Strain','Nrep']\n",
    "            ).aggregate('median').reset_index().groupby(\n",
    "    'Strain').aggregate('mean').head()"
   ]
  },
  {
   "cell_type": "code",
   "execution_count": 129,
   "metadata": {},
   "outputs": [],
   "source": [
    "ps1u = ps1.merge(paul[(paul.plate=='qtl2')&(paul.replicate==1)][\n",
    "    ['row','column','strain']]).sort_values('strain')\n",
    "ps2u = ps2.merge(paul[(paul.plate=='qtl1')&(paul.replicate==1)][\n",
    "    ['row','column','strain']]).sort_values('strain')"
   ]
  },
  {
   "cell_type": "code",
   "execution_count": 131,
   "metadata": {},
   "outputs": [
    {
     "data": {
      "text/html": [
       "<div>\n",
       "<style scoped>\n",
       "    .dataframe tbody tr th:only-of-type {\n",
       "        vertical-align: middle;\n",
       "    }\n",
       "\n",
       "    .dataframe tbody tr th {\n",
       "        vertical-align: top;\n",
       "    }\n",
       "\n",
       "    .dataframe thead th {\n",
       "        text-align: right;\n",
       "    }\n",
       "</style>\n",
       "<table border=\"1\" class=\"dataframe\">\n",
       "  <thead>\n",
       "    <tr style=\"text-align: right;\">\n",
       "      <th></th>\n",
       "      <th>oldstrain</th>\n",
       "      <th>row</th>\n",
       "      <th>column</th>\n",
       "      <th>Melanin</th>\n",
       "      <th>plate</th>\n",
       "      <th>strain</th>\n",
       "    </tr>\n",
       "  </thead>\n",
       "  <tbody>\n",
       "    <tr>\n",
       "      <th>36</th>\n",
       "      <td>SS-B869_cor</td>\n",
       "      <td>e</td>\n",
       "      <td>7.0</td>\n",
       "      <td>11169.802000</td>\n",
       "      <td>1</td>\n",
       "      <td>SS-A837</td>\n",
       "    </tr>\n",
       "    <tr>\n",
       "      <th>0</th>\n",
       "      <td>SS-B357</td>\n",
       "      <td>b</td>\n",
       "      <td>2.0</td>\n",
       "      <td>12310.311000</td>\n",
       "      <td>1</td>\n",
       "      <td>SS-B307</td>\n",
       "    </tr>\n",
       "    <tr>\n",
       "      <th>1</th>\n",
       "      <td>SS-B360</td>\n",
       "      <td>b</td>\n",
       "      <td>3.0</td>\n",
       "      <td>15060.323333</td>\n",
       "      <td>1</td>\n",
       "      <td>SS-B308</td>\n",
       "    </tr>\n",
       "    <tr>\n",
       "      <th>2</th>\n",
       "      <td>SS-B364</td>\n",
       "      <td>b</td>\n",
       "      <td>4.0</td>\n",
       "      <td>12255.142667</td>\n",
       "      <td>1</td>\n",
       "      <td>SS-B310</td>\n",
       "    </tr>\n",
       "    <tr>\n",
       "      <th>3</th>\n",
       "      <td>SS-B366</td>\n",
       "      <td>b</td>\n",
       "      <td>5.0</td>\n",
       "      <td>14045.272333</td>\n",
       "      <td>1</td>\n",
       "      <td>SS-B311</td>\n",
       "    </tr>\n",
       "  </tbody>\n",
       "</table>\n",
       "</div>"
      ],
      "text/plain": [
       "      oldstrain row  column       Melanin  plate   strain\n",
       "36  SS-B869_cor   e     7.0  11169.802000      1  SS-A837\n",
       "0       SS-B357   b     2.0  12310.311000      1  SS-B307\n",
       "1       SS-B360   b     3.0  15060.323333      1  SS-B308\n",
       "2       SS-B364   b     4.0  12255.142667      1  SS-B310\n",
       "3       SS-B366   b     5.0  14045.272333      1  SS-B311"
      ]
     },
     "execution_count": 131,
     "metadata": {},
     "output_type": "execute_result"
    }
   ],
   "source": [
    "ps1u.head()"
   ]
  },
  {
   "cell_type": "code",
   "execution_count": null,
   "metadata": {},
   "outputs": [],
   "source": [
    "ps1u.shape"
   ]
  },
  {
   "cell_type": "code",
   "execution_count": null,
   "metadata": {},
   "outputs": [],
   "source": [
    "ps2u.head()"
   ]
  },
  {
   "cell_type": "code",
   "execution_count": null,
   "metadata": {},
   "outputs": [],
   "source": [
    "ps = pd.concat([ps1u,ps2u])\n",
    "ps.index = ps.strain"
   ]
  },
  {
   "cell_type": "code",
   "execution_count": null,
   "metadata": {},
   "outputs": [],
   "source": [
    "ps.head()"
   ]
  },
  {
   "cell_type": "code",
   "execution_count": null,
   "metadata": {},
   "outputs": [],
   "source": [
    "r1 = paul[(paul.replicate==1)][\n",
    "    ['strain','mean_grey']]\n",
    "r1.index = r1['strain']"
   ]
  },
  {
   "cell_type": "code",
   "execution_count": null,
   "metadata": {},
   "outputs": [],
   "source": [
    "dup_str = [s for s \n",
    "           in ps.strain.tolist() if \n",
    "           ps[(ps.strain==s)].shape[0]>1]"
   ]
  },
  {
   "cell_type": "code",
   "execution_count": null,
   "metadata": {},
   "outputs": [],
   "source": [
    "dup_str"
   ]
  },
  {
   "cell_type": "code",
   "execution_count": null,
   "metadata": {},
   "outputs": [],
   "source": [
    "ps[(ps.strain.isin(dup_str))]"
   ]
  },
  {
   "cell_type": "code",
   "execution_count": null,
   "metadata": {},
   "outputs": [],
   "source": [
    "ps[(ps.strain=='SS-A837')]"
   ]
  },
  {
   "cell_type": "code",
   "execution_count": null,
   "metadata": {},
   "outputs": [],
   "source": [
    "## Check our work\n",
    "plt.plot(r1.T[segs].T['mean_grey'],ps.T[segs].T['Melanin'],'.');"
   ]
  },
  {
   "cell_type": "code",
   "execution_count": null,
   "metadata": {},
   "outputs": [],
   "source": [
    "ps.reset_index(drop=True,inplace=True)\n",
    "melanin = ps.groupby('strain').aggregate('mean')"
   ]
  },
  {
   "cell_type": "code",
   "execution_count": null,
   "metadata": {},
   "outputs": [],
   "source": [
    "ps.head()"
   ]
  },
  {
   "cell_type": "code",
   "execution_count": null,
   "metadata": {},
   "outputs": [],
   "source": [
    "ps.shape"
   ]
  },
  {
   "cell_type": "code",
   "execution_count": null,
   "metadata": {},
   "outputs": [],
   "source": [
    "ps[['row','column','Melanin','plate','strain']].to_csv(\n",
    "    '/home/croth/Desktop/Cdx_melanin.csv',index=None)"
   ]
  },
  {
   "cell_type": "code",
   "execution_count": null,
   "metadata": {},
   "outputs": [],
   "source": [
    "ps.groupby('strain').count()"
   ]
  },
  {
   "cell_type": "code",
   "execution_count": null,
   "metadata": {},
   "outputs": [],
   "source": [
    "melanin.to_csv('/home/croth/Desktop/Cdx_melanin_cor.csv',index=True)"
   ]
  },
  {
   "cell_type": "code",
   "execution_count": null,
   "metadata": {},
   "outputs": [],
   "source": [
    "melanin.shape"
   ]
  },
  {
   "cell_type": "code",
   "execution_count": null,
   "metadata": {},
   "outputs": [],
   "source": [
    "melanin.head()"
   ]
  },
  {
   "cell_type": "code",
   "execution_count": null,
   "metadata": {},
   "outputs": [],
   "source": [
    "assert 1 == 0"
   ]
  },
  {
   "cell_type": "code",
   "execution_count": null,
   "metadata": {},
   "outputs": [],
   "source": [
    "#pval=gv.loc[loci][segs].apply(\n",
    "#                association_logPval,\n",
    "#                args=[melanin['Melanin'][segs]],axis=1)\n",
    "\n",
    "\n",
    "test = gv[segs].drop_duplicates()\n",
    "test['Melanin'] = test.apply(association_logPval,args=[melanin['Melanin'][segs]],axis=1)\n",
    "pval_df = gv.merge(test)"
   ]
  },
  {
   "cell_type": "code",
   "execution_count": null,
   "metadata": {},
   "outputs": [],
   "source": [
    "nperms = 10000\n",
    "perm_path = '/home/croth/Melanin_MI_QTL_perms_%s.csv'%(nperms)\n",
    "if os.path.exists(perm_path):\n",
    "    perms = np.concatenate(\n",
    "        pd.read_csv(perm_path,header=None).values)\n",
    "else:\n",
    "    perms = []\n",
    "    for i in range(nperms):\n",
    "        pheno = pd.Series(np.random.permutation(melanin['Melanin'][segs]),\n",
    "                          index=segs)\n",
    "        \n",
    "        maxpval = np.max(gv.loc[loci][segs].apply(\n",
    "                    association_logPval,args=[pheno[segs]],axis=1))\n",
    "        \n",
    "        perms.append(maxpval)\n",
    "        \n",
    "    open(perm_path,'w'\n",
    "        ).writelines('\\n'.join(np.array(perms,dtype='str')))\n",
    "    perms = np.array(perms)"
   ]
  },
  {
   "cell_type": "code",
   "execution_count": null,
   "metadata": {},
   "outputs": [],
   "source": [
    "perms.shape"
   ]
  },
  {
   "cell_type": "code",
   "execution_count": null,
   "metadata": {},
   "outputs": [],
   "source": [
    "plt.hist(perms,alpha=0.2);\n",
    "plt.vlines(np.percentile(perms,99),\n",
    "           0,len(perms)/100,linestyle='--',color='r');"
   ]
  },
  {
   "cell_type": "code",
   "execution_count": null,
   "metadata": {},
   "outputs": [],
   "source": [
    "np.percentile(perms,99)"
   ]
  },
  {
   "cell_type": "code",
   "execution_count": null,
   "metadata": {},
   "outputs": [],
   "source": [
    "np.percentile(perms,95)"
   ]
  },
  {
   "cell_type": "code",
   "execution_count": null,
   "metadata": {},
   "outputs": [],
   "source": [
    "#pval_df = gv.T[loci].T[['Chrom','Pos']]\n",
    "#pval_df['Melanin'] = pval\n",
    "#pval_df.head()"
   ]
  },
  {
   "cell_type": "code",
   "execution_count": null,
   "metadata": {},
   "outputs": [],
   "source": [
    "chrlist = sorted(pval_df.Chrom.unique())\n",
    "chrlens = np.array([pval_df[(pval_df.Chrom==c)].Pos.max() \n",
    "           for c in chrlist])\n",
    "cumpos = np.array([0] + list(np.cumsum(chrlens[:-1])))\n",
    "cummax = cumpos[-1] + pval_df[(pval_df.Chrom=='Chr14')].Pos.max()\n",
    "chrmid = (chrlens/2) + cumpos"
   ]
  },
  {
   "cell_type": "code",
   "execution_count": null,
   "metadata": {},
   "outputs": [],
   "source": [
    "fig,ax = plt.subplots(1,1,figsize=(10,3));\n",
    "for c in chrlist:\n",
    "    i = int(c[3:])-1\n",
    "    temp = pval_df[(pval_df.Chrom==c)]\n",
    "    plt.plot(temp.Pos+cumpos[i],temp['Melanin'],'.',\n",
    "             color='k' if i%2==0 else 'grey',\n",
    "             alpha = 0.5)\n",
    "plt.xticks(chrmid,np.arange(len(chrlist))+1);\n",
    "plt.ylabel(\"$-log_{10}(p-value)$\",fontsize=14);\n",
    "plt.xlabel('Chromosomes',fontsize=14);\n",
    "plt.hlines(4.93,0,temp.Pos.max()+np.max(cumpos),linestyles='--',color='r')\n",
    "#plt.savefig('./Melanin_Manhattan_switched.png',\n",
    "#           dpi=150,bbox_inches='tight');"
   ]
  },
  {
   "cell_type": "code",
   "execution_count": null,
   "metadata": {},
   "outputs": [],
   "source": [
    "pval_df.to_csv('/home/croth/Melanin_QTL_pvalues.csv',index=True)"
   ]
  },
  {
   "cell_type": "code",
   "execution_count": null,
   "metadata": {},
   "outputs": [],
   "source": [
    "pval_df.head()"
   ]
  },
  {
   "cell_type": "code",
   "execution_count": null,
   "metadata": {},
   "outputs": [],
   "source": [
    "qtlix = pval_df['Melanin'].idxmax()"
   ]
  },
  {
   "cell_type": "code",
   "execution_count": null,
   "metadata": {},
   "outputs": [],
   "source": [
    "qtlix"
   ]
  },
  {
   "cell_type": "code",
   "execution_count": null,
   "metadata": {},
   "outputs": [],
   "source": [
    "qtlplot = pd.DataFrame([gv.T[qtlix].T[segs],melanin.T[segs].T['Melanin']]).T\n",
    "qtlplot.columns = ['QTL','Melanin']\n",
    "#qtlplot['LMelanin'] = 1/np.log10(qtlplot.Melanin.values)"
   ]
  },
  {
   "cell_type": "code",
   "execution_count": null,
   "metadata": {},
   "outputs": [],
   "source": [
    "qtlplot.T[['XL280a','XL280alpha','SS-A837']].T[['QTL','Melanin']]"
   ]
  },
  {
   "cell_type": "code",
   "execution_count": null,
   "metadata": {},
   "outputs": [],
   "source": [
    "qtlplot.to_csv('/home/croth/Melanin_Phenotypes.csv',index=True)"
   ]
  },
  {
   "cell_type": "code",
   "execution_count": null,
   "metadata": {},
   "outputs": [],
   "source": [
    "from matplotlib.gridspec import GridSpec\n",
    "import statsmodels.formula.api as smf"
   ]
  },
  {
   "cell_type": "code",
   "execution_count": null,
   "metadata": {},
   "outputs": [],
   "source": [
    "mod = smf.ols(formula='Melanin~QTL', data=qtlplot)\n",
    "res = mod.fit()"
   ]
  },
  {
   "cell_type": "code",
   "execution_count": null,
   "metadata": {},
   "outputs": [],
   "source": [
    "res.rsquared"
   ]
  },
  {
   "cell_type": "code",
   "execution_count": null,
   "metadata": {},
   "outputs": [],
   "source": [
    "qtlsgv = pd.read_csv('/home/croth/Downloads/Cdx-QTL-gvs.csv',index_col=0)"
   ]
  },
  {
   "cell_type": "code",
   "execution_count": null,
   "metadata": {},
   "outputs": [],
   "source": [
    "qtlsgv.head()"
   ]
  },
  {
   "cell_type": "code",
   "execution_count": null,
   "metadata": {},
   "outputs": [],
   "source": [
    "qtlplot[gv.T[np.array(qtlsgv.columns.values,dtype=int)].T['Chrom'].tolist()] = qtlsgv.T[qtlplot.index].T"
   ]
  },
  {
   "cell_type": "code",
   "execution_count": null,
   "metadata": {},
   "outputs": [],
   "source": [
    "qtlplot[['QTL','Chr14']].diff(axis=1)['Chr14'].sum()"
   ]
  },
  {
   "cell_type": "code",
   "execution_count": null,
   "metadata": {},
   "outputs": [],
   "source": [
    "qtlplot.head()"
   ]
  },
  {
   "cell_type": "code",
   "execution_count": null,
   "metadata": {},
   "outputs": [],
   "source": [
    "sns.lmplot(x='QTL',y='Melanin',data = qtlplot,x_jitter=0.2,ci=True,hue='Chr11',\n",
    "           scatter_kws={'color':'k','alpha':0.0},legend_out=False,legend=False)\n",
    "            #line_kws={'color':'r','alpha':0.25})\n",
    "sns.swarmplot(x='QTL',y='Melanin',data=qtlplot,alpha=0.5,hue='Chr11')\n",
    "plt.plot(*qtlplot.T[['XL280a','XL280alpha','SS-A837']].T[['QTL','Melanin']].T.values,\n",
    "         '^',color='tab:blue',ms=6)\n",
    "plt.plot(*qtlplot.T['SS-A837'].T[['QTL','Melanin']].T.values,\n",
    "         '^',color='tab:orange',ms=6)\n",
    "plt.xticks([0,1],['XL280\\nor\\nXL280'+'\\u03B1','431'+'\\u03B1'],fontsize=14);"
   ]
  },
  {
   "cell_type": "code",
   "execution_count": null,
   "metadata": {},
   "outputs": [],
   "source": [
    "sns.lmplot(x='QTL',y='Melanin',data = qtlplot,x_jitter=0.2,ci=True,hue='Chr12',\n",
    "           scatter_kws={'color':'k','alpha':0.0},legend_out=False,legend=False)\n",
    "            #line_kws={'color':'r','alpha':0.25})\n",
    "sns.swarmplot(x='QTL',y='Melanin',data=qtlplot,alpha=0.5,hue='Chr12')\n",
    "plt.legend()\n",
    "plt.plot(*qtlplot.T[['XL280a','XL280alpha','SS-A837']].T[['QTL','Melanin']].T.values,\n",
    "         '^',color='tab:blue',ms=6)\n",
    "plt.plot(*qtlplot.T['SS-A837'].T[['QTL','Melanin']].T.values,\n",
    "         '^',color='tab:orange',ms=6)\n",
    "plt.xticks([0,1],['XL280\\nor\\nXL280'+'\\u03B1','431'+'\\u03B1'],fontsize=14);"
   ]
  },
  {
   "cell_type": "code",
   "execution_count": null,
   "metadata": {},
   "outputs": [],
   "source": [
    "qtlplot.groupby(['QTL','Chr12']).count()['Melanin']"
   ]
  },
  {
   "cell_type": "code",
   "execution_count": null,
   "metadata": {},
   "outputs": [],
   "source": [
    "qtlplot['Chr12'].sum()/qtlplot.shape[0]"
   ]
  },
  {
   "cell_type": "code",
   "execution_count": null,
   "metadata": {},
   "outputs": [],
   "source": [
    "smf.ols('Melanin~QTL + Chr12',data=qtlplot).fit().summary()"
   ]
  },
  {
   "cell_type": "code",
   "execution_count": null,
   "metadata": {},
   "outputs": [],
   "source": [
    "sns.lmplot(x='QTL',y='Melanin',data = qtlplot,x_jitter=0.2,ci=True,hue='Chr02',\n",
    "           scatter_kws={'color':'k','alpha':0.0},legend_out=False,legend=False)\n",
    "            #line_kws={'color':'r','alpha':0.25})\n",
    "sns.swarmplot(x='QTL',y='Melanin',data=qtlplot,alpha=0.5,hue='Chr02')\n",
    "plt.plot(*qtlplot.T[['XL280a','XL280alpha','SS-A837']].T[['QTL','Melanin']].T.values,\n",
    "         '^',color='tab:blue',ms=6)\n",
    "plt.plot(*qtlplot.T['SS-A837'].T[['QTL','Melanin']].T.values,\n",
    "         '^',color='tab:orange',ms=6)\n",
    "plt.xticks([0,1],['XL280\\nor\\nXL280'+'\\u03B1','431'+'\\u03B1'],fontsize=14);"
   ]
  },
  {
   "cell_type": "code",
   "execution_count": null,
   "metadata": {},
   "outputs": [],
   "source": [
    "sns.lmplot(x='QTL',y='Melanin',data = qtlplot,x_jitter=0.2,ci=False,\n",
    "           scatter_kws={'color':'k','alpha':0.0},\n",
    "            line_kws={'color':'r','alpha':0.25})\n",
    "sns.swarmplot(x='QTL',y='Melanin',data=qtlplot,alpha=0.2,color='k')\n",
    "plt.plot(*qtlplot.T[['XL280a','XL280alpha','SS-A837']].T[['QTL','Melanin']].T.values,\n",
    "         '^',color='tab:blue',ms=6)\n",
    "plt.plot(*qtlplot.T['SS-A837'].T[['QTL','Melanin']].T.values,\n",
    "         '^',color='tab:orange',ms=6)\n",
    "plt.xticks([0,1],['XL280\\nor\\nXL280'+'\\u03B1','431'+'\\u03B1'],fontsize=14);"
   ]
  },
  {
   "cell_type": "code",
   "execution_count": null,
   "metadata": {},
   "outputs": [],
   "source": [
    "#strain_n = strain_temp[:3]+['XL280'+'\\u03B1','XL280'+ r'$\\bf{a}$','431'+'\\u03B1']+[strain_temp[-1]]"
   ]
  },
  {
   "cell_type": "code",
   "execution_count": null,
   "metadata": {},
   "outputs": [],
   "source": [
    "from PIL import Image"
   ]
  },
  {
   "cell_type": "code",
   "execution_count": null,
   "metadata": {},
   "outputs": [],
   "source": [
    "#sns.set(style='ticks',context='talk')\n",
    "plt.style.use(['tableau-colorblind10'])\n",
    "#sns.set(font_scale=1)\n",
    "#sns.set(style='ticks',context='talk')"
   ]
  },
  {
   "cell_type": "code",
   "execution_count": null,
   "metadata": {},
   "outputs": [],
   "source": [
    "## Amphotericin B and thermal tolerance\n",
    "## Set phenotype data path\n",
    "file_path = '/home/croth/Desktop/Tecan_qtlruns_Jan162019_curated_baselined_median51.csv'\n",
    "## Bring in phenotype data\n",
    "df = pd.read_csv(file_path,index_col=0)\n",
    "dfcol = df.columns.tolist()\n",
    "time_ix = dfcol.index('6300s')\n",
    "times_ixs = dfcol[time_ix:]\n",
    "#df.index = df.strain\n",
    "df = df[(df.strain.isin(gv.columns)) & (df.temp!=38)]\n",
    "timex = [np.round(int(a[:-1])/(60**2),3) for a in times_ixs]\n",
    "dx = np.max(np.diff(timex))\n",
    "df.index = df.strain\n",
    "df.drop('strain',inplace=True,axis=1)\n",
    "df['AUC'] = df[times_ixs].sum(axis=1)*dx\n",
    "df.head()\n",
    "\n",
    "htg = df[(df.temp==39) & (df.amphB==0.0)][times_ixs]"
   ]
  },
  {
   "cell_type": "code",
   "execution_count": null,
   "metadata": {},
   "outputs": [],
   "source": [
    "assert df.index.unique().shape[0] == len(segs)"
   ]
  },
  {
   "cell_type": "code",
   "execution_count": null,
   "metadata": {},
   "outputs": [],
   "source": [
    "auc = htg.sum(axis=1).groupby(htg.index).median()*dx"
   ]
  },
  {
   "cell_type": "code",
   "execution_count": null,
   "metadata": {},
   "outputs": [],
   "source": [
    "test['HTG'] = test[segs].apply(association_logPval,args=[auc[segs].values],axis=1)\n",
    "pval_df = pval_df.merge(test)"
   ]
  },
  {
   "cell_type": "code",
   "execution_count": null,
   "metadata": {},
   "outputs": [],
   "source": [
    "pval_df.shape"
   ]
  },
  {
   "cell_type": "code",
   "execution_count": null,
   "metadata": {},
   "outputs": [],
   "source": [
    "def myminmax(x):\n",
    "    x = np.array(x)\n",
    "    return (x-x.min())/(x.max()-x.min())"
   ]
  },
  {
   "cell_type": "code",
   "execution_count": null,
   "metadata": {},
   "outputs": [],
   "source": [
    "melanin['HTG'] = auc[melanin.index]"
   ]
  },
  {
   "cell_type": "code",
   "execution_count": null,
   "metadata": {},
   "outputs": [],
   "source": [
    "ch14 = pval_df[(pval_df.Chrom=='Chr14')]\n",
    "kb = 1000"
   ]
  },
  {
   "cell_type": "code",
   "execution_count": null,
   "metadata": {},
   "outputs": [],
   "source": [
    "melanin.dropna(inplace=True)"
   ]
  },
  {
   "cell_type": "code",
   "execution_count": null,
   "metadata": {},
   "outputs": [],
   "source": [
    "melanin['QTL14'] = ch14.T[ch14.Melanin.idxmax()].T[melanin.index].apply(int)"
   ]
  },
  {
   "cell_type": "code",
   "execution_count": null,
   "metadata": {},
   "outputs": [],
   "source": [
    "pval_df.Melanin.max()"
   ]
  },
  {
   "cell_type": "code",
   "execution_count": null,
   "metadata": {},
   "outputs": [],
   "source": [
    "chrom_colors = ['tab:grey','tab:brown','lightgrey','salmon','tan']"
   ]
  },
  {
   "cell_type": "code",
   "execution_count": null,
   "metadata": {},
   "outputs": [],
   "source": [
    "results = smf.ols('Melanin~QTL',data=qtlplot).fit()\n",
    "results.summary()"
   ]
  },
  {
   "cell_type": "code",
   "execution_count": null,
   "metadata": {},
   "outputs": [],
   "source": [
    "mel_r_sq = np.round(results.rsquared,2)"
   ]
  },
  {
   "cell_type": "code",
   "execution_count": null,
   "metadata": {},
   "outputs": [],
   "source": [
    "width = 6.9\n",
    "height = 1.5\n",
    "fig = plt.figure(figsize=(width,height))\n",
    "gs = GridSpec(1, 4, figure=fig)\n",
    "ax0 = fig.add_subplot(gs[0, :-1])\n",
    "\n",
    "fs = 10\n",
    "plt.sca(ax0)\n",
    "ax0.spines['right'].set_visible(False)\n",
    "ax0.spines['top'].set_visible(False)\n",
    "for c in chrlist:\n",
    "    i = int(c[3:])-1\n",
    "    if c == 'Chr14':\n",
    "        cc = 'tab:blue'\n",
    "    else:\n",
    "        cc = chrom_colors[i%len(chrom_colors)]\n",
    "   \n",
    "    temp = pval_df[(pval_df.Chrom==c)]\n",
    "    plt.plot(temp.Pos+cumpos[i],temp['Melanin'].values,'.',\n",
    "             alpha = 0.25,markersize=1,color=cc,rasterized=True)\n",
    "    \n",
    "plt.xticks(chrmid,np.arange(len(chrlist))+1,fontsize=fs-2);\n",
    "plt.ylabel('$-\\log_{10}\\,(p-value)$',fontsize=fs);\n",
    "\n",
    "plt.xlabel('Chromosomes',fontsize=fs);\n",
    "plt.yticks(np.arange(0,16,2),fontsize=fs-2)\n",
    "plt.hlines(4.93,chrlens[0],19.1*(10**6),\n",
    "           linestyles='dashed',color='k',\n",
    "           alpha=0.9,linewidth=.8,rasterized=True);\n",
    "\n",
    "plt.text(s = r'$\\alpha$ = 0.01', x = 0.085,y= .42, \n",
    "         horizontalalignment='center',\n",
    "         verticalalignment='center', \n",
    "         transform=ax0.transAxes, fontsize=fs-2)\n",
    "\n",
    "plt.subplots_adjust(wspace=0.05)\n",
    "\n",
    "plt.sca(ax0)\n",
    "axs = fig.add_axes([0.305,1.50,.35,.1])\n",
    "plt.xticks([0.5],labels=['Representative F$_1$ Progeny'],fontsize=fs)\n",
    "plt.yticks([ ],labels=None)\n",
    "axs.spines['top'].set_visible(False) \n",
    "\n",
    "\n",
    "## Plot xl280a\n",
    "plt.sca(ax0)\n",
    "axm = fig.add_axes([0.09,1.52,0.15,.3])\n",
    "xl280a_path = '/home/croth/XL280a_LDOPA_day3_middle.png'\n",
    "xl280a_obj = Image.open(xl280a_path)\n",
    "plt.imshow(xl280a_obj,rasterized=True),# aspect='auto')\n",
    "plt.xticks([40],labels=['XL280'+ r'$\\bf{a}$'],fontsize=fs)\n",
    "plt.yticks([]);\n",
    "[axm.spines[a].set_visible(False) \n",
    " for a in ['top','bottom','left','right']]\n",
    "\n",
    "## Plot 431\n",
    "plt.sca(ax0)\n",
    "axm = fig.add_axes([0.16,1.52,0.15,.3])\n",
    "plt.yticks([]);\n",
    "A837_path = '/home/croth/SSA837_LDOPA_day3_middle.png'\n",
    "A837_obj = Image.open(A837_path)\n",
    "plt.imshow(A837_obj,rasterized=True),# aspect='auto')\n",
    "plt.xticks([40],labels=['431'+'$\\mathrm{\\u03B1}$'],fontsize=fs)\n",
    "[axm.spines[a].set_visible(False) \n",
    " for a in ['top','bottom','left','right']]\n",
    "\n",
    "\n",
    "plt.sca(ax0)\n",
    "## Plot S1\n",
    "axm = fig.add_axes([0.23,1.52,0.15,.3])\n",
    "plt.yticks([]);\n",
    "spath = '/home/croth/S2_LDOPA_day3_middle.png'\n",
    "sobj = Image.open(spath)\n",
    "plt.imshow(sobj,rasterized=True),# aspect='auto')\n",
    "plt.xticks([],labels=[])\n",
    "plt.axis('off')\n",
    "\n",
    "\n",
    "plt.sca(ax0)\n",
    "## Plot S1\n",
    "axm = fig.add_axes([0.30,1.52,0.15,.3])\n",
    "plt.yticks([]);\n",
    "spath = '/home/croth/S6_LDOPA_day3_middle.png' #'./S1_LDOPA_day3_middle.png'\n",
    "sobj = Image.open(spath)\n",
    "plt.imshow(sobj,rasterized=True),# aspect='auto')\n",
    "plt.xticks([],labels=[])\n",
    "plt.axis('off')\n",
    "\n",
    "\n",
    "plt.sca(ax0)\n",
    "## Plot S1\n",
    "axm = fig.add_axes([0.37,1.52,0.15,.3])\n",
    "plt.yticks([]);\n",
    "spath = '/home/croth/S1_LDOPA_day3_middle.png'#'./S3_LDOPA_day3_middle.png'\n",
    "sobj = Image.open(spath)\n",
    "plt.imshow(sobj,rasterized=True),# aspect='auto')\n",
    "plt.xticks([],labels=[])\n",
    "plt.axis('off')\n",
    "\n",
    "\n",
    "plt.sca(ax0)\n",
    "## Plot S4\n",
    "axm = fig.add_axes([0.44,1.52,0.15,.3])\n",
    "plt.yticks([]);\n",
    "spath = '/home/croth/S3_LDOPA_day3_middle.png'#'./S4_LDOPA_day3_middle.png'\n",
    "sobj = Image.open(spath)\n",
    "plt.imshow(sobj,rasterized=True),# aspect='auto')\n",
    "plt.xticks([],labels=[])\n",
    "plt.axis('off')\n",
    "\n",
    "\n",
    "plt.sca(ax0)\n",
    "## Plot S4\n",
    "axm = fig.add_axes([0.51,1.52,0.15,.3])\n",
    "plt.yticks([]);\n",
    "spath = '/home/croth/S5_LDOPA_day3_middle.png'\n",
    "sobj = Image.open(spath)\n",
    "plt.imshow(sobj,rasterized=True),# aspect='auto')\n",
    "plt.xticks([],labels=[])\n",
    "plt.axis('off')\n",
    "\n",
    "\n",
    "plt.sca(ax0)\n",
    "## Plot S4\n",
    "axm = fig.add_axes([0.58,1.52,0.15,.3])\n",
    "plt.yticks([]);\n",
    "spath = '/home/croth/S4_LDOPA_day3_middle.png'\n",
    "sobj = Image.open(spath)\n",
    "plt.imshow(sobj,rasterized=True),# aspect='auto')\n",
    "plt.xticks([],labels=[])\n",
    "plt.axis('off')\n",
    "\n",
    "\n",
    "\n",
    "#### ------------------------------------------------------------ #####\n",
    "\n",
    "plt.sca(ax0)\n",
    "axl =  fig.add_axes([0.13,-1.15, 0.2,.6])\n",
    "plt.sca(axl)\n",
    "\n",
    "axl.spines['right'].set_visible(False)\n",
    "axl.spines['top'].set_visible(False)\n",
    "\n",
    "sns.swarmplot(x='QTL14',y='Melanin',\n",
    "              data=melanin,alpha=0.25,ax=axl,\n",
    "              size=3,edgecolor='k',linewidth=0.5,rasterized=True)\n",
    "\n",
    "ymax = 25000\n",
    "ymin = 5000\n",
    "plt.ylim(ymin,ymax)\n",
    "plt.yticks([5000,10000,15000,20000,25000],fontsize=fs-2)\n",
    "xl280_name = 'XL280'+r'$\\bf{a}$'\n",
    "_431_name = '431'+u'$\\mathrm{\\u03B1}$'\n",
    "plt.text(0.5,25000,'$R^2$ = %s'%mel_r_sq,fontsize=fs-2,ha='center',va='center')\n",
    "plt.xticks([0,1],[xl280_name,_431_name],fontsize=fs-2)\n",
    "plt.xlabel('Chromosome 14\\nQTL Allele',fontsize=fs)\n",
    "\n",
    "\n",
    "xl280strains = melanin[(melanin.QTL14==0)].sort_values('Melanin').index.tolist()\n",
    "_431strains = melanin[(melanin.QTL14==1)].sort_values('Melanin').index.tolist()\n",
    "\n",
    "lightest = xl280strains[-1]\n",
    "darkest = _431strains[0]\n",
    "xlmid = xl280strains[:(int(len(xl280a_path)/2))][-1]\n",
    "_431mid = _431strains[:(int(len(_431strains)/2))][-1]\n",
    "plt.ylabel('Mean Intensity\\n$\\longleftarrow$Dark - Light$\\longrightarrow$',fontsize=fs);\n",
    "\n",
    "plt.sca(axl)\n",
    "\n",
    "\n",
    "axr =  fig.add_axes([0.37,-1.1, 0.32,.6])\n",
    "to_plot = melanin.T[[lightest,darkest,xlmid,_431mid]].T.sort_values('Melanin')[::-1]\n",
    "\n",
    "[plt.text(0.1+(0.29*i),1.1,s=k, transform=axr.transAxes,fontsize=fs-1,va='center',ha='center') \n",
    " for i,k in enumerate(['F$_1$ Strain','QTL\\nAllele','Mean\\nIntensity','Melanin\\nProduction'])]\n",
    "\n",
    "[plt.text(0.1,0.01+(0.25*i),s=''.join(k.split('-')), \n",
    "          transform=axr.transAxes,fontsize=fs-1,va='center',ha='center') \n",
    " for i,k in enumerate(to_plot.index.tolist()[::-1])]\n",
    "\n",
    "[plt.text(0.1+(.29),0.01+(0.25*i),s= xl280_name if k == 0 else _431_name, \n",
    "          transform=axr.transAxes,fontsize=fs-1,va='center',ha='center') \n",
    " for i,k in enumerate(to_plot.QTL14.tolist()[::-1])]\n",
    "\n",
    "[plt.text(0.1+(.29)+(.29),0.01+(0.25*i),s= np.round(k,1), \n",
    "          transform=axr.transAxes,fontsize=fs-1,va='center',ha='center') \n",
    " for i,k in enumerate(to_plot.Melanin.tolist()[::-1])]\n",
    "\n",
    "plt.axis('off')\n",
    "plt.sca(axl)\n",
    "\n",
    "axm = fig.add_axes([0.628,-1.13 +.45,0.1,0.1])\n",
    "plt.yticks([]);\n",
    "k = 'SSB908'\n",
    "spath = '/home/croth/%s_LDOPA_day3_middle.png'%k\n",
    "sobj = Image.open(spath)\n",
    "plt.imshow(sobj,rasterized=True)\n",
    "plt.xticks([],labels=[])\n",
    "plt.axis('off')\n",
    "\n",
    "axm = fig.add_axes([0.628,-1.13 +.30,0.1,0.1])\n",
    "plt.yticks([]);\n",
    "k = 'SSC242'\n",
    "spath = '/home/croth/%s_LDOPA_day3_middle.png'%k\n",
    "sobj = Image.open(spath)\n",
    "plt.imshow(sobj,rasterized=True)\n",
    "plt.xticks([],labels=[])\n",
    "plt.axis('off')\n",
    "\n",
    "axm = fig.add_axes([0.628,-1.13 +.15,0.1,0.1])\n",
    "plt.yticks([]);\n",
    "k = 'SSB887'\n",
    "spath = '/home/croth/%s_LDOPA_day3_middle.png'%k\n",
    "sobj = Image.open(spath)\n",
    "plt.imshow(sobj,rasterized=True)\n",
    "plt.xticks([],labels=[])\n",
    "plt.axis('off')\n",
    "\n",
    "axm = fig.add_axes([0.628,-1.13,0.1,0.1])\n",
    "plt.yticks([]);\n",
    "k = 'SSB621'\n",
    "spath = '/home/croth/%s_LDOPA_day3_middle.png'%k\n",
    "sobj = Image.open(spath)\n",
    "plt.imshow(sobj,rasterized=True)\n",
    "plt.xticks([],labels=[])\n",
    "plt.axis('off')\n",
    "\n",
    "fig.text(0.07,1.85,'A',fontsize=fs,fontweight='bold')\n",
    "fig.text(0.07,1.1,'B',fontsize=fs,fontweight='bold')\n",
    "fig.text(0.07,-0.3,'C',fontsize=fs,fontweight='bold')\n",
    "fig.text(0.34,-0.3,'D',fontsize=fs,fontweight='bold')\n",
    "\n",
    "plt.sca(axr)\n",
    "\n",
    "fig.add_axes([0.367,-1.15,0.356,.0006]);plt.xticks([],[]);plt.yticks([],[])\n",
    "fig.add_axes([0.367,-.3, 0.356,.00000001]);plt.xticks([],[]);plt.yticks([],[])\n",
    "fig.add_axes([0.367,-.56, 0.356,.0006]);plt.xticks([],[]);plt.yticks([],[])\n",
    "\n",
    "mydpi = 600\n",
    "qtlpaper_save = '/home/croth/QTL_FIGS/MAIN/Fig1.tiff'\n",
    "plt.savefig(qtlpaper_save,\n",
    "           dpi=mydpi,bbox_inches='tight',compression='tiff_lzw');\n",
    "plt.savefig('/home/croth/QTL_FIGS/MAIN/PDFs/Fig1.pdf',\n",
    "           dpi = mydpi,bbox_inches='tight',pad_inches=1)\n",
    "\n",
    "im = Image.open(qtlpaper_save)\n",
    "w,h = im.size\n",
    "\n",
    "assert w/mydpi > 2.63\n",
    "assert w/mydpi < 7.5\n",
    "assert h/mydpi < 8.5\n",
    "    \n",
    "im.save(qtlpaper_save,compression='tiff_lzw')"
   ]
  },
  {
   "cell_type": "code",
   "execution_count": null,
   "metadata": {},
   "outputs": [],
   "source": [
    "assert 1 == 0"
   ]
  },
  {
   "cell_type": "code",
   "execution_count": null,
   "metadata": {},
   "outputs": [],
   "source": [
    "im = Image.open('./Melanin_QTL_chromosome14_phenotypes.tiff')\n",
    "w,h = im.size"
   ]
  },
  {
   "cell_type": "code",
   "execution_count": null,
   "metadata": {},
   "outputs": [],
   "source": [
    "w/mydpi"
   ]
  },
  {
   "cell_type": "code",
   "execution_count": null,
   "metadata": {},
   "outputs": [],
   "source": [
    "h/mydpi"
   ]
  },
  {
   "cell_type": "code",
   "execution_count": null,
   "metadata": {},
   "outputs": [],
   "source": [
    "Light_than_xl280 = melanin.T[segs].T[(melanin.Melanin>melanin.T['XL280a'].Melanin.max())]\n",
    "Light_than_xl280.shape[0]/len(segs)"
   ]
  },
  {
   "cell_type": "code",
   "execution_count": null,
   "metadata": {},
   "outputs": [],
   "source": [
    "dark_than_431 = melanin.T[segs].T[(melanin.Melanin<melanin.T['SS-A837'].Melanin.max())]\n",
    "dark_than_431.shape[0]/len(segs)"
   ]
  },
  {
   "cell_type": "code",
   "execution_count": null,
   "metadata": {},
   "outputs": [],
   "source": [
    "melanin.shape"
   ]
  },
  {
   "cell_type": "code",
   "execution_count": null,
   "metadata": {},
   "outputs": [],
   "source": [
    "assert len(segs) == 104\n",
    "melanin.T[segs]"
   ]
  },
  {
   "cell_type": "markdown",
   "metadata": {},
   "source": [
    "fig = plt.figure(figsize=(12,2.5))\n",
    "gs = GridSpec(1, 4, figure=fig)\n",
    "ax0 = fig.add_subplot(gs[0, :-1])\n",
    "\n",
    "\n",
    "plt.sca(ax0)\n",
    "ax0.spines['right'].set_visible(False)\n",
    "ax0.spines['top'].set_visible(False)\n",
    "for c in chrlist:\n",
    "    i = int(c[3:])-1\n",
    "    temp = pval_df[(pval_df.Chrom==c)]\n",
    "    plt.plot(temp.Pos+cumpos[i],temp['Melanin'].values,'.',\n",
    "             alpha = 0.25,markersize=3)\n",
    "    \n",
    "plt.xticks(chrmid,np.arange(len(chrlist))+1);\n",
    "plt.ylabel(\"$-log_{10}(p-value)$\",fontsize=14);\n",
    "plt.xlabel('Chromosomes',fontsize=14);\n",
    "\n",
    "plt.hlines(4.93,chrlens[0],19.1*(10**6),\n",
    "           linestyles='dashed',color='k',\n",
    "           ##label='\\u03B1 = 0.01',\n",
    "           alpha=0.9,linewidth=1);\n",
    "\n",
    "plt.text(s = r'$\\alpha$ = 0.01', x = 0.085,y= .42, \n",
    "         horizontalalignment='center',\n",
    "         verticalalignment='center', \n",
    "         transform=ax0.transAxes, fontsize=14 )\n",
    "\n",
    "plt.subplots_adjust(wspace=0.05)\n",
    "\n",
    "plt.sca(ax0)\n",
    "axs = fig.add_axes([0.305,1.50,.35,.1])\n",
    "plt.xticks([0.5],labels=['Representative F$_1$ Progeny'],\n",
    "           fontsize=13)\n",
    "plt.yticks([ ],labels=None)\n",
    "axs.spines['top'].set_visible(False) \n",
    "\n",
    "\n",
    "## Plot xl280a\n",
    "plt.sca(ax0)\n",
    "axm = fig.add_axes([0.09,1.52,0.15,.3])\n",
    "xl280a_path = './XL280a_LDOPA_day3_middle.png'\n",
    "xl280a_obj = Image.open(xl280a_path)\n",
    "plt.imshow(xl280a_obj),# aspect='auto')\n",
    "plt.xticks([40],labels=['XL280'+ r'$\\bf{a}$'],fontsize=14)\n",
    "plt.yticks([]);\n",
    "[axm.spines[a].set_visible(False) \n",
    " for a in ['top','bottom','left','right']]\n",
    "\n",
    "## Plot 431\n",
    "plt.sca(ax0)\n",
    "axm = fig.add_axes([0.16,1.52,0.15,.3])\n",
    "plt.yticks([]);\n",
    "A837_path = './SSA837_LDOPA_day3_middle.png'\n",
    "A837_obj = Image.open(A837_path)\n",
    "plt.imshow(A837_obj),# aspect='auto')\n",
    "plt.xticks([40],labels=['431'+'$\\mathrm{\\u03B1}$'],fontsize=14)\n",
    "[axm.spines[a].set_visible(False) \n",
    " for a in ['top','bottom','left','right']]\n",
    "\n",
    "\n",
    "plt.sca(ax0)\n",
    "## Plot S1\n",
    "axm = fig.add_axes([0.23,1.52,0.15,.3])\n",
    "plt.yticks([]);\n",
    "spath = './S2_LDOPA_day3_middle.png'\n",
    "sobj = Image.open(spath)\n",
    "plt.imshow(sobj),# aspect='auto')\n",
    "plt.xticks([],labels=[])\n",
    "plt.axis('off')\n",
    "\n",
    "\n",
    "plt.sca(ax0)\n",
    "## Plot S1\n",
    "axm = fig.add_axes([0.30,1.52,0.15,.3])\n",
    "plt.yticks([]);\n",
    "spath = './S6_LDOPA_day3_middle.png' #'./S1_LDOPA_day3_middle.png'\n",
    "sobj = Image.open(spath)\n",
    "plt.imshow(sobj),# aspect='auto')\n",
    "plt.xticks([],labels=[])\n",
    "plt.axis('off')\n",
    "\n",
    "\n",
    "plt.sca(ax0)\n",
    "## Plot S1\n",
    "axm = fig.add_axes([0.37,1.52,0.15,.3])\n",
    "plt.yticks([]);\n",
    "spath = './S1_LDOPA_day3_middle.png'#'./S3_LDOPA_day3_middle.png'\n",
    "sobj = Image.open(spath)\n",
    "plt.imshow(sobj),# aspect='auto')\n",
    "plt.xticks([],labels=[])\n",
    "plt.axis('off')\n",
    "\n",
    "\n",
    "plt.sca(ax0)\n",
    "## Plot S4\n",
    "axm = fig.add_axes([0.44,1.52,0.15,.3])\n",
    "plt.yticks([]);\n",
    "spath = './S3_LDOPA_day3_middle.png'#'./S4_LDOPA_day3_middle.png'\n",
    "sobj = Image.open(spath)\n",
    "plt.imshow(sobj),# aspect='auto')\n",
    "plt.xticks([],labels=[])\n",
    "plt.axis('off')\n",
    "\n",
    "\n",
    "plt.sca(ax0)\n",
    "## Plot S4\n",
    "axm = fig.add_axes([0.51,1.52,0.15,.3])\n",
    "plt.yticks([]);\n",
    "spath = './S5_LDOPA_day3_middle.png'\n",
    "sobj = Image.open(spath)\n",
    "plt.imshow(sobj),# aspect='auto')\n",
    "plt.xticks([],labels=[])\n",
    "plt.axis('off')\n",
    "\n",
    "\n",
    "plt.sca(ax0)\n",
    "## Plot S4\n",
    "axm = fig.add_axes([0.58,1.52,0.15,.3])\n",
    "plt.yticks([]);\n",
    "spath = './S4_LDOPA_day3_middle.png'\n",
    "sobj = Image.open(spath)\n",
    "plt.imshow(sobj),# aspect='auto')\n",
    "plt.xticks([],labels=[])\n",
    "plt.axis('off')\n",
    "\n",
    "\n",
    "\n",
    "\n",
    "plt.sca(ax0)\n",
    "axl =  fig.add_axes([0.13,-1.3,0.2,.6])\n",
    "axr = fig.add_axes([0.5,-1.3,0.2,.6])\n",
    "\n",
    "\n",
    "axl.spines['right'].set_visible(False)\n",
    "axl.spines['top'].set_visible(False)\n",
    "axr.spines['right'].set_visible(False)\n",
    "axr.spines['top'].set_visible(False)\n",
    "\n",
    "\n",
    "plt.sca(axl)\n",
    "\n",
    "\n",
    "\n",
    "plt.plot(ch14.Pos/kb, myminmax(ch14.HTG.values),\n",
    "         'ro',alpha=0.2,markersize=3,label=u'39°C');\n",
    "plt.plot(ch14.Pos/kb,myminmax(ch14.Melanin.values),\n",
    "         'ko',alpha=0.2,markersize=3,label='Melanization');\n",
    "\n",
    "lgnd = plt.legend(fontsize=14,bbox_to_anchor=(1,1.75),title='QTL')#,frameon=False);\n",
    "lgnd.legendHandles[0]._legmarker.set_markersize(8)\n",
    "lgnd.legendHandles[1]._legmarker.set_markersize(8)\n",
    "plt.ylabel(\"Normalized\\n$-log_{10}(p-value)$\",fontsize=14);\n",
    "plt.xlabel('Chromosome 14 Coordinates (kb)',fontsize=14)\n",
    "plt.hlines(-0.01,568029/kb,644419/kb,color='blue');\n",
    "plt.yticks([]);\n",
    "\n",
    "#### ------------------------------------------------------------ #####\n",
    "plt.sca(axr)\n",
    "\n",
    "#sns.scatterplot(x='HTG',y='Melanin',data=melanin,hue='QTL14',legend=None,alpha=0.5)\n",
    "\n",
    "plt.plot(melanin[(melanin.index!='XL280a')&(melanin.QTL14==0)].HTG.values,\n",
    "         melanin[(melanin.index!='XL280a')&(melanin.QTL14==0)].Melanin.values,\n",
    "         'o',color='tab:blue',alpha=0.3,label='XL280'+r'$\\bf{a}$')\n",
    "plt.plot(melanin[(melanin.index!='SS-A837')&(melanin.QTL14==1)].HTG.values,\n",
    "         melanin[(melanin.index!='SS-A837')&(melanin.QTL14==1)].Melanin.values,\n",
    "         'o',color='tab:orange',alpha=0.3,label='431'+u'$\\mathrm{\\u03B1}$')\n",
    "plt.plot(melanin[(melanin.index=='XL280a')].HTG.values,\n",
    "         melanin[(melanin.index=='XL280a')].Melanin.values,\n",
    "         '^',color='tab:blue',alpha=0.65)\n",
    "plt.plot(melanin[(melanin.index=='SS-A837')].HTG.values,\n",
    "         melanin[(melanin.index=='SS-A837')].Melanin.values,\n",
    "         '^',color='tab:orange',alpha=0.65)\n",
    "#plt.ylim(5000,22500)\n",
    "#sns.regplot(x='HTG',y='MI',data=AUCs,\n",
    "#            scatter_kws={'alpha':0},line_kws={'color':'k'},order=1);\n",
    "plt.ylabel('Mean Intensity\\n$\\longleftarrow$Dark - Light$\\longrightarrow$',fontsize=14);\n",
    "plt.xlabel('Growth AUC at 39°C',fontsize=14);\n",
    "#plt.title('D',fontweight='bold',x=-0.1,y=1.4,fontsize=14)\n",
    "plt.legend(fontsize=14,bbox_to_anchor=(0.8,1.75),title='Allele')#,frameon=False);\n",
    "plt.ylim(5000,25000)\n",
    "plt.xlim(-1,31)\n",
    "\n",
    "fig.text(0.07,1.8,'A',fontsize=14,fontweight='bold')\n",
    "fig.text(0.07,1.1,'B',fontsize=14,fontweight='bold')\n",
    "fig.text(0.07,-0.4,'C',fontsize=14,fontweight='bold')\n",
    "fig.text(0.45,-0.4,'D',fontsize=14,fontweight='bold')\n",
    "plt.savefig('./Melanin_QTL_chromosome14_phenotypes.png',\n",
    "            dpi=400,bbox_inches='tight');"
   ]
  },
  {
   "cell_type": "code",
   "execution_count": null,
   "metadata": {},
   "outputs": [],
   "source": [
    "assert 1 == 0"
   ]
  },
  {
   "cell_type": "code",
   "execution_count": null,
   "metadata": {},
   "outputs": [],
   "source": []
  },
  {
   "cell_type": "code",
   "execution_count": null,
   "metadata": {},
   "outputs": [],
   "source": []
  },
  {
   "cell_type": "code",
   "execution_count": null,
   "metadata": {},
   "outputs": [],
   "source": []
  },
  {
   "cell_type": "code",
   "execution_count": null,
   "metadata": {},
   "outputs": [],
   "source": []
  },
  {
   "cell_type": "code",
   "execution_count": null,
   "metadata": {},
   "outputs": [],
   "source": []
  },
  {
   "cell_type": "code",
   "execution_count": null,
   "metadata": {},
   "outputs": [],
   "source": [
    "fig = plt.figure(figsize=(12,2.5))\n",
    "gs = GridSpec(1, 4, figure=fig)\n",
    "ax0 = fig.add_subplot(gs[0, :-1])\n",
    "\n",
    "\n",
    "plt.sca(ax0)\n",
    "ax0.spines['right'].set_visible(False)\n",
    "ax0.spines['top'].set_visible(False)\n",
    "for c in chrlist:\n",
    "    i = int(c[3:])-1\n",
    "    temp = pval_df[(pval_df.Chrom==c)]\n",
    "    plt.plot(temp.Pos+cumpos[i],temp['Melanin'].values,'.',\n",
    "             #color='k' if i%2==0 else 'grey',\n",
    "             alpha = 0.5)\n",
    "plt.xticks(chrmid,np.arange(len(chrlist))+1);\n",
    "plt.ylabel(\"$-log_{10}(p-value)$\",fontsize=14);\n",
    "plt.xlabel('Chromosomes',fontsize=14);\n",
    "#plt.title('B',fontsize=14,fontweight='bold',x=-.1,y=1.2)\n",
    "plt.hlines(4.93,chrlens[0],19.1*(10**6),\n",
    "           linestyles='dashed',color='k',\n",
    "           ##label='\\u03B1 = 0.01',\n",
    "           alpha=0.9,linewidth=1);\n",
    "##plt.hlines(4.2,0,19.1*(10**6),\n",
    "##           linestyles='dashed',color='k',\n",
    "##           label='\\u03B1 = 0.05',alpha=0.9,linewidth=1);\n",
    "\n",
    "##plt.legend(bbox_to_anchor=(.3,1.),frameon=True,fontsize=14)\n",
    "plt.text(s = r'$\\alpha$ = 0.01', x = 0.085,y= .42, \n",
    "         horizontalalignment='center',\n",
    "         verticalalignment='center', \n",
    "         transform=ax0.transAxes, fontsize=14 )\n",
    "\n",
    "plt.subplots_adjust(wspace=0.05)\n",
    "\n",
    "plt.sca(ax0)\n",
    "axs = fig.add_axes([0.305,1.50,.35,.1])\n",
    "plt.xticks([0.5],labels=['Representative F$_1$ Progeny'],\n",
    "           fontsize=13)\n",
    "plt.yticks([ ],labels=None)\n",
    "axs.spines['top'].set_visible(False) \n",
    "\n",
    "\n",
    "## Plot xl280a\n",
    "plt.sca(ax0)\n",
    "axm = fig.add_axes([0.09,1.52,0.15,.3])\n",
    "xl280a_path = './XL280a_LDOPA_day3_middle.png'\n",
    "xl280a_obj = Image.open(xl280a_path)\n",
    "plt.imshow(xl280a_obj),# aspect='auto')\n",
    "plt.xticks([40],labels=['XL280'+ r'$\\bf{a}$'],fontsize=14)\n",
    "plt.yticks([]);\n",
    "[axm.spines[a].set_visible(False) \n",
    " for a in ['top','bottom','left','right']]\n",
    "\n",
    "## Plot 431\n",
    "plt.sca(ax0)\n",
    "axm = fig.add_axes([0.16,1.52,0.15,.3])\n",
    "plt.yticks([]);\n",
    "A837_path = './SSA837_LDOPA_day3_middle.png'\n",
    "A837_obj = Image.open(A837_path)\n",
    "plt.imshow(A837_obj),# aspect='auto')\n",
    "plt.xticks([40],labels=['431'+'$\\mathrm{\\u03B1}$'],fontsize=14)\n",
    "[axm.spines[a].set_visible(False) \n",
    " for a in ['top','bottom','left','right']]\n",
    "\n",
    "\n",
    "plt.sca(ax0)\n",
    "## Plot S1\n",
    "axm = fig.add_axes([0.23,1.52,0.15,.3])\n",
    "plt.yticks([]);\n",
    "spath = './S2_LDOPA_day3_middle.png'\n",
    "sobj = Image.open(spath)\n",
    "plt.imshow(sobj),# aspect='auto')\n",
    "plt.xticks([],labels=[])\n",
    "plt.axis('off')\n",
    "\n",
    "\n",
    "plt.sca(ax0)\n",
    "## Plot S1\n",
    "axm = fig.add_axes([0.30,1.52,0.15,.3])\n",
    "plt.yticks([]);\n",
    "spath = './S6_LDOPA_day3_middle.png' #'./S1_LDOPA_day3_middle.png'\n",
    "sobj = Image.open(spath)\n",
    "plt.imshow(sobj),# aspect='auto')\n",
    "plt.xticks([],labels=[])\n",
    "plt.axis('off')\n",
    "\n",
    "\n",
    "plt.sca(ax0)\n",
    "## Plot S1\n",
    "axm = fig.add_axes([0.37,1.52,0.15,.3])\n",
    "plt.yticks([]);\n",
    "spath = './S1_LDOPA_day3_middle.png'#'./S3_LDOPA_day3_middle.png'\n",
    "sobj = Image.open(spath)\n",
    "plt.imshow(sobj),# aspect='auto')\n",
    "plt.xticks([],labels=[])\n",
    "plt.axis('off')\n",
    "\n",
    "\n",
    "plt.sca(ax0)\n",
    "## Plot S4\n",
    "axm = fig.add_axes([0.44,1.52,0.15,.3])\n",
    "plt.yticks([]);\n",
    "spath = './S3_LDOPA_day3_middle.png'#'./S4_LDOPA_day3_middle.png'\n",
    "sobj = Image.open(spath)\n",
    "plt.imshow(sobj),# aspect='auto')\n",
    "plt.xticks([],labels=[])\n",
    "plt.axis('off')\n",
    "\n",
    "\n",
    "plt.sca(ax0)\n",
    "## Plot S4\n",
    "axm = fig.add_axes([0.51,1.52,0.15,.3])\n",
    "plt.yticks([]);\n",
    "spath = './S5_LDOPA_day3_middle.png'\n",
    "sobj = Image.open(spath)\n",
    "plt.imshow(sobj),# aspect='auto')\n",
    "plt.xticks([],labels=[])\n",
    "plt.axis('off')\n",
    "\n",
    "\n",
    "plt.sca(ax0)\n",
    "## Plot S4\n",
    "axm = fig.add_axes([0.58,1.52,0.15,.3])\n",
    "plt.yticks([]);\n",
    "spath = './S4_LDOPA_day3_middle.png'\n",
    "sobj = Image.open(spath)\n",
    "plt.imshow(sobj),# aspect='auto')\n",
    "plt.xticks([],labels=[])\n",
    "plt.axis('off')\n",
    "\n",
    "\n",
    "\n",
    "\n",
    "plt.sca(ax0)\n",
    "axl =  fig.add_axes([0.13,-1.3,0.2,.6])\n",
    "axr = fig.add_axes([0.5,-1.3,0.2,.6])\n",
    "\n",
    "\n",
    "axl.spines['right'].set_visible(False)\n",
    "axl.spines['top'].set_visible(False)\n",
    "axr.spines['right'].set_visible(False)\n",
    "axr.spines['top'].set_visible(False)\n",
    "\n",
    "\n",
    "plt.sca(axl)\n",
    "plt.plot(ch14auc.Pos/1000,ch14auc.HTG/ch14auc.HTG.max(),\n",
    "         'ro',alpha=0.5,label=u'39°C');\n",
    "plt.plot(ch14mel.Pos/1000,ch14mel.Melanin/ch14mel.Melanin.max(),\n",
    "         'ko',alpha=0.3,label='Melanization');\n",
    "plt.legend(fontsize=14,bbox_to_anchor=(1,1.75),title='QTL')#,frameon=False);\n",
    "plt.ylabel(\"Normalized\\n$-log_{10}(p-value)$\",fontsize=14);\n",
    "plt.xlabel('Chromosome 14 Coordinates (kb)',fontsize=14)\n",
    "plt.hlines(-0.01,568029/1000,644419/1000);\n",
    "plt.yticks([]);\n",
    "#plt.text(x=600,y=.9,s=r'$\\rho$ = 0.94',va='center',ha='center',fontsize=14)\n",
    "#plt.title('C',fontweight='bold',x=-0.1,y=1.4,fontsize=14)\n",
    "\n",
    "\n",
    "plt.sca(axr)\n",
    "plt.plot(aucx[(aucx.Strain!='XL280a')].HTG.values,\n",
    "         aucx[(aucx.Strain!='XL280a')].MI.values,\n",
    "         'o',color='tab:blue',alpha=0.5,label='XL280'+r'$\\bf{a}$')\n",
    "plt.plot(auc4[(auc4.Strain!='SS-A837')].HTG.values,\n",
    "         auc4[(auc4.Strain!='SS-A837')].MI.values,\n",
    "         'o',color='tab:orange',alpha=0.5,label='431'+u'$\\mathrm{\\u03B1}$')\n",
    "plt.plot(aucx[(aucx.Strain=='XL280a')].HTG.values,\n",
    "         aucx[(aucx.Strain=='XL280a')].MI.values,\n",
    "         '^',color='tab:blue',alpha=0.5)\n",
    "plt.plot(auc4[(auc4.Strain=='SS-A837')].HTG.values,\n",
    "         auc4[(auc4.Strain=='SS-A837')].MI.values,\n",
    "         '^',color='tab:orange',alpha=0.5)\n",
    "#plt.ylim(5000,22500)\n",
    "#sns.regplot(x='HTG',y='MI',data=AUCs,\n",
    "#            scatter_kws={'alpha':0},line_kws={'color':'k'},order=1);\n",
    "plt.ylabel('Mean Intensity\\n$\\longleftarrow$Dark - Light$\\longrightarrow$',fontsize=14);\n",
    "plt.xlabel('Growth AUC at 39°C',fontsize=14);\n",
    "#plt.title('D',fontweight='bold',x=-0.1,y=1.4,fontsize=14)\n",
    "plt.legend(fontsize=14,bbox_to_anchor=(0.8,1.75),title='Allele')#,frameon=False);\n",
    "plt.ylim(5000,25000)\n",
    "plt.xlim(-1,31)\n",
    "\n",
    "fig.text(0.07,1.8,'A',fontsize=14,fontweight='bold')\n",
    "fig.text(0.07,1.1,'B',fontsize=14,fontweight='bold')\n",
    "fig.text(0.07,-0.4,'C',fontsize=14,fontweight='bold')\n",
    "fig.text(0.45,-0.4,'D',fontsize=14,fontweight='bold')\n",
    "plt.savefig('./Melanin_QTL_chromosome14_phenotypes.png',\n",
    "            dpi=400,bbox_inches='tight');"
   ]
  },
  {
   "cell_type": "code",
   "execution_count": null,
   "metadata": {},
   "outputs": [],
   "source": [
    "assert 1 == 0"
   ]
  },
  {
   "cell_type": "code",
   "execution_count": null,
   "metadata": {},
   "outputs": [],
   "source": []
  },
  {
   "cell_type": "code",
   "execution_count": null,
   "metadata": {},
   "outputs": [],
   "source": [
    "paul[(paul.strain.isin(['SS-B307','SS-']))]"
   ]
  },
  {
   "cell_type": "code",
   "execution_count": null,
   "metadata": {},
   "outputs": [],
   "source": []
  },
  {
   "cell_type": "code",
   "execution_count": null,
   "metadata": {},
   "outputs": [],
   "source": []
  },
  {
   "cell_type": "code",
   "execution_count": null,
   "metadata": {},
   "outputs": [],
   "source": []
  },
  {
   "cell_type": "code",
   "execution_count": null,
   "metadata": {},
   "outputs": [],
   "source": [
    "fig = plt.figure(figsize=(12,2.5))\n",
    "gs = GridSpec(1, 4, figure=fig)\n",
    "ax0 = fig.add_subplot(gs[0, :-1])\n",
    "ax1 = fig.add_subplot(gs[0,-1])\n",
    "plt.sca(ax1)\n",
    "sns.regplot(x='QTL',y='Melanin',data = qtlplot,x_jitter=0.2,ci=False,\n",
    "           scatter_kws={'color':'k','alpha':0.0},\n",
    "            line_kws={'color':'r','alpha':0.25})\n",
    "sns.swarmplot(x='QTL',y='Melanin',data=qtlplot,alpha=0.2,color='k')\n",
    "plt.plot(*qtlplot.T[['XL280a','SS-A837']].T[['QTL','Melanin']].T.values,\n",
    "         '^',color='tab:blue',ms=6)\n",
    "plt.plot(*qtlplot.T['SS-A837'].T[['QTL','Melanin']].T.values,\n",
    "         '^',color='tab:orange',ms=6)\n",
    "plt.xticks([0,1],['XL280'+ r'$\\bf{a}$','431'+'$\\mathrm{\\u03B1}$'],fontsize=14)\n",
    "#plt.xticks([0,1],['XL280\\nor\\nXL280'+'\\u03B1','431'+'\\u03B1'],fontsize=14)\n",
    "#fig.text(x=.79,y=0.047,s='a',fontweight='bold',fontsize=14,va='center',ha='center')\n",
    "plt.xlabel('Allele',fontsize=14)\n",
    "ax1.yaxis.tick_right()\n",
    "ax1.yaxis.set_ticks_position('both')\n",
    "ax1.yaxis.set_label_position(\"right\")\n",
    "plt.ylabel(' ')\n",
    "fig.text(s='Mean Intensity\\n$\\longleftarrow$Light  -  Dark$\\longrightarrow$',\n",
    "          x =.97,y=0.5, fontsize=16,rotation=-90,va='center',ha='center');\n",
    "#plt.title('Chromosome 14 QTL\\nMelanization',fontsize=14)\n",
    "plt.title('C',fontsize=14,fontweight='bold',x=.01,y=1.2)\n",
    "plt.text(x=0.5,y=6000,s='$R^2 = %s$'%(np.round(res.rsquared,2)),\n",
    "         va='center',ha='center',color='tab:red',alpha=0.8)\n",
    "ax1.spines['left'].set_visible(False)\n",
    "ax1.spines['top'].set_visible(False)\n",
    "plt.ylim(5000,25000)\n",
    "ax1.tick_params(left=False)\n",
    "\n",
    "plt.sca(ax0)\n",
    "ax0.spines['right'].set_visible(False)\n",
    "ax0.spines['top'].set_visible(False)\n",
    "for c in chrlist:\n",
    "    i = int(c[3:])-1\n",
    "    temp = pval_df[(pval_df.Chrom==c)]\n",
    "    plt.plot(temp.Pos+cumpos[i],temp['Melanin'].values,'.',\n",
    "             #color='k' if i%2==0 else 'grey',\n",
    "             alpha = 0.5)\n",
    "plt.xticks(chrmid,np.arange(len(chrlist))+1);\n",
    "plt.ylabel(\"$-log_{10}(p-value)$\",fontsize=14);\n",
    "plt.xlabel('Chromosomes',fontsize=14);\n",
    "plt.title('B',fontsize=14,fontweight='bold',x=.01,y=1.2)\n",
    "plt.hlines(4.93,0,19.1*(10**6),\n",
    "           linestyles='dotted',color='k',label='\\u03B1 = 0.01',alpha=0.9,linewidth=1);\n",
    "plt.hlines(4.2,0,19.1*(10**6),\n",
    "           linestyles='dashed',color='k',label='\\u03B1 = 0.05',alpha=0.9,linewidth=1);\n",
    "\n",
    "#plt.legend(bbox_to_anchor=(0.1,-0.15),frameon=False)\n",
    "plt.legend(bbox_to_anchor=(.3,1.2),frameon=True,fontsize=14)\n",
    "\n",
    "plt.subplots_adjust(wspace=0.05)\n",
    "\n",
    "plt.sca(ax0)\n",
    "axs = fig.add_axes([0.305,1.50,.35,.1])\n",
    "plt.xticks([0.5],labels=['Representative F2 Progeny'],fontsize=13)\n",
    "plt.yticks([ ],labels=None)\n",
    "axs.spines['top'].set_visible(False) \n",
    "\n",
    "\n",
    "## Plot xl280a\n",
    "plt.sca(ax0)\n",
    "axm = fig.add_axes([0.09,1.52,0.15,.3])\n",
    "xl280a_path = './XL280a_LDOPA_day3_middle.png'\n",
    "xl280a_obj = Image.open(xl280a_path)\n",
    "plt.imshow(xl280a_obj),# aspect='auto')\n",
    "plt.xticks([40],labels=['XL280'+ r'$\\bf{a}$'],fontsize=14)\n",
    "plt.yticks([]);\n",
    "plt.title('A',fontsize=14,fontweight='bold',x=-.05,y=1.2);\n",
    "[axm.spines[a].set_visible(False) for a in ['top','bottom','left','right']]\n",
    "\n",
    "## Plot 431\n",
    "plt.sca(ax0)\n",
    "axm = fig.add_axes([0.16,1.52,0.15,.3])\n",
    "plt.yticks([]);\n",
    "A837_path = './SSA837_LDOPA_day3_middle.png'\n",
    "A837_obj = Image.open(A837_path)\n",
    "plt.imshow(A837_obj),# aspect='auto')\n",
    "plt.xticks([40],labels=['431'+'$\\mathrm{\\u03B1}$'],fontsize=14)\n",
    "[axm.spines[a].set_visible(False) for a in ['top','bottom','left','right']]\n",
    "\n",
    "\n",
    "plt.sca(ax0)\n",
    "## Plot S1\n",
    "axm = fig.add_axes([0.23,1.52,0.15,.3])\n",
    "plt.yticks([]);\n",
    "spath = './S2_LDOPA_day3_middle.png'\n",
    "sobj = Image.open(spath)\n",
    "plt.imshow(sobj),# aspect='auto')\n",
    "plt.xticks([],labels=[])\n",
    "plt.axis('off')\n",
    "\n",
    "\n",
    "plt.sca(ax0)\n",
    "## Plot S1\n",
    "axm = fig.add_axes([0.30,1.52,0.15,.3])\n",
    "plt.yticks([]);\n",
    "spath = './S6_LDOPA_day3_middle.png' #'./S1_LDOPA_day3_middle.png'\n",
    "sobj = Image.open(spath)\n",
    "plt.imshow(sobj),# aspect='auto')\n",
    "plt.xticks([],labels=[])\n",
    "plt.axis('off')\n",
    "\n",
    "\n",
    "plt.sca(ax0)\n",
    "## Plot S1\n",
    "axm = fig.add_axes([0.37,1.52,0.15,.3])\n",
    "plt.yticks([]);\n",
    "spath = './S1_LDOPA_day3_middle.png'#'./S3_LDOPA_day3_middle.png'\n",
    "sobj = Image.open(spath)\n",
    "plt.imshow(sobj),# aspect='auto')\n",
    "plt.xticks([],labels=[])\n",
    "plt.axis('off')\n",
    "\n",
    "\n",
    "plt.sca(ax0)\n",
    "## Plot S4\n",
    "axm = fig.add_axes([0.44,1.52,0.15,.3])\n",
    "plt.yticks([]);\n",
    "spath = './S3_LDOPA_day3_middle.png'#'./S4_LDOPA_day3_middle.png'\n",
    "sobj = Image.open(spath)\n",
    "plt.imshow(sobj),# aspect='auto')\n",
    "plt.xticks([],labels=[])\n",
    "plt.axis('off')\n",
    "\n",
    "\n",
    "plt.sca(ax0)\n",
    "## Plot S4\n",
    "axm = fig.add_axes([0.51,1.52,0.15,.3])\n",
    "plt.yticks([]);\n",
    "spath = './S5_LDOPA_day3_middle.png'\n",
    "sobj = Image.open(spath)\n",
    "plt.imshow(sobj),# aspect='auto')\n",
    "plt.xticks([],labels=[])\n",
    "plt.axis('off')\n",
    "\n",
    "\n",
    "plt.sca(ax0)\n",
    "## Plot S4\n",
    "axm = fig.add_axes([0.58,1.52,0.15,.3])\n",
    "plt.yticks([]);\n",
    "spath = './S4_LDOPA_day3_middle.png'\n",
    "sobj = Image.open(spath)\n",
    "plt.imshow(sobj),# aspect='auto')\n",
    "plt.xticks([],labels=[])\n",
    "plt.axis('off')\n",
    "\n",
    "plt.savefig('./Melanin_QTL_chromosome14_phenotypes.png',\n",
    "            dpi=300,bbox_inches='tight');"
   ]
  },
  {
   "cell_type": "code",
   "execution_count": null,
   "metadata": {},
   "outputs": [],
   "source": []
  },
  {
   "cell_type": "code",
   "execution_count": null,
   "metadata": {},
   "outputs": [],
   "source": [
    "pwd"
   ]
  },
  {
   "cell_type": "code",
   "execution_count": null,
   "metadata": {},
   "outputs": [],
   "source": []
  },
  {
   "cell_type": "code",
   "execution_count": null,
   "metadata": {},
   "outputs": [],
   "source": []
  },
  {
   "cell_type": "code",
   "execution_count": null,
   "metadata": {},
   "outputs": [],
   "source": []
  },
  {
   "cell_type": "code",
   "execution_count": null,
   "metadata": {},
   "outputs": [],
   "source": [
    "from matplotlib import rc"
   ]
  },
  {
   "cell_type": "code",
   "execution_count": null,
   "metadata": {},
   "outputs": [],
   "source": [
    "fig,ax = plt.subplots(1,2,figsize=(12,3))\n",
    "\n",
    "plt.sca(ax[0])\n",
    "plt.plot(ch14auc.Pos/1000,ch14auc.HTG/ch14auc.HTG.max(),\n",
    "         'ro',alpha=0.5,label=u'39°C');\n",
    "plt.plot(ch14mel.Pos/1000,ch14mel.Melanin/ch14mel.Melanin.max(),\n",
    "         'ko',alpha=0.25,label='Melanization');\n",
    "plt.legend(fontsize=14,bbox_to_anchor=(0.75,1.45),title='QTL');\n",
    "plt.ylabel(\"Normalized\\n$-log_{10}(p-value)$\",fontsize=14);\n",
    "plt.xlabel('Chromosome 14 Coordinates (kb)',fontsize=14)\n",
    "plt.hlines(-0.01,568029/1000,644419/1000);\n",
    "plt.yticks([]);\n",
    "plt.text(x=600,y=.9,s=r'$\\rho$ = 0.94',va='center',ha='center',fontsize=14)\n",
    "plt.title('A',fontweight='bold',x=0,y=1.3,fontsize=16)\n",
    "\n",
    "\n",
    "plt.sca(ax[1])\n",
    "plt.plot(aucx.HTG.values,aucx.MI.values,\n",
    "         'o',color='tab:blue',alpha=0.5,label='XL280'+r'$\\bf{a}$')\n",
    "plt.plot(auc4.HTG.values,auc4.MI.values,\n",
    "         'o',color='tab:orange',alpha=0.5,label='431'+u'$\\mathrm{\\u03B1}$')\n",
    "#plt.ylim(5000,22500)\n",
    "#sns.regplot(x='HTG',y='MI',data=AUCs,\n",
    "#            scatter_kws={'alpha':0},line_kws={'color':'k'},order=1);\n",
    "plt.ylabel('Mean Intensity\\n$\\longleftarrow$Dark - Light$\\longrightarrow$',fontsize=14);\n",
    "plt.xlabel('Integral of OD at 39°C',fontsize=14);\n",
    "plt.title('B',fontweight='bold',x=0,y=1.3,fontsize=16)\n",
    "plt.legend(fontsize=14,bbox_to_anchor=(0.7,1.45),title='Allele');\n",
    "#fig.text(s=,\n",
    "#          x =.97,y=0.5, fontsize=16,rotation=-90,va='center',ha='center');\n",
    "\n",
    "\n",
    "\n",
    "\n",
    "plt.subplots_adjust(wspace=0.4)\n",
    "plt.savefig('./Cdx_Melanin_Htg_QTL_overlap.png',dpi=150,bbox_inches='tight')"
   ]
  },
  {
   "cell_type": "code",
   "execution_count": null,
   "metadata": {},
   "outputs": [],
   "source": [
    "np.corrcoef(ch14auc.sort_values('Pos').HTG.values,\n",
    "            ch14mel.sort_values('Pos').Melanin.values)[0][1]"
   ]
  },
  {
   "cell_type": "code",
   "execution_count": null,
   "metadata": {},
   "outputs": [],
   "source": [
    "ss.pearsonr(ch14auc.sort_values('Pos').HTG.values,\n",
    "            ch14mel.sort_values('Pos').Melanin.values)"
   ]
  },
  {
   "cell_type": "code",
   "execution_count": null,
   "metadata": {},
   "outputs": [],
   "source": [
    "import pandas as pd"
   ]
  },
  {
   "cell_type": "code",
   "execution_count": null,
   "metadata": {},
   "outputs": [],
   "source": [
    "AUCs = pd.read_csv('/home/croth/Desktop/QTL/Cdx_AUC_QTL.csv',index_col=0)"
   ]
  },
  {
   "cell_type": "code",
   "execution_count": null,
   "metadata": {},
   "outputs": [],
   "source": [
    "AUCs.head()"
   ]
  },
  {
   "cell_type": "code",
   "execution_count": null,
   "metadata": {},
   "outputs": [],
   "source": [
    "sns.swarmplot(y='39.0_0.0',x='QTL14',data=AUCs);"
   ]
  },
  {
   "cell_type": "code",
   "execution_count": null,
   "metadata": {},
   "outputs": [],
   "source": [
    "sns.swarmplot(y='30.0_0.125',x='QTL2',data=AUCs);"
   ]
  },
  {
   "cell_type": "code",
   "execution_count": null,
   "metadata": {},
   "outputs": [],
   "source": [
    "AUC_pval = pd.read_csv('/home/croth/Desktop/QTL/Cdx_AUC_pvals.csv',index_col=0)"
   ]
  },
  {
   "cell_type": "code",
   "execution_count": null,
   "metadata": {},
   "outputs": [],
   "source": [
    "AUCs['MI'] = qtlplot['Melanin'][AUCs.index]"
   ]
  },
  {
   "cell_type": "code",
   "execution_count": null,
   "metadata": {},
   "outputs": [],
   "source": [
    "AUCs.T[['SS-A837','XL280a','XL280alpha']]"
   ]
  },
  {
   "cell_type": "code",
   "execution_count": null,
   "metadata": {},
   "outputs": [],
   "source": [
    "AUCs.head()"
   ]
  },
  {
   "cell_type": "code",
   "execution_count": null,
   "metadata": {},
   "outputs": [],
   "source": [
    "sns.regplot(x='39.0_0.0',y='MI',data=AUCs);"
   ]
  },
  {
   "cell_type": "code",
   "execution_count": null,
   "metadata": {},
   "outputs": [],
   "source": [
    "np.corrcoef(*AUCs[['39.0_0.0','MI']].T.values)[0][1]"
   ]
  },
  {
   "cell_type": "code",
   "execution_count": null,
   "metadata": {},
   "outputs": [],
   "source": [
    "temp = AUCs[['39.0_0.0','MI']].copy()\n",
    "temp.columns = ['htg','MI']\n",
    "temp['LogMI'] = np.log10(temp.MI)\n",
    "smf.ols('LogMI~htg',data=temp).fit().summary()"
   ]
  },
  {
   "cell_type": "code",
   "execution_count": null,
   "metadata": {},
   "outputs": [],
   "source": [
    "gff = pd.read_csv('/home/croth/Downloads/xl280genome.gff3.csv.gz',index_col=0)"
   ]
  },
  {
   "cell_type": "code",
   "execution_count": null,
   "metadata": {},
   "outputs": [],
   "source": [
    "ssk2_pos = gff[(gff.gene=='CNL05560') & (gff.type=='gene')][['start','end']].values[0] "
   ]
  },
  {
   "cell_type": "code",
   "execution_count": null,
   "metadata": {},
   "outputs": [],
   "source": [
    "ssk2_mod = gv[gv.Pos.isin(np.arange(ssk2_pos[0]-1,ssk2_pos[-1],1)) & (gv.Chrom=='Chr12')][segs].mode(axis=0)"
   ]
  },
  {
   "cell_type": "code",
   "execution_count": null,
   "metadata": {},
   "outputs": [],
   "source": [
    "ssk2_mod.dropna(inplace=True)"
   ]
  },
  {
   "cell_type": "code",
   "execution_count": null,
   "metadata": {},
   "outputs": [],
   "source": [
    "qtlplot['ssk2'] = ssk2_mod[qtlplot.index].T"
   ]
  },
  {
   "cell_type": "code",
   "execution_count": null,
   "metadata": {},
   "outputs": [],
   "source": [
    "qtlplot.head()"
   ]
  },
  {
   "cell_type": "code",
   "execution_count": null,
   "metadata": {},
   "outputs": [],
   "source": [
    "cross_info = pd.read_csv('/home/croth/Desktop/QTL/CDx_PB_Ill_Sample_Info.csv',index_col=0)"
   ]
  },
  {
   "cell_type": "code",
   "execution_count": null,
   "metadata": {},
   "outputs": [],
   "source": [
    "segs = [s for s in qtlplot.index if s not in ['SS-A837','XL280a','XL280alpha']]"
   ]
  },
  {
   "cell_type": "code",
   "execution_count": null,
   "metadata": {},
   "outputs": [],
   "source": [
    "qtlplot['Sex'] = cross_info.T[segs].T['Code']"
   ]
  },
  {
   "cell_type": "code",
   "execution_count": null,
   "metadata": {},
   "outputs": [],
   "source": [
    "qtlplot.head()"
   ]
  },
  {
   "cell_type": "code",
   "execution_count": null,
   "metadata": {},
   "outputs": [],
   "source": [
    "qtlplot.groupby(['QTL','Sex']).count()"
   ]
  },
  {
   "cell_type": "code",
   "execution_count": null,
   "metadata": {},
   "outputs": [],
   "source": [
    "sns.lmplot(x='QTL',y='Melanin',hue='ssk2',data=qtlplot,x_jitter=0.2);"
   ]
  },
  {
   "cell_type": "code",
   "execution_count": null,
   "metadata": {},
   "outputs": [],
   "source": [
    "sns.lmplot(x='QTL',y='Melanin',hue='Sex',data=qtlplot,x_jitter=0.2);"
   ]
  },
  {
   "cell_type": "code",
   "execution_count": null,
   "metadata": {},
   "outputs": [],
   "source": [
    "sns.swarmplot(x='QTL',y='Melanin',hue='Sex',data=qtlplot);"
   ]
  },
  {
   "cell_type": "code",
   "execution_count": null,
   "metadata": {},
   "outputs": [],
   "source": [
    "sns.swarmplot(x='QTL',y='Melanin',hue='ssk2',data=qtlplot);"
   ]
  },
  {
   "cell_type": "code",
   "execution_count": null,
   "metadata": {},
   "outputs": [],
   "source": [
    "qtlplot.groupby(['QTL','ssk2']).count()"
   ]
  },
  {
   "cell_type": "code",
   "execution_count": null,
   "metadata": {},
   "outputs": [],
   "source": [
    "ssk2_mod.T.sum()/(ssk2_mod.shape[1])"
   ]
  },
  {
   "cell_type": "code",
   "execution_count": null,
   "metadata": {},
   "outputs": [],
   "source": [
    "ssk2_mod[qtlplot.index].sum().sum()/len(qtlplot.index)"
   ]
  },
  {
   "cell_type": "code",
   "execution_count": null,
   "metadata": {},
   "outputs": [],
   "source": [
    "qtlplot.shape"
   ]
  },
  {
   "cell_type": "code",
   "execution_count": null,
   "metadata": {
    "scrolled": true
   },
   "outputs": [],
   "source": [
    "qtlplot[(qtlplot.QTL==0) & (qtlplot.ssk2==0)].sort_values('Melanin',ascending=False)"
   ]
  },
  {
   "cell_type": "code",
   "execution_count": null,
   "metadata": {},
   "outputs": [],
   "source": [
    "qtlplot[(qtlplot.QTL==0) & (qtlplot.ssk2==1)].sort_values('Melanin',ascending=False).head()"
   ]
  },
  {
   "cell_type": "code",
   "execution_count": null,
   "metadata": {},
   "outputs": [],
   "source": [
    "pval_df.head()"
   ]
  },
  {
   "cell_type": "code",
   "execution_count": null,
   "metadata": {},
   "outputs": [],
   "source": [
    "AUC_pval['Melanin'] = pval_df['Melanin']."
   ]
  },
  {
   "cell_type": "code",
   "execution_count": null,
   "metadata": {},
   "outputs": [],
   "source": [
    "AUC_pval.to_csv('/home/croth/Desktop/Cdx_AUC_Melanin_pvals.csv',index=True)"
   ]
  },
  {
   "cell_type": "code",
   "execution_count": null,
   "metadata": {},
   "outputs": [],
   "source": [
    "temp_mel['30.0_0.0'].idxmax()"
   ]
  },
  {
   "cell_type": "code",
   "execution_count": null,
   "metadata": {},
   "outputs": [],
   "source": [
    "temp_mel = AUC_pval[(AUC_pval.Chrom=='Chr14')]\n",
    "plt.plot(temp_mel.Pos,temp_mel.Melanin/temp_mel.Melanin.max(),'k.');\n",
    "plt.plot(temp_mel.Pos,temp_mel['30.0_0.0']/temp_mel['30.0_0.0'].max(),'b.');\n",
    "plt.vlines(temp_mel.T[temp_mel['Melanin'].idxmax()].Pos,0,1,color='k');\n",
    "plt.vlines(temp_mel.T[temp_mel['30.0_0.0'].idxmax()].Pos,0,1,color='b');"
   ]
  },
  {
   "cell_type": "code",
   "execution_count": null,
   "metadata": {},
   "outputs": [],
   "source": [
    "temp_mel = AUC_pval[(AUC_pval.Chrom=='Chr14')]\n",
    "plt.plot(temp_mel.Pos,temp_mel.Melanin/temp_mel.Melanin.max(),'k.');\n",
    "plt.plot(temp_mel.Pos,temp_mel['39.0_0.075']/temp_mel['39.0_0.075'].max(),'.',color='tab:orange');\n",
    "plt.vlines(temp_mel.T[temp_mel['Melanin'].idxmax()].Pos,0,1,color='k');\n",
    "plt.vlines(temp_mel.T[temp_mel['39.0_0.075'].idxmax()].Pos,0,1,color='tab:orange');"
   ]
  },
  {
   "cell_type": "code",
   "execution_count": null,
   "metadata": {},
   "outputs": [],
   "source": [
    "temp_mel = AUC_pval[(AUC_pval.Chrom=='Chr14')]\n",
    "plt.plot(temp_mel.Pos,temp_mel.Melanin/temp_mel.Melanin.max(),'k.');\n",
    "plt.plot(temp_mel.Pos,temp_mel['39.0_0.0']/temp_mel['39.0_0.0'].max(),'r.');\n",
    "plt.vlines(temp_mel.T[temp_mel['Melanin'].idxmax()].Pos,0,1,color='k');\n",
    "plt.vlines(temp_mel.T[temp_mel['39.0_0.0'].idxmax()].Pos,0,1,color='r');"
   ]
  },
  {
   "cell_type": "code",
   "execution_count": null,
   "metadata": {},
   "outputs": [],
   "source": [
    "temp_mel['39.0_0.0'].max()"
   ]
  },
  {
   "cell_type": "code",
   "execution_count": null,
   "metadata": {},
   "outputs": [],
   "source": [
    "temp_mel[(temp_mel['39.0_0.0']>6.8)]"
   ]
  },
  {
   "cell_type": "code",
   "execution_count": null,
   "metadata": {},
   "outputs": [],
   "source": [
    "temp_mel['Melanin'].max()"
   ]
  },
  {
   "cell_type": "code",
   "execution_count": null,
   "metadata": {},
   "outputs": [],
   "source": [
    "temp_mel[(temp_mel.Melanin>12)]"
   ]
  },
  {
   "cell_type": "code",
   "execution_count": null,
   "metadata": {},
   "outputs": [],
   "source": []
  },
  {
   "cell_type": "code",
   "execution_count": null,
   "metadata": {},
   "outputs": [],
   "source": [
    "qtlplot.T[AUCs.index]"
   ]
  },
  {
   "cell_type": "code",
   "execution_count": null,
   "metadata": {},
   "outputs": [],
   "source": [
    "AUCs[['QTL14melanin','Melanin']] = qtlplot.T[AUCs.index].T"
   ]
  },
  {
   "cell_type": "code",
   "execution_count": null,
   "metadata": {},
   "outputs": [],
   "source": [
    "AUCs"
   ]
  },
  {
   "cell_type": "code",
   "execution_count": null,
   "metadata": {},
   "outputs": [],
   "source": [
    "AUCs.to_csv('/home/croth/Desktop/Cdx_AUC_Melanin_QTL.csv')"
   ]
  },
  {
   "cell_type": "code",
   "execution_count": null,
   "metadata": {},
   "outputs": [],
   "source": [
    "temp = qtlplot.merge(qtl2)\n",
    "QTLs = temp.merge(qtl14)"
   ]
  },
  {
   "cell_type": "code",
   "execution_count": null,
   "metadata": {},
   "outputs": [],
   "source": [
    "QTLs.shape"
   ]
  },
  {
   "cell_type": "code",
   "execution_count": null,
   "metadata": {},
   "outputs": [],
   "source": [
    "qtl14.head()"
   ]
  },
  {
   "cell_type": "code",
   "execution_count": null,
   "metadata": {},
   "outputs": [],
   "source": [
    "QTLs.head()"
   ]
  },
  {
   "cell_type": "markdown",
   "metadata": {},
   "source": [
    "QTLs['LMI'] = np.log10(QTLs['MeanInt'])"
   ]
  },
  {
   "cell_type": "code",
   "execution_count": null,
   "metadata": {},
   "outputs": [],
   "source": [
    "mod = smf.ols(formula='MeanInt~Htg', data=QTLs)\n",
    "res = mod.fit()"
   ]
  },
  {
   "cell_type": "code",
   "execution_count": null,
   "metadata": {},
   "outputs": [],
   "source": [
    "res.summary()"
   ]
  },
  {
   "cell_type": "code",
   "execution_count": null,
   "metadata": {},
   "outputs": [],
   "source": [
    "np.sqrt(res.rsquared)"
   ]
  },
  {
   "cell_type": "code",
   "execution_count": null,
   "metadata": {},
   "outputs": [],
   "source": [
    "fig,ax = plt.subplots(1,1,figsize=(8,5))\n",
    "plt.plot(*QTLs[(QTLs.Strain=='SS-A837')][['Htg','MeanInt']].T.values,\n",
    "         '*',color='tab:orange',ms=20,alpha=0.31)\n",
    "plt.plot(*QTLs[(QTLs.Strain.isin(['XL280a','XL280alpha']))][['Htg','MeanInt']].T.values,\n",
    "         '*',color='tab:blue',ms=20,alpha=0.31)\n",
    "plt.scatter(QTLs.Htg[(QTLs.Geno==1)], QTLs.MeanInt[(QTLs.Geno==1)], \n",
    "            c = QTLs.Drug[(QTLs.Geno==1)], \n",
    "            marker= '^', cmap = 'viridis',label='431'+'\\u03B1')\n",
    "plt.scatter(QTLs.Htg[(QTLs.Geno==0)], QTLs.MeanInt[(QTLs.Geno==0)], \n",
    "            c = QTLs.Drug[(QTLs.Geno==0)], \n",
    "            marker= 'o', cmap = 'viridis',label='XL280')\n",
    "\n",
    "cbar = plt.colorbar()\n",
    "sns.regplot(x='Htg',y='MeanInt',data=QTLs,\n",
    "            scatter_kws={'alpha':0},\n",
    "            line_kws={'color':'k','alpha':0.125});\n",
    "plt.legend(loc=4, title=\"Allele\",frameon=False);\n",
    "plt.xlabel('Area Under the Curve\\nat 39 °C',fontsize=14);\n",
    "plt.ylabel('Mean Intensity\\nDark                                         Light',fontsize=14);\n",
    "fig.text(.89,0.5,s='Area Under the Curve\\nat 30 °C with\\n0.125 ${\\mu}$g/mL of Amphotericin B.',\n",
    "         rotation=-90,fontsize=14,va='center',ha='center');\n",
    "fig.text(.55,0.2,s = '$R^{2} = %s$'%np.round(res.rsquared,2),\n",
    "         va='center',ha='center');\n",
    "plt.savefig('/home/croth/Desktop/QTL14_Htg_vs_QTL14_MI_color_QTL2_AmphB.png',\n",
    "           dpi=300,bbox_inches='tight');"
   ]
  },
  {
   "cell_type": "code",
   "execution_count": null,
   "metadata": {},
   "outputs": [],
   "source": []
  },
  {
   "cell_type": "code",
   "execution_count": null,
   "metadata": {},
   "outputs": [],
   "source": [
    "QTLsc = QTLs.merge(cross_info[['Strain','Code']])"
   ]
  },
  {
   "cell_type": "code",
   "execution_count": null,
   "metadata": {},
   "outputs": [],
   "source": [
    "?plt.scatter"
   ]
  },
  {
   "cell_type": "code",
   "execution_count": null,
   "metadata": {},
   "outputs": [],
   "source": [
    "QTLsc"
   ]
  },
  {
   "cell_type": "code",
   "execution_count": null,
   "metadata": {},
   "outputs": [],
   "source": [
    "fig,ax = plt.subplots(1,1,figsize=(8,5))\n",
    "plt.plot(*QTLs[(QTLs.Strain=='SS-A837')][['Htg','MeanInt']].T.values,\n",
    "         '*',color='tab:orange',ms=20,alpha=0.31)\n",
    "plt.plot(*QTLs[(QTLs.Strain.isin(['XL280a','XL280alpha']))][['Htg','MeanInt']].T.values,\n",
    "         '*',color='tab:blue',ms=20,alpha=0.31)\n",
    "\n",
    "#plt.scatter(QTLsc.Htg[(QTLsc.Code==2)], QTLsc.MeanInt[(QTLsc.Code==2)], \n",
    "#            marker = '*',color='tab:red', label='Uni',s=250,alpha=0.5)\n",
    "#plt.scatter(QTLsc.Htg[(QTLsc.Code==1)], QTLsc.MeanInt[(QTLsc.Code==1)], \n",
    "#            marker = '*',color='k',label='bi',s=250,alpha=0.5)\n",
    "\n",
    "plt.scatter(QTLs.Htg[(QTLs.Geno==1)], QTLs.MeanInt[(QTLs.Geno==1)], \n",
    "            c = QTLs.Drug[(QTLs.Geno==1)], \n",
    "            marker= '^', cmap = 'viridis',label='431'+'\\u03B1')\n",
    "plt.scatter(QTLs.Htg[(QTLs.Geno==0)], QTLs.MeanInt[(QTLs.Geno==0)], \n",
    "            c = QTLs.Drug[(QTLs.Geno==0)], \n",
    "            marker= 'o', cmap = 'viridis',label='XL280')\n",
    "\n",
    "plt.plot(*QTLs[(QTLs.Strain.isin(SSK1_xl280_progeny))][['Htg','MeanInt']].T.values,\n",
    "         'r.',ms=5)\n",
    "\n",
    "plt.plot(*QTLs[(QTLs.Strain.isin(SSK1_431_progeny))][['Htg','MeanInt']].T.values,\n",
    "         'r.',ms=5)\n",
    "\n",
    "cbar = plt.colorbar()\n",
    "sns.regplot(x='Htg',y='MeanInt',data=QTLsc,\n",
    "            scatter_kws={'alpha':0},\n",
    "            line_kws={'color':'k','alpha':0.125});\n",
    "plt.legend(loc=4, title=\"Allele\",frameon=False);\n",
    "plt.xlabel('Area Under the Curve\\nat 39 °C',fontsize=14);\n",
    "plt.ylabel('Mean Intensity\\nDark                                         Light',fontsize=14);\n",
    "fig.text(.89,0.5,s='Area Under the Curve\\nat 30 °C with\\n0.125 ${\\mu}$g/mL of Amphotericin B.',\n",
    "         rotation=-90,fontsize=14,va='center',ha='center');\n",
    "fig.text(.55,0.2,s = '$R^{2} = %s$'%np.round(res.rsquared,2),\n",
    "         va='center',ha='center');\n",
    "plt.savefig('/home/croth/Desktop/QTL14_Htg_vs_QTL14_MI_color_QTL2_AmphB_for_dm.png',\n",
    "           dpi=300,bbox_inches='tight');"
   ]
  },
  {
   "cell_type": "code",
   "execution_count": null,
   "metadata": {},
   "outputs": [],
   "source": [
    "QTLsc['Name'] = QTLsc.Strain.apply(len)"
   ]
  },
  {
   "cell_type": "code",
   "execution_count": null,
   "metadata": {},
   "outputs": [],
   "source": [
    "SSK1_431_progeny = QTLsc[(QTLsc.Geno==1) & (QTLsc.Htg>0) & (QTLsc.Htg<10) & \n",
    "      (QTLsc.Code==1) & (QTLsc.MeanInt>8000) & (QTLsc.MeanInt<15000) & (QTLsc.Name==7)].Strain.values\n",
    "SSK1_431_progeny"
   ]
  },
  {
   "cell_type": "code",
   "execution_count": null,
   "metadata": {},
   "outputs": [],
   "source": [
    "SSK1_xl280_progeny = QTLsc[(QTLsc.Geno==0) & (QTLsc.Htg>15) & (QTLsc.Htg<23) & \n",
    "      (QTLsc.Code==1) & (QTLsc.MeanInt>16000) & (QTLsc.Name==7)].Strain.values\n",
    "SSK1_xl280_progeny"
   ]
  },
  {
   "cell_type": "code",
   "execution_count": null,
   "metadata": {},
   "outputs": [],
   "source": [
    "QTLsc[(QTLsc.Strain.isin(SSK1_431_progeny)) | (QTLsc.Strain.isin(SSK1_xl280_progeny))]"
   ]
  },
  {
   "cell_type": "code",
   "execution_count": null,
   "metadata": {},
   "outputs": [],
   "source": [
    "qtl2[(qtl2.Strain.isin(SSK1_xl280_progeny))]"
   ]
  },
  {
   "cell_type": "code",
   "execution_count": null,
   "metadata": {},
   "outputs": [],
   "source": [
    "qtl2[(qtl2.Strain.isin(SSK1_431_progeny))]"
   ]
  },
  {
   "cell_type": "code",
   "execution_count": null,
   "metadata": {},
   "outputs": [],
   "source": [
    "check = pd.concat([qtl2.sort_values('Strain')[['Strain','Geno']],\n",
    "           qtl14.sort_values('Strain').reset_index()[['Strain','Geno']],\n",
    "           qtlplot.sort_values('Strain').reset_index()[['Strain','Geno']]],axis=1)\n",
    "check.columns = ['Strain','DurgQTL','Strain1','TempQTL','Strain2','MelQTL']"
   ]
  },
  {
   "cell_type": "code",
   "execution_count": null,
   "metadata": {},
   "outputs": [],
   "source": [
    "check[(check.Strain.isin(SSK1_431_progeny))]"
   ]
  },
  {
   "cell_type": "code",
   "execution_count": null,
   "metadata": {},
   "outputs": [],
   "source": [
    "check[(check.Strain.isin(SSK1_xl280_progeny))]"
   ]
  },
  {
   "cell_type": "code",
   "execution_count": null,
   "metadata": {},
   "outputs": [],
   "source": [
    "x = 'Htg'\n",
    "y = 'MeanInt'\n",
    "sns.scatterplot(x=x,y=y,data=QTLs,hue='Geno');\n",
    "sns.regplot(x=x,y=y,data=QTLs,\n",
    "            scatter_kws={'alpha':0},\n",
    "            line_kws={'color':'r','alpha':0.5});\n",
    "plt.legend(loc=4);"
   ]
  },
  {
   "cell_type": "code",
   "execution_count": null,
   "metadata": {},
   "outputs": [],
   "source": [
    "qtlplot.to_csv('./Melanin_QTL_Genotype_phenotype.csv',index=True);"
   ]
  },
  {
   "cell_type": "code",
   "execution_count": null,
   "metadata": {},
   "outputs": [],
   "source": [
    "MaxPval = pd.read_csv('/home/croth/Downloads/cdx-kwak-AUC-dxt-max-pval.csv',index_col=0)"
   ]
  },
  {
   "cell_type": "code",
   "execution_count": null,
   "metadata": {},
   "outputs": [],
   "source": [
    "gff = pd.read_csv('/home/croth/Downloads/xl280genome.gff3.csv.gz',index_col=0)"
   ]
  },
  {
   "cell_type": "code",
   "execution_count": null,
   "metadata": {},
   "outputs": [],
   "source": [
    "ccc2_start = gff[(gff.contig=='Chr14') & (gff.gene=='CNN01400')]['start'].min()\n",
    "ccc2_end = gff[(gff.contig=='Chr14') & (gff.gene=='CNN01400')]['end'].max()"
   ]
  },
  {
   "cell_type": "code",
   "execution_count": null,
   "metadata": {},
   "outputs": [],
   "source": [
    "plt.plot(*pval_df[(pval_df.Chrom=='Chr14')][['Pos','Melanin']].T.values,'k-o');\n",
    "plt.plot(*MaxPval[(MaxPval.Chrom=='Chr14')][['Pos','Maxp']].T.values,'-.');\n",
    "plt.vlines((ccc2_start,ccc2_end),0,13,color='red',linewidth=0.5);\n",
    "plt.vlines((386833,389699),0,13,color='g',linewidth=0.5);\n",
    "plt.text(200000,12,'CNN01270\\n(RIC8 in H99)',color='g',va='center',ha='center');\n",
    "plt.text(600000,12,'CNN01400\\n(CCC2 in H99)',color='r',va='center',ha='center');\n",
    "plt.xlabel('Chromosome 14 Coordinantes (bp)\\nMelanization QTL',fontsize=16);\n",
    "plt.ylabel(\"$-log_{10}(p-value)$\",fontsize=16);\n",
    "plt.savefig('./Melanin_QTL_14.png',dpi=100,bbox_inches='tight');"
   ]
  },
  {
   "cell_type": "code",
   "execution_count": null,
   "metadata": {},
   "outputs": [],
   "source": [
    "gv.T[pval_df[(pval_df.Melanin>11.7)].index].T['Block']"
   ]
  },
  {
   "cell_type": "code",
   "execution_count": null,
   "metadata": {},
   "outputs": [],
   "source": [
    "maxhappos = gv[(gv.Block.isin([3019,3020,3021]))].Pos.values"
   ]
  },
  {
   "cell_type": "code",
   "execution_count": null,
   "metadata": {},
   "outputs": [],
   "source": [
    "maxhappos.min(),maxhappos.max()"
   ]
  },
  {
   "cell_type": "code",
   "execution_count": null,
   "metadata": {},
   "outputs": [],
   "source": [
    "max_gens = gff[(gff.contig=='Chr14') & (gff.start>=maxhappos.min()) & (gff.end<=maxhappos.max()) & (gff.type=='gene')]"
   ]
  },
  {
   "cell_type": "code",
   "execution_count": null,
   "metadata": {},
   "outputs": [],
   "source": [
    "genes = pd.read_csv('/home/croth/Downloads/XL280_431_gene_analysis.csv.gz')"
   ]
  },
  {
   "cell_type": "code",
   "execution_count": null,
   "metadata": {},
   "outputs": [],
   "source": [
    "genes[(genes.gene.isin(max_gens.gene))]"
   ]
  },
  {
   "cell_type": "code",
   "execution_count": null,
   "metadata": {},
   "outputs": [],
   "source": [
    "max_gens"
   ]
  },
  {
   "cell_type": "code",
   "execution_count": null,
   "metadata": {},
   "outputs": [],
   "source": [
    "CNN01270 = gff[(gff.gene=='CNN01270')].copy()"
   ]
  },
  {
   "cell_type": "code",
   "execution_count": null,
   "metadata": {},
   "outputs": [],
   "source": [
    "CNN01270['Pos'] = CNN01270['start'] - CNN01270['start'].min()"
   ]
  },
  {
   "cell_type": "code",
   "execution_count": null,
   "metadata": {},
   "outputs": [],
   "source": [
    "CNN01270"
   ]
  },
  {
   "cell_type": "code",
   "execution_count": null,
   "metadata": {},
   "outputs": [],
   "source": []
  },
  {
   "cell_type": "code",
   "execution_count": null,
   "metadata": {},
   "outputs": [],
   "source": [
    "cross = pd.read_csv('/home/croth/Downloads/CDx_PB_Ill_Sample_Info.csv')"
   ]
  },
  {
   "cell_type": "code",
   "execution_count": null,
   "metadata": {},
   "outputs": [],
   "source": [
    "cross[(cross.Code>2)]"
   ]
  },
  {
   "cell_type": "code",
   "execution_count": null,
   "metadata": {},
   "outputs": [],
   "source": [
    "cross[['Strain','Code']]"
   ]
  },
  {
   "cell_type": "code",
   "execution_count": null,
   "metadata": {},
   "outputs": [],
   "source": []
  },
  {
   "cell_type": "code",
   "execution_count": null,
   "metadata": {},
   "outputs": [],
   "source": []
  },
  {
   "cell_type": "code",
   "execution_count": null,
   "metadata": {},
   "outputs": [],
   "source": []
  },
  {
   "cell_type": "code",
   "execution_count": null,
   "metadata": {},
   "outputs": [],
   "source": []
  },
  {
   "cell_type": "code",
   "execution_count": null,
   "metadata": {},
   "outputs": [],
   "source": []
  },
  {
   "cell_type": "code",
   "execution_count": null,
   "metadata": {},
   "outputs": [],
   "source": []
  },
  {
   "cell_type": "code",
   "execution_count": null,
   "metadata": {},
   "outputs": [],
   "source": []
  }
 ],
 "metadata": {
  "kernelspec": {
   "display_name": "Python 3",
   "language": "python",
   "name": "python3"
  },
  "language_info": {
   "codemirror_mode": {
    "name": "ipython",
    "version": 3
   },
   "file_extension": ".py",
   "mimetype": "text/x-python",
   "name": "python",
   "nbconvert_exporter": "python",
   "pygments_lexer": "ipython3",
   "version": "3.8.5"
  }
 },
 "nbformat": 4,
 "nbformat_minor": 4
}
