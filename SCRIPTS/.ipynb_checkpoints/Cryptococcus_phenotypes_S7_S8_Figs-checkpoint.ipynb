{
 "cells": [
  {
   "cell_type": "code",
   "execution_count": 1,
   "metadata": {},
   "outputs": [],
   "source": [
    "import numpy as np, pandas as pd, scipy.stats as ss, seaborn as sns, os\n",
    "from sklearn.decomposition import PCA\n",
    "from matplotlib import pyplot as plt\n",
    "%matplotlib inline\n",
    "\n",
    "def allelic_ANOVA(site, pheno):\n",
    "    \"\"\"This regression is equivalent to one-way ANOVA with 2 groups. Return F-statistic.\n",
    "\n",
    "    Assumes site is coded as -1, 1\n",
    "    \"\"\"\n",
    "    #pheno = pheno.dropna();assert len(pheno) > 0;\n",
    "    coding = np.array(site,np.float)\n",
    "    pheno = np.array(pheno,np.float)\n",
    "\n",
    "    meany = np.mean(pheno)\n",
    "    meandummy = np.mean(coding)\n",
    "    ctry = pheno - meany\n",
    "    ctrdummy = coding - meandummy\n",
    "    \n",
    "    # regression coefficient and intercept\n",
    "    b = np.dot(ctry, ctrdummy)/np.dot(ctrdummy, ctrdummy)\n",
    "    intercept = meany - b * meandummy\n",
    "    \n",
    "    yhat = b * ctrdummy\n",
    "    len_yhat = np.sqrt(np.dot(yhat,yhat))\n",
    "    len_y = np.sqrt(np.dot(ctry,ctry))\n",
    "    df_yhat = 1\n",
    "    \n",
    "    error = ctry  - yhat\n",
    "    len_error = np.sqrt(np.dot(error,error))\n",
    "    if abs(len_error**2) < 1e-5:\n",
    "        raise Exception(\"Zero length error in ANOVA\")\n",
    "    df_error = len(pheno) - 2\n",
    "    \n",
    "    # coefficient of determination is R**2\n",
    "    #R = len_yhat/len_y\n",
    "    \n",
    "    # F-statistic\n",
    "    F = (len_yhat**2/df_yhat) / (len_error**2/df_error)\n",
    "    return F\n",
    "\n",
    "def association_logPval(site, pheno):\n",
    "    F = allelic_ANOVA(site, pheno)\n",
    "    logP = np.log10(ss.f.sf(F, 1, len(pheno)-2))\n",
    "    return -logP\n",
    "\n",
    "def myminmax(x):\n",
    "    x = np.array(x)\n",
    "    return (x-x.min())/(x.max()-x.min())"
   ]
  },
  {
   "cell_type": "code",
   "execution_count": 2,
   "metadata": {},
   "outputs": [],
   "source": [
    "from matplotlib import rc\n",
    "xl280al = 'XL280'+r'$\\alpha$'#+'SS'\n",
    "xl280_label = 'XL280' +r'$\\bf{a}$'\n",
    "_431_label = '431'+r'$\\mathrm{\\alpha}$'"
   ]
  },
  {
   "cell_type": "code",
   "execution_count": 3,
   "metadata": {},
   "outputs": [
    {
     "ename": "FileNotFoundError",
     "evalue": "[Errno 2] No such file or directory: '/home/croth/CDx-ill-SNP-INDEL-df-104-blocked.csv.gz'",
     "output_type": "error",
     "traceback": [
      "\u001b[0;31m---------------------------------------------------------------------------\u001b[0m",
      "\u001b[0;31mFileNotFoundError\u001b[0m                         Traceback (most recent call last)",
      "\u001b[0;32m<ipython-input-3-5edbc55a2e3e>\u001b[0m in \u001b[0;36m<module>\u001b[0;34m\u001b[0m\n\u001b[1;32m      1\u001b[0m \u001b[0;31m## Bring in genotype data\u001b[0m\u001b[0;34m\u001b[0m\u001b[0;34m\u001b[0m\u001b[0;34m\u001b[0m\u001b[0m\n\u001b[1;32m      2\u001b[0m \u001b[0mgeno_path\u001b[0m \u001b[0;34m=\u001b[0m \u001b[0;34m'~/CDx-ill-SNP-INDEL-df-104-blocked.csv.gz'\u001b[0m\u001b[0;34m\u001b[0m\u001b[0;34m\u001b[0m\u001b[0m\n\u001b[0;32m----> 3\u001b[0;31m \u001b[0mgeno_df\u001b[0m \u001b[0;34m=\u001b[0m \u001b[0mpd\u001b[0m\u001b[0;34m.\u001b[0m\u001b[0mread_csv\u001b[0m\u001b[0;34m(\u001b[0m\u001b[0mgeno_path\u001b[0m\u001b[0;34m)\u001b[0m\u001b[0;34m\u001b[0m\u001b[0;34m\u001b[0m\u001b[0m\n\u001b[0m\u001b[1;32m      4\u001b[0m \u001b[0;34m\u001b[0m\u001b[0m\n\u001b[1;32m      5\u001b[0m \u001b[0;31m## Define chromosomes\u001b[0m\u001b[0;34m\u001b[0m\u001b[0;34m\u001b[0m\u001b[0;34m\u001b[0m\u001b[0m\n",
      "\u001b[0;32m~/anaconda3/lib/python3.8/site-packages/pandas/io/parsers.py\u001b[0m in \u001b[0;36mread_csv\u001b[0;34m(filepath_or_buffer, sep, delimiter, header, names, index_col, usecols, squeeze, prefix, mangle_dupe_cols, dtype, engine, converters, true_values, false_values, skipinitialspace, skiprows, skipfooter, nrows, na_values, keep_default_na, na_filter, verbose, skip_blank_lines, parse_dates, infer_datetime_format, keep_date_col, date_parser, dayfirst, cache_dates, iterator, chunksize, compression, thousands, decimal, lineterminator, quotechar, quoting, doublequote, escapechar, comment, encoding, dialect, error_bad_lines, warn_bad_lines, delim_whitespace, low_memory, memory_map, float_precision)\u001b[0m\n\u001b[1;32m    684\u001b[0m     )\n\u001b[1;32m    685\u001b[0m \u001b[0;34m\u001b[0m\u001b[0m\n\u001b[0;32m--> 686\u001b[0;31m     \u001b[0;32mreturn\u001b[0m \u001b[0m_read\u001b[0m\u001b[0;34m(\u001b[0m\u001b[0mfilepath_or_buffer\u001b[0m\u001b[0;34m,\u001b[0m \u001b[0mkwds\u001b[0m\u001b[0;34m)\u001b[0m\u001b[0;34m\u001b[0m\u001b[0;34m\u001b[0m\u001b[0m\n\u001b[0m\u001b[1;32m    687\u001b[0m \u001b[0;34m\u001b[0m\u001b[0m\n\u001b[1;32m    688\u001b[0m \u001b[0;34m\u001b[0m\u001b[0m\n",
      "\u001b[0;32m~/anaconda3/lib/python3.8/site-packages/pandas/io/parsers.py\u001b[0m in \u001b[0;36m_read\u001b[0;34m(filepath_or_buffer, kwds)\u001b[0m\n\u001b[1;32m    450\u001b[0m \u001b[0;34m\u001b[0m\u001b[0m\n\u001b[1;32m    451\u001b[0m     \u001b[0;31m# Create the parser.\u001b[0m\u001b[0;34m\u001b[0m\u001b[0;34m\u001b[0m\u001b[0;34m\u001b[0m\u001b[0m\n\u001b[0;32m--> 452\u001b[0;31m     \u001b[0mparser\u001b[0m \u001b[0;34m=\u001b[0m \u001b[0mTextFileReader\u001b[0m\u001b[0;34m(\u001b[0m\u001b[0mfp_or_buf\u001b[0m\u001b[0;34m,\u001b[0m \u001b[0;34m**\u001b[0m\u001b[0mkwds\u001b[0m\u001b[0;34m)\u001b[0m\u001b[0;34m\u001b[0m\u001b[0;34m\u001b[0m\u001b[0m\n\u001b[0m\u001b[1;32m    453\u001b[0m \u001b[0;34m\u001b[0m\u001b[0m\n\u001b[1;32m    454\u001b[0m     \u001b[0;32mif\u001b[0m \u001b[0mchunksize\u001b[0m \u001b[0;32mor\u001b[0m \u001b[0miterator\u001b[0m\u001b[0;34m:\u001b[0m\u001b[0;34m\u001b[0m\u001b[0;34m\u001b[0m\u001b[0m\n",
      "\u001b[0;32m~/anaconda3/lib/python3.8/site-packages/pandas/io/parsers.py\u001b[0m in \u001b[0;36m__init__\u001b[0;34m(self, f, engine, **kwds)\u001b[0m\n\u001b[1;32m    934\u001b[0m             \u001b[0mself\u001b[0m\u001b[0;34m.\u001b[0m\u001b[0moptions\u001b[0m\u001b[0;34m[\u001b[0m\u001b[0;34m\"has_index_names\"\u001b[0m\u001b[0;34m]\u001b[0m \u001b[0;34m=\u001b[0m \u001b[0mkwds\u001b[0m\u001b[0;34m[\u001b[0m\u001b[0;34m\"has_index_names\"\u001b[0m\u001b[0;34m]\u001b[0m\u001b[0;34m\u001b[0m\u001b[0;34m\u001b[0m\u001b[0m\n\u001b[1;32m    935\u001b[0m \u001b[0;34m\u001b[0m\u001b[0m\n\u001b[0;32m--> 936\u001b[0;31m         \u001b[0mself\u001b[0m\u001b[0;34m.\u001b[0m\u001b[0m_make_engine\u001b[0m\u001b[0;34m(\u001b[0m\u001b[0mself\u001b[0m\u001b[0;34m.\u001b[0m\u001b[0mengine\u001b[0m\u001b[0;34m)\u001b[0m\u001b[0;34m\u001b[0m\u001b[0;34m\u001b[0m\u001b[0m\n\u001b[0m\u001b[1;32m    937\u001b[0m \u001b[0;34m\u001b[0m\u001b[0m\n\u001b[1;32m    938\u001b[0m     \u001b[0;32mdef\u001b[0m \u001b[0mclose\u001b[0m\u001b[0;34m(\u001b[0m\u001b[0mself\u001b[0m\u001b[0;34m)\u001b[0m\u001b[0;34m:\u001b[0m\u001b[0;34m\u001b[0m\u001b[0;34m\u001b[0m\u001b[0m\n",
      "\u001b[0;32m~/anaconda3/lib/python3.8/site-packages/pandas/io/parsers.py\u001b[0m in \u001b[0;36m_make_engine\u001b[0;34m(self, engine)\u001b[0m\n\u001b[1;32m   1166\u001b[0m     \u001b[0;32mdef\u001b[0m \u001b[0m_make_engine\u001b[0m\u001b[0;34m(\u001b[0m\u001b[0mself\u001b[0m\u001b[0;34m,\u001b[0m \u001b[0mengine\u001b[0m\u001b[0;34m=\u001b[0m\u001b[0;34m\"c\"\u001b[0m\u001b[0;34m)\u001b[0m\u001b[0;34m:\u001b[0m\u001b[0;34m\u001b[0m\u001b[0;34m\u001b[0m\u001b[0m\n\u001b[1;32m   1167\u001b[0m         \u001b[0;32mif\u001b[0m \u001b[0mengine\u001b[0m \u001b[0;34m==\u001b[0m \u001b[0;34m\"c\"\u001b[0m\u001b[0;34m:\u001b[0m\u001b[0;34m\u001b[0m\u001b[0;34m\u001b[0m\u001b[0m\n\u001b[0;32m-> 1168\u001b[0;31m             \u001b[0mself\u001b[0m\u001b[0;34m.\u001b[0m\u001b[0m_engine\u001b[0m \u001b[0;34m=\u001b[0m \u001b[0mCParserWrapper\u001b[0m\u001b[0;34m(\u001b[0m\u001b[0mself\u001b[0m\u001b[0;34m.\u001b[0m\u001b[0mf\u001b[0m\u001b[0;34m,\u001b[0m \u001b[0;34m**\u001b[0m\u001b[0mself\u001b[0m\u001b[0;34m.\u001b[0m\u001b[0moptions\u001b[0m\u001b[0;34m)\u001b[0m\u001b[0;34m\u001b[0m\u001b[0;34m\u001b[0m\u001b[0m\n\u001b[0m\u001b[1;32m   1169\u001b[0m         \u001b[0;32melse\u001b[0m\u001b[0;34m:\u001b[0m\u001b[0;34m\u001b[0m\u001b[0;34m\u001b[0m\u001b[0m\n\u001b[1;32m   1170\u001b[0m             \u001b[0;32mif\u001b[0m \u001b[0mengine\u001b[0m \u001b[0;34m==\u001b[0m \u001b[0;34m\"python\"\u001b[0m\u001b[0;34m:\u001b[0m\u001b[0;34m\u001b[0m\u001b[0;34m\u001b[0m\u001b[0m\n",
      "\u001b[0;32m~/anaconda3/lib/python3.8/site-packages/pandas/io/parsers.py\u001b[0m in \u001b[0;36m__init__\u001b[0;34m(self, src, **kwds)\u001b[0m\n\u001b[1;32m   1996\u001b[0m         \u001b[0mkwds\u001b[0m\u001b[0;34m[\u001b[0m\u001b[0;34m\"usecols\"\u001b[0m\u001b[0;34m]\u001b[0m \u001b[0;34m=\u001b[0m \u001b[0mself\u001b[0m\u001b[0;34m.\u001b[0m\u001b[0musecols\u001b[0m\u001b[0;34m\u001b[0m\u001b[0;34m\u001b[0m\u001b[0m\n\u001b[1;32m   1997\u001b[0m \u001b[0;34m\u001b[0m\u001b[0m\n\u001b[0;32m-> 1998\u001b[0;31m         \u001b[0mself\u001b[0m\u001b[0;34m.\u001b[0m\u001b[0m_reader\u001b[0m \u001b[0;34m=\u001b[0m \u001b[0mparsers\u001b[0m\u001b[0;34m.\u001b[0m\u001b[0mTextReader\u001b[0m\u001b[0;34m(\u001b[0m\u001b[0msrc\u001b[0m\u001b[0;34m,\u001b[0m \u001b[0;34m**\u001b[0m\u001b[0mkwds\u001b[0m\u001b[0;34m)\u001b[0m\u001b[0;34m\u001b[0m\u001b[0;34m\u001b[0m\u001b[0m\n\u001b[0m\u001b[1;32m   1999\u001b[0m         \u001b[0mself\u001b[0m\u001b[0;34m.\u001b[0m\u001b[0munnamed_cols\u001b[0m \u001b[0;34m=\u001b[0m \u001b[0mself\u001b[0m\u001b[0;34m.\u001b[0m\u001b[0m_reader\u001b[0m\u001b[0;34m.\u001b[0m\u001b[0munnamed_cols\u001b[0m\u001b[0;34m\u001b[0m\u001b[0;34m\u001b[0m\u001b[0m\n\u001b[1;32m   2000\u001b[0m \u001b[0;34m\u001b[0m\u001b[0m\n",
      "\u001b[0;32mpandas/_libs/parsers.pyx\u001b[0m in \u001b[0;36mpandas._libs.parsers.TextReader.__cinit__\u001b[0;34m()\u001b[0m\n",
      "\u001b[0;32mpandas/_libs/parsers.pyx\u001b[0m in \u001b[0;36mpandas._libs.parsers.TextReader._setup_parser_source\u001b[0;34m()\u001b[0m\n",
      "\u001b[0;32m~/anaconda3/lib/python3.8/gzip.py\u001b[0m in \u001b[0;36m__init__\u001b[0;34m(self, filename, mode, compresslevel, fileobj, mtime)\u001b[0m\n\u001b[1;32m    171\u001b[0m             \u001b[0mmode\u001b[0m \u001b[0;34m+=\u001b[0m \u001b[0;34m'b'\u001b[0m\u001b[0;34m\u001b[0m\u001b[0;34m\u001b[0m\u001b[0m\n\u001b[1;32m    172\u001b[0m         \u001b[0;32mif\u001b[0m \u001b[0mfileobj\u001b[0m \u001b[0;32mis\u001b[0m \u001b[0;32mNone\u001b[0m\u001b[0;34m:\u001b[0m\u001b[0;34m\u001b[0m\u001b[0;34m\u001b[0m\u001b[0m\n\u001b[0;32m--> 173\u001b[0;31m             \u001b[0mfileobj\u001b[0m \u001b[0;34m=\u001b[0m \u001b[0mself\u001b[0m\u001b[0;34m.\u001b[0m\u001b[0mmyfileobj\u001b[0m \u001b[0;34m=\u001b[0m \u001b[0mbuiltins\u001b[0m\u001b[0;34m.\u001b[0m\u001b[0mopen\u001b[0m\u001b[0;34m(\u001b[0m\u001b[0mfilename\u001b[0m\u001b[0;34m,\u001b[0m \u001b[0mmode\u001b[0m \u001b[0;32mor\u001b[0m \u001b[0;34m'rb'\u001b[0m\u001b[0;34m)\u001b[0m\u001b[0;34m\u001b[0m\u001b[0;34m\u001b[0m\u001b[0m\n\u001b[0m\u001b[1;32m    174\u001b[0m         \u001b[0;32mif\u001b[0m \u001b[0mfilename\u001b[0m \u001b[0;32mis\u001b[0m \u001b[0;32mNone\u001b[0m\u001b[0;34m:\u001b[0m\u001b[0;34m\u001b[0m\u001b[0;34m\u001b[0m\u001b[0m\n\u001b[1;32m    175\u001b[0m             \u001b[0mfilename\u001b[0m \u001b[0;34m=\u001b[0m \u001b[0mgetattr\u001b[0m\u001b[0;34m(\u001b[0m\u001b[0mfileobj\u001b[0m\u001b[0;34m,\u001b[0m \u001b[0;34m'name'\u001b[0m\u001b[0;34m,\u001b[0m \u001b[0;34m''\u001b[0m\u001b[0;34m)\u001b[0m\u001b[0;34m\u001b[0m\u001b[0;34m\u001b[0m\u001b[0m\n",
      "\u001b[0;31mFileNotFoundError\u001b[0m: [Errno 2] No such file or directory: '/home/croth/CDx-ill-SNP-INDEL-df-104-blocked.csv.gz'"
     ]
    }
   ],
   "source": [
    "## Bring in genotype data\n",
    "geno_path = '~/CDx-ill-SNP-INDEL-df-104-blocked.csv.gz'\n",
    "geno_df = pd.read_csv(geno_path)\n",
    "\n",
    "## Define chromosomes\n",
    "chrlist = geno_df.Chrom.unique()\n",
    "## Gather the length of each chromosome\n",
    "clens = [geno_df[(geno_df.Chrom==chrom)]['Pos'].max() \n",
    "         for chrom in chrlist]\n",
    "## Set mid points\n",
    "chrom_midpts = 0.5 * np.sum(np.array([a \n",
    "                    for a in zip([0]+list(np.cumsum(clens)),\n",
    "                            np.cumsum(clens))]),axis=1)\n",
    "## calculate cumulative positions\n",
    "cumpos = [0] + list(np.cumsum(clens))[:-1]"
   ]
  },
  {
   "cell_type": "code",
   "execution_count": null,
   "metadata": {},
   "outputs": [],
   "source": [
    "## Amphotericin B and thermal tolerance\n",
    "## Set phenotype data path\n",
    "file_path = '/home/croth/Desktop/Tecan_qtlruns_Jan162019_curated_baselined_median51.csv'\n",
    "## Bring in phenotype data\n",
    "df = pd.read_csv(file_path,index_col=0)\n",
    "dfcol = df.columns.tolist()\n",
    "time_ix = dfcol.index('6300s')\n",
    "times_ixs = dfcol[time_ix:]\n",
    "#df.index = df.strain\n",
    "df = df[(df.strain.isin(geno_df.columns)) & (df.temp!=38)]\n",
    "timex = [np.round(int(a[:-1])/(60**2),3) for a in times_ixs]\n",
    "dx = np.max(np.diff(timex))\n",
    "df.index = df.strain\n",
    "df.drop('strain',inplace=True,axis=1)\n",
    "df['AUC'] = df[times_ixs].sum(axis=1)*dx\n",
    "df.head()"
   ]
  },
  {
   "cell_type": "code",
   "execution_count": null,
   "metadata": {},
   "outputs": [],
   "source": [
    "auc = df.groupby(['temp','amphB','strain']).agg(np.median\n",
    "        ).copy().reset_index()[['temp','amphB','strain','AUC']]\n",
    "auc.index = auc.strain\n",
    "auc.drop('strain',inplace=True,axis=1)\n",
    "\n",
    "aucs = pd.concat([a[1]['AUC'] for a in auc.groupby(['temp','amphB'])],axis=1)\n",
    "aucs.columns = ['_'.join([str(k) for k in a[0]]) for a in auc.groupby(['temp','amphB'])]\n",
    "print(aucs.shape[0])\n",
    "aucs.head()"
   ]
  },
  {
   "cell_type": "code",
   "execution_count": null,
   "metadata": {},
   "outputs": [],
   "source": [
    "## Capsule\n",
    "capsule = pd.read_csv('./Downloads/Capsule_Phenotypes.csv')\n",
    "capsule.drop('Sample.1',inplace=True,axis=1)\n",
    "capsule.columns = ['strain'] + capsule.columns.tolist()[1:]\n",
    "print(capsule.shape[0])\n",
    "capsule.index = capsule.strain\n",
    "capsule.drop('strain',inplace=True,axis=1)\n",
    "capsule.head()"
   ]
  },
  {
   "cell_type": "code",
   "execution_count": null,
   "metadata": {},
   "outputs": [],
   "source": [
    "## Melanization\n",
    "melanin = pd.read_csv('/home/croth/Melanin_Phenotypes.csv',index_col=0)\n",
    "print(melanin.shape[0])\n",
    "melanin.head()"
   ]
  },
  {
   "cell_type": "code",
   "execution_count": null,
   "metadata": {},
   "outputs": [],
   "source": [
    "## Fludioxonil\n",
    "fludio = pd.read_csv('~/Cdx-predict-fludio-phenotype.csv')\n",
    "fludio.columns = ['strain'] + fludio.columns.tolist()[1:]\n",
    "to_drop = fludio[(fludio.strain=='SS-B575')].index[0]\n",
    "fludio.drop(to_drop,axis=0,inplace=True)\n",
    "fludio.index = fludio.strain\n",
    "fludio.drop('strain',inplace=True,axis=1)\n",
    "fludio['Outcome'] = fludio['Outcome'].apply(float)\n",
    "print(fludio.shape[0])\n",
    "fludio.head()"
   ]
  },
  {
   "cell_type": "code",
   "execution_count": null,
   "metadata": {},
   "outputs": [],
   "source": [
    "## Hydrogenperoxide\n",
    "H2o2 = pd.read_csv('/home/croth/H2O2_phenotypes.csv')\n",
    "H2o2.columns = ['strain'] + H2o2.columns.tolist()[1:]\n",
    "H2o2.index = H2o2.strain\n",
    "H2o2.drop('strain',axis=1,inplace=True)\n",
    "H2o2.head()"
   ]
  },
  {
   "cell_type": "code",
   "execution_count": null,
   "metadata": {},
   "outputs": [],
   "source": [
    "segs = [s for s in sorted(H2o2.index.tolist()) if s in geno_df.columns]\n",
    "len(segs)"
   ]
  },
  {
   "cell_type": "code",
   "execution_count": null,
   "metadata": {},
   "outputs": [],
   "source": [
    "segs[:5]"
   ]
  },
  {
   "cell_type": "code",
   "execution_count": null,
   "metadata": {},
   "outputs": [],
   "source": [
    "capsule.T[segs].T['Residual'].values.shape"
   ]
  },
  {
   "cell_type": "code",
   "execution_count": null,
   "metadata": {},
   "outputs": [],
   "source": [
    "pheno = pd.DataFrame(index=segs)\n",
    "pheno['Melanin'] = melanin.T[segs].T['Melanin'].values\n",
    "#pheno['Annulus'] = np.array(capsule.T[segs].T['Residual'].values,dtype=float)\n",
    "pheno['Fludioxonil'] = fludio.T[segs].T['Outcome'].apply(float)\n",
    "pheno['H2O2'] = H2o2.T[segs].T['Score']\n",
    "\n",
    "for k in aucs.columns:\n",
    "    pheno[k] = aucs[k].T[pheno.index]\n",
    "\n",
    "pheno.shape"
   ]
  },
  {
   "cell_type": "markdown",
   "metadata": {},
   "source": [
    "from sklearn import preprocessing\n",
    "\n",
    "minmax = preprocessing.MinMaxScaler()\n",
    "\n",
    "def myminmax(x):\n",
    "    return minmax.fit_transform(x.values.reshape(-1, 1)).T[0]"
   ]
  },
  {
   "cell_type": "code",
   "execution_count": null,
   "metadata": {},
   "outputs": [],
   "source": [
    "loci = geno_df.Block.drop_duplicates().index.tolist()\n",
    "geno = geno_df.T[loci].T[pheno.index]\n",
    "for s in geno.columns:\n",
    "    geno[s] = np.array(geno[s],dtype=float)\n",
    "geno.head()"
   ]
  },
  {
   "cell_type": "code",
   "execution_count": null,
   "metadata": {},
   "outputs": [],
   "source": [
    "melanin_qtl = pd.DataFrame(geno[pheno.index].apply(\n",
    "                association_logPval,axis=1,\n",
    "                args=[pheno['Melanin'].values]))\n",
    "melanin_qtl.columns = ['Melanin']\n",
    "melanin_qtl[['Pos','Chrom']] = geno_df[['Pos','Chrom']].T[loci].T\n",
    "melanin_qtl.head()"
   ]
  },
  {
   "cell_type": "code",
   "execution_count": null,
   "metadata": {},
   "outputs": [],
   "source": [
    "fig,ax = plt.subplots(1,1,figsize=(12,3))\n",
    "for i,c in enumerate(chrlist):\n",
    "    tp = melanin_qtl[(melanin_qtl.Chrom==c)]\n",
    "    plt.plot(tp.Pos.values+cumpos[i],tp.Melanin.values,'.')\n",
    "plt.xticks(chrom_midpts,np.arange(1,15));\n",
    "plt.xlabel('Chromosome',fontsize=14)\n",
    "plt.ylabel('-log$_{10}$ (p-value)',fontsize=14);"
   ]
  },
  {
   "cell_type": "code",
   "execution_count": null,
   "metadata": {},
   "outputs": [],
   "source": [
    "pheno['QTL14'] = geno.T[melanin_qtl.Melanin.idxmax()][pheno.index]"
   ]
  },
  {
   "cell_type": "code",
   "execution_count": null,
   "metadata": {},
   "outputs": [],
   "source": [
    "pheno.head()"
   ]
  },
  {
   "cell_type": "code",
   "execution_count": null,
   "metadata": {},
   "outputs": [],
   "source": [
    "sns.scatterplot(pheno['37_0.0'], pheno['39_0.0'], \n",
    "                hue='QTL14', data=pheno, \n",
    "                alpha=0.5, legend=None);"
   ]
  },
  {
   "cell_type": "code",
   "execution_count": null,
   "metadata": {},
   "outputs": [],
   "source": [
    "osmo = pd.read_csv('./Cdx_osmo_NaCl_1M.csv')\n",
    "osmo.index = osmo.strain\n",
    "osmo.head()"
   ]
  },
  {
   "cell_type": "code",
   "execution_count": null,
   "metadata": {},
   "outputs": [],
   "source": [
    "pheno['NaCl_1M'] = osmo['mean_intensity'].T[pheno.index]"
   ]
  },
  {
   "cell_type": "code",
   "execution_count": null,
   "metadata": {},
   "outputs": [],
   "source": [
    "capsule.columns = capsule.columns[:-3].tolist() + ['Capsule_diameter_residual','Cell_diameter_residual','QTL']"
   ]
  },
  {
   "cell_type": "code",
   "execution_count": null,
   "metadata": {},
   "outputs": [],
   "source": [
    "cap_phenos = [a for a in capsule.columns.tolist() if a not in ['Date','Circles','QTL']]"
   ]
  },
  {
   "cell_type": "code",
   "execution_count": null,
   "metadata": {},
   "outputs": [],
   "source": [
    "cap_phenos"
   ]
  },
  {
   "cell_type": "code",
   "execution_count": null,
   "metadata": {},
   "outputs": [],
   "source": [
    "for p in cap_phenos:\n",
    "    pheno[p] = np.array(capsule.T[pheno.index].T[p].values,dtype=float)"
   ]
  },
  {
   "cell_type": "code",
   "execution_count": null,
   "metadata": {},
   "outputs": [],
   "source": [
    "for p in cap_phenos:\n",
    "    print(p,ss.pearsonr(*pheno[['Melanin',p]].T.values),'\\n')"
   ]
  },
  {
   "cell_type": "code",
   "execution_count": null,
   "metadata": {},
   "outputs": [],
   "source": [
    "for p in cap_phenos:\n",
    "    print(p,ss.pearsonr(*pheno[['39_0.0',p]].T.values),'\\n')"
   ]
  },
  {
   "cell_type": "code",
   "execution_count": null,
   "metadata": {},
   "outputs": [],
   "source": [
    "pheno_to_analysis = [a for a in pheno.columns.tolist() \n",
    "                     if a not in ['QTL14','Cell_and_Capsule','Cell',\n",
    "                                  'Capsule','Cell_diameter','Cell_diameter_residual',\n",
    "                                 'SSK1','SSK2','RIC8']]"
   ]
  },
  {
   "cell_type": "code",
   "execution_count": null,
   "metadata": {},
   "outputs": [],
   "source": [
    "pheno_to_analysis"
   ]
  },
  {
   "cell_type": "code",
   "execution_count": null,
   "metadata": {},
   "outputs": [],
   "source": [
    "pheno_new_names = []\n",
    "for j in pheno_to_analysis:\n",
    "    if len(j.split('_')) == 2 and len(j.split('_')[0]) == 2:\n",
    "        \n",
    "        if float(j.split('_')[1]) == 0.0:\n",
    "            k = '0.000'\n",
    "        else:\n",
    "            k = j.split('_')[1]\n",
    "        \n",
    "        new_name = j.split('_')[0]+'°C & ' + k+u' \\u03BCg/ml'\n",
    "    \n",
    "    elif j == 'H2O2':\n",
    "        new_name = 'H$_{2}$O$_{2}$'\n",
    "    elif j == 'Melanin':\n",
    "        new_name = 'Melanization'\n",
    "    elif j == 'Fludioxonil':\n",
    "        new_name = j + ' 100 \\u03BCg/ml'\n",
    "    elif j[0] == 'C':\n",
    "        new_name = ' '.join(j.split('_')) \n",
    "        new_name = new_name.lower().capitalize()\n",
    "        if 'diameter' not in new_name:\n",
    "            new_name = new_name.lower()+' area'\n",
    "    elif j[0] == 'N' and len(j.split('_')) == 2:\n",
    "        new_name = ' '.join(j.split('_'))\n",
    "    else:\n",
    "        new_name = j.lower().capitalize()\n",
    "    \n",
    "    pheno_new_names.append(new_name)"
   ]
  },
  {
   "cell_type": "code",
   "execution_count": null,
   "metadata": {},
   "outputs": [],
   "source": [
    "for i,k in enumerate(pheno_new_names):\n",
    "    \n",
    "    print(pheno_to_analysis[i],k)"
   ]
  },
  {
   "cell_type": "code",
   "execution_count": null,
   "metadata": {},
   "outputs": [],
   "source": [
    "pheno['Melanin'] = -pheno['Melanin']"
   ]
  },
  {
   "cell_type": "code",
   "execution_count": null,
   "metadata": {},
   "outputs": [],
   "source": [
    "fig,ax = plt.subplots(1,1,figsize=(8,6))\n",
    "sns.heatmap( pheno[pheno_to_analysis].corr(method='spearman'),\n",
    "            vmin = -1, vmax=1,cmap='cividis_r');\n",
    "fs = 12\n",
    "xticks = plt.xticks()[0]\n",
    "plt.xticks(xticks,pheno_new_names,fontsize=fs);\n",
    "yticks = plt.yticks()[0]\n",
    "plt.yticks(yticks,pheno_new_names,fontsize=fs);\n",
    "\n",
    "x1 = -0.15\n",
    "fig.add_axes([x1,0.29,0.0001,.46])\n",
    "plt.xticks([]);plt.yticks([]);\n",
    "plt.ylabel('Temperature & amphotericin B',fontsize=fs)\n",
    "fig.add_axes([x1,0.29,0.04,0.0001])\n",
    "plt.xticks([]);plt.yticks([]);\n",
    "fig.add_axes([x1,.75,0.04,0.0001])\n",
    "plt.xticks([]);plt.yticks([]);\n",
    "\n",
    "y1 = -0.23\n",
    "x2 = 0.225\n",
    "fig.add_axes([x2,y1,0.38,.00001])\n",
    "plt.xticks([]);plt.yticks([]);\n",
    "plt.xlabel('Temperature & amphotericin B',fontsize=fs)\n",
    "fig.add_axes([x2,y1,0.0001,0.04])\n",
    "plt.xticks([]);plt.yticks([]);\n",
    "fig.add_axes([x2+.38,y1,0.0001,0.04])\n",
    "plt.xticks([]);plt.yticks([]);\n",
    "\n",
    "#plt.savefig('./Phenotypes_corrilation_plot.png',\n",
    "plt.savefig('/home/croth/QTL_FIGS/SUPP/FIGS/S8_Fig.pdf',\n",
    "                dpi=300,bbox_inches='tight');"
   ]
  },
  {
   "cell_type": "code",
   "execution_count": null,
   "metadata": {},
   "outputs": [],
   "source": [
    "for_pm = np.array(pheno_to_analysis)[[0,2,11,-1]]"
   ]
  },
  {
   "cell_type": "code",
   "execution_count": null,
   "metadata": {},
   "outputs": [],
   "source": [
    "pm_new_names = np.array(pheno_new_names)[[0,2,11,-1]]"
   ]
  },
  {
   "cell_type": "code",
   "execution_count": null,
   "metadata": {},
   "outputs": [],
   "source": [
    "#pheno['Melanin'] = -1*pheno['Melanin']"
   ]
  },
  {
   "cell_type": "code",
   "execution_count": null,
   "metadata": {},
   "outputs": [],
   "source": [
    "pheno[for_pm].corr(method='spearman')"
   ]
  },
  {
   "cell_type": "code",
   "execution_count": null,
   "metadata": {},
   "outputs": [],
   "source": [
    "fig,ax = plt.subplots(1,1,figsize=(8,6))\n",
    "sns.heatmap( pheno[for_pm].corr(method='spearman'),\n",
    "            vmin = -1, vmax=1,cmap='cividis_r',annot=True);\n",
    "fs = 12\n",
    "xticks = plt.xticks()[0]\n",
    "plt.xticks(xticks,pm_new_names,fontsize=fs,rotation=90);\n",
    "yticks = plt.yticks()[0]\n",
    "plt.yticks(yticks,pm_new_names,fontsize=fs,rotation=0);\n",
    "plt.savefig('./Phenotypes_corrilation_for_PM.png',\n",
    "                dpi=200,bbox_inches='tight');"
   ]
  },
  {
   "cell_type": "code",
   "execution_count": null,
   "metadata": {},
   "outputs": [],
   "source": [
    "assert 1 == 0"
   ]
  },
  {
   "cell_type": "code",
   "execution_count": null,
   "metadata": {},
   "outputs": [],
   "source": [
    "from mpl_toolkits import mplot3d"
   ]
  },
  {
   "cell_type": "code",
   "execution_count": null,
   "metadata": {},
   "outputs": [],
   "source": [
    "qtlloci = pd.read_csv('~/Desktop/Cdx_QTL_SNPs.csv',index_col=0)"
   ]
  },
  {
   "cell_type": "code",
   "execution_count": null,
   "metadata": {},
   "outputs": [],
   "source": [
    "pheno['RIC8'] = qtlloci[(qtlloci.Chrom=='Chr14')][pheno.index].values[0]\n",
    "pheno['SSK1'] = qtlloci[(qtlloci.Chrom=='Chr02')][pheno.index].values[0]\n",
    "pheno['SSK2'] = qtlloci[(qtlloci.Chrom=='Chr12')][pheno.index].values[0]"
   ]
  },
  {
   "cell_type": "code",
   "execution_count": null,
   "metadata": {},
   "outputs": [],
   "source": [
    "pheno.tail()"
   ]
  },
  {
   "cell_type": "code",
   "execution_count": null,
   "metadata": {},
   "outputs": [],
   "source": [
    "pheno['new_mosaic'] = -1\n",
    "\n",
    "for c,(i,a) in enumerate(pheno.groupby(['SSK2','RIC8'])):\n",
    "    \n",
    "    pheno.loc[a.index,'new_mosaic'] = c"
   ]
  },
  {
   "cell_type": "code",
   "execution_count": null,
   "metadata": {},
   "outputs": [],
   "source": [
    "assert pheno.new_mosaic.min()!=-1"
   ]
  },
  {
   "cell_type": "code",
   "execution_count": null,
   "metadata": {},
   "outputs": [],
   "source": [
    "new_mosaic = pheno[['RIC8','SSK2','new_mosaic']].drop_duplicates().sort_values('new_mosaic').reset_index(drop=True).copy()\n",
    "new_mosaic"
   ]
  },
  {
   "cell_type": "code",
   "execution_count": null,
   "metadata": {},
   "outputs": [],
   "source": [
    "new_xlabel = '$SSK2$: %s\\n$RIC8$: %s'\n",
    "parental_label = [xl280_label,_431_label]\n",
    "new_xlabels = []\n",
    "\n",
    "for i,j in new_mosaic.iterrows():\n",
    "    \n",
    "    new_xlabels.append(new_xlabel%(parental_label[int(j.SSK2)],parental_label[int(j.RIC8)]))\n",
    "new_xlabels"
   ]
  },
  {
   "cell_type": "code",
   "execution_count": null,
   "metadata": {},
   "outputs": [],
   "source": [
    "pheno['Melanin'] = pheno['Melanin'].apply(np.abs)\n",
    "pheno['SSK1r'] = pheno['SSK1'].replace(dict(zip([0,1],[xl280_label,_431_label])))"
   ]
  },
  {
   "cell_type": "code",
   "execution_count": null,
   "metadata": {},
   "outputs": [],
   "source": [
    "sns.boxplot(x='new_mosaic',y='Melanin',data=pheno,color='w',showfliers = False)\n",
    "sns.swarmplot(x='new_mosaic',y='Melanin',hue='SSK1r',\n",
    "              data=pheno,hue_order=[xl280_label,_431_label]);\n",
    "plt.legend(title='$SSK1$',bbox_to_anchor=(1.3,.85),fontsize=10)\n",
    "plt.xlabel('\\n$SSK2$ and $RIC8$ genotypes',fontsize=14)\n",
    "plt.xticks(np.arange(0,4),new_xlabels,fontsize=10);\n",
    "plt.ylabel('Mean Intensity\\n$\\longleftarrow$Dark - Light$\\longrightarrow$',fontsize=14);\n",
    "\n",
    "for i,j in pheno.groupby(['new_mosaic','SSK1']):\n",
    "    \n",
    "    plt.plot(i[0]+0.5,j.Melanin.median(),'^',ms =10,\n",
    "             fillstyle='none',color='tab:blue' if i[1] == 0 else 'tab:orange')\n",
    "plt.xlim(-0.5,3.7);\n",
    "plt.savefig('/home/croth/Desktop/Melanization_RIC8:SSK2_by_SSK1.png',\n",
    "            dpi=100,bbox_inches='tight');"
   ]
  },
  {
   "cell_type": "code",
   "execution_count": null,
   "metadata": {},
   "outputs": [],
   "source": [
    "sns.boxplot(x='new_mosaic',y='Capsule_diameter',data=pheno,color='w',showfliers = False)\n",
    "sns.swarmplot(x='new_mosaic',y='Capsule_diameter',hue='SSK1r',\n",
    "              data=pheno,hue_order=[xl280_label,_431_label]);\n",
    "plt.legend(title='$SSK1$',bbox_to_anchor=(1.3,.85),fontsize=10)\n",
    "plt.xlabel('\\n$SSK2$ and $RIC8$ genotypes',fontsize=14)\n",
    "plt.xticks(np.arange(0,4),new_xlabels,fontsize=10);\n",
    "plt.ylabel('Capsule diameter residual',fontsize=14);\n",
    "\n",
    "for i,j in pheno.groupby(['new_mosaic','SSK1']):\n",
    "    \n",
    "    plt.plot(i[0]+0.5,j.Capsule_diameter.median(),'^',ms =10,\n",
    "             fillstyle='none',color='tab:blue' if i[1] == 0 else 'tab:orange')\n",
    "plt.xlim(-0.5,3.7);\n",
    "plt.savefig('/home/croth/Desktop/Capsule_diameter_RIC8:SSK2_by_SSK1.png',\n",
    "            dpi=100,bbox_inches='tight');"
   ]
  },
  {
   "cell_type": "code",
   "execution_count": null,
   "metadata": {},
   "outputs": [],
   "source": [
    "sns.boxplot(x='new_mosaic',y='Capsule_diameter_residual',data=pheno,color='w',showfliers = False)\n",
    "sns.swarmplot(x='new_mosaic',y='Capsule_diameter_residual',hue='SSK1r',\n",
    "              data=pheno,hue_order=[xl280_label,_431_label]);\n",
    "plt.legend(title='$SSK1$',bbox_to_anchor=(1.3,.85),fontsize=10)\n",
    "plt.xlabel('\\n$SSK2$ and $RIC8$ genotypes',fontsize=14)\n",
    "plt.xticks(np.arange(0,4),new_xlabels,fontsize=10);\n",
    "plt.ylabel('Capsule diameter residual',fontsize=14);\n",
    "\n",
    "for i,j in pheno.groupby(['new_mosaic','SSK1']):\n",
    "    \n",
    "    plt.plot(i[0]+0.5,j.Capsule_diameter_residual.median(),'^',ms =10,\n",
    "             fillstyle='none',color='tab:blue' if i[1] == 0 else 'tab:orange')\n",
    "plt.xlim(-0.5,3.7);\n",
    "plt.savefig('/home/croth/Desktop/Capsule_diameter_residual_RIC8:SSK2_by_SSK1.png',\n",
    "            dpi=100,bbox_inches='tight');"
   ]
  },
  {
   "cell_type": "code",
   "execution_count": null,
   "metadata": {},
   "outputs": [],
   "source": [
    "sns.boxplot(x='new_mosaic',y='Cell_diameter',data=pheno,color='w',showfliers = False)\n",
    "sns.swarmplot(x='new_mosaic',y='Cell_diameter',hue='SSK1r',\n",
    "              data=pheno,hue_order=[xl280_label,_431_label]);\n",
    "plt.legend(title='$SSK1$',bbox_to_anchor=(1.3,.85),fontsize=10)\n",
    "plt.xlabel('\\n$SSK2$ and $RIC8$ genotypes',fontsize=14)\n",
    "plt.xticks(np.arange(0,4),new_xlabels,fontsize=10);\n",
    "plt.ylabel('Cell diameter residual',fontsize=14);\n",
    "\n",
    "for i,j in pheno.groupby(['new_mosaic','SSK1']):\n",
    "    \n",
    "    plt.plot(i[0]+0.5,j.Cell_diameter.median(),'^',ms =10,\n",
    "             fillstyle='none',color='tab:blue' if i[1] == 0 else 'tab:orange')\n",
    "plt.xlim(-0.5,3.7);\n",
    "plt.savefig('/home/croth/Desktop/Cell_diameter_RIC8:SSK2_by_SSK1.png',\n",
    "            dpi=100,bbox_inches='tight');"
   ]
  },
  {
   "cell_type": "code",
   "execution_count": null,
   "metadata": {},
   "outputs": [],
   "source": [
    "sns.boxplot(x='new_mosaic',y='Cell_diameter_residual',data=pheno,color='w',showfliers = False)\n",
    "sns.swarmplot(x='new_mosaic',y='Cell_diameter_residual',hue='SSK1r',\n",
    "              data=pheno,hue_order=[xl280_label,_431_label]);\n",
    "plt.legend(title='$SSK1$',bbox_to_anchor=(1.3,.85),fontsize=10)\n",
    "plt.xlabel('\\n$SSK2$ and $RIC8$ genotypes',fontsize=14)\n",
    "plt.xticks(np.arange(0,4),new_xlabels,fontsize=10);\n",
    "plt.ylabel('Cell diameter residual',fontsize=14);\n",
    "\n",
    "for i,j in pheno.groupby(['new_mosaic','SSK1']):\n",
    "    \n",
    "    plt.plot(i[0]+0.5,j.Cell_diameter_residual.median(),'^',ms =10,\n",
    "             fillstyle='none',color='tab:blue' if i[1] == 0 else 'tab:orange')\n",
    "plt.xlim(-0.5,3.7);\n",
    "plt.savefig('/home/croth/Desktop/Cell_diameter_residual_RIC8:SSK2_by_SSK1.png',\n",
    "            dpi=100,bbox_inches='tight');"
   ]
  },
  {
   "cell_type": "code",
   "execution_count": null,
   "metadata": {},
   "outputs": [],
   "source": [
    "pheno.head()"
   ]
  },
  {
   "cell_type": "code",
   "execution_count": null,
   "metadata": {},
   "outputs": [],
   "source": []
  },
  {
   "cell_type": "code",
   "execution_count": null,
   "metadata": {},
   "outputs": [],
   "source": [
    "sns.swarmplot(x='SSK1',y='H2O2',data=pheno);\n",
    "plt.plot(np.array([0,1])+.25, pheno.groupby('SSK1')['H2O2'].mean().values,'k^',fillstyle='none',ms=10);\n",
    "plt.savefig('/home/croth/Desktop/H2O2_bySSK1.png',dpi=100,bbox_inches='tight');\n"
   ]
  },
  {
   "cell_type": "code",
   "execution_count": null,
   "metadata": {},
   "outputs": [],
   "source": [
    "pheno.groupby('SSK1')['H2O2'].mean()"
   ]
  },
  {
   "cell_type": "code",
   "execution_count": null,
   "metadata": {},
   "outputs": [],
   "source": [
    "pheno['SSK2r'] = pheno['SSK2'].replace(dict(zip([0,1],[xl280_label,_431_label])))\n",
    "pheno['RIC8r'] = pheno['RIC8'].replace(dict(zip([0,1],[xl280_label,_431_label])))"
   ]
  },
  {
   "cell_type": "code",
   "execution_count": null,
   "metadata": {},
   "outputs": [],
   "source": [
    "for i,a in enumerate(pheno.groupby(['SSK1','SSK2'])):\n",
    "    \n",
    "    pheno.loc[a[1].index,'new_mosaic'] = i"
   ]
  },
  {
   "cell_type": "code",
   "execution_count": null,
   "metadata": {},
   "outputs": [],
   "source": [
    "pheno[['SSK1','SSK2','new_mosaic']].drop_duplicates().sort_values(['SSK1','SSK2'])"
   ]
  },
  {
   "cell_type": "code",
   "execution_count": null,
   "metadata": {},
   "outputs": [],
   "source": [
    "myphenooi = 'H2O2'\n",
    "myylabel = 'H$_{2}$O$_{2}$ Growth Score'\n",
    "fig, ax = plt.subplots(3,1,figsize=(16,16),sharex=False,sharey=True)\n",
    "\n",
    "for ri,px in enumerate([('SSK1','SSK2','RIC8'),('SSK2','RIC8','SSK1'),('SSK1','RIC8','SSK2')]):\n",
    "    \n",
    "    g0 = px[0]\n",
    "    g1 = px[1]\n",
    "    g2 = px[2]\n",
    "\n",
    "    pheno['new_mosaic'] = -1\n",
    "    for i,a in enumerate(pheno.groupby([g0,g1])):\n",
    "        pheno.loc[a[1].index,'new_mosaic'] = i\n",
    "    \n",
    "    temp_mosaic = pheno[(pheno[g0]==1) & (pheno[g1]==1)].new_mosaic.min()\n",
    "    pheno.loc[(pheno[g0]==1) & (pheno[g1]==1),'new_mosaic'] = -temp_mosaic\n",
    "    pheno.loc[(pheno.new_mosaic==1),'new_mosaic'] = temp_mosaic\n",
    "    pheno.loc[(pheno.new_mosaic==-temp_mosaic),'new_mosaic'] = 1\n",
    "    assert pheno.new_mosaic.min()>=0\n",
    "    new_mosaic_df = pheno[[g0,g1,'new_mosaic']].drop_duplicates().sort_values('new_mosaic').copy()\n",
    "\n",
    "    plt.sca(ax[ri])\n",
    "    sns.swarmplot(x='new_mosaic',y=myphenooi,data=pheno,hue='%sr'%g2,\n",
    "              hue_order=[xl280_label,_431_label]);\n",
    "    lg = plt.legend(bbox_to_anchor=(0.5,0.68),title='$%s$'%g2,fontsize=14);\n",
    "    title = lg.get_title()\n",
    "    title.set_fontsize(14)\n",
    "    plt.ylabel(myylabel,fontsize=14)\n",
    "\n",
    "    mean_scores = pheno.groupby(['new_mosaic',g2]).mean()\n",
    "    for i,j in mean_scores.iterrows():\n",
    "        plt.plot(i[0]+0.2,j[myphenooi],'^',ms = 15,fillstyle='none',\n",
    "             color='tab:blue' if i[1] == 0 else 'tab:orange',alpha=0.69);\n",
    "\n",
    "    xlabel = '$%s$: %s\\n$%s$: %s'\n",
    "    new_x_labels = []\n",
    "\n",
    "    for i,j in new_mosaic_df.iterrows():\n",
    "    \n",
    "        xlab = xlabel%(g0,parental_label[int(j[g0])],g1,parental_label[int(j[g1])])\n",
    "        new_x_labels.append(xlab)\n",
    "    \n",
    "    plt.xticks(np.arange(0,4),new_x_labels,fontsize=14);\n",
    "    plt.xlabel(' ')\n",
    "plt.savefig('/home/croth/Desktop/Parametric/%s_bygeno.png'%myphenooi,\n",
    "            bbox_inches='tight',dpi=200);"
   ]
  },
  {
   "cell_type": "code",
   "execution_count": null,
   "metadata": {},
   "outputs": [],
   "source": [
    "pheno['new_mosaic'] = -1\n",
    "for i,a in enumerate(pheno.groupby(['SSK1','SSK2','RIC8'])):\n",
    "    \n",
    "    pheno.loc[a[1].index,'new_mosaic'] = i\n",
    "    \n",
    "temp_mosaic = pheno[(pheno.RIC8==1) & (pheno.SSK2==1) & (pheno.SSK1==1)].new_mosaic.min()\n",
    "\n",
    "pheno.loc[(pheno.RIC8==1) & (pheno.SSK2==1) & (pheno.SSK1==1),'new_mosaic'] = -temp_mosaic\n",
    "\n",
    "pheno.loc[(pheno.new_mosaic==1),'new_mosaic'] = temp_mosaic\n",
    "pheno.loc[(pheno.new_mosaic==-temp_mosaic),'new_mosaic'] = 1\n",
    "\n",
    "assert pheno.new_mosaic.min()>=0\n",
    "\n",
    "new_mosaic_df = pheno[['SSK1','SSK2','RIC8','new_mosaic']].drop_duplicates().sort_values('new_mosaic').copy()\n",
    "\n",
    "xlabel = '$SSK1$: %s\\n$SSK2$: %s\\n$RIC8$: %s'\n",
    "new_x_labels = []\n",
    "\n",
    "for i,j in new_mosaic_df.iterrows():\n",
    "    \n",
    "    xlab = xlabel%(parental_label[int(j.SSK1)],parental_label[int(j.SSK2)],parental_label[int(j.RIC8)])\n",
    "    new_x_labels.append(xlab)\n",
    "    \n",
    "fig,ax= plt.subplots(1,1,figsize=(12,3))\n",
    "#sns.boxplot(x='new_mosaic',y='H2O2',data=pheno,color='w')\n",
    "sns.swarmplot(x='new_mosaic',y='H2O2',data=pheno);\n",
    "\n",
    "for i,j in pheno.groupby('new_mosaic'):\n",
    "    \n",
    "    plt.plot(i+.25,j.H2O2.median(),'^',fillstyle='none',ms=10)\n",
    "\n",
    "plt.ylabel('H$_{2}$O$_{2}$ Growth Score')\n",
    "plt.xlabel('QTG genotypes')\n",
    "plt.xticks(new_mosaic_df.new_mosaic,new_x_labels,fontsize=10);\n",
    "plt.savefig('/home/croth/Desktop/H2O2_all_combos.png',dpi=100,bbox_inches='tight');"
   ]
  },
  {
   "cell_type": "code",
   "execution_count": null,
   "metadata": {},
   "outputs": [],
   "source": [
    "pheno.columns"
   ]
  },
  {
   "cell_type": "code",
   "execution_count": null,
   "metadata": {},
   "outputs": [],
   "source": [
    "pheno[['H2O2','NaCl_1M','SSK1','SSK2','RIC8']].to_csv('/home/croth/Desktop/H2O2_data.csv',index=True);"
   ]
  },
  {
   "cell_type": "code",
   "execution_count": null,
   "metadata": {},
   "outputs": [],
   "source": []
  },
  {
   "cell_type": "code",
   "execution_count": null,
   "metadata": {},
   "outputs": [],
   "source": [
    "myphenooi = 'Melanin'\n",
    "myylabel = 'Mean Intensity\\n$\\longleftarrow$Dark - Light$\\longrightarrow$'#'H$_{2}$O$_{2}$ Growth Score'\n",
    "fig, ax = plt.subplots(3,1,figsize=(16,16),sharex=False,sharey=True)\n",
    "\n",
    "for ri,px in enumerate([('SSK1','SSK2','RIC8'),('SSK2','RIC8','SSK1'),('SSK1','RIC8','SSK2')]):\n",
    "    \n",
    "    g0 = px[0]\n",
    "    g1 = px[1]\n",
    "    g2 = px[2]\n",
    "\n",
    "    pheno['new_mosaic'] = -1\n",
    "    for i,a in enumerate(pheno.groupby([g0,g1])):\n",
    "        pheno.loc[a[1].index,'new_mosaic'] = i\n",
    "    \n",
    "    temp_mosaic = pheno[(pheno[g0]==1) & (pheno[g1]==1)].new_mosaic.min()\n",
    "    pheno.loc[(pheno[g0]==1) & (pheno[g1]==1),'new_mosaic'] = -temp_mosaic\n",
    "    pheno.loc[(pheno.new_mosaic==1),'new_mosaic'] = temp_mosaic\n",
    "    pheno.loc[(pheno.new_mosaic==-temp_mosaic),'new_mosaic'] = 1\n",
    "    assert pheno.new_mosaic.min()>=0\n",
    "    new_mosaic_df = pheno[[g0,g1,'new_mosaic']].drop_duplicates().sort_values('new_mosaic').copy()\n",
    "\n",
    "    plt.sca(ax[ri])\n",
    "    sns.swarmplot(x='new_mosaic',y=myphenooi,data=pheno,hue='%sr'%g2,\n",
    "              hue_order=[xl280_label,_431_label]);\n",
    "    lg = plt.legend(bbox_to_anchor=(0.5,0.68),title='$%s$'%g2,fontsize=14);\n",
    "    title = lg.get_title()\n",
    "    title.set_fontsize(14)\n",
    "    plt.ylabel(myylabel,fontsize=14)\n",
    "\n",
    "    mean_scores = pheno.groupby(['new_mosaic',g2]).mean()\n",
    "    for i,j in mean_scores.iterrows():\n",
    "        plt.plot(i[0]+0.2,j[myphenooi],'^',ms = 15,fillstyle='none',\n",
    "             color='tab:blue' if i[1] == 0 else 'tab:orange',alpha=0.69);\n",
    "\n",
    "    xlabel = '$%s$: %s\\n$%s$: %s'\n",
    "    new_x_labels = []\n",
    "\n",
    "    for i,j in new_mosaic_df.iterrows():\n",
    "    \n",
    "        xlab = xlabel%(g0,parental_label[int(j[g0])],g1,parental_label[int(j[g1])])\n",
    "        new_x_labels.append(xlab)\n",
    "    \n",
    "    plt.xticks(np.arange(0,4),new_x_labels,fontsize=14);\n",
    "    plt.xlabel(' ')\n",
    "plt.savefig('/home/croth/Desktop/Parametric/%s_bygeno.png'%myphenooi,\n",
    "            bbox_inches='tight',dpi=200);"
   ]
  },
  {
   "cell_type": "code",
   "execution_count": null,
   "metadata": {},
   "outputs": [],
   "source": [
    "myphenooi = '37_0.125'\n",
    "myylabel = 'AUC at 37 with 0.125'\n",
    "fig, ax = plt.subplots(3,1,figsize=(16,16),sharex=False,sharey=True)\n",
    "\n",
    "for ri,px in enumerate([('SSK1','SSK2','RIC8'),('SSK2','RIC8','SSK1'),('SSK1','RIC8','SSK2')]):\n",
    "    \n",
    "    g0 = px[0]\n",
    "    g1 = px[1]\n",
    "    g2 = px[2]\n",
    "\n",
    "    pheno['new_mosaic'] = -1\n",
    "    for i,a in enumerate(pheno.groupby([g0,g1])):\n",
    "        pheno.loc[a[1].index,'new_mosaic'] = i\n",
    "    \n",
    "    temp_mosaic = pheno[(pheno[g0]==1) & (pheno[g1]==1)].new_mosaic.min()\n",
    "    pheno.loc[(pheno[g0]==1) & (pheno[g1]==1),'new_mosaic'] = -temp_mosaic\n",
    "    pheno.loc[(pheno.new_mosaic==1),'new_mosaic'] = temp_mosaic\n",
    "    pheno.loc[(pheno.new_mosaic==-temp_mosaic),'new_mosaic'] = 1\n",
    "    assert pheno.new_mosaic.min()>=0\n",
    "    new_mosaic_df = pheno[[g0,g1,'new_mosaic']].drop_duplicates().sort_values('new_mosaic').copy()\n",
    "\n",
    "    plt.sca(ax[ri])\n",
    "    sns.swarmplot(x='new_mosaic',y=myphenooi,data=pheno,hue='%sr'%g2,\n",
    "              hue_order=[xl280_label,_431_label]);\n",
    "    lg = plt.legend(bbox_to_anchor=(0.5,0.68),title='$%s$'%g2,fontsize=14);\n",
    "    title = lg.get_title()\n",
    "    title.set_fontsize(14)\n",
    "    plt.ylabel(myylabel,fontsize=14)\n",
    "\n",
    "    mean_scores = pheno.groupby(['new_mosaic',g2]).mean()\n",
    "    for i,j in mean_scores.iterrows():\n",
    "        plt.plot(i[0]+0.2,j[myphenooi],'^',ms = 15,fillstyle='none',\n",
    "             color='tab:blue' if i[1] == 0 else 'tab:orange',alpha=0.69);\n",
    "\n",
    "    xlabel = '$%s$: %s\\n$%s$: %s'\n",
    "    new_x_labels = []\n",
    "\n",
    "    for i,j in new_mosaic_df.iterrows():\n",
    "    \n",
    "        xlab = xlabel%(g0,parental_label[int(j[g0])],g1,parental_label[int(j[g1])])\n",
    "        new_x_labels.append(xlab)\n",
    "    \n",
    "    plt.xticks(np.arange(0,4),new_x_labels,fontsize=14);\n",
    "    plt.xlabel(' ')\n",
    "plt.savefig('/home/croth/Desktop/Parametric/%s_bygeno.png'%myphenooi,\n",
    "            bbox_inches='tight',dpi=200);"
   ]
  },
  {
   "cell_type": "code",
   "execution_count": null,
   "metadata": {},
   "outputs": [],
   "source": [
    "pheno.columns"
   ]
  },
  {
   "cell_type": "code",
   "execution_count": null,
   "metadata": {},
   "outputs": [],
   "source": [
    "pheno['new_mosaic'] = -1\n",
    "for i,a in enumerate(pheno.groupby(['SSK1','SSK2','RIC8'])):\n",
    "    \n",
    "    pheno.loc[a[1].index,'new_mosaic'] = i\n",
    "    \n",
    "temp_mosaic = pheno[(pheno.RIC8==1) & (pheno.SSK2==1) & (pheno.SSK1==1)].new_mosaic.min()\n",
    "\n",
    "pheno.loc[(pheno.RIC8==1) & (pheno.SSK2==1) & (pheno.SSK1==1),'new_mosaic'] = -temp_mosaic\n",
    "\n",
    "pheno.loc[(pheno.new_mosaic==1),'new_mosaic'] = temp_mosaic\n",
    "pheno.loc[(pheno.new_mosaic==-temp_mosaic),'new_mosaic'] = 1\n",
    "\n",
    "assert pheno.new_mosaic.min()>=0\n",
    "\n",
    "new_mosaic_df = pheno[['SSK1','SSK2','RIC8','new_mosaic']].drop_duplicates().sort_values('new_mosaic').copy()\n",
    "\n",
    "xlabel = '$SSK1$: %s\\n$SSK2$: %s\\n$RIC8$: %s'\n",
    "new_x_labels = []\n",
    "\n",
    "for i,j in new_mosaic_df.iterrows():\n",
    "    \n",
    "    xlab = xlabel%(parental_label[int(j.SSK1)],parental_label[int(j.SSK2)],parental_label[int(j.RIC8)])\n",
    "    new_x_labels.append(xlab)\n",
    "    \n",
    "\n",
    "growth_curves = ['37_%s'%d for d in [0.0,0.075,0.125,0.175]]\n",
    "\n",
    "fig,ax= plt.subplots(len(growth_curves),1,figsize=(12,10),sharex=True)\n",
    "#sns.boxplot(x='new_mosaic',y='H2O2',data=pheno,color='w')\n",
    "for ix,pt in enumerate(growth_curves):\n",
    "    plt.sca(ax[ix])\n",
    "    sns.swarmplot(x='new_mosaic',y=pt, data=pheno);\n",
    "\n",
    "    for i,j in pheno.groupby('new_mosaic'):\n",
    "    \n",
    "        plt.plot(i+.25,j[pt].median(),'^',fillstyle='none',ms=10)\n",
    "\n",
    "    plt.ylabel('AUC at %s\\n with %s amph. B'%(pt.split('_')[0],pt.split('_')[1]),fontsize=12)\n",
    "    plt.xlabel('')\n",
    "plt.xlabel('QTG genotypes')\n",
    "plt.xticks(new_mosaic_df.new_mosaic,new_x_labels,fontsize=10);\n",
    "plt.savefig('/home/croth/Desktop/Drug_curves_37C_all_combos.png',\n",
    "            dpi=100,bbox_inches='tight');"
   ]
  },
  {
   "cell_type": "code",
   "execution_count": null,
   "metadata": {},
   "outputs": [],
   "source": [
    "pheno['new_mosaic'] = -1\n",
    "for i,a in enumerate(pheno.groupby(['SSK1','SSK2','RIC8'])):\n",
    "    \n",
    "    pheno.loc[a[1].index,'new_mosaic'] = i\n",
    "    \n",
    "temp_mosaic = pheno[(pheno.RIC8==1) & (pheno.SSK2==1) & (pheno.SSK1==1)].new_mosaic.min()\n",
    "\n",
    "pheno.loc[(pheno.RIC8==1) & (pheno.SSK2==1) & (pheno.SSK1==1),'new_mosaic'] = -temp_mosaic\n",
    "\n",
    "pheno.loc[(pheno.new_mosaic==1),'new_mosaic'] = temp_mosaic\n",
    "pheno.loc[(pheno.new_mosaic==-temp_mosaic),'new_mosaic'] = 1\n",
    "\n",
    "assert pheno.new_mosaic.min()>=0\n",
    "\n",
    "new_mosaic_df = pheno[['SSK1','SSK2','RIC8','new_mosaic']].drop_duplicates().sort_values('new_mosaic').copy()\n",
    "\n",
    "xlabel = '$SSK1$: %s\\n$SSK2$: %s\\n$RIC8$: %s'\n",
    "new_x_labels = []\n",
    "\n",
    "for i,j in new_mosaic_df.iterrows():\n",
    "    \n",
    "    xlab = xlabel%(parental_label[int(j.SSK1)],parental_label[int(j.SSK2)],parental_label[int(j.RIC8)])\n",
    "    new_x_labels.append(xlab)\n",
    "    \n",
    "\n",
    "growth_curves = ['%d_0.0'%d for d in [30,37,39]]\n",
    "\n",
    "fig,ax= plt.subplots(len(growth_curves),1,figsize=(12,10),sharex=True)\n",
    "#sns.boxplot(x='new_mosaic',y='H2O2',data=pheno,color='w')\n",
    "for ix,pt in enumerate(growth_curves):\n",
    "    plt.sca(ax[ix])\n",
    "    sns.swarmplot(x='new_mosaic',y=pt, data=pheno);\n",
    "\n",
    "    for i,j in pheno.groupby('new_mosaic'):\n",
    "    \n",
    "        plt.plot(i+.25,j[pt].median(),'^',fillstyle='none',ms=10)\n",
    "\n",
    "    plt.ylabel('AUC at %s\\n with %s amph. B'%(pt.split('_')[0],pt.split('_')[1]),fontsize=12)\n",
    "    plt.xlabel('')\n",
    "plt.xlabel('QTG genotypes')\n",
    "plt.xticks(new_mosaic_df.new_mosaic,new_x_labels,fontsize=10);\n",
    "plt.savefig('/home/croth/Desktop/temperature_curves_no_drug_amph.B_all_combos.png',\n",
    "            dpi=100,bbox_inches='tight');"
   ]
  },
  {
   "cell_type": "code",
   "execution_count": null,
   "metadata": {},
   "outputs": [],
   "source": [
    "pheno['new_mosaic'] = -1\n",
    "for i,a in enumerate(pheno.groupby(['SSK1','SSK2','RIC8'])):\n",
    "    \n",
    "    pheno.loc[a[1].index,'new_mosaic'] = i\n",
    "    \n",
    "temp_mosaic = pheno[(pheno.RIC8==1) & (pheno.SSK2==1) & (pheno.SSK1==1)].new_mosaic.min()\n",
    "\n",
    "pheno.loc[(pheno.RIC8==1) & (pheno.SSK2==1) & (pheno.SSK1==1),'new_mosaic'] = -temp_mosaic\n",
    "\n",
    "pheno.loc[(pheno.new_mosaic==1),'new_mosaic'] = temp_mosaic\n",
    "pheno.loc[(pheno.new_mosaic==-temp_mosaic),'new_mosaic'] = 1\n",
    "\n",
    "assert pheno.new_mosaic.min()>=0\n",
    "\n",
    "new_mosaic_df = pheno[['SSK1','SSK2','RIC8','new_mosaic']].drop_duplicates().sort_values('new_mosaic').copy()\n",
    "\n",
    "xlabel = '$SSK1$: %s\\n$SSK2$: %s\\n$RIC8$: %s'\n",
    "new_x_labels = []\n",
    "\n",
    "for i,j in new_mosaic_df.iterrows():\n",
    "    \n",
    "    xlab = xlabel%(parental_label[int(j.SSK1)],parental_label[int(j.SSK2)],parental_label[int(j.RIC8)])\n",
    "    new_x_labels.append(xlab)\n",
    "    \n",
    "\n",
    "growth_curves = ['%d_0.125'%d for d in [30,37,39]]\n",
    "\n",
    "fig,ax= plt.subplots(len(growth_curves),1,figsize=(12,10),sharex=True)\n",
    "#sns.boxplot(x='new_mosaic',y='H2O2',data=pheno,color='w')\n",
    "for ix,pt in enumerate(growth_curves):\n",
    "    plt.sca(ax[ix])\n",
    "    sns.swarmplot(x='new_mosaic',y=pt, data=pheno);\n",
    "\n",
    "    for i,j in pheno.groupby('new_mosaic'):\n",
    "    \n",
    "        plt.plot(i+.25,j[pt].median(),'^',fillstyle='none',ms=10)\n",
    "\n",
    "    plt.ylabel('AUC at %s\\n with %s amph. B'%(pt.split('_')[0],pt.split('_')[1]),fontsize=12)\n",
    "    plt.xlabel('')\n",
    "plt.xlabel('QTG genotypes')\n",
    "plt.xticks(new_mosaic_df.new_mosaic,new_x_labels,fontsize=10);\n",
    "plt.savefig('/home/croth/Desktop/temperature_curves_0.125_amph.B_all_combos.png',\n",
    "            dpi=100,bbox_inches='tight');"
   ]
  },
  {
   "cell_type": "code",
   "execution_count": null,
   "metadata": {},
   "outputs": [],
   "source": [
    "import statsmodels.formula.api as smf"
   ]
  },
  {
   "cell_type": "code",
   "execution_count": null,
   "metadata": {},
   "outputs": [],
   "source": [
    "pheno['AUC37'] = pheno['37_0.125']"
   ]
  },
  {
   "cell_type": "code",
   "execution_count": null,
   "metadata": {},
   "outputs": [],
   "source": [
    "pheno['AUC37'].hist()\n",
    "plt.vlines(pheno['AUC37'].median(),0,20,'b',alpha=0.5)\n",
    "plt.vlines(pheno['AUC37'].mean(),0,20,'r',alpha=0.5)\n",
    "plt.vlines(ss.mode(pheno['AUC37'].values,axis=None)[0][0],0,20,'g');"
   ]
  },
  {
   "cell_type": "code",
   "execution_count": null,
   "metadata": {},
   "outputs": [],
   "source": [
    "ss.normaltest"
   ]
  },
  {
   "cell_type": "code",
   "execution_count": null,
   "metadata": {},
   "outputs": [],
   "source": [
    "ss.normaltest(np.sqrt(pheno.AUC37.values))"
   ]
  },
  {
   "cell_type": "code",
   "execution_count": null,
   "metadata": {},
   "outputs": [],
   "source": [
    "pheno['AUC_37'] = np.sqrt(pheno.AUC37.values)"
   ]
  },
  {
   "cell_type": "code",
   "execution_count": null,
   "metadata": {},
   "outputs": [],
   "source": [
    "pheno.AUC_37.hist();"
   ]
  },
  {
   "cell_type": "code",
   "execution_count": null,
   "metadata": {},
   "outputs": [],
   "source": [
    "smf.ols('AUC_37~SSK1+SSK2 + RIC8',data=pheno).fit().summary()"
   ]
  },
  {
   "cell_type": "code",
   "execution_count": null,
   "metadata": {},
   "outputs": [],
   "source": [
    "pheno['AUC39'] = pheno['39_0.0']"
   ]
  },
  {
   "cell_type": "code",
   "execution_count": null,
   "metadata": {},
   "outputs": [],
   "source": [
    "pheno['AUC37amphb'] = pheno['37_0.125']"
   ]
  },
  {
   "cell_type": "code",
   "execution_count": null,
   "metadata": {},
   "outputs": [],
   "source": [
    "pheno[['30_0.125','37_0.125','39_0.125','Melanin']].corr(method='spearman')"
   ]
  },
  {
   "cell_type": "code",
   "execution_count": null,
   "metadata": {},
   "outputs": [],
   "source": [
    "ss.spearmanr(pheno['39_0.125'],pheno['Melanin'])"
   ]
  },
  {
   "cell_type": "code",
   "execution_count": null,
   "metadata": {},
   "outputs": [],
   "source": [
    "sns.regplot(x='Melanin',y='AUC37amphb',data=pheno)"
   ]
  },
  {
   "cell_type": "code",
   "execution_count": null,
   "metadata": {},
   "outputs": [],
   "source": [
    "sns.boxplot(x='SSK1',y='AUC37amphb',hue='SSK2',data=pheno);"
   ]
  },
  {
   "cell_type": "code",
   "execution_count": null,
   "metadata": {},
   "outputs": [],
   "source": [
    "sns.lmplot(x='SSK1',y='AUC37amphb',hue='SSK2',data=pheno,scatter_kws={'alpha':0},legend_out=False);\n",
    "g = sns.swarmplot(x='SSK1',y='AUC37amphb',hue='SSK2',data=pheno);\n",
    "g.legend_.remove()"
   ]
  },
  {
   "cell_type": "code",
   "execution_count": null,
   "metadata": {},
   "outputs": [],
   "source": [
    "pheno['AUC39amphb'] = pheno['39_0.125']"
   ]
  },
  {
   "cell_type": "code",
   "execution_count": null,
   "metadata": {},
   "outputs": [],
   "source": [
    "import statsmodels.api as sm"
   ]
  },
  {
   "cell_type": "code",
   "execution_count": null,
   "metadata": {},
   "outputs": [],
   "source": [
    "model= smf.ols('AUC37amphb~SSK1*SSK2',data=pheno).fit()"
   ]
  },
  {
   "cell_type": "code",
   "execution_count": null,
   "metadata": {},
   "outputs": [],
   "source": [
    "anova_table = sm.stats.anova_lm(model,typ=2)"
   ]
  },
  {
   "cell_type": "code",
   "execution_count": null,
   "metadata": {},
   "outputs": [],
   "source": [
    "anova_table"
   ]
  },
  {
   "cell_type": "code",
   "execution_count": null,
   "metadata": {},
   "outputs": [],
   "source": [
    "pheno.columns"
   ]
  },
  {
   "cell_type": "code",
   "execution_count": null,
   "metadata": {},
   "outputs": [],
   "source": [
    "smf.ols('H2O2~RIC8*SSK2',data=pheno).fit().summary()"
   ]
  },
  {
   "cell_type": "markdown",
   "metadata": {},
   "source": [
    "smf.ols('H2O2~RIC8SSK2',data=pheno).fit().summary()"
   ]
  },
  {
   "cell_type": "markdown",
   "metadata": {},
   "source": [
    "smf.ols('AUC39AB0125 ~ SSK1 + SSK2*RIC8 - SSK2',data=pheno).fit().summary()"
   ]
  },
  {
   "cell_type": "markdown",
   "metadata": {},
   "source": [
    "smf.ols('AUC39 ~ RIC8*SSK1*SSK2 - RIC8:SSK1',data=pheno).fit().summary()"
   ]
  },
  {
   "cell_type": "markdown",
   "metadata": {},
   "source": [
    "smf.ols('Melanin ~ RIC8',data=pheno).fit().summary()"
   ]
  },
  {
   "cell_type": "markdown",
   "metadata": {},
   "source": [
    "smf.ols('Capsule_diameter_residual~RIC8',data=pheno).fit().summary()"
   ]
  },
  {
   "cell_type": "markdown",
   "metadata": {},
   "source": [
    "smf.ols('H2O2~RIC8*SSK2*SSK1-SSK2-SSK1:SSK2',data=pheno).fit().summary()"
   ]
  },
  {
   "cell_type": "code",
   "execution_count": null,
   "metadata": {},
   "outputs": [],
   "source": [
    "ss.normaltest(pheno.H2O2.values)"
   ]
  },
  {
   "cell_type": "code",
   "execution_count": null,
   "metadata": {},
   "outputs": [],
   "source": [
    "pheno.to_csv('/home/croth/Desktop/Cdx_phenos.csv.gz')"
   ]
  },
  {
   "cell_type": "code",
   "execution_count": null,
   "metadata": {},
   "outputs": [],
   "source": [
    "fig = plt.figure(figsize=(10,10))\n",
    "ax = plt.axes(projection='3d')\n",
    "ms = ['o','^']\n",
    "for i in [0,1]:\n",
    "    phe = pheno[(pheno.RIC8==i)]\n",
    "    ax.scatter3D(phe['39_0.0'], phe['Capsule_diameter_residual'], \n",
    "             phe['Melanin'], c=phe['H2O2'], \n",
    "             cmap='cividis_r',s=50,alpha=0.5,marker=ms[i]);\n",
    "ax.view_init(20,20);\n",
    "\n",
    "ax.set_xlabel('\\nAUC at 39C',fontsize=14)\n",
    "ax.set_ylabel('\\nStandardized Capsule Size',fontsize=14)\n",
    "ax.set_zlabel('\\nMelanization',fontsize=14);\n",
    "plt.savefig('Chromosome_14_phetypes.png',dpi=100,bbox_inches='tight');"
   ]
  },
  {
   "cell_type": "code",
   "execution_count": null,
   "metadata": {},
   "outputs": [],
   "source": [
    "pheno"
   ]
  },
  {
   "cell_type": "code",
   "execution_count": null,
   "metadata": {},
   "outputs": [],
   "source": [
    "pheno[['H2O2','Fludioxonil','30_0.125','37_0.125',\n",
    "       '37_0.175','39_0.0','39_0.125','Melanin','Capsule_diameter_residual']].corr(method='spearman')"
   ]
  },
  {
   "cell_type": "code",
   "execution_count": null,
   "metadata": {},
   "outputs": [],
   "source": [
    "ss.spearmanr(pheno.H2O2.values,pheno['37_0.125'].values)"
   ]
  },
  {
   "cell_type": "code",
   "execution_count": null,
   "metadata": {},
   "outputs": [],
   "source": [
    "ss.spearmanr(pheno.H2O2.values,pheno['39_0.0'].values)"
   ]
  },
  {
   "cell_type": "code",
   "execution_count": null,
   "metadata": {},
   "outputs": [],
   "source": [
    "for p in ['Fludioxonil','37_0.125','37_0.175','39_0.125','39_0.0','Melanin','Capsule_diameter_residual']:\n",
    "    \n",
    "    print(p,ss.spearmanr(pheno.H2O2.values,pheno[p].values))"
   ]
  },
  {
   "cell_type": "code",
   "execution_count": null,
   "metadata": {},
   "outputs": [],
   "source": [
    "h202_pval = geno_df[segs].drop_duplicates().apply(allelic_ANOVA, \n",
    "                                                  args = [pheno['39_0.125'].T[segs].values],\n",
    "                                                 axis=1)"
   ]
  },
  {
   "cell_type": "code",
   "execution_count": null,
   "metadata": {},
   "outputs": [],
   "source": [
    "ss.spearmanr(pheno.H2O2.values,pheno['39_0.125'].values)"
   ]
  },
  {
   "cell_type": "code",
   "execution_count": null,
   "metadata": {},
   "outputs": [],
   "source": [
    "ss.spearmanr(pheno.H2O2.values,pheno['Fludioxonil'].values)"
   ]
  },
  {
   "cell_type": "code",
   "execution_count": null,
   "metadata": {},
   "outputs": [],
   "source": [
    "ssk1 = pd.read_csv('/home/croth/Desktop/Parametric/CNB03090.csv',index_col=0)\n",
    "ssk2 = pd.read_csv('/home/croth/Desktop/Parametric/CNL05560.csv',index_col=0)\n",
    "ric8 = pd.read_csv('/home/croth/Desktop/Parametric/CNN01270.csv',index_col=0)"
   ]
  },
  {
   "cell_type": "code",
   "execution_count": null,
   "metadata": {},
   "outputs": [],
   "source": [
    "ssk1gv = geno_df[(geno_df.Chrom=='Chr02') & \n",
    "                 (geno_df.Pos>=ssk1.Start.min()) & \n",
    "                 (geno_df.Pos<=ssk1.End.max())][segs].mode().dropna()\n",
    "\n",
    "ssk2gv = geno_df[(geno_df.Chrom=='Chr12') & \n",
    "                 (geno_df.Pos>=ssk2.Start.min()) & \n",
    "                 (geno_df.Pos<=ssk2.End.max())][segs].mode().dropna()\n",
    "\n",
    "ric8gv = geno_df[(geno_df.Chrom=='Chr14') & \n",
    "                 (geno_df.Pos>=ric8.Start.min()) & \n",
    "                 (geno_df.Pos<=ric8.End.max())][segs].mode().dropna()\n",
    "\n",
    "qtl_gv = pd.concat([ssk1gv,ssk2gv,ric8gv]).T\n",
    "qtl_gv.columns = ['SSK1','SSK2','RIC8']"
   ]
  },
  {
   "cell_type": "code",
   "execution_count": null,
   "metadata": {},
   "outputs": [],
   "source": [
    "for g in qtl_gv.columns:\n",
    "    pheno[g] = qtl_gv.T[pheno.index].T[g]"
   ]
  },
  {
   "cell_type": "code",
   "execution_count": null,
   "metadata": {},
   "outputs": [],
   "source": [
    "pheno"
   ]
  },
  {
   "cell_type": "code",
   "execution_count": null,
   "metadata": {},
   "outputs": [],
   "source": [
    "pheno[['Melanin','39_0.0','H2O2','Cell_and_Capsule_diameter','Capsule_diameter','Capsule_diameter_residual']].corr(method='spearman')"
   ]
  },
  {
   "cell_type": "code",
   "execution_count": null,
   "metadata": {},
   "outputs": [],
   "source": [
    "ss.spearmanr(pheno.Melanin.values,pheno.Capsule_diameter_residual)"
   ]
  },
  {
   "cell_type": "code",
   "execution_count": null,
   "metadata": {},
   "outputs": [],
   "source": [
    "sns.regplot(x='39_0.0',y='Capsule_diameter_residual',data=pheno);"
   ]
  },
  {
   "cell_type": "code",
   "execution_count": null,
   "metadata": {},
   "outputs": [],
   "source": [
    "ss.pearsonr(pheno.Capsule_diameter_residual,pheno['39_0.0'])"
   ]
  },
  {
   "cell_type": "code",
   "execution_count": null,
   "metadata": {},
   "outputs": [],
   "source": [
    "ss.spearmanr(pheno.Capsule_diameter_residual,pheno['Melanin'])"
   ]
  },
  {
   "cell_type": "code",
   "execution_count": null,
   "metadata": {},
   "outputs": [],
   "source": [
    "ss.spearmanr(pheno.Capsule_diameter_residual,pheno['39_0.0'])"
   ]
  },
  {
   "cell_type": "code",
   "execution_count": null,
   "metadata": {},
   "outputs": [],
   "source": [
    "ss.spearmanr(pheno.Melanin,pheno['39_0.0'])"
   ]
  },
  {
   "cell_type": "code",
   "execution_count": null,
   "metadata": {},
   "outputs": [],
   "source": [
    "for p in ['Melanin','39_0.0','Capsule_diameter_residual']:\n",
    "    print(ss.spearmanr(pheno['H2O2'],pheno[p]))"
   ]
  },
  {
   "cell_type": "code",
   "execution_count": null,
   "metadata": {},
   "outputs": [],
   "source": [
    "pheno[['Melanin','39_0.0','Capsule_diameter','Capsule_diameter_residual','H2O2']].corr(method='spearman')"
   ]
  },
  {
   "cell_type": "code",
   "execution_count": null,
   "metadata": {},
   "outputs": [],
   "source": [
    "pheno.to_csv('/home/croth/Desktop/Cdx_phenotypes.csv.gz',index=True)"
   ]
  },
  {
   "cell_type": "code",
   "execution_count": null,
   "metadata": {},
   "outputs": [],
   "source": [
    "sns.scatterplot(x='39_0.0',y='Capsule_diameter_residual',hue='RIC8',data=pheno);"
   ]
  },
  {
   "cell_type": "code",
   "execution_count": null,
   "metadata": {},
   "outputs": [],
   "source": [
    "sns.scatterplot(x='39_0.0',y='Capsule_diameter',hue='RIC8',data=pheno);"
   ]
  },
  {
   "cell_type": "code",
   "execution_count": null,
   "metadata": {},
   "outputs": [],
   "source": [
    "ss.spearmanr(pheno.Capsule_diameter_residual,pheno['39_0.0'])"
   ]
  },
  {
   "cell_type": "code",
   "execution_count": null,
   "metadata": {},
   "outputs": [],
   "source": [
    "ss.spearmanr(pheno.Capsule_diameter,pheno['Melanin'])"
   ]
  },
  {
   "cell_type": "code",
   "execution_count": null,
   "metadata": {},
   "outputs": [],
   "source": [
    "ss.spearmanr(pheno.Capsule_diameter,pheno['Melanin'])"
   ]
  },
  {
   "cell_type": "code",
   "execution_count": null,
   "metadata": {},
   "outputs": [],
   "source": [
    "pheno_z['QTL14'] = pheno.QTL14"
   ]
  },
  {
   "cell_type": "code",
   "execution_count": null,
   "metadata": {},
   "outputs": [],
   "source": [
    "ric8 = np.array([386833, 389698])"
   ]
  },
  {
   "cell_type": "code",
   "execution_count": null,
   "metadata": {},
   "outputs": [],
   "source": [
    "ch14data = pheno[['Melanin','Capsule_diameter_residual','39_0.0','QTL14']].copy()\n",
    "for p in ch14data.columns.tolist()[:-1]:\n",
    "    \n",
    "    ch14data[p] = np.array(myminmax(ch14data[p].values),dtype=float)"
   ]
  },
  {
   "cell_type": "code",
   "execution_count": null,
   "metadata": {},
   "outputs": [],
   "source": [
    "hl,hr = 279819.0, 425700.0\n",
    "cl,cr = 354579.0, 668746.0\n",
    "ml,mr = 368955.0, 403449.0"
   ]
  },
  {
   "cell_type": "code",
   "execution_count": null,
   "metadata": {},
   "outputs": [],
   "source": [
    "chr14p = pd.read_csv('./Cdx_chrom_14_QTLs.csv',index_col=0)"
   ]
  },
  {
   "cell_type": "code",
   "execution_count": null,
   "metadata": {},
   "outputs": [],
   "source": [
    "chr14p.head()"
   ]
  },
  {
   "cell_type": "code",
   "execution_count": null,
   "metadata": {},
   "outputs": [],
   "source": [
    "from matplotlib import rc\n",
    "xl280al = 'XL280'+r'$\\alpha$'#+'SS'\n",
    "xl280_label = 'XL280' +r'$\\bf{a}$'\n",
    "_431_label = '431'+r'$\\mathrm{\\alpha}$'"
   ]
  },
  {
   "cell_type": "code",
   "execution_count": null,
   "metadata": {},
   "outputs": [],
   "source": [
    "melanin.head()"
   ]
  },
  {
   "cell_type": "code",
   "execution_count": null,
   "metadata": {},
   "outputs": [],
   "source": [
    "ch14data['Mel_QTL'] = melanin['QTL'].T[ch14data.index].T"
   ]
  },
  {
   "cell_type": "code",
   "execution_count": null,
   "metadata": {},
   "outputs": [],
   "source": [
    "ch14data['Melanization QTL Allele'] = [_431_label if a == 1 else xl280_label \n",
    "                                         for a in ch14data.Mel_QTL]"
   ]
  },
  {
   "cell_type": "code",
   "execution_count": null,
   "metadata": {},
   "outputs": [],
   "source": [
    "import statsmodels.formula.api as smf"
   ]
  },
  {
   "cell_type": "code",
   "execution_count": null,
   "metadata": {},
   "outputs": [],
   "source": [
    "ch14data.head()"
   ]
  },
  {
   "cell_type": "code",
   "execution_count": null,
   "metadata": {},
   "outputs": [],
   "source": [
    "ch14data.columns = ['Melanin','Capsule_diameter','HTG','QTL14','MELQTL','Melanization QTL Allele']"
   ]
  },
  {
   "cell_type": "code",
   "execution_count": null,
   "metadata": {},
   "outputs": [],
   "source": [
    "ch14data.head()"
   ]
  },
  {
   "cell_type": "code",
   "execution_count": null,
   "metadata": {},
   "outputs": [],
   "source": [
    "ch14data[['Melanin','HTG']].corr().values[0][-1]**2"
   ]
  },
  {
   "cell_type": "code",
   "execution_count": null,
   "metadata": {},
   "outputs": [],
   "source": [
    "HTG_Mel_fit = smf.ols('HTG ~ Melanin',data=ch14data).fit()\n",
    "htg_mel_rs = np.round(HTG_Mel_fit.rsquared,2)\n",
    "\n",
    "CELL_Mel_fit = smf.ols('Capsule_diameter ~ Melanin',data=ch14data).fit()\n",
    "cell_mel_rs = np.round(CELL_Mel_fit.rsquared,2)"
   ]
  },
  {
   "cell_type": "code",
   "execution_count": null,
   "metadata": {},
   "outputs": [],
   "source": [
    "spearman_r = pheno[['Melanin','Capsule_diameter_residual','39_0.0','H2O2']].corr(method='spearman')"
   ]
  },
  {
   "cell_type": "code",
   "execution_count": null,
   "metadata": {},
   "outputs": [],
   "source": [
    "spearman_r"
   ]
  },
  {
   "cell_type": "code",
   "execution_count": null,
   "metadata": {},
   "outputs": [],
   "source": [
    "auc39_cap_cor = np.round(spearman_r[['39_0.0']].T['Capsule_diameter_residual'].min(),2)\n",
    "auc39_mel_cor = np.round(spearman_r[['39_0.0']].T['Melanin'].min(),2)"
   ]
  },
  {
   "cell_type": "code",
   "execution_count": null,
   "metadata": {},
   "outputs": [],
   "source": [
    "fig,ax = plt.subplots(2,2,figsize=(10,8))\n",
    "plt.sca(ax[0,1]);plt.axis('off')\n",
    "\n",
    "plt.sca(ax[0,0])\n",
    "[ax[0,0].spines[a].set_visible(False) for a in ['top','right']]\n",
    "\n",
    "kb = 1000\n",
    "ls = 0.03\n",
    "yp = -0.05\n",
    "\n",
    "\n",
    "plt.plot(chr14p.Pos.values/kb,\n",
    "        myminmax(chr14p.HTG_Pval.values),'.',\n",
    "         color='lightblue',alpha=0.2,ms=3)#,label=u'39°C QTL')\n",
    "plt.hlines(yp+0.05,hl/kb,hr/kb,color='lightblue',label=u'39°C QTL\\nand 95% CI');\n",
    "plt.vlines((hl/kb,hr/kb),yp+0.05-ls,yp+0.05+ls,color='lightblue');\n",
    "\n",
    "plt.plot(chr14p.Pos.values/kb,\n",
    "         myminmax(chr14p.Residual_Pval.values),\n",
    "         'r.',alpha=0.2,ms=3)#,label='Capsule\\nResidual QTL');\n",
    "plt.hlines(yp,cl/kb,cr/kb,color='r',label='Cell Diameter Residual QTL\\nand 95% CI');\n",
    "plt.vlines((cl/kb,cr/kb),yp-ls,yp+ls,color='r');\n",
    "\n",
    "plt.plot(chr14p.Pos.values/kb,\n",
    "         myminmax(chr14p.Melanin_Pval.values),\n",
    "         'k.',alpha=0.2,ms=3)#,label='Melanization QTL')\n",
    "plt.hlines(yp-0.05,ml/kb,mr/kb,color='k',label='Melanization QTL\\nand 95% CI');\n",
    "plt.vlines((ml/kb,mr/kb),yp-0.05-ls,yp-0.05+ls,color='k');\n",
    "plt.hlines(-0.17,568029/kb,644419/kb,linewidth=15,\n",
    "           color='blue',label='Centromere');\n",
    "\n",
    "\n",
    "#plt.plot(chr14p.Pos.values/kb,\n",
    "#        myminmax(chr14p.H2O2_Pval.values),'.',\n",
    "#         color='olive',alpha=0.2)#,label=u'39°C QTL')\n",
    "#plt.hlines(yp-0.3,h2l/kb,h2r/kb,color='olive',label=u'H$_{2}$O$_{2}$ QTL\\nand 95% CI');\n",
    "#plt.vlines((h2l/kb,h2r/kb),yp-0.3-ls,yp-0.3+ls,color='olive');\n",
    "\n",
    "plt.ylim(-0.15,1.05)\n",
    "plt.yticks([0,1])\n",
    "plt.legend(bbox_to_anchor = (2.05,1.15),fontsize=14,frameon=True)\n",
    "\n",
    "plt.xlabel('Chromosome 14 Coordinates (kb)',fontsize=14);\n",
    "plt.ylabel('Normalized\\n$-\\log_{10}\\,(p-value)$',fontsize=14);\n",
    "\n",
    "plt.title('A',fontsize=16,fontweight='bold',x=-.2,y=1)\n",
    "\n",
    "## ----------------------------------------------------------------------------- ##\n",
    "\n",
    "plt.sca(ax[1,0])\n",
    "[ax[1,0].spines[a].set_visible(False) for a in ['top','right']]\n",
    "\n",
    "#sns.regplot(x='Melanin',y='Capsule_diameter',\n",
    "#            data=ch14data,scatter_kws={'alpha':0.0},\n",
    "#            line_kws={'color':'grey','alpha':0.5});\n",
    "sns.scatterplot(x='HTG',y='Capsule_diameter',data=ch14data,alpha=0.7,\n",
    "                hue='Melanization QTL Allele',\n",
    "                hue_order=[xl280_label,_431_label])\n",
    "\n",
    "plt.legend(bbox_to_anchor=(2.21,1.42),fontsize=14,frameon=True)\n",
    "plt.xlabel(' ')\n",
    "plt.ylabel('Normalized\\nCapsule Diameter (\\u03BCm)',fontsize=14)\n",
    "\n",
    "plt.ylim(-0.1,1.1)\n",
    "\n",
    "plt.title('B',fontsize=16,fontweight='bold',x=-.2,y=1)\n",
    "\n",
    "#plt.text(s='$R^2 = %s$'%cell_mel_rs,fontsize=12,x=0.15,y=1,va='center',ha='center')\n",
    "plt.text(s='\\u03C1 = %s'%auc39_cap_cor,fontsize=12,x=0.75,y=.01,va='center',ha='center')\n",
    "## ------------------------------------------------------------------------------- ##\n",
    "\n",
    "plt.sca(ax[1,1])\n",
    "\n",
    "[ax[1,1].spines[a].set_visible(False) for a in ['top','right']]\n",
    "\n",
    "#sns.regplot(x='Melanin',y='HTG',data=ch14data,\n",
    "#            scatter_kws={'alpha':0.0},\n",
    "#            line_kws={'color':'grey','alpha':0.5});\n",
    "sns.scatterplot(y='Melanin',x='HTG',data=ch14data,hue='Melanization QTL Allele',\n",
    "                hue_order=[xl280_label,_431_label],legend=None,alpha=0.7)\n",
    "\n",
    "plt.ylabel('Normalized Mean Intensity\\n(Melanization)',fontsize=14,x=-.2)\n",
    "plt.xlabel('Normalized AUC at 39°C',fontsize=14,x=-.2)\n",
    "\n",
    "plt.ylim(-0.1,1.1)\n",
    "#plt.text(s='$R^2 = %s$'%htg_mel_rs,fontsize=12,x=0.15,y=1,va='center',ha='center')\n",
    "plt.text(s='\\u03C1 = %s'%auc39_mel_cor,fontsize=12,x=0.75,y=.01,va='center',ha='center')\n",
    "\n",
    "plt.subplots_adjust(wspace=0.3,hspace=0.35)\n",
    "\n",
    "\n",
    "plt.sca(ax[0,0])\n",
    "sub1 = fig.add_axes([0.47,.71,0.05,0.01])\n",
    "plt.xticks([]);plt.yticks([]);\n",
    "[sub1.spines[a].set_visible(False) for a in ['top','right','left','bottom']]\n",
    "\n",
    "sub1 = fig.add_axes([0.47,.685,0.05,0.015])\n",
    "plt.xticks([]);plt.yticks([]);\n",
    "[sub1.spines[a].set_visible(False) for a in ['top','right','left','bottom']]\n",
    "\n",
    "#plt.savefig('./Cdx_Chromosome14_QTL_Cell_HTG_Melanization.png',\n",
    "plt.savefig('/home/croth/QTL_FIGS/SUPP/FIGS/S7_Fig.pdf',\n",
    "             dpi=300,bbox_inches='tight');"
   ]
  },
  {
   "cell_type": "code",
   "execution_count": null,
   "metadata": {},
   "outputs": [],
   "source": [
    "sns.lmplot(x='39_0.0',y='H2O2',data=pheno,hue='RIC8');"
   ]
  },
  {
   "cell_type": "code",
   "execution_count": null,
   "metadata": {},
   "outputs": [],
   "source": [
    "weirdo = 'SS-B364'"
   ]
  },
  {
   "cell_type": "code",
   "execution_count": null,
   "metadata": {},
   "outputs": [],
   "source": [
    "#ch14data[(ch14data.QTL14==0)].sort_values(by='Melanin')"
   ]
  },
  {
   "cell_type": "code",
   "execution_count": null,
   "metadata": {},
   "outputs": [],
   "source": [
    "combos = pd.DataFrame([np.random.choice([1,1,1,0,0,0],3,replace=False) \n",
    "                       for k in range(1000)]\n",
    "        ).drop_duplicates().sort_values(by=[0,1,2]).reset_index(drop=True)\n",
    "combos.columns = ['SSK1','SSK2','RIC8']\n",
    "combos"
   ]
  },
  {
   "cell_type": "code",
   "execution_count": null,
   "metadata": {},
   "outputs": [],
   "source": [
    "combos_ix = [pheno[(pheno.SSK1==j.SSK1) & (pheno.SSK2 ==j.SSK2) & \n",
    "                   (pheno.RIC8==j.RIC8)].index for i,j in combos.iterrows()]"
   ]
  },
  {
   "cell_type": "code",
   "execution_count": null,
   "metadata": {},
   "outputs": [],
   "source": [
    "np.sum([len(a) for a in combos_ix])"
   ]
  },
  {
   "cell_type": "code",
   "execution_count": null,
   "metadata": {},
   "outputs": [],
   "source": [
    "[len(a) for a in combos_ix]"
   ]
  },
  {
   "cell_type": "code",
   "execution_count": null,
   "metadata": {},
   "outputs": [],
   "source": [
    "combos_ix_nc = [ [s for s in k if len(s.split('_co')) !=2 and s != weirdo] for k in  combos_ix]"
   ]
  },
  {
   "cell_type": "code",
   "execution_count": null,
   "metadata": {},
   "outputs": [],
   "source": [
    "for_t_temp = [pheno.T[c].T.sort_values(by='H2O2').index[i] for i,c in enumerate(combos_ix_nc[::-1])]"
   ]
  },
  {
   "cell_type": "code",
   "execution_count": null,
   "metadata": {},
   "outputs": [],
   "source": [
    "for_t_temp "
   ]
  },
  {
   "cell_type": "code",
   "execution_count": null,
   "metadata": {},
   "outputs": [],
   "source": [
    "for_thomas = for_t_temp+['SS-B621','SS-B317','XL280a','SS-A837'] "
   ]
  },
  {
   "cell_type": "code",
   "execution_count": null,
   "metadata": {},
   "outputs": [],
   "source": [
    "for_t_df = pheno.T[for_thomas].T[['39_0.0','Melanin','Fludioxonil','H2O2','SSK1','SSK2','RIC8']\n",
    "                     ].sort_values(['SSK1','SSK2','RIC8','H2O2'])\n",
    "for_t_df.to_csv('~/Cdeneoformans_test_segregants.csv',index=True)"
   ]
  },
  {
   "cell_type": "code",
   "execution_count": null,
   "metadata": {},
   "outputs": [],
   "source": [
    "for_t_df"
   ]
  },
  {
   "cell_type": "code",
   "execution_count": null,
   "metadata": {},
   "outputs": [],
   "source": [
    "plt.plot(pheno.Melanin,pheno.Cell_diameter,'.');\n",
    "plt.plot(pheno.Melanin,pheno['39_0.0'],'r.');"
   ]
  },
  {
   "cell_type": "code",
   "execution_count": null,
   "metadata": {},
   "outputs": [],
   "source": [
    "pheno_z['Capsule_Cell'] = np.array(ss.zscore(capsule.T[pheno_z.index].T['Cell_diameter'].values),dtype=float)"
   ]
  },
  {
   "cell_type": "code",
   "execution_count": null,
   "metadata": {},
   "outputs": [],
   "source": [
    "np.corrcoef(x = pheno_z['Melanin'].values,y=pheno_z['Capsule_Cell'].values)"
   ]
  },
  {
   "cell_type": "code",
   "execution_count": null,
   "metadata": {},
   "outputs": [],
   "source": [
    "fig,ax = plt.subplots(5,4,figsize=(10,10),sharey=True,sharex=True)\n",
    "\n",
    "plt.sca(ax[0,0])\n",
    "plt.title(u'37 °C',fontsize=14,y=.8,x=.2)\n",
    "sns.scatterplot('30_0.0', '37_0.0',alpha=0.5,hue='QTL14',data = pheno_z,legend=None)\n",
    "\n",
    "plt.sca(ax[0,1])\n",
    "plt.title(u'39 °C',fontsize=14,y=.8,x=.2)\n",
    "sns.scatterplot('37_0.0', '39_0.0',alpha=0.5,hue='QTL14',data = pheno_z,legend=None)\n",
    "#plt.ylim(-5,85);\n",
    "#plt.yticks(np.arange(4)*25)\n",
    "\n",
    "plt.sca(ax[0,2])\n",
    "plt.plot(0,0,'o',label='XL280',alpha=0.5)\n",
    "plt.plot(0,0,'o',label='431',alpha=0.5)\n",
    "plt.plot(0,0,'o',color='white',markersize=20)\n",
    "plt.legend(title='Chromosome 14 QTL, $RIC8$',\n",
    "           bbox_to_anchor=(1.2,1),fontsize=14,frameon=False)\n",
    "for p in ['left','right','top','bottom']:\n",
    "    ax[0,2].spines[p].set_visible(False)\n",
    "\n",
    "plt.setp(ax[0,2].get_xticklines(), visible=False)\n",
    "plt.setp(ax[0,2].get_yticklines(), visible=False)\n",
    "\n",
    "plt.sca(ax[0,3]);plt.axis('off') \n",
    "plt.sca(ax[0,0]);plt.ylabel('AUC (72 hr)',fontsize=14)\n",
    "\n",
    "    \n",
    "    \n",
    "    \n",
    "plt.sca(ax[1,0])\n",
    "sns.scatterplot('30_0.0', 'Melanin',alpha=0.5,hue='QTL14',data = pheno_z,legend=None)\n",
    "\n",
    "plt.sca(ax[1,1])\n",
    "sns.scatterplot('37_0.0', 'Melanin',alpha=0.5,hue='QTL14',data = pheno_z,legend=None)\n",
    "\n",
    "plt.sca(ax[1,2])\n",
    "sns.scatterplot('39_0.0', 'Melanin',alpha=0.5,hue='QTL14',data = pheno_z,legend=None)\n",
    "\n",
    "plt.sca(ax[1,3]);plt.axis('off');\n",
    "plt.sca(ax[1,0]);plt.ylabel('Melanization',fontsize=14)\n",
    "\n",
    "\n",
    "\n",
    "\n",
    "plt.sca(ax[2,0])\n",
    "#plt.yticks(np.arange(6))\n",
    "sns.scatterplot('30_0.0', 'H2O2',alpha=0.5,hue='QTL14',data = pheno_z,legend=None)\n",
    "\n",
    "plt.sca(ax[2,1])\n",
    "sns.scatterplot('37_0.0', 'H2O2',alpha=0.5,hue='QTL14',data = pheno_z,legend=None)\n",
    "\n",
    "plt.sca(ax[2,2])\n",
    "sns.scatterplot('39_0.0', 'H2O2',alpha=0.5,hue='QTL14',data = pheno_z,legend=None)\n",
    "\n",
    "plt.sca(ax[2,-1])\n",
    "sns.scatterplot('Melanin','H2O2',alpha=0.5,hue='QTL14',data = pheno_z,legend=None)\n",
    "plt.sca(ax[2,0])\n",
    "plt.ylabel(u'H$_{2}$O$_{2}$',fontsize=14)\n",
    "\n",
    "\n",
    "\n",
    "\n",
    "plt.sca(ax[3,0])\n",
    "sns.scatterplot('30_0.0', 'Annulus',alpha=0.5,hue='QTL14',data = pheno_z,legend=None)\n",
    "plt.xlabel(u'AUC at 30 °C',fontsize=14)\n",
    "#plt.xlim(-5,85)\n",
    "#plt.ylim(-12,12)\n",
    "\n",
    "plt.sca(ax[3,1])\n",
    "sns.scatterplot('37_0.0', 'Annulus',alpha=0.5,hue='QTL14',data = pheno_z,legend=None)\n",
    "plt.xlabel(u'AUC at 37 °C',fontsize=14)\n",
    "#plt.xlim(-5,85)\n",
    "\n",
    "plt.sca(ax[3,2])\n",
    "sns.scatterplot('39_0.0', 'Annulus',alpha=0.5,hue='QTL14',data = pheno_z,legend=None)\n",
    "plt.xlabel(u'AUC at 39 °C',fontsize=14)\n",
    "#plt.xlim(-5,85)\n",
    "\n",
    "plt.sca(ax[3,-1])\n",
    "sns.scatterplot('Melanin','Annulus',alpha=0.5,hue='QTL14',data = pheno_z,legend=None)\n",
    "plt.xlabel('Melanization',fontsize=14)\n",
    "plt.sca(ax[3,0])\n",
    "plt.ylabel('Capsule Annulus\\nResiduals',fontsize=14)\n",
    "\n",
    "\n",
    "\n",
    "\n",
    "plt.sca(ax[4,0])\n",
    "sns.scatterplot('30_0.0', 'Capsule_Cell',alpha=0.5,hue='QTL14',data = pheno_z,legend=None)\n",
    "plt.xlabel(u'AUC at 30 °C',fontsize=14)\n",
    "#plt.xlim(-5,85)\n",
    "#plt.ylim(-12,12)\n",
    "\n",
    "plt.sca(ax[4,1])\n",
    "sns.scatterplot('37_0.0', 'Capsule_Cell',alpha=0.5,hue='QTL14',data = pheno_z,legend=None)\n",
    "plt.xlabel(u'AUC at 37 °C',fontsize=14)\n",
    "#plt.xlim(-5,85)\n",
    "\n",
    "plt.sca(ax[4,2])\n",
    "sns.scatterplot('39_0.0', 'Capsule_Cell',alpha=0.5,hue='QTL14',data = pheno_z,legend=None)\n",
    "plt.xlabel(u'AUC at 39 °C',fontsize=14)\n",
    "#plt.xlim(-5,85)\n",
    "\n",
    "plt.sca(ax[4,-1])\n",
    "sns.scatterplot('Melanin','Capsule_Cell',alpha=0.5,hue='QTL14',data = pheno_z,legend=None)\n",
    "plt.xlabel('Melanization',fontsize=14)\n",
    "plt.sca(ax[4,0])\n",
    "plt.ylabel('Capsule\\nand Cell',fontsize=14)\n",
    "\n",
    "plt.subplots_adjust(hspace=0.1)\n",
    "plt.savefig('./Cryptococcus_chromosome14_phenotypes_zscores.png',\n",
    "            dpi=200,bbox_inches='tight');"
   ]
  },
  {
   "cell_type": "code",
   "execution_count": null,
   "metadata": {},
   "outputs": [],
   "source": [
    "capsule.head()"
   ]
  },
  {
   "cell_type": "code",
   "execution_count": null,
   "metadata": {},
   "outputs": [],
   "source": [
    "sns.swarmplot(x='QTL',y='Capsule',data = capsule);"
   ]
  },
  {
   "cell_type": "code",
   "execution_count": null,
   "metadata": {},
   "outputs": [],
   "source": [
    "pheno_s = pheno.apply(myminmax,axis=0)"
   ]
  },
  {
   "cell_type": "code",
   "execution_count": null,
   "metadata": {},
   "outputs": [],
   "source": [
    "pheno_s.mean()"
   ]
  },
  {
   "cell_type": "code",
   "execution_count": null,
   "metadata": {},
   "outputs": [],
   "source": [
    "pheno_s.std(axis=0,ddof=1)"
   ]
  },
  {
   "cell_type": "code",
   "execution_count": null,
   "metadata": {},
   "outputs": [],
   "source": [
    "fig,ax = plt.subplots(1,1,figsize=(10,10))\n",
    "pheno_names = pheno.columns.tolist()[:-1]\n",
    "\n",
    "plt.ylim(-1,len(pheno_names)+1)\n",
    "plt.xlim(-1,len(pheno_names)+1)\n",
    "done = []\n",
    "for i, (l,k) in enumerate(pheno[pheno_names].T.iterrows()):\n",
    "    for j, (m,z) in enumerate(pheno[pheno_names].T.iterrows()):\n",
    "        if i == j:\n",
    "            pass\n",
    "        elif sorted((i,j)) in done:\n",
    "            pass\n",
    "        else:\n",
    "            r,p = ss.pearsonr(k,z)\n",
    "            \n",
    "            if p >= 0.05:\n",
    "                c = '>0.05'\n",
    "            elif p <0.05 and p >= 0.01:\n",
    "                c = '*'\n",
    "            elif p <0.01 and p > 0.001:\n",
    "                c = '**'\n",
    "            else:\n",
    "                assert p <= 0.001\n",
    "                c = '***'\n",
    "    \n",
    "            plt.text(x=i,y=j,\n",
    "                     s='%s\\n%s'%(np.round(r,3),c),\n",
    "                     va='center',ha='center')\n",
    "            done.append(sorted((i,j)))\n",
    "\n",
    "pheno_new_names = []\n",
    "for j in pheno_names:\n",
    "    if len(j.split('_')) == 2:\n",
    "        new_name = j.split('_')[0]+' °C ' + j.split('_')[1]+u' \\u03BCg/ml'\n",
    "    \n",
    "    elif j == 'H2O2':\n",
    "        new_name = 'H$_{2}$O$_{2}$'\n",
    "    elif j == 'Melanin':\n",
    "        new_name = 'Melanization'\n",
    "    elif j == 'Annulus':\n",
    "        new_name = 'Capsule Annulus\\nResidual'\n",
    "    else:\n",
    "        new_name = j\n",
    "    \n",
    "    pheno_new_names.append(new_name)\n",
    "    \n",
    "for i, j in enumerate(pheno_new_names[1:]):\n",
    "    plt.text(-2,i+1,j,rotation=0,\n",
    "             va='center',ha='center')\n",
    "    \n",
    "for i, j in enumerate(pheno_new_names[:-1]):\n",
    "    plt.text(i,16,j,rotation=90,\n",
    "             va='center',ha='center')\n",
    "    \n",
    "for p in ['left','right','top','bottom']:\n",
    "    ax.spines[p].set_visible(False)\n",
    "    \n",
    "plt.setp(ax.get_xticklines(), visible=False)\n",
    "plt.setp(ax.get_yticklines(), visible=False)\n",
    "plt.xticks([]);plt.yticks([]);\n",
    "\n",
    "pvals = ['* : 0.01 < p < 0.05',\n",
    "         '** : 0.001 < p < 0.01',\n",
    "         '*** : p < 0.001']\n",
    "for i,j in enumerate(pvals):\n",
    "    plt.text(8,4-i,s=j,va='center',ha='left',fontsize=14)\n",
    "plt.savefig('./Corrilation_Phenotypes.png',\n",
    "            dpi=200,bbox_inches='tight');"
   ]
  },
  {
   "cell_type": "code",
   "execution_count": null,
   "metadata": {},
   "outputs": [],
   "source": [
    "fig,ax = plt.subplots(1,3,figsize=(12,4),sharey=True)\n",
    "k = '39_0.0'\n",
    "plt.sca(ax[0])\n",
    "plt.hist(pheno[k].values)\n",
    "plt.sca(ax[1])\n",
    "plt.hist(pheno_mc[k])\n",
    "plt.sca(ax[2])\n",
    "plt.hist(pheno_s[k]);"
   ]
  },
  {
   "cell_type": "code",
   "execution_count": null,
   "metadata": {},
   "outputs": [],
   "source": [
    "ps = .90\n",
    "pca = PCA(ps)\n",
    "principalComponents = pca.fit_transform(pheno_s)"
   ]
  },
  {
   "cell_type": "code",
   "execution_count": null,
   "metadata": {},
   "outputs": [],
   "source": [
    "principalComponents.shape"
   ]
  },
  {
   "cell_type": "code",
   "execution_count": null,
   "metadata": {},
   "outputs": [],
   "source": [
    "pca.components_.shape"
   ]
  },
  {
   "cell_type": "code",
   "execution_count": null,
   "metadata": {},
   "outputs": [],
   "source": [
    "var_explained = [np.round(a,1) for a in np.round(pca.explained_variance_ratio_,3)*100]\n",
    "var_explained"
   ]
  },
  {
   "cell_type": "code",
   "execution_count": null,
   "metadata": {},
   "outputs": [],
   "source": [
    "np.sum(var_explained[:3])"
   ]
  },
  {
   "cell_type": "code",
   "execution_count": null,
   "metadata": {},
   "outputs": [],
   "source": [
    "plt.plot(np.arange(1,len(var_explained)+1),np.cumsum(var_explained),'o-');"
   ]
  },
  {
   "cell_type": "code",
   "execution_count": null,
   "metadata": {},
   "outputs": [],
   "source": [
    "principalComponents.T[0].shape"
   ]
  },
  {
   "cell_type": "code",
   "execution_count": null,
   "metadata": {},
   "outputs": [],
   "source": [
    "fig,ax = plt.subplots(1,2,figsize=(10,3),sharex=True,sharey=True)\n",
    "plt.sca(ax[0])\n",
    "plt.plot(principalComponents.T[0],principalComponents.T[1],'.');\n",
    "plt.sca(ax[1])\n",
    "plt.plot(principalComponents.T[0],principalComponents.T[2],'.');\n",
    "plt.xlim(-1.5,2);plt.ylim(-1.5,2);"
   ]
  },
  {
   "cell_type": "code",
   "execution_count": null,
   "metadata": {},
   "outputs": [],
   "source": [
    "from sklearn.linear_model import LinearRegression\n",
    "\n",
    "## Define ftns\n",
    "def hklod(x,Y):\n",
    "    x = x.values.reshape(-1,1)\n",
    "    reg = LinearRegression().fit(x,Y);\n",
    "    yhat = reg.intercept_+reg.coef_.T*x\n",
    "    residual = Y - yhat\n",
    "    resl = np.linalg.det(np.dot(residual.T,residual)) ## Model with one QTL\n",
    "    res0 = np.linalg.det(np.dot(Y.T,Y)) ## Null model\n",
    "    return (len(x)/2)*np.log10(res0/resl)\n",
    "\n",
    "def hkres(x,Y):\n",
    "    x = x.values.reshape(-1,1)\n",
    "    reg = LinearRegression().fit(x,Y);\n",
    "    yhat = reg.intercept_+reg.coef_.T*x\n",
    "    residual = Y - yhat\n",
    "    return residual"
   ]
  },
  {
   "cell_type": "code",
   "execution_count": null,
   "metadata": {},
   "outputs": [],
   "source": []
  },
  {
   "cell_type": "code",
   "execution_count": null,
   "metadata": {},
   "outputs": [],
   "source": [
    "len(loci)"
   ]
  },
  {
   "cell_type": "code",
   "execution_count": null,
   "metadata": {},
   "outputs": [],
   "source": []
  },
  {
   "cell_type": "code",
   "execution_count": null,
   "metadata": {},
   "outputs": [],
   "source": [
    "pca_pheno = pd.DataFrame(principalComponents,index=pheno_s.index)\n",
    "print(pca_pheno.shape)\n",
    "pca_pheno.columns = ['PC%s'%(i+1) for i in pca_pheno.columns]\n",
    "pca_pheno.head()"
   ]
  },
  {
   "cell_type": "code",
   "execution_count": null,
   "metadata": {},
   "outputs": [],
   "source": []
  },
  {
   "cell_type": "code",
   "execution_count": null,
   "metadata": {},
   "outputs": [],
   "source": [
    "##hk_lods = [geno[pca_pheno.index].apply(hklod,axis=1,args=[pca_pheno[[K]]]) \n",
    "##          for K in pca_pheno.columns] "
   ]
  },
  {
   "cell_type": "markdown",
   "metadata": {},
   "source": [
    "perms = 1000\n",
    "thresholds = []\n",
    "for i in range(perms):\n",
    "    pvals = [geno[pca_pheno.index].apply(association_logPval,axis=1,\n",
    "            args=[pca_pheno[K][np.random.permutation(pca_pheno.index.values)].values]) \n",
    "               for K in pca_pheno.columns]\n",
    "    \n",
    "    maxp = np.max(pvals,axis=0).max()\n",
    "    meanp = np.mean(pvals,axis=0).max()\n",
    "    thresholds.append((maxp,meanp))\n",
    "thres = pd.DataFrame(thresholds,columns=['Max','Mean'])\n",
    "thres.to_csv('~/PCA_phenotypes_thresholds.csv',index=False)"
   ]
  },
  {
   "cell_type": "code",
   "execution_count": null,
   "metadata": {},
   "outputs": [],
   "source": [
    "thres = pd.read_csv('/home/croth/PCA_phenotypes_thresholds.csv')"
   ]
  },
  {
   "cell_type": "code",
   "execution_count": null,
   "metadata": {},
   "outputs": [],
   "source": [
    "thres.head()"
   ]
  },
  {
   "cell_type": "code",
   "execution_count": null,
   "metadata": {},
   "outputs": [],
   "source": [
    "mean_95 = np.percentile(thres.Mean.values,95)\n",
    "mean_99 = np.percentile(thres.Mean.values,99)"
   ]
  },
  {
   "cell_type": "code",
   "execution_count": null,
   "metadata": {},
   "outputs": [],
   "source": [
    "max_95 = np.percentile(thres.Max.values,95)\n",
    "max_99 = np.percentile(thres.Max.values,99)"
   ]
  },
  {
   "cell_type": "code",
   "execution_count": null,
   "metadata": {},
   "outputs": [],
   "source": [
    "pvals = [geno[pca_pheno.index].apply(association_logPval,axis=1,\n",
    "        args=[pca_pheno[K].values]) for K in pca_pheno.columns]\n",
    "\n",
    "pval_df = pd.DataFrame(pvals,\n",
    "            columns=geno.index,\n",
    "            index=pca_pheno.columns).T\n",
    "\n",
    "pval_df[['Chrom','Pos']] = geno_df[['Chrom','Pos']].T[loci].T"
   ]
  },
  {
   "cell_type": "code",
   "execution_count": null,
   "metadata": {},
   "outputs": [],
   "source": [
    "##ylabel = 'LOD'\n",
    "ylabel = r'-log$_{10}$(p-value)'"
   ]
  },
  {
   "cell_type": "code",
   "execution_count": null,
   "metadata": {},
   "outputs": [],
   "source": [
    "fig,ax = plt.subplots(2,1,figsize=(12,5),sharex=True)\n",
    "plt.sca(ax[0]);plt.ylabel(ylabel)\n",
    "[plt.hlines(a,0,19*10**6,linestyle='--',alpha=0.5) for a in [max_95,max_99]]\n",
    "for i,c in enumerate(chrlist):\n",
    "    \n",
    "    pt = pval_df[(pval_df.Chrom==c)]\n",
    "    \n",
    "    plt.plot(pt.Pos+cumpos[i],pt[pca_pheno.columns].max(axis=1),'.')\n",
    "\n",
    "\n",
    "plt.sca(ax[1]);plt.ylabel(ylabel);plt.xlabel('Chromosome')\n",
    "[plt.hlines(a,0,19*10**6,linestyle='--',alpha=0.5) for a in [mean_95,mean_99]]\n",
    "for i,c in enumerate(chrlist):\n",
    "    \n",
    "    pt = pval_df[(pval_df.Chrom==c)]\n",
    "    \n",
    "    plt.plot(pt.Pos+cumpos[i],pt[pca_pheno.columns].mean(axis=1),'.')\n",
    "plt.xticks(chrom_midpts,np.arange(1,15));\n"
   ]
  },
  {
   "cell_type": "code",
   "execution_count": null,
   "metadata": {},
   "outputs": [],
   "source": [
    "pheno_s['Ch02PC1'] = geno.T[pval_df[(pval_df.Chrom=='Chr02')]['PC1'].idxmax()]\n",
    "pheno_s['Ch14PC1'] = geno.T[pval_df[(pval_df.Chrom=='Chr14')]['PC1'].idxmax()]\n",
    "pheno_s['Ch12PC5'] = geno.T[pval_df[(pval_df.Chrom=='Chr12')]['PC5'].idxmax()]\n",
    "pheno_s['Ch02PC7'] = geno.T[pval_df[(pval_df.Chrom=='Chr02')]['PC7'].idxmax()]"
   ]
  },
  {
   "cell_type": "code",
   "execution_count": null,
   "metadata": {},
   "outputs": [],
   "source": [
    "fig,ax = plt.subplots(2,8,figsize=(14,5))\n",
    "\n",
    "for i,p in enumerate(pheno_mc.columns):\n",
    "    \n",
    "    plt.sca(ax.ravel()[i])\n",
    "    \n",
    "    sns.regplot(x='Ch02PC7',y=p,data=pheno_s,x_jitter=0.2);\n",
    "plt.subplots_adjust(hspace=0.7,wspace=0.7)"
   ]
  },
  {
   "cell_type": "code",
   "execution_count": null,
   "metadata": {},
   "outputs": [],
   "source": []
  },
  {
   "cell_type": "code",
   "execution_count": null,
   "metadata": {},
   "outputs": [],
   "source": [
    "fig,ax = plt.subplots(pca_pheno.shape[1],pca_pheno.shape[1],\n",
    "                      figsize=(10,10),sharex=True)\n",
    "\n",
    "for i, p1 in enumerate(pca_pheno.columns):\n",
    "    for j, p2 in enumerate(pca_pheno.columns):\n",
    "        plt.sca(ax[i,j])\n",
    "        if i == j:\n",
    "            plt.hist(pca_pheno[p1],alpha=0.5)\n",
    "        else:\n",
    "            plt.plot(pca_pheno[p1].values,\n",
    "                     pca_pheno[p2].values,'.',alpha=0.5)\n",
    "            plt.xlim(-5,9);plt.ylim(-5,9);\n",
    "plt.subplots_adjust(hspace=0.5,wspace=0.5)"
   ]
  },
  {
   "cell_type": "markdown",
   "metadata": {},
   "source": [
    "fig,ax = plt.subplots(pheno_s.shape[1],pheno_s.shape[1],\n",
    "                      figsize=(10,10),sharex=True)\n",
    "\n",
    "for i, p1 in enumerate(pheno_s.columns):\n",
    "    for j, p2 in enumerate(pheno_s.columns):\n",
    "        plt.sca(ax[i,j])\n",
    "        if i == j:\n",
    "            plt.hist(pheno_s[p1],alpha=0.5)\n",
    "        else:\n",
    "            plt.plot(pheno_s[p1].values,pheno_s[p2].values,'.',alpha=0.5)"
   ]
  },
  {
   "cell_type": "code",
   "execution_count": null,
   "metadata": {},
   "outputs": [],
   "source": [
    "fig,ax = plt.subplots(len(pca_pheno.columns),1,\n",
    "                          figsize=(12,12),sharex=True,sharey=True)\n",
    "for j,k in enumerate(pca_pheno.columns):\n",
    "    plt.sca(ax.ravel()[j]);\n",
    "    plt.ylabel(ylabel);\n",
    "    plt.xlabel('Chromosome' \n",
    "            if j == len(pca_pheno.columns) else None)\n",
    "    \n",
    "    plt.title('%s %s'%(k,var_explained[j]),y=.65)\n",
    "    for i,c in enumerate(chrlist):\n",
    "    \n",
    "        pt = pval_df[(pval_df.Chrom==c)]\n",
    "    \n",
    "        plt.plot(pt.Pos+cumpos[i],pt[k],'.')\n",
    "\n",
    "    plt.xticks(chrom_midpts,np.arange(1,15));"
   ]
  },
  {
   "cell_type": "code",
   "execution_count": null,
   "metadata": {},
   "outputs": [],
   "source": [
    "\n",
    "ch2qtlpc7 = pd.DataFrame([geno.T[ch2pc7max][pca_pheno.index],\n",
    "                          pca_pheno['PC7']],\n",
    "                         index=['QTL2','PC7']).T\n",
    "\n",
    "sns.lmplot(x='QTL2',y='PC7',data=ch2qtlpc7,legend=None);\n",
    "plt.xlabel('Chromosome 2 QTL')\n",
    "plt.xticks([0,1]);"
   ]
  },
  {
   "cell_type": "code",
   "execution_count": null,
   "metadata": {},
   "outputs": [],
   "source": [
    "\n",
    "\n",
    "\n",
    "\n",
    "\n",
    "ch12qtlpc5 = pd.DataFrame([geno.T[ch12pc5max][pca_pheno.index],\n",
    "                          pca_pheno['PC5']],\n",
    "                         index=['QTL12','PC5']).T\n",
    "\n",
    "sns.lmplot(x='QTL12',y='PC5',data=ch12qtlpc5,legend=None);\n",
    "#plt.legend(title='Chromosome 14 QTL');\n",
    "plt.xlabel('Chromosome 12 QTL')\n",
    "plt.xticks([0,1]);"
   ]
  },
  {
   "cell_type": "code",
   "execution_count": null,
   "metadata": {},
   "outputs": [],
   "source": [
    "\n",
    "\n",
    "ch2qtlpc1 = pd.DataFrame([geno.T[ch2pc1max][pca_pheno.index],\n",
    "                          geno.T[ch14pc1max][pca_pheno.index],\n",
    "                          pca_pheno['PC1']],\n",
    "                         index=['QTL2','QTL14','PC1']).T\n",
    "\n",
    "sns.lmplot(x='QTL2',y='PC1',data=ch2qtlpc1,hue='QTL14',legend=None);\n",
    "plt.legend(title='Chromosome 14 QTL');\n",
    "plt.xlabel('Chromosome 2 QTL')\n",
    "plt.xticks([0,1]);"
   ]
  },
  {
   "cell_type": "code",
   "execution_count": null,
   "metadata": {},
   "outputs": [],
   "source": []
  },
  {
   "cell_type": "code",
   "execution_count": null,
   "metadata": {},
   "outputs": [],
   "source": [
    "pca_pheno"
   ]
  },
  {
   "cell_type": "code",
   "execution_count": null,
   "metadata": {},
   "outputs": [],
   "source": [
    "pilot_path = './CRNE_Progeny_QTL_Phenotyping_All_20150226_Renamed.xlsx'\n",
    "pilot = pd.read_excel(pilot_path)\n",
    "pilot.columns = ['strain','ypd30','ypd37','ypd40','ypd41','ypd42',\n",
    "                    'Ldopa','Ms','Fluc','Amph','Ph']\n",
    "pilot.index= pilot.strain\n",
    "pilot.drop('strain',axis=1,inplace=True)\n",
    "pilot.head()"
   ]
  },
  {
   "cell_type": "code",
   "execution_count": null,
   "metadata": {},
   "outputs": [],
   "source": [
    "len(segs)"
   ]
  },
  {
   "cell_type": "code",
   "execution_count": null,
   "metadata": {},
   "outputs": [],
   "source": [
    "fluc_segs = [s for s in segs if s in pilot.index.tolist()];len(fluc_segs)"
   ]
  },
  {
   "cell_type": "code",
   "execution_count": null,
   "metadata": {},
   "outputs": [],
   "source": [
    "miss_fluc = [s for s in segs if s not in pilot.index.tolist()]\n",
    "miss_fluc"
   ]
  },
  {
   "cell_type": "code",
   "execution_count": null,
   "metadata": {},
   "outputs": [],
   "source": [
    "pval_df['Fluc'] = geno[fluc_segs].apply(\n",
    "                    association_logPval,axis=1,\n",
    "                    args=[pilot['Fluc'][fluc_segs].values])"
   ]
  },
  {
   "cell_type": "code",
   "execution_count": null,
   "metadata": {},
   "outputs": [],
   "source": [
    "pval_df.head()"
   ]
  },
  {
   "cell_type": "markdown",
   "metadata": {},
   "source": [
    "fluc_perms = []\n",
    "while len(fluc_perms) < 1000:\n",
    "    flucperm = geno[fluc_segs].apply(association_logPval,axis=1,\n",
    "        args=[pilot['Fluc'][np.random.permutation(fluc_segs)].values]).max()\n",
    "    fluc_perms.append(flucperm)\n",
    "fluc_permdf = pd.DataFrame(fluc_perms)\n",
    "fluc_permdf.to_csv('./Fluconazole_permutations.csv')"
   ]
  },
  {
   "cell_type": "code",
   "execution_count": null,
   "metadata": {},
   "outputs": [],
   "source": [
    "fluc_thres = pd.read_csv('./Fluconazole_permutations.csv',index_col=0)"
   ]
  },
  {
   "cell_type": "code",
   "execution_count": null,
   "metadata": {},
   "outputs": [],
   "source": [
    "fluc_95 = np.percentile(fluc_thres.values,95)\n",
    "fluc_99 = np.percentile(fluc_thres.values,99)"
   ]
  },
  {
   "cell_type": "code",
   "execution_count": null,
   "metadata": {},
   "outputs": [],
   "source": [
    "fig,ax = plt.subplots(1,1,figsize=(10,2))\n",
    "for i,c in enumerate(chrlist):\n",
    "    tp = pval_df[(pval_df.Chrom==c)]\n",
    "    plt.plot(tp.Pos.values+cumpos[i],tp.Fluc.values,'.')\n",
    "plt.hlines(fluc_99,0,19*10**6,linestyle='--',alpha=0.5);\n",
    "plt.ylabel('-log$_{10}$(p-value)',fontsize=14)\n",
    "plt.xlabel('Chromosome')\n",
    "plt.xticks(chrom_midpts,np.arange(1,15));"
   ]
  },
  {
   "cell_type": "code",
   "execution_count": null,
   "metadata": {},
   "outputs": [],
   "source": [
    "ch2_geno = geno_df[(geno_df.Chrom=='Chr02')][fluc_segs]\n",
    "ch2_geno = ch2_geno.T[[l for l in loci if l in ch2_geno.index]].T"
   ]
  },
  {
   "cell_type": "code",
   "execution_count": null,
   "metadata": {},
   "outputs": [],
   "source": [
    "ch2_geno.head()"
   ]
  },
  {
   "cell_type": "code",
   "execution_count": null,
   "metadata": {},
   "outputs": [],
   "source": [
    "fluc_boots = []\n",
    "while len(fluc_boots) < 250:\n",
    "    \n",
    "    ran_segs = np.random.choice(fluc_segs,len(fluc_segs))\n",
    "    \n",
    "    fluc_boot = ch2_geno[ran_segs].apply(association_logPval,axis=1,\n",
    "        args=[pilot['Fluc'][np.random.permutation(ran_segs)].values])\n",
    "    \n",
    "    fluc_boots.append(fluc_boot.idxmax())"
   ]
  },
  {
   "cell_type": "code",
   "execution_count": null,
   "metadata": {},
   "outputs": [],
   "source": [
    "ch2_pos = geno_df.T[fluc_boots].T[['Pos','Chrom','Block']].sort_values('Pos')"
   ]
  },
  {
   "cell_type": "code",
   "execution_count": null,
   "metadata": {},
   "outputs": [],
   "source": [
    "chr2 = pval_df[(pval_df.Chrom=='Chr02')]"
   ]
  },
  {
   "cell_type": "code",
   "execution_count": null,
   "metadata": {},
   "outputs": [],
   "source": [
    "plt.plot(chr2.Pos/1000,chr2.Fluc,'.')\n",
    "plt.vlines(np.percentile(ch2_pos.Pos,5)/1000,-1,0,color='black')\n",
    "plt.vlines(np.percentile(ch2_pos.Pos,95)/1000,-1,0,color='black')\n",
    "plt.hlines(-0.5,np.percentile(ch2_pos.Pos,5)/1000,\n",
    "           np.percentile(ch2_pos.Pos,95)/1000,color='k');\n",
    "plt.yticks(np.arange(6));\n",
    "plt.text(x=clens[1]/2000,y=-.8,s='95% CI',va='center',ha='center')\n",
    "plt.ylabel('-log$_{10}$(p-value)',fontsize=14)\n",
    "plt.xlabel('Chromosome 2 Coordinates (kb)',fontsize=14);"
   ]
  },
  {
   "cell_type": "code",
   "execution_count": null,
   "metadata": {},
   "outputs": [],
   "source": [
    "plt.plot(chr2.Pos.values/1000,chr2['PC7'].values/chr2['PC7'].max(),\n",
    "         '-.',label='PC7',alpha=0.8)\n",
    "plt.plot(chr2.Pos.values/1000,chr2['Fluc'].values/chr2['Fluc'].max(),\n",
    "         '-.',label='Fluconazole',alpha=0.8);\n",
    "plt.legend(fontsize=14)\n",
    "plt.ylabel('Normalized\\n-log$_{10}$(p-value)',fontsize=14)\n",
    "plt.xlabel('Chromosome 2 Coordinates (kb)',fontsize=14);"
   ]
  },
  {
   "cell_type": "code",
   "execution_count": null,
   "metadata": {},
   "outputs": [],
   "source": []
  }
 ],
 "metadata": {
  "kernelspec": {
   "display_name": "Python 3",
   "language": "python",
   "name": "python3"
  },
  "language_info": {
   "codemirror_mode": {
    "name": "ipython",
    "version": 3
   },
   "file_extension": ".py",
   "mimetype": "text/x-python",
   "name": "python",
   "nbconvert_exporter": "python",
   "pygments_lexer": "ipython3",
   "version": "3.8.5"
  }
 },
 "nbformat": 4,
 "nbformat_minor": 4
}
