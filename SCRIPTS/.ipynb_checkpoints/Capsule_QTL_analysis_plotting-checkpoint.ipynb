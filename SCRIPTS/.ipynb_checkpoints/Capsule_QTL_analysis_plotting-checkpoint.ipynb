{
 "cells": [
  {
   "cell_type": "code",
   "execution_count": 1,
   "metadata": {},
   "outputs": [],
   "source": [
    "import pandas as pd, numpy as np, glob\n",
    "from matplotlib import pyplot as plt\n",
    "%matplotlib inline\n",
    "import scipy.stats as ss, seaborn as sns\n",
    "## Bring in more mods\n",
    "from matplotlib.gridspec import GridSpec\n",
    "plt.style.use(['tableau-colorblind10'])\n",
    "\n",
    "def allelic_ANOVA(site, pheno):\n",
    "    \"\"\"\n",
    "    This regression is equivalent to one-way ANOVA with 2 groups. Return F-statistic.\n",
    "    Assumes site is coded as -1, 1\n",
    "    \"\"\"\n",
    "    coding = np.array(site, np.float)\n",
    "    pheno = np.array(pheno, np.float)\n",
    "    \n",
    "    meany = np.mean(pheno)\n",
    "    meandummy = np.mean(coding)\n",
    "    ctry = pheno - meany\n",
    "    ctrdummy = coding - meandummy\n",
    "    # regression coefficient and intercept\n",
    "    b = np.dot(ctry, ctrdummy)/np.dot(ctrdummy, ctrdummy)\n",
    "    intercept = meany - b * meandummy\n",
    "    \n",
    "    yhat = b * ctrdummy\n",
    "    len_yhat = np.sqrt(np.dot(yhat,yhat))\n",
    "    len_y = np.sqrt(np.dot(ctry,ctry))\n",
    "    df_yhat = 1\n",
    "    \n",
    "    error = ctry  - yhat\n",
    "    len_error = np.sqrt(np.dot(error,error))\n",
    "    if abs(len_error**2) < 1e-5:\n",
    "        raise Exception(\"Zero length error in ANOVA\")\n",
    "    df_error = len(pheno) - 2\n",
    "    # coefficient of determination is R**2\n",
    "    #R = len_yhat/len_y\n",
    "    # F-statistic\n",
    "    F = (len_yhat**2/df_yhat) / (len_error**2/df_error)\n",
    "    return F\n",
    "\n",
    "def association_logPval(site, pheno):\n",
    "    F = allelic_ANOVA(site, pheno)\n",
    "    logP = np.log10(ss.f.sf(F, 1, len(pheno)-2))\n",
    "    return -logP"
   ]
  },
  {
   "cell_type": "markdown",
   "metadata": {},
   "source": [
    "import shutil\n",
    "p = '../../FILES/Capsule_Results/ADDED/'\n",
    "new_file_paths = sorted(glob.glob(p +'*.csv')) \n",
    "print(len( new_file_paths))\n",
    "oct4 = new_file_paths[:6]\n",
    "oct11 = new_file_paths[6:]\n",
    "for f in oct4:\n",
    "    newfile = '_10-4_'.join(f.split('a-10-4-'))\n",
    "    shutil.copyfile(f,''.join(newfile.split('ADDED/')))\n",
    "for f in oct11:\n",
    "    newfile = '_10-11_'.join(f.split('-10-11-'))\n",
    "    shutil.copyfile(f,''.join(newfile.split('ADDED/')))"
   ]
  },
  {
   "cell_type": "markdown",
   "metadata": {},
   "source": [
    "import shutil\n",
    "new_file_dirs = ['../../FILES/Capsule_Results/10-18/','../../FILES/Capsule_Results/10-25/']\n",
    "new_file_paths = [sorted(glob.glob(p+'*.csv')) for p in new_file_dirs]\n",
    "[print(len(a)) for a in new_file_paths];\n",
    "for i,j in enumerate(['10-18','10-25']):\n",
    "    files = new_file_paths[i]\n",
    "    for f in files:\n",
    "        k = f.split('/')[-1]\n",
    "        temp = k.split(j)\n",
    "        newfile = '../../FILES/Capsule_Results/'+temp[0][:-1]+'_'+j+'_'+temp[-1][1:]\n",
    "        shutil.copyfile(f,newfile)"
   ]
  },
  {
   "cell_type": "code",
   "execution_count": 2,
   "metadata": {},
   "outputs": [],
   "source": [
    "## Bring in genotype data and find unique test loci\n",
    "gv = pd.read_csv('../../FILES/CDx-ill-SNP-INDEL-df-104-blocked.csv');\n",
    "loci = gv.Block.drop_duplicates().index"
   ]
  },
  {
   "cell_type": "code",
   "execution_count": 3,
   "metadata": {},
   "outputs": [],
   "source": [
    "files = glob.glob('../../FILES/Capsule_Results/*csv')"
   ]
  },
  {
   "cell_type": "code",
   "execution_count": 4,
   "metadata": {},
   "outputs": [],
   "source": [
    "file_names = [a.split('/')[-1] for a in files]"
   ]
  },
  {
   "cell_type": "code",
   "execution_count": 5,
   "metadata": {},
   "outputs": [
    {
     "data": {
      "text/plain": [
       "['SS-C029cor_11-22_19_0024_TRANS_results.csv',\n",
       " 'SS-B886_10-18_19_0005_TRANS_results.csv',\n",
       " 'SS-B564_m-d_0006_results.csv']"
      ]
     },
     "execution_count": 5,
     "metadata": {},
     "output_type": "execute_result"
    }
   ],
   "source": [
    "file_names[:3]"
   ]
  },
  {
   "cell_type": "code",
   "execution_count": 6,
   "metadata": {},
   "outputs": [
    {
     "data": {
      "text/plain": [
       "817"
      ]
     },
     "execution_count": 6,
     "metadata": {},
     "output_type": "execute_result"
    }
   ],
   "source": [
    "len(np.unique(file_names))"
   ]
  },
  {
   "cell_type": "code",
   "execution_count": 7,
   "metadata": {},
   "outputs": [],
   "source": [
    "samples = np.unique([a.split('_')[0] for a in file_names])"
   ]
  },
  {
   "cell_type": "code",
   "execution_count": 8,
   "metadata": {},
   "outputs": [
    {
     "data": {
      "text/plain": [
       "104"
      ]
     },
     "execution_count": 8,
     "metadata": {},
     "output_type": "execute_result"
    }
   ],
   "source": [
    "len(np.unique(samples))"
   ]
  },
  {
   "cell_type": "code",
   "execution_count": 9,
   "metadata": {},
   "outputs": [
    {
     "data": {
      "text/plain": [
       "104"
      ]
     },
     "execution_count": 9,
     "metadata": {},
     "output_type": "execute_result"
    }
   ],
   "source": [
    "len(samples)"
   ]
  },
  {
   "cell_type": "code",
   "execution_count": 10,
   "metadata": {},
   "outputs": [],
   "source": [
    "cor_names = []\n",
    "for s in samples:\n",
    "    if s[-3:] == 'cor':\n",
    "        k = s[:-3]+'_cor'\n",
    "    else:\n",
    "        k = s\n",
    "    cor_names.append(k)"
   ]
  },
  {
   "cell_type": "code",
   "execution_count": 11,
   "metadata": {},
   "outputs": [
    {
     "data": {
      "text/plain": [
       "104"
      ]
     },
     "execution_count": 11,
     "metadata": {},
     "output_type": "execute_result"
    }
   ],
   "source": [
    "len(np.unique(cor_names))"
   ]
  },
  {
   "cell_type": "code",
   "execution_count": 12,
   "metadata": {},
   "outputs": [],
   "source": [
    "missing = [s for s in cor_names if s not in gv.columns]\n",
    "if len(missing) > 0:\n",
    "    print(missing)"
   ]
  },
  {
   "cell_type": "code",
   "execution_count": 13,
   "metadata": {},
   "outputs": [],
   "source": [
    "seg_names = []\n",
    "for a in file_names:\n",
    "    s = a.split('_')[0]\n",
    "    if s[-3:] == 'cor':\n",
    "        k = s[:-3]+'_cor'\n",
    "    else:\n",
    "        k = s\n",
    "    seg_names.append(k)"
   ]
  },
  {
   "cell_type": "code",
   "execution_count": 14,
   "metadata": {},
   "outputs": [
    {
     "data": {
      "text/plain": [
       "104"
      ]
     },
     "execution_count": 14,
     "metadata": {},
     "output_type": "execute_result"
    }
   ],
   "source": [
    "len(np.unique(seg_names))"
   ]
  },
  {
   "cell_type": "code",
   "execution_count": 15,
   "metadata": {},
   "outputs": [
    {
     "data": {
      "text/plain": [
       "(92103, 104)"
      ]
     },
     "execution_count": 15,
     "metadata": {},
     "output_type": "execute_result"
    }
   ],
   "source": [
    "gv[np.unique(seg_names)].shape"
   ]
  },
  {
   "cell_type": "code",
   "execution_count": 16,
   "metadata": {},
   "outputs": [],
   "source": [
    "temp_dates = [''.join(a.split('_')[1:])[:5] for a in file_names ]"
   ]
  },
  {
   "cell_type": "code",
   "execution_count": 17,
   "metadata": {},
   "outputs": [],
   "source": [
    "dates = []\n",
    "for d in temp_dates:\n",
    "    if d[0] == '0':\n",
    "        dates.append('nd')\n",
    "    elif d[0] == 'm':\n",
    "        dates.append('nd')\n",
    "    else:\n",
    "        dates.append(d)"
   ]
  },
  {
   "cell_type": "code",
   "execution_count": 18,
   "metadata": {},
   "outputs": [
    {
     "data": {
      "text/plain": [
       "13"
      ]
     },
     "execution_count": 18,
     "metadata": {},
     "output_type": "execute_result"
    }
   ],
   "source": [
    "len(np.unique(dates))"
   ]
  },
  {
   "cell_type": "code",
   "execution_count": 19,
   "metadata": {},
   "outputs": [],
   "source": [
    "file_data = pd.DataFrame([seg_names,file_names,files,dates]).T\n",
    "file_data.columns = ['Sample','File','Path','Date']\n",
    "file_data['Circles'] = [pd.read_csv(f).shape[0] for f in file_data.Path]\n",
    "file_data.sort_values(['Sample','File','Path','Date'],inplace=True)\n",
    "file_data.reset_index(drop=True,inplace=True)"
   ]
  },
  {
   "cell_type": "code",
   "execution_count": 20,
   "metadata": {},
   "outputs": [
    {
     "data": {
      "text/plain": [
       "array([15, 18,  9, 12,  6,  3])"
      ]
     },
     "execution_count": 20,
     "metadata": {},
     "output_type": "execute_result"
    }
   ],
   "source": [
    "file_data.Circles.unique()"
   ]
  },
  {
   "cell_type": "code",
   "execution_count": 21,
   "metadata": {},
   "outputs": [
    {
     "data": {
      "text/plain": [
       "array([3, 6, 9])"
      ]
     },
     "execution_count": 21,
     "metadata": {},
     "output_type": "execute_result"
    }
   ],
   "source": [
    "file_data[(file_data.Sample=='SS-C029_cor')].Circles.unique()"
   ]
  },
  {
   "cell_type": "code",
   "execution_count": 22,
   "metadata": {},
   "outputs": [
    {
     "data": {
      "text/html": [
       "<div>\n",
       "<style scoped>\n",
       "    .dataframe tbody tr th:only-of-type {\n",
       "        vertical-align: middle;\n",
       "    }\n",
       "\n",
       "    .dataframe tbody tr th {\n",
       "        vertical-align: top;\n",
       "    }\n",
       "\n",
       "    .dataframe thead th {\n",
       "        text-align: right;\n",
       "    }\n",
       "</style>\n",
       "<table border=\"1\" class=\"dataframe\">\n",
       "  <thead>\n",
       "    <tr style=\"text-align: right;\">\n",
       "      <th></th>\n",
       "      <th>Sample</th>\n",
       "      <th>File</th>\n",
       "      <th>Path</th>\n",
       "      <th>Date</th>\n",
       "      <th>Circles</th>\n",
       "    </tr>\n",
       "  </thead>\n",
       "  <tbody>\n",
       "    <tr>\n",
       "      <th>786</th>\n",
       "      <td>SS-C272</td>\n",
       "      <td>SS-C272_11-22_19_0001_TRANS_results.csv</td>\n",
       "      <td>../../FILES/Capsule_Results/SS-C272_11-22_19_0...</td>\n",
       "      <td>11-22</td>\n",
       "      <td>6</td>\n",
       "    </tr>\n",
       "    <tr>\n",
       "      <th>787</th>\n",
       "      <td>SS-C272</td>\n",
       "      <td>SS-C272_11-22_19_0002_TRANS_results.csv</td>\n",
       "      <td>../../FILES/Capsule_Results/SS-C272_11-22_19_0...</td>\n",
       "      <td>11-22</td>\n",
       "      <td>3</td>\n",
       "    </tr>\n",
       "    <tr>\n",
       "      <th>788</th>\n",
       "      <td>SS-C272</td>\n",
       "      <td>SS-C272_11-22_19_0003_TRANS_results.csv</td>\n",
       "      <td>../../FILES/Capsule_Results/SS-C272_11-22_19_0...</td>\n",
       "      <td>11-22</td>\n",
       "      <td>3</td>\n",
       "    </tr>\n",
       "    <tr>\n",
       "      <th>789</th>\n",
       "      <td>SS-C272</td>\n",
       "      <td>SS-C272_11-22_19_0004_TRANS_results.csv</td>\n",
       "      <td>../../FILES/Capsule_Results/SS-C272_11-22_19_0...</td>\n",
       "      <td>11-22</td>\n",
       "      <td>3</td>\n",
       "    </tr>\n",
       "    <tr>\n",
       "      <th>790</th>\n",
       "      <td>SS-C272</td>\n",
       "      <td>SS-C272_11-22_19_0005_TRANS_results.csv</td>\n",
       "      <td>../../FILES/Capsule_Results/SS-C272_11-22_19_0...</td>\n",
       "      <td>11-22</td>\n",
       "      <td>3</td>\n",
       "    </tr>\n",
       "    <tr>\n",
       "      <th>791</th>\n",
       "      <td>SS-C272</td>\n",
       "      <td>SS-C272_11-22_19_0006_TRANS_results.csv</td>\n",
       "      <td>../../FILES/Capsule_Results/SS-C272_11-22_19_0...</td>\n",
       "      <td>11-22</td>\n",
       "      <td>3</td>\n",
       "    </tr>\n",
       "    <tr>\n",
       "      <th>792</th>\n",
       "      <td>SS-C272</td>\n",
       "      <td>SS-C272_11-22_19_0007_TRANS_results.csv</td>\n",
       "      <td>../../FILES/Capsule_Results/SS-C272_11-22_19_0...</td>\n",
       "      <td>11-22</td>\n",
       "      <td>3</td>\n",
       "    </tr>\n",
       "  </tbody>\n",
       "</table>\n",
       "</div>"
      ],
      "text/plain": [
       "      Sample                                     File  \\\n",
       "786  SS-C272  SS-C272_11-22_19_0001_TRANS_results.csv   \n",
       "787  SS-C272  SS-C272_11-22_19_0002_TRANS_results.csv   \n",
       "788  SS-C272  SS-C272_11-22_19_0003_TRANS_results.csv   \n",
       "789  SS-C272  SS-C272_11-22_19_0004_TRANS_results.csv   \n",
       "790  SS-C272  SS-C272_11-22_19_0005_TRANS_results.csv   \n",
       "791  SS-C272  SS-C272_11-22_19_0006_TRANS_results.csv   \n",
       "792  SS-C272  SS-C272_11-22_19_0007_TRANS_results.csv   \n",
       "\n",
       "                                                  Path   Date  Circles  \n",
       "786  ../../FILES/Capsule_Results/SS-C272_11-22_19_0...  11-22        6  \n",
       "787  ../../FILES/Capsule_Results/SS-C272_11-22_19_0...  11-22        3  \n",
       "788  ../../FILES/Capsule_Results/SS-C272_11-22_19_0...  11-22        3  \n",
       "789  ../../FILES/Capsule_Results/SS-C272_11-22_19_0...  11-22        3  \n",
       "790  ../../FILES/Capsule_Results/SS-C272_11-22_19_0...  11-22        3  \n",
       "791  ../../FILES/Capsule_Results/SS-C272_11-22_19_0...  11-22        3  \n",
       "792  ../../FILES/Capsule_Results/SS-C272_11-22_19_0...  11-22        3  "
      ]
     },
     "execution_count": 22,
     "metadata": {},
     "output_type": "execute_result"
    }
   ],
   "source": [
    "file_data[(file_data.Sample=='SS-C272')]"
   ]
  },
  {
   "cell_type": "code",
   "execution_count": 23,
   "metadata": {},
   "outputs": [
    {
     "data": {
      "text/plain": [
       "(817, 5)"
      ]
     },
     "execution_count": 23,
     "metadata": {},
     "output_type": "execute_result"
    }
   ],
   "source": [
    "file_data.shape"
   ]
  },
  {
   "cell_type": "code",
   "execution_count": 24,
   "metadata": {},
   "outputs": [],
   "source": [
    "import os"
   ]
  },
  {
   "cell_type": "code",
   "execution_count": 25,
   "metadata": {},
   "outputs": [],
   "source": [
    "cell_reps = []\n",
    "for i,j in file_data[(file_data.Circles>=15)].iterrows():\n",
    "    temp = pd.read_csv(j['Path'],index_col=None)\n",
    "    if temp.shape[0] < 15:\n",
    "        continue\n",
    "    Capsule = np.array(temp.T[np.arange(5,10,1)].T['Area'].values,dtype=float)\n",
    "    Cell = np.array(temp.T[np.arange(10,15,1)].T['Area'].values,dtype=float)\n",
    "    Annulus = Capsule - Cell\n",
    "    Capsulediameter = 2*np.sqrt(Capsule/np.pi)\n",
    "    Celldiameter = 2*np.sqrt(Cell/np.pi)\n",
    "    Annulusdiameter = Capsulediameter-Celldiameter\n",
    "    \n",
    "    cell_rep = pd.DataFrame([Capsule,Cell,Annulus,\n",
    "                             Capsulediameter,Celldiameter,\n",
    "                             Annulusdiameter]).T\n",
    "    cell_rep['Sample'] = j['Sample']\n",
    "    cell_rep['File'] = j['File']\n",
    "    cell_reps.append(cell_rep)"
   ]
  },
  {
   "cell_type": "code",
   "execution_count": 26,
   "metadata": {},
   "outputs": [
    {
     "data": {
      "text/plain": [
       "765"
      ]
     },
     "execution_count": 26,
     "metadata": {},
     "output_type": "execute_result"
    }
   ],
   "source": [
    "len(cell_reps)"
   ]
  },
  {
   "cell_type": "code",
   "execution_count": 27,
   "metadata": {},
   "outputs": [
    {
     "data": {
      "text/plain": [
       "list"
      ]
     },
     "execution_count": 27,
     "metadata": {},
     "output_type": "execute_result"
    }
   ],
   "source": [
    "type(cell_reps)"
   ]
  },
  {
   "cell_type": "code",
   "execution_count": 28,
   "metadata": {},
   "outputs": [
    {
     "data": {
      "text/html": [
       "<div>\n",
       "<style scoped>\n",
       "    .dataframe tbody tr th:only-of-type {\n",
       "        vertical-align: middle;\n",
       "    }\n",
       "\n",
       "    .dataframe tbody tr th {\n",
       "        vertical-align: top;\n",
       "    }\n",
       "\n",
       "    .dataframe thead th {\n",
       "        text-align: right;\n",
       "    }\n",
       "</style>\n",
       "<table border=\"1\" class=\"dataframe\">\n",
       "  <thead>\n",
       "    <tr style=\"text-align: right;\">\n",
       "      <th></th>\n",
       "      <th>Sample</th>\n",
       "      <th>File</th>\n",
       "      <th>Path</th>\n",
       "      <th>Date</th>\n",
       "      <th>Circles</th>\n",
       "    </tr>\n",
       "  </thead>\n",
       "  <tbody>\n",
       "    <tr>\n",
       "      <th>786</th>\n",
       "      <td>SS-C272</td>\n",
       "      <td>SS-C272_11-22_19_0001_TRANS_results.csv</td>\n",
       "      <td>../../FILES/Capsule_Results/SS-C272_11-22_19_0...</td>\n",
       "      <td>11-22</td>\n",
       "      <td>6</td>\n",
       "    </tr>\n",
       "    <tr>\n",
       "      <th>787</th>\n",
       "      <td>SS-C272</td>\n",
       "      <td>SS-C272_11-22_19_0002_TRANS_results.csv</td>\n",
       "      <td>../../FILES/Capsule_Results/SS-C272_11-22_19_0...</td>\n",
       "      <td>11-22</td>\n",
       "      <td>3</td>\n",
       "    </tr>\n",
       "    <tr>\n",
       "      <th>788</th>\n",
       "      <td>SS-C272</td>\n",
       "      <td>SS-C272_11-22_19_0003_TRANS_results.csv</td>\n",
       "      <td>../../FILES/Capsule_Results/SS-C272_11-22_19_0...</td>\n",
       "      <td>11-22</td>\n",
       "      <td>3</td>\n",
       "    </tr>\n",
       "    <tr>\n",
       "      <th>789</th>\n",
       "      <td>SS-C272</td>\n",
       "      <td>SS-C272_11-22_19_0004_TRANS_results.csv</td>\n",
       "      <td>../../FILES/Capsule_Results/SS-C272_11-22_19_0...</td>\n",
       "      <td>11-22</td>\n",
       "      <td>3</td>\n",
       "    </tr>\n",
       "    <tr>\n",
       "      <th>790</th>\n",
       "      <td>SS-C272</td>\n",
       "      <td>SS-C272_11-22_19_0005_TRANS_results.csv</td>\n",
       "      <td>../../FILES/Capsule_Results/SS-C272_11-22_19_0...</td>\n",
       "      <td>11-22</td>\n",
       "      <td>3</td>\n",
       "    </tr>\n",
       "    <tr>\n",
       "      <th>791</th>\n",
       "      <td>SS-C272</td>\n",
       "      <td>SS-C272_11-22_19_0006_TRANS_results.csv</td>\n",
       "      <td>../../FILES/Capsule_Results/SS-C272_11-22_19_0...</td>\n",
       "      <td>11-22</td>\n",
       "      <td>3</td>\n",
       "    </tr>\n",
       "    <tr>\n",
       "      <th>792</th>\n",
       "      <td>SS-C272</td>\n",
       "      <td>SS-C272_11-22_19_0007_TRANS_results.csv</td>\n",
       "      <td>../../FILES/Capsule_Results/SS-C272_11-22_19_0...</td>\n",
       "      <td>11-22</td>\n",
       "      <td>3</td>\n",
       "    </tr>\n",
       "  </tbody>\n",
       "</table>\n",
       "</div>"
      ],
      "text/plain": [
       "      Sample                                     File  \\\n",
       "786  SS-C272  SS-C272_11-22_19_0001_TRANS_results.csv   \n",
       "787  SS-C272  SS-C272_11-22_19_0002_TRANS_results.csv   \n",
       "788  SS-C272  SS-C272_11-22_19_0003_TRANS_results.csv   \n",
       "789  SS-C272  SS-C272_11-22_19_0004_TRANS_results.csv   \n",
       "790  SS-C272  SS-C272_11-22_19_0005_TRANS_results.csv   \n",
       "791  SS-C272  SS-C272_11-22_19_0006_TRANS_results.csv   \n",
       "792  SS-C272  SS-C272_11-22_19_0007_TRANS_results.csv   \n",
       "\n",
       "                                                  Path   Date  Circles  \n",
       "786  ../../FILES/Capsule_Results/SS-C272_11-22_19_0...  11-22        6  \n",
       "787  ../../FILES/Capsule_Results/SS-C272_11-22_19_0...  11-22        3  \n",
       "788  ../../FILES/Capsule_Results/SS-C272_11-22_19_0...  11-22        3  \n",
       "789  ../../FILES/Capsule_Results/SS-C272_11-22_19_0...  11-22        3  \n",
       "790  ../../FILES/Capsule_Results/SS-C272_11-22_19_0...  11-22        3  \n",
       "791  ../../FILES/Capsule_Results/SS-C272_11-22_19_0...  11-22        3  \n",
       "792  ../../FILES/Capsule_Results/SS-C272_11-22_19_0...  11-22        3  "
      ]
     },
     "execution_count": 28,
     "metadata": {},
     "output_type": "execute_result"
    }
   ],
   "source": [
    "file_data[(file_data.Sample=='SS-C272')]"
   ]
  },
  {
   "cell_type": "code",
   "execution_count": 29,
   "metadata": {},
   "outputs": [],
   "source": [
    "cell_C272s = []\n",
    "for i,j in file_data[(file_data.Sample.isin(['SS-C272','SS-C029_cor']))].iterrows():\n",
    "    temp = pd.read_csv(j['Path'],index_col=None)\n",
    "    \n",
    "    if j.Circles == 3:\n",
    "        Capsule = float(temp['Area'].values[1])\n",
    "        Cell = float(temp['Area'].values[2])\n",
    "    elif j.Circles == 6:\n",
    "        Capsule = np.array(temp['Area'].values[2:4],dtype=float)\n",
    "        Cell = np.array(temp['Area'].values[4:6],dtype=float)\n",
    "    elif j.Circles == 9:\n",
    "        Capsule = np.array(temp['Area'].values[3:6],dtype=float)\n",
    "        Cell = np.array(temp['Area'].values[6:9],dtype=float)\n",
    "    else:\n",
    "        print('Error!')\n",
    "    \n",
    "    Annulus = Capsule - Cell\n",
    "    Capsulediameter = 2*np.sqrt(Capsule/np.pi)\n",
    "    Celldiameter = 2*np.sqrt(Cell/np.pi)\n",
    "    Annulusdiameter = Capsulediameter-Celldiameter\n",
    "    \n",
    "    cell_C272 = pd.DataFrame([Capsule,Cell,Annulus,\n",
    "                             Capsulediameter,Celldiameter,\n",
    "                             Annulusdiameter]).T\n",
    "    cell_C272['Sample'] = j['Sample']\n",
    "    cell_C272['File'] = j['File']\n",
    "    cell_C272s.append(cell_C272)"
   ]
  },
  {
   "cell_type": "code",
   "execution_count": 30,
   "metadata": {},
   "outputs": [
    {
     "data": {
      "text/plain": [
       "39"
      ]
     },
     "execution_count": 30,
     "metadata": {},
     "output_type": "execute_result"
    }
   ],
   "source": [
    "len(cell_C272s)"
   ]
  },
  {
   "cell_type": "code",
   "execution_count": 31,
   "metadata": {},
   "outputs": [],
   "source": [
    "[cell_reps.append(c) for c in cell_C272s];"
   ]
  },
  {
   "cell_type": "code",
   "execution_count": 32,
   "metadata": {},
   "outputs": [],
   "source": [
    "cell_data = pd.concat(cell_reps)\n",
    "cell_data.columns = ['Cell_and_Capsule','Cell','Capsule',\n",
    "                     'Cell_and_Capsule_diameter','Cell_diameter','Capsule_diameter',\n",
    "                     'Sample','File']"
   ]
  },
  {
   "cell_type": "code",
   "execution_count": 33,
   "metadata": {},
   "outputs": [
    {
     "data": {
      "text/plain": [
       "(104,)"
      ]
     },
     "execution_count": 33,
     "metadata": {},
     "output_type": "execute_result"
    }
   ],
   "source": [
    "cell_data.Sample.unique().shape"
   ]
  },
  {
   "cell_type": "code",
   "execution_count": 34,
   "metadata": {},
   "outputs": [],
   "source": [
    "data = cell_data.merge(file_data)"
   ]
  },
  {
   "cell_type": "code",
   "execution_count": 35,
   "metadata": {},
   "outputs": [
    {
     "data": {
      "text/plain": [
       "(3880, 11)"
      ]
     },
     "execution_count": 35,
     "metadata": {},
     "output_type": "execute_result"
    }
   ],
   "source": [
    "data.shape"
   ]
  },
  {
   "cell_type": "code",
   "execution_count": 36,
   "metadata": {},
   "outputs": [
    {
     "data": {
      "text/plain": [
       "(8, 11)"
      ]
     },
     "execution_count": 36,
     "metadata": {},
     "output_type": "execute_result"
    }
   ],
   "source": [
    "data[(data.Sample=='SS-C272')].shape"
   ]
  },
  {
   "cell_type": "code",
   "execution_count": 37,
   "metadata": {},
   "outputs": [
    {
     "data": {
      "text/plain": [
       "(47, 11)"
      ]
     },
     "execution_count": 37,
     "metadata": {},
     "output_type": "execute_result"
    }
   ],
   "source": [
    "data[(data.Sample=='SS-C029_cor')].shape"
   ]
  },
  {
   "cell_type": "code",
   "execution_count": 38,
   "metadata": {},
   "outputs": [
    {
     "data": {
      "text/html": [
       "<div>\n",
       "<style scoped>\n",
       "    .dataframe tbody tr th:only-of-type {\n",
       "        vertical-align: middle;\n",
       "    }\n",
       "\n",
       "    .dataframe tbody tr th {\n",
       "        vertical-align: top;\n",
       "    }\n",
       "\n",
       "    .dataframe thead th {\n",
       "        text-align: right;\n",
       "    }\n",
       "</style>\n",
       "<table border=\"1\" class=\"dataframe\">\n",
       "  <thead>\n",
       "    <tr style=\"text-align: right;\">\n",
       "      <th></th>\n",
       "      <th>Cell_and_Capsule</th>\n",
       "      <th>Cell</th>\n",
       "      <th>Capsule</th>\n",
       "      <th>Cell_and_Capsule_diameter</th>\n",
       "      <th>Cell_diameter</th>\n",
       "      <th>Capsule_diameter</th>\n",
       "      <th>Sample</th>\n",
       "      <th>File</th>\n",
       "      <th>Path</th>\n",
       "      <th>Date</th>\n",
       "      <th>Circles</th>\n",
       "    </tr>\n",
       "  </thead>\n",
       "  <tbody>\n",
       "    <tr>\n",
       "      <th>0</th>\n",
       "      <td>3015.0</td>\n",
       "      <td>1052.0</td>\n",
       "      <td>1963.0</td>\n",
       "      <td>61.958189</td>\n",
       "      <td>36.598470</td>\n",
       "      <td>25.359719</td>\n",
       "      <td>SS-A837</td>\n",
       "      <td>SS-A837_7-12_0001_TRANS_results.csv</td>\n",
       "      <td>../../FILES/Capsule_Results/SS-A837_7-12_0001_...</td>\n",
       "      <td>7-120</td>\n",
       "      <td>15</td>\n",
       "    </tr>\n",
       "    <tr>\n",
       "      <th>1</th>\n",
       "      <td>4128.0</td>\n",
       "      <td>1422.0</td>\n",
       "      <td>2706.0</td>\n",
       "      <td>72.497813</td>\n",
       "      <td>42.550519</td>\n",
       "      <td>29.947294</td>\n",
       "      <td>SS-A837</td>\n",
       "      <td>SS-A837_7-12_0001_TRANS_results.csv</td>\n",
       "      <td>../../FILES/Capsule_Results/SS-A837_7-12_0001_...</td>\n",
       "      <td>7-120</td>\n",
       "      <td>15</td>\n",
       "    </tr>\n",
       "    <tr>\n",
       "      <th>2</th>\n",
       "      <td>3024.0</td>\n",
       "      <td>1292.0</td>\n",
       "      <td>1732.0</td>\n",
       "      <td>62.050595</td>\n",
       "      <td>40.558914</td>\n",
       "      <td>21.491682</td>\n",
       "      <td>SS-A837</td>\n",
       "      <td>SS-A837_7-12_0001_TRANS_results.csv</td>\n",
       "      <td>../../FILES/Capsule_Results/SS-A837_7-12_0001_...</td>\n",
       "      <td>7-120</td>\n",
       "      <td>15</td>\n",
       "    </tr>\n",
       "    <tr>\n",
       "      <th>3</th>\n",
       "      <td>6512.0</td>\n",
       "      <td>1976.0</td>\n",
       "      <td>4536.0</td>\n",
       "      <td>91.056773</td>\n",
       "      <td>50.158961</td>\n",
       "      <td>40.897812</td>\n",
       "      <td>SS-A837</td>\n",
       "      <td>SS-A837_7-12_0001_TRANS_results.csv</td>\n",
       "      <td>../../FILES/Capsule_Results/SS-A837_7-12_0001_...</td>\n",
       "      <td>7-120</td>\n",
       "      <td>15</td>\n",
       "    </tr>\n",
       "    <tr>\n",
       "      <th>4</th>\n",
       "      <td>2686.0</td>\n",
       "      <td>1085.0</td>\n",
       "      <td>1601.0</td>\n",
       "      <td>58.480094</td>\n",
       "      <td>37.168063</td>\n",
       "      <td>21.312031</td>\n",
       "      <td>SS-A837</td>\n",
       "      <td>SS-A837_7-12_0001_TRANS_results.csv</td>\n",
       "      <td>../../FILES/Capsule_Results/SS-A837_7-12_0001_...</td>\n",
       "      <td>7-120</td>\n",
       "      <td>15</td>\n",
       "    </tr>\n",
       "  </tbody>\n",
       "</table>\n",
       "</div>"
      ],
      "text/plain": [
       "   Cell_and_Capsule    Cell  Capsule  Cell_and_Capsule_diameter  \\\n",
       "0            3015.0  1052.0   1963.0                  61.958189   \n",
       "1            4128.0  1422.0   2706.0                  72.497813   \n",
       "2            3024.0  1292.0   1732.0                  62.050595   \n",
       "3            6512.0  1976.0   4536.0                  91.056773   \n",
       "4            2686.0  1085.0   1601.0                  58.480094   \n",
       "\n",
       "   Cell_diameter  Capsule_diameter   Sample  \\\n",
       "0      36.598470         25.359719  SS-A837   \n",
       "1      42.550519         29.947294  SS-A837   \n",
       "2      40.558914         21.491682  SS-A837   \n",
       "3      50.158961         40.897812  SS-A837   \n",
       "4      37.168063         21.312031  SS-A837   \n",
       "\n",
       "                                  File  \\\n",
       "0  SS-A837_7-12_0001_TRANS_results.csv   \n",
       "1  SS-A837_7-12_0001_TRANS_results.csv   \n",
       "2  SS-A837_7-12_0001_TRANS_results.csv   \n",
       "3  SS-A837_7-12_0001_TRANS_results.csv   \n",
       "4  SS-A837_7-12_0001_TRANS_results.csv   \n",
       "\n",
       "                                                Path   Date  Circles  \n",
       "0  ../../FILES/Capsule_Results/SS-A837_7-12_0001_...  7-120       15  \n",
       "1  ../../FILES/Capsule_Results/SS-A837_7-12_0001_...  7-120       15  \n",
       "2  ../../FILES/Capsule_Results/SS-A837_7-12_0001_...  7-120       15  \n",
       "3  ../../FILES/Capsule_Results/SS-A837_7-12_0001_...  7-120       15  \n",
       "4  ../../FILES/Capsule_Results/SS-A837_7-12_0001_...  7-120       15  "
      ]
     },
     "execution_count": 38,
     "metadata": {},
     "output_type": "execute_result"
    }
   ],
   "source": [
    "data.head()"
   ]
  },
  {
   "cell_type": "code",
   "execution_count": 45,
   "metadata": {},
   "outputs": [
    {
     "data": {
      "text/plain": [
       "(array([ 4.,  0., 76.,  0.,  1.,  1., 16.,  1.,  1.,  4.]),\n",
       " array([ 8. , 16.2, 24.4, 32.6, 40.8, 49. , 57.2, 65.4, 73.6, 81.8, 90. ]),\n",
       " <a list of 10 Patch objects>)"
      ]
     },
     "execution_count": 45,
     "metadata": {},
     "output_type": "execute_result"
    },
    {
     "data": {
      "image/png": "[encoded data removed]",
      "text/plain": [
       "<Figure size 432x288 with 1 Axes>"
      ]
     },
     "metadata": {
      "needs_background": "light"
     },
     "output_type": "display_data"
    }
   ],
   "source": [
    "plt.hist([data[(data.Sample==s)].shape[0] for s in data.Sample.unique()])"
   ]
  },
  {
   "cell_type": "code",
   "execution_count": 39,
   "metadata": {},
   "outputs": [
    {
     "data": {
      "text/plain": [
       "[]"
      ]
     },
     "execution_count": 39,
     "metadata": {},
     "output_type": "execute_result"
    }
   ],
   "source": [
    "[s for s in np.unique(seg_names) if s not in data.Sample.values]"
   ]
  },
  {
   "cell_type": "code",
   "execution_count": 40,
   "metadata": {},
   "outputs": [],
   "source": [
    "dg = data.groupby(['File','Sample','Date']).agg('median').reset_index()"
   ]
  },
  {
   "cell_type": "code",
   "execution_count": 41,
   "metadata": {},
   "outputs": [
    {
     "data": {
      "text/plain": [
       "(804, 10)"
      ]
     },
     "execution_count": 41,
     "metadata": {},
     "output_type": "execute_result"
    }
   ],
   "source": [
    "dg.shape"
   ]
  },
  {
   "cell_type": "code",
   "execution_count": 42,
   "metadata": {},
   "outputs": [],
   "source": [
    "dgg = dg.groupby(['Sample','Date']).agg('median').reset_index()"
   ]
  },
  {
   "cell_type": "code",
   "execution_count": 43,
   "metadata": {},
   "outputs": [
    {
     "data": {
      "text/plain": [
       "(123, 9)"
      ]
     },
     "execution_count": 43,
     "metadata": {},
     "output_type": "execute_result"
    }
   ],
   "source": [
    "dgg.shape"
   ]
  },
  {
   "cell_type": "code",
   "execution_count": 44,
   "metadata": {},
   "outputs": [
    {
     "data": {
      "text/html": [
       "<div>\n",
       "<style scoped>\n",
       "    .dataframe tbody tr th:only-of-type {\n",
       "        vertical-align: middle;\n",
       "    }\n",
       "\n",
       "    .dataframe tbody tr th {\n",
       "        vertical-align: top;\n",
       "    }\n",
       "\n",
       "    .dataframe thead th {\n",
       "        text-align: right;\n",
       "    }\n",
       "</style>\n",
       "<table border=\"1\" class=\"dataframe\">\n",
       "  <thead>\n",
       "    <tr style=\"text-align: right;\">\n",
       "      <th></th>\n",
       "      <th>Sample</th>\n",
       "      <th>Date</th>\n",
       "      <th>Cell_and_Capsule</th>\n",
       "      <th>Cell</th>\n",
       "      <th>Capsule</th>\n",
       "      <th>Cell_and_Capsule_diameter</th>\n",
       "      <th>Cell_diameter</th>\n",
       "      <th>Capsule_diameter</th>\n",
       "      <th>Circles</th>\n",
       "    </tr>\n",
       "  </thead>\n",
       "  <tbody>\n",
       "    <tr>\n",
       "      <th>118</th>\n",
       "      <td>SS-C272</td>\n",
       "      <td>11-22</td>\n",
       "      <td>3125.0</td>\n",
       "      <td>988.0</td>\n",
       "      <td>2137.0</td>\n",
       "      <td>63.078313</td>\n",
       "      <td>35.467741</td>\n",
       "      <td>27.610572</td>\n",
       "      <td>3</td>\n",
       "    </tr>\n",
       "  </tbody>\n",
       "</table>\n",
       "</div>"
      ],
      "text/plain": [
       "      Sample   Date  Cell_and_Capsule   Cell  Capsule  \\\n",
       "118  SS-C272  11-22            3125.0  988.0   2137.0   \n",
       "\n",
       "     Cell_and_Capsule_diameter  Cell_diameter  Capsule_diameter  Circles  \n",
       "118                  63.078313      35.467741         27.610572        3  "
      ]
     },
     "execution_count": 44,
     "metadata": {},
     "output_type": "execute_result"
    }
   ],
   "source": [
    "dgg[(dgg.Sample=='SS-C272')]"
   ]
  },
  {
   "cell_type": "code",
   "execution_count": 45,
   "metadata": {},
   "outputs": [],
   "source": [
    "sample_date_counts = dgg.groupby('Sample').count()[['Date']]\n",
    "dup_samp = sample_date_counts[(sample_date_counts.Date>1)].index.tolist()"
   ]
  },
  {
   "cell_type": "code",
   "execution_count": 46,
   "metadata": {},
   "outputs": [
    {
     "data": {
      "text/plain": [
       "19"
      ]
     },
     "execution_count": 46,
     "metadata": {},
     "output_type": "execute_result"
    }
   ],
   "source": [
    "len(dup_samp)"
   ]
  },
  {
   "cell_type": "code",
   "execution_count": 47,
   "metadata": {},
   "outputs": [],
   "source": [
    "duplicated_data = dgg[(dgg.Sample.isin(dup_samp))].copy()"
   ]
  },
  {
   "cell_type": "code",
   "execution_count": 48,
   "metadata": {},
   "outputs": [
    {
     "data": {
      "text/html": [
       "<div>\n",
       "<style scoped>\n",
       "    .dataframe tbody tr th:only-of-type {\n",
       "        vertical-align: middle;\n",
       "    }\n",
       "\n",
       "    .dataframe tbody tr th {\n",
       "        vertical-align: top;\n",
       "    }\n",
       "\n",
       "    .dataframe thead th {\n",
       "        text-align: right;\n",
       "    }\n",
       "</style>\n",
       "<table border=\"1\" class=\"dataframe\">\n",
       "  <thead>\n",
       "    <tr style=\"text-align: right;\">\n",
       "      <th></th>\n",
       "      <th>Sample</th>\n",
       "      <th>Date</th>\n",
       "      <th>Cell_and_Capsule</th>\n",
       "      <th>Cell</th>\n",
       "      <th>Capsule</th>\n",
       "      <th>Cell_and_Capsule_diameter</th>\n",
       "      <th>Cell_diameter</th>\n",
       "      <th>Capsule_diameter</th>\n",
       "      <th>Circles</th>\n",
       "    </tr>\n",
       "  </thead>\n",
       "  <tbody>\n",
       "    <tr>\n",
       "      <th>11</th>\n",
       "      <td>SS-B354</td>\n",
       "      <td>10-18</td>\n",
       "      <td>3292.0</td>\n",
       "      <td>1372.5</td>\n",
       "      <td>1978.5</td>\n",
       "      <td>64.741400</td>\n",
       "      <td>41.802415</td>\n",
       "      <td>23.535668</td>\n",
       "      <td>15</td>\n",
       "    </tr>\n",
       "    <tr>\n",
       "      <th>12</th>\n",
       "      <td>SS-B354</td>\n",
       "      <td>7-120</td>\n",
       "      <td>3097.5</td>\n",
       "      <td>1123.5</td>\n",
       "      <td>1902.5</td>\n",
       "      <td>62.799536</td>\n",
       "      <td>37.816194</td>\n",
       "      <td>24.071503</td>\n",
       "      <td>15</td>\n",
       "    </tr>\n",
       "    <tr>\n",
       "      <th>13</th>\n",
       "      <td>SS-B356</td>\n",
       "      <td>10-25</td>\n",
       "      <td>1701.0</td>\n",
       "      <td>871.5</td>\n",
       "      <td>806.0</td>\n",
       "      <td>46.526630</td>\n",
       "      <td>33.302524</td>\n",
       "      <td>12.768762</td>\n",
       "      <td>15</td>\n",
       "    </tr>\n",
       "    <tr>\n",
       "      <th>14</th>\n",
       "      <td>SS-B356</td>\n",
       "      <td>7-120</td>\n",
       "      <td>2556.0</td>\n",
       "      <td>796.0</td>\n",
       "      <td>1656.0</td>\n",
       "      <td>57.038895</td>\n",
       "      <td>31.833886</td>\n",
       "      <td>23.732053</td>\n",
       "      <td>15</td>\n",
       "    </tr>\n",
       "    <tr>\n",
       "      <th>24</th>\n",
       "      <td>SS-B378</td>\n",
       "      <td>10-25</td>\n",
       "      <td>1591.0</td>\n",
       "      <td>804.5</td>\n",
       "      <td>723.0</td>\n",
       "      <td>45.005322</td>\n",
       "      <td>31.985950</td>\n",
       "      <td>12.059095</td>\n",
       "      <td>15</td>\n",
       "    </tr>\n",
       "  </tbody>\n",
       "</table>\n",
       "</div>"
      ],
      "text/plain": [
       "     Sample   Date  Cell_and_Capsule    Cell  Capsule  \\\n",
       "11  SS-B354  10-18            3292.0  1372.5   1978.5   \n",
       "12  SS-B354  7-120            3097.5  1123.5   1902.5   \n",
       "13  SS-B356  10-25            1701.0   871.5    806.0   \n",
       "14  SS-B356  7-120            2556.0   796.0   1656.0   \n",
       "24  SS-B378  10-25            1591.0   804.5    723.0   \n",
       "\n",
       "    Cell_and_Capsule_diameter  Cell_diameter  Capsule_diameter  Circles  \n",
       "11                  64.741400      41.802415         23.535668       15  \n",
       "12                  62.799536      37.816194         24.071503       15  \n",
       "13                  46.526630      33.302524         12.768762       15  \n",
       "14                  57.038895      31.833886         23.732053       15  \n",
       "24                  45.005322      31.985950         12.059095       15  "
      ]
     },
     "execution_count": 48,
     "metadata": {},
     "output_type": "execute_result"
    }
   ],
   "source": [
    "duplicated_data.head()"
   ]
  },
  {
   "cell_type": "code",
   "execution_count": 49,
   "metadata": {},
   "outputs": [
    {
     "data": {
      "text/plain": [
       "19"
      ]
     },
     "execution_count": 49,
     "metadata": {},
     "output_type": "execute_result"
    }
   ],
   "source": [
    "duplicated_data.Sample.unique().shape[0]"
   ]
  },
  {
   "cell_type": "code",
   "execution_count": 50,
   "metadata": {},
   "outputs": [],
   "source": [
    "dropmetoo = list([duplicated_data[(duplicated_data.Sample=='SS-B575') & \n",
    "                            (duplicated_data.Date!='10-11')].index[0], \n",
    "                  duplicated_data[(duplicated_data.Sample=='SS-B564') & \n",
    "                (duplicated_data.Date=='nd')].index[0]])"
   ]
  },
  {
   "cell_type": "code",
   "execution_count": 51,
   "metadata": {},
   "outputs": [
    {
     "data": {
      "text/plain": [
       "[47, 41]"
      ]
     },
     "execution_count": 51,
     "metadata": {},
     "output_type": "execute_result"
    }
   ],
   "source": [
    "dropmetoo"
   ]
  },
  {
   "cell_type": "code",
   "execution_count": 52,
   "metadata": {},
   "outputs": [
    {
     "data": {
      "text/plain": [
       "17"
      ]
     },
     "execution_count": 52,
     "metadata": {},
     "output_type": "execute_result"
    }
   ],
   "source": [
    "duplicated_data[(duplicated_data.Date.isin(['10-18','10-25']))].Sample.unique().shape[0]"
   ]
  },
  {
   "cell_type": "code",
   "execution_count": 53,
   "metadata": {},
   "outputs": [],
   "source": [
    "dup_to_drop = duplicated_data[(duplicated_data.Date.isin(['10-18','10-25']))].index.tolist() + dropmetoo"
   ]
  },
  {
   "cell_type": "code",
   "execution_count": 54,
   "metadata": {},
   "outputs": [
    {
     "data": {
      "text/plain": [
       "[11, 13, 24, 27, 31, 34, 60, 62, 70, 73, 76, 85, 91, 93, 98, 101, 116, 47, 41]"
      ]
     },
     "execution_count": 54,
     "metadata": {},
     "output_type": "execute_result"
    }
   ],
   "source": [
    "dup_to_drop"
   ]
  },
  {
   "cell_type": "code",
   "execution_count": 55,
   "metadata": {},
   "outputs": [],
   "source": [
    "dgg.drop(dup_to_drop,inplace=True)"
   ]
  },
  {
   "cell_type": "code",
   "execution_count": 56,
   "metadata": {},
   "outputs": [
    {
     "data": {
      "text/plain": [
       "(104, 9)"
      ]
     },
     "execution_count": 56,
     "metadata": {},
     "output_type": "execute_result"
    }
   ],
   "source": [
    "dgg.shape"
   ]
  },
  {
   "cell_type": "code",
   "execution_count": 177,
   "metadata": {},
   "outputs": [
    {
     "data": {
      "text/plain": [
       "(104, 11)"
      ]
     },
     "execution_count": 177,
     "metadata": {},
     "output_type": "execute_result"
    }
   ],
   "source": [
    "dgg.shape"
   ]
  },
  {
   "cell_type": "code",
   "execution_count": 179,
   "metadata": {},
   "outputs": [],
   "source": [
    "#dgg.to_csv('../../FILECS/Cdeneoformans_capsule_phenotypes.csv',index=True);"
   ]
  },
  {
   "cell_type": "code",
   "execution_count": 57,
   "metadata": {},
   "outputs": [],
   "source": [
    "import statsmodels.formula.api as smf"
   ]
  },
  {
   "cell_type": "code",
   "execution_count": 180,
   "metadata": {},
   "outputs": [
    {
     "data": {
      "text/html": [
       "<div>\n",
       "<style scoped>\n",
       "    .dataframe tbody tr th:only-of-type {\n",
       "        vertical-align: middle;\n",
       "    }\n",
       "\n",
       "    .dataframe tbody tr th {\n",
       "        vertical-align: top;\n",
       "    }\n",
       "\n",
       "    .dataframe thead th {\n",
       "        text-align: right;\n",
       "    }\n",
       "</style>\n",
       "<table border=\"1\" class=\"dataframe\">\n",
       "  <thead>\n",
       "    <tr style=\"text-align: right;\">\n",
       "      <th></th>\n",
       "      <th>Sample</th>\n",
       "      <th>Date</th>\n",
       "      <th>Cell_and_Capsule</th>\n",
       "      <th>Cell</th>\n",
       "      <th>Capsule</th>\n",
       "      <th>Cell_and_Capsule_diameter</th>\n",
       "      <th>Cell_diameter</th>\n",
       "      <th>Capsule_diameter</th>\n",
       "      <th>Circles</th>\n",
       "      <th>Residual</th>\n",
       "      <th>QTL</th>\n",
       "    </tr>\n",
       "    <tr>\n",
       "      <th>Sample</th>\n",
       "      <th></th>\n",
       "      <th></th>\n",
       "      <th></th>\n",
       "      <th></th>\n",
       "      <th></th>\n",
       "      <th></th>\n",
       "      <th></th>\n",
       "      <th></th>\n",
       "      <th></th>\n",
       "      <th></th>\n",
       "      <th></th>\n",
       "    </tr>\n",
       "  </thead>\n",
       "  <tbody>\n",
       "    <tr>\n",
       "      <th>SS-A837</th>\n",
       "      <td>SS-A837</td>\n",
       "      <td>7-120</td>\n",
       "      <td>2954.0</td>\n",
       "      <td>1093.0</td>\n",
       "      <td>1935.5</td>\n",
       "      <td>61.323907</td>\n",
       "      <td>37.304177</td>\n",
       "      <td>25.117309</td>\n",
       "      <td>15</td>\n",
       "      <td>2.144624</td>\n",
       "      <td>1</td>\n",
       "    </tr>\n",
       "    <tr>\n",
       "      <th>SS-B307</th>\n",
       "      <td>SS-B307</td>\n",
       "      <td>7-120</td>\n",
       "      <td>3015.0</td>\n",
       "      <td>831.0</td>\n",
       "      <td>2065.5</td>\n",
       "      <td>61.958189</td>\n",
       "      <td>32.512533</td>\n",
       "      <td>26.994920</td>\n",
       "      <td>15</td>\n",
       "      <td>3.635013</td>\n",
       "      <td>1</td>\n",
       "    </tr>\n",
       "    <tr>\n",
       "      <th>SS-B310</th>\n",
       "      <td>SS-B310</td>\n",
       "      <td>7-120</td>\n",
       "      <td>6371.0</td>\n",
       "      <td>2168.0</td>\n",
       "      <td>3964.5</td>\n",
       "      <td>90.064104</td>\n",
       "      <td>52.517844</td>\n",
       "      <td>34.967517</td>\n",
       "      <td>15</td>\n",
       "      <td>-5.550718</td>\n",
       "      <td>0</td>\n",
       "    </tr>\n",
       "    <tr>\n",
       "      <th>SS-B311</th>\n",
       "      <td>SS-B311</td>\n",
       "      <td>7-150</td>\n",
       "      <td>3293.5</td>\n",
       "      <td>1023.5</td>\n",
       "      <td>2096.5</td>\n",
       "      <td>64.756295</td>\n",
       "      <td>36.099316</td>\n",
       "      <td>26.319158</td>\n",
       "      <td>15</td>\n",
       "      <td>1.251042</td>\n",
       "      <td>1</td>\n",
       "    </tr>\n",
       "    <tr>\n",
       "      <th>SS-B312</th>\n",
       "      <td>SS-B312</td>\n",
       "      <td>11-22</td>\n",
       "      <td>7008.5</td>\n",
       "      <td>1610.0</td>\n",
       "      <td>5398.5</td>\n",
       "      <td>94.452263</td>\n",
       "      <td>45.269625</td>\n",
       "      <td>47.179251</td>\n",
       "      <td>15</td>\n",
       "      <td>3.982097</td>\n",
       "      <td>0</td>\n",
       "    </tr>\n",
       "  </tbody>\n",
       "</table>\n",
       "</div>"
      ],
      "text/plain": [
       "          Sample   Date  Cell_and_Capsule    Cell  Capsule  \\\n",
       "Sample                                                       \n",
       "SS-A837  SS-A837  7-120            2954.0  1093.0   1935.5   \n",
       "SS-B307  SS-B307  7-120            3015.0   831.0   2065.5   \n",
       "SS-B310  SS-B310  7-120            6371.0  2168.0   3964.5   \n",
       "SS-B311  SS-B311  7-150            3293.5  1023.5   2096.5   \n",
       "SS-B312  SS-B312  11-22            7008.5  1610.0   5398.5   \n",
       "\n",
       "         Cell_and_Capsule_diameter  Cell_diameter  Capsule_diameter  Circles  \\\n",
       "Sample                                                                         \n",
       "SS-A837                  61.323907      37.304177         25.117309       15   \n",
       "SS-B307                  61.958189      32.512533         26.994920       15   \n",
       "SS-B310                  90.064104      52.517844         34.967517       15   \n",
       "SS-B311                  64.756295      36.099316         26.319158       15   \n",
       "SS-B312                  94.452263      45.269625         47.179251       15   \n",
       "\n",
       "         Residual QTL  \n",
       "Sample                 \n",
       "SS-A837  2.144624   1  \n",
       "SS-B307  3.635013   1  \n",
       "SS-B310 -5.550718   0  \n",
       "SS-B311  1.251042   1  \n",
       "SS-B312  3.982097   0  "
      ]
     },
     "execution_count": 180,
     "metadata": {},
     "output_type": "execute_result"
    }
   ],
   "source": [
    "dgg.head()"
   ]
  },
  {
   "cell_type": "code",
   "execution_count": 195,
   "metadata": {},
   "outputs": [
    {
     "data": {
      "text/html": [
       "<div>\n",
       "<style scoped>\n",
       "    .dataframe tbody tr th:only-of-type {\n",
       "        vertical-align: middle;\n",
       "    }\n",
       "\n",
       "    .dataframe tbody tr th {\n",
       "        vertical-align: top;\n",
       "    }\n",
       "\n",
       "    .dataframe thead th {\n",
       "        text-align: right;\n",
       "    }\n",
       "</style>\n",
       "<table border=\"1\" class=\"dataframe\">\n",
       "  <thead>\n",
       "    <tr style=\"text-align: right;\">\n",
       "      <th></th>\n",
       "      <th>Sample</th>\n",
       "      <th>Date</th>\n",
       "      <th>Cell_and_Capsule</th>\n",
       "      <th>Cell</th>\n",
       "      <th>Capsule</th>\n",
       "      <th>Cell_and_Capsule_diameter</th>\n",
       "      <th>Cell_diameter</th>\n",
       "      <th>Capsule_diameter</th>\n",
       "      <th>Circles</th>\n",
       "      <th>Residual</th>\n",
       "      <th>QTL</th>\n",
       "      <th>QTL142</th>\n",
       "    </tr>\n",
       "    <tr>\n",
       "      <th>Sample</th>\n",
       "      <th></th>\n",
       "      <th></th>\n",
       "      <th></th>\n",
       "      <th></th>\n",
       "      <th></th>\n",
       "      <th></th>\n",
       "      <th></th>\n",
       "      <th></th>\n",
       "      <th></th>\n",
       "      <th></th>\n",
       "      <th></th>\n",
       "      <th></th>\n",
       "    </tr>\n",
       "  </thead>\n",
       "  <tbody>\n",
       "    <tr>\n",
       "      <th>SS-A837</th>\n",
       "      <td>SS-A837</td>\n",
       "      <td>7-120</td>\n",
       "      <td>2954.0</td>\n",
       "      <td>1093.0</td>\n",
       "      <td>1935.5</td>\n",
       "      <td>61.323907</td>\n",
       "      <td>37.304177</td>\n",
       "      <td>25.117309</td>\n",
       "      <td>15</td>\n",
       "      <td>2.144624</td>\n",
       "      <td>1</td>\n",
       "      <td>1.0</td>\n",
       "    </tr>\n",
       "    <tr>\n",
       "      <th>SS-B307</th>\n",
       "      <td>SS-B307</td>\n",
       "      <td>7-120</td>\n",
       "      <td>3015.0</td>\n",
       "      <td>831.0</td>\n",
       "      <td>2065.5</td>\n",
       "      <td>61.958189</td>\n",
       "      <td>32.512533</td>\n",
       "      <td>26.994920</td>\n",
       "      <td>15</td>\n",
       "      <td>3.635013</td>\n",
       "      <td>1</td>\n",
       "      <td>1.0</td>\n",
       "    </tr>\n",
       "    <tr>\n",
       "      <th>SS-B310</th>\n",
       "      <td>SS-B310</td>\n",
       "      <td>7-120</td>\n",
       "      <td>6371.0</td>\n",
       "      <td>2168.0</td>\n",
       "      <td>3964.5</td>\n",
       "      <td>90.064104</td>\n",
       "      <td>52.517844</td>\n",
       "      <td>34.967517</td>\n",
       "      <td>15</td>\n",
       "      <td>-5.550718</td>\n",
       "      <td>0</td>\n",
       "      <td>1.0</td>\n",
       "    </tr>\n",
       "    <tr>\n",
       "      <th>SS-B311</th>\n",
       "      <td>SS-B311</td>\n",
       "      <td>7-150</td>\n",
       "      <td>3293.5</td>\n",
       "      <td>1023.5</td>\n",
       "      <td>2096.5</td>\n",
       "      <td>64.756295</td>\n",
       "      <td>36.099316</td>\n",
       "      <td>26.319158</td>\n",
       "      <td>15</td>\n",
       "      <td>1.251042</td>\n",
       "      <td>1</td>\n",
       "      <td>1.0</td>\n",
       "    </tr>\n",
       "    <tr>\n",
       "      <th>SS-B312</th>\n",
       "      <td>SS-B312</td>\n",
       "      <td>11-22</td>\n",
       "      <td>7008.5</td>\n",
       "      <td>1610.0</td>\n",
       "      <td>5398.5</td>\n",
       "      <td>94.452263</td>\n",
       "      <td>45.269625</td>\n",
       "      <td>47.179251</td>\n",
       "      <td>15</td>\n",
       "      <td>3.982097</td>\n",
       "      <td>0</td>\n",
       "      <td>0.0</td>\n",
       "    </tr>\n",
       "  </tbody>\n",
       "</table>\n",
       "</div>"
      ],
      "text/plain": [
       "          Sample   Date  Cell_and_Capsule    Cell  Capsule  \\\n",
       "Sample                                                       \n",
       "SS-A837  SS-A837  7-120            2954.0  1093.0   1935.5   \n",
       "SS-B307  SS-B307  7-120            3015.0   831.0   2065.5   \n",
       "SS-B310  SS-B310  7-120            6371.0  2168.0   3964.5   \n",
       "SS-B311  SS-B311  7-150            3293.5  1023.5   2096.5   \n",
       "SS-B312  SS-B312  11-22            7008.5  1610.0   5398.5   \n",
       "\n",
       "         Cell_and_Capsule_diameter  Cell_diameter  Capsule_diameter  Circles  \\\n",
       "Sample                                                                         \n",
       "SS-A837                  61.323907      37.304177         25.117309       15   \n",
       "SS-B307                  61.958189      32.512533         26.994920       15   \n",
       "SS-B310                  90.064104      52.517844         34.967517       15   \n",
       "SS-B311                  64.756295      36.099316         26.319158       15   \n",
       "SS-B312                  94.452263      45.269625         47.179251       15   \n",
       "\n",
       "         Residual QTL  QTL142  \n",
       "Sample                         \n",
       "SS-A837  2.144624   1     1.0  \n",
       "SS-B307  3.635013   1     1.0  \n",
       "SS-B310 -5.550718   0     1.0  \n",
       "SS-B311  1.251042   1     1.0  \n",
       "SS-B312  3.982097   0     0.0  "
      ]
     },
     "execution_count": 195,
     "metadata": {},
     "output_type": "execute_result"
    }
   ],
   "source": [
    "dgg.head()"
   ]
  },
  {
   "cell_type": "code",
   "execution_count": 200,
   "metadata": {},
   "outputs": [
    {
     "data": {
      "text/html": [
       "<table class=\"simpletable\">\n",
       "<caption>OLS Regression Results</caption>\n",
       "<tr>\n",
       "  <th>Dep. Variable:</th>      <td>Cell_diameter</td>  <th>  R-squared:         </th> <td>   0.275</td>\n",
       "</tr>\n",
       "<tr>\n",
       "  <th>Model:</th>                   <td>OLS</td>       <th>  Adj. R-squared:    </th> <td>   0.260</td>\n",
       "</tr>\n",
       "<tr>\n",
       "  <th>Method:</th>             <td>Least Squares</td>  <th>  F-statistic:       </th> <td>   19.11</td>\n",
       "</tr>\n",
       "<tr>\n",
       "  <th>Date:</th>             <td>Mon, 20 Apr 2020</td> <th>  Prob (F-statistic):</th> <td>9.14e-08</td>\n",
       "</tr>\n",
       "<tr>\n",
       "  <th>Time:</th>                 <td>20:13:03</td>     <th>  Log-Likelihood:    </th> <td> -338.37</td>\n",
       "</tr>\n",
       "<tr>\n",
       "  <th>No. Observations:</th>      <td>   104</td>      <th>  AIC:               </th> <td>   682.7</td>\n",
       "</tr>\n",
       "<tr>\n",
       "  <th>Df Residuals:</th>          <td>   101</td>      <th>  BIC:               </th> <td>   690.7</td>\n",
       "</tr>\n",
       "<tr>\n",
       "  <th>Df Model:</th>              <td>     2</td>      <th>                     </th>     <td> </td>   \n",
       "</tr>\n",
       "<tr>\n",
       "  <th>Covariance Type:</th>      <td>nonrobust</td>    <th>                     </th>     <td> </td>   \n",
       "</tr>\n",
       "</table>\n",
       "<table class=\"simpletable\">\n",
       "<tr>\n",
       "      <td></td>         <th>coef</th>     <th>std err</th>      <th>t</th>      <th>P>|t|</th>  <th>[0.025</th>    <th>0.975]</th>  \n",
       "</tr>\n",
       "<tr>\n",
       "  <th>Intercept</th> <td>   40.3008</td> <td>    0.973</td> <td>   41.407</td> <td> 0.000</td> <td>   38.370</td> <td>   42.232</td>\n",
       "</tr>\n",
       "<tr>\n",
       "  <th>QTL2</th>      <td>   -6.0056</td> <td>    1.340</td> <td>   -4.480</td> <td> 0.000</td> <td>   -8.665</td> <td>   -3.347</td>\n",
       "</tr>\n",
       "<tr>\n",
       "  <th>QTL142</th>    <td>    5.5836</td> <td>    1.248</td> <td>    4.474</td> <td> 0.000</td> <td>    3.108</td> <td>    8.059</td>\n",
       "</tr>\n",
       "</table>\n",
       "<table class=\"simpletable\">\n",
       "<tr>\n",
       "  <th>Omnibus:</th>       <td> 3.075</td> <th>  Durbin-Watson:     </th> <td>   2.348</td>\n",
       "</tr>\n",
       "<tr>\n",
       "  <th>Prob(Omnibus):</th> <td> 0.215</td> <th>  Jarque-Bera (JB):  </th> <td>   3.038</td>\n",
       "</tr>\n",
       "<tr>\n",
       "  <th>Skew:</th>          <td> 0.408</td> <th>  Prob(JB):          </th> <td>   0.219</td>\n",
       "</tr>\n",
       "<tr>\n",
       "  <th>Kurtosis:</th>      <td> 2.812</td> <th>  Cond. No.          </th> <td>    2.88</td>\n",
       "</tr>\n",
       "</table><br/><br/>Warnings:<br/>[1] Standard Errors assume that the covariance matrix of the errors is correctly specified."
      ],
      "text/plain": [
       "<class 'statsmodels.iolib.summary.Summary'>\n",
       "\"\"\"\n",
       "                            OLS Regression Results                            \n",
       "==============================================================================\n",
       "Dep. Variable:          Cell_diameter   R-squared:                       0.275\n",
       "Model:                            OLS   Adj. R-squared:                  0.260\n",
       "Method:                 Least Squares   F-statistic:                     19.11\n",
       "Date:                Mon, 20 Apr 2020   Prob (F-statistic):           9.14e-08\n",
       "Time:                        20:13:03   Log-Likelihood:                -338.37\n",
       "No. Observations:                 104   AIC:                             682.7\n",
       "Df Residuals:                     101   BIC:                             690.7\n",
       "Df Model:                           2                                         \n",
       "Covariance Type:            nonrobust                                         \n",
       "==============================================================================\n",
       "                 coef    std err          t      P>|t|      [0.025      0.975]\n",
       "------------------------------------------------------------------------------\n",
       "Intercept     40.3008      0.973     41.407      0.000      38.370      42.232\n",
       "QTL2          -6.0056      1.340     -4.480      0.000      -8.665      -3.347\n",
       "QTL142         5.5836      1.248      4.474      0.000       3.108       8.059\n",
       "==============================================================================\n",
       "Omnibus:                        3.075   Durbin-Watson:                   2.348\n",
       "Prob(Omnibus):                  0.215   Jarque-Bera (JB):                3.038\n",
       "Skew:                           0.408   Prob(JB):                        0.219\n",
       "Kurtosis:                       2.812   Cond. No.                         2.88\n",
       "==============================================================================\n",
       "\n",
       "Warnings:\n",
       "[1] Standard Errors assume that the covariance matrix of the errors is correctly specified.\n",
       "\"\"\""
      ]
     },
     "execution_count": 200,
     "metadata": {},
     "output_type": "execute_result"
    }
   ],
   "source": [
    "mod = smf.ols('Cell_diameter ~ QTL2 + QTL142',data=dgg)\n",
    "res = mod.fit()\n",
    "\n",
    "res.summary()"
   ]
  },
  {
   "cell_type": "code",
   "execution_count": 58,
   "metadata": {},
   "outputs": [],
   "source": [
    "assert dgg.Sample.unique().shape[0] == dgg.shape[0]"
   ]
  },
  {
   "cell_type": "code",
   "execution_count": 59,
   "metadata": {},
   "outputs": [
    {
     "data": {
      "text/html": [
       "<div>\n",
       "<style scoped>\n",
       "    .dataframe tbody tr th:only-of-type {\n",
       "        vertical-align: middle;\n",
       "    }\n",
       "\n",
       "    .dataframe tbody tr th {\n",
       "        vertical-align: top;\n",
       "    }\n",
       "\n",
       "    .dataframe thead th {\n",
       "        text-align: right;\n",
       "    }\n",
       "</style>\n",
       "<table border=\"1\" class=\"dataframe\">\n",
       "  <thead>\n",
       "    <tr style=\"text-align: right;\">\n",
       "      <th></th>\n",
       "      <th>Sample</th>\n",
       "      <th>Date</th>\n",
       "      <th>Cell_and_Capsule</th>\n",
       "      <th>Cell</th>\n",
       "      <th>Capsule</th>\n",
       "      <th>Cell_and_Capsule_diameter</th>\n",
       "      <th>Cell_diameter</th>\n",
       "      <th>Capsule_diameter</th>\n",
       "      <th>Circles</th>\n",
       "    </tr>\n",
       "  </thead>\n",
       "  <tbody>\n",
       "    <tr>\n",
       "      <th>0</th>\n",
       "      <td>SS-A837</td>\n",
       "      <td>7-120</td>\n",
       "      <td>2954.0</td>\n",
       "      <td>1093.0</td>\n",
       "      <td>1935.5</td>\n",
       "      <td>61.323907</td>\n",
       "      <td>37.304177</td>\n",
       "      <td>25.117309</td>\n",
       "      <td>15</td>\n",
       "    </tr>\n",
       "    <tr>\n",
       "      <th>1</th>\n",
       "      <td>SS-B307</td>\n",
       "      <td>7-120</td>\n",
       "      <td>3015.0</td>\n",
       "      <td>831.0</td>\n",
       "      <td>2065.5</td>\n",
       "      <td>61.958189</td>\n",
       "      <td>32.512533</td>\n",
       "      <td>26.994920</td>\n",
       "      <td>15</td>\n",
       "    </tr>\n",
       "    <tr>\n",
       "      <th>2</th>\n",
       "      <td>SS-B310</td>\n",
       "      <td>7-120</td>\n",
       "      <td>6371.0</td>\n",
       "      <td>2168.0</td>\n",
       "      <td>3964.5</td>\n",
       "      <td>90.064104</td>\n",
       "      <td>52.517844</td>\n",
       "      <td>34.967517</td>\n",
       "      <td>15</td>\n",
       "    </tr>\n",
       "    <tr>\n",
       "      <th>3</th>\n",
       "      <td>SS-B311</td>\n",
       "      <td>7-150</td>\n",
       "      <td>3293.5</td>\n",
       "      <td>1023.5</td>\n",
       "      <td>2096.5</td>\n",
       "      <td>64.756295</td>\n",
       "      <td>36.099316</td>\n",
       "      <td>26.319158</td>\n",
       "      <td>15</td>\n",
       "    </tr>\n",
       "    <tr>\n",
       "      <th>4</th>\n",
       "      <td>SS-B312</td>\n",
       "      <td>11-22</td>\n",
       "      <td>7008.5</td>\n",
       "      <td>1610.0</td>\n",
       "      <td>5398.5</td>\n",
       "      <td>94.452263</td>\n",
       "      <td>45.269625</td>\n",
       "      <td>47.179251</td>\n",
       "      <td>15</td>\n",
       "    </tr>\n",
       "  </tbody>\n",
       "</table>\n",
       "</div>"
      ],
      "text/plain": [
       "    Sample   Date  Cell_and_Capsule    Cell  Capsule  \\\n",
       "0  SS-A837  7-120            2954.0  1093.0   1935.5   \n",
       "1  SS-B307  7-120            3015.0   831.0   2065.5   \n",
       "2  SS-B310  7-120            6371.0  2168.0   3964.5   \n",
       "3  SS-B311  7-150            3293.5  1023.5   2096.5   \n",
       "4  SS-B312  11-22            7008.5  1610.0   5398.5   \n",
       "\n",
       "   Cell_and_Capsule_diameter  Cell_diameter  Capsule_diameter  Circles  \n",
       "0                  61.323907      37.304177         25.117309       15  \n",
       "1                  61.958189      32.512533         26.994920       15  \n",
       "2                  90.064104      52.517844         34.967517       15  \n",
       "3                  64.756295      36.099316         26.319158       15  \n",
       "4                  94.452263      45.269625         47.179251       15  "
      ]
     },
     "execution_count": 59,
     "metadata": {},
     "output_type": "execute_result"
    }
   ],
   "source": [
    "dgg.head()"
   ]
  },
  {
   "cell_type": "code",
   "execution_count": 60,
   "metadata": {},
   "outputs": [
    {
     "data": {
      "text/plain": [
       "(104,)"
      ]
     },
     "execution_count": 60,
     "metadata": {},
     "output_type": "execute_result"
    }
   ],
   "source": [
    "dgg.Sample.unique().shape"
   ]
  },
  {
   "cell_type": "code",
   "execution_count": 61,
   "metadata": {},
   "outputs": [
    {
     "data": {
      "text/html": [
       "<table class=\"simpletable\">\n",
       "<caption>OLS Regression Results</caption>\n",
       "<tr>\n",
       "  <th>Dep. Variable:</th>    <td>Capsule_diameter</td> <th>  R-squared:         </th> <td>   0.890</td>\n",
       "</tr>\n",
       "<tr>\n",
       "  <th>Model:</th>                   <td>OLS</td>       <th>  Adj. R-squared:    </th> <td>   0.889</td>\n",
       "</tr>\n",
       "<tr>\n",
       "  <th>Method:</th>             <td>Least Squares</td>  <th>  F-statistic:       </th> <td>   828.7</td>\n",
       "</tr>\n",
       "<tr>\n",
       "  <th>Date:</th>             <td>Mon, 20 Apr 2020</td> <th>  Prob (F-statistic):</th> <td>8.93e-51</td>\n",
       "</tr>\n",
       "<tr>\n",
       "  <th>Time:</th>                 <td>19:54:50</td>     <th>  Log-Likelihood:    </th> <td> -283.42</td>\n",
       "</tr>\n",
       "<tr>\n",
       "  <th>No. Observations:</th>      <td>   104</td>      <th>  AIC:               </th> <td>   570.8</td>\n",
       "</tr>\n",
       "<tr>\n",
       "  <th>Df Residuals:</th>          <td>   102</td>      <th>  BIC:               </th> <td>   576.1</td>\n",
       "</tr>\n",
       "<tr>\n",
       "  <th>Df Model:</th>              <td>     1</td>      <th>                     </th>     <td> </td>   \n",
       "</tr>\n",
       "<tr>\n",
       "  <th>Covariance Type:</th>      <td>nonrobust</td>    <th>                     </th>     <td> </td>   \n",
       "</tr>\n",
       "</table>\n",
       "<table class=\"simpletable\">\n",
       "<tr>\n",
       "              <td></td>                 <th>coef</th>     <th>std err</th>      <th>t</th>      <th>P>|t|</th>  <th>[0.025</th>    <th>0.975]</th>  \n",
       "</tr>\n",
       "<tr>\n",
       "  <th>Intercept</th>                 <td>  -14.4648</td> <td>    1.508</td> <td>   -9.589</td> <td> 0.000</td> <td>  -17.457</td> <td>  -11.473</td>\n",
       "</tr>\n",
       "<tr>\n",
       "  <th>Cell_and_Capsule_diameter</th> <td>    0.6105</td> <td>    0.021</td> <td>   28.787</td> <td> 0.000</td> <td>    0.568</td> <td>    0.653</td>\n",
       "</tr>\n",
       "</table>\n",
       "<table class=\"simpletable\">\n",
       "<tr>\n",
       "  <th>Omnibus:</th>       <td> 0.228</td> <th>  Durbin-Watson:     </th> <td>   1.944</td>\n",
       "</tr>\n",
       "<tr>\n",
       "  <th>Prob(Omnibus):</th> <td> 0.892</td> <th>  Jarque-Bera (JB):  </th> <td>   0.408</td>\n",
       "</tr>\n",
       "<tr>\n",
       "  <th>Skew:</th>          <td> 0.035</td> <th>  Prob(JB):          </th> <td>   0.816</td>\n",
       "</tr>\n",
       "<tr>\n",
       "  <th>Kurtosis:</th>      <td> 2.701</td> <th>  Cond. No.          </th> <td>    294.</td>\n",
       "</tr>\n",
       "</table><br/><br/>Warnings:<br/>[1] Standard Errors assume that the covariance matrix of the errors is correctly specified."
      ],
      "text/plain": [
       "<class 'statsmodels.iolib.summary.Summary'>\n",
       "\"\"\"\n",
       "                            OLS Regression Results                            \n",
       "==============================================================================\n",
       "Dep. Variable:       Capsule_diameter   R-squared:                       0.890\n",
       "Model:                            OLS   Adj. R-squared:                  0.889\n",
       "Method:                 Least Squares   F-statistic:                     828.7\n",
       "Date:                Mon, 20 Apr 2020   Prob (F-statistic):           8.93e-51\n",
       "Time:                        19:54:50   Log-Likelihood:                -283.42\n",
       "No. Observations:                 104   AIC:                             570.8\n",
       "Df Residuals:                     102   BIC:                             576.1\n",
       "Df Model:                           1                                         \n",
       "Covariance Type:            nonrobust                                         \n",
       "=============================================================================================\n",
       "                                coef    std err          t      P>|t|      [0.025      0.975]\n",
       "---------------------------------------------------------------------------------------------\n",
       "Intercept                   -14.4648      1.508     -9.589      0.000     -17.457     -11.473\n",
       "Cell_and_Capsule_diameter     0.6105      0.021     28.787      0.000       0.568       0.653\n",
       "==============================================================================\n",
       "Omnibus:                        0.228   Durbin-Watson:                   1.944\n",
       "Prob(Omnibus):                  0.892   Jarque-Bera (JB):                0.408\n",
       "Skew:                           0.035   Prob(JB):                        0.816\n",
       "Kurtosis:                       2.701   Cond. No.                         294.\n",
       "==============================================================================\n",
       "\n",
       "Warnings:\n",
       "[1] Standard Errors assume that the covariance matrix of the errors is correctly specified.\n",
       "\"\"\""
      ]
     },
     "execution_count": 61,
     "metadata": {},
     "output_type": "execute_result"
    }
   ],
   "source": [
    "mod = smf.ols('Capsule_diameter ~ Cell_and_Capsule_diameter',data=dgg)\n",
    "res = mod.fit()\n",
    "h = res.rsquared\n",
    "dgg['Residual'] = res.resid\n",
    "res.summary()"
   ]
  },
  {
   "cell_type": "code",
   "execution_count": 62,
   "metadata": {},
   "outputs": [
    {
     "data": {
      "text/plain": [
       "0.89"
      ]
     },
     "execution_count": 62,
     "metadata": {},
     "output_type": "execute_result"
    }
   ],
   "source": [
    "cell_diam_res_r = np.round(res.rsquared,2)\n",
    "cell_diam_res_r"
   ]
  },
  {
   "cell_type": "code",
   "execution_count": 63,
   "metadata": {},
   "outputs": [
    {
     "data": {
      "text/plain": [
       "(3108,)"
      ]
     },
     "execution_count": 63,
     "metadata": {},
     "output_type": "execute_result"
    }
   ],
   "source": [
    "loci.shape"
   ]
  },
  {
   "cell_type": "code",
   "execution_count": 64,
   "metadata": {},
   "outputs": [
    {
     "data": {
      "text/plain": [
       "(104,)"
      ]
     },
     "execution_count": 64,
     "metadata": {},
     "output_type": "execute_result"
    }
   ],
   "source": [
    "dgg.Sample.unique().shape"
   ]
  },
  {
   "cell_type": "code",
   "execution_count": 65,
   "metadata": {},
   "outputs": [
    {
     "data": {
      "text/plain": [
       "(104, 10)"
      ]
     },
     "execution_count": 65,
     "metadata": {},
     "output_type": "execute_result"
    }
   ],
   "source": [
    "dgg.shape"
   ]
  },
  {
   "cell_type": "code",
   "execution_count": 66,
   "metadata": {},
   "outputs": [],
   "source": [
    "dgg.index = dgg.Sample"
   ]
  },
  {
   "cell_type": "code",
   "execution_count": 67,
   "metadata": {},
   "outputs": [
    {
     "data": {
      "text/plain": [
       "(104,)"
      ]
     },
     "execution_count": 67,
     "metadata": {},
     "output_type": "execute_result"
    }
   ],
   "source": [
    "dgg.Sample.unique().shape"
   ]
  },
  {
   "cell_type": "code",
   "execution_count": 164,
   "metadata": {},
   "outputs": [],
   "source": [
    "## conduct QTL mapping\n",
    "test = gv[dgg.Sample.unique()].drop_duplicates()\n",
    "\n",
    "test['Residual'] = test.apply(association_logPval,\n",
    "                             args=[dgg.T[dgg.Sample.unique()\n",
    "                                   ].T['Residual']],axis=1)\n",
    "pval_df = gv.merge(test)"
   ]
  },
  {
   "cell_type": "code",
   "execution_count": 165,
   "metadata": {},
   "outputs": [
    {
     "data": {
      "text/plain": [
       "(92103, 126)"
      ]
     },
     "execution_count": 165,
     "metadata": {},
     "output_type": "execute_result"
    }
   ],
   "source": [
    "pval_df.shape"
   ]
  },
  {
   "cell_type": "code",
   "execution_count": 166,
   "metadata": {},
   "outputs": [
    {
     "data": {
      "text/html": [
       "<div>\n",
       "<style scoped>\n",
       "    .dataframe tbody tr th:only-of-type {\n",
       "        vertical-align: middle;\n",
       "    }\n",
       "\n",
       "    .dataframe tbody tr th {\n",
       "        vertical-align: top;\n",
       "    }\n",
       "\n",
       "    .dataframe thead th {\n",
       "        text-align: right;\n",
       "    }\n",
       "</style>\n",
       "<table border=\"1\" class=\"dataframe\">\n",
       "  <thead>\n",
       "    <tr style=\"text-align: right;\">\n",
       "      <th></th>\n",
       "      <th>Chrom</th>\n",
       "      <th>Pos</th>\n",
       "      <th>Qual</th>\n",
       "      <th>Callrate</th>\n",
       "      <th>Ref</th>\n",
       "      <th>Alt</th>\n",
       "      <th>Altlen</th>\n",
       "      <th>Dp</th>\n",
       "      <th>Type</th>\n",
       "      <th>Vcfix</th>\n",
       "      <th>...</th>\n",
       "      <th>SS-B565</th>\n",
       "      <th>SS-B600</th>\n",
       "      <th>SS-B574</th>\n",
       "      <th>SS-B872_cor</th>\n",
       "      <th>SS-B873_cor</th>\n",
       "      <th>SS-B360</th>\n",
       "      <th>SS-B397</th>\n",
       "      <th>SS-B564</th>\n",
       "      <th>SS-B382</th>\n",
       "      <th>Residual</th>\n",
       "    </tr>\n",
       "  </thead>\n",
       "  <tbody>\n",
       "    <tr>\n",
       "      <th>0</th>\n",
       "      <td>Chr01</td>\n",
       "      <td>5016</td>\n",
       "      <td>104492.0</td>\n",
       "      <td>1.0</td>\n",
       "      <td>C</td>\n",
       "      <td>A</td>\n",
       "      <td>1</td>\n",
       "      <td>6510</td>\n",
       "      <td>snp</td>\n",
       "      <td>289</td>\n",
       "      <td>...</td>\n",
       "      <td>0.0</td>\n",
       "      <td>1.0</td>\n",
       "      <td>1.0</td>\n",
       "      <td>0.0</td>\n",
       "      <td>0.0</td>\n",
       "      <td>1.0</td>\n",
       "      <td>0.0</td>\n",
       "      <td>1.0</td>\n",
       "      <td>0.0</td>\n",
       "      <td>2.32446</td>\n",
       "    </tr>\n",
       "    <tr>\n",
       "      <th>1</th>\n",
       "      <td>Chr01</td>\n",
       "      <td>5299</td>\n",
       "      <td>112647.0</td>\n",
       "      <td>1.0</td>\n",
       "      <td>T</td>\n",
       "      <td>C</td>\n",
       "      <td>1</td>\n",
       "      <td>9711</td>\n",
       "      <td>snp</td>\n",
       "      <td>293</td>\n",
       "      <td>...</td>\n",
       "      <td>0.0</td>\n",
       "      <td>1.0</td>\n",
       "      <td>1.0</td>\n",
       "      <td>0.0</td>\n",
       "      <td>0.0</td>\n",
       "      <td>1.0</td>\n",
       "      <td>0.0</td>\n",
       "      <td>1.0</td>\n",
       "      <td>0.0</td>\n",
       "      <td>2.32446</td>\n",
       "    </tr>\n",
       "    <tr>\n",
       "      <th>2</th>\n",
       "      <td>Chr01</td>\n",
       "      <td>5464</td>\n",
       "      <td>112658.0</td>\n",
       "      <td>1.0</td>\n",
       "      <td>T</td>\n",
       "      <td>C</td>\n",
       "      <td>1</td>\n",
       "      <td>9375</td>\n",
       "      <td>snp</td>\n",
       "      <td>294</td>\n",
       "      <td>...</td>\n",
       "      <td>0.0</td>\n",
       "      <td>1.0</td>\n",
       "      <td>1.0</td>\n",
       "      <td>0.0</td>\n",
       "      <td>0.0</td>\n",
       "      <td>1.0</td>\n",
       "      <td>0.0</td>\n",
       "      <td>1.0</td>\n",
       "      <td>0.0</td>\n",
       "      <td>2.32446</td>\n",
       "    </tr>\n",
       "    <tr>\n",
       "      <th>3</th>\n",
       "      <td>Chr01</td>\n",
       "      <td>6120</td>\n",
       "      <td>109003.0</td>\n",
       "      <td>1.0</td>\n",
       "      <td>T</td>\n",
       "      <td>C</td>\n",
       "      <td>1</td>\n",
       "      <td>9311</td>\n",
       "      <td>snp</td>\n",
       "      <td>311</td>\n",
       "      <td>...</td>\n",
       "      <td>0.0</td>\n",
       "      <td>1.0</td>\n",
       "      <td>1.0</td>\n",
       "      <td>0.0</td>\n",
       "      <td>0.0</td>\n",
       "      <td>1.0</td>\n",
       "      <td>0.0</td>\n",
       "      <td>1.0</td>\n",
       "      <td>0.0</td>\n",
       "      <td>2.32446</td>\n",
       "    </tr>\n",
       "    <tr>\n",
       "      <th>4</th>\n",
       "      <td>Chr01</td>\n",
       "      <td>6166</td>\n",
       "      <td>114638.0</td>\n",
       "      <td>1.0</td>\n",
       "      <td>G</td>\n",
       "      <td>A</td>\n",
       "      <td>1</td>\n",
       "      <td>9269</td>\n",
       "      <td>snp</td>\n",
       "      <td>312</td>\n",
       "      <td>...</td>\n",
       "      <td>0.0</td>\n",
       "      <td>1.0</td>\n",
       "      <td>1.0</td>\n",
       "      <td>0.0</td>\n",
       "      <td>0.0</td>\n",
       "      <td>1.0</td>\n",
       "      <td>0.0</td>\n",
       "      <td>1.0</td>\n",
       "      <td>0.0</td>\n",
       "      <td>2.32446</td>\n",
       "    </tr>\n",
       "  </tbody>\n",
       "</table>\n",
       "<p>5 rows × 126 columns</p>\n",
       "</div>"
      ],
      "text/plain": [
       "   Chrom   Pos      Qual  Callrate Ref Alt  Altlen    Dp Type  Vcfix  ...  \\\n",
       "0  Chr01  5016  104492.0       1.0   C   A       1  6510  snp    289  ...   \n",
       "1  Chr01  5299  112647.0       1.0   T   C       1  9711  snp    293  ...   \n",
       "2  Chr01  5464  112658.0       1.0   T   C       1  9375  snp    294  ...   \n",
       "3  Chr01  6120  109003.0       1.0   T   C       1  9311  snp    311  ...   \n",
       "4  Chr01  6166  114638.0       1.0   G   A       1  9269  snp    312  ...   \n",
       "\n",
       "   SS-B565  SS-B600  SS-B574  SS-B872_cor  SS-B873_cor  SS-B360  SS-B397  \\\n",
       "0      0.0      1.0      1.0          0.0          0.0      1.0      0.0   \n",
       "1      0.0      1.0      1.0          0.0          0.0      1.0      0.0   \n",
       "2      0.0      1.0      1.0          0.0          0.0      1.0      0.0   \n",
       "3      0.0      1.0      1.0          0.0          0.0      1.0      0.0   \n",
       "4      0.0      1.0      1.0          0.0          0.0      1.0      0.0   \n",
       "\n",
       "   SS-B564  SS-B382  Residual  \n",
       "0      1.0      0.0   2.32446  \n",
       "1      1.0      0.0   2.32446  \n",
       "2      1.0      0.0   2.32446  \n",
       "3      1.0      0.0   2.32446  \n",
       "4      1.0      0.0   2.32446  \n",
       "\n",
       "[5 rows x 126 columns]"
      ]
     },
     "execution_count": 166,
     "metadata": {},
     "output_type": "execute_result"
    }
   ],
   "source": [
    "pval_df.head()"
   ]
  },
  {
   "cell_type": "code",
   "execution_count": 71,
   "metadata": {},
   "outputs": [],
   "source": [
    "## find unique chromosomes, lengths, and midpoints. \n",
    "chrlist = sorted(pval_df.Chrom.unique())\n",
    "chrlens = np.array([pval_df[(pval_df.Chrom==c)].Pos.max() \n",
    "           for c in chrlist])\n",
    "cumpos = np.array([0] + list(np.cumsum(chrlens[:-1])))\n",
    "cummax = cumpos[-1] + pval_df[(pval_df.Chrom=='Chr14')].Pos.max()\n",
    "chrmid = (chrlens/2) + cumpos\n",
    "assert len(chrlist) == 14"
   ]
  },
  {
   "cell_type": "code",
   "execution_count": 72,
   "metadata": {},
   "outputs": [],
   "source": [
    "residual_threshold = 4.1267"
   ]
  },
  {
   "cell_type": "code",
   "execution_count": 73,
   "metadata": {},
   "outputs": [],
   "source": [
    "mito = pd.read_csv('../../FILES/Cdx-mitochondiral.csv')\n",
    "mito['XL280a'] = 0\n",
    "mito['XL280alpha'] = 0"
   ]
  },
  {
   "cell_type": "code",
   "execution_count": 74,
   "metadata": {},
   "outputs": [],
   "source": [
    "clonedf = pd.read_csv('/Users/croth/Desktop/CRYPTO_QTL/FILES/Cdx_Clones.csv')"
   ]
  },
  {
   "cell_type": "code",
   "execution_count": 75,
   "metadata": {},
   "outputs": [],
   "source": [
    "median_mito = pd.DataFrame(mito[cor_names].median(axis=0)).T"
   ]
  },
  {
   "cell_type": "code",
   "execution_count": 76,
   "metadata": {},
   "outputs": [
    {
     "data": {
      "text/html": [
       "<div>\n",
       "<style scoped>\n",
       "    .dataframe tbody tr th:only-of-type {\n",
       "        vertical-align: middle;\n",
       "    }\n",
       "\n",
       "    .dataframe tbody tr th {\n",
       "        vertical-align: top;\n",
       "    }\n",
       "\n",
       "    .dataframe thead th {\n",
       "        text-align: right;\n",
       "    }\n",
       "</style>\n",
       "<table border=\"1\" class=\"dataframe\">\n",
       "  <thead>\n",
       "    <tr style=\"text-align: right;\">\n",
       "      <th></th>\n",
       "      <th>SS-A837</th>\n",
       "      <th>SS-B307</th>\n",
       "      <th>SS-B310</th>\n",
       "      <th>SS-B311</th>\n",
       "      <th>SS-B312</th>\n",
       "      <th>SS-B313</th>\n",
       "      <th>SS-B314</th>\n",
       "      <th>SS-B315</th>\n",
       "      <th>SS-B316</th>\n",
       "      <th>SS-B317</th>\n",
       "      <th>...</th>\n",
       "      <th>SS-C033</th>\n",
       "      <th>SS-C036</th>\n",
       "      <th>SS-C039</th>\n",
       "      <th>SS-C242</th>\n",
       "      <th>SS-C271</th>\n",
       "      <th>SS-C272</th>\n",
       "      <th>SS-C290</th>\n",
       "      <th>SS-C291</th>\n",
       "      <th>XL280a</th>\n",
       "      <th>XL280alpha</th>\n",
       "    </tr>\n",
       "  </thead>\n",
       "  <tbody>\n",
       "    <tr>\n",
       "      <th>0</th>\n",
       "      <td>1.0</td>\n",
       "      <td>0.0</td>\n",
       "      <td>0.0</td>\n",
       "      <td>1.0</td>\n",
       "      <td>1.0</td>\n",
       "      <td>0.0</td>\n",
       "      <td>0.0</td>\n",
       "      <td>0.0</td>\n",
       "      <td>0.0</td>\n",
       "      <td>0.0</td>\n",
       "      <td>...</td>\n",
       "      <td>0.0</td>\n",
       "      <td>0.0</td>\n",
       "      <td>0.0</td>\n",
       "      <td>0.0</td>\n",
       "      <td>0.0</td>\n",
       "      <td>0.0</td>\n",
       "      <td>0.0</td>\n",
       "      <td>0.0</td>\n",
       "      <td>0.0</td>\n",
       "      <td>0.0</td>\n",
       "    </tr>\n",
       "  </tbody>\n",
       "</table>\n",
       "<p>1 rows × 104 columns</p>\n",
       "</div>"
      ],
      "text/plain": [
       "   SS-A837  SS-B307  SS-B310  SS-B311  SS-B312  SS-B313  SS-B314  SS-B315  \\\n",
       "0      1.0      0.0      0.0      1.0      1.0      0.0      0.0      0.0   \n",
       "\n",
       "   SS-B316  SS-B317  ...  SS-C033  SS-C036  SS-C039  SS-C242  SS-C271  \\\n",
       "0      0.0      0.0  ...      0.0      0.0      0.0      0.0      0.0   \n",
       "\n",
       "   SS-C272  SS-C290  SS-C291  XL280a  XL280alpha  \n",
       "0      0.0      0.0      0.0     0.0         0.0  \n",
       "\n",
       "[1 rows x 104 columns]"
      ]
     },
     "execution_count": 76,
     "metadata": {},
     "output_type": "execute_result"
    }
   ],
   "source": [
    "median_mito"
   ]
  },
  {
   "cell_type": "code",
   "execution_count": 77,
   "metadata": {},
   "outputs": [
    {
     "data": {
      "text/plain": [
       "0    0.159146\n",
       "dtype: float64"
      ]
     },
     "execution_count": 77,
     "metadata": {},
     "output_type": "execute_result"
    }
   ],
   "source": [
    "median_mito[dgg.Sample.unique()].apply(\n",
    "    association_logPval,args=[dgg.T[dgg.Sample.unique()\n",
    "                                   ].T['Residual']],axis=1)"
   ]
  },
  {
   "cell_type": "code",
   "execution_count": 78,
   "metadata": {},
   "outputs": [
    {
     "data": {
      "image/png": "[encoded data removed]",
      "text/plain": [
       "<Figure size 432x360 with 4 Axes>"
      ]
     },
     "metadata": {
      "needs_background": "light"
     },
     "output_type": "display_data"
    }
   ],
   "source": [
    "fig,ax=plt.subplots(2,2,figsize=(6,5),sharey=True,sharex='col')\n",
    "plt.sca(ax[0,0])\n",
    "x = 'Cell_and_Capsule_diameter'\n",
    "y = 'Cell_diameter'\n",
    "sns.regplot(x=x,y=y,\n",
    "           data=dgg,order=1,\n",
    "           line_kws={'color':'red','alpha':.5}, \n",
    "           scatter_kws={'color':'k','alpha':0.5});\n",
    "\n",
    "plt.sca(ax[0,1])\n",
    "sns.regplot(x=x,y=y,\n",
    "           data=dgg,order=2,\n",
    "           line_kws={'color':'red','alpha':.5}, \n",
    "           scatter_kws={'color':'k','alpha':0.5});\n",
    "\n",
    "\n",
    "plt.sca(ax[1,0]);\n",
    "x = 'Cell_and_Capsule_diameter'\n",
    "y = 'Capsule_diameter'\n",
    "sns.regplot(x=x,y=y,\n",
    "           data=dgg,order=1,\n",
    "           line_kws={'color':'red','alpha':.5}, \n",
    "           scatter_kws={'color':'k','alpha':0.5});\n",
    "\n",
    "plt.sca(ax[1,1]);\n",
    "sns.regplot(x=x,y=y,\n",
    "           data=dgg,order=2,\n",
    "           line_kws={'color':'red','alpha':.5}, \n",
    "           scatter_kws={'color':'k','alpha':0.5});\n",
    "plt.subplots_adjust(wspace=0.2);"
   ]
  },
  {
   "cell_type": "code",
   "execution_count": 79,
   "metadata": {},
   "outputs": [
    {
     "data": {
      "text/html": [
       "<div>\n",
       "<style scoped>\n",
       "    .dataframe tbody tr th:only-of-type {\n",
       "        vertical-align: middle;\n",
       "    }\n",
       "\n",
       "    .dataframe tbody tr th {\n",
       "        vertical-align: top;\n",
       "    }\n",
       "\n",
       "    .dataframe thead th {\n",
       "        text-align: right;\n",
       "    }\n",
       "</style>\n",
       "<table border=\"1\" class=\"dataframe\">\n",
       "  <thead>\n",
       "    <tr style=\"text-align: right;\">\n",
       "      <th></th>\n",
       "      <th>Sample</th>\n",
       "      <th>Date</th>\n",
       "      <th>Cell_and_Capsule</th>\n",
       "      <th>Cell</th>\n",
       "      <th>Capsule</th>\n",
       "      <th>Cell_and_Capsule_diameter</th>\n",
       "      <th>Cell_diameter</th>\n",
       "      <th>Capsule_diameter</th>\n",
       "      <th>Circles</th>\n",
       "      <th>Residual</th>\n",
       "    </tr>\n",
       "    <tr>\n",
       "      <th>Sample</th>\n",
       "      <th></th>\n",
       "      <th></th>\n",
       "      <th></th>\n",
       "      <th></th>\n",
       "      <th></th>\n",
       "      <th></th>\n",
       "      <th></th>\n",
       "      <th></th>\n",
       "      <th></th>\n",
       "      <th></th>\n",
       "    </tr>\n",
       "  </thead>\n",
       "  <tbody>\n",
       "    <tr>\n",
       "      <th>SS-B364</th>\n",
       "      <td>SS-B364</td>\n",
       "      <td>nd</td>\n",
       "      <td>16556.5</td>\n",
       "      <td>2292.0</td>\n",
       "      <td>14235.0</td>\n",
       "      <td>144.75283</td>\n",
       "      <td>53.960829</td>\n",
       "      <td>84.486981</td>\n",
       "      <td>15</td>\n",
       "      <td>10.581925</td>\n",
       "    </tr>\n",
       "  </tbody>\n",
       "</table>\n",
       "</div>"
      ],
      "text/plain": [
       "          Sample Date  Cell_and_Capsule    Cell  Capsule  \\\n",
       "Sample                                                     \n",
       "SS-B364  SS-B364   nd           16556.5  2292.0  14235.0   \n",
       "\n",
       "         Cell_and_Capsule_diameter  Cell_diameter  Capsule_diameter  Circles  \\\n",
       "Sample                                                                         \n",
       "SS-B364                  144.75283      53.960829         84.486981       15   \n",
       "\n",
       "          Residual  \n",
       "Sample              \n",
       "SS-B364  10.581925  "
      ]
     },
     "execution_count": 79,
     "metadata": {},
     "output_type": "execute_result"
    }
   ],
   "source": [
    "dgg[(dgg.Capsule_diameter>75)]"
   ]
  },
  {
   "cell_type": "code",
   "execution_count": 80,
   "metadata": {},
   "outputs": [
    {
     "data": {
      "text/html": [
       "<div>\n",
       "<style scoped>\n",
       "    .dataframe tbody tr th:only-of-type {\n",
       "        vertical-align: middle;\n",
       "    }\n",
       "\n",
       "    .dataframe tbody tr th {\n",
       "        vertical-align: top;\n",
       "    }\n",
       "\n",
       "    .dataframe thead th {\n",
       "        text-align: right;\n",
       "    }\n",
       "</style>\n",
       "<table border=\"1\" class=\"dataframe\">\n",
       "  <thead>\n",
       "    <tr style=\"text-align: right;\">\n",
       "      <th></th>\n",
       "      <th>Sample</th>\n",
       "      <th>Date</th>\n",
       "      <th>Cell_and_Capsule</th>\n",
       "      <th>Cell</th>\n",
       "      <th>Capsule</th>\n",
       "      <th>Cell_and_Capsule_diameter</th>\n",
       "      <th>Cell_diameter</th>\n",
       "      <th>Capsule_diameter</th>\n",
       "      <th>Circles</th>\n",
       "      <th>Residual</th>\n",
       "    </tr>\n",
       "    <tr>\n",
       "      <th>Sample</th>\n",
       "      <th></th>\n",
       "      <th></th>\n",
       "      <th></th>\n",
       "      <th></th>\n",
       "      <th></th>\n",
       "      <th></th>\n",
       "      <th></th>\n",
       "      <th></th>\n",
       "      <th></th>\n",
       "      <th></th>\n",
       "    </tr>\n",
       "  </thead>\n",
       "  <tbody>\n",
       "    <tr>\n",
       "      <th>SS-B364</th>\n",
       "      <td>SS-B364</td>\n",
       "      <td>nd</td>\n",
       "      <td>16556.5</td>\n",
       "      <td>2292.0</td>\n",
       "      <td>14235.0</td>\n",
       "      <td>144.75283</td>\n",
       "      <td>53.960829</td>\n",
       "      <td>84.486981</td>\n",
       "      <td>15</td>\n",
       "      <td>10.581925</td>\n",
       "    </tr>\n",
       "  </tbody>\n",
       "</table>\n",
       "</div>"
      ],
      "text/plain": [
       "          Sample Date  Cell_and_Capsule    Cell  Capsule  \\\n",
       "Sample                                                     \n",
       "SS-B364  SS-B364   nd           16556.5  2292.0  14235.0   \n",
       "\n",
       "         Cell_and_Capsule_diameter  Cell_diameter  Capsule_diameter  Circles  \\\n",
       "Sample                                                                         \n",
       "SS-B364                  144.75283      53.960829         84.486981       15   \n",
       "\n",
       "          Residual  \n",
       "Sample              \n",
       "SS-B364  10.581925  "
      ]
     },
     "execution_count": 80,
     "metadata": {},
     "output_type": "execute_result"
    }
   ],
   "source": [
    "dgg[(dgg.Capsule_diameter == dgg.Capsule_diameter.max())]"
   ]
  },
  {
   "cell_type": "code",
   "execution_count": 81,
   "metadata": {},
   "outputs": [
    {
     "data": {
      "image/png": "[encoded data removed]",
      "text/plain": [
       "<Figure size 1080x216 with 7 Axes>"
      ]
     },
     "metadata": {
      "needs_background": "light"
     },
     "output_type": "display_data"
    }
   ],
   "source": [
    "phenos = dgg.columns.tolist()[2:-2] + [dgg.columns.tolist()[-1]]\n",
    "fig,ax = plt.subplots(1,len(phenos),\n",
    "                      figsize=(15,3),sharey=True);\n",
    "for i,p in enumerate(phenos):\n",
    "    plt.sca(ax[i]);\n",
    "    plt.title(p)\n",
    "    plt.hist(dgg[p].values);"
   ]
  },
  {
   "cell_type": "code",
   "execution_count": 82,
   "metadata": {},
   "outputs": [],
   "source": [
    "cell_diameter_threshold = 4.0653\n",
    "residual_threshold = 4.1267"
   ]
  },
  {
   "cell_type": "code",
   "execution_count": 83,
   "metadata": {},
   "outputs": [],
   "source": [
    "needed = [s for s in gv.columns[gv.columns.tolist().index('Block')+1:] if s not in dgg.Sample.unique()]"
   ]
  },
  {
   "cell_type": "code",
   "execution_count": 84,
   "metadata": {},
   "outputs": [
    {
     "data": {
      "text/plain": [
       "[]"
      ]
     },
     "execution_count": 84,
     "metadata": {},
     "output_type": "execute_result"
    }
   ],
   "source": [
    "needed"
   ]
  },
  {
   "cell_type": "code",
   "execution_count": 85,
   "metadata": {},
   "outputs": [],
   "source": [
    "ch14_temp = pval_df[(pval_df.Chrom=='Chr14')].copy()"
   ]
  },
  {
   "cell_type": "code",
   "execution_count": 86,
   "metadata": {},
   "outputs": [
    {
     "data": {
      "image/png": "[encoded data removed]",
      "text/plain": [
       "<Figure size 432x288 with 1 Axes>"
      ]
     },
     "metadata": {
      "needs_background": "light"
     },
     "output_type": "display_data"
    }
   ],
   "source": [
    "#plt.plot(ch14_temp.Pos,ch14_temp.Cell,'k.');\n",
    "plt.plot(ch14_temp.Pos,ch14_temp.Residual,'r.');"
   ]
  },
  {
   "cell_type": "code",
   "execution_count": 87,
   "metadata": {},
   "outputs": [],
   "source": [
    "pheno_path = '/Users/croth/Desktop/CRYPTO_RECOMB/FILES/CRNE_Progeny_QTL_Phenotyping_All_20150226_Renamed.xlsx'\n",
    "pheno_df = pd.read_excel(pheno_path)\n",
    "pheno_df.columns = ['Strain','ypd30','ypd37','ypd40','ypd41','ypd42',\n",
    "                    'Ldopa','Ms','Fluc','Amph','Ph']"
   ]
  },
  {
   "cell_type": "code",
   "execution_count": 88,
   "metadata": {},
   "outputs": [],
   "source": [
    "fluc = pheno_df[(pheno_df.Strain.isin(gv.columns))][['Strain','Fluc']].copy()\n",
    "fluc.index = fluc.Strain\n",
    "fluc.columns = ['Sample','Fluc']"
   ]
  },
  {
   "cell_type": "code",
   "execution_count": 89,
   "metadata": {},
   "outputs": [
    {
     "data": {
      "text/plain": [
       "95"
      ]
     },
     "execution_count": 89,
     "metadata": {},
     "output_type": "execute_result"
    }
   ],
   "source": [
    "fluc_segs = [s for s  in gv.columns if s in fluc.Sample]\n",
    "len(fluc_segs)"
   ]
  },
  {
   "cell_type": "code",
   "execution_count": 90,
   "metadata": {},
   "outputs": [],
   "source": [
    "fluc_pval = gv.T[loci].T[fluc_segs].apply(association_logPval,\n",
    "                                      args=[fluc['Fluc'][fluc_segs]],\n",
    "                                         axis=1)"
   ]
  },
  {
   "cell_type": "code",
   "execution_count": 91,
   "metadata": {},
   "outputs": [
    {
     "data": {
      "text/plain": [
       "3108"
      ]
     },
     "execution_count": 91,
     "metadata": {},
     "output_type": "execute_result"
    }
   ],
   "source": [
    "len(fluc_pval)"
   ]
  },
  {
   "cell_type": "code",
   "execution_count": 92,
   "metadata": {},
   "outputs": [],
   "source": [
    "pval_df['Fluc'] = fluc_pval"
   ]
  },
  {
   "cell_type": "code",
   "execution_count": 93,
   "metadata": {},
   "outputs": [
    {
     "data": {
      "text/html": [
       "<div>\n",
       "<style scoped>\n",
       "    .dataframe tbody tr th:only-of-type {\n",
       "        vertical-align: middle;\n",
       "    }\n",
       "\n",
       "    .dataframe tbody tr th {\n",
       "        vertical-align: top;\n",
       "    }\n",
       "\n",
       "    .dataframe thead th {\n",
       "        text-align: right;\n",
       "    }\n",
       "</style>\n",
       "<table border=\"1\" class=\"dataframe\">\n",
       "  <thead>\n",
       "    <tr style=\"text-align: right;\">\n",
       "      <th></th>\n",
       "      <th>Chrom</th>\n",
       "      <th>Pos</th>\n",
       "      <th>Qual</th>\n",
       "      <th>Callrate</th>\n",
       "      <th>Ref</th>\n",
       "      <th>Alt</th>\n",
       "      <th>Altlen</th>\n",
       "      <th>Dp</th>\n",
       "      <th>Type</th>\n",
       "      <th>Vcfix</th>\n",
       "      <th>...</th>\n",
       "      <th>SS-B600</th>\n",
       "      <th>SS-B574</th>\n",
       "      <th>SS-B872_cor</th>\n",
       "      <th>SS-B873_cor</th>\n",
       "      <th>SS-B360</th>\n",
       "      <th>SS-B397</th>\n",
       "      <th>SS-B564</th>\n",
       "      <th>SS-B382</th>\n",
       "      <th>Residual</th>\n",
       "      <th>Fluc</th>\n",
       "    </tr>\n",
       "  </thead>\n",
       "  <tbody>\n",
       "    <tr>\n",
       "      <th>0</th>\n",
       "      <td>Chr01</td>\n",
       "      <td>5016</td>\n",
       "      <td>104492.0</td>\n",
       "      <td>1.0</td>\n",
       "      <td>C</td>\n",
       "      <td>A</td>\n",
       "      <td>1</td>\n",
       "      <td>6510</td>\n",
       "      <td>snp</td>\n",
       "      <td>289</td>\n",
       "      <td>...</td>\n",
       "      <td>1.0</td>\n",
       "      <td>1.0</td>\n",
       "      <td>0.0</td>\n",
       "      <td>0.0</td>\n",
       "      <td>1.0</td>\n",
       "      <td>0.0</td>\n",
       "      <td>1.0</td>\n",
       "      <td>0.0</td>\n",
       "      <td>2.32446</td>\n",
       "      <td>1.13846</td>\n",
       "    </tr>\n",
       "    <tr>\n",
       "      <th>1</th>\n",
       "      <td>Chr01</td>\n",
       "      <td>5299</td>\n",
       "      <td>112647.0</td>\n",
       "      <td>1.0</td>\n",
       "      <td>T</td>\n",
       "      <td>C</td>\n",
       "      <td>1</td>\n",
       "      <td>9711</td>\n",
       "      <td>snp</td>\n",
       "      <td>293</td>\n",
       "      <td>...</td>\n",
       "      <td>1.0</td>\n",
       "      <td>1.0</td>\n",
       "      <td>0.0</td>\n",
       "      <td>0.0</td>\n",
       "      <td>1.0</td>\n",
       "      <td>0.0</td>\n",
       "      <td>1.0</td>\n",
       "      <td>0.0</td>\n",
       "      <td>2.32446</td>\n",
       "      <td>NaN</td>\n",
       "    </tr>\n",
       "    <tr>\n",
       "      <th>2</th>\n",
       "      <td>Chr01</td>\n",
       "      <td>5464</td>\n",
       "      <td>112658.0</td>\n",
       "      <td>1.0</td>\n",
       "      <td>T</td>\n",
       "      <td>C</td>\n",
       "      <td>1</td>\n",
       "      <td>9375</td>\n",
       "      <td>snp</td>\n",
       "      <td>294</td>\n",
       "      <td>...</td>\n",
       "      <td>1.0</td>\n",
       "      <td>1.0</td>\n",
       "      <td>0.0</td>\n",
       "      <td>0.0</td>\n",
       "      <td>1.0</td>\n",
       "      <td>0.0</td>\n",
       "      <td>1.0</td>\n",
       "      <td>0.0</td>\n",
       "      <td>2.32446</td>\n",
       "      <td>NaN</td>\n",
       "    </tr>\n",
       "    <tr>\n",
       "      <th>3</th>\n",
       "      <td>Chr01</td>\n",
       "      <td>6120</td>\n",
       "      <td>109003.0</td>\n",
       "      <td>1.0</td>\n",
       "      <td>T</td>\n",
       "      <td>C</td>\n",
       "      <td>1</td>\n",
       "      <td>9311</td>\n",
       "      <td>snp</td>\n",
       "      <td>311</td>\n",
       "      <td>...</td>\n",
       "      <td>1.0</td>\n",
       "      <td>1.0</td>\n",
       "      <td>0.0</td>\n",
       "      <td>0.0</td>\n",
       "      <td>1.0</td>\n",
       "      <td>0.0</td>\n",
       "      <td>1.0</td>\n",
       "      <td>0.0</td>\n",
       "      <td>2.32446</td>\n",
       "      <td>NaN</td>\n",
       "    </tr>\n",
       "    <tr>\n",
       "      <th>4</th>\n",
       "      <td>Chr01</td>\n",
       "      <td>6166</td>\n",
       "      <td>114638.0</td>\n",
       "      <td>1.0</td>\n",
       "      <td>G</td>\n",
       "      <td>A</td>\n",
       "      <td>1</td>\n",
       "      <td>9269</td>\n",
       "      <td>snp</td>\n",
       "      <td>312</td>\n",
       "      <td>...</td>\n",
       "      <td>1.0</td>\n",
       "      <td>1.0</td>\n",
       "      <td>0.0</td>\n",
       "      <td>0.0</td>\n",
       "      <td>1.0</td>\n",
       "      <td>0.0</td>\n",
       "      <td>1.0</td>\n",
       "      <td>0.0</td>\n",
       "      <td>2.32446</td>\n",
       "      <td>NaN</td>\n",
       "    </tr>\n",
       "  </tbody>\n",
       "</table>\n",
       "<p>5 rows × 127 columns</p>\n",
       "</div>"
      ],
      "text/plain": [
       "   Chrom   Pos      Qual  Callrate Ref Alt  Altlen    Dp Type  Vcfix  ...  \\\n",
       "0  Chr01  5016  104492.0       1.0   C   A       1  6510  snp    289  ...   \n",
       "1  Chr01  5299  112647.0       1.0   T   C       1  9711  snp    293  ...   \n",
       "2  Chr01  5464  112658.0       1.0   T   C       1  9375  snp    294  ...   \n",
       "3  Chr01  6120  109003.0       1.0   T   C       1  9311  snp    311  ...   \n",
       "4  Chr01  6166  114638.0       1.0   G   A       1  9269  snp    312  ...   \n",
       "\n",
       "   SS-B600  SS-B574  SS-B872_cor  SS-B873_cor  SS-B360  SS-B397  SS-B564  \\\n",
       "0      1.0      1.0          0.0          0.0      1.0      0.0      1.0   \n",
       "1      1.0      1.0          0.0          0.0      1.0      0.0      1.0   \n",
       "2      1.0      1.0          0.0          0.0      1.0      0.0      1.0   \n",
       "3      1.0      1.0          0.0          0.0      1.0      0.0      1.0   \n",
       "4      1.0      1.0          0.0          0.0      1.0      0.0      1.0   \n",
       "\n",
       "   SS-B382  Residual     Fluc  \n",
       "0      0.0   2.32446  1.13846  \n",
       "1      0.0   2.32446      NaN  \n",
       "2      0.0   2.32446      NaN  \n",
       "3      0.0   2.32446      NaN  \n",
       "4      0.0   2.32446      NaN  \n",
       "\n",
       "[5 rows x 127 columns]"
      ]
     },
     "execution_count": 93,
     "metadata": {},
     "output_type": "execute_result"
    }
   ],
   "source": [
    "pval_df.head()"
   ]
  },
  {
   "cell_type": "code",
   "execution_count": 94,
   "metadata": {},
   "outputs": [],
   "source": [
    "#Melpvals = pd.read_csv('/Users/croth/Downloads/Melanin_QTL_pvalues.csv',index_col=0)\n",
    "#MelQTL = pd.read_csv('/Users/croth/Downloads/Melanin_QTL_Genotype_phenotype.csv')\n",
    "Melanin = pd.read_csv('../../FILES/Melanin_Phenotypes.csv',index_col=0)\n",
    "ric8 = pd.read_csv('../../FILES/Chr14/CNN01270.csv',index_col=0)\n",
    "gff = pd.read_csv('../../FILES/xl280genome.gff3.csv.gz',index_col=0)"
   ]
  },
  {
   "cell_type": "code",
   "execution_count": 95,
   "metadata": {},
   "outputs": [
    {
     "data": {
      "text/html": [
       "<div>\n",
       "<style scoped>\n",
       "    .dataframe tbody tr th:only-of-type {\n",
       "        vertical-align: middle;\n",
       "    }\n",
       "\n",
       "    .dataframe tbody tr th {\n",
       "        vertical-align: top;\n",
       "    }\n",
       "\n",
       "    .dataframe thead th {\n",
       "        text-align: right;\n",
       "    }\n",
       "</style>\n",
       "<table border=\"1\" class=\"dataframe\">\n",
       "  <thead>\n",
       "    <tr style=\"text-align: right;\">\n",
       "      <th></th>\n",
       "      <th>QTL</th>\n",
       "      <th>MC</th>\n",
       "    </tr>\n",
       "    <tr>\n",
       "      <th>strain</th>\n",
       "      <th></th>\n",
       "      <th></th>\n",
       "    </tr>\n",
       "  </thead>\n",
       "  <tbody>\n",
       "    <tr>\n",
       "      <th>SS-B357</th>\n",
       "      <td>0.0</td>\n",
       "      <td>17455.744000</td>\n",
       "    </tr>\n",
       "    <tr>\n",
       "      <th>SS-B360</th>\n",
       "      <td>1.0</td>\n",
       "      <td>13758.783333</td>\n",
       "    </tr>\n",
       "    <tr>\n",
       "      <th>SS-B364</th>\n",
       "      <td>0.0</td>\n",
       "      <td>5925.816000</td>\n",
       "    </tr>\n",
       "    <tr>\n",
       "      <th>SS-B366</th>\n",
       "      <td>0.0</td>\n",
       "      <td>17842.346000</td>\n",
       "    </tr>\n",
       "    <tr>\n",
       "      <th>SS-B368</th>\n",
       "      <td>0.0</td>\n",
       "      <td>19223.485333</td>\n",
       "    </tr>\n",
       "  </tbody>\n",
       "</table>\n",
       "</div>"
      ],
      "text/plain": [
       "         QTL            MC\n",
       "strain                    \n",
       "SS-B357  0.0  17455.744000\n",
       "SS-B360  1.0  13758.783333\n",
       "SS-B364  0.0   5925.816000\n",
       "SS-B366  0.0  17842.346000\n",
       "SS-B368  0.0  19223.485333"
      ]
     },
     "execution_count": 95,
     "metadata": {},
     "output_type": "execute_result"
    }
   ],
   "source": [
    "Melanin.head()"
   ]
  },
  {
   "cell_type": "code",
   "execution_count": 162,
   "metadata": {},
   "outputs": [],
   "source": [
    "## conduct QTL mapping\n",
    "test = gv[dgg.Sample.unique()].drop_duplicates()\n",
    "\n",
    "test['Mel'] = test.apply(association_logPval,\n",
    "                             args=[Melanin.T[dgg.Sample.unique()\n",
    "                                   ].T['MC']],axis=1)\n",
    "pval_df = pval_df.merge(test)"
   ]
  },
  {
   "cell_type": "code",
   "execution_count": 163,
   "metadata": {},
   "outputs": [
    {
     "data": {
      "text/html": [
       "<div>\n",
       "<style scoped>\n",
       "    .dataframe tbody tr th:only-of-type {\n",
       "        vertical-align: middle;\n",
       "    }\n",
       "\n",
       "    .dataframe tbody tr th {\n",
       "        vertical-align: top;\n",
       "    }\n",
       "\n",
       "    .dataframe thead th {\n",
       "        text-align: right;\n",
       "    }\n",
       "</style>\n",
       "<table border=\"1\" class=\"dataframe\">\n",
       "  <thead>\n",
       "    <tr style=\"text-align: right;\">\n",
       "      <th></th>\n",
       "      <th>Chrom</th>\n",
       "      <th>Pos</th>\n",
       "      <th>Qual</th>\n",
       "      <th>Callrate</th>\n",
       "      <th>Ref</th>\n",
       "      <th>Alt</th>\n",
       "      <th>Altlen</th>\n",
       "      <th>Dp</th>\n",
       "      <th>Type</th>\n",
       "      <th>Vcfix</th>\n",
       "      <th>...</th>\n",
       "      <th>SS-C036</th>\n",
       "      <th>SS-C039</th>\n",
       "      <th>SS-C242</th>\n",
       "      <th>SS-C271</th>\n",
       "      <th>SS-C272</th>\n",
       "      <th>SS-C290</th>\n",
       "      <th>SS-C291</th>\n",
       "      <th>XL280a</th>\n",
       "      <th>XL280alpha</th>\n",
       "      <th>Mel</th>\n",
       "    </tr>\n",
       "  </thead>\n",
       "  <tbody>\n",
       "  </tbody>\n",
       "</table>\n",
       "<p>0 rows × 129 columns</p>\n",
       "</div>"
      ],
      "text/plain": [
       "Empty DataFrame\n",
       "Columns: [Chrom, Pos, Qual, Callrate, Ref, Alt, Altlen, Dp, Type, Vcfix, Cum_pos, Posk, Logdp, Lognq, AF, Dps, is_ref, Start, End, Co, Block, Residual, Fluc, Cell_size, SS-A837, SS-B307, SS-B310, SS-B311, SS-B312, SS-B313, SS-B314, SS-B315, SS-B316, SS-B317, SS-B350, SS-B354, SS-B356, SS-B357, SS-B358, SS-B360, SS-B364, SS-B366, SS-B368, SS-B369, SS-B373, SS-B374, SS-B378, SS-B379, SS-B382, SS-B383, SS-B387, SS-B396, SS-B397, SS-B399, SS-B407, SS-B553, SS-B560, SS-B563, SS-B564, SS-B565, SS-B569, SS-B570, SS-B574, SS-B575, SS-B579, SS-B580, SS-B584, SS-B585, SS-B586, SS-B587, SS-B588, SS-B589, SS-B591, SS-B598, SS-B599, SS-B600, SS-B605, SS-B606, SS-B611, SS-B621, SS-B869_cor, SS-B872, SS-B872_cor, SS-B873_cor, SS-B874, SS-B874_cor, SS-B876, SS-B880, SS-B886, SS-B886_cor, SS-B887, SS-B887_cor, SS-B890_cor, SS-B892_cor, SS-B896_cor, SS-B898_cor, SS-B901_cor, SS-B905, SS-B906, SS-B906_cor, ...]\n",
       "Index: []\n",
       "\n",
       "[0 rows x 129 columns]"
      ]
     },
     "execution_count": 163,
     "metadata": {},
     "output_type": "execute_result"
    }
   ],
   "source": [
    "pval_df.head()"
   ]
  },
  {
   "cell_type": "code",
   "execution_count": 98,
   "metadata": {},
   "outputs": [],
   "source": [
    "ci95_mel = np.array([368955, 403449])# (354015,403043)\n",
    "ci95_res = np.array([354579, 667688.05]) # (354015,431009)"
   ]
  },
  {
   "cell_type": "code",
   "execution_count": 99,
   "metadata": {},
   "outputs": [
    {
     "data": {
      "text/plain": [
       "(386833, 389698)"
      ]
     },
     "execution_count": 99,
     "metadata": {},
     "output_type": "execute_result"
    }
   ],
   "source": [
    "ric8.Start.min(),ric8.End.max()"
   ]
  },
  {
   "cell_type": "markdown",
   "metadata": {},
   "source": [
    "plt.plot(pval_df[(pval_df.Chrom=='Chr14')]['Pos'],\n",
    "         pval_df[(pval_df.Chrom=='Chr14')]['Residual'].values/pval_df[\n",
    "             (pval_df.Chrom=='Chr14')]['Residual'].max(),'ro',\n",
    "         alpha=0.5,label='Capsual Residual QTL');\n",
    "\n",
    "plt.plot(Melpvals[(Melpvals.Chrom=='Chr14')]['Pos'],\n",
    "        Melpvals[(Melpvals.Chrom=='Chr14')]['mc'].values/Melpvals[\n",
    "            (Melpvals.Chrom=='Chr14')]['mc'].max(),'ko',\n",
    "         alpha=0.5,label='Melanin QTL');\n",
    "plt.vlines((ric8.Start.min(),ric8.End.max()),0,1,\n",
    "           color='grey',linestyle='--',label='$RIC8$')\n",
    "plt.fill_between(ci95_res,[1,1],color='tab:orange',alpha=0.42,label='95% CI Capsual QTL')\n",
    "#plt.vlines(gff[(gff.gene=='CNN01400') & (gff.type=='gene')][['start',\n",
    "#                'end']].values[0],\n",
    "#          0,1,color='red',linestyle='--')\n",
    "plt.legend(bbox_to_anchor=(0.63,1.45),fontsize=14);\n",
    "plt.xlabel('Chromosome 14 Coordinates (bp)',fontsize=14);\n",
    "plt.ylabel('Normalized\\n$-log_{10}(p-value)$',fontsize=14);\n",
    "plt.savefig('/Users/croth/Desktop/DISFIGS/ch3/Melanin_Capsual_qtl.png',\n",
    "           dpi=100,bbox_inches='tight');"
   ]
  },
  {
   "cell_type": "code",
   "execution_count": 100,
   "metadata": {},
   "outputs": [
    {
     "data": {
      "text/plain": [
       "(3498, 128)"
      ]
     },
     "execution_count": 100,
     "metadata": {},
     "output_type": "execute_result"
    }
   ],
   "source": [
    "ch14 = pval_df[(pval_df.Chrom=='Chr14')]\n",
    "ch14.shape"
   ]
  },
  {
   "cell_type": "code",
   "execution_count": 101,
   "metadata": {},
   "outputs": [
    {
     "data": {
      "text/plain": [
       "(104, 10)"
      ]
     },
     "execution_count": 101,
     "metadata": {},
     "output_type": "execute_result"
    }
   ],
   "source": [
    "dgg.shape"
   ]
  },
  {
   "cell_type": "code",
   "execution_count": 102,
   "metadata": {},
   "outputs": [],
   "source": [
    "ch14_peak_ix = ch14.Residual.idxmax()"
   ]
  },
  {
   "cell_type": "code",
   "execution_count": 103,
   "metadata": {},
   "outputs": [],
   "source": [
    "dgg['QTL'] = gv.T[ch14_peak_ix].T[dgg.Sample.tolist()]"
   ]
  },
  {
   "cell_type": "code",
   "execution_count": 104,
   "metadata": {},
   "outputs": [],
   "source": [
    "from matplotlib import rc\n",
    "xl280al = 'XL280'+r'$\\alpha$'#+'SS'\n",
    "xl280_label = 'XL280' +r'$\\bf{a}$'\n",
    "_431_label = '431'+r'$\\mathrm{\\alpha}$'"
   ]
  },
  {
   "cell_type": "code",
   "execution_count": 105,
   "metadata": {},
   "outputs": [],
   "source": [
    "def myminmax(x):\n",
    "    x = np.array(x)\n",
    "    return (x-x.min())/(x.max()-x.min())"
   ]
  },
  {
   "cell_type": "code",
   "execution_count": 106,
   "metadata": {},
   "outputs": [],
   "source": [
    "kb = 1000"
   ]
  },
  {
   "cell_type": "code",
   "execution_count": 107,
   "metadata": {},
   "outputs": [],
   "source": [
    "mod_res = smf.ols('Residual ~ QTL',data=dgg).fit()\n",
    "cap_res_r = np.round(mod_res.rsquared,2)"
   ]
  },
  {
   "cell_type": "code",
   "execution_count": 108,
   "metadata": {},
   "outputs": [
    {
     "data": {
      "image/png": "[encoded data removed]",
      "text/plain": [
       "<Figure size 576x720 with 4 Axes>"
      ]
     },
     "metadata": {
      "needs_background": "light"
     },
     "output_type": "display_data"
    }
   ],
   "source": [
    "residual_threshold = 4.1267\n",
    "fig = plt.figure(figsize=(8,10))\n",
    "gs = fig.add_gridspec(3,4)\n",
    "\n",
    "ax1 = fig.add_subplot(gs[0, :2])\n",
    "ax2 = fig.add_subplot(gs[0,2:])\n",
    "ax3 = fig.add_subplot(gs[1,:])\n",
    "ax4 = fig.add_subplot(gs[2,:2])\n",
    "\n",
    "plt.sca(ax1)\n",
    "[ax1.spines[a].set_visible(False) for a in ['top','right']]\n",
    "plt.title(label='A',fontweight='bold',fontsize=14,x=0,y=1)\n",
    "x = 'Cell_and_Capsule_diameter'\n",
    "y = 'Capsule_diameter'\n",
    "plt.text(40,90,'$R^2 = %s$'%cell_diam_res_r,fontsize=12,\n",
    "         color='k',va='center',alpha=.8)\n",
    "sns.regplot(x=x,y=y,\n",
    "           data=dgg,order=1,\n",
    "            ci=False,\n",
    "           line_kws={'color':'k','alpha':.25}, \n",
    "           scatter_kws={'color':'k','alpha':0.0});\n",
    "\n",
    "plt.plot(dgg[(dgg.QTL==0)][x].values,\n",
    "         dgg[(dgg.QTL==0)][y].values,'.',\n",
    "         color='tab:blue',alpha=0.64,label=xl280_label)\n",
    "\n",
    "plt.plot(dgg[(dgg.QTL==1)][x].values,\n",
    "         dgg[(dgg.QTL==1)][y].values,'.',\n",
    "         color='tab:orange',alpha=0.64,label=_431_label)\n",
    "\n",
    "plt.legend(title='Chromosome 14 QTL Allele',markerscale=3.0,\n",
    "           fontsize=14, bbox_to_anchor=(0.9,1.6))\n",
    "\n",
    "plt.ylabel('Capsule Diameter (\\u03BCm)',fontsize=14)\n",
    "plt.xlabel('Cell and Capsule\\nDiameter (\\u03BCm)',fontsize=14)\n",
    "plt.yticks(np.arange(0,120,20))    \n",
    "\n",
    "plt.sca(ax2)\n",
    "plt.title(label='B',fontweight='bold',fontsize=14,x=0,y=1)\n",
    "\n",
    "for i, a in enumerate(dgg.groupby('QTL')):\n",
    "    \n",
    "    plt.hist(a[1].Residual,alpha=0.5,bins=10,\n",
    "    label=xl280_label if i == 0 else _431_label);\n",
    "\n",
    "plt.vlines(dgg.T[['XL280a','SS-A837']].T.Residual,\n",
    "           0,1,color='k',linewidth=1,alpha=0.75);\n",
    "plt.text(x=dgg.T['SS-A837'].T.Residual+0.75,y=1,\n",
    "         s=_431_label,fontsize=14,va='bottom',ha='right')\n",
    "plt.text(x=dgg.T['XL280a'].T.Residual-0.75,y=1,\n",
    "         s=xl280_label,fontsize=14,va='bottom',ha='left');\n",
    "plt.xlabel('Capsule Diameter\\nResiduals (\\u03BCm)',fontsize=14);\n",
    "plt.ylabel('Number of Progeny',fontsize=14);\n",
    "plt.yticks(np.arange(0,16,2))\n",
    "plt.legend(title='Chromosome 14 QTL Allele',\n",
    "           fontsize=14, bbox_to_anchor=(0.9,1.6))\n",
    "[ax2.spines[a].set_visible(False) for a in ['top','right']]\n",
    "plt.text(-1.5,12.4,s='$R^2$ = %s'%cap_res_r,va='center',\n",
    "         ha='right',fontsize=12,\n",
    "         color='k',alpha=.8)\n",
    "\n",
    "###### ----------------------------------------------------------- ######\n",
    "chrom_colors = ['tab:grey','tab:brown','lightgrey','salmon','tan']\n",
    "plt.sca(ax3)\n",
    "[ax3.spines[a].set_visible(False) for a in ['top','right']]\n",
    "plt.title(label='C',fontweight='bold',fontsize=14,x=0,y=1)\n",
    "for c in chrlist:\n",
    "    i = int(c[-2:]) -1\n",
    "    if c == 'Chr14':\n",
    "        cc = 'tab:blue'\n",
    "    else:\n",
    "        cc = chrom_colors[i%len(chrom_colors)]\n",
    "    temp = pval_df[(pval_df.Chrom==c)]\n",
    "    plt.plot(temp.Pos.values+cumpos[i],\n",
    "             temp.Residual.values,\n",
    "             '.',alpha=0.5,markersize=3,color=cc);\n",
    "plt.hlines(residual_threshold,chrmid[1],19*(10**6),linestyle='--',\n",
    "           linewidth=0.8)#,label='\\u03B1 = 0.01')\n",
    "plt.xticks(chrmid,[int(a[-2:]) for a in chrlist]);\n",
    "plt.ylabel('$-\\log_{10}\\,(p-value)$',fontsize=14);\n",
    "plt.xlabel('Chromosome',fontsize=14)\n",
    "plt.text(x=chrmid[0],y=residual_threshold ,s='\\u03B1 = 0.01',\n",
    "         va='center',ha='center',fontsize=14)\n",
    "         #transform=ax3.transAxes)\n",
    "    \n",
    "    \n",
    "###### ----------------------- Capsule and Melanin QTL overlap plot -------------------- #######    \n",
    "plt.sca(ax4)\n",
    "plt.title(label='D',fontweight='bold',fontsize=14,x=0,y=1)\n",
    "\n",
    "[ax4.spines[a].set_visible(False) for a in ['top','right']]\n",
    "kb = 1000\n",
    "yp = -0.05\n",
    "ls = 0.05\n",
    "plt.plot(ch14.Pos.values/kb,myminmax(ch14.Residual.values),\n",
    "         'r.',alpha=0.5,markersize=3)\n",
    "plt.hlines(yp,*ci95_res/kb,color='r', label='Capsule Residual\\nQTL and 95% CI');\n",
    "plt.vlines(ci95_res/kb,yp-ls,yp+ls,color='r');\n",
    "\n",
    "plt.plot(ch14.Pos.values/kb,myminmax(ch14.Mel.values),\n",
    "         'k.',alpha=0.5,markersize=3)\n",
    "plt.hlines(yp+0.05,*ci95_mel/kb,color='k',label='Melanization\\nQTL and 95% CI');\n",
    "plt.vlines(ci95_mel/kb ,yp+0.05-ls,yp+0.05+ls,color='k');#\n",
    "\n",
    "plt.hlines(-0.13,568029/kb,644419/kb,color='blue',linewidth=7);     \n",
    "plt.ylim(-0.14,1.1)\n",
    "plt.yticks([])\n",
    "plt.legend(bbox_to_anchor=(1.05,1),fontsize=14);\n",
    "plt.xlabel('Chromosome 14 Coordinates (kb)',fontsize=14);\n",
    "#plt.ylabel('\\n$-log_{10}(p-value)$',fontsize=14);\n",
    "plt.ylabel('Normalized\\n$-\\log_{10}\\,(p-value)$',fontsize=14);\n",
    "\n",
    "plt.subplots_adjust(wspace=0.9,hspace=0.55)\n",
    "plt.savefig('/Users/croth/Desktop/CRYPTO_QTL/FIGURES/Capsule_Residual_QTL.png',\n",
    "           dpi=200,bbox_inches='tight');"
   ]
  },
  {
   "cell_type": "code",
   "execution_count": 142,
   "metadata": {},
   "outputs": [
    {
     "data": {
      "text/plain": [
       "NormaltestResult(statistic=8.213004117023896, pvalue=0.016465268458116793)"
      ]
     },
     "execution_count": 142,
     "metadata": {},
     "output_type": "execute_result"
    }
   ],
   "source": [
    "ss.normaltest(dgg.Cell_diameter.values)"
   ]
  },
  {
   "cell_type": "code",
   "execution_count": 143,
   "metadata": {},
   "outputs": [
    {
     "data": {
      "text/plain": [
       "(0.9558315277099609, 0.00159282679669559)"
      ]
     },
     "execution_count": 143,
     "metadata": {},
     "output_type": "execute_result"
    }
   ],
   "source": [
    "ss.shapiro(dgg.Cell_diameter.values)"
   ]
  },
  {
   "cell_type": "code",
   "execution_count": 144,
   "metadata": {},
   "outputs": [
    {
     "data": {
      "text/plain": [
       "NormaltestResult(statistic=3.1206735900164344, pvalue=0.21006531033755968)"
      ]
     },
     "execution_count": 144,
     "metadata": {},
     "output_type": "execute_result"
    }
   ],
   "source": [
    "ss.normaltest(np.log(dgg.Cell_diameter.values))"
   ]
  },
  {
   "cell_type": "code",
   "execution_count": 176,
   "metadata": {},
   "outputs": [
    {
     "data": {
      "text/plain": [
       "(0.9783492088317871, 0.08625141531229019)"
      ]
     },
     "execution_count": 176,
     "metadata": {},
     "output_type": "execute_result"
    }
   ],
   "source": [
    "ss.shapiro(np.log(dgg.Cell_diameter.values))"
   ]
  },
  {
   "cell_type": "code",
   "execution_count": 170,
   "metadata": {},
   "outputs": [
    {
     "data": {
      "image/png": "[encoded data removed]",
      "text/plain": [
       "<Figure size 432x288 with 1 Axes>"
      ]
     },
     "metadata": {
      "needs_background": "light"
     },
     "output_type": "display_data"
    }
   ],
   "source": [
    "plt.hist(np.sqrt(dgg.Cell_diameter.values));"
   ]
  },
  {
   "cell_type": "code",
   "execution_count": 167,
   "metadata": {},
   "outputs": [],
   "source": [
    "## conduct QTL mapping\n",
    "test = gv[dgg.Sample.unique()].drop_duplicates()\n",
    "\n",
    "test['Cell_size'] = test.apply(association_logPval,\n",
    "                             args=[np.log(np.array(dgg.T[dgg.Sample.unique()].T['Cell'].values,float)) ],axis=1)\n",
    "pval_df = pval_df.merge(test)"
   ]
  },
  {
   "cell_type": "code",
   "execution_count": 168,
   "metadata": {},
   "outputs": [
    {
     "data": {
      "image/png": "[encoded data removed]",
      "text/plain": [
       "<Figure size 720x216 with 1 Axes>"
      ]
     },
     "metadata": {
      "needs_background": "light"
     },
     "output_type": "display_data"
    }
   ],
   "source": [
    "#plt.title(label='C',fontweight='bold',fontsize=14,x=0,y=1)\n",
    "fig,ax=plt.subplots(1,1,figsize=(10,3))\n",
    "for i,c in enumerate(chrlist):\n",
    "    \n",
    "    temp = pval_df[(pval_df.Chrom==c)]\n",
    "    plt.plot(temp.Pos.values+cumpos[i],\n",
    "             temp.Cell_size.values,\n",
    "             '.',alpha=0.5,markersize=3);\n",
    "plt.hlines(cell_diameter_threshold,chrmid[1],19*(10**6),linestyle='--',\n",
    "           linewidth=1)#,label='\\u03B1 = 0.01')\n",
    "plt.xticks(chrmid,[int(a[-2:]) for a in chrlist]);\n",
    "plt.ylabel('$-\\log_{10}\\,(p-value)$',fontsize=14);\n",
    "plt.xlabel('Chromosome',fontsize=14)\n",
    "plt.text(x=chrmid[0],y=cell_diameter_threshold ,s='\\u03B1 = 0.01',\n",
    "         va='center',ha='center',fontsize=14);"
   ]
  },
  {
   "cell_type": "code",
   "execution_count": 204,
   "metadata": {},
   "outputs": [
    {
     "data": {
      "image/png": "[encoded data removed]",
      "text/plain": [
       "<Figure size 432x288 with 1 Axes>"
      ]
     },
     "metadata": {
      "needs_background": "light"
     },
     "output_type": "display_data"
    }
   ],
   "source": [
    "plt.plot(pval_df[(pval_df.Chrom=='Chr14')].Pos.values,\n",
    "         pval_df[(pval_df.Chrom=='Chr14')].Cell_size.values,'.');"
   ]
  },
  {
   "cell_type": "code",
   "execution_count": 197,
   "metadata": {},
   "outputs": [],
   "source": [
    "dgg['QTL2'] = pval_df[dgg.index].T[pval_df[(pval_df.Chrom=='Chr02')]['Cell_size'].idxmax()]"
   ]
  },
  {
   "cell_type": "code",
   "execution_count": 194,
   "metadata": {},
   "outputs": [],
   "source": [
    "dgg['QTL142'] = pval_df[dgg.index].T[pval_df[(pval_df.Chrom=='Chr14')]['Cell_size'].idxmax()]"
   ]
  },
  {
   "cell_type": "code",
   "execution_count": 133,
   "metadata": {},
   "outputs": [
    {
     "data": {
      "image/png": "[encoded data removed]",
      "text/plain": [
       "<Figure size 432x288 with 1 Axes>"
      ]
     },
     "metadata": {
      "needs_background": "light"
     },
     "output_type": "display_data"
    }
   ],
   "source": [
    "fig,ax = plt.subplots(1,1,figsize=(6,4))\n",
    "\n",
    "for i, a in enumerate(dgg.groupby('QTL')):\n",
    "    \n",
    "    plt.hist(a[1].Residual,alpha=0.5,bins=10,\n",
    "    label=xl280_label if i == 0 else _431_label);\n",
    "plt.legend(title='Chromosome 14 QTL Allele',fontsize=14)\n",
    "plt.vlines(dgg.T[['XL280a','SS-A837']].T.Residual,\n",
    "           0,1,color='k',linewidth=1,alpha=0.75);\n",
    "plt.text(x=dgg.T['SS-A837'].T.Residual,y=1,\n",
    "         s=_431_label,fontsize=14,va='bottom',ha='right')\n",
    "plt.text(x=dgg.T['XL280a'].T.Residual,y=1,\n",
    "         s=xl280_label,fontsize=14,va='bottom',ha='left');\n",
    "plt.xlabel('Capsule Diameter Residuals (\\u03BCm)',fontsize=14);\n",
    "plt.ylabel('Number of Segregants',fontsize=14);\n",
    "plt.savefig('/Users/croth/Desktop/DISFIGS/ch4/Cdx_Annulus_Residuals.png',\n",
    "           dpi=150,bbox_inches='tight');"
   ]
  },
  {
   "cell_type": "code",
   "execution_count": null,
   "metadata": {},
   "outputs": [],
   "source": [
    "assert 1 == 0"
   ]
  },
  {
   "cell_type": "code",
   "execution_count": 113,
   "metadata": {},
   "outputs": [
    {
     "data": {
      "text/html": [
       "<div>\n",
       "<style scoped>\n",
       "    .dataframe tbody tr th:only-of-type {\n",
       "        vertical-align: middle;\n",
       "    }\n",
       "\n",
       "    .dataframe tbody tr th {\n",
       "        vertical-align: top;\n",
       "    }\n",
       "\n",
       "    .dataframe thead th {\n",
       "        text-align: right;\n",
       "    }\n",
       "</style>\n",
       "<table border=\"1\" class=\"dataframe\">\n",
       "  <thead>\n",
       "    <tr style=\"text-align: right;\">\n",
       "      <th></th>\n",
       "      <th>Sample</th>\n",
       "      <th>Date</th>\n",
       "      <th>Cell_and_Capsule</th>\n",
       "      <th>Cell</th>\n",
       "      <th>Capsule</th>\n",
       "      <th>Cell_and_Capsule_diameter</th>\n",
       "      <th>Cell_diameter</th>\n",
       "      <th>Capsule_diameter</th>\n",
       "      <th>Circles</th>\n",
       "      <th>Residual</th>\n",
       "      <th>QTL</th>\n",
       "    </tr>\n",
       "    <tr>\n",
       "      <th>Sample</th>\n",
       "      <th></th>\n",
       "      <th></th>\n",
       "      <th></th>\n",
       "      <th></th>\n",
       "      <th></th>\n",
       "      <th></th>\n",
       "      <th></th>\n",
       "      <th></th>\n",
       "      <th></th>\n",
       "      <th></th>\n",
       "      <th></th>\n",
       "    </tr>\n",
       "  </thead>\n",
       "  <tbody>\n",
       "    <tr>\n",
       "      <th>SS-A837</th>\n",
       "      <td>SS-A837</td>\n",
       "      <td>7-120</td>\n",
       "      <td>2954.0</td>\n",
       "      <td>1093.0</td>\n",
       "      <td>1935.5</td>\n",
       "      <td>61.323907</td>\n",
       "      <td>37.304177</td>\n",
       "      <td>25.117309</td>\n",
       "      <td>15</td>\n",
       "      <td>2.144624</td>\n",
       "      <td>1</td>\n",
       "    </tr>\n",
       "    <tr>\n",
       "      <th>SS-B307</th>\n",
       "      <td>SS-B307</td>\n",
       "      <td>7-120</td>\n",
       "      <td>3015.0</td>\n",
       "      <td>831.0</td>\n",
       "      <td>2065.5</td>\n",
       "      <td>61.958189</td>\n",
       "      <td>32.512533</td>\n",
       "      <td>26.994920</td>\n",
       "      <td>15</td>\n",
       "      <td>3.635013</td>\n",
       "      <td>1</td>\n",
       "    </tr>\n",
       "    <tr>\n",
       "      <th>SS-B310</th>\n",
       "      <td>SS-B310</td>\n",
       "      <td>7-120</td>\n",
       "      <td>6371.0</td>\n",
       "      <td>2168.0</td>\n",
       "      <td>3964.5</td>\n",
       "      <td>90.064104</td>\n",
       "      <td>52.517844</td>\n",
       "      <td>34.967517</td>\n",
       "      <td>15</td>\n",
       "      <td>-5.550718</td>\n",
       "      <td>0</td>\n",
       "    </tr>\n",
       "    <tr>\n",
       "      <th>SS-B311</th>\n",
       "      <td>SS-B311</td>\n",
       "      <td>7-150</td>\n",
       "      <td>3293.5</td>\n",
       "      <td>1023.5</td>\n",
       "      <td>2096.5</td>\n",
       "      <td>64.756295</td>\n",
       "      <td>36.099316</td>\n",
       "      <td>26.319158</td>\n",
       "      <td>15</td>\n",
       "      <td>1.251042</td>\n",
       "      <td>1</td>\n",
       "    </tr>\n",
       "    <tr>\n",
       "      <th>SS-B312</th>\n",
       "      <td>SS-B312</td>\n",
       "      <td>11-22</td>\n",
       "      <td>7008.5</td>\n",
       "      <td>1610.0</td>\n",
       "      <td>5398.5</td>\n",
       "      <td>94.452263</td>\n",
       "      <td>45.269625</td>\n",
       "      <td>47.179251</td>\n",
       "      <td>15</td>\n",
       "      <td>3.982097</td>\n",
       "      <td>0</td>\n",
       "    </tr>\n",
       "  </tbody>\n",
       "</table>\n",
       "</div>"
      ],
      "text/plain": [
       "          Sample   Date  Cell_and_Capsule    Cell  Capsule  \\\n",
       "Sample                                                       \n",
       "SS-A837  SS-A837  7-120            2954.0  1093.0   1935.5   \n",
       "SS-B307  SS-B307  7-120            3015.0   831.0   2065.5   \n",
       "SS-B310  SS-B310  7-120            6371.0  2168.0   3964.5   \n",
       "SS-B311  SS-B311  7-150            3293.5  1023.5   2096.5   \n",
       "SS-B312  SS-B312  11-22            7008.5  1610.0   5398.5   \n",
       "\n",
       "         Cell_and_Capsule_diameter  Cell_diameter  Capsule_diameter  Circles  \\\n",
       "Sample                                                                         \n",
       "SS-A837                  61.323907      37.304177         25.117309       15   \n",
       "SS-B307                  61.958189      32.512533         26.994920       15   \n",
       "SS-B310                  90.064104      52.517844         34.967517       15   \n",
       "SS-B311                  64.756295      36.099316         26.319158       15   \n",
       "SS-B312                  94.452263      45.269625         47.179251       15   \n",
       "\n",
       "         Residual QTL  \n",
       "Sample                 \n",
       "SS-A837  2.144624   1  \n",
       "SS-B307  3.635013   1  \n",
       "SS-B310 -5.550718   0  \n",
       "SS-B311  1.251042   1  \n",
       "SS-B312  3.982097   0  "
      ]
     },
     "execution_count": 113,
     "metadata": {},
     "output_type": "execute_result"
    }
   ],
   "source": [
    "dgg.head()"
   ]
  },
  {
   "cell_type": "code",
   "execution_count": 141,
   "metadata": {},
   "outputs": [
    {
     "data": {
      "text/plain": [
       "354579.0"
      ]
     },
     "execution_count": 141,
     "metadata": {},
     "output_type": "execute_result"
    }
   ],
   "source": [
    "ci95_res[0]"
   ]
  },
  {
   "cell_type": "code",
   "execution_count": 124,
   "metadata": {},
   "outputs": [
    {
     "data": {
      "text/plain": [
       "array([0.        , 0.00491242, 0.0212766 , 0.01189648, 0.01398788,\n",
       "       0.0440447 , 0.00331577, 0.00912535, 0.02053639, 0.05003091,\n",
       "       0.08102179, 0.07964014, 0.09858234, 0.09858234, 0.08390609,\n",
       "       0.07282688, 0.07282688, 0.09577498, 0.08899535, 0.13561493,\n",
       "       0.16435075, 0.21806795, 0.21806795, 0.20380776, 0.26059321,\n",
       "       0.26091444, 0.26091444, 0.23476056, 0.28560062, 0.34526418,\n",
       "       0.3525481 , 0.34951303, 0.34058623, 0.48225681, 0.49593655,\n",
       "       0.54939184, 0.57057759, 0.62142371, 0.65517609, 0.67046462,\n",
       "       0.67046462, 0.54685775, 0.74793552, 0.74793552, 0.73698363,\n",
       "       0.73698363, 0.7726863 , 0.7464142 , 0.69872543, 0.75476427,\n",
       "       0.90118669, 0.99440018, 0.86110412, 0.97605779, 0.99526388,\n",
       "       0.90051901, 0.93877577, 0.85299003, 0.85299003, 0.77394302,\n",
       "       0.93953854, 0.85489517, 0.93280545, 1.        , 1.        ,\n",
       "       0.98358221, 0.98358221, 0.84059669, 0.84059669, 0.82484748,\n",
       "       0.82484748, 0.6878059 , 0.63365227, 0.56616515, 0.62909923,\n",
       "       0.52784731, 0.48277619, 0.48277619, 0.55926686, 0.4399469 ,\n",
       "       0.35398735, 0.33504924, 0.42155756, 0.46420298, 0.20382607,\n",
       "       0.22976764, 0.20381214, 0.16979692, 0.17542077, 0.1843803 ,\n",
       "       0.17701121, 0.17494656, 0.22443565, 0.28415806, 0.35275575,\n",
       "       0.44567885, 0.47763522, 0.45858863, 0.46139519, 0.32536198,\n",
       "       0.40465815, 0.26065524, 0.26065524, 0.27548234, 0.1275162 ,\n",
       "       0.20191952, 0.19578523, 0.20855406, 0.1329944 , 0.18197752,\n",
       "       0.21534723, 0.19100592, 0.26295404, 0.24605812, 0.32489169,\n",
       "       0.36288058, 0.31687368, 0.29824988, 0.23881799, 0.2016809 ,\n",
       "       0.15039613, 0.26871236, 0.18738973, 0.18738973, 0.20719205,\n",
       "       0.20719205, 0.12334586, 0.10425667, 0.09173131, 0.08842147,\n",
       "       0.11711403])"
      ]
     },
     "execution_count": 124,
     "metadata": {},
     "output_type": "execute_result"
    }
   ],
   "source": [
    "myminmax(ch14p.Residual.values)"
   ]
  },
  {
   "cell_type": "code",
   "execution_count": 197,
   "metadata": {},
   "outputs": [
    {
     "data": {
      "text/plain": [
       "(104, 12)"
      ]
     },
     "execution_count": 197,
     "metadata": {},
     "output_type": "execute_result"
    }
   ],
   "source": [
    "dgg.shape"
   ]
  },
  {
   "cell_type": "code",
   "execution_count": 202,
   "metadata": {},
   "outputs": [
    {
     "data": {
      "image/png": "[encoded data removed]",
      "text/plain": [
       "<Figure size 432x288 with 1 Axes>"
      ]
     },
     "metadata": {
      "needs_background": "light"
     },
     "output_type": "display_data"
    }
   ],
   "source": [
    "sns.swarmplot(x='QTL',y='Residual',data=dgg);"
   ]
  },
  {
   "cell_type": "code",
   "execution_count": 201,
   "metadata": {},
   "outputs": [
    {
     "data": {
      "image/png": "[encoded data removed]",
      "text/plain": [
       "<Figure size 432x288 with 1 Axes>"
      ]
     },
     "metadata": {
      "needs_background": "light"
     },
     "output_type": "display_data"
    }
   ],
   "source": [
    "dgg.groupby('QTL').Residual.hist(alpha=0.5);"
   ]
  },
  {
   "cell_type": "code",
   "execution_count": 198,
   "metadata": {},
   "outputs": [],
   "source": [
    "dgg.to_csv('/Users/croth/Desktop/CRYPTO_QTL/FILES/Capsule_Phenotypes.csv',index=True)"
   ]
  },
  {
   "cell_type": "code",
   "execution_count": null,
   "metadata": {},
   "outputs": [],
   "source": [
    "pval_df.head()"
   ]
  },
  {
   "cell_type": "code",
   "execution_count": null,
   "metadata": {},
   "outputs": [],
   "source": [
    "pval_df[['Chrom','Pos','Residual']\n",
    "       ].to_csv('/Users/croth/Desktop/CRYPTO_QTL/FILES/Capsule_Pval.csv',\n",
    "               index=True)"
   ]
  },
  {
   "cell_type": "code",
   "execution_count": null,
   "metadata": {},
   "outputs": [],
   "source": [
    "dgg['Mito'] = [float(a) for a in median_mito[dgg.index].T.values]\n",
    "dgg['QTL'] = dgg['QTL'].apply(float)"
   ]
  },
  {
   "cell_type": "code",
   "execution_count": null,
   "metadata": {},
   "outputs": [],
   "source": [
    "dgg.head()"
   ]
  },
  {
   "cell_type": "code",
   "execution_count": null,
   "metadata": {},
   "outputs": [],
   "source": [
    "sns.lmplot(x='QTL',y='Residual',hue='Mito',data=dgg)"
   ]
  },
  {
   "cell_type": "code",
   "execution_count": null,
   "metadata": {},
   "outputs": [],
   "source": [
    "median_mito.to_csv('../../FILES/Cdx-mitochondiral-median.csv')"
   ]
  },
  {
   "cell_type": "code",
   "execution_count": null,
   "metadata": {},
   "outputs": [],
   "source": []
  },
  {
   "cell_type": "code",
   "execution_count": null,
   "metadata": {},
   "outputs": [],
   "source": [
    "residual_threshold"
   ]
  },
  {
   "cell_type": "code",
   "execution_count": null,
   "metadata": {},
   "outputs": [],
   "source": [
    "ssa837[y].values"
   ]
  },
  {
   "cell_type": "code",
   "execution_count": null,
   "metadata": {},
   "outputs": [],
   "source": [
    "MelQTL.index = MelQTL.strain"
   ]
  },
  {
   "cell_type": "code",
   "execution_count": null,
   "metadata": {},
   "outputs": [],
   "source": [
    "MelQTL.head()"
   ]
  },
  {
   "cell_type": "code",
   "execution_count": null,
   "metadata": {},
   "outputs": [],
   "source": [
    "dgg['Mel'] = MelQTL.T[dgg.index].T['MC']"
   ]
  },
  {
   "cell_type": "code",
   "execution_count": null,
   "metadata": {},
   "outputs": [],
   "source": [
    "plt.plot(np.argsort(dgg.Mel.values),np.argsort(dgg.Residual.values),'.');"
   ]
  },
  {
   "cell_type": "code",
   "execution_count": null,
   "metadata": {},
   "outputs": [],
   "source": [
    "plt.plot(dgg[(dgg.QTL==0)].Residual,dgg[(dgg.QTL==0)].Mel,'o',color='tab:blue')\n",
    "plt.plot(dgg[(dgg.QTL==1)].Residual,dgg[(dgg.QTL==1)].Mel,'o',color='tab:orange');"
   ]
  },
  {
   "cell_type": "code",
   "execution_count": null,
   "metadata": {},
   "outputs": [],
   "source": []
  },
  {
   "cell_type": "code",
   "execution_count": null,
   "metadata": {},
   "outputs": [],
   "source": []
  },
  {
   "cell_type": "code",
   "execution_count": null,
   "metadata": {},
   "outputs": [],
   "source": [
    "pval_df[(pval_df.Chrom=='Chr14') & (pval_df.Residual>=residual_threshold) & \n",
    "        (pval_df.Pos>=ci95_res[0]) & (pval_df.Pos<=ci95_res[1])].shape"
   ]
  },
  {
   "cell_type": "code",
   "execution_count": null,
   "metadata": {},
   "outputs": [],
   "source": [
    "minpos = pval_df[(pval_df.Chrom=='Chr14') & (pval_df.Residual>=residual_threshold)].Pos.min()\n",
    "minpos"
   ]
  },
  {
   "cell_type": "code",
   "execution_count": null,
   "metadata": {},
   "outputs": [],
   "source": [
    "maxpos = pval_df[(pval_df.Chrom=='Chr14') & (pval_df.Residual>=residual_threshold)].Pos.max()\n",
    "maxpos"
   ]
  },
  {
   "cell_type": "code",
   "execution_count": null,
   "metadata": {},
   "outputs": [],
   "source": [
    "left_pos = gv[(gv.Block==gv[(gv.Chrom=='Chr14') & (gv.Pos==minpos)].Block.min())].Pos.min()"
   ]
  },
  {
   "cell_type": "code",
   "execution_count": null,
   "metadata": {},
   "outputs": [],
   "source": [
    "right_pos = gv[(gv.Block==gv[(gv.Chrom=='Chr14') & (gv.Pos==maxpos)].Block.min())].Pos.max()"
   ]
  },
  {
   "cell_type": "code",
   "execution_count": null,
   "metadata": {},
   "outputs": [],
   "source": [
    "chr14_genes = gff[(gff.contig=='Chr14') & (gff.end > left_pos) & (gff.start < right_pos) & (gff.type=='gene')]"
   ]
  },
  {
   "cell_type": "code",
   "execution_count": null,
   "metadata": {},
   "outputs": [],
   "source": [
    "chr14_genes.head()"
   ]
  },
  {
   "cell_type": "code",
   "execution_count": null,
   "metadata": {},
   "outputs": [],
   "source": [
    "chr14_genes.shape"
   ]
  },
  {
   "cell_type": "code",
   "execution_count": null,
   "metadata": {},
   "outputs": [],
   "source": [
    "genes = pd.read_csv('../../FILES/XL280_431_gene_analysis.csv.gz')"
   ]
  },
  {
   "cell_type": "code",
   "execution_count": null,
   "metadata": {},
   "outputs": [],
   "source": [
    "ch14_gene_info = chr14_genes.merge(genes[(genes.chrom=='Chr14')])"
   ]
  },
  {
   "cell_type": "code",
   "execution_count": null,
   "metadata": {},
   "outputs": [],
   "source": [
    "chr14_genes[~(chr14_genes.gene.isin(ch14_gene_info.gene))]"
   ]
  },
  {
   "cell_type": "code",
   "execution_count": null,
   "metadata": {},
   "outputs": [],
   "source": [
    "ch14_gene_info[(ch14_gene_info.missense!=0)][['gene','start','end','strand','phase',\n",
    "                'attribute','description','nonsense','missense'\n",
    "                                ]].to_csv('../../FILES/Chr14_genes_with_changes.csv')"
   ]
  },
  {
   "cell_type": "code",
   "execution_count": null,
   "metadata": {},
   "outputs": [],
   "source": [
    "#dggp.reset_index(inplace=True)"
   ]
  },
  {
   "cell_type": "code",
   "execution_count": null,
   "metadata": {},
   "outputs": [],
   "source": [
    "chr14_df = dggp.copy()\n",
    "chr14_df.columns = ['strain'] + chr14_df.columns[1:].tolist()"
   ]
  },
  {
   "cell_type": "code",
   "execution_count": null,
   "metadata": {},
   "outputs": [],
   "source": [
    "melvr = MelQTL.merge(chr14_df)"
   ]
  },
  {
   "cell_type": "code",
   "execution_count": null,
   "metadata": {},
   "outputs": [],
   "source": [
    "melvr.head()"
   ]
  },
  {
   "cell_type": "code",
   "execution_count": null,
   "metadata": {},
   "outputs": [],
   "source": [
    "melvr[(melvr.strain=='SS-A837')]"
   ]
  },
  {
   "cell_type": "code",
   "execution_count": null,
   "metadata": {},
   "outputs": [],
   "source": [
    "melvr.to_csv('../../FILES/Cdx_capsule_data.csv')"
   ]
  },
  {
   "cell_type": "code",
   "execution_count": null,
   "metadata": {},
   "outputs": [],
   "source": [
    "plt.hist(melvr[(melvr.QTL==0)].Cell,\n",
    "         color='tab:blue',alpha=0.7,label='XL280');\n",
    "plt.hist(melvr[(melvr.QTL==1)].Cell,\n",
    "         color='tab:orange',alpha=0.7,label='431');\n",
    "plt.ylabel('Number of Segregants');plt.xlabel('Capsule (Full) Diameter')\n",
    "plt.vlines(melvr[(melvr.strain=='SS-A837')].Cell,0,8,\n",
    "           color='tab:orange');\n",
    "plt.vlines(melvr[(melvr.strain.isin(['XL280a','XL280alpha']))].Cell,0,8,\n",
    "           color='tab:blue',linestyles=['-','--']);"
   ]
  },
  {
   "cell_type": "code",
   "execution_count": null,
   "metadata": {},
   "outputs": [],
   "source": [
    "plt.hist(melvr[(melvr.QTL==0)].Capsule_diameter,\n",
    "         color='tab:blue',alpha=0.7,label='XL280');\n",
    "plt.hist(melvr[(melvr.QTL==1)].Capsule_diameter,\n",
    "         color='tab:orange',alpha=0.7,label='431');\n",
    "plt.ylabel('Number of Segregants');plt.xlabel('Capsule (Full) Diameter')\n",
    "plt.vlines(melvr[(melvr.strain=='SS-A837')].Capsule_diameter,0,8,\n",
    "           color='tab:orange');\n",
    "plt.vlines(melvr[(melvr.strain.isin(['XL280a','XL280alpha']))].Capsule_diameter,0,8,\n",
    "           color='tab:blue',linestyles=['-','--']);"
   ]
  },
  {
   "cell_type": "code",
   "execution_count": null,
   "metadata": {},
   "outputs": [],
   "source": [
    "plt.hist(melvr[(melvr.QTL==0)].Residual,\n",
    "         color='tab:blue',alpha=0.7,label='XL280');\n",
    "plt.hist(melvr[(melvr.QTL==1)].Residual,\n",
    "         color='tab:orange',alpha=0.7,label='431');\n",
    "plt.ylabel('Number of Segregants');plt.xlabel('Residuals')\n",
    "plt.vlines(melvr[(melvr.strain=='SS-A837')].Residual,0,8,\n",
    "           color='tab:orange');\n",
    "plt.vlines(melvr[(melvr.strain.isin(['XL280a','XL280alpha']))].Residual,0,8,\n",
    "           color='tab:blue',linestyles=['-','--']);"
   ]
  },
  {
   "cell_type": "code",
   "execution_count": null,
   "metadata": {},
   "outputs": [],
   "source": [
    "plt.hist(melvr[(melvr.QTL==0)].Cell_Residual,\n",
    "         color='tab:blue',alpha=0.7,label='XL280');\n",
    "plt.hist(melvr[(melvr.QTL==1)].Cell_Residual,\n",
    "         color='tab:orange',alpha=0.7,label='431');\n",
    "plt.ylabel('Number of Segregants');plt.xlabel('Residuals')\n",
    "plt.vlines(melvr[(melvr.strain=='SS-A837')].Cell_Residual,0,8,\n",
    "           color='tab:orange');\n",
    "plt.vlines(melvr[(melvr.strain.isin(['XL280a','XL280alpha']))].Cell_Residual,0,8,\n",
    "           color='tab:blue',linestyles=['-','--']);"
   ]
  },
  {
   "cell_type": "code",
   "execution_count": null,
   "metadata": {},
   "outputs": [],
   "source": [
    "plt.plot(melvr[(melvr.QTL==0)].Residual,\n",
    "         melvr[(melvr.QTL==0)].MC,\n",
    "         'o',color='tab:blue',alpha=0.7,label='XL280');\n",
    "plt.plot(melvr[(melvr.QTL==1)].Residual,\n",
    "         melvr[(melvr.QTL==1)].MC,\n",
    "         'o',color='tab:orange',alpha=0.7,label='431');\n",
    "plt.legend();\n",
    "plt.ylabel('Mean Intensity\\n');\n",
    "plt.xlabel('Residuals (Annulus Diameter ~ Capsule Diameter)');"
   ]
  },
  {
   "cell_type": "code",
   "execution_count": null,
   "metadata": {},
   "outputs": [],
   "source": [
    "fig,ax = plt.subplots(2,1,figsize=(5,7),sharex=True,sharey=True)\n",
    "plt.sca(ax[0])\n",
    "y1 = 'Capsule_diameter'\n",
    "x = 'Cell_and_Capsule_diameter'\n",
    "sns.regplot(x=x,y=y1,\n",
    "           data=melvr,order=1,\n",
    "           line_kws={'color':'red','alpha':.5}, \n",
    "           scatter_kws={'color':'k','alpha':0.5});\n",
    "plt.xlabel(' ')\n",
    "plt.ylabel('Diameter of Capsule',fontsize=14)\n",
    "\n",
    "plt.sca(ax[1])\n",
    "y2 = 'Cell_diameter'\n",
    "sns.regplot(x=x,y=y2,\n",
    "           data=dgg,order=1,\n",
    "           line_kws={'color':'red','alpha':.5}, \n",
    "           scatter_kws={'color':'k','alpha':0.5});\n",
    "plt.subplots_adjust(hspace=0.1)\n",
    "plt.xlabel('Diameter of Cell and Capsule',fontsize=14)\n",
    "plt.ylabel('Diameter of Cell',fontsize=14);\n",
    "axes = fig.add_axes([1.1,0.3,0.6,0.4])\n",
    "plt.sca(axes)\n",
    "#plt.plot(dggp.Cell_Residual,dggp.Residual,'r.');\n",
    "_431res = melvr[(melvr.QTL==1)]\n",
    "_xlres = melvr[(melvr.QTL==0)]\n",
    "plt.plot(_431res.Cell_Residual,_431res.Residual,\n",
    "         'o',color='tab:orange',alpha=0.5)\n",
    "plt.plot(_xlres.Cell_Residual,_xlres.Residual,\n",
    "         'o',color='tab:blue',alpha=0.5);\n",
    "plt.title('Residuals',fontsize=14)\n",
    "plt.xlabel('Diameter of Cell',fontsize=14);\n",
    "plt.ylabel('Diameter of Capsule',fontsize=14);\n",
    "plt.savefig('../../FIGURES/Cdx_Cell_Capsual_Regression.png',\n",
    "            dpi=100,bbox_inches='tight');"
   ]
  },
  {
   "cell_type": "code",
   "execution_count": null,
   "metadata": {},
   "outputs": [],
   "source": []
  }
 ],
 "metadata": {
  "kernelspec": {
   "display_name": "Python 3",
   "language": "python",
   "name": "python3"
  },
  "language_info": {
   "codemirror_mode": {
    "name": "ipython",
    "version": 3
   },
   "file_extension": ".py",
   "mimetype": "text/x-python",
   "name": "python",
   "nbconvert_exporter": "python",
   "pygments_lexer": "ipython3",
   "version": "3.7.3"
  }
 },
 "nbformat": 4,
 "nbformat_minor": 2
}
