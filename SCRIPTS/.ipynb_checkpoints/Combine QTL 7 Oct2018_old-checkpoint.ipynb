{
 "cells": [
  {
   "cell_type": "code",
   "execution_count": 1,
   "metadata": {},
   "outputs": [],
   "source": [
    "## Set date of phenotype data to use\n",
    "filedate = 'Dec172018'"
   ]
  },
  {
   "cell_type": "code",
   "execution_count": 2,
   "metadata": {},
   "outputs": [],
   "source": [
    "## Bring in needed mods\n",
    "import pandas as pd, numpy as np, EmpiricalBrownsMethod as ebm"
   ]
  },
  {
   "cell_type": "code",
   "execution_count": 7,
   "metadata": {},
   "outputs": [],
   "source": [
    "## set path to file, should end in the words, \n",
    "## \"curation_baselined_median21_AUC_Xstrain_pvalues.csv'\n",
    "file_path = '../FILES/Tecan_qtlruns_%s_curated_baselined_median51_AUC_Xstrain_pvalues.csv'%(\n",
    "    filedate)"
   ]
  },
  {
   "cell_type": "code",
   "execution_count": 8,
   "metadata": {},
   "outputs": [],
   "source": [
    "## set path to phenotype data, should end with the words, \n",
    "## \"curation_baselined_median21_AUC_Xstrain.csv'\n",
    "data_path = '../FILES/Tecan_qtlruns_%s_curated_baselined_median51_AUC_Xstrain_noclone.csv'%(\n",
    "    filedate)"
   ]
  },
  {
   "cell_type": "code",
   "execution_count": 9,
   "metadata": {},
   "outputs": [],
   "source": [
    "## write ftn for transforming pvalues back to pvalues \n",
    "def back_to_pval(pvals):\n",
    "    return 10**(-pvals)"
   ]
  },
  {
   "cell_type": "code",
   "execution_count": 10,
   "metadata": {},
   "outputs": [],
   "source": [
    "## Bring in pvalue data\n",
    "pvaldf = pd.read_csv(file_path,index_col=0)"
   ]
  },
  {
   "cell_type": "code",
   "execution_count": 11,
   "metadata": {},
   "outputs": [
    {
     "data": {
      "text/plain": [
       "(2777, 22)"
      ]
     },
     "execution_count": 11,
     "metadata": {},
     "output_type": "execute_result"
    }
   ],
   "source": [
    "## check shape of df\n",
    "pvaldf.shape"
   ]
  },
  {
   "cell_type": "code",
   "execution_count": 12,
   "metadata": {},
   "outputs": [
    {
     "data": {
      "text/html": [
       "<div>\n",
       "<style scoped>\n",
       "    .dataframe tbody tr th:only-of-type {\n",
       "        vertical-align: middle;\n",
       "    }\n",
       "\n",
       "    .dataframe tbody tr th {\n",
       "        vertical-align: top;\n",
       "    }\n",
       "\n",
       "    .dataframe thead th {\n",
       "        text-align: right;\n",
       "    }\n",
       "</style>\n",
       "<table border=\"1\" class=\"dataframe\">\n",
       "  <thead>\n",
       "    <tr style=\"text-align: right;\">\n",
       "      <th></th>\n",
       "      <th>Oldix</th>\n",
       "      <th>Vcfix_v</th>\n",
       "      <th>Pos_v</th>\n",
       "      <th>Cumpos_v</th>\n",
       "      <th>Vcfix_w</th>\n",
       "      <th>Pos_w</th>\n",
       "      <th>Cum_pos_w</th>\n",
       "      <th>AF</th>\n",
       "      <th>is_ref</th>\n",
       "      <th>Chrom</th>\n",
       "      <th>...</th>\n",
       "      <th>30C_0.125</th>\n",
       "      <th>30C_0.175</th>\n",
       "      <th>37C_0.0</th>\n",
       "      <th>37C_0.075</th>\n",
       "      <th>37C_0.125</th>\n",
       "      <th>37C_0.175</th>\n",
       "      <th>38C_0.0</th>\n",
       "      <th>39C_0.0</th>\n",
       "      <th>39C_0.075</th>\n",
       "      <th>39C_0.125</th>\n",
       "    </tr>\n",
       "  </thead>\n",
       "  <tbody>\n",
       "    <tr>\n",
       "      <th>0</th>\n",
       "      <td>289</td>\n",
       "      <td>289</td>\n",
       "      <td>5016</td>\n",
       "      <td>5016</td>\n",
       "      <td>1396</td>\n",
       "      <td>35290</td>\n",
       "      <td>35290</td>\n",
       "      <td>0.442308</td>\n",
       "      <td>0</td>\n",
       "      <td>Chr01</td>\n",
       "      <td>...</td>\n",
       "      <td>0.928990</td>\n",
       "      <td>0.655625</td>\n",
       "      <td>0.170498</td>\n",
       "      <td>0.081444</td>\n",
       "      <td>0.516895</td>\n",
       "      <td>0.060467</td>\n",
       "      <td>0.473662</td>\n",
       "      <td>0.078778</td>\n",
       "      <td>0.411585</td>\n",
       "      <td>0.095533</td>\n",
       "    </tr>\n",
       "    <tr>\n",
       "      <th>1</th>\n",
       "      <td>1398</td>\n",
       "      <td>1398</td>\n",
       "      <td>35512</td>\n",
       "      <td>35512</td>\n",
       "      <td>1426</td>\n",
       "      <td>36280</td>\n",
       "      <td>36280</td>\n",
       "      <td>0.432692</td>\n",
       "      <td>0</td>\n",
       "      <td>Chr01</td>\n",
       "      <td>...</td>\n",
       "      <td>1.346480</td>\n",
       "      <td>1.175954</td>\n",
       "      <td>0.024533</td>\n",
       "      <td>0.036685</td>\n",
       "      <td>0.402824</td>\n",
       "      <td>0.017388</td>\n",
       "      <td>0.626505</td>\n",
       "      <td>0.107700</td>\n",
       "      <td>0.406838</td>\n",
       "      <td>0.116869</td>\n",
       "    </tr>\n",
       "    <tr>\n",
       "      <th>2</th>\n",
       "      <td>1429</td>\n",
       "      <td>1429</td>\n",
       "      <td>36364</td>\n",
       "      <td>36364</td>\n",
       "      <td>1432</td>\n",
       "      <td>36427</td>\n",
       "      <td>36427</td>\n",
       "      <td>0.471154</td>\n",
       "      <td>0</td>\n",
       "      <td>Chr01</td>\n",
       "      <td>...</td>\n",
       "      <td>1.278148</td>\n",
       "      <td>1.169051</td>\n",
       "      <td>0.258632</td>\n",
       "      <td>0.225041</td>\n",
       "      <td>0.722480</td>\n",
       "      <td>0.174109</td>\n",
       "      <td>1.040709</td>\n",
       "      <td>0.221757</td>\n",
       "      <td>0.493944</td>\n",
       "      <td>0.113073</td>\n",
       "    </tr>\n",
       "    <tr>\n",
       "      <th>3</th>\n",
       "      <td>1438</td>\n",
       "      <td>1438</td>\n",
       "      <td>36573</td>\n",
       "      <td>36573</td>\n",
       "      <td>1440</td>\n",
       "      <td>36618</td>\n",
       "      <td>36618</td>\n",
       "      <td>0.451923</td>\n",
       "      <td>0</td>\n",
       "      <td>Chr01</td>\n",
       "      <td>...</td>\n",
       "      <td>1.597138</td>\n",
       "      <td>1.364218</td>\n",
       "      <td>0.372991</td>\n",
       "      <td>0.249305</td>\n",
       "      <td>0.756145</td>\n",
       "      <td>0.153419</td>\n",
       "      <td>1.317119</td>\n",
       "      <td>0.249305</td>\n",
       "      <td>0.495899</td>\n",
       "      <td>0.139460</td>\n",
       "    </tr>\n",
       "    <tr>\n",
       "      <th>4</th>\n",
       "      <td>1447</td>\n",
       "      <td>1447</td>\n",
       "      <td>36769</td>\n",
       "      <td>36769</td>\n",
       "      <td>1457</td>\n",
       "      <td>36882</td>\n",
       "      <td>36882</td>\n",
       "      <td>0.461538</td>\n",
       "      <td>0</td>\n",
       "      <td>Chr01</td>\n",
       "      <td>...</td>\n",
       "      <td>1.509965</td>\n",
       "      <td>1.337120</td>\n",
       "      <td>0.509959</td>\n",
       "      <td>0.479816</td>\n",
       "      <td>0.879405</td>\n",
       "      <td>0.243728</td>\n",
       "      <td>1.581987</td>\n",
       "      <td>0.446249</td>\n",
       "      <td>0.642629</td>\n",
       "      <td>0.276460</td>\n",
       "    </tr>\n",
       "  </tbody>\n",
       "</table>\n",
       "<p>5 rows × 22 columns</p>\n",
       "</div>"
      ],
      "text/plain": [
       "   Oldix  Vcfix_v  Pos_v  Cumpos_v  Vcfix_w  Pos_w  Cum_pos_w        AF  \\\n",
       "0    289      289   5016      5016     1396  35290      35290  0.442308   \n",
       "1   1398     1398  35512     35512     1426  36280      36280  0.432692   \n",
       "2   1429     1429  36364     36364     1432  36427      36427  0.471154   \n",
       "3   1438     1438  36573     36573     1440  36618      36618  0.451923   \n",
       "4   1447     1447  36769     36769     1457  36882      36882  0.461538   \n",
       "\n",
       "   is_ref  Chrom    ...      30C_0.125  30C_0.175   37C_0.0  37C_0.075  \\\n",
       "0       0  Chr01    ...       0.928990   0.655625  0.170498   0.081444   \n",
       "1       0  Chr01    ...       1.346480   1.175954  0.024533   0.036685   \n",
       "2       0  Chr01    ...       1.278148   1.169051  0.258632   0.225041   \n",
       "3       0  Chr01    ...       1.597138   1.364218  0.372991   0.249305   \n",
       "4       0  Chr01    ...       1.509965   1.337120  0.509959   0.479816   \n",
       "\n",
       "   37C_0.125  37C_0.175   38C_0.0   39C_0.0  39C_0.075  39C_0.125  \n",
       "0   0.516895   0.060467  0.473662  0.078778   0.411585   0.095533  \n",
       "1   0.402824   0.017388  0.626505  0.107700   0.406838   0.116869  \n",
       "2   0.722480   0.174109  1.040709  0.221757   0.493944   0.113073  \n",
       "3   0.756145   0.153419  1.317119  0.249305   0.495899   0.139460  \n",
       "4   0.879405   0.243728  1.581987  0.446249   0.642629   0.276460  \n",
       "\n",
       "[5 rows x 22 columns]"
      ]
     },
     "execution_count": 12,
     "metadata": {},
     "output_type": "execute_result"
    }
   ],
   "source": [
    "## Examin the 5 rows, check order of phenotype/experiments\n",
    "pvaldf.head()"
   ]
  },
  {
   "cell_type": "code",
   "execution_count": 13,
   "metadata": {},
   "outputs": [],
   "source": [
    "## Bring in phenotype data\n",
    "phenodf = pd.read_csv(data_path,index_col=0)"
   ]
  },
  {
   "cell_type": "code",
   "execution_count": 14,
   "metadata": {},
   "outputs": [],
   "source": [
    "## Sort by strain\n",
    "phenodf.sort_values(by=['strain','temp','amphB'],inplace=True)"
   ]
  },
  {
   "cell_type": "code",
   "execution_count": 15,
   "metadata": {},
   "outputs": [
    {
     "data": {
      "text/html": [
       "<div>\n",
       "<style scoped>\n",
       "    .dataframe tbody tr th:only-of-type {\n",
       "        vertical-align: middle;\n",
       "    }\n",
       "\n",
       "    .dataframe tbody tr th {\n",
       "        vertical-align: top;\n",
       "    }\n",
       "\n",
       "    .dataframe thead th {\n",
       "        text-align: right;\n",
       "    }\n",
       "</style>\n",
       "<table border=\"1\" class=\"dataframe\">\n",
       "  <thead>\n",
       "    <tr style=\"text-align: right;\">\n",
       "      <th></th>\n",
       "      <th>temp</th>\n",
       "      <th>amphB</th>\n",
       "      <th>median_AUC</th>\n",
       "    </tr>\n",
       "    <tr>\n",
       "      <th>strain</th>\n",
       "      <th></th>\n",
       "      <th></th>\n",
       "      <th></th>\n",
       "    </tr>\n",
       "  </thead>\n",
       "  <tbody>\n",
       "    <tr>\n",
       "      <th>SS-A837</th>\n",
       "      <td>30</td>\n",
       "      <td>0.000</td>\n",
       "      <td>72.846625</td>\n",
       "    </tr>\n",
       "    <tr>\n",
       "      <th>SS-A837</th>\n",
       "      <td>30</td>\n",
       "      <td>0.075</td>\n",
       "      <td>6.396750</td>\n",
       "    </tr>\n",
       "    <tr>\n",
       "      <th>SS-A837</th>\n",
       "      <td>30</td>\n",
       "      <td>0.125</td>\n",
       "      <td>1.581000</td>\n",
       "    </tr>\n",
       "    <tr>\n",
       "      <th>SS-A837</th>\n",
       "      <td>30</td>\n",
       "      <td>0.175</td>\n",
       "      <td>2.054625</td>\n",
       "    </tr>\n",
       "    <tr>\n",
       "      <th>SS-A837</th>\n",
       "      <td>37</td>\n",
       "      <td>0.000</td>\n",
       "      <td>60.492750</td>\n",
       "    </tr>\n",
       "    <tr>\n",
       "      <th>SS-A837</th>\n",
       "      <td>37</td>\n",
       "      <td>0.075</td>\n",
       "      <td>39.584125</td>\n",
       "    </tr>\n",
       "    <tr>\n",
       "      <th>SS-A837</th>\n",
       "      <td>37</td>\n",
       "      <td>0.125</td>\n",
       "      <td>8.383125</td>\n",
       "    </tr>\n",
       "    <tr>\n",
       "      <th>SS-A837</th>\n",
       "      <td>37</td>\n",
       "      <td>0.175</td>\n",
       "      <td>0.471125</td>\n",
       "    </tr>\n",
       "    <tr>\n",
       "      <th>SS-A837</th>\n",
       "      <td>38</td>\n",
       "      <td>0.000</td>\n",
       "      <td>49.261750</td>\n",
       "    </tr>\n",
       "    <tr>\n",
       "      <th>SS-A837</th>\n",
       "      <td>39</td>\n",
       "      <td>0.000</td>\n",
       "      <td>17.089875</td>\n",
       "    </tr>\n",
       "    <tr>\n",
       "      <th>SS-A837</th>\n",
       "      <td>39</td>\n",
       "      <td>0.075</td>\n",
       "      <td>8.721000</td>\n",
       "    </tr>\n",
       "    <tr>\n",
       "      <th>SS-A837</th>\n",
       "      <td>39</td>\n",
       "      <td>0.125</td>\n",
       "      <td>0.736850</td>\n",
       "    </tr>\n",
       "  </tbody>\n",
       "</table>\n",
       "</div>"
      ],
      "text/plain": [
       "         temp  amphB  median_AUC\n",
       "strain                          \n",
       "SS-A837    30  0.000   72.846625\n",
       "SS-A837    30  0.075    6.396750\n",
       "SS-A837    30  0.125    1.581000\n",
       "SS-A837    30  0.175    2.054625\n",
       "SS-A837    37  0.000   60.492750\n",
       "SS-A837    37  0.075   39.584125\n",
       "SS-A837    37  0.125    8.383125\n",
       "SS-A837    37  0.175    0.471125\n",
       "SS-A837    38  0.000   49.261750\n",
       "SS-A837    39  0.000   17.089875\n",
       "SS-A837    39  0.075    8.721000\n",
       "SS-A837    39  0.125    0.736850"
      ]
     },
     "execution_count": 15,
     "metadata": {},
     "output_type": "execute_result"
    }
   ],
   "source": [
    "## Examine SS-A837\n",
    "phenodf.loc['SS-A837']"
   ]
  },
  {
   "cell_type": "code",
   "execution_count": 16,
   "metadata": {},
   "outputs": [],
   "source": [
    "## Group data by temp and druc con\n",
    "AUC =  pd.DataFrame([a[1].sort_values('strain')['median_AUC'].values \n",
    "                      for a \\]\n",
    "                    n phenodf.groupby(['temp','amphB'])]).values"
   ]
  },
  {
   "cell_type": "code",
   "execution_count": 17,
   "metadata": {},
   "outputs": [],
   "source": [
    "## Check length of the phenotypes\n",
    "assert len(AUC) == phenodf[['temp','amphB']].drop_duplicates().shape[0]"
   ]
  },
  {
   "cell_type": "code",
   "execution_count": 18,
   "metadata": {},
   "outputs": [],
   "source": [
    "## Check length of the first phenotype\n",
    "assert len(AUC[0]) == len(phenodf.index.unique())"
   ]
  },
  {
   "cell_type": "code",
   "execution_count": 19,
   "metadata": {},
   "outputs": [],
   "source": [
    "## gather phenotypes\n",
    "phenos = ['C_'.join([str(s) for s in a[0]]) \n",
    "          for a in phenodf.groupby(['temp','amphB'])]"
   ]
  },
  {
   "cell_type": "code",
   "execution_count": 20,
   "metadata": {},
   "outputs": [],
   "source": [
    "## transforme pvalues\n",
    "pval_trans = pvaldf[phenos].apply(back_to_pval)"
   ]
  },
  {
   "cell_type": "code",
   "execution_count": 21,
   "metadata": {},
   "outputs": [
    {
     "data": {
      "text/plain": [
       "(2777, 12)"
      ]
     },
     "execution_count": 21,
     "metadata": {},
     "output_type": "execute_result"
    }
   ],
   "source": [
    "## Check shape\n",
    "pval_trans.shape"
   ]
  },
  {
   "cell_type": "code",
   "execution_count": 22,
   "metadata": {},
   "outputs": [
    {
     "data": {
      "text/html": [
       "<div>\n",
       "<style scoped>\n",
       "    .dataframe tbody tr th:only-of-type {\n",
       "        vertical-align: middle;\n",
       "    }\n",
       "\n",
       "    .dataframe tbody tr th {\n",
       "        vertical-align: top;\n",
       "    }\n",
       "\n",
       "    .dataframe thead th {\n",
       "        text-align: right;\n",
       "    }\n",
       "</style>\n",
       "<table border=\"1\" class=\"dataframe\">\n",
       "  <thead>\n",
       "    <tr style=\"text-align: right;\">\n",
       "      <th></th>\n",
       "      <th>30C_0.0</th>\n",
       "      <th>30C_0.075</th>\n",
       "      <th>30C_0.125</th>\n",
       "      <th>30C_0.175</th>\n",
       "      <th>37C_0.0</th>\n",
       "      <th>37C_0.075</th>\n",
       "      <th>37C_0.125</th>\n",
       "      <th>37C_0.175</th>\n",
       "      <th>38C_0.0</th>\n",
       "      <th>39C_0.0</th>\n",
       "      <th>39C_0.075</th>\n",
       "      <th>39C_0.125</th>\n",
       "    </tr>\n",
       "  </thead>\n",
       "  <tbody>\n",
       "    <tr>\n",
       "      <th>0</th>\n",
       "      <td>0.030284</td>\n",
       "      <td>0.329466</td>\n",
       "      <td>0.117763</td>\n",
       "      <td>0.220991</td>\n",
       "      <td>0.675308</td>\n",
       "      <td>0.829002</td>\n",
       "      <td>0.304162</td>\n",
       "      <td>0.870028</td>\n",
       "      <td>0.335999</td>\n",
       "      <td>0.834107</td>\n",
       "      <td>0.387628</td>\n",
       "      <td>0.802541</td>\n",
       "    </tr>\n",
       "    <tr>\n",
       "      <th>1</th>\n",
       "      <td>0.094969</td>\n",
       "      <td>0.356629</td>\n",
       "      <td>0.045032</td>\n",
       "      <td>0.066688</td>\n",
       "      <td>0.945078</td>\n",
       "      <td>0.919000</td>\n",
       "      <td>0.395527</td>\n",
       "      <td>0.960755</td>\n",
       "      <td>0.236317</td>\n",
       "      <td>0.780369</td>\n",
       "      <td>0.391888</td>\n",
       "      <td>0.764066</td>\n",
       "    </tr>\n",
       "    <tr>\n",
       "      <th>2</th>\n",
       "      <td>0.258545</td>\n",
       "      <td>0.336791</td>\n",
       "      <td>0.052705</td>\n",
       "      <td>0.067756</td>\n",
       "      <td>0.551275</td>\n",
       "      <td>0.595605</td>\n",
       "      <td>0.189461</td>\n",
       "      <td>0.669716</td>\n",
       "      <td>0.091052</td>\n",
       "      <td>0.600126</td>\n",
       "      <td>0.320669</td>\n",
       "      <td>0.770774</td>\n",
       "    </tr>\n",
       "    <tr>\n",
       "      <th>3</th>\n",
       "      <td>0.435092</td>\n",
       "      <td>0.235836</td>\n",
       "      <td>0.025285</td>\n",
       "      <td>0.043230</td>\n",
       "      <td>0.423651</td>\n",
       "      <td>0.563242</td>\n",
       "      <td>0.175330</td>\n",
       "      <td>0.702395</td>\n",
       "      <td>0.048182</td>\n",
       "      <td>0.563242</td>\n",
       "      <td>0.319228</td>\n",
       "      <td>0.725337</td>\n",
       "    </tr>\n",
       "    <tr>\n",
       "      <th>4</th>\n",
       "      <td>0.473216</td>\n",
       "      <td>0.225201</td>\n",
       "      <td>0.030905</td>\n",
       "      <td>0.046013</td>\n",
       "      <td>0.309059</td>\n",
       "      <td>0.331272</td>\n",
       "      <td>0.132006</td>\n",
       "      <td>0.570521</td>\n",
       "      <td>0.026183</td>\n",
       "      <td>0.357891</td>\n",
       "      <td>0.227704</td>\n",
       "      <td>0.529103</td>\n",
       "    </tr>\n",
       "  </tbody>\n",
       "</table>\n",
       "</div>"
      ],
      "text/plain": [
       "    30C_0.0  30C_0.075  30C_0.125  30C_0.175   37C_0.0  37C_0.075  37C_0.125  \\\n",
       "0  0.030284   0.329466   0.117763   0.220991  0.675308   0.829002   0.304162   \n",
       "1  0.094969   0.356629   0.045032   0.066688  0.945078   0.919000   0.395527   \n",
       "2  0.258545   0.336791   0.052705   0.067756  0.551275   0.595605   0.189461   \n",
       "3  0.435092   0.235836   0.025285   0.043230  0.423651   0.563242   0.175330   \n",
       "4  0.473216   0.225201   0.030905   0.046013  0.309059   0.331272   0.132006   \n",
       "\n",
       "   37C_0.175   38C_0.0   39C_0.0  39C_0.075  39C_0.125  \n",
       "0   0.870028  0.335999  0.834107   0.387628   0.802541  \n",
       "1   0.960755  0.236317  0.780369   0.391888   0.764066  \n",
       "2   0.669716  0.091052  0.600126   0.320669   0.770774  \n",
       "3   0.702395  0.048182  0.563242   0.319228   0.725337  \n",
       "4   0.570521  0.026183  0.357891   0.227704   0.529103  "
      ]
     },
     "execution_count": 22,
     "metadata": {},
     "output_type": "execute_result"
    }
   ],
   "source": [
    "## Examine 1st 5 rows. \n",
    "pval_trans.head()"
   ]
  },
  {
   "cell_type": "code",
   "execution_count": 23,
   "metadata": {},
   "outputs": [],
   "source": [
    "## Check work \n",
    "assert pval_trans.shape[1] == len(phenos)"
   ]
  },
  {
   "cell_type": "code",
   "execution_count": 24,
   "metadata": {},
   "outputs": [],
   "source": [
    "## Combine the pvalues via ebm\n",
    "combined_p_ebm = [ebm.EmpiricalBrownsMethod(AUC,pval.values) \n",
    "                  for index, pval in pval_trans.iterrows()]"
   ]
  },
  {
   "cell_type": "code",
   "execution_count": 25,
   "metadata": {},
   "outputs": [],
   "source": [
    "## Append as a new column to pvalue dataframe\n",
    "pvaldf['EBM'] = -np.log10(combined_p_ebm)"
   ]
  },
  {
   "cell_type": "code",
   "execution_count": 26,
   "metadata": {},
   "outputs": [],
   "source": [
    "## Save dataframe\n",
    "pvaldf.to_csv('../FILES/'+file_path.split('/')[\n",
    "    -1].split('.csv')[0]+'_combined.csv')"
   ]
  },
  {
   "cell_type": "code",
   "execution_count": 36,
   "metadata": {},
   "outputs": [
    {
     "data": {
      "text/plain": [
       "'../FILES/Tecan_qtlruns_Dec172018_curated_baselined_median51_AUC_Xstrain_pvalues_combined.csv'"
      ]
     },
     "execution_count": 36,
     "metadata": {},
     "output_type": "execute_result"
    }
   ],
   "source": [
    "'../FILES/'+file_path.split('/')[\n",
    "    -1].split('.csv')[0]+'_combined.csv'"
   ]
  },
  {
   "cell_type": "code",
   "execution_count": 27,
   "metadata": {},
   "outputs": [],
   "source": [
    "## Investigate for PM, \"Why are the pvalues from combined EBM not larger?\"\n",
    "chrom2_cpval =  [ebm.EmpiricalBrownsMethod(AUC,pval.values,extra_info=True) \n",
    "                  for index, pval in \n",
    "                 pval_trans[(pvaldf.Chrom=='Chr02')].iterrows()]"
   ]
  },
  {
   "cell_type": "code",
   "execution_count": 28,
   "metadata": {},
   "outputs": [],
   "source": [
    "## Bring in mod for ploting\n",
    "from matplotlib import pyplot as plt\n",
    "%matplotlib inline"
   ]
  },
  {
   "cell_type": "code",
   "execution_count": 29,
   "metadata": {},
   "outputs": [],
   "source": [
    "## Set color theme\n",
    "plt.style.use(['dark_background',\n",
    "               'tableau-colorblind10'])"
   ]
  },
  {
   "cell_type": "code",
   "execution_count": 30,
   "metadata": {},
   "outputs": [],
   "source": [
    "## Gather chromosome 2 position\n",
    "chr2_pos = pvaldf[(pvaldf.Chrom=='Chr02')]['Pos_v'].values"
   ]
  },
  {
   "cell_type": "code",
   "execution_count": 31,
   "metadata": {},
   "outputs": [],
   "source": [
    "## Get fishers combined pval and log transfrom\n",
    "Fishers_combined_p_chr2 = np.array([-np.log10(cp[1]) for cp in chrom2_cpval])"
   ]
  },
  {
   "cell_type": "code",
   "execution_count": 32,
   "metadata": {},
   "outputs": [],
   "source": [
    "## Get the EBM \" ... \"\n",
    "EBM_combined_p_chr2 = np.array([-np.log10(cp[0]) for cp in chrom2_cpval])"
   ]
  },
  {
   "cell_type": "code",
   "execution_count": 33,
   "metadata": {},
   "outputs": [],
   "source": [
    "## How many bases are in a kilobase?\n",
    "kb = 1000.0"
   ]
  },
  {
   "cell_type": "code",
   "execution_count": 34,
   "metadata": {},
   "outputs": [],
   "source": [
    "## Write path for saving figure\n",
    "figsave = '../FIGURES'+file_path.split('FILES')[\n",
    "    -1].split('.csv')[0]+'_Fisher_vs_EBM.png'"
   ]
  },
  {
   "cell_type": "code",
   "execution_count": 35,
   "metadata": {},
   "outputs": [
    {
     "data": {
      "image/png": "[encoded data removed]",
      "text/plain": [
       "<Figure size 432x288 with 1 Axes>"
      ]
     },
     "metadata": {},
     "output_type": "display_data"
    }
   ],
   "source": [
    "## Plot fishers vs E.B.M. combined p-values\n",
    "plt.plot(chr2_pos/kb, \n",
    "         Fishers_combined_p_chr2,'.',\n",
    "         label='Fishers');\n",
    "plt.plot(chr2_pos/kb,\n",
    "         EBM_combined_p_chr2,'.',\n",
    "         label='Emperical\\nBrowns');\n",
    "leg = plt.legend(loc='upper left');\n",
    "leg.get_frame().set_linewidth(0.0);\n",
    "plt.xlabel('Chromosome 2 Coordinate (kb)',\n",
    "           fontsize =16);\n",
    "plt.ylabel('Combined\\n$-\\log_{10}\\,(p-value)$',\n",
    "           fontsize=16);\n",
    "if figsave is not None:\n",
    "    plt.savefig(figsave,\n",
    "                dpi=100,bbox_inches='tight')"
   ]
  },
  {
   "cell_type": "code",
   "execution_count": null,
   "metadata": {},
   "outputs": [],
   "source": []
  }
 ],
 "metadata": {
  "kernelspec": {
   "display_name": "Python 3",
   "language": "python",
   "name": "python3"
  },
  "language_info": {
   "codemirror_mode": {
    "name": "ipython",
    "version": 3
   },
   "file_extension": ".py",
   "mimetype": "text/x-python",
   "name": "python",
   "nbconvert_exporter": "python",
   "pygments_lexer": "ipython3",
   "version": "3.7.0"
  }
 },
 "nbformat": 4,
 "nbformat_minor": 2
}
