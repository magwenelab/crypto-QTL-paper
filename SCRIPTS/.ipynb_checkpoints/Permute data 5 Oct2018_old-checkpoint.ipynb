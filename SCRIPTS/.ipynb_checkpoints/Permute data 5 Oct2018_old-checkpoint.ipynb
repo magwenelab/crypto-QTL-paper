{
 "cells": [
  {
   "cell_type": "code",
   "execution_count": 1,
   "metadata": {
    "collapsed": true
   },
   "outputs": [],
   "source": [
    "#! /home/croth/anaconda2/bin/python\n",
    "## At what temperatrue and amph B. concentration?\n",
    "T = 30\n",
    "D = 0.000\n",
    "## set permutations\n",
    "perms = 2"
   ]
  },
  {
   "cell_type": "code",
   "execution_count": null,
   "metadata": {
    "collapsed": true
   },
   "outputs": [],
   "source": [
    "## Set date of phenotype data to use\n",
    "filedate = 'Oct152018'"
   ]
  },
  {
   "cell_type": "code",
   "execution_count": 2,
   "metadata": {
    "collapsed": true
   },
   "outputs": [],
   "source": [
    "## set path to phenotype data, should in in the words, \"curation_baselined_median21_AUC_Xstrain.csv'\n",
    "file_path = '../FILES/Tecan_qtlruns_%s_curated_baselined_median21_AUC_Xstrain.csv'%(filedate)\n",
    "## Set file paths\n",
    "genopath = '../FILES/CDx-ill-SNP-df-104-blocked.csv'\n",
    "## Set save path\n",
    "savepathdir = '../FILES/PERMUT/'"
   ]
  },
  {
   "cell_type": "code",
   "execution_count": 3,
   "metadata": {
    "collapsed": true
   },
   "outputs": [],
   "source": [
    "## Set the parameter of interest\n",
    "param = 'median_AUC'"
   ]
  },
  {
   "cell_type": "code",
   "execution_count": 4,
   "metadata": {
    "collapsed": true
   },
   "outputs": [],
   "source": [
    "## Import mods \n",
    "import numpy as np, pandas as pd, os"
   ]
  },
  {
   "cell_type": "code",
   "execution_count": 5,
   "metadata": {
    "collapsed": true
   },
   "outputs": [],
   "source": [
    "## Bring in needed ftn for QTL analysis\n",
    "from scipy.stats import kruskal"
   ]
  },
  {
   "cell_type": "code",
   "execution_count": 6,
   "metadata": {
    "collapsed": true
   },
   "outputs": [],
   "source": [
    "## Write function for QTL analysis\n",
    "def crypto_kruskal(site,pheno):\n",
    "    \"\"\"\n",
    "    For the data from the C. deneoformans cross, a non-parametric ANOVA.\n",
    "    Here we are looking for differences between the median phenotypes of group 0 and 1. \n",
    "    \"\"\"\n",
    "    pheno = pheno.dropna();assert len(pheno) > 0;\n",
    "    site = site[pheno.dropna().index.tolist()];\n",
    "    assert len(site) == len(pheno)\n",
    "    try:\n",
    "        pval = -np.log10(kruskal(np.array(pheno)[np.array(site) == 0],\n",
    "                                        np.array(pheno)[np.array(site) == 1],\n",
    "                                        nan_policy='omit')[1])\n",
    "    except ValueError:\n",
    "        pval = np.nan\n",
    "    return pval"
   ]
  },
  {
   "cell_type": "code",
   "execution_count": 7,
   "metadata": {
    "collapsed": true
   },
   "outputs": [],
   "source": [
    "## Set seed number \n",
    "seed_num = 71191"
   ]
  },
  {
   "cell_type": "code",
   "execution_count": 8,
   "metadata": {
    "collapsed": true
   },
   "outputs": [],
   "source": [
    "## Seed random numbers genorator\n",
    "np.random.seed(seed_num)"
   ]
  },
  {
   "cell_type": "code",
   "execution_count": 9,
   "metadata": {
    "collapsed": true
   },
   "outputs": [],
   "source": [
    "## Check if path exitsts and make it if not. \n",
    "if not os.path.exists(savepathdir):\n",
    "    os.mkdir(savepathdir)"
   ]
  },
  {
   "cell_type": "code",
   "execution_count": 10,
   "metadata": {
    "collapsed": true
   },
   "outputs": [],
   "source": [
    "## Bring in genotype file \n",
    "gdfs = pd.read_csv(genopath,index_col=0)"
   ]
  },
  {
   "cell_type": "code",
   "execution_count": 11,
   "metadata": {
    "collapsed": true
   },
   "outputs": [],
   "source": [
    "## set the column with samples in it. \n",
    "tc = gdfs.columns.tolist().index('Chrom') + 1"
   ]
  },
  {
   "cell_type": "code",
   "execution_count": 12,
   "metadata": {
    "collapsed": true
   },
   "outputs": [],
   "source": [
    "## Bring in phenotype file\n",
    "phenos = pd.read_csv(file_path,index_col=0)"
   ]
  },
  {
   "cell_type": "code",
   "execution_count": 13,
   "metadata": {
    "collapsed": true
   },
   "outputs": [],
   "source": [
    "## Set pheno index\n",
    "phenos.index = phenos['strain']"
   ]
  },
  {
   "cell_type": "code",
   "execution_count": 14,
   "metadata": {
    "collapsed": true
   },
   "outputs": [],
   "source": [
    "## set info columns\n",
    "info_colu = gdfs.T.iloc[:tc].T.columns.tolist()"
   ]
  },
  {
   "cell_type": "code",
   "execution_count": 15,
   "metadata": {
    "collapsed": true
   },
   "outputs": [],
   "source": [
    "## Check work\n",
    "assert len(info_colu) == tc"
   ]
  },
  {
   "cell_type": "code",
   "execution_count": 16,
   "metadata": {
    "collapsed": true
   },
   "outputs": [],
   "source": [
    "## gather samples\n",
    "samples = gdfs.T.iloc[tc:].T.columns.tolist()"
   ]
  },
  {
   "cell_type": "code",
   "execution_count": 17,
   "metadata": {
    "collapsed": true
   },
   "outputs": [],
   "source": [
    "## Rename samples to match our phenotype data\n",
    "bgeno_strains = []\n",
    "for s in samples:\n",
    "    if len(s.split('_Cor')) > 1:\n",
    "        bgeno_strains.append(s.split('_Cor')[0]+'_cor')\n",
    "    elif s in ['SS-A853']:\n",
    "        bgeno_strains.append('XL280alpha')\n",
    "    elif s in ['SS-B830']:\n",
    "        bgeno_strains.append('XL280a')\n",
    "    else:\n",
    "        bgeno_strains.append(s)"
   ]
  },
  {
   "cell_type": "code",
   "execution_count": 18,
   "metadata": {
    "collapsed": true
   },
   "outputs": [],
   "source": [
    "## Check our work\n",
    "assert len(samples) == len(bgeno_strains)"
   ]
  },
  {
   "cell_type": "code",
   "execution_count": 19,
   "metadata": {
    "collapsed": true
   },
   "outputs": [],
   "source": [
    "## rename our samples\n",
    "gdfs.columns = info_colu + bgeno_strains"
   ]
  },
  {
   "cell_type": "code",
   "execution_count": 20,
   "metadata": {
    "collapsed": true
   },
   "outputs": [],
   "source": [
    "## Take the param of interest\n",
    "pheno = phenos[(phenos.temp==T) & (phenos.amphB==D)].loc[bgeno_strains][param]"
   ]
  },
  {
   "cell_type": "code",
   "execution_count": 21,
   "metadata": {
    "collapsed": true
   },
   "outputs": [],
   "source": [
    "## Set strain index\n",
    "strain_ix = pheno.index"
   ]
  },
  {
   "cell_type": "code",
   "execution_count": 22,
   "metadata": {
    "collapsed": true
   },
   "outputs": [],
   "source": [
    "## Conducted permuted qtl analysis\n",
    "perms_dfs = []\n",
    "pheno_dfs = []\n",
    "for ph in range(perms):\n",
    "    ## Shuffle the phenotype data\n",
    "    df = pheno.sample(frac=1).reset_index(drop=True)\n",
    "    df.index = strain_ix\n",
    "    ## Conduct our qtl mapping with the non parametric ANOVA\n",
    "    perm_pval = gdfs.iloc[:,tc:].apply(crypto_kruskal,\n",
    "                                       axis=1,\n",
    "                                       args=[df])\n",
    "    ## Save the data\n",
    "    perms_dfs.append(perm_pval)\n",
    "    pheno_dfs.append(df)"
   ]
  },
  {
   "cell_type": "code",
   "execution_count": 23,
   "metadata": {
    "collapsed": true
   },
   "outputs": [],
   "source": [
    "## concat pvalues dfs\n",
    "permdf = pd.concat([gdfs[info_colu]]+perms_dfs,axis=1)"
   ]
  },
  {
   "cell_type": "code",
   "execution_count": 24,
   "metadata": {
    "collapsed": true
   },
   "outputs": [],
   "source": [
    "## Set new column names\n",
    "permdf.columns = info_colu + [param+'_%sC_%s_p%s'%(T,D,i) for i in range(perms)]"
   ]
  },
  {
   "cell_type": "code",
   "execution_count": 25,
   "metadata": {
    "collapsed": true
   },
   "outputs": [],
   "source": [
    "## save permutation pvalue dataframe\n",
    "permdf.to_csv(savepathdir+file_path.split('/')[-1].split('.csv')[0]+'_%sC_%s_permu.csv.gz'%(\n",
    "    T,D),compression='gzip')"
   ]
  },
  {
   "cell_type": "code",
   "execution_count": 26,
   "metadata": {
    "collapsed": true
   },
   "outputs": [],
   "source": [
    "## concat pheno df\n",
    "phenodf = pd.concat(pheno_dfs,axis=1)"
   ]
  },
  {
   "cell_type": "code",
   "execution_count": 27,
   "metadata": {
    "collapsed": true
   },
   "outputs": [],
   "source": [
    "## Assign column names\n",
    "phenodf.columns = [param+'_%sC_%s_p%s'%(T,D,i) for i in range(perms)]"
   ]
  },
  {
   "cell_type": "code",
   "execution_count": 28,
   "metadata": {
    "collapsed": true
   },
   "outputs": [],
   "source": [
    "## Save dataframe\n",
    "phenodf.to_csv(savepathdir+file_path.split('/')[-1].split('.csv')[0]+'_%sC_%s_pheno.csv.gz'%(\n",
    "    T,D),compression='gzip')"
   ]
  }
 ],
 "metadata": {
  "kernelspec": {
   "display_name": "Python 3",
   "language": "python",
   "name": "python3"
  },
  "language_info": {
   "codemirror_mode": {
    "name": "ipython",
    "version": 3
   },
   "file_extension": ".py",
   "mimetype": "text/x-python",
   "name": "python",
   "nbconvert_exporter": "python",
   "pygments_lexer": "ipython3",
   "version": "3.7.0"
  }
 },
 "nbformat": 4,
 "nbformat_minor": 2
}
