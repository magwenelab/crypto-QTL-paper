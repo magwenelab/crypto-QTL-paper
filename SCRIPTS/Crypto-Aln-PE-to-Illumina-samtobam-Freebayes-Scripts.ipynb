{
 "cells": [
  {
   "cell_type": "markdown",
   "metadata": {},
   "source": [
    "# Construct script for allignment to XL280 Illumina Reference"
   ]
  },
  {
   "cell_type": "markdown",
   "metadata": {},
   "source": [
    "# Construct variables using data on local machine"
   ]
  },
  {
   "cell_type": "markdown",
   "metadata": {},
   "source": [
    "## Collect local variable names\n",
    "### These include local dir and file names"
   ]
  },
  {
   "cell_type": "code",
   "execution_count": 1,
   "metadata": {},
   "outputs": [],
   "source": [
    "## Import needed modules. \n",
    "from __future__ import print_function\n",
    "import os\n",
    "import pandas as pd\n",
    "import numpy as np\n",
    "from os import listdir\n",
    "from os.path import isfile, join\n",
    "from itertools import cycle"
   ]
  },
  {
   "cell_type": "code",
   "execution_count": 2,
   "metadata": {
    "collapsed": true,
    "jupyter": {
     "outputs_hidden": true
    }
   },
   "outputs": [],
   "source": [
    "scriptsdir = os.getcwd()\n",
    "datapath = '/Users/croth/Downloads/QTL_RAW/'"
   ]
  },
  {
   "cell_type": "markdown",
   "metadata": {},
   "source": [
    "## Names of fastq files"
   ]
  },
  {
   "cell_type": "code",
   "execution_count": 3,
   "metadata": {
    "collapsed": true,
    "jupyter": {
     "outputs_hidden": true
    }
   },
   "outputs": [],
   "source": [
    "files = [f for f in listdir(datapath)]# if isfile(join(mypath, f))]\n",
    "fileend = '.fastq.gz'\n",
    "datadir = []\n",
    "for f in files:\n",
    "    if f[-len(fileend):] == fileend:\n",
    "        datadir.append(f)\n",
    "    else:\n",
    "        pass"
   ]
  },
  {
   "cell_type": "code",
   "execution_count": 4,
   "metadata": {},
   "outputs": [
    {
     "data": {
      "text/plain": [
       "129.0"
      ]
     },
     "execution_count": 4,
     "metadata": {},
     "output_type": "execute_result"
    }
   ],
   "source": [
    "## How many unique paired samples?\n",
    "len(datadir)/2.0"
   ]
  },
  {
   "cell_type": "code",
   "execution_count": 5,
   "metadata": {},
   "outputs": [
    {
     "data": {
      "text/plain": [
       "['RBB127_SS-B407_ATGTCA_L002_R1_001.fastq.gz',\n",
       " 'RBB127_SS-B407_ATGTCA_L002_R2_001.fastq.gz',\n",
       " 'RBB128_SS-B410_CCGTCC_L002_R1_001.fastq.gz',\n",
       " 'RBB128_SS-B410_CCGTCC_L002_R2_001.fastq.gz',\n",
       " 'RBB129_SS-B411_GTCCGC_L002_R1_001.fastq.gz']"
      ]
     },
     "execution_count": 5,
     "metadata": {},
     "output_type": "execute_result"
    }
   ],
   "source": [
    "datadir[:5]"
   ]
  },
  {
   "cell_type": "code",
   "execution_count": 6,
   "metadata": {
    "collapsed": true,
    "jupyter": {
     "outputs_hidden": true
    }
   },
   "outputs": [],
   "source": [
    "seg_files = np.unique([seg.split('L00')[0] for seg in datadir])"
   ]
  },
  {
   "cell_type": "markdown",
   "metadata": {},
   "source": [
    "#### patch June 2018"
   ]
  },
  {
   "cell_type": "code",
   "execution_count": 7,
   "metadata": {
    "collapsed": true,
    "jupyter": {
     "outputs_hidden": true
    }
   },
   "outputs": [],
   "source": [
    "seg_files = [s for s in seg_files if len(s.split('XL280'))<2]"
   ]
  },
  {
   "cell_type": "code",
   "execution_count": 8,
   "metadata": {},
   "outputs": [
    {
     "data": {
      "text/plain": [
       "127"
      ]
     },
     "execution_count": 8,
     "metadata": {},
     "output_type": "execute_result"
    }
   ],
   "source": [
    "len(seg_files)"
   ]
  },
  {
   "cell_type": "code",
   "execution_count": 9,
   "metadata": {
    "collapsed": true,
    "jupyter": {
     "outputs_hidden": true
    }
   },
   "outputs": [],
   "source": [
    "def get_sample(seg):\n",
    "    temp = seg.split('SS')[-1].split('_')\n",
    "    if temp[0][0] == '-' and 'Correction' not in temp[1]:\n",
    "        seg_s = 'SS'+temp[0]\n",
    "    elif 'XL280' in temp[1]:\n",
    "        seg_s = temp[1]\n",
    "    elif temp[0][0] == '-' and 'Correction' in temp[1]:\n",
    "        seg_s = 'SS'+temp[0]+'_Correction'\n",
    "    return seg_s"
   ]
  },
  {
   "cell_type": "code",
   "execution_count": 10,
   "metadata": {
    "collapsed": true,
    "jupyter": {
     "outputs_hidden": true
    }
   },
   "outputs": [],
   "source": [
    "segs = [get_sample(seg) for seg in seg_files]"
   ]
  },
  {
   "cell_type": "code",
   "execution_count": 11,
   "metadata": {
    "collapsed": true,
    "jupyter": {
     "outputs_hidden": true
    }
   },
   "outputs": [],
   "source": [
    "lanes = np.unique([a.split('_')[-3] for a in datadir]).tolist()\n",
    "replicates = np.unique([a.split('_')[-2] for a in datadir]).tolist()"
   ]
  },
  {
   "cell_type": "code",
   "execution_count": 12,
   "metadata": {},
   "outputs": [
    {
     "data": {
      "text/plain": [
       "['L001', 'L002', 'L003']"
      ]
     },
     "execution_count": 12,
     "metadata": {},
     "output_type": "execute_result"
    }
   ],
   "source": [
    "lanes"
   ]
  },
  {
   "cell_type": "code",
   "execution_count": 13,
   "metadata": {},
   "outputs": [
    {
     "data": {
      "text/plain": [
       "['R1', 'R2']"
      ]
     },
     "execution_count": 13,
     "metadata": {},
     "output_type": "execute_result"
    }
   ],
   "source": [
    "replicates"
   ]
  },
  {
   "cell_type": "markdown",
   "metadata": {},
   "source": [
    "## Files that have not been alinged for some god knows reason"
   ]
  },
  {
   "cell_type": "markdown",
   "metadata": {},
   "source": [
    "## Write variables \n",
    "### These vairalbes will include paths to files and executables on Haraka"
   ]
  },
  {
   "cell_type": "code",
   "execution_count": 14,
   "metadata": {
    "collapsed": true,
    "jupyter": {
     "outputs_hidden": true
    }
   },
   "outputs": [],
   "source": [
    "## File names\n",
    "my_illumina_align = '/Crypto-DNX-Illumina-align-sam.sh'\n",
    "my_sam_to_bam = '/Crypto-DNX-Illumina-sam-to-sorted-bam.sh'\n",
    "my_bamaddrg = '/Crypto-DNX-Illumina-bamaddrg.sh'\n",
    "mybamsrg = 'Crypto-list-sort-bams-rg-Illumina.txt'\n",
    "myfreebay = ['/Crypto-DNX-Illumina-freebayes1.sh',\n",
    "             '/Crypto-DNX-Illumina-freebayes2.sh',\n",
    "             '/Crypto-DNX-Illumina-freebayes3.sh']\n",
    "## Script dir\n",
    "duck_SCRIPTS = '/bigscratch0/croth/CRYPTO_D/SCRIPTS/'\n",
    "duck_VCF = '/bigscratch0/croth/CRYPTO_D/VCFs/ILLUM/'\n",
    "## duckydog paths\n",
    "duck_SHEBANG = '#!/bin/bash\\n'\n",
    "## Reference \n",
    "duck_REF = '/bigscratch0/croth/CRYPTO_D/REF/xl280genome.fasta'\n",
    "duck_QTL_RAW = '/bigscratch0/croth/CRYPTO_D/QTL/QTL_RAW/'\n",
    "## Illumina sams and bams\n",
    "duck_SAMS = '/bigscratch0/croth/CRYPTO_D/SAMS/ILLUM/'\n",
    "duck_BAMS = '/bigscratch0/croth/CRYPTO_D/BAMS/ILLUM/'\n",
    "## Bwa and other commands\n",
    "duck_BWA = 'bwa mem -v 0 ' + duck_REF\n",
    "cdbamaddrg = 'cd /bigscratch0/croth/bamaddrg\\n'"
   ]
  },
  {
   "cell_type": "markdown",
   "metadata": {},
   "source": [
    "###### Upload these files to and make executable via chmod, e.g. \"chmod +x Crypto-DNX-Pac_Bio_align.sh\""
   ]
  },
  {
   "cell_type": "markdown",
   "metadata": {},
   "source": [
    "## Align"
   ]
  },
  {
   "cell_type": "code",
   "execution_count": 15,
   "metadata": {},
   "outputs": [
    {
     "data": {
      "text/plain": [
       "127"
      ]
     },
     "execution_count": 15,
     "metadata": {},
     "output_type": "execute_result"
    }
   ],
   "source": [
    "len(seg_files)"
   ]
  },
  {
   "cell_type": "code",
   "execution_count": 16,
   "metadata": {},
   "outputs": [
    {
     "data": {
      "text/plain": [
       "127"
      ]
     },
     "execution_count": 16,
     "metadata": {},
     "output_type": "execute_result"
    }
   ],
   "source": [
    "len(np.unique(seg_files))"
   ]
  },
  {
   "cell_type": "code",
   "execution_count": 17,
   "metadata": {
    "collapsed": true,
    "jupyter": {
     "outputs_hidden": true
    }
   },
   "outputs": [],
   "source": [
    "f = open(scriptsdir+my_illumina_align,'w') ## open file with samples to be remapped (b/c of their corrected parttners)\n",
    "print(duck_SHEBANG,file=f) ## print the shebang\n",
    "sams = []\n",
    "for seg in seg_files:\n",
    "    seg_s = get_sample(seg)\n",
    "    sam = duck_SAMS+seg_s+'-'+duck_REF.split('/')[-1].split('.')[0]+'-aln-pe.sam'\n",
    "    sams.append(sam)\n",
    "    print(duck_BWA, ## print the bwa command and reference genome\n",
    "          duck_QTL_RAW + seg+'*R1*.fastq.gz', ## the first read in pair file \n",
    "          duck_QTL_RAW + seg+'*R2*.fastq.gz','>', ## the second\n",
    "          sam+'\\n', ## The final sam file\n",
    "        file=f) ## tells print which file to print to. Que clever ;)\n",
    "f.close() ## close the file"
   ]
  },
  {
   "cell_type": "markdown",
   "metadata": {},
   "source": [
    "## Sam to Bam"
   ]
  },
  {
   "cell_type": "code",
   "execution_count": 18,
   "metadata": {},
   "outputs": [
    {
     "data": {
      "text/plain": [
       "127"
      ]
     },
     "execution_count": 18,
     "metadata": {},
     "output_type": "execute_result"
    }
   ],
   "source": [
    "len(sams)"
   ]
  },
  {
   "cell_type": "code",
   "execution_count": 19,
   "metadata": {},
   "outputs": [
    {
     "data": {
      "text/plain": [
       "['/bigscratch0/croth/CRYPTO_D/SAMS/ILLUM/SS-B407-xl280genome-aln-pe.sam',\n",
       " '/bigscratch0/croth/CRYPTO_D/SAMS/ILLUM/SS-B410-xl280genome-aln-pe.sam',\n",
       " '/bigscratch0/croth/CRYPTO_D/SAMS/ILLUM/SS-B411-xl280genome-aln-pe.sam',\n",
       " '/bigscratch0/croth/CRYPTO_D/SAMS/ILLUM/SS-C026-xl280genome-aln-pe.sam',\n",
       " '/bigscratch0/croth/CRYPTO_D/SAMS/ILLUM/SS-C029-xl280genome-aln-pe.sam']"
      ]
     },
     "execution_count": 19,
     "metadata": {},
     "output_type": "execute_result"
    }
   ],
   "source": [
    "sams[:5]"
   ]
  },
  {
   "cell_type": "code",
   "execution_count": 20,
   "metadata": {
    "collapsed": true,
    "jupyter": {
     "outputs_hidden": true
    }
   },
   "outputs": [],
   "source": [
    "f = open(scriptsdir+my_sam_to_bam,'w') ## Open file to print text to ... \n",
    "bams = []\n",
    "for i,seg in enumerate(segs):\n",
    "    bam =  duck_BAMS+seg+'-'+duck_REF.split('/')[-1].split('.')[0]+'-aln-pe-sorted'\n",
    "    bams.append(bam+'.bam')\n",
    "    print('samtools view -bS %s | samtools sort - %s'%(\n",
    "        sams[i],\n",
    "        bam+'\\n'),\n",
    "          file=f) ## Make sam to bam file\n",
    "f.close()"
   ]
  },
  {
   "cell_type": "markdown",
   "metadata": {},
   "source": [
    "## Bam to Bamaddrg"
   ]
  },
  {
   "cell_type": "markdown",
   "metadata": {},
   "source": [
    "#### Check bams"
   ]
  },
  {
   "cell_type": "code",
   "execution_count": 21,
   "metadata": {},
   "outputs": [
    {
     "data": {
      "text/plain": [
       "['/bigscratch0/croth/CRYPTO_D/BAMS/ILLUM/SS-B407-xl280genome-aln-pe-sorted.bam',\n",
       " '/bigscratch0/croth/CRYPTO_D/BAMS/ILLUM/SS-B410-xl280genome-aln-pe-sorted.bam',\n",
       " '/bigscratch0/croth/CRYPTO_D/BAMS/ILLUM/SS-B411-xl280genome-aln-pe-sorted.bam',\n",
       " '/bigscratch0/croth/CRYPTO_D/BAMS/ILLUM/SS-C026-xl280genome-aln-pe-sorted.bam',\n",
       " '/bigscratch0/croth/CRYPTO_D/BAMS/ILLUM/SS-C029-xl280genome-aln-pe-sorted.bam']"
      ]
     },
     "execution_count": 21,
     "metadata": {},
     "output_type": "execute_result"
    }
   ],
   "source": [
    "bams[:5]"
   ]
  },
  {
   "cell_type": "code",
   "execution_count": 22,
   "metadata": {},
   "outputs": [
    {
     "data": {
      "text/plain": [
       "['/bigscratch0/croth/CRYPTO_D/BAMS/ILLUM/SS-C036-xl280genome-aln-pe-sorted.bam',\n",
       " '/bigscratch0/croth/CRYPTO_D/BAMS/ILLUM/SS-C039-xl280genome-aln-pe-sorted.bam',\n",
       " '/bigscratch0/croth/CRYPTO_D/BAMS/ILLUM/SS-A837-xl280genome-aln-pe-sorted.bam',\n",
       " '/bigscratch0/croth/CRYPTO_D/BAMS/ILLUM/SS-A853-xl280genome-aln-pe-sorted.bam',\n",
       " '/bigscratch0/croth/CRYPTO_D/BAMS/ILLUM/SS-B830-xl280genome-aln-pe-sorted.bam']"
      ]
     },
     "execution_count": 22,
     "metadata": {},
     "output_type": "execute_result"
    }
   ],
   "source": [
    "bams[-5:]"
   ]
  },
  {
   "cell_type": "markdown",
   "metadata": {},
   "source": [
    "### Write bamaddrg commands"
   ]
  },
  {
   "cell_type": "code",
   "execution_count": 23,
   "metadata": {
    "collapsed": true,
    "jupyter": {
     "outputs_hidden": true
    }
   },
   "outputs": [],
   "source": [
    "f = open(scriptsdir+my_bamaddrg,'w') ## Open file to print text to ... \n",
    "print(cdbamaddrg,file=f)\n",
    "bamrgs = []\n",
    "for i,bam in enumerate(bams):\n",
    "    bamrg = bam.split('.')[0]+'-rg.bam'\n",
    "    bamrgs.append(bamrg)\n",
    "    print('./bamaddrg -b %s -s %s -r %s > %s\\n'%(\n",
    "        bam,\n",
    "        bam.split('-xl280genome')[0].split('/')[-1]+'-'+str(i),\n",
    "        bam.split('genome')[0].split('/')[-1]+'-'+str(i),\n",
    "        bamrg\n",
    "    ),file=f) \n",
    "    print('rm %s\\n'%(bam),file=f)\n",
    "f.close()"
   ]
  },
  {
   "cell_type": "markdown",
   "metadata": {},
   "source": [
    "## Index bam files with samtools"
   ]
  },
  {
   "cell_type": "code",
   "execution_count": 24,
   "metadata": {
    "collapsed": true,
    "jupyter": {
     "outputs_hidden": true
    }
   },
   "outputs": [],
   "source": [
    "f = open(scriptsdir+'/Crypto-DNX-Illum-Bam-Index.sh','w')\n",
    "for i,bam in enumerate(bamrgs):\n",
    "    print('samtools index %s %s'%(bam,bam+'.bai\\n'),file=f)\n",
    "f.close()"
   ]
  },
  {
   "cell_type": "markdown",
   "metadata": {},
   "source": [
    "## FREEBAYES!!!!!"
   ]
  },
  {
   "cell_type": "markdown",
   "metadata": {},
   "source": [
    "### Write list of bams with read group info added"
   ]
  },
  {
   "cell_type": "code",
   "execution_count": 25,
   "metadata": {},
   "outputs": [
    {
     "data": {
      "text/plain": [
       "['/bigscratch0/croth/CRYPTO_D/BAMS/ILLUM/SS-B407-xl280genome-aln-pe-sorted-rg.bam',\n",
       " '/bigscratch0/croth/CRYPTO_D/BAMS/ILLUM/SS-B410-xl280genome-aln-pe-sorted-rg.bam',\n",
       " '/bigscratch0/croth/CRYPTO_D/BAMS/ILLUM/SS-B411-xl280genome-aln-pe-sorted-rg.bam',\n",
       " '/bigscratch0/croth/CRYPTO_D/BAMS/ILLUM/SS-C026-xl280genome-aln-pe-sorted-rg.bam',\n",
       " '/bigscratch0/croth/CRYPTO_D/BAMS/ILLUM/SS-C029-xl280genome-aln-pe-sorted-rg.bam']"
      ]
     },
     "execution_count": 25,
     "metadata": {},
     "output_type": "execute_result"
    }
   ],
   "source": [
    "bamrgs[:5]"
   ]
  },
  {
   "cell_type": "code",
   "execution_count": 26,
   "metadata": {},
   "outputs": [
    {
     "data": {
      "text/plain": [
       "127"
      ]
     },
     "execution_count": 26,
     "metadata": {},
     "output_type": "execute_result"
    }
   ],
   "source": [
    "len(bamrgs)"
   ]
  },
  {
   "cell_type": "code",
   "execution_count": 27,
   "metadata": {
    "collapsed": true,
    "jupyter": {
     "outputs_hidden": true
    }
   },
   "outputs": [],
   "source": [
    "f = open(scriptsdir+'/'+mybamsrg,'w')\n",
    "for bam in bamrgs:\n",
    "    print(bam,file=f)\n",
    "f.close()"
   ]
  },
  {
   "cell_type": "code",
   "execution_count": 28,
   "metadata": {},
   "outputs": [
    {
     "data": {
      "text/plain": [
       "'Crypto-list-sort-bams-rg-Illumina.txt'"
      ]
     },
     "execution_count": 28,
     "metadata": {},
     "output_type": "execute_result"
    }
   ],
   "source": [
    "mybamsrg"
   ]
  },
  {
   "cell_type": "markdown",
   "metadata": {},
   "source": [
    "### Gather chromosomes names in xl280fasta"
   ]
  },
  {
   "cell_type": "code",
   "execution_count": 29,
   "metadata": {
    "collapsed": true,
    "jupyter": {
     "outputs_hidden": true
    }
   },
   "outputs": [],
   "source": [
    "illum = open('../FASTA/xl280genome.fasta')\n",
    "tigs_keep = []\n",
    "for line in illum:\n",
    "    if line[0] in ['>']:\n",
    "        tigs_keep.append(line[1:-1])\n",
    "illum.close()\n",
    "chrom_map = sorted(tigs_keep)"
   ]
  },
  {
   "cell_type": "code",
   "execution_count": 30,
   "metadata": {},
   "outputs": [
    {
     "name": "stdout",
     "output_type": "stream",
     "text": [
      "Chr01\n",
      "Chr02\n",
      "Chr03\n",
      "Chr04\n",
      "Chr05\n",
      "Chr06\n",
      "Chr07\n",
      "Chr08\n",
      "Chr09\n",
      "Chr10\n",
      "Chr11\n",
      "Chr12\n",
      "Chr13\n",
      "Chr14\n"
     ]
    }
   ],
   "source": [
    "f0 = open(scriptsdir+myfreebay[0],'w');\n",
    "f1 = open(scriptsdir+myfreebay[1],'w');\n",
    "f2 = open(scriptsdir+myfreebay[2],'w');\n",
    "clrf = cycle([f0,f1,f2])\n",
    "for region in chrom_map:\n",
    "    f = clrf.next()\n",
    "    print(region)\n",
    "    new_vcf = duck_VCF+'DNX-'+region+'-'+duck_REF.split('.fasta'\n",
    "                )[0].split('/')[-1]+'-'+str(len(bamrgs))+'.vcf'\n",
    "    freebayes = '/usr/local/bin/freebayes -f %s -p %s -r %s -L %s -Z -= > %s'%(\n",
    "        duck_REF,\n",
    "        str(1),\n",
    "        region,\n",
    "        duck_SCRIPTS+mybamsrg,\n",
    "        new_vcf)\n",
    "    print(freebayes,file=f)\n",
    "    print('gzip %s'%new_vcf,file=f)\n",
    "    print(' ',file=f)\n",
    "for f in [f0,f1,f2]:\n",
    "    f.close()"
   ]
  }
 ],
 "metadata": {
  "anaconda-cloud": {},
  "kernelspec": {
   "display_name": "Python 3",
   "language": "python",
   "name": "python3"
  },
  "language_info": {
   "codemirror_mode": {
    "name": "ipython",
    "version": 3
   },
   "file_extension": ".py",
   "mimetype": "text/x-python",
   "name": "python",
   "nbconvert_exporter": "python",
   "pygments_lexer": "ipython3",
   "version": "3.7.3"
  }
 },
 "nbformat": 4,
 "nbformat_minor": 4
}
