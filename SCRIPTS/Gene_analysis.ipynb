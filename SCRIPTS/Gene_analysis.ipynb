{
 "cells": [
  {
   "cell_type": "code",
   "execution_count": 54,
   "metadata": {},
   "outputs": [],
   "source": [
    "import pandas as pd, numpy as np, glob\n",
    "from Bio.Seq import Seq\n",
    "\n",
    "from matplotlib import pyplot as plt\n",
    "\n",
    "import warnings\n",
    "from Bio import BiopythonWarning\n",
    "warnings.simplefilter('ignore', BiopythonWarning)\n",
    "\n",
    "def makeorf(df,fill='.'):\n",
    "    ref = Seq(''.join(df[(df.Ref!='.')]['Ref'].tolist()))\n",
    "    alt = Seq(''.join(df[(df.Alt!='.')]['Alt'].tolist()))\n",
    "    \n",
    "    if df.Strand.min() < 0:\n",
    "        ref = ref.reverse_complement()\n",
    "        alt = alt.reverse_complement()\n",
    "        \n",
    "    return ref,alt"
   ]
  },
  {
   "cell_type": "code",
   "execution_count": 55,
   "metadata": {},
   "outputs": [],
   "source": [
    "%matplotlib inline"
   ]
  },
  {
   "cell_type": "markdown",
   "metadata": {},
   "source": [
    "## Bring in chrommap\n",
    "chrommap = pd.read_csv('../DATA/chrommap.csv.gz')\n",
    "chrommap['Seqid'] = chrommap['Contig']\n",
    "chrommap['Chromosome'] = chrommap.index+1"
   ]
  },
  {
   "cell_type": "code",
   "execution_count": 56,
   "metadata": {},
   "outputs": [
    {
     "data": {
      "text/html": [
       "<div>\n",
       "<style scoped>\n",
       "    .dataframe tbody tr th:only-of-type {\n",
       "        vertical-align: middle;\n",
       "    }\n",
       "\n",
       "    .dataframe tbody tr th {\n",
       "        vertical-align: top;\n",
       "    }\n",
       "\n",
       "    .dataframe thead th {\n",
       "        text-align: right;\n",
       "    }\n",
       "</style>\n",
       "<table border=\"1\" class=\"dataframe\">\n",
       "  <thead>\n",
       "    <tr style=\"text-align: right;\">\n",
       "      <th></th>\n",
       "      <th>Type</th>\n",
       "      <th>Gene</th>\n",
       "      <th>Start</th>\n",
       "      <th>End</th>\n",
       "      <th>Strand</th>\n",
       "      <th>Contig</th>\n",
       "      <th>Phase</th>\n",
       "      <th>Attribute</th>\n",
       "      <th>Description</th>\n",
       "      <th>Id</th>\n",
       "      <th>Seqid</th>\n",
       "      <th>Parent</th>\n",
       "    </tr>\n",
       "  </thead>\n",
       "  <tbody>\n",
       "    <tr>\n",
       "      <th>4012</th>\n",
       "      <td>gene</td>\n",
       "      <td>CNE00010</td>\n",
       "      <td>38</td>\n",
       "      <td>910</td>\n",
       "      <td>-1</td>\n",
       "      <td>Chr05</td>\n",
       "      <td>.</td>\n",
       "      <td>ID=CNE00010;description=hypothetical protein</td>\n",
       "      <td>hypothetical protein</td>\n",
       "      <td>CNE00010</td>\n",
       "      <td>Chr05</td>\n",
       "      <td>CNE00010</td>\n",
       "    </tr>\n",
       "    <tr>\n",
       "      <th>67409</th>\n",
       "      <td>gene</td>\n",
       "      <td>CNH03875</td>\n",
       "      <td>76</td>\n",
       "      <td>2412</td>\n",
       "      <td>-1</td>\n",
       "      <td>Chr08</td>\n",
       "      <td>.</td>\n",
       "      <td>ID=CNH03875;description=hypothetical protein</td>\n",
       "      <td>hypothetical protein</td>\n",
       "      <td>CNH03875</td>\n",
       "      <td>Chr08</td>\n",
       "      <td>CNH03875</td>\n",
       "    </tr>\n",
       "    <tr>\n",
       "      <th>34312</th>\n",
       "      <td>gene</td>\n",
       "      <td>CNJ00010</td>\n",
       "      <td>171</td>\n",
       "      <td>4804</td>\n",
       "      <td>1</td>\n",
       "      <td>Chr10</td>\n",
       "      <td>.</td>\n",
       "      <td>ID=CNJ00010;description=conserved hypothetical...</td>\n",
       "      <td>conserved hypothetical protein</td>\n",
       "      <td>CNJ00010</td>\n",
       "      <td>Chr10</td>\n",
       "      <td>CNJ00010</td>\n",
       "    </tr>\n",
       "    <tr>\n",
       "      <th>70098</th>\n",
       "      <td>gene</td>\n",
       "      <td>CNG00010</td>\n",
       "      <td>196</td>\n",
       "      <td>1723</td>\n",
       "      <td>1</td>\n",
       "      <td>Chr07</td>\n",
       "      <td>.</td>\n",
       "      <td>ID=CNG00010;description=hypothetical protein</td>\n",
       "      <td>hypothetical protein</td>\n",
       "      <td>CNG00010</td>\n",
       "      <td>Chr07</td>\n",
       "      <td>CNG00010</td>\n",
       "    </tr>\n",
       "    <tr>\n",
       "      <th>70249</th>\n",
       "      <td>gene</td>\n",
       "      <td>CNH03660</td>\n",
       "      <td>211</td>\n",
       "      <td>2748</td>\n",
       "      <td>-1</td>\n",
       "      <td>Chr12</td>\n",
       "      <td>.</td>\n",
       "      <td>ID=CNH03660;description=alpha-amylase AmyA%2C ...</td>\n",
       "      <td>alpha-amylase AmyA</td>\n",
       "      <td>CNH03660</td>\n",
       "      <td>Chr12</td>\n",
       "      <td>CNH03660</td>\n",
       "    </tr>\n",
       "  </tbody>\n",
       "</table>\n",
       "</div>"
      ],
      "text/plain": [
       "       Type      Gene  Start   End  Strand Contig Phase  \\\n",
       "4012   gene  CNE00010     38   910      -1  Chr05     .   \n",
       "67409  gene  CNH03875     76  2412      -1  Chr08     .   \n",
       "34312  gene  CNJ00010    171  4804       1  Chr10     .   \n",
       "70098  gene  CNG00010    196  1723       1  Chr07     .   \n",
       "70249  gene  CNH03660    211  2748      -1  Chr12     .   \n",
       "\n",
       "                                               Attribute  \\\n",
       "4012        ID=CNE00010;description=hypothetical protein   \n",
       "67409       ID=CNH03875;description=hypothetical protein   \n",
       "34312  ID=CNJ00010;description=conserved hypothetical...   \n",
       "70098       ID=CNG00010;description=hypothetical protein   \n",
       "70249  ID=CNH03660;description=alpha-amylase AmyA%2C ...   \n",
       "\n",
       "                          Description        Id  Seqid    Parent  \n",
       "4012             hypothetical protein  CNE00010  Chr05  CNE00010  \n",
       "67409            hypothetical protein  CNH03875  Chr08  CNH03875  \n",
       "34312  conserved hypothetical protein  CNJ00010  Chr10  CNJ00010  \n",
       "70098            hypothetical protein  CNG00010  Chr07  CNG00010  \n",
       "70249              alpha-amylase AmyA  CNH03660  Chr12  CNH03660  "
      ]
     },
     "execution_count": 56,
     "metadata": {},
     "output_type": "execute_result"
    }
   ],
   "source": [
    "## Bring in GFF file\n",
    "gffpath = '../DATA/xl280genome.gff3.csv.gz'\n",
    "gff = pd.read_csv(gffpath,index_col=0)\n",
    "\n",
    "descriptions = ['hypothetical protein',\n",
    "                'unspecified product',\n",
    "                'conserved hypothetical protein']\n",
    "foi = ['gene','three_prime_UTR','five_prime_UTR','CDS']\n",
    "\n",
    "\n",
    "gff.columns = [c.capitalize() for c in gff.columns]\n",
    "\n",
    "gff['Seqid'] = gff['Contig']\n",
    "gff['Strand'] = gff['Strand'].replace(dict(zip(['-','+'],[-1,1])))\n",
    "gff['Parent'] = [a.split('Parent=')[-1].split(';')[0].split('ID=')[-1] \n",
    "                 for a in gff.Attribute ]\n",
    "\n",
    "genes = gff[(gff.Type=='gene')].sort_values('Start').copy()\n",
    "\n",
    "genes['Description'] = [a.split('description=')[-1].split('%2C')[0] \n",
    "                        for a in genes.Attribute]\n",
    "\n",
    "genes.head()"
   ]
  },
  {
   "cell_type": "code",
   "execution_count": 57,
   "metadata": {},
   "outputs": [
    {
     "data": {
      "text/plain": [
       "(['../DATA/GENOTYPE/GENES/SS-A837/CNB02870-t26_1.csv.gz',\n",
       "  '../DATA/GENOTYPE/GENES/SS-A837/CNB02995-t26_1.csv.gz',\n",
       "  '../DATA/GENOTYPE/GENES/SS-A837/CNB03000-t26_1.csv.gz',\n",
       "  '../DATA/GENOTYPE/GENES/SS-A837/CNB03005-t26_1.csv.gz',\n",
       "  '../DATA/GENOTYPE/GENES/SS-A837/CNB03010-t26_1.csv.gz'],\n",
       " 184)"
      ]
     },
     "execution_count": 57,
     "metadata": {},
     "output_type": "execute_result"
    }
   ],
   "source": [
    "samplespath = sorted(glob.glob('../DATA/GENOTYPE/GENES/*/*.csv.gz'))\n",
    "samplespath[:5],len(samplespath)"
   ]
  },
  {
   "cell_type": "code",
   "execution_count": 58,
   "metadata": {},
   "outputs": [],
   "source": [
    "todf = []\n",
    "for s in samplespath:\n",
    "\n",
    "    sample = s.split('GENES/')[-1].split('/')[0]\n",
    "    genep = s.split('/')[-1].split('.csv')[0]\n",
    "    gene_name = s.split('/')[-1].split('-t26')[0]\n",
    "\n",
    "    temp = pd.read_csv(s,index_col=0)\n",
    "    gene = temp.Gene.min()\n",
    "    assert sample == temp.Sample.min()\n",
    "    assert gene == genep\n",
    "        \n",
    "    cds = temp[(temp.Type==0)]\n",
    "        \n",
    "    ref,alt = makeorf(cds)\n",
    "        \n",
    "    el = cds.Pos.unique().shape[0]/3-1\n",
    "        \n",
    "    ra = ref.translate(to_stop=True)\n",
    "    aa = alt.translate(to_stop=True)\n",
    "        \n",
    "    rl = len(ra)\n",
    "    al = len(aa)\n",
    "        \n",
    "    sr = ref.translate().count('*')\n",
    "    sa = alt.translate().count('*')\n",
    "        \n",
    "    ns = sa - 1\n",
    "    for i in range(np.min([len(ra),len(aa)])):\n",
    "        if ra[i]!=aa[i]:\n",
    "            ns = ns + 1\n",
    "            \n",
    "    nvars = temp[(temp.Isvar==1)].shape[0]\n",
    "    utr3 = temp[(temp.Type==3) & (temp.Isvar==1)].shape[0]\n",
    "    utr5 = temp[(temp.Type==5) & (temp.Isvar==1)].shape[0]\n",
    "    inexon = temp[(temp.Type==0) & (temp.Isvar==1)].shape[0]\n",
    "    inintron = temp[(temp.Type==-1) & (temp.Isvar==1)].shape[0]\n",
    "\n",
    "\n",
    "        \n",
    "    todf.append((sample,gene_name,gene,\n",
    "                 el,rl,al,sr,sa,ns,\n",
    "                 nvars,utr5,utr3,inexon,inintron\n",
    "                ))"
   ]
  },
  {
   "cell_type": "code",
   "execution_count": 59,
   "metadata": {},
   "outputs": [
    {
     "data": {
      "text/html": [
       "<div>\n",
       "<style scoped>\n",
       "    .dataframe tbody tr th:only-of-type {\n",
       "        vertical-align: middle;\n",
       "    }\n",
       "\n",
       "    .dataframe tbody tr th {\n",
       "        vertical-align: top;\n",
       "    }\n",
       "\n",
       "    .dataframe thead th {\n",
       "        text-align: right;\n",
       "    }\n",
       "</style>\n",
       "<table border=\"1\" class=\"dataframe\">\n",
       "  <thead>\n",
       "    <tr style=\"text-align: right;\">\n",
       "      <th></th>\n",
       "      <th>Strain</th>\n",
       "      <th>Gene</th>\n",
       "      <th>Parent</th>\n",
       "      <th>Expected</th>\n",
       "      <th>Ref</th>\n",
       "      <th>Alt</th>\n",
       "      <th>Refstop</th>\n",
       "      <th>Altstop</th>\n",
       "      <th>Nonsyn</th>\n",
       "      <th>Nvars</th>\n",
       "      <th>Utr5</th>\n",
       "      <th>Utr3</th>\n",
       "      <th>Exon</th>\n",
       "      <th>Intron</th>\n",
       "    </tr>\n",
       "  </thead>\n",
       "  <tbody>\n",
       "    <tr>\n",
       "      <th>179</th>\n",
       "      <td>XL280a</td>\n",
       "      <td>CNN01320</td>\n",
       "      <td>CNN01320-t26_1</td>\n",
       "      <td>215.0</td>\n",
       "      <td>215</td>\n",
       "      <td>215</td>\n",
       "      <td>1</td>\n",
       "      <td>1</td>\n",
       "      <td>0</td>\n",
       "      <td>77</td>\n",
       "      <td>5</td>\n",
       "      <td>51</td>\n",
       "      <td>9</td>\n",
       "      <td>12</td>\n",
       "    </tr>\n",
       "    <tr>\n",
       "      <th>180</th>\n",
       "      <td>XL280a</td>\n",
       "      <td>CNN01330</td>\n",
       "      <td>CNN01330-t26_1</td>\n",
       "      <td>71.0</td>\n",
       "      <td>71</td>\n",
       "      <td>71</td>\n",
       "      <td>1</td>\n",
       "      <td>1</td>\n",
       "      <td>0</td>\n",
       "      <td>10</td>\n",
       "      <td>0</td>\n",
       "      <td>1</td>\n",
       "      <td>0</td>\n",
       "      <td>9</td>\n",
       "    </tr>\n",
       "    <tr>\n",
       "      <th>181</th>\n",
       "      <td>XL280a</td>\n",
       "      <td>CNN01340</td>\n",
       "      <td>CNN01340-t26_1</td>\n",
       "      <td>406.0</td>\n",
       "      <td>406</td>\n",
       "      <td>406</td>\n",
       "      <td>1</td>\n",
       "      <td>1</td>\n",
       "      <td>0</td>\n",
       "      <td>25</td>\n",
       "      <td>0</td>\n",
       "      <td>5</td>\n",
       "      <td>19</td>\n",
       "      <td>1</td>\n",
       "    </tr>\n",
       "    <tr>\n",
       "      <th>182</th>\n",
       "      <td>XL280a</td>\n",
       "      <td>CNN01345</td>\n",
       "      <td>CNN01345-t26_1</td>\n",
       "      <td>188.0</td>\n",
       "      <td>188</td>\n",
       "      <td>188</td>\n",
       "      <td>1</td>\n",
       "      <td>1</td>\n",
       "      <td>0</td>\n",
       "      <td>27</td>\n",
       "      <td>1</td>\n",
       "      <td>1</td>\n",
       "      <td>6</td>\n",
       "      <td>19</td>\n",
       "    </tr>\n",
       "    <tr>\n",
       "      <th>183</th>\n",
       "      <td>XL280a</td>\n",
       "      <td>CNN01350</td>\n",
       "      <td>CNN01350-t26_1</td>\n",
       "      <td>260.0</td>\n",
       "      <td>260</td>\n",
       "      <td>260</td>\n",
       "      <td>1</td>\n",
       "      <td>1</td>\n",
       "      <td>0</td>\n",
       "      <td>16</td>\n",
       "      <td>1</td>\n",
       "      <td>10</td>\n",
       "      <td>3</td>\n",
       "      <td>2</td>\n",
       "    </tr>\n",
       "  </tbody>\n",
       "</table>\n",
       "</div>"
      ],
      "text/plain": [
       "     Strain      Gene          Parent  Expected  Ref  Alt  Refstop  Altstop  \\\n",
       "179  XL280a  CNN01320  CNN01320-t26_1     215.0  215  215        1        1   \n",
       "180  XL280a  CNN01330  CNN01330-t26_1      71.0   71   71        1        1   \n",
       "181  XL280a  CNN01340  CNN01340-t26_1     406.0  406  406        1        1   \n",
       "182  XL280a  CNN01345  CNN01345-t26_1     188.0  188  188        1        1   \n",
       "183  XL280a  CNN01350  CNN01350-t26_1     260.0  260  260        1        1   \n",
       "\n",
       "     Nonsyn  Nvars  Utr5  Utr3  Exon  Intron  \n",
       "179       0     77     5    51     9      12  \n",
       "180       0     10     0     1     0       9  \n",
       "181       0     25     0     5    19       1  \n",
       "182       0     27     1     1     6      19  \n",
       "183       0     16     1    10     3       2  "
      ]
     },
     "execution_count": 59,
     "metadata": {},
     "output_type": "execute_result"
    }
   ],
   "source": [
    "resdf = pd.DataFrame(todf,\n",
    "        columns=['Strain','Gene','Parent','Expected',\n",
    "                 'Ref','Alt','Refstop','Altstop','Nonsyn',\n",
    "                 'Nvars','Utr5','Utr3','Exon','Intron'\n",
    "                ])\n",
    "resdf.tail()"
   ]
  },
  {
   "cell_type": "code",
   "execution_count": 84,
   "metadata": {},
   "outputs": [
    {
     "data": {
      "image/png": "[encoded data removed]",
      "text/plain": [
       "<Figure size 432x288 with 1 Axes>"
      ]
     },
     "metadata": {
      "needs_background": "light"
     },
     "output_type": "display_data"
    }
   ],
   "source": [
    "bins = [(0,1),(1,5),(5,10),(10,50),(50,1000)]\n",
    "\n",
    "bin_counts = [resdf[(resdf.Nonsyn.isin(np.arange(*b)))].shape[0] for b in bins]\n",
    "plt.vlines(np.arange(len(bins)),\n",
    "           np.zeros(len(bin_counts)),\n",
    "           bin_counts,linewidth=50,alpha=0.5)\n",
    "\n",
    "binlabels = ['0']+[ ' - '.join([str(b) \n",
    "             for b in np.array(mybin)-np.array([0,1])]) \n",
    "             for mybin in bins][1:-1] + ['>50']\n",
    "\n",
    "plt.xlim(-0.5,4.5)\n",
    "plt.ylabel('# of Genes',fontsize=12);\n",
    "plt.xticks(np.arange(len(bins)),binlabels,fontsize=12);"
   ]
  },
  {
   "cell_type": "code",
   "execution_count": 6,
   "metadata": {},
   "outputs": [
    {
     "data": {
      "text/plain": [
       "(98, 14)"
      ]
     },
     "execution_count": 6,
     "metadata": {},
     "output_type": "execute_result"
    }
   ],
   "source": [
    "resdf[(resdf.Utr5>0)].shape"
   ]
  },
  {
   "cell_type": "code",
   "execution_count": 7,
   "metadata": {},
   "outputs": [
    {
     "data": {
      "text/plain": [
       "(114, 14)"
      ]
     },
     "execution_count": 7,
     "metadata": {},
     "output_type": "execute_result"
    }
   ],
   "source": [
    "resdf[(resdf.Utr3>0)].shape"
   ]
  },
  {
   "cell_type": "code",
   "execution_count": 8,
   "metadata": {},
   "outputs": [
    {
     "data": {
      "text/plain": [
       "(184, 14)"
      ]
     },
     "execution_count": 8,
     "metadata": {},
     "output_type": "execute_result"
    }
   ],
   "source": [
    "resdf.shape"
   ]
  },
  {
   "cell_type": "code",
   "execution_count": 9,
   "metadata": {},
   "outputs": [
    {
     "data": {
      "text/plain": [
       "(1, 14)"
      ]
     },
     "execution_count": 9,
     "metadata": {},
     "output_type": "execute_result"
    }
   ],
   "source": [
    "resdf[(resdf.Altstop==0)].shape"
   ]
  },
  {
   "cell_type": "code",
   "execution_count": 10,
   "metadata": {},
   "outputs": [
    {
     "data": {
      "text/plain": [
       "(4, 14)"
      ]
     },
     "execution_count": 10,
     "metadata": {},
     "output_type": "execute_result"
    }
   ],
   "source": [
    "resdf[(resdf.Altstop>1)].shape"
   ]
  },
  {
   "cell_type": "code",
   "execution_count": 11,
   "metadata": {},
   "outputs": [
    {
     "data": {
      "text/plain": [
       "(0, 14)"
      ]
     },
     "execution_count": 11,
     "metadata": {},
     "output_type": "execute_result"
    }
   ],
   "source": [
    "resdf[(resdf.Refstop==0)].shape"
   ]
  },
  {
   "cell_type": "code",
   "execution_count": 12,
   "metadata": {},
   "outputs": [
    {
     "data": {
      "text/plain": [
       "(2, 14)"
      ]
     },
     "execution_count": 12,
     "metadata": {},
     "output_type": "execute_result"
    }
   ],
   "source": [
    "resdf[(resdf.Refstop>1)].shape"
   ]
  },
  {
   "cell_type": "code",
   "execution_count": 13,
   "metadata": {},
   "outputs": [
    {
     "data": {
      "text/plain": [
       "(2, 14)"
      ]
     },
     "execution_count": 13,
     "metadata": {},
     "output_type": "execute_result"
    }
   ],
   "source": [
    "toredo = resdf[(resdf.Expected!=resdf.Ref)]\n",
    "toredo.shape"
   ]
  },
  {
   "cell_type": "code",
   "execution_count": 22,
   "metadata": {},
   "outputs": [
    {
     "data": {
      "text/html": [
       "<div>\n",
       "<style scoped>\n",
       "    .dataframe tbody tr th:only-of-type {\n",
       "        vertical-align: middle;\n",
       "    }\n",
       "\n",
       "    .dataframe tbody tr th {\n",
       "        vertical-align: top;\n",
       "    }\n",
       "\n",
       "    .dataframe thead th {\n",
       "        text-align: right;\n",
       "    }\n",
       "</style>\n",
       "<table border=\"1\" class=\"dataframe\">\n",
       "  <thead>\n",
       "    <tr style=\"text-align: right;\">\n",
       "      <th></th>\n",
       "      <th>Strain</th>\n",
       "      <th>Gene</th>\n",
       "      <th>Parent</th>\n",
       "      <th>Expected</th>\n",
       "      <th>Ref</th>\n",
       "      <th>Alt</th>\n",
       "      <th>Refstop</th>\n",
       "      <th>Altstop</th>\n",
       "      <th>Nonsyn</th>\n",
       "      <th>Nvars</th>\n",
       "      <th>Utr5</th>\n",
       "      <th>Utr3</th>\n",
       "      <th>Exon</th>\n",
       "      <th>Intron</th>\n",
       "    </tr>\n",
       "  </thead>\n",
       "  <tbody>\n",
       "    <tr>\n",
       "      <th>83</th>\n",
       "      <td>SS-A837</td>\n",
       "      <td>CNN01270</td>\n",
       "      <td>CNN01270-t26_1</td>\n",
       "      <td>691.0</td>\n",
       "      <td>456</td>\n",
       "      <td>691</td>\n",
       "      <td>2</td>\n",
       "      <td>0</td>\n",
       "      <td>223</td>\n",
       "      <td>28</td>\n",
       "      <td>2</td>\n",
       "      <td>1</td>\n",
       "      <td>23</td>\n",
       "      <td>2</td>\n",
       "    </tr>\n",
       "    <tr>\n",
       "      <th>175</th>\n",
       "      <td>XL280a</td>\n",
       "      <td>CNN01270</td>\n",
       "      <td>CNN01270-t26_1</td>\n",
       "      <td>691.0</td>\n",
       "      <td>456</td>\n",
       "      <td>456</td>\n",
       "      <td>2</td>\n",
       "      <td>2</td>\n",
       "      <td>1</td>\n",
       "      <td>28</td>\n",
       "      <td>2</td>\n",
       "      <td>1</td>\n",
       "      <td>23</td>\n",
       "      <td>2</td>\n",
       "    </tr>\n",
       "  </tbody>\n",
       "</table>\n",
       "</div>"
      ],
      "text/plain": [
       "      Strain      Gene          Parent  Expected  Ref  Alt  Refstop  Altstop  \\\n",
       "83   SS-A837  CNN01270  CNN01270-t26_1     691.0  456  691        2        0   \n",
       "175   XL280a  CNN01270  CNN01270-t26_1     691.0  456  456        2        2   \n",
       "\n",
       "     Nonsyn  Nvars  Utr5  Utr3  Exon  Intron  \n",
       "83      223     28     2     1    23       2  \n",
       "175       1     28     2     1    23       2  "
      ]
     },
     "execution_count": 22,
     "metadata": {},
     "output_type": "execute_result"
    }
   ],
   "source": [
    "toredo"
   ]
  },
  {
   "cell_type": "code",
   "execution_count": 14,
   "metadata": {},
   "outputs": [
    {
     "data": {
      "text/plain": [
       "(2,)"
      ]
     },
     "execution_count": 14,
     "metadata": {},
     "output_type": "execute_result"
    }
   ],
   "source": [
    "resdf.Strain.unique().shape"
   ]
  },
  {
   "cell_type": "code",
   "execution_count": 15,
   "metadata": {},
   "outputs": [
    {
     "data": {
      "text/plain": [
       "['CNB03090', 'CNK00230', 'CNK00260', 'CNN01270']"
      ]
     },
     "execution_count": 15,
     "metadata": {},
     "output_type": "execute_result"
    }
   ],
   "source": [
    "## Genes with stop gains within them\n",
    "sorted(resdf[(resdf.Altstop>1)].Gene.unique())[:5]"
   ]
  },
  {
   "cell_type": "code",
   "execution_count": 85,
   "metadata": {},
   "outputs": [
    {
     "data": {
      "text/html": [
       "<div>\n",
       "<style scoped>\n",
       "    .dataframe tbody tr th:only-of-type {\n",
       "        vertical-align: middle;\n",
       "    }\n",
       "\n",
       "    .dataframe tbody tr th {\n",
       "        vertical-align: top;\n",
       "    }\n",
       "\n",
       "    .dataframe thead th {\n",
       "        text-align: right;\n",
       "    }\n",
       "</style>\n",
       "<table border=\"1\" class=\"dataframe\">\n",
       "  <thead>\n",
       "    <tr style=\"text-align: right;\">\n",
       "      <th></th>\n",
       "      <th>Strain</th>\n",
       "      <th>Gene</th>\n",
       "      <th>Parent</th>\n",
       "      <th>Expected</th>\n",
       "      <th>Ref</th>\n",
       "      <th>Alt</th>\n",
       "      <th>Refstop</th>\n",
       "      <th>Altstop</th>\n",
       "      <th>Nonsyn</th>\n",
       "      <th>Nvars</th>\n",
       "      <th>Utr5</th>\n",
       "      <th>Utr3</th>\n",
       "      <th>Exon</th>\n",
       "      <th>Intron</th>\n",
       "    </tr>\n",
       "  </thead>\n",
       "  <tbody>\n",
       "    <tr>\n",
       "      <th>11</th>\n",
       "      <td>SS-A837</td>\n",
       "      <td>CNB03090</td>\n",
       "      <td>CNB03090-t26_1</td>\n",
       "      <td>1337.0</td>\n",
       "      <td>1337</td>\n",
       "      <td>157</td>\n",
       "      <td>1</td>\n",
       "      <td>64</td>\n",
       "      <td>75</td>\n",
       "      <td>38</td>\n",
       "      <td>0</td>\n",
       "      <td>0</td>\n",
       "      <td>37</td>\n",
       "      <td>1</td>\n",
       "    </tr>\n",
       "    <tr>\n",
       "      <th>103</th>\n",
       "      <td>XL280a</td>\n",
       "      <td>CNB03090</td>\n",
       "      <td>CNB03090-t26_1</td>\n",
       "      <td>1337.0</td>\n",
       "      <td>1337</td>\n",
       "      <td>1337</td>\n",
       "      <td>1</td>\n",
       "      <td>1</td>\n",
       "      <td>0</td>\n",
       "      <td>37</td>\n",
       "      <td>0</td>\n",
       "      <td>0</td>\n",
       "      <td>36</td>\n",
       "      <td>1</td>\n",
       "    </tr>\n",
       "  </tbody>\n",
       "</table>\n",
       "</div>"
      ],
      "text/plain": [
       "      Strain      Gene          Parent  Expected   Ref   Alt  Refstop  \\\n",
       "11   SS-A837  CNB03090  CNB03090-t26_1    1337.0  1337   157        1   \n",
       "103   XL280a  CNB03090  CNB03090-t26_1    1337.0  1337  1337        1   \n",
       "\n",
       "     Altstop  Nonsyn  Nvars  Utr5  Utr3  Exon  Intron  \n",
       "11        64      75     38     0     0    37       1  \n",
       "103        1       0     37     0     0    36       1  "
      ]
     },
     "execution_count": 85,
     "metadata": {},
     "output_type": "execute_result"
    }
   ],
   "source": [
    "## CNF02550 hypothetical \n",
    "ssk1_name = 'CNB03090'\n",
    "resdf[(resdf.Gene==ssk1_name)]"
   ]
  },
  {
   "cell_type": "code",
   "execution_count": 17,
   "metadata": {},
   "outputs": [
    {
     "data": {
      "text/html": [
       "<div>\n",
       "<style scoped>\n",
       "    .dataframe tbody tr th:only-of-type {\n",
       "        vertical-align: middle;\n",
       "    }\n",
       "\n",
       "    .dataframe tbody tr th {\n",
       "        vertical-align: top;\n",
       "    }\n",
       "\n",
       "    .dataframe thead th {\n",
       "        text-align: right;\n",
       "    }\n",
       "</style>\n",
       "<table border=\"1\" class=\"dataframe\">\n",
       "  <thead>\n",
       "    <tr style=\"text-align: right;\">\n",
       "      <th></th>\n",
       "      <th>Strain</th>\n",
       "      <th>Gene</th>\n",
       "      <th>Parent</th>\n",
       "      <th>Expected</th>\n",
       "      <th>Ref</th>\n",
       "      <th>Alt</th>\n",
       "      <th>Refstop</th>\n",
       "      <th>Altstop</th>\n",
       "      <th>Nonsyn</th>\n",
       "      <th>Nvars</th>\n",
       "      <th>Utr5</th>\n",
       "      <th>Utr3</th>\n",
       "      <th>Exon</th>\n",
       "      <th>Intron</th>\n",
       "    </tr>\n",
       "  </thead>\n",
       "  <tbody>\n",
       "    <tr>\n",
       "      <th>83</th>\n",
       "      <td>SS-A837</td>\n",
       "      <td>CNN01270</td>\n",
       "      <td>CNN01270-t26_1</td>\n",
       "      <td>691.0</td>\n",
       "      <td>456</td>\n",
       "      <td>691</td>\n",
       "      <td>2</td>\n",
       "      <td>0</td>\n",
       "      <td>223</td>\n",
       "      <td>28</td>\n",
       "      <td>2</td>\n",
       "      <td>1</td>\n",
       "      <td>23</td>\n",
       "      <td>2</td>\n",
       "    </tr>\n",
       "    <tr>\n",
       "      <th>175</th>\n",
       "      <td>XL280a</td>\n",
       "      <td>CNN01270</td>\n",
       "      <td>CNN01270-t26_1</td>\n",
       "      <td>691.0</td>\n",
       "      <td>456</td>\n",
       "      <td>456</td>\n",
       "      <td>2</td>\n",
       "      <td>2</td>\n",
       "      <td>1</td>\n",
       "      <td>28</td>\n",
       "      <td>2</td>\n",
       "      <td>1</td>\n",
       "      <td>23</td>\n",
       "      <td>2</td>\n",
       "    </tr>\n",
       "  </tbody>\n",
       "</table>\n",
       "</div>"
      ],
      "text/plain": [
       "      Strain      Gene          Parent  Expected  Ref  Alt  Refstop  Altstop  \\\n",
       "83   SS-A837  CNN01270  CNN01270-t26_1     691.0  456  691        2        0   \n",
       "175   XL280a  CNN01270  CNN01270-t26_1     691.0  456  456        2        2   \n",
       "\n",
       "     Nonsyn  Nvars  Utr5  Utr3  Exon  Intron  \n",
       "83      223     28     2     1    23       2  \n",
       "175       1     28     2     1    23       2  "
      ]
     },
     "execution_count": 17,
     "metadata": {},
     "output_type": "execute_result"
    }
   ],
   "source": [
    "ric8_name = 'CNN01270'\n",
    "resdf[(resdf.Gene==ric8_name)]"
   ]
  },
  {
   "cell_type": "code",
   "execution_count": 87,
   "metadata": {},
   "outputs": [
    {
     "data": {
      "text/html": [
       "<div>\n",
       "<style scoped>\n",
       "    .dataframe tbody tr th:only-of-type {\n",
       "        vertical-align: middle;\n",
       "    }\n",
       "\n",
       "    .dataframe tbody tr th {\n",
       "        vertical-align: top;\n",
       "    }\n",
       "\n",
       "    .dataframe thead th {\n",
       "        text-align: right;\n",
       "    }\n",
       "</style>\n",
       "<table border=\"1\" class=\"dataframe\">\n",
       "  <thead>\n",
       "    <tr style=\"text-align: right;\">\n",
       "      <th></th>\n",
       "      <th>Pos</th>\n",
       "      <th>Ref</th>\n",
       "      <th>Alt</th>\n",
       "      <th>Isvar</th>\n",
       "      <th>Strand</th>\n",
       "      <th>Type</th>\n",
       "      <th>Phase</th>\n",
       "      <th>Gene</th>\n",
       "      <th>Sample</th>\n",
       "    </tr>\n",
       "  </thead>\n",
       "  <tbody>\n",
       "    <tr>\n",
       "      <th>0</th>\n",
       "      <td>386835</td>\n",
       "      <td>A</td>\n",
       "      <td>A</td>\n",
       "      <td>0</td>\n",
       "      <td>1</td>\n",
       "      <td>5</td>\n",
       "      <td>-1</td>\n",
       "      <td>CNN01270-t26_1</td>\n",
       "      <td>SS-A837</td>\n",
       "    </tr>\n",
       "    <tr>\n",
       "      <th>1</th>\n",
       "      <td>386836</td>\n",
       "      <td>A</td>\n",
       "      <td>A</td>\n",
       "      <td>0</td>\n",
       "      <td>1</td>\n",
       "      <td>5</td>\n",
       "      <td>-1</td>\n",
       "      <td>CNN01270-t26_1</td>\n",
       "      <td>SS-A837</td>\n",
       "    </tr>\n",
       "    <tr>\n",
       "      <th>2</th>\n",
       "      <td>386837</td>\n",
       "      <td>G</td>\n",
       "      <td>G</td>\n",
       "      <td>0</td>\n",
       "      <td>1</td>\n",
       "      <td>5</td>\n",
       "      <td>-1</td>\n",
       "      <td>CNN01270-t26_1</td>\n",
       "      <td>SS-A837</td>\n",
       "    </tr>\n",
       "    <tr>\n",
       "      <th>3</th>\n",
       "      <td>386838</td>\n",
       "      <td>T</td>\n",
       "      <td>T</td>\n",
       "      <td>0</td>\n",
       "      <td>1</td>\n",
       "      <td>5</td>\n",
       "      <td>-1</td>\n",
       "      <td>CNN01270-t26_1</td>\n",
       "      <td>SS-A837</td>\n",
       "    </tr>\n",
       "    <tr>\n",
       "      <th>4</th>\n",
       "      <td>386839</td>\n",
       "      <td>A</td>\n",
       "      <td>A</td>\n",
       "      <td>0</td>\n",
       "      <td>1</td>\n",
       "      <td>5</td>\n",
       "      <td>-1</td>\n",
       "      <td>CNN01270-t26_1</td>\n",
       "      <td>SS-A837</td>\n",
       "    </tr>\n",
       "  </tbody>\n",
       "</table>\n",
       "</div>"
      ],
      "text/plain": [
       "      Pos Ref Alt  Isvar  Strand  Type  Phase            Gene   Sample\n",
       "0  386835   A   A      0       1     5     -1  CNN01270-t26_1  SS-A837\n",
       "1  386836   A   A      0       1     5     -1  CNN01270-t26_1  SS-A837\n",
       "2  386837   G   G      0       1     5     -1  CNN01270-t26_1  SS-A837\n",
       "3  386838   T   T      0       1     5     -1  CNN01270-t26_1  SS-A837\n",
       "4  386839   A   A      0       1     5     -1  CNN01270-t26_1  SS-A837"
      ]
     },
     "execution_count": 87,
     "metadata": {},
     "output_type": "execute_result"
    }
   ],
   "source": [
    "ric8path = '../DATA/GENOTYPE/GENES/SS-A837/CNN01270-t26_1.csv.gz'\n",
    "ric8 = pd.read_csv(ric8path,index_col=0)\n",
    "ric8.head()"
   ]
  },
  {
   "cell_type": "code",
   "execution_count": 88,
   "metadata": {},
   "outputs": [
    {
     "data": {
      "text/html": [
       "<div>\n",
       "<style scoped>\n",
       "    .dataframe tbody tr th:only-of-type {\n",
       "        vertical-align: middle;\n",
       "    }\n",
       "\n",
       "    .dataframe tbody tr th {\n",
       "        vertical-align: top;\n",
       "    }\n",
       "\n",
       "    .dataframe thead th {\n",
       "        text-align: right;\n",
       "    }\n",
       "</style>\n",
       "<table border=\"1\" class=\"dataframe\">\n",
       "  <thead>\n",
       "    <tr style=\"text-align: right;\">\n",
       "      <th></th>\n",
       "      <th>Pos</th>\n",
       "      <th>Ref</th>\n",
       "      <th>Alt</th>\n",
       "      <th>Isvar</th>\n",
       "      <th>Strand</th>\n",
       "      <th>Type</th>\n",
       "      <th>Phase</th>\n",
       "      <th>Gene</th>\n",
       "      <th>Sample</th>\n",
       "    </tr>\n",
       "  </thead>\n",
       "  <tbody>\n",
       "    <tr>\n",
       "      <th>322</th>\n",
       "      <td>387157</td>\n",
       "      <td>A</td>\n",
       "      <td>A</td>\n",
       "      <td>0</td>\n",
       "      <td>1</td>\n",
       "      <td>0</td>\n",
       "      <td>0</td>\n",
       "      <td>CNN01270-t26_1</td>\n",
       "      <td>SS-A837</td>\n",
       "    </tr>\n",
       "    <tr>\n",
       "      <th>323</th>\n",
       "      <td>387158</td>\n",
       "      <td>T</td>\n",
       "      <td>T</td>\n",
       "      <td>0</td>\n",
       "      <td>1</td>\n",
       "      <td>0</td>\n",
       "      <td>0</td>\n",
       "      <td>CNN01270-t26_1</td>\n",
       "      <td>SS-A837</td>\n",
       "    </tr>\n",
       "    <tr>\n",
       "      <th>324</th>\n",
       "      <td>387159</td>\n",
       "      <td>G</td>\n",
       "      <td>G</td>\n",
       "      <td>0</td>\n",
       "      <td>1</td>\n",
       "      <td>0</td>\n",
       "      <td>0</td>\n",
       "      <td>CNN01270-t26_1</td>\n",
       "      <td>SS-A837</td>\n",
       "    </tr>\n",
       "    <tr>\n",
       "      <th>325</th>\n",
       "      <td>387160</td>\n",
       "      <td>T</td>\n",
       "      <td>T</td>\n",
       "      <td>0</td>\n",
       "      <td>1</td>\n",
       "      <td>0</td>\n",
       "      <td>0</td>\n",
       "      <td>CNN01270-t26_1</td>\n",
       "      <td>SS-A837</td>\n",
       "    </tr>\n",
       "    <tr>\n",
       "      <th>326</th>\n",
       "      <td>387161</td>\n",
       "      <td>C</td>\n",
       "      <td>C</td>\n",
       "      <td>0</td>\n",
       "      <td>1</td>\n",
       "      <td>0</td>\n",
       "      <td>0</td>\n",
       "      <td>CNN01270-t26_1</td>\n",
       "      <td>SS-A837</td>\n",
       "    </tr>\n",
       "  </tbody>\n",
       "</table>\n",
       "</div>"
      ],
      "text/plain": [
       "        Pos Ref Alt  Isvar  Strand  Type  Phase            Gene   Sample\n",
       "322  387157   A   A      0       1     0      0  CNN01270-t26_1  SS-A837\n",
       "323  387158   T   T      0       1     0      0  CNN01270-t26_1  SS-A837\n",
       "324  387159   G   G      0       1     0      0  CNN01270-t26_1  SS-A837\n",
       "325  387160   T   T      0       1     0      0  CNN01270-t26_1  SS-A837\n",
       "326  387161   C   C      0       1     0      0  CNN01270-t26_1  SS-A837"
      ]
     },
     "execution_count": 88,
     "metadata": {},
     "output_type": "execute_result"
    }
   ],
   "source": [
    "ric8[(ric8.Type==0)].head()"
   ]
  },
  {
   "cell_type": "code",
   "execution_count": 89,
   "metadata": {},
   "outputs": [
    {
     "data": {
      "text/html": [
       "<div>\n",
       "<style scoped>\n",
       "    .dataframe tbody tr th:only-of-type {\n",
       "        vertical-align: middle;\n",
       "    }\n",
       "\n",
       "    .dataframe tbody tr th {\n",
       "        vertical-align: top;\n",
       "    }\n",
       "\n",
       "    .dataframe thead th {\n",
       "        text-align: right;\n",
       "    }\n",
       "</style>\n",
       "<table border=\"1\" class=\"dataframe\">\n",
       "  <thead>\n",
       "    <tr style=\"text-align: right;\">\n",
       "      <th></th>\n",
       "      <th>Pos</th>\n",
       "      <th>Ref</th>\n",
       "      <th>Alt</th>\n",
       "      <th>Isvar</th>\n",
       "      <th>Strand</th>\n",
       "      <th>Type</th>\n",
       "      <th>Phase</th>\n",
       "      <th>Gene</th>\n",
       "      <th>Sample</th>\n",
       "    </tr>\n",
       "  </thead>\n",
       "  <tbody>\n",
       "    <tr>\n",
       "      <th>2712</th>\n",
       "      <td>389547</td>\n",
       "      <td>G</td>\n",
       "      <td>G</td>\n",
       "      <td>0</td>\n",
       "      <td>1</td>\n",
       "      <td>0</td>\n",
       "      <td>2</td>\n",
       "      <td>CNN01270-t26_1</td>\n",
       "      <td>SS-A837</td>\n",
       "    </tr>\n",
       "    <tr>\n",
       "      <th>2713</th>\n",
       "      <td>389548</td>\n",
       "      <td>G</td>\n",
       "      <td>G</td>\n",
       "      <td>0</td>\n",
       "      <td>1</td>\n",
       "      <td>0</td>\n",
       "      <td>2</td>\n",
       "      <td>CNN01270-t26_1</td>\n",
       "      <td>SS-A837</td>\n",
       "    </tr>\n",
       "    <tr>\n",
       "      <th>26</th>\n",
       "      <td>389549</td>\n",
       "      <td>T</td>\n",
       "      <td>C</td>\n",
       "      <td>1</td>\n",
       "      <td>1</td>\n",
       "      <td>0</td>\n",
       "      <td>2</td>\n",
       "      <td>CNN01270-t26_1</td>\n",
       "      <td>SS-A837</td>\n",
       "    </tr>\n",
       "    <tr>\n",
       "      <th>2715</th>\n",
       "      <td>389550</td>\n",
       "      <td>A</td>\n",
       "      <td>A</td>\n",
       "      <td>0</td>\n",
       "      <td>1</td>\n",
       "      <td>0</td>\n",
       "      <td>2</td>\n",
       "      <td>CNN01270-t26_1</td>\n",
       "      <td>SS-A837</td>\n",
       "    </tr>\n",
       "    <tr>\n",
       "      <th>2716</th>\n",
       "      <td>389551</td>\n",
       "      <td>G</td>\n",
       "      <td>G</td>\n",
       "      <td>0</td>\n",
       "      <td>1</td>\n",
       "      <td>0</td>\n",
       "      <td>2</td>\n",
       "      <td>CNN01270-t26_1</td>\n",
       "      <td>SS-A837</td>\n",
       "    </tr>\n",
       "  </tbody>\n",
       "</table>\n",
       "</div>"
      ],
      "text/plain": [
       "         Pos Ref Alt  Isvar  Strand  Type  Phase            Gene   Sample\n",
       "2712  389547   G   G      0       1     0      2  CNN01270-t26_1  SS-A837\n",
       "2713  389548   G   G      0       1     0      2  CNN01270-t26_1  SS-A837\n",
       "26    389549   T   C      1       1     0      2  CNN01270-t26_1  SS-A837\n",
       "2715  389550   A   A      0       1     0      2  CNN01270-t26_1  SS-A837\n",
       "2716  389551   G   G      0       1     0      2  CNN01270-t26_1  SS-A837"
      ]
     },
     "execution_count": 89,
     "metadata": {},
     "output_type": "execute_result"
    }
   ],
   "source": [
    "ric8[(ric8.Type==0) & (ric8)]"
   ]
  },
  {
   "cell_type": "code",
   "execution_count": null,
   "metadata": {},
   "outputs": [],
   "source": [
    "ric8[(ric8.)]"
   ]
  },
  {
   "cell_type": "code",
   "execution_count": null,
   "metadata": {},
   "outputs": [],
   "source": []
  },
  {
   "cell_type": "code",
   "execution_count": null,
   "metadata": {},
   "outputs": [],
   "source": [
    "ric8.tail()"
   ]
  },
  {
   "cell_type": "code",
   "execution_count": null,
   "metadata": {},
   "outputs": [],
   "source": [
    "finalres = resdf.merge(genes[['Gene','Chromosome','Seqid',\n",
    "                   'Start','End','Strand','Description']])"
   ]
  },
  {
   "cell_type": "code",
   "execution_count": null,
   "metadata": {},
   "outputs": [],
   "source": [
    "finalres.head()"
   ]
  },
  {
   "cell_type": "code",
   "execution_count": null,
   "metadata": {},
   "outputs": [],
   "source": [
    "altstoped = finalres[(finalres.Altstop>1)]\n",
    "altstoped.shape"
   ]
  },
  {
   "cell_type": "code",
   "execution_count": null,
   "metadata": {},
   "outputs": [],
   "source": [
    "altstoped"
   ]
  },
  {
   "cell_type": "code",
   "execution_count": null,
   "metadata": {},
   "outputs": [],
   "source": [
    "finalres.to_csv('../DATA/gene_changes.csv.gz',index=None)\n",
    "finalres.shape"
   ]
  },
  {
   "cell_type": "code",
   "execution_count": null,
   "metadata": {},
   "outputs": [],
   "source": [
    "#test = pd.read_csv('../DATA/OLD/gene_changes.csv.gz')\n",
    "#test.shape"
   ]
  },
  {
   "cell_type": "code",
   "execution_count": null,
   "metadata": {},
   "outputs": [],
   "source": [
    "#test[(test.Strain=='Stock6') & (test.Altstop>1)]"
   ]
  },
  {
   "cell_type": "code",
   "execution_count": null,
   "metadata": {},
   "outputs": [],
   "source": [
    "#test[(test.Strain=='CF830') & (resdf.Altstop>1)]"
   ]
  },
  {
   "cell_type": "code",
   "execution_count": null,
   "metadata": {},
   "outputs": [],
   "source": [
    "#test[(test.Gene==ric8_name)]"
   ]
  },
  {
   "cell_type": "code",
   "execution_count": null,
   "metadata": {},
   "outputs": [],
   "source": [
    "#a1 = pd.read_csv('../GENES/B3502_A1_Stock1/CNN01270-t26_1.csv.gz',\n",
    "#                 index_col=0)\n",
    "#a1[(a1.Isvar==1)]"
   ]
  },
  {
   "cell_type": "code",
   "execution_count": null,
   "metadata": {},
   "outputs": [],
   "source": [
    "#d1 = pd.read_csv('../GENES/B3502_D1_Stock6/CNN01270-t26_1.csv.gz',\n",
    "#                 index_col=0)\n",
    "#d1[(d1.Isvar==1)]"
   ]
  },
  {
   "cell_type": "code",
   "execution_count": null,
   "metadata": {},
   "outputs": [],
   "source": []
  }
 ],
 "metadata": {
  "kernelspec": {
   "display_name": "Python 3",
   "language": "python",
   "name": "python3"
  },
  "language_info": {
   "codemirror_mode": {
    "name": "ipython",
    "version": 3
   },
   "file_extension": ".py",
   "mimetype": "text/x-python",
   "name": "python",
   "nbconvert_exporter": "python",
   "pygments_lexer": "ipython3",
   "version": "3.7.3"
  }
 },
 "nbformat": 4,
 "nbformat_minor": 4
}
