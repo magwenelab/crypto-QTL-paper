{
 "cells": [
  {
   "cell_type": "code",
   "execution_count": 1,
   "metadata": {},
   "outputs": [],
   "source": [
    "from Bio.Seq import Seq\n",
    "from Bio import SeqIO\n",
    "from Bio.SeqRecord import SeqRecord\n",
    "import pandas as pd, numpy as np\n",
    "from matplotlib import pyplot as plt\n",
    "import seaborn as sns"
   ]
  },
  {
   "cell_type": "code",
   "execution_count": 2,
   "metadata": {},
   "outputs": [],
   "source": [
    "B3015 = [r for r in SeqIO.parse('/Users/croth/Downloads/Cryptococcus_neoformans_var_neoformans_b_3501a_gca_000149385.ASM14938v1.dna.toplevel.fa',\n",
    "                               format = 'fasta')]"
   ]
  },
  {
   "cell_type": "code",
   "execution_count": 3,
   "metadata": {},
   "outputs": [],
   "source": [
    "Chr14 = [r for r in B3015 if r.name == '14'][0]"
   ]
  },
  {
   "cell_type": "code",
   "execution_count": 4,
   "metadata": {},
   "outputs": [
    {
     "data": {
      "text/plain": [
       "SeqRecord(seq=Seq('AACCCCCTAACCCCCTAACCCCCTAACCCCCTAACCCCCTAACCCCCTAACCCC...GAC', SingleLetterAlphabet()), id='14', name='14', description='14 dna:chromosome chromosome:ASM14938v1:14:1:767333:1 REF', dbxrefs=[])"
      ]
     },
     "execution_count": 4,
     "metadata": {},
     "output_type": "execute_result"
    }
   ],
   "source": [
    "Chr14"
   ]
  },
  {
   "cell_type": "code",
   "execution_count": 5,
   "metadata": {},
   "outputs": [],
   "source": [
    "ric8_loc = np.array([387244-1,389638])"
   ]
  },
  {
   "cell_type": "code",
   "execution_count": 6,
   "metadata": {},
   "outputs": [],
   "source": [
    "ric8_seq = 'ATGTCCGTCAAGAGCCTATTAGCTTCGAGCTACGGCTCTATTGAGAACCGACGATACTCTTTAGATAGAATACGAGGGGAACTGAATGCTGTAGTAGAAGgtaagtaatcaccgtacccccgtaatgaccattcgttcacttgtctgctgcactgctgttatagCTCTCCCGACGCAAGTGCATCCAGCTGAAAGAGAGATTTACCTGAACGACATTCTATCCGACCTGCATCCGAAAGAAGAAGCAATATGGAGGGATTGGCCAAGCGATGgtaagctcatcttgtgcctagagaatatcagaataccgcgtttatcaagagcgtagTCTACCTACTTGCCCTCACGGCTGTCAAATGCCTCGGACGAAACCCCATTGGATCAGAAACCCTGCTCTCAAGCCATCACATTTCCACTCTCATGTTTCATTCAACATTACTATCAGATGATTCTGCGACGTTTCCGACCGTCGTTGCCCAGTCATCAACGTCACCACAGGCTCGTGAAGCCTTGAAGATCTTGGCCAACATGCTAGTTCTTCACACCGCCGGACGTATCGAATTCTTCAAAGCCCGCGGAGCTATAGCGGTTGCTCGCGCTTTGTCCGAAAGTTCTACACAAGACGAGAATGATGCAGCGCATGCGGAAAAGCTGTTTTTACTGGGGAGACTTGGATTTTTGGTCACTGTGGAAAGGGCTGAAGCGGCGAAGCAGATGGTAGATAACGAGGTGGTGGATGCCCTCGTGCAGGTGAGACTGTCCATCTCGTCCAAGACAGAACTAACGAAGGAGCAGATTTTCATGTCGGCCTCTGTCTTACCCGCTTCTTTCTTGTATCTGAGCGAATTGCTCAAACTGACGAACGCATTACTTCAATTCTATCCTTATAAACAGCCCTCTGATGCTACAACTGGTGTTGATCCTTGGGACGAAAAGTTTGATTAgtgagtaattgttgttaaacagttcagttctgatcttatctctaagccttctttaccctcttttgcgccttttttacgctactccaacggtcgatcttagCCCGCCACTTACCCACATCATGAATACTCTGCTTTTGATACCGTTCAAAACACGTTTGTTACCAACATGGGCTTCGGTCCCTGAAAGTCCCGGTTCCCTACAAGTCAACAGTCCCTCGAGCCCTTCGTCCACAATGAGAAATATTCTCACCAAGCTGGGAAACATAGCTTCACCATCCAGCCCTCGCAAGTCTTCGGCCGGCTCACTTGCCCCGCCTGGTTCTAGGCCGCCAGCAGGTGGTCAGAGATCCGCACCAAATTCACCGCGAGGTAGTTTCTCGTCTTCGAGGCCTGGCTTTGGTGCGACATCCGATCATTTCGCGCTATCGTCAAGGCTTCTGAAGATCCTTGACCGGTTCTTTGAGGCATATCTACCATACCCTAAACGGCCGGATGACGATCTGCCTCATTCACTTGTACTGGATGAAATACTTCCTCCGTTATTACTCTTAATGACACGAGCCACATGGGGTTTGGAAAACGTGCGGTTATCGATCAAAGAAATTTTATTACCTTCCTCTCTgtaggtctgctctctggtggattttatcaaattcaattgacgttttatgctgcagAGACCGCTCATCAGAAGCAGGGCCGCTTGAATCCCGCAAGGGTTTACTAGGCAACATTCTGCGTTTAATGGCTTGTGCAGGTCATACTCAAACAAGAAATGCTGCCGGAGAGTTGATGTGGGCAATCTGCAATGGTAATGgtatgtttagattctcccatattttacaagcaactttgctgagcttcggacagCTTCCGATCTCTGCGTAGAAATCGGCTATGGCAACGCAGCTGGCATACTGTTCCAAAAAGGGCTCACTGGTCCACCATCGGCAAAGGTCGAAGAGATTGACCAGCCTAATCCTTCGCAGACCGTGATGCAAATAGCCAAGTCATCTAATCGCCGATCAGACGTCCGGTCGCCTGTAACAACTGTCCAGCCGGCTACGCCTTCTTCTACGTCGACATTCAGCGCCGAAACTTTGAGGAATCCAATCACAGGTATTGAGAACGGTAATCAAGCGACAGGTGACCTGGACGAAATGACTCAGGAAGAGAAGGAGCGCGAAGCAGAAAGGTTGTTTATTTTGTTTGATAGGATGGAGAAGAATCCTGTGATTAGCATGAAGTCAGGGGATGACCAAGACGGACAAAAGAGTAAGGCTCAAGGGCTGAAGGATATAATGAGAGAAAAGTTAGAGAGTGGGGATATGGAGAGATGGGATCGCAAGGATGAGCAAGAGGAGAGACAGAGATTGGAGGAGGAGGCGCAAAAAGACGAAGAGGAAGCTTTCCGGGAGCTTGCGGCCTATAAACGACGCACTGGAAGGTAG' "
   ]
  },
  {
   "cell_type": "code",
   "execution_count": 7,
   "metadata": {},
   "outputs": [
    {
     "data": {
      "text/plain": [
       "True"
      ]
     },
     "execution_count": 7,
     "metadata": {},
     "output_type": "execute_result"
    }
   ],
   "source": [
    "not ric8_seq[0].islower()"
   ]
  },
  {
   "cell_type": "code",
   "execution_count": 8,
   "metadata": {},
   "outputs": [],
   "source": [
    "exon_ix = []\n",
    "for c in ric8_seq:\n",
    "    if not c.islower():\n",
    "        exon_ix.append(1)\n",
    "    else:\n",
    "        exon_ix.append(0)\n",
    "exon_ix = np.array(exon_ix,dtype=float)"
   ]
  },
  {
   "cell_type": "code",
   "execution_count": 9,
   "metadata": {},
   "outputs": [
    {
     "data": {
      "text/plain": [
       "2395"
      ]
     },
     "execution_count": 9,
     "metadata": {},
     "output_type": "execute_result"
    }
   ],
   "source": [
    "len(exon_ix)"
   ]
  },
  {
   "cell_type": "code",
   "execution_count": 10,
   "metadata": {},
   "outputs": [
    {
     "data": {
      "text/plain": [
       "2067.0"
      ]
     },
     "execution_count": 10,
     "metadata": {},
     "output_type": "execute_result"
    }
   ],
   "source": [
    "np.sum(exon_ix)"
   ]
  },
  {
   "cell_type": "code",
   "execution_count": 11,
   "metadata": {},
   "outputs": [
    {
     "data": {
      "text/plain": [
       "689.0"
      ]
     },
     "execution_count": 11,
     "metadata": {},
     "output_type": "execute_result"
    }
   ],
   "source": [
    "np.sum(exon_ix)/3"
   ]
  },
  {
   "cell_type": "code",
   "execution_count": 12,
   "metadata": {},
   "outputs": [
    {
     "data": {
      "text/plain": [
       "Seq('AGGTAG', SingleLetterAlphabet())"
      ]
     },
     "execution_count": 12,
     "metadata": {},
     "output_type": "execute_result"
    }
   ],
   "source": [
    "Chr14.seq[ric8_loc[1]-6:ric8_loc[1]]"
   ]
  },
  {
   "cell_type": "code",
   "execution_count": 13,
   "metadata": {},
   "outputs": [
    {
     "data": {
      "text/plain": [
       "Seq('ATGTCCGTCAAGAGCCTATTAGCTTCGAGCTACGGCTCTATTGAGAACCGACGA...TAG', SingleLetterAlphabet())"
      ]
     },
     "execution_count": 13,
     "metadata": {},
     "output_type": "execute_result"
    }
   ],
   "source": [
    "Chr14.seq[ric8_loc[0]:ric8_loc[1]]"
   ]
  },
  {
   "cell_type": "code",
   "execution_count": 14,
   "metadata": {},
   "outputs": [],
   "source": [
    "ric8_ref = Chr14.seq[ric8_loc[0]:ric8_loc[1]]"
   ]
  },
  {
   "cell_type": "code",
   "execution_count": 15,
   "metadata": {},
   "outputs": [
    {
     "data": {
      "text/plain": [
       "True"
      ]
     },
     "execution_count": 15,
     "metadata": {},
     "output_type": "execute_result"
    }
   ],
   "source": [
    "len(ric8_ref) == len(ric8_seq)"
   ]
  },
  {
   "cell_type": "code",
   "execution_count": null,
   "metadata": {},
   "outputs": [],
   "source": []
  }
 ],
 "metadata": {
  "kernelspec": {
   "display_name": "Python 3",
   "language": "python",
   "name": "python3"
  },
  "language_info": {
   "codemirror_mode": {
    "name": "ipython",
    "version": 3
   },
   "file_extension": ".py",
   "mimetype": "text/x-python",
   "name": "python",
   "nbconvert_exporter": "python",
   "pygments_lexer": "ipython3",
   "version": "3.7.3"
  }
 },
 "nbformat": 4,
 "nbformat_minor": 2
}
