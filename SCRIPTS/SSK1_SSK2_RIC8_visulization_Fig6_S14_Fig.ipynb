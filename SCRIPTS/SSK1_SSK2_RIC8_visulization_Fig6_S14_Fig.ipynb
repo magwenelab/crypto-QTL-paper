{
 "cells": [
  {
   "cell_type": "code",
   "execution_count": 1,
   "metadata": {},
   "outputs": [],
   "source": [
    "from Bio.Seq import Seq\n",
    "from Bio import SeqIO\n",
    "from Bio.SeqRecord import SeqRecord\n",
    "import pandas as pd, numpy as np\n",
    "from matplotlib import pyplot as plt\n",
    "import seaborn as sns\n",
    "from PIL import Image"
   ]
  },
  {
   "cell_type": "code",
   "execution_count": 2,
   "metadata": {},
   "outputs": [],
   "source": [
    "gffpath = './xl280genome.gff3.csv.gz'\n",
    "ric8path = './CNN01270.csv.gz'\n",
    "ssk1path = './CNB03090.csv.gz'\n",
    "ssk2path = './CNL05560.csv.gz'"
   ]
  },
  {
   "cell_type": "code",
   "execution_count": 3,
   "metadata": {},
   "outputs": [],
   "source": [
    "gff = pd.read_csv(gffpath,index_col=0)"
   ]
  },
  {
   "cell_type": "code",
   "execution_count": 4,
   "metadata": {},
   "outputs": [],
   "source": [
    "ric8 = pd.read_csv(ric8path,index_col=0)\n",
    "ssk1 = pd.read_csv(ssk1path,index_col=0)\n",
    "ssk2 = pd.read_csv(ssk2path,index_col=0)"
   ]
  },
  {
   "cell_type": "code",
   "execution_count": 5,
   "metadata": {},
   "outputs": [],
   "source": [
    "ssk2_alt_temp = Seq(''.join(ssk2[(ssk2.Seq==1)].Alt.values)).translate(to_stop=True)"
   ]
  },
  {
   "cell_type": "code",
   "execution_count": 6,
   "metadata": {},
   "outputs": [
    {
     "data": {
      "text/plain": [
       "229"
      ]
     },
     "execution_count": 6,
     "metadata": {},
     "output_type": "execute_result"
    }
   ],
   "source": [
    "len('MSNPTSPTDPPDAGPPPPAIASSSKTGRRSVRLFAPDEEDSSDEDGLIGVPAETTFNDDEVPPSNTRSASYPGPPAHTSPTSKISSIVSSASAAQPKLARSITYVAPSAISSRPAYPLHPAGPETLHASYETWRKTRYTLESFSRAKADGKNAAQRGRSYTDPDVGYFSPDAGDDGWGSDDEDELRSPGWGISHHNMDSGGKTDGSPQLPIKPADVTEDEGQERLDWQG')"
   ]
  },
  {
   "cell_type": "code",
   "execution_count": 7,
   "metadata": {},
   "outputs": [
    {
     "data": {
      "text/plain": [
       "1337"
      ]
     },
     "execution_count": 7,
     "metadata": {},
     "output_type": "execute_result"
    }
   ],
   "source": [
    "ssk1_ref = Seq(''.join(ssk1[(ssk1.Seq==1)].Ref.values)).reverse_complement()\n",
    "len(ssk1_ref.translate(to_stop=True))"
   ]
  },
  {
   "cell_type": "code",
   "execution_count": 8,
   "metadata": {},
   "outputs": [
    {
     "name": "stderr",
     "output_type": "stream",
     "text": [
      "/home/croth/anaconda3/lib/python3.7/site-packages/Bio/Seq.py:2609: BiopythonWarning: Partial codon, len(sequence) not a multiple of three. Explicitly trim the sequence or add trailing N before translation. This may become an error in future.\n",
      "  BiopythonWarning)\n"
     ]
    },
    {
     "data": {
      "text/plain": [
       "157"
      ]
     },
     "execution_count": 8,
     "metadata": {},
     "output_type": "execute_result"
    }
   ],
   "source": [
    "ssk1_alt = Seq(''.join(ssk1[(ssk1.Seq==1)].Alt.values)).reverse_complement()\n",
    "len(ssk1_alt.translate(to_stop=True))"
   ]
  },
  {
   "cell_type": "code",
   "execution_count": 9,
   "metadata": {},
   "outputs": [
    {
     "data": {
      "text/plain": [
       "(386833, 389698)"
      ]
     },
     "execution_count": 9,
     "metadata": {},
     "output_type": "execute_result"
    }
   ],
   "source": [
    "ric8['Start'].min(),ric8['End'].max()"
   ]
  },
  {
   "cell_type": "code",
   "execution_count": 10,
   "metadata": {},
   "outputs": [],
   "source": [
    "ric8_xl280 = ''.join(ric8.Ref.tolist())\n",
    "ric8_431 = ''.join(ric8.Alt.tolist())"
   ]
  },
  {
   "cell_type": "code",
   "execution_count": 11,
   "metadata": {},
   "outputs": [],
   "source": [
    "#open('/Users/croth/Desktop/ric8.fasta','w').writelines('>XL280\\n'+ric8_xl280 + '\\n>431\\n'+ ric8_431)"
   ]
  },
  {
   "cell_type": "code",
   "execution_count": 12,
   "metadata": {},
   "outputs": [
    {
     "data": {
      "text/plain": [
       "2866"
      ]
     },
     "execution_count": 12,
     "metadata": {},
     "output_type": "execute_result"
    }
   ],
   "source": [
    "len(ric8_xl280)"
   ]
  },
  {
   "cell_type": "code",
   "execution_count": 13,
   "metadata": {},
   "outputs": [
    {
     "data": {
      "text/plain": [
       "2863"
      ]
     },
     "execution_count": 13,
     "metadata": {},
     "output_type": "execute_result"
    }
   ],
   "source": [
    "len(ric8_431)"
   ]
  },
  {
   "cell_type": "code",
   "execution_count": 14,
   "metadata": {},
   "outputs": [],
   "source": [
    "ric8_ref = Seq(''.join(ric8[(ric8.Seq==1)].Ref.tolist()))\n",
    "ric8_alt = Seq(''.join(ric8[(ric8.Seq==1)].Alt.tolist()))"
   ]
  },
  {
   "cell_type": "code",
   "execution_count": 15,
   "metadata": {},
   "outputs": [],
   "source": [
    "ric8['Pos1'] = ric8['Start'] - ric8.Start.min()\n",
    "ric8['Pos2'] = ric8['End'] - ric8.Start.min()"
   ]
  },
  {
   "cell_type": "code",
   "execution_count": 16,
   "metadata": {},
   "outputs": [
    {
     "data": {
      "text/html": [
       "<div>\n",
       "<style scoped>\n",
       "    .dataframe tbody tr th:only-of-type {\n",
       "        vertical-align: middle;\n",
       "    }\n",
       "\n",
       "    .dataframe tbody tr th {\n",
       "        vertical-align: top;\n",
       "    }\n",
       "\n",
       "    .dataframe thead th {\n",
       "        text-align: right;\n",
       "    }\n",
       "</style>\n",
       "<table border=\"1\" class=\"dataframe\">\n",
       "  <thead>\n",
       "    <tr style=\"text-align: right;\">\n",
       "      <th></th>\n",
       "      <th>Start</th>\n",
       "      <th>End</th>\n",
       "      <th>Ref</th>\n",
       "      <th>Alt</th>\n",
       "      <th>Var</th>\n",
       "      <th>Strand</th>\n",
       "      <th>Seq</th>\n",
       "      <th>Gene</th>\n",
       "      <th>Pos1</th>\n",
       "      <th>Pos2</th>\n",
       "    </tr>\n",
       "  </thead>\n",
       "  <tbody>\n",
       "    <tr>\n",
       "      <th>0</th>\n",
       "      <td>386833</td>\n",
       "      <td>386833</td>\n",
       "      <td>C</td>\n",
       "      <td>C</td>\n",
       "      <td>0.0</td>\n",
       "      <td>1</td>\n",
       "      <td>5</td>\n",
       "      <td>CNN01270</td>\n",
       "      <td>0</td>\n",
       "      <td>0</td>\n",
       "    </tr>\n",
       "    <tr>\n",
       "      <th>1</th>\n",
       "      <td>386834</td>\n",
       "      <td>386834</td>\n",
       "      <td>A</td>\n",
       "      <td>A</td>\n",
       "      <td>0.0</td>\n",
       "      <td>1</td>\n",
       "      <td>5</td>\n",
       "      <td>CNN01270</td>\n",
       "      <td>1</td>\n",
       "      <td>1</td>\n",
       "    </tr>\n",
       "    <tr>\n",
       "      <th>2</th>\n",
       "      <td>386835</td>\n",
       "      <td>386835</td>\n",
       "      <td>A</td>\n",
       "      <td>A</td>\n",
       "      <td>0.0</td>\n",
       "      <td>1</td>\n",
       "      <td>5</td>\n",
       "      <td>CNN01270</td>\n",
       "      <td>2</td>\n",
       "      <td>2</td>\n",
       "    </tr>\n",
       "    <tr>\n",
       "      <th>3</th>\n",
       "      <td>386836</td>\n",
       "      <td>386836</td>\n",
       "      <td>G</td>\n",
       "      <td>G</td>\n",
       "      <td>0.0</td>\n",
       "      <td>1</td>\n",
       "      <td>5</td>\n",
       "      <td>CNN01270</td>\n",
       "      <td>3</td>\n",
       "      <td>3</td>\n",
       "    </tr>\n",
       "    <tr>\n",
       "      <th>4</th>\n",
       "      <td>386837</td>\n",
       "      <td>386837</td>\n",
       "      <td>T</td>\n",
       "      <td>T</td>\n",
       "      <td>0.0</td>\n",
       "      <td>1</td>\n",
       "      <td>5</td>\n",
       "      <td>CNN01270</td>\n",
       "      <td>4</td>\n",
       "      <td>4</td>\n",
       "    </tr>\n",
       "  </tbody>\n",
       "</table>\n",
       "</div>"
      ],
      "text/plain": [
       "    Start     End Ref Alt  Var  Strand  Seq      Gene  Pos1  Pos2\n",
       "0  386833  386833   C   C  0.0       1    5  CNN01270     0     0\n",
       "1  386834  386834   A   A  0.0       1    5  CNN01270     1     1\n",
       "2  386835  386835   A   A  0.0       1    5  CNN01270     2     2\n",
       "3  386836  386836   G   G  0.0       1    5  CNN01270     3     3\n",
       "4  386837  386837   T   T  0.0       1    5  CNN01270     4     4"
      ]
     },
     "execution_count": 16,
     "metadata": {},
     "output_type": "execute_result"
    }
   ],
   "source": [
    "ric8.head()"
   ]
  },
  {
   "cell_type": "code",
   "execution_count": 17,
   "metadata": {},
   "outputs": [
    {
     "data": {
      "text/html": [
       "<div>\n",
       "<style scoped>\n",
       "    .dataframe tbody tr th:only-of-type {\n",
       "        vertical-align: middle;\n",
       "    }\n",
       "\n",
       "    .dataframe tbody tr th {\n",
       "        vertical-align: top;\n",
       "    }\n",
       "\n",
       "    .dataframe thead th {\n",
       "        text-align: right;\n",
       "    }\n",
       "</style>\n",
       "<table border=\"1\" class=\"dataframe\">\n",
       "  <thead>\n",
       "    <tr style=\"text-align: right;\">\n",
       "      <th></th>\n",
       "      <th>Start</th>\n",
       "      <th>End</th>\n",
       "      <th>Ref</th>\n",
       "      <th>Alt</th>\n",
       "      <th>Var</th>\n",
       "      <th>Strand</th>\n",
       "      <th>Seq</th>\n",
       "      <th>Gene</th>\n",
       "      <th>Pos1</th>\n",
       "      <th>Pos2</th>\n",
       "    </tr>\n",
       "  </thead>\n",
       "  <tbody>\n",
       "    <tr>\n",
       "      <th>2706</th>\n",
       "      <td>389546</td>\n",
       "      <td>389546</td>\n",
       "      <td>G</td>\n",
       "      <td>G</td>\n",
       "      <td>0.0</td>\n",
       "      <td>1</td>\n",
       "      <td>1</td>\n",
       "      <td>CNN01270</td>\n",
       "      <td>2713</td>\n",
       "      <td>2713</td>\n",
       "    </tr>\n",
       "    <tr>\n",
       "      <th>2707</th>\n",
       "      <td>389547</td>\n",
       "      <td>389547</td>\n",
       "      <td>G</td>\n",
       "      <td>G</td>\n",
       "      <td>0.0</td>\n",
       "      <td>1</td>\n",
       "      <td>1</td>\n",
       "      <td>CNN01270</td>\n",
       "      <td>2714</td>\n",
       "      <td>2714</td>\n",
       "    </tr>\n",
       "    <tr>\n",
       "      <th>2708</th>\n",
       "      <td>389548</td>\n",
       "      <td>389549</td>\n",
       "      <td>T</td>\n",
       "      <td>C</td>\n",
       "      <td>1.0</td>\n",
       "      <td>1</td>\n",
       "      <td>1</td>\n",
       "      <td>CNN01270</td>\n",
       "      <td>2715</td>\n",
       "      <td>2716</td>\n",
       "    </tr>\n",
       "    <tr>\n",
       "      <th>2709</th>\n",
       "      <td>389549</td>\n",
       "      <td>389549</td>\n",
       "      <td>A</td>\n",
       "      <td>A</td>\n",
       "      <td>0.0</td>\n",
       "      <td>1</td>\n",
       "      <td>1</td>\n",
       "      <td>CNN01270</td>\n",
       "      <td>2716</td>\n",
       "      <td>2716</td>\n",
       "    </tr>\n",
       "    <tr>\n",
       "      <th>2710</th>\n",
       "      <td>389550</td>\n",
       "      <td>389550</td>\n",
       "      <td>G</td>\n",
       "      <td>G</td>\n",
       "      <td>0.0</td>\n",
       "      <td>1</td>\n",
       "      <td>1</td>\n",
       "      <td>CNN01270</td>\n",
       "      <td>2717</td>\n",
       "      <td>2717</td>\n",
       "    </tr>\n",
       "  </tbody>\n",
       "</table>\n",
       "</div>"
      ],
      "text/plain": [
       "       Start     End Ref Alt  Var  Strand  Seq      Gene  Pos1  Pos2\n",
       "2706  389546  389546   G   G  0.0       1    1  CNN01270  2713  2713\n",
       "2707  389547  389547   G   G  0.0       1    1  CNN01270  2714  2714\n",
       "2708  389548  389549   T   C  1.0       1    1  CNN01270  2715  2716\n",
       "2709  389549  389549   A   A  0.0       1    1  CNN01270  2716  2716\n",
       "2710  389550  389550   G   G  0.0       1    1  CNN01270  2717  2717"
      ]
     },
     "execution_count": 17,
     "metadata": {},
     "output_type": "execute_result"
    }
   ],
   "source": [
    "ric8[(ric8.Seq==1)].tail()"
   ]
  },
  {
   "cell_type": "code",
   "execution_count": 18,
   "metadata": {},
   "outputs": [
    {
     "data": {
      "text/plain": [
       "(148, 10)"
      ]
     },
     "execution_count": 18,
     "metadata": {},
     "output_type": "execute_result"
    }
   ],
   "source": [
    "ric8[(ric8.Seq==3)].shape"
   ]
  },
  {
   "cell_type": "code",
   "execution_count": 19,
   "metadata": {},
   "outputs": [],
   "source": [
    "ric8_alt = Seq(''.join(ric8[(ric8.Seq==1) | (ric8.Seq==3)].Alt.tolist()))"
   ]
  },
  {
   "cell_type": "code",
   "execution_count": 20,
   "metadata": {},
   "outputs": [
    {
     "name": "stderr",
     "output_type": "stream",
     "text": [
      "/home/croth/anaconda3/lib/python3.7/site-packages/Bio/Seq.py:2609: BiopythonWarning: Partial codon, len(sequence) not a multiple of three. Explicitly trim the sequence or add trailing N before translation. This may become an error in future.\n",
      "  BiopythonWarning)\n"
     ]
    },
    {
     "data": {
      "text/plain": [
       "691"
      ]
     },
     "execution_count": 20,
     "metadata": {},
     "output_type": "execute_result"
    }
   ],
   "source": [
    "len(ric8_alt.translate(to_stop=True))"
   ]
  },
  {
   "cell_type": "code",
   "execution_count": 21,
   "metadata": {},
   "outputs": [
    {
     "data": {
      "text/plain": [
       "692.0"
      ]
     },
     "execution_count": 21,
     "metadata": {},
     "output_type": "execute_result"
    }
   ],
   "source": [
    "len(ric8_ref)/3"
   ]
  },
  {
   "cell_type": "code",
   "execution_count": 22,
   "metadata": {},
   "outputs": [
    {
     "data": {
      "text/html": [
       "<div>\n",
       "<style scoped>\n",
       "    .dataframe tbody tr th:only-of-type {\n",
       "        vertical-align: middle;\n",
       "    }\n",
       "\n",
       "    .dataframe tbody tr th {\n",
       "        vertical-align: top;\n",
       "    }\n",
       "\n",
       "    .dataframe thead th {\n",
       "        text-align: right;\n",
       "    }\n",
       "</style>\n",
       "<table border=\"1\" class=\"dataframe\">\n",
       "  <thead>\n",
       "    <tr style=\"text-align: right;\">\n",
       "      <th></th>\n",
       "      <th>Start</th>\n",
       "      <th>End</th>\n",
       "      <th>Ref</th>\n",
       "      <th>Alt</th>\n",
       "      <th>Var</th>\n",
       "      <th>Strand</th>\n",
       "      <th>Seq</th>\n",
       "      <th>Gene</th>\n",
       "    </tr>\n",
       "  </thead>\n",
       "  <tbody>\n",
       "    <tr>\n",
       "      <th>0</th>\n",
       "      <td>930962</td>\n",
       "      <td>930962</td>\n",
       "      <td>C</td>\n",
       "      <td>C</td>\n",
       "      <td>0.0</td>\n",
       "      <td>-1</td>\n",
       "      <td>3</td>\n",
       "      <td>CNB03090</td>\n",
       "    </tr>\n",
       "    <tr>\n",
       "      <th>1</th>\n",
       "      <td>930963</td>\n",
       "      <td>930963</td>\n",
       "      <td>T</td>\n",
       "      <td>T</td>\n",
       "      <td>0.0</td>\n",
       "      <td>-1</td>\n",
       "      <td>3</td>\n",
       "      <td>CNB03090</td>\n",
       "    </tr>\n",
       "    <tr>\n",
       "      <th>2</th>\n",
       "      <td>930964</td>\n",
       "      <td>930964</td>\n",
       "      <td>T</td>\n",
       "      <td>T</td>\n",
       "      <td>0.0</td>\n",
       "      <td>-1</td>\n",
       "      <td>3</td>\n",
       "      <td>CNB03090</td>\n",
       "    </tr>\n",
       "    <tr>\n",
       "      <th>3</th>\n",
       "      <td>930965</td>\n",
       "      <td>930965</td>\n",
       "      <td>G</td>\n",
       "      <td>G</td>\n",
       "      <td>0.0</td>\n",
       "      <td>-1</td>\n",
       "      <td>3</td>\n",
       "      <td>CNB03090</td>\n",
       "    </tr>\n",
       "    <tr>\n",
       "      <th>4</th>\n",
       "      <td>930966</td>\n",
       "      <td>930966</td>\n",
       "      <td>G</td>\n",
       "      <td>G</td>\n",
       "      <td>0.0</td>\n",
       "      <td>-1</td>\n",
       "      <td>3</td>\n",
       "      <td>CNB03090</td>\n",
       "    </tr>\n",
       "  </tbody>\n",
       "</table>\n",
       "</div>"
      ],
      "text/plain": [
       "    Start     End Ref Alt  Var  Strand  Seq      Gene\n",
       "0  930962  930962   C   C  0.0      -1    3  CNB03090\n",
       "1  930963  930963   T   T  0.0      -1    3  CNB03090\n",
       "2  930964  930964   T   T  0.0      -1    3  CNB03090\n",
       "3  930965  930965   G   G  0.0      -1    3  CNB03090\n",
       "4  930966  930966   G   G  0.0      -1    3  CNB03090"
      ]
     },
     "execution_count": 22,
     "metadata": {},
     "output_type": "execute_result"
    }
   ],
   "source": [
    "ssk1.head()"
   ]
  },
  {
   "cell_type": "code",
   "execution_count": 23,
   "metadata": {},
   "outputs": [],
   "source": [
    "ref_rc = [str(Seq(a).reverse_complement()) for a in ssk1.Ref.tolist()]\n",
    "alt_rc = [str(Seq(a).reverse_complement()) for a in ssk1.Alt.tolist()]"
   ]
  },
  {
   "cell_type": "code",
   "execution_count": 24,
   "metadata": {},
   "outputs": [],
   "source": [
    "ssk1['Refrc'] = ref_rc\n",
    "ssk1['Altrc'] = alt_rc"
   ]
  },
  {
   "cell_type": "code",
   "execution_count": 25,
   "metadata": {},
   "outputs": [],
   "source": [
    "ssk1['Lenr'] = [len(a) for a in ssk1.Ref]\n",
    "ssk1['Lena'] = [len(a) for a in ssk1.Alt]"
   ]
  },
  {
   "cell_type": "code",
   "execution_count": 26,
   "metadata": {},
   "outputs": [],
   "source": [
    "ssk1_rc = ssk1[::-1].copy()"
   ]
  },
  {
   "cell_type": "code",
   "execution_count": 27,
   "metadata": {},
   "outputs": [],
   "source": [
    "ssk1_rc['Pos1'] = np.abs(ssk1_rc.Start - ssk1_rc.End.max())\n",
    "ssk1_rc['Pos2'] = np.abs(ssk1_rc.End - ssk1_rc.End.max())"
   ]
  },
  {
   "cell_type": "code",
   "execution_count": 28,
   "metadata": {},
   "outputs": [
    {
     "data": {
      "text/plain": [
       "1337"
      ]
     },
     "execution_count": 28,
     "metadata": {},
     "output_type": "execute_result"
    }
   ],
   "source": [
    "len(Seq(''.join(ssk1_rc[(ssk1_rc.Seq==1)].Refrc.tolist())).translate(to_stop=True))"
   ]
  },
  {
   "cell_type": "code",
   "execution_count": 29,
   "metadata": {},
   "outputs": [
    {
     "name": "stderr",
     "output_type": "stream",
     "text": [
      "/home/croth/anaconda3/lib/python3.7/site-packages/Bio/Seq.py:2609: BiopythonWarning: Partial codon, len(sequence) not a multiple of three. Explicitly trim the sequence or add trailing N before translation. This may become an error in future.\n",
      "  BiopythonWarning)\n"
     ]
    },
    {
     "data": {
      "text/plain": [
       "157"
      ]
     },
     "execution_count": 29,
     "metadata": {},
     "output_type": "execute_result"
    }
   ],
   "source": [
    "len(Seq(''.join(ssk1_rc[(ssk1_rc.Seq==1)].Altrc.tolist())).translate(to_stop=True))"
   ]
  },
  {
   "cell_type": "code",
   "execution_count": 30,
   "metadata": {},
   "outputs": [],
   "source": [
    "ssk1_rc['PosL'] = ssk1_rc.Lenr.cumsum() - 1"
   ]
  },
  {
   "cell_type": "code",
   "execution_count": 31,
   "metadata": {},
   "outputs": [
    {
     "data": {
      "text/html": [
       "<div>\n",
       "<style scoped>\n",
       "    .dataframe tbody tr th:only-of-type {\n",
       "        vertical-align: middle;\n",
       "    }\n",
       "\n",
       "    .dataframe tbody tr th {\n",
       "        vertical-align: top;\n",
       "    }\n",
       "\n",
       "    .dataframe thead th {\n",
       "        text-align: right;\n",
       "    }\n",
       "</style>\n",
       "<table border=\"1\" class=\"dataframe\">\n",
       "  <thead>\n",
       "    <tr style=\"text-align: right;\">\n",
       "      <th></th>\n",
       "      <th>Start</th>\n",
       "      <th>End</th>\n",
       "      <th>Ref</th>\n",
       "      <th>Alt</th>\n",
       "      <th>Var</th>\n",
       "      <th>Strand</th>\n",
       "      <th>Seq</th>\n",
       "      <th>Gene</th>\n",
       "      <th>Refrc</th>\n",
       "      <th>Altrc</th>\n",
       "      <th>Lenr</th>\n",
       "      <th>Lena</th>\n",
       "      <th>Pos1</th>\n",
       "      <th>Pos2</th>\n",
       "      <th>PosL</th>\n",
       "    </tr>\n",
       "  </thead>\n",
       "  <tbody>\n",
       "    <tr>\n",
       "      <th>4315</th>\n",
       "      <td>935288</td>\n",
       "      <td>935293</td>\n",
       "      <td>GGGGT</td>\n",
       "      <td>CGGGT</td>\n",
       "      <td>1.0</td>\n",
       "      <td>-1</td>\n",
       "      <td>1</td>\n",
       "      <td>CNB03090</td>\n",
       "      <td>ACCCC</td>\n",
       "      <td>ACCCG</td>\n",
       "      <td>5</td>\n",
       "      <td>5</td>\n",
       "      <td>155</td>\n",
       "      <td>150</td>\n",
       "      <td>155</td>\n",
       "    </tr>\n",
       "    <tr>\n",
       "      <th>3931</th>\n",
       "      <td>934901</td>\n",
       "      <td>934905</td>\n",
       "      <td>CAGT</td>\n",
       "      <td>GAGG</td>\n",
       "      <td>1.0</td>\n",
       "      <td>-1</td>\n",
       "      <td>1</td>\n",
       "      <td>CNB03090</td>\n",
       "      <td>ACTG</td>\n",
       "      <td>CCTC</td>\n",
       "      <td>4</td>\n",
       "      <td>4</td>\n",
       "      <td>542</td>\n",
       "      <td>538</td>\n",
       "      <td>542</td>\n",
       "    </tr>\n",
       "    <tr>\n",
       "      <th>3925</th>\n",
       "      <td>934889</td>\n",
       "      <td>934896</td>\n",
       "      <td>GAATTCC</td>\n",
       "      <td>GAATTTCC</td>\n",
       "      <td>1.0</td>\n",
       "      <td>-1</td>\n",
       "      <td>1</td>\n",
       "      <td>CNB03090</td>\n",
       "      <td>GGAATTC</td>\n",
       "      <td>GGAAATTC</td>\n",
       "      <td>7</td>\n",
       "      <td>8</td>\n",
       "      <td>554</td>\n",
       "      <td>547</td>\n",
       "      <td>554</td>\n",
       "    </tr>\n",
       "    <tr>\n",
       "      <th>2360</th>\n",
       "      <td>933322</td>\n",
       "      <td>933325</td>\n",
       "      <td>TTC</td>\n",
       "      <td>TTA</td>\n",
       "      <td>1.0</td>\n",
       "      <td>-1</td>\n",
       "      <td>1</td>\n",
       "      <td>CNB03090</td>\n",
       "      <td>GAA</td>\n",
       "      <td>TAA</td>\n",
       "      <td>3</td>\n",
       "      <td>3</td>\n",
       "      <td>2121</td>\n",
       "      <td>2118</td>\n",
       "      <td>2121</td>\n",
       "    </tr>\n",
       "  </tbody>\n",
       "</table>\n",
       "</div>"
      ],
      "text/plain": [
       "       Start     End      Ref       Alt  Var  Strand  Seq      Gene    Refrc  \\\n",
       "4315  935288  935293    GGGGT     CGGGT  1.0      -1    1  CNB03090    ACCCC   \n",
       "3931  934901  934905     CAGT      GAGG  1.0      -1    1  CNB03090     ACTG   \n",
       "3925  934889  934896  GAATTCC  GAATTTCC  1.0      -1    1  CNB03090  GGAATTC   \n",
       "2360  933322  933325      TTC       TTA  1.0      -1    1  CNB03090      GAA   \n",
       "\n",
       "         Altrc  Lenr  Lena  Pos1  Pos2  PosL  \n",
       "4315     ACCCG     5     5   155   150   155  \n",
       "3931      CCTC     4     4   542   538   542  \n",
       "3925  GGAAATTC     7     8   554   547   554  \n",
       "2360       TAA     3     3  2121  2118  2121  "
      ]
     },
     "execution_count": 31,
     "metadata": {},
     "output_type": "execute_result"
    }
   ],
   "source": [
    "ssk1_rc[(ssk1_rc.Seq==1) & (ssk1_rc.Var!=0) & (ssk1_rc.Lenr>1)]"
   ]
  },
  {
   "cell_type": "code",
   "execution_count": 32,
   "metadata": {},
   "outputs": [
    {
     "data": {
      "text/plain": [
       "4481"
      ]
     },
     "execution_count": 32,
     "metadata": {},
     "output_type": "execute_result"
    }
   ],
   "source": [
    "ssk1_rc.PosL.max()"
   ]
  },
  {
   "cell_type": "code",
   "execution_count": 33,
   "metadata": {},
   "outputs": [],
   "source": [
    "# 537 for the snps and 546 for the insertion"
   ]
  },
  {
   "cell_type": "code",
   "execution_count": 34,
   "metadata": {},
   "outputs": [],
   "source": [
    "#ssk1_rc[(ssk1_rc.Pos1>=546)&(ssk1_rc.Seq==1)& \n",
    "#                               (ssk1_rc.Pos1<595)].head()"
   ]
  },
  {
   "cell_type": "code",
   "execution_count": 35,
   "metadata": {},
   "outputs": [],
   "source": [
    "#toplotXL = Seq(''.join(ssk1_rc[(ssk1_rc.Pos1>=546)&(ssk1_rc.Seq==1)& \n",
    "#                               (ssk1_rc.Pos1<595)].Refrc.tolist())).translate()\n",
    "#toplotXL"
   ]
  },
  {
   "cell_type": "code",
   "execution_count": 36,
   "metadata": {},
   "outputs": [],
   "source": [
    "#toplot431 = Seq(''.join(ssk1_rc[(ssk1_rc.Pos1>=546)&\n",
    "#                    (ssk1_rc.Seq==1)&(ssk1_rc.Pos1<595)].Refrc.tolist())).translate()"
   ]
  },
  {
   "cell_type": "code",
   "execution_count": 37,
   "metadata": {},
   "outputs": [
    {
     "data": {
      "text/plain": [
       "Seq('MEIHYCRTACTGLRL*', HasStopCodon(ExtendedIUPACProtein(), '*'))"
      ]
     },
     "execution_count": 37,
     "metadata": {},
     "output_type": "execute_result"
    }
   ],
   "source": [
    "alttoplot = ''.join(ssk1_rc[(ssk1_rc.Pos1>=546) & (ssk1_rc.Seq==1) & \n",
    "                            (ssk1_rc.Pos1<593)].Altrc.tolist())\n",
    "toplot431 = Seq(alttoplot).translate()\n",
    "toplot431"
   ]
  },
  {
   "cell_type": "code",
   "execution_count": 38,
   "metadata": {},
   "outputs": [
    {
     "data": {
      "text/plain": [
       "'ATGGAAATTCACTACTGCCGGACCGCCTGTACAGGGCTACGACTTTGA'"
      ]
     },
     "execution_count": 38,
     "metadata": {},
     "output_type": "execute_result"
    }
   ],
   "source": [
    "alttoplot"
   ]
  },
  {
   "cell_type": "code",
   "execution_count": 39,
   "metadata": {},
   "outputs": [
    {
     "name": "stderr",
     "output_type": "stream",
     "text": [
      "/home/croth/anaconda3/lib/python3.7/site-packages/Bio/Seq.py:2609: BiopythonWarning: Partial codon, len(sequence) not a multiple of three. Explicitly trim the sequence or add trailing N before translation. This may become an error in future.\n",
      "  BiopythonWarning)\n"
     ]
    },
    {
     "data": {
      "text/plain": [
       "Seq('MEFTTAGPPVQGYDF', ExtendedIUPACProtein())"
      ]
     },
     "execution_count": 39,
     "metadata": {},
     "output_type": "execute_result"
    }
   ],
   "source": [
    "reftoplottemp = ''.join(ssk1_rc[(ssk1_rc.Pos1>=546) & (ssk1_rc.Seq==1)& \n",
    "                                (ssk1_rc.Pos1<593)].Refrc.tolist())\n",
    "toplotXL = Seq(reftoplottemp).translate()\n",
    "toplotXL"
   ]
  },
  {
   "cell_type": "code",
   "execution_count": 40,
   "metadata": {},
   "outputs": [
    {
     "name": "stdout",
     "output_type": "stream",
     "text": [
      "ATGGAA TTC\n",
      "ATGGAAATTC\n"
     ]
    }
   ],
   "source": [
    "cutseq=6\n",
    "reftoplot = reftoplottemp[:cutseq] + ' ' + reftoplottemp[cutseq:]\n",
    "print(reftoplot[:10])\n",
    "print(alttoplot[:10])"
   ]
  },
  {
   "cell_type": "code",
   "execution_count": 41,
   "metadata": {},
   "outputs": [],
   "source": [
    "path = './AA_color_df.csv.gz'"
   ]
  },
  {
   "cell_type": "markdown",
   "metadata": {},
   "source": [
    "import random\n",
    "\n",
    "number_of_colors = 17\n",
    "\n",
    "color = [\"#\"+''.join([random.choice('0123456789ABCDEF') for j in range(6)])\n",
    "             for i in range(number_of_colors)]\n",
    "print(color)\n",
    "for i in range(number_of_colors):\n",
    "    plt.scatter(random.randint(0, 10), random.randint(0,10), c=color[i], s=200)\n",
    "color_df = pd.DataFrame([np.unique([a for a in str(toplotXL)] + [a for a in str(toplot431)] + ['S']),['r']+color]).T\n",
    "color_df.columns = ['AA','Color']\n",
    "color_df.to_csv(path)"
   ]
  },
  {
   "cell_type": "code",
   "execution_count": 42,
   "metadata": {},
   "outputs": [],
   "source": [
    "color_df = pd.read_csv(path,index_col=0)"
   ]
  },
  {
   "cell_type": "code",
   "execution_count": 43,
   "metadata": {},
   "outputs": [
    {
     "data": {
      "text/html": [
       "<div>\n",
       "<style scoped>\n",
       "    .dataframe tbody tr th:only-of-type {\n",
       "        vertical-align: middle;\n",
       "    }\n",
       "\n",
       "    .dataframe tbody tr th {\n",
       "        vertical-align: top;\n",
       "    }\n",
       "\n",
       "    .dataframe thead th {\n",
       "        text-align: right;\n",
       "    }\n",
       "</style>\n",
       "<table border=\"1\" class=\"dataframe\">\n",
       "  <thead>\n",
       "    <tr style=\"text-align: right;\">\n",
       "      <th></th>\n",
       "      <th>AA</th>\n",
       "      <th>Color</th>\n",
       "    </tr>\n",
       "  </thead>\n",
       "  <tbody>\n",
       "    <tr>\n",
       "      <th>0</th>\n",
       "      <td>*</td>\n",
       "      <td>r</td>\n",
       "    </tr>\n",
       "    <tr>\n",
       "      <th>1</th>\n",
       "      <td>A</td>\n",
       "      <td>#56D3C2</td>\n",
       "    </tr>\n",
       "    <tr>\n",
       "      <th>2</th>\n",
       "      <td>C</td>\n",
       "      <td>#A8D142</td>\n",
       "    </tr>\n",
       "    <tr>\n",
       "      <th>3</th>\n",
       "      <td>D</td>\n",
       "      <td>#2ABC02</td>\n",
       "    </tr>\n",
       "    <tr>\n",
       "      <th>4</th>\n",
       "      <td>E</td>\n",
       "      <td>#6C0A26</td>\n",
       "    </tr>\n",
       "    <tr>\n",
       "      <th>5</th>\n",
       "      <td>F</td>\n",
       "      <td>#CB5CBF</td>\n",
       "    </tr>\n",
       "    <tr>\n",
       "      <th>6</th>\n",
       "      <td>G</td>\n",
       "      <td>#691FDF</td>\n",
       "    </tr>\n",
       "    <tr>\n",
       "      <th>7</th>\n",
       "      <td>H</td>\n",
       "      <td>#7AF8C8</td>\n",
       "    </tr>\n",
       "    <tr>\n",
       "      <th>8</th>\n",
       "      <td>I</td>\n",
       "      <td>#2E01B7</td>\n",
       "    </tr>\n",
       "    <tr>\n",
       "      <th>9</th>\n",
       "      <td>L</td>\n",
       "      <td>#ED9579</td>\n",
       "    </tr>\n",
       "    <tr>\n",
       "      <th>10</th>\n",
       "      <td>M</td>\n",
       "      <td>#885074</td>\n",
       "    </tr>\n",
       "    <tr>\n",
       "      <th>11</th>\n",
       "      <td>P</td>\n",
       "      <td>#B6331B</td>\n",
       "    </tr>\n",
       "    <tr>\n",
       "      <th>12</th>\n",
       "      <td>Q</td>\n",
       "      <td>#497385</td>\n",
       "    </tr>\n",
       "    <tr>\n",
       "      <th>13</th>\n",
       "      <td>R</td>\n",
       "      <td>#D014F5</td>\n",
       "    </tr>\n",
       "    <tr>\n",
       "      <th>14</th>\n",
       "      <td>S</td>\n",
       "      <td>#1881DD</td>\n",
       "    </tr>\n",
       "    <tr>\n",
       "      <th>15</th>\n",
       "      <td>T</td>\n",
       "      <td>#1A1DE2</td>\n",
       "    </tr>\n",
       "    <tr>\n",
       "      <th>16</th>\n",
       "      <td>V</td>\n",
       "      <td>#95CE53</td>\n",
       "    </tr>\n",
       "    <tr>\n",
       "      <th>17</th>\n",
       "      <td>Y</td>\n",
       "      <td>#232273</td>\n",
       "    </tr>\n",
       "  </tbody>\n",
       "</table>\n",
       "</div>"
      ],
      "text/plain": [
       "   AA    Color\n",
       "0   *        r\n",
       "1   A  #56D3C2\n",
       "2   C  #A8D142\n",
       "3   D  #2ABC02\n",
       "4   E  #6C0A26\n",
       "5   F  #CB5CBF\n",
       "6   G  #691FDF\n",
       "7   H  #7AF8C8\n",
       "8   I  #2E01B7\n",
       "9   L  #ED9579\n",
       "10  M  #885074\n",
       "11  P  #B6331B\n",
       "12  Q  #497385\n",
       "13  R  #D014F5\n",
       "14  S  #1881DD\n",
       "15  T  #1A1DE2\n",
       "16  V  #95CE53\n",
       "17  Y  #232273"
      ]
     },
     "execution_count": 43,
     "metadata": {},
     "output_type": "execute_result"
    }
   ],
   "source": [
    "color_df"
   ]
  },
  {
   "cell_type": "code",
   "execution_count": 44,
   "metadata": {},
   "outputs": [],
   "source": [
    "from matplotlib import rc"
   ]
  },
  {
   "cell_type": "markdown",
   "metadata": {},
   "source": [
    "######## --------- SSK1 ---------------- #########\n",
    "fig,ax = plt.subplots(2,1,figsize=(12,6),sharey=False,sharex=True)\n",
    "plt.sca(ax[0])\n",
    "\n",
    "plt.hlines(0,0,ssk1_rc.PosL.max(),color='grey',linewidth=5)\n",
    "plt.vlines(ssk1_rc[(ssk1_rc.Seq==1)].Pos1.values,\n",
    "          -0.04,0.04,color='grey');\n",
    "plt.vlines(ssk1_rc[(ssk1_rc.Var!=0) & (ssk1_rc.Seq==1)].Pos1.values,\n",
    "           -0.039,0.04,color='k',linewidth=0.5)\n",
    "plt.vlines(ssk1_rc[(ssk1_rc.Var!=0) & (ssk1_rc.Seq!=1)].Pos1.values,\n",
    "           -0.0099,0.01,color='k',linewidth=0.5)\n",
    "\n",
    "plt.ylim(-0.1,0.5)\n",
    "\n",
    "L = 0\n",
    "for i in np.arange(0,len(alttoplot),1):\n",
    "    if reftoplot[i] != alttoplot[i]:\n",
    "        s = ' '\n",
    "    else:\n",
    "        s = '|'\n",
    "    plt.text(x=L+(70*i),y=0.32,s=alttoplot[i],ha='center',va='center',fontsize=14)\n",
    "    plt.text(x=L+(70*i),y=0.2,s=reftoplot[i],ha='center',va='center',fontsize=14)\n",
    "    plt.text(x=L+(70*i),y=0.27,s=s,ha='center',va='center',fontsize=10)\n",
    "\n",
    "plt.plot([552,L+(71*i)],[0.04,0.15],'k',linestyle='--',alpha=0.5)\n",
    "plt.plot([552,L],[0.04,0.15],'k',linestyle='--',alpha=0.5)\n",
    "plt.text(-70,0.32,'431'+'\\u03B1:',fontsize=14,va='center',ha='right')\n",
    "plt.text(-70,0.2,'XL280'+r'$\\bf{a}$'+':',fontsize=14,va='center',ha='right');\n",
    "\n",
    "sep = 0\n",
    "for i, a in enumerate(toplot431):\n",
    "    plt.hlines(0.41,-35+sep,(70*2.5)+sep,\n",
    "               linewidth=20,color= color_df[(color_df.AA==a)].Color );\n",
    "    \n",
    "    if a == \"*\":\n",
    "        sa = 'STOP'\n",
    "        fs = 10\n",
    "    else:\n",
    "        sa = a\n",
    "        fs = 14\n",
    "    plt.text(((70*2.5)+sep)-105, 0.41,s=sa, color='w',\n",
    "             fontweight='bold',va='center',fontsize=fs,ha='center');\n",
    "    sep = sep + 70*3\n",
    "\n",
    "\n",
    "plt.axis('off')\n",
    "startssk1 = ssk1_rc[(ssk1_rc.Seq==1)].Pos1.min()+1\n",
    "stopssk1 = ssk1_rc[(ssk1_rc.Seq==1)].PosL.max()\n",
    "plt.text(startssk1,-0.045,'%s\\nATG'%(startssk1),fontsize=14,ha='center',va='top')\n",
    "plt.text(stopssk1,-0.045,'%s\\nTGA'%(stopssk1),fontsize=14,ha='center',va='top')\n",
    "plt.text(553,-0.045,'552',fontsize=14,ha='center',va='top')\n",
    "plt.text(s='SSK1',x=-400,y=0,fontsize=16,\n",
    "         style='italic',fontweight='bold',\n",
    "         va='center',ha='center',color='grey');\n",
    "\n",
    "######## --------- RIC8 ---------------- #########\n",
    "plt.sca(ax[1])\n",
    "plt.hlines(0,ric8.Pos1.min(),ric8.Pos2.max(),color='grey',linewidth=5)\n",
    "\n",
    "plt.vlines(ric8[(ric8.Seq==1)].Pos1.values,\n",
    "          -0.04,0.04,color='grey');\n",
    "\n",
    "plt.vlines(ric8[(ric8.Var!=0) & (ric8.Seq==1)].Pos1.values,\n",
    "           -0.039,0.04,color='k',linewidth=0.5)\n",
    "\n",
    "plt.vlines(ric8[(ric8.Var!=0) & (ric8.Seq!=1)].Pos1.values,\n",
    "           -0.0099,0.01,color='k',linewidth=0.5)\n",
    "\n",
    "plt.text(324,0.045,'ATG\\n324',fontsize=14,ha='center',va='bottom')\n",
    "plt.text(2716,0.045,'TAG\\n2716',fontsize=14,ha='center',va='bottom')\n",
    "plt.text(1957,0.045,'1958',fontsize=14,ha='center',va='bottom')\n",
    "\n",
    "plt.text(500,-0.1,'1 kb',fontsize=14,va='top',ha='center')\n",
    "plt.hlines(-0.09,0,1000)\n",
    "plt.axis('off');\n",
    "\n",
    "e6s = 1944\n",
    "e6e = 1960\n",
    "it6s = 1889\n",
    "it6e = 1945\n",
    "\n",
    "tempx1 = ric8_431[e6s-3:e6e-3]\n",
    "tempx2 = ric8_xl280[e6s:e6e]\n",
    "\n",
    "for i in np.arange(1,len(tempx2),1):\n",
    "    if tempx1[i] != tempx2[i]:\n",
    "        s = ' '\n",
    "    else:\n",
    "        s = '|'\n",
    "    plt.text(x=1300+(70*i),y=-0.2,s=tempx1[i],ha='center',va='center',fontsize=14)\n",
    "    plt.text(x=1300+(70*i),y=-0.31,s=tempx2[i],ha='center',va='center',fontsize=14)\n",
    "    plt.text(x=1300+(70*i),y=-0.25,s=s,ha='center',va='center',fontsize=10)\n",
    "\n",
    "aa = Seq(tempx2[1:]).translate()\n",
    "sep = 0\n",
    "for i, a in enumerate(aa):\n",
    "    plt.hlines(-0.4,1340+sep,(1345+(70*3))+sep,linewidth=20,color=color_df[(color_df.AA==a)].Color)\n",
    "    sep = sep + (70*3)\n",
    "\n",
    "for i in range(len(aa)):\n",
    "    if aa[i] == \"*\":\n",
    "        sa = 'STOP'\n",
    "        fs = 10\n",
    "    else:\n",
    "        sa = aa[i]\n",
    "        fs = 14\n",
    "    plt.text(1450+(210*i),y=-0.40,s=sa,color='w',\n",
    "             fontweight='bold',va='center',fontsize=fs,ha='center');\n",
    "\n",
    "plt.plot([1370,1945],[-.15,-0.04],'k',linestyle='--',alpha=0.5)\n",
    "plt.plot([1300+(70*(len(tempx2)-1)),1960],[-.15,-0.04],\n",
    "         'k',linestyle='--',alpha=0.5)\n",
    "\n",
    "plt.text(1300,-0.2,'431'+'\\u03B1:',fontsize=14,va='center',ha='right')\n",
    "plt.text(1300,-0.31,'XL280'+r'$\\bf{a}$'+':',fontsize=14,va='center',ha='right');\n",
    "plt.ylim(-0.5,0.1)\n",
    "plt.subplots_adjust(hspace=0.5)\n",
    "plt.xlim(-100,ssk1_rc.Pos1.max());\n",
    "\n",
    "plt.text(s='RIC8',x=-400,y=0,fontsize=16,\n",
    "         style='italic',fontweight='bold',\n",
    "         va='center',ha='center',color='grey');\n",
    "plt.savefig('../../FIGURES/RIC8_SSK1_gene_body.png',\n",
    "                  dpi=300,bbox_inches='tight');"
   ]
  },
  {
   "cell_type": "markdown",
   "metadata": {},
   "source": [
    "fig,ax = plt.subplots(1,1,figsize=(10,3),sharex=True)\n",
    "\n",
    "plt.hlines(0,ric8.Pos1.min(),ric8.Pos2.max(),color='grey',linewidth=5)\n",
    "\n",
    "plt.vlines(ric8[(ric8.Seq==1)].Pos1.values,\n",
    "          -0.04,0.04,color='grey');\n",
    "\n",
    "plt.vlines(ric8[(ric8.Var!=0) & (ric8.Seq==1)].Pos1.values,\n",
    "           -0.039,0.04,color='k',linewidth=0.5)\n",
    "\n",
    "plt.vlines(ric8[(ric8.Var!=0) & (ric8.Seq!=1)].Pos1.values,\n",
    "           -0.0099,0.01,color='k',linewidth=0.5)\n",
    "\n",
    "plt.yticks([0],labels=' ');\n",
    "plt.xticks(fontsize=16);\n",
    "plt.text(324,0.045,'ATG\\n324',fontsize=14,ha='center',va='bottom')\n",
    "plt.text(2716,0.045,'TAG\\n2716',fontsize=14,ha='center',va='bottom')\n",
    "plt.text(1957,0.045,'1958',fontsize=14,ha='center',va='bottom')\n",
    "plt.xlim(0,np.max(ric8.Pos2));\n",
    "\n",
    "plt.text(500,-0.07,'1 kb',fontsize=14,va='top',ha='center')\n",
    "plt.hlines(-0.06,0,1000)\n",
    "plt.axis('off');\n",
    "\n",
    "e6s = 1944\n",
    "e6e = 1960\n",
    "it6s = 1889\n",
    "it6e = 1945\n",
    "\n",
    "\n",
    "tempx1 = ric8_431[e6s-3:e6e-3]\n",
    "tempx2 = ric8_xl280[e6s:e6e]\n",
    "\n",
    "for i in np.arange(1,len(tempx2),1):\n",
    "    if tempx1[i] != tempx2[i]:\n",
    "        color='r'\n",
    "        s = ' '\n",
    "    else:\n",
    "        color='k'\n",
    "        s = '|'\n",
    "    plt.text(x=1300+(70*i),y=-0.2,s=tempx1[i],ha='center',va='center',fontsize=14)\n",
    "    plt.text(x=1300+(70*i),y=-0.31,s=tempx2[i],ha='center',va='center',fontsize=14)\n",
    "    plt.text(x=1300+(70*i),y=-0.25,s=s,ha='center',va='center',fontsize=10)\n",
    "\n",
    "\n",
    "\n",
    "aa = Seq(tempx2[1:]).translate()\n",
    "#plt.hlines(-0.4,1340,1550,linewidth=20,color='pink');\n",
    "#plt.hlines(-0.4,1555,1755,linewidth=20,color='b');\n",
    "#plt.hlines(-0.4,1760,1970,linewidth=20,color='olive');\n",
    "#plt.hlines(-0.4,1975,2175,linewidth=20,color='olive');\n",
    "#plt.hlines(-0.4,2180,2400,linewidth=20,color='r');\n",
    "\n",
    "for i in range(len(aa)):\n",
    "    plt.text(1450+(210*i),y=-0.395,s=aa[i],color='w',\n",
    "             fontweight='bold',va='center',fontsize=14,ha='center');\n",
    "\n",
    "plt.plot([1370,1945],[-.15,-0.04],'k',linestyle='--',alpha=0.5)\n",
    "plt.plot([1300+(70*(len(tempx2)-1)),1960],[-.15,-0.04],\n",
    "         'k',linestyle='--',alpha=0.5)\n",
    "\n",
    "\n",
    "plt.text(1150,-0.2,'431'+'\\u03B1:',fontsize=14,va='center',ha='center')\n",
    "plt.text(1150,-0.31,'XL280:',fontsize=14,va='center',ha='center')\n",
    "\n",
    "\n",
    "ricend = 'TAGTAA'\n",
    "end431 = ric8_alt[-151:-145]\n",
    "for i in np.arange(len(end431)):\n",
    "    if ricend[i] != end431[i]:\n",
    "        s = ' '\n",
    "    else:\n",
    "        s = '|'\n",
    "    plt.text(x=2700+(70*i),y=-0.2,s=end431[i],ha='center',va='center',fontsize=14)\n",
    "    plt.text(x=2700+(70*i),y=-0.31,s=ricend[i],ha='center',va='center',fontsize=14)\n",
    "    plt.text(x=2700+(70*i),y=-0.25,s=s,ha='center',va='center',fontsize=10)\n",
    "plt.xlim(0,3100)\n",
    "\n",
    "plt.plot([2700,2715],[-.15,-0.04],'k',linestyle='--',alpha=0.5)\n",
    "plt.plot([2700+(70*(len(ricend)-1)),2721],[-.15,-0.04],\n",
    "         'k',linestyle='--',alpha=0.5)\n",
    "#plt.hlines(-0.11,2880,3090,linewidth=15,color='r');\n",
    "\n",
    "xl_del = ric8_xl280[1047:1053+3]\n",
    "del431 = ric8_431[1047:1050] + 'XXX' + ric8_431[1050:1053]\n",
    "for i in np.arange(len(xl_del)):\n",
    "    if del431[i] == 'X':\n",
    "        ss = ' '\n",
    "    else:\n",
    "        ss = del431[i]\n",
    "    if xl_del[i] != ss:\n",
    "        s = ' '\n",
    "    else:\n",
    "        s = '|'\n",
    "\n",
    "    plt.text(x=800+(70*i),y=0.31,s=ss,ha='center',va='center',fontsize=14)\n",
    "    plt.text(x=800+(70*i),y=0.2,s=xl_del[i],ha='center',va='center',fontsize=14)\n",
    "    plt.text(x=800+(70*i),y=0.26,s=s,ha='center',va='center',fontsize=10)\n",
    "plt.text(600,.31,'431'+'\\u03B1:',fontsize=14,va='center',ha='center')\n",
    "plt.text(600,.2,'XL280:',fontsize=14,va='center',ha='center')\n",
    "plt.plot([800,1048],[.15,0.04],'k',linestyle='--',alpha=0.5)\n",
    "plt.plot([800+(70*(len(xl_del)-1)),1052],[.15,0.04],\n",
    "         'k',linestyle='--',alpha=0.5)\n",
    "plt.text(1050,0.045,'1051',fontsize=14,ha='center',va='bottom')\n",
    "plt.ylim(-0.4,0.4)\n",
    "   \n",
    "plt.savefig('../../FIGURES/RIC8_gene_body_major_vars.png',\n",
    "                  dpi=300,bbox_inches='tight');"
   ]
  },
  {
   "cell_type": "code",
   "execution_count": 45,
   "metadata": {},
   "outputs": [
    {
     "data": {
      "text/html": [
       "<div>\n",
       "<style scoped>\n",
       "    .dataframe tbody tr th:only-of-type {\n",
       "        vertical-align: middle;\n",
       "    }\n",
       "\n",
       "    .dataframe tbody tr th {\n",
       "        vertical-align: top;\n",
       "    }\n",
       "\n",
       "    .dataframe thead th {\n",
       "        text-align: right;\n",
       "    }\n",
       "</style>\n",
       "<table border=\"1\" class=\"dataframe\">\n",
       "  <thead>\n",
       "    <tr style=\"text-align: right;\">\n",
       "      <th></th>\n",
       "      <th>Start</th>\n",
       "      <th>End</th>\n",
       "      <th>Ref</th>\n",
       "      <th>Alt</th>\n",
       "      <th>Var</th>\n",
       "      <th>Strand</th>\n",
       "      <th>Seq</th>\n",
       "      <th>Gene</th>\n",
       "      <th>Pos1</th>\n",
       "      <th>Pos2</th>\n",
       "    </tr>\n",
       "  </thead>\n",
       "  <tbody>\n",
       "    <tr>\n",
       "      <th>0</th>\n",
       "      <td>386833</td>\n",
       "      <td>386833</td>\n",
       "      <td>C</td>\n",
       "      <td>C</td>\n",
       "      <td>0.0</td>\n",
       "      <td>1</td>\n",
       "      <td>5</td>\n",
       "      <td>CNN01270</td>\n",
       "      <td>0</td>\n",
       "      <td>0</td>\n",
       "    </tr>\n",
       "    <tr>\n",
       "      <th>1</th>\n",
       "      <td>386834</td>\n",
       "      <td>386834</td>\n",
       "      <td>A</td>\n",
       "      <td>A</td>\n",
       "      <td>0.0</td>\n",
       "      <td>1</td>\n",
       "      <td>5</td>\n",
       "      <td>CNN01270</td>\n",
       "      <td>1</td>\n",
       "      <td>1</td>\n",
       "    </tr>\n",
       "    <tr>\n",
       "      <th>2</th>\n",
       "      <td>386835</td>\n",
       "      <td>386835</td>\n",
       "      <td>A</td>\n",
       "      <td>A</td>\n",
       "      <td>0.0</td>\n",
       "      <td>1</td>\n",
       "      <td>5</td>\n",
       "      <td>CNN01270</td>\n",
       "      <td>2</td>\n",
       "      <td>2</td>\n",
       "    </tr>\n",
       "    <tr>\n",
       "      <th>3</th>\n",
       "      <td>386836</td>\n",
       "      <td>386836</td>\n",
       "      <td>G</td>\n",
       "      <td>G</td>\n",
       "      <td>0.0</td>\n",
       "      <td>1</td>\n",
       "      <td>5</td>\n",
       "      <td>CNN01270</td>\n",
       "      <td>3</td>\n",
       "      <td>3</td>\n",
       "    </tr>\n",
       "    <tr>\n",
       "      <th>4</th>\n",
       "      <td>386837</td>\n",
       "      <td>386837</td>\n",
       "      <td>T</td>\n",
       "      <td>T</td>\n",
       "      <td>0.0</td>\n",
       "      <td>1</td>\n",
       "      <td>5</td>\n",
       "      <td>CNN01270</td>\n",
       "      <td>4</td>\n",
       "      <td>4</td>\n",
       "    </tr>\n",
       "  </tbody>\n",
       "</table>\n",
       "</div>"
      ],
      "text/plain": [
       "    Start     End Ref Alt  Var  Strand  Seq      Gene  Pos1  Pos2\n",
       "0  386833  386833   C   C  0.0       1    5  CNN01270     0     0\n",
       "1  386834  386834   A   A  0.0       1    5  CNN01270     1     1\n",
       "2  386835  386835   A   A  0.0       1    5  CNN01270     2     2\n",
       "3  386836  386836   G   G  0.0       1    5  CNN01270     3     3\n",
       "4  386837  386837   T   T  0.0       1    5  CNN01270     4     4"
      ]
     },
     "execution_count": 45,
     "metadata": {},
     "output_type": "execute_result"
    }
   ],
   "source": [
    "ric8.head()"
   ]
  },
  {
   "cell_type": "code",
   "execution_count": 46,
   "metadata": {},
   "outputs": [],
   "source": [
    "ssk2['Pos1'] = ssk2['Start'] - ssk2.Start.min()\n",
    "ssk2['Pos2'] = ssk2['End'] - ssk2.Start.min()"
   ]
  },
  {
   "cell_type": "code",
   "execution_count": 47,
   "metadata": {},
   "outputs": [],
   "source": [
    "reftoplot = '-'.join(reftoplot.split('*'))"
   ]
  },
  {
   "cell_type": "code",
   "execution_count": 48,
   "metadata": {},
   "outputs": [
    {
     "name": "stdout",
     "output_type": "stream",
     "text": [
      "16 A P\n",
      "239 F L\n",
      "737 V M\n"
     ]
    },
    {
     "name": "stderr",
     "output_type": "stream",
     "text": [
      "/home/croth/anaconda3/lib/python3.7/site-packages/ipykernel_launcher.py:231: UserWarning: Boolean Series key will be reindexed to match DataFrame index.\n",
      "/home/croth/anaconda3/lib/python3.7/site-packages/ipykernel_launcher.py:231: UserWarning: Boolean Series key will be reindexed to match DataFrame index.\n",
      "/home/croth/anaconda3/lib/python3.7/site-packages/ipykernel_launcher.py:231: UserWarning: Boolean Series key will be reindexed to match DataFrame index.\n"
     ]
    },
    {
     "data": {
      "image/png": "[encoded data removed]",
      "text/plain": [
       "<Figure size 864x648 with 3 Axes>"
      ]
     },
     "metadata": {},
     "output_type": "display_data"
    }
   ],
   "source": [
    "######## --------- SSK1 ---------------- #########\n",
    "fig,ax = plt.subplots(3,1,figsize=(12,9),sharey=True,sharex=True,facecolor='w')\n",
    "plt.sca(ax[0])\n",
    "fs = 10\n",
    "name_place = -600\n",
    "intron_width = 0.75\n",
    "exon_width = 2\n",
    "var_linewidth = 0.5\n",
    "plt.vlines(ssk1_rc[(ssk1_rc.Seq!=1)].Pos1.values,\n",
    "           -intron_width,intron_width,color='grey')\n",
    "\n",
    "plt.vlines(ssk1_rc[(ssk1_rc.Seq==1)].Pos1.values,\n",
    "          -exon_width,exon_width,color='grey');\n",
    "\n",
    "plt.vlines(ssk1_rc[(ssk1_rc.Var!=0) & (ssk1_rc.Seq==1)].Pos1.values,\n",
    "           -exon_width,exon_width,color='k',linewidth=var_linewidth)\n",
    "\n",
    "plt.vlines(ssk1_rc[(ssk1_rc.Var!=0) & (ssk1_rc.Seq!=1)].Pos1.values,\n",
    "           -intron_width,intron_width,color='k',linewidth=var_linewidth)\n",
    "\n",
    "\n",
    "L = 140\n",
    "ts = 70\n",
    "for i in np.arange(0,len(alttoplot),1):\n",
    "    if reftoplot[i] != alttoplot[i]:\n",
    "        s = ' '\n",
    "    else:\n",
    "        s = '|'\n",
    "    #if reftoplot[i] == '*':\n",
    "    #    fss = 16\n",
    "    #else:\n",
    "    #    fss = fs\n",
    "    plt.text(x=L+(ts*i),y=10,s=alttoplot[i],ha='center',va='center',fontsize=fs)\n",
    "    plt.text(x=L+(ts*i),y=5,s=reftoplot[i],ha='center',va='center',fontsize=fs)\n",
    "    plt.text(x=L+(ts*i),y=7.7,s=s,ha='center',va='center',fontsize=fs-1)\n",
    "\n",
    "## Add dashed lines for sequence\n",
    "plt.plot([L,552],[4,2],alpha=0.5,linestyle='--',color='grey');\n",
    "plt.plot([552,L+(ts*i)],[2,4],alpha=0.75,linestyle='--',color='grey');\n",
    "\n",
    "## Add strain names to left of ssk1 sequence\n",
    "plt.text(L-70,10,'431'+'\\u03B1:',fontsize=fs+2,va='center',ha='right')\n",
    "plt.text(L-70,5,'XL280'+r'$\\bf{a}$'+':',fontsize=fs+2,va='center',ha='right');\n",
    "\n",
    "sep = 0\n",
    "for i, a in enumerate(toplot431):\n",
    "    plt.hlines(14,L-35+sep,L+(ts*2.5)+sep,\n",
    "               linewidth=20,color= color_df[(color_df.AA==a)].Color );\n",
    "    \n",
    "    if a == \"*\":\n",
    "        sa = 'STOP'\n",
    "        fss = fs-2\n",
    "    else:\n",
    "        sa = a\n",
    "        fss = fs+2\n",
    "    plt.text(((ts*2.5)+sep+L)-105,14,s=sa, color='w',\n",
    "             fontweight='bold',va='center',fontsize=fss,ha='center');\n",
    "    sep = sep + ts*3\n",
    "    \n",
    "startssk1 = ssk1_rc[(ssk1_rc.Seq==1)].Pos1.min()+1\n",
    "stopssk1 = ssk1_rc[(ssk1_rc.Seq==1)].Pos1.tolist()[-3]+1\n",
    "plt.text(startssk1,-(exon_width+0.5),'%s\\nATG'%(startssk1),fontsize=fs-2,ha='center',va='top')\n",
    "plt.text(stopssk1,-(exon_width+0.5),'%s\\nTGA'%(stopssk1),fontsize=fs-2,ha='center',va='top')\n",
    "plt.text(553,-(exon_width+0.5),'552',fontsize=fs-2,ha='center',va='top')\n",
    "plt.text(s='SSK1',x=name_place,y=0,fontsize=fs+4,\n",
    "         style='italic',fontweight='bold',\n",
    "         va='center',ha='center',color='grey');\n",
    "plt.axis('off');\n",
    "\n",
    "\n",
    "######## ------------ RIC8 ---------------- #########\n",
    "## Plot the gene body and variants\n",
    "fs =10\n",
    "plt.sca(ax[2])\n",
    "plt.vlines(ric8[(ric8.Seq==1)].Pos1.values,\n",
    "           -exon_width,exon_width,color='grey');\n",
    "plt.vlines(ric8[(ric8.Seq!=1)].Pos1.values,\n",
    "           -intron_width,intron_width,color='grey');\n",
    "plt.vlines(ric8[(ric8.Var!=0) & (ric8.Seq==1)].Pos1.values,\n",
    "           -exon_width,exon_width,color='k',linewidth=0.5)\n",
    "plt.vlines(ric8[(ric8.Var!=0) & (ric8.Seq!=1)].Pos1.values,\n",
    "           -intron_width,intron_width,color='k',linewidth=0.5)\n",
    "\n",
    "\n",
    "\n",
    "plt.text(324,-(exon_width+0.5),'324\\nATG',fontsize=fs-2,ha='center',va='top')\n",
    "plt.text(2716,-(exon_width+0.5),'2716\\nTAG',fontsize=fs-2,ha='center',va='top')\n",
    "plt.text(1957,exon_width,'1958',fontsize=fs-2,ha='center',va='bottom')\n",
    "\n",
    "plt.text(500,-15,'1 kb',fontsize=fs+2,va='top',ha='center')\n",
    "plt.hlines(-14,0,1000,color='k')\n",
    "#plt.axis('off');\n",
    "\n",
    "e6s = 1944\n",
    "e6e = 1960\n",
    "it6s = 1889\n",
    "it6e = 1945\n",
    "\n",
    "tempx1 = ric8_431[e6s-3:e6e-3]\n",
    "tempx2 = ric8_xl280[e6s:e6e]\n",
    "\n",
    "for i in np.arange(1,len(tempx2),1):\n",
    "    if tempx1[i] != tempx2[i]:\n",
    "        s = ' '\n",
    "    else:\n",
    "        s = '|'\n",
    "    plt.text(x=1500+(70*i),y=-5,s=tempx1[i],ha='center',va='center',fontsize=fs)\n",
    "    plt.text(x=1500+(70*i),y=-10,s=tempx2[i],ha='center',va='center',fontsize=fs)\n",
    "    plt.text(x=1500+(70*i),y=-7.4,s=s,ha='center',va='center',fontsize=fs-1)\n",
    "\n",
    "aa = Seq(tempx2[1:]).translate()\n",
    "sep = 0\n",
    "for i, a in enumerate(aa):\n",
    "    plt.hlines(-14,1540+sep,(1545+(70*3))+sep,linewidth=20,color=color_df[(color_df.AA==a)].Color)\n",
    "    sep = sep + (70*3)\n",
    "\n",
    "for i in range(len(aa)):\n",
    "    if aa[i] == \"*\":\n",
    "        sa = 'STOP'\n",
    "        fss = fs-2\n",
    "    else:\n",
    "        sa = aa[i]\n",
    "        fss = fs+2\n",
    "    plt.text(1650+(210*i),y=-14,s=sa,color='w',\n",
    "             fontweight='bold',va='center',fontsize=fss,ha='center');\n",
    "\n",
    "plt.plot([1570,1945],[-4,-2],'k',linestyle='--',alpha=0.5)\n",
    "plt.plot([1500+(70*(len(tempx2)-1)),1960],[-4,-2],\n",
    "         'k',linestyle='--',alpha=0.5)\n",
    "\n",
    "plt.text(1500,-5,'431'+'\\u03B1:',fontsize=fs+2,va='center',ha='right')\n",
    "plt.text(1500,-10,'XL280'+r'$\\bf{a}$'+':',fontsize=fs+2,va='center',ha='right');\n",
    "\n",
    "plt.text(s='RIC8',x=name_place,y=0,fontsize=fs+4,\n",
    "         style='italic',fontweight='bold',\n",
    "         va='center',ha='center',color='grey');\n",
    "\n",
    "## The deletion in RIC8\n",
    "xl_del = ric8_xl280[1047:1053+3]\n",
    "del431 = ric8_431[1047:1050] + 'XXX' + ric8_431[1050:1053]\n",
    "for i in np.arange(len(xl_del)):\n",
    "    if del431[i] == 'X':\n",
    "        ss = ' '\n",
    "    else:\n",
    "        ss = del431[i]\n",
    "    if xl_del[i] != ss:\n",
    "        s = ' '\n",
    "    else:\n",
    "        s = '|'\n",
    "\n",
    "    plt.text(x=800+(70*i),y=10,s=ss,ha='center',va='center',fontsize=fs)\n",
    "    plt.text(x=800+(70*i),y=5,s=xl_del[i],ha='center',va='center',fontsize=fs)\n",
    "    plt.text(x=800+(70*i),y=7.7,s=s,ha='center',va='center',fontsize=fs-1)\n",
    "plt.plot([800,1050],[4,2],'k',linestyle='--',alpha=0.5)\n",
    "plt.plot([800+(70*i),1050],[4,2],\n",
    "         'k',linestyle='--',alpha=0.5)\n",
    "plt.text(1050,-(exon_width+0.5),'1051',fontsize=fs-2,ha='center',va='top')\n",
    "\n",
    "a = Seq('ACG').translate()[0]\n",
    "plt.hlines(14,770,(770+(70*3)), linewidth=20, color=color_df[(color_df.AA==a)].Color)\n",
    "plt.text(770+(70*1.5),y=14,s=a,color='w',\n",
    "     fontweight='bold',va='center',fontsize=fs+2,ha='center');\n",
    "a = Seq('AGG').translate()[0]\n",
    "plt.hlines(14,770+(70*3),(770+(70*6)), linewidth=20, color=color_df[(color_df.AA==a)].Color)\n",
    "plt.text(770+(70*4.5),y=14,s=a,color='w',\n",
    "     fontweight='bold',va='center',fontsize=fs+2,ha='center');\n",
    "a = Seq('TGG').translate()[0]\n",
    "plt.hlines(14,770+(70*6),(770+(70*9)), linewidth=20, color='olive')\n",
    "plt.text(770+(70*7.5),y=14,s=a,color='w',\n",
    "     fontweight='bold',va='center',fontsize=fs+2,ha='center');\n",
    "\n",
    "plt.text(750,10,'431'+'\\u03B1:',fontsize=fs+2,va='center',ha='right')\n",
    "plt.text(750,5,'XL280'+r'$\\bf{a}$'+':',fontsize=fs+2,va='center',ha='right');\n",
    "\n",
    "\n",
    "\n",
    "ricend = 'TAGTAA'\n",
    "end431 = ric8_alt[-151:-145]\n",
    "for i in np.arange(len(end431)):\n",
    "    if ricend[i] != end431[i]:\n",
    "        s = ' '\n",
    "    else:\n",
    "        s = '|'\n",
    "    plt.text(x=2600+(70*i),y=10,s=end431[i],ha='center',va='center',fontsize=fs)\n",
    "    plt.text(x=2600+(70*i),y=5,s=ricend[i],ha='center',va='center',fontsize=fs)\n",
    "    plt.text(x=2600+(70*i),y=7.7,s=s,ha='center',va='center',fontsize=fs-1)\n",
    "plt.plot([2600,2715],[4,2],'k',linestyle='--',alpha=0.5)\n",
    "plt.plot([2600+(70*i),2715],[4,2],\n",
    "         'k',linestyle='--',alpha=0.5)  \n",
    "a = Seq('CAG').translate()[0]\n",
    "plt.hlines(14,2600-30+(70*0),((2600-30)+(70*3)), \n",
    "           linewidth=20, color=color_df[(color_df.AA==a)].Color)\n",
    "plt.text(2600-30+(70*1.5),y=14,s=a,color='w',\n",
    "     fontweight='bold',va='center',fontsize=fs+2,ha='center');\n",
    "a = 'STOP'\n",
    "plt.hlines(14,2600-30+(70*3),((2600-30)+(70*6)), linewidth=20, color='r')\n",
    "plt.text(2600-30+(70*4.5),y=14,s=a,color='w',\n",
    "     fontweight='bold',va='center',fontsize=fs-2,ha='center');\n",
    "\n",
    "plt.ylim(-16,16);\n",
    "plt.axis('off');\n",
    "\n",
    "\n",
    "\n",
    "######## ------------ SSK2 ---------------- #########\n",
    "plt.sca(ax[1])\n",
    "ssk2_alt = Seq(''.join(ssk2[(ssk2.Seq==1)].Alt.tolist())).translate(to_stop=True)\n",
    "ssk2_ref = Seq(''.join(ssk2[(ssk2.Seq==1)].Ref.tolist())).translate(to_stop=True)\n",
    "coding_difs = []\n",
    "for i,k in enumerate(ssk2_ref):\n",
    "    if k != ssk2_alt[i]:\n",
    "        print(i,k,ssk2_alt[i])\n",
    "        coding_difs.append((i,k,ssk2_alt[i]))\n",
    "        \n",
    "        \n",
    "ssk2_ref_seq = Seq(''.join(ssk2[(ssk2.Seq==1)].Ref.tolist()))\n",
    "ssk2_alt_seq = Seq(''.join(ssk2[(ssk2.Seq==1)].Alt.tolist()))\n",
    "refcodons = [ssk2_ref_seq[(c[0]*3):((c[0]+1)*3)] for c in coding_difs]\n",
    "altcodons = [ssk2_alt_seq[(c[0]*3):((c[0]+1)*3)] for c in coding_difs]\n",
    "\n",
    "\n",
    "plt.vlines(ssk2[(ssk2.Seq==1)].Pos1,-exon_width,exon_width,color='grey');\n",
    "plt.vlines(ssk2[(ssk2.Seq!=1)].Pos1,-intron_width,intron_width,color='grey');\n",
    "plt.vlines(ssk2[(ssk2.Var==1) & (ssk2.Seq==1)].Pos1.values,\n",
    "           -exon_width,exon_width,linewidth=0.5,color='k')\n",
    "plt.vlines(ssk2[(ssk2.Var==1) & (ssk2.Seq!=1)].Pos1.values,\n",
    "           -intron_width,intron_width,linewidth=0.5,color='k')\n",
    "\n",
    "upd = [(10,5,7.7),(10,5,7.7),(10,5,7.7)]\n",
    "for j,c in enumerate(coding_difs):\n",
    "    nspos = ssk2[(ssk2.Seq==1)].iloc[:(c[0])*3][(ssk2.Var==1)].Pos1.tolist()[-1]\n",
    "    for i,r in enumerate(refcodons[j]):\n",
    "        a = altcodons[j][i]\n",
    "        if r != a:\n",
    "            s = ' '\n",
    "        else:\n",
    "            s = '|'\n",
    "        plt.text(x= nspos+(70*i),y= upd[j][0], s=a,ha='center',va='center',fontsize=fs)\n",
    "        plt.text(x=nspos+(70*i),y= upd[j][1], s=r,ha='center',va='center',fontsize=fs)\n",
    "        plt.text(x=nspos+(70*i),y= upd[j][-1], s=s,ha='center',va='center',fontsize=fs-1)\n",
    "    plt.plot([nspos-30,nspos],[upd[j][1]-1,2],'k',linestyle='--',alpha=0.5)\n",
    "    plt.plot([nspos+(85*i),nspos],[upd[j][1]-1,2],'k',linestyle='--',alpha=0.5)\n",
    "    aa = c[-1]\n",
    "    plt.hlines(14,nspos-30,(nspos+(70*2.5)), \n",
    "               linewidth=20, color=color_df[(color_df.AA==aa)].Color)\n",
    "    plt.text(nspos+70,y=14,s=aa,color='w',\n",
    "     fontweight='bold',va='center',fontsize=fs+2,ha='center');\n",
    "    plt.text(nspos,y=-(exon_width+0.5),s=str(nspos+1),fontsize=fs-2,ha='center',va='top')\n",
    "    #print(aa)\n",
    "## Add strain names to left of ssk1 sequence\n",
    "plt.text(0,10,'431'+'\\u03B1:',fontsize=fs+2,va='center',ha='right')\n",
    "plt.text(0,5,'XL280'+r'$\\bf{a}$'+':',fontsize=fs+2,va='center',ha='right')\n",
    "    \n",
    "plt.axis('off')\n",
    "plt.text(s='SSK2',x=name_place,y=0,fontsize=fs+4,\n",
    "         style='italic',fontweight='bold',\n",
    "         va='center',ha='center',color='grey');\n",
    "\n",
    "plt.text(x=ssk2[(ssk2.Seq==1)].Pos1.tolist()[-3],\n",
    "         y=-(exon_width+0.5),s='%s\\n%s'%(ssk2[(ssk2.Seq==1)].Pos1.tolist()[-3]+1,\n",
    "            ''.join(ssk2[(ssk2.Seq==1)].Ref.tolist()[-3:])),\n",
    "         va='top',ha='center',fontsize=fs-2);\n",
    "\n",
    "plt.text(x=ssk2[(ssk2.Seq==1)].Pos1.min()+1,\n",
    "         y=-(exon_width+2.5),s='%s\\n%s'%(ssk2[(ssk2.Seq==1)].Pos1.min()+1,\n",
    "            ''.join(ssk2[(ssk2.Seq==1)].Ref.tolist()[:3])),\n",
    "         va='top',ha='center',fontsize=fs-2);\n",
    "plt.subplots_adjust(wspace=0.0,hspace=0.0)\n",
    "plt.savefig('/home/croth/QTL_FIGS/SUPP/FIGS/S14_Fig.pdf',\n",
    "            dpi=300,bbox_inches='tight');"
   ]
  },
  {
   "cell_type": "code",
   "execution_count": 49,
   "metadata": {},
   "outputs": [
    {
     "name": "stderr",
     "output_type": "stream",
     "text": [
      "/home/croth/anaconda3/lib/python3.7/site-packages/Bio/Seq.py:2609: BiopythonWarning: Partial codon, len(sequence) not a multiple of three. Explicitly trim the sequence or add trailing N before translation. This may become an error in future.\n",
      "  BiopythonWarning)\n",
      "/home/croth/anaconda3/lib/python3.7/site-packages/ipykernel_launcher.py:204: UserWarning: Boolean Series key will be reindexed to match DataFrame index.\n",
      "/home/croth/anaconda3/lib/python3.7/site-packages/ipykernel_launcher.py:204: UserWarning: Boolean Series key will be reindexed to match DataFrame index.\n"
     ]
    },
    {
     "name": "stdout",
     "output_type": "stream",
     "text": [
      "17 A P\n",
      "240 F L\n",
      "738 V M\n"
     ]
    },
    {
     "data": {
      "image/png": "[encoded data removed]",
      "text/plain": [
       "<Figure size 576x648 with 3 Axes>"
      ]
     },
     "metadata": {},
     "output_type": "display_data"
    }
   ],
   "source": [
    "######## --------- SSK1 ---------------- #########\n",
    "fig,ax = plt.subplots(3,1,figsize=(8,9),sharey=True,sharex=True,facecolor='w')\n",
    "plt.sca(ax[0])\n",
    "fs = 7.8\n",
    "name_place = -600\n",
    "intron_width = 0.75\n",
    "exon_width = 2\n",
    "var_linewidth = 0.5\n",
    "plt.vlines(ssk1_rc[(ssk1_rc.Seq!=1)].Pos1.values,\n",
    "           -intron_width,intron_width,color='grey')\n",
    "\n",
    "plt.vlines(ssk1_rc[(ssk1_rc.Seq==1)].Pos1.values,\n",
    "          -exon_width,exon_width,color='grey');\n",
    "\n",
    "plt.vlines(ssk1_rc[(ssk1_rc.Var!=0) & (ssk1_rc.Seq==1)].Pos1.values,\n",
    "           -exon_width,exon_width,color='k',linewidth=var_linewidth)\n",
    "\n",
    "plt.vlines(ssk1_rc[(ssk1_rc.Var!=0) & (ssk1_rc.Seq!=1)].Pos1.values,\n",
    "           -intron_width,intron_width,color='k',linewidth=var_linewidth)\n",
    "\n",
    "\n",
    "L = 140\n",
    "ts = 70\n",
    "for i in np.arange(0,len(alttoplot),1):\n",
    "    if reftoplot[i] != alttoplot[i]:\n",
    "        s = ' '\n",
    "    else:\n",
    "        s = '|'\n",
    "    plt.text(x=L+(ts*i),y=13,s=alttoplot[i],ha='center',va='center',fontsize=fs)\n",
    "    plt.text(x=L+(ts*i),y=9,s=reftoplot[i],ha='center',va='center',fontsize=fs)\n",
    "    plt.text(x=L+(ts*i),y=11.25,s=s,ha='center',va='center',fontsize=fs+3)\n",
    "\n",
    "## Add dashed lines for sequence\n",
    "plt.plot([L,552],[4,2],alpha=0.5,linestyle='--',color='grey');\n",
    "plt.plot([552,L+(ts*i)],[2,4],alpha=0.75,linestyle='--',color='grey');\n",
    "\n",
    "## Add strain names to left of ssk1 sequence\n",
    "plt.text(L-70,13,'431'+'\\u03B1:',fontsize=fs+2,va='center',ha='right')\n",
    "plt.text(L-70,9,'XL280'+r'$\\bf{a}$'+':',fontsize=fs+2,va='center',ha='right');\n",
    "\n",
    "sep = 0\n",
    "for i, a in enumerate(toplot431):\n",
    "    plt.hlines(16,L-35+sep, L+(ts*2.5)+sep,\n",
    "               linewidth=20, color= color_df[(color_df.AA==a)].Color );\n",
    "    \n",
    "    if a == \"*\":\n",
    "        sa = 'STOP'\n",
    "        fss = fs-2\n",
    "    else:\n",
    "        sa = a\n",
    "        fss = fs+2\n",
    "    plt.text(((ts*2.5)+sep+L)-105,16,s=sa, color='w',\n",
    "             fontweight='bold',va='center',fontsize=fss,ha='center');\n",
    "    sep = sep + ts*3\n",
    "sep = 0\n",
    "for i, a in enumerate(Seq(reftoplot.split(' ')[0]).translate()):\n",
    "    plt.hlines(6.5,L-35+sep, L+(ts*2.5)+sep,\n",
    "               linewidth=20, color= color_df[(color_df.AA==a)].Color );\n",
    "    if a == \"*\":\n",
    "        sa = 'STOP'\n",
    "        fss = fs-2\n",
    "    else:\n",
    "        sa = a\n",
    "        fss = fs+2\n",
    "    plt.text(((ts*2.5)+sep+L)-105,6.5,s=sa, color='w',\n",
    "             fontweight='bold',va='center',fontsize=fss,ha='center');\n",
    "    sep = sep + ts*3\n",
    "for i, a in enumerate(Seq(reftoplot.split(' ')[1]).translate()):\n",
    "    plt.hlines(6.5,L-35+sep+80, L+(ts*2.5)+sep+80,\n",
    "               linewidth=20, color= color_df[(color_df.AA==a)].Color );\n",
    "    if a == \"*\":\n",
    "        sa = 'STOP'\n",
    "        fss = fs-2\n",
    "    else:\n",
    "        sa = a\n",
    "        fss = fs+2\n",
    "    plt.text(((ts*2.5)+sep+L+ts)-105,6.5,s=sa, color='w',\n",
    "             fontweight='bold',va='center',fontsize=fss,ha='center');\n",
    "    sep = sep + ts*3\n",
    "startssk1 = ssk1_rc[(ssk1_rc.Seq==1)].Pos1.min()+1\n",
    "stopssk1 = ssk1_rc[(ssk1_rc.Seq==1)].Pos1.tolist()[-3]+1\n",
    "plt.text(startssk1,-(exon_width+0.5),'%s\\nATG'%(startssk1),fontsize=fs,ha='center',va='top')\n",
    "plt.text(stopssk1,-(exon_width+0.5),'%s\\nTGA'%(stopssk1),fontsize=fs,ha='center',va='top')\n",
    "plt.text(553,-(exon_width+0.5),'552',fontsize=fs,ha='center',va='top')\n",
    "plt.text(s='SSK1',x=name_place,y=0,fontsize=fs+4,\n",
    "         style='italic',fontweight='bold',\n",
    "         va='center',ha='center',color='grey');\n",
    "plt.axis('off');\n",
    "plt.ylim(-6,18)\n",
    "\n",
    "######## ------------ RIC8 ---------------- #########\n",
    "## Plot the gene body and variants\n",
    "plt.sca(ax[2])\n",
    "plt.vlines(ric8[(ric8.Seq==1)].Pos1.values,\n",
    "           -exon_width,exon_width,color='grey');\n",
    "plt.vlines(ric8[(ric8.Seq!=1)].Pos1.values,\n",
    "           -intron_width,intron_width,color='grey');\n",
    "plt.vlines(ric8[(ric8.Var!=0) & (ric8.Seq==1)].Pos1.values,\n",
    "           -exon_width,exon_width,color='k',linewidth=0.5)\n",
    "plt.vlines(ric8[(ric8.Var!=0) & (ric8.Seq!=1)].Pos1.values,\n",
    "           -intron_width,intron_width,color='k',linewidth=0.5)\n",
    "\n",
    "\n",
    "\n",
    "plt.text(324,-(exon_width+0.5),'324\\nATG',fontsize=fs,ha='center',va='top')\n",
    "plt.text(2716,-(exon_width+0.5),'2716\\nTAG',fontsize=fs,ha='center',va='top')\n",
    "plt.text(1957,-(exon_width+0.5),'1958',fontsize=fs,ha='center',va='top')\n",
    "\n",
    "plt.text(500,-7,'1 kb',fontsize=fs+2,va='top',ha='center')\n",
    "plt.hlines(-6,0,1000,color='k')\n",
    "plt.axis('off');plt.ylim(-6,18)\n",
    "\n",
    "e6s = 1944\n",
    "e6e = 1960\n",
    "it6s = 1889\n",
    "it6e = 1945\n",
    "\n",
    "tempx1 = ric8_431[e6s-3:e6e-3]\n",
    "tempx2 = ric8_xl280[e6s:e6e]\n",
    "\n",
    "for i in np.arange(1,len(tempx2),1):\n",
    "    if tempx1[i] != tempx2[i]:\n",
    "        s = ' '\n",
    "    else:\n",
    "        s = '|'\n",
    "    plt.text(x=1500+(70*i),y=13,s=tempx1[i],ha='center',va='center',fontsize=fs)\n",
    "    plt.text(x=1500+(70*i),y=9,s=tempx2[i],ha='center',va='center',fontsize=fs)\n",
    "    plt.text(x=1500+(70*i),y=11.25,s=s,ha='center',va='center',fontsize=fs+3)\n",
    "\n",
    "aa = Seq(tempx2[1:]).translate()\n",
    "sep = 0\n",
    "for i, a in enumerate(aa):\n",
    "    plt.hlines(6.5,1540+sep,(1545+(70*3))+sep,linewidth=20,color=color_df[(color_df.AA==a)].Color)\n",
    "    sep = sep + (70*3)\n",
    "\n",
    "for i in range(len(aa)):\n",
    "    if aa[i] == \"*\":\n",
    "        sa = 'STOP'\n",
    "        fss = fs-2\n",
    "    else:\n",
    "        sa = aa[i]\n",
    "        fss = fs+2\n",
    "    plt.text(1650+(210*i),y=6.5,s=sa,color='w',\n",
    "             fontweight='bold',va='center',fontsize=fss,ha='center');\n",
    "    \n",
    "aa = Seq(tempx1[1:]).translate()\n",
    "sep = 0\n",
    "for i, a in enumerate(aa):\n",
    "    plt.hlines(16,1540+sep,(1545+(70*3))+sep,\n",
    "               linewidth=20,\n",
    "               color=color_df[(color_df.AA==a)].Color)\n",
    "    sep = sep + (70*3)\n",
    "\n",
    "for i in range(len(aa)):\n",
    "    if aa[i] == \"*\":\n",
    "        sa = 'STOP'\n",
    "        fss = fs-2\n",
    "    else:\n",
    "        sa = aa[i]\n",
    "        fss = fs+2\n",
    "    plt.text(1650+(210*i),y=16,s=sa,color='w',\n",
    "             fontweight='bold',va='center',fontsize=fss,ha='center');\n",
    "\n",
    "\n",
    "plt.plot([1570,1945],[4,2],'k',linestyle='--',alpha=0.5)\n",
    "plt.plot([1500+(70*(len(tempx2)-1)),1960],[4,2],\n",
    "         'k',linestyle='--',alpha=0.5)\n",
    "\n",
    "plt.text(1500,13,'431'+'\\u03B1:',fontsize=fs+2,va='center',ha='right')\n",
    "plt.text(1500,9,'XL280'+r'$\\bf{a}$'+':',fontsize=fs+2,va='center',ha='right');\n",
    "\n",
    "plt.text(s='RIC8',x=name_place,y=0,fontsize=fs+4,\n",
    "         style='italic',fontweight='bold',\n",
    "         va='center',ha='center',color='grey');\n",
    "\n",
    "\n",
    "######## ------------ SSK2 ---------------- #########\n",
    "plt.sca(ax[1])\n",
    "ssk2_alt = Seq(''.join(ssk2[(ssk2.Seq==1)].Alt.tolist())).translate(to_stop=True)\n",
    "ssk2_ref = Seq(''.join(ssk2[(ssk2.Seq==1)].Ref.tolist())).translate(to_stop=True)\n",
    "coding_difs = []\n",
    "for i,k in enumerate(ssk2_ref):\n",
    "    if k != ssk2_alt[i]:\n",
    "        print(i+1,k,ssk2_alt[i])\n",
    "        coding_difs.append((i,k,ssk2_alt[i]))\n",
    "        \n",
    "        \n",
    "ssk2_ref_seq = Seq(''.join(ssk2[(ssk2.Seq==1)].Ref.tolist()))\n",
    "ssk2_alt_seq = Seq(''.join(ssk2[(ssk2.Seq==1)].Alt.tolist()))\n",
    "refcodons = [ssk2_ref_seq[(c[0]*3):((c[0]+1)*3)] for c in coding_difs]\n",
    "altcodons = [ssk2_alt_seq[(c[0]*3):((c[0]+1)*3)] for c in coding_difs]\n",
    "\n",
    "\n",
    "plt.vlines(ssk2[(ssk2.Seq==1)].Pos1,-exon_width,exon_width,color='grey');\n",
    "plt.vlines(ssk2[(ssk2.Seq!=1)].Pos1,-intron_width,intron_width,color='grey');\n",
    "plt.vlines(ssk2[(ssk2.Var==1) & (ssk2.Seq==1)].Pos1.values,\n",
    "           -exon_width,exon_width,linewidth=0.5,color='k')\n",
    "plt.vlines(ssk2[(ssk2.Var==1) & (ssk2.Seq!=1)].Pos1.values,\n",
    "           -intron_width,intron_width,linewidth=0.5,color='k')\n",
    "\n",
    "for j,c in enumerate(coding_difs):\n",
    "    if j == 0:\n",
    "        continue\n",
    "    nspos = ssk2[(ssk2.Seq==1)].iloc[:(c[0])*3][(ssk2.Var==1)].Pos1.tolist()[-1]\n",
    "    for i,r in enumerate(refcodons[j]):\n",
    "        a = altcodons[j][i]\n",
    "        if r != a:\n",
    "            s = ' '\n",
    "        else:\n",
    "            s = '|'\n",
    "        plt.text(x= nspos+(70*i),y = 13, s=a,ha='center',va='center',fontsize=fs)\n",
    "        plt.text(x=nspos+(70*i),y = 9, s=r,ha='center',va='center',fontsize=fs)\n",
    "        plt.text(x=nspos+(70*i),y = 11.25, s=s,ha='center',va='center',fontsize=fs+3)\n",
    "    plt.plot([nspos-30,nspos],[4,2],'k',linestyle='--',alpha=0.5)\n",
    "    plt.plot([nspos+(85*i),nspos],[4,2],'k',linestyle='--',alpha=0.5)\n",
    "    aa = c[-1]\n",
    "    plt.hlines(16,nspos-30,(nspos+(70*2.5)), \n",
    "               linewidth=20, color=color_df[(color_df.AA==aa)].Color)\n",
    "    plt.hlines(6.5,nspos-30,(nspos+(70*2.5)), \n",
    "               linewidth=20, color=color_df[(color_df.AA==c[1])].Color)\n",
    "    plt.text(nspos+70,y=16,s=aa,color='w',\n",
    "     fontweight='bold',va='center',fontsize=fs+2,ha='center');\n",
    "    plt.text(nspos+70,y=6.4,s=c[1],color='w',\n",
    "     fontweight='bold',va='center',fontsize=fs+2,ha='center');\n",
    "    plt.text(nspos,y=-(exon_width+0.5),s=str(nspos+1),fontsize=fs,ha='center',va='top')\n",
    "    #print(aa)\n",
    "## Add strain names to left of ssk1 sequence\n",
    "plt.text(700,13,'431'+'\\u03B1:',fontsize=fs+2,va='center',ha='right')\n",
    "plt.text(700,9,'XL280'+r'$\\bf{a}$'+':',fontsize=fs+2,va='center',ha='right')\n",
    "    \n",
    "plt.text(s='SSK2',x=name_place,y=0,fontsize=fs+4,\n",
    "         style='italic',fontweight='bold',\n",
    "         va='center',ha='center',color='grey');\n",
    "\n",
    "plt.text(x=ssk2[(ssk2.Seq==1)].Pos1.tolist()[-3], ## Stop codon\n",
    "         y=-(exon_width+0.5),s='%s\\n%s'%(ssk2[(ssk2.Seq==1)].Pos1.tolist()[-3]+1,\n",
    "            ''.join(ssk2[(ssk2.Seq==1)].Ref.tolist()[-3:])),\n",
    "         va='top',ha='center',fontsize=fs);\n",
    "\n",
    "plt.text(x=ssk2[(ssk2.Seq==1)].Pos1.min()+1, ## Start codon\n",
    "         y=-(exon_width+0.5),s='%s\\n%s'%(ssk2[(ssk2.Seq==1)].Pos1.min()+1,\n",
    "            ''.join(ssk2[(ssk2.Seq==1)].Ref.tolist()[:3])),\n",
    "         va='top',ha='center',fontsize=fs);\n",
    "plt.subplots_adjust(wspace=0.0,hspace=0.0)\n",
    "plt.axis('off');plt.ylim(-6,18)\n",
    "plos_path = '/home/croth/QTL_FIGS/MAIN/Fig6.tiff'\n",
    "mydpi=600\n",
    "plt.savefig(plos_path,dpi=mydpi,bbox_inches='tight');\n",
    "\n",
    "plt.savefig('/home/croth/QTL_FIGS/MAIN/PDFs/Fig6.pdf',\n",
    "            dpi=mydpi,bbox_inches='tight',pad_inches=1)\n",
    "\n",
    "\n",
    "im = Image.open(plos_path)\n",
    "w,h = im.size\n",
    "assert w/mydpi < 7.5\n",
    "assert h/mydpi < 8\n",
    "\n",
    "im.save(plos_path,compression='tiff_lzw');"
   ]
  },
  {
   "cell_type": "code",
   "execution_count": 50,
   "metadata": {},
   "outputs": [
    {
     "ename": "AssertionError",
     "evalue": "",
     "output_type": "error",
     "traceback": [
      "\u001b[0;31m---------------------------------------------------------------------------\u001b[0m",
      "\u001b[0;31mAssertionError\u001b[0m                            Traceback (most recent call last)",
      "\u001b[0;32m<ipython-input-50-e99f91a18d62>\u001b[0m in \u001b[0;36m<module>\u001b[0;34m\u001b[0m\n\u001b[0;32m----> 1\u001b[0;31m \u001b[0;32massert\u001b[0m \u001b[0;36m1\u001b[0m \u001b[0;34m==\u001b[0m \u001b[0;36m0\u001b[0m\u001b[0;34m\u001b[0m\u001b[0;34m\u001b[0m\u001b[0m\n\u001b[0m",
      "\u001b[0;31mAssertionError\u001b[0m: "
     ]
    }
   ],
   "source": [
    "assert 1 == 0"
   ]
  },
  {
   "cell_type": "code",
   "execution_count": null,
   "metadata": {},
   "outputs": [],
   "source": []
  },
  {
   "cell_type": "code",
   "execution_count": null,
   "metadata": {},
   "outputs": [],
   "source": [
    "pwd"
   ]
  },
  {
   "cell_type": "code",
   "execution_count": null,
   "metadata": {},
   "outputs": [],
   "source": [
    "w"
   ]
  },
  {
   "cell_type": "code",
   "execution_count": null,
   "metadata": {},
   "outputs": [],
   "source": []
  },
  {
   "cell_type": "code",
   "execution_count": null,
   "metadata": {},
   "outputs": [],
   "source": [
    "reftoplot"
   ]
  },
  {
   "cell_type": "code",
   "execution_count": null,
   "metadata": {},
   "outputs": [],
   "source": [
    "Seq(reftoplot.split('-')[1]).translate()"
   ]
  },
  {
   "cell_type": "code",
   "execution_count": null,
   "metadata": {},
   "outputs": [],
   "source": [
    "color_df"
   ]
  },
  {
   "cell_type": "code",
   "execution_count": null,
   "metadata": {},
   "outputs": [],
   "source": [
    "color_df"
   ]
  },
  {
   "cell_type": "code",
   "execution_count": null,
   "metadata": {},
   "outputs": [],
   "source": [
    "ssk2[(ssk2.Seq==1)].head()"
   ]
  },
  {
   "cell_type": "code",
   "execution_count": null,
   "metadata": {},
   "outputs": [],
   "source": [
    "ssk1_rc[(ssk1_rc.Seq==1)].tail()"
   ]
  },
  {
   "cell_type": "code",
   "execution_count": null,
   "metadata": {},
   "outputs": [],
   "source": [
    "ssk2[(ssk2.Seq==1)].tail()"
   ]
  },
  {
   "cell_type": "code",
   "execution_count": null,
   "metadata": {},
   "outputs": [],
   "source": [
    "ric8[(ric8.Seq==1)].tail()"
   ]
  },
  {
   "cell_type": "code",
   "execution_count": null,
   "metadata": {},
   "outputs": [],
   "source": [
    "[c.translate() for c in altcodons]"
   ]
  },
  {
   "cell_type": "code",
   "execution_count": null,
   "metadata": {},
   "outputs": [],
   "source": [
    "codons"
   ]
  },
  {
   "cell_type": "code",
   "execution_count": null,
   "metadata": {},
   "outputs": [],
   "source": [
    "ssk2_alt_seq[:(17*3)]"
   ]
  },
  {
   "cell_type": "code",
   "execution_count": null,
   "metadata": {},
   "outputs": [],
   "source": [
    "Seq('CCG').translate()"
   ]
  },
  {
   "cell_type": "code",
   "execution_count": null,
   "metadata": {},
   "outputs": [],
   "source": [
    "ssk2[(ssk2.Seq==1)].iloc[:(c[0])*3][(ssk2.Var==1)]"
   ]
  },
  {
   "cell_type": "code",
   "execution_count": null,
   "metadata": {},
   "outputs": [],
   "source": [
    "nspos"
   ]
  },
  {
   "cell_type": "code",
   "execution_count": null,
   "metadata": {},
   "outputs": [],
   "source": [
    "ssk1_rc.Pos1.max()"
   ]
  },
  {
   "cell_type": "code",
   "execution_count": null,
   "metadata": {},
   "outputs": [],
   "source": [
    "ssk2.Pos1.max()"
   ]
  },
  {
   "cell_type": "code",
   "execution_count": null,
   "metadata": {},
   "outputs": [],
   "source": [
    "ric8.Pos1.max()"
   ]
  },
  {
   "cell_type": "code",
   "execution_count": null,
   "metadata": {},
   "outputs": [],
   "source": [
    "\n",
    "plt.ylim(-0.1,0.5)\n",
    "\n",
    "L = 0\n",
    "for i in np.arange(0,len(alttoplot),1):\n",
    "    if reftoplot[i] != alttoplot[i]:\n",
    "        s = ' '\n",
    "    else:\n",
    "        s = '|'\n",
    "    plt.text(x=L+(70*i),y=0.32,s=alttoplot[i],ha='center',va='center',fontsize=14)\n",
    "    plt.text(x=L+(70*i),y=0.2,s=reftoplot[i],ha='center',va='center',fontsize=14)\n",
    "    plt.text(x=L+(70*i),y=0.27,s=s,ha='center',va='center',fontsize=10)\n",
    "\n",
    "plt.plot([552,L+(71*i)],[0.04,0.15],'k',linestyle='--',alpha=0.5)\n",
    "plt.plot([552,L],[0.04,0.15],'k',linestyle='--',alpha=0.5)\n",
    "plt.text(-70,0.32,'431'+'\\u03B1:',fontsize=14,va='center',ha='right')\n",
    "plt.text(-70,0.2,'XL280'+r'$\\bf{a}$'+':',fontsize=14,va='center',ha='right');\n",
    "\n",
    "sep = 0\n",
    "for i, a in enumerate(toplot431):\n",
    "    plt.hlines(0.41,-35+sep,(70*2.5)+sep,\n",
    "               linewidth=20,color= color_df[(color_df.AA==a)].Color );\n",
    "    \n",
    "    if a == \"*\":\n",
    "        sa = 'STOP'\n",
    "        fs = 10\n",
    "    else:\n",
    "        sa = a\n",
    "        fs = 14\n",
    "    plt.text(((70*2.5)+sep)-105, 0.41,s=sa, color='w',\n",
    "             fontweight='bold',va='center',fontsize=fs,ha='center');\n",
    "    sep = sep + 70*3\n",
    "\n",
    "\n",
    "#plt.axis('off')\n",
    "startssk1 = ssk1_rc[(ssk1_rc.Seq==1)].Pos1.min()+1\n",
    "stopssk1 = ssk1_rc[(ssk1_rc.Seq==1)].PosL.max()\n",
    "plt.text(startssk1,-0.045,'%s\\nATG'%(startssk1),fontsize=14,ha='center',va='top')\n",
    "plt.text(stopssk1,-0.045,'%s\\nTGA'%(stopssk1),fontsize=14,ha='center',va='top')\n",
    "plt.text(553,-0.045,'552',fontsize=14,ha='center',va='top')\n",
    "plt.text(s='SSK1',x=-400,y=0,fontsize=16,\n",
    "         style='italic',fontweight='bold',\n",
    "         va='center',ha='center',color='grey');\n",
    "\n",
    "\n"
   ]
  },
  {
   "cell_type": "code",
   "execution_count": null,
   "metadata": {},
   "outputs": [],
   "source": [
    "ric8[(ric8.Seq==1) & (ric8.Var==1)]"
   ]
  },
  {
   "cell_type": "code",
   "execution_count": null,
   "metadata": {},
   "outputs": [],
   "source": [
    "from Bio import SeqIO\n",
    "from Bio.SeqIO import SeqRecord"
   ]
  },
  {
   "cell_type": "code",
   "execution_count": null,
   "metadata": {},
   "outputs": [],
   "source": [
    "chr14 = [s for s in SeqIO.parse('../../FILES/xl280genome.fasta',format='fasta') if s.id == 'Chr14'][0]"
   ]
  },
  {
   "cell_type": "code",
   "execution_count": null,
   "metadata": {},
   "outputs": [],
   "source": [
    "len(ric8[(ric8.Seq==3)].Ref.tolist())"
   ]
  },
  {
   "cell_type": "code",
   "execution_count": null,
   "metadata": {},
   "outputs": [],
   "source": [
    "gv = pd.read_csv('../../FILES/CDx-ill-SNP-INDEL-df-104-blocked.csv')"
   ]
  },
  {
   "cell_type": "code",
   "execution_count": null,
   "metadata": {},
   "outputs": [],
   "source": [
    "TtoCpos = ric8[(ric8.Seq==1) & (ric8.Var==1)].Start.max()"
   ]
  },
  {
   "cell_type": "code",
   "execution_count": null,
   "metadata": {},
   "outputs": [],
   "source": [
    "stop_loss_df = ric8[(ric8.Start<=TtoCpos) & (ric8.Start>(TtoCpos-401))]"
   ]
  },
  {
   "cell_type": "code",
   "execution_count": null,
   "metadata": {},
   "outputs": [],
   "source": [
    "stop_loss_df.tail()"
   ]
  },
  {
   "cell_type": "code",
   "execution_count": null,
   "metadata": {},
   "outputs": [],
   "source": [
    "stop_loss_ref_lh = ''.join(stop_loss_df.Ref.tolist()) + ''.join(ric8[(ric8.Start>TtoCpos)].Ref.tolist())\n",
    "stop_loss_alt_lh = ''.join(stop_loss_df.Alt.tolist()) + ''.join(ric8[(ric8.Start>TtoCpos)].Alt.tolist())"
   ]
  },
  {
   "cell_type": "code",
   "execution_count": null,
   "metadata": {},
   "outputs": [],
   "source": [
    "#for_DM_end = chr14.seq[ric8[(ric8.Seq==3)].Start.min()-401:ric8.End.max()+(400-len(ric8[(ric8.Seq==3)].Ref.tolist()))]"
   ]
  },
  {
   "cell_type": "code",
   "execution_count": null,
   "metadata": {},
   "outputs": [],
   "source": [
    "stop_loss_end = chr14.seq[ric8.End.max()+1:ric8.End.max()+(800-len(stop_loss_ref_lh))+2]"
   ]
  },
  {
   "cell_type": "code",
   "execution_count": null,
   "metadata": {},
   "outputs": [],
   "source": [
    "len(stop_loss_end)"
   ]
  },
  {
   "cell_type": "code",
   "execution_count": null,
   "metadata": {},
   "outputs": [],
   "source": [
    "ric8.tail()"
   ]
  },
  {
   "cell_type": "code",
   "execution_count": null,
   "metadata": {},
   "outputs": [],
   "source": [
    "stop_loss_end[:10]"
   ]
  },
  {
   "cell_type": "code",
   "execution_count": null,
   "metadata": {},
   "outputs": [],
   "source": [
    "chr14[389694:389694+12]"
   ]
  },
  {
   "cell_type": "code",
   "execution_count": null,
   "metadata": {},
   "outputs": [],
   "source": [
    "stop_loss_ref = Seq(stop_loss_ref_lh + str(stop_loss_end))\n",
    "stop_loss_alt = Seq(stop_loss_alt_lh + str(stop_loss_end))"
   ]
  },
  {
   "cell_type": "code",
   "execution_count": null,
   "metadata": {},
   "outputs": [],
   "source": [
    "slXl280 = SeqRecord(seq=stop_loss_ref ,id='XL280',description='XL280 RIC8 800 bp centered on stop codon')\n",
    "sl431 = SeqRecord(seq=stop_loss_alt, id='431',description='431 RIC8 stop-loss snp')\n",
    "SeqIO.write([slXl280,sl431], '../../FILES/Ric8_800bp_around_stop-loss-snp.fasta', \"fasta\");"
   ]
  },
  {
   "cell_type": "code",
   "execution_count": null,
   "metadata": {},
   "outputs": [],
   "source": [
    "ric8['RL'] = ric8.Ref.apply(len)"
   ]
  },
  {
   "cell_type": "code",
   "execution_count": null,
   "metadata": {},
   "outputs": [],
   "source": [
    "del_code_ref = Seq(''.join(ric8[(ric8.Start<=ric8[(ric8.RL==5)].Start.min()) & \n",
    "                (ric8.Start>ric8[(ric8.RL==5)].Start.min()-399)].Ref.tolist()) + ''.join(\n",
    "                        ric8[(ric8.Start>ric8[(ric8.RL==5)].Start.min()) &\n",
    "                             (ric8.Start<ric8[(ric8.RL==5)].Start.min()+405) \n",
    "                            ].Ref.tolist()))\n",
    "del_code_alt = Seq(''.join(ric8[(ric8.Start<=ric8[(ric8.RL==5)].Start.min()) & \n",
    "                (ric8.Start>ric8[(ric8.RL==5)].Start.min()-399)].Alt.tolist()) + '---'  + ''.join(\n",
    "                        ric8[(ric8.Start>ric8[(ric8.RL==5)].Start.min()) &\n",
    "                             (ric8.Start<ric8[(ric8.RL==5)].Start.min()+405) \n",
    "                            ].Alt.tolist()))"
   ]
  },
  {
   "cell_type": "code",
   "execution_count": null,
   "metadata": {},
   "outputs": [],
   "source": [
    "len(del_code_alt)"
   ]
  },
  {
   "cell_type": "code",
   "execution_count": null,
   "metadata": {},
   "outputs": [],
   "source": [
    "[len(a) for a in del_code_alt.split('---')]"
   ]
  },
  {
   "cell_type": "code",
   "execution_count": null,
   "metadata": {},
   "outputs": [],
   "source": [
    "delXl280 = SeqRecord(seq= del_code_ref ,id='XL280',description='XL280 RIC8 800 bp centered on codon deletion')\n",
    "del431 = SeqRecord(seq= del_code_alt, id='431',description='431 RIC8 codon deletion')\n",
    "SeqIO.write([delXl280,del431], '../../FILES/Ric8_800bp_around_codon_delet.fasta', \"fasta\");"
   ]
  },
  {
   "cell_type": "code",
   "execution_count": null,
   "metadata": {},
   "outputs": [],
   "source": [
    "to_dm = ric8[(ric8.Pos1>=1958-400) & (ric8.Pos2<=1958+400)]"
   ]
  },
  {
   "cell_type": "code",
   "execution_count": null,
   "metadata": {},
   "outputs": [],
   "source": [
    "to_dm.shape"
   ]
  },
  {
   "cell_type": "code",
   "execution_count": null,
   "metadata": {},
   "outputs": [],
   "source": [
    "to_dm.tail()"
   ]
  },
  {
   "cell_type": "code",
   "execution_count": null,
   "metadata": {},
   "outputs": [],
   "source": [
    "ric8_to_dm_xl280 = Seq(''.join(to_dm.Ref.tolist()))\n",
    "ric8_to_dm_431 = Seq(''.join(to_dm.Alt.tolist()))"
   ]
  },
  {
   "cell_type": "code",
   "execution_count": null,
   "metadata": {},
   "outputs": [],
   "source": [
    "len(ric8_to_dm_431)"
   ]
  },
  {
   "cell_type": "code",
   "execution_count": null,
   "metadata": {},
   "outputs": [],
   "source": [
    "len(ric8_to_dm_xl280)"
   ]
  },
  {
   "cell_type": "code",
   "execution_count": null,
   "metadata": {},
   "outputs": [],
   "source": []
  },
  {
   "cell_type": "code",
   "execution_count": null,
   "metadata": {},
   "outputs": [],
   "source": [
    "srXl280 = SeqRecord(seq=ric8_to_dm_xl280 ,id='XL280',description='XL280 RIC8 sequence with stop gain SNP')\n",
    "sr431 = SeqRecord(seq=ric8_to_dm_431, id='431',description='431 RIC8 sequence matchs JEC21 here')\n",
    "SeqIO.write([srXl280,sr431], '../../FILES/Ric8_800bp_around_snp.fasta', \"fasta\");"
   ]
  },
  {
   "cell_type": "code",
   "execution_count": null,
   "metadata": {},
   "outputs": [],
   "source": []
  },
  {
   "cell_type": "code",
   "execution_count": null,
   "metadata": {},
   "outputs": [],
   "source": [
    "ric8[(ric8.Pos1>1500) & (ric8.Pos2>2500)]"
   ]
  },
  {
   "cell_type": "code",
   "execution_count": null,
   "metadata": {},
   "outputs": [],
   "source": [
    "ric8[(ric8.Seq==1)].tail()"
   ]
  },
  {
   "cell_type": "code",
   "execution_count": null,
   "metadata": {},
   "outputs": [],
   "source": [
    "ric8.loc[1040:1055]"
   ]
  },
  {
   "cell_type": "code",
   "execution_count": null,
   "metadata": {},
   "outputs": [],
   "source": [
    "ric8[(ric8.Var==1)]"
   ]
  },
  {
   "cell_type": "code",
   "execution_count": null,
   "metadata": {},
   "outputs": [],
   "source": [
    "jec21_ric8seq = 'ATGTCCGTCAAGAGCCTATTAGCTTCGAGCTACGGCTCTATTGAGAACCGACGATACTCTTTAGATAGAATACGAGGGGAACTGAATGCTGTAGTAGAAGCTCTCCCGACGCAAGTGCATCCAGCTGAAAGAGAGATTTACCTGAACGACATTCTATCCGACCTGCATCCGAAAGAAGAAGCAATATGGAGGGATTGGCCAAGCGATGTCTACCTACTTGCCCTCACGGCTGTCAAATGCCTCGGACGAAACCCCATTGGATCAGAAACCCTGCTCTCAAGCCATCACATTTCCACTCTCATGTTTCATTCAACATTACTATCAGATGATTCTGCGACGTTTCCGACCGTCGTTGCCCAGTCATCAACGTCACCACAGGCTCGTGAAGCCTTGAAGATCTTGGCCAACATGCTAGTTCTTCACACCGCCGGACGTATCGAATTCTTCAAAGCCCGCGGAGCTATAGCGGTTGCTCGCGCTTTGTCCGAAAGTTCTACACAAGACGAGAATGATGCAGCGCATGCGGAAAAGCTGTTTTTACTGGGGAGACTTGGATTTTTGGTCACTGTGGAAAGGGCTGAAGCGGCGAAGCAGATGGTAGATAACGAGGTGGTGGATGCCCTCGTGCAGATTTTCATGTCGGCCTCTGTCTTACCCGCTTCTTTCTTGTATCTGAGCGAATTGCTCAAACTGACGAACGCATTACTTCAATTCTATCCTTATAAACAGCCCTCTGATGCTACAACTGGTGTTGATCCTTGGGACGAAAAGTTTGATTACCTTCTTTACCCTCTTTTGCGCCTTTTTTACGCTACTCCAACGGTCGATCTTAGCCCGCCACTTACCCACATCATGAATACTCTGCTTTTGATACCGTTCAAAACACGTTTGTTACCAACATGGGCTTCGGTCCCTGAAAGTCCCGGTTCCCTACAAGTCAACAGTCCCTCGAGCCCTTCGTCCACAATGAGAAATATTCTCACCAAGCTGGGAAACATAGCTTCACCATCCAGCCCTCGCAAGTCTTCGGCCGGCTCACTTGCCCCGCCTGGTTCTAGGCCGCCAGCAGGTGGTCAGAGATCCGCACCAAATTCACCGCGAGGTAGTTTCTCGTCTTCGAGGCCTGGCTTTGGTGCGACATCCGATCATTTCGCGCTATCGTCAAGGCTTCTGAAGATCCTTGACCGGTTCTTTGAGGCATATCTACCATACCCTAAACGGCCGGATGACGATCTGCCTCATTCACTTGTACTGGATGAAATACTTCCTCCGTTATTACTCTTAATGACACGAGCCACATGGGGTTTGGAAAACGTGCGGTTATCGATCAAAGAAATTTTATTACCTTCCTCTCTAGACCGCTCATCAGAAGCAGGGCCGCTTGAATCCCGCAAGGGTTTACTAGGCAACATTCTGCGTTTAATGGCTTGTGCAGGTCATACTCAAACAAGAAATGCTGCCGGAGAGTTGATGTGGGCAATCTGCAATGGTAATGCTTCCGATCTCTGCGTAGAAATCGGCTATGGCAACGCAGCTGGCATACTGTTCCAAAAAGGGCTCACTGGTCCACCATCGGCAAAGGTCGAAGAGATTGACCAGCCTAATCCTTCGCAGACCGTGATGCAAATAGCCAAGTCATCTAATCGCCGATCAGACGTCCGGTCGCCTGTAACAACTGTCCAGCCGGCTACGCCTTCTTCTACGTCGACATTCAGCGCCGAAACTTTGAGGAATCCAATCACAGGTATTGAGAACGGTAATCAAGCGACAGGTGACCTGGACGAAATGACTCAGGAAGAGAAGGAGCGCGAAGCAGAAAGGTTGTTTATTTTGTTTGATAGGATGGAGAAGAATCCTGTGATTAGCATGAAGTCAGGGGATGACCAAGACGGACAAAAGAGTAAGGCTCAAGGGCTGAAGGATATAATGAGAGAAAAGTTAGAGAGTGGGGATATGGAGAGATGGGATCGCAAGGATGAGCAAGAGGAGAGACAGAGATTGGAGGAGGAGGCGCAAAAAGACGAAGAGGAAGCTTTCCGGGAGCTTGCGGCCTATAAACGACGCACTGGAAGGTAG'"
   ]
  },
  {
   "cell_type": "code",
   "execution_count": null,
   "metadata": {},
   "outputs": [],
   "source": [
    "jec21ric8 = Seq(jec21_ric8seq)"
   ]
  },
  {
   "cell_type": "code",
   "execution_count": null,
   "metadata": {},
   "outputs": [],
   "source": [
    "len(jec21ric8)"
   ]
  },
  {
   "cell_type": "code",
   "execution_count": null,
   "metadata": {},
   "outputs": [],
   "source": [
    "len(jec21ric8.translate(to_stop=True))"
   ]
  },
  {
   "cell_type": "code",
   "execution_count": null,
   "metadata": {},
   "outputs": [],
   "source": [
    "len(ric8_ref)"
   ]
  },
  {
   "cell_type": "code",
   "execution_count": null,
   "metadata": {},
   "outputs": [],
   "source": [
    "len(ric8_alt)"
   ]
  },
  {
   "cell_type": "code",
   "execution_count": null,
   "metadata": {},
   "outputs": [],
   "source": [
    "[i for i, a in enumerate(ric8_ref) if a != jec21ric8[i]]"
   ]
  },
  {
   "cell_type": "code",
   "execution_count": null,
   "metadata": {},
   "outputs": [],
   "source": [
    "ric8[(ric8.Seq==1)].iloc[:1372].tail()"
   ]
  },
  {
   "cell_type": "code",
   "execution_count": null,
   "metadata": {},
   "outputs": [],
   "source": [
    "# TAG (\"amber\"), TAA (\"ochre\"), TGA (\"opal\" or \"umber\")\n",
    "jec21ric8[1360:1372]"
   ]
  },
  {
   "cell_type": "code",
   "execution_count": null,
   "metadata": {},
   "outputs": [],
   "source": [
    "ric8_ref[1360:1372]"
   ]
  },
  {
   "cell_type": "code",
   "execution_count": null,
   "metadata": {},
   "outputs": [],
   "source": [
    "len(ric8_ref.translate(to_stop=False))"
   ]
  },
  {
   "cell_type": "code",
   "execution_count": null,
   "metadata": {},
   "outputs": [],
   "source": [
    "len(ric8_alt.translate(to_stop=True))"
   ]
  },
  {
   "cell_type": "code",
   "execution_count": null,
   "metadata": {},
   "outputs": [],
   "source": [
    "ric8[(ric8.Seq==1) & (ric8.Var==1)]"
   ]
  },
  {
   "cell_type": "code",
   "execution_count": null,
   "metadata": {},
   "outputs": [],
   "source": [
    "ric8.End.max()"
   ]
  },
  {
   "cell_type": "code",
   "execution_count": null,
   "metadata": {},
   "outputs": [],
   "source": [
    "ric8.loc[1044:].head()"
   ]
  },
  {
   "cell_type": "code",
   "execution_count": null,
   "metadata": {},
   "outputs": [],
   "source": [
    "[i for i , a in enumerate(ric8_ref.translate()) if a == '*']"
   ]
  },
  {
   "cell_type": "code",
   "execution_count": null,
   "metadata": {},
   "outputs": [],
   "source": [
    "codix = ric8[(ric8.Seq==1)].index.tolist()"
   ]
  },
  {
   "cell_type": "code",
   "execution_count": null,
   "metadata": {},
   "outputs": [],
   "source": [
    "codix[1360:1369]"
   ]
  },
  {
   "cell_type": "code",
   "execution_count": null,
   "metadata": {},
   "outputs": [],
   "source": [
    "'test'"
   ]
  },
  {
   "cell_type": "code",
   "execution_count": null,
   "metadata": {},
   "outputs": [],
   "source": [
    "mpg = pd.read_csv('/Users/croth/Downloads/Melanin_QTL_Genotype_phenotype.csv',index_col=0)"
   ]
  },
  {
   "cell_type": "code",
   "execution_count": null,
   "metadata": {},
   "outputs": [],
   "source": [
    "mpg.T[['XL280a','XL280alpha','SS-A837']].T"
   ]
  },
  {
   "cell_type": "code",
   "execution_count": null,
   "metadata": {},
   "outputs": [],
   "source": [
    "segs = [s for s in mpg.index.tolist() if s not in ['XL280a','XL280alpha','SS-A837']]"
   ]
  },
  {
   "cell_type": "code",
   "execution_count": null,
   "metadata": {},
   "outputs": [],
   "source": [
    "gv = pd.read_csv('../../FILES/CDx-ill-SNP-INDEL-df-104-blocked.csv');\n",
    "gv.head()"
   ]
  },
  {
   "cell_type": "code",
   "execution_count": null,
   "metadata": {},
   "outputs": [],
   "source": [
    "gv.T[90495].Block"
   ]
  },
  {
   "cell_type": "code",
   "execution_count": null,
   "metadata": {},
   "outputs": [],
   "source": [
    "ric8.Start.min()"
   ]
  },
  {
   "cell_type": "code",
   "execution_count": null,
   "metadata": {},
   "outputs": [],
   "source": [
    "ric8.Start.max()"
   ]
  },
  {
   "cell_type": "code",
   "execution_count": null,
   "metadata": {},
   "outputs": [],
   "source": [
    "gv[(gv.Chrom=='Chr14') & (gv.Pos>=ric8.Start.min()) & \n",
    "   (gv.Pos<=ric8.End.max())].Block.unique()[0]"
   ]
  },
  {
   "cell_type": "code",
   "execution_count": null,
   "metadata": {},
   "outputs": [],
   "source": []
  },
  {
   "cell_type": "code",
   "execution_count": null,
   "metadata": {},
   "outputs": [],
   "source": [
    "ssk2_pos = gff[(gff.gene=='CNL05560') & (gff.type=='gene')][['start','end']].values[0]\n",
    "ssk2_gv = gv[(gv.Chrom=='Chr12') & (gv.Pos.isin(np.arange(*ssk2_pos)))]\n",
    "mpg['SSK2'] = ssk2_gv[segs].drop_duplicates().median(axis=0)\n",
    "mpg['SSK2'].replace(dict(zip([0,1],['XL280','431'+'\\u03B1'])),inplace=True)"
   ]
  },
  {
   "cell_type": "code",
   "execution_count": null,
   "metadata": {},
   "outputs": [],
   "source": [
    "ssk1_pos = gff[(gff.gene=='CNB03090') & (gff.type=='gene')][['start','end']].values[0]\n",
    "ssk1_gv = gv[(gv.Chrom=='Chr02') & (gv.Pos.isin(np.arange(*ssk1_pos)))]\n",
    "mpg['SSK1'] = ssk1_gv[mpg.index].drop_duplicates().T\n",
    "mpg['SSK1'].replace(dict(zip([0,1],['XL280','431'+'\\u03B1'])),inplace=True)"
   ]
  },
  {
   "cell_type": "code",
   "execution_count": null,
   "metadata": {},
   "outputs": [],
   "source": [
    "MATs = (1529240-1,1661861) \n",
    "mat_gv = gv[(gv.Chrom=='Chr04') & (gv.Pos.isin(np.arange(*MATs)))]\n",
    "mat_gv.Block.unique()"
   ]
  },
  {
   "cell_type": "code",
   "execution_count": null,
   "metadata": {},
   "outputs": [],
   "source": [
    "mpg['MATGT'] = mat_gv[mpg.index].median(axis=0)"
   ]
  },
  {
   "cell_type": "code",
   "execution_count": null,
   "metadata": {},
   "outputs": [],
   "source": [
    "cross = pd.read_csv('../../FILES/OLD/OCT2018/CDx_PB_Ill_Sample_Info.csv')"
   ]
  },
  {
   "cell_type": "code",
   "execution_count": null,
   "metadata": {},
   "outputs": [],
   "source": [
    "UNI = cross[(cross.Code==2)].Strain.tolist()\n",
    "BI = cross[(cross.Code==1)].Strain.tolist()"
   ]
  },
  {
   "cell_type": "code",
   "execution_count": null,
   "metadata": {},
   "outputs": [],
   "source": [
    "matl = []\n",
    "for s in mpg.index.tolist():\n",
    "    if s in UNI + ['XL280alpha','SS-A837']:\n",
    "        matl.append((s,1))\n",
    "    elif s in BI+['XL280a'] and mpg['MATGT'][s] == 0:\n",
    "        matl.append((s,0))\n",
    "    elif s in BI+['XL280a'] and mpg['MATGT'][s] == 1:\n",
    "        matl.append((s,1))\n",
    "    else:\n",
    "        matl.append((s,2))\n",
    "matdf = pd.DataFrame(matl,columns=['Strain','MAT'])\n",
    "matdf.index = matdf.Strain\n",
    "matdf['MAT'].replace(dict(zip([0,1],['a','\\u03B1'])),inplace=True)"
   ]
  },
  {
   "cell_type": "code",
   "execution_count": null,
   "metadata": {},
   "outputs": [],
   "source": [
    "mpg['MAT'] = matdf.T[mpg.index].T['MAT']"
   ]
  },
  {
   "cell_type": "code",
   "execution_count": null,
   "metadata": {},
   "outputs": [],
   "source": [
    "mpg.head()"
   ]
  },
  {
   "cell_type": "code",
   "execution_count": null,
   "metadata": {},
   "outputs": [],
   "source": [
    "mpg.groupby(['MATGT','MAT'])['MC'].count()"
   ]
  },
  {
   "cell_type": "code",
   "execution_count": null,
   "metadata": {},
   "outputs": [],
   "source": [
    "ax = sns.boxplot(x=\"QTL\", y=\"MC\", data=mpg,showfliers=False)\n",
    "plt.setp(ax.artists, edgecolor = 'k', facecolor='w')\n",
    "plt.setp(ax.lines, color='k')\n",
    "sns.swarmplot(x=\"QTL\", y=\"MC\", data=mpg,\n",
    "              size=8,alpha=0.5,hue='MAT',hue_order=mpg.MAT.unique()[::-1])\n",
    "sns.regplot(x='QTL',y='MC',\n",
    "           data = mpg,x_jitter=0.2, \n",
    "           scatter_kws={'color':'k','s':90,'alpha':0.0},\n",
    "           line_kws={'color':'r'})\n",
    "plt.plot(*mpg.T[['XL280a','XL280alpha']].T[['QTL','MC']].T.mean(axis=1).values,\n",
    "         'r^',ms=10);\n",
    "plt.plot(*mpg.T[['SS-A837']].T[['QTL','MC']].T.mean(axis=1).values,\n",
    "         'r^',ms=10);\n",
    "plt.xticks([0,1],labels=['XL280','431'+'\\u03B1'],\n",
    "           fontsize=16)\n",
    "plt.xlabel('Chromosome 14 Allele\\nMelanin QTL',\n",
    "           fontsize=16);\n",
    "plt.ylabel('Mean Intensity\\nDarker                   Lighter',\n",
    "          fontsize=16);\n",
    "plt.xlim(-0.42,1.42);\n",
    "plt.savefig('../../FIGURES/Melanin_Pheno_by_Allele_MAT.png',\n",
    "           dpi=100,bbox_inches='tight');"
   ]
  },
  {
   "cell_type": "code",
   "execution_count": null,
   "metadata": {},
   "outputs": [],
   "source": [
    "ax = sns.boxplot(x=\"QTL\", y=\"MC\", data=mpg,showfliers=False)\n",
    "plt.setp(ax.artists, edgecolor = 'k', facecolor='w')\n",
    "plt.setp(ax.lines, color='k')\n",
    "sns.swarmplot(x=\"QTL\", y=\"MC\", data=mpg.T[segs].T,\n",
    "              size=8,alpha=0.5,hue='SSK2',hue_order=mpg.SSK1.unique()[::-1])\n",
    "sns.regplot(x='QTL',y='MC',\n",
    "           data = mpg,x_jitter=0.2, \n",
    "           scatter_kws={'color':'k','s':90,'alpha':0.0},\n",
    "           line_kws={'color':'r'})\n",
    "plt.plot(*mpg.T[['XL280a','XL280alpha']].T[['QTL','MC']].T.mean(axis=1).values,\n",
    "         'r^',ms=10);\n",
    "plt.plot(*mpg.T[['SS-A837']].T[['QTL','MC']].T.mean(axis=1).values,\n",
    "         'r^',ms=10);\n",
    "plt.xticks([0,1],labels=['XL280','431'+'\\u03B1'],fontsize=16)\n",
    "plt.xlabel('Chromosome 14 Allele\\nMelanin QTL',fontsize=16);\n",
    "plt.ylabel('Mean Intensity\\nDarker                   Lighter',\n",
    "          fontsize=16);\n",
    "plt.xlim(-0.42,1.42);\n",
    "plt.savefig('../../FIGURES/Melanin_Pheno_by_Allele_ssk2.png',\n",
    "           dpi=100,bbox_inches='tight');"
   ]
  },
  {
   "cell_type": "code",
   "execution_count": null,
   "metadata": {},
   "outputs": [],
   "source": [
    "ax = sns.boxplot(x=\"QTL\", y=\"MC\", data=mpg,showfliers=False)\n",
    "plt.setp(ax.artists, edgecolor = 'k', facecolor='w')\n",
    "plt.setp(ax.lines, color='k')\n",
    "sns.swarmplot(x=\"QTL\", y=\"MC\", data=mpg.T[segs].T,\n",
    "              size=8,alpha=0.5,hue='SSK1',hue_order=mpg.SSK1.unique()[::-1])\n",
    "sns.regplot(x='QTL',y='MC',\n",
    "           data = mpg,x_jitter=0.2, \n",
    "           scatter_kws={'color':'k','s':90,'alpha':0.0},\n",
    "           line_kws={'color':'r'})\n",
    "plt.plot(*mpg.T[['XL280a','XL280alpha']].T[['QTL','MC']].T.mean(axis=1).values,\n",
    "         'r^',ms=10);\n",
    "plt.plot(*mpg.T[['SS-A837']].T[['QTL','MC']].T.mean(axis=1).values,\n",
    "         'r^',ms=10);\n",
    "plt.xticks([0,1],labels=['XL280','431'+'\\u03B1'],fontsize=16)\n",
    "plt.xlabel('Chromosome 14 Allele\\nMelanin QTL',fontsize=16);\n",
    "plt.ylabel('Mean Intensity\\nDarker                   Lighter',\n",
    "          fontsize=16);\n",
    "plt.xlim(-0.42,1.42);\n",
    "plt.savefig('../../FIGURES/Melanin_Pheno_by_Allele_ssk1.png',\n",
    "           dpi=150,bbox_inches='tight');"
   ]
  },
  {
   "cell_type": "code",
   "execution_count": null,
   "metadata": {},
   "outputs": [],
   "source": [
    "ax = sns.boxplot(x=\"QTL\", y=\"MC\", data=mpg,showfliers=False)\n",
    "plt.setp(ax.artists, edgecolor = 'k', facecolor='w')\n",
    "plt.setp(ax.lines, color='k')\n",
    "sns.swarmplot(x=\"QTL\", y=\"MC\", data=mpg.T[segs].T,\n",
    "              size=8, color=\".25\",alpha=0.5)\n",
    "sns.regplot(x='QTL',y='MC',\n",
    "           data = mpg,x_jitter=0.2, \n",
    "           scatter_kws={'color':'k','s':90,'alpha':0.0},\n",
    "           line_kws={'color':'r'})\n",
    "plt.plot(*mpg.T[['XL280a','XL280alpha']].mean(axis=1).values,\n",
    "         'r^',ms=10);\n",
    "plt.plot(*mpg.T[['SS-A837']].mean(axis=1).values,\n",
    "         'r^',ms=10);\n",
    "plt.xticks([0,1],labels=['XL280','431'+'\\u03B1'],fontsize=16)\n",
    "plt.xlabel('Chromosome 14 Allele\\nMelanin QTL',fontsize=16);\n",
    "plt.ylabel('Mean Intensity\\nDarker                   Lighter',\n",
    "          fontsize=16);\n",
    "plt.xlim(-0.42,1.42);\n",
    "plt.savefig('../../FIGURES/Melanin_Pheno_by_Allele.png',\n",
    "           dpi=150,bbox_inches='tight');"
   ]
  },
  {
   "cell_type": "code",
   "execution_count": null,
   "metadata": {},
   "outputs": [],
   "source": [
    "# TAG (\"amber\"), TAA (\"ochre\"), TGA (\"opal\" or \"umber\")"
   ]
  }
 ],
 "metadata": {
  "kernelspec": {
   "display_name": "Python 3",
   "language": "python",
   "name": "python3"
  },
  "language_info": {
   "codemirror_mode": {
    "name": "ipython",
    "version": 3
   },
   "file_extension": ".py",
   "mimetype": "text/x-python",
   "name": "python",
   "nbconvert_exporter": "python",
   "pygments_lexer": "ipython3",
   "version": "3.7.3"
  }
 },
 "nbformat": 4,
 "nbformat_minor": 2
}
