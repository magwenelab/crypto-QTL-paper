{
 "cells": [
  {
   "cell_type": "code",
   "execution_count": 1,
   "metadata": {},
   "outputs": [],
   "source": [
    "%matplotlib inline"
   ]
  },
  {
   "cell_type": "code",
   "execution_count": 2,
   "metadata": {},
   "outputs": [],
   "source": [
    "import pandas as pd, numpy as np, glob\n",
    "from matplotlib import pyplot as plt\n",
    "\n",
    "from PIL import Image\n",
    "\n",
    "import scipy.stats as ss, seaborn as sns\n",
    "## Bring in more mods\n",
    "from matplotlib.gridspec import GridSpec\n",
    "plt.style.use(['tableau-colorblind10'])\n",
    "\n",
    "def allelic_ANOVA(site, pheno):\n",
    "    \"\"\"\n",
    "    This regression is equivalent to one-way ANOVA with 2 groups. Return F-statistic.\n",
    "    Assumes site is coded as -1, 1\n",
    "    \"\"\"\n",
    "    coding = np.array(site, np.float)\n",
    "    pheno = np.array(pheno, np.float)\n",
    "    \n",
    "    meany = np.mean(pheno)\n",
    "    meandummy = np.mean(coding)\n",
    "    ctry = pheno - meany\n",
    "    ctrdummy = coding - meandummy\n",
    "    # regression coefficient and intercept\n",
    "    b = np.dot(ctry, ctrdummy)/np.dot(ctrdummy, ctrdummy)\n",
    "    intercept = meany - b * meandummy\n",
    "    \n",
    "    yhat = b * ctrdummy\n",
    "    len_yhat = np.sqrt(np.dot(yhat,yhat))\n",
    "    len_y = np.sqrt(np.dot(ctry,ctry))\n",
    "    df_yhat = 1\n",
    "    \n",
    "    error = ctry  - yhat\n",
    "    len_error = np.sqrt(np.dot(error,error))\n",
    "    if abs(len_error**2) < 1e-5:\n",
    "        raise Exception(\"Zero length error in ANOVA\")\n",
    "    df_error = len(pheno) - 2\n",
    "    # coefficient of determination is R**2\n",
    "    #R = len_yhat/len_y\n",
    "    # F-statistic\n",
    "    F = (len_yhat**2/df_yhat) / (len_error**2/df_error)\n",
    "    return F\n",
    "\n",
    "def association_logPval(site, pheno):\n",
    "    F = allelic_ANOVA(site, pheno)\n",
    "    logP = np.log10(ss.f.sf(F, 1, len(pheno)-2))\n",
    "    return -logP\n",
    "\n",
    "from matplotlib import rc\n",
    "xl280al = 'XL280'+r'$\\alpha$'#+'SS'\n",
    "xl280_label = 'XL280' +r'$\\bf{a}$'\n",
    "_431_label = '431'+r'$\\mathrm{\\alpha}$'\n",
    "\n",
    "def myminmax(x):\n",
    "    x = np.array(x)\n",
    "    return (x-x.min())/(x.max()-x.min())\n",
    "\n",
    "kb = 1000"
   ]
  },
  {
   "cell_type": "code",
   "execution_count": 3,
   "metadata": {},
   "outputs": [],
   "source": [
    "## Bring in genotype data and find unique test loci\n",
    "## Bring in genotype data\n",
    "geno_path = './CDx-ill-SNP-INDEL-df-104-blocked.csv.gz'\n",
    "gv = pd.read_csv(geno_path)\n",
    "\n",
    "## find unique chromosomes, lengths, and midpoints. \n",
    "chrlist = sorted(gv.Chrom.unique())\n",
    "chrlens = np.array([gv[(gv.Chrom==c)].Pos.max() \n",
    "           for c in chrlist])\n",
    "cumpos = np.array([0] + list(np.cumsum(chrlens[:-1])))\n",
    "cummax = cumpos[-1] + gv[(gv.Chrom=='Chr14')].Pos.max()\n",
    "chrmid = (chrlens/2) + cumpos\n",
    "assert len(chrlist) == 14"
   ]
  },
  {
   "cell_type": "code",
   "execution_count": 4,
   "metadata": {},
   "outputs": [],
   "source": [
    "chrom_colors = ['tab:grey','tab:brown','lightgrey','salmon','tan']"
   ]
  },
  {
   "cell_type": "code",
   "execution_count": 5,
   "metadata": {},
   "outputs": [],
   "source": [
    "import os"
   ]
  },
  {
   "cell_type": "code",
   "execution_count": 6,
   "metadata": {},
   "outputs": [],
   "source": [
    "import statsmodels.formula.api as smf"
   ]
  },
  {
   "cell_type": "code",
   "execution_count": 7,
   "metadata": {},
   "outputs": [
    {
     "data": {
      "text/plain": [
       "104"
      ]
     },
     "execution_count": 7,
     "metadata": {},
     "output_type": "execute_result"
    }
   ],
   "source": [
    "dgg = pd.read_csv('/home/croth/Cdeneoformans_capsule_phenotypes.csv')\n",
    "dgg.drop('Sample.1',inplace=True,axis=1)\n",
    "dgg.index = dgg.Sample\n",
    "segs = dgg.Sample.unique()\n",
    "assert dgg.Sample.unique().shape[0] == dgg.shape[0]\n",
    "len(segs)"
   ]
  },
  {
   "cell_type": "code",
   "execution_count": 8,
   "metadata": {},
   "outputs": [
    {
     "data": {
      "text/html": [
       "<div>\n",
       "<style scoped>\n",
       "    .dataframe tbody tr th:only-of-type {\n",
       "        vertical-align: middle;\n",
       "    }\n",
       "\n",
       "    .dataframe tbody tr th {\n",
       "        vertical-align: top;\n",
       "    }\n",
       "\n",
       "    .dataframe thead th {\n",
       "        text-align: right;\n",
       "    }\n",
       "</style>\n",
       "<table border=\"1\" class=\"dataframe\">\n",
       "  <thead>\n",
       "    <tr style=\"text-align: right;\">\n",
       "      <th></th>\n",
       "      <th>Sample</th>\n",
       "      <th>Date</th>\n",
       "      <th>Cell_and_Capsule</th>\n",
       "      <th>Cell</th>\n",
       "      <th>Capsule</th>\n",
       "      <th>Cell_and_Capsule_diameter</th>\n",
       "      <th>Cell_diameter</th>\n",
       "      <th>Capsule_diameter</th>\n",
       "      <th>Circles</th>\n",
       "      <th>Residual</th>\n",
       "      <th>QTL</th>\n",
       "    </tr>\n",
       "    <tr>\n",
       "      <th>Sample</th>\n",
       "      <th></th>\n",
       "      <th></th>\n",
       "      <th></th>\n",
       "      <th></th>\n",
       "      <th></th>\n",
       "      <th></th>\n",
       "      <th></th>\n",
       "      <th></th>\n",
       "      <th></th>\n",
       "      <th></th>\n",
       "      <th></th>\n",
       "    </tr>\n",
       "  </thead>\n",
       "  <tbody>\n",
       "    <tr>\n",
       "      <th>SS-A837</th>\n",
       "      <td>SS-A837</td>\n",
       "      <td>7-120</td>\n",
       "      <td>2954.0</td>\n",
       "      <td>1093.0</td>\n",
       "      <td>1935.5</td>\n",
       "      <td>61.323907</td>\n",
       "      <td>37.304177</td>\n",
       "      <td>25.117309</td>\n",
       "      <td>15</td>\n",
       "      <td>2.144624</td>\n",
       "      <td>1.0</td>\n",
       "    </tr>\n",
       "    <tr>\n",
       "      <th>SS-B307</th>\n",
       "      <td>SS-B307</td>\n",
       "      <td>7-120</td>\n",
       "      <td>3015.0</td>\n",
       "      <td>831.0</td>\n",
       "      <td>2065.5</td>\n",
       "      <td>61.958189</td>\n",
       "      <td>32.512533</td>\n",
       "      <td>26.994920</td>\n",
       "      <td>15</td>\n",
       "      <td>3.635013</td>\n",
       "      <td>1.0</td>\n",
       "    </tr>\n",
       "    <tr>\n",
       "      <th>SS-B310</th>\n",
       "      <td>SS-B310</td>\n",
       "      <td>7-120</td>\n",
       "      <td>6371.0</td>\n",
       "      <td>2168.0</td>\n",
       "      <td>3964.5</td>\n",
       "      <td>90.064104</td>\n",
       "      <td>52.517844</td>\n",
       "      <td>34.967517</td>\n",
       "      <td>15</td>\n",
       "      <td>-5.550718</td>\n",
       "      <td>0.0</td>\n",
       "    </tr>\n",
       "    <tr>\n",
       "      <th>SS-B311</th>\n",
       "      <td>SS-B311</td>\n",
       "      <td>7-150</td>\n",
       "      <td>3293.5</td>\n",
       "      <td>1023.5</td>\n",
       "      <td>2096.5</td>\n",
       "      <td>64.756295</td>\n",
       "      <td>36.099316</td>\n",
       "      <td>26.319158</td>\n",
       "      <td>15</td>\n",
       "      <td>1.251042</td>\n",
       "      <td>1.0</td>\n",
       "    </tr>\n",
       "    <tr>\n",
       "      <th>SS-B312</th>\n",
       "      <td>SS-B312</td>\n",
       "      <td>11-22</td>\n",
       "      <td>7008.5</td>\n",
       "      <td>1610.0</td>\n",
       "      <td>5398.5</td>\n",
       "      <td>94.452263</td>\n",
       "      <td>45.269625</td>\n",
       "      <td>47.179251</td>\n",
       "      <td>15</td>\n",
       "      <td>3.982097</td>\n",
       "      <td>0.0</td>\n",
       "    </tr>\n",
       "  </tbody>\n",
       "</table>\n",
       "</div>"
      ],
      "text/plain": [
       "          Sample   Date  Cell_and_Capsule    Cell  Capsule  \\\n",
       "Sample                                                       \n",
       "SS-A837  SS-A837  7-120            2954.0  1093.0   1935.5   \n",
       "SS-B307  SS-B307  7-120            3015.0   831.0   2065.5   \n",
       "SS-B310  SS-B310  7-120            6371.0  2168.0   3964.5   \n",
       "SS-B311  SS-B311  7-150            3293.5  1023.5   2096.5   \n",
       "SS-B312  SS-B312  11-22            7008.5  1610.0   5398.5   \n",
       "\n",
       "         Cell_and_Capsule_diameter  Cell_diameter  Capsule_diameter  Circles  \\\n",
       "Sample                                                                         \n",
       "SS-A837                  61.323907      37.304177         25.117309       15   \n",
       "SS-B307                  61.958189      32.512533         26.994920       15   \n",
       "SS-B310                  90.064104      52.517844         34.967517       15   \n",
       "SS-B311                  64.756295      36.099316         26.319158       15   \n",
       "SS-B312                  94.452263      45.269625         47.179251       15   \n",
       "\n",
       "         Residual  QTL  \n",
       "Sample                  \n",
       "SS-A837  2.144624  1.0  \n",
       "SS-B307  3.635013  1.0  \n",
       "SS-B310 -5.550718  0.0  \n",
       "SS-B311  1.251042  1.0  \n",
       "SS-B312  3.982097  0.0  "
      ]
     },
     "execution_count": 8,
     "metadata": {},
     "output_type": "execute_result"
    }
   ],
   "source": [
    "dgg.head()"
   ]
  },
  {
   "cell_type": "code",
   "execution_count": 9,
   "metadata": {},
   "outputs": [],
   "source": [
    "## conduct QTL mapping\n",
    "test = gv[segs].drop_duplicates()"
   ]
  },
  {
   "cell_type": "code",
   "execution_count": 10,
   "metadata": {},
   "outputs": [],
   "source": [
    "phenos = dgg.columns.tolist()[2:8]"
   ]
  },
  {
   "cell_type": "code",
   "execution_count": 11,
   "metadata": {},
   "outputs": [
    {
     "data": {
      "text/plain": [
       "['Cell_and_Capsule',\n",
       " 'Cell',\n",
       " 'Capsule',\n",
       " 'Cell_and_Capsule_diameter',\n",
       " 'Cell_diameter',\n",
       " 'Capsule_diameter']"
      ]
     },
     "execution_count": 11,
     "metadata": {},
     "output_type": "execute_result"
    }
   ],
   "source": [
    "phenos"
   ]
  },
  {
   "cell_type": "code",
   "execution_count": 12,
   "metadata": {},
   "outputs": [
    {
     "data": {
      "text/plain": [
       "(2777, 104)"
      ]
     },
     "execution_count": 12,
     "metadata": {},
     "output_type": "execute_result"
    }
   ],
   "source": [
    "test.shape"
   ]
  },
  {
   "cell_type": "code",
   "execution_count": 13,
   "metadata": {},
   "outputs": [
    {
     "data": {
      "image/png": "[encoded data removed]",
      "text/plain": [
       "<Figure size 1080x216 with 6 Axes>"
      ]
     },
     "metadata": {
      "needs_background": "light"
     },
     "output_type": "display_data"
    }
   ],
   "source": [
    "fig,ax = plt.subplots(1,len(phenos),figsize=(15,3),sharey=True)\n",
    "\n",
    "for i,p in enumerate(phenos):\n",
    "    \n",
    "    plt.sca(ax.ravel()[i])\n",
    "    plt.hist(dgg[p].values);\n",
    "    plt.title('\\n'.join(p.split('_')))"
   ]
  },
  {
   "cell_type": "code",
   "execution_count": 14,
   "metadata": {},
   "outputs": [
    {
     "data": {
      "image/png": "[encoded data removed]",
      "text/plain": [
       "<Figure size 720x432 with 2 Axes>"
      ]
     },
     "metadata": {
      "needs_background": "light"
     },
     "output_type": "display_data"
    }
   ],
   "source": [
    "fig,ax = plt.subplots(1,2,figsize=(10,6),sharex=True,sharey=True);\n",
    "\n",
    "plt.sca(ax[0]);\n",
    "sns.regplot(x=phenos[3],y=phenos[4],data=dgg,order=1);\n",
    "\n",
    "plt.sca(ax[1])\n",
    "sns.regplot(x=phenos[3],y=phenos[5],data=dgg,order=1);"
   ]
  },
  {
   "cell_type": "code",
   "execution_count": 15,
   "metadata": {},
   "outputs": [
    {
     "data": {
      "text/html": [
       "<table class=\"simpletable\">\n",
       "<caption>OLS Regression Results</caption>\n",
       "<tr>\n",
       "  <th>Dep. Variable:</th>      <td>Cell_diameter</td>  <th>  R-squared:         </th> <td>   0.707</td>\n",
       "</tr>\n",
       "<tr>\n",
       "  <th>Model:</th>                   <td>OLS</td>       <th>  Adj. R-squared:    </th> <td>   0.704</td>\n",
       "</tr>\n",
       "<tr>\n",
       "  <th>Method:</th>             <td>Least Squares</td>  <th>  F-statistic:       </th> <td>   246.4</td>\n",
       "</tr>\n",
       "<tr>\n",
       "  <th>Date:</th>             <td>Wed, 02 Sep 2020</td> <th>  Prob (F-statistic):</th> <td>5.76e-29</td>\n",
       "</tr>\n",
       "<tr>\n",
       "  <th>Time:</th>                 <td>08:51:46</td>     <th>  Log-Likelihood:    </th> <td> -291.17</td>\n",
       "</tr>\n",
       "<tr>\n",
       "  <th>No. Observations:</th>      <td>   104</td>      <th>  AIC:               </th> <td>   586.3</td>\n",
       "</tr>\n",
       "<tr>\n",
       "  <th>Df Residuals:</th>          <td>   102</td>      <th>  BIC:               </th> <td>   591.6</td>\n",
       "</tr>\n",
       "<tr>\n",
       "  <th>Df Model:</th>              <td>     1</td>      <th>                     </th>     <td> </td>   \n",
       "</tr>\n",
       "<tr>\n",
       "  <th>Covariance Type:</th>      <td>nonrobust</td>    <th>                     </th>     <td> </td>   \n",
       "</tr>\n",
       "</table>\n",
       "<table class=\"simpletable\">\n",
       "<tr>\n",
       "              <td></td>                 <th>coef</th>     <th>std err</th>      <th>t</th>      <th>P>|t|</th>  <th>[0.025</th>    <th>0.975]</th>  \n",
       "</tr>\n",
       "<tr>\n",
       "  <th>Intercept</th>                 <td>   16.4867</td> <td>    1.625</td> <td>   10.144</td> <td> 0.000</td> <td>   13.263</td> <td>   19.710</td>\n",
       "</tr>\n",
       "<tr>\n",
       "  <th>Cell_and_Capsule_diameter</th> <td>    0.3587</td> <td>    0.023</td> <td>   15.698</td> <td> 0.000</td> <td>    0.313</td> <td>    0.404</td>\n",
       "</tr>\n",
       "</table>\n",
       "<table class=\"simpletable\">\n",
       "<tr>\n",
       "  <th>Omnibus:</th>       <td> 3.473</td> <th>  Durbin-Watson:     </th> <td>   1.859</td>\n",
       "</tr>\n",
       "<tr>\n",
       "  <th>Prob(Omnibus):</th> <td> 0.176</td> <th>  Jarque-Bera (JB):  </th> <td>   3.020</td>\n",
       "</tr>\n",
       "<tr>\n",
       "  <th>Skew:</th>          <td>-0.259</td> <th>  Prob(JB):          </th> <td>   0.221</td>\n",
       "</tr>\n",
       "<tr>\n",
       "  <th>Kurtosis:</th>      <td> 3.654</td> <th>  Cond. No.          </th> <td>    294.</td>\n",
       "</tr>\n",
       "</table><br/><br/>Warnings:<br/>[1] Standard Errors assume that the covariance matrix of the errors is correctly specified."
      ],
      "text/plain": [
       "<class 'statsmodels.iolib.summary.Summary'>\n",
       "\"\"\"\n",
       "                            OLS Regression Results                            \n",
       "==============================================================================\n",
       "Dep. Variable:          Cell_diameter   R-squared:                       0.707\n",
       "Model:                            OLS   Adj. R-squared:                  0.704\n",
       "Method:                 Least Squares   F-statistic:                     246.4\n",
       "Date:                Wed, 02 Sep 2020   Prob (F-statistic):           5.76e-29\n",
       "Time:                        08:51:46   Log-Likelihood:                -291.17\n",
       "No. Observations:                 104   AIC:                             586.3\n",
       "Df Residuals:                     102   BIC:                             591.6\n",
       "Df Model:                           1                                         \n",
       "Covariance Type:            nonrobust                                         \n",
       "=============================================================================================\n",
       "                                coef    std err          t      P>|t|      [0.025      0.975]\n",
       "---------------------------------------------------------------------------------------------\n",
       "Intercept                    16.4867      1.625     10.144      0.000      13.263      19.710\n",
       "Cell_and_Capsule_diameter     0.3587      0.023     15.698      0.000       0.313       0.404\n",
       "==============================================================================\n",
       "Omnibus:                        3.473   Durbin-Watson:                   1.859\n",
       "Prob(Omnibus):                  0.176   Jarque-Bera (JB):                3.020\n",
       "Skew:                          -0.259   Prob(JB):                        0.221\n",
       "Kurtosis:                       3.654   Cond. No.                         294.\n",
       "==============================================================================\n",
       "\n",
       "Warnings:\n",
       "[1] Standard Errors assume that the covariance matrix of the errors is correctly specified.\n",
       "\"\"\""
      ]
     },
     "execution_count": 15,
     "metadata": {},
     "output_type": "execute_result"
    }
   ],
   "source": [
    "cell_lin_mod = smf.ols('Cell_diameter ~ Cell_and_Capsule_diameter',data=dgg).fit()\n",
    "cell_lin_mod.summary()"
   ]
  },
  {
   "cell_type": "code",
   "execution_count": 16,
   "metadata": {},
   "outputs": [
    {
     "data": {
      "text/plain": [
       "(0.9871662259101868, 0.42011958360671997)"
      ]
     },
     "execution_count": 16,
     "metadata": {},
     "output_type": "execute_result"
    }
   ],
   "source": [
    "ss.shapiro(cell_lin_mod.resid)"
   ]
  },
  {
   "cell_type": "code",
   "execution_count": 17,
   "metadata": {},
   "outputs": [
    {
     "data": {
      "image/png": "[encoded data removed]",
      "text/plain": [
       "<Figure size 432x288 with 1 Axes>"
      ]
     },
     "metadata": {
      "needs_background": "light"
     },
     "output_type": "display_data"
    }
   ],
   "source": [
    "plt.hist(cell_lin_mod.resid);"
   ]
  },
  {
   "cell_type": "code",
   "execution_count": 18,
   "metadata": {},
   "outputs": [],
   "source": [
    "from sklearn.preprocessing import PolynomialFeatures"
   ]
  },
  {
   "cell_type": "code",
   "execution_count": 19,
   "metadata": {},
   "outputs": [],
   "source": [
    "x = dgg[phenos[3]].values.reshape(-1,1)"
   ]
  },
  {
   "cell_type": "code",
   "execution_count": 20,
   "metadata": {},
   "outputs": [
    {
     "data": {
      "text/plain": [
       "(104, 1)"
      ]
     },
     "execution_count": 20,
     "metadata": {},
     "output_type": "execute_result"
    }
   ],
   "source": [
    "x.shape"
   ]
  },
  {
   "cell_type": "code",
   "execution_count": 21,
   "metadata": {},
   "outputs": [
    {
     "data": {
      "text/plain": [
       "(104, 3)"
      ]
     },
     "execution_count": 21,
     "metadata": {},
     "output_type": "execute_result"
    }
   ],
   "source": [
    "polynomial_features= PolynomialFeatures(degree=2)\n",
    "xp = polynomial_features.fit_transform(x)\n",
    "xp.shape"
   ]
  },
  {
   "cell_type": "code",
   "execution_count": 22,
   "metadata": {},
   "outputs": [],
   "source": [
    "import statsmodels.api as sm"
   ]
  },
  {
   "cell_type": "code",
   "execution_count": 23,
   "metadata": {},
   "outputs": [
    {
     "data": {
      "text/plain": [
       "['Cell_and_Capsule',\n",
       " 'Cell',\n",
       " 'Capsule',\n",
       " 'Cell_and_Capsule_diameter',\n",
       " 'Cell_diameter',\n",
       " 'Capsule_diameter']"
      ]
     },
     "execution_count": 23,
     "metadata": {},
     "output_type": "execute_result"
    }
   ],
   "source": [
    "phenos"
   ]
  },
  {
   "cell_type": "code",
   "execution_count": 24,
   "metadata": {},
   "outputs": [
    {
     "data": {
      "text/plain": [
       "(104,)"
      ]
     },
     "execution_count": 24,
     "metadata": {},
     "output_type": "execute_result"
    }
   ],
   "source": [
    "model = sm.OLS(dgg[phenos[4]].values, xp).fit()\n",
    "ypred = model.predict(xp) \n",
    "\n",
    "ypred.shape"
   ]
  },
  {
   "cell_type": "code",
   "execution_count": 25,
   "metadata": {},
   "outputs": [
    {
     "data": {
      "text/plain": [
       "(0.9902018308639526, 0.6548328995704651)"
      ]
     },
     "execution_count": 25,
     "metadata": {},
     "output_type": "execute_result"
    }
   ],
   "source": [
    "ss.shapiro(model.resid)"
   ]
  },
  {
   "cell_type": "code",
   "execution_count": 26,
   "metadata": {},
   "outputs": [
    {
     "data": {
      "text/html": [
       "<table class=\"simpletable\">\n",
       "<caption>OLS Regression Results</caption>\n",
       "<tr>\n",
       "  <th>Dep. Variable:</th>            <td>y</td>        <th>  R-squared:         </th> <td>   0.760</td>\n",
       "</tr>\n",
       "<tr>\n",
       "  <th>Model:</th>                   <td>OLS</td>       <th>  Adj. R-squared:    </th> <td>   0.755</td>\n",
       "</tr>\n",
       "<tr>\n",
       "  <th>Method:</th>             <td>Least Squares</td>  <th>  F-statistic:       </th> <td>   160.0</td>\n",
       "</tr>\n",
       "<tr>\n",
       "  <th>Date:</th>             <td>Wed, 02 Sep 2020</td> <th>  Prob (F-statistic):</th> <td>4.94e-32</td>\n",
       "</tr>\n",
       "<tr>\n",
       "  <th>Time:</th>                 <td>08:51:46</td>     <th>  Log-Likelihood:    </th> <td> -280.83</td>\n",
       "</tr>\n",
       "<tr>\n",
       "  <th>No. Observations:</th>      <td>   104</td>      <th>  AIC:               </th> <td>   567.7</td>\n",
       "</tr>\n",
       "<tr>\n",
       "  <th>Df Residuals:</th>          <td>   101</td>      <th>  BIC:               </th> <td>   575.6</td>\n",
       "</tr>\n",
       "<tr>\n",
       "  <th>Df Model:</th>              <td>     2</td>      <th>                     </th>     <td> </td>   \n",
       "</tr>\n",
       "<tr>\n",
       "  <th>Covariance Type:</th>      <td>nonrobust</td>    <th>                     </th>     <td> </td>   \n",
       "</tr>\n",
       "</table>\n",
       "<table class=\"simpletable\">\n",
       "<tr>\n",
       "    <td></td>       <th>coef</th>     <th>std err</th>      <th>t</th>      <th>P>|t|</th>  <th>[0.025</th>    <th>0.975]</th>  \n",
       "</tr>\n",
       "<tr>\n",
       "  <th>const</th> <td>   -6.3900</td> <td>    5.072</td> <td>   -1.260</td> <td> 0.211</td> <td>  -16.452</td> <td>    3.672</td>\n",
       "</tr>\n",
       "<tr>\n",
       "  <th>x1</th>    <td>    0.9545</td> <td>    0.128</td> <td>    7.453</td> <td> 0.000</td> <td>    0.700</td> <td>    1.209</td>\n",
       "</tr>\n",
       "<tr>\n",
       "  <th>x2</th>    <td>   -0.0036</td> <td>    0.001</td> <td>   -4.715</td> <td> 0.000</td> <td>   -0.005</td> <td>   -0.002</td>\n",
       "</tr>\n",
       "</table>\n",
       "<table class=\"simpletable\">\n",
       "<tr>\n",
       "  <th>Omnibus:</th>       <td> 0.984</td> <th>  Durbin-Watson:     </th> <td>   1.845</td>\n",
       "</tr>\n",
       "<tr>\n",
       "  <th>Prob(Omnibus):</th> <td> 0.611</td> <th>  Jarque-Bera (JB):  </th> <td>   1.003</td>\n",
       "</tr>\n",
       "<tr>\n",
       "  <th>Skew:</th>          <td> 0.105</td> <th>  Prob(JB):          </th> <td>   0.606</td>\n",
       "</tr>\n",
       "<tr>\n",
       "  <th>Kurtosis:</th>      <td> 2.567</td> <th>  Cond. No.          </th> <td>8.25e+04</td>\n",
       "</tr>\n",
       "</table><br/><br/>Warnings:<br/>[1] Standard Errors assume that the covariance matrix of the errors is correctly specified.<br/>[2] The condition number is large, 8.25e+04. This might indicate that there are<br/>strong multicollinearity or other numerical problems."
      ],
      "text/plain": [
       "<class 'statsmodels.iolib.summary.Summary'>\n",
       "\"\"\"\n",
       "                            OLS Regression Results                            \n",
       "==============================================================================\n",
       "Dep. Variable:                      y   R-squared:                       0.760\n",
       "Model:                            OLS   Adj. R-squared:                  0.755\n",
       "Method:                 Least Squares   F-statistic:                     160.0\n",
       "Date:                Wed, 02 Sep 2020   Prob (F-statistic):           4.94e-32\n",
       "Time:                        08:51:46   Log-Likelihood:                -280.83\n",
       "No. Observations:                 104   AIC:                             567.7\n",
       "Df Residuals:                     101   BIC:                             575.6\n",
       "Df Model:                           2                                         \n",
       "Covariance Type:            nonrobust                                         \n",
       "==============================================================================\n",
       "                 coef    std err          t      P>|t|      [0.025      0.975]\n",
       "------------------------------------------------------------------------------\n",
       "const         -6.3900      5.072     -1.260      0.211     -16.452       3.672\n",
       "x1             0.9545      0.128      7.453      0.000       0.700       1.209\n",
       "x2            -0.0036      0.001     -4.715      0.000      -0.005      -0.002\n",
       "==============================================================================\n",
       "Omnibus:                        0.984   Durbin-Watson:                   1.845\n",
       "Prob(Omnibus):                  0.611   Jarque-Bera (JB):                1.003\n",
       "Skew:                           0.105   Prob(JB):                        0.606\n",
       "Kurtosis:                       2.567   Cond. No.                     8.25e+04\n",
       "==============================================================================\n",
       "\n",
       "Warnings:\n",
       "[1] Standard Errors assume that the covariance matrix of the errors is correctly specified.\n",
       "[2] The condition number is large, 8.25e+04. This might indicate that there are\n",
       "strong multicollinearity or other numerical problems.\n",
       "\"\"\""
      ]
     },
     "execution_count": 26,
     "metadata": {},
     "output_type": "execute_result"
    }
   ],
   "source": [
    "model.summary()"
   ]
  },
  {
   "cell_type": "code",
   "execution_count": 27,
   "metadata": {},
   "outputs": [
    {
     "data": {
      "image/png": "[encoded data removed]",
      "text/plain": [
       "<Figure size 432x288 with 1 Axes>"
      ]
     },
     "metadata": {
      "needs_background": "light"
     },
     "output_type": "display_data"
    }
   ],
   "source": [
    "plt.hist(model.resid);"
   ]
  },
  {
   "cell_type": "code",
   "execution_count": 28,
   "metadata": {},
   "outputs": [
    {
     "data": {
      "image/png": "[encoded data removed]",
      "text/plain": [
       "<Figure size 432x288 with 1 Axes>"
      ]
     },
     "metadata": {
      "needs_background": "light"
     },
     "output_type": "display_data"
    }
   ],
   "source": [
    "plt.plot(cell_lin_mod.resid,model.resid,'.');"
   ]
  },
  {
   "cell_type": "code",
   "execution_count": 29,
   "metadata": {},
   "outputs": [
    {
     "data": {
      "image/png": "[encoded data removed]",
      "text/plain": [
       "<Figure size 432x288 with 1 Axes>"
      ]
     },
     "metadata": {
      "needs_background": "light"
     },
     "output_type": "display_data"
    }
   ],
   "source": [
    "sns.regplot(x=phenos[3],y=phenos[4],data=dgg,order=2);\n",
    "plt.plot(dgg[phenos[3]],ypred,'r.');"
   ]
  },
  {
   "cell_type": "code",
   "execution_count": 30,
   "metadata": {},
   "outputs": [
    {
     "data": {
      "text/html": [
       "<table class=\"simpletable\">\n",
       "<caption>OLS Regression Results</caption>\n",
       "<tr>\n",
       "  <th>Dep. Variable:</th>    <td>Capsule_diameter</td> <th>  R-squared:         </th> <td>   0.890</td>\n",
       "</tr>\n",
       "<tr>\n",
       "  <th>Model:</th>                   <td>OLS</td>       <th>  Adj. R-squared:    </th> <td>   0.889</td>\n",
       "</tr>\n",
       "<tr>\n",
       "  <th>Method:</th>             <td>Least Squares</td>  <th>  F-statistic:       </th> <td>   828.7</td>\n",
       "</tr>\n",
       "<tr>\n",
       "  <th>Date:</th>             <td>Wed, 02 Sep 2020</td> <th>  Prob (F-statistic):</th> <td>8.93e-51</td>\n",
       "</tr>\n",
       "<tr>\n",
       "  <th>Time:</th>                 <td>08:51:47</td>     <th>  Log-Likelihood:    </th> <td> -283.42</td>\n",
       "</tr>\n",
       "<tr>\n",
       "  <th>No. Observations:</th>      <td>   104</td>      <th>  AIC:               </th> <td>   570.8</td>\n",
       "</tr>\n",
       "<tr>\n",
       "  <th>Df Residuals:</th>          <td>   102</td>      <th>  BIC:               </th> <td>   576.1</td>\n",
       "</tr>\n",
       "<tr>\n",
       "  <th>Df Model:</th>              <td>     1</td>      <th>                     </th>     <td> </td>   \n",
       "</tr>\n",
       "<tr>\n",
       "  <th>Covariance Type:</th>      <td>nonrobust</td>    <th>                     </th>     <td> </td>   \n",
       "</tr>\n",
       "</table>\n",
       "<table class=\"simpletable\">\n",
       "<tr>\n",
       "              <td></td>                 <th>coef</th>     <th>std err</th>      <th>t</th>      <th>P>|t|</th>  <th>[0.025</th>    <th>0.975]</th>  \n",
       "</tr>\n",
       "<tr>\n",
       "  <th>Intercept</th>                 <td>  -14.4648</td> <td>    1.508</td> <td>   -9.589</td> <td> 0.000</td> <td>  -17.457</td> <td>  -11.473</td>\n",
       "</tr>\n",
       "<tr>\n",
       "  <th>Cell_and_Capsule_diameter</th> <td>    0.6105</td> <td>    0.021</td> <td>   28.787</td> <td> 0.000</td> <td>    0.568</td> <td>    0.653</td>\n",
       "</tr>\n",
       "</table>\n",
       "<table class=\"simpletable\">\n",
       "<tr>\n",
       "  <th>Omnibus:</th>       <td> 0.228</td> <th>  Durbin-Watson:     </th> <td>   1.944</td>\n",
       "</tr>\n",
       "<tr>\n",
       "  <th>Prob(Omnibus):</th> <td> 0.892</td> <th>  Jarque-Bera (JB):  </th> <td>   0.408</td>\n",
       "</tr>\n",
       "<tr>\n",
       "  <th>Skew:</th>          <td> 0.035</td> <th>  Prob(JB):          </th> <td>   0.816</td>\n",
       "</tr>\n",
       "<tr>\n",
       "  <th>Kurtosis:</th>      <td> 2.701</td> <th>  Cond. No.          </th> <td>    294.</td>\n",
       "</tr>\n",
       "</table><br/><br/>Warnings:<br/>[1] Standard Errors assume that the covariance matrix of the errors is correctly specified."
      ],
      "text/plain": [
       "<class 'statsmodels.iolib.summary.Summary'>\n",
       "\"\"\"\n",
       "                            OLS Regression Results                            \n",
       "==============================================================================\n",
       "Dep. Variable:       Capsule_diameter   R-squared:                       0.890\n",
       "Model:                            OLS   Adj. R-squared:                  0.889\n",
       "Method:                 Least Squares   F-statistic:                     828.7\n",
       "Date:                Wed, 02 Sep 2020   Prob (F-statistic):           8.93e-51\n",
       "Time:                        08:51:47   Log-Likelihood:                -283.42\n",
       "No. Observations:                 104   AIC:                             570.8\n",
       "Df Residuals:                     102   BIC:                             576.1\n",
       "Df Model:                           1                                         \n",
       "Covariance Type:            nonrobust                                         \n",
       "=============================================================================================\n",
       "                                coef    std err          t      P>|t|      [0.025      0.975]\n",
       "---------------------------------------------------------------------------------------------\n",
       "Intercept                   -14.4648      1.508     -9.589      0.000     -17.457     -11.473\n",
       "Cell_and_Capsule_diameter     0.6105      0.021     28.787      0.000       0.568       0.653\n",
       "==============================================================================\n",
       "Omnibus:                        0.228   Durbin-Watson:                   1.944\n",
       "Prob(Omnibus):                  0.892   Jarque-Bera (JB):                0.408\n",
       "Skew:                           0.035   Prob(JB):                        0.816\n",
       "Kurtosis:                       2.701   Cond. No.                         294.\n",
       "==============================================================================\n",
       "\n",
       "Warnings:\n",
       "[1] Standard Errors assume that the covariance matrix of the errors is correctly specified.\n",
       "\"\"\""
      ]
     },
     "execution_count": 30,
     "metadata": {},
     "output_type": "execute_result"
    }
   ],
   "source": [
    "caps_mod = smf.ols('Capsule_diameter ~ Cell_and_Capsule_diameter',data=dgg).fit()\n",
    "caps_mod.summary()"
   ]
  },
  {
   "cell_type": "code",
   "execution_count": 31,
   "metadata": {},
   "outputs": [],
   "source": [
    "dgg['Predicted'] = caps_mod.predict()"
   ]
  },
  {
   "cell_type": "code",
   "execution_count": 32,
   "metadata": {},
   "outputs": [],
   "source": [
    "dgg['Cell_Diameter_Residual'] = cell_lin_mod.resid#model.resid\n",
    "dgg['Capsule_Diameter_Residual'] = caps_mod.resid"
   ]
  },
  {
   "cell_type": "code",
   "execution_count": 33,
   "metadata": {},
   "outputs": [],
   "source": [
    "test['Predict'] = test[segs].apply(association_logPval,args=[dgg.T[segs].T[p]],axis=1 )"
   ]
  },
  {
   "cell_type": "code",
   "execution_count": 34,
   "metadata": {},
   "outputs": [],
   "source": [
    "predict_test = gv.merge(test)"
   ]
  },
  {
   "cell_type": "code",
   "execution_count": 35,
   "metadata": {},
   "outputs": [
    {
     "data": {
      "image/png": "[encoded data removed]",
      "text/plain": [
       "<Figure size 864x216 with 1 Axes>"
      ]
     },
     "metadata": {
      "needs_background": "light"
     },
     "output_type": "display_data"
    }
   ],
   "source": [
    "fig,ax = plt.subplots(1,1,figsize=(12,3))\n",
    "for i,c in enumerate(chrlist):\n",
    "    \n",
    "    temp = predict_test[(predict_test.Chrom==c)]\n",
    "    \n",
    "    plt.plot(temp.Pos.values+cumpos[i],temp.Predict,'.');"
   ]
  },
  {
   "cell_type": "code",
   "execution_count": 36,
   "metadata": {},
   "outputs": [],
   "source": [
    "for p in phenos:\n",
    "\n",
    "    test[p] = test[segs].apply(association_logPval,\n",
    "                               args=[dgg.T[segs].T[p]],\n",
    "                               axis=1)\n",
    "pval_df = gv.merge(test)"
   ]
  },
  {
   "cell_type": "code",
   "execution_count": 37,
   "metadata": {},
   "outputs": [
    {
     "data": {
      "text/plain": [
       "['Cell_and_Capsule',\n",
       " 'Cell',\n",
       " 'Capsule',\n",
       " 'Cell_and_Capsule_diameter',\n",
       " 'Cell_diameter',\n",
       " 'Capsule_diameter']"
      ]
     },
     "execution_count": 37,
     "metadata": {},
     "output_type": "execute_result"
    }
   ],
   "source": [
    "phenos"
   ]
  },
  {
   "cell_type": "code",
   "execution_count": 38,
   "metadata": {},
   "outputs": [
    {
     "data": {
      "image/png": "[encoded data removed]",
      "text/plain": [
       "<Figure size 1080x576 with 6 Axes>"
      ]
     },
     "metadata": {
      "needs_background": "light"
     },
     "output_type": "display_data"
    }
   ],
   "source": [
    "fig,ax = plt.subplots(3,2,figsize=(15,8),sharex=True,sharey=True)\n",
    "\n",
    "plot_map = [0,2,4,1,3,5]\n",
    "for i,p in enumerate(phenos):\n",
    "    plt.sca(ax.ravel()[plot_map[i]])\n",
    "    plt.title(' '.join(p.split('_')),y=.8)\n",
    "    plt.xticks(chrmid,1+np.arange(len(chrlist)))\n",
    "    \n",
    "    for c,chrom in enumerate(chrlist):\n",
    "        temp = pval_df[(pval_df.Chrom==chrom)][['Pos',p]]\n",
    "        \n",
    "        plt.plot(temp.Pos+cumpos[c],temp[p],'.',ms=3,alpha=0.8)\n",
    "plt.ylim(-0.1,5.1)\n",
    "plt.subplots_adjust(hspace=0.1,wspace=0.05)\n",
    "plt.sca(ax[-1,0])\n",
    "plt.ylabel('$-\\log_{10}\\,(p-value)$',fontsize=14);\n",
    "plt.xlabel('Chromosome',fontsize=14);"
   ]
  },
  {
   "cell_type": "code",
   "execution_count": 39,
   "metadata": {},
   "outputs": [],
   "source": [
    "residuals_phenos = ['Cell_Diameter_Residual',\n",
    "       'Capsule_Diameter_Residual']"
   ]
  },
  {
   "cell_type": "code",
   "execution_count": 40,
   "metadata": {},
   "outputs": [
    {
     "data": {
      "text/plain": [
       "(2777, 111)"
      ]
     },
     "execution_count": 40,
     "metadata": {},
     "output_type": "execute_result"
    }
   ],
   "source": [
    "test.shape"
   ]
  },
  {
   "cell_type": "code",
   "execution_count": 41,
   "metadata": {},
   "outputs": [],
   "source": [
    "for p in residuals_phenos:\n",
    "\n",
    "    test[p] = test[segs].apply(association_logPval,\n",
    "                               args=[dgg.T[segs].T[p]],\n",
    "                               axis=1)\n",
    "    pval_df[p] = gv.merge(test)[p]"
   ]
  },
  {
   "cell_type": "code",
   "execution_count": 42,
   "metadata": {},
   "outputs": [
    {
     "data": {
      "text/html": [
       "<div>\n",
       "<style scoped>\n",
       "    .dataframe tbody tr th:only-of-type {\n",
       "        vertical-align: middle;\n",
       "    }\n",
       "\n",
       "    .dataframe tbody tr th {\n",
       "        vertical-align: top;\n",
       "    }\n",
       "\n",
       "    .dataframe thead th {\n",
       "        text-align: right;\n",
       "    }\n",
       "</style>\n",
       "<table border=\"1\" class=\"dataframe\">\n",
       "  <thead>\n",
       "    <tr style=\"text-align: right;\">\n",
       "      <th></th>\n",
       "      <th>Chrom</th>\n",
       "      <th>Pos</th>\n",
       "      <th>Qual</th>\n",
       "      <th>Callrate</th>\n",
       "      <th>Ref</th>\n",
       "      <th>Alt</th>\n",
       "      <th>Altlen</th>\n",
       "      <th>Dp</th>\n",
       "      <th>Type</th>\n",
       "      <th>Vcfix</th>\n",
       "      <th>...</th>\n",
       "      <th>SS-B382</th>\n",
       "      <th>Predict</th>\n",
       "      <th>Cell_and_Capsule</th>\n",
       "      <th>Cell</th>\n",
       "      <th>Capsule</th>\n",
       "      <th>Cell_and_Capsule_diameter</th>\n",
       "      <th>Cell_diameter</th>\n",
       "      <th>Capsule_diameter</th>\n",
       "      <th>Cell_Diameter_Residual</th>\n",
       "      <th>Capsule_Diameter_Residual</th>\n",
       "    </tr>\n",
       "  </thead>\n",
       "  <tbody>\n",
       "    <tr>\n",
       "      <th>0</th>\n",
       "      <td>Chr01</td>\n",
       "      <td>5016</td>\n",
       "      <td>104492.0</td>\n",
       "      <td>1.0</td>\n",
       "      <td>C</td>\n",
       "      <td>A</td>\n",
       "      <td>1</td>\n",
       "      <td>6510</td>\n",
       "      <td>snp</td>\n",
       "      <td>289</td>\n",
       "      <td>...</td>\n",
       "      <td>0.0</td>\n",
       "      <td>0.136843</td>\n",
       "      <td>0.407254</td>\n",
       "      <td>1.777129</td>\n",
       "      <td>0.139142</td>\n",
       "      <td>0.747044</td>\n",
       "      <td>1.964845</td>\n",
       "      <td>0.136843</td>\n",
       "      <td>2.027621</td>\n",
       "      <td>2.32446</td>\n",
       "    </tr>\n",
       "    <tr>\n",
       "      <th>1</th>\n",
       "      <td>Chr01</td>\n",
       "      <td>5299</td>\n",
       "      <td>112647.0</td>\n",
       "      <td>1.0</td>\n",
       "      <td>T</td>\n",
       "      <td>C</td>\n",
       "      <td>1</td>\n",
       "      <td>9711</td>\n",
       "      <td>snp</td>\n",
       "      <td>293</td>\n",
       "      <td>...</td>\n",
       "      <td>0.0</td>\n",
       "      <td>0.136843</td>\n",
       "      <td>0.407254</td>\n",
       "      <td>1.777129</td>\n",
       "      <td>0.139142</td>\n",
       "      <td>0.747044</td>\n",
       "      <td>1.964845</td>\n",
       "      <td>0.136843</td>\n",
       "      <td>2.027621</td>\n",
       "      <td>2.32446</td>\n",
       "    </tr>\n",
       "    <tr>\n",
       "      <th>2</th>\n",
       "      <td>Chr01</td>\n",
       "      <td>5464</td>\n",
       "      <td>112658.0</td>\n",
       "      <td>1.0</td>\n",
       "      <td>T</td>\n",
       "      <td>C</td>\n",
       "      <td>1</td>\n",
       "      <td>9375</td>\n",
       "      <td>snp</td>\n",
       "      <td>294</td>\n",
       "      <td>...</td>\n",
       "      <td>0.0</td>\n",
       "      <td>0.136843</td>\n",
       "      <td>0.407254</td>\n",
       "      <td>1.777129</td>\n",
       "      <td>0.139142</td>\n",
       "      <td>0.747044</td>\n",
       "      <td>1.964845</td>\n",
       "      <td>0.136843</td>\n",
       "      <td>2.027621</td>\n",
       "      <td>2.32446</td>\n",
       "    </tr>\n",
       "    <tr>\n",
       "      <th>3</th>\n",
       "      <td>Chr01</td>\n",
       "      <td>6120</td>\n",
       "      <td>109003.0</td>\n",
       "      <td>1.0</td>\n",
       "      <td>T</td>\n",
       "      <td>C</td>\n",
       "      <td>1</td>\n",
       "      <td>9311</td>\n",
       "      <td>snp</td>\n",
       "      <td>311</td>\n",
       "      <td>...</td>\n",
       "      <td>0.0</td>\n",
       "      <td>0.136843</td>\n",
       "      <td>0.407254</td>\n",
       "      <td>1.777129</td>\n",
       "      <td>0.139142</td>\n",
       "      <td>0.747044</td>\n",
       "      <td>1.964845</td>\n",
       "      <td>0.136843</td>\n",
       "      <td>2.027621</td>\n",
       "      <td>2.32446</td>\n",
       "    </tr>\n",
       "    <tr>\n",
       "      <th>4</th>\n",
       "      <td>Chr01</td>\n",
       "      <td>6166</td>\n",
       "      <td>114638.0</td>\n",
       "      <td>1.0</td>\n",
       "      <td>G</td>\n",
       "      <td>A</td>\n",
       "      <td>1</td>\n",
       "      <td>9269</td>\n",
       "      <td>snp</td>\n",
       "      <td>312</td>\n",
       "      <td>...</td>\n",
       "      <td>0.0</td>\n",
       "      <td>0.136843</td>\n",
       "      <td>0.407254</td>\n",
       "      <td>1.777129</td>\n",
       "      <td>0.139142</td>\n",
       "      <td>0.747044</td>\n",
       "      <td>1.964845</td>\n",
       "      <td>0.136843</td>\n",
       "      <td>2.027621</td>\n",
       "      <td>2.32446</td>\n",
       "    </tr>\n",
       "  </tbody>\n",
       "</table>\n",
       "<p>5 rows × 134 columns</p>\n",
       "</div>"
      ],
      "text/plain": [
       "   Chrom   Pos      Qual  Callrate Ref Alt  Altlen    Dp Type  Vcfix  ...  \\\n",
       "0  Chr01  5016  104492.0       1.0   C   A       1  6510  snp    289  ...   \n",
       "1  Chr01  5299  112647.0       1.0   T   C       1  9711  snp    293  ...   \n",
       "2  Chr01  5464  112658.0       1.0   T   C       1  9375  snp    294  ...   \n",
       "3  Chr01  6120  109003.0       1.0   T   C       1  9311  snp    311  ...   \n",
       "4  Chr01  6166  114638.0       1.0   G   A       1  9269  snp    312  ...   \n",
       "\n",
       "   SS-B382   Predict  Cell_and_Capsule      Cell   Capsule  \\\n",
       "0      0.0  0.136843          0.407254  1.777129  0.139142   \n",
       "1      0.0  0.136843          0.407254  1.777129  0.139142   \n",
       "2      0.0  0.136843          0.407254  1.777129  0.139142   \n",
       "3      0.0  0.136843          0.407254  1.777129  0.139142   \n",
       "4      0.0  0.136843          0.407254  1.777129  0.139142   \n",
       "\n",
       "   Cell_and_Capsule_diameter  Cell_diameter  Capsule_diameter  \\\n",
       "0                   0.747044       1.964845          0.136843   \n",
       "1                   0.747044       1.964845          0.136843   \n",
       "2                   0.747044       1.964845          0.136843   \n",
       "3                   0.747044       1.964845          0.136843   \n",
       "4                   0.747044       1.964845          0.136843   \n",
       "\n",
       "   Cell_Diameter_Residual  Capsule_Diameter_Residual  \n",
       "0                2.027621                    2.32446  \n",
       "1                2.027621                    2.32446  \n",
       "2                2.027621                    2.32446  \n",
       "3                2.027621                    2.32446  \n",
       "4                2.027621                    2.32446  \n",
       "\n",
       "[5 rows x 134 columns]"
      ]
     },
     "execution_count": 42,
     "metadata": {},
     "output_type": "execute_result"
    }
   ],
   "source": [
    "pval_df.head()"
   ]
  },
  {
   "cell_type": "code",
   "execution_count": 43,
   "metadata": {},
   "outputs": [],
   "source": [
    "residual_threshold = 4.17#4.1267"
   ]
  },
  {
   "cell_type": "markdown",
   "metadata": {},
   "source": [
    "kbs = 1000\n",
    "perms = []\n",
    "p = dgg.columns[-1]\n",
    "while len(perms) < kbs:\n",
    "    \n",
    "    perms.append(test[segs].apply(association_logPval,\n",
    "                               args=[np.random.permutation(dgg.T[segs].T[p].values)],\n",
    "                               axis=1).max())"
   ]
  },
  {
   "cell_type": "code",
   "execution_count": 44,
   "metadata": {},
   "outputs": [],
   "source": [
    "#cap_res_99 = np.percentile(perms,99)\n",
    "cap_res_99 = 5.053298755681106"
   ]
  },
  {
   "cell_type": "code",
   "execution_count": 45,
   "metadata": {},
   "outputs": [],
   "source": [
    "#cap_res_95 = np.percentile(perms,95)\n",
    "cap_res_95 = 4.187824559247485"
   ]
  },
  {
   "cell_type": "code",
   "execution_count": 46,
   "metadata": {},
   "outputs": [],
   "source": [
    "cell_res_95 = 4.68"
   ]
  },
  {
   "cell_type": "code",
   "execution_count": 47,
   "metadata": {},
   "outputs": [
    {
     "data": {
      "image/png": "[encoded data removed]",
      "text/plain": [
       "<Figure size 1080x216 with 2 Axes>"
      ]
     },
     "metadata": {
      "needs_background": "light"
     },
     "output_type": "display_data"
    }
   ],
   "source": [
    "fig,ax = plt.subplots(1,2,figsize=(15,3),sharex=True,sharey=True)\n",
    "\n",
    "\n",
    "for i,p in enumerate(residuals_phenos):\n",
    "    plt.sca(ax.ravel()[i])\n",
    "    plt.title(' '.join(p.split('_')),y=.8)\n",
    "    plt.xticks(chrmid,1+np.arange(len(chrlist)))\n",
    "    \n",
    "    for c,chrom in enumerate(chrlist):\n",
    "        temp = pval_df[(pval_df.Chrom==chrom)][['Pos',p]]\n",
    "        \n",
    "        plt.plot(temp.Pos+cumpos[c],temp[p],'.',ms=3,alpha=0.8)\n",
    "        \n",
    "    \n",
    "    #plt.hlines(5.05,0,19*(10**6),linewidth=0.5,linestyle='--')\n",
    "plt.sca(ax[0])\n",
    "plt.ylabel('$-\\log_{10}\\,(p-value)$',fontsize=14);\n",
    "plt.xlabel('Chromosome',fontsize=14)\n",
    "plt.subplots_adjust(hspace=0.1,wspace=0.05)"
   ]
  },
  {
   "cell_type": "code",
   "execution_count": 48,
   "metadata": {},
   "outputs": [],
   "source": [
    "ch14 = pval_df[(pval_df.Chrom=='Chr14')]"
   ]
  },
  {
   "cell_type": "code",
   "execution_count": 49,
   "metadata": {},
   "outputs": [],
   "source": [
    "caps_diam_qtl = pval_df.T[ch14['Capsule_Diameter_Residual'].idxmax()].T[segs]"
   ]
  },
  {
   "cell_type": "code",
   "execution_count": 50,
   "metadata": {},
   "outputs": [],
   "source": [
    "cell_diam_qtl = pval_df.T[ch14['Cell_Diameter_Residual'].idxmax()].T[segs]"
   ]
  },
  {
   "cell_type": "code",
   "execution_count": 51,
   "metadata": {},
   "outputs": [],
   "source": [
    "dgg['Cell_Diameter_Residual_QTL'] = cell_diam_qtl\n",
    "dgg['Capsule_Diameter_Residual_QTL'] = caps_diam_qtl"
   ]
  },
  {
   "cell_type": "code",
   "execution_count": 52,
   "metadata": {},
   "outputs": [
    {
     "data": {
      "text/plain": [
       "'431$\\\\mathrm{\\\\alpha}$'"
      ]
     },
     "execution_count": 52,
     "metadata": {},
     "output_type": "execute_result"
    }
   ],
   "source": [
    "_431_label"
   ]
  },
  {
   "cell_type": "code",
   "execution_count": 53,
   "metadata": {},
   "outputs": [],
   "source": [
    "dgg['Chromosome 14\\nQTL Allele'] = [_431_label if a == 1 else xl280_label for a in dgg.Cell_Diameter_Residual_QTL]"
   ]
  },
  {
   "cell_type": "code",
   "execution_count": 54,
   "metadata": {},
   "outputs": [
    {
     "data": {
      "text/plain": [
       "0.8904049276813922"
      ]
     },
     "execution_count": 54,
     "metadata": {},
     "output_type": "execute_result"
    }
   ],
   "source": [
    "caps_mod.rsquared"
   ]
  },
  {
   "cell_type": "code",
   "execution_count": 55,
   "metadata": {},
   "outputs": [
    {
     "data": {
      "text/plain": [
       "0.7072636072990139"
      ]
     },
     "execution_count": 55,
     "metadata": {},
     "output_type": "execute_result"
    }
   ],
   "source": [
    "cell_lin_mod.rsquared"
   ]
  },
  {
   "cell_type": "code",
   "execution_count": 56,
   "metadata": {},
   "outputs": [
    {
     "data": {
      "text/html": [
       "<div>\n",
       "<style scoped>\n",
       "    .dataframe tbody tr th:only-of-type {\n",
       "        vertical-align: middle;\n",
       "    }\n",
       "\n",
       "    .dataframe tbody tr th {\n",
       "        vertical-align: top;\n",
       "    }\n",
       "\n",
       "    .dataframe thead th {\n",
       "        text-align: right;\n",
       "    }\n",
       "</style>\n",
       "<table border=\"1\" class=\"dataframe\">\n",
       "  <thead>\n",
       "    <tr style=\"text-align: right;\">\n",
       "      <th></th>\n",
       "      <th>Sample</th>\n",
       "      <th>Date</th>\n",
       "      <th>Cell_and_Capsule</th>\n",
       "      <th>Cell</th>\n",
       "      <th>Capsule</th>\n",
       "      <th>Cell_and_Capsule_diameter</th>\n",
       "      <th>Cell_diameter</th>\n",
       "      <th>Capsule_diameter</th>\n",
       "      <th>Circles</th>\n",
       "      <th>Residual</th>\n",
       "      <th>QTL</th>\n",
       "      <th>Predicted</th>\n",
       "      <th>Cell_Diameter_Residual</th>\n",
       "      <th>Capsule_Diameter_Residual</th>\n",
       "      <th>Cell_Diameter_Residual_QTL</th>\n",
       "      <th>Capsule_Diameter_Residual_QTL</th>\n",
       "      <th>Chromosome 14\\nQTL Allele</th>\n",
       "    </tr>\n",
       "    <tr>\n",
       "      <th>Sample</th>\n",
       "      <th></th>\n",
       "      <th></th>\n",
       "      <th></th>\n",
       "      <th></th>\n",
       "      <th></th>\n",
       "      <th></th>\n",
       "      <th></th>\n",
       "      <th></th>\n",
       "      <th></th>\n",
       "      <th></th>\n",
       "      <th></th>\n",
       "      <th></th>\n",
       "      <th></th>\n",
       "      <th></th>\n",
       "      <th></th>\n",
       "      <th></th>\n",
       "      <th></th>\n",
       "    </tr>\n",
       "  </thead>\n",
       "  <tbody>\n",
       "    <tr>\n",
       "      <th>SS-A837</th>\n",
       "      <td>SS-A837</td>\n",
       "      <td>7-120</td>\n",
       "      <td>2954.0</td>\n",
       "      <td>1093.0</td>\n",
       "      <td>1935.5</td>\n",
       "      <td>61.323907</td>\n",
       "      <td>37.304177</td>\n",
       "      <td>25.117309</td>\n",
       "      <td>15</td>\n",
       "      <td>2.144624</td>\n",
       "      <td>1.0</td>\n",
       "      <td>22.972684</td>\n",
       "      <td>-1.179139</td>\n",
       "      <td>2.144624</td>\n",
       "      <td>1</td>\n",
       "      <td>1</td>\n",
       "      <td>431$\\mathrm{\\alpha}$</td>\n",
       "    </tr>\n",
       "    <tr>\n",
       "      <th>SS-B307</th>\n",
       "      <td>SS-B307</td>\n",
       "      <td>7-120</td>\n",
       "      <td>3015.0</td>\n",
       "      <td>831.0</td>\n",
       "      <td>2065.5</td>\n",
       "      <td>61.958189</td>\n",
       "      <td>32.512533</td>\n",
       "      <td>26.994920</td>\n",
       "      <td>15</td>\n",
       "      <td>3.635013</td>\n",
       "      <td>1.0</td>\n",
       "      <td>23.359906</td>\n",
       "      <td>-6.198297</td>\n",
       "      <td>3.635013</td>\n",
       "      <td>1</td>\n",
       "      <td>1</td>\n",
       "      <td>431$\\mathrm{\\alpha}$</td>\n",
       "    </tr>\n",
       "    <tr>\n",
       "      <th>SS-B310</th>\n",
       "      <td>SS-B310</td>\n",
       "      <td>7-120</td>\n",
       "      <td>6371.0</td>\n",
       "      <td>2168.0</td>\n",
       "      <td>3964.5</td>\n",
       "      <td>90.064104</td>\n",
       "      <td>52.517844</td>\n",
       "      <td>34.967517</td>\n",
       "      <td>15</td>\n",
       "      <td>-5.550718</td>\n",
       "      <td>0.0</td>\n",
       "      <td>40.518235</td>\n",
       "      <td>3.725538</td>\n",
       "      <td>-5.550718</td>\n",
       "      <td>0</td>\n",
       "      <td>0</td>\n",
       "      <td>XL280$\\bf{a}$</td>\n",
       "    </tr>\n",
       "    <tr>\n",
       "      <th>SS-B311</th>\n",
       "      <td>SS-B311</td>\n",
       "      <td>7-150</td>\n",
       "      <td>3293.5</td>\n",
       "      <td>1023.5</td>\n",
       "      <td>2096.5</td>\n",
       "      <td>64.756295</td>\n",
       "      <td>36.099316</td>\n",
       "      <td>26.319158</td>\n",
       "      <td>15</td>\n",
       "      <td>1.251042</td>\n",
       "      <td>1.0</td>\n",
       "      <td>25.068117</td>\n",
       "      <td>-3.615184</td>\n",
       "      <td>1.251042</td>\n",
       "      <td>1</td>\n",
       "      <td>1</td>\n",
       "      <td>431$\\mathrm{\\alpha}$</td>\n",
       "    </tr>\n",
       "    <tr>\n",
       "      <th>SS-B312</th>\n",
       "      <td>SS-B312</td>\n",
       "      <td>11-22</td>\n",
       "      <td>7008.5</td>\n",
       "      <td>1610.0</td>\n",
       "      <td>5398.5</td>\n",
       "      <td>94.452263</td>\n",
       "      <td>45.269625</td>\n",
       "      <td>47.179251</td>\n",
       "      <td>15</td>\n",
       "      <td>3.982097</td>\n",
       "      <td>0.0</td>\n",
       "      <td>43.197154</td>\n",
       "      <td>-5.096695</td>\n",
       "      <td>3.982097</td>\n",
       "      <td>0</td>\n",
       "      <td>0</td>\n",
       "      <td>XL280$\\bf{a}$</td>\n",
       "    </tr>\n",
       "  </tbody>\n",
       "</table>\n",
       "</div>"
      ],
      "text/plain": [
       "          Sample   Date  Cell_and_Capsule    Cell  Capsule  \\\n",
       "Sample                                                       \n",
       "SS-A837  SS-A837  7-120            2954.0  1093.0   1935.5   \n",
       "SS-B307  SS-B307  7-120            3015.0   831.0   2065.5   \n",
       "SS-B310  SS-B310  7-120            6371.0  2168.0   3964.5   \n",
       "SS-B311  SS-B311  7-150            3293.5  1023.5   2096.5   \n",
       "SS-B312  SS-B312  11-22            7008.5  1610.0   5398.5   \n",
       "\n",
       "         Cell_and_Capsule_diameter  Cell_diameter  Capsule_diameter  Circles  \\\n",
       "Sample                                                                         \n",
       "SS-A837                  61.323907      37.304177         25.117309       15   \n",
       "SS-B307                  61.958189      32.512533         26.994920       15   \n",
       "SS-B310                  90.064104      52.517844         34.967517       15   \n",
       "SS-B311                  64.756295      36.099316         26.319158       15   \n",
       "SS-B312                  94.452263      45.269625         47.179251       15   \n",
       "\n",
       "         Residual  QTL  Predicted  Cell_Diameter_Residual  \\\n",
       "Sample                                                      \n",
       "SS-A837  2.144624  1.0  22.972684               -1.179139   \n",
       "SS-B307  3.635013  1.0  23.359906               -6.198297   \n",
       "SS-B310 -5.550718  0.0  40.518235                3.725538   \n",
       "SS-B311  1.251042  1.0  25.068117               -3.615184   \n",
       "SS-B312  3.982097  0.0  43.197154               -5.096695   \n",
       "\n",
       "         Capsule_Diameter_Residual Cell_Diameter_Residual_QTL  \\\n",
       "Sample                                                          \n",
       "SS-A837                   2.144624                          1   \n",
       "SS-B307                   3.635013                          1   \n",
       "SS-B310                  -5.550718                          0   \n",
       "SS-B311                   1.251042                          1   \n",
       "SS-B312                   3.982097                          0   \n",
       "\n",
       "        Capsule_Diameter_Residual_QTL Chromosome 14\\nQTL Allele  \n",
       "Sample                                                           \n",
       "SS-A837                             1      431$\\mathrm{\\alpha}$  \n",
       "SS-B307                             1      431$\\mathrm{\\alpha}$  \n",
       "SS-B310                             0             XL280$\\bf{a}$  \n",
       "SS-B311                             1      431$\\mathrm{\\alpha}$  \n",
       "SS-B312                             0             XL280$\\bf{a}$  "
      ]
     },
     "execution_count": 56,
     "metadata": {},
     "output_type": "execute_result"
    }
   ],
   "source": [
    "dgg.head()"
   ]
  },
  {
   "cell_type": "code",
   "execution_count": 57,
   "metadata": {},
   "outputs": [
    {
     "data": {
      "image/png": "[encoded data removed]",
      "text/plain": [
       "<Figure size 864x720 with 6 Axes>"
      ]
     },
     "metadata": {
      "needs_background": "light"
     },
     "output_type": "display_data"
    }
   ],
   "source": [
    "fig,ax = plt.subplots(3,2,figsize=(12,10))\n",
    "plt.sca(ax[0,0])\n",
    "plt.title('A',x=0.07,y=.95,fontsize=14,fontweight='bold')\n",
    "sns.regplot(x='Cell_and_Capsule_diameter',y='Cell_diameter',\n",
    "            data=dgg,order=1,scatter_kws={'alpha':0.0},\n",
    "            line_kws={'color':'grey','alpha':0.2});\n",
    "\n",
    "sns.scatterplot(x='Cell_and_Capsule_diameter',y='Cell_diameter',\n",
    "                hue='Chromosome 14\\nQTL Allele',data=dgg,\n",
    "                hue_order=[xl280_label,_431_label],legend=None);\n",
    "\n",
    "plt.xlabel('Cell and Capsule Diameter (\\u03BCm)',fontsize=12)\n",
    "plt.ylabel('Cell Diameter (\\u03BCm)',fontsize=12)\n",
    "plt.ylim(0,90)\n",
    "plt.text(x=90,y=80,s='$R^2 = %s$'%np.round(cell_lin_mod.rsquared,2),\n",
    "         va='center',ha='center',fontsize=12)\n",
    "\n",
    "\n",
    "plt.sca(ax[1,0])\n",
    "plt.title('B',x=0.07,y=.95,fontsize=14,fontweight='bold')\n",
    "\n",
    "plt.hist(dgg[(dgg.Cell_Diameter_Residual_QTL==0)\n",
    "            ].Cell_Diameter_Residual.values,alpha=0.5,label=xl280_label)\n",
    "plt.hist(dgg[(dgg.Cell_Diameter_Residual_QTL==1)\n",
    "            ].Cell_Diameter_Residual.values,alpha=0.5,label=_431_label)\n",
    "plt.ylabel('Number of Progeny',fontsize=12)\n",
    "plt.ylim(0,15)\n",
    "plt.yticks(np.arange(0,20,5))\n",
    "\n",
    "\n",
    "\n",
    "plt.xlabel('Cell Diameter Residuals (\\u03BCm)',fontsize=12)\n",
    "\n",
    "plt.vlines(dgg.T[['XL280a','SS-A837']].T.Cell_Diameter_Residual.values,\n",
    "           0,1,color='k',linewidth=1,alpha=0.75);\n",
    "plt.text(x=dgg.T['SS-A837'].T.Cell_Diameter_Residual-0.75,y=1,\n",
    "         s=_431_label,fontsize=14,va='bottom',ha='left')\n",
    "plt.text(x=dgg.T['XL280a'].T.Cell_Diameter_Residual+0.75,y=1,\n",
    "         s=xl280_label,fontsize=14,va='bottom',ha='right');\n",
    "\n",
    "\n",
    "plt.sca(ax[0,1])\n",
    "plt.title('D',x=0.07,y=.95,fontsize=14,fontweight='bold')\n",
    "\n",
    "sns.regplot(x='Cell_and_Capsule_diameter',y='Capsule_diameter',\n",
    "            data=dgg,order=1,scatter_kws={'alpha':0.0},\n",
    "            line_kws={'color':'grey','alpha':0.2});\n",
    "\n",
    "sns.scatterplot(x='Cell_and_Capsule_diameter',y='Capsule_diameter',\n",
    "                hue='Chromosome 14\\nQTL Allele',data=dgg,\n",
    "                hue_order=[xl280_label,_431_label]);\n",
    "plt.legend(frameon=False,bbox_to_anchor=(-.15,.8))\n",
    "\n",
    "plt.xlabel('Cell and Capsule Diameter (\\u03BCm)',fontsize=12)\n",
    "plt.ylabel('Capsule Diameter (\\u03BCm)',fontsize=12)\n",
    "plt.ylim(0,90)\n",
    "plt.text(x=90,y=80,s='$R^2 = %s$'%np.round(caps_mod.rsquared,2),\n",
    "         va='center',ha='center',fontsize=12)\n",
    "\n",
    "\n",
    "\n",
    "plt.sca(ax[1,1])\n",
    "plt.title('E',x=0.07,y=.95,fontsize=14,fontweight='bold')\n",
    "\n",
    "plt.hist(dgg[(dgg.Capsule_Diameter_Residual_QTL==0)\n",
    "            ].Capsule_Diameter_Residual.values,alpha=0.5,label=xl280_label)\n",
    "plt.hist(dgg[(dgg.Capsule_Diameter_Residual_QTL==1)\n",
    "            ].Capsule_Diameter_Residual.values,alpha=0.5,label=_431_label)\n",
    "\n",
    "\n",
    "plt.legend(title='Chromosome 14\\nQTL Allele',\n",
    "           fontsize=10,frameon=False,bbox_to_anchor=(-.15,.8))\n",
    "plt.ylabel('Number of Progeny',fontsize=12)\n",
    "plt.xlabel('Capsule Diameter Residual (\\u03BCm)',fontsize=12)\n",
    "plt.ylim(0,15)\n",
    "plt.yticks(np.arange(0,20,5))\n",
    "plt.vlines(dgg.T[['XL280a','SS-A837']].T.Capsule_Diameter_Residual.values,\n",
    "           0,1,color='k',linewidth=1,alpha=0.75);\n",
    "plt.text(x=dgg.T['SS-A837'].T.Capsule_Diameter_Residual+0.75,y=1,\n",
    "         s=_431_label,fontsize=14,va='bottom',ha='right')\n",
    "plt.text(x=dgg.T['XL280a'].T.Capsule_Diameter_Residual-0.75,y=1,\n",
    "         s=xl280_label,fontsize=14,va='bottom',ha='left');\n",
    "\n",
    "thresholds = [cell_res_95,cap_res_95]\n",
    "QTL_color= ['tab:orange','tab:blue']\n",
    "for i,p in enumerate(residuals_phenos):\n",
    "    plt.sca(ax[-1,i])\n",
    "    plt.title('C' if i == 0 else 'F',x=0.07,y=.95,fontsize=14,fontweight='bold')\n",
    "\n",
    "    plt.xticks(chrmid,1+np.arange(len(chrlist)),fontsize=7)\n",
    "    plt.hlines(thresholds[i],chrmid[1],19*(10**6),\n",
    "               linestyle='--',linewidth=0.5)\n",
    "    \n",
    "    plt.text(x=chrmid[0],y=thresholds[i],\n",
    "             s=r'$\\alpha = 0.05$',va='center',ha='center')\n",
    "    \n",
    "    for c,chrom in enumerate(chrlist):\n",
    "        temp = pval_df[(pval_df.Chrom==chrom)][['Pos',p]]\n",
    "        \n",
    "        plt.plot(temp.Pos+cumpos[c],temp[p],'.',ms=3,\n",
    "                 alpha=0.8,\n",
    "                 color=QTL_color[i] if chrom == 'Chr14' \n",
    "                 else chrom_colors[c%len(chrom_colors)])\n",
    "        \n",
    "    plt.ylim(-0.1,6)\n",
    "    plt.ylabel('$-\\log_{10}\\,(p-value)$',fontsize=12);\n",
    "    plt.xlabel('Chromosome',fontsize=12)\n",
    "\n",
    "\n",
    "for i in range(6):\n",
    "    [ax.ravel()[i].spines[a].set_visible(False) for a in ['top','right']]\n",
    "\n",
    "plt.subplots_adjust(hspace=0.5,wspace=0.57)\n",
    "#plt.savefig('./Capsule_Cell_Residuals_QTL.png',\n",
    "plt.savefig('/home/croth/QTL_FIGS/SUPP/FIGS/S2_Fig.pdf',\n",
    "            dpi=300,bbox_inches='tight');"
   ]
  },
  {
   "cell_type": "code",
   "execution_count": 58,
   "metadata": {},
   "outputs": [
    {
     "data": {
      "image/png": "[encoded data removed]",
      "text/plain": [
       "<Figure size 432x288 with 1 Axes>"
      ]
     },
     "metadata": {
      "needs_background": "light"
     },
     "output_type": "display_data"
    }
   ],
   "source": [
    "[plt.plot(ch14.Pos/kb,\n",
    "        ch14[p].values,'.',label='\\n'.join(p.split('_'))) \n",
    " for p in residuals_phenos[::-1]];\n",
    "plt.legend(title='QTL');"
   ]
  },
  {
   "cell_type": "code",
   "execution_count": 59,
   "metadata": {},
   "outputs": [
    {
     "data": {
      "text/html": [
       "<div>\n",
       "<style scoped>\n",
       "    .dataframe tbody tr th:only-of-type {\n",
       "        vertical-align: middle;\n",
       "    }\n",
       "\n",
       "    .dataframe tbody tr th {\n",
       "        vertical-align: top;\n",
       "    }\n",
       "\n",
       "    .dataframe thead th {\n",
       "        text-align: right;\n",
       "    }\n",
       "</style>\n",
       "<table border=\"1\" class=\"dataframe\">\n",
       "  <thead>\n",
       "    <tr style=\"text-align: right;\">\n",
       "      <th></th>\n",
       "      <th>Sample</th>\n",
       "      <th>Date</th>\n",
       "      <th>Cell_and_Capsule</th>\n",
       "      <th>Cell</th>\n",
       "      <th>Capsule</th>\n",
       "      <th>Cell_and_Capsule_diameter</th>\n",
       "      <th>Cell_diameter</th>\n",
       "      <th>Capsule_diameter</th>\n",
       "      <th>Circles</th>\n",
       "      <th>Residual</th>\n",
       "      <th>QTL</th>\n",
       "      <th>Predicted</th>\n",
       "      <th>Cell_Diameter_Residual</th>\n",
       "      <th>Capsule_Diameter_Residual</th>\n",
       "      <th>Cell_Diameter_Residual_QTL</th>\n",
       "      <th>Capsule_Diameter_Residual_QTL</th>\n",
       "      <th>Chromosome 14\\nQTL Allele</th>\n",
       "    </tr>\n",
       "    <tr>\n",
       "      <th>Sample</th>\n",
       "      <th></th>\n",
       "      <th></th>\n",
       "      <th></th>\n",
       "      <th></th>\n",
       "      <th></th>\n",
       "      <th></th>\n",
       "      <th></th>\n",
       "      <th></th>\n",
       "      <th></th>\n",
       "      <th></th>\n",
       "      <th></th>\n",
       "      <th></th>\n",
       "      <th></th>\n",
       "      <th></th>\n",
       "      <th></th>\n",
       "      <th></th>\n",
       "      <th></th>\n",
       "    </tr>\n",
       "  </thead>\n",
       "  <tbody>\n",
       "    <tr>\n",
       "      <th>SS-B364</th>\n",
       "      <td>SS-B364</td>\n",
       "      <td>nd</td>\n",
       "      <td>16556.5</td>\n",
       "      <td>2292.0</td>\n",
       "      <td>14235.0</td>\n",
       "      <td>144.75283</td>\n",
       "      <td>53.960829</td>\n",
       "      <td>84.486981</td>\n",
       "      <td>15</td>\n",
       "      <td>10.581925</td>\n",
       "      <td>0.0</td>\n",
       "      <td>73.905056</td>\n",
       "      <td>-14.448096</td>\n",
       "      <td>10.581925</td>\n",
       "      <td>0</td>\n",
       "      <td>0</td>\n",
       "      <td>XL280$\\bf{a}$</td>\n",
       "    </tr>\n",
       "  </tbody>\n",
       "</table>\n",
       "</div>"
      ],
      "text/plain": [
       "          Sample Date  Cell_and_Capsule    Cell  Capsule  \\\n",
       "Sample                                                     \n",
       "SS-B364  SS-B364   nd           16556.5  2292.0  14235.0   \n",
       "\n",
       "         Cell_and_Capsule_diameter  Cell_diameter  Capsule_diameter  Circles  \\\n",
       "Sample                                                                         \n",
       "SS-B364                  144.75283      53.960829         84.486981       15   \n",
       "\n",
       "          Residual  QTL  Predicted  Cell_Diameter_Residual  \\\n",
       "Sample                                                       \n",
       "SS-B364  10.581925  0.0  73.905056              -14.448096   \n",
       "\n",
       "         Capsule_Diameter_Residual Cell_Diameter_Residual_QTL  \\\n",
       "Sample                                                          \n",
       "SS-B364                  10.581925                          0   \n",
       "\n",
       "        Capsule_Diameter_Residual_QTL Chromosome 14\\nQTL Allele  \n",
       "Sample                                                           \n",
       "SS-B364                             0             XL280$\\bf{a}$  "
      ]
     },
     "execution_count": 59,
     "metadata": {},
     "output_type": "execute_result"
    }
   ],
   "source": [
    "dgg[(dgg.Capsule_diameter>75)]"
   ]
  },
  {
   "cell_type": "code",
   "execution_count": 60,
   "metadata": {},
   "outputs": [
    {
     "data": {
      "text/html": [
       "<div>\n",
       "<style scoped>\n",
       "    .dataframe tbody tr th:only-of-type {\n",
       "        vertical-align: middle;\n",
       "    }\n",
       "\n",
       "    .dataframe tbody tr th {\n",
       "        vertical-align: top;\n",
       "    }\n",
       "\n",
       "    .dataframe thead th {\n",
       "        text-align: right;\n",
       "    }\n",
       "</style>\n",
       "<table border=\"1\" class=\"dataframe\">\n",
       "  <thead>\n",
       "    <tr style=\"text-align: right;\">\n",
       "      <th></th>\n",
       "      <th>Sample</th>\n",
       "      <th>Date</th>\n",
       "      <th>Cell_and_Capsule</th>\n",
       "      <th>Cell</th>\n",
       "      <th>Capsule</th>\n",
       "      <th>Cell_and_Capsule_diameter</th>\n",
       "      <th>Cell_diameter</th>\n",
       "      <th>Capsule_diameter</th>\n",
       "      <th>Circles</th>\n",
       "      <th>Residual</th>\n",
       "      <th>QTL</th>\n",
       "      <th>Predicted</th>\n",
       "      <th>Cell_Diameter_Residual</th>\n",
       "      <th>Capsule_Diameter_Residual</th>\n",
       "      <th>Cell_Diameter_Residual_QTL</th>\n",
       "      <th>Capsule_Diameter_Residual_QTL</th>\n",
       "      <th>Chromosome 14\\nQTL Allele</th>\n",
       "    </tr>\n",
       "    <tr>\n",
       "      <th>Sample</th>\n",
       "      <th></th>\n",
       "      <th></th>\n",
       "      <th></th>\n",
       "      <th></th>\n",
       "      <th></th>\n",
       "      <th></th>\n",
       "      <th></th>\n",
       "      <th></th>\n",
       "      <th></th>\n",
       "      <th></th>\n",
       "      <th></th>\n",
       "      <th></th>\n",
       "      <th></th>\n",
       "      <th></th>\n",
       "      <th></th>\n",
       "      <th></th>\n",
       "      <th></th>\n",
       "    </tr>\n",
       "  </thead>\n",
       "  <tbody>\n",
       "    <tr>\n",
       "      <th>SS-B364</th>\n",
       "      <td>SS-B364</td>\n",
       "      <td>nd</td>\n",
       "      <td>16556.5</td>\n",
       "      <td>2292.0</td>\n",
       "      <td>14235.0</td>\n",
       "      <td>144.75283</td>\n",
       "      <td>53.960829</td>\n",
       "      <td>84.486981</td>\n",
       "      <td>15</td>\n",
       "      <td>10.581925</td>\n",
       "      <td>0.0</td>\n",
       "      <td>73.905056</td>\n",
       "      <td>-14.448096</td>\n",
       "      <td>10.581925</td>\n",
       "      <td>0</td>\n",
       "      <td>0</td>\n",
       "      <td>XL280$\\bf{a}$</td>\n",
       "    </tr>\n",
       "  </tbody>\n",
       "</table>\n",
       "</div>"
      ],
      "text/plain": [
       "          Sample Date  Cell_and_Capsule    Cell  Capsule  \\\n",
       "Sample                                                     \n",
       "SS-B364  SS-B364   nd           16556.5  2292.0  14235.0   \n",
       "\n",
       "         Cell_and_Capsule_diameter  Cell_diameter  Capsule_diameter  Circles  \\\n",
       "Sample                                                                         \n",
       "SS-B364                  144.75283      53.960829         84.486981       15   \n",
       "\n",
       "          Residual  QTL  Predicted  Cell_Diameter_Residual  \\\n",
       "Sample                                                       \n",
       "SS-B364  10.581925  0.0  73.905056              -14.448096   \n",
       "\n",
       "         Capsule_Diameter_Residual Cell_Diameter_Residual_QTL  \\\n",
       "Sample                                                          \n",
       "SS-B364                  10.581925                          0   \n",
       "\n",
       "        Capsule_Diameter_Residual_QTL Chromosome 14\\nQTL Allele  \n",
       "Sample                                                           \n",
       "SS-B364                             0             XL280$\\bf{a}$  "
      ]
     },
     "execution_count": 60,
     "metadata": {},
     "output_type": "execute_result"
    }
   ],
   "source": [
    "dgg[(dgg.Capsule_diameter == dgg.Capsule_diameter.max())]"
   ]
  },
  {
   "cell_type": "code",
   "execution_count": 61,
   "metadata": {},
   "outputs": [],
   "source": [
    "ch14_temp = pval_df[(pval_df.Chrom=='Chr14')].copy()"
   ]
  },
  {
   "cell_type": "code",
   "execution_count": 62,
   "metadata": {},
   "outputs": [],
   "source": [
    "#Melpvals = pd.read_csv('/Users/croth/Downloads/Melanin_QTL_pvalues.csv',index_col=0)\n",
    "#MelQTL = pd.read_csv('/Users/croth/Downloads/Melanin_QTL_Genotype_phenotype.csv')\n",
    "#Melanin = pd.read_csv('../../FILES/Melanin_Phenotypes.csv',index_col=0)\n",
    "#ric8 = pd.read_csv('../../FILES/Chr14/CNN01270.csv',index_col=0)\n",
    "#gff = pd.read_csv('../../FILES/xl280genome.gff3.csv.gz',index_col=0)"
   ]
  },
  {
   "cell_type": "code",
   "execution_count": 63,
   "metadata": {},
   "outputs": [],
   "source": [
    "melanin_pval = pd.read_csv('~/Melanin_QTL_pvalues.csv',index_col=0)"
   ]
  },
  {
   "cell_type": "code",
   "execution_count": 64,
   "metadata": {},
   "outputs": [],
   "source": [
    "ci95_mel = np.array([368955, 403449])# (354015,403043)\n",
    "ci95_res = np.array([354579, 667688.05]) # (354015,431009)"
   ]
  },
  {
   "cell_type": "code",
   "execution_count": 65,
   "metadata": {},
   "outputs": [],
   "source": [
    "pval_df['Mel'] = melanin_pval.Melanin"
   ]
  },
  {
   "cell_type": "code",
   "execution_count": 66,
   "metadata": {},
   "outputs": [
    {
     "data": {
      "text/plain": [
       "(3498, 135)"
      ]
     },
     "execution_count": 66,
     "metadata": {},
     "output_type": "execute_result"
    }
   ],
   "source": [
    "ch14 = pval_df[(pval_df.Chrom=='Chr14')]\n",
    "ch14.shape"
   ]
  },
  {
   "cell_type": "code",
   "execution_count": 67,
   "metadata": {},
   "outputs": [],
   "source": [
    "dgg['QTL'] = dgg['Capsule_Diameter_Residual_QTL']"
   ]
  },
  {
   "cell_type": "code",
   "execution_count": 68,
   "metadata": {},
   "outputs": [
    {
     "data": {
      "text/html": [
       "<div>\n",
       "<style scoped>\n",
       "    .dataframe tbody tr th:only-of-type {\n",
       "        vertical-align: middle;\n",
       "    }\n",
       "\n",
       "    .dataframe tbody tr th {\n",
       "        vertical-align: top;\n",
       "    }\n",
       "\n",
       "    .dataframe thead th {\n",
       "        text-align: right;\n",
       "    }\n",
       "</style>\n",
       "<table border=\"1\" class=\"dataframe\">\n",
       "  <thead>\n",
       "    <tr style=\"text-align: right;\">\n",
       "      <th></th>\n",
       "      <th>Sample</th>\n",
       "      <th>Date</th>\n",
       "      <th>Cell_and_Capsule</th>\n",
       "      <th>Cell</th>\n",
       "      <th>Capsule</th>\n",
       "      <th>Cell_and_Capsule_diameter</th>\n",
       "      <th>Cell_diameter</th>\n",
       "      <th>Capsule_diameter</th>\n",
       "      <th>Circles</th>\n",
       "      <th>Residual</th>\n",
       "      <th>QTL</th>\n",
       "      <th>Predicted</th>\n",
       "      <th>Cell_Diameter_Residual</th>\n",
       "      <th>Capsule_Diameter_Residual</th>\n",
       "      <th>Cell_Diameter_Residual_QTL</th>\n",
       "      <th>Capsule_Diameter_Residual_QTL</th>\n",
       "      <th>Chromosome 14\\nQTL Allele</th>\n",
       "    </tr>\n",
       "    <tr>\n",
       "      <th>Sample</th>\n",
       "      <th></th>\n",
       "      <th></th>\n",
       "      <th></th>\n",
       "      <th></th>\n",
       "      <th></th>\n",
       "      <th></th>\n",
       "      <th></th>\n",
       "      <th></th>\n",
       "      <th></th>\n",
       "      <th></th>\n",
       "      <th></th>\n",
       "      <th></th>\n",
       "      <th></th>\n",
       "      <th></th>\n",
       "      <th></th>\n",
       "      <th></th>\n",
       "      <th></th>\n",
       "    </tr>\n",
       "  </thead>\n",
       "  <tbody>\n",
       "    <tr>\n",
       "      <th>SS-A837</th>\n",
       "      <td>SS-A837</td>\n",
       "      <td>7-120</td>\n",
       "      <td>2954.0</td>\n",
       "      <td>1093.0</td>\n",
       "      <td>1935.5</td>\n",
       "      <td>61.323907</td>\n",
       "      <td>37.304177</td>\n",
       "      <td>25.117309</td>\n",
       "      <td>15</td>\n",
       "      <td>2.144624</td>\n",
       "      <td>1</td>\n",
       "      <td>22.972684</td>\n",
       "      <td>-1.179139</td>\n",
       "      <td>2.144624</td>\n",
       "      <td>1</td>\n",
       "      <td>1</td>\n",
       "      <td>431$\\mathrm{\\alpha}$</td>\n",
       "    </tr>\n",
       "    <tr>\n",
       "      <th>SS-B307</th>\n",
       "      <td>SS-B307</td>\n",
       "      <td>7-120</td>\n",
       "      <td>3015.0</td>\n",
       "      <td>831.0</td>\n",
       "      <td>2065.5</td>\n",
       "      <td>61.958189</td>\n",
       "      <td>32.512533</td>\n",
       "      <td>26.994920</td>\n",
       "      <td>15</td>\n",
       "      <td>3.635013</td>\n",
       "      <td>1</td>\n",
       "      <td>23.359906</td>\n",
       "      <td>-6.198297</td>\n",
       "      <td>3.635013</td>\n",
       "      <td>1</td>\n",
       "      <td>1</td>\n",
       "      <td>431$\\mathrm{\\alpha}$</td>\n",
       "    </tr>\n",
       "    <tr>\n",
       "      <th>SS-B310</th>\n",
       "      <td>SS-B310</td>\n",
       "      <td>7-120</td>\n",
       "      <td>6371.0</td>\n",
       "      <td>2168.0</td>\n",
       "      <td>3964.5</td>\n",
       "      <td>90.064104</td>\n",
       "      <td>52.517844</td>\n",
       "      <td>34.967517</td>\n",
       "      <td>15</td>\n",
       "      <td>-5.550718</td>\n",
       "      <td>0</td>\n",
       "      <td>40.518235</td>\n",
       "      <td>3.725538</td>\n",
       "      <td>-5.550718</td>\n",
       "      <td>0</td>\n",
       "      <td>0</td>\n",
       "      <td>XL280$\\bf{a}$</td>\n",
       "    </tr>\n",
       "    <tr>\n",
       "      <th>SS-B311</th>\n",
       "      <td>SS-B311</td>\n",
       "      <td>7-150</td>\n",
       "      <td>3293.5</td>\n",
       "      <td>1023.5</td>\n",
       "      <td>2096.5</td>\n",
       "      <td>64.756295</td>\n",
       "      <td>36.099316</td>\n",
       "      <td>26.319158</td>\n",
       "      <td>15</td>\n",
       "      <td>1.251042</td>\n",
       "      <td>1</td>\n",
       "      <td>25.068117</td>\n",
       "      <td>-3.615184</td>\n",
       "      <td>1.251042</td>\n",
       "      <td>1</td>\n",
       "      <td>1</td>\n",
       "      <td>431$\\mathrm{\\alpha}$</td>\n",
       "    </tr>\n",
       "    <tr>\n",
       "      <th>SS-B312</th>\n",
       "      <td>SS-B312</td>\n",
       "      <td>11-22</td>\n",
       "      <td>7008.5</td>\n",
       "      <td>1610.0</td>\n",
       "      <td>5398.5</td>\n",
       "      <td>94.452263</td>\n",
       "      <td>45.269625</td>\n",
       "      <td>47.179251</td>\n",
       "      <td>15</td>\n",
       "      <td>3.982097</td>\n",
       "      <td>0</td>\n",
       "      <td>43.197154</td>\n",
       "      <td>-5.096695</td>\n",
       "      <td>3.982097</td>\n",
       "      <td>0</td>\n",
       "      <td>0</td>\n",
       "      <td>XL280$\\bf{a}$</td>\n",
       "    </tr>\n",
       "  </tbody>\n",
       "</table>\n",
       "</div>"
      ],
      "text/plain": [
       "          Sample   Date  Cell_and_Capsule    Cell  Capsule  \\\n",
       "Sample                                                       \n",
       "SS-A837  SS-A837  7-120            2954.0  1093.0   1935.5   \n",
       "SS-B307  SS-B307  7-120            3015.0   831.0   2065.5   \n",
       "SS-B310  SS-B310  7-120            6371.0  2168.0   3964.5   \n",
       "SS-B311  SS-B311  7-150            3293.5  1023.5   2096.5   \n",
       "SS-B312  SS-B312  11-22            7008.5  1610.0   5398.5   \n",
       "\n",
       "         Cell_and_Capsule_diameter  Cell_diameter  Capsule_diameter  Circles  \\\n",
       "Sample                                                                         \n",
       "SS-A837                  61.323907      37.304177         25.117309       15   \n",
       "SS-B307                  61.958189      32.512533         26.994920       15   \n",
       "SS-B310                  90.064104      52.517844         34.967517       15   \n",
       "SS-B311                  64.756295      36.099316         26.319158       15   \n",
       "SS-B312                  94.452263      45.269625         47.179251       15   \n",
       "\n",
       "         Residual QTL  Predicted  Cell_Diameter_Residual  \\\n",
       "Sample                                                     \n",
       "SS-A837  2.144624   1  22.972684               -1.179139   \n",
       "SS-B307  3.635013   1  23.359906               -6.198297   \n",
       "SS-B310 -5.550718   0  40.518235                3.725538   \n",
       "SS-B311  1.251042   1  25.068117               -3.615184   \n",
       "SS-B312  3.982097   0  43.197154               -5.096695   \n",
       "\n",
       "         Capsule_Diameter_Residual Cell_Diameter_Residual_QTL  \\\n",
       "Sample                                                          \n",
       "SS-A837                   2.144624                          1   \n",
       "SS-B307                   3.635013                          1   \n",
       "SS-B310                  -5.550718                          0   \n",
       "SS-B311                   1.251042                          1   \n",
       "SS-B312                   3.982097                          0   \n",
       "\n",
       "        Capsule_Diameter_Residual_QTL Chromosome 14\\nQTL Allele  \n",
       "Sample                                                           \n",
       "SS-A837                             1      431$\\mathrm{\\alpha}$  \n",
       "SS-B307                             1      431$\\mathrm{\\alpha}$  \n",
       "SS-B310                             0             XL280$\\bf{a}$  \n",
       "SS-B311                             1      431$\\mathrm{\\alpha}$  \n",
       "SS-B312                             0             XL280$\\bf{a}$  "
      ]
     },
     "execution_count": 68,
     "metadata": {},
     "output_type": "execute_result"
    }
   ],
   "source": [
    "dgg.head()"
   ]
  },
  {
   "cell_type": "code",
   "execution_count": 69,
   "metadata": {},
   "outputs": [],
   "source": [
    "mod_res = smf.ols('Capsule_Diameter_Residual ~ QTL',data=dgg).fit()\n",
    "cap_res_r = np.round(mod_res.rsquared,2)"
   ]
  },
  {
   "cell_type": "code",
   "execution_count": 70,
   "metadata": {},
   "outputs": [
    {
     "data": {
      "text/plain": [
       "0.17"
      ]
     },
     "execution_count": 70,
     "metadata": {},
     "output_type": "execute_result"
    }
   ],
   "source": [
    "cap_res_r"
   ]
  },
  {
   "cell_type": "code",
   "execution_count": 71,
   "metadata": {},
   "outputs": [
    {
     "data": {
      "image/png": "[encoded data removed]",
      "text/plain": [
       "<Figure size 468x504 with 4 Axes>"
      ]
     },
     "metadata": {
      "needs_background": "light"
     },
     "output_type": "display_data"
    }
   ],
   "source": [
    "residual_threshold = 4.1267\n",
    "width = 6.5\n",
    "height = 7\n",
    "fig = plt.figure(figsize=(width,height))\n",
    "gs = fig.add_gridspec(3,4)\n",
    "fs = 10\n",
    "ax1 = fig.add_subplot(gs[0, :2])\n",
    "ax2 = fig.add_subplot(gs[0,2:])\n",
    "ax3 = fig.add_subplot(gs[1,:])\n",
    "ax4 = fig.add_subplot(gs[2,:2])\n",
    "\n",
    "plt.sca(ax1)\n",
    "[ax1.spines[a].set_visible(False) for a in ['top','right']]\n",
    "x = 'Cell_and_Capsule_diameter'\n",
    "y = 'Capsule_diameter'\n",
    "plt.text(40,90,'$R^2 = %s$'%np.round(caps_mod.rsquared,2),\n",
    "         fontsize=fs,color='k',va='center',alpha=.8)\n",
    "\n",
    "sns.regplot(x=x,y=y,\n",
    "           data=dgg,order=1,\n",
    "           line_kws={'color':'grey','alpha':.2}, \n",
    "           scatter_kws={'color':'k','alpha':0.0});\n",
    "\n",
    "plt.plot(dgg[(dgg.QTL==0)][x].values,\n",
    "         dgg[(dgg.QTL==0)][y].values,'.',\n",
    "         color='tab:blue',alpha=0.64,label=xl280_label)\n",
    "\n",
    "plt.plot(dgg[(dgg.QTL==1)][x].values,\n",
    "         dgg[(dgg.QTL==1)][y].values,'.',\n",
    "         color='tab:orange',alpha=0.64,label=_431_label)\n",
    "\n",
    "plt.legend(title='Chromosome 14 QTL Allele',markerscale=3.0,\n",
    "           fontsize=fs, bbox_to_anchor=(0.9,1.6),frameon=False)\n",
    "\n",
    "plt.ylabel('Capsule Diameter (\\u03BCm)',fontsize=fs)\n",
    "plt.xlabel('Cell and Capsule\\nDiameter (\\u03BCm)',fontsize=fs)\n",
    "plt.yticks(np.arange(0,120,20))    \n",
    "\n",
    "plt.sca(ax2)\n",
    "\n",
    "for i, a in enumerate(dgg.groupby('QTL')):\n",
    "    \n",
    "    plt.hist(a[1].Residual,alpha=0.5,bins=10,\n",
    "    label=xl280_label if i == 0 else _431_label);\n",
    "\n",
    "plt.vlines(dgg.T[['XL280a','SS-A837']].T.Residual,\n",
    "           0,1,color='k',linewidth=1,alpha=0.75);\n",
    "plt.text(x=dgg.T['SS-A837'].T.Residual+0.75,y=1,\n",
    "         s=_431_label,fontsize=fs,va='bottom',ha='right')\n",
    "plt.text(x=dgg.T['XL280a'].T.Residual-0.75,y=1,\n",
    "         s=xl280_label,fontsize=fs,va='bottom',ha='left');\n",
    "plt.xlabel('Capsule Diameter\\nResiduals (\\u03BCm)',fontsize=fs);\n",
    "plt.ylabel('Number of Progeny',fontsize=fs);\n",
    "plt.yticks(np.arange(0,16,2))\n",
    "plt.legend(title='Chromosome 14 QTL Allele',\n",
    "           fontsize=fs, bbox_to_anchor=(0.9,1.6),frameon=False)\n",
    "[ax2.spines[a].set_visible(False) for a in ['top','right']]\n",
    "plt.text(-1.5,12.4,s='$R^2$ = %s'%cap_res_r,va='center',\n",
    "         ha='right',fontsize=fs,rasterized=True,\n",
    "         color='k',alpha=.8)\n",
    "\n",
    "###### ----------------------------------------------------------- ######\n",
    "chrom_colors = ['tab:grey','tab:brown','lightgrey','salmon','tan']\n",
    "plt.sca(ax3)\n",
    "[ax3.spines[a].set_visible(False) for a in ['top','right']]\n",
    "for c in chrlist:\n",
    "    i = int(c[-2:]) -1\n",
    "    if c == 'Chr14':\n",
    "        cc = 'tab:blue'\n",
    "    else:\n",
    "        cc = chrom_colors[i%len(chrom_colors)]\n",
    "    temp = pval_df[(pval_df.Chrom==c)]\n",
    "    plt.plot(temp.Pos.values+cumpos[i],\n",
    "             temp.Capsule_Diameter_Residual.values,\n",
    "             '.',alpha=0.5,markersize=2,color=cc)\n",
    "plt.hlines(residual_threshold,chrmid[1],19*(10**6),linestyle='--',\n",
    "           linewidth=0.8)#,label='\\u03B1 = 0.01')\n",
    "plt.xticks(chrmid,[int(a[-2:]) for a in chrlist]);\n",
    "plt.ylabel('$-\\log_{10}\\,(p-value)$',fontsize=fs);\n",
    "plt.xlabel('Chromosome',fontsize=fs)\n",
    "plt.text(x=chrmid[0],y=residual_threshold ,s='\\u03B1 = 0.01',\n",
    "         va='center',ha='center',fontsize=fs)    \n",
    "    \n",
    "###### ----------------------- Capsule and Melanin QTL overlap plot -------------------- #######    \n",
    "plt.sca(ax4)\n",
    "\n",
    "[ax4.spines[a].set_visible(False) for a in ['top','right']]\n",
    "kb = 1000\n",
    "yp = -0.05\n",
    "ls = 0.05\n",
    "plt.plot(ch14.Pos.values/kb,myminmax(ch14.Capsule_Diameter_Residual.values),\n",
    "         'r.',alpha=0.5,markersize=1)\n",
    "plt.hlines(yp,*ci95_res/kb,color='r', label='Capsule Residual\\nQTL and 95% CI');\n",
    "plt.vlines(ci95_res/kb,yp-ls,yp+ls,color='r');\n",
    "\n",
    "plt.plot(ch14.Pos.values/kb,myminmax(ch14.Mel.values),'.k',\n",
    "         alpha=0.5,markersize=1)\n",
    "plt.hlines(yp+0.05,*ci95_mel/kb,color='k',label='Melanization\\nQTL and 95% CI');\n",
    "plt.vlines(ci95_mel/kb ,yp+0.05-ls,yp+0.05+ls,color='k');#\n",
    "\n",
    "plt.hlines(-0.13,568029/kb,644419/kb,color='blue',linewidth=7);     \n",
    "plt.ylim(-0.14,1.1)\n",
    "plt.yticks([0,1])\n",
    "plt.legend(bbox_to_anchor=(1.05,1),fontsize=fs,frameon=False);\n",
    "plt.xlabel('Chromosome 14 Coordinates (kb)',fontsize=fs);\n",
    "plt.ylabel('Normalized\\n$-\\log_{10}\\,(p-value)$',fontsize=fs);\n",
    "\n",
    "plt.subplots_adjust(wspace=0.9,hspace=0.55)\n",
    "\n",
    "\n",
    "fig.text(0.01,.975,'A',fontsize=fs,fontweight='bold')\n",
    "fig.text(0.48,.975,'B',fontsize=fs,fontweight='bold')\n",
    "fig.text(0.01,.6,'C',fontsize=fs,fontweight='bold')\n",
    "fig.text(0.01,.32,'D',fontsize=fs,fontweight='bold')\n",
    "\n",
    "mydpi = 600\n",
    "qtlpaper_save = '/home/croth/QTL_FIGS/MAIN/Fig2.tiff'\n",
    "plt.savefig(qtlpaper_save,\n",
    "           dpi=mydpi,bbox_inches='tight',compression='tiff_lzw');\n",
    "\n",
    "plt.savefig('/home/croth/QTL_FIGS/MAIN/PDFs/Fig2.pdf',\n",
    "            dpi=mydpi,bbox_inches='tight',pad_inches=1)\n",
    "\n",
    "im = Image.open(qtlpaper_save)\n",
    "w,h = im.size\n",
    "\n",
    "assert w/mydpi > 2.63\n",
    "assert w/mydpi < 7.5\n",
    "assert h/mydpi < 8.5\n",
    "    \n",
    "im.save(qtlpaper_save,compression='tiff_lzw')"
   ]
  },
  {
   "cell_type": "code",
   "execution_count": 72,
   "metadata": {},
   "outputs": [
    {
     "ename": "AssertionError",
     "evalue": "",
     "output_type": "error",
     "traceback": [
      "\u001b[0;31m---------------------------------------------------------------------------\u001b[0m",
      "\u001b[0;31mAssertionError\u001b[0m                            Traceback (most recent call last)",
      "\u001b[0;32m<ipython-input-72-e99f91a18d62>\u001b[0m in \u001b[0;36m<module>\u001b[0;34m\u001b[0m\n\u001b[0;32m----> 1\u001b[0;31m \u001b[0;32massert\u001b[0m \u001b[0;36m1\u001b[0m \u001b[0;34m==\u001b[0m \u001b[0;36m0\u001b[0m\u001b[0;34m\u001b[0m\u001b[0;34m\u001b[0m\u001b[0m\n\u001b[0m",
      "\u001b[0;31mAssertionError\u001b[0m: "
     ]
    }
   ],
   "source": [
    "assert 1 == 0"
   ]
  },
  {
   "cell_type": "code",
   "execution_count": null,
   "metadata": {},
   "outputs": [],
   "source": []
  },
  {
   "cell_type": "code",
   "execution_count": null,
   "metadata": {},
   "outputs": [],
   "source": []
  },
  {
   "cell_type": "code",
   "execution_count": null,
   "metadata": {},
   "outputs": [],
   "source": [
    "im = Image.open('/home/croth/QTL_FIGS/test2.tiff')\n",
    "w,h = im.size"
   ]
  },
  {
   "cell_type": "code",
   "execution_count": null,
   "metadata": {},
   "outputs": [],
   "source": [
    "w/300,w"
   ]
  },
  {
   "cell_type": "code",
   "execution_count": null,
   "metadata": {},
   "outputs": [],
   "source": [
    "h/300,h"
   ]
  },
  {
   "cell_type": "code",
   "execution_count": null,
   "metadata": {},
   "outputs": [],
   "source": [
    "ss.normaltest(dgg.Cell_diameter.values)"
   ]
  },
  {
   "cell_type": "code",
   "execution_count": null,
   "metadata": {},
   "outputs": [],
   "source": [
    "ss.shapiro(dgg.Cell_diameter.values)"
   ]
  },
  {
   "cell_type": "code",
   "execution_count": null,
   "metadata": {},
   "outputs": [],
   "source": [
    "ss.normaltest(np.log(dgg.Cell_diameter.values))"
   ]
  },
  {
   "cell_type": "code",
   "execution_count": null,
   "metadata": {},
   "outputs": [],
   "source": [
    "ss.shapiro(np.log(dgg.Cell_diameter.values))"
   ]
  },
  {
   "cell_type": "code",
   "execution_count": null,
   "metadata": {},
   "outputs": [],
   "source": [
    "plt.hist(np.sqrt(dgg.Cell_diameter.values));"
   ]
  },
  {
   "cell_type": "code",
   "execution_count": null,
   "metadata": {},
   "outputs": [],
   "source": [
    "def crypto_kruskal(site,pheno):\n",
    "    refxpheno = np.array(pheno,dtype=float)[np.array(site)==0]\n",
    "    altxpheno = np.array(pheno,dtype=float)[np.array(site)==1]\n",
    "    return -np.log10(ss.kruskal(refxpheno,altxpheno)[1])"
   ]
  },
  {
   "cell_type": "code",
   "execution_count": null,
   "metadata": {},
   "outputs": [],
   "source": [
    "## conduct QTL mapping\n",
    "test = gv[dgg.Sample.unique()].drop_duplicates()\n",
    "\n",
    "test['Capsule_diameter'] = test.apply(crypto_kruskal,\n",
    "                             args=[np.log(np.array(dgg.T[dgg.Sample.unique()].T['Cell_diameter'].values,float)) ],axis=1)\n",
    "pval_df = gv.merge(test)"
   ]
  },
  {
   "cell_type": "code",
   "execution_count": null,
   "metadata": {},
   "outputs": [],
   "source": [
    "pval_df.head()"
   ]
  },
  {
   "cell_type": "markdown",
   "metadata": {},
   "source": [
    "perms = []\n",
    "kbs = 1000\n",
    "\n",
    "while len(perms) < kbs:\n",
    "    \n",
    "    mp = test[segs].apply(association_logPval,\n",
    "        args=[np.random.permutation(np.log(np.array(dgg.T[segs].T['Capsule_diameter'].values,float)))],\n",
    "                    axis=1).max()\n",
    "    perms.append(mp)"
   ]
  },
  {
   "cell_type": "code",
   "execution_count": null,
   "metadata": {},
   "outputs": [],
   "source": []
  },
  {
   "cell_type": "code",
   "execution_count": null,
   "metadata": {},
   "outputs": [],
   "source": [
    "#plt.title(label='C',fontweight='bold',fontsize=14,x=0,y=1)\n",
    "fig,ax=plt.subplots(1,1,figsize=(10,3))\n",
    "for i,c in enumerate(chrlist):\n",
    "    \n",
    "    temp = pval_df[(pval_df.Chrom==c)]\n",
    "    plt.plot(temp.Pos.values+cumpos[i],\n",
    "             temp.Capsule_diameter.values,\n",
    "             '.',alpha=0.5,markersize=3);\n",
    "plt.hlines(np.percentile(perms,95),0,19*(10**6),linestyle='--',\n",
    "           linewidth=1)#,label='\\u03B1 = 0.01')\n",
    "plt.xticks(chrmid,[int(a[-2:]) for a in chrlist]);\n",
    "plt.ylabel('$-\\log_{10}\\,(p-value)$',fontsize=14);\n",
    "plt.xlabel('Chromosome',fontsize=14);\n",
    "#plt.text(x=chrmid[0],y=cell_diameter_threshold ,s='\\u03B1 = 0.01',\n",
    "#         va='center',ha='center',fontsize=14);"
   ]
  },
  {
   "cell_type": "code",
   "execution_count": null,
   "metadata": {},
   "outputs": [],
   "source": [
    "((test.shape[0]**2) - test.shape[0])/2"
   ]
  },
  {
   "cell_type": "code",
   "execution_count": null,
   "metadata": {},
   "outputs": [],
   "source": [
    "chr2ix = pval_df[(pval_df.Chrom=='Chr02')].Cell_size.idxmax()"
   ]
  },
  {
   "cell_type": "code",
   "execution_count": null,
   "metadata": {},
   "outputs": [],
   "source": [
    "chr14ix = pval_df[(pval_df.Chrom=='Chr14')].Cell_size.idxmax()"
   ]
  },
  {
   "cell_type": "code",
   "execution_count": null,
   "metadata": {},
   "outputs": [],
   "source": [
    "dgg['Cell_diameter_QTL2']=np.array(pval_df.T[chr2ix].T[dgg.index],dtype=float)"
   ]
  },
  {
   "cell_type": "code",
   "execution_count": null,
   "metadata": {},
   "outputs": [],
   "source": [
    "dgg['Cell_diameter_QTL14']=np.array(pval_df.T[chr14ix].T[dgg.index],dtype=float)"
   ]
  },
  {
   "cell_type": "code",
   "execution_count": null,
   "metadata": {},
   "outputs": [],
   "source": [
    "sns.lmplot(x='Cell_diameter_QTL2',y='Cell',\n",
    "           data=dgg,hue='Cell_diameter_QTL14',x_jitter=0.2);"
   ]
  },
  {
   "cell_type": "code",
   "execution_count": null,
   "metadata": {},
   "outputs": [],
   "source": []
  },
  {
   "cell_type": "code",
   "execution_count": null,
   "metadata": {},
   "outputs": [],
   "source": [
    "dgg['Cell_']"
   ]
  },
  {
   "cell_type": "code",
   "execution_count": null,
   "metadata": {},
   "outputs": [],
   "source": [
    "smf.ols('Cell_diameter ~ ' , data=dgg)"
   ]
  },
  {
   "cell_type": "code",
   "execution_count": null,
   "metadata": {},
   "outputs": [],
   "source": [
    "smf.ols()"
   ]
  },
  {
   "cell_type": "code",
   "execution_count": null,
   "metadata": {},
   "outputs": [],
   "source": [
    "plt.plot(pval_df[(pval_df.Chrom=='Chr14')].Pos.values,\n",
    "         pval_df[(pval_df.Chrom=='Chr14')].Cell_size.values,'.');\n",
    "\n",
    "plt.plot(pval_df[(pval_df.Chrom=='Chr14')].Pos.values,\n",
    "         pval_df[(pval_df.Chrom=='Chr14')].Residual.values,'.');"
   ]
  },
  {
   "cell_type": "code",
   "execution_count": null,
   "metadata": {},
   "outputs": [],
   "source": [
    "dgg['QTL2'] = pval_df[dgg.index].T[pval_df[(pval_df.Chrom=='Chr02')]['Cell_size'].idxmax()]"
   ]
  },
  {
   "cell_type": "code",
   "execution_count": null,
   "metadata": {},
   "outputs": [],
   "source": [
    "dgg['QTL142'] = pval_df[dgg.index].T[pval_df[(pval_df.Chrom=='Chr14')]['Cell_size'].idxmax()]"
   ]
  },
  {
   "cell_type": "code",
   "execution_count": null,
   "metadata": {},
   "outputs": [],
   "source": [
    "fig,ax = plt.subplots(1,1,figsize=(6,4))\n",
    "\n",
    "for i, a in enumerate(dgg.groupby('QTL')):\n",
    "    \n",
    "    plt.hist(a[1].Residual,alpha=0.5,bins=10,\n",
    "    label=xl280_label if i == 0 else _431_label);\n",
    "plt.legend(title='Chromosome 14 QTL Allele',fontsize=14)\n",
    "plt.vlines(dgg.T[['XL280a','SS-A837']].T.Residual,\n",
    "           0,1,color='k',linewidth=1,alpha=0.75);\n",
    "plt.text(x=dgg.T['SS-A837'].T.Residual,y=1,\n",
    "         s=_431_label,fontsize=14,va='bottom',ha='right')\n",
    "plt.text(x=dgg.T['XL280a'].T.Residual,y=1,\n",
    "         s=xl280_label,fontsize=14,va='bottom',ha='left');\n",
    "plt.xlabel('Capsule Diameter Residuals (\\u03BCm)',fontsize=14);\n",
    "plt.ylabel('Number of Segregants',fontsize=14);\n",
    "plt.savefig('/Users/croth/Desktop/DISFIGS/ch4/Cdx_Annulus_Residuals.png',\n",
    "           dpi=150,bbox_inches='tight');"
   ]
  },
  {
   "cell_type": "code",
   "execution_count": null,
   "metadata": {},
   "outputs": [],
   "source": [
    "assert 1 == 0"
   ]
  },
  {
   "cell_type": "code",
   "execution_count": null,
   "metadata": {},
   "outputs": [],
   "source": [
    "dgg.head()"
   ]
  },
  {
   "cell_type": "code",
   "execution_count": null,
   "metadata": {},
   "outputs": [],
   "source": [
    "ci95_res[0]"
   ]
  },
  {
   "cell_type": "code",
   "execution_count": null,
   "metadata": {},
   "outputs": [],
   "source": [
    "myminmax(ch14p.Residual.values)"
   ]
  },
  {
   "cell_type": "code",
   "execution_count": null,
   "metadata": {},
   "outputs": [],
   "source": [
    "dgg.shape"
   ]
  },
  {
   "cell_type": "code",
   "execution_count": null,
   "metadata": {},
   "outputs": [],
   "source": [
    "sns.swarmplot(x='QTL',y='Residual',data=dgg);"
   ]
  },
  {
   "cell_type": "code",
   "execution_count": null,
   "metadata": {},
   "outputs": [],
   "source": [
    "dgg.groupby('QTL').Residual.hist(alpha=0.5);"
   ]
  },
  {
   "cell_type": "code",
   "execution_count": null,
   "metadata": {},
   "outputs": [],
   "source": [
    "dgg.to_csv('/Users/croth/Desktop/CRYPTO_QTL/FILES/Capsule_Phenotypes.csv',index=True)"
   ]
  },
  {
   "cell_type": "code",
   "execution_count": null,
   "metadata": {},
   "outputs": [],
   "source": [
    "pval_df.head()"
   ]
  },
  {
   "cell_type": "code",
   "execution_count": null,
   "metadata": {},
   "outputs": [],
   "source": [
    "pval_df[['Chrom','Pos','Residual']\n",
    "       ].to_csv('/Users/croth/Desktop/CRYPTO_QTL/FILES/Capsule_Pval.csv',\n",
    "               index=True)"
   ]
  },
  {
   "cell_type": "code",
   "execution_count": null,
   "metadata": {},
   "outputs": [],
   "source": [
    "dgg['Mito'] = [float(a) for a in median_mito[dgg.index].T.values]\n",
    "dgg['QTL'] = dgg['QTL'].apply(float)"
   ]
  },
  {
   "cell_type": "code",
   "execution_count": null,
   "metadata": {},
   "outputs": [],
   "source": [
    "dgg.head()"
   ]
  },
  {
   "cell_type": "code",
   "execution_count": null,
   "metadata": {},
   "outputs": [],
   "source": [
    "sns.lmplot(x='QTL',y='Residual',hue='Mito',data=dgg)"
   ]
  },
  {
   "cell_type": "code",
   "execution_count": null,
   "metadata": {},
   "outputs": [],
   "source": [
    "median_mito.to_csv('../../FILES/Cdx-mitochondiral-median.csv')"
   ]
  },
  {
   "cell_type": "code",
   "execution_count": null,
   "metadata": {},
   "outputs": [],
   "source": []
  },
  {
   "cell_type": "code",
   "execution_count": null,
   "metadata": {},
   "outputs": [],
   "source": [
    "residual_threshold"
   ]
  },
  {
   "cell_type": "code",
   "execution_count": null,
   "metadata": {},
   "outputs": [],
   "source": [
    "ssa837[y].values"
   ]
  },
  {
   "cell_type": "code",
   "execution_count": null,
   "metadata": {},
   "outputs": [],
   "source": [
    "MelQTL.index = MelQTL.strain"
   ]
  },
  {
   "cell_type": "code",
   "execution_count": null,
   "metadata": {},
   "outputs": [],
   "source": [
    "MelQTL.head()"
   ]
  },
  {
   "cell_type": "code",
   "execution_count": null,
   "metadata": {},
   "outputs": [],
   "source": [
    "dgg['Mel'] = MelQTL.T[dgg.index].T['MC']"
   ]
  },
  {
   "cell_type": "code",
   "execution_count": null,
   "metadata": {},
   "outputs": [],
   "source": [
    "plt.plot(np.argsort(dgg.Mel.values),np.argsort(dgg.Residual.values),'.');"
   ]
  },
  {
   "cell_type": "code",
   "execution_count": null,
   "metadata": {},
   "outputs": [],
   "source": [
    "plt.plot(dgg[(dgg.QTL==0)].Residual,dgg[(dgg.QTL==0)].Mel,'o',color='tab:blue')\n",
    "plt.plot(dgg[(dgg.QTL==1)].Residual,dgg[(dgg.QTL==1)].Mel,'o',color='tab:orange');"
   ]
  },
  {
   "cell_type": "code",
   "execution_count": null,
   "metadata": {},
   "outputs": [],
   "source": []
  },
  {
   "cell_type": "code",
   "execution_count": null,
   "metadata": {},
   "outputs": [],
   "source": []
  },
  {
   "cell_type": "code",
   "execution_count": null,
   "metadata": {},
   "outputs": [],
   "source": [
    "pval_df[(pval_df.Chrom=='Chr14') & (pval_df.Residual>=residual_threshold) & \n",
    "        (pval_df.Pos>=ci95_res[0]) & (pval_df.Pos<=ci95_res[1])].shape"
   ]
  },
  {
   "cell_type": "code",
   "execution_count": null,
   "metadata": {},
   "outputs": [],
   "source": [
    "minpos = pval_df[(pval_df.Chrom=='Chr14') & (pval_df.Residual>=residual_threshold)].Pos.min()\n",
    "minpos"
   ]
  },
  {
   "cell_type": "code",
   "execution_count": null,
   "metadata": {},
   "outputs": [],
   "source": [
    "maxpos = pval_df[(pval_df.Chrom=='Chr14') & (pval_df.Residual>=residual_threshold)].Pos.max()\n",
    "maxpos"
   ]
  },
  {
   "cell_type": "code",
   "execution_count": null,
   "metadata": {},
   "outputs": [],
   "source": [
    "left_pos = gv[(gv.Block==gv[(gv.Chrom=='Chr14') & (gv.Pos==minpos)].Block.min())].Pos.min()"
   ]
  },
  {
   "cell_type": "code",
   "execution_count": null,
   "metadata": {},
   "outputs": [],
   "source": [
    "right_pos = gv[(gv.Block==gv[(gv.Chrom=='Chr14') & (gv.Pos==maxpos)].Block.min())].Pos.max()"
   ]
  },
  {
   "cell_type": "code",
   "execution_count": null,
   "metadata": {},
   "outputs": [],
   "source": [
    "chr14_genes = gff[(gff.contig=='Chr14') & (gff.end > left_pos) & (gff.start < right_pos) & (gff.type=='gene')]"
   ]
  },
  {
   "cell_type": "code",
   "execution_count": null,
   "metadata": {},
   "outputs": [],
   "source": [
    "chr14_genes.head()"
   ]
  },
  {
   "cell_type": "code",
   "execution_count": null,
   "metadata": {},
   "outputs": [],
   "source": [
    "chr14_genes.shape"
   ]
  },
  {
   "cell_type": "code",
   "execution_count": null,
   "metadata": {},
   "outputs": [],
   "source": [
    "genes = pd.read_csv('../../FILES/XL280_431_gene_analysis.csv.gz')"
   ]
  },
  {
   "cell_type": "code",
   "execution_count": null,
   "metadata": {},
   "outputs": [],
   "source": [
    "ch14_gene_info = chr14_genes.merge(genes[(genes.chrom=='Chr14')])"
   ]
  },
  {
   "cell_type": "code",
   "execution_count": null,
   "metadata": {},
   "outputs": [],
   "source": [
    "chr14_genes[~(chr14_genes.gene.isin(ch14_gene_info.gene))]"
   ]
  },
  {
   "cell_type": "code",
   "execution_count": null,
   "metadata": {},
   "outputs": [],
   "source": [
    "ch14_gene_info[(ch14_gene_info.missense!=0)][['gene','start','end','strand','phase',\n",
    "                'attribute','description','nonsense','missense'\n",
    "                                ]].to_csv('../../FILES/Chr14_genes_with_changes.csv')"
   ]
  },
  {
   "cell_type": "code",
   "execution_count": null,
   "metadata": {},
   "outputs": [],
   "source": [
    "#dggp.reset_index(inplace=True)"
   ]
  },
  {
   "cell_type": "code",
   "execution_count": null,
   "metadata": {},
   "outputs": [],
   "source": [
    "chr14_df = dggp.copy()\n",
    "chr14_df.columns = ['strain'] + chr14_df.columns[1:].tolist()"
   ]
  },
  {
   "cell_type": "code",
   "execution_count": null,
   "metadata": {},
   "outputs": [],
   "source": [
    "melvr = MelQTL.merge(chr14_df)"
   ]
  },
  {
   "cell_type": "code",
   "execution_count": null,
   "metadata": {},
   "outputs": [],
   "source": [
    "melvr.head()"
   ]
  },
  {
   "cell_type": "code",
   "execution_count": null,
   "metadata": {},
   "outputs": [],
   "source": [
    "melvr[(melvr.strain=='SS-A837')]"
   ]
  },
  {
   "cell_type": "code",
   "execution_count": null,
   "metadata": {},
   "outputs": [],
   "source": [
    "melvr.to_csv('../../FILES/Cdx_capsule_data.csv')"
   ]
  },
  {
   "cell_type": "code",
   "execution_count": null,
   "metadata": {},
   "outputs": [],
   "source": [
    "plt.hist(melvr[(melvr.QTL==0)].Cell,\n",
    "         color='tab:blue',alpha=0.7,label='XL280');\n",
    "plt.hist(melvr[(melvr.QTL==1)].Cell,\n",
    "         color='tab:orange',alpha=0.7,label='431');\n",
    "plt.ylabel('Number of Segregants');plt.xlabel('Capsule (Full) Diameter')\n",
    "plt.vlines(melvr[(melvr.strain=='SS-A837')].Cell,0,8,\n",
    "           color='tab:orange');\n",
    "plt.vlines(melvr[(melvr.strain.isin(['XL280a','XL280alpha']))].Cell,0,8,\n",
    "           color='tab:blue',linestyles=['-','--']);"
   ]
  },
  {
   "cell_type": "code",
   "execution_count": null,
   "metadata": {},
   "outputs": [],
   "source": [
    "plt.hist(melvr[(melvr.QTL==0)].Capsule_diameter,\n",
    "         color='tab:blue',alpha=0.7,label='XL280');\n",
    "plt.hist(melvr[(melvr.QTL==1)].Capsule_diameter,\n",
    "         color='tab:orange',alpha=0.7,label='431');\n",
    "plt.ylabel('Number of Segregants');plt.xlabel('Capsule (Full) Diameter')\n",
    "plt.vlines(melvr[(melvr.strain=='SS-A837')].Capsule_diameter,0,8,\n",
    "           color='tab:orange');\n",
    "plt.vlines(melvr[(melvr.strain.isin(['XL280a','XL280alpha']))].Capsule_diameter,0,8,\n",
    "           color='tab:blue',linestyles=['-','--']);"
   ]
  },
  {
   "cell_type": "code",
   "execution_count": null,
   "metadata": {},
   "outputs": [],
   "source": [
    "plt.hist(melvr[(melvr.QTL==0)].Residual,\n",
    "         color='tab:blue',alpha=0.7,label='XL280');\n",
    "plt.hist(melvr[(melvr.QTL==1)].Residual,\n",
    "         color='tab:orange',alpha=0.7,label='431');\n",
    "plt.ylabel('Number of Segregants');plt.xlabel('Residuals')\n",
    "plt.vlines(melvr[(melvr.strain=='SS-A837')].Residual,0,8,\n",
    "           color='tab:orange');\n",
    "plt.vlines(melvr[(melvr.strain.isin(['XL280a','XL280alpha']))].Residual,0,8,\n",
    "           color='tab:blue',linestyles=['-','--']);"
   ]
  },
  {
   "cell_type": "code",
   "execution_count": null,
   "metadata": {},
   "outputs": [],
   "source": [
    "plt.hist(melvr[(melvr.QTL==0)].Cell_Residual,\n",
    "         color='tab:blue',alpha=0.7,label='XL280');\n",
    "plt.hist(melvr[(melvr.QTL==1)].Cell_Residual,\n",
    "         color='tab:orange',alpha=0.7,label='431');\n",
    "plt.ylabel('Number of Segregants');plt.xlabel('Residuals')\n",
    "plt.vlines(melvr[(melvr.strain=='SS-A837')].Cell_Residual,0,8,\n",
    "           color='tab:orange');\n",
    "plt.vlines(melvr[(melvr.strain.isin(['XL280a','XL280alpha']))].Cell_Residual,0,8,\n",
    "           color='tab:blue',linestyles=['-','--']);"
   ]
  },
  {
   "cell_type": "code",
   "execution_count": null,
   "metadata": {},
   "outputs": [],
   "source": [
    "plt.plot(melvr[(melvr.QTL==0)].Residual,\n",
    "         melvr[(melvr.QTL==0)].MC,\n",
    "         'o',color='tab:blue',alpha=0.7,label='XL280');\n",
    "plt.plot(melvr[(melvr.QTL==1)].Residual,\n",
    "         melvr[(melvr.QTL==1)].MC,\n",
    "         'o',color='tab:orange',alpha=0.7,label='431');\n",
    "plt.legend();\n",
    "plt.ylabel('Mean Intensity\\n');\n",
    "plt.xlabel('Residuals (Annulus Diameter ~ Capsule Diameter)');"
   ]
  },
  {
   "cell_type": "code",
   "execution_count": null,
   "metadata": {},
   "outputs": [],
   "source": [
    "fig,ax = plt.subplots(2,1,figsize=(5,7),sharex=True,sharey=True)\n",
    "plt.sca(ax[0])\n",
    "y1 = 'Capsule_diameter'\n",
    "x = 'Cell_and_Capsule_diameter'\n",
    "sns.regplot(x=x,y=y1,\n",
    "           data=melvr,order=1,\n",
    "           line_kws={'color':'red','alpha':.5}, \n",
    "           scatter_kws={'color':'k','alpha':0.5});\n",
    "plt.xlabel(' ')\n",
    "plt.ylabel('Diameter of Capsule',fontsize=14)\n",
    "\n",
    "plt.sca(ax[1])\n",
    "y2 = 'Cell_diameter'\n",
    "sns.regplot(x=x,y=y2,\n",
    "           data=dgg,order=1,\n",
    "           line_kws={'color':'red','alpha':.5}, \n",
    "           scatter_kws={'color':'k','alpha':0.5});\n",
    "plt.subplots_adjust(hspace=0.1)\n",
    "plt.xlabel('Diameter of Cell and Capsule',fontsize=14)\n",
    "plt.ylabel('Diameter of Cell',fontsize=14);\n",
    "axes = fig.add_axes([1.1,0.3,0.6,0.4])\n",
    "plt.sca(axes)\n",
    "#plt.plot(dggp.Cell_Residual,dggp.Residual,'r.');\n",
    "_431res = melvr[(melvr.QTL==1)]\n",
    "_xlres = melvr[(melvr.QTL==0)]\n",
    "plt.plot(_431res.Cell_Residual,_431res.Residual,\n",
    "         'o',color='tab:orange',alpha=0.5)\n",
    "plt.plot(_xlres.Cell_Residual,_xlres.Residual,\n",
    "         'o',color='tab:blue',alpha=0.5);\n",
    "plt.title('Residuals',fontsize=14)\n",
    "plt.xlabel('Diameter of Cell',fontsize=14);\n",
    "plt.ylabel('Diameter of Capsule',fontsize=14);\n",
    "plt.savefig('../../FIGURES/Cdx_Cell_Capsual_Regression.png',\n",
    "            dpi=100,bbox_inches='tight');"
   ]
  },
  {
   "cell_type": "code",
   "execution_count": null,
   "metadata": {},
   "outputs": [],
   "source": []
  }
 ],
 "metadata": {
  "kernelspec": {
   "display_name": "Python 3",
   "language": "python",
   "name": "python3"
  },
  "language_info": {
   "codemirror_mode": {
    "name": "ipython",
    "version": 3
   },
   "file_extension": ".py",
   "mimetype": "text/x-python",
   "name": "python",
   "nbconvert_exporter": "python",
   "pygments_lexer": "ipython3",
   "version": "3.8.5"
  }
 },
 "nbformat": 4,
 "nbformat_minor": 4
}
