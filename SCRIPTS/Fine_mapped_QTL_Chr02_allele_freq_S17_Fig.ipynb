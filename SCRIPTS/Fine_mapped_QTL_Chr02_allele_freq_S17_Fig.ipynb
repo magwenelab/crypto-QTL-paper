{
 "cells": [
  {
   "cell_type": "code",
   "execution_count": 1,
   "metadata": {},
   "outputs": [],
   "source": [
    "## Bring in needed mods\n",
    "import numpy as np, pandas as pd, os, vcfpy\n",
    "from matplotlib import pyplot as plt\n",
    "%matplotlib inline"
   ]
  },
  {
   "cell_type": "code",
   "execution_count": 2,
   "metadata": {},
   "outputs": [],
   "source": [
    "## make lables\n",
    "xl280al = 'XL280'+r'$\\alpha$'\n",
    "xl280_label = 'XL280' +r'$\\bf{a}$'"
   ]
  },
  {
   "cell_type": "code",
   "execution_count": 3,
   "metadata": {},
   "outputs": [
    {
     "data": {
      "text/plain": [
       "9592"
      ]
     },
     "execution_count": 3,
     "metadata": {},
     "output_type": "execute_result"
    }
   ],
   "source": [
    "## Set vcf path for the fine mapped progeny \n",
    "## and bring in parsed calls\n",
    "## We have narrowed this script to focus on \n",
    "## chromosome 2\n",
    "vcf_path = '/home/croth/Desktop/QTL/FM_Chr02.vcf'\n",
    "rdr = vcfpy.Reader.from_path(vcf_path)\n",
    "recs = [r for r in rdr]\n",
    "len(recs)"
   ]
  },
  {
   "cell_type": "code",
   "execution_count": 4,
   "metadata": {},
   "outputs": [
    {
     "data": {
      "text/plain": [
       "(192,\n",
       " ['PMY2349_201904_S1_L001.map.sort.bam',\n",
       "  'PMY2350_201904_S9_L001.map.sort.bam',\n",
       "  'PMY2351_201904_S17_L001.map.sort.bam',\n",
       "  'PMY2352_201904_S25_L001.map.sort.bam',\n",
       "  'PMY2353_201904_S33_L001.map.sort.bam'],\n",
       " ['1', '9', '17', '25', '33'])"
      ]
     },
     "execution_count": 4,
     "metadata": {},
     "output_type": "execute_result"
    }
   ],
   "source": [
    "## Gather bam file names, sample names,\n",
    "## and print how many there are.\n",
    "sample_names = rdr.header.samples.names\n",
    "samples = [a.split('_S')[-1].split('_L')[0] \n",
    "           for a in sample_names]\n",
    "len(sample_names),sample_names[:5],samples[:5]"
   ]
  },
  {
   "cell_type": "code",
   "execution_count": 5,
   "metadata": {},
   "outputs": [
    {
     "data": {
      "text/plain": [
       "172"
      ]
     },
     "execution_count": 5,
     "metadata": {},
     "output_type": "execute_result"
    }
   ],
   "source": [
    "## from previous analysis,\n",
    "## set names of lcnoes and strains with out aneuploidy\n",
    "fourthirtyone = ['93','94','95','189','190','191']\n",
    "xl280s = ['96','192']\n",
    "clones_all = [[5,13,14,15,23,27,32,37],[9,31],[12,19],[57,61,86],[178,183]]\n",
    "clones = np.concatenate([[str(a) for a in c[1:]] for c in clones_all])\n",
    "goodguys = ['181', '83', '164', '51', '49', '186', '188', '115', \n",
    "            '163', '167', '133', '57', '162', '75', '127', '168', \n",
    "            '185', '134', '44', '47', '171', '66', '147', '77', \n",
    "            '64', '123', '91', '92', '138', '180', '69', '128', \n",
    "            '80', '122', '117', '131', '55', '89', '135', '142', \n",
    "            '161', '119', '54', '112', '174', '153', '62', '129', \n",
    "            '7', '182', '152', '52', '102', '172', '187', '39', '9', \n",
    "            '137', '78', '105', '65', '114', '87', '101', '98', '175', \n",
    "            '81', '104', '68', '159', '140', '125', '82', '143', '111', \n",
    "            '150', '148', '106', '34', '67', '5', '25', '74', '124', \n",
    "            '8', '154', '169', '97', '149', '178', '139', '157', \n",
    "            '155', '184', '58', '41', '71', '177', '30', '50', '43']\n",
    "parents = xl280s + fourthirtyone\n",
    "segs_ = [s for s in samples if s not in parents + list(clones)]\n",
    "len(segs_)"
   ]
  },
  {
   "cell_type": "code",
   "execution_count": 6,
   "metadata": {},
   "outputs": [],
   "source": [
    "## Make a dataframe with genotype information\n",
    "gtdf = pd.DataFrame([[int(s.data['GT']) \n",
    "                      for s in rec] \n",
    "                     for rec in recs]) \n",
    "gtdf.columns = samples\n",
    "gtdf['Pos'] = [rec.POS for rec in recs]\n",
    "gtdf['Ref'] = [rec.REF for rec in recs]\n",
    "gtdf['Alt'] = [rec.ALT for rec in recs]\n",
    "gtdf['Chrom'] = [rec.CHROM for rec in recs]\n",
    "gtdf['AF'] = gtdf[segs_].sum(axis=1)/len(segs_)\n",
    "gtdf['DPmin'] = [np.min([int(s.data['DP']) for s in rec]) for rec in recs]\n",
    "gtdf['DPmax'] = [np.max([int(s.data['DP']) for s in rec]) for rec in recs]\n",
    "gtdf['DPmean'] = [np.mean([int(s.data['DP']) for s in rec]) for rec in recs]\n",
    "#gtdf['ADmin'] = [ np.min([ np.max(s.data['AD'])/(1+np.sum(s.data['AD'])) \n",
    "#                          for s in rec]) \n",
    "#                 for rec in recs] "
   ]
  },
  {
   "cell_type": "code",
   "execution_count": 7,
   "metadata": {},
   "outputs": [
    {
     "data": {
      "image/png": "[encoded data removed]",
      "text/plain": [
       "<Figure size 432x288 with 1 Axes>"
      ]
     },
     "metadata": {
      "needs_background": "light"
     },
     "output_type": "display_data"
    }
   ],
   "source": [
    "## View the min, manx and mean depth per variants \n",
    "## across strains\n",
    "plt.hist(np.log10(gtdf.DPmin+1),label='min');\n",
    "plt.hist(np.log10(gtdf.DPmax+1),label='max');\n",
    "plt.hist(np.log10(gtdf.DPmean+1),label='mean');\n",
    "plt.legend(fontsize=14);\n",
    "plt.xlabel('log $_{10}$ (Read depth)',fontsize=14);\n",
    "plt.ylabel('Number of variants',fontsize=14);"
   ]
  },
  {
   "cell_type": "code",
   "execution_count": 8,
   "metadata": {},
   "outputs": [
    {
     "data": {
      "text/plain": [
       "(5808, 200)"
      ]
     },
     "execution_count": 8,
     "metadata": {},
     "output_type": "execute_result"
    }
   ],
   "source": [
    "## Filter the vairants\n",
    "## Take reads with greater than 6 X\n",
    "filter_ix = (gtdf.DPmin>6)\n",
    "\n",
    "## Take filtered genetic variants\n",
    "gv = gtdf[filter_ix].copy()\n",
    "\n",
    "## sub index for chomosome 2\n",
    "ch_ix = gv[(gv.Chrom=='Chr02')].index.tolist()\n",
    "\n",
    "## Take filtered variants\n",
    "fgv = gv.T[ch_ix].T\n",
    "\n",
    "## find loci where XL280 isn't zero\n",
    "xl280_remove = fgv[(fgv[xl280s].sum(axis=1) > 0)\n",
    "                  ].index.tolist()\n",
    "\n",
    "## where 431 is zero or inconsistant across samples\n",
    "fto_remove = fgv[(fgv[fourthirtyone].sum(axis=1)<len(fourthirtyone))\n",
    "                ].index.tolist()\n",
    "\n",
    "## make a remove index\n",
    "ix_remove = np.unique(xl280_remove+fto_remove)\n",
    "\n",
    "## drop and print shape\n",
    "fgv.drop(ix_remove,axis=0,inplace=True)\n",
    "fgv.shape"
   ]
  },
  {
   "cell_type": "code",
   "execution_count": 9,
   "metadata": {},
   "outputs": [
    {
     "data": {
      "text/plain": [
       "115.0"
      ]
     },
     "execution_count": 9,
     "metadata": {},
     "output_type": "execute_result"
    }
   ],
   "source": [
    "## What is the median distance between variants?\n",
    "np.mean([np.median(np.diff(a[1]['Pos'])) \n",
    "         for a in fgv.groupby('Chrom')])"
   ]
  },
  {
   "cell_type": "code",
   "execution_count": 10,
   "metadata": {},
   "outputs": [
    {
     "data": {
      "text/plain": [
       "(92103, 125)"
      ]
     },
     "execution_count": 10,
     "metadata": {},
     "output_type": "execute_result"
    }
   ],
   "source": [
    "## Bring in genotype data for original mapping population\n",
    "geno_path = '../DATA/GENOTYPE/CDx-ill-SNP-INDEL-df-104-blocked.csv.gz'\n",
    "f1gv = pd.read_csv(geno_path)\n",
    "f1gv.shape"
   ]
  },
  {
   "cell_type": "code",
   "execution_count": 11,
   "metadata": {},
   "outputs": [],
   "source": [
    "## Take overlap of variants between the two mapping pops\n",
    "cindex = []\n",
    "for c,df in f1gv.groupby('Chrom'):\n",
    "    \n",
    "    temp = gtdf[(gtdf.Chrom==c)]\n",
    "    \n",
    "    cix = temp[(temp.Pos.isin(df.Pos.tolist()))].index\n",
    "    cindex.append(cix)\n",
    "cindex = np.concatenate(cindex)"
   ]
  },
  {
   "cell_type": "code",
   "execution_count": 12,
   "metadata": {},
   "outputs": [
    {
     "data": {
      "text/plain": [
       "(6639,)"
      ]
     },
     "execution_count": 12,
     "metadata": {},
     "output_type": "execute_result"
    }
   ],
   "source": [
    "## How many variants are there?\n",
    "cindex.shape"
   ]
  },
  {
   "cell_type": "code",
   "execution_count": 13,
   "metadata": {},
   "outputs": [],
   "source": [
    "## Take those for chromsome 2\n",
    "## should make no difference\n",
    "ch2 = fgv[(fgv.Chrom=='Chr02')]"
   ]
  },
  {
   "cell_type": "code",
   "execution_count": 14,
   "metadata": {},
   "outputs": [
    {
     "data": {
      "text/plain": [
       "0.08139534883720931"
      ]
     },
     "execution_count": 14,
     "metadata": {},
     "output_type": "execute_result"
    }
   ],
   "source": [
    "## What is the allele freq at SSK1?\n",
    "ssk1_af = ch2[(ch2.Pos>=930962) & \n",
    "              (ch2.Pos<=935444)].AF.median()\n",
    "ssk1_af"
   ]
  },
  {
   "cell_type": "code",
   "execution_count": 15,
   "metadata": {},
   "outputs": [
    {
     "data": {
      "image/png": "[encoded data removed]",
      "text/plain": [
       "<Figure size 864x288 with 1 Axes>"
      ]
     },
     "metadata": {
      "needs_background": "light"
     },
     "output_type": "display_data"
    }
   ],
   "source": [
    "fig,ax = plt.subplots(1,1,figsize=(12,4))\n",
    "plt.vlines(797055,0,1,color='b',linestyle='--',alpha=0.5,label='NAT');\n",
    "plt.text(797055,1,color='b',alpha=0.5,s='NAT',va='bottom',ha='center',fontsize=12,style='italic')\n",
    "plt.vlines(1047346,0,1,color='tab:orange',linestyle='--',alpha=0.5,label='NEO');\n",
    "plt.text(1047346,1,color='tab:orange',alpha=0.5,s='NEO',\n",
    "         va='bottom',ha='center',fontsize=12,style='italic')\n",
    "\n",
    "plt.plot(ch2.Pos,ch2.AF,'k.',label=r'$\\rmObserved$' + ' '+ r'$\\rmAllele$'+'\\n'+r'$\\rmFrequency$',ms=4);\n",
    "plt.ylim(0,1);\n",
    "plt.vlines(np.mean([855280,905374]),0,0.055,linewidth=10,\n",
    "           color='grey',label=r'$\\rmCentromere$',alpha=0.5);\n",
    "plt.vlines(np.array([930962,935444]),0,ssk1_af,linestyle='-',\n",
    "           alpha=0.75,color='r', label='SSK1',linewidth=2)\n",
    "fig.text(x=0.556,y=0.09,s='SSK1',fontsize=10,color='r',style='italic')\n",
    "plt.plot(np.array([797055,1047346]),[0,1],color='g',\n",
    "         linestyle='--',label=r'$\\rmExpected$' +' '+ r'$\\rmAllele$' +'\\n'+r'$\\rmFrequency$');\n",
    "plt.legend(bbox_to_anchor=[1.,0.9],frameon=False,prop=dict(style='italic'))\n",
    "ax.spines['right'].set_visible(False)\n",
    "ax.spines['top'].set_visible(False)\n",
    "\n",
    "l,b = plt.xticks()\n",
    "plt.xticks(l[1:-1],[int(a) for a in l[1:-1]/1000])\n",
    "\n",
    "plt.xlabel('Chromosome 2 Coordinates (kb)',fontsize=16)\n",
    "plt.ylabel('Allele Frequency\\n%s                      431\\u03B1'%xl280_label,\n",
    "           fontsize=16)\n",
    "plt.savefig('../FIGURES/SUPP/PDFs/S17_Fig.pdf',\n",
    "            bbox_inches='tight',dpi=300);"
   ]
  }
 ],
 "metadata": {
  "kernelspec": {
   "display_name": "Python 3",
   "language": "python",
   "name": "python3"
  },
  "language_info": {
   "codemirror_mode": {
    "name": "ipython",
    "version": 3
   },
   "file_extension": ".py",
   "mimetype": "text/x-python",
   "name": "python",
   "nbconvert_exporter": "python",
   "pygments_lexer": "ipython3",
   "version": "3.7.3"
  }
 },
 "nbformat": 4,
 "nbformat_minor": 4
}
