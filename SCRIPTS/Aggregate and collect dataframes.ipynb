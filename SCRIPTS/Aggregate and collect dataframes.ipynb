{
 "cells": [
  {
   "cell_type": "code",
   "execution_count": 1,
   "metadata": {
    "collapsed": true
   },
   "outputs": [],
   "source": [
    "## Import needed mods\n",
    "import pandas as pd, glob"
   ]
  },
  {
   "cell_type": "code",
   "execution_count": 2,
   "metadata": {
    "collapsed": true
   },
   "outputs": [],
   "source": [
    "## Bring in genotype dataframes and combine them\n",
    "gts_files = '../DFRAME/DNX-Chr*-xl280genome-127-gt-df.csv.gz'\n",
    "gts_dfs = pd.concat([pd.read_csv(df,compression='gzip',\n",
    "                                 header=0,index_col=0) \n",
    "                     for df in glob.glob(gts_files)],axis=0)"
   ]
  },
  {
   "cell_type": "code",
   "execution_count": 3,
   "metadata": {
    "collapsed": true
   },
   "outputs": [],
   "source": [
    "## Duplicate index\n",
    "gts_dfs['Vcfix'] = gts_dfs.index.tolist()"
   ]
  },
  {
   "cell_type": "code",
   "execution_count": 4,
   "metadata": {
    "collapsed": true
   },
   "outputs": [],
   "source": [
    "## sort dataframes by chromosomes and positions\n",
    "gts_dfs.sort_values(['Chrom','Pos'],inplace=True)"
   ]
  },
  {
   "cell_type": "code",
   "execution_count": 5,
   "metadata": {
    "collapsed": true
   },
   "outputs": [],
   "source": [
    "## Drop the index\n",
    "gts_dfs.reset_index(drop=True,inplace=True)"
   ]
  },
  {
   "cell_type": "code",
   "execution_count": 6,
   "metadata": {
    "collapsed": true
   },
   "outputs": [],
   "source": [
    "## Save the new dataframe\n",
    "gts_dfs.to_csv('/Users/croth/Desktop/CRYPTO_QTL/FILES/CDx-ill-gvs.csv')"
   ]
  },
  {
   "cell_type": "code",
   "execution_count": null,
   "metadata": {},
   "outputs": [],
   "source": [
    "## Bring in allelic read depth dataframes and combine them\n",
    "ads_files = '../DFRAME/DNX-Chr*-xl280genome-127-ar-df.csv.gz'\n",
    "ads_dfs = pd.concat([pd.read_csv(df,compression='gzip',\n",
    "                                 header=0,index_col=0) \n",
    "                     for df in glob.glob(ads_files)],axis=0)"
   ]
  },
  {
   "cell_type": "code",
   "execution_count": null,
   "metadata": {},
   "outputs": [],
   "source": [
    "## Set the vcf index\n",
    "ads_dfs['Vcfix'] = ads_dfs.index.tolist()"
   ]
  },
  {
   "cell_type": "code",
   "execution_count": null,
   "metadata": {},
   "outputs": [],
   "source": [
    "## sort dataframes by chromosomes and positions\n",
    "ads_dfs.sort_values(['Chrom','Pos'],inplace=True)"
   ]
  },
  {
   "cell_type": "code",
   "execution_count": null,
   "metadata": {},
   "outputs": [],
   "source": [
    "## Drop the old one\n",
    "ads_dfs.reset_index(drop=True,inplace=True)"
   ]
  },
  {
   "cell_type": "code",
   "execution_count": null,
   "metadata": {},
   "outputs": [],
   "source": [
    "## Save the file\n",
    "ads_dfs.to_csv('/Users/croth/Desktop/CRYPTO_QTL/FILES/CDx-ill-ads.csv')"
   ]
  }
 ],
 "metadata": {
  "kernelspec": {
   "display_name": "Python 3",
   "language": "python",
   "name": "python3"
  },
  "language_info": {
   "codemirror_mode": {
    "name": "ipython",
    "version": 3
   },
   "file_extension": ".py",
   "mimetype": "text/x-python",
   "name": "python",
   "nbconvert_exporter": "python",
   "pygments_lexer": "ipython3",
   "version": "3.7.3"
  }
 },
 "nbformat": 4,
 "nbformat_minor": 2
}
