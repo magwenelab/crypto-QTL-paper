{
 "cells": [
  {
   "cell_type": "code",
   "execution_count": 35,
   "metadata": {},
   "outputs": [],
   "source": [
    "## Import needed mods\n",
    "import pandas as pd, glob"
   ]
  },
  {
   "cell_type": "code",
   "execution_count": 36,
   "metadata": {},
   "outputs": [],
   "source": [
    "## Set file paths to genotype and allleic read depth ratio data\n",
    "dataframe_path = '../DATA/GENOTYPE/CDX_illumina_vcf/DFRAME'\n",
    "gts_files = dataframe_path+'/DNX-Chr*-xl280genome-127-gt-df.csv.gz'\n",
    "ads_files = dataframe_path+'/DNX-Chr*-xl280genome-127-ar-df.csv.gz'"
   ]
  },
  {
   "cell_type": "code",
   "execution_count": 37,
   "metadata": {},
   "outputs": [],
   "source": [
    "## Set save path for genotype data\n",
    "gtsavepath = dataframe_path+'/GT/CDx-ill-gvs.csv.gz'"
   ]
  },
  {
   "cell_type": "code",
   "execution_count": 38,
   "metadata": {},
   "outputs": [],
   "source": [
    "## Set save path for allelic read depth data\n",
    "adsavepath = dataframe_path+'/AD/CDx-ill-ads.csv.gz'"
   ]
  },
  {
   "cell_type": "code",
   "execution_count": 2,
   "metadata": {},
   "outputs": [],
   "source": [
    "## Bring in genotype dataframes and combine them\n",
    "gts_dfs = pd.concat([pd.read_csv(df,compression='gzip',\n",
    "                                 header=0,index_col=0) \n",
    "                     for df in glob.glob(gts_files)],axis=0)"
   ]
  },
  {
   "cell_type": "code",
   "execution_count": 3,
   "metadata": {},
   "outputs": [],
   "source": [
    "## Duplicate original VCF index\n",
    "gts_dfs['Vcfix'] = gts_dfs.index.tolist()"
   ]
  },
  {
   "cell_type": "code",
   "execution_count": 4,
   "metadata": {},
   "outputs": [],
   "source": [
    "## sort dataframes by chromosomes and positions\n",
    "gts_dfs.sort_values(['Chrom','Pos'],inplace=True)"
   ]
  },
  {
   "cell_type": "code",
   "execution_count": 5,
   "metadata": {},
   "outputs": [],
   "source": [
    "## Drop the index\n",
    "gts_dfs.reset_index(drop=True,inplace=True)"
   ]
  },
  {
   "cell_type": "code",
   "execution_count": 27,
   "metadata": {},
   "outputs": [],
   "source": [
    "## Check that we have 14 chromosomes\n",
    "assert gts_dfs.Chrom.unique().shape[0] == 14"
   ]
  },
  {
   "cell_type": "code",
   "execution_count": 13,
   "metadata": {},
   "outputs": [],
   "source": [
    "## Save the new dataframe\n",
    "gts_dfs.to_csv(gtsavepath)"
   ]
  },
  {
   "cell_type": "code",
   "execution_count": 14,
   "metadata": {},
   "outputs": [],
   "source": [
    "## Bring in allelic read depth dataframes and combine them\n",
    "ads_dfs = pd.concat([pd.read_csv(df,compression='gzip',\n",
    "                                 header=0,index_col=0) \n",
    "                     for df in glob.glob(ads_files)],axis=0)"
   ]
  },
  {
   "cell_type": "code",
   "execution_count": 15,
   "metadata": {},
   "outputs": [],
   "source": [
    "## Set the vcf index\n",
    "ads_dfs['Vcfix'] = ads_dfs.index.tolist()"
   ]
  },
  {
   "cell_type": "code",
   "execution_count": 16,
   "metadata": {},
   "outputs": [],
   "source": [
    "## sort dataframes by chromosomes and positions\n",
    "ads_dfs.sort_values(['Chrom','Pos'],inplace=True)"
   ]
  },
  {
   "cell_type": "code",
   "execution_count": 17,
   "metadata": {},
   "outputs": [],
   "source": [
    "## Drop the old one\n",
    "ads_dfs.reset_index(drop=True,inplace=True)"
   ]
  },
  {
   "cell_type": "code",
   "execution_count": 28,
   "metadata": {},
   "outputs": [],
   "source": [
    "## Check that we have 14 chromosomes\n",
    "assert ads_dfs.Chrom.unique().shape[0] == 14"
   ]
  },
  {
   "cell_type": "code",
   "execution_count": 20,
   "metadata": {},
   "outputs": [],
   "source": [
    "## Save the file\n",
    "ads_dfs.to_csv(adsavepath)"
   ]
  }
 ],
 "metadata": {
  "kernelspec": {
   "display_name": "Python 3",
   "language": "python",
   "name": "python3"
  },
  "language_info": {
   "codemirror_mode": {
    "name": "ipython",
    "version": 3
   },
   "file_extension": ".py",
   "mimetype": "text/x-python",
   "name": "python",
   "nbconvert_exporter": "python",
   "pygments_lexer": "ipython3",
   "version": "3.7.3"
  }
 },
 "nbformat": 4,
 "nbformat_minor": 4
}
