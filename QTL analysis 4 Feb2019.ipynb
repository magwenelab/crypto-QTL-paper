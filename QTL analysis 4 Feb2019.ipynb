{
 "cells": [
  {
   "cell_type": "code",
   "execution_count": 1,
   "metadata": {},
   "outputs": [],
   "source": [
    "## QTL analysis\n",
    "## Bring in needed mods\n",
    "import pandas as pd, numpy as np, statsmodels.api as sm\n",
    "from statsmodels.formula.api import ols\n",
    "from matplotlib import pyplot as plt\n",
    "%matplotlib inline\n",
    "\n",
    "## Bring in needed ftn for QTL analysis\n",
    "from scipy.stats import kruskal\n",
    "\n",
    "## Write function for QTL analysis\n",
    "def crypto_kruskal(site,pheno):\n",
    "    \"\"\"\n",
    "    For the data from the C. deneoformans cross, a non-parametric ANOVA.\n",
    "    Here we are looking for differences between the median phenotypes of group 0 and 1. \n",
    "    \"\"\"\n",
    "    pheno = pheno.dropna();assert len(pheno) > 0;\n",
    "    site = site[pheno.dropna().index.tolist()];\n",
    "    assert len(site) == len(pheno)\n",
    "    try:\n",
    "        pval = -np.log10(kruskal(np.array(pheno)[np.array(site) == 0],\n",
    "                                        np.array(pheno)[np.array(site) == 1],\n",
    "                                        nan_policy='omit')[1])\n",
    "    except ValueError:\n",
    "        pval = np.nan\n",
    "    return pval"
   ]
  },
  {
   "cell_type": "code",
   "execution_count": 2,
   "metadata": {},
   "outputs": [],
   "source": [
    "## Set date of phenotype data to use\n",
    "filedate = 'Dec172018'"
   ]
  },
  {
   "cell_type": "code",
   "execution_count": 3,
   "metadata": {},
   "outputs": [],
   "source": [
    "## set path to file, should in in the words, \"curation_baselined_median21_AUC_Xstrain.csv'\n",
    "file_path = '../FILES/Tecan_qtlruns_%s_curated_baselined_median51_AUC_Xstrain.csv'%(\n",
    "    filedate)"
   ]
  },
  {
   "cell_type": "code",
   "execution_count": 4,
   "metadata": {},
   "outputs": [],
   "source": [
    "## Set path to genotype data\n",
    "geno_path = '../FILES/CDx-ill-SNP-INDEL-df-104-blocked.csv'"
   ]
  },
  {
   "cell_type": "code",
   "execution_count": 5,
   "metadata": {},
   "outputs": [],
   "source": [
    "## Load data\n",
    "data = pd.read_csv(file_path,index_col=0)"
   ]
  },
  {
   "cell_type": "code",
   "execution_count": 6,
   "metadata": {},
   "outputs": [
    {
     "data": {
      "text/html": [
       "<div>\n",
       "<style scoped>\n",
       "    .dataframe tbody tr th:only-of-type {\n",
       "        vertical-align: middle;\n",
       "    }\n",
       "\n",
       "    .dataframe tbody tr th {\n",
       "        vertical-align: top;\n",
       "    }\n",
       "\n",
       "    .dataframe thead th {\n",
       "        text-align: right;\n",
       "    }\n",
       "</style>\n",
       "<table border=\"1\" class=\"dataframe\">\n",
       "  <thead>\n",
       "    <tr style=\"text-align: right;\">\n",
       "      <th></th>\n",
       "      <th>temp</th>\n",
       "      <th>amphB</th>\n",
       "      <th>strain</th>\n",
       "      <th>median_AUC</th>\n",
       "    </tr>\n",
       "  </thead>\n",
       "  <tbody>\n",
       "    <tr>\n",
       "      <th>714</th>\n",
       "      <td>37</td>\n",
       "      <td>0.125</td>\n",
       "      <td>SS-A837</td>\n",
       "      <td>8.383125</td>\n",
       "    </tr>\n",
       "  </tbody>\n",
       "</table>\n",
       "</div>"
      ],
      "text/plain": [
       "     temp  amphB   strain  median_AUC\n",
       "714    37  0.125  SS-A837    8.383125"
      ]
     },
     "execution_count": 6,
     "metadata": {},
     "output_type": "execute_result"
    }
   ],
   "source": [
    "## Check value of parental strain SS-A837\n",
    "data[(data.strain=='SS-A837') & (data.temp==37) & (data.amphB==0.125)]"
   ]
  },
  {
   "cell_type": "code",
   "execution_count": 7,
   "metadata": {},
   "outputs": [
    {
     "data": {
      "text/plain": [
       "(1428, 4)"
      ]
     },
     "execution_count": 7,
     "metadata": {},
     "output_type": "execute_result"
    }
   ],
   "source": [
    "## What is the shape of the dataframe\n",
    "data.shape"
   ]
  },
  {
   "cell_type": "code",
   "execution_count": 8,
   "metadata": {},
   "outputs": [
    {
     "data": {
      "text/plain": [
       "(1428, 4)"
      ]
     },
     "execution_count": 8,
     "metadata": {},
     "output_type": "execute_result"
    }
   ],
   "source": [
    "## Check for nan's\n",
    "data.dropna(axis=0,how='any').shape"
   ]
  },
  {
   "cell_type": "code",
   "execution_count": 9,
   "metadata": {},
   "outputs": [],
   "source": [
    "## Bring in genotype data\n",
    "bgeno = pd.read_csv(geno_path)"
   ]
  },
  {
   "cell_type": "code",
   "execution_count": 10,
   "metadata": {},
   "outputs": [
    {
     "data": {
      "text/html": [
       "<div>\n",
       "<style scoped>\n",
       "    .dataframe tbody tr th:only-of-type {\n",
       "        vertical-align: middle;\n",
       "    }\n",
       "\n",
       "    .dataframe tbody tr th {\n",
       "        vertical-align: top;\n",
       "    }\n",
       "\n",
       "    .dataframe thead th {\n",
       "        text-align: right;\n",
       "    }\n",
       "</style>\n",
       "<table border=\"1\" class=\"dataframe\">\n",
       "  <thead>\n",
       "    <tr style=\"text-align: right;\">\n",
       "      <th></th>\n",
       "      <th>Chrom</th>\n",
       "      <th>Pos</th>\n",
       "      <th>Qual</th>\n",
       "      <th>Callrate</th>\n",
       "      <th>Ref</th>\n",
       "      <th>Alt</th>\n",
       "      <th>Altlen</th>\n",
       "      <th>Dp</th>\n",
       "      <th>Type</th>\n",
       "      <th>Vcfix</th>\n",
       "      <th>...</th>\n",
       "      <th>SS-B598</th>\n",
       "      <th>SS-B565</th>\n",
       "      <th>SS-B600</th>\n",
       "      <th>SS-B574</th>\n",
       "      <th>SS-B872_cor</th>\n",
       "      <th>SS-B873_cor</th>\n",
       "      <th>SS-B360</th>\n",
       "      <th>SS-B397</th>\n",
       "      <th>SS-B564</th>\n",
       "      <th>SS-B382</th>\n",
       "    </tr>\n",
       "  </thead>\n",
       "  <tbody>\n",
       "    <tr>\n",
       "      <th>0</th>\n",
       "      <td>Chr01</td>\n",
       "      <td>5016</td>\n",
       "      <td>104492.0</td>\n",
       "      <td>1.0</td>\n",
       "      <td>C</td>\n",
       "      <td>A</td>\n",
       "      <td>1</td>\n",
       "      <td>6510</td>\n",
       "      <td>snp</td>\n",
       "      <td>289</td>\n",
       "      <td>...</td>\n",
       "      <td>1.0</td>\n",
       "      <td>0.0</td>\n",
       "      <td>1.0</td>\n",
       "      <td>1.0</td>\n",
       "      <td>0.0</td>\n",
       "      <td>0.0</td>\n",
       "      <td>1.0</td>\n",
       "      <td>0.0</td>\n",
       "      <td>1.0</td>\n",
       "      <td>0.0</td>\n",
       "    </tr>\n",
       "    <tr>\n",
       "      <th>1</th>\n",
       "      <td>Chr01</td>\n",
       "      <td>5299</td>\n",
       "      <td>112647.0</td>\n",
       "      <td>1.0</td>\n",
       "      <td>T</td>\n",
       "      <td>C</td>\n",
       "      <td>1</td>\n",
       "      <td>9711</td>\n",
       "      <td>snp</td>\n",
       "      <td>293</td>\n",
       "      <td>...</td>\n",
       "      <td>1.0</td>\n",
       "      <td>0.0</td>\n",
       "      <td>1.0</td>\n",
       "      <td>1.0</td>\n",
       "      <td>0.0</td>\n",
       "      <td>0.0</td>\n",
       "      <td>1.0</td>\n",
       "      <td>0.0</td>\n",
       "      <td>1.0</td>\n",
       "      <td>0.0</td>\n",
       "    </tr>\n",
       "    <tr>\n",
       "      <th>2</th>\n",
       "      <td>Chr01</td>\n",
       "      <td>5464</td>\n",
       "      <td>112658.0</td>\n",
       "      <td>1.0</td>\n",
       "      <td>T</td>\n",
       "      <td>C</td>\n",
       "      <td>1</td>\n",
       "      <td>9375</td>\n",
       "      <td>snp</td>\n",
       "      <td>294</td>\n",
       "      <td>...</td>\n",
       "      <td>1.0</td>\n",
       "      <td>0.0</td>\n",
       "      <td>1.0</td>\n",
       "      <td>1.0</td>\n",
       "      <td>0.0</td>\n",
       "      <td>0.0</td>\n",
       "      <td>1.0</td>\n",
       "      <td>0.0</td>\n",
       "      <td>1.0</td>\n",
       "      <td>0.0</td>\n",
       "    </tr>\n",
       "    <tr>\n",
       "      <th>3</th>\n",
       "      <td>Chr01</td>\n",
       "      <td>6120</td>\n",
       "      <td>109003.0</td>\n",
       "      <td>1.0</td>\n",
       "      <td>T</td>\n",
       "      <td>C</td>\n",
       "      <td>1</td>\n",
       "      <td>9311</td>\n",
       "      <td>snp</td>\n",
       "      <td>311</td>\n",
       "      <td>...</td>\n",
       "      <td>1.0</td>\n",
       "      <td>0.0</td>\n",
       "      <td>1.0</td>\n",
       "      <td>1.0</td>\n",
       "      <td>0.0</td>\n",
       "      <td>0.0</td>\n",
       "      <td>1.0</td>\n",
       "      <td>0.0</td>\n",
       "      <td>1.0</td>\n",
       "      <td>0.0</td>\n",
       "    </tr>\n",
       "    <tr>\n",
       "      <th>4</th>\n",
       "      <td>Chr01</td>\n",
       "      <td>6166</td>\n",
       "      <td>114638.0</td>\n",
       "      <td>1.0</td>\n",
       "      <td>G</td>\n",
       "      <td>A</td>\n",
       "      <td>1</td>\n",
       "      <td>9269</td>\n",
       "      <td>snp</td>\n",
       "      <td>312</td>\n",
       "      <td>...</td>\n",
       "      <td>1.0</td>\n",
       "      <td>0.0</td>\n",
       "      <td>1.0</td>\n",
       "      <td>1.0</td>\n",
       "      <td>0.0</td>\n",
       "      <td>0.0</td>\n",
       "      <td>1.0</td>\n",
       "      <td>0.0</td>\n",
       "      <td>1.0</td>\n",
       "      <td>0.0</td>\n",
       "    </tr>\n",
       "  </tbody>\n",
       "</table>\n",
       "<p>5 rows × 125 columns</p>\n",
       "</div>"
      ],
      "text/plain": [
       "   Chrom   Pos      Qual  Callrate Ref Alt  Altlen    Dp Type  Vcfix  ...  \\\n",
       "0  Chr01  5016  104492.0       1.0   C   A       1  6510  snp    289  ...   \n",
       "1  Chr01  5299  112647.0       1.0   T   C       1  9711  snp    293  ...   \n",
       "2  Chr01  5464  112658.0       1.0   T   C       1  9375  snp    294  ...   \n",
       "3  Chr01  6120  109003.0       1.0   T   C       1  9311  snp    311  ...   \n",
       "4  Chr01  6166  114638.0       1.0   G   A       1  9269  snp    312  ...   \n",
       "\n",
       "   SS-B598  SS-B565  SS-B600  SS-B574  SS-B872_cor  SS-B873_cor  SS-B360  \\\n",
       "0      1.0      0.0      1.0      1.0          0.0          0.0      1.0   \n",
       "1      1.0      0.0      1.0      1.0          0.0          0.0      1.0   \n",
       "2      1.0      0.0      1.0      1.0          0.0          0.0      1.0   \n",
       "3      1.0      0.0      1.0      1.0          0.0          0.0      1.0   \n",
       "4      1.0      0.0      1.0      1.0          0.0          0.0      1.0   \n",
       "\n",
       "   SS-B397  SS-B564  SS-B382  \n",
       "0      0.0      1.0      0.0  \n",
       "1      0.0      1.0      0.0  \n",
       "2      0.0      1.0      0.0  \n",
       "3      0.0      1.0      0.0  \n",
       "4      0.0      1.0      0.0  \n",
       "\n",
       "[5 rows x 125 columns]"
      ]
     },
     "execution_count": 10,
     "metadata": {},
     "output_type": "execute_result"
    }
   ],
   "source": [
    "bgeno.head()"
   ]
  },
  {
   "cell_type": "code",
   "execution_count": 11,
   "metadata": {},
   "outputs": [
    {
     "data": {
      "text/plain": [
       "(92103, 125)"
      ]
     },
     "execution_count": 11,
     "metadata": {},
     "output_type": "execute_result"
    }
   ],
   "source": [
    "## Check its shape\n",
    "bgeno.shape"
   ]
  },
  {
   "cell_type": "code",
   "execution_count": 12,
   "metadata": {},
   "outputs": [],
   "source": [
    "unique_blocks = bgeno.Block.unique()"
   ]
  },
  {
   "cell_type": "code",
   "execution_count": 13,
   "metadata": {},
   "outputs": [
    {
     "data": {
      "text/plain": [
       "3108"
      ]
     },
     "execution_count": 13,
     "metadata": {},
     "output_type": "execute_result"
    }
   ],
   "source": [
    "len(unique_blocks)"
   ]
  },
  {
   "cell_type": "code",
   "execution_count": 14,
   "metadata": {},
   "outputs": [],
   "source": [
    "## Gather a list of the chromosomes\n",
    "chrlist = sorted(bgeno.Chrom.unique());"
   ]
  },
  {
   "cell_type": "code",
   "execution_count": 15,
   "metadata": {},
   "outputs": [],
   "source": [
    "## make sure there are 14\n",
    "assert len(chrlist) >= 14"
   ]
  },
  {
   "cell_type": "code",
   "execution_count": 16,
   "metadata": {},
   "outputs": [
    {
     "data": {
      "text/plain": [
       "104"
      ]
     },
     "execution_count": 16,
     "metadata": {},
     "output_type": "execute_result"
    }
   ],
   "source": [
    "## Chrom should be the edge of the info in geno df\n",
    "bgcol = bgeno.columns.tolist()\n",
    "## gather bgeno info columsn\n",
    "bginfoix = bgcol.index('Block')+1\n",
    "## Gather info from bgeno\n",
    "bgeno_info = bgcol[:bginfoix]\n",
    "## Gather strain names\n",
    "bgeno_original_strains = bgcol[bginfoix:]\n",
    "## How many?\n",
    "len(bgeno_original_strains)"
   ]
  },
  {
   "cell_type": "code",
   "execution_count": 17,
   "metadata": {},
   "outputs": [
    {
     "data": {
      "text/plain": [
       "['SS-B407', 'SS-B316', 'SS-B898_cor', 'SS-B369', 'SS-B997']"
      ]
     },
     "execution_count": 17,
     "metadata": {},
     "output_type": "execute_result"
    }
   ],
   "source": [
    "## Check first 5\n",
    "bgeno_original_strains[:5]"
   ]
  },
  {
   "cell_type": "code",
   "execution_count": 18,
   "metadata": {},
   "outputs": [],
   "source": [
    "## Rename the strains here to match those phenotyped by DM\n",
    "bgeno_strains = []\n",
    "for s in bgeno_original_strains:\n",
    "    if len(s.split('_Cor')) > 1:\n",
    "        bgeno_strains.append(s.split('_Cor')[0]+'_cor')\n",
    "    elif s in ['SS-A853']:\n",
    "        bgeno_strains.append('XL280alpha')\n",
    "    elif s in ['SS-B830']:\n",
    "        bgeno_strains.append('XL280a')\n",
    "    else:\n",
    "        bgeno_strains.append(s)"
   ]
  },
  {
   "cell_type": "code",
   "execution_count": 19,
   "metadata": {},
   "outputs": [
    {
     "data": {
      "text/plain": [
       "['SS-B407', 'SS-B316', 'SS-B898_cor', 'SS-B369', 'SS-B997']"
      ]
     },
     "execution_count": 19,
     "metadata": {},
     "output_type": "execute_result"
    }
   ],
   "source": [
    "## Check first 5 of new names\n",
    "bgeno_strains[:5]"
   ]
  },
  {
   "cell_type": "code",
   "execution_count": 20,
   "metadata": {},
   "outputs": [],
   "source": [
    "## Assign new names to bgeno columns\n",
    "bgeno.columns = bgeno_info + bgeno_strains"
   ]
  },
  {
   "cell_type": "code",
   "execution_count": 21,
   "metadata": {},
   "outputs": [],
   "source": [
    "## Save data back with new names\n",
    "#bgeno.to_csv(geno_path)"
   ]
  },
  {
   "cell_type": "code",
   "execution_count": 22,
   "metadata": {},
   "outputs": [
    {
     "name": "stdout",
     "output_type": "stream",
     "text": [
      "[11530, 7111, 9696, 8893, 7027, 7334, 6633, 5878, 5874, 5021, 5407, 4190, 4011, 3498]\n"
     ]
    }
   ],
   "source": [
    "## How many haplotypes are in the geno df\n",
    "print([len(bgeno[bgeno.Chrom==chrom]) for chrom in chrlist])"
   ]
  },
  {
   "cell_type": "code",
   "execution_count": 23,
   "metadata": {},
   "outputs": [],
   "source": [
    "## Find strains in both our phenotype and genotype data\n",
    "tecan_strains = data.strain.unique().tolist()"
   ]
  },
  {
   "cell_type": "code",
   "execution_count": 24,
   "metadata": {},
   "outputs": [],
   "source": [
    "## Take these segrants that are in the genotype data\n",
    "segs = [s for s in tecan_strains if s in bgeno_strains]"
   ]
  },
  {
   "cell_type": "code",
   "execution_count": 34,
   "metadata": {},
   "outputs": [
    {
     "data": {
      "text/plain": [
       "104"
      ]
     },
     "execution_count": 34,
     "metadata": {},
     "output_type": "execute_result"
    }
   ],
   "source": [
    "## How many do we have?\n",
    "len(segs)"
   ]
  },
  {
   "cell_type": "code",
   "execution_count": 35,
   "metadata": {},
   "outputs": [],
   "source": [
    "no_segs = [s for s in tecan_strains if s not in segs]"
   ]
  },
  {
   "cell_type": "code",
   "execution_count": 33,
   "metadata": {},
   "outputs": [
    {
     "data": {
      "text/plain": [
       "15"
      ]
     },
     "execution_count": 33,
     "metadata": {},
     "output_type": "execute_result"
    }
   ],
   "source": [
    "len(no_segs) "
   ]
  },
  {
   "cell_type": "code",
   "execution_count": 31,
   "metadata": {},
   "outputs": [
    {
     "data": {
      "text/plain": [
       "['SS-B308',\n",
       " 'SS-B377',\n",
       " 'SS-B410',\n",
       " 'SS-B869',\n",
       " 'SS-B873',\n",
       " 'SS-B890',\n",
       " 'SS-B892',\n",
       " 'SS-B896',\n",
       " 'SS-B898',\n",
       " 'SS-B901',\n",
       " 'SS-B960',\n",
       " 'SS-C026',\n",
       " 'SS-C029',\n",
       " 'SS-C030',\n",
       " 'SS-C031']"
      ]
     },
     "execution_count": 31,
     "metadata": {},
     "output_type": "execute_result"
    }
   ],
   "source": [
    "no_segs"
   ]
  },
  {
   "cell_type": "code",
   "execution_count": 36,
   "metadata": {},
   "outputs": [
    {
     "data": {
      "text/plain": [
       "False"
      ]
     },
     "execution_count": 36,
     "metadata": {},
     "output_type": "execute_result"
    }
   ],
   "source": [
    "'SS-B879' in segs"
   ]
  },
  {
   "cell_type": "code",
   "execution_count": 26,
   "metadata": {},
   "outputs": [],
   "source": [
    "## make an index to these data \n",
    "segs_in_data = data.strain.isin(segs); "
   ]
  },
  {
   "cell_type": "code",
   "execution_count": 38,
   "metadata": {},
   "outputs": [],
   "source": [
    "## Take the phenotype w/ strains in genotype data\n",
    "phenotypes = data.loc[segs_in_data,:].copy() "
   ]
  },
  {
   "cell_type": "code",
   "execution_count": 39,
   "metadata": {},
   "outputs": [
    {
     "data": {
      "text/plain": [
       "(1248, 4)"
      ]
     },
     "execution_count": 39,
     "metadata": {},
     "output_type": "execute_result"
    }
   ],
   "source": [
    "## Print the shape of the phenotyep data\n",
    "phenotypes.shape"
   ]
  },
  {
   "cell_type": "code",
   "execution_count": 40,
   "metadata": {},
   "outputs": [],
   "source": [
    "## Check our work, assert that we didn't leave any strains behind! \n",
    "assert len(phenotypes.strain.unique()) == len(segs)"
   ]
  },
  {
   "cell_type": "code",
   "execution_count": 41,
   "metadata": {},
   "outputs": [
    {
     "data": {
      "text/html": [
       "<div>\n",
       "<style scoped>\n",
       "    .dataframe tbody tr th:only-of-type {\n",
       "        vertical-align: middle;\n",
       "    }\n",
       "\n",
       "    .dataframe tbody tr th {\n",
       "        vertical-align: top;\n",
       "    }\n",
       "\n",
       "    .dataframe thead th {\n",
       "        text-align: right;\n",
       "    }\n",
       "</style>\n",
       "<table border=\"1\" class=\"dataframe\">\n",
       "  <thead>\n",
       "    <tr style=\"text-align: right;\">\n",
       "      <th></th>\n",
       "      <th>temp</th>\n",
       "      <th>amphB</th>\n",
       "      <th>strain</th>\n",
       "      <th>median_AUC</th>\n",
       "    </tr>\n",
       "  </thead>\n",
       "  <tbody>\n",
       "    <tr>\n",
       "      <th>714</th>\n",
       "      <td>37</td>\n",
       "      <td>0.125</td>\n",
       "      <td>SS-A837</td>\n",
       "      <td>8.383125</td>\n",
       "    </tr>\n",
       "  </tbody>\n",
       "</table>\n",
       "</div>"
      ],
      "text/plain": [
       "     temp  amphB   strain  median_AUC\n",
       "714    37  0.125  SS-A837    8.383125"
      ]
     },
     "execution_count": 41,
     "metadata": {},
     "output_type": "execute_result"
    }
   ],
   "source": [
    "## Check value of parental strain SS-A837\n",
    "phenotypes[(phenotypes.strain=='SS-A837') & \n",
    "           (phenotypes.temp==37) & \n",
    "           (phenotypes.amphB==0.125)]"
   ]
  },
  {
   "cell_type": "code",
   "execution_count": 42,
   "metadata": {},
   "outputs": [],
   "source": [
    "## Set the phenotype data's index to the strain name\n",
    "phenotypes.index = phenotypes.strain"
   ]
  },
  {
   "cell_type": "code",
   "execution_count": 43,
   "metadata": {},
   "outputs": [],
   "source": [
    "## drop the strain column\n",
    "phenotypes.drop('strain',inplace=True,axis=1)"
   ]
  },
  {
   "cell_type": "code",
   "execution_count": 44,
   "metadata": {},
   "outputs": [
    {
     "data": {
      "text/html": [
       "<div>\n",
       "<style scoped>\n",
       "    .dataframe tbody tr th:only-of-type {\n",
       "        vertical-align: middle;\n",
       "    }\n",
       "\n",
       "    .dataframe tbody tr th {\n",
       "        vertical-align: top;\n",
       "    }\n",
       "\n",
       "    .dataframe thead th {\n",
       "        text-align: right;\n",
       "    }\n",
       "</style>\n",
       "<table border=\"1\" class=\"dataframe\">\n",
       "  <thead>\n",
       "    <tr style=\"text-align: right;\">\n",
       "      <th></th>\n",
       "      <th>temp</th>\n",
       "      <th>amphB</th>\n",
       "      <th>median_AUC</th>\n",
       "    </tr>\n",
       "    <tr>\n",
       "      <th>strain</th>\n",
       "      <th></th>\n",
       "      <th></th>\n",
       "      <th></th>\n",
       "    </tr>\n",
       "  </thead>\n",
       "  <tbody>\n",
       "    <tr>\n",
       "      <th>SS-A837</th>\n",
       "      <td>30</td>\n",
       "      <td>0.000</td>\n",
       "      <td>72.846625</td>\n",
       "    </tr>\n",
       "    <tr>\n",
       "      <th>SS-A837</th>\n",
       "      <td>30</td>\n",
       "      <td>0.075</td>\n",
       "      <td>6.396750</td>\n",
       "    </tr>\n",
       "    <tr>\n",
       "      <th>SS-A837</th>\n",
       "      <td>30</td>\n",
       "      <td>0.125</td>\n",
       "      <td>1.581000</td>\n",
       "    </tr>\n",
       "    <tr>\n",
       "      <th>SS-A837</th>\n",
       "      <td>30</td>\n",
       "      <td>0.175</td>\n",
       "      <td>2.054625</td>\n",
       "    </tr>\n",
       "    <tr>\n",
       "      <th>SS-A837</th>\n",
       "      <td>37</td>\n",
       "      <td>0.000</td>\n",
       "      <td>60.492750</td>\n",
       "    </tr>\n",
       "    <tr>\n",
       "      <th>SS-A837</th>\n",
       "      <td>37</td>\n",
       "      <td>0.075</td>\n",
       "      <td>39.584125</td>\n",
       "    </tr>\n",
       "    <tr>\n",
       "      <th>SS-A837</th>\n",
       "      <td>37</td>\n",
       "      <td>0.125</td>\n",
       "      <td>8.383125</td>\n",
       "    </tr>\n",
       "    <tr>\n",
       "      <th>SS-A837</th>\n",
       "      <td>37</td>\n",
       "      <td>0.175</td>\n",
       "      <td>0.471125</td>\n",
       "    </tr>\n",
       "    <tr>\n",
       "      <th>SS-A837</th>\n",
       "      <td>38</td>\n",
       "      <td>0.000</td>\n",
       "      <td>49.261750</td>\n",
       "    </tr>\n",
       "    <tr>\n",
       "      <th>SS-A837</th>\n",
       "      <td>39</td>\n",
       "      <td>0.000</td>\n",
       "      <td>17.089875</td>\n",
       "    </tr>\n",
       "    <tr>\n",
       "      <th>SS-A837</th>\n",
       "      <td>39</td>\n",
       "      <td>0.075</td>\n",
       "      <td>8.721000</td>\n",
       "    </tr>\n",
       "    <tr>\n",
       "      <th>SS-A837</th>\n",
       "      <td>39</td>\n",
       "      <td>0.125</td>\n",
       "      <td>0.736850</td>\n",
       "    </tr>\n",
       "  </tbody>\n",
       "</table>\n",
       "</div>"
      ],
      "text/plain": [
       "         temp  amphB  median_AUC\n",
       "strain                          \n",
       "SS-A837    30  0.000   72.846625\n",
       "SS-A837    30  0.075    6.396750\n",
       "SS-A837    30  0.125    1.581000\n",
       "SS-A837    30  0.175    2.054625\n",
       "SS-A837    37  0.000   60.492750\n",
       "SS-A837    37  0.075   39.584125\n",
       "SS-A837    37  0.125    8.383125\n",
       "SS-A837    37  0.175    0.471125\n",
       "SS-A837    38  0.000   49.261750\n",
       "SS-A837    39  0.000   17.089875\n",
       "SS-A837    39  0.075    8.721000\n",
       "SS-A837    39  0.125    0.736850"
      ]
     },
     "execution_count": 44,
     "metadata": {},
     "output_type": "execute_result"
    }
   ],
   "source": [
    "## Check value of parental strain SS-A837\n",
    "phenotypes.loc['SS-A837',:]"
   ]
  },
  {
   "cell_type": "code",
   "execution_count": 45,
   "metadata": {},
   "outputs": [],
   "source": [
    "## Save this filtered data frame \n",
    "phenotypes.to_csv('../FILES/'+file_path.split('/')[-1].split('.csv')[0]+'_noclone.csv')"
   ]
  },
  {
   "cell_type": "code",
   "execution_count": 46,
   "metadata": {},
   "outputs": [],
   "source": [
    "## Set phenotype of interest\n",
    "pheno_look_at = 'median_AUC'"
   ]
  },
  {
   "cell_type": "code",
   "execution_count": 49,
   "metadata": {},
   "outputs": [],
   "source": [
    "to_test_ix = [bgeno[(bgeno.Block == b)].index.tolist()[0] \n",
    "              for b in unique_blocks]"
   ]
  },
  {
   "cell_type": "code",
   "execution_count": 51,
   "metadata": {},
   "outputs": [
    {
     "data": {
      "text/plain": [
       "3108"
      ]
     },
     "execution_count": 51,
     "metadata": {},
     "output_type": "execute_result"
    }
   ],
   "source": [
    "len(to_test_ix)"
   ]
  },
  {
   "cell_type": "code",
   "execution_count": 53,
   "metadata": {},
   "outputs": [],
   "source": [
    "## conduct QTL analysis\n",
    "temp_pvals_df = [] ## initialize list for dataframes\n",
    "pval_cols = [] ## \"...\" for new pvalue column names\n",
    "for i,t in enumerate(phenotypes.temp.sort_values().unique()): ## For each temp\n",
    "    for j,d in enumerate(phenotypes[(phenotypes.temp==t)].amphB.sort_values().unique()): ## For durg in temp\n",
    "        pval_cols.append(str(t)+'C_'+str(d)) ## append colu name\n",
    "        temp_pheno = phenotypes[(phenotypes.temp==t)&\n",
    "                                (phenotypes.amphB==d)][pheno_look_at] ## Take the phenotype data\n",
    "        temp_pval = bgeno.iloc[to_test_ix,bginfoix:].apply(crypto_kruskal,axis=1,\n",
    "                                                  args=[temp_pheno]) ## conduct QTL analysis\n",
    "        temp_pvals_df.append(temp_pval) ## Append pvalue"
   ]
  },
  {
   "cell_type": "code",
   "execution_count": 63,
   "metadata": {},
   "outputs": [],
   "source": [
    "## concat dataframes\n",
    "pvaldf = pd.concat([bgeno.loc[to_test_ix,'Block']]+temp_pvals_df,axis=1)"
   ]
  },
  {
   "cell_type": "code",
   "execution_count": 73,
   "metadata": {},
   "outputs": [],
   "source": [
    "pvaldf.columns = ['Block'] + pval_cols"
   ]
  },
  {
   "cell_type": "code",
   "execution_count": 74,
   "metadata": {},
   "outputs": [],
   "source": [
    "bgenop = bgeno.merge(pvaldf,on=['Block'])"
   ]
  },
  {
   "cell_type": "code",
   "execution_count": 76,
   "metadata": {},
   "outputs": [
    {
     "data": {
      "text/html": [
       "<div>\n",
       "<style scoped>\n",
       "    .dataframe tbody tr th:only-of-type {\n",
       "        vertical-align: middle;\n",
       "    }\n",
       "\n",
       "    .dataframe tbody tr th {\n",
       "        vertical-align: top;\n",
       "    }\n",
       "\n",
       "    .dataframe thead th {\n",
       "        text-align: right;\n",
       "    }\n",
       "</style>\n",
       "<table border=\"1\" class=\"dataframe\">\n",
       "  <thead>\n",
       "    <tr style=\"text-align: right;\">\n",
       "      <th></th>\n",
       "      <th>Chrom</th>\n",
       "      <th>Pos</th>\n",
       "      <th>Qual</th>\n",
       "      <th>Callrate</th>\n",
       "      <th>Ref</th>\n",
       "      <th>Alt</th>\n",
       "      <th>Altlen</th>\n",
       "      <th>Dp</th>\n",
       "      <th>Type</th>\n",
       "      <th>Vcfix</th>\n",
       "      <th>...</th>\n",
       "      <th>30C_0.125</th>\n",
       "      <th>30C_0.175</th>\n",
       "      <th>37C_0.0</th>\n",
       "      <th>37C_0.075</th>\n",
       "      <th>37C_0.125</th>\n",
       "      <th>37C_0.175</th>\n",
       "      <th>38C_0.0</th>\n",
       "      <th>39C_0.0</th>\n",
       "      <th>39C_0.075</th>\n",
       "      <th>39C_0.125</th>\n",
       "    </tr>\n",
       "  </thead>\n",
       "  <tbody>\n",
       "    <tr>\n",
       "      <th>0</th>\n",
       "      <td>Chr01</td>\n",
       "      <td>5016</td>\n",
       "      <td>104492.0</td>\n",
       "      <td>1.0</td>\n",
       "      <td>C</td>\n",
       "      <td>A</td>\n",
       "      <td>1</td>\n",
       "      <td>6510</td>\n",
       "      <td>snp</td>\n",
       "      <td>289</td>\n",
       "      <td>...</td>\n",
       "      <td>0.92899</td>\n",
       "      <td>0.655625</td>\n",
       "      <td>0.170498</td>\n",
       "      <td>0.081444</td>\n",
       "      <td>0.516895</td>\n",
       "      <td>0.060467</td>\n",
       "      <td>0.473662</td>\n",
       "      <td>0.078778</td>\n",
       "      <td>0.411585</td>\n",
       "      <td>0.095533</td>\n",
       "    </tr>\n",
       "    <tr>\n",
       "      <th>1</th>\n",
       "      <td>Chr01</td>\n",
       "      <td>5299</td>\n",
       "      <td>112647.0</td>\n",
       "      <td>1.0</td>\n",
       "      <td>T</td>\n",
       "      <td>C</td>\n",
       "      <td>1</td>\n",
       "      <td>9711</td>\n",
       "      <td>snp</td>\n",
       "      <td>293</td>\n",
       "      <td>...</td>\n",
       "      <td>0.92899</td>\n",
       "      <td>0.655625</td>\n",
       "      <td>0.170498</td>\n",
       "      <td>0.081444</td>\n",
       "      <td>0.516895</td>\n",
       "      <td>0.060467</td>\n",
       "      <td>0.473662</td>\n",
       "      <td>0.078778</td>\n",
       "      <td>0.411585</td>\n",
       "      <td>0.095533</td>\n",
       "    </tr>\n",
       "    <tr>\n",
       "      <th>2</th>\n",
       "      <td>Chr01</td>\n",
       "      <td>5464</td>\n",
       "      <td>112658.0</td>\n",
       "      <td>1.0</td>\n",
       "      <td>T</td>\n",
       "      <td>C</td>\n",
       "      <td>1</td>\n",
       "      <td>9375</td>\n",
       "      <td>snp</td>\n",
       "      <td>294</td>\n",
       "      <td>...</td>\n",
       "      <td>0.92899</td>\n",
       "      <td>0.655625</td>\n",
       "      <td>0.170498</td>\n",
       "      <td>0.081444</td>\n",
       "      <td>0.516895</td>\n",
       "      <td>0.060467</td>\n",
       "      <td>0.473662</td>\n",
       "      <td>0.078778</td>\n",
       "      <td>0.411585</td>\n",
       "      <td>0.095533</td>\n",
       "    </tr>\n",
       "    <tr>\n",
       "      <th>3</th>\n",
       "      <td>Chr01</td>\n",
       "      <td>6120</td>\n",
       "      <td>109003.0</td>\n",
       "      <td>1.0</td>\n",
       "      <td>T</td>\n",
       "      <td>C</td>\n",
       "      <td>1</td>\n",
       "      <td>9311</td>\n",
       "      <td>snp</td>\n",
       "      <td>311</td>\n",
       "      <td>...</td>\n",
       "      <td>0.92899</td>\n",
       "      <td>0.655625</td>\n",
       "      <td>0.170498</td>\n",
       "      <td>0.081444</td>\n",
       "      <td>0.516895</td>\n",
       "      <td>0.060467</td>\n",
       "      <td>0.473662</td>\n",
       "      <td>0.078778</td>\n",
       "      <td>0.411585</td>\n",
       "      <td>0.095533</td>\n",
       "    </tr>\n",
       "    <tr>\n",
       "      <th>4</th>\n",
       "      <td>Chr01</td>\n",
       "      <td>6166</td>\n",
       "      <td>114638.0</td>\n",
       "      <td>1.0</td>\n",
       "      <td>G</td>\n",
       "      <td>A</td>\n",
       "      <td>1</td>\n",
       "      <td>9269</td>\n",
       "      <td>snp</td>\n",
       "      <td>312</td>\n",
       "      <td>...</td>\n",
       "      <td>0.92899</td>\n",
       "      <td>0.655625</td>\n",
       "      <td>0.170498</td>\n",
       "      <td>0.081444</td>\n",
       "      <td>0.516895</td>\n",
       "      <td>0.060467</td>\n",
       "      <td>0.473662</td>\n",
       "      <td>0.078778</td>\n",
       "      <td>0.411585</td>\n",
       "      <td>0.095533</td>\n",
       "    </tr>\n",
       "  </tbody>\n",
       "</table>\n",
       "<p>5 rows × 137 columns</p>\n",
       "</div>"
      ],
      "text/plain": [
       "   Chrom   Pos      Qual  Callrate Ref Alt  Altlen    Dp Type  Vcfix  \\\n",
       "0  Chr01  5016  104492.0       1.0   C   A       1  6510  snp    289   \n",
       "1  Chr01  5299  112647.0       1.0   T   C       1  9711  snp    293   \n",
       "2  Chr01  5464  112658.0       1.0   T   C       1  9375  snp    294   \n",
       "3  Chr01  6120  109003.0       1.0   T   C       1  9311  snp    311   \n",
       "4  Chr01  6166  114638.0       1.0   G   A       1  9269  snp    312   \n",
       "\n",
       "     ...      30C_0.125  30C_0.175   37C_0.0  37C_0.075  37C_0.125  37C_0.175  \\\n",
       "0    ...        0.92899   0.655625  0.170498   0.081444   0.516895   0.060467   \n",
       "1    ...        0.92899   0.655625  0.170498   0.081444   0.516895   0.060467   \n",
       "2    ...        0.92899   0.655625  0.170498   0.081444   0.516895   0.060467   \n",
       "3    ...        0.92899   0.655625  0.170498   0.081444   0.516895   0.060467   \n",
       "4    ...        0.92899   0.655625  0.170498   0.081444   0.516895   0.060467   \n",
       "\n",
       "    38C_0.0   39C_0.0  39C_0.075  39C_0.125  \n",
       "0  0.473662  0.078778   0.411585   0.095533  \n",
       "1  0.473662  0.078778   0.411585   0.095533  \n",
       "2  0.473662  0.078778   0.411585   0.095533  \n",
       "3  0.473662  0.078778   0.411585   0.095533  \n",
       "4  0.473662  0.078778   0.411585   0.095533  \n",
       "\n",
       "[5 rows x 137 columns]"
      ]
     },
     "execution_count": 76,
     "metadata": {},
     "output_type": "execute_result"
    }
   ],
   "source": [
    "bgenop.head()"
   ]
  },
  {
   "cell_type": "code",
   "execution_count": 77,
   "metadata": {},
   "outputs": [],
   "source": [
    "## Make the saving path\n",
    "savepath = '../FILES/'+file_path.split('/')[-1].split('.csv')[0]+'_pvalues.csv'"
   ]
  },
  {
   "cell_type": "code",
   "execution_count": 78,
   "metadata": {},
   "outputs": [
    {
     "data": {
      "text/plain": [
       "'../FILES/Tecan_qtlruns_Dec172018_curated_baselined_median51_AUC_Xstrain_pvalues.csv'"
      ]
     },
     "execution_count": 78,
     "metadata": {},
     "output_type": "execute_result"
    }
   ],
   "source": [
    "## Print the save path\n",
    "savepath"
   ]
  },
  {
   "cell_type": "code",
   "execution_count": 82,
   "metadata": {},
   "outputs": [],
   "source": [
    "## Save data\n",
    "bgenop.to_csv(savepath)"
   ]
  },
  {
   "cell_type": "code",
   "execution_count": 80,
   "metadata": {},
   "outputs": [
    {
     "data": {
      "text/plain": [
       "(1248, 3)"
      ]
     },
     "execution_count": 80,
     "metadata": {},
     "output_type": "execute_result"
    }
   ],
   "source": [
    "## Variance explained! \n",
    "## First approximation\n",
    "phenotypes.shape"
   ]
  },
  {
   "cell_type": "code",
   "execution_count": null,
   "metadata": {},
   "outputs": [],
   "source": []
  },
  {
   "cell_type": "code",
   "execution_count": null,
   "metadata": {},
   "outputs": [],
   "source": [
    "i = 4\n",
    "max_con = pvaldf[pvaldf.columns.tolist()[10:]].max().index[i]\n",
    "max_pval = pvaldf[pvaldf.columns.tolist()[10:]].max()[i]"
   ]
  },
  {
   "cell_type": "code",
   "execution_count": null,
   "metadata": {},
   "outputs": [],
   "source": [
    "max_con"
   ]
  },
  {
   "cell_type": "code",
   "execution_count": null,
   "metadata": {},
   "outputs": [],
   "source": [
    "max_pval_ix = pvaldf[pvaldf[max_con] == max_pval].index\n",
    "max_pval_ix"
   ]
  },
  {
   "cell_type": "code",
   "execution_count": null,
   "metadata": {},
   "outputs": [],
   "source": [
    "bgeno.loc[max_pval_ix]"
   ]
  },
  {
   "cell_type": "code",
   "execution_count": null,
   "metadata": {},
   "outputs": [],
   "source": [
    "max_genos = bgeno.loc[[max_pval_ix[0]]][bgeno.columns.tolist()[10:]]\n",
    "max_genos.index = ['geno']"
   ]
  },
  {
   "cell_type": "code",
   "execution_count": null,
   "metadata": {},
   "outputs": [],
   "source": [
    "max_phenos = phenotypes[(phenotypes.temp==int(max_con.split('C_')[0])) & \n",
    "           (phenotypes.amphB==float(max_con.split('C_')[-1]))]"
   ]
  },
  {
   "cell_type": "code",
   "execution_count": null,
   "metadata": {},
   "outputs": [],
   "source": [
    "max_geno_pheno_df = pd.concat([max_phenos,max_genos.T],axis=1,sort=True)"
   ]
  },
  {
   "cell_type": "code",
   "execution_count": null,
   "metadata": {},
   "outputs": [],
   "source": [
    "#plt.hist(np.log(max_geno_pheno_df.median_AUC.values));"
   ]
  },
  {
   "cell_type": "code",
   "execution_count": null,
   "metadata": {},
   "outputs": [],
   "source": [
    "#max_geno_pheno_df['log_auc'] = np.log(max_geno_pheno_df.median_AUC)"
   ]
  },
  {
   "cell_type": "code",
   "execution_count": null,
   "metadata": {},
   "outputs": [],
   "source": [
    "max_geno_pheno_df.tail()"
   ]
  },
  {
   "cell_type": "code",
   "execution_count": null,
   "metadata": {},
   "outputs": [],
   "source": [
    "model = ols('median_AUC ~ C(geno)',data=max_geno_pheno_df)"
   ]
  },
  {
   "cell_type": "code",
   "execution_count": null,
   "metadata": {},
   "outputs": [],
   "source": [
    "res = model.fit()"
   ]
  },
  {
   "cell_type": "code",
   "execution_count": null,
   "metadata": {},
   "outputs": [],
   "source": [
    "-np.log10(res.pvalues)"
   ]
  },
  {
   "cell_type": "code",
   "execution_count": null,
   "metadata": {},
   "outputs": [],
   "source": [
    "res.summary()"
   ]
  },
  {
   "cell_type": "code",
   "execution_count": null,
   "metadata": {},
   "outputs": [],
   "source": [
    "import seaborn as sns"
   ]
  },
  {
   "cell_type": "code",
   "execution_count": null,
   "metadata": {},
   "outputs": [],
   "source": [
    "max_geno_pheno_df['geno_shift'] = abs(max_geno_pheno_df['geno'] - 1)"
   ]
  },
  {
   "cell_type": "code",
   "execution_count": null,
   "metadata": {},
   "outputs": [],
   "source": [
    "ax = sns.lmplot(x='geno_shift',y='median_AUC',x_jitter=.2,data=max_geno_pheno_df);\n",
    "plt.xticks([0,1],['431','XL280'],fontsize=18)\n",
    "plt.xlabel('Allele',fontsize=16)\n",
    "plt.ylabel('Median\\nArea Under the Curve',fontsize=18);\n",
    "plt.plot([0],max_geno_pheno_df.loc['SS-A837']['median_AUC'],'o',ms=10,color='red');\n",
    "plt.plot([1,1],max_geno_pheno_df.loc[['XL280a','XL280alpha']]['median_AUC'],'ko',ms=10);\n",
    "plt.savefig('/Users/croth/Desktop/CRYPTO_QTL/FIGURES/QTL2_AUC_distirbutions.png',\n",
    "            dpi=300);"
   ]
  },
  {
   "cell_type": "code",
   "execution_count": null,
   "metadata": {},
   "outputs": [],
   "source": [
    "plt.hist(res.resid);"
   ]
  },
  {
   "cell_type": "code",
   "execution_count": null,
   "metadata": {},
   "outputs": [],
   "source": []
  }
 ],
 "metadata": {
  "kernelspec": {
   "display_name": "Python 3",
   "language": "python",
   "name": "python3"
  },
  "language_info": {
   "codemirror_mode": {
    "name": "ipython",
    "version": 3
   },
   "file_extension": ".py",
   "mimetype": "text/x-python",
   "name": "python",
   "nbconvert_exporter": "python",
   "pygments_lexer": "ipython3",
   "version": "3.7.3"
  }
 },
 "nbformat": 4,
 "nbformat_minor": 2
}
